{
 "cells": [
  {
   "cell_type": "markdown",
   "metadata": {},
   "source": [
    "## Shelter Animal Outcomes\n",
    "### MIDS W207 Final Project\n",
    "### Clay Miller, Roseanna Hopper, Yubo Zhang"
   ]
  },
  {
   "cell_type": "code",
   "execution_count": 181,
   "metadata": {},
   "outputs": [
    {
     "data": {
      "text/html": [
       "\n",
       "    <div class=\"bk-root\">\n",
       "        <a href=\"http://bokeh.pydata.org\" target=\"_blank\" class=\"bk-logo bk-logo-small bk-logo-notebook\"></a>\n",
       "        <span id=\"e804b314-2162-45f2-a32d-69084d8ef6af\">Loading BokehJS ...</span>\n",
       "    </div>"
      ]
     },
     "metadata": {},
     "output_type": "display_data"
    },
    {
     "data": {
      "application/javascript": [
       "\n",
       "(function(global) {\n",
       "  function now() {\n",
       "    return new Date();\n",
       "  }\n",
       "\n",
       "  var force = true;\n",
       "\n",
       "  if (typeof (window._bokeh_onload_callbacks) === \"undefined\" || force === true) {\n",
       "    window._bokeh_onload_callbacks = [];\n",
       "    window._bokeh_is_loading = undefined;\n",
       "  }\n",
       "\n",
       "\n",
       "  \n",
       "  if (typeof (window._bokeh_timeout) === \"undefined\" || force === true) {\n",
       "    window._bokeh_timeout = Date.now() + 5000;\n",
       "    window._bokeh_failed_load = false;\n",
       "  }\n",
       "\n",
       "  var NB_LOAD_WARNING = {'data': {'text/html':\n",
       "     \"<div style='background-color: #fdd'>\\n\"+\n",
       "     \"<p>\\n\"+\n",
       "     \"BokehJS does not appear to have successfully loaded. If loading BokehJS from CDN, this \\n\"+\n",
       "     \"may be due to a slow or bad network connection. Possible fixes:\\n\"+\n",
       "     \"</p>\\n\"+\n",
       "     \"<ul>\\n\"+\n",
       "     \"<li>re-rerun `output_notebook()` to attempt to load from CDN again, or</li>\\n\"+\n",
       "     \"<li>use INLINE resources instead, as so:</li>\\n\"+\n",
       "     \"</ul>\\n\"+\n",
       "     \"<code>\\n\"+\n",
       "     \"from bokeh.resources import INLINE\\n\"+\n",
       "     \"output_notebook(resources=INLINE)\\n\"+\n",
       "     \"</code>\\n\"+\n",
       "     \"</div>\"}};\n",
       "\n",
       "  function display_loaded() {\n",
       "    if (window.Bokeh !== undefined) {\n",
       "      var el = document.getElementById(\"e804b314-2162-45f2-a32d-69084d8ef6af\");\n",
       "      el.textContent = \"BokehJS \" + Bokeh.version + \" successfully loaded.\";\n",
       "    } else if (Date.now() < window._bokeh_timeout) {\n",
       "      setTimeout(display_loaded, 100)\n",
       "    }\n",
       "  }\n",
       "\n",
       "  function run_callbacks() {\n",
       "    window._bokeh_onload_callbacks.forEach(function(callback) { callback() });\n",
       "    delete window._bokeh_onload_callbacks\n",
       "    console.info(\"Bokeh: all callbacks have finished\");\n",
       "  }\n",
       "\n",
       "  function load_libs(js_urls, callback) {\n",
       "    window._bokeh_onload_callbacks.push(callback);\n",
       "    if (window._bokeh_is_loading > 0) {\n",
       "      console.log(\"Bokeh: BokehJS is being loaded, scheduling callback at\", now());\n",
       "      return null;\n",
       "    }\n",
       "    if (js_urls == null || js_urls.length === 0) {\n",
       "      run_callbacks();\n",
       "      return null;\n",
       "    }\n",
       "    console.log(\"Bokeh: BokehJS not loaded, scheduling load and callback at\", now());\n",
       "    window._bokeh_is_loading = js_urls.length;\n",
       "    for (var i = 0; i < js_urls.length; i++) {\n",
       "      var url = js_urls[i];\n",
       "      var s = document.createElement('script');\n",
       "      s.src = url;\n",
       "      s.async = false;\n",
       "      s.onreadystatechange = s.onload = function() {\n",
       "        window._bokeh_is_loading--;\n",
       "        if (window._bokeh_is_loading === 0) {\n",
       "          console.log(\"Bokeh: all BokehJS libraries loaded\");\n",
       "          run_callbacks()\n",
       "        }\n",
       "      };\n",
       "      s.onerror = function() {\n",
       "        console.warn(\"failed to load library \" + url);\n",
       "      };\n",
       "      console.log(\"Bokeh: injecting script tag for BokehJS library: \", url);\n",
       "      document.getElementsByTagName(\"head\")[0].appendChild(s);\n",
       "    }\n",
       "  };var element = document.getElementById(\"e804b314-2162-45f2-a32d-69084d8ef6af\");\n",
       "  if (element == null) {\n",
       "    console.log(\"Bokeh: ERROR: autoload.js configured with elementid 'e804b314-2162-45f2-a32d-69084d8ef6af' but no matching script tag was found. \")\n",
       "    return false;\n",
       "  }\n",
       "\n",
       "  var js_urls = [\"https://cdn.pydata.org/bokeh/release/bokeh-0.12.5.min.js\", \"https://cdn.pydata.org/bokeh/release/bokeh-widgets-0.12.5.min.js\"];\n",
       "\n",
       "  var inline_js = [\n",
       "    function(Bokeh) {\n",
       "      Bokeh.set_log_level(\"info\");\n",
       "    },\n",
       "    \n",
       "    function(Bokeh) {\n",
       "      \n",
       "    },\n",
       "    \n",
       "    function(Bokeh) {\n",
       "      \n",
       "      document.getElementById(\"e804b314-2162-45f2-a32d-69084d8ef6af\").textContent = \"BokehJS is loading...\";\n",
       "    },\n",
       "    function(Bokeh) {\n",
       "      console.log(\"Bokeh: injecting CSS: https://cdn.pydata.org/bokeh/release/bokeh-0.12.5.min.css\");\n",
       "      Bokeh.embed.inject_css(\"https://cdn.pydata.org/bokeh/release/bokeh-0.12.5.min.css\");\n",
       "      console.log(\"Bokeh: injecting CSS: https://cdn.pydata.org/bokeh/release/bokeh-widgets-0.12.5.min.css\");\n",
       "      Bokeh.embed.inject_css(\"https://cdn.pydata.org/bokeh/release/bokeh-widgets-0.12.5.min.css\");\n",
       "    }\n",
       "  ];\n",
       "\n",
       "  function run_inline_js() {\n",
       "    \n",
       "    if ((window.Bokeh !== undefined) || (force === true)) {\n",
       "      for (var i = 0; i < inline_js.length; i++) {\n",
       "        inline_js[i](window.Bokeh);\n",
       "      }if (force === true) {\n",
       "        display_loaded();\n",
       "      }} else if (Date.now() < window._bokeh_timeout) {\n",
       "      setTimeout(run_inline_js, 100);\n",
       "    } else if (!window._bokeh_failed_load) {\n",
       "      console.log(\"Bokeh: BokehJS failed to load within specified timeout.\");\n",
       "      window._bokeh_failed_load = true;\n",
       "    } else if (force !== true) {\n",
       "      var cell = $(document.getElementById(\"e804b314-2162-45f2-a32d-69084d8ef6af\")).parents('.cell').data().cell;\n",
       "      cell.output_area.append_execute_result(NB_LOAD_WARNING)\n",
       "    }\n",
       "\n",
       "  }\n",
       "\n",
       "  if (window._bokeh_is_loading === 0) {\n",
       "    console.log(\"Bokeh: BokehJS loaded, going straight to plotting\");\n",
       "    run_inline_js();\n",
       "  } else {\n",
       "    load_libs(js_urls, function() {\n",
       "      console.log(\"Bokeh: BokehJS plotting callback run at\", now());\n",
       "      run_inline_js();\n",
       "    });\n",
       "  }\n",
       "}(this));"
      ]
     },
     "metadata": {},
     "output_type": "display_data"
    }
   ],
   "source": [
    "import pandas as pd\n",
    "import numpy as np\n",
    "import matplotlib.pyplot as plt\n",
    "import re\n",
    "import tensorflow \n",
    "import keras\n",
    "\n",
    "from sklearn import metrics\n",
    "from sklearn.preprocessing import StandardScaler\n",
    "from sklearn.feature_extraction import FeatureHasher, DictVectorizer\n",
    "from sklearn.pipeline import Pipeline\n",
    "from sklearn.pipeline import FeatureUnion\n",
    "from sklearn.model_selection import GridSearchCV\n",
    "from sklearn.metrics import confusion_matrix\n",
    "from sklearn.metrics import classification_report\n",
    "from sklearn.cross_validation import train_test_split\n",
    "from sklearn.linear_model import LogisticRegression\n",
    "from sklearn.base import BaseEstimator, TransformerMixin\n",
    "from bokeh.charts import Bar, output_file, show, output_notebook\n",
    "from keras.models import Sequential\n",
    "from keras.layers import Dense, Activation\n",
    "from sklearn.preprocessing import LabelBinarizer\n",
    "from sklearn.ensemble import RandomForestRegressor\n",
    "from sklearn.tree import DecisionTreeRegressor\n",
    "from IPython.core.display import Image, display\n",
    "from sklearn.externals.six import StringIO\n",
    "\n",
    "\n",
    "output_notebook()\n",
    "\n",
    "\n",
    "%matplotlib inline"
   ]
  },
  {
   "cell_type": "code",
   "execution_count": 2,
   "metadata": {
    "collapsed": true
   },
   "outputs": [],
   "source": [
    "# Load the data\n",
    "data = pd.read_csv('../data/train.csv')\n",
    "data['OutcomeSubtype'] = data['OutcomeSubtype'].fillna('')\n",
    "data['Female'] = 'Female' in data['SexuponOutcome']\n",
    "data['AgeuponOutcome'].fillna('', inplace = True)\n",
    "\n",
    "def ageConvert(age):\n",
    "    regexyear = '(\\d+) year'\n",
    "    regexmnth = '(\\d+) month'\n",
    "    regexwk = '(\\d+) week'\n",
    "    regexday = '(\\d+) day'\n",
    "    if re.match(regexyear, age):\n",
    "        const = int(re.match(regexyear, age).groups()[0])\n",
    "        return const*52\n",
    "    elif re.match(regexmnth, age):\n",
    "        const = int(re.match(regexmnth, age).groups()[0])\n",
    "        return const*4.5 # a month is roughly 4.5 weeks\n",
    "    elif re.match(regexwk, age):\n",
    "        return int(re.match(regexwk, age).groups()[0])\n",
    "    elif re.match(regexday, age):\n",
    "        const = int(re.match(regexday, age).groups()[0])\n",
    "        return const/7 #7 days in a week\n",
    "    else:\n",
    "        return None\n",
    "    \n",
    "data['ConvertedAge']=data['AgeuponOutcome'].apply(ageConvert)\n",
    "\n",
    "\n",
    "def female(i):\n",
    "    i = str(i)\n",
    "    if i.find('Female') >= 0: return 'Female'\n",
    "    if i.find('Unknown') >= 0: return 'Unknown'\n",
    "    return 'Male'\n",
    "data['Female'] = data.SexuponOutcome.apply(female)\n",
    "\n",
    "def intact(i):\n",
    "    i = str(i)\n",
    "    if i.find('Intact') >= 0: return 'Intact'\n",
    "    if i.find('Unknown') >= 0: return 'Unknown'\n",
    "    return 'Spayed/Neutered'\n",
    "data['Intact'] = data.SexuponOutcome.apply(intact)\n",
    "\n",
    "def mixed_breed(i):\n",
    "    i = str(i)\n",
    "    if i.find('Mix') >= 0: return 'Mixed Breed'\n",
    "    if i.find('/') >= 0: return 'Known Breed Combo'\n",
    "    return 'Nonmixed'\n",
    "data['MixedBreed'] = data.Breed.apply(mixed_breed)\n",
    "\n",
    "\n",
    "def naming(i):\n",
    "    if pd.isnull(i): return 'Unnamed'\n",
    "    return 'Named'\n",
    "data['Named'] = data.Name.apply(naming)\n",
    "\n",
    "#Change all breed and color strings so that they are ordered consistently\n",
    "#E.G. all \"brown/black\" and \"black/brown\" should become \"black, brown\"\n",
    "def reorder(i):\n",
    "    i = str(i)\n",
    "    if i.find(\" \") >= 0: i = i.replace(\" \", \"-\")\n",
    "    if i.find(\"/\") >= 0: i = i.replace(\"/\", \" \")\n",
    "    i = i.split()\n",
    "    i = sorted(i)\n",
    "    i = ' '.join(i)\n",
    "    return i\n",
    "\n",
    "data['OrderedColor'] = data.Color.apply(reorder)\n",
    "data['OrderedBreed'] = data.Breed.apply(reorder)\n"
   ]
  },
  {
   "cell_type": "code",
   "execution_count": 3,
   "metadata": {
    "scrolled": true
   },
   "outputs": [
    {
     "name": "stdout",
     "output_type": "stream",
     "text": [
      "[  5.20000000e+01   1.04000000e+02   3.00000000e+00   4.50000000e+00\n",
      "   2.25000000e+01   2.08000000e+02   1.35000000e+01   2.00000000e+00\n",
      "   9.00000000e+00   4.50000000e+01   2.70000000e+01   2.60000000e+02\n",
      "   3.64000000e+02   1.56000000e+02   1.80000000e+01   6.24000000e+02\n",
      "   4.68000000e+02   3.12000000e+02   1.00000000e+00   5.72000000e+02\n",
      "   4.00000000e+00   3.15000000e+01   4.16000000e+02   4.95000000e+01\n",
      "   0.00000000e+00   4.05000000e+01   3.60000000e+01   7.80000000e+02\n",
      "   5.20000000e+02   7.28000000e+02   5.00000000e+00   8.32000000e+02\n",
      "   6.76000000e+02              nan   8.84000000e+02   9.36000000e+02\n",
      "   9.88000000e+02   1.04000000e+03]\n"
     ]
    },
    {
     "data": {
      "text/html": [
       "<div>\n",
       "<style>\n",
       "    .dataframe thead tr:only-child th {\n",
       "        text-align: right;\n",
       "    }\n",
       "\n",
       "    .dataframe thead th {\n",
       "        text-align: left;\n",
       "    }\n",
       "\n",
       "    .dataframe tbody tr th {\n",
       "        vertical-align: top;\n",
       "    }\n",
       "</style>\n",
       "<table border=\"1\" class=\"dataframe\">\n",
       "  <thead>\n",
       "    <tr style=\"text-align: right;\">\n",
       "      <th></th>\n",
       "      <th>count</th>\n",
       "      <th>mean</th>\n",
       "      <th>std</th>\n",
       "      <th>min</th>\n",
       "      <th>25%</th>\n",
       "      <th>50%</th>\n",
       "      <th>75%</th>\n",
       "      <th>max</th>\n",
       "    </tr>\n",
       "  </thead>\n",
       "  <tbody>\n",
       "    <tr>\n",
       "      <th>ConvertedAge</th>\n",
       "      <td>26729.0</td>\n",
       "      <td>113.370253</td>\n",
       "      <td>154.064766</td>\n",
       "      <td>0.0</td>\n",
       "      <td>9.0</td>\n",
       "      <td>52.0</td>\n",
       "      <td>156.0</td>\n",
       "      <td>1040.0</td>\n",
       "    </tr>\n",
       "  </tbody>\n",
       "</table>\n",
       "</div>"
      ],
      "text/plain": [
       "                count        mean         std  min  25%   50%    75%     max\n",
       "ConvertedAge  26729.0  113.370253  154.064766  0.0  9.0  52.0  156.0  1040.0"
      ]
     },
     "execution_count": 3,
     "metadata": {},
     "output_type": "execute_result"
    }
   ],
   "source": [
    "#Remove unnecessary variables\n",
    "#del data['AnimalID']\n",
    "#del data['Name']\n",
    "#del data['DateTime']\n",
    "#del data['Breed']\n",
    "#del data['OutcomeSubtype']\n",
    "#del data['SexuponOutcome']\n",
    "#del data['AgeuponOutcome']\n",
    "#del data['Color']\n",
    "#del data['OrderedBreed']\n",
    "#del data['OrderedColor']\n",
    "\n",
    "continuous = ['ConvertedAge']\n",
    "discrete = [\n",
    "    'AnimalType',\n",
    "    'Female',\n",
    "    'Intact',\n",
    "    'MixedBreed',\n",
    "    'Named'\n",
    "]\n",
    "target = 'OutcomeType'\n",
    "\n",
    "print data.ConvertedAge.unique()\n",
    "\n",
    "#For those missing an age, fill with the median age by animal type\n",
    "data[\"ConvertedAge\"] = data.groupby(\"AnimalType\").transform(lambda x: x.fillna(x.median()))\n",
    "data[continuous].describe().T"
   ]
  },
  {
   "cell_type": "code",
   "execution_count": 4,
   "metadata": {},
   "outputs": [
    {
     "data": {
      "text/plain": [
       "(26729, 15)"
      ]
     },
     "execution_count": 4,
     "metadata": {},
     "output_type": "execute_result"
    }
   ],
   "source": [
    "#Turn categorical variables into binaries\n",
    "data2 = pd.concat([data[target], data[continuous], pd.get_dummies(data[discrete])], axis=1)\n",
    "\n",
    "data2.head()\n",
    "data2.shape"
   ]
  },
  {
   "cell_type": "code",
   "execution_count": 32,
   "metadata": {
    "scrolled": true
   },
   "outputs": [
    {
     "name": "stderr",
     "output_type": "stream",
     "text": [
      "/Users/yubozhang/anaconda/lib/python2.7/site-packages/ipykernel/__main__.py:15: SettingWithCopyWarning: \n",
      "A value is trying to be set on a copy of a slice from a DataFrame.\n",
      "Try using .loc[row_indexer,col_indexer] = value instead\n",
      "\n",
      "See the caveats in the documentation: http://pandas.pydata.org/pandas-docs/stable/indexing.html#indexing-view-versus-copy\n",
      "/Users/yubozhang/anaconda/lib/python2.7/site-packages/ipykernel/__main__.py:16: SettingWithCopyWarning: \n",
      "A value is trying to be set on a copy of a slice from a DataFrame.\n",
      "Try using .loc[row_indexer,col_indexer] = value instead\n",
      "\n",
      "See the caveats in the documentation: http://pandas.pydata.org/pandas-docs/stable/indexing.html#indexing-view-versus-copy\n"
     ]
    }
   ],
   "source": [
    "discrete = ['AnimalType_Cat', 'AnimalType_Dog', 'Female_Female', 'Female_Male', 'Female_Unknown',\n",
    "           'Intact_Intact', 'Intact_Spayed/Neutered', 'Intact_Unknown', 'MixedBreed_Known Breed Combo',\n",
    "           'MixedBreed_Mixed Breed', 'MixedBreed_Nonmixed', 'Named_Named', 'Named_Unnamed']\n",
    "\n",
    "predictors = continuous + discrete\n",
    "\n",
    "# Train/test split\n",
    "X = data2[predictors]\n",
    "y = data2[[target]]\n",
    "X_train, X_dev, y_train, y_dev = train_test_split(X, y, random_state=2)\n",
    "\n",
    "#Normalize \n",
    "ss = StandardScaler()\n",
    "ss.fit(X_train[continuous])   # Compute mean and std of training data\n",
    "X_train[continuous] = ss.transform(X_train[continuous])  # Use that mean and std to normalize columns of training data\n",
    "X_dev[continuous] = ss.transform(X_dev[continuous]) "
   ]
  },
  {
   "cell_type": "markdown",
   "metadata": {},
   "source": [
    "#### Visualizing Features"
   ]
  },
  {
   "cell_type": "code",
   "execution_count": 6,
   "metadata": {},
   "outputs": [
    {
     "data": {
      "text/plain": [
       "<matplotlib.axes._subplots.AxesSubplot at 0x11ae46c90>"
      ]
     },
     "execution_count": 6,
     "metadata": {},
     "output_type": "execute_result"
    },
    {
     "data": {
      "image/png": "[encoded data removed]",
      "text/plain": [
       "<matplotlib.figure.Figure at 0x105a6df50>"
      ]
     },
     "metadata": {},
     "output_type": "display_data"
    }
   ],
   "source": [
    "#A quick look at the variables\n",
    "\n",
    "#Animal types\n",
    "animal_type = data['AnimalType'].value_counts() \n",
    "animal_type.plot(kind='bar',color='#34ABD8',rot=0)"
   ]
  },
  {
   "cell_type": "code",
   "execution_count": 7,
   "metadata": {},
   "outputs": [
    {
     "data": {
      "text/html": [
       "\n",
       "\n",
       "    <div class=\"bk-root\">\n",
       "        <div class=\"bk-plotdiv\" id=\"53dd0ff4-67a4-4623-ae25-e0276fd5a0f2\"></div>\n",
       "    </div>\n",
       "<script type=\"text/javascript\">\n",
       "  \n",
       "  (function(global) {\n",
       "    function now() {\n",
       "      return new Date();\n",
       "    }\n",
       "  \n",
       "    var force = false;\n",
       "  \n",
       "    if (typeof (window._bokeh_onload_callbacks) === \"undefined\" || force === true) {\n",
       "      window._bokeh_onload_callbacks = [];\n",
       "      window._bokeh_is_loading = undefined;\n",
       "    }\n",
       "  \n",
       "  \n",
       "    \n",
       "    if (typeof (window._bokeh_timeout) === \"undefined\" || force === true) {\n",
       "      window._bokeh_timeout = Date.now() + 0;\n",
       "      window._bokeh_failed_load = false;\n",
       "    }\n",
       "  \n",
       "    var NB_LOAD_WARNING = {'data': {'text/html':\n",
       "       \"<div style='background-color: #fdd'>\\n\"+\n",
       "       \"<p>\\n\"+\n",
       "       \"BokehJS does not appear to have successfully loaded. If loading BokehJS from CDN, this \\n\"+\n",
       "       \"may be due to a slow or bad network connection. Possible fixes:\\n\"+\n",
       "       \"</p>\\n\"+\n",
       "       \"<ul>\\n\"+\n",
       "       \"<li>re-rerun `output_notebook()` to attempt to load from CDN again, or</li>\\n\"+\n",
       "       \"<li>use INLINE resources instead, as so:</li>\\n\"+\n",
       "       \"</ul>\\n\"+\n",
       "       \"<code>\\n\"+\n",
       "       \"from bokeh.resources import INLINE\\n\"+\n",
       "       \"output_notebook(resources=INLINE)\\n\"+\n",
       "       \"</code>\\n\"+\n",
       "       \"</div>\"}};\n",
       "  \n",
       "    function display_loaded() {\n",
       "      if (window.Bokeh !== undefined) {\n",
       "        var el = document.getElementById(\"53dd0ff4-67a4-4623-ae25-e0276fd5a0f2\");\n",
       "        el.textContent = \"BokehJS \" + Bokeh.version + \" successfully loaded.\";\n",
       "      } else if (Date.now() < window._bokeh_timeout) {\n",
       "        setTimeout(display_loaded, 100)\n",
       "      }\n",
       "    }\n",
       "  \n",
       "    function run_callbacks() {\n",
       "      window._bokeh_onload_callbacks.forEach(function(callback) { callback() });\n",
       "      delete window._bokeh_onload_callbacks\n",
       "      console.info(\"Bokeh: all callbacks have finished\");\n",
       "    }\n",
       "  \n",
       "    function load_libs(js_urls, callback) {\n",
       "      window._bokeh_onload_callbacks.push(callback);\n",
       "      if (window._bokeh_is_loading > 0) {\n",
       "        console.log(\"Bokeh: BokehJS is being loaded, scheduling callback at\", now());\n",
       "        return null;\n",
       "      }\n",
       "      if (js_urls == null || js_urls.length === 0) {\n",
       "        run_callbacks();\n",
       "        return null;\n",
       "      }\n",
       "      console.log(\"Bokeh: BokehJS not loaded, scheduling load and callback at\", now());\n",
       "      window._bokeh_is_loading = js_urls.length;\n",
       "      for (var i = 0; i < js_urls.length; i++) {\n",
       "        var url = js_urls[i];\n",
       "        var s = document.createElement('script');\n",
       "        s.src = url;\n",
       "        s.async = false;\n",
       "        s.onreadystatechange = s.onload = function() {\n",
       "          window._bokeh_is_loading--;\n",
       "          if (window._bokeh_is_loading === 0) {\n",
       "            console.log(\"Bokeh: all BokehJS libraries loaded\");\n",
       "            run_callbacks()\n",
       "          }\n",
       "        };\n",
       "        s.onerror = function() {\n",
       "          console.warn(\"failed to load library \" + url);\n",
       "        };\n",
       "        console.log(\"Bokeh: injecting script tag for BokehJS library: \", url);\n",
       "        document.getElementsByTagName(\"head\")[0].appendChild(s);\n",
       "      }\n",
       "    };var element = document.getElementById(\"53dd0ff4-67a4-4623-ae25-e0276fd5a0f2\");\n",
       "    if (element == null) {\n",
       "      console.log(\"Bokeh: ERROR: autoload.js configured with elementid '53dd0ff4-67a4-4623-ae25-e0276fd5a0f2' but no matching script tag was found. \")\n",
       "      return false;\n",
       "    }\n",
       "  \n",
       "    var js_urls = [];\n",
       "  \n",
       "    var inline_js = [\n",
       "      function(Bokeh) {\n",
       "        (function() {\n",
       "          var fn = function() {\n",
       "            var docs_json = {\"d662017e-7630-4242-b14e-4e0d8e336c72\":{\"roots\":{\"references\":[{\"attributes\":{\"data_source\":{\"id\":\"2dc7480c-34cb-4012-b3df-91972f44723f\",\"type\":\"ColumnDataSource\"},\"glyph\":{\"id\":\"7ef7a605-ea70-45c4-9c85-d3149a8fd71d\",\"type\":\"Rect\"},\"hover_glyph\":null,\"muted_glyph\":null},\"id\":\"a29f8083-ac93-4614-90be-0cd98ba58a96\",\"type\":\"GlyphRenderer\"},{\"attributes\":{\"label\":{\"value\":\"Dog\"},\"renderers\":[{\"id\":\"4fa353f8-f39c-48e2-a825-0f99d1e8cb51\",\"type\":\"GlyphRenderer\"}]},\"id\":\"cc304305-c23b-43dd-9f7a-44e85b75eb89\",\"type\":\"LegendItem\"},{\"attributes\":{\"data_source\":{\"id\":\"c48d31ce-45b3-4cca-baf3-ab0e3fd7e824\",\"type\":\"ColumnDataSource\"},\"glyph\":{\"id\":\"2a275cbe-8182-4a6e-895b-a5d9115d6a6b\",\"type\":\"Rect\"},\"hover_glyph\":null,\"muted_glyph\":null},\"id\":\"4fa353f8-f39c-48e2-a825-0f99d1e8cb51\",\"type\":\"GlyphRenderer\"},{\"attributes\":{\"fill_alpha\":{\"field\":\"fill_alpha\"},\"fill_color\":{\"field\":\"color\"},\"height\":{\"field\":\"height\",\"units\":\"data\"},\"line_color\":{\"field\":\"line_color\"},\"width\":{\"field\":\"width\",\"units\":\"data\"},\"x\":{\"field\":\"x\"},\"y\":{\"field\":\"y\"}},\"id\":\"3912282e-d1e6-453d-ba5f-79519b541872\",\"type\":\"Rect\"},{\"attributes\":{\"fill_alpha\":{\"field\":\"fill_alpha\"},\"fill_color\":{\"field\":\"color\"},\"height\":{\"field\":\"height\",\"units\":\"data\"},\"line_color\":{\"field\":\"line_color\"},\"width\":{\"field\":\"width\",\"units\":\"data\"},\"x\":{\"field\":\"x\"},\"y\":{\"field\":\"y\"}},\"id\":\"6628b5f1-35f4-4408-9dff-1c886ac96361\",\"type\":\"Rect\"},{\"attributes\":{\"callback\":null,\"column_names\":[\"line_color\",\"line_alpha\",\"color\",\"fill_alpha\",\"height\",\"width\",\"y\",\"x\",\"label\"],\"data\":{\"AnimalType\":[\"Dog\"],\"OutcomeType\":[\"Return_to_owner\"],\"chart_index\":[{\"AnimalType\":\"Dog\",\"OutcomeType\":\"Return_to_owner\"}],\"color\":[\"#5ab738\"],\"fill_alpha\":[0.8],\"height\":[4286.0],\"label\":[{\"AnimalType\":\"Dog\",\"OutcomeType\":\"Return_to_owner\"}],\"line_alpha\":[1.0],\"line_color\":[\"white\"],\"width\":[0.8],\"x\":[\"Return_to_owner\"],\"y\":[2143.0]}},\"id\":\"c48d31ce-45b3-4cca-baf3-ab0e3fd7e824\",\"type\":\"ColumnDataSource\"},{\"attributes\":{\"callback\":null,\"column_names\":[\"line_color\",\"line_alpha\",\"color\",\"fill_alpha\",\"height\",\"width\",\"y\",\"x\",\"label\"],\"data\":{\"AnimalType\":[\"Cat\"],\"OutcomeType\":[\"Died\"],\"chart_index\":[{\"AnimalType\":\"Cat\",\"OutcomeType\":\"Died\"}],\"color\":[\"#f22c40\"],\"fill_alpha\":[0.8],\"height\":[147.0],\"label\":[{\"AnimalType\":\"Cat\",\"OutcomeType\":\"Died\"}],\"line_alpha\":[1.0],\"line_color\":[\"white\"],\"width\":[0.8],\"x\":[\"Died\"],\"y\":[73.5]}},\"id\":\"2dc7480c-34cb-4012-b3df-91972f44723f\",\"type\":\"ColumnDataSource\"},{\"attributes\":{},\"id\":\"20af02f1-a696-4869-97b9-ebfd94d00471\",\"type\":\"ToolEvents\"},{\"attributes\":{\"plot\":{\"id\":\"b9a0333e-b309-459b-b68f-e09a41a42907\",\"subtype\":\"Chart\",\"type\":\"Plot\"}},\"id\":\"e574ca99-fd42-4119-967e-0ba8358b492f\",\"type\":\"HelpTool\"},{\"attributes\":{\"callback\":null,\"column_names\":[\"line_color\",\"line_alpha\",\"color\",\"fill_alpha\",\"height\",\"width\",\"y\",\"x\",\"label\"],\"data\":{\"AnimalType\":[\"Dog\"],\"OutcomeType\":[\"Adoption\"],\"chart_index\":[{\"AnimalType\":\"Dog\",\"OutcomeType\":\"Adoption\"}],\"color\":[\"#5ab738\"],\"fill_alpha\":[0.8],\"height\":[6497.0],\"label\":[{\"AnimalType\":\"Dog\",\"OutcomeType\":\"Adoption\"}],\"line_alpha\":[1.0],\"line_color\":[\"white\"],\"width\":[0.8],\"x\":[\"Adoption\"],\"y\":[3248.5]}},\"id\":\"727b6b70-c09d-4aff-9794-15c17bfae23b\",\"type\":\"ColumnDataSource\"},{\"attributes\":{\"callback\":null,\"factors\":[\"Adoption\",\"Died\",\"Euthanasia\",\"Return_to_owner\",\"Transfer\"]},\"id\":\"9eadd037-af8c-4bb5-908f-9f8404049a3e\",\"type\":\"FactorRange\"},{\"attributes\":{\"plot\":{\"id\":\"b9a0333e-b309-459b-b68f-e09a41a42907\",\"subtype\":\"Chart\",\"type\":\"Plot\"}},\"id\":\"fe487400-7361-4675-8b82-72efe513c8c9\",\"type\":\"ResetTool\"},{\"attributes\":{\"plot\":{\"id\":\"b9a0333e-b309-459b-b68f-e09a41a42907\",\"subtype\":\"Chart\",\"type\":\"Plot\"}},\"id\":\"0b4fbcd3-ecb6-49ba-9cde-5bc116674940\",\"type\":\"WheelZoomTool\"},{\"attributes\":{\"data_source\":{\"id\":\"4af0d14f-6e66-4aa0-acaa-f37c80617a9b\",\"type\":\"ColumnDataSource\"},\"glyph\":{\"id\":\"6628b5f1-35f4-4408-9dff-1c886ac96361\",\"type\":\"Rect\"},\"hover_glyph\":null,\"muted_glyph\":null},\"id\":\"062bf3de-8c61-4aa3-b9ce-c66faac0cb7d\",\"type\":\"GlyphRenderer\"},{\"attributes\":{\"fill_alpha\":{\"field\":\"fill_alpha\"},\"fill_color\":{\"field\":\"color\"},\"height\":{\"field\":\"height\",\"units\":\"data\"},\"line_color\":{\"field\":\"line_color\"},\"width\":{\"field\":\"width\",\"units\":\"data\"},\"x\":{\"field\":\"x\"},\"y\":{\"field\":\"y\"}},\"id\":\"011789da-4e70-49c0-8913-45160e64e942\",\"type\":\"Rect\"},{\"attributes\":{\"fill_alpha\":{\"field\":\"fill_alpha\"},\"fill_color\":{\"field\":\"color\"},\"height\":{\"field\":\"height\",\"units\":\"data\"},\"line_color\":{\"field\":\"line_color\"},\"width\":{\"field\":\"width\",\"units\":\"data\"},\"x\":{\"field\":\"x\"},\"y\":{\"field\":\"y\"}},\"id\":\"30af43b9-4441-4ce2-80f1-fafe7de4435e\",\"type\":\"Rect\"},{\"attributes\":{\"callback\":null,\"column_names\":[\"line_color\",\"line_alpha\",\"color\",\"fill_alpha\",\"height\",\"width\",\"y\",\"x\",\"label\"],\"data\":{\"AnimalType\":[\"Dog\"],\"OutcomeType\":[\"Euthanasia\"],\"chart_index\":[{\"AnimalType\":\"Dog\",\"OutcomeType\":\"Euthanasia\"}],\"color\":[\"#5ab738\"],\"fill_alpha\":[0.8],\"height\":[845.0],\"label\":[{\"AnimalType\":\"Dog\",\"OutcomeType\":\"Euthanasia\"}],\"line_alpha\":[1.0],\"line_color\":[\"white\"],\"width\":[0.8],\"x\":[\"Euthanasia\"],\"y\":[1132.5]}},\"id\":\"2e0f6db3-1ff0-4a3e-b0cf-3f93740b26af\",\"type\":\"ColumnDataSource\"},{\"attributes\":{},\"id\":\"03ed81f9-ed94-453c-93f7-607b32505557\",\"type\":\"CategoricalTickFormatter\"},{\"attributes\":{\"callback\":null,\"column_names\":[\"line_color\",\"line_alpha\",\"color\",\"fill_alpha\",\"height\",\"width\",\"y\",\"x\",\"label\"],\"data\":{\"AnimalType\":[\"Dog\"],\"OutcomeType\":[\"Transfer\"],\"chart_index\":[{\"AnimalType\":\"Dog\",\"OutcomeType\":\"Transfer\"}],\"color\":[\"#5ab738\"],\"fill_alpha\":[0.8],\"height\":[3917.0],\"label\":[{\"AnimalType\":\"Dog\",\"OutcomeType\":\"Transfer\"}],\"line_alpha\":[1.0],\"line_color\":[\"white\"],\"width\":[0.8],\"x\":[\"Transfer\"],\"y\":[7463.5]}},\"id\":\"19280390-918a-4308-b53a-44aa899f0a82\",\"type\":\"ColumnDataSource\"},{\"attributes\":{\"callback\":null,\"column_names\":[\"line_color\",\"line_alpha\",\"color\",\"fill_alpha\",\"height\",\"width\",\"y\",\"x\",\"label\"],\"data\":{\"AnimalType\":[\"Dog\"],\"OutcomeType\":[\"Died\"],\"chart_index\":[{\"AnimalType\":\"Dog\",\"OutcomeType\":\"Died\"}],\"color\":[\"#5ab738\"],\"fill_alpha\":[0.8],\"height\":[50.0],\"label\":[{\"AnimalType\":\"Dog\",\"OutcomeType\":\"Died\"}],\"line_alpha\":[1.0],\"line_color\":[\"white\"],\"width\":[0.8],\"x\":[\"Died\"],\"y\":[172.0]}},\"id\":\"4af0d14f-6e66-4aa0-acaa-f37c80617a9b\",\"type\":\"ColumnDataSource\"},{\"attributes\":{\"callback\":null,\"column_names\":[\"line_color\",\"line_alpha\",\"color\",\"fill_alpha\",\"height\",\"width\",\"y\",\"x\",\"label\"],\"data\":{\"AnimalType\":[\"Cat\"],\"OutcomeType\":[\"Transfer\"],\"chart_index\":[{\"AnimalType\":\"Cat\",\"OutcomeType\":\"Transfer\"}],\"color\":[\"#f22c40\"],\"fill_alpha\":[0.8],\"height\":[5505.0],\"label\":[{\"AnimalType\":\"Cat\",\"OutcomeType\":\"Transfer\"}],\"line_alpha\":[1.0],\"line_color\":[\"white\"],\"width\":[0.8],\"x\":[\"Transfer\"],\"y\":[2752.5]}},\"id\":\"41428e94-2a16-4bc3-a829-1faf364e3ed3\",\"type\":\"ColumnDataSource\"},{\"attributes\":{\"fill_alpha\":{\"field\":\"fill_alpha\"},\"fill_color\":{\"field\":\"color\"},\"height\":{\"field\":\"height\",\"units\":\"data\"},\"line_color\":{\"field\":\"line_color\"},\"width\":{\"field\":\"width\",\"units\":\"data\"},\"x\":{\"field\":\"x\"},\"y\":{\"field\":\"y\"}},\"id\":\"2a275cbe-8182-4a6e-895b-a5d9115d6a6b\",\"type\":\"Rect\"},{\"attributes\":{\"plot\":{\"id\":\"b9a0333e-b309-459b-b68f-e09a41a42907\",\"subtype\":\"Chart\",\"type\":\"Plot\"}},\"id\":\"d9def414-1b0f-430b-8c50-633df2d026f2\",\"type\":\"PanTool\"},{\"attributes\":{\"plot\":null,\"text\":\"Outcomes by Animal Type\"},\"id\":\"55d7407a-4466-4ef9-8275-fb25f9b3aa3d\",\"type\":\"Title\"},{\"attributes\":{},\"id\":\"b9d117ef-9a71-4dac-a1e6-7df2b4c1f23e\",\"type\":\"BasicTickFormatter\"},{\"attributes\":{\"data_source\":{\"id\":\"e5451919-9c54-4277-96c5-d79a5f0263ba\",\"type\":\"ColumnDataSource\"},\"glyph\":{\"id\":\"d0470a8e-f614-40fa-ba92-39490dc6f71c\",\"type\":\"Rect\"},\"hover_glyph\":null,\"muted_glyph\":null},\"id\":\"4787994e-e952-4dd7-b033-480ee4e3e619\",\"type\":\"GlyphRenderer\"},{\"attributes\":{\"items\":[{\"id\":\"cc304305-c23b-43dd-9f7a-44e85b75eb89\",\"type\":\"LegendItem\"},{\"id\":\"9951f762-92cb-467d-8b35-5a203ba2a339\",\"type\":\"LegendItem\"}],\"plot\":{\"id\":\"b9a0333e-b309-459b-b68f-e09a41a42907\",\"subtype\":\"Chart\",\"type\":\"Plot\"}},\"id\":\"a0a246db-7d8e-41ba-a940-88298004a2e5\",\"type\":\"Legend\"},{\"attributes\":{\"label\":{\"value\":\"Cat\"},\"renderers\":[{\"id\":\"4787994e-e952-4dd7-b033-480ee4e3e619\",\"type\":\"GlyphRenderer\"}]},\"id\":\"9951f762-92cb-467d-8b35-5a203ba2a339\",\"type\":\"LegendItem\"},{\"attributes\":{\"dimension\":1,\"plot\":{\"id\":\"b9a0333e-b309-459b-b68f-e09a41a42907\",\"subtype\":\"Chart\",\"type\":\"Plot\"},\"ticker\":{\"id\":\"e1717f2f-150e-47af-af82-31e3bef1bd80\",\"type\":\"BasicTicker\"}},\"id\":\"cfc7b9cb-91f3-4263-8a1c-1f5b6d2a1839\",\"type\":\"Grid\"},{\"attributes\":{\"data_source\":{\"id\":\"2e0f6db3-1ff0-4a3e-b0cf-3f93740b26af\",\"type\":\"ColumnDataSource\"},\"glyph\":{\"id\":\"d3540bc0-1a73-487a-ba71-240fb77e6d64\",\"type\":\"Rect\"},\"hover_glyph\":null,\"muted_glyph\":null},\"id\":\"76ac4390-8d60-4270-9536-ae46aaff4b63\",\"type\":\"GlyphRenderer\"},{\"attributes\":{\"plot\":{\"id\":\"b9a0333e-b309-459b-b68f-e09a41a42907\",\"subtype\":\"Chart\",\"type\":\"Plot\"}},\"id\":\"5a91e189-9350-4040-8ecf-9590c871d31a\",\"type\":\"SaveTool\"},{\"attributes\":{\"axis_label\":\"Outcometype\",\"formatter\":{\"id\":\"03ed81f9-ed94-453c-93f7-607b32505557\",\"type\":\"CategoricalTickFormatter\"},\"major_label_orientation\":0.7853981633974483,\"plot\":{\"id\":\"b9a0333e-b309-459b-b68f-e09a41a42907\",\"subtype\":\"Chart\",\"type\":\"Plot\"},\"ticker\":{\"id\":\"74282a2a-18e9-4b6f-9ff4-ef51659276b9\",\"type\":\"CategoricalTicker\"}},\"id\":\"b039d97e-22cc-4db3-bccd-27308a275d1b\",\"type\":\"CategoricalAxis\"},{\"attributes\":{\"fill_alpha\":{\"field\":\"fill_alpha\"},\"fill_color\":{\"field\":\"color\"},\"height\":{\"field\":\"height\",\"units\":\"data\"},\"line_color\":{\"field\":\"line_color\"},\"width\":{\"field\":\"width\",\"units\":\"data\"},\"x\":{\"field\":\"x\"},\"y\":{\"field\":\"y\"}},\"id\":\"d3540bc0-1a73-487a-ba71-240fb77e6d64\",\"type\":\"Rect\"},{\"attributes\":{\"data_source\":{\"id\":\"41428e94-2a16-4bc3-a829-1faf364e3ed3\",\"type\":\"ColumnDataSource\"},\"glyph\":{\"id\":\"011789da-4e70-49c0-8913-45160e64e942\",\"type\":\"Rect\"},\"hover_glyph\":null,\"muted_glyph\":null},\"id\":\"1b10b50a-537c-4625-9ee9-567e43d4ad51\",\"type\":\"GlyphRenderer\"},{\"attributes\":{\"overlay\":{\"id\":\"de2c15ee-ff87-44db-8765-5d266b1af930\",\"type\":\"BoxAnnotation\"},\"plot\":{\"id\":\"b9a0333e-b309-459b-b68f-e09a41a42907\",\"subtype\":\"Chart\",\"type\":\"Plot\"}},\"id\":\"8b22d640-6818-48c7-b96c-c13bc5d1b566\",\"type\":\"BoxZoomTool\"},{\"attributes\":{\"fill_alpha\":{\"field\":\"fill_alpha\"},\"fill_color\":{\"field\":\"color\"},\"height\":{\"field\":\"height\",\"units\":\"data\"},\"line_color\":{\"field\":\"line_color\"},\"width\":{\"field\":\"width\",\"units\":\"data\"},\"x\":{\"field\":\"x\"},\"y\":{\"field\":\"y\"}},\"id\":\"757782ca-456e-40db-8ac6-d5db25c7a057\",\"type\":\"Rect\"},{\"attributes\":{\"data_source\":{\"id\":\"727b6b70-c09d-4aff-9794-15c17bfae23b\",\"type\":\"ColumnDataSource\"},\"glyph\":{\"id\":\"3912282e-d1e6-453d-ba5f-79519b541872\",\"type\":\"Rect\"},\"hover_glyph\":null,\"muted_glyph\":null},\"id\":\"35150e4d-06e3-4191-b634-db3eaec4cb1d\",\"type\":\"GlyphRenderer\"},{\"attributes\":{\"callback\":null,\"column_names\":[\"line_color\",\"line_alpha\",\"color\",\"fill_alpha\",\"height\",\"width\",\"y\",\"x\",\"label\"],\"data\":{\"AnimalType\":[\"Cat\"],\"OutcomeType\":[\"Return_to_owner\"],\"chart_index\":[{\"AnimalType\":\"Cat\",\"OutcomeType\":\"Return_to_owner\"}],\"color\":[\"#f22c40\"],\"fill_alpha\":[0.8],\"height\":[500.0],\"label\":[{\"AnimalType\":\"Cat\",\"OutcomeType\":\"Return_to_owner\"}],\"line_alpha\":[1.0],\"line_color\":[\"white\"],\"width\":[0.8],\"x\":[\"Return_to_owner\"],\"y\":[4536.0]}},\"id\":\"be059532-9c96-4839-a0cd-2d9756d8caa9\",\"type\":\"ColumnDataSource\"},{\"attributes\":{\"callback\":null,\"column_names\":[\"line_color\",\"line_alpha\",\"color\",\"fill_alpha\",\"height\",\"width\",\"y\",\"x\",\"label\"],\"data\":{\"AnimalType\":[\"Cat\"],\"OutcomeType\":[\"Adoption\"],\"chart_index\":[{\"AnimalType\":\"Cat\",\"OutcomeType\":\"Adoption\"}],\"color\":[\"#f22c40\"],\"fill_alpha\":[0.8],\"height\":[4272.0],\"label\":[{\"AnimalType\":\"Cat\",\"OutcomeType\":\"Adoption\"}],\"line_alpha\":[1.0],\"line_color\":[\"white\"],\"width\":[0.8],\"x\":[\"Adoption\"],\"y\":[8633.0]}},\"id\":\"6b9e70e9-f0a0-4c31-8f7b-49eaf724a57b\",\"type\":\"ColumnDataSource\"},{\"attributes\":{},\"id\":\"e1717f2f-150e-47af-af82-31e3bef1bd80\",\"type\":\"BasicTicker\"},{\"attributes\":{\"callback\":null,\"column_names\":[\"line_color\",\"line_alpha\",\"color\",\"fill_alpha\",\"height\",\"width\",\"y\",\"x\",\"label\"],\"data\":{\"AnimalType\":[\"Cat\"],\"OutcomeType\":[\"Euthanasia\"],\"chart_index\":[{\"AnimalType\":\"Cat\",\"OutcomeType\":\"Euthanasia\"}],\"color\":[\"#f22c40\"],\"fill_alpha\":[0.8],\"height\":[710.0],\"label\":[{\"AnimalType\":\"Cat\",\"OutcomeType\":\"Euthanasia\"}],\"line_alpha\":[1.0],\"line_color\":[\"white\"],\"width\":[0.8],\"x\":[\"Euthanasia\"],\"y\":[355.0]}},\"id\":\"e5451919-9c54-4277-96c5-d79a5f0263ba\",\"type\":\"ColumnDataSource\"},{\"attributes\":{\"data_source\":{\"id\":\"19280390-918a-4308-b53a-44aa899f0a82\",\"type\":\"ColumnDataSource\"},\"glyph\":{\"id\":\"1330677a-1399-40be-b329-d64d3a445a80\",\"type\":\"Rect\"},\"hover_glyph\":null,\"muted_glyph\":null},\"id\":\"51c3aac0-be72-4c65-8965-7f5e677244af\",\"type\":\"GlyphRenderer\"},{\"attributes\":{\"bottom_units\":\"screen\",\"fill_alpha\":{\"value\":0.5},\"fill_color\":{\"value\":\"lightgrey\"},\"left_units\":\"screen\",\"level\":\"overlay\",\"line_alpha\":{\"value\":1.0},\"line_color\":{\"value\":\"black\"},\"line_dash\":[4,4],\"line_width\":{\"value\":2},\"plot\":null,\"render_mode\":\"css\",\"right_units\":\"screen\",\"top_units\":\"screen\"},\"id\":\"de2c15ee-ff87-44db-8765-5d266b1af930\",\"type\":\"BoxAnnotation\"},{\"attributes\":{\"axis_label\":\"Count( Animaltype )\",\"formatter\":{\"id\":\"b9d117ef-9a71-4dac-a1e6-7df2b4c1f23e\",\"type\":\"BasicTickFormatter\"},\"plot\":{\"id\":\"b9a0333e-b309-459b-b68f-e09a41a42907\",\"subtype\":\"Chart\",\"type\":\"Plot\"},\"ticker\":{\"id\":\"e1717f2f-150e-47af-af82-31e3bef1bd80\",\"type\":\"BasicTicker\"}},\"id\":\"0ad0bed9-ee4d-4827-af61-fe7b9d291516\",\"type\":\"LinearAxis\"},{\"attributes\":{\"fill_alpha\":{\"field\":\"fill_alpha\"},\"fill_color\":{\"field\":\"color\"},\"height\":{\"field\":\"height\",\"units\":\"data\"},\"line_color\":{\"field\":\"line_color\"},\"width\":{\"field\":\"width\",\"units\":\"data\"},\"x\":{\"field\":\"x\"},\"y\":{\"field\":\"y\"}},\"id\":\"7ef7a605-ea70-45c4-9c85-d3149a8fd71d\",\"type\":\"Rect\"},{\"attributes\":{\"below\":[{\"id\":\"b039d97e-22cc-4db3-bccd-27308a275d1b\",\"type\":\"CategoricalAxis\"}],\"css_classes\":null,\"left\":[{\"id\":\"0ad0bed9-ee4d-4827-af61-fe7b9d291516\",\"type\":\"LinearAxis\"}],\"renderers\":[{\"id\":\"de2c15ee-ff87-44db-8765-5d266b1af930\",\"type\":\"BoxAnnotation\"},{\"id\":\"4fa353f8-f39c-48e2-a825-0f99d1e8cb51\",\"type\":\"GlyphRenderer\"},{\"id\":\"4787994e-e952-4dd7-b033-480ee4e3e619\",\"type\":\"GlyphRenderer\"},{\"id\":\"35150e4d-06e3-4191-b634-db3eaec4cb1d\",\"type\":\"GlyphRenderer\"},{\"id\":\"1b10b50a-537c-4625-9ee9-567e43d4ad51\",\"type\":\"GlyphRenderer\"},{\"id\":\"51c3aac0-be72-4c65-8965-7f5e677244af\",\"type\":\"GlyphRenderer\"},{\"id\":\"a47b0d9e-8c0a-4b52-9ca4-354d59c45b25\",\"type\":\"GlyphRenderer\"},{\"id\":\"d11bd12d-adbc-4b50-a850-c1a2ea2b0342\",\"type\":\"GlyphRenderer\"},{\"id\":\"76ac4390-8d60-4270-9536-ae46aaff4b63\",\"type\":\"GlyphRenderer\"},{\"id\":\"a29f8083-ac93-4614-90be-0cd98ba58a96\",\"type\":\"GlyphRenderer\"},{\"id\":\"062bf3de-8c61-4aa3-b9ce-c66faac0cb7d\",\"type\":\"GlyphRenderer\"},{\"id\":\"a0a246db-7d8e-41ba-a940-88298004a2e5\",\"type\":\"Legend\"},{\"id\":\"b039d97e-22cc-4db3-bccd-27308a275d1b\",\"type\":\"CategoricalAxis\"},{\"id\":\"0ad0bed9-ee4d-4827-af61-fe7b9d291516\",\"type\":\"LinearAxis\"},{\"id\":\"cfc7b9cb-91f3-4263-8a1c-1f5b6d2a1839\",\"type\":\"Grid\"}],\"title\":{\"id\":\"55d7407a-4466-4ef9-8275-fb25f9b3aa3d\",\"type\":\"Title\"},\"tool_events\":{\"id\":\"20af02f1-a696-4869-97b9-ebfd94d00471\",\"type\":\"ToolEvents\"},\"toolbar\":{\"id\":\"3afdd9b0-ac1f-41a3-b3d2-23314d256640\",\"type\":\"Toolbar\"},\"x_mapper_type\":\"auto\",\"x_range\":{\"id\":\"9eadd037-af8c-4bb5-908f-9f8404049a3e\",\"type\":\"FactorRange\"},\"y_mapper_type\":\"auto\",\"y_range\":{\"id\":\"14025e70-9d0f-4f5b-9d71-19f3ce974654\",\"type\":\"Range1d\"}},\"id\":\"b9a0333e-b309-459b-b68f-e09a41a42907\",\"subtype\":\"Chart\",\"type\":\"Plot\"},{\"attributes\":{\"fill_alpha\":{\"field\":\"fill_alpha\"},\"fill_color\":{\"field\":\"color\"},\"height\":{\"field\":\"height\",\"units\":\"data\"},\"line_color\":{\"field\":\"line_color\"},\"width\":{\"field\":\"width\",\"units\":\"data\"},\"x\":{\"field\":\"x\"},\"y\":{\"field\":\"y\"}},\"id\":\"d0470a8e-f614-40fa-ba92-39490dc6f71c\",\"type\":\"Rect\"},{\"attributes\":{\"data_source\":{\"id\":\"be059532-9c96-4839-a0cd-2d9756d8caa9\",\"type\":\"ColumnDataSource\"},\"glyph\":{\"id\":\"757782ca-456e-40db-8ac6-d5db25c7a057\",\"type\":\"Rect\"},\"hover_glyph\":null,\"muted_glyph\":null},\"id\":\"d11bd12d-adbc-4b50-a850-c1a2ea2b0342\",\"type\":\"GlyphRenderer\"},{\"attributes\":{\"callback\":null,\"end\":11307.45},\"id\":\"14025e70-9d0f-4f5b-9d71-19f3ce974654\",\"type\":\"Range1d\"},{\"attributes\":{\"fill_alpha\":{\"field\":\"fill_alpha\"},\"fill_color\":{\"field\":\"color\"},\"height\":{\"field\":\"height\",\"units\":\"data\"},\"line_color\":{\"field\":\"line_color\"},\"width\":{\"field\":\"width\",\"units\":\"data\"},\"x\":{\"field\":\"x\"},\"y\":{\"field\":\"y\"}},\"id\":\"1330677a-1399-40be-b329-d64d3a445a80\",\"type\":\"Rect\"},{\"attributes\":{\"active_drag\":\"auto\",\"active_scroll\":\"auto\",\"active_tap\":\"auto\",\"tools\":[{\"id\":\"d9def414-1b0f-430b-8c50-633df2d026f2\",\"type\":\"PanTool\"},{\"id\":\"0b4fbcd3-ecb6-49ba-9cde-5bc116674940\",\"type\":\"WheelZoomTool\"},{\"id\":\"8b22d640-6818-48c7-b96c-c13bc5d1b566\",\"type\":\"BoxZoomTool\"},{\"id\":\"5a91e189-9350-4040-8ecf-9590c871d31a\",\"type\":\"SaveTool\"},{\"id\":\"fe487400-7361-4675-8b82-72efe513c8c9\",\"type\":\"ResetTool\"},{\"id\":\"e574ca99-fd42-4119-967e-0ba8358b492f\",\"type\":\"HelpTool\"}]},\"id\":\"3afdd9b0-ac1f-41a3-b3d2-23314d256640\",\"type\":\"Toolbar\"},{\"attributes\":{},\"id\":\"74282a2a-18e9-4b6f-9ff4-ef51659276b9\",\"type\":\"CategoricalTicker\"},{\"attributes\":{\"data_source\":{\"id\":\"6b9e70e9-f0a0-4c31-8f7b-49eaf724a57b\",\"type\":\"ColumnDataSource\"},\"glyph\":{\"id\":\"30af43b9-4441-4ce2-80f1-fafe7de4435e\",\"type\":\"Rect\"},\"hover_glyph\":null,\"muted_glyph\":null},\"id\":\"a47b0d9e-8c0a-4b52-9ca4-354d59c45b25\",\"type\":\"GlyphRenderer\"}],\"root_ids\":[\"b9a0333e-b309-459b-b68f-e09a41a42907\"]},\"title\":\"Bokeh Application\",\"version\":\"0.12.5\"}};\n",
       "            var render_items = [{\"docid\":\"d662017e-7630-4242-b14e-4e0d8e336c72\",\"elementid\":\"53dd0ff4-67a4-4623-ae25-e0276fd5a0f2\",\"modelid\":\"b9a0333e-b309-459b-b68f-e09a41a42907\"}];\n",
       "            \n",
       "            Bokeh.embed.embed_items(docs_json, render_items);\n",
       "          };\n",
       "          if (document.readyState != \"loading\") fn();\n",
       "          else document.addEventListener(\"DOMContentLoaded\", fn);\n",
       "        })();\n",
       "      },\n",
       "      function(Bokeh) {\n",
       "      }\n",
       "    ];\n",
       "  \n",
       "    function run_inline_js() {\n",
       "      \n",
       "      if ((window.Bokeh !== undefined) || (force === true)) {\n",
       "        for (var i = 0; i < inline_js.length; i++) {\n",
       "          inline_js[i](window.Bokeh);\n",
       "        }if (force === true) {\n",
       "          display_loaded();\n",
       "        }} else if (Date.now() < window._bokeh_timeout) {\n",
       "        setTimeout(run_inline_js, 100);\n",
       "      } else if (!window._bokeh_failed_load) {\n",
       "        console.log(\"Bokeh: BokehJS failed to load within specified timeout.\");\n",
       "        window._bokeh_failed_load = true;\n",
       "      } else if (force !== true) {\n",
       "        var cell = $(document.getElementById(\"53dd0ff4-67a4-4623-ae25-e0276fd5a0f2\")).parents('.cell').data().cell;\n",
       "        cell.output_area.append_execute_result(NB_LOAD_WARNING)\n",
       "      }\n",
       "  \n",
       "    }\n",
       "  \n",
       "    if (window._bokeh_is_loading === 0) {\n",
       "      console.log(\"Bokeh: BokehJS loaded, going straight to plotting\");\n",
       "      run_inline_js();\n",
       "    } else {\n",
       "      load_libs(js_urls, function() {\n",
       "        console.log(\"Bokeh: BokehJS plotting callback run at\", now());\n",
       "        run_inline_js();\n",
       "      });\n",
       "    }\n",
       "  }(this));\n",
       "</script>"
      ]
     },
     "metadata": {},
     "output_type": "display_data"
    }
   ],
   "source": [
    "#Animal types\n",
    "p = Bar(data, label='OutcomeType', values = 'AnimalType', agg='count', stack='AnimalType',\n",
    "        title=\"Outcomes by Animal Type\", legend='top_right')\n",
    "show(p)"
   ]
  },
  {
   "cell_type": "code",
   "execution_count": 8,
   "metadata": {
    "scrolled": false
   },
   "outputs": [
    {
     "data": {
      "text/plain": [
       "<matplotlib.axes._subplots.AxesSubplot at 0x11b01e210>"
      ]
     },
     "execution_count": 8,
     "metadata": {},
     "output_type": "execute_result"
    },
    {
     "data": {
      "image/png": "[encoded data removed]",
      "text/plain": [
       "<matplotlib.figure.Figure at 0x11b0606d0>"
      ]
     },
     "metadata": {},
     "output_type": "display_data"
    }
   ],
   "source": [
    "#Outcome types\n",
    "outcome_type = data['OutcomeType'].value_counts() \n",
    "outcome_type.plot(kind='bar',color='#34ABD8',rot=0)"
   ]
  },
  {
   "cell_type": "code",
   "execution_count": 9,
   "metadata": {
    "scrolled": false
   },
   "outputs": [
    {
     "data": {
      "text/plain": [
       "<matplotlib.axes._subplots.AxesSubplot at 0x11b060950>"
      ]
     },
     "execution_count": 9,
     "metadata": {},
     "output_type": "execute_result"
    },
    {
     "data": {
      "image/png": "[encoded data removed]",
      "text/plain": [
       "<matplotlib.figure.Figure at 0x11b5d0310>"
      ]
     },
     "metadata": {},
     "output_type": "display_data"
    }
   ],
   "source": [
    "#Spayed/neutered\n",
    "intact_type = data['Intact'].value_counts() \n",
    "intact_type.plot(kind='bar',color='#34ABD8',rot=0)"
   ]
  },
  {
   "cell_type": "code",
   "execution_count": 10,
   "metadata": {},
   "outputs": [
    {
     "data": {
      "text/html": [
       "\n",
       "\n",
       "    <div class=\"bk-root\">\n",
       "        <div class=\"bk-plotdiv\" id=\"beaf5fec-3a4d-42ab-9831-e61d3b6c0d67\"></div>\n",
       "    </div>\n",
       "<script type=\"text/javascript\">\n",
       "  \n",
       "  (function(global) {\n",
       "    function now() {\n",
       "      return new Date();\n",
       "    }\n",
       "  \n",
       "    var force = false;\n",
       "  \n",
       "    if (typeof (window._bokeh_onload_callbacks) === \"undefined\" || force === true) {\n",
       "      window._bokeh_onload_callbacks = [];\n",
       "      window._bokeh_is_loading = undefined;\n",
       "    }\n",
       "  \n",
       "  \n",
       "    \n",
       "    if (typeof (window._bokeh_timeout) === \"undefined\" || force === true) {\n",
       "      window._bokeh_timeout = Date.now() + 0;\n",
       "      window._bokeh_failed_load = false;\n",
       "    }\n",
       "  \n",
       "    var NB_LOAD_WARNING = {'data': {'text/html':\n",
       "       \"<div style='background-color: #fdd'>\\n\"+\n",
       "       \"<p>\\n\"+\n",
       "       \"BokehJS does not appear to have successfully loaded. If loading BokehJS from CDN, this \\n\"+\n",
       "       \"may be due to a slow or bad network connection. Possible fixes:\\n\"+\n",
       "       \"</p>\\n\"+\n",
       "       \"<ul>\\n\"+\n",
       "       \"<li>re-rerun `output_notebook()` to attempt to load from CDN again, or</li>\\n\"+\n",
       "       \"<li>use INLINE resources instead, as so:</li>\\n\"+\n",
       "       \"</ul>\\n\"+\n",
       "       \"<code>\\n\"+\n",
       "       \"from bokeh.resources import INLINE\\n\"+\n",
       "       \"output_notebook(resources=INLINE)\\n\"+\n",
       "       \"</code>\\n\"+\n",
       "       \"</div>\"}};\n",
       "  \n",
       "    function display_loaded() {\n",
       "      if (window.Bokeh !== undefined) {\n",
       "        var el = document.getElementById(\"beaf5fec-3a4d-42ab-9831-e61d3b6c0d67\");\n",
       "        el.textContent = \"BokehJS \" + Bokeh.version + \" successfully loaded.\";\n",
       "      } else if (Date.now() < window._bokeh_timeout) {\n",
       "        setTimeout(display_loaded, 100)\n",
       "      }\n",
       "    }\n",
       "  \n",
       "    function run_callbacks() {\n",
       "      window._bokeh_onload_callbacks.forEach(function(callback) { callback() });\n",
       "      delete window._bokeh_onload_callbacks\n",
       "      console.info(\"Bokeh: all callbacks have finished\");\n",
       "    }\n",
       "  \n",
       "    function load_libs(js_urls, callback) {\n",
       "      window._bokeh_onload_callbacks.push(callback);\n",
       "      if (window._bokeh_is_loading > 0) {\n",
       "        console.log(\"Bokeh: BokehJS is being loaded, scheduling callback at\", now());\n",
       "        return null;\n",
       "      }\n",
       "      if (js_urls == null || js_urls.length === 0) {\n",
       "        run_callbacks();\n",
       "        return null;\n",
       "      }\n",
       "      console.log(\"Bokeh: BokehJS not loaded, scheduling load and callback at\", now());\n",
       "      window._bokeh_is_loading = js_urls.length;\n",
       "      for (var i = 0; i < js_urls.length; i++) {\n",
       "        var url = js_urls[i];\n",
       "        var s = document.createElement('script');\n",
       "        s.src = url;\n",
       "        s.async = false;\n",
       "        s.onreadystatechange = s.onload = function() {\n",
       "          window._bokeh_is_loading--;\n",
       "          if (window._bokeh_is_loading === 0) {\n",
       "            console.log(\"Bokeh: all BokehJS libraries loaded\");\n",
       "            run_callbacks()\n",
       "          }\n",
       "        };\n",
       "        s.onerror = function() {\n",
       "          console.warn(\"failed to load library \" + url);\n",
       "        };\n",
       "        console.log(\"Bokeh: injecting script tag for BokehJS library: \", url);\n",
       "        document.getElementsByTagName(\"head\")[0].appendChild(s);\n",
       "      }\n",
       "    };var element = document.getElementById(\"beaf5fec-3a4d-42ab-9831-e61d3b6c0d67\");\n",
       "    if (element == null) {\n",
       "      console.log(\"Bokeh: ERROR: autoload.js configured with elementid 'beaf5fec-3a4d-42ab-9831-e61d3b6c0d67' but no matching script tag was found. \")\n",
       "      return false;\n",
       "    }\n",
       "  \n",
       "    var js_urls = [];\n",
       "  \n",
       "    var inline_js = [\n",
       "      function(Bokeh) {\n",
       "        (function() {\n",
       "          var fn = function() {\n",
       "            var docs_json = {\"ffa3e6f7-108e-4931-a8e8-d13f0c8ea14a\":{\"roots\":{\"references\":[{\"attributes\":{\"callback\":null,\"column_names\":[\"line_color\",\"line_alpha\",\"color\",\"fill_alpha\",\"height\",\"width\",\"y\",\"x\",\"label\"],\"data\":{\"Intact\":[\"Intact\"],\"OutcomeType\":[\"Transfer\"],\"chart_index\":[{\"Intact\":\"Intact\",\"OutcomeType\":\"Transfer\"}],\"color\":[\"#f22c40\"],\"fill_alpha\":[0.8],\"height\":[4884.0],\"label\":[{\"Intact\":\"Intact\",\"OutcomeType\":\"Transfer\"}],\"line_alpha\":[1.0],\"line_color\":[\"white\"],\"width\":[0.8],\"x\":[\"Transfer\"],\"y\":[2442.0]}},\"id\":\"a6535a0e-87d0-41d7-8ac0-345db0141140\",\"type\":\"ColumnDataSource\"},{\"attributes\":{\"below\":[{\"id\":\"95b3ea1e-f237-4f9c-993a-a16cef679c87\",\"type\":\"CategoricalAxis\"}],\"css_classes\":null,\"left\":[{\"id\":\"935f70e4-0ba4-4d79-9244-9aa2f56f3c66\",\"type\":\"LinearAxis\"}],\"renderers\":[{\"id\":\"3f63e5ff-2ce6-45c0-b96d-7dbb2b89e359\",\"type\":\"BoxAnnotation\"},{\"id\":\"cda0d490-cf43-4ee3-8c1c-2ffbd141990b\",\"type\":\"GlyphRenderer\"},{\"id\":\"4cb21db1-4e42-49c2-baea-5ecabc4ce080\",\"type\":\"GlyphRenderer\"},{\"id\":\"6acbb97d-2e25-42f7-bdca-2f2c96f4e4e6\",\"type\":\"GlyphRenderer\"},{\"id\":\"ad0b1bb1-2826-465f-84ac-23cb8ad66015\",\"type\":\"GlyphRenderer\"},{\"id\":\"fd11ae16-ab88-44fa-b655-792a490c1c29\",\"type\":\"GlyphRenderer\"},{\"id\":\"0caad3eb-25ef-4c26-b3cc-b7c63764c166\",\"type\":\"GlyphRenderer\"},{\"id\":\"08b096fa-f7fb-431f-87b9-9381b027efd8\",\"type\":\"GlyphRenderer\"},{\"id\":\"f4d49b83-ec1d-4a48-bf9d-48004dff7373\",\"type\":\"GlyphRenderer\"},{\"id\":\"2253e48c-e152-4c8d-b97c-517b2756519d\",\"type\":\"GlyphRenderer\"},{\"id\":\"80966947-7e75-4824-a546-ab295091ae46\",\"type\":\"GlyphRenderer\"},{\"id\":\"05ba6887-d5af-485d-ab3e-d8aab7f939c1\",\"type\":\"GlyphRenderer\"},{\"id\":\"2faf5cc5-8bb5-44ea-8528-083245ef07e7\",\"type\":\"GlyphRenderer\"},{\"id\":\"0d802ed5-0606-4021-bcaa-22aadc18bfa2\",\"type\":\"GlyphRenderer\"},{\"id\":\"f9656d0a-4b7f-4177-81e4-1e6541be6eb1\",\"type\":\"GlyphRenderer\"},{\"id\":\"6bde19e7-0077-4274-bb34-b4d3905ab794\",\"type\":\"Legend\"},{\"id\":\"95b3ea1e-f237-4f9c-993a-a16cef679c87\",\"type\":\"CategoricalAxis\"},{\"id\":\"935f70e4-0ba4-4d79-9244-9aa2f56f3c66\",\"type\":\"LinearAxis\"},{\"id\":\"3b03ef67-5c23-4f20-ba22-5e14ec9b2035\",\"type\":\"Grid\"}],\"title\":{\"id\":\"2e49f30b-66d1-4d9b-81da-f9fe32cf9f89\",\"type\":\"Title\"},\"tool_events\":{\"id\":\"e96c9b62-b831-4d6b-b3cd-bca6401f3d84\",\"type\":\"ToolEvents\"},\"toolbar\":{\"id\":\"7b7750a6-628d-4359-8e53-33a48920b33d\",\"type\":\"Toolbar\"},\"x_mapper_type\":\"auto\",\"x_range\":{\"id\":\"ae1802bc-499d-40e7-ad43-8ccf2e0dbbf0\",\"type\":\"FactorRange\"},\"y_mapper_type\":\"auto\",\"y_range\":{\"id\":\"afb69d47-8d7b-4be4-9f7b-90276653ee62\",\"type\":\"Range1d\"}},\"id\":\"bb4d8859-4434-4341-ad26-fbfbffa26bbd\",\"subtype\":\"Chart\",\"type\":\"Plot\"},{\"attributes\":{\"fill_alpha\":{\"field\":\"fill_alpha\"},\"fill_color\":{\"field\":\"color\"},\"height\":{\"field\":\"height\",\"units\":\"data\"},\"line_color\":{\"field\":\"line_color\"},\"width\":{\"field\":\"width\",\"units\":\"data\"},\"x\":{\"field\":\"x\"},\"y\":{\"field\":\"y\"}},\"id\":\"3b06357a-dc9c-488a-a5c0-4f4d5a59ab7d\",\"type\":\"Rect\"},{\"attributes\":{\"data_source\":{\"id\":\"37af1dea-9239-4b5e-b415-98f990ed7d44\",\"type\":\"ColumnDataSource\"},\"glyph\":{\"id\":\"87a8e4a3-db14-4aa7-9c1c-ec909954ddff\",\"type\":\"Rect\"},\"hover_glyph\":null,\"muted_glyph\":null},\"id\":\"4cb21db1-4e42-49c2-baea-5ecabc4ce080\",\"type\":\"GlyphRenderer\"},{\"attributes\":{\"plot\":{\"id\":\"bb4d8859-4434-4341-ad26-fbfbffa26bbd\",\"subtype\":\"Chart\",\"type\":\"Plot\"}},\"id\":\"ed8b2f31-fb86-4221-826c-6f4db7cb8159\",\"type\":\"HelpTool\"},{\"attributes\":{\"fill_alpha\":{\"field\":\"fill_alpha\"},\"fill_color\":{\"field\":\"color\"},\"height\":{\"field\":\"height\",\"units\":\"data\"},\"line_color\":{\"field\":\"line_color\"},\"width\":{\"field\":\"width\",\"units\":\"data\"},\"x\":{\"field\":\"x\"},\"y\":{\"field\":\"y\"}},\"id\":\"fa914d56-9a9c-40e5-a788-545750dc13e8\",\"type\":\"Rect\"},{\"attributes\":{},\"id\":\"2d0ba43f-7734-4c3b-89f1-0f83610689a7\",\"type\":\"CategoricalTickFormatter\"},{\"attributes\":{\"callback\":null,\"column_names\":[\"line_color\",\"line_alpha\",\"color\",\"fill_alpha\",\"height\",\"width\",\"y\",\"x\",\"label\"],\"data\":{\"Intact\":[\"Intact\"],\"OutcomeType\":[\"Euthanasia\"],\"chart_index\":[{\"Intact\":\"Intact\",\"OutcomeType\":\"Euthanasia\"}],\"color\":[\"#f22c40\"],\"fill_alpha\":[0.8],\"height\":[878.0],\"label\":[{\"Intact\":\"Intact\",\"OutcomeType\":\"Euthanasia\"}],\"line_alpha\":[1.0],\"line_color\":[\"white\"],\"width\":[0.8],\"x\":[\"Euthanasia\"],\"y\":[1015.0]}},\"id\":\"b3830001-5041-44dc-9bbc-25e3df29ea9e\",\"type\":\"ColumnDataSource\"},{\"attributes\":{\"callback\":null,\"column_names\":[\"line_color\",\"line_alpha\",\"color\",\"fill_alpha\",\"height\",\"width\",\"y\",\"x\",\"label\"],\"data\":{\"Intact\":[\"Spayed/Neutered\"],\"OutcomeType\":[\"Return_to_owner\"],\"chart_index\":[{\"Intact\":\"Spayed/Neutered\",\"OutcomeType\":\"Return_to_owner\"}],\"color\":[\"#5ab738\"],\"fill_alpha\":[0.8],\"height\":[3996.0],\"label\":[{\"Intact\":\"Spayed/Neutered\",\"OutcomeType\":\"Return_to_owner\"}],\"line_alpha\":[1.0],\"line_color\":[\"white\"],\"width\":[0.8],\"x\":[\"Return_to_owner\"],\"y\":[1998.0]}},\"id\":\"a396837d-81f1-432a-a249-af933d1fb6d2\",\"type\":\"ColumnDataSource\"},{\"attributes\":{\"active_drag\":\"auto\",\"active_scroll\":\"auto\",\"active_tap\":\"auto\",\"tools\":[{\"id\":\"9d299021-7899-4559-9a19-3b84494c821c\",\"type\":\"PanTool\"},{\"id\":\"6f2362fb-a7fc-44c8-b434-9c089df5ebae\",\"type\":\"WheelZoomTool\"},{\"id\":\"80e06d6a-3dde-4ab0-aca4-09da71dc48cb\",\"type\":\"BoxZoomTool\"},{\"id\":\"e31e6751-f994-4c2f-a48a-45011f1be704\",\"type\":\"SaveTool\"},{\"id\":\"4bc37c24-6294-476b-93ea-1ce7116c04f1\",\"type\":\"ResetTool\"},{\"id\":\"ed8b2f31-fb86-4221-826c-6f4db7cb8159\",\"type\":\"HelpTool\"}]},\"id\":\"7b7750a6-628d-4359-8e53-33a48920b33d\",\"type\":\"Toolbar\"},{\"attributes\":{\"dimension\":1,\"plot\":{\"id\":\"bb4d8859-4434-4341-ad26-fbfbffa26bbd\",\"subtype\":\"Chart\",\"type\":\"Plot\"},\"ticker\":{\"id\":\"64d55f8e-c293-49e4-9465-b309157b7d49\",\"type\":\"BasicTicker\"}},\"id\":\"3b03ef67-5c23-4f20-ba22-5e14ec9b2035\",\"type\":\"Grid\"},{\"attributes\":{\"data_source\":{\"id\":\"93ec4d0a-7a0e-4d86-a58a-a2908a88ae3e\",\"type\":\"ColumnDataSource\"},\"glyph\":{\"id\":\"1f79b568-d372-4564-a92b-8fcf59084b3a\",\"type\":\"Rect\"},\"hover_glyph\":null,\"muted_glyph\":null},\"id\":\"0caad3eb-25ef-4c26-b3cc-b7c63764c166\",\"type\":\"GlyphRenderer\"},{\"attributes\":{\"fill_alpha\":{\"field\":\"fill_alpha\"},\"fill_color\":{\"field\":\"color\"},\"height\":{\"field\":\"height\",\"units\":\"data\"},\"line_color\":{\"field\":\"line_color\"},\"width\":{\"field\":\"width\",\"units\":\"data\"},\"x\":{\"field\":\"x\"},\"y\":{\"field\":\"y\"}},\"id\":\"02162142-a094-4f0f-8f80-98081608ce97\",\"type\":\"Rect\"},{\"attributes\":{\"plot\":{\"id\":\"bb4d8859-4434-4341-ad26-fbfbffa26bbd\",\"subtype\":\"Chart\",\"type\":\"Plot\"}},\"id\":\"9d299021-7899-4559-9a19-3b84494c821c\",\"type\":\"PanTool\"},{\"attributes\":{\"fill_alpha\":{\"field\":\"fill_alpha\"},\"fill_color\":{\"field\":\"color\"},\"height\":{\"field\":\"height\",\"units\":\"data\"},\"line_color\":{\"field\":\"line_color\"},\"width\":{\"field\":\"width\",\"units\":\"data\"},\"x\":{\"field\":\"x\"},\"y\":{\"field\":\"y\"}},\"id\":\"698ab33c-8ecf-4e80-b7ed-830689ca07c9\",\"type\":\"Rect\"},{\"attributes\":{\"fill_alpha\":{\"field\":\"fill_alpha\"},\"fill_color\":{\"field\":\"color\"},\"height\":{\"field\":\"height\",\"units\":\"data\"},\"line_color\":{\"field\":\"line_color\"},\"width\":{\"field\":\"width\",\"units\":\"data\"},\"x\":{\"field\":\"x\"},\"y\":{\"field\":\"y\"}},\"id\":\"437c806e-2b73-4413-8da7-c29a7e39b0df\",\"type\":\"Rect\"},{\"attributes\":{\"fill_alpha\":{\"field\":\"fill_alpha\"},\"fill_color\":{\"field\":\"color\"},\"height\":{\"field\":\"height\",\"units\":\"data\"},\"line_color\":{\"field\":\"line_color\"},\"width\":{\"field\":\"width\",\"units\":\"data\"},\"x\":{\"field\":\"x\"},\"y\":{\"field\":\"y\"}},\"id\":\"02436db2-358c-4f75-be84-bec002c3c8ca\",\"type\":\"Rect\"},{\"attributes\":{\"fill_alpha\":{\"field\":\"fill_alpha\"},\"fill_color\":{\"field\":\"color\"},\"height\":{\"field\":\"height\",\"units\":\"data\"},\"line_color\":{\"field\":\"line_color\"},\"width\":{\"field\":\"width\",\"units\":\"data\"},\"x\":{\"field\":\"x\"},\"y\":{\"field\":\"y\"}},\"id\":\"08015cd6-178a-40b5-b66a-a026bc01eb3b\",\"type\":\"Rect\"},{\"attributes\":{\"data_source\":{\"id\":\"fe7958da-9e24-422f-9b44-a3ae701a5170\",\"type\":\"ColumnDataSource\"},\"glyph\":{\"id\":\"5eb1b090-ef67-43cf-be4c-a83c2897437c\",\"type\":\"Rect\"},\"hover_glyph\":null,\"muted_glyph\":null},\"id\":\"80966947-7e75-4824-a546-ab295091ae46\",\"type\":\"GlyphRenderer\"},{\"attributes\":{\"bottom_units\":\"screen\",\"fill_alpha\":{\"value\":0.5},\"fill_color\":{\"value\":\"lightgrey\"},\"left_units\":\"screen\",\"level\":\"overlay\",\"line_alpha\":{\"value\":1.0},\"line_color\":{\"value\":\"black\"},\"line_dash\":[4,4],\"line_width\":{\"value\":2},\"plot\":null,\"render_mode\":\"css\",\"right_units\":\"screen\",\"top_units\":\"screen\"},\"id\":\"3f63e5ff-2ce6-45c0-b96d-7dbb2b89e359\",\"type\":\"BoxAnnotation\"},{\"attributes\":{\"callback\":null,\"end\":11307.45},\"id\":\"afb69d47-8d7b-4be4-9f7b-90276653ee62\",\"type\":\"Range1d\"},{\"attributes\":{},\"id\":\"5336fc01-f060-4c65-a02e-de07cbf98c7c\",\"type\":\"BasicTickFormatter\"},{\"attributes\":{\"axis_label\":\"Count( Intact )\",\"formatter\":{\"id\":\"5336fc01-f060-4c65-a02e-de07cbf98c7c\",\"type\":\"BasicTickFormatter\"},\"plot\":{\"id\":\"bb4d8859-4434-4341-ad26-fbfbffa26bbd\",\"subtype\":\"Chart\",\"type\":\"Plot\"},\"ticker\":{\"id\":\"64d55f8e-c293-49e4-9465-b309157b7d49\",\"type\":\"BasicTicker\"}},\"id\":\"935f70e4-0ba4-4d79-9244-9aa2f56f3c66\",\"type\":\"LinearAxis\"},{\"attributes\":{\"callback\":null,\"column_names\":[\"line_color\",\"line_alpha\",\"color\",\"fill_alpha\",\"height\",\"width\",\"y\",\"x\",\"label\"],\"data\":{\"Intact\":[\"Unknown\"],\"OutcomeType\":[\"Died\"],\"chart_index\":[{\"Intact\":\"Unknown\",\"OutcomeType\":\"Died\"}],\"color\":[\"#407ee7\"],\"fill_alpha\":[0.8],\"height\":[25.0],\"label\":[{\"Intact\":\"Unknown\",\"OutcomeType\":\"Died\"}],\"line_alpha\":[1.0],\"line_color\":[\"white\"],\"width\":[0.8],\"x\":[\"Died\"],\"y\":[147.5]}},\"id\":\"b9127b9e-d0da-414b-91d2-9f04778da93f\",\"type\":\"ColumnDataSource\"},{\"attributes\":{\"label\":{\"value\":\"Spayed/Neutered\"},\"renderers\":[{\"id\":\"cda0d490-cf43-4ee3-8c1c-2ffbd141990b\",\"type\":\"GlyphRenderer\"}]},\"id\":\"cfd9ecc5-d084-4cdc-a389-2fe367bb1910\",\"type\":\"LegendItem\"},{\"attributes\":{\"callback\":null,\"column_names\":[\"line_color\",\"line_alpha\",\"color\",\"fill_alpha\",\"height\",\"width\",\"y\",\"x\",\"label\"],\"data\":{\"Intact\":[\"Spayed/Neutered\"],\"OutcomeType\":[\"Transfer\"],\"chart_index\":[{\"Intact\":\"Spayed/Neutered\",\"OutcomeType\":\"Transfer\"}],\"color\":[\"#5ab738\"],\"fill_alpha\":[0.8],\"height\":[3583.0],\"label\":[{\"Intact\":\"Spayed/Neutered\",\"OutcomeType\":\"Transfer\"}],\"line_alpha\":[1.0],\"line_color\":[\"white\"],\"width\":[0.8],\"x\":[\"Transfer\"],\"y\":[6675.5]}},\"id\":\"cb503ee6-2cce-4f0c-9c75-26190f402ec9\",\"type\":\"ColumnDataSource\"},{\"attributes\":{\"label\":{\"value\":\"Unknown\"},\"renderers\":[{\"id\":\"0caad3eb-25ef-4c26-b3cc-b7c63764c166\",\"type\":\"GlyphRenderer\"}]},\"id\":\"b406c2d1-761f-47fa-a757-c3ce387fef9d\",\"type\":\"LegendItem\"},{\"attributes\":{\"plot\":null,\"text\":\"Outcomes by Intact Status\"},\"id\":\"2e49f30b-66d1-4d9b-81da-f9fe32cf9f89\",\"type\":\"Title\"},{\"attributes\":{\"data_source\":{\"id\":\"a396837d-81f1-432a-a249-af933d1fb6d2\",\"type\":\"ColumnDataSource\"},\"glyph\":{\"id\":\"6c60969e-dfc8-4cbb-a9fa-e72725a5c353\",\"type\":\"Rect\"},\"hover_glyph\":null,\"muted_glyph\":null},\"id\":\"cda0d490-cf43-4ee3-8c1c-2ffbd141990b\",\"type\":\"GlyphRenderer\"},{\"attributes\":{\"data_source\":{\"id\":\"b3830001-5041-44dc-9bbc-25e3df29ea9e\",\"type\":\"ColumnDataSource\"},\"glyph\":{\"id\":\"02162142-a094-4f0f-8f80-98081608ce97\",\"type\":\"Rect\"},\"hover_glyph\":null,\"muted_glyph\":null},\"id\":\"08b096fa-f7fb-431f-87b9-9381b027efd8\",\"type\":\"GlyphRenderer\"},{\"attributes\":{\"items\":[{\"id\":\"cfd9ecc5-d084-4cdc-a389-2fe367bb1910\",\"type\":\"LegendItem\"},{\"id\":\"bd8eefc6-5b88-448f-b6f4-b287350d1397\",\"type\":\"LegendItem\"},{\"id\":\"b406c2d1-761f-47fa-a757-c3ce387fef9d\",\"type\":\"LegendItem\"}],\"plot\":{\"id\":\"bb4d8859-4434-4341-ad26-fbfbffa26bbd\",\"subtype\":\"Chart\",\"type\":\"Plot\"}},\"id\":\"6bde19e7-0077-4274-bb34-b4d3905ab794\",\"type\":\"Legend\"},{\"attributes\":{\"data_source\":{\"id\":\"15e7a37d-45bf-47cb-8338-155293378e7f\",\"type\":\"ColumnDataSource\"},\"glyph\":{\"id\":\"02436db2-358c-4f75-be84-bec002c3c8ca\",\"type\":\"Rect\"},\"hover_glyph\":null,\"muted_glyph\":null},\"id\":\"f4d49b83-ec1d-4a48-bf9d-48004dff7373\",\"type\":\"GlyphRenderer\"},{\"attributes\":{\"data_source\":{\"id\":\"f7f8c985-1b2c-46ac-96f1-3aa52121be78\",\"type\":\"ColumnDataSource\"},\"glyph\":{\"id\":\"3b06357a-dc9c-488a-a5c0-4f4d5a59ab7d\",\"type\":\"Rect\"},\"hover_glyph\":null,\"muted_glyph\":null},\"id\":\"6acbb97d-2e25-42f7-bdca-2f2c96f4e4e6\",\"type\":\"GlyphRenderer\"},{\"attributes\":{\"fill_alpha\":{\"field\":\"fill_alpha\"},\"fill_color\":{\"field\":\"color\"},\"height\":{\"field\":\"height\",\"units\":\"data\"},\"line_color\":{\"field\":\"line_color\"},\"width\":{\"field\":\"width\",\"units\":\"data\"},\"x\":{\"field\":\"x\"},\"y\":{\"field\":\"y\"}},\"id\":\"627fddfe-efb8-470b-84bf-6eec62b80245\",\"type\":\"Rect\"},{\"attributes\":{\"data_source\":{\"id\":\"a6535a0e-87d0-41d7-8ac0-345db0141140\",\"type\":\"ColumnDataSource\"},\"glyph\":{\"id\":\"437c806e-2b73-4413-8da7-c29a7e39b0df\",\"type\":\"Rect\"},\"hover_glyph\":null,\"muted_glyph\":null},\"id\":\"ad0b1bb1-2826-465f-84ac-23cb8ad66015\",\"type\":\"GlyphRenderer\"},{\"attributes\":{\"axis_label\":\"Outcometype\",\"formatter\":{\"id\":\"2d0ba43f-7734-4c3b-89f1-0f83610689a7\",\"type\":\"CategoricalTickFormatter\"},\"major_label_orientation\":0.7853981633974483,\"plot\":{\"id\":\"bb4d8859-4434-4341-ad26-fbfbffa26bbd\",\"subtype\":\"Chart\",\"type\":\"Plot\"},\"ticker\":{\"id\":\"e800aa28-911b-449b-a9c0-41d728657d48\",\"type\":\"CategoricalTicker\"}},\"id\":\"95b3ea1e-f237-4f9c-993a-a16cef679c87\",\"type\":\"CategoricalAxis\"},{\"attributes\":{\"plot\":{\"id\":\"bb4d8859-4434-4341-ad26-fbfbffa26bbd\",\"subtype\":\"Chart\",\"type\":\"Plot\"}},\"id\":\"6f2362fb-a7fc-44c8-b434-9c089df5ebae\",\"type\":\"WheelZoomTool\"},{\"attributes\":{\"plot\":{\"id\":\"bb4d8859-4434-4341-ad26-fbfbffa26bbd\",\"subtype\":\"Chart\",\"type\":\"Plot\"}},\"id\":\"e31e6751-f994-4c2f-a48a-45011f1be704\",\"type\":\"SaveTool\"},{\"attributes\":{\"callback\":null,\"column_names\":[\"line_color\",\"line_alpha\",\"color\",\"fill_alpha\",\"height\",\"width\",\"y\",\"x\",\"label\"],\"data\":{\"Intact\":[\"Spayed/Neutered\"],\"OutcomeType\":[\"Adoption\"],\"chart_index\":[{\"Intact\":\"Spayed/Neutered\",\"OutcomeType\":\"Adoption\"}],\"color\":[\"#5ab738\"],\"fill_alpha\":[0.8],\"height\":[10408.0],\"label\":[{\"Intact\":\"Spayed/Neutered\",\"OutcomeType\":\"Adoption\"}],\"line_alpha\":[1.0],\"line_color\":[\"white\"],\"width\":[0.8],\"x\":[\"Adoption\"],\"y\":[5204.0]}},\"id\":\"f7f8c985-1b2c-46ac-96f1-3aa52121be78\",\"type\":\"ColumnDataSource\"},{\"attributes\":{\"data_source\":{\"id\":\"b647c22b-0dd3-42fd-82b1-dcb2e9c4811e\",\"type\":\"ColumnDataSource\"},\"glyph\":{\"id\":\"08015cd6-178a-40b5-b66a-a026bc01eb3b\",\"type\":\"Rect\"},\"hover_glyph\":null,\"muted_glyph\":null},\"id\":\"0d802ed5-0606-4021-bcaa-22aadc18bfa2\",\"type\":\"GlyphRenderer\"},{\"attributes\":{},\"id\":\"e96c9b62-b831-4d6b-b3cd-bca6401f3d84\",\"type\":\"ToolEvents\"},{\"attributes\":{\"data_source\":{\"id\":\"b9127b9e-d0da-414b-91d2-9f04778da93f\",\"type\":\"ColumnDataSource\"},\"glyph\":{\"id\":\"698ab33c-8ecf-4e80-b7ed-830689ca07c9\",\"type\":\"Rect\"},\"hover_glyph\":null,\"muted_glyph\":null},\"id\":\"2faf5cc5-8bb5-44ea-8528-083245ef07e7\",\"type\":\"GlyphRenderer\"},{\"attributes\":{\"data_source\":{\"id\":\"7c8c4e8d-85ae-48ad-87f0-6fb4b6887a3f\",\"type\":\"ColumnDataSource\"},\"glyph\":{\"id\":\"fa914d56-9a9c-40e5-a788-545750dc13e8\",\"type\":\"Rect\"},\"hover_glyph\":null,\"muted_glyph\":null},\"id\":\"f9656d0a-4b7f-4177-81e4-1e6541be6eb1\",\"type\":\"GlyphRenderer\"},{\"attributes\":{\"callback\":null,\"column_names\":[\"line_color\",\"line_alpha\",\"color\",\"fill_alpha\",\"height\",\"width\",\"y\",\"x\",\"label\"],\"data\":{\"Intact\":[\"Intact\"],\"OutcomeType\":[\"Died\"],\"chart_index\":[{\"Intact\":\"Intact\",\"OutcomeType\":\"Died\"}],\"color\":[\"#f22c40\"],\"fill_alpha\":[0.8],\"height\":[135.0],\"label\":[{\"Intact\":\"Intact\",\"OutcomeType\":\"Died\"}],\"line_alpha\":[1.0],\"line_color\":[\"white\"],\"width\":[0.8],\"x\":[\"Died\"],\"y\":[67.5]}},\"id\":\"c6fe9cb9-8796-4e69-9c48-744854bcd86a\",\"type\":\"ColumnDataSource\"},{\"attributes\":{\"overlay\":{\"id\":\"3f63e5ff-2ce6-45c0-b96d-7dbb2b89e359\",\"type\":\"BoxAnnotation\"},\"plot\":{\"id\":\"bb4d8859-4434-4341-ad26-fbfbffa26bbd\",\"subtype\":\"Chart\",\"type\":\"Plot\"}},\"id\":\"80e06d6a-3dde-4ab0-aca4-09da71dc48cb\",\"type\":\"BoxZoomTool\"},{\"attributes\":{\"callback\":null,\"column_names\":[\"line_color\",\"line_alpha\",\"color\",\"fill_alpha\",\"height\",\"width\",\"y\",\"x\",\"label\"],\"data\":{\"Intact\":[\"Intact\"],\"OutcomeType\":[\"Adoption\"],\"chart_index\":[{\"Intact\":\"Intact\",\"OutcomeType\":\"Adoption\"}],\"color\":[\"#f22c40\"],\"fill_alpha\":[0.8],\"height\":[361.0],\"label\":[{\"Intact\":\"Intact\",\"OutcomeType\":\"Adoption\"}],\"line_alpha\":[1.0],\"line_color\":[\"white\"],\"width\":[0.8],\"x\":[\"Adoption\"],\"y\":[10588.5]}},\"id\":\"fe7958da-9e24-422f-9b44-a3ae701a5170\",\"type\":\"ColumnDataSource\"},{\"attributes\":{\"fill_alpha\":{\"field\":\"fill_alpha\"},\"fill_color\":{\"field\":\"color\"},\"height\":{\"field\":\"height\",\"units\":\"data\"},\"line_color\":{\"field\":\"line_color\"},\"width\":{\"field\":\"width\",\"units\":\"data\"},\"x\":{\"field\":\"x\"},\"y\":{\"field\":\"y\"}},\"id\":\"87a8e4a3-db14-4aa7-9c1c-ec909954ddff\",\"type\":\"Rect\"},{\"attributes\":{\"callback\":null,\"column_names\":[\"line_color\",\"line_alpha\",\"color\",\"fill_alpha\",\"height\",\"width\",\"y\",\"x\",\"label\"],\"data\":{\"Intact\":[\"Intact\"],\"OutcomeType\":[\"Return_to_owner\"],\"chart_index\":[{\"Intact\":\"Intact\",\"OutcomeType\":\"Return_to_owner\"}],\"color\":[\"#f22c40\"],\"fill_alpha\":[0.8],\"height\":[778.0],\"label\":[{\"Intact\":\"Intact\",\"OutcomeType\":\"Return_to_owner\"}],\"line_alpha\":[1.0],\"line_color\":[\"white\"],\"width\":[0.8],\"x\":[\"Return_to_owner\"],\"y\":[4385.0]}},\"id\":\"15e7a37d-45bf-47cb-8338-155293378e7f\",\"type\":\"ColumnDataSource\"},{\"attributes\":{\"data_source\":{\"id\":\"cb503ee6-2cce-4f0c-9c75-26190f402ec9\",\"type\":\"ColumnDataSource\"},\"glyph\":{\"id\":\"fb3ca508-cd68-4d00-b873-e093f5982834\",\"type\":\"Rect\"},\"hover_glyph\":null,\"muted_glyph\":null},\"id\":\"fd11ae16-ab88-44fa-b655-792a490c1c29\",\"type\":\"GlyphRenderer\"},{\"attributes\":{},\"id\":\"64d55f8e-c293-49e4-9465-b309157b7d49\",\"type\":\"BasicTicker\"},{\"attributes\":{\"fill_alpha\":{\"field\":\"fill_alpha\"},\"fill_color\":{\"field\":\"color\"},\"height\":{\"field\":\"height\",\"units\":\"data\"},\"line_color\":{\"field\":\"line_color\"},\"width\":{\"field\":\"width\",\"units\":\"data\"},\"x\":{\"field\":\"x\"},\"y\":{\"field\":\"y\"}},\"id\":\"6c60969e-dfc8-4cbb-a9fa-e72725a5c353\",\"type\":\"Rect\"},{\"attributes\":{},\"id\":\"e800aa28-911b-449b-a9c0-41d728657d48\",\"type\":\"CategoricalTicker\"},{\"attributes\":{\"label\":{\"value\":\"Intact\"},\"renderers\":[{\"id\":\"ad0b1bb1-2826-465f-84ac-23cb8ad66015\",\"type\":\"GlyphRenderer\"}]},\"id\":\"bd8eefc6-5b88-448f-b6f4-b287350d1397\",\"type\":\"LegendItem\"},{\"attributes\":{\"fill_alpha\":{\"field\":\"fill_alpha\"},\"fill_color\":{\"field\":\"color\"},\"height\":{\"field\":\"height\",\"units\":\"data\"},\"line_color\":{\"field\":\"line_color\"},\"width\":{\"field\":\"width\",\"units\":\"data\"},\"x\":{\"field\":\"x\"},\"y\":{\"field\":\"y\"}},\"id\":\"b0d2b001-4a05-4979-938f-a9419ec21537\",\"type\":\"Rect\"},{\"attributes\":{\"data_source\":{\"id\":\"c6fe9cb9-8796-4e69-9c48-744854bcd86a\",\"type\":\"ColumnDataSource\"},\"glyph\":{\"id\":\"627fddfe-efb8-470b-84bf-6eec62b80245\",\"type\":\"Rect\"},\"hover_glyph\":null,\"muted_glyph\":null},\"id\":\"05ba6887-d5af-485d-ab3e-d8aab7f939c1\",\"type\":\"GlyphRenderer\"},{\"attributes\":{\"callback\":null,\"column_names\":[\"line_color\",\"line_alpha\",\"color\",\"fill_alpha\",\"height\",\"width\",\"y\",\"x\",\"label\"],\"data\":{\"Intact\":[\"Spayed/Neutered\"],\"OutcomeType\":[\"Euthanasia\"],\"chart_index\":[{\"Intact\":\"Spayed/Neutered\",\"OutcomeType\":\"Euthanasia\"}],\"color\":[\"#5ab738\"],\"fill_alpha\":[0.8],\"height\":[576.0],\"label\":[{\"Intact\":\"Spayed/Neutered\",\"OutcomeType\":\"Euthanasia\"}],\"line_alpha\":[1.0],\"line_color\":[\"white\"],\"width\":[0.8],\"x\":[\"Euthanasia\"],\"y\":[288.0]}},\"id\":\"37af1dea-9239-4b5e-b415-98f990ed7d44\",\"type\":\"ColumnDataSource\"},{\"attributes\":{\"fill_alpha\":{\"field\":\"fill_alpha\"},\"fill_color\":{\"field\":\"color\"},\"height\":{\"field\":\"height\",\"units\":\"data\"},\"line_color\":{\"field\":\"line_color\"},\"width\":{\"field\":\"width\",\"units\":\"data\"},\"x\":{\"field\":\"x\"},\"y\":{\"field\":\"y\"}},\"id\":\"5eb1b090-ef67-43cf-be4c-a83c2897437c\",\"type\":\"Rect\"},{\"attributes\":{\"callback\":null,\"column_names\":[\"line_color\",\"line_alpha\",\"color\",\"fill_alpha\",\"height\",\"width\",\"y\",\"x\",\"label\"],\"data\":{\"Intact\":[\"Unknown\"],\"OutcomeType\":[\"Return_to_owner\"],\"chart_index\":[{\"Intact\":\"Unknown\",\"OutcomeType\":\"Return_to_owner\"}],\"color\":[\"#407ee7\"],\"fill_alpha\":[0.8],\"height\":[12.0],\"label\":[{\"Intact\":\"Unknown\",\"OutcomeType\":\"Return_to_owner\"}],\"line_alpha\":[1.0],\"line_color\":[\"white\"],\"width\":[0.8],\"x\":[\"Return_to_owner\"],\"y\":[4780.0]}},\"id\":\"7c8c4e8d-85ae-48ad-87f0-6fb4b6887a3f\",\"type\":\"ColumnDataSource\"},{\"attributes\":{\"callback\":null,\"column_names\":[\"line_color\",\"line_alpha\",\"color\",\"fill_alpha\",\"height\",\"width\",\"y\",\"x\",\"label\"],\"data\":{\"Intact\":[\"Unknown\"],\"OutcomeType\":[\"Euthanasia\"],\"chart_index\":[{\"Intact\":\"Unknown\",\"OutcomeType\":\"Euthanasia\"}],\"color\":[\"#407ee7\"],\"fill_alpha\":[0.8],\"height\":[101.0],\"label\":[{\"Intact\":\"Unknown\",\"OutcomeType\":\"Euthanasia\"}],\"line_alpha\":[1.0],\"line_color\":[\"white\"],\"width\":[0.8],\"x\":[\"Euthanasia\"],\"y\":[1504.5]}},\"id\":\"719174b9-4ca2-4135-9064-d8e7f764789b\",\"type\":\"ColumnDataSource\"},{\"attributes\":{\"callback\":null,\"column_names\":[\"line_color\",\"line_alpha\",\"color\",\"fill_alpha\",\"height\",\"width\",\"y\",\"x\",\"label\"],\"data\":{\"Intact\":[\"Unknown\"],\"OutcomeType\":[\"Transfer\"],\"chart_index\":[{\"Intact\":\"Unknown\",\"OutcomeType\":\"Transfer\"}],\"color\":[\"#407ee7\"],\"fill_alpha\":[0.8],\"height\":[955.0],\"label\":[{\"Intact\":\"Unknown\",\"OutcomeType\":\"Transfer\"}],\"line_alpha\":[1.0],\"line_color\":[\"white\"],\"width\":[0.8],\"x\":[\"Transfer\"],\"y\":[8944.5]}},\"id\":\"93ec4d0a-7a0e-4d86-a58a-a2908a88ae3e\",\"type\":\"ColumnDataSource\"},{\"attributes\":{\"callback\":null,\"factors\":[\"Adoption\",\"Died\",\"Euthanasia\",\"Return_to_owner\",\"Transfer\"]},\"id\":\"ae1802bc-499d-40e7-ad43-8ccf2e0dbbf0\",\"type\":\"FactorRange\"},{\"attributes\":{\"plot\":{\"id\":\"bb4d8859-4434-4341-ad26-fbfbffa26bbd\",\"subtype\":\"Chart\",\"type\":\"Plot\"}},\"id\":\"4bc37c24-6294-476b-93ea-1ce7116c04f1\",\"type\":\"ResetTool\"},{\"attributes\":{\"fill_alpha\":{\"field\":\"fill_alpha\"},\"fill_color\":{\"field\":\"color\"},\"height\":{\"field\":\"height\",\"units\":\"data\"},\"line_color\":{\"field\":\"line_color\"},\"width\":{\"field\":\"width\",\"units\":\"data\"},\"x\":{\"field\":\"x\"},\"y\":{\"field\":\"y\"}},\"id\":\"fb3ca508-cd68-4d00-b873-e093f5982834\",\"type\":\"Rect\"},{\"attributes\":{\"fill_alpha\":{\"field\":\"fill_alpha\"},\"fill_color\":{\"field\":\"color\"},\"height\":{\"field\":\"height\",\"units\":\"data\"},\"line_color\":{\"field\":\"line_color\"},\"width\":{\"field\":\"width\",\"units\":\"data\"},\"x\":{\"field\":\"x\"},\"y\":{\"field\":\"y\"}},\"id\":\"1f79b568-d372-4564-a92b-8fcf59084b3a\",\"type\":\"Rect\"},{\"attributes\":{\"callback\":null,\"column_names\":[\"line_color\",\"line_alpha\",\"color\",\"fill_alpha\",\"height\",\"width\",\"y\",\"x\",\"label\"],\"data\":{\"Intact\":[\"Spayed/Neutered\"],\"OutcomeType\":[\"Died\"],\"chart_index\":[{\"Intact\":\"Spayed/Neutered\",\"OutcomeType\":\"Died\"}],\"color\":[\"#5ab738\"],\"fill_alpha\":[0.8],\"height\":[37.0],\"label\":[{\"Intact\":\"Spayed/Neutered\",\"OutcomeType\":\"Died\"}],\"line_alpha\":[1.0],\"line_color\":[\"white\"],\"width\":[0.8],\"x\":[\"Died\"],\"y\":[178.5]}},\"id\":\"b647c22b-0dd3-42fd-82b1-dcb2e9c4811e\",\"type\":\"ColumnDataSource\"},{\"attributes\":{\"data_source\":{\"id\":\"719174b9-4ca2-4135-9064-d8e7f764789b\",\"type\":\"ColumnDataSource\"},\"glyph\":{\"id\":\"b0d2b001-4a05-4979-938f-a9419ec21537\",\"type\":\"Rect\"},\"hover_glyph\":null,\"muted_glyph\":null},\"id\":\"2253e48c-e152-4c8d-b97c-517b2756519d\",\"type\":\"GlyphRenderer\"}],\"root_ids\":[\"bb4d8859-4434-4341-ad26-fbfbffa26bbd\"]},\"title\":\"Bokeh Application\",\"version\":\"0.12.5\"}};\n",
       "            var render_items = [{\"docid\":\"ffa3e6f7-108e-4931-a8e8-d13f0c8ea14a\",\"elementid\":\"beaf5fec-3a4d-42ab-9831-e61d3b6c0d67\",\"modelid\":\"bb4d8859-4434-4341-ad26-fbfbffa26bbd\"}];\n",
       "            \n",
       "            Bokeh.embed.embed_items(docs_json, render_items);\n",
       "          };\n",
       "          if (document.readyState != \"loading\") fn();\n",
       "          else document.addEventListener(\"DOMContentLoaded\", fn);\n",
       "        })();\n",
       "      },\n",
       "      function(Bokeh) {\n",
       "      }\n",
       "    ];\n",
       "  \n",
       "    function run_inline_js() {\n",
       "      \n",
       "      if ((window.Bokeh !== undefined) || (force === true)) {\n",
       "        for (var i = 0; i < inline_js.length; i++) {\n",
       "          inline_js[i](window.Bokeh);\n",
       "        }if (force === true) {\n",
       "          display_loaded();\n",
       "        }} else if (Date.now() < window._bokeh_timeout) {\n",
       "        setTimeout(run_inline_js, 100);\n",
       "      } else if (!window._bokeh_failed_load) {\n",
       "        console.log(\"Bokeh: BokehJS failed to load within specified timeout.\");\n",
       "        window._bokeh_failed_load = true;\n",
       "      } else if (force !== true) {\n",
       "        var cell = $(document.getElementById(\"beaf5fec-3a4d-42ab-9831-e61d3b6c0d67\")).parents('.cell').data().cell;\n",
       "        cell.output_area.append_execute_result(NB_LOAD_WARNING)\n",
       "      }\n",
       "  \n",
       "    }\n",
       "  \n",
       "    if (window._bokeh_is_loading === 0) {\n",
       "      console.log(\"Bokeh: BokehJS loaded, going straight to plotting\");\n",
       "      run_inline_js();\n",
       "    } else {\n",
       "      load_libs(js_urls, function() {\n",
       "        console.log(\"Bokeh: BokehJS plotting callback run at\", now());\n",
       "        run_inline_js();\n",
       "      });\n",
       "    }\n",
       "  }(this));\n",
       "</script>"
      ]
     },
     "metadata": {},
     "output_type": "display_data"
    }
   ],
   "source": [
    "p = Bar(data, label='OutcomeType', values = 'Intact', agg='count', stack='Intact',\n",
    "        title=\"Outcomes by Intact Status\", legend='top_right')\n",
    "show(p)"
   ]
  },
  {
   "cell_type": "code",
   "execution_count": 11,
   "metadata": {
    "scrolled": false
   },
   "outputs": [
    {
     "data": {
      "text/plain": [
       "<matplotlib.axes._subplots.AxesSubplot at 0x11c4d3990>"
      ]
     },
     "execution_count": 11,
     "metadata": {},
     "output_type": "execute_result"
    },
    {
     "data": {
      "image/png": "[encoded data removed]",
      "text/plain": [
       "<matplotlib.figure.Figure at 0x11c4d3350>"
      ]
     },
     "metadata": {},
     "output_type": "display_data"
    }
   ],
   "source": [
    "#Sex\n",
    "intact_type = data['Female'].value_counts() \n",
    "intact_type.plot(kind='bar',color='#34ABD8',rot=0)"
   ]
  },
  {
   "cell_type": "code",
   "execution_count": 12,
   "metadata": {},
   "outputs": [
    {
     "data": {
      "text/html": [
       "\n",
       "\n",
       "    <div class=\"bk-root\">\n",
       "        <div class=\"bk-plotdiv\" id=\"ffa4ac6b-bfa4-4d58-abbc-3b1313988bb9\"></div>\n",
       "    </div>\n",
       "<script type=\"text/javascript\">\n",
       "  \n",
       "  (function(global) {\n",
       "    function now() {\n",
       "      return new Date();\n",
       "    }\n",
       "  \n",
       "    var force = false;\n",
       "  \n",
       "    if (typeof (window._bokeh_onload_callbacks) === \"undefined\" || force === true) {\n",
       "      window._bokeh_onload_callbacks = [];\n",
       "      window._bokeh_is_loading = undefined;\n",
       "    }\n",
       "  \n",
       "  \n",
       "    \n",
       "    if (typeof (window._bokeh_timeout) === \"undefined\" || force === true) {\n",
       "      window._bokeh_timeout = Date.now() + 0;\n",
       "      window._bokeh_failed_load = false;\n",
       "    }\n",
       "  \n",
       "    var NB_LOAD_WARNING = {'data': {'text/html':\n",
       "       \"<div style='background-color: #fdd'>\\n\"+\n",
       "       \"<p>\\n\"+\n",
       "       \"BokehJS does not appear to have successfully loaded. If loading BokehJS from CDN, this \\n\"+\n",
       "       \"may be due to a slow or bad network connection. Possible fixes:\\n\"+\n",
       "       \"</p>\\n\"+\n",
       "       \"<ul>\\n\"+\n",
       "       \"<li>re-rerun `output_notebook()` to attempt to load from CDN again, or</li>\\n\"+\n",
       "       \"<li>use INLINE resources instead, as so:</li>\\n\"+\n",
       "       \"</ul>\\n\"+\n",
       "       \"<code>\\n\"+\n",
       "       \"from bokeh.resources import INLINE\\n\"+\n",
       "       \"output_notebook(resources=INLINE)\\n\"+\n",
       "       \"</code>\\n\"+\n",
       "       \"</div>\"}};\n",
       "  \n",
       "    function display_loaded() {\n",
       "      if (window.Bokeh !== undefined) {\n",
       "        var el = document.getElementById(\"ffa4ac6b-bfa4-4d58-abbc-3b1313988bb9\");\n",
       "        el.textContent = \"BokehJS \" + Bokeh.version + \" successfully loaded.\";\n",
       "      } else if (Date.now() < window._bokeh_timeout) {\n",
       "        setTimeout(display_loaded, 100)\n",
       "      }\n",
       "    }\n",
       "  \n",
       "    function run_callbacks() {\n",
       "      window._bokeh_onload_callbacks.forEach(function(callback) { callback() });\n",
       "      delete window._bokeh_onload_callbacks\n",
       "      console.info(\"Bokeh: all callbacks have finished\");\n",
       "    }\n",
       "  \n",
       "    function load_libs(js_urls, callback) {\n",
       "      window._bokeh_onload_callbacks.push(callback);\n",
       "      if (window._bokeh_is_loading > 0) {\n",
       "        console.log(\"Bokeh: BokehJS is being loaded, scheduling callback at\", now());\n",
       "        return null;\n",
       "      }\n",
       "      if (js_urls == null || js_urls.length === 0) {\n",
       "        run_callbacks();\n",
       "        return null;\n",
       "      }\n",
       "      console.log(\"Bokeh: BokehJS not loaded, scheduling load and callback at\", now());\n",
       "      window._bokeh_is_loading = js_urls.length;\n",
       "      for (var i = 0; i < js_urls.length; i++) {\n",
       "        var url = js_urls[i];\n",
       "        var s = document.createElement('script');\n",
       "        s.src = url;\n",
       "        s.async = false;\n",
       "        s.onreadystatechange = s.onload = function() {\n",
       "          window._bokeh_is_loading--;\n",
       "          if (window._bokeh_is_loading === 0) {\n",
       "            console.log(\"Bokeh: all BokehJS libraries loaded\");\n",
       "            run_callbacks()\n",
       "          }\n",
       "        };\n",
       "        s.onerror = function() {\n",
       "          console.warn(\"failed to load library \" + url);\n",
       "        };\n",
       "        console.log(\"Bokeh: injecting script tag for BokehJS library: \", url);\n",
       "        document.getElementsByTagName(\"head\")[0].appendChild(s);\n",
       "      }\n",
       "    };var element = document.getElementById(\"ffa4ac6b-bfa4-4d58-abbc-3b1313988bb9\");\n",
       "    if (element == null) {\n",
       "      console.log(\"Bokeh: ERROR: autoload.js configured with elementid 'ffa4ac6b-bfa4-4d58-abbc-3b1313988bb9' but no matching script tag was found. \")\n",
       "      return false;\n",
       "    }\n",
       "  \n",
       "    var js_urls = [];\n",
       "  \n",
       "    var inline_js = [\n",
       "      function(Bokeh) {\n",
       "        (function() {\n",
       "          var fn = function() {\n",
       "            var docs_json = {\"a59e0e96-edda-47a3-ada9-86385a30b77c\":{\"roots\":{\"references\":[{\"attributes\":{\"fill_alpha\":{\"field\":\"fill_alpha\"},\"fill_color\":{\"field\":\"color\"},\"height\":{\"field\":\"height\",\"units\":\"data\"},\"line_color\":{\"field\":\"line_color\"},\"width\":{\"field\":\"width\",\"units\":\"data\"},\"x\":{\"field\":\"x\"},\"y\":{\"field\":\"y\"}},\"id\":\"ad74ce54-e04b-47f1-8751-5c1197f7e573\",\"type\":\"Rect\"},{\"attributes\":{\"data_source\":{\"id\":\"0f54d1e3-357f-4153-b790-554f847e136b\",\"type\":\"ColumnDataSource\"},\"glyph\":{\"id\":\"e327a71c-e460-4b0f-aacd-6752eb3de193\",\"type\":\"Rect\"},\"hover_glyph\":null,\"muted_glyph\":null},\"id\":\"30abfce1-9737-4e73-a0fa-c4195695d063\",\"type\":\"GlyphRenderer\"},{\"attributes\":{\"plot\":{\"id\":\"8a8bf8cb-1e4b-4393-a1ea-bdef3a5d0412\",\"subtype\":\"Chart\",\"type\":\"Plot\"}},\"id\":\"094cd99a-bba7-44e4-a368-fc630d2dabfe\",\"type\":\"SaveTool\"},{\"attributes\":{\"data_source\":{\"id\":\"aab88499-023e-43ac-b615-92d1a67cacef\",\"type\":\"ColumnDataSource\"},\"glyph\":{\"id\":\"56a58296-5595-4f06-b30f-98ad3ecc6fec\",\"type\":\"Rect\"},\"hover_glyph\":null,\"muted_glyph\":null},\"id\":\"b631e12e-0aa8-4c35-ae81-90190fcd424e\",\"type\":\"GlyphRenderer\"},{\"attributes\":{\"callback\":null,\"column_names\":[\"line_color\",\"line_alpha\",\"color\",\"fill_alpha\",\"height\",\"width\",\"y\",\"x\",\"label\"],\"data\":{\"Female\":[\"Female\"],\"OutcomeType\":[\"Transfer\"],\"chart_index\":[{\"Female\":\"Female\",\"OutcomeType\":\"Transfer\"}],\"color\":[\"#f22c40\"],\"fill_alpha\":[0.8],\"height\":[4186.0],\"label\":[{\"Female\":\"Female\",\"OutcomeType\":\"Transfer\"}],\"line_alpha\":[1.0],\"line_color\":[\"white\"],\"width\":[0.8],\"x\":[\"Transfer\"],\"y\":[6374.0]}},\"id\":\"6c94632d-b4da-400d-ba5a-7d1df6642e8b\",\"type\":\"ColumnDataSource\"},{\"attributes\":{\"fill_alpha\":{\"field\":\"fill_alpha\"},\"fill_color\":{\"field\":\"color\"},\"height\":{\"field\":\"height\",\"units\":\"data\"},\"line_color\":{\"field\":\"line_color\"},\"width\":{\"field\":\"width\",\"units\":\"data\"},\"x\":{\"field\":\"x\"},\"y\":{\"field\":\"y\"}},\"id\":\"9e1e2868-ef93-4375-b0a3-42738a239f86\",\"type\":\"Rect\"},{\"attributes\":{\"data_source\":{\"id\":\"3c08ed8a-a84b-405c-84a1-2c053ff0ccd9\",\"type\":\"ColumnDataSource\"},\"glyph\":{\"id\":\"e676bf79-4d9d-4d04-a86a-a92f41754b73\",\"type\":\"Rect\"},\"hover_glyph\":null,\"muted_glyph\":null},\"id\":\"7ee9fcb4-3423-4f12-b4a0-60e5e1b0622e\",\"type\":\"GlyphRenderer\"},{\"attributes\":{},\"id\":\"f1c231f3-c957-4859-8194-3b2a2b18eaa3\",\"type\":\"ToolEvents\"},{\"attributes\":{\"fill_alpha\":{\"field\":\"fill_alpha\"},\"fill_color\":{\"field\":\"color\"},\"height\":{\"field\":\"height\",\"units\":\"data\"},\"line_color\":{\"field\":\"line_color\"},\"width\":{\"field\":\"width\",\"units\":\"data\"},\"x\":{\"field\":\"x\"},\"y\":{\"field\":\"y\"}},\"id\":\"e676bf79-4d9d-4d04-a86a-a92f41754b73\",\"type\":\"Rect\"},{\"attributes\":{},\"id\":\"ab8b8c11-7e85-4ca9-a4a5-9d2c9ac05fd0\",\"type\":\"CategoricalTicker\"},{\"attributes\":{\"callback\":null,\"column_names\":[\"line_color\",\"line_alpha\",\"color\",\"fill_alpha\",\"height\",\"width\",\"y\",\"x\",\"label\"],\"data\":{\"Female\":[\"Female\"],\"OutcomeType\":[\"Died\"],\"chart_index\":[{\"Female\":\"Female\",\"OutcomeType\":\"Died\"}],\"color\":[\"#f22c40\"],\"fill_alpha\":[0.8],\"height\":[74.0],\"label\":[{\"Female\":\"Female\",\"OutcomeType\":\"Died\"}],\"line_alpha\":[1.0],\"line_color\":[\"white\"],\"width\":[0.8],\"x\":[\"Died\"],\"y\":[160.0]}},\"id\":\"0f54d1e3-357f-4153-b790-554f847e136b\",\"type\":\"ColumnDataSource\"},{\"attributes\":{},\"id\":\"8d256cbb-8f2d-4b4f-9a52-2532af7f83c6\",\"type\":\"BasicTicker\"},{\"attributes\":{\"plot\":null,\"text\":\"Outcomes by Female\"},\"id\":\"72a59949-60bc-49d0-8694-dd52d18827ff\",\"type\":\"Title\"},{\"attributes\":{\"callback\":null,\"end\":11307.45},\"id\":\"7ded42f3-c0f1-4c23-85af-324449361583\",\"type\":\"Range1d\"},{\"attributes\":{\"items\":[{\"id\":\"7d622f13-9231-4cd1-9bdd-1ef6eb13b512\",\"type\":\"LegendItem\"},{\"id\":\"c339e970-0579-4c8a-acd9-3d52609b5d9d\",\"type\":\"LegendItem\"},{\"id\":\"fd4664b8-c174-4331-b639-d10e07b9b23a\",\"type\":\"LegendItem\"}],\"plot\":{\"id\":\"8a8bf8cb-1e4b-4393-a1ea-bdef3a5d0412\",\"subtype\":\"Chart\",\"type\":\"Plot\"}},\"id\":\"83ecc717-91d0-41fc-b8a7-2ae7459a4e9f\",\"type\":\"Legend\"},{\"attributes\":{\"callback\":null,\"column_names\":[\"line_color\",\"line_alpha\",\"color\",\"fill_alpha\",\"height\",\"width\",\"y\",\"x\",\"label\"],\"data\":{\"Female\":[\"Male\"],\"OutcomeType\":[\"Died\"],\"chart_index\":[{\"Female\":\"Male\",\"OutcomeType\":\"Died\"}],\"color\":[\"#5ab738\"],\"fill_alpha\":[0.8],\"height\":[98.0],\"label\":[{\"Female\":\"Male\",\"OutcomeType\":\"Died\"}],\"line_alpha\":[1.0],\"line_color\":[\"white\"],\"width\":[0.8],\"x\":[\"Died\"],\"y\":[49.0]}},\"id\":\"3c08ed8a-a84b-405c-84a1-2c053ff0ccd9\",\"type\":\"ColumnDataSource\"},{\"attributes\":{\"data_source\":{\"id\":\"93802e97-e12f-4cf9-aacb-6df36e0e04e2\",\"type\":\"ColumnDataSource\"},\"glyph\":{\"id\":\"3340f567-584c-4f50-aafd-866f5d1bde76\",\"type\":\"Rect\"},\"hover_glyph\":null,\"muted_glyph\":null},\"id\":\"3beb2e04-fbbb-4f70-bec2-533aba14bcba\",\"type\":\"GlyphRenderer\"},{\"attributes\":{\"callback\":null,\"column_names\":[\"line_color\",\"line_alpha\",\"color\",\"fill_alpha\",\"height\",\"width\",\"y\",\"x\",\"label\"],\"data\":{\"Female\":[\"Female\"],\"OutcomeType\":[\"Adoption\"],\"chart_index\":[{\"Female\":\"Female\",\"OutcomeType\":\"Adoption\"}],\"color\":[\"#f22c40\"],\"fill_alpha\":[0.8],\"height\":[5389.0],\"label\":[{\"Female\":\"Female\",\"OutcomeType\":\"Adoption\"}],\"line_alpha\":[1.0],\"line_color\":[\"white\"],\"width\":[0.8],\"x\":[\"Adoption\"],\"y\":[8074.5]}},\"id\":\"a9d7d589-ebbb-49aa-a591-3d02a7ebe8a1\",\"type\":\"ColumnDataSource\"},{\"attributes\":{\"callback\":null,\"factors\":[\"Adoption\",\"Died\",\"Euthanasia\",\"Return_to_owner\",\"Transfer\"]},\"id\":\"d8ed9519-4c03-4ed6-b0fa-54b4457d1ba0\",\"type\":\"FactorRange\"},{\"attributes\":{\"data_source\":{\"id\":\"21240735-7a07-40ee-ba68-863e39b88e94\",\"type\":\"ColumnDataSource\"},\"glyph\":{\"id\":\"df4dab83-b377-4b5f-8504-c35ac58c6ffd\",\"type\":\"Rect\"},\"hover_glyph\":null,\"muted_glyph\":null},\"id\":\"31788940-e16a-43d8-9845-9a18e43059cb\",\"type\":\"GlyphRenderer\"},{\"attributes\":{\"overlay\":{\"id\":\"e2c5e711-2518-4e34-b3bd-6762ca9c7da8\",\"type\":\"BoxAnnotation\"},\"plot\":{\"id\":\"8a8bf8cb-1e4b-4393-a1ea-bdef3a5d0412\",\"subtype\":\"Chart\",\"type\":\"Plot\"}},\"id\":\"2f42e25e-0a1e-4b2e-bf1a-15c744065992\",\"type\":\"BoxZoomTool\"},{\"attributes\":{\"fill_alpha\":{\"field\":\"fill_alpha\"},\"fill_color\":{\"field\":\"color\"},\"height\":{\"field\":\"height\",\"units\":\"data\"},\"line_color\":{\"field\":\"line_color\"},\"width\":{\"field\":\"width\",\"units\":\"data\"},\"x\":{\"field\":\"x\"},\"y\":{\"field\":\"y\"}},\"id\":\"df4dab83-b377-4b5f-8504-c35ac58c6ffd\",\"type\":\"Rect\"},{\"attributes\":{\"callback\":null,\"column_names\":[\"line_color\",\"line_alpha\",\"color\",\"fill_alpha\",\"height\",\"width\",\"y\",\"x\",\"label\"],\"data\":{\"Female\":[\"Unknown\"],\"OutcomeType\":[\"Return_to_owner\"],\"chart_index\":[{\"Female\":\"Unknown\",\"OutcomeType\":\"Return_to_owner\"}],\"color\":[\"#407ee7\"],\"fill_alpha\":[0.8],\"height\":[12.0],\"label\":[{\"Female\":\"Unknown\",\"OutcomeType\":\"Return_to_owner\"}],\"line_alpha\":[1.0],\"line_color\":[\"white\"],\"width\":[0.8],\"x\":[\"Return_to_owner\"],\"y\":[4780.0]}},\"id\":\"93802e97-e12f-4cf9-aacb-6df36e0e04e2\",\"type\":\"ColumnDataSource\"},{\"attributes\":{\"plot\":{\"id\":\"8a8bf8cb-1e4b-4393-a1ea-bdef3a5d0412\",\"subtype\":\"Chart\",\"type\":\"Plot\"}},\"id\":\"e71feced-a3cc-4ea0-9447-a92f23d67376\",\"type\":\"WheelZoomTool\"},{\"attributes\":{\"fill_alpha\":{\"field\":\"fill_alpha\"},\"fill_color\":{\"field\":\"color\"},\"height\":{\"field\":\"height\",\"units\":\"data\"},\"line_color\":{\"field\":\"line_color\"},\"width\":{\"field\":\"width\",\"units\":\"data\"},\"x\":{\"field\":\"x\"},\"y\":{\"field\":\"y\"}},\"id\":\"aade3ba9-ddee-4b14-a74b-a839431faaf6\",\"type\":\"Rect\"},{\"attributes\":{},\"id\":\"9d647c82-071c-4dd1-b91b-f506c748804f\",\"type\":\"BasicTickFormatter\"},{\"attributes\":{\"label\":{\"value\":\"Male\"},\"renderers\":[{\"id\":\"98f24a8b-7a8e-4659-a012-dc6f4c561c79\",\"type\":\"GlyphRenderer\"}]},\"id\":\"7d622f13-9231-4cd1-9bdd-1ef6eb13b512\",\"type\":\"LegendItem\"},{\"attributes\":{\"axis_label\":\"Count( Female )\",\"formatter\":{\"id\":\"9d647c82-071c-4dd1-b91b-f506c748804f\",\"type\":\"BasicTickFormatter\"},\"plot\":{\"id\":\"8a8bf8cb-1e4b-4393-a1ea-bdef3a5d0412\",\"subtype\":\"Chart\",\"type\":\"Plot\"},\"ticker\":{\"id\":\"8d256cbb-8f2d-4b4f-9a52-2532af7f83c6\",\"type\":\"BasicTicker\"}},\"id\":\"28f5787d-34df-4633-addb-7ea77d6448e9\",\"type\":\"LinearAxis\"},{\"attributes\":{\"active_drag\":\"auto\",\"active_scroll\":\"auto\",\"active_tap\":\"auto\",\"tools\":[{\"id\":\"240168cc-63d5-46fc-af47-7f5be95cf103\",\"type\":\"PanTool\"},{\"id\":\"e71feced-a3cc-4ea0-9447-a92f23d67376\",\"type\":\"WheelZoomTool\"},{\"id\":\"2f42e25e-0a1e-4b2e-bf1a-15c744065992\",\"type\":\"BoxZoomTool\"},{\"id\":\"094cd99a-bba7-44e4-a368-fc630d2dabfe\",\"type\":\"SaveTool\"},{\"id\":\"0f8b3ebc-17d8-4db3-94a4-871f030d6f0e\",\"type\":\"ResetTool\"},{\"id\":\"092ccd57-8939-4a41-bb68-f3bace8ff025\",\"type\":\"HelpTool\"}]},\"id\":\"efcba5e3-00b5-4c42-bca2-895d4fc4850f\",\"type\":\"Toolbar\"},{\"attributes\":{\"data_source\":{\"id\":\"c9b7f683-0cac-4c44-8c9e-7215b17cea19\",\"type\":\"ColumnDataSource\"},\"glyph\":{\"id\":\"ff3e78c5-2338-4149-a927-ff4a7bc0a01a\",\"type\":\"Rect\"},\"hover_glyph\":null,\"muted_glyph\":null},\"id\":\"cce53f55-3025-4420-9629-e2a231d007d7\",\"type\":\"GlyphRenderer\"},{\"attributes\":{\"fill_alpha\":{\"field\":\"fill_alpha\"},\"fill_color\":{\"field\":\"color\"},\"height\":{\"field\":\"height\",\"units\":\"data\"},\"line_color\":{\"field\":\"line_color\"},\"width\":{\"field\":\"width\",\"units\":\"data\"},\"x\":{\"field\":\"x\"},\"y\":{\"field\":\"y\"}},\"id\":\"af66b46b-7bac-4b34-b655-a226e6e11ec8\",\"type\":\"Rect\"},{\"attributes\":{\"dimension\":1,\"plot\":{\"id\":\"8a8bf8cb-1e4b-4393-a1ea-bdef3a5d0412\",\"subtype\":\"Chart\",\"type\":\"Plot\"},\"ticker\":{\"id\":\"8d256cbb-8f2d-4b4f-9a52-2532af7f83c6\",\"type\":\"BasicTicker\"}},\"id\":\"d7f3312c-54d3-46f6-89ae-33d3f0f1af10\",\"type\":\"Grid\"},{\"attributes\":{\"callback\":null,\"column_names\":[\"line_color\",\"line_alpha\",\"color\",\"fill_alpha\",\"height\",\"width\",\"y\",\"x\",\"label\"],\"data\":{\"Female\":[\"Female\"],\"OutcomeType\":[\"Euthanasia\"],\"chart_index\":[{\"Female\":\"Female\",\"OutcomeType\":\"Euthanasia\"}],\"color\":[\"#f22c40\"],\"fill_alpha\":[0.8],\"height\":[633.0],\"label\":[{\"Female\":\"Female\",\"OutcomeType\":\"Euthanasia\"}],\"line_alpha\":[1.0],\"line_color\":[\"white\"],\"width\":[0.8],\"x\":[\"Euthanasia\"],\"y\":[316.5]}},\"id\":\"21240735-7a07-40ee-ba68-863e39b88e94\",\"type\":\"ColumnDataSource\"},{\"attributes\":{\"fill_alpha\":{\"field\":\"fill_alpha\"},\"fill_color\":{\"field\":\"color\"},\"height\":{\"field\":\"height\",\"units\":\"data\"},\"line_color\":{\"field\":\"line_color\"},\"width\":{\"field\":\"width\",\"units\":\"data\"},\"x\":{\"field\":\"x\"},\"y\":{\"field\":\"y\"}},\"id\":\"c8a5487b-e340-4f90-a3cf-38ddd755f595\",\"type\":\"Rect\"},{\"attributes\":{\"callback\":null,\"column_names\":[\"line_color\",\"line_alpha\",\"color\",\"fill_alpha\",\"height\",\"width\",\"y\",\"x\",\"label\"],\"data\":{\"Female\":[\"Unknown\"],\"OutcomeType\":[\"Transfer\"],\"chart_index\":[{\"Female\":\"Unknown\",\"OutcomeType\":\"Transfer\"}],\"color\":[\"#407ee7\"],\"fill_alpha\":[0.8],\"height\":[955.0],\"label\":[{\"Female\":\"Unknown\",\"OutcomeType\":\"Transfer\"}],\"line_alpha\":[1.0],\"line_color\":[\"white\"],\"width\":[0.8],\"x\":[\"Transfer\"],\"y\":[8944.5]}},\"id\":\"c9b7f683-0cac-4c44-8c9e-7215b17cea19\",\"type\":\"ColumnDataSource\"},{\"attributes\":{\"callback\":null,\"column_names\":[\"line_color\",\"line_alpha\",\"color\",\"fill_alpha\",\"height\",\"width\",\"y\",\"x\",\"label\"],\"data\":{\"Female\":[\"Male\"],\"OutcomeType\":[\"Transfer\"],\"chart_index\":[{\"Female\":\"Male\",\"OutcomeType\":\"Transfer\"}],\"color\":[\"#5ab738\"],\"fill_alpha\":[0.8],\"height\":[4281.0],\"label\":[{\"Female\":\"Male\",\"OutcomeType\":\"Transfer\"}],\"line_alpha\":[1.0],\"line_color\":[\"white\"],\"width\":[0.8],\"x\":[\"Transfer\"],\"y\":[2140.5]}},\"id\":\"91045f01-0f13-45de-973f-2dada9b9bb40\",\"type\":\"ColumnDataSource\"},{\"attributes\":{\"fill_alpha\":{\"field\":\"fill_alpha\"},\"fill_color\":{\"field\":\"color\"},\"height\":{\"field\":\"height\",\"units\":\"data\"},\"line_color\":{\"field\":\"line_color\"},\"width\":{\"field\":\"width\",\"units\":\"data\"},\"x\":{\"field\":\"x\"},\"y\":{\"field\":\"y\"}},\"id\":\"aa88c111-0553-4010-9c5b-2fa117425d3c\",\"type\":\"Rect\"},{\"attributes\":{\"callback\":null,\"column_names\":[\"line_color\",\"line_alpha\",\"color\",\"fill_alpha\",\"height\",\"width\",\"y\",\"x\",\"label\"],\"data\":{\"Female\":[\"Unknown\"],\"OutcomeType\":[\"Died\"],\"chart_index\":[{\"Female\":\"Unknown\",\"OutcomeType\":\"Died\"}],\"color\":[\"#407ee7\"],\"fill_alpha\":[0.8],\"height\":[25.0],\"label\":[{\"Female\":\"Unknown\",\"OutcomeType\":\"Died\"}],\"line_alpha\":[1.0],\"line_color\":[\"white\"],\"width\":[0.8],\"x\":[\"Died\"],\"y\":[110.5]}},\"id\":\"aab88499-023e-43ac-b615-92d1a67cacef\",\"type\":\"ColumnDataSource\"},{\"attributes\":{\"label\":{\"value\":\"Female\"},\"renderers\":[{\"id\":\"31788940-e16a-43d8-9845-9a18e43059cb\",\"type\":\"GlyphRenderer\"}]},\"id\":\"c339e970-0579-4c8a-acd9-3d52609b5d9d\",\"type\":\"LegendItem\"},{\"attributes\":{\"callback\":null,\"column_names\":[\"line_color\",\"line_alpha\",\"color\",\"fill_alpha\",\"height\",\"width\",\"y\",\"x\",\"label\"],\"data\":{\"Female\":[\"Male\"],\"OutcomeType\":[\"Euthanasia\"],\"chart_index\":[{\"Female\":\"Male\",\"OutcomeType\":\"Euthanasia\"}],\"color\":[\"#5ab738\"],\"fill_alpha\":[0.8],\"height\":[821.0],\"label\":[{\"Female\":\"Male\",\"OutcomeType\":\"Euthanasia\"}],\"line_alpha\":[1.0],\"line_color\":[\"white\"],\"width\":[0.8],\"x\":[\"Euthanasia\"],\"y\":[1043.5]}},\"id\":\"73d0c372-3d87-4b50-ab1c-f8c911dd2216\",\"type\":\"ColumnDataSource\"},{\"attributes\":{\"data_source\":{\"id\":\"dbd7cc50-a9a8-4b76-969c-ba43fd4d9c75\",\"type\":\"ColumnDataSource\"},\"glyph\":{\"id\":\"aa88c111-0553-4010-9c5b-2fa117425d3c\",\"type\":\"Rect\"},\"hover_glyph\":null,\"muted_glyph\":null},\"id\":\"2ac26ee0-65d0-4d03-862f-c85dba62cce5\",\"type\":\"GlyphRenderer\"},{\"attributes\":{\"axis_label\":\"Outcometype\",\"formatter\":{\"id\":\"04feb524-e394-49d5-8884-9a0a3cf63516\",\"type\":\"CategoricalTickFormatter\"},\"major_label_orientation\":0.7853981633974483,\"plot\":{\"id\":\"8a8bf8cb-1e4b-4393-a1ea-bdef3a5d0412\",\"subtype\":\"Chart\",\"type\":\"Plot\"},\"ticker\":{\"id\":\"ab8b8c11-7e85-4ca9-a4a5-9d2c9ac05fd0\",\"type\":\"CategoricalTicker\"}},\"id\":\"172dd69c-1bdb-4e84-a42a-d25c0fcc992a\",\"type\":\"CategoricalAxis\"},{\"attributes\":{\"plot\":{\"id\":\"8a8bf8cb-1e4b-4393-a1ea-bdef3a5d0412\",\"subtype\":\"Chart\",\"type\":\"Plot\"}},\"id\":\"0f8b3ebc-17d8-4db3-94a4-871f030d6f0e\",\"type\":\"ResetTool\"},{\"attributes\":{\"bottom_units\":\"screen\",\"fill_alpha\":{\"value\":0.5},\"fill_color\":{\"value\":\"lightgrey\"},\"left_units\":\"screen\",\"level\":\"overlay\",\"line_alpha\":{\"value\":1.0},\"line_color\":{\"value\":\"black\"},\"line_dash\":[4,4],\"line_width\":{\"value\":2},\"plot\":null,\"render_mode\":\"css\",\"right_units\":\"screen\",\"top_units\":\"screen\"},\"id\":\"e2c5e711-2518-4e34-b3bd-6762ca9c7da8\",\"type\":\"BoxAnnotation\"},{\"attributes\":{\"fill_alpha\":{\"field\":\"fill_alpha\"},\"fill_color\":{\"field\":\"color\"},\"height\":{\"field\":\"height\",\"units\":\"data\"},\"line_color\":{\"field\":\"line_color\"},\"width\":{\"field\":\"width\",\"units\":\"data\"},\"x\":{\"field\":\"x\"},\"y\":{\"field\":\"y\"}},\"id\":\"2002b3f3-8351-4de1-9914-c7d8e74570db\",\"type\":\"Rect\"},{\"attributes\":{},\"id\":\"04feb524-e394-49d5-8884-9a0a3cf63516\",\"type\":\"CategoricalTickFormatter\"},{\"attributes\":{\"callback\":null,\"column_names\":[\"line_color\",\"line_alpha\",\"color\",\"fill_alpha\",\"height\",\"width\",\"y\",\"x\",\"label\"],\"data\":{\"Female\":[\"Female\"],\"OutcomeType\":[\"Return_to_owner\"],\"chart_index\":[{\"Female\":\"Female\",\"OutcomeType\":\"Return_to_owner\"}],\"color\":[\"#f22c40\"],\"fill_alpha\":[0.8],\"height\":[2049.0],\"label\":[{\"Female\":\"Female\",\"OutcomeType\":\"Return_to_owner\"}],\"line_alpha\":[1.0],\"line_color\":[\"white\"],\"width\":[0.8],\"x\":[\"Return_to_owner\"],\"y\":[3749.5]}},\"id\":\"bb581921-8bbf-4e7d-bcf8-a38bbe5d0379\",\"type\":\"ColumnDataSource\"},{\"attributes\":{\"plot\":{\"id\":\"8a8bf8cb-1e4b-4393-a1ea-bdef3a5d0412\",\"subtype\":\"Chart\",\"type\":\"Plot\"}},\"id\":\"240168cc-63d5-46fc-af47-7f5be95cf103\",\"type\":\"PanTool\"},{\"attributes\":{\"data_source\":{\"id\":\"73d0c372-3d87-4b50-ab1c-f8c911dd2216\",\"type\":\"ColumnDataSource\"},\"glyph\":{\"id\":\"2002b3f3-8351-4de1-9914-c7d8e74570db\",\"type\":\"Rect\"},\"hover_glyph\":null,\"muted_glyph\":null},\"id\":\"06b6ad7c-a25b-483b-b6c3-c90d3fb15528\",\"type\":\"GlyphRenderer\"},{\"attributes\":{\"fill_alpha\":{\"field\":\"fill_alpha\"},\"fill_color\":{\"field\":\"color\"},\"height\":{\"field\":\"height\",\"units\":\"data\"},\"line_color\":{\"field\":\"line_color\"},\"width\":{\"field\":\"width\",\"units\":\"data\"},\"x\":{\"field\":\"x\"},\"y\":{\"field\":\"y\"}},\"id\":\"56a58296-5595-4f06-b30f-98ad3ecc6fec\",\"type\":\"Rect\"},{\"attributes\":{\"data_source\":{\"id\":\"bb581921-8bbf-4e7d-bcf8-a38bbe5d0379\",\"type\":\"ColumnDataSource\"},\"glyph\":{\"id\":\"9e1e2868-ef93-4375-b0a3-42738a239f86\",\"type\":\"Rect\"},\"hover_glyph\":null,\"muted_glyph\":null},\"id\":\"a4f6cbf4-c808-4562-90f4-0dbd0ee489ca\",\"type\":\"GlyphRenderer\"},{\"attributes\":{\"callback\":null,\"column_names\":[\"line_color\",\"line_alpha\",\"color\",\"fill_alpha\",\"height\",\"width\",\"y\",\"x\",\"label\"],\"data\":{\"Female\":[\"Male\"],\"OutcomeType\":[\"Return_to_owner\"],\"chart_index\":[{\"Female\":\"Male\",\"OutcomeType\":\"Return_to_owner\"}],\"color\":[\"#5ab738\"],\"fill_alpha\":[0.8],\"height\":[2725.0],\"label\":[{\"Female\":\"Male\",\"OutcomeType\":\"Return_to_owner\"}],\"line_alpha\":[1.0],\"line_color\":[\"white\"],\"width\":[0.8],\"x\":[\"Return_to_owner\"],\"y\":[1362.5]}},\"id\":\"e4a7f49b-548c-4e72-bd27-a45c71d10c95\",\"type\":\"ColumnDataSource\"},{\"attributes\":{\"fill_alpha\":{\"field\":\"fill_alpha\"},\"fill_color\":{\"field\":\"color\"},\"height\":{\"field\":\"height\",\"units\":\"data\"},\"line_color\":{\"field\":\"line_color\"},\"width\":{\"field\":\"width\",\"units\":\"data\"},\"x\":{\"field\":\"x\"},\"y\":{\"field\":\"y\"}},\"id\":\"25b44b34-7211-47d3-ae56-6c60a90d9905\",\"type\":\"Rect\"},{\"attributes\":{\"callback\":null,\"column_names\":[\"line_color\",\"line_alpha\",\"color\",\"fill_alpha\",\"height\",\"width\",\"y\",\"x\",\"label\"],\"data\":{\"Female\":[\"Unknown\"],\"OutcomeType\":[\"Euthanasia\"],\"chart_index\":[{\"Female\":\"Unknown\",\"OutcomeType\":\"Euthanasia\"}],\"color\":[\"#407ee7\"],\"fill_alpha\":[0.8],\"height\":[101.0],\"label\":[{\"Female\":\"Unknown\",\"OutcomeType\":\"Euthanasia\"}],\"line_alpha\":[1.0],\"line_color\":[\"white\"],\"width\":[0.8],\"x\":[\"Euthanasia\"],\"y\":[1504.5]}},\"id\":\"dbd7cc50-a9a8-4b76-969c-ba43fd4d9c75\",\"type\":\"ColumnDataSource\"},{\"attributes\":{\"label\":{\"value\":\"Unknown\"},\"renderers\":[{\"id\":\"cce53f55-3025-4420-9629-e2a231d007d7\",\"type\":\"GlyphRenderer\"}]},\"id\":\"fd4664b8-c174-4331-b639-d10e07b9b23a\",\"type\":\"LegendItem\"},{\"attributes\":{\"data_source\":{\"id\":\"11c52074-d5b1-4082-9732-3e4615a4269d\",\"type\":\"ColumnDataSource\"},\"glyph\":{\"id\":\"aade3ba9-ddee-4b14-a74b-a839431faaf6\",\"type\":\"Rect\"},\"hover_glyph\":null,\"muted_glyph\":null},\"id\":\"3c5eada7-7849-428d-a340-2165cbb5fb7e\",\"type\":\"GlyphRenderer\"},{\"attributes\":{\"data_source\":{\"id\":\"a9d7d589-ebbb-49aa-a591-3d02a7ebe8a1\",\"type\":\"ColumnDataSource\"},\"glyph\":{\"id\":\"ad74ce54-e04b-47f1-8751-5c1197f7e573\",\"type\":\"Rect\"},\"hover_glyph\":null,\"muted_glyph\":null},\"id\":\"27dcbdc4-2b51-43c3-bd47-84681a662f01\",\"type\":\"GlyphRenderer\"},{\"attributes\":{\"plot\":{\"id\":\"8a8bf8cb-1e4b-4393-a1ea-bdef3a5d0412\",\"subtype\":\"Chart\",\"type\":\"Plot\"}},\"id\":\"092ccd57-8939-4a41-bb68-f3bace8ff025\",\"type\":\"HelpTool\"},{\"attributes\":{\"data_source\":{\"id\":\"6c94632d-b4da-400d-ba5a-7d1df6642e8b\",\"type\":\"ColumnDataSource\"},\"glyph\":{\"id\":\"af66b46b-7bac-4b34-b655-a226e6e11ec8\",\"type\":\"Rect\"},\"hover_glyph\":null,\"muted_glyph\":null},\"id\":\"33d07470-db5e-468d-a3ff-0ef1a9026b85\",\"type\":\"GlyphRenderer\"},{\"attributes\":{\"data_source\":{\"id\":\"e4a7f49b-548c-4e72-bd27-a45c71d10c95\",\"type\":\"ColumnDataSource\"},\"glyph\":{\"id\":\"c8a5487b-e340-4f90-a3cf-38ddd755f595\",\"type\":\"Rect\"},\"hover_glyph\":null,\"muted_glyph\":null},\"id\":\"98f24a8b-7a8e-4659-a012-dc6f4c561c79\",\"type\":\"GlyphRenderer\"},{\"attributes\":{\"callback\":null,\"column_names\":[\"line_color\",\"line_alpha\",\"color\",\"fill_alpha\",\"height\",\"width\",\"y\",\"x\",\"label\"],\"data\":{\"Female\":[\"Male\"],\"OutcomeType\":[\"Adoption\"],\"chart_index\":[{\"Female\":\"Male\",\"OutcomeType\":\"Adoption\"}],\"color\":[\"#5ab738\"],\"fill_alpha\":[0.8],\"height\":[5380.0],\"label\":[{\"Female\":\"Male\",\"OutcomeType\":\"Adoption\"}],\"line_alpha\":[1.0],\"line_color\":[\"white\"],\"width\":[0.8],\"x\":[\"Adoption\"],\"y\":[2690.0]}},\"id\":\"11c52074-d5b1-4082-9732-3e4615a4269d\",\"type\":\"ColumnDataSource\"},{\"attributes\":{\"fill_alpha\":{\"field\":\"fill_alpha\"},\"fill_color\":{\"field\":\"color\"},\"height\":{\"field\":\"height\",\"units\":\"data\"},\"line_color\":{\"field\":\"line_color\"},\"width\":{\"field\":\"width\",\"units\":\"data\"},\"x\":{\"field\":\"x\"},\"y\":{\"field\":\"y\"}},\"id\":\"e327a71c-e460-4b0f-aacd-6752eb3de193\",\"type\":\"Rect\"},{\"attributes\":{\"fill_alpha\":{\"field\":\"fill_alpha\"},\"fill_color\":{\"field\":\"color\"},\"height\":{\"field\":\"height\",\"units\":\"data\"},\"line_color\":{\"field\":\"line_color\"},\"width\":{\"field\":\"width\",\"units\":\"data\"},\"x\":{\"field\":\"x\"},\"y\":{\"field\":\"y\"}},\"id\":\"3340f567-584c-4f50-aafd-866f5d1bde76\",\"type\":\"Rect\"},{\"attributes\":{\"below\":[{\"id\":\"172dd69c-1bdb-4e84-a42a-d25c0fcc992a\",\"type\":\"CategoricalAxis\"}],\"css_classes\":null,\"left\":[{\"id\":\"28f5787d-34df-4633-addb-7ea77d6448e9\",\"type\":\"LinearAxis\"}],\"renderers\":[{\"id\":\"e2c5e711-2518-4e34-b3bd-6762ca9c7da8\",\"type\":\"BoxAnnotation\"},{\"id\":\"98f24a8b-7a8e-4659-a012-dc6f4c561c79\",\"type\":\"GlyphRenderer\"},{\"id\":\"31788940-e16a-43d8-9845-9a18e43059cb\",\"type\":\"GlyphRenderer\"},{\"id\":\"3c5eada7-7849-428d-a340-2165cbb5fb7e\",\"type\":\"GlyphRenderer\"},{\"id\":\"9da37ad9-d555-44f7-a8db-d43a8e545df5\",\"type\":\"GlyphRenderer\"},{\"id\":\"33d07470-db5e-468d-a3ff-0ef1a9026b85\",\"type\":\"GlyphRenderer\"},{\"id\":\"cce53f55-3025-4420-9629-e2a231d007d7\",\"type\":\"GlyphRenderer\"},{\"id\":\"27dcbdc4-2b51-43c3-bd47-84681a662f01\",\"type\":\"GlyphRenderer\"},{\"id\":\"06b6ad7c-a25b-483b-b6c3-c90d3fb15528\",\"type\":\"GlyphRenderer\"},{\"id\":\"a4f6cbf4-c808-4562-90f4-0dbd0ee489ca\",\"type\":\"GlyphRenderer\"},{\"id\":\"2ac26ee0-65d0-4d03-862f-c85dba62cce5\",\"type\":\"GlyphRenderer\"},{\"id\":\"7ee9fcb4-3423-4f12-b4a0-60e5e1b0622e\",\"type\":\"GlyphRenderer\"},{\"id\":\"b631e12e-0aa8-4c35-ae81-90190fcd424e\",\"type\":\"GlyphRenderer\"},{\"id\":\"30abfce1-9737-4e73-a0fa-c4195695d063\",\"type\":\"GlyphRenderer\"},{\"id\":\"3beb2e04-fbbb-4f70-bec2-533aba14bcba\",\"type\":\"GlyphRenderer\"},{\"id\":\"83ecc717-91d0-41fc-b8a7-2ae7459a4e9f\",\"type\":\"Legend\"},{\"id\":\"172dd69c-1bdb-4e84-a42a-d25c0fcc992a\",\"type\":\"CategoricalAxis\"},{\"id\":\"28f5787d-34df-4633-addb-7ea77d6448e9\",\"type\":\"LinearAxis\"},{\"id\":\"d7f3312c-54d3-46f6-89ae-33d3f0f1af10\",\"type\":\"Grid\"}],\"title\":{\"id\":\"72a59949-60bc-49d0-8694-dd52d18827ff\",\"type\":\"Title\"},\"tool_events\":{\"id\":\"f1c231f3-c957-4859-8194-3b2a2b18eaa3\",\"type\":\"ToolEvents\"},\"toolbar\":{\"id\":\"efcba5e3-00b5-4c42-bca2-895d4fc4850f\",\"type\":\"Toolbar\"},\"x_mapper_type\":\"auto\",\"x_range\":{\"id\":\"d8ed9519-4c03-4ed6-b0fa-54b4457d1ba0\",\"type\":\"FactorRange\"},\"y_mapper_type\":\"auto\",\"y_range\":{\"id\":\"7ded42f3-c0f1-4c23-85af-324449361583\",\"type\":\"Range1d\"}},\"id\":\"8a8bf8cb-1e4b-4393-a1ea-bdef3a5d0412\",\"subtype\":\"Chart\",\"type\":\"Plot\"},{\"attributes\":{\"fill_alpha\":{\"field\":\"fill_alpha\"},\"fill_color\":{\"field\":\"color\"},\"height\":{\"field\":\"height\",\"units\":\"data\"},\"line_color\":{\"field\":\"line_color\"},\"width\":{\"field\":\"width\",\"units\":\"data\"},\"x\":{\"field\":\"x\"},\"y\":{\"field\":\"y\"}},\"id\":\"ff3e78c5-2338-4149-a927-ff4a7bc0a01a\",\"type\":\"Rect\"},{\"attributes\":{\"data_source\":{\"id\":\"91045f01-0f13-45de-973f-2dada9b9bb40\",\"type\":\"ColumnDataSource\"},\"glyph\":{\"id\":\"25b44b34-7211-47d3-ae56-6c60a90d9905\",\"type\":\"Rect\"},\"hover_glyph\":null,\"muted_glyph\":null},\"id\":\"9da37ad9-d555-44f7-a8db-d43a8e545df5\",\"type\":\"GlyphRenderer\"}],\"root_ids\":[\"8a8bf8cb-1e4b-4393-a1ea-bdef3a5d0412\"]},\"title\":\"Bokeh Application\",\"version\":\"0.12.5\"}};\n",
       "            var render_items = [{\"docid\":\"a59e0e96-edda-47a3-ada9-86385a30b77c\",\"elementid\":\"ffa4ac6b-bfa4-4d58-abbc-3b1313988bb9\",\"modelid\":\"8a8bf8cb-1e4b-4393-a1ea-bdef3a5d0412\"}];\n",
       "            \n",
       "            Bokeh.embed.embed_items(docs_json, render_items);\n",
       "          };\n",
       "          if (document.readyState != \"loading\") fn();\n",
       "          else document.addEventListener(\"DOMContentLoaded\", fn);\n",
       "        })();\n",
       "      },\n",
       "      function(Bokeh) {\n",
       "      }\n",
       "    ];\n",
       "  \n",
       "    function run_inline_js() {\n",
       "      \n",
       "      if ((window.Bokeh !== undefined) || (force === true)) {\n",
       "        for (var i = 0; i < inline_js.length; i++) {\n",
       "          inline_js[i](window.Bokeh);\n",
       "        }if (force === true) {\n",
       "          display_loaded();\n",
       "        }} else if (Date.now() < window._bokeh_timeout) {\n",
       "        setTimeout(run_inline_js, 100);\n",
       "      } else if (!window._bokeh_failed_load) {\n",
       "        console.log(\"Bokeh: BokehJS failed to load within specified timeout.\");\n",
       "        window._bokeh_failed_load = true;\n",
       "      } else if (force !== true) {\n",
       "        var cell = $(document.getElementById(\"ffa4ac6b-bfa4-4d58-abbc-3b1313988bb9\")).parents('.cell').data().cell;\n",
       "        cell.output_area.append_execute_result(NB_LOAD_WARNING)\n",
       "      }\n",
       "  \n",
       "    }\n",
       "  \n",
       "    if (window._bokeh_is_loading === 0) {\n",
       "      console.log(\"Bokeh: BokehJS loaded, going straight to plotting\");\n",
       "      run_inline_js();\n",
       "    } else {\n",
       "      load_libs(js_urls, function() {\n",
       "        console.log(\"Bokeh: BokehJS plotting callback run at\", now());\n",
       "        run_inline_js();\n",
       "      });\n",
       "    }\n",
       "  }(this));\n",
       "</script>"
      ]
     },
     "metadata": {},
     "output_type": "display_data"
    }
   ],
   "source": [
    "p = Bar(data, label='OutcomeType', values = 'Female', agg='count', stack='Female',\n",
    "        title=\"Outcomes by Female\", legend='top_right')\n",
    "show(p)"
   ]
  },
  {
   "cell_type": "code",
   "execution_count": 13,
   "metadata": {
    "scrolled": true
   },
   "outputs": [
    {
     "data": {
      "text/plain": [
       "<matplotlib.axes._subplots.AxesSubplot at 0x11c6b69d0>"
      ]
     },
     "execution_count": 13,
     "metadata": {},
     "output_type": "execute_result"
    },
    {
     "data": {
      "image/png": "[encoded data removed]",
      "text/plain": [
       "<matplotlib.figure.Figure at 0x11c6b6350>"
      ]
     },
     "metadata": {},
     "output_type": "display_data"
    }
   ],
   "source": [
    "#Purebred/mixed\n",
    "\n",
    "mixed_breed = data['MixedBreed'].value_counts() \n",
    "mixed_breed.plot(kind='bar',color='#34ABD8',rot=0)"
   ]
  },
  {
   "cell_type": "code",
   "execution_count": 14,
   "metadata": {},
   "outputs": [
    {
     "data": {
      "text/html": [
       "\n",
       "\n",
       "    <div class=\"bk-root\">\n",
       "        <div class=\"bk-plotdiv\" id=\"384b46ba-c1d7-44d7-abc3-4ec4dc105794\"></div>\n",
       "    </div>\n",
       "<script type=\"text/javascript\">\n",
       "  \n",
       "  (function(global) {\n",
       "    function now() {\n",
       "      return new Date();\n",
       "    }\n",
       "  \n",
       "    var force = false;\n",
       "  \n",
       "    if (typeof (window._bokeh_onload_callbacks) === \"undefined\" || force === true) {\n",
       "      window._bokeh_onload_callbacks = [];\n",
       "      window._bokeh_is_loading = undefined;\n",
       "    }\n",
       "  \n",
       "  \n",
       "    \n",
       "    if (typeof (window._bokeh_timeout) === \"undefined\" || force === true) {\n",
       "      window._bokeh_timeout = Date.now() + 0;\n",
       "      window._bokeh_failed_load = false;\n",
       "    }\n",
       "  \n",
       "    var NB_LOAD_WARNING = {'data': {'text/html':\n",
       "       \"<div style='background-color: #fdd'>\\n\"+\n",
       "       \"<p>\\n\"+\n",
       "       \"BokehJS does not appear to have successfully loaded. If loading BokehJS from CDN, this \\n\"+\n",
       "       \"may be due to a slow or bad network connection. Possible fixes:\\n\"+\n",
       "       \"</p>\\n\"+\n",
       "       \"<ul>\\n\"+\n",
       "       \"<li>re-rerun `output_notebook()` to attempt to load from CDN again, or</li>\\n\"+\n",
       "       \"<li>use INLINE resources instead, as so:</li>\\n\"+\n",
       "       \"</ul>\\n\"+\n",
       "       \"<code>\\n\"+\n",
       "       \"from bokeh.resources import INLINE\\n\"+\n",
       "       \"output_notebook(resources=INLINE)\\n\"+\n",
       "       \"</code>\\n\"+\n",
       "       \"</div>\"}};\n",
       "  \n",
       "    function display_loaded() {\n",
       "      if (window.Bokeh !== undefined) {\n",
       "        var el = document.getElementById(\"384b46ba-c1d7-44d7-abc3-4ec4dc105794\");\n",
       "        el.textContent = \"BokehJS \" + Bokeh.version + \" successfully loaded.\";\n",
       "      } else if (Date.now() < window._bokeh_timeout) {\n",
       "        setTimeout(display_loaded, 100)\n",
       "      }\n",
       "    }\n",
       "  \n",
       "    function run_callbacks() {\n",
       "      window._bokeh_onload_callbacks.forEach(function(callback) { callback() });\n",
       "      delete window._bokeh_onload_callbacks\n",
       "      console.info(\"Bokeh: all callbacks have finished\");\n",
       "    }\n",
       "  \n",
       "    function load_libs(js_urls, callback) {\n",
       "      window._bokeh_onload_callbacks.push(callback);\n",
       "      if (window._bokeh_is_loading > 0) {\n",
       "        console.log(\"Bokeh: BokehJS is being loaded, scheduling callback at\", now());\n",
       "        return null;\n",
       "      }\n",
       "      if (js_urls == null || js_urls.length === 0) {\n",
       "        run_callbacks();\n",
       "        return null;\n",
       "      }\n",
       "      console.log(\"Bokeh: BokehJS not loaded, scheduling load and callback at\", now());\n",
       "      window._bokeh_is_loading = js_urls.length;\n",
       "      for (var i = 0; i < js_urls.length; i++) {\n",
       "        var url = js_urls[i];\n",
       "        var s = document.createElement('script');\n",
       "        s.src = url;\n",
       "        s.async = false;\n",
       "        s.onreadystatechange = s.onload = function() {\n",
       "          window._bokeh_is_loading--;\n",
       "          if (window._bokeh_is_loading === 0) {\n",
       "            console.log(\"Bokeh: all BokehJS libraries loaded\");\n",
       "            run_callbacks()\n",
       "          }\n",
       "        };\n",
       "        s.onerror = function() {\n",
       "          console.warn(\"failed to load library \" + url);\n",
       "        };\n",
       "        console.log(\"Bokeh: injecting script tag for BokehJS library: \", url);\n",
       "        document.getElementsByTagName(\"head\")[0].appendChild(s);\n",
       "      }\n",
       "    };var element = document.getElementById(\"384b46ba-c1d7-44d7-abc3-4ec4dc105794\");\n",
       "    if (element == null) {\n",
       "      console.log(\"Bokeh: ERROR: autoload.js configured with elementid '384b46ba-c1d7-44d7-abc3-4ec4dc105794' but no matching script tag was found. \")\n",
       "      return false;\n",
       "    }\n",
       "  \n",
       "    var js_urls = [];\n",
       "  \n",
       "    var inline_js = [\n",
       "      function(Bokeh) {\n",
       "        (function() {\n",
       "          var fn = function() {\n",
       "            var docs_json = {\"d4fd0008-5539-4618-a720-29cf20d59830\":{\"roots\":{\"references\":[{\"attributes\":{\"plot\":{\"id\":\"6265314b-b251-4ccb-aa4b-eca0db4dd9f2\",\"subtype\":\"Chart\",\"type\":\"Plot\"}},\"id\":\"f5a1c1f0-4fbe-4df7-ad2f-04326b75090d\",\"type\":\"ResetTool\"},{\"attributes\":{\"fill_alpha\":{\"field\":\"fill_alpha\"},\"fill_color\":{\"field\":\"color\"},\"height\":{\"field\":\"height\",\"units\":\"data\"},\"line_color\":{\"field\":\"line_color\"},\"width\":{\"field\":\"width\",\"units\":\"data\"},\"x\":{\"field\":\"x\"},\"y\":{\"field\":\"y\"}},\"id\":\"f05fb2d9-ab6f-4600-9782-32a5911b971c\",\"type\":\"Rect\"},{\"attributes\":{\"data_source\":{\"id\":\"775d1b27-ce78-4ffd-899b-068b69cbdf74\",\"type\":\"ColumnDataSource\"},\"glyph\":{\"id\":\"badb5a32-9c8e-4d9d-80ad-11aef89ef874\",\"type\":\"Rect\"},\"hover_glyph\":null,\"muted_glyph\":null},\"id\":\"6abb9727-8807-4c4c-af88-9fae2773d8c5\",\"type\":\"GlyphRenderer\"},{\"attributes\":{\"callback\":null,\"column_names\":[\"line_color\",\"line_alpha\",\"color\",\"fill_alpha\",\"height\",\"width\",\"y\",\"x\",\"label\"],\"data\":{\"MixedBreed\":[\"Known Breed Combo\"],\"OutcomeType\":[\"Died\"],\"chart_index\":[{\"MixedBreed\":\"Known Breed Combo\",\"OutcomeType\":\"Died\"}],\"color\":[\"#f22c40\"],\"fill_alpha\":[0.8],\"height\":[9.0],\"label\":[{\"MixedBreed\":\"Known Breed Combo\",\"OutcomeType\":\"Died\"}],\"line_alpha\":[1.0],\"line_color\":[\"white\"],\"width\":[0.8],\"x\":[\"Died\"],\"y\":[192.5]}},\"id\":\"ea9b27ef-0f12-4dd9-b11b-960dd8fac6e2\",\"type\":\"ColumnDataSource\"},{\"attributes\":{\"data_source\":{\"id\":\"b3394d9e-b0ff-416c-a2bb-14b1de2bdee4\",\"type\":\"ColumnDataSource\"},\"glyph\":{\"id\":\"39388333-5c3a-4809-bafe-a3c3d8b235ec\",\"type\":\"Rect\"},\"hover_glyph\":null,\"muted_glyph\":null},\"id\":\"6ae7bd65-e8e7-4b8a-b192-c1b4ae520f8c\",\"type\":\"GlyphRenderer\"},{\"attributes\":{\"callback\":null,\"end\":11307.45},\"id\":\"20bdb097-023a-492f-8224-1ca33da702a8\",\"type\":\"Range1d\"},{\"attributes\":{\"callback\":null,\"column_names\":[\"line_color\",\"line_alpha\",\"color\",\"fill_alpha\",\"height\",\"width\",\"y\",\"x\",\"label\"],\"data\":{\"MixedBreed\":[\"Known Breed Combo\"],\"OutcomeType\":[\"Adoption\"],\"chart_index\":[{\"MixedBreed\":\"Known Breed Combo\",\"OutcomeType\":\"Adoption\"}],\"color\":[\"#f22c40\"],\"fill_alpha\":[0.8],\"height\":[1534.0],\"label\":[{\"MixedBreed\":\"Known Breed Combo\",\"OutcomeType\":\"Adoption\"}],\"line_alpha\":[1.0],\"line_color\":[\"white\"],\"width\":[0.8],\"x\":[\"Adoption\"],\"y\":[10002.0]}},\"id\":\"ebfca30d-06da-43de-bbbf-947ce5f79249\",\"type\":\"ColumnDataSource\"},{\"attributes\":{\"callback\":null,\"column_names\":[\"line_color\",\"line_alpha\",\"color\",\"fill_alpha\",\"height\",\"width\",\"y\",\"x\",\"label\"],\"data\":{\"MixedBreed\":[\"Nonmixed\"],\"OutcomeType\":[\"Euthanasia\"],\"chart_index\":[{\"MixedBreed\":\"Nonmixed\",\"OutcomeType\":\"Euthanasia\"}],\"color\":[\"#407ee7\"],\"fill_alpha\":[0.8],\"height\":[64.0],\"label\":[{\"MixedBreed\":\"Nonmixed\",\"OutcomeType\":\"Euthanasia\"}],\"line_alpha\":[1.0],\"line_color\":[\"white\"],\"width\":[0.8],\"x\":[\"Euthanasia\"],\"y\":[1523.0]}},\"id\":\"a8cf9e0f-642a-41c6-b061-e9108f529f68\",\"type\":\"ColumnDataSource\"},{\"attributes\":{\"fill_alpha\":{\"field\":\"fill_alpha\"},\"fill_color\":{\"field\":\"color\"},\"height\":{\"field\":\"height\",\"units\":\"data\"},\"line_color\":{\"field\":\"line_color\"},\"width\":{\"field\":\"width\",\"units\":\"data\"},\"x\":{\"field\":\"x\"},\"y\":{\"field\":\"y\"}},\"id\":\"0b0660b5-dd71-4a17-8e57-0f741fc4733e\",\"type\":\"Rect\"},{\"attributes\":{\"data_source\":{\"id\":\"4bd44cf3-e8a6-4a39-b2c7-6ea0ae09684b\",\"type\":\"ColumnDataSource\"},\"glyph\":{\"id\":\"1438426a-e4d3-4c8a-889a-e96ecee58111\",\"type\":\"Rect\"},\"hover_glyph\":null,\"muted_glyph\":null},\"id\":\"c8afdad1-416c-4977-8593-3359f0dad89c\",\"type\":\"GlyphRenderer\"},{\"attributes\":{\"label\":{\"value\":\"Mixed Breed\"},\"renderers\":[{\"id\":\"02052cbb-b0dd-4cf1-a35b-999c13849019\",\"type\":\"GlyphRenderer\"}]},\"id\":\"211f85ce-1dc7-4b4f-a22d-5c305cbe0741\",\"type\":\"LegendItem\"},{\"attributes\":{\"callback\":null,\"column_names\":[\"line_color\",\"line_alpha\",\"color\",\"fill_alpha\",\"height\",\"width\",\"y\",\"x\",\"label\"],\"data\":{\"MixedBreed\":[\"Nonmixed\"],\"OutcomeType\":[\"Died\"],\"chart_index\":[{\"MixedBreed\":\"Nonmixed\",\"OutcomeType\":\"Died\"}],\"color\":[\"#407ee7\"],\"fill_alpha\":[0.8],\"height\":[8.0],\"label\":[{\"MixedBreed\":\"Nonmixed\",\"OutcomeType\":\"Died\"}],\"line_alpha\":[1.0],\"line_color\":[\"white\"],\"width\":[0.8],\"x\":[\"Died\"],\"y\":[184.0]}},\"id\":\"4bd44cf3-e8a6-4a39-b2c7-6ea0ae09684b\",\"type\":\"ColumnDataSource\"},{\"attributes\":{\"data_source\":{\"id\":\"a8cf9e0f-642a-41c6-b061-e9108f529f68\",\"type\":\"ColumnDataSource\"},\"glyph\":{\"id\":\"f05fb2d9-ab6f-4600-9782-32a5911b971c\",\"type\":\"Rect\"},\"hover_glyph\":null,\"muted_glyph\":null},\"id\":\"4bb500ae-5dc1-4025-8be3-e2d264d7929d\",\"type\":\"GlyphRenderer\"},{\"attributes\":{\"callback\":null,\"column_names\":[\"line_color\",\"line_alpha\",\"color\",\"fill_alpha\",\"height\",\"width\",\"y\",\"x\",\"label\"],\"data\":{\"MixedBreed\":[\"Mixed Breed\"],\"OutcomeType\":[\"Died\"],\"chart_index\":[{\"MixedBreed\":\"Mixed Breed\",\"OutcomeType\":\"Died\"}],\"color\":[\"#5ab738\"],\"fill_alpha\":[0.8],\"height\":[180.0],\"label\":[{\"MixedBreed\":\"Mixed Breed\",\"OutcomeType\":\"Died\"}],\"line_alpha\":[1.0],\"line_color\":[\"white\"],\"width\":[0.8],\"x\":[\"Died\"],\"y\":[90.0]}},\"id\":\"5ba9616d-f1bf-4663-a273-fda8ee9a7bc4\",\"type\":\"ColumnDataSource\"},{\"attributes\":{\"fill_alpha\":{\"field\":\"fill_alpha\"},\"fill_color\":{\"field\":\"color\"},\"height\":{\"field\":\"height\",\"units\":\"data\"},\"line_color\":{\"field\":\"line_color\"},\"width\":{\"field\":\"width\",\"units\":\"data\"},\"x\":{\"field\":\"x\"},\"y\":{\"field\":\"y\"}},\"id\":\"ea041439-6393-4a85-bf9f-6c4348a91ca4\",\"type\":\"Rect\"},{\"attributes\":{\"below\":[{\"id\":\"f7ea7b08-0a71-4c34-8328-2bc4aa090a5e\",\"type\":\"CategoricalAxis\"}],\"css_classes\":null,\"left\":[{\"id\":\"376b6bf9-6498-4d02-b25b-7688ca2cd9f5\",\"type\":\"LinearAxis\"}],\"renderers\":[{\"id\":\"6d974a48-945a-4f10-b7a9-367ed34634c9\",\"type\":\"BoxAnnotation\"},{\"id\":\"02052cbb-b0dd-4cf1-a35b-999c13849019\",\"type\":\"GlyphRenderer\"},{\"id\":\"8b9234a7-5849-47b4-bbfb-3dfbb5564bfe\",\"type\":\"GlyphRenderer\"},{\"id\":\"f7524608-7122-46bc-b9c0-a190010c18a1\",\"type\":\"GlyphRenderer\"},{\"id\":\"74613d3d-05c1-4a12-ad98-44c211e2359a\",\"type\":\"GlyphRenderer\"},{\"id\":\"23fb9339-be75-483e-8517-ad7b932e057e\",\"type\":\"GlyphRenderer\"},{\"id\":\"f9d533b1-f00f-4730-9467-e68c3e7c3144\",\"type\":\"GlyphRenderer\"},{\"id\":\"2205cb2b-5be0-4739-aeec-bdb9b095ee8f\",\"type\":\"GlyphRenderer\"},{\"id\":\"6abb9727-8807-4c4c-af88-9fae2773d8c5\",\"type\":\"GlyphRenderer\"},{\"id\":\"01fa6e0f-51b0-4c16-9dea-4f9b19902268\",\"type\":\"GlyphRenderer\"},{\"id\":\"6ae7bd65-e8e7-4b8a-b192-c1b4ae520f8c\",\"type\":\"GlyphRenderer\"},{\"id\":\"b5d1d746-7834-4790-9ab9-9c469d766c91\",\"type\":\"GlyphRenderer\"},{\"id\":\"dc9ce6e9-6ba2-48bd-9d39-e8f1f48acb5e\",\"type\":\"GlyphRenderer\"},{\"id\":\"4bb500ae-5dc1-4025-8be3-e2d264d7929d\",\"type\":\"GlyphRenderer\"},{\"id\":\"c8afdad1-416c-4977-8593-3359f0dad89c\",\"type\":\"GlyphRenderer\"},{\"id\":\"9df4f754-66dd-4e6d-ba00-d15d688166bb\",\"type\":\"GlyphRenderer\"},{\"id\":\"1f9ae610-60f0-4bf0-ac72-15615a3b7029\",\"type\":\"Legend\"},{\"id\":\"f7ea7b08-0a71-4c34-8328-2bc4aa090a5e\",\"type\":\"CategoricalAxis\"},{\"id\":\"376b6bf9-6498-4d02-b25b-7688ca2cd9f5\",\"type\":\"LinearAxis\"},{\"id\":\"80676b5c-7ac7-4417-9260-a40ec29b6c60\",\"type\":\"Grid\"}],\"title\":{\"id\":\"dca41688-3c47-4a11-a8c6-d5994e4cfa82\",\"type\":\"Title\"},\"tool_events\":{\"id\":\"ce410d2e-d0c9-4718-9baa-e5014bb5a693\",\"type\":\"ToolEvents\"},\"toolbar\":{\"id\":\"a8757a57-f0de-46fd-9f9f-ec5b54c0ad4e\",\"type\":\"Toolbar\"},\"x_mapper_type\":\"auto\",\"x_range\":{\"id\":\"c432680e-b88f-4c7a-aba2-7b5fbb3e961c\",\"type\":\"FactorRange\"},\"y_mapper_type\":\"auto\",\"y_range\":{\"id\":\"20bdb097-023a-492f-8224-1ca33da702a8\",\"type\":\"Range1d\"}},\"id\":\"6265314b-b251-4ccb-aa4b-eca0db4dd9f2\",\"subtype\":\"Chart\",\"type\":\"Plot\"},{\"attributes\":{\"callback\":null,\"column_names\":[\"line_color\",\"line_alpha\",\"color\",\"fill_alpha\",\"height\",\"width\",\"y\",\"x\",\"label\"],\"data\":{\"MixedBreed\":[\"Known Breed Combo\"],\"OutcomeType\":[\"Transfer\"],\"chart_index\":[{\"MixedBreed\":\"Known Breed Combo\",\"OutcomeType\":\"Transfer\"}],\"color\":[\"#f22c40\"],\"fill_alpha\":[0.8],\"height\":[734.0],\"label\":[{\"MixedBreed\":\"Known Breed Combo\",\"OutcomeType\":\"Transfer\"}],\"line_alpha\":[1.0],\"line_color\":[\"white\"],\"width\":[0.8],\"x\":[\"Transfer\"],\"y\":[8619.0]}},\"id\":\"5ef30c79-4096-4371-a7d6-8da49a229d24\",\"type\":\"ColumnDataSource\"},{\"attributes\":{\"callback\":null,\"column_names\":[\"line_color\",\"line_alpha\",\"color\",\"fill_alpha\",\"height\",\"width\",\"y\",\"x\",\"label\"],\"data\":{\"MixedBreed\":[\"Mixed Breed\"],\"OutcomeType\":[\"Adoption\"],\"chart_index\":[{\"MixedBreed\":\"Mixed Breed\",\"OutcomeType\":\"Adoption\"}],\"color\":[\"#5ab738\"],\"fill_alpha\":[0.8],\"height\":[8792.0],\"label\":[{\"MixedBreed\":\"Mixed Breed\",\"OutcomeType\":\"Adoption\"}],\"line_alpha\":[1.0],\"line_color\":[\"white\"],\"width\":[0.8],\"x\":[\"Adoption\"],\"y\":[4396.0]}},\"id\":\"32904d15-69a7-4afd-8644-7f10aea12758\",\"type\":\"ColumnDataSource\"},{\"attributes\":{\"fill_alpha\":{\"field\":\"fill_alpha\"},\"fill_color\":{\"field\":\"color\"},\"height\":{\"field\":\"height\",\"units\":\"data\"},\"line_color\":{\"field\":\"line_color\"},\"width\":{\"field\":\"width\",\"units\":\"data\"},\"x\":{\"field\":\"x\"},\"y\":{\"field\":\"y\"}},\"id\":\"db775058-ce09-461e-a31a-7f4097d3f35f\",\"type\":\"Rect\"},{\"attributes\":{\"plot\":{\"id\":\"6265314b-b251-4ccb-aa4b-eca0db4dd9f2\",\"subtype\":\"Chart\",\"type\":\"Plot\"}},\"id\":\"44495ca9-35d5-459f-9433-f6a6c9941413\",\"type\":\"WheelZoomTool\"},{\"attributes\":{\"plot\":{\"id\":\"6265314b-b251-4ccb-aa4b-eca0db4dd9f2\",\"subtype\":\"Chart\",\"type\":\"Plot\"}},\"id\":\"b0433241-ecfd-4c26-a4bd-65665b64d78a\",\"type\":\"PanTool\"},{\"attributes\":{\"axis_label\":\"Count( Mixedbreed )\",\"formatter\":{\"id\":\"3d7c30db-420f-43b1-8304-366a5ed059b4\",\"type\":\"BasicTickFormatter\"},\"plot\":{\"id\":\"6265314b-b251-4ccb-aa4b-eca0db4dd9f2\",\"subtype\":\"Chart\",\"type\":\"Plot\"},\"ticker\":{\"id\":\"9327a514-f3f8-45fc-bca8-fd8943e56b5b\",\"type\":\"BasicTicker\"}},\"id\":\"376b6bf9-6498-4d02-b25b-7688ca2cd9f5\",\"type\":\"LinearAxis\"},{\"attributes\":{},\"id\":\"9327a514-f3f8-45fc-bca8-fd8943e56b5b\",\"type\":\"BasicTicker\"},{\"attributes\":{\"fill_alpha\":{\"field\":\"fill_alpha\"},\"fill_color\":{\"field\":\"color\"},\"height\":{\"field\":\"height\",\"units\":\"data\"},\"line_color\":{\"field\":\"line_color\"},\"width\":{\"field\":\"width\",\"units\":\"data\"},\"x\":{\"field\":\"x\"},\"y\":{\"field\":\"y\"}},\"id\":\"badb5a32-9c8e-4d9d-80ad-11aef89ef874\",\"type\":\"Rect\"},{\"attributes\":{\"bottom_units\":\"screen\",\"fill_alpha\":{\"value\":0.5},\"fill_color\":{\"value\":\"lightgrey\"},\"left_units\":\"screen\",\"level\":\"overlay\",\"line_alpha\":{\"value\":1.0},\"line_color\":{\"value\":\"black\"},\"line_dash\":[4,4],\"line_width\":{\"value\":2},\"plot\":null,\"render_mode\":\"css\",\"right_units\":\"screen\",\"top_units\":\"screen\"},\"id\":\"6d974a48-945a-4f10-b7a9-367ed34634c9\",\"type\":\"BoxAnnotation\"},{\"attributes\":{\"callback\":null,\"column_names\":[\"line_color\",\"line_alpha\",\"color\",\"fill_alpha\",\"height\",\"width\",\"y\",\"x\",\"label\"],\"data\":{\"MixedBreed\":[\"Mixed Breed\"],\"OutcomeType\":[\"Transfer\"],\"chart_index\":[{\"MixedBreed\":\"Mixed Breed\",\"OutcomeType\":\"Transfer\"}],\"color\":[\"#5ab738\"],\"fill_alpha\":[0.8],\"height\":[8252.0],\"label\":[{\"MixedBreed\":\"Mixed Breed\",\"OutcomeType\":\"Transfer\"}],\"line_alpha\":[1.0],\"line_color\":[\"white\"],\"width\":[0.8],\"x\":[\"Transfer\"],\"y\":[4126.0]}},\"id\":\"a31df2f6-3024-4ab5-b15f-2ba5861d8b6a\",\"type\":\"ColumnDataSource\"},{\"attributes\":{\"plot\":null,\"text\":\"Outcomes by Breed Type\"},\"id\":\"dca41688-3c47-4a11-a8c6-d5994e4cfa82\",\"type\":\"Title\"},{\"attributes\":{\"callback\":null,\"column_names\":[\"line_color\",\"line_alpha\",\"color\",\"fill_alpha\",\"height\",\"width\",\"y\",\"x\",\"label\"],\"data\":{\"MixedBreed\":[\"Mixed Breed\"],\"OutcomeType\":[\"Return_to_owner\"],\"chart_index\":[{\"MixedBreed\":\"Mixed Breed\",\"OutcomeType\":\"Return_to_owner\"}],\"color\":[\"#5ab738\"],\"fill_alpha\":[0.8],\"height\":[3710.0],\"label\":[{\"MixedBreed\":\"Mixed Breed\",\"OutcomeType\":\"Return_to_owner\"}],\"line_alpha\":[1.0],\"line_color\":[\"white\"],\"width\":[0.8],\"x\":[\"Return_to_owner\"],\"y\":[1855.0]}},\"id\":\"b449e2e6-91fa-4406-be22-895919d6511b\",\"type\":\"ColumnDataSource\"},{\"attributes\":{\"fill_alpha\":{\"field\":\"fill_alpha\"},\"fill_color\":{\"field\":\"color\"},\"height\":{\"field\":\"height\",\"units\":\"data\"},\"line_color\":{\"field\":\"line_color\"},\"width\":{\"field\":\"width\",\"units\":\"data\"},\"x\":{\"field\":\"x\"},\"y\":{\"field\":\"y\"}},\"id\":\"1952bf83-985a-4bc9-bed6-960cb99d36fc\",\"type\":\"Rect\"},{\"attributes\":{\"items\":[{\"id\":\"211f85ce-1dc7-4b4f-a22d-5c305cbe0741\",\"type\":\"LegendItem\"},{\"id\":\"f8c5e07d-073d-418c-8e70-a7eb35d47d9e\",\"type\":\"LegendItem\"},{\"id\":\"f6c87e2b-1924-49f3-9e2f-d7209e1e7076\",\"type\":\"LegendItem\"}],\"plot\":{\"id\":\"6265314b-b251-4ccb-aa4b-eca0db4dd9f2\",\"subtype\":\"Chart\",\"type\":\"Plot\"}},\"id\":\"1f9ae610-60f0-4bf0-ac72-15615a3b7029\",\"type\":\"Legend\"},{\"attributes\":{\"data_source\":{\"id\":\"5ef30c79-4096-4371-a7d6-8da49a229d24\",\"type\":\"ColumnDataSource\"},\"glyph\":{\"id\":\"598b3d4a-6639-44b7-ba34-a645a96fafba\",\"type\":\"Rect\"},\"hover_glyph\":null,\"muted_glyph\":null},\"id\":\"23fb9339-be75-483e-8517-ad7b932e057e\",\"type\":\"GlyphRenderer\"},{\"attributes\":{\"fill_alpha\":{\"field\":\"fill_alpha\"},\"fill_color\":{\"field\":\"color\"},\"height\":{\"field\":\"height\",\"units\":\"data\"},\"line_color\":{\"field\":\"line_color\"},\"width\":{\"field\":\"width\",\"units\":\"data\"},\"x\":{\"field\":\"x\"},\"y\":{\"field\":\"y\"}},\"id\":\"26be8349-9ffe-4d20-8950-8a3b24c35eaf\",\"type\":\"Rect\"},{\"attributes\":{\"data_source\":{\"id\":\"702f8d49-1495-4a2c-b6ee-405dad2f5feb\",\"type\":\"ColumnDataSource\"},\"glyph\":{\"id\":\"1952bf83-985a-4bc9-bed6-960cb99d36fc\",\"type\":\"Rect\"},\"hover_glyph\":null,\"muted_glyph\":null},\"id\":\"01fa6e0f-51b0-4c16-9dea-4f9b19902268\",\"type\":\"GlyphRenderer\"},{\"attributes\":{\"callback\":null,\"column_names\":[\"line_color\",\"line_alpha\",\"color\",\"fill_alpha\",\"height\",\"width\",\"y\",\"x\",\"label\"],\"data\":{\"MixedBreed\":[\"Known Breed Combo\"],\"OutcomeType\":[\"Euthanasia\"],\"chart_index\":[{\"MixedBreed\":\"Known Breed Combo\",\"OutcomeType\":\"Euthanasia\"}],\"color\":[\"#f22c40\"],\"fill_alpha\":[0.8],\"height\":[127.0],\"label\":[{\"MixedBreed\":\"Known Breed Combo\",\"OutcomeType\":\"Euthanasia\"}],\"line_alpha\":[1.0],\"line_color\":[\"white\"],\"width\":[0.8],\"x\":[\"Euthanasia\"],\"y\":[1427.5]}},\"id\":\"b3394d9e-b0ff-416c-a2bb-14b1de2bdee4\",\"type\":\"ColumnDataSource\"},{\"attributes\":{\"data_source\":{\"id\":\"5ba9616d-f1bf-4663-a273-fda8ee9a7bc4\",\"type\":\"ColumnDataSource\"},\"glyph\":{\"id\":\"dfa3e1be-8469-495f-a5e2-3160f47d3023\",\"type\":\"Rect\"},\"hover_glyph\":null,\"muted_glyph\":null},\"id\":\"dc9ce6e9-6ba2-48bd-9d39-e8f1f48acb5e\",\"type\":\"GlyphRenderer\"},{\"attributes\":{\"axis_label\":\"Outcometype\",\"formatter\":{\"id\":\"bc936eee-12b4-4435-b4c2-a5ce237da9c8\",\"type\":\"CategoricalTickFormatter\"},\"major_label_orientation\":0.7853981633974483,\"plot\":{\"id\":\"6265314b-b251-4ccb-aa4b-eca0db4dd9f2\",\"subtype\":\"Chart\",\"type\":\"Plot\"},\"ticker\":{\"id\":\"6d2c8db8-e9af-4600-a1a1-0d9fdaca6327\",\"type\":\"CategoricalTicker\"}},\"id\":\"f7ea7b08-0a71-4c34-8328-2bc4aa090a5e\",\"type\":\"CategoricalAxis\"},{\"attributes\":{},\"id\":\"ce410d2e-d0c9-4718-9baa-e5014bb5a693\",\"type\":\"ToolEvents\"},{\"attributes\":{\"label\":{\"value\":\"Known Breed Combo\"},\"renderers\":[{\"id\":\"23fb9339-be75-483e-8517-ad7b932e057e\",\"type\":\"GlyphRenderer\"}]},\"id\":\"f8c5e07d-073d-418c-8e70-a7eb35d47d9e\",\"type\":\"LegendItem\"},{\"attributes\":{\"data_source\":{\"id\":\"a31df2f6-3024-4ab5-b15f-2ba5861d8b6a\",\"type\":\"ColumnDataSource\"},\"glyph\":{\"id\":\"db775058-ce09-461e-a31a-7f4097d3f35f\",\"type\":\"Rect\"},\"hover_glyph\":null,\"muted_glyph\":null},\"id\":\"74613d3d-05c1-4a12-ad98-44c211e2359a\",\"type\":\"GlyphRenderer\"},{\"attributes\":{\"overlay\":{\"id\":\"6d974a48-945a-4f10-b7a9-367ed34634c9\",\"type\":\"BoxAnnotation\"},\"plot\":{\"id\":\"6265314b-b251-4ccb-aa4b-eca0db4dd9f2\",\"subtype\":\"Chart\",\"type\":\"Plot\"}},\"id\":\"4889cf87-676f-4884-a648-a24fc7e4886a\",\"type\":\"BoxZoomTool\"},{\"attributes\":{\"data_source\":{\"id\":\"32904d15-69a7-4afd-8644-7f10aea12758\",\"type\":\"ColumnDataSource\"},\"glyph\":{\"id\":\"5b75f90a-5cb6-4e9d-851a-f410b07cdbc0\",\"type\":\"Rect\"},\"hover_glyph\":null,\"muted_glyph\":null},\"id\":\"f7524608-7122-46bc-b9c0-a190010c18a1\",\"type\":\"GlyphRenderer\"},{\"attributes\":{\"fill_alpha\":{\"field\":\"fill_alpha\"},\"fill_color\":{\"field\":\"color\"},\"height\":{\"field\":\"height\",\"units\":\"data\"},\"line_color\":{\"field\":\"line_color\"},\"width\":{\"field\":\"width\",\"units\":\"data\"},\"x\":{\"field\":\"x\"},\"y\":{\"field\":\"y\"}},\"id\":\"80136c18-2d2e-4015-aef0-ac45877b9d60\",\"type\":\"Rect\"},{\"attributes\":{\"plot\":{\"id\":\"6265314b-b251-4ccb-aa4b-eca0db4dd9f2\",\"subtype\":\"Chart\",\"type\":\"Plot\"}},\"id\":\"18029652-0d83-4d0b-a24e-6f3e1f0b5f86\",\"type\":\"HelpTool\"},{\"attributes\":{\"fill_alpha\":{\"field\":\"fill_alpha\"},\"fill_color\":{\"field\":\"color\"},\"height\":{\"field\":\"height\",\"units\":\"data\"},\"line_color\":{\"field\":\"line_color\"},\"width\":{\"field\":\"width\",\"units\":\"data\"},\"x\":{\"field\":\"x\"},\"y\":{\"field\":\"y\"}},\"id\":\"39388333-5c3a-4809-bafe-a3c3d8b235ec\",\"type\":\"Rect\"},{\"attributes\":{\"callback\":null,\"factors\":[\"Adoption\",\"Died\",\"Euthanasia\",\"Return_to_owner\",\"Transfer\"]},\"id\":\"c432680e-b88f-4c7a-aba2-7b5fbb3e961c\",\"type\":\"FactorRange\"},{\"attributes\":{\"fill_alpha\":{\"field\":\"fill_alpha\"},\"fill_color\":{\"field\":\"color\"},\"height\":{\"field\":\"height\",\"units\":\"data\"},\"line_color\":{\"field\":\"line_color\"},\"width\":{\"field\":\"width\",\"units\":\"data\"},\"x\":{\"field\":\"x\"},\"y\":{\"field\":\"y\"}},\"id\":\"ebd121c9-17a3-4d51-9367-94ceebca2ce4\",\"type\":\"Rect\"},{\"attributes\":{},\"id\":\"bc936eee-12b4-4435-b4c2-a5ce237da9c8\",\"type\":\"CategoricalTickFormatter\"},{\"attributes\":{\"fill_alpha\":{\"field\":\"fill_alpha\"},\"fill_color\":{\"field\":\"color\"},\"height\":{\"field\":\"height\",\"units\":\"data\"},\"line_color\":{\"field\":\"line_color\"},\"width\":{\"field\":\"width\",\"units\":\"data\"},\"x\":{\"field\":\"x\"},\"y\":{\"field\":\"y\"}},\"id\":\"598b3d4a-6639-44b7-ba34-a645a96fafba\",\"type\":\"Rect\"},{\"attributes\":{\"data_source\":{\"id\":\"5548126b-91ff-4447-9b21-2bf0fa5da342\",\"type\":\"ColumnDataSource\"},\"glyph\":{\"id\":\"76de10dd-6879-4989-ae15-16ee36697b66\",\"type\":\"Rect\"},\"hover_glyph\":null,\"muted_glyph\":null},\"id\":\"b5d1d746-7834-4790-9ab9-9c469d766c91\",\"type\":\"GlyphRenderer\"},{\"attributes\":{\"callback\":null,\"column_names\":[\"line_color\",\"line_alpha\",\"color\",\"fill_alpha\",\"height\",\"width\",\"y\",\"x\",\"label\"],\"data\":{\"MixedBreed\":[\"Nonmixed\"],\"OutcomeType\":[\"Adoption\"],\"chart_index\":[{\"MixedBreed\":\"Nonmixed\",\"OutcomeType\":\"Adoption\"}],\"color\":[\"#407ee7\"],\"fill_alpha\":[0.8],\"height\":[443.0],\"label\":[{\"MixedBreed\":\"Nonmixed\",\"OutcomeType\":\"Adoption\"}],\"line_alpha\":[1.0],\"line_color\":[\"white\"],\"width\":[0.8],\"x\":[\"Adoption\"],\"y\":[9013.5]}},\"id\":\"f8eebe8f-9fa6-40ba-b63a-3a93c2026110\",\"type\":\"ColumnDataSource\"},{\"attributes\":{\"data_source\":{\"id\":\"c217f126-c4fb-4ac3-8af4-70f0a8b4f03b\",\"type\":\"ColumnDataSource\"},\"glyph\":{\"id\":\"80136c18-2d2e-4015-aef0-ac45877b9d60\",\"type\":\"Rect\"},\"hover_glyph\":null,\"muted_glyph\":null},\"id\":\"8b9234a7-5849-47b4-bbfb-3dfbb5564bfe\",\"type\":\"GlyphRenderer\"},{\"attributes\":{\"data_source\":{\"id\":\"ea9b27ef-0f12-4dd9-b11b-960dd8fac6e2\",\"type\":\"ColumnDataSource\"},\"glyph\":{\"id\":\"ebd121c9-17a3-4d51-9367-94ceebca2ce4\",\"type\":\"Rect\"},\"hover_glyph\":null,\"muted_glyph\":null},\"id\":\"9df4f754-66dd-4e6d-ba00-d15d688166bb\",\"type\":\"GlyphRenderer\"},{\"attributes\":{\"fill_alpha\":{\"field\":\"fill_alpha\"},\"fill_color\":{\"field\":\"color\"},\"height\":{\"field\":\"height\",\"units\":\"data\"},\"line_color\":{\"field\":\"line_color\"},\"width\":{\"field\":\"width\",\"units\":\"data\"},\"x\":{\"field\":\"x\"},\"y\":{\"field\":\"y\"}},\"id\":\"76de10dd-6879-4989-ae15-16ee36697b66\",\"type\":\"Rect\"},{\"attributes\":{\"fill_alpha\":{\"field\":\"fill_alpha\"},\"fill_color\":{\"field\":\"color\"},\"height\":{\"field\":\"height\",\"units\":\"data\"},\"line_color\":{\"field\":\"line_color\"},\"width\":{\"field\":\"width\",\"units\":\"data\"},\"x\":{\"field\":\"x\"},\"y\":{\"field\":\"y\"}},\"id\":\"5b75f90a-5cb6-4e9d-851a-f410b07cdbc0\",\"type\":\"Rect\"},{\"attributes\":{\"callback\":null,\"column_names\":[\"line_color\",\"line_alpha\",\"color\",\"fill_alpha\",\"height\",\"width\",\"y\",\"x\",\"label\"],\"data\":{\"MixedBreed\":[\"Known Breed Combo\"],\"OutcomeType\":[\"Return_to_owner\"],\"chart_index\":[{\"MixedBreed\":\"Known Breed Combo\",\"OutcomeType\":\"Return_to_owner\"}],\"color\":[\"#f22c40\"],\"fill_alpha\":[0.8],\"height\":[636.0],\"label\":[{\"MixedBreed\":\"Known Breed Combo\",\"OutcomeType\":\"Return_to_owner\"}],\"line_alpha\":[1.0],\"line_color\":[\"white\"],\"width\":[0.8],\"x\":[\"Return_to_owner\"],\"y\":[4028.0]}},\"id\":\"775d1b27-ce78-4ffd-899b-068b69cbdf74\",\"type\":\"ColumnDataSource\"},{\"attributes\":{},\"id\":\"3d7c30db-420f-43b1-8304-366a5ed059b4\",\"type\":\"BasicTickFormatter\"},{\"attributes\":{\"label\":{\"value\":\"Nonmixed\"},\"renderers\":[{\"id\":\"f9d533b1-f00f-4730-9467-e68c3e7c3144\",\"type\":\"GlyphRenderer\"}]},\"id\":\"f6c87e2b-1924-49f3-9e2f-d7209e1e7076\",\"type\":\"LegendItem\"},{\"attributes\":{\"data_source\":{\"id\":\"f8eebe8f-9fa6-40ba-b63a-3a93c2026110\",\"type\":\"ColumnDataSource\"},\"glyph\":{\"id\":\"0b0660b5-dd71-4a17-8e57-0f741fc4733e\",\"type\":\"Rect\"},\"hover_glyph\":null,\"muted_glyph\":null},\"id\":\"f9d533b1-f00f-4730-9467-e68c3e7c3144\",\"type\":\"GlyphRenderer\"},{\"attributes\":{},\"id\":\"6d2c8db8-e9af-4600-a1a1-0d9fdaca6327\",\"type\":\"CategoricalTicker\"},{\"attributes\":{\"callback\":null,\"column_names\":[\"line_color\",\"line_alpha\",\"color\",\"fill_alpha\",\"height\",\"width\",\"y\",\"x\",\"label\"],\"data\":{\"MixedBreed\":[\"Nonmixed\"],\"OutcomeType\":[\"Transfer\"],\"chart_index\":[{\"MixedBreed\":\"Nonmixed\",\"OutcomeType\":\"Transfer\"}],\"color\":[\"#407ee7\"],\"fill_alpha\":[0.8],\"height\":[436.0],\"label\":[{\"MixedBreed\":\"Nonmixed\",\"OutcomeType\":\"Transfer\"}],\"line_alpha\":[1.0],\"line_color\":[\"white\"],\"width\":[0.8],\"x\":[\"Transfer\"],\"y\":[9204.0]}},\"id\":\"5548126b-91ff-4447-9b21-2bf0fa5da342\",\"type\":\"ColumnDataSource\"},{\"attributes\":{\"data_source\":{\"id\":\"b449e2e6-91fa-4406-be22-895919d6511b\",\"type\":\"ColumnDataSource\"},\"glyph\":{\"id\":\"ea041439-6393-4a85-bf9f-6c4348a91ca4\",\"type\":\"Rect\"},\"hover_glyph\":null,\"muted_glyph\":null},\"id\":\"02052cbb-b0dd-4cf1-a35b-999c13849019\",\"type\":\"GlyphRenderer\"},{\"attributes\":{\"data_source\":{\"id\":\"ebfca30d-06da-43de-bbbf-947ce5f79249\",\"type\":\"ColumnDataSource\"},\"glyph\":{\"id\":\"26be8349-9ffe-4d20-8950-8a3b24c35eaf\",\"type\":\"Rect\"},\"hover_glyph\":null,\"muted_glyph\":null},\"id\":\"2205cb2b-5be0-4739-aeec-bdb9b095ee8f\",\"type\":\"GlyphRenderer\"},{\"attributes\":{\"active_drag\":\"auto\",\"active_scroll\":\"auto\",\"active_tap\":\"auto\",\"tools\":[{\"id\":\"b0433241-ecfd-4c26-a4bd-65665b64d78a\",\"type\":\"PanTool\"},{\"id\":\"44495ca9-35d5-459f-9433-f6a6c9941413\",\"type\":\"WheelZoomTool\"},{\"id\":\"4889cf87-676f-4884-a648-a24fc7e4886a\",\"type\":\"BoxZoomTool\"},{\"id\":\"96eead26-7757-401d-a5f3-b61d7903844d\",\"type\":\"SaveTool\"},{\"id\":\"f5a1c1f0-4fbe-4df7-ad2f-04326b75090d\",\"type\":\"ResetTool\"},{\"id\":\"18029652-0d83-4d0b-a24e-6f3e1f0b5f86\",\"type\":\"HelpTool\"}]},\"id\":\"a8757a57-f0de-46fd-9f9f-ec5b54c0ad4e\",\"type\":\"Toolbar\"},{\"attributes\":{\"callback\":null,\"column_names\":[\"line_color\",\"line_alpha\",\"color\",\"fill_alpha\",\"height\",\"width\",\"y\",\"x\",\"label\"],\"data\":{\"MixedBreed\":[\"Nonmixed\"],\"OutcomeType\":[\"Return_to_owner\"],\"chart_index\":[{\"MixedBreed\":\"Nonmixed\",\"OutcomeType\":\"Return_to_owner\"}],\"color\":[\"#407ee7\"],\"fill_alpha\":[0.8],\"height\":[440.0],\"label\":[{\"MixedBreed\":\"Nonmixed\",\"OutcomeType\":\"Return_to_owner\"}],\"line_alpha\":[1.0],\"line_color\":[\"white\"],\"width\":[0.8],\"x\":[\"Return_to_owner\"],\"y\":[4566.0]}},\"id\":\"702f8d49-1495-4a2c-b6ee-405dad2f5feb\",\"type\":\"ColumnDataSource\"},{\"attributes\":{\"callback\":null,\"column_names\":[\"line_color\",\"line_alpha\",\"color\",\"fill_alpha\",\"height\",\"width\",\"y\",\"x\",\"label\"],\"data\":{\"MixedBreed\":[\"Mixed Breed\"],\"OutcomeType\":[\"Euthanasia\"],\"chart_index\":[{\"MixedBreed\":\"Mixed Breed\",\"OutcomeType\":\"Euthanasia\"}],\"color\":[\"#5ab738\"],\"fill_alpha\":[0.8],\"height\":[1364.0],\"label\":[{\"MixedBreed\":\"Mixed Breed\",\"OutcomeType\":\"Euthanasia\"}],\"line_alpha\":[1.0],\"line_color\":[\"white\"],\"width\":[0.8],\"x\":[\"Euthanasia\"],\"y\":[682.0]}},\"id\":\"c217f126-c4fb-4ac3-8af4-70f0a8b4f03b\",\"type\":\"ColumnDataSource\"},{\"attributes\":{\"fill_alpha\":{\"field\":\"fill_alpha\"},\"fill_color\":{\"field\":\"color\"},\"height\":{\"field\":\"height\",\"units\":\"data\"},\"line_color\":{\"field\":\"line_color\"},\"width\":{\"field\":\"width\",\"units\":\"data\"},\"x\":{\"field\":\"x\"},\"y\":{\"field\":\"y\"}},\"id\":\"1438426a-e4d3-4c8a-889a-e96ecee58111\",\"type\":\"Rect\"},{\"attributes\":{\"plot\":{\"id\":\"6265314b-b251-4ccb-aa4b-eca0db4dd9f2\",\"subtype\":\"Chart\",\"type\":\"Plot\"}},\"id\":\"96eead26-7757-401d-a5f3-b61d7903844d\",\"type\":\"SaveTool\"},{\"attributes\":{\"fill_alpha\":{\"field\":\"fill_alpha\"},\"fill_color\":{\"field\":\"color\"},\"height\":{\"field\":\"height\",\"units\":\"data\"},\"line_color\":{\"field\":\"line_color\"},\"width\":{\"field\":\"width\",\"units\":\"data\"},\"x\":{\"field\":\"x\"},\"y\":{\"field\":\"y\"}},\"id\":\"dfa3e1be-8469-495f-a5e2-3160f47d3023\",\"type\":\"Rect\"},{\"attributes\":{\"dimension\":1,\"plot\":{\"id\":\"6265314b-b251-4ccb-aa4b-eca0db4dd9f2\",\"subtype\":\"Chart\",\"type\":\"Plot\"},\"ticker\":{\"id\":\"9327a514-f3f8-45fc-bca8-fd8943e56b5b\",\"type\":\"BasicTicker\"}},\"id\":\"80676b5c-7ac7-4417-9260-a40ec29b6c60\",\"type\":\"Grid\"}],\"root_ids\":[\"6265314b-b251-4ccb-aa4b-eca0db4dd9f2\"]},\"title\":\"Bokeh Application\",\"version\":\"0.12.5\"}};\n",
       "            var render_items = [{\"docid\":\"d4fd0008-5539-4618-a720-29cf20d59830\",\"elementid\":\"384b46ba-c1d7-44d7-abc3-4ec4dc105794\",\"modelid\":\"6265314b-b251-4ccb-aa4b-eca0db4dd9f2\"}];\n",
       "            \n",
       "            Bokeh.embed.embed_items(docs_json, render_items);\n",
       "          };\n",
       "          if (document.readyState != \"loading\") fn();\n",
       "          else document.addEventListener(\"DOMContentLoaded\", fn);\n",
       "        })();\n",
       "      },\n",
       "      function(Bokeh) {\n",
       "      }\n",
       "    ];\n",
       "  \n",
       "    function run_inline_js() {\n",
       "      \n",
       "      if ((window.Bokeh !== undefined) || (force === true)) {\n",
       "        for (var i = 0; i < inline_js.length; i++) {\n",
       "          inline_js[i](window.Bokeh);\n",
       "        }if (force === true) {\n",
       "          display_loaded();\n",
       "        }} else if (Date.now() < window._bokeh_timeout) {\n",
       "        setTimeout(run_inline_js, 100);\n",
       "      } else if (!window._bokeh_failed_load) {\n",
       "        console.log(\"Bokeh: BokehJS failed to load within specified timeout.\");\n",
       "        window._bokeh_failed_load = true;\n",
       "      } else if (force !== true) {\n",
       "        var cell = $(document.getElementById(\"384b46ba-c1d7-44d7-abc3-4ec4dc105794\")).parents('.cell').data().cell;\n",
       "        cell.output_area.append_execute_result(NB_LOAD_WARNING)\n",
       "      }\n",
       "  \n",
       "    }\n",
       "  \n",
       "    if (window._bokeh_is_loading === 0) {\n",
       "      console.log(\"Bokeh: BokehJS loaded, going straight to plotting\");\n",
       "      run_inline_js();\n",
       "    } else {\n",
       "      load_libs(js_urls, function() {\n",
       "        console.log(\"Bokeh: BokehJS plotting callback run at\", now());\n",
       "        run_inline_js();\n",
       "      });\n",
       "    }\n",
       "  }(this));\n",
       "</script>"
      ]
     },
     "metadata": {},
     "output_type": "display_data"
    }
   ],
   "source": [
    "p = Bar(data, label='OutcomeType', values = 'MixedBreed', agg='count', stack='MixedBreed',\n",
    "        title=\"Outcomes by Breed Type\", legend='top_right')\n",
    "show(p)"
   ]
  },
  {
   "cell_type": "code",
   "execution_count": 15,
   "metadata": {
    "scrolled": true
   },
   "outputs": [
    {
     "data": {
      "text/plain": [
       "array([[<matplotlib.axes._subplots.AxesSubplot object at 0x11fe14690>]], dtype=object)"
      ]
     },
     "execution_count": 15,
     "metadata": {},
     "output_type": "execute_result"
    },
    {
     "data": {
      "image/png": "[encoded data removed]",
      "text/plain": [
       "<matplotlib.figure.Figure at 0x11b5c3790>"
      ]
     },
     "metadata": {},
     "output_type": "display_data"
    }
   ],
   "source": [
    "data.hist(column=\"ConvertedAge\", bins=25)"
   ]
  },
  {
   "cell_type": "code",
   "execution_count": 16,
   "metadata": {},
   "outputs": [
    {
     "data": {
      "text/html": [
       "\n",
       "\n",
       "    <div class=\"bk-root\">\n",
       "        <div class=\"bk-plotdiv\" id=\"87660d74-f4c5-408a-872c-d2271b4a80d1\"></div>\n",
       "    </div>\n",
       "<script type=\"text/javascript\">\n",
       "  \n",
       "  (function(global) {\n",
       "    function now() {\n",
       "      return new Date();\n",
       "    }\n",
       "  \n",
       "    var force = false;\n",
       "  \n",
       "    if (typeof (window._bokeh_onload_callbacks) === \"undefined\" || force === true) {\n",
       "      window._bokeh_onload_callbacks = [];\n",
       "      window._bokeh_is_loading = undefined;\n",
       "    }\n",
       "  \n",
       "  \n",
       "    \n",
       "    if (typeof (window._bokeh_timeout) === \"undefined\" || force === true) {\n",
       "      window._bokeh_timeout = Date.now() + 0;\n",
       "      window._bokeh_failed_load = false;\n",
       "    }\n",
       "  \n",
       "    var NB_LOAD_WARNING = {'data': {'text/html':\n",
       "       \"<div style='background-color: #fdd'>\\n\"+\n",
       "       \"<p>\\n\"+\n",
       "       \"BokehJS does not appear to have successfully loaded. If loading BokehJS from CDN, this \\n\"+\n",
       "       \"may be due to a slow or bad network connection. Possible fixes:\\n\"+\n",
       "       \"</p>\\n\"+\n",
       "       \"<ul>\\n\"+\n",
       "       \"<li>re-rerun `output_notebook()` to attempt to load from CDN again, or</li>\\n\"+\n",
       "       \"<li>use INLINE resources instead, as so:</li>\\n\"+\n",
       "       \"</ul>\\n\"+\n",
       "       \"<code>\\n\"+\n",
       "       \"from bokeh.resources import INLINE\\n\"+\n",
       "       \"output_notebook(resources=INLINE)\\n\"+\n",
       "       \"</code>\\n\"+\n",
       "       \"</div>\"}};\n",
       "  \n",
       "    function display_loaded() {\n",
       "      if (window.Bokeh !== undefined) {\n",
       "        var el = document.getElementById(\"87660d74-f4c5-408a-872c-d2271b4a80d1\");\n",
       "        el.textContent = \"BokehJS \" + Bokeh.version + \" successfully loaded.\";\n",
       "      } else if (Date.now() < window._bokeh_timeout) {\n",
       "        setTimeout(display_loaded, 100)\n",
       "      }\n",
       "    }\n",
       "  \n",
       "    function run_callbacks() {\n",
       "      window._bokeh_onload_callbacks.forEach(function(callback) { callback() });\n",
       "      delete window._bokeh_onload_callbacks\n",
       "      console.info(\"Bokeh: all callbacks have finished\");\n",
       "    }\n",
       "  \n",
       "    function load_libs(js_urls, callback) {\n",
       "      window._bokeh_onload_callbacks.push(callback);\n",
       "      if (window._bokeh_is_loading > 0) {\n",
       "        console.log(\"Bokeh: BokehJS is being loaded, scheduling callback at\", now());\n",
       "        return null;\n",
       "      }\n",
       "      if (js_urls == null || js_urls.length === 0) {\n",
       "        run_callbacks();\n",
       "        return null;\n",
       "      }\n",
       "      console.log(\"Bokeh: BokehJS not loaded, scheduling load and callback at\", now());\n",
       "      window._bokeh_is_loading = js_urls.length;\n",
       "      for (var i = 0; i < js_urls.length; i++) {\n",
       "        var url = js_urls[i];\n",
       "        var s = document.createElement('script');\n",
       "        s.src = url;\n",
       "        s.async = false;\n",
       "        s.onreadystatechange = s.onload = function() {\n",
       "          window._bokeh_is_loading--;\n",
       "          if (window._bokeh_is_loading === 0) {\n",
       "            console.log(\"Bokeh: all BokehJS libraries loaded\");\n",
       "            run_callbacks()\n",
       "          }\n",
       "        };\n",
       "        s.onerror = function() {\n",
       "          console.warn(\"failed to load library \" + url);\n",
       "        };\n",
       "        console.log(\"Bokeh: injecting script tag for BokehJS library: \", url);\n",
       "        document.getElementsByTagName(\"head\")[0].appendChild(s);\n",
       "      }\n",
       "    };var element = document.getElementById(\"87660d74-f4c5-408a-872c-d2271b4a80d1\");\n",
       "    if (element == null) {\n",
       "      console.log(\"Bokeh: ERROR: autoload.js configured with elementid '87660d74-f4c5-408a-872c-d2271b4a80d1' but no matching script tag was found. \")\n",
       "      return false;\n",
       "    }\n",
       "  \n",
       "    var js_urls = [];\n",
       "  \n",
       "    var inline_js = [\n",
       "      function(Bokeh) {\n",
       "        (function() {\n",
       "          var fn = function() {\n",
       "            var docs_json = {\"eb51f789-da8d-4ad1-9a51-12d2effe19be\":{\"roots\":{\"references\":[{\"attributes\":{\"data_source\":{\"id\":\"28c1478e-807f-41d9-a87a-fdcbac7ec414\",\"type\":\"ColumnDataSource\"},\"glyph\":{\"id\":\"4e422674-8070-4c74-946c-5dced74ea738\",\"type\":\"Rect\"},\"hover_glyph\":null,\"muted_glyph\":null},\"id\":\"e3fb2afa-6aad-418d-a391-bca5138057eb\",\"type\":\"GlyphRenderer\"},{\"attributes\":{\"callback\":null,\"column_names\":[\"line_color\",\"line_alpha\",\"color\",\"fill_alpha\",\"height\",\"width\",\"y\",\"x\",\"label\"],\"data\":{\"OutcomeType\":[\"Adoption\"],\"chart_index\":[{\"OutcomeType\":\"Adoption\"}],\"color\":[\"#f22c40\"],\"fill_alpha\":[0.8],\"height\":[85.80346364564954],\"label\":[{\"OutcomeType\":\"Adoption\"}],\"line_alpha\":[1.0],\"line_color\":[\"white\"],\"width\":[0.8],\"x\":[\"Adoption\"],\"y\":[42.90173182282477]}},\"id\":\"28c1478e-807f-41d9-a87a-fdcbac7ec414\",\"type\":\"ColumnDataSource\"},{\"attributes\":{\"label\":{\"value\":\"Died\"},\"renderers\":[{\"id\":\"65145895-df6a-4be4-9ce9-4ffeb5b6bc31\",\"type\":\"GlyphRenderer\"}]},\"id\":\"c12858ab-a2c1-49c1-81fe-1f592424715b\",\"type\":\"LegendItem\"},{\"attributes\":{\"fill_alpha\":{\"field\":\"fill_alpha\"},\"fill_color\":{\"field\":\"color\"},\"height\":{\"field\":\"height\",\"units\":\"data\"},\"line_color\":{\"field\":\"line_color\"},\"width\":{\"field\":\"width\",\"units\":\"data\"},\"x\":{\"field\":\"x\"},\"y\":{\"field\":\"y\"}},\"id\":\"38f6a77c-2f41-4eda-b836-46841c826965\",\"type\":\"Rect\"},{\"attributes\":{},\"id\":\"bc07e226-31a4-476a-b795-68deaf74e855\",\"type\":\"CategoricalTickFormatter\"},{\"attributes\":{},\"id\":\"3853c91a-53f7-48c4-bb52-a0a9642d0af7\",\"type\":\"ToolEvents\"},{\"attributes\":{\"active_drag\":\"auto\",\"active_scroll\":\"auto\",\"active_tap\":\"auto\",\"tools\":[{\"id\":\"322e5f80-922e-4ea9-99b1-15485923110f\",\"type\":\"PanTool\"},{\"id\":\"2518cd53-1736-4170-a876-05f55b017ea6\",\"type\":\"WheelZoomTool\"},{\"id\":\"2294e615-f875-42c6-bd5c-96c0614a5653\",\"type\":\"BoxZoomTool\"},{\"id\":\"89677fb8-4efb-40ef-a445-7ac53a06341d\",\"type\":\"SaveTool\"},{\"id\":\"1c748a7f-cabd-4d35-9062-fc0828821094\",\"type\":\"ResetTool\"},{\"id\":\"1af347be-a1ec-43ea-9657-28e8cb8494bc\",\"type\":\"HelpTool\"}]},\"id\":\"b993fa19-4021-4c6c-99ca-28de9ca93f26\",\"type\":\"Toolbar\"},{\"attributes\":{\"label\":{\"value\":\"Transfer\"},\"renderers\":[{\"id\":\"06412f26-7fa0-4c0f-b1af-ce0f9b27e68c\",\"type\":\"GlyphRenderer\"}]},\"id\":\"ab48989b-d1f1-4c1b-b588-bcd56e8e5a92\",\"type\":\"LegendItem\"},{\"attributes\":{\"callback\":null,\"column_names\":[\"line_color\",\"line_alpha\",\"color\",\"fill_alpha\",\"height\",\"width\",\"y\",\"x\",\"label\"],\"data\":{\"OutcomeType\":[\"Transfer\"],\"chart_index\":[{\"OutcomeType\":\"Transfer\"}],\"color\":[\"#f22c40\"],\"fill_alpha\":[0.8],\"height\":[78.89694332413501],\"label\":[{\"OutcomeType\":\"Transfer\"}],\"line_alpha\":[1.0],\"line_color\":[\"white\"],\"width\":[0.8],\"x\":[\"Transfer\"],\"y\":[39.448471662067504]}},\"id\":\"c44a2217-3aa9-4d1f-84be-f70462a70675\",\"type\":\"ColumnDataSource\"},{\"attributes\":{},\"id\":\"89abea00-c6d6-43de-9a17-9f64c009d20e\",\"type\":\"BasicTickFormatter\"},{\"attributes\":{\"data_source\":{\"id\":\"15533e32-74c1-47f1-a4c7-0b1a627e78c8\",\"type\":\"ColumnDataSource\"},\"glyph\":{\"id\":\"38f6a77c-2f41-4eda-b836-46841c826965\",\"type\":\"Rect\"},\"hover_glyph\":null,\"muted_glyph\":null},\"id\":\"65145895-df6a-4be4-9ce9-4ffeb5b6bc31\",\"type\":\"GlyphRenderer\"},{\"attributes\":{\"data_source\":{\"id\":\"ce0c5b21-eec2-4e8b-a9bd-de30d8074055\",\"type\":\"ColumnDataSource\"},\"glyph\":{\"id\":\"e07b6bee-1765-4b1e-8ac1-ba95a2d9d818\",\"type\":\"Rect\"},\"hover_glyph\":null,\"muted_glyph\":null},\"id\":\"e7b5dc58-b6b2-4bf1-961e-a88e7a23d6d5\",\"type\":\"GlyphRenderer\"},{\"attributes\":{\"callback\":null,\"factors\":[\"Adoption\",\"Died\",\"Euthanasia\",\"Return_to_owner\",\"Transfer\"]},\"id\":\"82be35e0-9b41-481d-974c-f13e515bfc5b\",\"type\":\"FactorRange\"},{\"attributes\":{\"plot\":{\"id\":\"5f89deb7-e94d-412d-ae1c-e1d06747ff70\",\"subtype\":\"Chart\",\"type\":\"Plot\"}},\"id\":\"1af347be-a1ec-43ea-9657-28e8cb8494bc\",\"type\":\"HelpTool\"},{\"attributes\":{},\"id\":\"ee88c0f4-6506-432d-b5c5-bd0dae1d3dce\",\"type\":\"BasicTicker\"},{\"attributes\":{\"fill_alpha\":{\"field\":\"fill_alpha\"},\"fill_color\":{\"field\":\"color\"},\"height\":{\"field\":\"height\",\"units\":\"data\"},\"line_color\":{\"field\":\"line_color\"},\"width\":{\"field\":\"width\",\"units\":\"data\"},\"x\":{\"field\":\"x\"},\"y\":{\"field\":\"y\"}},\"id\":\"954377fa-4c26-4d51-a30b-6955efc07910\",\"type\":\"Rect\"},{\"attributes\":{\"axis_label\":\"Outcometype\",\"formatter\":{\"id\":\"bc07e226-31a4-476a-b795-68deaf74e855\",\"type\":\"CategoricalTickFormatter\"},\"major_label_orientation\":0.7853981633974483,\"plot\":{\"id\":\"5f89deb7-e94d-412d-ae1c-e1d06747ff70\",\"subtype\":\"Chart\",\"type\":\"Plot\"},\"ticker\":{\"id\":\"040aa49b-e798-4c6c-950a-c76efd297464\",\"type\":\"CategoricalTicker\"}},\"id\":\"2bbefb20-5ed2-43ad-b832-43ff98bce049\",\"type\":\"CategoricalAxis\"},{\"attributes\":{},\"id\":\"040aa49b-e798-4c6c-950a-c76efd297464\",\"type\":\"CategoricalTicker\"},{\"attributes\":{\"label\":{\"value\":\"Adoption\"},\"renderers\":[{\"id\":\"e3fb2afa-6aad-418d-a391-bca5138057eb\",\"type\":\"GlyphRenderer\"}]},\"id\":\"d7fee458-ed34-4e4b-bd4b-5b9ef9e3f734\",\"type\":\"LegendItem\"},{\"attributes\":{\"plot\":{\"id\":\"5f89deb7-e94d-412d-ae1c-e1d06747ff70\",\"subtype\":\"Chart\",\"type\":\"Plot\"}},\"id\":\"2518cd53-1736-4170-a876-05f55b017ea6\",\"type\":\"WheelZoomTool\"},{\"attributes\":{\"plot\":null,\"text\":\"Outcomes by Age\"},\"id\":\"8c7e3fb0-5b82-4fa0-aa4a-eb36028cb94c\",\"type\":\"Title\"},{\"attributes\":{\"data_source\":{\"id\":\"c44a2217-3aa9-4d1f-84be-f70462a70675\",\"type\":\"ColumnDataSource\"},\"glyph\":{\"id\":\"16575560-a055-4937-8533-eb2ad2d0866c\",\"type\":\"Rect\"},\"hover_glyph\":null,\"muted_glyph\":null},\"id\":\"06412f26-7fa0-4c0f-b1af-ce0f9b27e68c\",\"type\":\"GlyphRenderer\"},{\"attributes\":{\"callback\":null,\"column_names\":[\"line_color\",\"line_alpha\",\"color\",\"fill_alpha\",\"height\",\"width\",\"y\",\"x\",\"label\"],\"data\":{\"OutcomeType\":[\"Died\"],\"chart_index\":[{\"OutcomeType\":\"Died\"}],\"color\":[\"#f22c40\"],\"fill_alpha\":[0.8],\"height\":[70.75380710659898],\"label\":[{\"OutcomeType\":\"Died\"}],\"line_alpha\":[1.0],\"line_color\":[\"white\"],\"width\":[0.8],\"x\":[\"Died\"],\"y\":[35.37690355329949]}},\"id\":\"15533e32-74c1-47f1-a4c7-0b1a627e78c8\",\"type\":\"ColumnDataSource\"},{\"attributes\":{\"items\":[{\"id\":\"6ec1a137-0a24-413c-a61d-c429937005c3\",\"type\":\"LegendItem\"},{\"id\":\"8e2c0b46-5902-4b2a-a62a-4da678743cf2\",\"type\":\"LegendItem\"},{\"id\":\"d7fee458-ed34-4e4b-bd4b-5b9ef9e3f734\",\"type\":\"LegendItem\"},{\"id\":\"ab48989b-d1f1-4c1b-b588-bcd56e8e5a92\",\"type\":\"LegendItem\"},{\"id\":\"c12858ab-a2c1-49c1-81fe-1f592424715b\",\"type\":\"LegendItem\"}],\"plot\":{\"id\":\"5f89deb7-e94d-412d-ae1c-e1d06747ff70\",\"subtype\":\"Chart\",\"type\":\"Plot\"}},\"id\":\"0ad39e3c-df08-47f3-8cef-5b5dc1246c14\",\"type\":\"Legend\"},{\"attributes\":{\"label\":{\"value\":\"Return_to_owner\"},\"renderers\":[{\"id\":\"63f17ad4-604d-464a-baf0-69f89fe1dfc2\",\"type\":\"GlyphRenderer\"}]},\"id\":\"6ec1a137-0a24-413c-a61d-c429937005c3\",\"type\":\"LegendItem\"},{\"attributes\":{\"data_source\":{\"id\":\"aa686e03-9533-4fcd-a1b6-7dffeb4aa028\",\"type\":\"ColumnDataSource\"},\"glyph\":{\"id\":\"954377fa-4c26-4d51-a30b-6955efc07910\",\"type\":\"Rect\"},\"hover_glyph\":null,\"muted_glyph\":null},\"id\":\"63f17ad4-604d-464a-baf0-69f89fe1dfc2\",\"type\":\"GlyphRenderer\"},{\"attributes\":{\"callback\":null,\"end\":225.54903886335143},\"id\":\"79ff32ef-4b7d-4edc-86ad-f775ec82598c\",\"type\":\"Range1d\"},{\"attributes\":{\"plot\":{\"id\":\"5f89deb7-e94d-412d-ae1c-e1d06747ff70\",\"subtype\":\"Chart\",\"type\":\"Plot\"}},\"id\":\"1c748a7f-cabd-4d35-9062-fc0828821094\",\"type\":\"ResetTool\"},{\"attributes\":{\"fill_alpha\":{\"field\":\"fill_alpha\"},\"fill_color\":{\"field\":\"color\"},\"height\":{\"field\":\"height\",\"units\":\"data\"},\"line_color\":{\"field\":\"line_color\"},\"width\":{\"field\":\"width\",\"units\":\"data\"},\"x\":{\"field\":\"x\"},\"y\":{\"field\":\"y\"}},\"id\":\"16575560-a055-4937-8533-eb2ad2d0866c\",\"type\":\"Rect\"},{\"attributes\":{\"callback\":null,\"column_names\":[\"line_color\",\"line_alpha\",\"color\",\"fill_alpha\",\"height\",\"width\",\"y\",\"x\",\"label\"],\"data\":{\"OutcomeType\":[\"Euthanasia\"],\"chart_index\":[{\"OutcomeType\":\"Euthanasia\"}],\"color\":[\"#f22c40\"],\"fill_alpha\":[0.8],\"height\":[206.3514469453376],\"label\":[{\"OutcomeType\":\"Euthanasia\"}],\"line_alpha\":[1.0],\"line_color\":[\"white\"],\"width\":[0.8],\"x\":[\"Euthanasia\"],\"y\":[103.1757234726688]}},\"id\":\"ce0c5b21-eec2-4e8b-a9bd-de30d8074055\",\"type\":\"ColumnDataSource\"},{\"attributes\":{\"below\":[{\"id\":\"2bbefb20-5ed2-43ad-b832-43ff98bce049\",\"type\":\"CategoricalAxis\"}],\"css_classes\":null,\"left\":[{\"id\":\"e7a49ecf-4149-4624-a006-a0f6b583f0f8\",\"type\":\"LinearAxis\"}],\"renderers\":[{\"id\":\"2fe7ead2-af41-41b7-b350-9b3091a889ea\",\"type\":\"BoxAnnotation\"},{\"id\":\"63f17ad4-604d-464a-baf0-69f89fe1dfc2\",\"type\":\"GlyphRenderer\"},{\"id\":\"e7b5dc58-b6b2-4bf1-961e-a88e7a23d6d5\",\"type\":\"GlyphRenderer\"},{\"id\":\"e3fb2afa-6aad-418d-a391-bca5138057eb\",\"type\":\"GlyphRenderer\"},{\"id\":\"06412f26-7fa0-4c0f-b1af-ce0f9b27e68c\",\"type\":\"GlyphRenderer\"},{\"id\":\"65145895-df6a-4be4-9ce9-4ffeb5b6bc31\",\"type\":\"GlyphRenderer\"},{\"id\":\"0ad39e3c-df08-47f3-8cef-5b5dc1246c14\",\"type\":\"Legend\"},{\"id\":\"2bbefb20-5ed2-43ad-b832-43ff98bce049\",\"type\":\"CategoricalAxis\"},{\"id\":\"e7a49ecf-4149-4624-a006-a0f6b583f0f8\",\"type\":\"LinearAxis\"},{\"id\":\"6f6c2402-eeea-4c3b-bf46-0750d722bde0\",\"type\":\"Grid\"}],\"title\":{\"id\":\"8c7e3fb0-5b82-4fa0-aa4a-eb36028cb94c\",\"type\":\"Title\"},\"tool_events\":{\"id\":\"3853c91a-53f7-48c4-bb52-a0a9642d0af7\",\"type\":\"ToolEvents\"},\"toolbar\":{\"id\":\"b993fa19-4021-4c6c-99ca-28de9ca93f26\",\"type\":\"Toolbar\"},\"x_mapper_type\":\"auto\",\"x_range\":{\"id\":\"82be35e0-9b41-481d-974c-f13e515bfc5b\",\"type\":\"FactorRange\"},\"y_mapper_type\":\"auto\",\"y_range\":{\"id\":\"79ff32ef-4b7d-4edc-86ad-f775ec82598c\",\"type\":\"Range1d\"}},\"id\":\"5f89deb7-e94d-412d-ae1c-e1d06747ff70\",\"subtype\":\"Chart\",\"type\":\"Plot\"},{\"attributes\":{\"callback\":null,\"column_names\":[\"line_color\",\"line_alpha\",\"color\",\"fill_alpha\",\"height\",\"width\",\"y\",\"x\",\"label\"],\"data\":{\"OutcomeType\":[\"Return_to_owner\"],\"chart_index\":[{\"OutcomeType\":\"Return_to_owner\"}],\"color\":[\"#f22c40\"],\"fill_alpha\":[0.8],\"height\":[214.80860844128708],\"label\":[{\"OutcomeType\":\"Return_to_owner\"}],\"line_alpha\":[1.0],\"line_color\":[\"white\"],\"width\":[0.8],\"x\":[\"Return_to_owner\"],\"y\":[107.40430422064354]}},\"id\":\"aa686e03-9533-4fcd-a1b6-7dffeb4aa028\",\"type\":\"ColumnDataSource\"},{\"attributes\":{\"dimension\":1,\"plot\":{\"id\":\"5f89deb7-e94d-412d-ae1c-e1d06747ff70\",\"subtype\":\"Chart\",\"type\":\"Plot\"},\"ticker\":{\"id\":\"ee88c0f4-6506-432d-b5c5-bd0dae1d3dce\",\"type\":\"BasicTicker\"}},\"id\":\"6f6c2402-eeea-4c3b-bf46-0750d722bde0\",\"type\":\"Grid\"},{\"attributes\":{\"overlay\":{\"id\":\"2fe7ead2-af41-41b7-b350-9b3091a889ea\",\"type\":\"BoxAnnotation\"},\"plot\":{\"id\":\"5f89deb7-e94d-412d-ae1c-e1d06747ff70\",\"subtype\":\"Chart\",\"type\":\"Plot\"}},\"id\":\"2294e615-f875-42c6-bd5c-96c0614a5653\",\"type\":\"BoxZoomTool\"},{\"attributes\":{\"fill_alpha\":{\"field\":\"fill_alpha\"},\"fill_color\":{\"field\":\"color\"},\"height\":{\"field\":\"height\",\"units\":\"data\"},\"line_color\":{\"field\":\"line_color\"},\"width\":{\"field\":\"width\",\"units\":\"data\"},\"x\":{\"field\":\"x\"},\"y\":{\"field\":\"y\"}},\"id\":\"e07b6bee-1765-4b1e-8ac1-ba95a2d9d818\",\"type\":\"Rect\"},{\"attributes\":{\"plot\":{\"id\":\"5f89deb7-e94d-412d-ae1c-e1d06747ff70\",\"subtype\":\"Chart\",\"type\":\"Plot\"}},\"id\":\"89677fb8-4efb-40ef-a445-7ac53a06341d\",\"type\":\"SaveTool\"},{\"attributes\":{\"plot\":{\"id\":\"5f89deb7-e94d-412d-ae1c-e1d06747ff70\",\"subtype\":\"Chart\",\"type\":\"Plot\"}},\"id\":\"322e5f80-922e-4ea9-99b1-15485923110f\",\"type\":\"PanTool\"},{\"attributes\":{\"label\":{\"value\":\"Euthanasia\"},\"renderers\":[{\"id\":\"e7b5dc58-b6b2-4bf1-961e-a88e7a23d6d5\",\"type\":\"GlyphRenderer\"}]},\"id\":\"8e2c0b46-5902-4b2a-a62a-4da678743cf2\",\"type\":\"LegendItem\"},{\"attributes\":{\"axis_label\":\"Mean( Convertedage )\",\"formatter\":{\"id\":\"89abea00-c6d6-43de-9a17-9f64c009d20e\",\"type\":\"BasicTickFormatter\"},\"plot\":{\"id\":\"5f89deb7-e94d-412d-ae1c-e1d06747ff70\",\"subtype\":\"Chart\",\"type\":\"Plot\"},\"ticker\":{\"id\":\"ee88c0f4-6506-432d-b5c5-bd0dae1d3dce\",\"type\":\"BasicTicker\"}},\"id\":\"e7a49ecf-4149-4624-a006-a0f6b583f0f8\",\"type\":\"LinearAxis\"},{\"attributes\":{\"bottom_units\":\"screen\",\"fill_alpha\":{\"value\":0.5},\"fill_color\":{\"value\":\"lightgrey\"},\"left_units\":\"screen\",\"level\":\"overlay\",\"line_alpha\":{\"value\":1.0},\"line_color\":{\"value\":\"black\"},\"line_dash\":[4,4],\"line_width\":{\"value\":2},\"plot\":null,\"render_mode\":\"css\",\"right_units\":\"screen\",\"top_units\":\"screen\"},\"id\":\"2fe7ead2-af41-41b7-b350-9b3091a889ea\",\"type\":\"BoxAnnotation\"},{\"attributes\":{\"fill_alpha\":{\"field\":\"fill_alpha\"},\"fill_color\":{\"field\":\"color\"},\"height\":{\"field\":\"height\",\"units\":\"data\"},\"line_color\":{\"field\":\"line_color\"},\"width\":{\"field\":\"width\",\"units\":\"data\"},\"x\":{\"field\":\"x\"},\"y\":{\"field\":\"y\"}},\"id\":\"4e422674-8070-4c74-946c-5dced74ea738\",\"type\":\"Rect\"}],\"root_ids\":[\"5f89deb7-e94d-412d-ae1c-e1d06747ff70\"]},\"title\":\"Bokeh Application\",\"version\":\"0.12.5\"}};\n",
       "            var render_items = [{\"docid\":\"eb51f789-da8d-4ad1-9a51-12d2effe19be\",\"elementid\":\"87660d74-f4c5-408a-872c-d2271b4a80d1\",\"modelid\":\"5f89deb7-e94d-412d-ae1c-e1d06747ff70\"}];\n",
       "            \n",
       "            Bokeh.embed.embed_items(docs_json, render_items);\n",
       "          };\n",
       "          if (document.readyState != \"loading\") fn();\n",
       "          else document.addEventListener(\"DOMContentLoaded\", fn);\n",
       "        })();\n",
       "      },\n",
       "      function(Bokeh) {\n",
       "      }\n",
       "    ];\n",
       "  \n",
       "    function run_inline_js() {\n",
       "      \n",
       "      if ((window.Bokeh !== undefined) || (force === true)) {\n",
       "        for (var i = 0; i < inline_js.length; i++) {\n",
       "          inline_js[i](window.Bokeh);\n",
       "        }if (force === true) {\n",
       "          display_loaded();\n",
       "        }} else if (Date.now() < window._bokeh_timeout) {\n",
       "        setTimeout(run_inline_js, 100);\n",
       "      } else if (!window._bokeh_failed_load) {\n",
       "        console.log(\"Bokeh: BokehJS failed to load within specified timeout.\");\n",
       "        window._bokeh_failed_load = true;\n",
       "      } else if (force !== true) {\n",
       "        var cell = $(document.getElementById(\"87660d74-f4c5-408a-872c-d2271b4a80d1\")).parents('.cell').data().cell;\n",
       "        cell.output_area.append_execute_result(NB_LOAD_WARNING)\n",
       "      }\n",
       "  \n",
       "    }\n",
       "  \n",
       "    if (window._bokeh_is_loading === 0) {\n",
       "      console.log(\"Bokeh: BokehJS loaded, going straight to plotting\");\n",
       "      run_inline_js();\n",
       "    } else {\n",
       "      load_libs(js_urls, function() {\n",
       "        console.log(\"Bokeh: BokehJS plotting callback run at\", now());\n",
       "        run_inline_js();\n",
       "      });\n",
       "    }\n",
       "  }(this));\n",
       "</script>"
      ]
     },
     "metadata": {},
     "output_type": "display_data"
    }
   ],
   "source": [
    "p = Bar(data, label='OutcomeType', values = 'ConvertedAge', agg='mean',\n",
    "        title=\"Outcomes by Age\", legend='top_right')\n",
    "show(p)"
   ]
  },
  {
   "cell_type": "code",
   "execution_count": 17,
   "metadata": {
    "scrolled": false
   },
   "outputs": [
    {
     "data": {
      "text/plain": [
       "<matplotlib.axes._subplots.AxesSubplot at 0x11fc73110>"
      ]
     },
     "execution_count": 17,
     "metadata": {},
     "output_type": "execute_result"
    },
    {
     "data": {
      "image/png": "[encoded data removed]",
      "text/plain": [
       "<matplotlib.figure.Figure at 0x11ffbc150>"
      ]
     },
     "metadata": {},
     "output_type": "display_data"
    }
   ],
   "source": [
    "#Named/unnamed\n",
    "\n",
    "name = data['Named'].value_counts() \n",
    "name.plot(kind='bar',color='#34ABD8',rot=0)"
   ]
  },
  {
   "cell_type": "code",
   "execution_count": 18,
   "metadata": {},
   "outputs": [
    {
     "data": {
      "text/html": [
       "\n",
       "\n",
       "    <div class=\"bk-root\">\n",
       "        <div class=\"bk-plotdiv\" id=\"4a719daa-9300-49c4-bf1c-f101830f6b73\"></div>\n",
       "    </div>\n",
       "<script type=\"text/javascript\">\n",
       "  \n",
       "  (function(global) {\n",
       "    function now() {\n",
       "      return new Date();\n",
       "    }\n",
       "  \n",
       "    var force = false;\n",
       "  \n",
       "    if (typeof (window._bokeh_onload_callbacks) === \"undefined\" || force === true) {\n",
       "      window._bokeh_onload_callbacks = [];\n",
       "      window._bokeh_is_loading = undefined;\n",
       "    }\n",
       "  \n",
       "  \n",
       "    \n",
       "    if (typeof (window._bokeh_timeout) === \"undefined\" || force === true) {\n",
       "      window._bokeh_timeout = Date.now() + 0;\n",
       "      window._bokeh_failed_load = false;\n",
       "    }\n",
       "  \n",
       "    var NB_LOAD_WARNING = {'data': {'text/html':\n",
       "       \"<div style='background-color: #fdd'>\\n\"+\n",
       "       \"<p>\\n\"+\n",
       "       \"BokehJS does not appear to have successfully loaded. If loading BokehJS from CDN, this \\n\"+\n",
       "       \"may be due to a slow or bad network connection. Possible fixes:\\n\"+\n",
       "       \"</p>\\n\"+\n",
       "       \"<ul>\\n\"+\n",
       "       \"<li>re-rerun `output_notebook()` to attempt to load from CDN again, or</li>\\n\"+\n",
       "       \"<li>use INLINE resources instead, as so:</li>\\n\"+\n",
       "       \"</ul>\\n\"+\n",
       "       \"<code>\\n\"+\n",
       "       \"from bokeh.resources import INLINE\\n\"+\n",
       "       \"output_notebook(resources=INLINE)\\n\"+\n",
       "       \"</code>\\n\"+\n",
       "       \"</div>\"}};\n",
       "  \n",
       "    function display_loaded() {\n",
       "      if (window.Bokeh !== undefined) {\n",
       "        var el = document.getElementById(\"4a719daa-9300-49c4-bf1c-f101830f6b73\");\n",
       "        el.textContent = \"BokehJS \" + Bokeh.version + \" successfully loaded.\";\n",
       "      } else if (Date.now() < window._bokeh_timeout) {\n",
       "        setTimeout(display_loaded, 100)\n",
       "      }\n",
       "    }\n",
       "  \n",
       "    function run_callbacks() {\n",
       "      window._bokeh_onload_callbacks.forEach(function(callback) { callback() });\n",
       "      delete window._bokeh_onload_callbacks\n",
       "      console.info(\"Bokeh: all callbacks have finished\");\n",
       "    }\n",
       "  \n",
       "    function load_libs(js_urls, callback) {\n",
       "      window._bokeh_onload_callbacks.push(callback);\n",
       "      if (window._bokeh_is_loading > 0) {\n",
       "        console.log(\"Bokeh: BokehJS is being loaded, scheduling callback at\", now());\n",
       "        return null;\n",
       "      }\n",
       "      if (js_urls == null || js_urls.length === 0) {\n",
       "        run_callbacks();\n",
       "        return null;\n",
       "      }\n",
       "      console.log(\"Bokeh: BokehJS not loaded, scheduling load and callback at\", now());\n",
       "      window._bokeh_is_loading = js_urls.length;\n",
       "      for (var i = 0; i < js_urls.length; i++) {\n",
       "        var url = js_urls[i];\n",
       "        var s = document.createElement('script');\n",
       "        s.src = url;\n",
       "        s.async = false;\n",
       "        s.onreadystatechange = s.onload = function() {\n",
       "          window._bokeh_is_loading--;\n",
       "          if (window._bokeh_is_loading === 0) {\n",
       "            console.log(\"Bokeh: all BokehJS libraries loaded\");\n",
       "            run_callbacks()\n",
       "          }\n",
       "        };\n",
       "        s.onerror = function() {\n",
       "          console.warn(\"failed to load library \" + url);\n",
       "        };\n",
       "        console.log(\"Bokeh: injecting script tag for BokehJS library: \", url);\n",
       "        document.getElementsByTagName(\"head\")[0].appendChild(s);\n",
       "      }\n",
       "    };var element = document.getElementById(\"4a719daa-9300-49c4-bf1c-f101830f6b73\");\n",
       "    if (element == null) {\n",
       "      console.log(\"Bokeh: ERROR: autoload.js configured with elementid '4a719daa-9300-49c4-bf1c-f101830f6b73' but no matching script tag was found. \")\n",
       "      return false;\n",
       "    }\n",
       "  \n",
       "    var js_urls = [];\n",
       "  \n",
       "    var inline_js = [\n",
       "      function(Bokeh) {\n",
       "        (function() {\n",
       "          var fn = function() {\n",
       "            var docs_json = {\"7307f935-e218-43dd-ad3d-2e8de1b5eae6\":{\"roots\":{\"references\":[{\"attributes\":{\"dimension\":1,\"plot\":{\"id\":\"750958a6-b4e8-4b45-860b-b0aa9b7f36c3\",\"subtype\":\"Chart\",\"type\":\"Plot\"},\"ticker\":{\"id\":\"3ec8ecee-b599-41e8-bf23-3beb37a8b2d9\",\"type\":\"BasicTicker\"}},\"id\":\"333972e9-36ee-4c48-8a01-cacd289a4e89\",\"type\":\"Grid\"},{\"attributes\":{\"data_source\":{\"id\":\"9d6ac494-4136-43dd-9e98-2b61fa574e36\",\"type\":\"ColumnDataSource\"},\"glyph\":{\"id\":\"f1cf0800-9c7e-4b4d-89f8-c1ef1610c8f5\",\"type\":\"Rect\"},\"hover_glyph\":null,\"muted_glyph\":null},\"id\":\"50f7782f-c82c-46fe-acf1-9edea55fb853\",\"type\":\"GlyphRenderer\"},{\"attributes\":{\"plot\":{\"id\":\"750958a6-b4e8-4b45-860b-b0aa9b7f36c3\",\"subtype\":\"Chart\",\"type\":\"Plot\"}},\"id\":\"f7a53995-0b2e-4531-8514-35406958f0af\",\"type\":\"ResetTool\"},{\"attributes\":{\"data_source\":{\"id\":\"3dec890d-0c09-456c-a66b-2e9e8d4dae69\",\"type\":\"ColumnDataSource\"},\"glyph\":{\"id\":\"4c208046-a6e6-4d04-bfcc-4a25d0cdb7f0\",\"type\":\"Rect\"},\"hover_glyph\":null,\"muted_glyph\":null},\"id\":\"afa6eee8-40ab-481f-bcab-3ba6aa08df51\",\"type\":\"GlyphRenderer\"},{\"attributes\":{\"fill_alpha\":{\"field\":\"fill_alpha\"},\"fill_color\":{\"field\":\"color\"},\"height\":{\"field\":\"height\",\"units\":\"data\"},\"line_color\":{\"field\":\"line_color\"},\"width\":{\"field\":\"width\",\"units\":\"data\"},\"x\":{\"field\":\"x\"},\"y\":{\"field\":\"y\"}},\"id\":\"f1cf0800-9c7e-4b4d-89f8-c1ef1610c8f5\",\"type\":\"Rect\"},{\"attributes\":{\"callback\":null,\"column_names\":[\"line_color\",\"line_alpha\",\"color\",\"fill_alpha\",\"height\",\"width\",\"y\",\"x\",\"label\"],\"data\":{\"Named\":[\"Named\"],\"OutcomeType\":[\"Adoption\"],\"chart_index\":[{\"Named\":\"Named\",\"OutcomeType\":\"Adoption\"}],\"color\":[\"#f22c40\"],\"fill_alpha\":[0.8],\"height\":[9091.0],\"label\":[{\"Named\":\"Named\",\"OutcomeType\":\"Adoption\"}],\"line_alpha\":[1.0],\"line_color\":[\"white\"],\"width\":[0.8],\"x\":[\"Adoption\"],\"y\":[4545.5]}},\"id\":\"61f1c66a-50c5-4821-ab1c-1fed2d2e2769\",\"type\":\"ColumnDataSource\"},{\"attributes\":{\"plot\":{\"id\":\"750958a6-b4e8-4b45-860b-b0aa9b7f36c3\",\"subtype\":\"Chart\",\"type\":\"Plot\"}},\"id\":\"7e5f56c7-9a10-45e8-87bb-6575a44ebe64\",\"type\":\"HelpTool\"},{\"attributes\":{\"data_source\":{\"id\":\"61f1c66a-50c5-4821-ab1c-1fed2d2e2769\",\"type\":\"ColumnDataSource\"},\"glyph\":{\"id\":\"62323ee6-5189-4da5-ac44-02a1133cf7c5\",\"type\":\"Rect\"},\"hover_glyph\":null,\"muted_glyph\":null},\"id\":\"915c045e-159c-4c04-900e-9e37036331fe\",\"type\":\"GlyphRenderer\"},{\"attributes\":{\"plot\":{\"id\":\"750958a6-b4e8-4b45-860b-b0aa9b7f36c3\",\"subtype\":\"Chart\",\"type\":\"Plot\"}},\"id\":\"db40be1a-244d-4260-9b11-caf895cedbbc\",\"type\":\"WheelZoomTool\"},{\"attributes\":{\"below\":[{\"id\":\"bdb29cbd-37ed-4832-9c29-70c13f6232bb\",\"type\":\"CategoricalAxis\"}],\"css_classes\":null,\"left\":[{\"id\":\"1633cb0a-e88c-4d51-add6-a75e04e8ce8b\",\"type\":\"LinearAxis\"}],\"renderers\":[{\"id\":\"d4b351b0-ea05-45eb-8171-c0f3d471e4a9\",\"type\":\"BoxAnnotation\"},{\"id\":\"50f7782f-c82c-46fe-acf1-9edea55fb853\",\"type\":\"GlyphRenderer\"},{\"id\":\"afa6eee8-40ab-481f-bcab-3ba6aa08df51\",\"type\":\"GlyphRenderer\"},{\"id\":\"915c045e-159c-4c04-900e-9e37036331fe\",\"type\":\"GlyphRenderer\"},{\"id\":\"f4f7d251-868c-4128-94ee-be3cc08e48d3\",\"type\":\"GlyphRenderer\"},{\"id\":\"8f2aa56f-d854-4b16-a2b9-7bd144e64081\",\"type\":\"GlyphRenderer\"},{\"id\":\"c9428d36-03aa-4a2a-8f65-b3da2fe54907\",\"type\":\"GlyphRenderer\"},{\"id\":\"53a2f140-79f0-4c09-a50d-453f3f5ce61d\",\"type\":\"GlyphRenderer\"},{\"id\":\"cb17359d-8a04-4176-ae91-71470abf0b0d\",\"type\":\"GlyphRenderer\"},{\"id\":\"99964ffd-1b69-4fd0-9451-4ad59a4c9c4a\",\"type\":\"GlyphRenderer\"},{\"id\":\"0587da4e-da23-4a50-8fe4-1a915c51dc5d\",\"type\":\"GlyphRenderer\"},{\"id\":\"6bfabc9e-6587-413c-8942-3a999a829ca5\",\"type\":\"Legend\"},{\"id\":\"bdb29cbd-37ed-4832-9c29-70c13f6232bb\",\"type\":\"CategoricalAxis\"},{\"id\":\"1633cb0a-e88c-4d51-add6-a75e04e8ce8b\",\"type\":\"LinearAxis\"},{\"id\":\"333972e9-36ee-4c48-8a01-cacd289a4e89\",\"type\":\"Grid\"}],\"title\":{\"id\":\"3ab15e74-88c1-4afd-bac0-16b3a65ca21a\",\"type\":\"Title\"},\"tool_events\":{\"id\":\"52526721-dcb3-4d27-b5ad-c1b0f4e47678\",\"type\":\"ToolEvents\"},\"toolbar\":{\"id\":\"f109987e-2aeb-4637-ba20-b538fb86285b\",\"type\":\"Toolbar\"},\"x_mapper_type\":\"auto\",\"x_range\":{\"id\":\"0b155250-fcc2-4987-8e5a-6a7cab15c1a2\",\"type\":\"FactorRange\"},\"y_mapper_type\":\"auto\",\"y_range\":{\"id\":\"0c2d496f-9084-4c20-a782-07f34c8ec520\",\"type\":\"Range1d\"}},\"id\":\"750958a6-b4e8-4b45-860b-b0aa9b7f36c3\",\"subtype\":\"Chart\",\"type\":\"Plot\"},{\"attributes\":{\"data_source\":{\"id\":\"3a56a972-1705-4977-95a5-d91104c2f5e7\",\"type\":\"ColumnDataSource\"},\"glyph\":{\"id\":\"8c0cad0c-f490-4784-9c91-19748ce56887\",\"type\":\"Rect\"},\"hover_glyph\":null,\"muted_glyph\":null},\"id\":\"c9428d36-03aa-4a2a-8f65-b3da2fe54907\",\"type\":\"GlyphRenderer\"},{\"attributes\":{\"data_source\":{\"id\":\"1bfcc75e-ff14-4806-b98a-e5705ba7f2ed\",\"type\":\"ColumnDataSource\"},\"glyph\":{\"id\":\"bb86e52a-ad04-4184-a93e-bb31775e18e3\",\"type\":\"Rect\"},\"hover_glyph\":null,\"muted_glyph\":null},\"id\":\"8f2aa56f-d854-4b16-a2b9-7bd144e64081\",\"type\":\"GlyphRenderer\"},{\"attributes\":{\"callback\":null,\"column_names\":[\"line_color\",\"line_alpha\",\"color\",\"fill_alpha\",\"height\",\"width\",\"y\",\"x\",\"label\"],\"data\":{\"Named\":[\"Unnamed\"],\"OutcomeType\":[\"Transfer\"],\"chart_index\":[{\"Named\":\"Unnamed\",\"OutcomeType\":\"Transfer\"}],\"color\":[\"#5ab738\"],\"fill_alpha\":[0.8],\"height\":[4925.0],\"label\":[{\"Named\":\"Unnamed\",\"OutcomeType\":\"Transfer\"}],\"line_alpha\":[1.0],\"line_color\":[\"white\"],\"width\":[0.8],\"x\":[\"Transfer\"],\"y\":[2462.5]}},\"id\":\"b034e86e-9ae7-4cb6-b0d9-e65d4fce63aa\",\"type\":\"ColumnDataSource\"},{\"attributes\":{\"fill_alpha\":{\"field\":\"fill_alpha\"},\"fill_color\":{\"field\":\"color\"},\"height\":{\"field\":\"height\",\"units\":\"data\"},\"line_color\":{\"field\":\"line_color\"},\"width\":{\"field\":\"width\",\"units\":\"data\"},\"x\":{\"field\":\"x\"},\"y\":{\"field\":\"y\"}},\"id\":\"2f7ffcca-b110-46a4-a39a-ea542656e2cd\",\"type\":\"Rect\"},{\"attributes\":{\"plot\":{\"id\":\"750958a6-b4e8-4b45-860b-b0aa9b7f36c3\",\"subtype\":\"Chart\",\"type\":\"Plot\"}},\"id\":\"f4f74bf3-d793-427d-bd02-0de98feab039\",\"type\":\"PanTool\"},{\"attributes\":{\"fill_alpha\":{\"field\":\"fill_alpha\"},\"fill_color\":{\"field\":\"color\"},\"height\":{\"field\":\"height\",\"units\":\"data\"},\"line_color\":{\"field\":\"line_color\"},\"width\":{\"field\":\"width\",\"units\":\"data\"},\"x\":{\"field\":\"x\"},\"y\":{\"field\":\"y\"}},\"id\":\"d814ffc9-d213-442a-b968-752e44ea50f3\",\"type\":\"Rect\"},{\"attributes\":{\"fill_alpha\":{\"field\":\"fill_alpha\"},\"fill_color\":{\"field\":\"color\"},\"height\":{\"field\":\"height\",\"units\":\"data\"},\"line_color\":{\"field\":\"line_color\"},\"width\":{\"field\":\"width\",\"units\":\"data\"},\"x\":{\"field\":\"x\"},\"y\":{\"field\":\"y\"}},\"id\":\"00b8ae77-1834-48da-b92e-341d9fd4eb3d\",\"type\":\"Rect\"},{\"attributes\":{\"callback\":null,\"column_names\":[\"line_color\",\"line_alpha\",\"color\",\"fill_alpha\",\"height\",\"width\",\"y\",\"x\",\"label\"],\"data\":{\"Named\":[\"Named\"],\"OutcomeType\":[\"Euthanasia\"],\"chart_index\":[{\"Named\":\"Named\",\"OutcomeType\":\"Euthanasia\"}],\"color\":[\"#f22c40\"],\"fill_alpha\":[0.8],\"height\":[740.0],\"label\":[{\"Named\":\"Named\",\"OutcomeType\":\"Euthanasia\"}],\"line_alpha\":[1.0],\"line_color\":[\"white\"],\"width\":[0.8],\"x\":[\"Euthanasia\"],\"y\":[370.0]}},\"id\":\"3dec890d-0c09-456c-a66b-2e9e8d4dae69\",\"type\":\"ColumnDataSource\"},{\"attributes\":{\"callback\":null,\"column_names\":[\"line_color\",\"line_alpha\",\"color\",\"fill_alpha\",\"height\",\"width\",\"y\",\"x\",\"label\"],\"data\":{\"Named\":[\"Named\"],\"OutcomeType\":[\"Died\"],\"chart_index\":[{\"Named\":\"Named\",\"OutcomeType\":\"Died\"}],\"color\":[\"#f22c40\"],\"fill_alpha\":[0.8],\"height\":[77.0],\"label\":[{\"Named\":\"Named\",\"OutcomeType\":\"Died\"}],\"line_alpha\":[1.0],\"line_color\":[\"white\"],\"width\":[0.8],\"x\":[\"Died\"],\"y\":[38.5]}},\"id\":\"3e8c4095-8cc1-4466-a576-5e9799d6dc3d\",\"type\":\"ColumnDataSource\"},{\"attributes\":{\"callback\":null,\"column_names\":[\"line_color\",\"line_alpha\",\"color\",\"fill_alpha\",\"height\",\"width\",\"y\",\"x\",\"label\"],\"data\":{\"Named\":[\"Unnamed\"],\"OutcomeType\":[\"Return_to_owner\"],\"chart_index\":[{\"Named\":\"Unnamed\",\"OutcomeType\":\"Return_to_owner\"}],\"color\":[\"#5ab738\"],\"fill_alpha\":[0.8],\"height\":[153.0],\"label\":[{\"Named\":\"Unnamed\",\"OutcomeType\":\"Return_to_owner\"}],\"line_alpha\":[1.0],\"line_color\":[\"white\"],\"width\":[0.8],\"x\":[\"Return_to_owner\"],\"y\":[4709.5]}},\"id\":\"1144260e-fbb4-4004-b751-52d5199cddc6\",\"type\":\"ColumnDataSource\"},{\"attributes\":{\"items\":[{\"id\":\"ae11e3c0-a24d-4bc2-a667-fabe536868c4\",\"type\":\"LegendItem\"},{\"id\":\"f507b9dd-0d4a-40b5-af3d-c047350c926b\",\"type\":\"LegendItem\"}],\"plot\":{\"id\":\"750958a6-b4e8-4b45-860b-b0aa9b7f36c3\",\"subtype\":\"Chart\",\"type\":\"Plot\"}},\"id\":\"6bfabc9e-6587-413c-8942-3a999a829ca5\",\"type\":\"Legend\"},{\"attributes\":{\"overlay\":{\"id\":\"d4b351b0-ea05-45eb-8171-c0f3d471e4a9\",\"type\":\"BoxAnnotation\"},\"plot\":{\"id\":\"750958a6-b4e8-4b45-860b-b0aa9b7f36c3\",\"subtype\":\"Chart\",\"type\":\"Plot\"}},\"id\":\"c83c24c4-1720-493f-8fbb-9d7fa659997e\",\"type\":\"BoxZoomTool\"},{\"attributes\":{\"callback\":null,\"factors\":[\"Adoption\",\"Died\",\"Euthanasia\",\"Return_to_owner\",\"Transfer\"]},\"id\":\"0b155250-fcc2-4987-8e5a-6a7cab15c1a2\",\"type\":\"FactorRange\"},{\"attributes\":{\"fill_alpha\":{\"field\":\"fill_alpha\"},\"fill_color\":{\"field\":\"color\"},\"height\":{\"field\":\"height\",\"units\":\"data\"},\"line_color\":{\"field\":\"line_color\"},\"width\":{\"field\":\"width\",\"units\":\"data\"},\"x\":{\"field\":\"x\"},\"y\":{\"field\":\"y\"}},\"id\":\"8c0cad0c-f490-4784-9c91-19748ce56887\",\"type\":\"Rect\"},{\"attributes\":{\"data_source\":{\"id\":\"1144260e-fbb4-4004-b751-52d5199cddc6\",\"type\":\"ColumnDataSource\"},\"glyph\":{\"id\":\"d814ffc9-d213-442a-b968-752e44ea50f3\",\"type\":\"Rect\"},\"hover_glyph\":null,\"muted_glyph\":null},\"id\":\"cb17359d-8a04-4176-ae91-71470abf0b0d\",\"type\":\"GlyphRenderer\"},{\"attributes\":{\"plot\":{\"id\":\"750958a6-b4e8-4b45-860b-b0aa9b7f36c3\",\"subtype\":\"Chart\",\"type\":\"Plot\"}},\"id\":\"fe901275-40a8-4332-af47-c9e7ec8e293e\",\"type\":\"SaveTool\"},{\"attributes\":{\"fill_alpha\":{\"field\":\"fill_alpha\"},\"fill_color\":{\"field\":\"color\"},\"height\":{\"field\":\"height\",\"units\":\"data\"},\"line_color\":{\"field\":\"line_color\"},\"width\":{\"field\":\"width\",\"units\":\"data\"},\"x\":{\"field\":\"x\"},\"y\":{\"field\":\"y\"}},\"id\":\"60f7ee40-2161-4396-a89a-0f0e4ccdab68\",\"type\":\"Rect\"},{\"attributes\":{},\"id\":\"3ec8ecee-b599-41e8-bf23-3beb37a8b2d9\",\"type\":\"BasicTicker\"},{\"attributes\":{\"axis_label\":\"Count( Named )\",\"formatter\":{\"id\":\"de1ccaca-4a34-4a3c-bb0c-7b4d71a2c7ec\",\"type\":\"BasicTickFormatter\"},\"plot\":{\"id\":\"750958a6-b4e8-4b45-860b-b0aa9b7f36c3\",\"subtype\":\"Chart\",\"type\":\"Plot\"},\"ticker\":{\"id\":\"3ec8ecee-b599-41e8-bf23-3beb37a8b2d9\",\"type\":\"BasicTicker\"}},\"id\":\"1633cb0a-e88c-4d51-add6-a75e04e8ce8b\",\"type\":\"LinearAxis\"},{\"attributes\":{\"callback\":null,\"column_names\":[\"line_color\",\"line_alpha\",\"color\",\"fill_alpha\",\"height\",\"width\",\"y\",\"x\",\"label\"],\"data\":{\"Named\":[\"Named\"],\"OutcomeType\":[\"Return_to_owner\"],\"chart_index\":[{\"Named\":\"Named\",\"OutcomeType\":\"Return_to_owner\"}],\"color\":[\"#f22c40\"],\"fill_alpha\":[0.8],\"height\":[4633.0],\"label\":[{\"Named\":\"Named\",\"OutcomeType\":\"Return_to_owner\"}],\"line_alpha\":[1.0],\"line_color\":[\"white\"],\"width\":[0.8],\"x\":[\"Return_to_owner\"],\"y\":[2316.5]}},\"id\":\"9d6ac494-4136-43dd-9e98-2b61fa574e36\",\"type\":\"ColumnDataSource\"},{\"attributes\":{\"callback\":null,\"column_names\":[\"line_color\",\"line_alpha\",\"color\",\"fill_alpha\",\"height\",\"width\",\"y\",\"x\",\"label\"],\"data\":{\"Named\":[\"Unnamed\"],\"OutcomeType\":[\"Euthanasia\"],\"chart_index\":[{\"Named\":\"Unnamed\",\"OutcomeType\":\"Euthanasia\"}],\"color\":[\"#5ab738\"],\"fill_alpha\":[0.8],\"height\":[815.0],\"label\":[{\"Named\":\"Unnamed\",\"OutcomeType\":\"Euthanasia\"}],\"line_alpha\":[1.0],\"line_color\":[\"white\"],\"width\":[0.8],\"x\":[\"Euthanasia\"],\"y\":[1147.5]}},\"id\":\"bf25b939-b291-4ab3-8a38-ab44739f7fae\",\"type\":\"ColumnDataSource\"},{\"attributes\":{\"callback\":null,\"column_names\":[\"line_color\",\"line_alpha\",\"color\",\"fill_alpha\",\"height\",\"width\",\"y\",\"x\",\"label\"],\"data\":{\"Named\":[\"Unnamed\"],\"OutcomeType\":[\"Died\"],\"chart_index\":[{\"Named\":\"Unnamed\",\"OutcomeType\":\"Died\"}],\"color\":[\"#5ab738\"],\"fill_alpha\":[0.8],\"height\":[120.0],\"label\":[{\"Named\":\"Unnamed\",\"OutcomeType\":\"Died\"}],\"line_alpha\":[1.0],\"line_color\":[\"white\"],\"width\":[0.8],\"x\":[\"Died\"],\"y\":[137.0]}},\"id\":\"b55e4c0a-abdc-4257-a1cc-4cb0d70a7e45\",\"type\":\"ColumnDataSource\"},{\"attributes\":{},\"id\":\"de1ccaca-4a34-4a3c-bb0c-7b4d71a2c7ec\",\"type\":\"BasicTickFormatter\"},{\"attributes\":{\"callback\":null,\"column_names\":[\"line_color\",\"line_alpha\",\"color\",\"fill_alpha\",\"height\",\"width\",\"y\",\"x\",\"label\"],\"data\":{\"Named\":[\"Named\"],\"OutcomeType\":[\"Transfer\"],\"chart_index\":[{\"Named\":\"Named\",\"OutcomeType\":\"Transfer\"}],\"color\":[\"#f22c40\"],\"fill_alpha\":[0.8],\"height\":[4497.0],\"label\":[{\"Named\":\"Named\",\"OutcomeType\":\"Transfer\"}],\"line_alpha\":[1.0],\"line_color\":[\"white\"],\"width\":[0.8],\"x\":[\"Transfer\"],\"y\":[7173.5]}},\"id\":\"1bfcc75e-ff14-4806-b98a-e5705ba7f2ed\",\"type\":\"ColumnDataSource\"},{\"attributes\":{},\"id\":\"c8391dd8-16cd-43b5-9052-ee7bdf6e73a7\",\"type\":\"CategoricalTickFormatter\"},{\"attributes\":{\"data_source\":{\"id\":\"b034e86e-9ae7-4cb6-b0d9-e65d4fce63aa\",\"type\":\"ColumnDataSource\"},\"glyph\":{\"id\":\"00b8ae77-1834-48da-b92e-341d9fd4eb3d\",\"type\":\"Rect\"},\"hover_glyph\":null,\"muted_glyph\":null},\"id\":\"f4f7d251-868c-4128-94ee-be3cc08e48d3\",\"type\":\"GlyphRenderer\"},{\"attributes\":{\"plot\":null,\"text\":\"Outcomes by Name Status\"},\"id\":\"3ab15e74-88c1-4afd-bac0-16b3a65ca21a\",\"type\":\"Title\"},{\"attributes\":{\"data_source\":{\"id\":\"3e8c4095-8cc1-4466-a576-5e9799d6dc3d\",\"type\":\"ColumnDataSource\"},\"glyph\":{\"id\":\"2f7ffcca-b110-46a4-a39a-ea542656e2cd\",\"type\":\"Rect\"},\"hover_glyph\":null,\"muted_glyph\":null},\"id\":\"99964ffd-1b69-4fd0-9451-4ad59a4c9c4a\",\"type\":\"GlyphRenderer\"},{\"attributes\":{},\"id\":\"52526721-dcb3-4d27-b5ad-c1b0f4e47678\",\"type\":\"ToolEvents\"},{\"attributes\":{\"fill_alpha\":{\"field\":\"fill_alpha\"},\"fill_color\":{\"field\":\"color\"},\"height\":{\"field\":\"height\",\"units\":\"data\"},\"line_color\":{\"field\":\"line_color\"},\"width\":{\"field\":\"width\",\"units\":\"data\"},\"x\":{\"field\":\"x\"},\"y\":{\"field\":\"y\"}},\"id\":\"62323ee6-5189-4da5-ac44-02a1133cf7c5\",\"type\":\"Rect\"},{\"attributes\":{\"label\":{\"value\":\"Unnamed\"},\"renderers\":[{\"id\":\"f4f7d251-868c-4128-94ee-be3cc08e48d3\",\"type\":\"GlyphRenderer\"}]},\"id\":\"f507b9dd-0d4a-40b5-af3d-c047350c926b\",\"type\":\"LegendItem\"},{\"attributes\":{},\"id\":\"523ad2dc-b4b1-4099-865d-27d2127f8685\",\"type\":\"CategoricalTicker\"},{\"attributes\":{\"bottom_units\":\"screen\",\"fill_alpha\":{\"value\":0.5},\"fill_color\":{\"value\":\"lightgrey\"},\"left_units\":\"screen\",\"level\":\"overlay\",\"line_alpha\":{\"value\":1.0},\"line_color\":{\"value\":\"black\"},\"line_dash\":[4,4],\"line_width\":{\"value\":2},\"plot\":null,\"render_mode\":\"css\",\"right_units\":\"screen\",\"top_units\":\"screen\"},\"id\":\"d4b351b0-ea05-45eb-8171-c0f3d471e4a9\",\"type\":\"BoxAnnotation\"},{\"attributes\":{\"callback\":null,\"end\":11307.45},\"id\":\"0c2d496f-9084-4c20-a782-07f34c8ec520\",\"type\":\"Range1d\"},{\"attributes\":{\"fill_alpha\":{\"field\":\"fill_alpha\"},\"fill_color\":{\"field\":\"color\"},\"height\":{\"field\":\"height\",\"units\":\"data\"},\"line_color\":{\"field\":\"line_color\"},\"width\":{\"field\":\"width\",\"units\":\"data\"},\"x\":{\"field\":\"x\"},\"y\":{\"field\":\"y\"}},\"id\":\"bb86e52a-ad04-4184-a93e-bb31775e18e3\",\"type\":\"Rect\"},{\"attributes\":{\"fill_alpha\":{\"field\":\"fill_alpha\"},\"fill_color\":{\"field\":\"color\"},\"height\":{\"field\":\"height\",\"units\":\"data\"},\"line_color\":{\"field\":\"line_color\"},\"width\":{\"field\":\"width\",\"units\":\"data\"},\"x\":{\"field\":\"x\"},\"y\":{\"field\":\"y\"}},\"id\":\"0782dea8-3ea5-4199-b154-0d61b60e574a\",\"type\":\"Rect\"},{\"attributes\":{\"label\":{\"value\":\"Named\"},\"renderers\":[{\"id\":\"50f7782f-c82c-46fe-acf1-9edea55fb853\",\"type\":\"GlyphRenderer\"}]},\"id\":\"ae11e3c0-a24d-4bc2-a667-fabe536868c4\",\"type\":\"LegendItem\"},{\"attributes\":{\"active_drag\":\"auto\",\"active_scroll\":\"auto\",\"active_tap\":\"auto\",\"tools\":[{\"id\":\"f4f74bf3-d793-427d-bd02-0de98feab039\",\"type\":\"PanTool\"},{\"id\":\"db40be1a-244d-4260-9b11-caf895cedbbc\",\"type\":\"WheelZoomTool\"},{\"id\":\"c83c24c4-1720-493f-8fbb-9d7fa659997e\",\"type\":\"BoxZoomTool\"},{\"id\":\"fe901275-40a8-4332-af47-c9e7ec8e293e\",\"type\":\"SaveTool\"},{\"id\":\"f7a53995-0b2e-4531-8514-35406958f0af\",\"type\":\"ResetTool\"},{\"id\":\"7e5f56c7-9a10-45e8-87bb-6575a44ebe64\",\"type\":\"HelpTool\"}]},\"id\":\"f109987e-2aeb-4637-ba20-b538fb86285b\",\"type\":\"Toolbar\"},{\"attributes\":{\"axis_label\":\"Outcometype\",\"formatter\":{\"id\":\"c8391dd8-16cd-43b5-9052-ee7bdf6e73a7\",\"type\":\"CategoricalTickFormatter\"},\"major_label_orientation\":0.7853981633974483,\"plot\":{\"id\":\"750958a6-b4e8-4b45-860b-b0aa9b7f36c3\",\"subtype\":\"Chart\",\"type\":\"Plot\"},\"ticker\":{\"id\":\"523ad2dc-b4b1-4099-865d-27d2127f8685\",\"type\":\"CategoricalTicker\"}},\"id\":\"bdb29cbd-37ed-4832-9c29-70c13f6232bb\",\"type\":\"CategoricalAxis\"},{\"attributes\":{\"data_source\":{\"id\":\"b55e4c0a-abdc-4257-a1cc-4cb0d70a7e45\",\"type\":\"ColumnDataSource\"},\"glyph\":{\"id\":\"60f7ee40-2161-4396-a89a-0f0e4ccdab68\",\"type\":\"Rect\"},\"hover_glyph\":null,\"muted_glyph\":null},\"id\":\"0587da4e-da23-4a50-8fe4-1a915c51dc5d\",\"type\":\"GlyphRenderer\"},{\"attributes\":{\"callback\":null,\"column_names\":[\"line_color\",\"line_alpha\",\"color\",\"fill_alpha\",\"height\",\"width\",\"y\",\"x\",\"label\"],\"data\":{\"Named\":[\"Unnamed\"],\"OutcomeType\":[\"Adoption\"],\"chart_index\":[{\"Named\":\"Unnamed\",\"OutcomeType\":\"Adoption\"}],\"color\":[\"#5ab738\"],\"fill_alpha\":[0.8],\"height\":[1678.0],\"label\":[{\"Named\":\"Unnamed\",\"OutcomeType\":\"Adoption\"}],\"line_alpha\":[1.0],\"line_color\":[\"white\"],\"width\":[0.8],\"x\":[\"Adoption\"],\"y\":[9930.0]}},\"id\":\"3a56a972-1705-4977-95a5-d91104c2f5e7\",\"type\":\"ColumnDataSource\"},{\"attributes\":{\"fill_alpha\":{\"field\":\"fill_alpha\"},\"fill_color\":{\"field\":\"color\"},\"height\":{\"field\":\"height\",\"units\":\"data\"},\"line_color\":{\"field\":\"line_color\"},\"width\":{\"field\":\"width\",\"units\":\"data\"},\"x\":{\"field\":\"x\"},\"y\":{\"field\":\"y\"}},\"id\":\"4c208046-a6e6-4d04-bfcc-4a25d0cdb7f0\",\"type\":\"Rect\"},{\"attributes\":{\"data_source\":{\"id\":\"bf25b939-b291-4ab3-8a38-ab44739f7fae\",\"type\":\"ColumnDataSource\"},\"glyph\":{\"id\":\"0782dea8-3ea5-4199-b154-0d61b60e574a\",\"type\":\"Rect\"},\"hover_glyph\":null,\"muted_glyph\":null},\"id\":\"53a2f140-79f0-4c09-a50d-453f3f5ce61d\",\"type\":\"GlyphRenderer\"}],\"root_ids\":[\"750958a6-b4e8-4b45-860b-b0aa9b7f36c3\"]},\"title\":\"Bokeh Application\",\"version\":\"0.12.5\"}};\n",
       "            var render_items = [{\"docid\":\"7307f935-e218-43dd-ad3d-2e8de1b5eae6\",\"elementid\":\"4a719daa-9300-49c4-bf1c-f101830f6b73\",\"modelid\":\"750958a6-b4e8-4b45-860b-b0aa9b7f36c3\"}];\n",
       "            \n",
       "            Bokeh.embed.embed_items(docs_json, render_items);\n",
       "          };\n",
       "          if (document.readyState != \"loading\") fn();\n",
       "          else document.addEventListener(\"DOMContentLoaded\", fn);\n",
       "        })();\n",
       "      },\n",
       "      function(Bokeh) {\n",
       "      }\n",
       "    ];\n",
       "  \n",
       "    function run_inline_js() {\n",
       "      \n",
       "      if ((window.Bokeh !== undefined) || (force === true)) {\n",
       "        for (var i = 0; i < inline_js.length; i++) {\n",
       "          inline_js[i](window.Bokeh);\n",
       "        }if (force === true) {\n",
       "          display_loaded();\n",
       "        }} else if (Date.now() < window._bokeh_timeout) {\n",
       "        setTimeout(run_inline_js, 100);\n",
       "      } else if (!window._bokeh_failed_load) {\n",
       "        console.log(\"Bokeh: BokehJS failed to load within specified timeout.\");\n",
       "        window._bokeh_failed_load = true;\n",
       "      } else if (force !== true) {\n",
       "        var cell = $(document.getElementById(\"4a719daa-9300-49c4-bf1c-f101830f6b73\")).parents('.cell').data().cell;\n",
       "        cell.output_area.append_execute_result(NB_LOAD_WARNING)\n",
       "      }\n",
       "  \n",
       "    }\n",
       "  \n",
       "    if (window._bokeh_is_loading === 0) {\n",
       "      console.log(\"Bokeh: BokehJS loaded, going straight to plotting\");\n",
       "      run_inline_js();\n",
       "    } else {\n",
       "      load_libs(js_urls, function() {\n",
       "        console.log(\"Bokeh: BokehJS plotting callback run at\", now());\n",
       "        run_inline_js();\n",
       "      });\n",
       "    }\n",
       "  }(this));\n",
       "</script>"
      ]
     },
     "metadata": {},
     "output_type": "display_data"
    }
   ],
   "source": [
    "p = Bar(data, label='OutcomeType', values = 'Named', agg='count', stack='Named',\n",
    "        title=\"Outcomes by Name Status\", legend='top_right')\n",
    "show(p)"
   ]
  },
  {
   "cell_type": "code",
   "execution_count": 19,
   "metadata": {},
   "outputs": [
    {
     "name": "stdout",
     "output_type": "stream",
     "text": [
      "('Unique Colors', 275)\n",
      "['Brown White' 'Cream-Tabby' 'Blue White' 'Blue-Cream' 'Tan' 'Black Tan'\n",
      " 'Blue-Tabby' 'Brown-Tabby' 'Red White' 'White' 'Black' 'Silver' 'Brown'\n",
      " 'Black Red' 'Cream White' 'Orange-Tabby White' 'Black White'\n",
      " 'Brown-Brindle White' 'Black Brown' 'Orange-Tabby' 'Chocolate White'\n",
      " 'Tan White' 'Cream-Tabby White' 'Blue' 'Calico' 'Torbie' 'Yellow'\n",
      " 'Tricolor' 'Tortie' 'Blue-Tabby White' 'Gray White' 'Buff'\n",
      " 'Brown-Tabby White' 'Red' 'Blue Tan' 'Seal-Point' 'Brown-Brindle' 'Gray'\n",
      " 'White Yellow-Brindle' 'Fawn White' 'Flame-Point' 'Black-Tabby White'\n",
      " 'Calico Tortie' 'Black Brown-Brindle' 'Silver Tan' 'Black Red-Tick'\n",
      " 'Blue-Merle' 'Chocolate Tan' 'Sable' 'Brown-Merle White'\n",
      " 'Brown-Tiger White' 'Liver White' 'Black Gray' 'Cream' 'Chocolate'\n",
      " 'Blue-Point' 'Apricot White' 'Black Red-Merle' 'Blue-Merle White' 'Fawn'\n",
      " 'Lynx-Point White' 'Black Fawn' 'Red-Tick White' 'Buff Tan'\n",
      " 'Brown-Brindle Red-Tick' 'Lilac-Point' 'Buff White' 'Tortie-Point'\n",
      " 'Lynx-Point' 'Tortie White' 'Black Tricolor' 'Apricot' 'Red Tan'\n",
      " 'Brown Tan' 'Tricolor White' 'Brown Tricolor' 'White White' 'Gray-Tabby'\n",
      " 'Sable White' 'Blue-Tiger White' 'Yellow-Brindle' 'Gold' 'Blue-Tick'\n",
      " 'Torbie White' 'Black-Smoke White' 'Blue-Tabby Orange' 'Red-Merle'\n",
      " 'Blue Tricolor' 'White Yellow' 'Black-Smoke' 'Calico-Point'\n",
      " 'Blue-Cream Blue-Tiger' 'Blue-Merle Gray' 'Brown Silver' 'Black Sable'\n",
      " 'Black-Brindle' 'Lynx-Point Tortie-Point' 'Black Buff' 'Calico White'\n",
      " 'Orange White' 'Black-Tabby' 'Brown-Merle' 'Black-Brindle White'\n",
      " 'Gray Tan' 'Blue-Merle Brown' 'Red-Merle White' 'Chocolate-Point White'\n",
      " 'Black Silver' 'Cream Red-Tick' 'Chocolate Gold' 'Calico-Point White'\n",
      " 'Brown Brown' 'Seal-Point White' 'Brown Sable' 'Brown-Tabby Calico'\n",
      " 'Silver-Tabby' 'Blue-Merle Tan' 'Black Blue-Tick' 'Black Cream'\n",
      " 'Chocolate Tricolor' 'Gold White' 'Cream Gray' 'Black Blue-Merle'\n",
      " 'Red Red-Tick' 'Orange' 'Black Orange' 'Blue-Cream Tortie'\n",
      " 'Brown Red-Tick' 'Blue Brown-Brindle' 'Black Silver-Tabby' 'Gray Silver'\n",
      " 'Gold Red' 'Gold Tan' 'Blue-Cream Blue-Tabby' 'Cream Tan' 'Black Calico'\n",
      " 'Sable Tan' 'Black Blue' 'Black Brown-Tabby' 'Cream Red' 'Brown-Tiger'\n",
      " 'Agouti' 'Calico Tricolor' 'Black Black' 'Blue-Cream White' 'Brown Gray'\n",
      " 'Blue-Point White' 'Gray-Tabby White' 'Red-Tick Tan'\n",
      " 'Apricot Orange-Tabby' 'Fawn Tricolor' 'Blue-Smoke'\n",
      " 'Brown-Brindle Chocolate' 'Black Black-Brindle' 'Black-Tabby Orange'\n",
      " 'Apricot Brown' 'Buff Red' 'Brown-Brindle Tan' 'Brown Red' 'Red-Tick'\n",
      " 'Blue-Tick White' 'Silver-Tabby White' 'Brown-Brindle Fawn' 'Orange Tan'\n",
      " 'Black Black-Smoke' 'Brown Chocolate' 'Liver-Tick'\n",
      " 'Black-Smoke Brown-Tabby' 'Chocolate-Point' 'Blue-Merle Tricolor'\n",
      " 'Blue Red' 'Brown-Merle Tricolor' 'Blue Tortie' 'Blue-Smoke Brown'\n",
      " 'Silver White' 'Chocolate Red' 'Brown Cream' 'Blue-Merle Cream'\n",
      " 'Orange Tortie' 'Black Brown-Merle' 'Brown Seal-Point' 'Blue-Tabby Tan'\n",
      " 'Red Red-Merle' 'Brown Tortie' 'Cream Sable' 'Black Black-Tabby'\n",
      " 'Brown-Tabby Gray' 'Tan Tan' 'Blue-Tick Brown' 'Black-Smoke Chocolate'\n",
      " 'Black-Tabby Brown' 'Brown Buff' 'Tan Yellow-Brindle' 'Blue-Tick Tan'\n",
      " 'Brown-Merle Red-Tick' 'Brown-Tabby Lynx-Point' 'Brown Torbie'\n",
      " 'Buff Liver' 'Tan Tricolor' 'Black Chocolate' 'Pink'\n",
      " 'Black Yellow-Brindle' 'Silver-Lynx-Point' 'Brown Brown-Merle'\n",
      " 'Black Orange-Tabby' 'Black Tortie' 'Brown Brown-Tabby'\n",
      " 'Blue-Cream Torbie' 'Black-Brindle Brown' 'Red Tricolor'\n",
      " 'Blue Yellow-Brindle' 'Cream Ruddy' 'Blue Cream' 'Gold Yellow'\n",
      " 'Blue-Tiger' 'Brown-Merle Tan' 'Buff Yellow' 'Gold Gold'\n",
      " 'Tortie-Point White' 'Blue-Tick Red-Tick' 'Liver Tan' 'Red-Merle Tan'\n",
      " 'Blue-Cream Buff' 'Blue Orange' 'Blue-Merle Brown-Merle' 'Pink White'\n",
      " 'Brown Calico' 'Calico Torbie' 'Blue Brown' 'Blue-Merle Red'\n",
      " 'Brown-Brindle Brown-Merle' 'Calico Orange-Tabby' 'Flame-Point White'\n",
      " 'Brown-Brindle Brown-Brindle' 'Blue-Merle Blue-Merle' 'Brown Fawn'\n",
      " 'Black Gold' 'Brown-Merle Chocolate' 'Agouti Brown-Tabby'\n",
      " 'Brown-Tabby Tortie' 'Black Yellow' 'Chocolate Red-Tick' 'Gray Red'\n",
      " 'Blue-Tick Brown-Brindle' 'Apricot Tan' 'Liver-Tick White'\n",
      " 'Cream Seal-Point' 'Gray-Tabby Lynx-Point' 'Blue-Tabby Cream'\n",
      " 'Black-Tiger White' 'Chocolate Silver' 'Silver Tricolor'\n",
      " 'Blue-Merle Red-Merle' 'Black-Smoke Tortie' 'Orange Orange-Tabby'\n",
      " 'Blue Fawn' 'Blue-Tick Red' 'Fawn Tan' 'Brown-Tabby Orange'\n",
      " 'Blue-Cream Brown-Brindle' 'Blue-Cream Calico'\n",
      " 'Black-Brindle Brown-Brindle' 'Chocolate Cream' 'Blue-Tabby Calico'\n",
      " 'Orange-Tiger' 'Cream Orange' 'Red Sable' 'Buff Gray' 'Buff Gold'\n",
      " 'Red Silver' 'Chocolate Gray' 'Brown-Tabby Gray-Tabby' 'Yellow Yellow'\n",
      " 'Black Gray-Tabby' 'Buff Sable']\n"
     ]
    }
   ],
   "source": [
    "OrderedColor = data.OrderedColor.unique()\n",
    "print(\"Unique Colors\" , (data.OrderedColor.value_counts() > 0).sum())\n",
    "print(OrderedColor)"
   ]
  },
  {
   "cell_type": "code",
   "execution_count": 20,
   "metadata": {
    "scrolled": false
   },
   "outputs": [
    {
     "name": "stdout",
     "output_type": "stream",
     "text": [
      "('Unique Breeds', 1143)\n",
      "['Shetland-Sheepdog-Mix' 'Domestic-Shorthair-Mix' 'Pit-Bull-Mix' ...,\n",
      " 'English-Bulldog French-Bulldog' 'Boxer Vizsla'\n",
      " 'Australian-Kelpie German-Shepherd']\n"
     ]
    }
   ],
   "source": [
    "OrderedBreed = data.OrderedBreed.unique()\n",
    "print(\"Unique Breeds\" , (data.OrderedBreed.value_counts() > 0).sum())\n",
    "print(OrderedBreed)"
   ]
  },
  {
   "cell_type": "code",
   "execution_count": 21,
   "metadata": {},
   "outputs": [
    {
     "name": "stdout",
     "output_type": "stream",
     "text": [
      "Number of observations:  26729\n",
      "Number of columns:  17\n",
      "Headers:  ['AnimalID' 'Name' 'DateTime' 'OutcomeType' 'OutcomeSubtype' 'AnimalType'\n",
      " 'SexuponOutcome' 'AgeuponOutcome' 'Breed' 'Color' 'Female' 'ConvertedAge'\n",
      " 'Intact' 'MixedBreed' 'Named' 'OrderedColor' 'OrderedBreed']\n"
     ]
    }
   ],
   "source": [
    "def main():\n",
    "    print \"Number of observations: \", len(data.index)\n",
    "    print \"Number of columns: \", len(data.columns)\n",
    "    print \"Headers: \", data.columns.values\n",
    "\n",
    "if __name__ == \"__main__\":\n",
    "    main()\n",
    "\n"
   ]
  },
  {
   "cell_type": "markdown",
   "metadata": {
    "collapsed": true
   },
   "source": [
    "### LOGISTIC REGRESSION"
   ]
  },
  {
   "cell_type": "code",
   "execution_count": 33,
   "metadata": {},
   "outputs": [
    {
     "name": "stdout",
     "output_type": "stream",
     "text": [
      "(20046, 14)\n",
      "(6683, 14)\n",
      "(20046, 1)\n",
      "(6683, 1)\n"
     ]
    }
   ],
   "source": [
    "print X_train.shape\n",
    "print X_dev.shape\n",
    "print y_train.shape\n",
    "print y_dev.shape"
   ]
  },
  {
   "cell_type": "markdown",
   "metadata": {},
   "source": [
    "#### Generate logistic regression"
   ]
  },
  {
   "cell_type": "code",
   "execution_count": 36,
   "metadata": {},
   "outputs": [
    {
     "name": "stdout",
     "output_type": "stream",
     "text": [
      "The mean accuracy when the regularization strength C is 0.5 is  0.633996708065 and the sum of the squared weight is -21.1666084718\n"
     ]
    }
   ],
   "source": [
    "# Select C from 0.00001, 0.0001, 0.001, 0.01, 0.1,, 1.0, 2.0, 4.0, 6.0, 8.0, 10.0 and the highes accuracy is when C=0.5\n",
    "\n",
    "for m in [ 0.5]: # 0.00001, 0.0001, 0.001, 0.01, 0.1,, 1.0, 2.0, 4.0, 6.0, 8.0, 10.0\n",
    "    lrq = LogisticRegression(C = m, penalty = 'l2')\n",
    "    lrq.fit(X_train, y_train)\n",
    "    weight1 = lrq.coef_\n",
    "    sum1 = sum(sum(weight1))\n",
    "    print 'The mean accuracy when the regularization strength C is', m,  'is ', lrq.score(X_dev, y_dev), 'and the sum of the squared weight is', sum1\n"
   ]
  },
  {
   "cell_type": "markdown",
   "metadata": {},
   "source": [
    "#### Feature engineering\n",
    "\n",
    "For this dataset, we have 14 different features, including gender, breed, age and so on.  In order to select the best\n",
    "feature to add to the model, we can go either bottom up starting from only 1 feature and add more feature based on\n",
    "the accuracy, or go down by deleting features. \n",
    "\n"
   ]
  },
  {
   "cell_type": "code",
   "execution_count": 175,
   "metadata": {},
   "outputs": [
    {
     "name": "stdout",
     "output_type": "stream",
     "text": [
      "When the number of features used is  1 , the best feature to add to the model is  Intact_Spayed/Neutered , and the accurancy is 0.608259763579\n",
      "When the number of features used is  2 , the best feature to add to the model is  ConvertedAge , and the accurancy is 0.620828969026\n",
      "When the number of features used is  3 , the best feature to add to the model is  AnimalType_Cat , and the accurancy is 0.628161005536\n",
      "When the number of features used is  4 , the best feature to add to the model is  MixedBreed_Known Breed Combo , and the accurancy is 0.631303306898\n",
      "When the number of features used is  5 , the best feature to add to the model is  Named_Unnamed , and the accurancy is 0.634595241658\n",
      "When the number of features used is  6 , the best feature to add to the model is  MixedBreed_Nonmixed , and the accurancy is 0.634744875056\n",
      "When the number of features used is  7 , the best feature to add to the model is  AnimalType_Dog , and the accurancy is 0.634744875056\n",
      "When the number of features used is  8 , the best feature to add to the model is  Female_Unknown , and the accurancy is 0.634744875056\n",
      "When the number of features used is  9 , the best feature to add to the model is  Intact_Intact , and the accurancy is 0.634744875056\n",
      "When the number of features used is  10 , the best feature to add to the model is  Intact_Unknown , and the accurancy is 0.634744875056\n",
      "When the number of features used is  11 , the best feature to add to the model is  MixedBreed_Mixed Breed , and the accurancy is 0.634744875056\n",
      "When the number of features used is  12 , the best feature to add to the model is  Named_Named , and the accurancy is 0.634744875056\n",
      "When the number of features used is  13 , the best feature to add to the model is  Female_Female , and the accurancy is 0.633996708065\n",
      "When the number of features used is  14 , the best feature to add to the model is  Female_Male , and the accurancy is 0.633996708065\n"
     ]
    }
   ],
   "source": [
    "# Start the bottom up feature selection with Greedy algorithm \n",
    "# Compute the accuracy of logistic regression with N features\n",
    "\n",
    "train = X_train\n",
    "dev = X_dev\n",
    "\n",
    "bestVec = [] \n",
    "\n",
    "for j in range(14):\n",
    "    maxacc = 0\n",
    "    maxi = 0\n",
    "    for i in range(14):\n",
    "        if i not in bestVec:\n",
    "            X_train_eng = pd.DataFrame(train.ix[:, bestVec + [i]])\n",
    "            X_dev_eng = pd.DataFrame(dev.ix[:, bestVec + [i]])\n",
    "            m=.5\n",
    "            lrq = LogisticRegression(C = m, penalty = 'l2')\n",
    "            lrq.fit(X_train_eng, y_train)\n",
    "            if lrq.score(X_dev_eng, y_dev) > maxacc:\n",
    "                maxacc = lrq.score(X_dev_eng, y_dev)\n",
    "                maxi = i\n",
    "    bestVec = bestVec + [maxi]\n",
    "    print 'When the number of features used is ', j+1 ,', the best feature to add to the model is ', predictors[maxi] ,', and the accurancy is', maxacc"
   ]
  },
  {
   "cell_type": "markdown",
   "metadata": {},
   "source": [
    "We can see from the above that when the number of feature is 6, the model has the highest accuracy of 0.634744875056, \n",
    "the model did not increase the accurcy by adding additional features. \n",
    "\n",
    "The six features include: Intact_Spayed/Neutered, ConvertedAge, AnimalType_Cat, MixedBreed_Known Breed Combo, Named_Unnamed, and MixedBreed_Nonmixed.  Next we will exam each features to evaluate each impact on the overal outcome."
   ]
  },
  {
   "cell_type": "markdown",
   "metadata": {},
   "source": [
    "#### Decision trees"
   ]
  },
  {
   "cell_type": "code",
   "execution_count": 203,
   "metadata": {},
   "outputs": [],
   "source": [
    "from IPython.display import Image  \n",
    "from sklearn import tree\n",
    "\n",
    "dt = DecisionTreeRegressor()\n",
    "#dt.fit(X_train[predictors], y_train[target])"
   ]
  },
  {
   "cell_type": "markdown",
   "metadata": {},
   "source": [
    "#### Random forest"
   ]
  },
  {
   "cell_type": "code",
   "execution_count": 200,
   "metadata": {},
   "outputs": [],
   "source": [
    "from sklearn.model_selection import cross_val_score\n",
    "\n",
    "rf = RandomForestRegressor(n_estimators=50, oob_score=True)\n",
    "#scores = cross_val_score(rf, X_train[predictors], y_train[target], cv=10)\n",
    "#print \"Mean R^2 = {:.3}\".format(scores.mean())"
   ]
  },
  {
   "cell_type": "markdown",
   "metadata": {},
   "source": [
    "### Neural Network "
   ]
  },
  {
   "cell_type": "markdown",
   "metadata": {},
   "source": [
    "We will use Keras for neural network training. "
   ]
  },
  {
   "cell_type": "code",
   "execution_count": 42,
   "metadata": {
    "collapsed": true
   },
   "outputs": [],
   "source": [
    "# hot encoding to transform training and development data\n",
    "lb_style = LabelBinarizer()\n",
    "y_train_hot = lb_style.fit_transform(y_train)\n",
    "y_train_hot\n",
    "y_dev_hot = lb_style.fit_transform(y_dev)"
   ]
  },
  {
   "cell_type": "code",
   "execution_count": 26,
   "metadata": {},
   "outputs": [
    {
     "name": "stdout",
     "output_type": "stream",
     "text": [
      "Epoch 1/10\n",
      "20046/20046 [==============================] - 1s - loss: 0.3645 - acc: 0.8337     \n",
      "Epoch 2/10\n",
      "20046/20046 [==============================] - 1s - loss: 0.3218 - acc: 0.8572     \n",
      "Epoch 3/10\n",
      "20046/20046 [==============================] - 1s - loss: 0.3160 - acc: 0.8593     \n",
      "Epoch 4/10\n",
      "20046/20046 [==============================] - 1s - loss: 0.3136 - acc: 0.8599     \n",
      "Epoch 5/10\n",
      "20046/20046 [==============================] - 1s - loss: 0.3121 - acc: 0.8601     \n",
      "Epoch 6/10\n",
      "20046/20046 [==============================] - 1s - loss: 0.3108 - acc: 0.8606     \n",
      "Epoch 7/10\n",
      "20046/20046 [==============================] - 1s - loss: 0.3095 - acc: 0.8613     \n",
      "Epoch 8/10\n",
      "20046/20046 [==============================] - 1s - loss: 0.3084 - acc: 0.8618     \n",
      "Epoch 9/10\n",
      "20046/20046 [==============================] - 2s - loss: 0.3077 - acc: 0.8618     \n",
      "Epoch 10/10\n",
      "20046/20046 [==============================] - 1s - loss: 0.3067 - acc: 0.8621     \n"
     ]
    },
    {
     "data": {
      "text/plain": [
       "<keras.callbacks.History at 0x125b7c050>"
      ]
     },
     "execution_count": 26,
     "metadata": {},
     "output_type": "execute_result"
    }
   ],
   "source": [
    "# using keras to predict the accuracy\n",
    "model = Sequential([\n",
    "    Dense(32, input_shape=(14,)),\n",
    "    Activation('sigmoid'),\n",
    "    Dense(5),\n",
    "    Activation('softmax'),\n",
    "])\n",
    "\n",
    "model.compile(optimizer='adam',\n",
    "              loss='binary_crossentropy',\n",
    "              metrics=['accuracy'])\n",
    "model.fit(np.array(X_train), y_train_hot, epochs=10, batch_size=32)"
   ]
  },
  {
   "cell_type": "code",
   "execution_count": 27,
   "metadata": {},
   "outputs": [
    {
     "name": "stdout",
     "output_type": "stream",
     "text": [
      "6144/6683 [==========================>...] - ETA: 0s\n",
      "Accurancy on test data 0.862666462748\n"
     ]
    }
   ],
   "source": [
    "score = model.evaluate(np.array(X_dev), y_dev_hot, batch_size=16)\n",
    "\n",
    "print '\\nAccurancy on test data', score[1]"
   ]
  },
  {
   "cell_type": "markdown",
   "metadata": {
    "collapsed": true
   },
   "source": [
    "The accuracy shows that neural network gives a higher accuracy than logistic regression"
   ]
  },
  {
   "cell_type": "code",
   "execution_count": null,
   "metadata": {
    "collapsed": true
   },
   "outputs": [],
   "source": []
  }
 ],
 "metadata": {
  "anaconda-cloud": {},
  "kernelspec": {
   "display_name": "Python [default]",
   "language": "python",
   "name": "python2"
  },
  "language_info": {
   "codemirror_mode": {
    "name": "ipython",
    "version": 2
   },
   "file_extension": ".py",
   "mimetype": "text/x-python",
   "name": "python",
   "nbconvert_exporter": "python",
   "pygments_lexer": "ipython2",
   "version": "2.7.13"
  }
 },
 "nbformat": 4,
 "nbformat_minor": 1
}
