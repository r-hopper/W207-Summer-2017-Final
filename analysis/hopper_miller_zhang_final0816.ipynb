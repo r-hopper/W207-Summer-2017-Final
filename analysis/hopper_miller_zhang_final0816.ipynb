{
 "cells": [
  {
   "cell_type": "markdown",
   "metadata": {},
   "source": [
    "## Shelter Animal Outcomes\n",
    "#### MIDS W207 Final Project\n",
    "#### Clay Miller, Roseanna Hopper, Yubo Zhang"
   ]
  },
  {
   "cell_type": "markdown",
   "metadata": {},
   "source": [
    "### Introduction\n",
    "\n",
    "Approximately 6.5 to 7.6 million companion animals enter the animal shelters across the U.S. each year. Each year, approximately 1.5 million shelter animals are euthanized (670,000 dogs and 860,000 cats). The number of dogs and cats euthanized in U.S. shelters annually has declined from approximately 2.6 million in 2011. This decline can be partially explained by an increase in the percentage of animals adopted and an increase in the number of stray animals successfully returned to their owners.\n",
    "\n",
    "For this exploration, we are using a dataset of intake information including breed, color, sex, and age from the [Austin Animal Center](https://www.kaggle.com/c/shelter-animal-outcomes), to develop a model that can be used for shelters to predict the outcome for each animal.  We are hoping that by using this model, the shelter can provide a little bit of extra help for animals that have a low adoption rate. In addition, we are hoping this dataset can help us to provide some key findings (for example, if age and gender would impact the adoption rate for dogs, if neutered or spayed cats are more likely to be adopted), understand which factors impact the chance of adoption, and identify differences between dog and cat adoption trends.  "
   ]
  },
  {
   "cell_type": "code",
   "execution_count": 2,
   "metadata": {
    "scrolled": true
   },
   "outputs": [
    {
     "data": {
      "text/html": [
       "\n",
       "    <div class=\"bk-root\">\n",
       "        <a href=\"http://bokeh.pydata.org\" target=\"_blank\" class=\"bk-logo bk-logo-small bk-logo-notebook\"></a>\n",
       "        <span id=\"991805f7-8849-4539-b58b-4df6ee069505\">Loading BokehJS ...</span>\n",
       "    </div>"
      ]
     },
     "metadata": {},
     "output_type": "display_data"
    },
    {
     "data": {
      "application/javascript": [
       "\n",
       "(function(global) {\n",
       "  function now() {\n",
       "    return new Date();\n",
       "  }\n",
       "\n",
       "  var force = true;\n",
       "\n",
       "  if (typeof (window._bokeh_onload_callbacks) === \"undefined\" || force === true) {\n",
       "    window._bokeh_onload_callbacks = [];\n",
       "    window._bokeh_is_loading = undefined;\n",
       "  }\n",
       "\n",
       "\n",
       "  \n",
       "  if (typeof (window._bokeh_timeout) === \"undefined\" || force === true) {\n",
       "    window._bokeh_timeout = Date.now() + 5000;\n",
       "    window._bokeh_failed_load = false;\n",
       "  }\n",
       "\n",
       "  var NB_LOAD_WARNING = {'data': {'text/html':\n",
       "     \"<div style='background-color: #fdd'>\\n\"+\n",
       "     \"<p>\\n\"+\n",
       "     \"BokehJS does not appear to have successfully loaded. If loading BokehJS from CDN, this \\n\"+\n",
       "     \"may be due to a slow or bad network connection. Possible fixes:\\n\"+\n",
       "     \"</p>\\n\"+\n",
       "     \"<ul>\\n\"+\n",
       "     \"<li>re-rerun `output_notebook()` to attempt to load from CDN again, or</li>\\n\"+\n",
       "     \"<li>use INLINE resources instead, as so:</li>\\n\"+\n",
       "     \"</ul>\\n\"+\n",
       "     \"<code>\\n\"+\n",
       "     \"from bokeh.resources import INLINE\\n\"+\n",
       "     \"output_notebook(resources=INLINE)\\n\"+\n",
       "     \"</code>\\n\"+\n",
       "     \"</div>\"}};\n",
       "\n",
       "  function display_loaded() {\n",
       "    if (window.Bokeh !== undefined) {\n",
       "      var el = document.getElementById(\"991805f7-8849-4539-b58b-4df6ee069505\");\n",
       "      el.textContent = \"BokehJS \" + Bokeh.version + \" successfully loaded.\";\n",
       "    } else if (Date.now() < window._bokeh_timeout) {\n",
       "      setTimeout(display_loaded, 100)\n",
       "    }\n",
       "  }\n",
       "\n",
       "  function run_callbacks() {\n",
       "    window._bokeh_onload_callbacks.forEach(function(callback) { callback() });\n",
       "    delete window._bokeh_onload_callbacks\n",
       "    console.info(\"Bokeh: all callbacks have finished\");\n",
       "  }\n",
       "\n",
       "  function load_libs(js_urls, callback) {\n",
       "    window._bokeh_onload_callbacks.push(callback);\n",
       "    if (window._bokeh_is_loading > 0) {\n",
       "      console.log(\"Bokeh: BokehJS is being loaded, scheduling callback at\", now());\n",
       "      return null;\n",
       "    }\n",
       "    if (js_urls == null || js_urls.length === 0) {\n",
       "      run_callbacks();\n",
       "      return null;\n",
       "    }\n",
       "    console.log(\"Bokeh: BokehJS not loaded, scheduling load and callback at\", now());\n",
       "    window._bokeh_is_loading = js_urls.length;\n",
       "    for (var i = 0; i < js_urls.length; i++) {\n",
       "      var url = js_urls[i];\n",
       "      var s = document.createElement('script');\n",
       "      s.src = url;\n",
       "      s.async = false;\n",
       "      s.onreadystatechange = s.onload = function() {\n",
       "        window._bokeh_is_loading--;\n",
       "        if (window._bokeh_is_loading === 0) {\n",
       "          console.log(\"Bokeh: all BokehJS libraries loaded\");\n",
       "          run_callbacks()\n",
       "        }\n",
       "      };\n",
       "      s.onerror = function() {\n",
       "        console.warn(\"failed to load library \" + url);\n",
       "      };\n",
       "      console.log(\"Bokeh: injecting script tag for BokehJS library: \", url);\n",
       "      document.getElementsByTagName(\"head\")[0].appendChild(s);\n",
       "    }\n",
       "  };var element = document.getElementById(\"991805f7-8849-4539-b58b-4df6ee069505\");\n",
       "  if (element == null) {\n",
       "    console.log(\"Bokeh: ERROR: autoload.js configured with elementid '991805f7-8849-4539-b58b-4df6ee069505' but no matching script tag was found. \")\n",
       "    return false;\n",
       "  }\n",
       "\n",
       "  var js_urls = [\"https://cdn.pydata.org/bokeh/release/bokeh-0.12.5.min.js\", \"https://cdn.pydata.org/bokeh/release/bokeh-widgets-0.12.5.min.js\"];\n",
       "\n",
       "  var inline_js = [\n",
       "    function(Bokeh) {\n",
       "      Bokeh.set_log_level(\"info\");\n",
       "    },\n",
       "    \n",
       "    function(Bokeh) {\n",
       "      \n",
       "    },\n",
       "    \n",
       "    function(Bokeh) {\n",
       "      \n",
       "      document.getElementById(\"991805f7-8849-4539-b58b-4df6ee069505\").textContent = \"BokehJS is loading...\";\n",
       "    },\n",
       "    function(Bokeh) {\n",
       "      console.log(\"Bokeh: injecting CSS: https://cdn.pydata.org/bokeh/release/bokeh-0.12.5.min.css\");\n",
       "      Bokeh.embed.inject_css(\"https://cdn.pydata.org/bokeh/release/bokeh-0.12.5.min.css\");\n",
       "      console.log(\"Bokeh: injecting CSS: https://cdn.pydata.org/bokeh/release/bokeh-widgets-0.12.5.min.css\");\n",
       "      Bokeh.embed.inject_css(\"https://cdn.pydata.org/bokeh/release/bokeh-widgets-0.12.5.min.css\");\n",
       "    }\n",
       "  ];\n",
       "\n",
       "  function run_inline_js() {\n",
       "    \n",
       "    if ((window.Bokeh !== undefined) || (force === true)) {\n",
       "      for (var i = 0; i < inline_js.length; i++) {\n",
       "        inline_js[i](window.Bokeh);\n",
       "      }if (force === true) {\n",
       "        display_loaded();\n",
       "      }} else if (Date.now() < window._bokeh_timeout) {\n",
       "      setTimeout(run_inline_js, 100);\n",
       "    } else if (!window._bokeh_failed_load) {\n",
       "      console.log(\"Bokeh: BokehJS failed to load within specified timeout.\");\n",
       "      window._bokeh_failed_load = true;\n",
       "    } else if (force !== true) {\n",
       "      var cell = $(document.getElementById(\"991805f7-8849-4539-b58b-4df6ee069505\")).parents('.cell').data().cell;\n",
       "      cell.output_area.append_execute_result(NB_LOAD_WARNING)\n",
       "    }\n",
       "\n",
       "  }\n",
       "\n",
       "  if (window._bokeh_is_loading === 0) {\n",
       "    console.log(\"Bokeh: BokehJS loaded, going straight to plotting\");\n",
       "    run_inline_js();\n",
       "  } else {\n",
       "    load_libs(js_urls, function() {\n",
       "      console.log(\"Bokeh: BokehJS plotting callback run at\", now());\n",
       "      run_inline_js();\n",
       "    });\n",
       "  }\n",
       "}(this));"
      ]
     },
     "metadata": {},
     "output_type": "display_data"
    }
   ],
   "source": [
    "import pandas as pd\n",
    "import numpy as np\n",
    "import matplotlib.pyplot as plt\n",
    "import re\n",
    "import tensorflow \n",
    "import keras\n",
    "import itertools\n",
    "\n",
    "from sklearn import metrics\n",
    "from sklearn.preprocessing import StandardScaler\n",
    "from sklearn.feature_extraction import FeatureHasher, DictVectorizer\n",
    "from sklearn.pipeline import Pipeline\n",
    "from sklearn.pipeline import FeatureUnion\n",
    "from sklearn.grid_search import GridSearchCV\n",
    "from sklearn.metrics import confusion_matrix\n",
    "from sklearn.metrics import classification_report\n",
    "from sklearn.cross_validation import train_test_split\n",
    "from sklearn.linear_model import LogisticRegression\n",
    "from sklearn.base import BaseEstimator, TransformerMixin\n",
    "from bokeh.charts import Bar, output_file, show, output_notebook\n",
    "from keras.models import Sequential\n",
    "from keras.layers import Dense, Activation\n",
    "from sklearn.preprocessing import LabelBinarizer\n",
    "from sklearn.ensemble import RandomForestRegressor\n",
    "from sklearn.tree import DecisionTreeRegressor\n",
    "from IPython.core.display import Image, display\n",
    "from sklearn.externals.six import StringIO\n",
    "from IPython.display import Image  \n",
    "from sklearn import tree\n",
    "\n",
    "output_notebook()\n",
    "\n",
    "\n",
    "%matplotlib inline"
   ]
  },
  {
   "cell_type": "markdown",
   "metadata": {},
   "source": [
    "### Raw Data\n",
    "\n",
    "Each case in our raw training data is an individual animal, and the features include its characteristics (including name, animal type, age, gender, spay/neuter status, breed, coloring, and final outcome). Apart from age, all of the fields are categorical variables, so we’ll be creating binary variables for the majority of the fields (and their intersections). There are few missing values, and some cases where a field is marked as “Unknown” (appears in Name, Breed, and Gender). Overall, we are trying to predict the animal’s “final outcome”, of which there are five possibilities.\n"
   ]
  },
  {
   "cell_type": "code",
   "execution_count": 3,
   "metadata": {
    "collapsed": true
   },
   "outputs": [],
   "source": [
    "# Load the data\n",
    "data = pd.read_csv('../data/train.csv')\n",
    "breeds = pd.read_csv('../data/breeds.csv')\n",
    "breeds['Breed'] = breeds['Breed'].str.strip()\n",
    "top_breed_list = []\n",
    "for b in breeds['Breed']:\n",
    "    top_breed_list.append(b.strip())\n",
    "data['OutcomeSubtype'] = data['OutcomeSubtype'].fillna('')\n",
    "data['Female'] = 'Female' in data['SexuponOutcome']\n",
    "data['AgeuponOutcome'].fillna('', inplace = True)\n",
    "\n",
    "#Create a continuous variable for age, making sure\n",
    "#that all listed ages are on the same scale (months)\n",
    "def ageConvert(age):\n",
    "    regexyear = '(\\d+) year'\n",
    "    regexmnth = '(\\d+) month'\n",
    "    regexwk = '(\\d+) week'\n",
    "    regexday = '(\\d+) day'\n",
    "    if re.match(regexyear, age):\n",
    "        const = int(re.match(regexyear, age).groups()[0])\n",
    "        return const*52\n",
    "    elif re.match(regexmnth, age):\n",
    "        const = int(re.match(regexmnth, age).groups()[0])\n",
    "        return const*4.5 # a month is roughly 4.5 weeks\n",
    "    elif re.match(regexwk, age):\n",
    "        return int(re.match(regexwk, age).groups()[0])\n",
    "    elif re.match(regexday, age):\n",
    "        const = int(re.match(regexday, age).groups()[0])\n",
    "        return const/7 #7 days in a week\n",
    "    else:\n",
    "        return None\n",
    "    \n",
    "data['ConvertedAge']=data['AgeuponOutcome'].apply(ageConvert)\n",
    "\n",
    "\n",
    "#Separate SexuponOutcome into Male/Female and into Intact/Spayed-Neutered\n",
    "def female(i):\n",
    "    i = str(i)\n",
    "    if i.find('Female') >= 0: return 'Female'\n",
    "    if i.find('Unknown') >= 0: return 'Unknown'\n",
    "    return 'Male'\n",
    "data['Female'] = data.SexuponOutcome.apply(female)\n",
    "\n",
    "def intact(i):\n",
    "    i = str(i)\n",
    "    if i.find('Intact') >= 0: return 'Intact'\n",
    "    if i.find('Unknown') >= 0: return 'Unknown'\n",
    "    return 'Spayed/Neutered'\n",
    "data['Intact'] = data.SexuponOutcome.apply(intact)\n",
    "\n",
    "def mixed_breed(i):\n",
    "    i = str(i)\n",
    "    if i.find('Mix') >= 0: return 'Mixed Breed'\n",
    "    if i.find('/') >= 0: return 'Known Breed Combo'\n",
    "    return 'Nonmixed'\n",
    "data['MixedBreed'] = data.Breed.apply(mixed_breed)\n",
    "\n",
    "def top_breed(i):\n",
    "    i = str(i)\n",
    "    if any(word in i for word in top_breed_list):\n",
    "        return int(1)\n",
    "    else:\n",
    "        return int(0)\n",
    "data['TopBreed'] = data.Breed.apply(top_breed)\n",
    "\n",
    "def breed_rank(i):\n",
    "    i = str(i)\n",
    "    ranks = []\n",
    "    for word in top_breed_list:\n",
    "        if word in i:\n",
    "            ranks.append(int(breeds.loc[breeds['Breed'] == word]['2007']))\n",
    "    if len(ranks) > 0:\n",
    "        return np.mean(ranks)\n",
    "    else:\n",
    "        return 51.0\n",
    "data['BreedRank'] = data.Breed.apply(breed_rank)\n",
    "\n",
    "def pit_bull(i):\n",
    "    i = str(i)\n",
    "    if i.find(\"Pit Bull\") >=0: return int(1)\n",
    "    else: return int(0)\n",
    "data['PitBull'] = data.Breed.apply(pit_bull)\n",
    "\n",
    "def black_cat(i):\n",
    "    i = str(i)\n",
    "    if i == \"Black\": return int(1)\n",
    "    else: return int(0)\n",
    "data['BlackCat'] = data.Color.apply(black_cat)\n",
    "\n",
    "def naming(i):\n",
    "    if pd.isnull(i): return 'Unnamed'\n",
    "    return 'Named'\n",
    "data['Named'] = data.Name.apply(naming)\n",
    "\n",
    "#Change all breed and color strings so that they are ordered consistently\n",
    "#E.G. all \"brown/black\" and \"black/brown\" should become \"black, brown\"\n",
    "def reorder(i):\n",
    "    i = str(i)\n",
    "    if i.find(\" \") >= 0: i = i.replace(\" \", \"-\")\n",
    "    if i.find(\"/\") >= 0: i = i.replace(\"/\", \" \")\n",
    "    i = i.split()\n",
    "    i = sorted(i)\n",
    "    i = ' '.join(i)\n",
    "    return i\n",
    "\n",
    "data['OrderedColor'] = data.Color.apply(reorder)\n",
    "data['OrderedBreed'] = data.Breed.apply(reorder)\n"
   ]
  },
  {
   "cell_type": "code",
   "execution_count": 4,
   "metadata": {
    "scrolled": false
   },
   "outputs": [],
   "source": [
    "#Importing this because multiple deprecation warnings cluttering the output\n",
    "import warnings\n",
    "warnings.filterwarnings('ignore')\n",
    "\n",
    "continuous = ['ConvertedAge', 'BreedRank']\n",
    "discrete = [\n",
    "    'AnimalType',\n",
    "    'Female',\n",
    "    'Intact',\n",
    "    'MixedBreed',\n",
    "    'Named',\n",
    "    'TopBreed',\n",
    "    'PitBull',\n",
    "    'BlackCat'\n",
    "]\n",
    "target = 'OutcomeType'\n",
    "\n",
    "#For those missing an age, fill with the median age by animal type\n",
    "data[\"ConvertedAge\"] = data.groupby(\"AnimalType\").transform(lambda x: x.fillna(x.median()))\n",
    "data[continuous].describe().T\n",
    "\n",
    "#Turn categorical variables into binaries\n",
    "data2 = pd.concat([data[target], data[continuous], pd.get_dummies(data[discrete])], axis=1)\n",
    "\n",
    "discrete = ['AnimalType_Cat', 'AnimalType_Dog', 'Female_Female', 'Female_Male', 'Female_Unknown',\n",
    "           'Intact_Intact', 'Intact_Spayed/Neutered', 'Intact_Unknown', 'MixedBreed_Known Breed Combo',\n",
    "           'MixedBreed_Mixed Breed', 'MixedBreed_Nonmixed', 'Named_Named', 'Named_Unnamed']\n",
    "\n",
    "\n",
    "predictors = continuous + discrete\n",
    "target = 'OutcomeType'\n",
    "\n",
    "\n",
    "# Train/test split on the full dataset\n",
    "X = data2[predictors]\n",
    "y = data2[[target]]\n",
    "X_train, X_dev, y_train, y_dev = train_test_split(X, y, random_state=2)\n",
    "\n",
    "#Normalize the continuous variables\n",
    "ss = StandardScaler()\n",
    "ss.fit(X_train[continuous])   # Compute mean and std of training data\n",
    "X_train[continuous] = ss.transform(X_train[continuous])  # Use that mean and std to normalize columns of training data\n",
    "X_dev[continuous] = ss.transform(X_dev[continuous]) "
   ]
  },
  {
   "cell_type": "code",
   "execution_count": 5,
   "metadata": {
    "scrolled": true
   },
   "outputs": [
    {
     "name": "stdout",
     "output_type": "stream",
     "text": [
      "                count        mean         std  min   25%   50%    75%     max\n",
      "ConvertedAge  26729.0  113.370253  154.064766  0.0   9.0  52.0  156.0  1040.0\n",
      "BreedRank     26729.0   35.975981   20.246237  1.0  12.0  51.0   51.0    51.0\n",
      "                count        mean         std  min  25%   50%    75%     max\n",
      "ConvertedAge  26729.0  113.370253  154.064766  0.0  9.0  52.0  156.0  1040.0\n"
     ]
    }
   ],
   "source": [
    "#Define continuous and categorical variables\n",
    "\n",
    "continuous = {'dog':['ConvertedAge', 'BreedRank'], 'cat':['ConvertedAge']}\n",
    "discrete = {'dog':[\n",
    "    'AnimalType',\n",
    "    'Female',\n",
    "    'Intact',\n",
    "    'MixedBreed',\n",
    "    'Named',\n",
    "    'TopBreed',\n",
    "    'PitBull'\n",
    "], 'cat': [\n",
    "    'AnimalType',\n",
    "    'Female',\n",
    "    'Intact',\n",
    "    'MixedBreed',\n",
    "    'Named',\n",
    "    'BlackCat'\n",
    "]}\n",
    "\n",
    "\n",
    "pred = {'dog': continuous['dog'] + discrete['dog'], 'cat':continuous['cat']+discrete['cat']}\n",
    "target = 'OutcomeType'\n",
    "\n",
    "#For those missing an age, fill with the median age by animal type\n",
    "data[\"ConvertedAge\"] = data.groupby(\"AnimalType\").transform(lambda x: x.fillna(x.median()))\n",
    "print data[continuous['dog']].describe().T\n",
    "print data[continuous['cat']].describe().T"
   ]
  },
  {
   "cell_type": "code",
   "execution_count": 6,
   "metadata": {},
   "outputs": [
    {
     "name": "stdout",
     "output_type": "stream",
     "text": [
      "(26729, 18)\n",
      "(26729, 16)\n"
     ]
    }
   ],
   "source": [
    "#Turn categorical variables into binaries, eliminating unconverted columns\n",
    "data2_dog = pd.concat([data[target], data[continuous['dog']], pd.get_dummies(data[discrete['dog']])], axis=1)\n",
    "data2_cat = pd.concat([data[target], data[continuous['cat']], pd.get_dummies(data[discrete['cat']])], axis=1)\n",
    "print data2_dog.shape\n",
    "print data2_cat.shape"
   ]
  },
  {
   "cell_type": "code",
   "execution_count": 7,
   "metadata": {},
   "outputs": [
    {
     "name": "stdout",
     "output_type": "stream",
     "text": [
      "(15595, 17)\n",
      "(11134, 15)\n"
     ]
    }
   ],
   "source": [
    "#Split the data into cat and dog data sets\n",
    "data2_dog = pd.concat([data[target], data[continuous['dog']], pd.get_dummies(data[discrete['dog']])], axis=1)\n",
    "data2_cat = pd.concat([data[target], data[continuous['cat']], pd.get_dummies(data[discrete['cat']])], axis=1)\n",
    "\n",
    "discrete_dog = ['AnimalType_Cat', 'AnimalType_Dog', 'Female_Female', 'Female_Male', 'Female_Unknown',\n",
    "           'Intact_Intact', 'Intact_Spayed/Neutered', 'Intact_Unknown', 'MixedBreed_Known Breed Combo',\n",
    "           'MixedBreed_Mixed Breed', 'MixedBreed_Nonmixed', 'Named_Named', 'Named_Unnamed', 'TopBreed', 'PitBull']\n",
    "\n",
    "discrete_cat = ['AnimalType_Cat', 'AnimalType_Dog', 'Female_Female', 'Female_Male', 'Female_Unknown',\n",
    "           'Intact_Intact', 'Intact_Spayed/Neutered', 'Intact_Unknown', 'MixedBreed_Known Breed Combo',\n",
    "           'MixedBreed_Mixed Breed', 'MixedBreed_Nonmixed', 'Named_Named', 'Named_Unnamed', 'BlackCat']\n",
    "\n",
    "predictors_dog = continuous['dog'] + discrete_dog\n",
    "predictors_cat = continuous['cat'] + discrete_cat\n",
    "\n",
    "# Train/test split\n",
    "X_dog = data2_dog[data2_dog['AnimalType_Dog'] == 1][predictors_dog]\n",
    "y_dog = data2_dog[data2_dog['AnimalType_Dog'] == 1][[target]]\n",
    "X_dog_train, X_dog_dev, y_dog_train, y_dog_dev = train_test_split(X_dog, y_dog, random_state=2)\n",
    "\n",
    "X_cat = data2_cat[data2_cat['AnimalType_Cat'] == 1][predictors_cat]\n",
    "y_cat = data2_cat[data2_cat['AnimalType_Cat'] == 1][[target]]\n",
    "X_cat_train, X_cat_dev, y_cat_train, y_cat_dev = train_test_split(X_cat, y_cat, random_state=2)\n",
    "\n",
    "#Normalize \n",
    "ss_dog = StandardScaler()\n",
    "ss_dog.fit(X_dog_train[continuous['dog']])   # Compute mean and std of training data\n",
    "X_dog_train[continuous['dog']] = ss_dog.transform(X_dog_train[continuous['dog']])  # Use that mean and std to normalize columns of training data\n",
    "X_dog_dev[continuous['dog']] = ss_dog.transform(X_dog_dev[continuous['dog']]) \n",
    "print X_dog.shape\n",
    "\n",
    "ss_cat = StandardScaler()\n",
    "ss_cat.fit(X_cat_train[continuous['cat']])   # Compute mean and std of training data\n",
    "X_cat_train[continuous['cat']] = ss_cat.transform(X_cat_train[continuous['cat']])  # Use that mean and std to normalize columns of training data\n",
    "X_cat_dev[continuous['cat']] = ss_cat.transform(X_cat_dev[continuous['cat']]) \n",
    "print X_cat.shape"
   ]
  },
  {
   "cell_type": "markdown",
   "metadata": {},
   "source": [
    "### Exploratory Analysis"
   ]
  },
  {
   "cell_type": "markdown",
   "metadata": {},
   "source": [
    "#### Visualizing Features\n",
    "\n",
    "- We have approximately the same number of cats and dogs.\n",
    "- The majority of animals are adopted or transferred; there are comparatively few cases of death or euthanasia.\n",
    "- As we would expect, the majority of cases would be considered mixed breed. Also expected is that there are few animals beyond 15 years old.\n",
    "- A large majority of animals are named (though whether by the shelter or a prior owner is unknown)."
   ]
  },
  {
   "cell_type": "code",
   "execution_count": 8,
   "metadata": {},
   "outputs": [
    {
     "data": {
      "text/plain": [
       "<matplotlib.axes._subplots.AxesSubplot at 0x107ce4e10>"
      ]
     },
     "execution_count": 8,
     "metadata": {},
     "output_type": "execute_result"
    },
    {
     "data": {
      "image/png": "[encoded data removed]",
      "text/plain": [
       "<matplotlib.figure.Figure at 0x1081a68d0>"
      ]
     },
     "metadata": {},
     "output_type": "display_data"
    }
   ],
   "source": [
    "#Animal types\n",
    "animal_type = data['AnimalType'].value_counts() \n",
    "animal_type.plot(kind='bar',color='#34ABD8',rot=0)"
   ]
  },
  {
   "cell_type": "code",
   "execution_count": 9,
   "metadata": {
    "scrolled": false
   },
   "outputs": [
    {
     "data": {
      "text/plain": [
       "<matplotlib.axes._subplots.AxesSubplot at 0x11f511150>"
      ]
     },
     "execution_count": 9,
     "metadata": {},
     "output_type": "execute_result"
    },
    {
     "data": {
      "image/png": "[encoded data removed]",
      "text/plain": [
       "<matplotlib.figure.Figure at 0x11e8f8810>"
      ]
     },
     "metadata": {},
     "output_type": "display_data"
    }
   ],
   "source": [
    "#Outcome types\n",
    "outcome_type = data['OutcomeType'].value_counts() \n",
    "outcome_type.plot(kind='bar',color='#34ABD8',rot=0)"
   ]
  },
  {
   "cell_type": "code",
   "execution_count": 10,
   "metadata": {},
   "outputs": [
    {
     "data": {
      "text/html": [
       "\n",
       "\n",
       "    <div class=\"bk-root\">\n",
       "        <div class=\"bk-plotdiv\" id=\"2ffecc03-21ff-4aba-9afb-99caf2c868d4\"></div>\n",
       "    </div>\n",
       "<script type=\"text/javascript\">\n",
       "  \n",
       "  (function(global) {\n",
       "    function now() {\n",
       "      return new Date();\n",
       "    }\n",
       "  \n",
       "    var force = false;\n",
       "  \n",
       "    if (typeof (window._bokeh_onload_callbacks) === \"undefined\" || force === true) {\n",
       "      window._bokeh_onload_callbacks = [];\n",
       "      window._bokeh_is_loading = undefined;\n",
       "    }\n",
       "  \n",
       "  \n",
       "    \n",
       "    if (typeof (window._bokeh_timeout) === \"undefined\" || force === true) {\n",
       "      window._bokeh_timeout = Date.now() + 0;\n",
       "      window._bokeh_failed_load = false;\n",
       "    }\n",
       "  \n",
       "    var NB_LOAD_WARNING = {'data': {'text/html':\n",
       "       \"<div style='background-color: #fdd'>\\n\"+\n",
       "       \"<p>\\n\"+\n",
       "       \"BokehJS does not appear to have successfully loaded. If loading BokehJS from CDN, this \\n\"+\n",
       "       \"may be due to a slow or bad network connection. Possible fixes:\\n\"+\n",
       "       \"</p>\\n\"+\n",
       "       \"<ul>\\n\"+\n",
       "       \"<li>re-rerun `output_notebook()` to attempt to load from CDN again, or</li>\\n\"+\n",
       "       \"<li>use INLINE resources instead, as so:</li>\\n\"+\n",
       "       \"</ul>\\n\"+\n",
       "       \"<code>\\n\"+\n",
       "       \"from bokeh.resources import INLINE\\n\"+\n",
       "       \"output_notebook(resources=INLINE)\\n\"+\n",
       "       \"</code>\\n\"+\n",
       "       \"</div>\"}};\n",
       "  \n",
       "    function display_loaded() {\n",
       "      if (window.Bokeh !== undefined) {\n",
       "        var el = document.getElementById(\"2ffecc03-21ff-4aba-9afb-99caf2c868d4\");\n",
       "        el.textContent = \"BokehJS \" + Bokeh.version + \" successfully loaded.\";\n",
       "      } else if (Date.now() < window._bokeh_timeout) {\n",
       "        setTimeout(display_loaded, 100)\n",
       "      }\n",
       "    }\n",
       "  \n",
       "    function run_callbacks() {\n",
       "      window._bokeh_onload_callbacks.forEach(function(callback) { callback() });\n",
       "      delete window._bokeh_onload_callbacks\n",
       "      console.info(\"Bokeh: all callbacks have finished\");\n",
       "    }\n",
       "  \n",
       "    function load_libs(js_urls, callback) {\n",
       "      window._bokeh_onload_callbacks.push(callback);\n",
       "      if (window._bokeh_is_loading > 0) {\n",
       "        console.log(\"Bokeh: BokehJS is being loaded, scheduling callback at\", now());\n",
       "        return null;\n",
       "      }\n",
       "      if (js_urls == null || js_urls.length === 0) {\n",
       "        run_callbacks();\n",
       "        return null;\n",
       "      }\n",
       "      console.log(\"Bokeh: BokehJS not loaded, scheduling load and callback at\", now());\n",
       "      window._bokeh_is_loading = js_urls.length;\n",
       "      for (var i = 0; i < js_urls.length; i++) {\n",
       "        var url = js_urls[i];\n",
       "        var s = document.createElement('script');\n",
       "        s.src = url;\n",
       "        s.async = false;\n",
       "        s.onreadystatechange = s.onload = function() {\n",
       "          window._bokeh_is_loading--;\n",
       "          if (window._bokeh_is_loading === 0) {\n",
       "            console.log(\"Bokeh: all BokehJS libraries loaded\");\n",
       "            run_callbacks()\n",
       "          }\n",
       "        };\n",
       "        s.onerror = function() {\n",
       "          console.warn(\"failed to load library \" + url);\n",
       "        };\n",
       "        console.log(\"Bokeh: injecting script tag for BokehJS library: \", url);\n",
       "        document.getElementsByTagName(\"head\")[0].appendChild(s);\n",
       "      }\n",
       "    };var element = document.getElementById(\"2ffecc03-21ff-4aba-9afb-99caf2c868d4\");\n",
       "    if (element == null) {\n",
       "      console.log(\"Bokeh: ERROR: autoload.js configured with elementid '2ffecc03-21ff-4aba-9afb-99caf2c868d4' but no matching script tag was found. \")\n",
       "      return false;\n",
       "    }\n",
       "  \n",
       "    var js_urls = [];\n",
       "  \n",
       "    var inline_js = [\n",
       "      function(Bokeh) {\n",
       "        (function() {\n",
       "          var fn = function() {\n",
       "            var docs_json = {\"d32c15e1-45dc-495c-aca3-1e64ab947021\":{\"roots\":{\"references\":[{\"attributes\":{\"callback\":null,\"column_names\":[\"line_color\",\"line_alpha\",\"color\",\"fill_alpha\",\"height\",\"width\",\"y\",\"x\",\"label\"],\"data\":{\"Intact\":[\"Unknown\"],\"OutcomeType\":[\"Euthanasia\"],\"chart_index\":[{\"Intact\":\"Unknown\",\"OutcomeType\":\"Euthanasia\"}],\"color\":[\"#407ee7\"],\"fill_alpha\":[0.8],\"height\":[101.0],\"label\":[{\"Intact\":\"Unknown\",\"OutcomeType\":\"Euthanasia\"}],\"line_alpha\":[1.0],\"line_color\":[\"white\"],\"width\":[0.8],\"x\":[\"Euthanasia\"],\"y\":[1504.5]}},\"id\":\"74cf5ef3-7644-4e67-91b1-684fdf65dab9\",\"type\":\"ColumnDataSource\"},{\"attributes\":{\"fill_alpha\":{\"field\":\"fill_alpha\"},\"fill_color\":{\"field\":\"color\"},\"height\":{\"field\":\"height\",\"units\":\"data\"},\"line_color\":{\"field\":\"line_color\"},\"width\":{\"field\":\"width\",\"units\":\"data\"},\"x\":{\"field\":\"x\"},\"y\":{\"field\":\"y\"}},\"id\":\"bb65af0b-fca2-4fed-b404-7bd147c9d2e6\",\"type\":\"Rect\"},{\"attributes\":{\"callback\":null,\"column_names\":[\"line_color\",\"line_alpha\",\"color\",\"fill_alpha\",\"height\",\"width\",\"y\",\"x\",\"label\"],\"data\":{\"Intact\":[\"Intact\"],\"OutcomeType\":[\"Died\"],\"chart_index\":[{\"Intact\":\"Intact\",\"OutcomeType\":\"Died\"}],\"color\":[\"#f22c40\"],\"fill_alpha\":[0.8],\"height\":[135.0],\"label\":[{\"Intact\":\"Intact\",\"OutcomeType\":\"Died\"}],\"line_alpha\":[1.0],\"line_color\":[\"white\"],\"width\":[0.8],\"x\":[\"Died\"],\"y\":[67.5]}},\"id\":\"2ee8ab67-f8f3-4273-a81d-5eccc8ce2b15\",\"type\":\"ColumnDataSource\"},{\"attributes\":{\"data_source\":{\"id\":\"b929496a-9207-420b-bfe0-40c356ffd20f\",\"type\":\"ColumnDataSource\"},\"glyph\":{\"id\":\"ea71d874-efd0-4d56-a283-267f85818940\",\"type\":\"Rect\"},\"hover_glyph\":null,\"muted_glyph\":null},\"id\":\"00fc4eec-2c12-44cd-8f2d-55d85f83e298\",\"type\":\"GlyphRenderer\"},{\"attributes\":{\"callback\":null,\"column_names\":[\"line_color\",\"line_alpha\",\"color\",\"fill_alpha\",\"height\",\"width\",\"y\",\"x\",\"label\"],\"data\":{\"Intact\":[\"Spayed/Neutered\"],\"OutcomeType\":[\"Euthanasia\"],\"chart_index\":[{\"Intact\":\"Spayed/Neutered\",\"OutcomeType\":\"Euthanasia\"}],\"color\":[\"#5ab738\"],\"fill_alpha\":[0.8],\"height\":[576.0],\"label\":[{\"Intact\":\"Spayed/Neutered\",\"OutcomeType\":\"Euthanasia\"}],\"line_alpha\":[1.0],\"line_color\":[\"white\"],\"width\":[0.8],\"x\":[\"Euthanasia\"],\"y\":[288.0]}},\"id\":\"de6425fa-4049-43f1-a3d9-b76fc025b5be\",\"type\":\"ColumnDataSource\"},{\"attributes\":{\"callback\":null,\"column_names\":[\"line_color\",\"line_alpha\",\"color\",\"fill_alpha\",\"height\",\"width\",\"y\",\"x\",\"label\"],\"data\":{\"Intact\":[\"Spayed/Neutered\"],\"OutcomeType\":[\"Adoption\"],\"chart_index\":[{\"Intact\":\"Spayed/Neutered\",\"OutcomeType\":\"Adoption\"}],\"color\":[\"#5ab738\"],\"fill_alpha\":[0.8],\"height\":[10408.0],\"label\":[{\"Intact\":\"Spayed/Neutered\",\"OutcomeType\":\"Adoption\"}],\"line_alpha\":[1.0],\"line_color\":[\"white\"],\"width\":[0.8],\"x\":[\"Adoption\"],\"y\":[5204.0]}},\"id\":\"b929496a-9207-420b-bfe0-40c356ffd20f\",\"type\":\"ColumnDataSource\"},{\"attributes\":{},\"id\":\"50feba3b-902d-40d0-92c9-803acce65c5d\",\"type\":\"CategoricalTickFormatter\"},{\"attributes\":{},\"id\":\"e3201822-441e-471e-bb31-ab286793bc62\",\"type\":\"BasicTickFormatter\"},{\"attributes\":{\"callback\":null,\"column_names\":[\"line_color\",\"line_alpha\",\"color\",\"fill_alpha\",\"height\",\"width\",\"y\",\"x\",\"label\"],\"data\":{\"Intact\":[\"Unknown\"],\"OutcomeType\":[\"Died\"],\"chart_index\":[{\"Intact\":\"Unknown\",\"OutcomeType\":\"Died\"}],\"color\":[\"#407ee7\"],\"fill_alpha\":[0.8],\"height\":[25.0],\"label\":[{\"Intact\":\"Unknown\",\"OutcomeType\":\"Died\"}],\"line_alpha\":[1.0],\"line_color\":[\"white\"],\"width\":[0.8],\"x\":[\"Died\"],\"y\":[147.5]}},\"id\":\"2ef7ee8e-72c4-40b0-8eac-b2e4d7bb4d41\",\"type\":\"ColumnDataSource\"},{\"attributes\":{\"callback\":null,\"column_names\":[\"line_color\",\"line_alpha\",\"color\",\"fill_alpha\",\"height\",\"width\",\"y\",\"x\",\"label\"],\"data\":{\"Intact\":[\"Intact\"],\"OutcomeType\":[\"Transfer\"],\"chart_index\":[{\"Intact\":\"Intact\",\"OutcomeType\":\"Transfer\"}],\"color\":[\"#f22c40\"],\"fill_alpha\":[0.8],\"height\":[4884.0],\"label\":[{\"Intact\":\"Intact\",\"OutcomeType\":\"Transfer\"}],\"line_alpha\":[1.0],\"line_color\":[\"white\"],\"width\":[0.8],\"x\":[\"Transfer\"],\"y\":[2442.0]}},\"id\":\"c59ccc26-4b53-40ee-8403-a82487ace4a8\",\"type\":\"ColumnDataSource\"},{\"attributes\":{\"callback\":null,\"column_names\":[\"line_color\",\"line_alpha\",\"color\",\"fill_alpha\",\"height\",\"width\",\"y\",\"x\",\"label\"],\"data\":{\"Intact\":[\"Intact\"],\"OutcomeType\":[\"Euthanasia\"],\"chart_index\":[{\"Intact\":\"Intact\",\"OutcomeType\":\"Euthanasia\"}],\"color\":[\"#f22c40\"],\"fill_alpha\":[0.8],\"height\":[878.0],\"label\":[{\"Intact\":\"Intact\",\"OutcomeType\":\"Euthanasia\"}],\"line_alpha\":[1.0],\"line_color\":[\"white\"],\"width\":[0.8],\"x\":[\"Euthanasia\"],\"y\":[1015.0]}},\"id\":\"6ec7dbaf-776d-4ab4-ae38-99d0fa412da4\",\"type\":\"ColumnDataSource\"},{\"attributes\":{\"callback\":null,\"column_names\":[\"line_color\",\"line_alpha\",\"color\",\"fill_alpha\",\"height\",\"width\",\"y\",\"x\",\"label\"],\"data\":{\"Intact\":[\"Spayed/Neutered\"],\"OutcomeType\":[\"Return_to_owner\"],\"chart_index\":[{\"Intact\":\"Spayed/Neutered\",\"OutcomeType\":\"Return_to_owner\"}],\"color\":[\"#5ab738\"],\"fill_alpha\":[0.8],\"height\":[3996.0],\"label\":[{\"Intact\":\"Spayed/Neutered\",\"OutcomeType\":\"Return_to_owner\"}],\"line_alpha\":[1.0],\"line_color\":[\"white\"],\"width\":[0.8],\"x\":[\"Return_to_owner\"],\"y\":[1998.0]}},\"id\":\"8f485c15-0161-42b4-b8e6-67fd07c0ee7f\",\"type\":\"ColumnDataSource\"},{\"attributes\":{\"fill_alpha\":{\"field\":\"fill_alpha\"},\"fill_color\":{\"field\":\"color\"},\"height\":{\"field\":\"height\",\"units\":\"data\"},\"line_color\":{\"field\":\"line_color\"},\"width\":{\"field\":\"width\",\"units\":\"data\"},\"x\":{\"field\":\"x\"},\"y\":{\"field\":\"y\"}},\"id\":\"972e58c1-2815-4843-9e57-a9e3414f036b\",\"type\":\"Rect\"},{\"attributes\":{\"plot\":{\"id\":\"c1880886-e291-47b0-a2a1-47f39b541d3d\",\"subtype\":\"Chart\",\"type\":\"Plot\"}},\"id\":\"36c5fb25-3f11-457c-a2d4-688ae2b96b9c\",\"type\":\"ResetTool\"},{\"attributes\":{\"below\":[{\"id\":\"5fe2952b-5340-478d-a336-851c6c1b62a2\",\"type\":\"CategoricalAxis\"}],\"css_classes\":null,\"left\":[{\"id\":\"981a9ad4-ed74-4ceb-a0f1-e7cef7435ab0\",\"type\":\"LinearAxis\"}],\"renderers\":[{\"id\":\"9537f139-a265-4915-bf70-c5a6f4fe034d\",\"type\":\"BoxAnnotation\"},{\"id\":\"d4db6d77-44ce-4287-a85a-ab77a9c01c7e\",\"type\":\"GlyphRenderer\"},{\"id\":\"990f52bd-7c5f-4129-a64a-fede8e883be5\",\"type\":\"GlyphRenderer\"},{\"id\":\"00fc4eec-2c12-44cd-8f2d-55d85f83e298\",\"type\":\"GlyphRenderer\"},{\"id\":\"bbeee687-32dc-4c84-97ae-9c22c657a400\",\"type\":\"GlyphRenderer\"},{\"id\":\"5f29ca6a-3806-42c7-856c-7e60f97ca0ae\",\"type\":\"GlyphRenderer\"},{\"id\":\"a390fd98-5f11-4aa0-a4ad-36ac81e64429\",\"type\":\"GlyphRenderer\"},{\"id\":\"74d4877f-a717-40f3-abc7-19de82d2851d\",\"type\":\"GlyphRenderer\"},{\"id\":\"7463aaa5-9841-4021-a751-6f36ed747ce4\",\"type\":\"GlyphRenderer\"},{\"id\":\"1c08dd27-5c9f-4e7e-8b6c-a66ce6fe0abf\",\"type\":\"GlyphRenderer\"},{\"id\":\"a40b0e63-7355-4b1f-975e-506eae387928\",\"type\":\"GlyphRenderer\"},{\"id\":\"f1b5497a-ff90-49cf-9b78-b3c98373373d\",\"type\":\"GlyphRenderer\"},{\"id\":\"778543d7-b597-4e74-a760-315d9ddb21ca\",\"type\":\"GlyphRenderer\"},{\"id\":\"66623a77-0529-432d-a251-527b805f1b75\",\"type\":\"GlyphRenderer\"},{\"id\":\"28687748-988f-4600-8420-2a8bf67867de\",\"type\":\"GlyphRenderer\"},{\"id\":\"fe2a029b-b7ae-4781-9a68-ccc32a6e8e8c\",\"type\":\"Legend\"},{\"id\":\"5fe2952b-5340-478d-a336-851c6c1b62a2\",\"type\":\"CategoricalAxis\"},{\"id\":\"981a9ad4-ed74-4ceb-a0f1-e7cef7435ab0\",\"type\":\"LinearAxis\"},{\"id\":\"7bc34c5e-9c70-4143-95bd-f22c026e8211\",\"type\":\"Grid\"}],\"title\":{\"id\":\"21602ef6-f5dd-4f34-9769-3636b057d931\",\"type\":\"Title\"},\"tool_events\":{\"id\":\"6f3a74fa-de0e-4699-850f-bdb4949f229f\",\"type\":\"ToolEvents\"},\"toolbar\":{\"id\":\"2b1fec64-4cbe-4b7d-b7c2-1981eaf80018\",\"type\":\"Toolbar\"},\"x_mapper_type\":\"auto\",\"x_range\":{\"id\":\"f213e814-d48e-4175-bd1c-0c03fce58d13\",\"type\":\"FactorRange\"},\"y_mapper_type\":\"auto\",\"y_range\":{\"id\":\"4ef947a8-301f-4e0a-b5aa-060782934310\",\"type\":\"Range1d\"}},\"id\":\"c1880886-e291-47b0-a2a1-47f39b541d3d\",\"subtype\":\"Chart\",\"type\":\"Plot\"},{\"attributes\":{\"axis_label\":\"Count( Intact )\",\"formatter\":{\"id\":\"e3201822-441e-471e-bb31-ab286793bc62\",\"type\":\"BasicTickFormatter\"},\"plot\":{\"id\":\"c1880886-e291-47b0-a2a1-47f39b541d3d\",\"subtype\":\"Chart\",\"type\":\"Plot\"},\"ticker\":{\"id\":\"30ea7ff8-ec80-4fd5-8d37-192019e8b4a6\",\"type\":\"BasicTicker\"}},\"id\":\"981a9ad4-ed74-4ceb-a0f1-e7cef7435ab0\",\"type\":\"LinearAxis\"},{\"attributes\":{\"fill_alpha\":{\"field\":\"fill_alpha\"},\"fill_color\":{\"field\":\"color\"},\"height\":{\"field\":\"height\",\"units\":\"data\"},\"line_color\":{\"field\":\"line_color\"},\"width\":{\"field\":\"width\",\"units\":\"data\"},\"x\":{\"field\":\"x\"},\"y\":{\"field\":\"y\"}},\"id\":\"cdd6e020-be02-4707-b82d-ee24cd5e27b3\",\"type\":\"Rect\"},{\"attributes\":{\"plot\":{\"id\":\"c1880886-e291-47b0-a2a1-47f39b541d3d\",\"subtype\":\"Chart\",\"type\":\"Plot\"}},\"id\":\"260d3e19-7be6-4dcb-9357-e5575e67befd\",\"type\":\"HelpTool\"},{\"attributes\":{\"active_drag\":\"auto\",\"active_scroll\":\"auto\",\"active_tap\":\"auto\",\"tools\":[{\"id\":\"03b3b453-e84a-4404-ba21-39bcd2681d8b\",\"type\":\"PanTool\"},{\"id\":\"77c74b59-de27-44ea-9c8e-76fd75033d3d\",\"type\":\"WheelZoomTool\"},{\"id\":\"c155f8b9-4fd1-44aa-9afa-bc44121b532d\",\"type\":\"BoxZoomTool\"},{\"id\":\"cd6e8eda-fdd6-431e-99e6-4342f1369563\",\"type\":\"SaveTool\"},{\"id\":\"36c5fb25-3f11-457c-a2d4-688ae2b96b9c\",\"type\":\"ResetTool\"},{\"id\":\"260d3e19-7be6-4dcb-9357-e5575e67befd\",\"type\":\"HelpTool\"}]},\"id\":\"2b1fec64-4cbe-4b7d-b7c2-1981eaf80018\",\"type\":\"Toolbar\"},{\"attributes\":{\"dimension\":1,\"plot\":{\"id\":\"c1880886-e291-47b0-a2a1-47f39b541d3d\",\"subtype\":\"Chart\",\"type\":\"Plot\"},\"ticker\":{\"id\":\"30ea7ff8-ec80-4fd5-8d37-192019e8b4a6\",\"type\":\"BasicTicker\"}},\"id\":\"7bc34c5e-9c70-4143-95bd-f22c026e8211\",\"type\":\"Grid\"},{\"attributes\":{\"plot\":{\"id\":\"c1880886-e291-47b0-a2a1-47f39b541d3d\",\"subtype\":\"Chart\",\"type\":\"Plot\"}},\"id\":\"cd6e8eda-fdd6-431e-99e6-4342f1369563\",\"type\":\"SaveTool\"},{\"attributes\":{\"callback\":null,\"column_names\":[\"line_color\",\"line_alpha\",\"color\",\"fill_alpha\",\"height\",\"width\",\"y\",\"x\",\"label\"],\"data\":{\"Intact\":[\"Unknown\"],\"OutcomeType\":[\"Return_to_owner\"],\"chart_index\":[{\"Intact\":\"Unknown\",\"OutcomeType\":\"Return_to_owner\"}],\"color\":[\"#407ee7\"],\"fill_alpha\":[0.8],\"height\":[12.0],\"label\":[{\"Intact\":\"Unknown\",\"OutcomeType\":\"Return_to_owner\"}],\"line_alpha\":[1.0],\"line_color\":[\"white\"],\"width\":[0.8],\"x\":[\"Return_to_owner\"],\"y\":[4780.0]}},\"id\":\"79e7f8f4-69ab-49d1-8e3d-35a0364a6a66\",\"type\":\"ColumnDataSource\"},{\"attributes\":{\"fill_alpha\":{\"field\":\"fill_alpha\"},\"fill_color\":{\"field\":\"color\"},\"height\":{\"field\":\"height\",\"units\":\"data\"},\"line_color\":{\"field\":\"line_color\"},\"width\":{\"field\":\"width\",\"units\":\"data\"},\"x\":{\"field\":\"x\"},\"y\":{\"field\":\"y\"}},\"id\":\"f11db09c-01e9-4299-b5ce-c5aeccaf139a\",\"type\":\"Rect\"},{\"attributes\":{\"callback\":null,\"column_names\":[\"line_color\",\"line_alpha\",\"color\",\"fill_alpha\",\"height\",\"width\",\"y\",\"x\",\"label\"],\"data\":{\"Intact\":[\"Unknown\"],\"OutcomeType\":[\"Transfer\"],\"chart_index\":[{\"Intact\":\"Unknown\",\"OutcomeType\":\"Transfer\"}],\"color\":[\"#407ee7\"],\"fill_alpha\":[0.8],\"height\":[955.0],\"label\":[{\"Intact\":\"Unknown\",\"OutcomeType\":\"Transfer\"}],\"line_alpha\":[1.0],\"line_color\":[\"white\"],\"width\":[0.8],\"x\":[\"Transfer\"],\"y\":[8944.5]}},\"id\":\"79929a7e-841f-42bb-86e6-c3fea0050586\",\"type\":\"ColumnDataSource\"},{\"attributes\":{\"fill_alpha\":{\"field\":\"fill_alpha\"},\"fill_color\":{\"field\":\"color\"},\"height\":{\"field\":\"height\",\"units\":\"data\"},\"line_color\":{\"field\":\"line_color\"},\"width\":{\"field\":\"width\",\"units\":\"data\"},\"x\":{\"field\":\"x\"},\"y\":{\"field\":\"y\"}},\"id\":\"03d03ffe-f3e2-4405-84fb-d2f7853647dd\",\"type\":\"Rect\"},{\"attributes\":{},\"id\":\"6b801560-3403-4298-ab53-cef1ebf2a6ea\",\"type\":\"CategoricalTicker\"},{\"attributes\":{\"plot\":{\"id\":\"c1880886-e291-47b0-a2a1-47f39b541d3d\",\"subtype\":\"Chart\",\"type\":\"Plot\"}},\"id\":\"03b3b453-e84a-4404-ba21-39bcd2681d8b\",\"type\":\"PanTool\"},{\"attributes\":{\"fill_alpha\":{\"field\":\"fill_alpha\"},\"fill_color\":{\"field\":\"color\"},\"height\":{\"field\":\"height\",\"units\":\"data\"},\"line_color\":{\"field\":\"line_color\"},\"width\":{\"field\":\"width\",\"units\":\"data\"},\"x\":{\"field\":\"x\"},\"y\":{\"field\":\"y\"}},\"id\":\"8b52ace4-fd93-4213-9780-8185c7a78d48\",\"type\":\"Rect\"},{\"attributes\":{\"fill_alpha\":{\"field\":\"fill_alpha\"},\"fill_color\":{\"field\":\"color\"},\"height\":{\"field\":\"height\",\"units\":\"data\"},\"line_color\":{\"field\":\"line_color\"},\"width\":{\"field\":\"width\",\"units\":\"data\"},\"x\":{\"field\":\"x\"},\"y\":{\"field\":\"y\"}},\"id\":\"57f515f9-4910-497a-ba90-5147a1979900\",\"type\":\"Rect\"},{\"attributes\":{\"data_source\":{\"id\":\"c59ccc26-4b53-40ee-8403-a82487ace4a8\",\"type\":\"ColumnDataSource\"},\"glyph\":{\"id\":\"8b52ace4-fd93-4213-9780-8185c7a78d48\",\"type\":\"Rect\"},\"hover_glyph\":null,\"muted_glyph\":null},\"id\":\"bbeee687-32dc-4c84-97ae-9c22c657a400\",\"type\":\"GlyphRenderer\"},{\"attributes\":{\"items\":[{\"id\":\"8d9253fb-8d10-459f-a5d8-b1c9e3d4dae0\",\"type\":\"LegendItem\"},{\"id\":\"a3a5e321-56bc-4999-8705-022b610ffb53\",\"type\":\"LegendItem\"},{\"id\":\"63fb2be3-2077-400d-84d0-77b2cd2fe0f0\",\"type\":\"LegendItem\"}],\"plot\":{\"id\":\"c1880886-e291-47b0-a2a1-47f39b541d3d\",\"subtype\":\"Chart\",\"type\":\"Plot\"}},\"id\":\"fe2a029b-b7ae-4781-9a68-ccc32a6e8e8c\",\"type\":\"Legend\"},{\"attributes\":{\"callback\":null,\"factors\":[\"Adoption\",\"Died\",\"Euthanasia\",\"Return_to_owner\",\"Transfer\"]},\"id\":\"f213e814-d48e-4175-bd1c-0c03fce58d13\",\"type\":\"FactorRange\"},{\"attributes\":{\"fill_alpha\":{\"field\":\"fill_alpha\"},\"fill_color\":{\"field\":\"color\"},\"height\":{\"field\":\"height\",\"units\":\"data\"},\"line_color\":{\"field\":\"line_color\"},\"width\":{\"field\":\"width\",\"units\":\"data\"},\"x\":{\"field\":\"x\"},\"y\":{\"field\":\"y\"}},\"id\":\"4e1a3c4b-79af-4c7c-a72a-92abf4d1c701\",\"type\":\"Rect\"},{\"attributes\":{\"fill_alpha\":{\"field\":\"fill_alpha\"},\"fill_color\":{\"field\":\"color\"},\"height\":{\"field\":\"height\",\"units\":\"data\"},\"line_color\":{\"field\":\"line_color\"},\"width\":{\"field\":\"width\",\"units\":\"data\"},\"x\":{\"field\":\"x\"},\"y\":{\"field\":\"y\"}},\"id\":\"bd7fc9b3-1739-48d4-9780-5a2f5a4ed703\",\"type\":\"Rect\"},{\"attributes\":{\"callback\":null,\"end\":11307.45},\"id\":\"4ef947a8-301f-4e0a-b5aa-060782934310\",\"type\":\"Range1d\"},{\"attributes\":{\"data_source\":{\"id\":\"f754152b-cd13-4a16-9a4b-e45c20224e4c\",\"type\":\"ColumnDataSource\"},\"glyph\":{\"id\":\"8c0b9039-b75a-412c-8505-bddeaf514d7e\",\"type\":\"Rect\"},\"hover_glyph\":null,\"muted_glyph\":null},\"id\":\"7463aaa5-9841-4021-a751-6f36ed747ce4\",\"type\":\"GlyphRenderer\"},{\"attributes\":{},\"id\":\"6f3a74fa-de0e-4699-850f-bdb4949f229f\",\"type\":\"ToolEvents\"},{\"attributes\":{\"data_source\":{\"id\":\"06252356-d5ca-44bf-8356-7a0b15f176d9\",\"type\":\"ColumnDataSource\"},\"glyph\":{\"id\":\"cdd6e020-be02-4707-b82d-ee24cd5e27b3\",\"type\":\"Rect\"},\"hover_glyph\":null,\"muted_glyph\":null},\"id\":\"a40b0e63-7355-4b1f-975e-506eae387928\",\"type\":\"GlyphRenderer\"},{\"attributes\":{\"data_source\":{\"id\":\"de6425fa-4049-43f1-a3d9-b76fc025b5be\",\"type\":\"ColumnDataSource\"},\"glyph\":{\"id\":\"71097d67-1dca-4a68-b25d-8c05285bb0d2\",\"type\":\"Rect\"},\"hover_glyph\":null,\"muted_glyph\":null},\"id\":\"990f52bd-7c5f-4129-a64a-fede8e883be5\",\"type\":\"GlyphRenderer\"},{\"attributes\":{\"label\":{\"value\":\"Intact\"},\"renderers\":[{\"id\":\"bbeee687-32dc-4c84-97ae-9c22c657a400\",\"type\":\"GlyphRenderer\"}]},\"id\":\"a3a5e321-56bc-4999-8705-022b610ffb53\",\"type\":\"LegendItem\"},{\"attributes\":{\"callback\":null,\"column_names\":[\"line_color\",\"line_alpha\",\"color\",\"fill_alpha\",\"height\",\"width\",\"y\",\"x\",\"label\"],\"data\":{\"Intact\":[\"Intact\"],\"OutcomeType\":[\"Return_to_owner\"],\"chart_index\":[{\"Intact\":\"Intact\",\"OutcomeType\":\"Return_to_owner\"}],\"color\":[\"#f22c40\"],\"fill_alpha\":[0.8],\"height\":[778.0],\"label\":[{\"Intact\":\"Intact\",\"OutcomeType\":\"Return_to_owner\"}],\"line_alpha\":[1.0],\"line_color\":[\"white\"],\"width\":[0.8],\"x\":[\"Return_to_owner\"],\"y\":[4385.0]}},\"id\":\"f754152b-cd13-4a16-9a4b-e45c20224e4c\",\"type\":\"ColumnDataSource\"},{\"attributes\":{\"data_source\":{\"id\":\"74cf5ef3-7644-4e67-91b1-684fdf65dab9\",\"type\":\"ColumnDataSource\"},\"glyph\":{\"id\":\"51ba7e60-6b5d-47a4-aa1c-2d89a453819d\",\"type\":\"Rect\"},\"hover_glyph\":null,\"muted_glyph\":null},\"id\":\"1c08dd27-5c9f-4e7e-8b6c-a66ce6fe0abf\",\"type\":\"GlyphRenderer\"},{\"attributes\":{\"bottom_units\":\"screen\",\"fill_alpha\":{\"value\":0.5},\"fill_color\":{\"value\":\"lightgrey\"},\"left_units\":\"screen\",\"level\":\"overlay\",\"line_alpha\":{\"value\":1.0},\"line_color\":{\"value\":\"black\"},\"line_dash\":[4,4],\"line_width\":{\"value\":2},\"plot\":null,\"render_mode\":\"css\",\"right_units\":\"screen\",\"top_units\":\"screen\"},\"id\":\"9537f139-a265-4915-bf70-c5a6f4fe034d\",\"type\":\"BoxAnnotation\"},{\"attributes\":{\"label\":{\"value\":\"Spayed/Neutered\"},\"renderers\":[{\"id\":\"d4db6d77-44ce-4287-a85a-ab77a9c01c7e\",\"type\":\"GlyphRenderer\"}]},\"id\":\"8d9253fb-8d10-459f-a5d8-b1c9e3d4dae0\",\"type\":\"LegendItem\"},{\"attributes\":{\"overlay\":{\"id\":\"9537f139-a265-4915-bf70-c5a6f4fe034d\",\"type\":\"BoxAnnotation\"},\"plot\":{\"id\":\"c1880886-e291-47b0-a2a1-47f39b541d3d\",\"subtype\":\"Chart\",\"type\":\"Plot\"}},\"id\":\"c155f8b9-4fd1-44aa-9afa-bc44121b532d\",\"type\":\"BoxZoomTool\"},{\"attributes\":{\"label\":{\"value\":\"Unknown\"},\"renderers\":[{\"id\":\"a390fd98-5f11-4aa0-a4ad-36ac81e64429\",\"type\":\"GlyphRenderer\"}]},\"id\":\"63fb2be3-2077-400d-84d0-77b2cd2fe0f0\",\"type\":\"LegendItem\"},{\"attributes\":{},\"id\":\"30ea7ff8-ec80-4fd5-8d37-192019e8b4a6\",\"type\":\"BasicTicker\"},{\"attributes\":{\"fill_alpha\":{\"field\":\"fill_alpha\"},\"fill_color\":{\"field\":\"color\"},\"height\":{\"field\":\"height\",\"units\":\"data\"},\"line_color\":{\"field\":\"line_color\"},\"width\":{\"field\":\"width\",\"units\":\"data\"},\"x\":{\"field\":\"x\"},\"y\":{\"field\":\"y\"}},\"id\":\"ae9285f0-4a8e-4ff5-b2e3-6e4ca6ba8fe4\",\"type\":\"Rect\"},{\"attributes\":{\"data_source\":{\"id\":\"2ee8ab67-f8f3-4273-a81d-5eccc8ce2b15\",\"type\":\"ColumnDataSource\"},\"glyph\":{\"id\":\"57f515f9-4910-497a-ba90-5147a1979900\",\"type\":\"Rect\"},\"hover_glyph\":null,\"muted_glyph\":null},\"id\":\"f1b5497a-ff90-49cf-9b78-b3c98373373d\",\"type\":\"GlyphRenderer\"},{\"attributes\":{\"fill_alpha\":{\"field\":\"fill_alpha\"},\"fill_color\":{\"field\":\"color\"},\"height\":{\"field\":\"height\",\"units\":\"data\"},\"line_color\":{\"field\":\"line_color\"},\"width\":{\"field\":\"width\",\"units\":\"data\"},\"x\":{\"field\":\"x\"},\"y\":{\"field\":\"y\"}},\"id\":\"8c0b9039-b75a-412c-8505-bddeaf514d7e\",\"type\":\"Rect\"},{\"attributes\":{\"data_source\":{\"id\":\"79929a7e-841f-42bb-86e6-c3fea0050586\",\"type\":\"ColumnDataSource\"},\"glyph\":{\"id\":\"bd7fc9b3-1739-48d4-9780-5a2f5a4ed703\",\"type\":\"Rect\"},\"hover_glyph\":null,\"muted_glyph\":null},\"id\":\"a390fd98-5f11-4aa0-a4ad-36ac81e64429\",\"type\":\"GlyphRenderer\"},{\"attributes\":{\"fill_alpha\":{\"field\":\"fill_alpha\"},\"fill_color\":{\"field\":\"color\"},\"height\":{\"field\":\"height\",\"units\":\"data\"},\"line_color\":{\"field\":\"line_color\"},\"width\":{\"field\":\"width\",\"units\":\"data\"},\"x\":{\"field\":\"x\"},\"y\":{\"field\":\"y\"}},\"id\":\"51ba7e60-6b5d-47a4-aa1c-2d89a453819d\",\"type\":\"Rect\"},{\"attributes\":{\"fill_alpha\":{\"field\":\"fill_alpha\"},\"fill_color\":{\"field\":\"color\"},\"height\":{\"field\":\"height\",\"units\":\"data\"},\"line_color\":{\"field\":\"line_color\"},\"width\":{\"field\":\"width\",\"units\":\"data\"},\"x\":{\"field\":\"x\"},\"y\":{\"field\":\"y\"}},\"id\":\"71097d67-1dca-4a68-b25d-8c05285bb0d2\",\"type\":\"Rect\"},{\"attributes\":{\"plot\":{\"id\":\"c1880886-e291-47b0-a2a1-47f39b541d3d\",\"subtype\":\"Chart\",\"type\":\"Plot\"}},\"id\":\"77c74b59-de27-44ea-9c8e-76fd75033d3d\",\"type\":\"WheelZoomTool\"},{\"attributes\":{\"data_source\":{\"id\":\"2ef7ee8e-72c4-40b0-8eac-b2e4d7bb4d41\",\"type\":\"ColumnDataSource\"},\"glyph\":{\"id\":\"f11db09c-01e9-4299-b5ce-c5aeccaf139a\",\"type\":\"Rect\"},\"hover_glyph\":null,\"muted_glyph\":null},\"id\":\"778543d7-b597-4e74-a760-315d9ddb21ca\",\"type\":\"GlyphRenderer\"},{\"attributes\":{\"plot\":null,\"text\":\"Outcomes by Intact Status\"},\"id\":\"21602ef6-f5dd-4f34-9769-3636b057d931\",\"type\":\"Title\"},{\"attributes\":{\"axis_label\":\"Outcometype\",\"formatter\":{\"id\":\"50feba3b-902d-40d0-92c9-803acce65c5d\",\"type\":\"CategoricalTickFormatter\"},\"major_label_orientation\":0.7853981633974483,\"plot\":{\"id\":\"c1880886-e291-47b0-a2a1-47f39b541d3d\",\"subtype\":\"Chart\",\"type\":\"Plot\"},\"ticker\":{\"id\":\"6b801560-3403-4298-ab53-cef1ebf2a6ea\",\"type\":\"CategoricalTicker\"}},\"id\":\"5fe2952b-5340-478d-a336-851c6c1b62a2\",\"type\":\"CategoricalAxis\"},{\"attributes\":{\"fill_alpha\":{\"field\":\"fill_alpha\"},\"fill_color\":{\"field\":\"color\"},\"height\":{\"field\":\"height\",\"units\":\"data\"},\"line_color\":{\"field\":\"line_color\"},\"width\":{\"field\":\"width\",\"units\":\"data\"},\"x\":{\"field\":\"x\"},\"y\":{\"field\":\"y\"}},\"id\":\"ea71d874-efd0-4d56-a283-267f85818940\",\"type\":\"Rect\"},{\"attributes\":{\"data_source\":{\"id\":\"79e7f8f4-69ab-49d1-8e3d-35a0364a6a66\",\"type\":\"ColumnDataSource\"},\"glyph\":{\"id\":\"972e58c1-2815-4843-9e57-a9e3414f036b\",\"type\":\"Rect\"},\"hover_glyph\":null,\"muted_glyph\":null},\"id\":\"28687748-988f-4600-8420-2a8bf67867de\",\"type\":\"GlyphRenderer\"},{\"attributes\":{\"data_source\":{\"id\":\"8f485c15-0161-42b4-b8e6-67fd07c0ee7f\",\"type\":\"ColumnDataSource\"},\"glyph\":{\"id\":\"bb65af0b-fca2-4fed-b404-7bd147c9d2e6\",\"type\":\"Rect\"},\"hover_glyph\":null,\"muted_glyph\":null},\"id\":\"d4db6d77-44ce-4287-a85a-ab77a9c01c7e\",\"type\":\"GlyphRenderer\"},{\"attributes\":{\"callback\":null,\"column_names\":[\"line_color\",\"line_alpha\",\"color\",\"fill_alpha\",\"height\",\"width\",\"y\",\"x\",\"label\"],\"data\":{\"Intact\":[\"Spayed/Neutered\"],\"OutcomeType\":[\"Died\"],\"chart_index\":[{\"Intact\":\"Spayed/Neutered\",\"OutcomeType\":\"Died\"}],\"color\":[\"#5ab738\"],\"fill_alpha\":[0.8],\"height\":[37.0],\"label\":[{\"Intact\":\"Spayed/Neutered\",\"OutcomeType\":\"Died\"}],\"line_alpha\":[1.0],\"line_color\":[\"white\"],\"width\":[0.8],\"x\":[\"Died\"],\"y\":[178.5]}},\"id\":\"e7a57716-8c3e-493e-b775-23d4d4f33b4b\",\"type\":\"ColumnDataSource\"},{\"attributes\":{\"data_source\":{\"id\":\"6ec7dbaf-776d-4ab4-ae38-99d0fa412da4\",\"type\":\"ColumnDataSource\"},\"glyph\":{\"id\":\"ae9285f0-4a8e-4ff5-b2e3-6e4ca6ba8fe4\",\"type\":\"Rect\"},\"hover_glyph\":null,\"muted_glyph\":null},\"id\":\"74d4877f-a717-40f3-abc7-19de82d2851d\",\"type\":\"GlyphRenderer\"},{\"attributes\":{\"callback\":null,\"column_names\":[\"line_color\",\"line_alpha\",\"color\",\"fill_alpha\",\"height\",\"width\",\"y\",\"x\",\"label\"],\"data\":{\"Intact\":[\"Intact\"],\"OutcomeType\":[\"Adoption\"],\"chart_index\":[{\"Intact\":\"Intact\",\"OutcomeType\":\"Adoption\"}],\"color\":[\"#f22c40\"],\"fill_alpha\":[0.8],\"height\":[361.0],\"label\":[{\"Intact\":\"Intact\",\"OutcomeType\":\"Adoption\"}],\"line_alpha\":[1.0],\"line_color\":[\"white\"],\"width\":[0.8],\"x\":[\"Adoption\"],\"y\":[10588.5]}},\"id\":\"06252356-d5ca-44bf-8356-7a0b15f176d9\",\"type\":\"ColumnDataSource\"},{\"attributes\":{\"data_source\":{\"id\":\"e7a57716-8c3e-493e-b775-23d4d4f33b4b\",\"type\":\"ColumnDataSource\"},\"glyph\":{\"id\":\"4e1a3c4b-79af-4c7c-a72a-92abf4d1c701\",\"type\":\"Rect\"},\"hover_glyph\":null,\"muted_glyph\":null},\"id\":\"66623a77-0529-432d-a251-527b805f1b75\",\"type\":\"GlyphRenderer\"},{\"attributes\":{\"data_source\":{\"id\":\"3b35125b-4df2-4158-995a-0f3ba3415a9d\",\"type\":\"ColumnDataSource\"},\"glyph\":{\"id\":\"03d03ffe-f3e2-4405-84fb-d2f7853647dd\",\"type\":\"Rect\"},\"hover_glyph\":null,\"muted_glyph\":null},\"id\":\"5f29ca6a-3806-42c7-856c-7e60f97ca0ae\",\"type\":\"GlyphRenderer\"},{\"attributes\":{\"callback\":null,\"column_names\":[\"line_color\",\"line_alpha\",\"color\",\"fill_alpha\",\"height\",\"width\",\"y\",\"x\",\"label\"],\"data\":{\"Intact\":[\"Spayed/Neutered\"],\"OutcomeType\":[\"Transfer\"],\"chart_index\":[{\"Intact\":\"Spayed/Neutered\",\"OutcomeType\":\"Transfer\"}],\"color\":[\"#5ab738\"],\"fill_alpha\":[0.8],\"height\":[3583.0],\"label\":[{\"Intact\":\"Spayed/Neutered\",\"OutcomeType\":\"Transfer\"}],\"line_alpha\":[1.0],\"line_color\":[\"white\"],\"width\":[0.8],\"x\":[\"Transfer\"],\"y\":[6675.5]}},\"id\":\"3b35125b-4df2-4158-995a-0f3ba3415a9d\",\"type\":\"ColumnDataSource\"}],\"root_ids\":[\"c1880886-e291-47b0-a2a1-47f39b541d3d\"]},\"title\":\"Bokeh Application\",\"version\":\"0.12.5\"}};\n",
       "            var render_items = [{\"docid\":\"d32c15e1-45dc-495c-aca3-1e64ab947021\",\"elementid\":\"2ffecc03-21ff-4aba-9afb-99caf2c868d4\",\"modelid\":\"c1880886-e291-47b0-a2a1-47f39b541d3d\"}];\n",
       "            \n",
       "            Bokeh.embed.embed_items(docs_json, render_items);\n",
       "          };\n",
       "          if (document.readyState != \"loading\") fn();\n",
       "          else document.addEventListener(\"DOMContentLoaded\", fn);\n",
       "        })();\n",
       "      },\n",
       "      function(Bokeh) {\n",
       "      }\n",
       "    ];\n",
       "  \n",
       "    function run_inline_js() {\n",
       "      \n",
       "      if ((window.Bokeh !== undefined) || (force === true)) {\n",
       "        for (var i = 0; i < inline_js.length; i++) {\n",
       "          inline_js[i](window.Bokeh);\n",
       "        }if (force === true) {\n",
       "          display_loaded();\n",
       "        }} else if (Date.now() < window._bokeh_timeout) {\n",
       "        setTimeout(run_inline_js, 100);\n",
       "      } else if (!window._bokeh_failed_load) {\n",
       "        console.log(\"Bokeh: BokehJS failed to load within specified timeout.\");\n",
       "        window._bokeh_failed_load = true;\n",
       "      } else if (force !== true) {\n",
       "        var cell = $(document.getElementById(\"2ffecc03-21ff-4aba-9afb-99caf2c868d4\")).parents('.cell').data().cell;\n",
       "        cell.output_area.append_execute_result(NB_LOAD_WARNING)\n",
       "      }\n",
       "  \n",
       "    }\n",
       "  \n",
       "    if (window._bokeh_is_loading === 0) {\n",
       "      console.log(\"Bokeh: BokehJS loaded, going straight to plotting\");\n",
       "      run_inline_js();\n",
       "    } else {\n",
       "      load_libs(js_urls, function() {\n",
       "        console.log(\"Bokeh: BokehJS plotting callback run at\", now());\n",
       "        run_inline_js();\n",
       "      });\n",
       "    }\n",
       "  }(this));\n",
       "</script>"
      ]
     },
     "metadata": {},
     "output_type": "display_data"
    }
   ],
   "source": [
    "p = Bar(data, label='OutcomeType', values = 'Intact', agg='count', stack='Intact',\n",
    "        title=\"Outcomes by Intact Status\", legend='top_right')\n",
    "show(p)"
   ]
  },
  {
   "cell_type": "code",
   "execution_count": 11,
   "metadata": {},
   "outputs": [
    {
     "data": {
      "text/html": [
       "\n",
       "\n",
       "    <div class=\"bk-root\">\n",
       "        <div class=\"bk-plotdiv\" id=\"7744b842-7afb-4c6b-b713-ebaa92ab9e57\"></div>\n",
       "    </div>\n",
       "<script type=\"text/javascript\">\n",
       "  \n",
       "  (function(global) {\n",
       "    function now() {\n",
       "      return new Date();\n",
       "    }\n",
       "  \n",
       "    var force = false;\n",
       "  \n",
       "    if (typeof (window._bokeh_onload_callbacks) === \"undefined\" || force === true) {\n",
       "      window._bokeh_onload_callbacks = [];\n",
       "      window._bokeh_is_loading = undefined;\n",
       "    }\n",
       "  \n",
       "  \n",
       "    \n",
       "    if (typeof (window._bokeh_timeout) === \"undefined\" || force === true) {\n",
       "      window._bokeh_timeout = Date.now() + 0;\n",
       "      window._bokeh_failed_load = false;\n",
       "    }\n",
       "  \n",
       "    var NB_LOAD_WARNING = {'data': {'text/html':\n",
       "       \"<div style='background-color: #fdd'>\\n\"+\n",
       "       \"<p>\\n\"+\n",
       "       \"BokehJS does not appear to have successfully loaded. If loading BokehJS from CDN, this \\n\"+\n",
       "       \"may be due to a slow or bad network connection. Possible fixes:\\n\"+\n",
       "       \"</p>\\n\"+\n",
       "       \"<ul>\\n\"+\n",
       "       \"<li>re-rerun `output_notebook()` to attempt to load from CDN again, or</li>\\n\"+\n",
       "       \"<li>use INLINE resources instead, as so:</li>\\n\"+\n",
       "       \"</ul>\\n\"+\n",
       "       \"<code>\\n\"+\n",
       "       \"from bokeh.resources import INLINE\\n\"+\n",
       "       \"output_notebook(resources=INLINE)\\n\"+\n",
       "       \"</code>\\n\"+\n",
       "       \"</div>\"}};\n",
       "  \n",
       "    function display_loaded() {\n",
       "      if (window.Bokeh !== undefined) {\n",
       "        var el = document.getElementById(\"7744b842-7afb-4c6b-b713-ebaa92ab9e57\");\n",
       "        el.textContent = \"BokehJS \" + Bokeh.version + \" successfully loaded.\";\n",
       "      } else if (Date.now() < window._bokeh_timeout) {\n",
       "        setTimeout(display_loaded, 100)\n",
       "      }\n",
       "    }\n",
       "  \n",
       "    function run_callbacks() {\n",
       "      window._bokeh_onload_callbacks.forEach(function(callback) { callback() });\n",
       "      delete window._bokeh_onload_callbacks\n",
       "      console.info(\"Bokeh: all callbacks have finished\");\n",
       "    }\n",
       "  \n",
       "    function load_libs(js_urls, callback) {\n",
       "      window._bokeh_onload_callbacks.push(callback);\n",
       "      if (window._bokeh_is_loading > 0) {\n",
       "        console.log(\"Bokeh: BokehJS is being loaded, scheduling callback at\", now());\n",
       "        return null;\n",
       "      }\n",
       "      if (js_urls == null || js_urls.length === 0) {\n",
       "        run_callbacks();\n",
       "        return null;\n",
       "      }\n",
       "      console.log(\"Bokeh: BokehJS not loaded, scheduling load and callback at\", now());\n",
       "      window._bokeh_is_loading = js_urls.length;\n",
       "      for (var i = 0; i < js_urls.length; i++) {\n",
       "        var url = js_urls[i];\n",
       "        var s = document.createElement('script');\n",
       "        s.src = url;\n",
       "        s.async = false;\n",
       "        s.onreadystatechange = s.onload = function() {\n",
       "          window._bokeh_is_loading--;\n",
       "          if (window._bokeh_is_loading === 0) {\n",
       "            console.log(\"Bokeh: all BokehJS libraries loaded\");\n",
       "            run_callbacks()\n",
       "          }\n",
       "        };\n",
       "        s.onerror = function() {\n",
       "          console.warn(\"failed to load library \" + url);\n",
       "        };\n",
       "        console.log(\"Bokeh: injecting script tag for BokehJS library: \", url);\n",
       "        document.getElementsByTagName(\"head\")[0].appendChild(s);\n",
       "      }\n",
       "    };var element = document.getElementById(\"7744b842-7afb-4c6b-b713-ebaa92ab9e57\");\n",
       "    if (element == null) {\n",
       "      console.log(\"Bokeh: ERROR: autoload.js configured with elementid '7744b842-7afb-4c6b-b713-ebaa92ab9e57' but no matching script tag was found. \")\n",
       "      return false;\n",
       "    }\n",
       "  \n",
       "    var js_urls = [];\n",
       "  \n",
       "    var inline_js = [\n",
       "      function(Bokeh) {\n",
       "        (function() {\n",
       "          var fn = function() {\n",
       "            var docs_json = {\"bee2864e-ca43-4f60-810b-03f48a0a827b\":{\"roots\":{\"references\":[{\"attributes\":{},\"id\":\"53bf52be-85b4-496b-bd1f-e6a72a292d40\",\"type\":\"BasicTickFormatter\"},{\"attributes\":{},\"id\":\"d033e0f0-9e15-4975-9bbd-540491cebe88\",\"type\":\"ToolEvents\"},{\"attributes\":{\"dimension\":1,\"plot\":{\"id\":\"e8a43562-258b-495f-a57e-b7b3a461799b\",\"subtype\":\"Chart\",\"type\":\"Plot\"},\"ticker\":{\"id\":\"f3208bd7-eb01-4171-8fbd-a842eabebcf3\",\"type\":\"BasicTicker\"}},\"id\":\"1290b624-c397-4edb-86cd-5282952eb100\",\"type\":\"Grid\"},{\"attributes\":{\"axis_label\":\"Outcometype\",\"formatter\":{\"id\":\"a67d05ae-6fc7-4e62-882a-b61abfbcf68b\",\"type\":\"CategoricalTickFormatter\"},\"major_label_orientation\":0.7853981633974483,\"plot\":{\"id\":\"e8a43562-258b-495f-a57e-b7b3a461799b\",\"subtype\":\"Chart\",\"type\":\"Plot\"},\"ticker\":{\"id\":\"1ecff223-8a96-4840-ad78-05a79546705a\",\"type\":\"CategoricalTicker\"}},\"id\":\"1fa0ae8e-4c8e-4344-ab77-d8ca26250839\",\"type\":\"CategoricalAxis\"},{\"attributes\":{},\"id\":\"1ecff223-8a96-4840-ad78-05a79546705a\",\"type\":\"CategoricalTicker\"},{\"attributes\":{\"label\":{\"value\":\"Unknown\"},\"renderers\":[{\"id\":\"5da0dc7a-cfc6-49f6-9eab-7e0bc01bf7c6\",\"type\":\"GlyphRenderer\"}]},\"id\":\"500b622f-a715-4813-8523-b56d31e0ebd4\",\"type\":\"LegendItem\"},{\"attributes\":{\"callback\":null,\"column_names\":[\"line_color\",\"line_alpha\",\"color\",\"fill_alpha\",\"height\",\"width\",\"y\",\"x\",\"label\"],\"data\":{\"Female\":[\"Male\"],\"OutcomeType\":[\"Died\"],\"chart_index\":[{\"Female\":\"Male\",\"OutcomeType\":\"Died\"}],\"color\":[\"#5ab738\"],\"fill_alpha\":[0.8],\"height\":[98.0],\"label\":[{\"Female\":\"Male\",\"OutcomeType\":\"Died\"}],\"line_alpha\":[1.0],\"line_color\":[\"white\"],\"width\":[0.8],\"x\":[\"Died\"],\"y\":[49.0]}},\"id\":\"e9ffe658-4abc-4908-a83f-f09d2751b3c8\",\"type\":\"ColumnDataSource\"},{\"attributes\":{\"below\":[{\"id\":\"1fa0ae8e-4c8e-4344-ab77-d8ca26250839\",\"type\":\"CategoricalAxis\"}],\"css_classes\":null,\"left\":[{\"id\":\"41dec984-afc0-45fa-97bb-bf4a8b4834c9\",\"type\":\"LinearAxis\"}],\"renderers\":[{\"id\":\"32a03efc-6034-485f-a15f-0f79f423d43b\",\"type\":\"BoxAnnotation\"},{\"id\":\"95670325-0066-4ef5-9d27-52c25e57d03b\",\"type\":\"GlyphRenderer\"},{\"id\":\"f2e423f9-6317-44af-b782-b82c215fa90d\",\"type\":\"GlyphRenderer\"},{\"id\":\"d10ff558-be12-4803-99d0-47a84e75ebdc\",\"type\":\"GlyphRenderer\"},{\"id\":\"f8a42317-e37f-4f16-a439-6a42473ddff9\",\"type\":\"GlyphRenderer\"},{\"id\":\"cb771d68-6903-4eef-ba20-2a5fe85a210e\",\"type\":\"GlyphRenderer\"},{\"id\":\"5da0dc7a-cfc6-49f6-9eab-7e0bc01bf7c6\",\"type\":\"GlyphRenderer\"},{\"id\":\"9c83e3de-ac64-4324-8c0b-9e427c61f8c2\",\"type\":\"GlyphRenderer\"},{\"id\":\"1c38931e-3375-4ac2-b82c-26a9145a4060\",\"type\":\"GlyphRenderer\"},{\"id\":\"e3052aed-039e-49e9-8caa-e958c26a518c\",\"type\":\"GlyphRenderer\"},{\"id\":\"291d95a4-6575-4d53-9ca9-99139213af40\",\"type\":\"GlyphRenderer\"},{\"id\":\"75239c4d-0ed1-4754-9f0c-c6075705235e\",\"type\":\"GlyphRenderer\"},{\"id\":\"cecc2f59-c0d7-483e-a90c-630b106b4237\",\"type\":\"GlyphRenderer\"},{\"id\":\"7df48762-0370-4e1c-a125-e174ca20fee7\",\"type\":\"GlyphRenderer\"},{\"id\":\"81b16ab3-fdff-4273-8c1d-c72f27eb4435\",\"type\":\"GlyphRenderer\"},{\"id\":\"826be360-a59c-4d4a-81b4-c8a336fb1332\",\"type\":\"Legend\"},{\"id\":\"1fa0ae8e-4c8e-4344-ab77-d8ca26250839\",\"type\":\"CategoricalAxis\"},{\"id\":\"41dec984-afc0-45fa-97bb-bf4a8b4834c9\",\"type\":\"LinearAxis\"},{\"id\":\"1290b624-c397-4edb-86cd-5282952eb100\",\"type\":\"Grid\"}],\"title\":{\"id\":\"dec5cfb1-26a1-4003-a764-87e1a8b6638e\",\"type\":\"Title\"},\"tool_events\":{\"id\":\"d033e0f0-9e15-4975-9bbd-540491cebe88\",\"type\":\"ToolEvents\"},\"toolbar\":{\"id\":\"b3d3b936-283e-4592-bb56-ca86c6ec1f03\",\"type\":\"Toolbar\"},\"x_mapper_type\":\"auto\",\"x_range\":{\"id\":\"5c241bc5-bd8f-415e-9d23-651394a92d85\",\"type\":\"FactorRange\"},\"y_mapper_type\":\"auto\",\"y_range\":{\"id\":\"dbad33dc-8a3d-467e-ad5f-2e1ca3760c75\",\"type\":\"Range1d\"}},\"id\":\"e8a43562-258b-495f-a57e-b7b3a461799b\",\"subtype\":\"Chart\",\"type\":\"Plot\"},{\"attributes\":{\"fill_alpha\":{\"field\":\"fill_alpha\"},\"fill_color\":{\"field\":\"color\"},\"height\":{\"field\":\"height\",\"units\":\"data\"},\"line_color\":{\"field\":\"line_color\"},\"width\":{\"field\":\"width\",\"units\":\"data\"},\"x\":{\"field\":\"x\"},\"y\":{\"field\":\"y\"}},\"id\":\"dd495863-9b42-45c8-890b-184776f87a2a\",\"type\":\"Rect\"},{\"attributes\":{\"callback\":null,\"column_names\":[\"line_color\",\"line_alpha\",\"color\",\"fill_alpha\",\"height\",\"width\",\"y\",\"x\",\"label\"],\"data\":{\"Female\":[\"Male\"],\"OutcomeType\":[\"Return_to_owner\"],\"chart_index\":[{\"Female\":\"Male\",\"OutcomeType\":\"Return_to_owner\"}],\"color\":[\"#5ab738\"],\"fill_alpha\":[0.8],\"height\":[2725.0],\"label\":[{\"Female\":\"Male\",\"OutcomeType\":\"Return_to_owner\"}],\"line_alpha\":[1.0],\"line_color\":[\"white\"],\"width\":[0.8],\"x\":[\"Return_to_owner\"],\"y\":[1362.5]}},\"id\":\"35c6bb30-cb63-4bbe-809c-26ed5d9205a2\",\"type\":\"ColumnDataSource\"},{\"attributes\":{\"plot\":null,\"text\":\"Outcomes by Female\"},\"id\":\"dec5cfb1-26a1-4003-a764-87e1a8b6638e\",\"type\":\"Title\"},{\"attributes\":{\"data_source\":{\"id\":\"35c6bb30-cb63-4bbe-809c-26ed5d9205a2\",\"type\":\"ColumnDataSource\"},\"glyph\":{\"id\":\"dd495863-9b42-45c8-890b-184776f87a2a\",\"type\":\"Rect\"},\"hover_glyph\":null,\"muted_glyph\":null},\"id\":\"95670325-0066-4ef5-9d27-52c25e57d03b\",\"type\":\"GlyphRenderer\"},{\"attributes\":{\"fill_alpha\":{\"field\":\"fill_alpha\"},\"fill_color\":{\"field\":\"color\"},\"height\":{\"field\":\"height\",\"units\":\"data\"},\"line_color\":{\"field\":\"line_color\"},\"width\":{\"field\":\"width\",\"units\":\"data\"},\"x\":{\"field\":\"x\"},\"y\":{\"field\":\"y\"}},\"id\":\"214a6e36-18f7-43a3-a1cd-44469fca3f85\",\"type\":\"Rect\"},{\"attributes\":{\"data_source\":{\"id\":\"2758c9e7-38e0-4df5-a526-d96c9cf8f386\",\"type\":\"ColumnDataSource\"},\"glyph\":{\"id\":\"33ee381a-469c-4e1e-99ed-5482d33979ff\",\"type\":\"Rect\"},\"hover_glyph\":null,\"muted_glyph\":null},\"id\":\"81b16ab3-fdff-4273-8c1d-c72f27eb4435\",\"type\":\"GlyphRenderer\"},{\"attributes\":{\"data_source\":{\"id\":\"08e842e7-0fc9-4296-a230-7a1bab253be3\",\"type\":\"ColumnDataSource\"},\"glyph\":{\"id\":\"366068ee-85c9-4b43-88bd-9f266961329b\",\"type\":\"Rect\"},\"hover_glyph\":null,\"muted_glyph\":null},\"id\":\"1c38931e-3375-4ac2-b82c-26a9145a4060\",\"type\":\"GlyphRenderer\"},{\"attributes\":{\"callback\":null,\"column_names\":[\"line_color\",\"line_alpha\",\"color\",\"fill_alpha\",\"height\",\"width\",\"y\",\"x\",\"label\"],\"data\":{\"Female\":[\"Female\"],\"OutcomeType\":[\"Transfer\"],\"chart_index\":[{\"Female\":\"Female\",\"OutcomeType\":\"Transfer\"}],\"color\":[\"#f22c40\"],\"fill_alpha\":[0.8],\"height\":[4186.0],\"label\":[{\"Female\":\"Female\",\"OutcomeType\":\"Transfer\"}],\"line_alpha\":[1.0],\"line_color\":[\"white\"],\"width\":[0.8],\"x\":[\"Transfer\"],\"y\":[6374.0]}},\"id\":\"99ddedb3-1969-4636-92b6-9344293f59fa\",\"type\":\"ColumnDataSource\"},{\"attributes\":{\"fill_alpha\":{\"field\":\"fill_alpha\"},\"fill_color\":{\"field\":\"color\"},\"height\":{\"field\":\"height\",\"units\":\"data\"},\"line_color\":{\"field\":\"line_color\"},\"width\":{\"field\":\"width\",\"units\":\"data\"},\"x\":{\"field\":\"x\"},\"y\":{\"field\":\"y\"}},\"id\":\"77067335-26bc-4541-bef7-706c9d7e3219\",\"type\":\"Rect\"},{\"attributes\":{\"plot\":{\"id\":\"e8a43562-258b-495f-a57e-b7b3a461799b\",\"subtype\":\"Chart\",\"type\":\"Plot\"}},\"id\":\"87b3ee9c-0e0b-4814-a2bf-53dea2bd9834\",\"type\":\"WheelZoomTool\"},{\"attributes\":{\"fill_alpha\":{\"field\":\"fill_alpha\"},\"fill_color\":{\"field\":\"color\"},\"height\":{\"field\":\"height\",\"units\":\"data\"},\"line_color\":{\"field\":\"line_color\"},\"width\":{\"field\":\"width\",\"units\":\"data\"},\"x\":{\"field\":\"x\"},\"y\":{\"field\":\"y\"}},\"id\":\"4eabe1af-18b5-46dc-97c6-c042777381a0\",\"type\":\"Rect\"},{\"attributes\":{\"fill_alpha\":{\"field\":\"fill_alpha\"},\"fill_color\":{\"field\":\"color\"},\"height\":{\"field\":\"height\",\"units\":\"data\"},\"line_color\":{\"field\":\"line_color\"},\"width\":{\"field\":\"width\",\"units\":\"data\"},\"x\":{\"field\":\"x\"},\"y\":{\"field\":\"y\"}},\"id\":\"58ee7bfb-f3d5-4fb8-9893-00e5a8f726e0\",\"type\":\"Rect\"},{\"attributes\":{\"data_source\":{\"id\":\"99ddedb3-1969-4636-92b6-9344293f59fa\",\"type\":\"ColumnDataSource\"},\"glyph\":{\"id\":\"214a6e36-18f7-43a3-a1cd-44469fca3f85\",\"type\":\"Rect\"},\"hover_glyph\":null,\"muted_glyph\":null},\"id\":\"cb771d68-6903-4eef-ba20-2a5fe85a210e\",\"type\":\"GlyphRenderer\"},{\"attributes\":{\"label\":{\"value\":\"Female\"},\"renderers\":[{\"id\":\"f2e423f9-6317-44af-b782-b82c215fa90d\",\"type\":\"GlyphRenderer\"}]},\"id\":\"74239247-d715-4b0b-94b8-b38a8fd36e2c\",\"type\":\"LegendItem\"},{\"attributes\":{\"data_source\":{\"id\":\"da5f4cd4-e1a9-4cae-b924-f6e0e480fa52\",\"type\":\"ColumnDataSource\"},\"glyph\":{\"id\":\"28372050-b01d-4e7e-89b1-cfd13126ee18\",\"type\":\"Rect\"},\"hover_glyph\":null,\"muted_glyph\":null},\"id\":\"e3052aed-039e-49e9-8caa-e958c26a518c\",\"type\":\"GlyphRenderer\"},{\"attributes\":{\"callback\":null,\"column_names\":[\"line_color\",\"line_alpha\",\"color\",\"fill_alpha\",\"height\",\"width\",\"y\",\"x\",\"label\"],\"data\":{\"Female\":[\"Female\"],\"OutcomeType\":[\"Died\"],\"chart_index\":[{\"Female\":\"Female\",\"OutcomeType\":\"Died\"}],\"color\":[\"#f22c40\"],\"fill_alpha\":[0.8],\"height\":[74.0],\"label\":[{\"Female\":\"Female\",\"OutcomeType\":\"Died\"}],\"line_alpha\":[1.0],\"line_color\":[\"white\"],\"width\":[0.8],\"x\":[\"Died\"],\"y\":[160.0]}},\"id\":\"2cedfe09-1df9-491a-b520-affa9f29b8b8\",\"type\":\"ColumnDataSource\"},{\"attributes\":{\"bottom_units\":\"screen\",\"fill_alpha\":{\"value\":0.5},\"fill_color\":{\"value\":\"lightgrey\"},\"left_units\":\"screen\",\"level\":\"overlay\",\"line_alpha\":{\"value\":1.0},\"line_color\":{\"value\":\"black\"},\"line_dash\":[4,4],\"line_width\":{\"value\":2},\"plot\":null,\"render_mode\":\"css\",\"right_units\":\"screen\",\"top_units\":\"screen\"},\"id\":\"32a03efc-6034-485f-a15f-0f79f423d43b\",\"type\":\"BoxAnnotation\"},{\"attributes\":{\"callback\":null,\"column_names\":[\"line_color\",\"line_alpha\",\"color\",\"fill_alpha\",\"height\",\"width\",\"y\",\"x\",\"label\"],\"data\":{\"Female\":[\"Female\"],\"OutcomeType\":[\"Return_to_owner\"],\"chart_index\":[{\"Female\":\"Female\",\"OutcomeType\":\"Return_to_owner\"}],\"color\":[\"#f22c40\"],\"fill_alpha\":[0.8],\"height\":[2049.0],\"label\":[{\"Female\":\"Female\",\"OutcomeType\":\"Return_to_owner\"}],\"line_alpha\":[1.0],\"line_color\":[\"white\"],\"width\":[0.8],\"x\":[\"Return_to_owner\"],\"y\":[3749.5]}},\"id\":\"da5f4cd4-e1a9-4cae-b924-f6e0e480fa52\",\"type\":\"ColumnDataSource\"},{\"attributes\":{\"fill_alpha\":{\"field\":\"fill_alpha\"},\"fill_color\":{\"field\":\"color\"},\"height\":{\"field\":\"height\",\"units\":\"data\"},\"line_color\":{\"field\":\"line_color\"},\"width\":{\"field\":\"width\",\"units\":\"data\"},\"x\":{\"field\":\"x\"},\"y\":{\"field\":\"y\"}},\"id\":\"28372050-b01d-4e7e-89b1-cfd13126ee18\",\"type\":\"Rect\"},{\"attributes\":{\"plot\":{\"id\":\"e8a43562-258b-495f-a57e-b7b3a461799b\",\"subtype\":\"Chart\",\"type\":\"Plot\"}},\"id\":\"43d67763-a623-4e63-9710-8da59dcc5e99\",\"type\":\"SaveTool\"},{\"attributes\":{\"callback\":null,\"column_names\":[\"line_color\",\"line_alpha\",\"color\",\"fill_alpha\",\"height\",\"width\",\"y\",\"x\",\"label\"],\"data\":{\"Female\":[\"Male\"],\"OutcomeType\":[\"Transfer\"],\"chart_index\":[{\"Female\":\"Male\",\"OutcomeType\":\"Transfer\"}],\"color\":[\"#5ab738\"],\"fill_alpha\":[0.8],\"height\":[4281.0],\"label\":[{\"Female\":\"Male\",\"OutcomeType\":\"Transfer\"}],\"line_alpha\":[1.0],\"line_color\":[\"white\"],\"width\":[0.8],\"x\":[\"Transfer\"],\"y\":[2140.5]}},\"id\":\"6bd37836-445c-47b4-a61b-5432f647419c\",\"type\":\"ColumnDataSource\"},{\"attributes\":{\"callback\":null,\"column_names\":[\"line_color\",\"line_alpha\",\"color\",\"fill_alpha\",\"height\",\"width\",\"y\",\"x\",\"label\"],\"data\":{\"Female\":[\"Unknown\"],\"OutcomeType\":[\"Euthanasia\"],\"chart_index\":[{\"Female\":\"Unknown\",\"OutcomeType\":\"Euthanasia\"}],\"color\":[\"#407ee7\"],\"fill_alpha\":[0.8],\"height\":[101.0],\"label\":[{\"Female\":\"Unknown\",\"OutcomeType\":\"Euthanasia\"}],\"line_alpha\":[1.0],\"line_color\":[\"white\"],\"width\":[0.8],\"x\":[\"Euthanasia\"],\"y\":[1504.5]}},\"id\":\"4f569454-ab91-4945-a3d6-ce26640d822d\",\"type\":\"ColumnDataSource\"},{\"attributes\":{\"plot\":{\"id\":\"e8a43562-258b-495f-a57e-b7b3a461799b\",\"subtype\":\"Chart\",\"type\":\"Plot\"}},\"id\":\"341e54c8-eb2b-46b8-892b-73b1c53d077c\",\"type\":\"PanTool\"},{\"attributes\":{\"fill_alpha\":{\"field\":\"fill_alpha\"},\"fill_color\":{\"field\":\"color\"},\"height\":{\"field\":\"height\",\"units\":\"data\"},\"line_color\":{\"field\":\"line_color\"},\"width\":{\"field\":\"width\",\"units\":\"data\"},\"x\":{\"field\":\"x\"},\"y\":{\"field\":\"y\"}},\"id\":\"267c7508-59d1-47df-afff-9de0084a7ba5\",\"type\":\"Rect\"},{\"attributes\":{},\"id\":\"f3208bd7-eb01-4171-8fbd-a842eabebcf3\",\"type\":\"BasicTicker\"},{\"attributes\":{\"data_source\":{\"id\":\"4f569454-ab91-4945-a3d6-ce26640d822d\",\"type\":\"ColumnDataSource\"},\"glyph\":{\"id\":\"c4c9720c-d76e-4724-8a80-4f6a364116a8\",\"type\":\"Rect\"},\"hover_glyph\":null,\"muted_glyph\":null},\"id\":\"291d95a4-6575-4d53-9ca9-99139213af40\",\"type\":\"GlyphRenderer\"},{\"attributes\":{\"data_source\":{\"id\":\"e9ffe658-4abc-4908-a83f-f09d2751b3c8\",\"type\":\"ColumnDataSource\"},\"glyph\":{\"id\":\"4a5665be-f596-4f08-a5dd-a063b754c7d3\",\"type\":\"Rect\"},\"hover_glyph\":null,\"muted_glyph\":null},\"id\":\"75239c4d-0ed1-4754-9f0c-c6075705235e\",\"type\":\"GlyphRenderer\"},{\"attributes\":{\"overlay\":{\"id\":\"32a03efc-6034-485f-a15f-0f79f423d43b\",\"type\":\"BoxAnnotation\"},\"plot\":{\"id\":\"e8a43562-258b-495f-a57e-b7b3a461799b\",\"subtype\":\"Chart\",\"type\":\"Plot\"}},\"id\":\"86354ec8-c0d6-4550-8977-c4ee45ff70d9\",\"type\":\"BoxZoomTool\"},{\"attributes\":{\"callback\":null,\"column_names\":[\"line_color\",\"line_alpha\",\"color\",\"fill_alpha\",\"height\",\"width\",\"y\",\"x\",\"label\"],\"data\":{\"Female\":[\"Unknown\"],\"OutcomeType\":[\"Transfer\"],\"chart_index\":[{\"Female\":\"Unknown\",\"OutcomeType\":\"Transfer\"}],\"color\":[\"#407ee7\"],\"fill_alpha\":[0.8],\"height\":[955.0],\"label\":[{\"Female\":\"Unknown\",\"OutcomeType\":\"Transfer\"}],\"line_alpha\":[1.0],\"line_color\":[\"white\"],\"width\":[0.8],\"x\":[\"Transfer\"],\"y\":[8944.5]}},\"id\":\"24231385-6634-4d0d-97af-2c1b7a0406ab\",\"type\":\"ColumnDataSource\"},{\"attributes\":{\"fill_alpha\":{\"field\":\"fill_alpha\"},\"fill_color\":{\"field\":\"color\"},\"height\":{\"field\":\"height\",\"units\":\"data\"},\"line_color\":{\"field\":\"line_color\"},\"width\":{\"field\":\"width\",\"units\":\"data\"},\"x\":{\"field\":\"x\"},\"y\":{\"field\":\"y\"}},\"id\":\"39898243-915a-4021-9985-b762ba13a515\",\"type\":\"Rect\"},{\"attributes\":{\"callback\":null,\"factors\":[\"Adoption\",\"Died\",\"Euthanasia\",\"Return_to_owner\",\"Transfer\"]},\"id\":\"5c241bc5-bd8f-415e-9d23-651394a92d85\",\"type\":\"FactorRange\"},{\"attributes\":{\"fill_alpha\":{\"field\":\"fill_alpha\"},\"fill_color\":{\"field\":\"color\"},\"height\":{\"field\":\"height\",\"units\":\"data\"},\"line_color\":{\"field\":\"line_color\"},\"width\":{\"field\":\"width\",\"units\":\"data\"},\"x\":{\"field\":\"x\"},\"y\":{\"field\":\"y\"}},\"id\":\"366068ee-85c9-4b43-88bd-9f266961329b\",\"type\":\"Rect\"},{\"attributes\":{\"callback\":null,\"column_names\":[\"line_color\",\"line_alpha\",\"color\",\"fill_alpha\",\"height\",\"width\",\"y\",\"x\",\"label\"],\"data\":{\"Female\":[\"Male\"],\"OutcomeType\":[\"Euthanasia\"],\"chart_index\":[{\"Female\":\"Male\",\"OutcomeType\":\"Euthanasia\"}],\"color\":[\"#5ab738\"],\"fill_alpha\":[0.8],\"height\":[821.0],\"label\":[{\"Female\":\"Male\",\"OutcomeType\":\"Euthanasia\"}],\"line_alpha\":[1.0],\"line_color\":[\"white\"],\"width\":[0.8],\"x\":[\"Euthanasia\"],\"y\":[1043.5]}},\"id\":\"08e842e7-0fc9-4296-a230-7a1bab253be3\",\"type\":\"ColumnDataSource\"},{\"attributes\":{\"callback\":null,\"column_names\":[\"line_color\",\"line_alpha\",\"color\",\"fill_alpha\",\"height\",\"width\",\"y\",\"x\",\"label\"],\"data\":{\"Female\":[\"Unknown\"],\"OutcomeType\":[\"Died\"],\"chart_index\":[{\"Female\":\"Unknown\",\"OutcomeType\":\"Died\"}],\"color\":[\"#407ee7\"],\"fill_alpha\":[0.8],\"height\":[25.0],\"label\":[{\"Female\":\"Unknown\",\"OutcomeType\":\"Died\"}],\"line_alpha\":[1.0],\"line_color\":[\"white\"],\"width\":[0.8],\"x\":[\"Died\"],\"y\":[110.5]}},\"id\":\"915527df-8f3d-4440-b8f7-680cb8fb6553\",\"type\":\"ColumnDataSource\"},{\"attributes\":{\"callback\":null,\"column_names\":[\"line_color\",\"line_alpha\",\"color\",\"fill_alpha\",\"height\",\"width\",\"y\",\"x\",\"label\"],\"data\":{\"Female\":[\"Unknown\"],\"OutcomeType\":[\"Return_to_owner\"],\"chart_index\":[{\"Female\":\"Unknown\",\"OutcomeType\":\"Return_to_owner\"}],\"color\":[\"#407ee7\"],\"fill_alpha\":[0.8],\"height\":[12.0],\"label\":[{\"Female\":\"Unknown\",\"OutcomeType\":\"Return_to_owner\"}],\"line_alpha\":[1.0],\"line_color\":[\"white\"],\"width\":[0.8],\"x\":[\"Return_to_owner\"],\"y\":[4780.0]}},\"id\":\"2758c9e7-38e0-4df5-a526-d96c9cf8f386\",\"type\":\"ColumnDataSource\"},{\"attributes\":{\"data_source\":{\"id\":\"915527df-8f3d-4440-b8f7-680cb8fb6553\",\"type\":\"ColumnDataSource\"},\"glyph\":{\"id\":\"58ee7bfb-f3d5-4fb8-9893-00e5a8f726e0\",\"type\":\"Rect\"},\"hover_glyph\":null,\"muted_glyph\":null},\"id\":\"cecc2f59-c0d7-483e-a90c-630b106b4237\",\"type\":\"GlyphRenderer\"},{\"attributes\":{\"callback\":null,\"column_names\":[\"line_color\",\"line_alpha\",\"color\",\"fill_alpha\",\"height\",\"width\",\"y\",\"x\",\"label\"],\"data\":{\"Female\":[\"Female\"],\"OutcomeType\":[\"Adoption\"],\"chart_index\":[{\"Female\":\"Female\",\"OutcomeType\":\"Adoption\"}],\"color\":[\"#f22c40\"],\"fill_alpha\":[0.8],\"height\":[5389.0],\"label\":[{\"Female\":\"Female\",\"OutcomeType\":\"Adoption\"}],\"line_alpha\":[1.0],\"line_color\":[\"white\"],\"width\":[0.8],\"x\":[\"Adoption\"],\"y\":[8074.5]}},\"id\":\"fbaa487c-48b7-45e5-ba9e-1b841194aff2\",\"type\":\"ColumnDataSource\"},{\"attributes\":{\"data_source\":{\"id\":\"f5c2257f-1b4c-49b0-8b5d-76a17fea18b4\",\"type\":\"ColumnDataSource\"},\"glyph\":{\"id\":\"488579f2-dac5-4527-9d3d-f4d96ec9080e\",\"type\":\"Rect\"},\"hover_glyph\":null,\"muted_glyph\":null},\"id\":\"d10ff558-be12-4803-99d0-47a84e75ebdc\",\"type\":\"GlyphRenderer\"},{\"attributes\":{\"data_source\":{\"id\":\"6bd37836-445c-47b4-a61b-5432f647419c\",\"type\":\"ColumnDataSource\"},\"glyph\":{\"id\":\"4eabe1af-18b5-46dc-97c6-c042777381a0\",\"type\":\"Rect\"},\"hover_glyph\":null,\"muted_glyph\":null},\"id\":\"f8a42317-e37f-4f16-a439-6a42473ddff9\",\"type\":\"GlyphRenderer\"},{\"attributes\":{\"data_source\":{\"id\":\"2cedfe09-1df9-491a-b520-affa9f29b8b8\",\"type\":\"ColumnDataSource\"},\"glyph\":{\"id\":\"1c5b69b4-d84d-4303-ac37-a80d789254f2\",\"type\":\"Rect\"},\"hover_glyph\":null,\"muted_glyph\":null},\"id\":\"7df48762-0370-4e1c-a125-e174ca20fee7\",\"type\":\"GlyphRenderer\"},{\"attributes\":{\"callback\":null,\"column_names\":[\"line_color\",\"line_alpha\",\"color\",\"fill_alpha\",\"height\",\"width\",\"y\",\"x\",\"label\"],\"data\":{\"Female\":[\"Male\"],\"OutcomeType\":[\"Adoption\"],\"chart_index\":[{\"Female\":\"Male\",\"OutcomeType\":\"Adoption\"}],\"color\":[\"#5ab738\"],\"fill_alpha\":[0.8],\"height\":[5380.0],\"label\":[{\"Female\":\"Male\",\"OutcomeType\":\"Adoption\"}],\"line_alpha\":[1.0],\"line_color\":[\"white\"],\"width\":[0.8],\"x\":[\"Adoption\"],\"y\":[2690.0]}},\"id\":\"f5c2257f-1b4c-49b0-8b5d-76a17fea18b4\",\"type\":\"ColumnDataSource\"},{\"attributes\":{},\"id\":\"a67d05ae-6fc7-4e62-882a-b61abfbcf68b\",\"type\":\"CategoricalTickFormatter\"},{\"attributes\":{\"axis_label\":\"Count( Female )\",\"formatter\":{\"id\":\"53bf52be-85b4-496b-bd1f-e6a72a292d40\",\"type\":\"BasicTickFormatter\"},\"plot\":{\"id\":\"e8a43562-258b-495f-a57e-b7b3a461799b\",\"subtype\":\"Chart\",\"type\":\"Plot\"},\"ticker\":{\"id\":\"f3208bd7-eb01-4171-8fbd-a842eabebcf3\",\"type\":\"BasicTicker\"}},\"id\":\"41dec984-afc0-45fa-97bb-bf4a8b4834c9\",\"type\":\"LinearAxis\"},{\"attributes\":{\"items\":[{\"id\":\"4a2fcff5-971c-4db1-a830-c2b961c5b127\",\"type\":\"LegendItem\"},{\"id\":\"74239247-d715-4b0b-94b8-b38a8fd36e2c\",\"type\":\"LegendItem\"},{\"id\":\"500b622f-a715-4813-8523-b56d31e0ebd4\",\"type\":\"LegendItem\"}],\"plot\":{\"id\":\"e8a43562-258b-495f-a57e-b7b3a461799b\",\"subtype\":\"Chart\",\"type\":\"Plot\"}},\"id\":\"826be360-a59c-4d4a-81b4-c8a336fb1332\",\"type\":\"Legend\"},{\"attributes\":{\"fill_alpha\":{\"field\":\"fill_alpha\"},\"fill_color\":{\"field\":\"color\"},\"height\":{\"field\":\"height\",\"units\":\"data\"},\"line_color\":{\"field\":\"line_color\"},\"width\":{\"field\":\"width\",\"units\":\"data\"},\"x\":{\"field\":\"x\"},\"y\":{\"field\":\"y\"}},\"id\":\"c4c9720c-d76e-4724-8a80-4f6a364116a8\",\"type\":\"Rect\"},{\"attributes\":{\"label\":{\"value\":\"Male\"},\"renderers\":[{\"id\":\"95670325-0066-4ef5-9d27-52c25e57d03b\",\"type\":\"GlyphRenderer\"}]},\"id\":\"4a2fcff5-971c-4db1-a830-c2b961c5b127\",\"type\":\"LegendItem\"},{\"attributes\":{\"fill_alpha\":{\"field\":\"fill_alpha\"},\"fill_color\":{\"field\":\"color\"},\"height\":{\"field\":\"height\",\"units\":\"data\"},\"line_color\":{\"field\":\"line_color\"},\"width\":{\"field\":\"width\",\"units\":\"data\"},\"x\":{\"field\":\"x\"},\"y\":{\"field\":\"y\"}},\"id\":\"33ee381a-469c-4e1e-99ed-5482d33979ff\",\"type\":\"Rect\"},{\"attributes\":{\"fill_alpha\":{\"field\":\"fill_alpha\"},\"fill_color\":{\"field\":\"color\"},\"height\":{\"field\":\"height\",\"units\":\"data\"},\"line_color\":{\"field\":\"line_color\"},\"width\":{\"field\":\"width\",\"units\":\"data\"},\"x\":{\"field\":\"x\"},\"y\":{\"field\":\"y\"}},\"id\":\"488579f2-dac5-4527-9d3d-f4d96ec9080e\",\"type\":\"Rect\"},{\"attributes\":{\"plot\":{\"id\":\"e8a43562-258b-495f-a57e-b7b3a461799b\",\"subtype\":\"Chart\",\"type\":\"Plot\"}},\"id\":\"e93b751d-94af-429c-9d04-8832878fd40c\",\"type\":\"HelpTool\"},{\"attributes\":{\"callback\":null,\"column_names\":[\"line_color\",\"line_alpha\",\"color\",\"fill_alpha\",\"height\",\"width\",\"y\",\"x\",\"label\"],\"data\":{\"Female\":[\"Female\"],\"OutcomeType\":[\"Euthanasia\"],\"chart_index\":[{\"Female\":\"Female\",\"OutcomeType\":\"Euthanasia\"}],\"color\":[\"#f22c40\"],\"fill_alpha\":[0.8],\"height\":[633.0],\"label\":[{\"Female\":\"Female\",\"OutcomeType\":\"Euthanasia\"}],\"line_alpha\":[1.0],\"line_color\":[\"white\"],\"width\":[0.8],\"x\":[\"Euthanasia\"],\"y\":[316.5]}},\"id\":\"639e0d82-f41a-41a5-8bbd-d99fe0041a1c\",\"type\":\"ColumnDataSource\"},{\"attributes\":{\"data_source\":{\"id\":\"639e0d82-f41a-41a5-8bbd-d99fe0041a1c\",\"type\":\"ColumnDataSource\"},\"glyph\":{\"id\":\"77067335-26bc-4541-bef7-706c9d7e3219\",\"type\":\"Rect\"},\"hover_glyph\":null,\"muted_glyph\":null},\"id\":\"f2e423f9-6317-44af-b782-b82c215fa90d\",\"type\":\"GlyphRenderer\"},{\"attributes\":{\"callback\":null,\"end\":11307.45},\"id\":\"dbad33dc-8a3d-467e-ad5f-2e1ca3760c75\",\"type\":\"Range1d\"},{\"attributes\":{\"active_drag\":\"auto\",\"active_scroll\":\"auto\",\"active_tap\":\"auto\",\"tools\":[{\"id\":\"341e54c8-eb2b-46b8-892b-73b1c53d077c\",\"type\":\"PanTool\"},{\"id\":\"87b3ee9c-0e0b-4814-a2bf-53dea2bd9834\",\"type\":\"WheelZoomTool\"},{\"id\":\"86354ec8-c0d6-4550-8977-c4ee45ff70d9\",\"type\":\"BoxZoomTool\"},{\"id\":\"43d67763-a623-4e63-9710-8da59dcc5e99\",\"type\":\"SaveTool\"},{\"id\":\"c2130459-6407-434d-8d91-515c3f2f4815\",\"type\":\"ResetTool\"},{\"id\":\"e93b751d-94af-429c-9d04-8832878fd40c\",\"type\":\"HelpTool\"}]},\"id\":\"b3d3b936-283e-4592-bb56-ca86c6ec1f03\",\"type\":\"Toolbar\"},{\"attributes\":{\"fill_alpha\":{\"field\":\"fill_alpha\"},\"fill_color\":{\"field\":\"color\"},\"height\":{\"field\":\"height\",\"units\":\"data\"},\"line_color\":{\"field\":\"line_color\"},\"width\":{\"field\":\"width\",\"units\":\"data\"},\"x\":{\"field\":\"x\"},\"y\":{\"field\":\"y\"}},\"id\":\"1c5b69b4-d84d-4303-ac37-a80d789254f2\",\"type\":\"Rect\"},{\"attributes\":{\"data_source\":{\"id\":\"24231385-6634-4d0d-97af-2c1b7a0406ab\",\"type\":\"ColumnDataSource\"},\"glyph\":{\"id\":\"39898243-915a-4021-9985-b762ba13a515\",\"type\":\"Rect\"},\"hover_glyph\":null,\"muted_glyph\":null},\"id\":\"5da0dc7a-cfc6-49f6-9eab-7e0bc01bf7c6\",\"type\":\"GlyphRenderer\"},{\"attributes\":{\"plot\":{\"id\":\"e8a43562-258b-495f-a57e-b7b3a461799b\",\"subtype\":\"Chart\",\"type\":\"Plot\"}},\"id\":\"c2130459-6407-434d-8d91-515c3f2f4815\",\"type\":\"ResetTool\"},{\"attributes\":{\"data_source\":{\"id\":\"fbaa487c-48b7-45e5-ba9e-1b841194aff2\",\"type\":\"ColumnDataSource\"},\"glyph\":{\"id\":\"267c7508-59d1-47df-afff-9de0084a7ba5\",\"type\":\"Rect\"},\"hover_glyph\":null,\"muted_glyph\":null},\"id\":\"9c83e3de-ac64-4324-8c0b-9e427c61f8c2\",\"type\":\"GlyphRenderer\"},{\"attributes\":{\"fill_alpha\":{\"field\":\"fill_alpha\"},\"fill_color\":{\"field\":\"color\"},\"height\":{\"field\":\"height\",\"units\":\"data\"},\"line_color\":{\"field\":\"line_color\"},\"width\":{\"field\":\"width\",\"units\":\"data\"},\"x\":{\"field\":\"x\"},\"y\":{\"field\":\"y\"}},\"id\":\"4a5665be-f596-4f08-a5dd-a063b754c7d3\",\"type\":\"Rect\"}],\"root_ids\":[\"e8a43562-258b-495f-a57e-b7b3a461799b\"]},\"title\":\"Bokeh Application\",\"version\":\"0.12.5\"}};\n",
       "            var render_items = [{\"docid\":\"bee2864e-ca43-4f60-810b-03f48a0a827b\",\"elementid\":\"7744b842-7afb-4c6b-b713-ebaa92ab9e57\",\"modelid\":\"e8a43562-258b-495f-a57e-b7b3a461799b\"}];\n",
       "            \n",
       "            Bokeh.embed.embed_items(docs_json, render_items);\n",
       "          };\n",
       "          if (document.readyState != \"loading\") fn();\n",
       "          else document.addEventListener(\"DOMContentLoaded\", fn);\n",
       "        })();\n",
       "      },\n",
       "      function(Bokeh) {\n",
       "      }\n",
       "    ];\n",
       "  \n",
       "    function run_inline_js() {\n",
       "      \n",
       "      if ((window.Bokeh !== undefined) || (force === true)) {\n",
       "        for (var i = 0; i < inline_js.length; i++) {\n",
       "          inline_js[i](window.Bokeh);\n",
       "        }if (force === true) {\n",
       "          display_loaded();\n",
       "        }} else if (Date.now() < window._bokeh_timeout) {\n",
       "        setTimeout(run_inline_js, 100);\n",
       "      } else if (!window._bokeh_failed_load) {\n",
       "        console.log(\"Bokeh: BokehJS failed to load within specified timeout.\");\n",
       "        window._bokeh_failed_load = true;\n",
       "      } else if (force !== true) {\n",
       "        var cell = $(document.getElementById(\"7744b842-7afb-4c6b-b713-ebaa92ab9e57\")).parents('.cell').data().cell;\n",
       "        cell.output_area.append_execute_result(NB_LOAD_WARNING)\n",
       "      }\n",
       "  \n",
       "    }\n",
       "  \n",
       "    if (window._bokeh_is_loading === 0) {\n",
       "      console.log(\"Bokeh: BokehJS loaded, going straight to plotting\");\n",
       "      run_inline_js();\n",
       "    } else {\n",
       "      load_libs(js_urls, function() {\n",
       "        console.log(\"Bokeh: BokehJS plotting callback run at\", now());\n",
       "        run_inline_js();\n",
       "      });\n",
       "    }\n",
       "  }(this));\n",
       "</script>"
      ]
     },
     "metadata": {},
     "output_type": "display_data"
    }
   ],
   "source": [
    "p = Bar(data, label='OutcomeType', values = 'Female', agg='count', stack='Female',\n",
    "        title=\"Outcomes by Female\", legend='top_right')\n",
    "show(p)"
   ]
  },
  {
   "cell_type": "code",
   "execution_count": 12,
   "metadata": {},
   "outputs": [
    {
     "data": {
      "text/html": [
       "\n",
       "\n",
       "    <div class=\"bk-root\">\n",
       "        <div class=\"bk-plotdiv\" id=\"3a02f21b-444e-447d-8624-920d2cac2f95\"></div>\n",
       "    </div>\n",
       "<script type=\"text/javascript\">\n",
       "  \n",
       "  (function(global) {\n",
       "    function now() {\n",
       "      return new Date();\n",
       "    }\n",
       "  \n",
       "    var force = false;\n",
       "  \n",
       "    if (typeof (window._bokeh_onload_callbacks) === \"undefined\" || force === true) {\n",
       "      window._bokeh_onload_callbacks = [];\n",
       "      window._bokeh_is_loading = undefined;\n",
       "    }\n",
       "  \n",
       "  \n",
       "    \n",
       "    if (typeof (window._bokeh_timeout) === \"undefined\" || force === true) {\n",
       "      window._bokeh_timeout = Date.now() + 0;\n",
       "      window._bokeh_failed_load = false;\n",
       "    }\n",
       "  \n",
       "    var NB_LOAD_WARNING = {'data': {'text/html':\n",
       "       \"<div style='background-color: #fdd'>\\n\"+\n",
       "       \"<p>\\n\"+\n",
       "       \"BokehJS does not appear to have successfully loaded. If loading BokehJS from CDN, this \\n\"+\n",
       "       \"may be due to a slow or bad network connection. Possible fixes:\\n\"+\n",
       "       \"</p>\\n\"+\n",
       "       \"<ul>\\n\"+\n",
       "       \"<li>re-rerun `output_notebook()` to attempt to load from CDN again, or</li>\\n\"+\n",
       "       \"<li>use INLINE resources instead, as so:</li>\\n\"+\n",
       "       \"</ul>\\n\"+\n",
       "       \"<code>\\n\"+\n",
       "       \"from bokeh.resources import INLINE\\n\"+\n",
       "       \"output_notebook(resources=INLINE)\\n\"+\n",
       "       \"</code>\\n\"+\n",
       "       \"</div>\"}};\n",
       "  \n",
       "    function display_loaded() {\n",
       "      if (window.Bokeh !== undefined) {\n",
       "        var el = document.getElementById(\"3a02f21b-444e-447d-8624-920d2cac2f95\");\n",
       "        el.textContent = \"BokehJS \" + Bokeh.version + \" successfully loaded.\";\n",
       "      } else if (Date.now() < window._bokeh_timeout) {\n",
       "        setTimeout(display_loaded, 100)\n",
       "      }\n",
       "    }\n",
       "  \n",
       "    function run_callbacks() {\n",
       "      window._bokeh_onload_callbacks.forEach(function(callback) { callback() });\n",
       "      delete window._bokeh_onload_callbacks\n",
       "      console.info(\"Bokeh: all callbacks have finished\");\n",
       "    }\n",
       "  \n",
       "    function load_libs(js_urls, callback) {\n",
       "      window._bokeh_onload_callbacks.push(callback);\n",
       "      if (window._bokeh_is_loading > 0) {\n",
       "        console.log(\"Bokeh: BokehJS is being loaded, scheduling callback at\", now());\n",
       "        return null;\n",
       "      }\n",
       "      if (js_urls == null || js_urls.length === 0) {\n",
       "        run_callbacks();\n",
       "        return null;\n",
       "      }\n",
       "      console.log(\"Bokeh: BokehJS not loaded, scheduling load and callback at\", now());\n",
       "      window._bokeh_is_loading = js_urls.length;\n",
       "      for (var i = 0; i < js_urls.length; i++) {\n",
       "        var url = js_urls[i];\n",
       "        var s = document.createElement('script');\n",
       "        s.src = url;\n",
       "        s.async = false;\n",
       "        s.onreadystatechange = s.onload = function() {\n",
       "          window._bokeh_is_loading--;\n",
       "          if (window._bokeh_is_loading === 0) {\n",
       "            console.log(\"Bokeh: all BokehJS libraries loaded\");\n",
       "            run_callbacks()\n",
       "          }\n",
       "        };\n",
       "        s.onerror = function() {\n",
       "          console.warn(\"failed to load library \" + url);\n",
       "        };\n",
       "        console.log(\"Bokeh: injecting script tag for BokehJS library: \", url);\n",
       "        document.getElementsByTagName(\"head\")[0].appendChild(s);\n",
       "      }\n",
       "    };var element = document.getElementById(\"3a02f21b-444e-447d-8624-920d2cac2f95\");\n",
       "    if (element == null) {\n",
       "      console.log(\"Bokeh: ERROR: autoload.js configured with elementid '3a02f21b-444e-447d-8624-920d2cac2f95' but no matching script tag was found. \")\n",
       "      return false;\n",
       "    }\n",
       "  \n",
       "    var js_urls = [];\n",
       "  \n",
       "    var inline_js = [\n",
       "      function(Bokeh) {\n",
       "        (function() {\n",
       "          var fn = function() {\n",
       "            var docs_json = {\"8d255e80-8825-4f6a-8b6e-3222e355b335\":{\"roots\":{\"references\":[{\"attributes\":{\"callback\":null,\"column_names\":[\"line_color\",\"line_alpha\",\"color\",\"fill_alpha\",\"height\",\"width\",\"y\",\"x\",\"label\"],\"data\":{\"MixedBreed\":[\"Mixed Breed\"],\"OutcomeType\":[\"Euthanasia\"],\"chart_index\":[{\"MixedBreed\":\"Mixed Breed\",\"OutcomeType\":\"Euthanasia\"}],\"color\":[\"#5ab738\"],\"fill_alpha\":[0.8],\"height\":[1364.0],\"label\":[{\"MixedBreed\":\"Mixed Breed\",\"OutcomeType\":\"Euthanasia\"}],\"line_alpha\":[1.0],\"line_color\":[\"white\"],\"width\":[0.8],\"x\":[\"Euthanasia\"],\"y\":[682.0]}},\"id\":\"192ebfcf-660b-4998-ac57-971c85de6359\",\"type\":\"ColumnDataSource\"},{\"attributes\":{\"callback\":null,\"column_names\":[\"line_color\",\"line_alpha\",\"color\",\"fill_alpha\",\"height\",\"width\",\"y\",\"x\",\"label\"],\"data\":{\"MixedBreed\":[\"Nonmixed\"],\"OutcomeType\":[\"Transfer\"],\"chart_index\":[{\"MixedBreed\":\"Nonmixed\",\"OutcomeType\":\"Transfer\"}],\"color\":[\"#407ee7\"],\"fill_alpha\":[0.8],\"height\":[436.0],\"label\":[{\"MixedBreed\":\"Nonmixed\",\"OutcomeType\":\"Transfer\"}],\"line_alpha\":[1.0],\"line_color\":[\"white\"],\"width\":[0.8],\"x\":[\"Transfer\"],\"y\":[9204.0]}},\"id\":\"60342234-0f0f-4403-91c3-dc2aafbb7522\",\"type\":\"ColumnDataSource\"},{\"attributes\":{\"fill_alpha\":{\"field\":\"fill_alpha\"},\"fill_color\":{\"field\":\"color\"},\"height\":{\"field\":\"height\",\"units\":\"data\"},\"line_color\":{\"field\":\"line_color\"},\"width\":{\"field\":\"width\",\"units\":\"data\"},\"x\":{\"field\":\"x\"},\"y\":{\"field\":\"y\"}},\"id\":\"dbd2ade1-5eb2-493e-b1ee-8801e9f8e3b7\",\"type\":\"Rect\"},{\"attributes\":{\"data_source\":{\"id\":\"aed9db62-31ab-4e00-b74c-55e2da759ed3\",\"type\":\"ColumnDataSource\"},\"glyph\":{\"id\":\"14aac8fe-3822-469d-ba57-904be16deae8\",\"type\":\"Rect\"},\"hover_glyph\":null,\"muted_glyph\":null},\"id\":\"8a42d387-12d0-4ec7-8ff4-cfdc3f0f413a\",\"type\":\"GlyphRenderer\"},{\"attributes\":{\"plot\":{\"id\":\"8199b166-cc59-407b-817e-daf31ebb18ea\",\"subtype\":\"Chart\",\"type\":\"Plot\"}},\"id\":\"317ee81a-1cdc-4db6-947f-d5b58ef3a713\",\"type\":\"SaveTool\"},{\"attributes\":{\"fill_alpha\":{\"field\":\"fill_alpha\"},\"fill_color\":{\"field\":\"color\"},\"height\":{\"field\":\"height\",\"units\":\"data\"},\"line_color\":{\"field\":\"line_color\"},\"width\":{\"field\":\"width\",\"units\":\"data\"},\"x\":{\"field\":\"x\"},\"y\":{\"field\":\"y\"}},\"id\":\"097e1438-718c-441f-a9c5-1ad25f56d88f\",\"type\":\"Rect\"},{\"attributes\":{\"label\":{\"value\":\"Nonmixed\"},\"renderers\":[{\"id\":\"8b060635-2fbf-4e64-bd58-af3971abf653\",\"type\":\"GlyphRenderer\"}]},\"id\":\"f40d8e03-bf71-4e38-9248-fd88011f8427\",\"type\":\"LegendItem\"},{\"attributes\":{\"axis_label\":\"Outcometype\",\"formatter\":{\"id\":\"02c250ba-fba4-4661-bc3d-7b3e52ffb0f7\",\"type\":\"CategoricalTickFormatter\"},\"major_label_orientation\":0.7853981633974483,\"plot\":{\"id\":\"8199b166-cc59-407b-817e-daf31ebb18ea\",\"subtype\":\"Chart\",\"type\":\"Plot\"},\"ticker\":{\"id\":\"4716645f-ab3e-4227-9230-bcc0eb3165c6\",\"type\":\"CategoricalTicker\"}},\"id\":\"701aa2e0-5b63-4eab-99b6-5cadaf501523\",\"type\":\"CategoricalAxis\"},{\"attributes\":{\"fill_alpha\":{\"field\":\"fill_alpha\"},\"fill_color\":{\"field\":\"color\"},\"height\":{\"field\":\"height\",\"units\":\"data\"},\"line_color\":{\"field\":\"line_color\"},\"width\":{\"field\":\"width\",\"units\":\"data\"},\"x\":{\"field\":\"x\"},\"y\":{\"field\":\"y\"}},\"id\":\"f1aefa76-75a1-48e3-88fb-58215829760c\",\"type\":\"Rect\"},{\"attributes\":{\"plot\":{\"id\":\"8199b166-cc59-407b-817e-daf31ebb18ea\",\"subtype\":\"Chart\",\"type\":\"Plot\"}},\"id\":\"ce47b4a5-be83-470a-a39a-4093af631664\",\"type\":\"HelpTool\"},{\"attributes\":{\"fill_alpha\":{\"field\":\"fill_alpha\"},\"fill_color\":{\"field\":\"color\"},\"height\":{\"field\":\"height\",\"units\":\"data\"},\"line_color\":{\"field\":\"line_color\"},\"width\":{\"field\":\"width\",\"units\":\"data\"},\"x\":{\"field\":\"x\"},\"y\":{\"field\":\"y\"}},\"id\":\"8f80899b-25f3-403d-b773-be0b84b7738b\",\"type\":\"Rect\"},{\"attributes\":{\"data_source\":{\"id\":\"b0aaaab6-a20e-4353-8900-d8ae5ab39449\",\"type\":\"ColumnDataSource\"},\"glyph\":{\"id\":\"246daf84-e56f-44ce-ac92-5b6803864c5b\",\"type\":\"Rect\"},\"hover_glyph\":null,\"muted_glyph\":null},\"id\":\"c6edd3f6-11a5-4790-8e78-068c4552b311\",\"type\":\"GlyphRenderer\"},{\"attributes\":{\"data_source\":{\"id\":\"54cb647e-15c3-49fa-adfb-1b754b004348\",\"type\":\"ColumnDataSource\"},\"glyph\":{\"id\":\"8f80899b-25f3-403d-b773-be0b84b7738b\",\"type\":\"Rect\"},\"hover_glyph\":null,\"muted_glyph\":null},\"id\":\"c3649383-1660-4630-8955-3f3143f5fdc7\",\"type\":\"GlyphRenderer\"},{\"attributes\":{\"callback\":null,\"column_names\":[\"line_color\",\"line_alpha\",\"color\",\"fill_alpha\",\"height\",\"width\",\"y\",\"x\",\"label\"],\"data\":{\"MixedBreed\":[\"Nonmixed\"],\"OutcomeType\":[\"Return_to_owner\"],\"chart_index\":[{\"MixedBreed\":\"Nonmixed\",\"OutcomeType\":\"Return_to_owner\"}],\"color\":[\"#407ee7\"],\"fill_alpha\":[0.8],\"height\":[440.0],\"label\":[{\"MixedBreed\":\"Nonmixed\",\"OutcomeType\":\"Return_to_owner\"}],\"line_alpha\":[1.0],\"line_color\":[\"white\"],\"width\":[0.8],\"x\":[\"Return_to_owner\"],\"y\":[4566.0]}},\"id\":\"682d2ef3-0f1d-410a-a969-d753a32480a0\",\"type\":\"ColumnDataSource\"},{\"attributes\":{\"callback\":null,\"column_names\":[\"line_color\",\"line_alpha\",\"color\",\"fill_alpha\",\"height\",\"width\",\"y\",\"x\",\"label\"],\"data\":{\"MixedBreed\":[\"Known Breed Combo\"],\"OutcomeType\":[\"Died\"],\"chart_index\":[{\"MixedBreed\":\"Known Breed Combo\",\"OutcomeType\":\"Died\"}],\"color\":[\"#f22c40\"],\"fill_alpha\":[0.8],\"height\":[9.0],\"label\":[{\"MixedBreed\":\"Known Breed Combo\",\"OutcomeType\":\"Died\"}],\"line_alpha\":[1.0],\"line_color\":[\"white\"],\"width\":[0.8],\"x\":[\"Died\"],\"y\":[192.5]}},\"id\":\"b0aaaab6-a20e-4353-8900-d8ae5ab39449\",\"type\":\"ColumnDataSource\"},{\"attributes\":{\"callback\":null,\"column_names\":[\"line_color\",\"line_alpha\",\"color\",\"fill_alpha\",\"height\",\"width\",\"y\",\"x\",\"label\"],\"data\":{\"MixedBreed\":[\"Mixed Breed\"],\"OutcomeType\":[\"Died\"],\"chart_index\":[{\"MixedBreed\":\"Mixed Breed\",\"OutcomeType\":\"Died\"}],\"color\":[\"#5ab738\"],\"fill_alpha\":[0.8],\"height\":[180.0],\"label\":[{\"MixedBreed\":\"Mixed Breed\",\"OutcomeType\":\"Died\"}],\"line_alpha\":[1.0],\"line_color\":[\"white\"],\"width\":[0.8],\"x\":[\"Died\"],\"y\":[90.0]}},\"id\":\"56eb9bc4-5705-4c3b-a95e-e312615a1029\",\"type\":\"ColumnDataSource\"},{\"attributes\":{\"callback\":null,\"column_names\":[\"line_color\",\"line_alpha\",\"color\",\"fill_alpha\",\"height\",\"width\",\"y\",\"x\",\"label\"],\"data\":{\"MixedBreed\":[\"Nonmixed\"],\"OutcomeType\":[\"Euthanasia\"],\"chart_index\":[{\"MixedBreed\":\"Nonmixed\",\"OutcomeType\":\"Euthanasia\"}],\"color\":[\"#407ee7\"],\"fill_alpha\":[0.8],\"height\":[64.0],\"label\":[{\"MixedBreed\":\"Nonmixed\",\"OutcomeType\":\"Euthanasia\"}],\"line_alpha\":[1.0],\"line_color\":[\"white\"],\"width\":[0.8],\"x\":[\"Euthanasia\"],\"y\":[1523.0]}},\"id\":\"19dc8cae-6ed1-4246-a0f3-390d90aeeb62\",\"type\":\"ColumnDataSource\"},{\"attributes\":{\"fill_alpha\":{\"field\":\"fill_alpha\"},\"fill_color\":{\"field\":\"color\"},\"height\":{\"field\":\"height\",\"units\":\"data\"},\"line_color\":{\"field\":\"line_color\"},\"width\":{\"field\":\"width\",\"units\":\"data\"},\"x\":{\"field\":\"x\"},\"y\":{\"field\":\"y\"}},\"id\":\"e8099870-afb2-4a50-9c9a-6f7d36161028\",\"type\":\"Rect\"},{\"attributes\":{\"fill_alpha\":{\"field\":\"fill_alpha\"},\"fill_color\":{\"field\":\"color\"},\"height\":{\"field\":\"height\",\"units\":\"data\"},\"line_color\":{\"field\":\"line_color\"},\"width\":{\"field\":\"width\",\"units\":\"data\"},\"x\":{\"field\":\"x\"},\"y\":{\"field\":\"y\"}},\"id\":\"7fbbcc9e-7e34-4ab3-afb7-f11874c8c37c\",\"type\":\"Rect\"},{\"attributes\":{\"dimension\":1,\"plot\":{\"id\":\"8199b166-cc59-407b-817e-daf31ebb18ea\",\"subtype\":\"Chart\",\"type\":\"Plot\"},\"ticker\":{\"id\":\"92da248a-77f8-4bf3-9008-b9ea511b9425\",\"type\":\"BasicTicker\"}},\"id\":\"675e4a5a-7065-4a37-bad4-9d94e9b8b1e5\",\"type\":\"Grid\"},{\"attributes\":{\"fill_alpha\":{\"field\":\"fill_alpha\"},\"fill_color\":{\"field\":\"color\"},\"height\":{\"field\":\"height\",\"units\":\"data\"},\"line_color\":{\"field\":\"line_color\"},\"width\":{\"field\":\"width\",\"units\":\"data\"},\"x\":{\"field\":\"x\"},\"y\":{\"field\":\"y\"}},\"id\":\"d5b655b2-9352-44d2-93b9-7074d6700fe3\",\"type\":\"Rect\"},{\"attributes\":{\"fill_alpha\":{\"field\":\"fill_alpha\"},\"fill_color\":{\"field\":\"color\"},\"height\":{\"field\":\"height\",\"units\":\"data\"},\"line_color\":{\"field\":\"line_color\"},\"width\":{\"field\":\"width\",\"units\":\"data\"},\"x\":{\"field\":\"x\"},\"y\":{\"field\":\"y\"}},\"id\":\"80a1756a-f255-4458-8570-474cffd338da\",\"type\":\"Rect\"},{\"attributes\":{\"callback\":null,\"column_names\":[\"line_color\",\"line_alpha\",\"color\",\"fill_alpha\",\"height\",\"width\",\"y\",\"x\",\"label\"],\"data\":{\"MixedBreed\":[\"Nonmixed\"],\"OutcomeType\":[\"Died\"],\"chart_index\":[{\"MixedBreed\":\"Nonmixed\",\"OutcomeType\":\"Died\"}],\"color\":[\"#407ee7\"],\"fill_alpha\":[0.8],\"height\":[8.0],\"label\":[{\"MixedBreed\":\"Nonmixed\",\"OutcomeType\":\"Died\"}],\"line_alpha\":[1.0],\"line_color\":[\"white\"],\"width\":[0.8],\"x\":[\"Died\"],\"y\":[184.0]}},\"id\":\"53910c9a-4496-4d99-a778-b46d96b5684e\",\"type\":\"ColumnDataSource\"},{\"attributes\":{\"plot\":null,\"text\":\"Outcomes by Breed Type\"},\"id\":\"c043781c-3a7e-4d1a-be55-1f879e4da135\",\"type\":\"Title\"},{\"attributes\":{\"callback\":null,\"end\":11307.45},\"id\":\"90462734-e8db-4a6b-8dd1-63e1795b7658\",\"type\":\"Range1d\"},{\"attributes\":{\"data_source\":{\"id\":\"60342234-0f0f-4403-91c3-dc2aafbb7522\",\"type\":\"ColumnDataSource\"},\"glyph\":{\"id\":\"d5b655b2-9352-44d2-93b9-7074d6700fe3\",\"type\":\"Rect\"},\"hover_glyph\":null,\"muted_glyph\":null},\"id\":\"760e887a-f87d-4989-975c-cfb46f4a4c76\",\"type\":\"GlyphRenderer\"},{\"attributes\":{\"axis_label\":\"Count( Mixedbreed )\",\"formatter\":{\"id\":\"43ddf270-3dbe-478a-b568-dac274752186\",\"type\":\"BasicTickFormatter\"},\"plot\":{\"id\":\"8199b166-cc59-407b-817e-daf31ebb18ea\",\"subtype\":\"Chart\",\"type\":\"Plot\"},\"ticker\":{\"id\":\"92da248a-77f8-4bf3-9008-b9ea511b9425\",\"type\":\"BasicTicker\"}},\"id\":\"6d426700-f92a-49ef-b933-088329a399d2\",\"type\":\"LinearAxis\"},{\"attributes\":{\"data_source\":{\"id\":\"289dc21d-13ea-4241-a346-4a9dd5bdf986\",\"type\":\"ColumnDataSource\"},\"glyph\":{\"id\":\"2a7329b0-81bc-4e3b-9eb5-7680d08b1879\",\"type\":\"Rect\"},\"hover_glyph\":null,\"muted_glyph\":null},\"id\":\"ed7e0ca8-010b-4c47-8f48-fe5ae83ad3b9\",\"type\":\"GlyphRenderer\"},{\"attributes\":{\"data_source\":{\"id\":\"56eb9bc4-5705-4c3b-a95e-e312615a1029\",\"type\":\"ColumnDataSource\"},\"glyph\":{\"id\":\"6fbdf28e-a376-407b-bd5b-c94f2dd0e0bc\",\"type\":\"Rect\"},\"hover_glyph\":null,\"muted_glyph\":null},\"id\":\"c16384a1-f5ae-4b7e-8000-7622bf3c61ed\",\"type\":\"GlyphRenderer\"},{\"attributes\":{\"data_source\":{\"id\":\"682d2ef3-0f1d-410a-a969-d753a32480a0\",\"type\":\"ColumnDataSource\"},\"glyph\":{\"id\":\"6d27f15c-248b-42ff-b333-d772dfd3d6f3\",\"type\":\"Rect\"},\"hover_glyph\":null,\"muted_glyph\":null},\"id\":\"6e03bf4a-e8c7-4bb8-9adb-fcedb53c0417\",\"type\":\"GlyphRenderer\"},{\"attributes\":{\"plot\":{\"id\":\"8199b166-cc59-407b-817e-daf31ebb18ea\",\"subtype\":\"Chart\",\"type\":\"Plot\"}},\"id\":\"951df515-2dbb-4371-a58c-bf21fc063290\",\"type\":\"WheelZoomTool\"},{\"attributes\":{},\"id\":\"43ddf270-3dbe-478a-b568-dac274752186\",\"type\":\"BasicTickFormatter\"},{\"attributes\":{\"plot\":{\"id\":\"8199b166-cc59-407b-817e-daf31ebb18ea\",\"subtype\":\"Chart\",\"type\":\"Plot\"}},\"id\":\"051e7dd5-4b46-47b1-958f-db0b51eae416\",\"type\":\"PanTool\"},{\"attributes\":{\"below\":[{\"id\":\"701aa2e0-5b63-4eab-99b6-5cadaf501523\",\"type\":\"CategoricalAxis\"}],\"css_classes\":null,\"left\":[{\"id\":\"6d426700-f92a-49ef-b933-088329a399d2\",\"type\":\"LinearAxis\"}],\"renderers\":[{\"id\":\"dfe3eef0-09b1-4b6f-8978-fcf528403fe7\",\"type\":\"BoxAnnotation\"},{\"id\":\"c3649383-1660-4630-8955-3f3143f5fdc7\",\"type\":\"GlyphRenderer\"},{\"id\":\"616d7906-07d7-41d4-bd8c-7e59e8ab8b3d\",\"type\":\"GlyphRenderer\"},{\"id\":\"143db2c8-ead2-4ac9-ac7c-b4aaa8cf7899\",\"type\":\"GlyphRenderer\"},{\"id\":\"8a42d387-12d0-4ec7-8ff4-cfdc3f0f413a\",\"type\":\"GlyphRenderer\"},{\"id\":\"ed7e0ca8-010b-4c47-8f48-fe5ae83ad3b9\",\"type\":\"GlyphRenderer\"},{\"id\":\"8b060635-2fbf-4e64-bd58-af3971abf653\",\"type\":\"GlyphRenderer\"},{\"id\":\"5d437dbd-3045-47f1-9f07-a935e2cc73a7\",\"type\":\"GlyphRenderer\"},{\"id\":\"e3f39e46-83c6-45c7-a071-7a3ea640ed8a\",\"type\":\"GlyphRenderer\"},{\"id\":\"6e03bf4a-e8c7-4bb8-9adb-fcedb53c0417\",\"type\":\"GlyphRenderer\"},{\"id\":\"958f5005-12c1-4ad6-a62a-737cfec360ae\",\"type\":\"GlyphRenderer\"},{\"id\":\"760e887a-f87d-4989-975c-cfb46f4a4c76\",\"type\":\"GlyphRenderer\"},{\"id\":\"c16384a1-f5ae-4b7e-8000-7622bf3c61ed\",\"type\":\"GlyphRenderer\"},{\"id\":\"68490257-fa3b-4d88-b14a-cacc23aeeacd\",\"type\":\"GlyphRenderer\"},{\"id\":\"dc332aad-2afa-4b32-b9f5-1936f5dc1227\",\"type\":\"GlyphRenderer\"},{\"id\":\"c6edd3f6-11a5-4790-8e78-068c4552b311\",\"type\":\"GlyphRenderer\"},{\"id\":\"63653f3b-85bf-4221-a88e-b362592c7438\",\"type\":\"Legend\"},{\"id\":\"701aa2e0-5b63-4eab-99b6-5cadaf501523\",\"type\":\"CategoricalAxis\"},{\"id\":\"6d426700-f92a-49ef-b933-088329a399d2\",\"type\":\"LinearAxis\"},{\"id\":\"675e4a5a-7065-4a37-bad4-9d94e9b8b1e5\",\"type\":\"Grid\"}],\"title\":{\"id\":\"c043781c-3a7e-4d1a-be55-1f879e4da135\",\"type\":\"Title\"},\"tool_events\":{\"id\":\"8a3ce7bb-d162-49b9-a3bf-d512d545d71c\",\"type\":\"ToolEvents\"},\"toolbar\":{\"id\":\"62c73553-41f4-4a86-a54d-51b71240cc94\",\"type\":\"Toolbar\"},\"x_mapper_type\":\"auto\",\"x_range\":{\"id\":\"76fd02f0-00d5-41d0-bec7-e8419a76f190\",\"type\":\"FactorRange\"},\"y_mapper_type\":\"auto\",\"y_range\":{\"id\":\"90462734-e8db-4a6b-8dd1-63e1795b7658\",\"type\":\"Range1d\"}},\"id\":\"8199b166-cc59-407b-817e-daf31ebb18ea\",\"subtype\":\"Chart\",\"type\":\"Plot\"},{\"attributes\":{\"fill_alpha\":{\"field\":\"fill_alpha\"},\"fill_color\":{\"field\":\"color\"},\"height\":{\"field\":\"height\",\"units\":\"data\"},\"line_color\":{\"field\":\"line_color\"},\"width\":{\"field\":\"width\",\"units\":\"data\"},\"x\":{\"field\":\"x\"},\"y\":{\"field\":\"y\"}},\"id\":\"6d27f15c-248b-42ff-b333-d772dfd3d6f3\",\"type\":\"Rect\"},{\"attributes\":{\"data_source\":{\"id\":\"0248d208-e53d-42da-99d7-64ca20ddd2cc\",\"type\":\"ColumnDataSource\"},\"glyph\":{\"id\":\"f1aefa76-75a1-48e3-88fb-58215829760c\",\"type\":\"Rect\"},\"hover_glyph\":null,\"muted_glyph\":null},\"id\":\"5d437dbd-3045-47f1-9f07-a935e2cc73a7\",\"type\":\"GlyphRenderer\"},{\"attributes\":{\"fill_alpha\":{\"field\":\"fill_alpha\"},\"fill_color\":{\"field\":\"color\"},\"height\":{\"field\":\"height\",\"units\":\"data\"},\"line_color\":{\"field\":\"line_color\"},\"width\":{\"field\":\"width\",\"units\":\"data\"},\"x\":{\"field\":\"x\"},\"y\":{\"field\":\"y\"}},\"id\":\"2a7329b0-81bc-4e3b-9eb5-7680d08b1879\",\"type\":\"Rect\"},{\"attributes\":{\"active_drag\":\"auto\",\"active_scroll\":\"auto\",\"active_tap\":\"auto\",\"tools\":[{\"id\":\"051e7dd5-4b46-47b1-958f-db0b51eae416\",\"type\":\"PanTool\"},{\"id\":\"951df515-2dbb-4371-a58c-bf21fc063290\",\"type\":\"WheelZoomTool\"},{\"id\":\"865b47ef-b9f5-481f-9cda-0b6e538ddb50\",\"type\":\"BoxZoomTool\"},{\"id\":\"317ee81a-1cdc-4db6-947f-d5b58ef3a713\",\"type\":\"SaveTool\"},{\"id\":\"27d6ccf4-a2b5-4dc6-a7f2-64f75c0bcc64\",\"type\":\"ResetTool\"},{\"id\":\"ce47b4a5-be83-470a-a39a-4093af631664\",\"type\":\"HelpTool\"}]},\"id\":\"62c73553-41f4-4a86-a54d-51b71240cc94\",\"type\":\"Toolbar\"},{\"attributes\":{\"label\":{\"value\":\"Mixed Breed\"},\"renderers\":[{\"id\":\"c3649383-1660-4630-8955-3f3143f5fdc7\",\"type\":\"GlyphRenderer\"}]},\"id\":\"ca32e351-879e-4b37-8935-8edd66f8dbd7\",\"type\":\"LegendItem\"},{\"attributes\":{\"data_source\":{\"id\":\"19dc8cae-6ed1-4246-a0f3-390d90aeeb62\",\"type\":\"ColumnDataSource\"},\"glyph\":{\"id\":\"f125a66d-77c6-4f34-9d1f-b8d42f5cf83a\",\"type\":\"Rect\"},\"hover_glyph\":null,\"muted_glyph\":null},\"id\":\"68490257-fa3b-4d88-b14a-cacc23aeeacd\",\"type\":\"GlyphRenderer\"},{\"attributes\":{},\"id\":\"4716645f-ab3e-4227-9230-bcc0eb3165c6\",\"type\":\"CategoricalTicker\"},{\"attributes\":{\"data_source\":{\"id\":\"dee1aefb-6482-49b9-8fa7-2f7411aa912a\",\"type\":\"ColumnDataSource\"},\"glyph\":{\"id\":\"80a1756a-f255-4458-8570-474cffd338da\",\"type\":\"Rect\"},\"hover_glyph\":null,\"muted_glyph\":null},\"id\":\"143db2c8-ead2-4ac9-ac7c-b4aaa8cf7899\",\"type\":\"GlyphRenderer\"},{\"attributes\":{\"fill_alpha\":{\"field\":\"fill_alpha\"},\"fill_color\":{\"field\":\"color\"},\"height\":{\"field\":\"height\",\"units\":\"data\"},\"line_color\":{\"field\":\"line_color\"},\"width\":{\"field\":\"width\",\"units\":\"data\"},\"x\":{\"field\":\"x\"},\"y\":{\"field\":\"y\"}},\"id\":\"246daf84-e56f-44ce-ac92-5b6803864c5b\",\"type\":\"Rect\"},{\"attributes\":{\"callback\":null,\"column_names\":[\"line_color\",\"line_alpha\",\"color\",\"fill_alpha\",\"height\",\"width\",\"y\",\"x\",\"label\"],\"data\":{\"MixedBreed\":[\"Known Breed Combo\"],\"OutcomeType\":[\"Euthanasia\"],\"chart_index\":[{\"MixedBreed\":\"Known Breed Combo\",\"OutcomeType\":\"Euthanasia\"}],\"color\":[\"#f22c40\"],\"fill_alpha\":[0.8],\"height\":[127.0],\"label\":[{\"MixedBreed\":\"Known Breed Combo\",\"OutcomeType\":\"Euthanasia\"}],\"line_alpha\":[1.0],\"line_color\":[\"white\"],\"width\":[0.8],\"x\":[\"Euthanasia\"],\"y\":[1427.5]}},\"id\":\"7ba93236-2595-4ad0-879a-2a475d443f41\",\"type\":\"ColumnDataSource\"},{\"attributes\":{\"callback\":null,\"column_names\":[\"line_color\",\"line_alpha\",\"color\",\"fill_alpha\",\"height\",\"width\",\"y\",\"x\",\"label\"],\"data\":{\"MixedBreed\":[\"Mixed Breed\"],\"OutcomeType\":[\"Transfer\"],\"chart_index\":[{\"MixedBreed\":\"Mixed Breed\",\"OutcomeType\":\"Transfer\"}],\"color\":[\"#5ab738\"],\"fill_alpha\":[0.8],\"height\":[8252.0],\"label\":[{\"MixedBreed\":\"Mixed Breed\",\"OutcomeType\":\"Transfer\"}],\"line_alpha\":[1.0],\"line_color\":[\"white\"],\"width\":[0.8],\"x\":[\"Transfer\"],\"y\":[4126.0]}},\"id\":\"aed9db62-31ab-4e00-b74c-55e2da759ed3\",\"type\":\"ColumnDataSource\"},{\"attributes\":{\"overlay\":{\"id\":\"dfe3eef0-09b1-4b6f-8978-fcf528403fe7\",\"type\":\"BoxAnnotation\"},\"plot\":{\"id\":\"8199b166-cc59-407b-817e-daf31ebb18ea\",\"subtype\":\"Chart\",\"type\":\"Plot\"}},\"id\":\"865b47ef-b9f5-481f-9cda-0b6e538ddb50\",\"type\":\"BoxZoomTool\"},{\"attributes\":{\"data_source\":{\"id\":\"7ba93236-2595-4ad0-879a-2a475d443f41\",\"type\":\"ColumnDataSource\"},\"glyph\":{\"id\":\"7fbbcc9e-7e34-4ab3-afb7-f11874c8c37c\",\"type\":\"Rect\"},\"hover_glyph\":null,\"muted_glyph\":null},\"id\":\"958f5005-12c1-4ad6-a62a-737cfec360ae\",\"type\":\"GlyphRenderer\"},{\"attributes\":{\"fill_alpha\":{\"field\":\"fill_alpha\"},\"fill_color\":{\"field\":\"color\"},\"height\":{\"field\":\"height\",\"units\":\"data\"},\"line_color\":{\"field\":\"line_color\"},\"width\":{\"field\":\"width\",\"units\":\"data\"},\"x\":{\"field\":\"x\"},\"y\":{\"field\":\"y\"}},\"id\":\"6fbdf28e-a376-407b-bd5b-c94f2dd0e0bc\",\"type\":\"Rect\"},{\"attributes\":{\"callback\":null,\"column_names\":[\"line_color\",\"line_alpha\",\"color\",\"fill_alpha\",\"height\",\"width\",\"y\",\"x\",\"label\"],\"data\":{\"MixedBreed\":[\"Nonmixed\"],\"OutcomeType\":[\"Adoption\"],\"chart_index\":[{\"MixedBreed\":\"Nonmixed\",\"OutcomeType\":\"Adoption\"}],\"color\":[\"#407ee7\"],\"fill_alpha\":[0.8],\"height\":[443.0],\"label\":[{\"MixedBreed\":\"Nonmixed\",\"OutcomeType\":\"Adoption\"}],\"line_alpha\":[1.0],\"line_color\":[\"white\"],\"width\":[0.8],\"x\":[\"Adoption\"],\"y\":[9013.5]}},\"id\":\"3c6ef74d-0c10-4cb8-8529-019560f83367\",\"type\":\"ColumnDataSource\"},{\"attributes\":{\"callback\":null,\"column_names\":[\"line_color\",\"line_alpha\",\"color\",\"fill_alpha\",\"height\",\"width\",\"y\",\"x\",\"label\"],\"data\":{\"MixedBreed\":[\"Mixed Breed\"],\"OutcomeType\":[\"Return_to_owner\"],\"chart_index\":[{\"MixedBreed\":\"Mixed Breed\",\"OutcomeType\":\"Return_to_owner\"}],\"color\":[\"#5ab738\"],\"fill_alpha\":[0.8],\"height\":[3710.0],\"label\":[{\"MixedBreed\":\"Mixed Breed\",\"OutcomeType\":\"Return_to_owner\"}],\"line_alpha\":[1.0],\"line_color\":[\"white\"],\"width\":[0.8],\"x\":[\"Return_to_owner\"],\"y\":[1855.0]}},\"id\":\"54cb647e-15c3-49fa-adfb-1b754b004348\",\"type\":\"ColumnDataSource\"},{\"attributes\":{},\"id\":\"92da248a-77f8-4bf3-9008-b9ea511b9425\",\"type\":\"BasicTicker\"},{\"attributes\":{\"label\":{\"value\":\"Known Breed Combo\"},\"renderers\":[{\"id\":\"ed7e0ca8-010b-4c47-8f48-fe5ae83ad3b9\",\"type\":\"GlyphRenderer\"}]},\"id\":\"787bc855-f2c3-4ea1-a343-bd010ee0b368\",\"type\":\"LegendItem\"},{\"attributes\":{\"callback\":null,\"column_names\":[\"line_color\",\"line_alpha\",\"color\",\"fill_alpha\",\"height\",\"width\",\"y\",\"x\",\"label\"],\"data\":{\"MixedBreed\":[\"Known Breed Combo\"],\"OutcomeType\":[\"Adoption\"],\"chart_index\":[{\"MixedBreed\":\"Known Breed Combo\",\"OutcomeType\":\"Adoption\"}],\"color\":[\"#f22c40\"],\"fill_alpha\":[0.8],\"height\":[1534.0],\"label\":[{\"MixedBreed\":\"Known Breed Combo\",\"OutcomeType\":\"Adoption\"}],\"line_alpha\":[1.0],\"line_color\":[\"white\"],\"width\":[0.8],\"x\":[\"Adoption\"],\"y\":[10002.0]}},\"id\":\"0248d208-e53d-42da-99d7-64ca20ddd2cc\",\"type\":\"ColumnDataSource\"},{\"attributes\":{\"callback\":null,\"column_names\":[\"line_color\",\"line_alpha\",\"color\",\"fill_alpha\",\"height\",\"width\",\"y\",\"x\",\"label\"],\"data\":{\"MixedBreed\":[\"Mixed Breed\"],\"OutcomeType\":[\"Adoption\"],\"chart_index\":[{\"MixedBreed\":\"Mixed Breed\",\"OutcomeType\":\"Adoption\"}],\"color\":[\"#5ab738\"],\"fill_alpha\":[0.8],\"height\":[8792.0],\"label\":[{\"MixedBreed\":\"Mixed Breed\",\"OutcomeType\":\"Adoption\"}],\"line_alpha\":[1.0],\"line_color\":[\"white\"],\"width\":[0.8],\"x\":[\"Adoption\"],\"y\":[4396.0]}},\"id\":\"dee1aefb-6482-49b9-8fa7-2f7411aa912a\",\"type\":\"ColumnDataSource\"},{\"attributes\":{\"data_source\":{\"id\":\"53910c9a-4496-4d99-a778-b46d96b5684e\",\"type\":\"ColumnDataSource\"},\"glyph\":{\"id\":\"3df6e27a-d073-4439-b98f-507c0afaad73\",\"type\":\"Rect\"},\"hover_glyph\":null,\"muted_glyph\":null},\"id\":\"dc332aad-2afa-4b32-b9f5-1936f5dc1227\",\"type\":\"GlyphRenderer\"},{\"attributes\":{\"items\":[{\"id\":\"ca32e351-879e-4b37-8935-8edd66f8dbd7\",\"type\":\"LegendItem\"},{\"id\":\"787bc855-f2c3-4ea1-a343-bd010ee0b368\",\"type\":\"LegendItem\"},{\"id\":\"f40d8e03-bf71-4e38-9248-fd88011f8427\",\"type\":\"LegendItem\"}],\"plot\":{\"id\":\"8199b166-cc59-407b-817e-daf31ebb18ea\",\"subtype\":\"Chart\",\"type\":\"Plot\"}},\"id\":\"63653f3b-85bf-4221-a88e-b362592c7438\",\"type\":\"Legend\"},{\"attributes\":{\"callback\":null,\"column_names\":[\"line_color\",\"line_alpha\",\"color\",\"fill_alpha\",\"height\",\"width\",\"y\",\"x\",\"label\"],\"data\":{\"MixedBreed\":[\"Known Breed Combo\"],\"OutcomeType\":[\"Return_to_owner\"],\"chart_index\":[{\"MixedBreed\":\"Known Breed Combo\",\"OutcomeType\":\"Return_to_owner\"}],\"color\":[\"#f22c40\"],\"fill_alpha\":[0.8],\"height\":[636.0],\"label\":[{\"MixedBreed\":\"Known Breed Combo\",\"OutcomeType\":\"Return_to_owner\"}],\"line_alpha\":[1.0],\"line_color\":[\"white\"],\"width\":[0.8],\"x\":[\"Return_to_owner\"],\"y\":[4028.0]}},\"id\":\"c57cfe30-697e-4be9-b02f-04bef6455f1b\",\"type\":\"ColumnDataSource\"},{\"attributes\":{\"plot\":{\"id\":\"8199b166-cc59-407b-817e-daf31ebb18ea\",\"subtype\":\"Chart\",\"type\":\"Plot\"}},\"id\":\"27d6ccf4-a2b5-4dc6-a7f2-64f75c0bcc64\",\"type\":\"ResetTool\"},{\"attributes\":{\"data_source\":{\"id\":\"3c6ef74d-0c10-4cb8-8529-019560f83367\",\"type\":\"ColumnDataSource\"},\"glyph\":{\"id\":\"097e1438-718c-441f-a9c5-1ad25f56d88f\",\"type\":\"Rect\"},\"hover_glyph\":null,\"muted_glyph\":null},\"id\":\"8b060635-2fbf-4e64-bd58-af3971abf653\",\"type\":\"GlyphRenderer\"},{\"attributes\":{\"data_source\":{\"id\":\"c57cfe30-697e-4be9-b02f-04bef6455f1b\",\"type\":\"ColumnDataSource\"},\"glyph\":{\"id\":\"e8099870-afb2-4a50-9c9a-6f7d36161028\",\"type\":\"Rect\"},\"hover_glyph\":null,\"muted_glyph\":null},\"id\":\"e3f39e46-83c6-45c7-a071-7a3ea640ed8a\",\"type\":\"GlyphRenderer\"},{\"attributes\":{\"fill_alpha\":{\"field\":\"fill_alpha\"},\"fill_color\":{\"field\":\"color\"},\"height\":{\"field\":\"height\",\"units\":\"data\"},\"line_color\":{\"field\":\"line_color\"},\"width\":{\"field\":\"width\",\"units\":\"data\"},\"x\":{\"field\":\"x\"},\"y\":{\"field\":\"y\"}},\"id\":\"f125a66d-77c6-4f34-9d1f-b8d42f5cf83a\",\"type\":\"Rect\"},{\"attributes\":{\"callback\":null,\"column_names\":[\"line_color\",\"line_alpha\",\"color\",\"fill_alpha\",\"height\",\"width\",\"y\",\"x\",\"label\"],\"data\":{\"MixedBreed\":[\"Known Breed Combo\"],\"OutcomeType\":[\"Transfer\"],\"chart_index\":[{\"MixedBreed\":\"Known Breed Combo\",\"OutcomeType\":\"Transfer\"}],\"color\":[\"#f22c40\"],\"fill_alpha\":[0.8],\"height\":[734.0],\"label\":[{\"MixedBreed\":\"Known Breed Combo\",\"OutcomeType\":\"Transfer\"}],\"line_alpha\":[1.0],\"line_color\":[\"white\"],\"width\":[0.8],\"x\":[\"Transfer\"],\"y\":[8619.0]}},\"id\":\"289dc21d-13ea-4241-a346-4a9dd5bdf986\",\"type\":\"ColumnDataSource\"},{\"attributes\":{},\"id\":\"8a3ce7bb-d162-49b9-a3bf-d512d545d71c\",\"type\":\"ToolEvents\"},{\"attributes\":{},\"id\":\"02c250ba-fba4-4661-bc3d-7b3e52ffb0f7\",\"type\":\"CategoricalTickFormatter\"},{\"attributes\":{\"bottom_units\":\"screen\",\"fill_alpha\":{\"value\":0.5},\"fill_color\":{\"value\":\"lightgrey\"},\"left_units\":\"screen\",\"level\":\"overlay\",\"line_alpha\":{\"value\":1.0},\"line_color\":{\"value\":\"black\"},\"line_dash\":[4,4],\"line_width\":{\"value\":2},\"plot\":null,\"render_mode\":\"css\",\"right_units\":\"screen\",\"top_units\":\"screen\"},\"id\":\"dfe3eef0-09b1-4b6f-8978-fcf528403fe7\",\"type\":\"BoxAnnotation\"},{\"attributes\":{\"fill_alpha\":{\"field\":\"fill_alpha\"},\"fill_color\":{\"field\":\"color\"},\"height\":{\"field\":\"height\",\"units\":\"data\"},\"line_color\":{\"field\":\"line_color\"},\"width\":{\"field\":\"width\",\"units\":\"data\"},\"x\":{\"field\":\"x\"},\"y\":{\"field\":\"y\"}},\"id\":\"3df6e27a-d073-4439-b98f-507c0afaad73\",\"type\":\"Rect\"},{\"attributes\":{\"fill_alpha\":{\"field\":\"fill_alpha\"},\"fill_color\":{\"field\":\"color\"},\"height\":{\"field\":\"height\",\"units\":\"data\"},\"line_color\":{\"field\":\"line_color\"},\"width\":{\"field\":\"width\",\"units\":\"data\"},\"x\":{\"field\":\"x\"},\"y\":{\"field\":\"y\"}},\"id\":\"14aac8fe-3822-469d-ba57-904be16deae8\",\"type\":\"Rect\"},{\"attributes\":{\"data_source\":{\"id\":\"192ebfcf-660b-4998-ac57-971c85de6359\",\"type\":\"ColumnDataSource\"},\"glyph\":{\"id\":\"dbd2ade1-5eb2-493e-b1ee-8801e9f8e3b7\",\"type\":\"Rect\"},\"hover_glyph\":null,\"muted_glyph\":null},\"id\":\"616d7906-07d7-41d4-bd8c-7e59e8ab8b3d\",\"type\":\"GlyphRenderer\"},{\"attributes\":{\"callback\":null,\"factors\":[\"Adoption\",\"Died\",\"Euthanasia\",\"Return_to_owner\",\"Transfer\"]},\"id\":\"76fd02f0-00d5-41d0-bec7-e8419a76f190\",\"type\":\"FactorRange\"}],\"root_ids\":[\"8199b166-cc59-407b-817e-daf31ebb18ea\"]},\"title\":\"Bokeh Application\",\"version\":\"0.12.5\"}};\n",
       "            var render_items = [{\"docid\":\"8d255e80-8825-4f6a-8b6e-3222e355b335\",\"elementid\":\"3a02f21b-444e-447d-8624-920d2cac2f95\",\"modelid\":\"8199b166-cc59-407b-817e-daf31ebb18ea\"}];\n",
       "            \n",
       "            Bokeh.embed.embed_items(docs_json, render_items);\n",
       "          };\n",
       "          if (document.readyState != \"loading\") fn();\n",
       "          else document.addEventListener(\"DOMContentLoaded\", fn);\n",
       "        })();\n",
       "      },\n",
       "      function(Bokeh) {\n",
       "      }\n",
       "    ];\n",
       "  \n",
       "    function run_inline_js() {\n",
       "      \n",
       "      if ((window.Bokeh !== undefined) || (force === true)) {\n",
       "        for (var i = 0; i < inline_js.length; i++) {\n",
       "          inline_js[i](window.Bokeh);\n",
       "        }if (force === true) {\n",
       "          display_loaded();\n",
       "        }} else if (Date.now() < window._bokeh_timeout) {\n",
       "        setTimeout(run_inline_js, 100);\n",
       "      } else if (!window._bokeh_failed_load) {\n",
       "        console.log(\"Bokeh: BokehJS failed to load within specified timeout.\");\n",
       "        window._bokeh_failed_load = true;\n",
       "      } else if (force !== true) {\n",
       "        var cell = $(document.getElementById(\"3a02f21b-444e-447d-8624-920d2cac2f95\")).parents('.cell').data().cell;\n",
       "        cell.output_area.append_execute_result(NB_LOAD_WARNING)\n",
       "      }\n",
       "  \n",
       "    }\n",
       "  \n",
       "    if (window._bokeh_is_loading === 0) {\n",
       "      console.log(\"Bokeh: BokehJS loaded, going straight to plotting\");\n",
       "      run_inline_js();\n",
       "    } else {\n",
       "      load_libs(js_urls, function() {\n",
       "        console.log(\"Bokeh: BokehJS plotting callback run at\", now());\n",
       "        run_inline_js();\n",
       "      });\n",
       "    }\n",
       "  }(this));\n",
       "</script>"
      ]
     },
     "metadata": {},
     "output_type": "display_data"
    }
   ],
   "source": [
    "p = Bar(data, label='OutcomeType', values = 'MixedBreed', agg='count', stack='MixedBreed',\n",
    "        title=\"Outcomes by Breed Type\", legend='top_right')\n",
    "show(p)"
   ]
  },
  {
   "cell_type": "code",
   "execution_count": 13,
   "metadata": {
    "scrolled": true
   },
   "outputs": [
    {
     "data": {
      "text/plain": [
       "array([[<matplotlib.axes._subplots.AxesSubplot object at 0x11e07c050>]], dtype=object)"
      ]
     },
     "execution_count": 13,
     "metadata": {},
     "output_type": "execute_result"
    },
    {
     "data": {
      "image/png": "[encoded data removed]",
      "text/plain": [
       "<matplotlib.figure.Figure at 0x11f483710>"
      ]
     },
     "metadata": {},
     "output_type": "display_data"
    }
   ],
   "source": [
    "#Age of animals\n",
    "data.hist(column=\"ConvertedAge\", bins=25)"
   ]
  },
  {
   "cell_type": "code",
   "execution_count": 14,
   "metadata": {},
   "outputs": [
    {
     "data": {
      "text/html": [
       "\n",
       "\n",
       "    <div class=\"bk-root\">\n",
       "        <div class=\"bk-plotdiv\" id=\"64b50e17-b294-4a7e-a312-b37fda4d8b01\"></div>\n",
       "    </div>\n",
       "<script type=\"text/javascript\">\n",
       "  \n",
       "  (function(global) {\n",
       "    function now() {\n",
       "      return new Date();\n",
       "    }\n",
       "  \n",
       "    var force = false;\n",
       "  \n",
       "    if (typeof (window._bokeh_onload_callbacks) === \"undefined\" || force === true) {\n",
       "      window._bokeh_onload_callbacks = [];\n",
       "      window._bokeh_is_loading = undefined;\n",
       "    }\n",
       "  \n",
       "  \n",
       "    \n",
       "    if (typeof (window._bokeh_timeout) === \"undefined\" || force === true) {\n",
       "      window._bokeh_timeout = Date.now() + 0;\n",
       "      window._bokeh_failed_load = false;\n",
       "    }\n",
       "  \n",
       "    var NB_LOAD_WARNING = {'data': {'text/html':\n",
       "       \"<div style='background-color: #fdd'>\\n\"+\n",
       "       \"<p>\\n\"+\n",
       "       \"BokehJS does not appear to have successfully loaded. If loading BokehJS from CDN, this \\n\"+\n",
       "       \"may be due to a slow or bad network connection. Possible fixes:\\n\"+\n",
       "       \"</p>\\n\"+\n",
       "       \"<ul>\\n\"+\n",
       "       \"<li>re-rerun `output_notebook()` to attempt to load from CDN again, or</li>\\n\"+\n",
       "       \"<li>use INLINE resources instead, as so:</li>\\n\"+\n",
       "       \"</ul>\\n\"+\n",
       "       \"<code>\\n\"+\n",
       "       \"from bokeh.resources import INLINE\\n\"+\n",
       "       \"output_notebook(resources=INLINE)\\n\"+\n",
       "       \"</code>\\n\"+\n",
       "       \"</div>\"}};\n",
       "  \n",
       "    function display_loaded() {\n",
       "      if (window.Bokeh !== undefined) {\n",
       "        var el = document.getElementById(\"64b50e17-b294-4a7e-a312-b37fda4d8b01\");\n",
       "        el.textContent = \"BokehJS \" + Bokeh.version + \" successfully loaded.\";\n",
       "      } else if (Date.now() < window._bokeh_timeout) {\n",
       "        setTimeout(display_loaded, 100)\n",
       "      }\n",
       "    }\n",
       "  \n",
       "    function run_callbacks() {\n",
       "      window._bokeh_onload_callbacks.forEach(function(callback) { callback() });\n",
       "      delete window._bokeh_onload_callbacks\n",
       "      console.info(\"Bokeh: all callbacks have finished\");\n",
       "    }\n",
       "  \n",
       "    function load_libs(js_urls, callback) {\n",
       "      window._bokeh_onload_callbacks.push(callback);\n",
       "      if (window._bokeh_is_loading > 0) {\n",
       "        console.log(\"Bokeh: BokehJS is being loaded, scheduling callback at\", now());\n",
       "        return null;\n",
       "      }\n",
       "      if (js_urls == null || js_urls.length === 0) {\n",
       "        run_callbacks();\n",
       "        return null;\n",
       "      }\n",
       "      console.log(\"Bokeh: BokehJS not loaded, scheduling load and callback at\", now());\n",
       "      window._bokeh_is_loading = js_urls.length;\n",
       "      for (var i = 0; i < js_urls.length; i++) {\n",
       "        var url = js_urls[i];\n",
       "        var s = document.createElement('script');\n",
       "        s.src = url;\n",
       "        s.async = false;\n",
       "        s.onreadystatechange = s.onload = function() {\n",
       "          window._bokeh_is_loading--;\n",
       "          if (window._bokeh_is_loading === 0) {\n",
       "            console.log(\"Bokeh: all BokehJS libraries loaded\");\n",
       "            run_callbacks()\n",
       "          }\n",
       "        };\n",
       "        s.onerror = function() {\n",
       "          console.warn(\"failed to load library \" + url);\n",
       "        };\n",
       "        console.log(\"Bokeh: injecting script tag for BokehJS library: \", url);\n",
       "        document.getElementsByTagName(\"head\")[0].appendChild(s);\n",
       "      }\n",
       "    };var element = document.getElementById(\"64b50e17-b294-4a7e-a312-b37fda4d8b01\");\n",
       "    if (element == null) {\n",
       "      console.log(\"Bokeh: ERROR: autoload.js configured with elementid '64b50e17-b294-4a7e-a312-b37fda4d8b01' but no matching script tag was found. \")\n",
       "      return false;\n",
       "    }\n",
       "  \n",
       "    var js_urls = [];\n",
       "  \n",
       "    var inline_js = [\n",
       "      function(Bokeh) {\n",
       "        (function() {\n",
       "          var fn = function() {\n",
       "            var docs_json = {\"7a877712-1ec6-4ef8-b985-14fe56ff1017\":{\"roots\":{\"references\":[{\"attributes\":{\"active_drag\":\"auto\",\"active_scroll\":\"auto\",\"active_tap\":\"auto\",\"tools\":[{\"id\":\"a3b4a3a1-30a4-4ad0-a48f-c1ae4a53eee3\",\"type\":\"PanTool\"},{\"id\":\"443c3c62-bcf7-4dff-9173-503360c70af3\",\"type\":\"WheelZoomTool\"},{\"id\":\"1e9b4317-f498-42a9-bd7c-39eab1f0d11e\",\"type\":\"BoxZoomTool\"},{\"id\":\"a536fd8c-55c6-4875-a9c4-9ff2c14dd442\",\"type\":\"SaveTool\"},{\"id\":\"f247279a-c9b5-48c2-9a67-dcf9876b89fd\",\"type\":\"ResetTool\"},{\"id\":\"c48dd150-27e6-4042-8721-5553a95275a5\",\"type\":\"HelpTool\"}]},\"id\":\"a326abeb-19a0-41cb-bae7-4c2eecdfab83\",\"type\":\"Toolbar\"},{\"attributes\":{\"fill_alpha\":{\"field\":\"fill_alpha\"},\"fill_color\":{\"field\":\"color\"},\"height\":{\"field\":\"height\",\"units\":\"data\"},\"line_color\":{\"field\":\"line_color\"},\"width\":{\"field\":\"width\",\"units\":\"data\"},\"x\":{\"field\":\"x\"},\"y\":{\"field\":\"y\"}},\"id\":\"199e8656-7008-4ee5-9d62-f8a0029f2b09\",\"type\":\"Rect\"},{\"attributes\":{\"data_source\":{\"id\":\"ab4e8cb7-c8d4-423a-a225-559ddaa17ada\",\"type\":\"ColumnDataSource\"},\"glyph\":{\"id\":\"8975c039-5886-4523-a9fd-d4d74fe1189d\",\"type\":\"Rect\"},\"hover_glyph\":null,\"muted_glyph\":null},\"id\":\"8ea3fecd-603e-4008-aaf5-0d389ec47009\",\"type\":\"GlyphRenderer\"},{\"attributes\":{\"fill_alpha\":{\"field\":\"fill_alpha\"},\"fill_color\":{\"field\":\"color\"},\"height\":{\"field\":\"height\",\"units\":\"data\"},\"line_color\":{\"field\":\"line_color\"},\"width\":{\"field\":\"width\",\"units\":\"data\"},\"x\":{\"field\":\"x\"},\"y\":{\"field\":\"y\"}},\"id\":\"6bedccc9-55f1-42f7-9e8b-d3e922e83ea9\",\"type\":\"Rect\"},{\"attributes\":{\"callback\":null,\"column_names\":[\"line_color\",\"line_alpha\",\"color\",\"fill_alpha\",\"height\",\"width\",\"y\",\"x\",\"label\"],\"data\":{\"Named\":[\"Unnamed\"],\"OutcomeType\":[\"Return_to_owner\"],\"chart_index\":[{\"Named\":\"Unnamed\",\"OutcomeType\":\"Return_to_owner\"}],\"color\":[\"#5ab738\"],\"fill_alpha\":[0.8],\"height\":[153.0],\"label\":[{\"Named\":\"Unnamed\",\"OutcomeType\":\"Return_to_owner\"}],\"line_alpha\":[1.0],\"line_color\":[\"white\"],\"width\":[0.8],\"x\":[\"Return_to_owner\"],\"y\":[4709.5]}},\"id\":\"511a4ea2-53a4-4cb6-ba62-b056718a68af\",\"type\":\"ColumnDataSource\"},{\"attributes\":{\"overlay\":{\"id\":\"ae8990d6-b18f-415b-b07a-93c3603bb80c\",\"type\":\"BoxAnnotation\"},\"plot\":{\"id\":\"f99624f5-186a-4b6a-92cb-38cc4e5d5752\",\"subtype\":\"Chart\",\"type\":\"Plot\"}},\"id\":\"1e9b4317-f498-42a9-bd7c-39eab1f0d11e\",\"type\":\"BoxZoomTool\"},{\"attributes\":{\"plot\":{\"id\":\"f99624f5-186a-4b6a-92cb-38cc4e5d5752\",\"subtype\":\"Chart\",\"type\":\"Plot\"}},\"id\":\"a3b4a3a1-30a4-4ad0-a48f-c1ae4a53eee3\",\"type\":\"PanTool\"},{\"attributes\":{\"callback\":null,\"column_names\":[\"line_color\",\"line_alpha\",\"color\",\"fill_alpha\",\"height\",\"width\",\"y\",\"x\",\"label\"],\"data\":{\"Named\":[\"Unnamed\"],\"OutcomeType\":[\"Transfer\"],\"chart_index\":[{\"Named\":\"Unnamed\",\"OutcomeType\":\"Transfer\"}],\"color\":[\"#5ab738\"],\"fill_alpha\":[0.8],\"height\":[4925.0],\"label\":[{\"Named\":\"Unnamed\",\"OutcomeType\":\"Transfer\"}],\"line_alpha\":[1.0],\"line_color\":[\"white\"],\"width\":[0.8],\"x\":[\"Transfer\"],\"y\":[2462.5]}},\"id\":\"717d02e2-96fa-4a4c-9ae1-b0c2b6858146\",\"type\":\"ColumnDataSource\"},{\"attributes\":{\"callback\":null,\"column_names\":[\"line_color\",\"line_alpha\",\"color\",\"fill_alpha\",\"height\",\"width\",\"y\",\"x\",\"label\"],\"data\":{\"Named\":[\"Named\"],\"OutcomeType\":[\"Return_to_owner\"],\"chart_index\":[{\"Named\":\"Named\",\"OutcomeType\":\"Return_to_owner\"}],\"color\":[\"#f22c40\"],\"fill_alpha\":[0.8],\"height\":[4633.0],\"label\":[{\"Named\":\"Named\",\"OutcomeType\":\"Return_to_owner\"}],\"line_alpha\":[1.0],\"line_color\":[\"white\"],\"width\":[0.8],\"x\":[\"Return_to_owner\"],\"y\":[2316.5]}},\"id\":\"129a42ae-73c6-4eec-9137-581ee92a5c3f\",\"type\":\"ColumnDataSource\"},{\"attributes\":{\"callback\":null,\"column_names\":[\"line_color\",\"line_alpha\",\"color\",\"fill_alpha\",\"height\",\"width\",\"y\",\"x\",\"label\"],\"data\":{\"Named\":[\"Named\"],\"OutcomeType\":[\"Adoption\"],\"chart_index\":[{\"Named\":\"Named\",\"OutcomeType\":\"Adoption\"}],\"color\":[\"#f22c40\"],\"fill_alpha\":[0.8],\"height\":[9091.0],\"label\":[{\"Named\":\"Named\",\"OutcomeType\":\"Adoption\"}],\"line_alpha\":[1.0],\"line_color\":[\"white\"],\"width\":[0.8],\"x\":[\"Adoption\"],\"y\":[4545.5]}},\"id\":\"ce46d67c-7842-409c-9890-95e9903b31f0\",\"type\":\"ColumnDataSource\"},{\"attributes\":{},\"id\":\"622b1258-ce5e-4d72-ab5d-64fcc370e6ac\",\"type\":\"CategoricalTickFormatter\"},{\"attributes\":{},\"id\":\"120a6bcf-8ce1-4ffd-ac3d-b82a364c91fe\",\"type\":\"BasicTickFormatter\"},{\"attributes\":{\"data_source\":{\"id\":\"97f8aced-d490-49e8-852f-abeb5f5787d4\",\"type\":\"ColumnDataSource\"},\"glyph\":{\"id\":\"1c5d31d0-7b8b-44b1-8191-ec1730c09e12\",\"type\":\"Rect\"},\"hover_glyph\":null,\"muted_glyph\":null},\"id\":\"9e11d2a7-59ed-4dd6-b73a-327df51ff676\",\"type\":\"GlyphRenderer\"},{\"attributes\":{\"fill_alpha\":{\"field\":\"fill_alpha\"},\"fill_color\":{\"field\":\"color\"},\"height\":{\"field\":\"height\",\"units\":\"data\"},\"line_color\":{\"field\":\"line_color\"},\"width\":{\"field\":\"width\",\"units\":\"data\"},\"x\":{\"field\":\"x\"},\"y\":{\"field\":\"y\"}},\"id\":\"bab1299c-2da1-4b64-8569-8069b7f21c98\",\"type\":\"Rect\"},{\"attributes\":{},\"id\":\"1f0572d5-4b3b-4c5d-84b5-83fbdcb51d55\",\"type\":\"ToolEvents\"},{\"attributes\":{\"callback\":null,\"column_names\":[\"line_color\",\"line_alpha\",\"color\",\"fill_alpha\",\"height\",\"width\",\"y\",\"x\",\"label\"],\"data\":{\"Named\":[\"Unnamed\"],\"OutcomeType\":[\"Died\"],\"chart_index\":[{\"Named\":\"Unnamed\",\"OutcomeType\":\"Died\"}],\"color\":[\"#5ab738\"],\"fill_alpha\":[0.8],\"height\":[120.0],\"label\":[{\"Named\":\"Unnamed\",\"OutcomeType\":\"Died\"}],\"line_alpha\":[1.0],\"line_color\":[\"white\"],\"width\":[0.8],\"x\":[\"Died\"],\"y\":[137.0]}},\"id\":\"c408755a-4610-4be6-b882-61d34d68ae26\",\"type\":\"ColumnDataSource\"},{\"attributes\":{\"data_source\":{\"id\":\"28372feb-a023-4628-80c7-300a1445342c\",\"type\":\"ColumnDataSource\"},\"glyph\":{\"id\":\"6bedccc9-55f1-42f7-9e8b-d3e922e83ea9\",\"type\":\"Rect\"},\"hover_glyph\":null,\"muted_glyph\":null},\"id\":\"372b33fc-2b4a-440a-b558-9b064a7b1660\",\"type\":\"GlyphRenderer\"},{\"attributes\":{\"fill_alpha\":{\"field\":\"fill_alpha\"},\"fill_color\":{\"field\":\"color\"},\"height\":{\"field\":\"height\",\"units\":\"data\"},\"line_color\":{\"field\":\"line_color\"},\"width\":{\"field\":\"width\",\"units\":\"data\"},\"x\":{\"field\":\"x\"},\"y\":{\"field\":\"y\"}},\"id\":\"f0594c43-eb61-4a7f-878f-d7b8e5183a8a\",\"type\":\"Rect\"},{\"attributes\":{\"callback\":null,\"column_names\":[\"line_color\",\"line_alpha\",\"color\",\"fill_alpha\",\"height\",\"width\",\"y\",\"x\",\"label\"],\"data\":{\"Named\":[\"Unnamed\"],\"OutcomeType\":[\"Adoption\"],\"chart_index\":[{\"Named\":\"Unnamed\",\"OutcomeType\":\"Adoption\"}],\"color\":[\"#5ab738\"],\"fill_alpha\":[0.8],\"height\":[1678.0],\"label\":[{\"Named\":\"Unnamed\",\"OutcomeType\":\"Adoption\"}],\"line_alpha\":[1.0],\"line_color\":[\"white\"],\"width\":[0.8],\"x\":[\"Adoption\"],\"y\":[9930.0]}},\"id\":\"44bd7e11-1bf6-4b97-9416-689a821be5c2\",\"type\":\"ColumnDataSource\"},{\"attributes\":{\"fill_alpha\":{\"field\":\"fill_alpha\"},\"fill_color\":{\"field\":\"color\"},\"height\":{\"field\":\"height\",\"units\":\"data\"},\"line_color\":{\"field\":\"line_color\"},\"width\":{\"field\":\"width\",\"units\":\"data\"},\"x\":{\"field\":\"x\"},\"y\":{\"field\":\"y\"}},\"id\":\"e38dc3c1-9f29-42f3-a588-f3cc663faaa1\",\"type\":\"Rect\"},{\"attributes\":{},\"id\":\"eee281a5-5eb9-4fd2-92b2-75aeadc55498\",\"type\":\"BasicTicker\"},{\"attributes\":{\"data_source\":{\"id\":\"ce46d67c-7842-409c-9890-95e9903b31f0\",\"type\":\"ColumnDataSource\"},\"glyph\":{\"id\":\"bab1299c-2da1-4b64-8569-8069b7f21c98\",\"type\":\"Rect\"},\"hover_glyph\":null,\"muted_glyph\":null},\"id\":\"e3751494-b7d6-476c-8665-387ea6194d44\",\"type\":\"GlyphRenderer\"},{\"attributes\":{\"data_source\":{\"id\":\"c408755a-4610-4be6-b882-61d34d68ae26\",\"type\":\"ColumnDataSource\"},\"glyph\":{\"id\":\"e38dc3c1-9f29-42f3-a588-f3cc663faaa1\",\"type\":\"Rect\"},\"hover_glyph\":null,\"muted_glyph\":null},\"id\":\"bd43e15b-8742-44ac-b34b-5868cb677bd1\",\"type\":\"GlyphRenderer\"},{\"attributes\":{\"axis_label\":\"Outcometype\",\"formatter\":{\"id\":\"622b1258-ce5e-4d72-ab5d-64fcc370e6ac\",\"type\":\"CategoricalTickFormatter\"},\"major_label_orientation\":0.7853981633974483,\"plot\":{\"id\":\"f99624f5-186a-4b6a-92cb-38cc4e5d5752\",\"subtype\":\"Chart\",\"type\":\"Plot\"},\"ticker\":{\"id\":\"3e41a28b-fc94-4d56-b003-b66f6b167198\",\"type\":\"CategoricalTicker\"}},\"id\":\"00ca5fbf-a8a5-419d-b6c6-853a153318b4\",\"type\":\"CategoricalAxis\"},{\"attributes\":{\"plot\":{\"id\":\"f99624f5-186a-4b6a-92cb-38cc4e5d5752\",\"subtype\":\"Chart\",\"type\":\"Plot\"}},\"id\":\"c48dd150-27e6-4042-8721-5553a95275a5\",\"type\":\"HelpTool\"},{\"attributes\":{\"callback\":null,\"column_names\":[\"line_color\",\"line_alpha\",\"color\",\"fill_alpha\",\"height\",\"width\",\"y\",\"x\",\"label\"],\"data\":{\"Named\":[\"Unnamed\"],\"OutcomeType\":[\"Euthanasia\"],\"chart_index\":[{\"Named\":\"Unnamed\",\"OutcomeType\":\"Euthanasia\"}],\"color\":[\"#5ab738\"],\"fill_alpha\":[0.8],\"height\":[815.0],\"label\":[{\"Named\":\"Unnamed\",\"OutcomeType\":\"Euthanasia\"}],\"line_alpha\":[1.0],\"line_color\":[\"white\"],\"width\":[0.8],\"x\":[\"Euthanasia\"],\"y\":[1147.5]}},\"id\":\"af3f2f88-671a-4a30-9ca9-73d424bc60a1\",\"type\":\"ColumnDataSource\"},{\"attributes\":{\"fill_alpha\":{\"field\":\"fill_alpha\"},\"fill_color\":{\"field\":\"color\"},\"height\":{\"field\":\"height\",\"units\":\"data\"},\"line_color\":{\"field\":\"line_color\"},\"width\":{\"field\":\"width\",\"units\":\"data\"},\"x\":{\"field\":\"x\"},\"y\":{\"field\":\"y\"}},\"id\":\"b7c4b09e-7619-430f-aa49-2fba4c5e9591\",\"type\":\"Rect\"},{\"attributes\":{\"callback\":null,\"factors\":[\"Adoption\",\"Died\",\"Euthanasia\",\"Return_to_owner\",\"Transfer\"]},\"id\":\"be6eac26-8569-4540-a58b-715b4527a65c\",\"type\":\"FactorRange\"},{\"attributes\":{\"label\":{\"value\":\"Unnamed\"},\"renderers\":[{\"id\":\"3d0c8cfc-e6fe-424b-be8c-064a4586877d\",\"type\":\"GlyphRenderer\"}]},\"id\":\"272d9a00-36dd-4f19-b6f0-5d1bdf81eeb6\",\"type\":\"LegendItem\"},{\"attributes\":{\"plot\":{\"id\":\"f99624f5-186a-4b6a-92cb-38cc4e5d5752\",\"subtype\":\"Chart\",\"type\":\"Plot\"}},\"id\":\"a536fd8c-55c6-4875-a9c4-9ff2c14dd442\",\"type\":\"SaveTool\"},{\"attributes\":{\"fill_alpha\":{\"field\":\"fill_alpha\"},\"fill_color\":{\"field\":\"color\"},\"height\":{\"field\":\"height\",\"units\":\"data\"},\"line_color\":{\"field\":\"line_color\"},\"width\":{\"field\":\"width\",\"units\":\"data\"},\"x\":{\"field\":\"x\"},\"y\":{\"field\":\"y\"}},\"id\":\"8975c039-5886-4523-a9fd-d4d74fe1189d\",\"type\":\"Rect\"},{\"attributes\":{\"callback\":null,\"column_names\":[\"line_color\",\"line_alpha\",\"color\",\"fill_alpha\",\"height\",\"width\",\"y\",\"x\",\"label\"],\"data\":{\"Named\":[\"Named\"],\"OutcomeType\":[\"Died\"],\"chart_index\":[{\"Named\":\"Named\",\"OutcomeType\":\"Died\"}],\"color\":[\"#f22c40\"],\"fill_alpha\":[0.8],\"height\":[77.0],\"label\":[{\"Named\":\"Named\",\"OutcomeType\":\"Died\"}],\"line_alpha\":[1.0],\"line_color\":[\"white\"],\"width\":[0.8],\"x\":[\"Died\"],\"y\":[38.5]}},\"id\":\"97f8aced-d490-49e8-852f-abeb5f5787d4\",\"type\":\"ColumnDataSource\"},{\"attributes\":{\"below\":[{\"id\":\"00ca5fbf-a8a5-419d-b6c6-853a153318b4\",\"type\":\"CategoricalAxis\"}],\"css_classes\":null,\"left\":[{\"id\":\"60e4c8c0-27d3-4ab2-a492-fe3ddc1f932b\",\"type\":\"LinearAxis\"}],\"renderers\":[{\"id\":\"ae8990d6-b18f-415b-b07a-93c3603bb80c\",\"type\":\"BoxAnnotation\"},{\"id\":\"22cb234f-2801-4dd5-8d7c-d3e4b191ca49\",\"type\":\"GlyphRenderer\"},{\"id\":\"372b33fc-2b4a-440a-b558-9b064a7b1660\",\"type\":\"GlyphRenderer\"},{\"id\":\"e3751494-b7d6-476c-8665-387ea6194d44\",\"type\":\"GlyphRenderer\"},{\"id\":\"3d0c8cfc-e6fe-424b-be8c-064a4586877d\",\"type\":\"GlyphRenderer\"},{\"id\":\"8ea3fecd-603e-4008-aaf5-0d389ec47009\",\"type\":\"GlyphRenderer\"},{\"id\":\"350d85f6-25d3-4c5e-8ac0-61673d5fa85f\",\"type\":\"GlyphRenderer\"},{\"id\":\"20b4991e-ad12-492c-83ed-8fb8206b2e1f\",\"type\":\"GlyphRenderer\"},{\"id\":\"e6a79a53-2ada-4d4a-8fcf-bd13890471d0\",\"type\":\"GlyphRenderer\"},{\"id\":\"9e11d2a7-59ed-4dd6-b73a-327df51ff676\",\"type\":\"GlyphRenderer\"},{\"id\":\"bd43e15b-8742-44ac-b34b-5868cb677bd1\",\"type\":\"GlyphRenderer\"},{\"id\":\"31008ace-90ab-4f52-82cb-106b6ee8238c\",\"type\":\"Legend\"},{\"id\":\"00ca5fbf-a8a5-419d-b6c6-853a153318b4\",\"type\":\"CategoricalAxis\"},{\"id\":\"60e4c8c0-27d3-4ab2-a492-fe3ddc1f932b\",\"type\":\"LinearAxis\"},{\"id\":\"a90ec95d-4db4-4470-b30d-b1b398f47bca\",\"type\":\"Grid\"}],\"title\":{\"id\":\"9efad9d6-96b8-45ee-b760-b576d9b71f3e\",\"type\":\"Title\"},\"tool_events\":{\"id\":\"1f0572d5-4b3b-4c5d-84b5-83fbdcb51d55\",\"type\":\"ToolEvents\"},\"toolbar\":{\"id\":\"a326abeb-19a0-41cb-bae7-4c2eecdfab83\",\"type\":\"Toolbar\"},\"x_mapper_type\":\"auto\",\"x_range\":{\"id\":\"be6eac26-8569-4540-a58b-715b4527a65c\",\"type\":\"FactorRange\"},\"y_mapper_type\":\"auto\",\"y_range\":{\"id\":\"60d94ed6-0f9a-41be-914a-33c31bda1df1\",\"type\":\"Range1d\"}},\"id\":\"f99624f5-186a-4b6a-92cb-38cc4e5d5752\",\"subtype\":\"Chart\",\"type\":\"Plot\"},{\"attributes\":{\"fill_alpha\":{\"field\":\"fill_alpha\"},\"fill_color\":{\"field\":\"color\"},\"height\":{\"field\":\"height\",\"units\":\"data\"},\"line_color\":{\"field\":\"line_color\"},\"width\":{\"field\":\"width\",\"units\":\"data\"},\"x\":{\"field\":\"x\"},\"y\":{\"field\":\"y\"}},\"id\":\"1a8a2bd5-c3a7-40f4-a91b-c9eb05cf21af\",\"type\":\"Rect\"},{\"attributes\":{\"fill_alpha\":{\"field\":\"fill_alpha\"},\"fill_color\":{\"field\":\"color\"},\"height\":{\"field\":\"height\",\"units\":\"data\"},\"line_color\":{\"field\":\"line_color\"},\"width\":{\"field\":\"width\",\"units\":\"data\"},\"x\":{\"field\":\"x\"},\"y\":{\"field\":\"y\"}},\"id\":\"1c5d31d0-7b8b-44b1-8191-ec1730c09e12\",\"type\":\"Rect\"},{\"attributes\":{\"data_source\":{\"id\":\"717d02e2-96fa-4a4c-9ae1-b0c2b6858146\",\"type\":\"ColumnDataSource\"},\"glyph\":{\"id\":\"1a8a2bd5-c3a7-40f4-a91b-c9eb05cf21af\",\"type\":\"Rect\"},\"hover_glyph\":null,\"muted_glyph\":null},\"id\":\"3d0c8cfc-e6fe-424b-be8c-064a4586877d\",\"type\":\"GlyphRenderer\"},{\"attributes\":{\"bottom_units\":\"screen\",\"fill_alpha\":{\"value\":0.5},\"fill_color\":{\"value\":\"lightgrey\"},\"left_units\":\"screen\",\"level\":\"overlay\",\"line_alpha\":{\"value\":1.0},\"line_color\":{\"value\":\"black\"},\"line_dash\":[4,4],\"line_width\":{\"value\":2},\"plot\":null,\"render_mode\":\"css\",\"right_units\":\"screen\",\"top_units\":\"screen\"},\"id\":\"ae8990d6-b18f-415b-b07a-93c3603bb80c\",\"type\":\"BoxAnnotation\"},{\"attributes\":{\"items\":[{\"id\":\"a2eb9626-bacd-44ad-b471-a236efa12e45\",\"type\":\"LegendItem\"},{\"id\":\"272d9a00-36dd-4f19-b6f0-5d1bdf81eeb6\",\"type\":\"LegendItem\"}],\"plot\":{\"id\":\"f99624f5-186a-4b6a-92cb-38cc4e5d5752\",\"subtype\":\"Chart\",\"type\":\"Plot\"}},\"id\":\"31008ace-90ab-4f52-82cb-106b6ee8238c\",\"type\":\"Legend\"},{\"attributes\":{\"callback\":null,\"column_names\":[\"line_color\",\"line_alpha\",\"color\",\"fill_alpha\",\"height\",\"width\",\"y\",\"x\",\"label\"],\"data\":{\"Named\":[\"Named\"],\"OutcomeType\":[\"Transfer\"],\"chart_index\":[{\"Named\":\"Named\",\"OutcomeType\":\"Transfer\"}],\"color\":[\"#f22c40\"],\"fill_alpha\":[0.8],\"height\":[4497.0],\"label\":[{\"Named\":\"Named\",\"OutcomeType\":\"Transfer\"}],\"line_alpha\":[1.0],\"line_color\":[\"white\"],\"width\":[0.8],\"x\":[\"Transfer\"],\"y\":[7173.5]}},\"id\":\"ab4e8cb7-c8d4-423a-a225-559ddaa17ada\",\"type\":\"ColumnDataSource\"},{\"attributes\":{\"fill_alpha\":{\"field\":\"fill_alpha\"},\"fill_color\":{\"field\":\"color\"},\"height\":{\"field\":\"height\",\"units\":\"data\"},\"line_color\":{\"field\":\"line_color\"},\"width\":{\"field\":\"width\",\"units\":\"data\"},\"x\":{\"field\":\"x\"},\"y\":{\"field\":\"y\"}},\"id\":\"65c9c525-c556-46a1-bee3-9cf4e1e37291\",\"type\":\"Rect\"},{\"attributes\":{},\"id\":\"3e41a28b-fc94-4d56-b003-b66f6b167198\",\"type\":\"CategoricalTicker\"},{\"attributes\":{\"callback\":null,\"end\":11307.45},\"id\":\"60d94ed6-0f9a-41be-914a-33c31bda1df1\",\"type\":\"Range1d\"},{\"attributes\":{\"data_source\":{\"id\":\"44bd7e11-1bf6-4b97-9416-689a821be5c2\",\"type\":\"ColumnDataSource\"},\"glyph\":{\"id\":\"199e8656-7008-4ee5-9d62-f8a0029f2b09\",\"type\":\"Rect\"},\"hover_glyph\":null,\"muted_glyph\":null},\"id\":\"350d85f6-25d3-4c5e-8ac0-61673d5fa85f\",\"type\":\"GlyphRenderer\"},{\"attributes\":{\"dimension\":1,\"plot\":{\"id\":\"f99624f5-186a-4b6a-92cb-38cc4e5d5752\",\"subtype\":\"Chart\",\"type\":\"Plot\"},\"ticker\":{\"id\":\"eee281a5-5eb9-4fd2-92b2-75aeadc55498\",\"type\":\"BasicTicker\"}},\"id\":\"a90ec95d-4db4-4470-b30d-b1b398f47bca\",\"type\":\"Grid\"},{\"attributes\":{\"label\":{\"value\":\"Named\"},\"renderers\":[{\"id\":\"22cb234f-2801-4dd5-8d7c-d3e4b191ca49\",\"type\":\"GlyphRenderer\"}]},\"id\":\"a2eb9626-bacd-44ad-b471-a236efa12e45\",\"type\":\"LegendItem\"},{\"attributes\":{\"plot\":{\"id\":\"f99624f5-186a-4b6a-92cb-38cc4e5d5752\",\"subtype\":\"Chart\",\"type\":\"Plot\"}},\"id\":\"f247279a-c9b5-48c2-9a67-dcf9876b89fd\",\"type\":\"ResetTool\"},{\"attributes\":{\"plot\":null,\"text\":\"Outcomes by Name Status\"},\"id\":\"9efad9d6-96b8-45ee-b760-b576d9b71f3e\",\"type\":\"Title\"},{\"attributes\":{\"axis_label\":\"Count( Named )\",\"formatter\":{\"id\":\"120a6bcf-8ce1-4ffd-ac3d-b82a364c91fe\",\"type\":\"BasicTickFormatter\"},\"plot\":{\"id\":\"f99624f5-186a-4b6a-92cb-38cc4e5d5752\",\"subtype\":\"Chart\",\"type\":\"Plot\"},\"ticker\":{\"id\":\"eee281a5-5eb9-4fd2-92b2-75aeadc55498\",\"type\":\"BasicTicker\"}},\"id\":\"60e4c8c0-27d3-4ab2-a492-fe3ddc1f932b\",\"type\":\"LinearAxis\"},{\"attributes\":{\"data_source\":{\"id\":\"af3f2f88-671a-4a30-9ca9-73d424bc60a1\",\"type\":\"ColumnDataSource\"},\"glyph\":{\"id\":\"f0594c43-eb61-4a7f-878f-d7b8e5183a8a\",\"type\":\"Rect\"},\"hover_glyph\":null,\"muted_glyph\":null},\"id\":\"20b4991e-ad12-492c-83ed-8fb8206b2e1f\",\"type\":\"GlyphRenderer\"},{\"attributes\":{\"data_source\":{\"id\":\"511a4ea2-53a4-4cb6-ba62-b056718a68af\",\"type\":\"ColumnDataSource\"},\"glyph\":{\"id\":\"65c9c525-c556-46a1-bee3-9cf4e1e37291\",\"type\":\"Rect\"},\"hover_glyph\":null,\"muted_glyph\":null},\"id\":\"e6a79a53-2ada-4d4a-8fcf-bd13890471d0\",\"type\":\"GlyphRenderer\"},{\"attributes\":{\"callback\":null,\"column_names\":[\"line_color\",\"line_alpha\",\"color\",\"fill_alpha\",\"height\",\"width\",\"y\",\"x\",\"label\"],\"data\":{\"Named\":[\"Named\"],\"OutcomeType\":[\"Euthanasia\"],\"chart_index\":[{\"Named\":\"Named\",\"OutcomeType\":\"Euthanasia\"}],\"color\":[\"#f22c40\"],\"fill_alpha\":[0.8],\"height\":[740.0],\"label\":[{\"Named\":\"Named\",\"OutcomeType\":\"Euthanasia\"}],\"line_alpha\":[1.0],\"line_color\":[\"white\"],\"width\":[0.8],\"x\":[\"Euthanasia\"],\"y\":[370.0]}},\"id\":\"28372feb-a023-4628-80c7-300a1445342c\",\"type\":\"ColumnDataSource\"},{\"attributes\":{\"plot\":{\"id\":\"f99624f5-186a-4b6a-92cb-38cc4e5d5752\",\"subtype\":\"Chart\",\"type\":\"Plot\"}},\"id\":\"443c3c62-bcf7-4dff-9173-503360c70af3\",\"type\":\"WheelZoomTool\"},{\"attributes\":{\"data_source\":{\"id\":\"129a42ae-73c6-4eec-9137-581ee92a5c3f\",\"type\":\"ColumnDataSource\"},\"glyph\":{\"id\":\"b7c4b09e-7619-430f-aa49-2fba4c5e9591\",\"type\":\"Rect\"},\"hover_glyph\":null,\"muted_glyph\":null},\"id\":\"22cb234f-2801-4dd5-8d7c-d3e4b191ca49\",\"type\":\"GlyphRenderer\"}],\"root_ids\":[\"f99624f5-186a-4b6a-92cb-38cc4e5d5752\"]},\"title\":\"Bokeh Application\",\"version\":\"0.12.5\"}};\n",
       "            var render_items = [{\"docid\":\"7a877712-1ec6-4ef8-b985-14fe56ff1017\",\"elementid\":\"64b50e17-b294-4a7e-a312-b37fda4d8b01\",\"modelid\":\"f99624f5-186a-4b6a-92cb-38cc4e5d5752\"}];\n",
       "            \n",
       "            Bokeh.embed.embed_items(docs_json, render_items);\n",
       "          };\n",
       "          if (document.readyState != \"loading\") fn();\n",
       "          else document.addEventListener(\"DOMContentLoaded\", fn);\n",
       "        })();\n",
       "      },\n",
       "      function(Bokeh) {\n",
       "      }\n",
       "    ];\n",
       "  \n",
       "    function run_inline_js() {\n",
       "      \n",
       "      if ((window.Bokeh !== undefined) || (force === true)) {\n",
       "        for (var i = 0; i < inline_js.length; i++) {\n",
       "          inline_js[i](window.Bokeh);\n",
       "        }if (force === true) {\n",
       "          display_loaded();\n",
       "        }} else if (Date.now() < window._bokeh_timeout) {\n",
       "        setTimeout(run_inline_js, 100);\n",
       "      } else if (!window._bokeh_failed_load) {\n",
       "        console.log(\"Bokeh: BokehJS failed to load within specified timeout.\");\n",
       "        window._bokeh_failed_load = true;\n",
       "      } else if (force !== true) {\n",
       "        var cell = $(document.getElementById(\"64b50e17-b294-4a7e-a312-b37fda4d8b01\")).parents('.cell').data().cell;\n",
       "        cell.output_area.append_execute_result(NB_LOAD_WARNING)\n",
       "      }\n",
       "  \n",
       "    }\n",
       "  \n",
       "    if (window._bokeh_is_loading === 0) {\n",
       "      console.log(\"Bokeh: BokehJS loaded, going straight to plotting\");\n",
       "      run_inline_js();\n",
       "    } else {\n",
       "      load_libs(js_urls, function() {\n",
       "        console.log(\"Bokeh: BokehJS plotting callback run at\", now());\n",
       "        run_inline_js();\n",
       "      });\n",
       "    }\n",
       "  }(this));\n",
       "</script>"
      ]
     },
     "metadata": {},
     "output_type": "display_data"
    }
   ],
   "source": [
    "p = Bar(data, label='OutcomeType', values = 'Named', agg='count', stack='Named',\n",
    "        title=\"Outcomes by Name Status\", legend='top_right')\n",
    "show(p)"
   ]
  },
  {
   "cell_type": "code",
   "execution_count": 15,
   "metadata": {
    "scrolled": true
   },
   "outputs": [
    {
     "name": "stdout",
     "output_type": "stream",
     "text": [
      "('Unique Breeds', 1143)\n"
     ]
    }
   ],
   "source": [
    "OrderedBreed = data.OrderedBreed.unique()\n",
    "print(\"Unique Breeds\" , (data.OrderedBreed.value_counts() > 0).sum())"
   ]
  },
  {
   "cell_type": "markdown",
   "metadata": {},
   "source": [
    "### Correlations"
   ]
  },
  {
   "cell_type": "code",
   "execution_count": 16,
   "metadata": {},
   "outputs": [
    {
     "data": {
      "image/png": "[encoded data removed]",
      "text/plain": [
       "<matplotlib.figure.Figure at 0x11dfee950>"
      ]
     },
     "metadata": {},
     "output_type": "display_data"
    }
   ],
   "source": [
    "#Plot visualized correlation matrix\n",
    "def plot_corr(data,size=20):\n",
    "    corr = data.corr()\n",
    "    fig, ax = plt.subplots(figsize=(25, 25))\n",
    "    cax = ax.matshow(corr)\n",
    "    fig.colorbar(cax)\n",
    "    plt.xticks(range(len(corr.columns)), corr.columns,rotation='vertical');\n",
    "    plt.yticks(range(len(corr.columns)), corr.columns);\n",
    "    plt.show()\n",
    "plot_corr(data2)"
   ]
  },
  {
   "cell_type": "markdown",
   "metadata": {},
   "source": [
    "Some of the most interesting findings here:  \n",
    "- As we would expect, being spayed/neutered is moderately correlated with being named.\n",
    "- There is a weak positive correlation between being spayed/neutered and being a cat.\n",
    "- Between variables that aren't obviously or artificially related (like being a dog and being a pitbull), there are few relationships that could be characterized as more than moderately correlated."
   ]
  },
  {
   "cell_type": "markdown",
   "metadata": {},
   "source": [
    "#### Should dogs and cats be modeled separately?\n",
    "\n",
    "- It appears that although cats and dogs in this dataset are adopted or transferred at similar rates, dogs have a much higher rate of returning to owner, so it may be advisable to separate the models by animal type."
   ]
  },
  {
   "cell_type": "code",
   "execution_count": 17,
   "metadata": {
    "scrolled": false
   },
   "outputs": [
    {
     "data": {
      "text/html": [
       "\n",
       "\n",
       "    <div class=\"bk-root\">\n",
       "        <div class=\"bk-plotdiv\" id=\"b9ac5b05-f729-49d8-9a25-7467e1f878d9\"></div>\n",
       "    </div>\n",
       "<script type=\"text/javascript\">\n",
       "  \n",
       "  (function(global) {\n",
       "    function now() {\n",
       "      return new Date();\n",
       "    }\n",
       "  \n",
       "    var force = false;\n",
       "  \n",
       "    if (typeof (window._bokeh_onload_callbacks) === \"undefined\" || force === true) {\n",
       "      window._bokeh_onload_callbacks = [];\n",
       "      window._bokeh_is_loading = undefined;\n",
       "    }\n",
       "  \n",
       "  \n",
       "    \n",
       "    if (typeof (window._bokeh_timeout) === \"undefined\" || force === true) {\n",
       "      window._bokeh_timeout = Date.now() + 0;\n",
       "      window._bokeh_failed_load = false;\n",
       "    }\n",
       "  \n",
       "    var NB_LOAD_WARNING = {'data': {'text/html':\n",
       "       \"<div style='background-color: #fdd'>\\n\"+\n",
       "       \"<p>\\n\"+\n",
       "       \"BokehJS does not appear to have successfully loaded. If loading BokehJS from CDN, this \\n\"+\n",
       "       \"may be due to a slow or bad network connection. Possible fixes:\\n\"+\n",
       "       \"</p>\\n\"+\n",
       "       \"<ul>\\n\"+\n",
       "       \"<li>re-rerun `output_notebook()` to attempt to load from CDN again, or</li>\\n\"+\n",
       "       \"<li>use INLINE resources instead, as so:</li>\\n\"+\n",
       "       \"</ul>\\n\"+\n",
       "       \"<code>\\n\"+\n",
       "       \"from bokeh.resources import INLINE\\n\"+\n",
       "       \"output_notebook(resources=INLINE)\\n\"+\n",
       "       \"</code>\\n\"+\n",
       "       \"</div>\"}};\n",
       "  \n",
       "    function display_loaded() {\n",
       "      if (window.Bokeh !== undefined) {\n",
       "        var el = document.getElementById(\"b9ac5b05-f729-49d8-9a25-7467e1f878d9\");\n",
       "        el.textContent = \"BokehJS \" + Bokeh.version + \" successfully loaded.\";\n",
       "      } else if (Date.now() < window._bokeh_timeout) {\n",
       "        setTimeout(display_loaded, 100)\n",
       "      }\n",
       "    }\n",
       "  \n",
       "    function run_callbacks() {\n",
       "      window._bokeh_onload_callbacks.forEach(function(callback) { callback() });\n",
       "      delete window._bokeh_onload_callbacks\n",
       "      console.info(\"Bokeh: all callbacks have finished\");\n",
       "    }\n",
       "  \n",
       "    function load_libs(js_urls, callback) {\n",
       "      window._bokeh_onload_callbacks.push(callback);\n",
       "      if (window._bokeh_is_loading > 0) {\n",
       "        console.log(\"Bokeh: BokehJS is being loaded, scheduling callback at\", now());\n",
       "        return null;\n",
       "      }\n",
       "      if (js_urls == null || js_urls.length === 0) {\n",
       "        run_callbacks();\n",
       "        return null;\n",
       "      }\n",
       "      console.log(\"Bokeh: BokehJS not loaded, scheduling load and callback at\", now());\n",
       "      window._bokeh_is_loading = js_urls.length;\n",
       "      for (var i = 0; i < js_urls.length; i++) {\n",
       "        var url = js_urls[i];\n",
       "        var s = document.createElement('script');\n",
       "        s.src = url;\n",
       "        s.async = false;\n",
       "        s.onreadystatechange = s.onload = function() {\n",
       "          window._bokeh_is_loading--;\n",
       "          if (window._bokeh_is_loading === 0) {\n",
       "            console.log(\"Bokeh: all BokehJS libraries loaded\");\n",
       "            run_callbacks()\n",
       "          }\n",
       "        };\n",
       "        s.onerror = function() {\n",
       "          console.warn(\"failed to load library \" + url);\n",
       "        };\n",
       "        console.log(\"Bokeh: injecting script tag for BokehJS library: \", url);\n",
       "        document.getElementsByTagName(\"head\")[0].appendChild(s);\n",
       "      }\n",
       "    };var element = document.getElementById(\"b9ac5b05-f729-49d8-9a25-7467e1f878d9\");\n",
       "    if (element == null) {\n",
       "      console.log(\"Bokeh: ERROR: autoload.js configured with elementid 'b9ac5b05-f729-49d8-9a25-7467e1f878d9' but no matching script tag was found. \")\n",
       "      return false;\n",
       "    }\n",
       "  \n",
       "    var js_urls = [];\n",
       "  \n",
       "    var inline_js = [\n",
       "      function(Bokeh) {\n",
       "        (function() {\n",
       "          var fn = function() {\n",
       "            var docs_json = {\"01f53d61-e2c5-44ac-b464-2ec85a8bb38d\":{\"roots\":{\"references\":[{\"attributes\":{\"callback\":null,\"column_names\":[\"line_color\",\"line_alpha\",\"color\",\"fill_alpha\",\"height\",\"width\",\"y\",\"x\",\"label\"],\"data\":{\"AnimalType\":[\"Dog\"],\"OutcomeType\":[\"Return_to_owner\"],\"chart_index\":[{\"AnimalType\":\"Dog\",\"OutcomeType\":\"Return_to_owner\"}],\"color\":[\"#5ab738\"],\"fill_alpha\":[0.8],\"height\":[4286.0],\"label\":[{\"AnimalType\":\"Dog\",\"OutcomeType\":\"Return_to_owner\"}],\"line_alpha\":[1.0],\"line_color\":[\"white\"],\"width\":[0.8],\"x\":[\"Return_to_owner\"],\"y\":[2143.0]}},\"id\":\"cbf875d8-a6c0-47b1-b602-17970343158e\",\"type\":\"ColumnDataSource\"},{\"attributes\":{\"fill_alpha\":{\"field\":\"fill_alpha\"},\"fill_color\":{\"field\":\"color\"},\"height\":{\"field\":\"height\",\"units\":\"data\"},\"line_color\":{\"field\":\"line_color\"},\"width\":{\"field\":\"width\",\"units\":\"data\"},\"x\":{\"field\":\"x\"},\"y\":{\"field\":\"y\"}},\"id\":\"f49d503d-982f-4254-9f46-1fc8396db700\",\"type\":\"Rect\"},{\"attributes\":{\"fill_alpha\":{\"field\":\"fill_alpha\"},\"fill_color\":{\"field\":\"color\"},\"height\":{\"field\":\"height\",\"units\":\"data\"},\"line_color\":{\"field\":\"line_color\"},\"width\":{\"field\":\"width\",\"units\":\"data\"},\"x\":{\"field\":\"x\"},\"y\":{\"field\":\"y\"}},\"id\":\"4ff475e7-5b7b-4288-a136-532dd449b17e\",\"type\":\"Rect\"},{\"attributes\":{\"callback\":null,\"column_names\":[\"line_color\",\"line_alpha\",\"color\",\"fill_alpha\",\"height\",\"width\",\"y\",\"x\",\"label\"],\"data\":{\"AnimalType\":[\"Dog\"],\"OutcomeType\":[\"Died\"],\"chart_index\":[{\"AnimalType\":\"Dog\",\"OutcomeType\":\"Died\"}],\"color\":[\"#5ab738\"],\"fill_alpha\":[0.8],\"height\":[50.0],\"label\":[{\"AnimalType\":\"Dog\",\"OutcomeType\":\"Died\"}],\"line_alpha\":[1.0],\"line_color\":[\"white\"],\"width\":[0.8],\"x\":[\"Died\"],\"y\":[172.0]}},\"id\":\"86d9fc9f-7c5e-4353-8ba5-906c29436d79\",\"type\":\"ColumnDataSource\"},{\"attributes\":{\"data_source\":{\"id\":\"3395a55f-c825-4dd9-9594-cff6cc528992\",\"type\":\"ColumnDataSource\"},\"glyph\":{\"id\":\"c6327caf-e31d-40b3-972e-df466a64e309\",\"type\":\"Rect\"},\"hover_glyph\":null,\"muted_glyph\":null},\"id\":\"f2444d8f-e763-4603-b8ae-cfdb58678460\",\"type\":\"GlyphRenderer\"},{\"attributes\":{\"fill_alpha\":{\"field\":\"fill_alpha\"},\"fill_color\":{\"field\":\"color\"},\"height\":{\"field\":\"height\",\"units\":\"data\"},\"line_color\":{\"field\":\"line_color\"},\"width\":{\"field\":\"width\",\"units\":\"data\"},\"x\":{\"field\":\"x\"},\"y\":{\"field\":\"y\"}},\"id\":\"2751d218-26b2-4ccf-a782-16b5e43db19b\",\"type\":\"Rect\"},{\"attributes\":{\"callback\":null,\"column_names\":[\"line_color\",\"line_alpha\",\"color\",\"fill_alpha\",\"height\",\"width\",\"y\",\"x\",\"label\"],\"data\":{\"AnimalType\":[\"Dog\"],\"OutcomeType\":[\"Transfer\"],\"chart_index\":[{\"AnimalType\":\"Dog\",\"OutcomeType\":\"Transfer\"}],\"color\":[\"#5ab738\"],\"fill_alpha\":[0.8],\"height\":[3917.0],\"label\":[{\"AnimalType\":\"Dog\",\"OutcomeType\":\"Transfer\"}],\"line_alpha\":[1.0],\"line_color\":[\"white\"],\"width\":[0.8],\"x\":[\"Transfer\"],\"y\":[7463.5]}},\"id\":\"3395a55f-c825-4dd9-9594-cff6cc528992\",\"type\":\"ColumnDataSource\"},{\"attributes\":{\"plot\":null,\"text\":\"Outcomes by Animal Type\"},\"id\":\"131e976c-6b37-4bdd-b90d-f1106e552207\",\"type\":\"Title\"},{\"attributes\":{\"data_source\":{\"id\":\"206bd295-65fd-4e31-a2ac-0645ea701a12\",\"type\":\"ColumnDataSource\"},\"glyph\":{\"id\":\"e13fbd2d-b293-4210-a2df-6da700f4cc71\",\"type\":\"Rect\"},\"hover_glyph\":null,\"muted_glyph\":null},\"id\":\"eaacefc5-6256-48f4-a3ca-3ac1042019ad\",\"type\":\"GlyphRenderer\"},{\"attributes\":{\"data_source\":{\"id\":\"6033edc3-6d5f-47c7-857d-c196697182ce\",\"type\":\"ColumnDataSource\"},\"glyph\":{\"id\":\"4ff475e7-5b7b-4288-a136-532dd449b17e\",\"type\":\"Rect\"},\"hover_glyph\":null,\"muted_glyph\":null},\"id\":\"1404a5cb-27df-4822-9214-11a922ed0d48\",\"type\":\"GlyphRenderer\"},{\"attributes\":{\"plot\":{\"id\":\"cd91ebd8-bc9b-4428-b812-7947c6265b46\",\"subtype\":\"Chart\",\"type\":\"Plot\"}},\"id\":\"f6dda661-e359-40d1-8571-2bb65fbd510d\",\"type\":\"ResetTool\"},{\"attributes\":{\"overlay\":{\"id\":\"e3117e39-aece-4851-8289-d0072806eb73\",\"type\":\"BoxAnnotation\"},\"plot\":{\"id\":\"cd91ebd8-bc9b-4428-b812-7947c6265b46\",\"subtype\":\"Chart\",\"type\":\"Plot\"}},\"id\":\"ddd25d38-5813-4eb0-8800-b1107ad8202c\",\"type\":\"BoxZoomTool\"},{\"attributes\":{\"axis_label\":\"Count( Animaltype )\",\"formatter\":{\"id\":\"d6dcdc0a-e546-44c5-9b4b-95fbc0dacffa\",\"type\":\"BasicTickFormatter\"},\"plot\":{\"id\":\"cd91ebd8-bc9b-4428-b812-7947c6265b46\",\"subtype\":\"Chart\",\"type\":\"Plot\"},\"ticker\":{\"id\":\"7e2c6dd6-4e86-4c86-8ed6-7b2044f9520d\",\"type\":\"BasicTicker\"}},\"id\":\"30b3e040-4014-409d-b3af-4714df44adfe\",\"type\":\"LinearAxis\"},{\"attributes\":{\"plot\":{\"id\":\"cd91ebd8-bc9b-4428-b812-7947c6265b46\",\"subtype\":\"Chart\",\"type\":\"Plot\"}},\"id\":\"28ed10e6-da4b-4d23-9f42-cdbfa2bc544e\",\"type\":\"HelpTool\"},{\"attributes\":{\"data_source\":{\"id\":\"86d9fc9f-7c5e-4353-8ba5-906c29436d79\",\"type\":\"ColumnDataSource\"},\"glyph\":{\"id\":\"592f2c3b-f96e-48e9-8fec-28a25905e73c\",\"type\":\"Rect\"},\"hover_glyph\":null,\"muted_glyph\":null},\"id\":\"544e6455-1d5f-42d3-b4f6-15d5b2ead412\",\"type\":\"GlyphRenderer\"},{\"attributes\":{\"plot\":{\"id\":\"cd91ebd8-bc9b-4428-b812-7947c6265b46\",\"subtype\":\"Chart\",\"type\":\"Plot\"}},\"id\":\"9dbff06a-a691-4205-aab3-63f9dde2178b\",\"type\":\"WheelZoomTool\"},{\"attributes\":{\"axis_label\":\"Outcometype\",\"formatter\":{\"id\":\"78a00772-3091-4b75-8084-87675e38a3bd\",\"type\":\"CategoricalTickFormatter\"},\"major_label_orientation\":0.7853981633974483,\"plot\":{\"id\":\"cd91ebd8-bc9b-4428-b812-7947c6265b46\",\"subtype\":\"Chart\",\"type\":\"Plot\"},\"ticker\":{\"id\":\"f484c0c4-432f-432b-b36c-b0b14139bc7c\",\"type\":\"CategoricalTicker\"}},\"id\":\"a670a1b7-03d4-45bb-80f5-9ac649dfc08c\",\"type\":\"CategoricalAxis\"},{\"attributes\":{\"bottom_units\":\"screen\",\"fill_alpha\":{\"value\":0.5},\"fill_color\":{\"value\":\"lightgrey\"},\"left_units\":\"screen\",\"level\":\"overlay\",\"line_alpha\":{\"value\":1.0},\"line_color\":{\"value\":\"black\"},\"line_dash\":[4,4],\"line_width\":{\"value\":2},\"plot\":null,\"render_mode\":\"css\",\"right_units\":\"screen\",\"top_units\":\"screen\"},\"id\":\"e3117e39-aece-4851-8289-d0072806eb73\",\"type\":\"BoxAnnotation\"},{\"attributes\":{\"callback\":null,\"column_names\":[\"line_color\",\"line_alpha\",\"color\",\"fill_alpha\",\"height\",\"width\",\"y\",\"x\",\"label\"],\"data\":{\"AnimalType\":[\"Dog\"],\"OutcomeType\":[\"Adoption\"],\"chart_index\":[{\"AnimalType\":\"Dog\",\"OutcomeType\":\"Adoption\"}],\"color\":[\"#5ab738\"],\"fill_alpha\":[0.8],\"height\":[6497.0],\"label\":[{\"AnimalType\":\"Dog\",\"OutcomeType\":\"Adoption\"}],\"line_alpha\":[1.0],\"line_color\":[\"white\"],\"width\":[0.8],\"x\":[\"Adoption\"],\"y\":[3248.5]}},\"id\":\"206bd295-65fd-4e31-a2ac-0645ea701a12\",\"type\":\"ColumnDataSource\"},{\"attributes\":{},\"id\":\"d6dcdc0a-e546-44c5-9b4b-95fbc0dacffa\",\"type\":\"BasicTickFormatter\"},{\"attributes\":{\"fill_alpha\":{\"field\":\"fill_alpha\"},\"fill_color\":{\"field\":\"color\"},\"height\":{\"field\":\"height\",\"units\":\"data\"},\"line_color\":{\"field\":\"line_color\"},\"width\":{\"field\":\"width\",\"units\":\"data\"},\"x\":{\"field\":\"x\"},\"y\":{\"field\":\"y\"}},\"id\":\"592f2c3b-f96e-48e9-8fec-28a25905e73c\",\"type\":\"Rect\"},{\"attributes\":{\"fill_alpha\":{\"field\":\"fill_alpha\"},\"fill_color\":{\"field\":\"color\"},\"height\":{\"field\":\"height\",\"units\":\"data\"},\"line_color\":{\"field\":\"line_color\"},\"width\":{\"field\":\"width\",\"units\":\"data\"},\"x\":{\"field\":\"x\"},\"y\":{\"field\":\"y\"}},\"id\":\"e13fbd2d-b293-4210-a2df-6da700f4cc71\",\"type\":\"Rect\"},{\"attributes\":{\"data_source\":{\"id\":\"cbf875d8-a6c0-47b1-b602-17970343158e\",\"type\":\"ColumnDataSource\"},\"glyph\":{\"id\":\"723c9998-9dfd-4cc7-a100-dded9e039c17\",\"type\":\"Rect\"},\"hover_glyph\":null,\"muted_glyph\":null},\"id\":\"019bc739-c0d4-42c1-b05b-ec8f68002495\",\"type\":\"GlyphRenderer\"},{\"attributes\":{\"fill_alpha\":{\"field\":\"fill_alpha\"},\"fill_color\":{\"field\":\"color\"},\"height\":{\"field\":\"height\",\"units\":\"data\"},\"line_color\":{\"field\":\"line_color\"},\"width\":{\"field\":\"width\",\"units\":\"data\"},\"x\":{\"field\":\"x\"},\"y\":{\"field\":\"y\"}},\"id\":\"02541692-dab7-44df-9a9a-5509efa3c624\",\"type\":\"Rect\"},{\"attributes\":{\"data_source\":{\"id\":\"40f1a5e0-c714-49fe-8bb3-29d49c709851\",\"type\":\"ColumnDataSource\"},\"glyph\":{\"id\":\"8f6232c3-1522-4f4e-956a-4f0bc2852789\",\"type\":\"Rect\"},\"hover_glyph\":null,\"muted_glyph\":null},\"id\":\"a5095220-c060-4e80-b53d-857afc72c23b\",\"type\":\"GlyphRenderer\"},{\"attributes\":{\"items\":[{\"id\":\"4bfe49b0-1b4b-4c45-8e50-53eb3b01c8ea\",\"type\":\"LegendItem\"},{\"id\":\"f0526544-fafb-47c1-b6b2-4f3ab95db0e7\",\"type\":\"LegendItem\"}],\"plot\":{\"id\":\"cd91ebd8-bc9b-4428-b812-7947c6265b46\",\"subtype\":\"Chart\",\"type\":\"Plot\"}},\"id\":\"e0cb9c96-09c8-4b87-b4e5-538dbe440ea2\",\"type\":\"Legend\"},{\"attributes\":{\"data_source\":{\"id\":\"b20c35c8-daae-4b1a-aafe-430df2fd3a4c\",\"type\":\"ColumnDataSource\"},\"glyph\":{\"id\":\"66556744-f1e4-4b8f-b2fd-e4beee9c3a77\",\"type\":\"Rect\"},\"hover_glyph\":null,\"muted_glyph\":null},\"id\":\"ca241fab-2b1e-482e-90f3-5dff7e0542ee\",\"type\":\"GlyphRenderer\"},{\"attributes\":{},\"id\":\"f484c0c4-432f-432b-b36c-b0b14139bc7c\",\"type\":\"CategoricalTicker\"},{\"attributes\":{\"data_source\":{\"id\":\"3c92842e-9d63-461c-92b1-a745c6ed0cef\",\"type\":\"ColumnDataSource\"},\"glyph\":{\"id\":\"f49d503d-982f-4254-9f46-1fc8396db700\",\"type\":\"Rect\"},\"hover_glyph\":null,\"muted_glyph\":null},\"id\":\"207e1d7f-7561-4189-9033-27a157ee1084\",\"type\":\"GlyphRenderer\"},{\"attributes\":{\"active_drag\":\"auto\",\"active_scroll\":\"auto\",\"active_tap\":\"auto\",\"tools\":[{\"id\":\"6f7ad440-b46b-49b9-a79a-334a4c358397\",\"type\":\"PanTool\"},{\"id\":\"9dbff06a-a691-4205-aab3-63f9dde2178b\",\"type\":\"WheelZoomTool\"},{\"id\":\"ddd25d38-5813-4eb0-8800-b1107ad8202c\",\"type\":\"BoxZoomTool\"},{\"id\":\"8db980d9-fc66-4098-a56d-888dc829cad0\",\"type\":\"SaveTool\"},{\"id\":\"f6dda661-e359-40d1-8571-2bb65fbd510d\",\"type\":\"ResetTool\"},{\"id\":\"28ed10e6-da4b-4d23-9f42-cdbfa2bc544e\",\"type\":\"HelpTool\"}]},\"id\":\"0a3fed54-8996-4356-88e8-62e3ac45e330\",\"type\":\"Toolbar\"},{\"attributes\":{\"callback\":null,\"end\":11307.45},\"id\":\"99430559-7ff7-49a9-acdf-7d045acffcab\",\"type\":\"Range1d\"},{\"attributes\":{\"dimension\":1,\"plot\":{\"id\":\"cd91ebd8-bc9b-4428-b812-7947c6265b46\",\"subtype\":\"Chart\",\"type\":\"Plot\"},\"ticker\":{\"id\":\"7e2c6dd6-4e86-4c86-8ed6-7b2044f9520d\",\"type\":\"BasicTicker\"}},\"id\":\"1f07937c-4e55-4869-9507-c75444e65623\",\"type\":\"Grid\"},{\"attributes\":{\"callback\":null,\"column_names\":[\"line_color\",\"line_alpha\",\"color\",\"fill_alpha\",\"height\",\"width\",\"y\",\"x\",\"label\"],\"data\":{\"AnimalType\":[\"Dog\"],\"OutcomeType\":[\"Euthanasia\"],\"chart_index\":[{\"AnimalType\":\"Dog\",\"OutcomeType\":\"Euthanasia\"}],\"color\":[\"#5ab738\"],\"fill_alpha\":[0.8],\"height\":[845.0],\"label\":[{\"AnimalType\":\"Dog\",\"OutcomeType\":\"Euthanasia\"}],\"line_alpha\":[1.0],\"line_color\":[\"white\"],\"width\":[0.8],\"x\":[\"Euthanasia\"],\"y\":[1132.5]}},\"id\":\"b20c35c8-daae-4b1a-aafe-430df2fd3a4c\",\"type\":\"ColumnDataSource\"},{\"attributes\":{\"fill_alpha\":{\"field\":\"fill_alpha\"},\"fill_color\":{\"field\":\"color\"},\"height\":{\"field\":\"height\",\"units\":\"data\"},\"line_color\":{\"field\":\"line_color\"},\"width\":{\"field\":\"width\",\"units\":\"data\"},\"x\":{\"field\":\"x\"},\"y\":{\"field\":\"y\"}},\"id\":\"723c9998-9dfd-4cc7-a100-dded9e039c17\",\"type\":\"Rect\"},{\"attributes\":{\"data_source\":{\"id\":\"82638884-703e-4116-9939-4a3c3650be8c\",\"type\":\"ColumnDataSource\"},\"glyph\":{\"id\":\"02541692-dab7-44df-9a9a-5509efa3c624\",\"type\":\"Rect\"},\"hover_glyph\":null,\"muted_glyph\":null},\"id\":\"126b3e4c-83e4-4c89-b847-fe9f8bf47aec\",\"type\":\"GlyphRenderer\"},{\"attributes\":{\"data_source\":{\"id\":\"297c98ca-59ea-4436-85fe-4cae1f587f11\",\"type\":\"ColumnDataSource\"},\"glyph\":{\"id\":\"2751d218-26b2-4ccf-a782-16b5e43db19b\",\"type\":\"Rect\"},\"hover_glyph\":null,\"muted_glyph\":null},\"id\":\"7c32038c-ef0a-4db0-8307-e6f92b439d38\",\"type\":\"GlyphRenderer\"},{\"attributes\":{\"callback\":null,\"column_names\":[\"line_color\",\"line_alpha\",\"color\",\"fill_alpha\",\"height\",\"width\",\"y\",\"x\",\"label\"],\"data\":{\"AnimalType\":[\"Cat\"],\"OutcomeType\":[\"Died\"],\"chart_index\":[{\"AnimalType\":\"Cat\",\"OutcomeType\":\"Died\"}],\"color\":[\"#f22c40\"],\"fill_alpha\":[0.8],\"height\":[147.0],\"label\":[{\"AnimalType\":\"Cat\",\"OutcomeType\":\"Died\"}],\"line_alpha\":[1.0],\"line_color\":[\"white\"],\"width\":[0.8],\"x\":[\"Died\"],\"y\":[73.5]}},\"id\":\"3c92842e-9d63-461c-92b1-a745c6ed0cef\",\"type\":\"ColumnDataSource\"},{\"attributes\":{},\"id\":\"7e2c6dd6-4e86-4c86-8ed6-7b2044f9520d\",\"type\":\"BasicTicker\"},{\"attributes\":{},\"id\":\"371d29c6-3be2-478a-b623-3bdbdc4fe601\",\"type\":\"ToolEvents\"},{\"attributes\":{\"fill_alpha\":{\"field\":\"fill_alpha\"},\"fill_color\":{\"field\":\"color\"},\"height\":{\"field\":\"height\",\"units\":\"data\"},\"line_color\":{\"field\":\"line_color\"},\"width\":{\"field\":\"width\",\"units\":\"data\"},\"x\":{\"field\":\"x\"},\"y\":{\"field\":\"y\"}},\"id\":\"66556744-f1e4-4b8f-b2fd-e4beee9c3a77\",\"type\":\"Rect\"},{\"attributes\":{},\"id\":\"78a00772-3091-4b75-8084-87675e38a3bd\",\"type\":\"CategoricalTickFormatter\"},{\"attributes\":{\"plot\":{\"id\":\"cd91ebd8-bc9b-4428-b812-7947c6265b46\",\"subtype\":\"Chart\",\"type\":\"Plot\"}},\"id\":\"6f7ad440-b46b-49b9-a79a-334a4c358397\",\"type\":\"PanTool\"},{\"attributes\":{\"callback\":null,\"factors\":[\"Adoption\",\"Died\",\"Euthanasia\",\"Return_to_owner\",\"Transfer\"]},\"id\":\"27a7942f-6ee6-434f-8506-81acf8e926af\",\"type\":\"FactorRange\"},{\"attributes\":{\"callback\":null,\"column_names\":[\"line_color\",\"line_alpha\",\"color\",\"fill_alpha\",\"height\",\"width\",\"y\",\"x\",\"label\"],\"data\":{\"AnimalType\":[\"Cat\"],\"OutcomeType\":[\"Return_to_owner\"],\"chart_index\":[{\"AnimalType\":\"Cat\",\"OutcomeType\":\"Return_to_owner\"}],\"color\":[\"#f22c40\"],\"fill_alpha\":[0.8],\"height\":[500.0],\"label\":[{\"AnimalType\":\"Cat\",\"OutcomeType\":\"Return_to_owner\"}],\"line_alpha\":[1.0],\"line_color\":[\"white\"],\"width\":[0.8],\"x\":[\"Return_to_owner\"],\"y\":[4536.0]}},\"id\":\"6033edc3-6d5f-47c7-857d-c196697182ce\",\"type\":\"ColumnDataSource\"},{\"attributes\":{\"fill_alpha\":{\"field\":\"fill_alpha\"},\"fill_color\":{\"field\":\"color\"},\"height\":{\"field\":\"height\",\"units\":\"data\"},\"line_color\":{\"field\":\"line_color\"},\"width\":{\"field\":\"width\",\"units\":\"data\"},\"x\":{\"field\":\"x\"},\"y\":{\"field\":\"y\"}},\"id\":\"c6327caf-e31d-40b3-972e-df466a64e309\",\"type\":\"Rect\"},{\"attributes\":{\"label\":{\"value\":\"Dog\"},\"renderers\":[{\"id\":\"019bc739-c0d4-42c1-b05b-ec8f68002495\",\"type\":\"GlyphRenderer\"}]},\"id\":\"4bfe49b0-1b4b-4c45-8e50-53eb3b01c8ea\",\"type\":\"LegendItem\"},{\"attributes\":{\"plot\":{\"id\":\"cd91ebd8-bc9b-4428-b812-7947c6265b46\",\"subtype\":\"Chart\",\"type\":\"Plot\"}},\"id\":\"8db980d9-fc66-4098-a56d-888dc829cad0\",\"type\":\"SaveTool\"},{\"attributes\":{\"callback\":null,\"column_names\":[\"line_color\",\"line_alpha\",\"color\",\"fill_alpha\",\"height\",\"width\",\"y\",\"x\",\"label\"],\"data\":{\"AnimalType\":[\"Cat\"],\"OutcomeType\":[\"Euthanasia\"],\"chart_index\":[{\"AnimalType\":\"Cat\",\"OutcomeType\":\"Euthanasia\"}],\"color\":[\"#f22c40\"],\"fill_alpha\":[0.8],\"height\":[710.0],\"label\":[{\"AnimalType\":\"Cat\",\"OutcomeType\":\"Euthanasia\"}],\"line_alpha\":[1.0],\"line_color\":[\"white\"],\"width\":[0.8],\"x\":[\"Euthanasia\"],\"y\":[355.0]}},\"id\":\"297c98ca-59ea-4436-85fe-4cae1f587f11\",\"type\":\"ColumnDataSource\"},{\"attributes\":{\"below\":[{\"id\":\"a670a1b7-03d4-45bb-80f5-9ac649dfc08c\",\"type\":\"CategoricalAxis\"}],\"css_classes\":null,\"left\":[{\"id\":\"30b3e040-4014-409d-b3af-4714df44adfe\",\"type\":\"LinearAxis\"}],\"renderers\":[{\"id\":\"e3117e39-aece-4851-8289-d0072806eb73\",\"type\":\"BoxAnnotation\"},{\"id\":\"019bc739-c0d4-42c1-b05b-ec8f68002495\",\"type\":\"GlyphRenderer\"},{\"id\":\"7c32038c-ef0a-4db0-8307-e6f92b439d38\",\"type\":\"GlyphRenderer\"},{\"id\":\"eaacefc5-6256-48f4-a3ca-3ac1042019ad\",\"type\":\"GlyphRenderer\"},{\"id\":\"a5095220-c060-4e80-b53d-857afc72c23b\",\"type\":\"GlyphRenderer\"},{\"id\":\"f2444d8f-e763-4603-b8ae-cfdb58678460\",\"type\":\"GlyphRenderer\"},{\"id\":\"126b3e4c-83e4-4c89-b847-fe9f8bf47aec\",\"type\":\"GlyphRenderer\"},{\"id\":\"1404a5cb-27df-4822-9214-11a922ed0d48\",\"type\":\"GlyphRenderer\"},{\"id\":\"ca241fab-2b1e-482e-90f3-5dff7e0542ee\",\"type\":\"GlyphRenderer\"},{\"id\":\"207e1d7f-7561-4189-9033-27a157ee1084\",\"type\":\"GlyphRenderer\"},{\"id\":\"544e6455-1d5f-42d3-b4f6-15d5b2ead412\",\"type\":\"GlyphRenderer\"},{\"id\":\"e0cb9c96-09c8-4b87-b4e5-538dbe440ea2\",\"type\":\"Legend\"},{\"id\":\"a670a1b7-03d4-45bb-80f5-9ac649dfc08c\",\"type\":\"CategoricalAxis\"},{\"id\":\"30b3e040-4014-409d-b3af-4714df44adfe\",\"type\":\"LinearAxis\"},{\"id\":\"1f07937c-4e55-4869-9507-c75444e65623\",\"type\":\"Grid\"}],\"title\":{\"id\":\"131e976c-6b37-4bdd-b90d-f1106e552207\",\"type\":\"Title\"},\"tool_events\":{\"id\":\"371d29c6-3be2-478a-b623-3bdbdc4fe601\",\"type\":\"ToolEvents\"},\"toolbar\":{\"id\":\"0a3fed54-8996-4356-88e8-62e3ac45e330\",\"type\":\"Toolbar\"},\"x_mapper_type\":\"auto\",\"x_range\":{\"id\":\"27a7942f-6ee6-434f-8506-81acf8e926af\",\"type\":\"FactorRange\"},\"y_mapper_type\":\"auto\",\"y_range\":{\"id\":\"99430559-7ff7-49a9-acdf-7d045acffcab\",\"type\":\"Range1d\"}},\"id\":\"cd91ebd8-bc9b-4428-b812-7947c6265b46\",\"subtype\":\"Chart\",\"type\":\"Plot\"},{\"attributes\":{\"label\":{\"value\":\"Cat\"},\"renderers\":[{\"id\":\"7c32038c-ef0a-4db0-8307-e6f92b439d38\",\"type\":\"GlyphRenderer\"}]},\"id\":\"f0526544-fafb-47c1-b6b2-4f3ab95db0e7\",\"type\":\"LegendItem\"},{\"attributes\":{\"fill_alpha\":{\"field\":\"fill_alpha\"},\"fill_color\":{\"field\":\"color\"},\"height\":{\"field\":\"height\",\"units\":\"data\"},\"line_color\":{\"field\":\"line_color\"},\"width\":{\"field\":\"width\",\"units\":\"data\"},\"x\":{\"field\":\"x\"},\"y\":{\"field\":\"y\"}},\"id\":\"8f6232c3-1522-4f4e-956a-4f0bc2852789\",\"type\":\"Rect\"},{\"attributes\":{\"callback\":null,\"column_names\":[\"line_color\",\"line_alpha\",\"color\",\"fill_alpha\",\"height\",\"width\",\"y\",\"x\",\"label\"],\"data\":{\"AnimalType\":[\"Cat\"],\"OutcomeType\":[\"Transfer\"],\"chart_index\":[{\"AnimalType\":\"Cat\",\"OutcomeType\":\"Transfer\"}],\"color\":[\"#f22c40\"],\"fill_alpha\":[0.8],\"height\":[5505.0],\"label\":[{\"AnimalType\":\"Cat\",\"OutcomeType\":\"Transfer\"}],\"line_alpha\":[1.0],\"line_color\":[\"white\"],\"width\":[0.8],\"x\":[\"Transfer\"],\"y\":[2752.5]}},\"id\":\"40f1a5e0-c714-49fe-8bb3-29d49c709851\",\"type\":\"ColumnDataSource\"},{\"attributes\":{\"callback\":null,\"column_names\":[\"line_color\",\"line_alpha\",\"color\",\"fill_alpha\",\"height\",\"width\",\"y\",\"x\",\"label\"],\"data\":{\"AnimalType\":[\"Cat\"],\"OutcomeType\":[\"Adoption\"],\"chart_index\":[{\"AnimalType\":\"Cat\",\"OutcomeType\":\"Adoption\"}],\"color\":[\"#f22c40\"],\"fill_alpha\":[0.8],\"height\":[4272.0],\"label\":[{\"AnimalType\":\"Cat\",\"OutcomeType\":\"Adoption\"}],\"line_alpha\":[1.0],\"line_color\":[\"white\"],\"width\":[0.8],\"x\":[\"Adoption\"],\"y\":[8633.0]}},\"id\":\"82638884-703e-4116-9939-4a3c3650be8c\",\"type\":\"ColumnDataSource\"}],\"root_ids\":[\"cd91ebd8-bc9b-4428-b812-7947c6265b46\"]},\"title\":\"Bokeh Application\",\"version\":\"0.12.5\"}};\n",
       "            var render_items = [{\"docid\":\"01f53d61-e2c5-44ac-b464-2ec85a8bb38d\",\"elementid\":\"b9ac5b05-f729-49d8-9a25-7467e1f878d9\",\"modelid\":\"cd91ebd8-bc9b-4428-b812-7947c6265b46\"}];\n",
       "            \n",
       "            Bokeh.embed.embed_items(docs_json, render_items);\n",
       "          };\n",
       "          if (document.readyState != \"loading\") fn();\n",
       "          else document.addEventListener(\"DOMContentLoaded\", fn);\n",
       "        })();\n",
       "      },\n",
       "      function(Bokeh) {\n",
       "      }\n",
       "    ];\n",
       "  \n",
       "    function run_inline_js() {\n",
       "      \n",
       "      if ((window.Bokeh !== undefined) || (force === true)) {\n",
       "        for (var i = 0; i < inline_js.length; i++) {\n",
       "          inline_js[i](window.Bokeh);\n",
       "        }if (force === true) {\n",
       "          display_loaded();\n",
       "        }} else if (Date.now() < window._bokeh_timeout) {\n",
       "        setTimeout(run_inline_js, 100);\n",
       "      } else if (!window._bokeh_failed_load) {\n",
       "        console.log(\"Bokeh: BokehJS failed to load within specified timeout.\");\n",
       "        window._bokeh_failed_load = true;\n",
       "      } else if (force !== true) {\n",
       "        var cell = $(document.getElementById(\"b9ac5b05-f729-49d8-9a25-7467e1f878d9\")).parents('.cell').data().cell;\n",
       "        cell.output_area.append_execute_result(NB_LOAD_WARNING)\n",
       "      }\n",
       "  \n",
       "    }\n",
       "  \n",
       "    if (window._bokeh_is_loading === 0) {\n",
       "      console.log(\"Bokeh: BokehJS loaded, going straight to plotting\");\n",
       "      run_inline_js();\n",
       "    } else {\n",
       "      load_libs(js_urls, function() {\n",
       "        console.log(\"Bokeh: BokehJS plotting callback run at\", now());\n",
       "        run_inline_js();\n",
       "      });\n",
       "    }\n",
       "  }(this));\n",
       "</script>"
      ]
     },
     "metadata": {},
     "output_type": "display_data"
    }
   ],
   "source": [
    "#Animal types\n",
    "p = Bar(data, label='OutcomeType', values = 'AnimalType', agg='count', stack='AnimalType',\n",
    "        title=\"Outcomes by Animal Type\", legend='top_right')\n",
    "show(p)"
   ]
  },
  {
   "cell_type": "markdown",
   "metadata": {},
   "source": [
    "## Modeling\n"
   ]
  },
  {
   "cell_type": "markdown",
   "metadata": {
    "collapsed": true
   },
   "source": [
    "### Logistic Regression Exploration\n",
    "\n",
    "- With more than 26,000 cases, we have a more than adequate sample size for modeling.\n",
    "- By their nature, the classes within the dependent variable (OutcomeType) should be independent of one another.\n",
    "- Based on our correlation matrix, we should have no significant issues with multicollinearity."
   ]
  },
  {
   "cell_type": "markdown",
   "metadata": {},
   "source": [
    "#### Check Animal Type\n",
    "\n",
    "We'll start by checking how dogs and cats perform in separate models, also using GridSearch to determine the best regularization strength."
   ]
  },
  {
   "cell_type": "code",
   "execution_count": 18,
   "metadata": {
    "scrolled": false
   },
   "outputs": [
    {
     "name": "stdout",
     "output_type": "stream",
     "text": [
      "Logistic Regression: Dogs Only\n",
      "(11696, 17)\n",
      "<class 'pandas.core.series.Series'>\n",
      "{'C': [0.001, 0.01, 0.1, 0.25, 0.5, 0.75, 1.0, 1.25, 1.5, 1.75, 2.0, 5.0, 10.0]}\n",
      "Train data: Logistic Regression score at C=0.250: 0.561560\n",
      "\n",
      "\n",
      "Classification Report:\n",
      " \n",
      "                 precision    recall  f1-score   support\n",
      "\n",
      "       Adoption       0.57      0.88      0.69      1629\n",
      "           Died       0.00      0.00      0.00         9\n",
      "     Euthanasia       0.38      0.02      0.03       187\n",
      "Return_to_owner       0.53      0.34      0.42      1086\n",
      "       Transfer       0.62      0.41      0.50       988\n",
      "\n",
      "    avg / total       0.56      0.57      0.53      3899\n",
      "\n",
      "Dev data: Logistic Regression score at C=0.250: 0.532516\n",
      "Weights:\n",
      "['Adoption' 'Died' 'Euthanasia' 'Return_to_owner' 'Transfer']\n",
      "Adoption\n",
      "BreedRank -0.037\n",
      "Female_Male -0.03\n",
      "AnimalType_Cat 0.0\n",
      "MixedBreed_Known Breed Combo 0.061\n",
      "Female_Female 0.259\n",
      "\n",
      "Died\n",
      "Named_Unnamed -0.034\n",
      "AnimalType_Cat 0.0\n",
      "Female_Unknown 0.036\n",
      "Intact_Unknown 0.036\n",
      "Intact_Intact 0.049\n",
      "\n",
      "Euthanasia\n",
      "Female_Unknown 0.0\n",
      "Intact_Unknown 0.0\n",
      "Named_Unnamed 0.07\n",
      "Intact_Intact 0.402\n",
      "ConvertedAge 0.595\n",
      "\n",
      "Return_to_owner\n",
      "BreedRank 0.005\n",
      "MixedBreed_Nonmixed 0.014\n",
      "TopBreed 0.131\n",
      "PitBull 0.321\n",
      "ConvertedAge 0.481\n",
      "\n",
      "Transfer\n",
      "TopBreed 0.112\n",
      "MixedBreed_Nonmixed 0.132\n",
      "Named_Unnamed 0.348\n",
      "Female_Unknown 0.405\n",
      "Intact_Unknown 0.405\n",
      "\n",
      "\n",
      "\n",
      "\n",
      "Logistic Regression: Cats Only\n",
      "(8350, 15)\n",
      "<class 'pandas.core.series.Series'>\n",
      "{'C': [0.001, 0.01, 0.1, 0.25, 0.5, 0.75, 1.0, 1.25, 1.5, 1.75, 2.0, 5.0, 10.0]}\n",
      "Train data: Logistic Regression score at C=0.010: 0.738683\n",
      "\n",
      "\n",
      "Classification Report:\n",
      " \n",
      "                 precision    recall  f1-score   support\n",
      "\n",
      "       Adoption       0.69      0.92      0.79      1045\n",
      "           Died       0.00      0.00      0.00        34\n",
      "     Euthanasia       0.86      0.03      0.06       183\n",
      "Return_to_owner       0.26      0.07      0.11       136\n",
      "       Transfer       0.81      0.78      0.79      1386\n",
      "\n",
      "    avg / total       0.73      0.74      0.70      2784\n",
      "\n",
      "Dev data: Logistic Regression score at C=0.010: 0.699516\n",
      "Weights:\n",
      "['Adoption' 'Died' 'Euthanasia' 'Return_to_owner' 'Transfer']\n",
      "Adoption\n",
      "MixedBreed_Known Breed Combo -0.021\n",
      "AnimalType_Dog 0.0\n",
      "Female_Male 0.072\n",
      "Female_Female 0.12\n",
      "Named_Named 0.369\n",
      "\n",
      "Died\n",
      "Intact_Unknown -0.117\n",
      "Intact_Intact -0.11\n",
      "MixedBreed_Nonmixed -0.05\n",
      "ConvertedAge -0.014\n",
      "AnimalType_Dog 0.0\n",
      "\n",
      "Euthanasia\n",
      "BlackCat -0.008\n",
      "MixedBreed_Known Breed Combo -0.003\n",
      "AnimalType_Dog 0.0\n",
      "Named_Unnamed 0.101\n",
      "Intact_Intact 0.141\n",
      "\n",
      "Return_to_owner\n",
      "Named_Named -0.091\n",
      "MixedBreed_Nonmixed -0.081\n",
      "Intact_Spayed/Neutered -0.036\n",
      "MixedBreed_Known Breed Combo -0.014\n",
      "AnimalType_Dog 0.0\n",
      "\n",
      "Transfer\n",
      "MixedBreed_Mixed Breed 0.107\n",
      "AnimalType_Cat 0.113\n",
      "Female_Unknown 0.396\n",
      "Intact_Unknown 0.396\n",
      "Named_Unnamed 0.423\n",
      "\n",
      "\n",
      "\n",
      "\n"
     ]
    }
   ],
   "source": [
    "#Find the best regularization strength\n",
    "      #Generate logistic regression\n",
    "def logit_reg(X_train, X_dev, y_train, y_dev, predict_anim):\n",
    "    logit_reg = LogisticRegression(penalty=\"l2\", multi_class='multinomial', solver='newton-cg')  \n",
    "    print X_train.shape\n",
    "    print type(pd.Series(y_train))\n",
    "    y_train = y_train.values.ravel()\n",
    "    y_dev = y_dev.values.ravel()\n",
    "    \n",
    "    #Test C within [0.001, 10]\n",
    "    param_domain = [0.001, 0.01, 0.1, 0.25, 0.5, 0.75, 1.0, 1.25, 1.5, 1.75, 2.0, 5.0, 10.0]\n",
    "    param_dict = dict(C = param_domain)\n",
    "    print param_dict\n",
    "\n",
    "    #Initialize GridSearchCV to identify the optimal parameter values\n",
    "    gridsearch = GridSearchCV(logit_reg, param_dict)\n",
    "    gridsearch.fit(X_train, y_train)\n",
    "\n",
    "    #Generate model at the best C value\n",
    "    C = gridsearch.best_params_[\"C\"]\n",
    "    print \"Train data: Logistic Regression score at C=%.3f: %f\" % (C, gridsearch.best_score_)\n",
    "    print ('\\n' * 1)\n",
    "    logit_reg = LogisticRegression(C=C, penalty=\"l2\")\n",
    "    logit_reg.fit(X_train, y_train)\n",
    "\n",
    "    #Predict on the X_dev set\n",
    "    logit_reg_dev = logit_reg.predict(X_dev)\n",
    "\n",
    "    #Generate classification report\n",
    "    print \"Classification Report:\"\n",
    "    print \" \"\n",
    "    print classification_report(y_dev, logit_reg_dev, target_names=logit_reg.classes_)\n",
    "    print \"Dev data: Logistic Regression score at C=%.3f: %f\" % (C, metrics.f1_score(y_dev, logit_reg_dev, average=\"weighted\"))    \n",
    "    print \"Weights:\"\n",
    "    #Get the variables with the highest weights for each outcome\n",
    "    print logit_reg.classes_\n",
    "    weights = []\n",
    "    for i in range(len(logit_reg.classes_)):\n",
    "        top_vars = np.argsort(logit_reg.coef_[i])[-6:-1]\n",
    "        print logit_reg.classes_[i]\n",
    "        for j in top_vars:\n",
    "            print predict_anim[j], round(logit_reg.coef_[i][j],3)\n",
    "        print\n",
    "    print ('\\n' * 2)\n",
    "\n",
    "\n",
    "    #Generate logistic regression and add the squared weight values to an array, at each C\n",
    "    logit_reg_coeff = []\n",
    "    for c in param_domain:\n",
    "        logit_reg = LogisticRegression(C=c, penalty=\"l2\") \n",
    "        logit_reg.fit(X_train, y_train)\n",
    "        squared_weights = []\n",
    "        squared_weights.append(c)                       \n",
    "        for i in range(0, 4):\n",
    "            [squared_weights.append(np.sum(np.power(logit_reg.coef_[i], 2)))]\n",
    "        logit_reg_coeff.append(squared_weights)\n",
    "\n",
    "    coeff = np.asarray(logit_reg_coeff, dtype = \"object\")\n",
    "\n",
    "print 'Logistic Regression: Dogs Only'\n",
    "logit_reg(X_dog_train, X_dog_dev, y_dog_train, y_dog_dev, predictors_dog)\n",
    "print 'Logistic Regression: Cats Only'\n",
    "logit_reg(X_cat_train, X_cat_dev, y_cat_train, y_cat_dev, predictors_cat)"
   ]
  },
  {
   "cell_type": "markdown",
   "metadata": {},
   "source": [
    "With the highest training accuracy on the dog-only model at 0.56 and the highest accuracy for cats at 0.74, here we see further evidence that cats and dogs should be modeled separately.\n",
    "\n",
    "The model weights also yield some interesting results; note that the factors we thought might be important and highly weighted are not. For instance, we assumed that the breed would have played a much larger role in the outcome. Also of note is that in the dog model, the variable AnimalType_Cat - that is, whether or not the animal is a cat - has a higher weight than some other factors. This is the dog data though, so this should be a meaningless column in terms of outcomes."
   ]
  },
  {
   "cell_type": "markdown",
   "metadata": {
    "collapsed": true
   },
   "source": [
    "### Logistic Regression Pipeline\n",
    "\n",
    "Here we'll define a pipeline to binarize the categorical variables, scale the continuous variables, and fit a logistic regression; we're creating different models for dogs and cats so we'll define separate pipelines."
   ]
  },
  {
   "cell_type": "code",
   "execution_count": 19,
   "metadata": {
    "collapsed": true
   },
   "outputs": [],
   "source": [
    "#Reset train/test split with pred\n",
    "data_dog = data[data['AnimalType'] == 'Dog']\n",
    "data_cat = data[data['AnimalType'] == 'Cat']\n",
    "X_dog = data_dog[pred['dog']]\n",
    "X_cat = data_cat[pred['cat']]\n",
    "y_dog = data_dog[[target]]\n",
    "y_cat = data_cat[[target]]\n",
    "X_dog_train, X_dog_dev, y_dog_train, y_dog_dev = train_test_split(X_dog, y_dog, random_state=2)\n",
    "X_cat_train, X_cat_dev, y_cat_train, y_cat_dev = train_test_split(X_cat, y_cat, random_state=2)\n"
   ]
  },
  {
   "cell_type": "code",
   "execution_count": 20,
   "metadata": {
    "collapsed": true
   },
   "outputs": [],
   "source": [
    "class MyVectorizer(BaseEstimator, TransformerMixin):\n",
    "\n",
    "    def __init__(self, cols, hashing=None):\n",
    "        \"\"\"\n",
    "        args:\n",
    "            cols: a list of column names of the categorical variables\n",
    "            hashing: \n",
    "                If None, then vectorization is a simple one-hot-encoding.\n",
    "                If an integer, then hashing is the number of features in the output.\n",
    "        \"\"\"\n",
    "        self.cols = cols\n",
    "        self.hashing = hashing\n",
    "        \n",
    "    def fit(self, X, y=None):\n",
    "\n",
    "        data = X[self.cols]\n",
    "        \n",
    "        # Choose a vectorizer\n",
    "        if self.hashing is None:\n",
    "            self.myvec = DictVectorizer(sparse=False)\n",
    "        else:\n",
    "            self.myvec = FeatureHasher(n_features = self.hashing)\n",
    "    \n",
    "        self.myvec.fit(X[self.cols].to_dict(orient='records'))\n",
    "        return self\n",
    "            \n",
    "    def transform(self, X):\n",
    "            \n",
    "        # Vectorize Input\n",
    "        if self.hashing is None:\n",
    "            return pd.DataFrame(\n",
    "                self.myvec.transform(X[self.cols].to_dict(orient='records')),\n",
    "                columns = self.myvec.feature_names_\n",
    "            )\n",
    "        else:\n",
    "            return pd.DataFrame(\n",
    "                self.myvec.transform(X[self.cols].to_dict(orient='records')).toarray()\n",
    "            )"
   ]
  },
  {
   "cell_type": "code",
   "execution_count": 21,
   "metadata": {},
   "outputs": [],
   "source": [
    "class MyScaler():\n",
    "\n",
    "    def __init__(self, cols):\n",
    "        self.cols = cols\n",
    "    \n",
    "    def fit(self, X, y=None):\n",
    "        self.ss = StandardScaler()\n",
    "        self.ss.fit(X[self.cols])\n",
    "        return self\n",
    "    \n",
    "    def transform(self, X):\n",
    "        return self.ss.transform(X[self.cols])"
   ]
  },
  {
   "cell_type": "code",
   "execution_count": 22,
   "metadata": {
    "collapsed": true
   },
   "outputs": [],
   "source": [
    "#Set the pipelines for categorical variables\n",
    "discrete_pipe_dog = Pipeline(steps=[('Vectorizer', MyVectorizer(cols=discrete['dog'], hashing=None))])\n",
    "discrete_pipe_cat = Pipeline(steps=[('Vectorizer', MyVectorizer(cols=discrete['cat'], hashing=None))])\n",
    "\n",
    "#Set the pipelines for continuous variables\n",
    "continuous_pipe_cat = Pipeline(steps=[('Scale', MyScaler(continuous['cat']))])\n",
    "continuous_pipe_dog = Pipeline(steps=[('Scale', MyScaler(continuous['dog']))])\n",
    "\n",
    "#Bring the discrete and continuous pipelines together for cats and dogs\n",
    "union_dog = FeatureUnion([('Discrete', discrete_pipe_dog), ('Continuous', continuous_pipe_dog)])\n",
    "union_cat = FeatureUnion([('Discrete', discrete_pipe_cat), ('Continuous', continuous_pipe_cat)])"
   ]
  },
  {
   "cell_type": "code",
   "execution_count": 23,
   "metadata": {},
   "outputs": [
    {
     "name": "stdout",
     "output_type": "stream",
     "text": [
      "Dogs: Multinomial Logistic Regression Train Accuracy ::  0.562670998632\n",
      "Dogs: Multinomial Logistic Regression Dev Accuracy ::  0.577840471916\n",
      "\n",
      "Cats: Multinomial Logistic Regression Train Accuracy ::  0.738323353293\n",
      "Cats: Multinomial Logistic Regression Dev Accuracy ::  0.739942528736\n"
     ]
    }
   ],
   "source": [
    "#Full pipelines, using the best regularization strengths for the dog and cat models, respectively\n",
    "pipeline_dog = Pipeline([('Preprocess', FeatureUnion([('Discrete', discrete_pipe_dog), ('Continuous', continuous_pipe_dog)])),\n",
    "                      ('Predict', LogisticRegression(multi_class='multinomial', C=0.25, solver='newton-cg'))])\n",
    "pipeline_cat = Pipeline([('Preprocess', FeatureUnion([('Discrete', discrete_pipe_cat), ('Continuous', continuous_pipe_cat)])),\n",
    "                      ('Predict', LogisticRegression(multi_class='multinomial', C=0.10, solver='newton-cg'))])\n",
    "\n",
    "#Fit the multinomial logistic regression for dogs and cats, respectively\n",
    "test_dog_lr = pipeline_dog.fit(X_dog_train, y_dog_train)\n",
    "test_cat_lr = pipeline_cat.fit(X_cat_train, y_cat_train)\n",
    "\n",
    "print \"Dogs: Multinomial Logistic Regression Train Accuracy :: \", metrics.accuracy_score(y_dog_train, test_dog_lr.predict(X_dog_train))\n",
    "print \"Dogs: Multinomial Logistic Regression Dev Accuracy :: \", metrics.accuracy_score(y_dog_dev, test_dog_lr.predict(X_dog_dev))\n",
    "print\n",
    "print \"Cats: Multinomial Logistic Regression Train Accuracy :: \", metrics.accuracy_score(y_cat_train, test_cat_lr.predict(X_cat_train))\n",
    "print \"Cats: Multinomial Logistic Regression Dev Accuracy :: \", metrics.accuracy_score(y_cat_dev, test_cat_lr.predict(X_cat_dev))"
   ]
  },
  {
   "cell_type": "code",
   "execution_count": 24,
   "metadata": {
    "scrolled": true
   },
   "outputs": [
    {
     "name": "stdout",
     "output_type": "stream",
     "text": [
      "Normalized confusion matrix\n",
      "[[  3.76e-01   9.21e-04   5.23e-01   1.00e-01   0.00e+00]\n",
      " [  3.37e-01   5.88e-02   2.67e-01   3.37e-01   0.00e+00]\n",
      " [  1.02e-01   6.14e-04   8.80e-01   1.72e-02   0.00e+00]\n",
      " [  1.23e-01   8.10e-03   4.64e-01   4.05e-01   0.00e+00]\n",
      " [  1.11e-01   0.00e+00   2.22e-01   6.67e-01   0.00e+00]]\n",
      "Normalized confusion matrix\n",
      "[[ 0.07  0.04  0.84  0.06  0.  ]\n",
      " [ 0.03  0.13  0.08  0.76  0.  ]\n",
      " [ 0.01  0.    0.91  0.08  0.  ]\n",
      " [ 0.01  0.    0.21  0.78  0.  ]\n",
      " [ 0.    0.    0.12  0.88  0.  ]]\n"
     ]
    },
    {
     "data": {
      "image/png": "[encoded data removed]",
      "text/plain": [
       "<matplotlib.figure.Figure at 0x11e2d51d0>"
      ]
     },
     "metadata": {},
     "output_type": "display_data"
    },
    {
     "data": {
      "image/png": "[encoded data removed]",
      "text/plain": [
       "<matplotlib.figure.Figure at 0x122d0a0d0>"
      ]
     },
     "metadata": {},
     "output_type": "display_data"
    }
   ],
   "source": [
    "def plot_confusion_matrix(cm, classes, normalize = False, title = 'Confusion Matrix', cmap = plt.cm.Blues):\n",
    "    if normalize:\n",
    "        cm = cm.astype('float') / cm.sum(axis=1)[:, np.newaxis]\n",
    "        print(\"Normalized confusion matrix\")\n",
    "    else:\n",
    "        print('Confusion matrix, without normalization')\n",
    "\n",
    "    print(cm)\n",
    "    plt.imshow(cm, interpolation='nearest', cmap=cmap)\n",
    "    plt.title(title)\n",
    "    plt.colorbar()\n",
    "    tick_marks = np.arange(len(classes))\n",
    "    plt.xticks(tick_marks, classes, rotation=45)\n",
    "    plt.yticks(tick_marks, classes)\n",
    "\n",
    "    fmt = '.2f' if normalize else 'd'\n",
    "    thresh = cm.max() / 2.\n",
    "    for i, j in itertools.product(range(cm.shape[0]), range(cm.shape[1])):\n",
    "        plt.text(j, i, format(cm[i, j], fmt),\n",
    "                 horizontalalignment=\"center\",\n",
    "                 color=\"white\" if cm[i, j] > thresh else \"black\")\n",
    "\n",
    "    plt.tight_layout()\n",
    "    plt.ylabel('True label')\n",
    "    plt.xlabel('Predicted label')\n",
    "\n",
    "class_names = ['Return_to_owner', 'Euthanasia', 'Adoption', 'Transfer', 'Died']\n",
    "cnf_dog_matrix = confusion_matrix(y_dog_dev, test_dog_lr.predict(X_dog_dev), labels = class_names)\n",
    "np.set_printoptions(precision=2)\n",
    "\n",
    "plt.figure()\n",
    "plot_confusion_matrix(cnf_dog_matrix, classes=class_names, normalize = True,\n",
    "                      title='Confusion matrix for Dogs, with normalization')\n",
    "\n",
    "cnf_cat_matrix = confusion_matrix(y_cat_dev, test_cat_lr.predict(X_cat_dev), labels = class_names)\n",
    "np.set_printoptions(precision=2)\n",
    "\n",
    "plt.figure()\n",
    "plot_confusion_matrix(cnf_cat_matrix, classes=class_names, normalize = True,\n",
    "                      title='Confusion matrix for Cats, with normalization')\n",
    "plt.show()"
   ]
  },
  {
   "cell_type": "markdown",
   "metadata": {},
   "source": [
    "The difference in performance between the dog and cat models is interesting, but the confusion matrices can tell us a bit about where the models are going wrong.\n",
    "\n",
    "Dogs:  \n",
    "- Though a majority of the Adoption cases are predicted correctly, performance falls off sharply to the second-best category (Transfer).\n",
    "- The majority of Return To Owner cases are incorrectly identified as Adoption, and the same is true for Transfer.\n",
    "- There appear to be no successful Died predictions, with the majority going to Transfer.\n",
    "- Euthanasia is similarly unsuccessful as a prediction.\n",
    "\n",
    "Cats:\n",
    "- The disparity between the best and second-best categories (still Adoption and Transfer) is less sharp here.\n",
    "- The poor Return to Owner prediction rate in dogs is even worse in cats; the majority are predicted to be Adoption.\n",
    "- Died and Euthanasia are more often flagged as Transfer than any other category.\n",
    "\n",
    "A large part of the issue may be the comparatively small n sizes for the outcomes other than Adoption and Transfer. It appears that when so many cases have an adoption outcome, the model rewards erroneously predicting the adoption outcome - particularly so for dogs.\n",
    "\n",
    "For both dogs and cats, we see poor predictive power in the Died and Euthanasia categories. It seems likely that, beyond the distributions in the sample data, there are confounding factors that can't be captured with the data we have. For example, an animal that appears likely for Transfer based on these features may actually be euthanized due to health or temperament conditions outside of what is identifiable."
   ]
  },
  {
   "cell_type": "code",
   "execution_count": 26,
   "metadata": {
    "scrolled": true
   },
   "outputs": [
    {
     "name": "stdout",
     "output_type": "stream",
     "text": [
      "Classification Report: Dogs\n",
      "                 precision    recall  f1-score   support\n",
      "\n",
      "Return_to_owner       0.57      0.88      0.69      1629\n",
      "     Euthanasia       0.00      0.00      0.00         9\n",
      "       Adoption       0.52      0.06      0.11       187\n",
      "       Transfer       0.54      0.38      0.44      1086\n",
      "           Died       0.66      0.40      0.50       988\n",
      "\n",
      "    avg / total       0.58      0.58      0.54      3899\n",
      "\n",
      "\n",
      "\n",
      "Classification Report: Cats\n",
      "                 precision    recall  f1-score   support\n",
      "\n",
      "Return_to_owner       0.69      0.91      0.78      1045\n",
      "     Euthanasia       0.00      0.00      0.00        34\n",
      "       Adoption       0.70      0.13      0.21       183\n",
      "       Transfer       0.24      0.07      0.10       136\n",
      "           Died       0.81      0.78      0.79      1386\n",
      "\n",
      "    avg / total       0.72      0.74      0.71      2784\n",
      "\n",
      "\n",
      "\n"
     ]
    }
   ],
   "source": [
    "print(\"Classification Report: Dogs\")\n",
    "print(classification_report(y_dog_dev, test_dog_lr.predict(X_dog_dev), target_names=class_names))\n",
    "print '\\n'\n",
    "\n",
    "print(\"Classification Report: Cats\")\n",
    "print(classification_report(y_cat_dev, test_cat_lr.predict(X_cat_dev), target_names=class_names))\n",
    "print '\\n'"
   ]
  },
  {
   "cell_type": "markdown",
   "metadata": {},
   "source": [
    "Of course, the classification reports show a similar story.\n",
    "\n",
    "Though the cat model performs better overall, it performs quite poorly on Transfer prediction, with only 7% of Transfers being identified correctly. We see a fairly high precision for Died in both models, most likely because of so few positive cases being represented in the data."
   ]
  },
  {
   "cell_type": "markdown",
   "metadata": {},
   "source": [
    "### Neural Network Exploration\n",
    "\n",
    "As an alternative to logistic regression, we will use Keras for neural network modeling."
   ]
  },
  {
   "cell_type": "code",
   "execution_count": 26,
   "metadata": {
    "collapsed": true
   },
   "outputs": [],
   "source": [
    "# hot encoding to transform training and development data\n",
    "lb_style = LabelBinarizer()\n",
    "y_train_hot = lb_style.fit_transform(y_train)\n",
    "y_train_hot\n",
    "y_dev_hot = lb_style.fit_transform(y_dev)"
   ]
  },
  {
   "cell_type": "code",
   "execution_count": 27,
   "metadata": {},
   "outputs": [
    {
     "name": "stdout",
     "output_type": "stream",
     "text": [
      "Epoch 1/10\n",
      "20046/20046 [==============================] - 2s - loss: 0.3825 - acc: 0.8272     \n",
      "Epoch 2/10\n",
      "20046/20046 [==============================] - 1s - loss: 0.3260 - acc: 0.8560     \n",
      "Epoch 3/10\n",
      "20046/20046 [==============================] - 1s - loss: 0.3174 - acc: 0.8588     \n",
      "Epoch 4/10\n",
      "20046/20046 [==============================] - 1s - loss: 0.3145 - acc: 0.8596     \n",
      "Epoch 5/10\n",
      "20046/20046 [==============================] - 1s - loss: 0.3135 - acc: 0.8596     \n",
      "Epoch 6/10\n",
      "20046/20046 [==============================] - 1s - loss: 0.3121 - acc: 0.8603     \n",
      "Epoch 7/10\n",
      "20046/20046 [==============================] - 1s - loss: 0.3113 - acc: 0.8605     \n",
      "Epoch 8/10\n",
      "20046/20046 [==============================] - 2s - loss: 0.3105 - acc: 0.8608     \n",
      "Epoch 9/10\n",
      "20046/20046 [==============================] - 1s - loss: 0.3101 - acc: 0.8614     \n",
      "Epoch 10/10\n",
      "20046/20046 [==============================] - 2s - loss: 0.3092 - acc: 0.8613     \n"
     ]
    },
    {
     "data": {
      "text/plain": [
       "<keras.callbacks.History at 0x1268fef90>"
      ]
     },
     "execution_count": 27,
     "metadata": {},
     "output_type": "execute_result"
    }
   ],
   "source": [
    "# Using keras to predict outcome\n",
    "from keras.layers import Dropout\n",
    "model = Sequential([\n",
    "    Dense(32, input_shape=(15,)),\n",
    "    Dropout(0.1),   # Added a dropout layer of 10% to regulate neural network\n",
    "    Activation('sigmoid'),\n",
    "    Dense(5),\n",
    "    Activation('softmax'),\n",
    "])\n",
    "\n",
    "model.compile(optimizer='adam',\n",
    "              loss='binary_crossentropy',\n",
    "              metrics=['accuracy'])\n",
    "model.fit(np.array(X_train), y_train_hot, epochs=10, batch_size=32)"
   ]
  },
  {
   "cell_type": "code",
   "execution_count": 28,
   "metadata": {},
   "outputs": [
    {
     "name": "stdout",
     "output_type": "stream",
     "text": [
      "5952/6683 [=========================>....] - ETA: 0s\n",
      "Accuracy on test data 0.862576680939\n"
     ]
    }
   ],
   "source": [
    "score = model.evaluate(np.array(X_dev), y_dev_hot, batch_size=16)\n",
    "\n",
    "print '\\nAccuracy on test data', score[1]"
   ]
  },
  {
   "cell_type": "markdown",
   "metadata": {
    "collapsed": true
   },
   "source": [
    "On a simple model with combined data, we see that the overall accuracy has improved over the logistic regression."
   ]
  },
  {
   "cell_type": "markdown",
   "metadata": {},
   "source": [
    "#### Eliminating unknown columns \n",
    "Now we'll try a more limited dataset, eliminating unknown gender and unknown intactness to see if the new dataset can give a better accuracy."
   ]
  },
  {
   "cell_type": "code",
   "execution_count": 29,
   "metadata": {},
   "outputs": [
    {
     "name": "stdout",
     "output_type": "stream",
     "text": [
      "Epoch 1/10\n",
      "20046/20046 [==============================] - 2s - loss: 0.3649 - acc: 0.8345     \n",
      "Epoch 2/10\n",
      "20046/20046 [==============================] - 1s - loss: 0.3261 - acc: 0.8547     \n",
      "Epoch 3/10\n",
      "20046/20046 [==============================] - 1s - loss: 0.3187 - acc: 0.8592     \n",
      "Epoch 4/10\n",
      "20046/20046 [==============================] - 1s - loss: 0.3161 - acc: 0.8591     \n",
      "Epoch 5/10\n",
      "20046/20046 [==============================] - 1s - loss: 0.3143 - acc: 0.8600     \n",
      "Epoch 6/10\n",
      "20046/20046 [==============================] - 1s - loss: 0.3131 - acc: 0.8604     \n",
      "Epoch 7/10\n",
      "20046/20046 [==============================] - 2s - loss: 0.3123 - acc: 0.8604     \n",
      "Epoch 8/10\n",
      "20046/20046 [==============================] - 1s - loss: 0.3111 - acc: 0.8614     \n",
      "Epoch 9/10\n",
      "20046/20046 [==============================] - 1s - loss: 0.3108 - acc: 0.8608     \n",
      "Epoch 10/10\n",
      "20046/20046 [==============================] - 1s - loss: 0.3098 - acc: 0.8613     \n"
     ]
    },
    {
     "data": {
      "text/plain": [
       "<keras.callbacks.History at 0x126f4ce50>"
      ]
     },
     "execution_count": 29,
     "metadata": {},
     "output_type": "execute_result"
    }
   ],
   "source": [
    "X_train_feature = X_train\n",
    "X_train_feature = X_train_feature.drop('Intact_Unknown', 1)\n",
    "X_train_feature = X_train_feature.drop('Female_Unknown', 1)\n",
    "X_dev_feature = X_dev\n",
    "X_dev_feature = X_dev_feature.drop('Intact_Unknown', 1)\n",
    "X_dev_feature = X_dev_feature.drop('Female_Unknown', 1)\n",
    "\n",
    "model2 = Sequential([\n",
    "    Dense(32, input_shape=(13,)),\n",
    "    Dropout(0.1),   \n",
    "    Activation('sigmoid'),\n",
    "    Dense(5),\n",
    "    Activation('softmax'),\n",
    "])\n",
    "\n",
    "model2.compile(optimizer='adam',\n",
    "              loss='binary_crossentropy',\n",
    "              metrics=['accuracy'])\n",
    "model2.fit(np.array(X_train_feature), y_train_hot, epochs=10, batch_size=32)"
   ]
  },
  {
   "cell_type": "code",
   "execution_count": 30,
   "metadata": {},
   "outputs": [
    {
     "name": "stdout",
     "output_type": "stream",
     "text": [
      "6624/6683 [============================>.] - ETA: 0s\n",
      "Accuracy on new dataset with no unknown columns is 0.86302558042\n"
     ]
    }
   ],
   "source": [
    "score2 = model2.evaluate(np.array(X_dev_feature), y_dev_hot, batch_size=16)\n",
    "\n",
    "print '\\nAccuracy on new dataset with no unknown columns is', score2[1]"
   ]
  },
  {
   "cell_type": "markdown",
   "metadata": {},
   "source": [
    "We can see that by eliminating the unknown gender and intactness columns, the new model's accuracy is slightly higher than the original dataset."
   ]
  },
  {
   "cell_type": "markdown",
   "metadata": {},
   "source": [
    "#### Testing a Cat-Only Model"
   ]
  },
  {
   "cell_type": "code",
   "execution_count": 63,
   "metadata": {},
   "outputs": [
    {
     "name": "stdout",
     "output_type": "stream",
     "text": [
      "Epoch 1/10\n",
      "8373/8373 [==============================] - 1s - loss: 0.3439 - acc: 0.8527     \n",
      "Epoch 2/10\n",
      "8373/8373 [==============================] - 0s - loss: 0.2812 - acc: 0.8882     \n",
      "Epoch 3/10\n",
      "8373/8373 [==============================] - 0s - loss: 0.2678 - acc: 0.8909     \n",
      "Epoch 4/10\n",
      "8373/8373 [==============================] - 0s - loss: 0.2627 - acc: 0.8950     \n",
      "Epoch 5/10\n",
      "8373/8373 [==============================] - 0s - loss: 0.2606 - acc: 0.8982     \n",
      "Epoch 6/10\n",
      "8373/8373 [==============================] - 0s - loss: 0.2594 - acc: 0.8992     \n",
      "Epoch 7/10\n",
      "8373/8373 [==============================] - 0s - loss: 0.2578 - acc: 0.8993     \n",
      "Epoch 8/10\n",
      "8373/8373 [==============================] - 0s - loss: 0.2565 - acc: 0.8997     \n",
      "Epoch 9/10\n",
      "8373/8373 [==============================] - 0s - loss: 0.2551 - acc: 0.9001     \n",
      "Epoch 10/10\n",
      "8373/8373 [==============================] - 1s - loss: 0.2546 - acc: 0.9002     \n"
     ]
    },
    {
     "data": {
      "text/plain": [
       "<keras.callbacks.History at 0x12b523c90>"
      ]
     },
     "execution_count": 63,
     "metadata": {},
     "output_type": "execute_result"
    }
   ],
   "source": [
    "X_train_cat = X_train[X_train['AnimalType_Cat']==1]\n",
    "X_dev_cat = X_dev[X_dev['AnimalType_Cat']==1]\n",
    "\n",
    "model3 = Sequential([\n",
    "    Dense(32, input_shape=(15,)),\n",
    "    Dropout(0.1),  \n",
    "    Activation('sigmoid'),\n",
    "    Dense(5),\n",
    "    Activation('softmax'),\n",
    "])\n",
    "\n",
    "model3.compile(optimizer='adam',\n",
    "              loss='binary_crossentropy',\n",
    "              metrics=['accuracy'])\n",
    "model3.fit(np.array(X_train_cat), y_train_hot[X_train['AnimalType_Cat']==1], epochs=10, batch_size=32)"
   ]
  },
  {
   "cell_type": "code",
   "execution_count": 65,
   "metadata": {},
   "outputs": [
    {
     "name": "stdout",
     "output_type": "stream",
     "text": [
      "2736/2761 [============================>.] - ETA: 0s\n",
      "Accuracy on new dataset with only cat data is 0.900833021446\n",
      "[[ 0.8   0.    0.    0.04  0.15]\n",
      " [ 0.78  0.    0.01  0.04  0.17]\n",
      " [ 0.01  0.01  0.07  0.    0.9 ]\n",
      " ..., \n",
      " [ 0.15  0.02  0.03  0.02  0.78]\n",
      " [ 0.05  0.02  0.07  0.    0.87]\n",
      " [ 0.02  0.02  0.17  0.01  0.78]]\n"
     ]
    }
   ],
   "source": [
    "score3 = model3.evaluate(np.array(X_dev_cat), y_dev_hot[X_dev['AnimalType_Cat']==1], batch_size=16)\n",
    "\n",
    "print '\\nAccuracy on new dataset with only cat data is', score3[1]\n",
    "\n",
    "\n",
    "predict3 = model3.predict(np.array(X_dev_cat), batch_size=32, verbose=0)\n",
    "print predict3"
   ]
  },
  {
   "cell_type": "markdown",
   "metadata": {},
   "source": [
    "#### Testing a Dog-Only Model"
   ]
  },
  {
   "cell_type": "code",
   "execution_count": 66,
   "metadata": {},
   "outputs": [
    {
     "name": "stdout",
     "output_type": "stream",
     "text": [
      "Epoch 1/10\n",
      "11673/11673 [==============================] - 1s - loss: 0.4172 - acc: 0.8093     \n",
      "Epoch 2/10\n",
      "11673/11673 [==============================] - 1s - loss: 0.3691 - acc: 0.8279     \n",
      "Epoch 3/10\n",
      "11673/11673 [==============================] - 1s - loss: 0.3597 - acc: 0.8313     \n",
      "Epoch 4/10\n",
      "11673/11673 [==============================] - 1s - loss: 0.3563 - acc: 0.8319     \n",
      "Epoch 5/10\n",
      "11673/11673 [==============================] - 1s - loss: 0.3545 - acc: 0.8323     \n",
      "Epoch 6/10\n",
      "11673/11673 [==============================] - 1s - loss: 0.3533 - acc: 0.8322     \n",
      "Epoch 7/10\n",
      "11673/11673 [==============================] - 1s - loss: 0.3526 - acc: 0.8328     \n",
      "Epoch 8/10\n",
      "11673/11673 [==============================] - 1s - loss: 0.3519 - acc: 0.8332     \n",
      "Epoch 9/10\n",
      "11673/11673 [==============================] - 1s - loss: 0.3511 - acc: 0.8339     \n",
      "Epoch 10/10\n",
      "11673/11673 [==============================] - 1s - loss: 0.3507 - acc: 0.8337     \n"
     ]
    },
    {
     "data": {
      "text/plain": [
       "<keras.callbacks.History at 0x12c166b10>"
      ]
     },
     "execution_count": 66,
     "metadata": {},
     "output_type": "execute_result"
    }
   ],
   "source": [
    "X_train_dog = X_train[X_train['AnimalType_Dog']==1]\n",
    "X_dev_dog = X_dev[X_dev['AnimalType_Dog']==1]\n",
    "\n",
    "model4 = Sequential([\n",
    "    Dense(32, input_shape=(15,)),\n",
    "    Dropout(0.1),  \n",
    "    Activation('sigmoid'),\n",
    "    Dense(5),\n",
    "    Activation('softmax'),\n",
    "])\n",
    "\n",
    "model4.compile(optimizer='adam',\n",
    "              loss='binary_crossentropy',\n",
    "              metrics=['accuracy'])\n",
    "model4.fit(np.array(X_train_dog), y_train_hot[X_train['AnimalType_Dog']==1], epochs=10, batch_size=32)"
   ]
  },
  {
   "cell_type": "code",
   "execution_count": 67,
   "metadata": {},
   "outputs": [
    {
     "name": "stdout",
     "output_type": "stream",
     "text": [
      "3200/3922 [=======================>......] - ETA: 0s\n",
      "Accuracy on new dataset with only dog data is 0.836358998182\n",
      "[[ 0.6   0.    0.02  0.22  0.15]\n",
      " [ 0.05  0.01  0.09  0.05  0.8 ]\n",
      " [ 0.69  0.    0.02  0.04  0.25]\n",
      " ..., \n",
      " [ 0.06  0.01  0.06  0.04  0.83]\n",
      " [ 0.64  0.    0.01  0.19  0.15]\n",
      " [ 0.6   0.    0.01  0.23  0.16]]\n"
     ]
    }
   ],
   "source": [
    "score4 = model4.evaluate(np.array(X_dev_dog), y_dev_hot[X_dev['AnimalType_Dog']==1], batch_size=16)\n",
    "\n",
    "print '\\nAccuracy on new dataset with only dog data is', score4[1]\n",
    "\n",
    "predict4 = model4.predict(np.array(X_dev_dog), batch_size=32, verbose=0)\n",
    "print predict4"
   ]
  },
  {
   "cell_type": "markdown",
   "metadata": {},
   "source": [
    "Here we reached the silimiar conclusion the new dataset with only cat data has slightly higher accuracy (0.9008) than only dog data (0.83635)."
   ]
  },
  {
   "cell_type": "markdown",
   "metadata": {},
   "source": [
    "#### Dog and cat dataset confusion matrix"
   ]
  },
  {
   "cell_type": "code",
   "execution_count": 69,
   "metadata": {},
   "outputs": [
    {
     "name": "stdout",
     "output_type": "stream",
     "text": [
      "Normalized confusion matrix\n",
      "[[ 0.86  0.    0.    0.12  0.02]\n",
      " [ 0.23  0.    0.    0.08  0.69]\n",
      " [ 0.23  0.    0.03  0.33  0.41]\n",
      " [ 0.5   0.    0.    0.39  0.11]\n",
      " [ 0.46  0.    0.01  0.13  0.41]]\n",
      "Normalized confusion matrix\n",
      "[[ 0.89  0.    0.    0.    0.11]\n",
      " [ 0.1   0.    0.05  0.    0.85]\n",
      " [ 0.07  0.    0.09  0.    0.83]\n",
      " [ 0.74  0.    0.03  0.    0.23]\n",
      " [ 0.19  0.    0.    0.    0.8 ]]\n"
     ]
    },
    {
     "data": {
      "image/png": "[encoded data removed]",
      "text/plain": [
       "<matplotlib.figure.Figure at 0x129fe18d0>"
      ]
     },
     "metadata": {},
     "output_type": "display_data"
    },
    {
     "data": {
      "image/png": "[encoded data removed]",
      "text/plain": [
       "<matplotlib.figure.Figure at 0x12c587110>"
      ]
     },
     "metadata": {},
     "output_type": "display_data"
    }
   ],
   "source": [
    "class_names = ['Return_to_owner', 'Euthanasia', 'Adoption', 'Transfer', 'Died']\n",
    "\n",
    "conf_dog = confusion_matrix(np.argmax(y_dev_hot[X_dev['AnimalType_Dog']==1], axis=1), np.argmax(predict4, axis=1))\n",
    "np.set_printoptions(precision=2)\n",
    "\n",
    "plt.figure()\n",
    "plot_confusion_matrix(conf_dog, classes=class_names, normalize = True,\n",
    "                      title='Confusion matrix for Dogs, with neural network')\n",
    "\n",
    "conf_cat = confusion_matrix(np.argmax(y_dev_hot[X_dev['AnimalType_Cat']==1], axis=1), np.argmax(predict3, axis=1))\n",
    "np.set_printoptions(precision=2)\n",
    "\n",
    "plt.figure()\n",
    "plot_confusion_matrix(conf_cat, classes=class_names, normalize = True,\n",
    "                      title='Confusion matrix for Cat, with neural network')\n",
    "\n",
    "\n",
    "\n",
    "plt.show()\n",
    "\n"
   ]
  },
  {
   "cell_type": "markdown",
   "metadata": {},
   "source": [
    "After separating the dog and cat data and running the confusion matrix, they have pretty similiar accuracy on the animal outcomes. \n",
    "\n",
    "Dogs:  \n",
    "- Majority of the return to owner cases are predicted correctly.\n",
    "- The adoption is moderately predicted but still often mistakenly labeled as died.\n",
    "- Euthanasia is similarly unsuccessful as a prediction due to lack of further information.\n",
    "\n",
    "Cats:\n",
    "- Majority of the return to owner cases are predicted correctly. Transfer was wrongly predicted as return to owners\n",
    "- The adoption is not succesfully predicted and often mistakenly labeled as died.\n",
    "- There appear to be high successful Died predictions.\n",
    "- Euthanasia is similarly unsuccessful as a prediction due to lack of further information."
   ]
  },
  {
   "cell_type": "markdown",
   "metadata": {},
   "source": [
    "#### Dog and cat classification report "
   ]
  },
  {
   "cell_type": "code",
   "execution_count": 72,
   "metadata": {},
   "outputs": [
    {
     "name": "stdout",
     "output_type": "stream",
     "text": [
      "Classification Report: Dogs\n",
      "                 precision    recall  f1-score   support\n",
      "\n",
      "Return_to_owner       0.58      0.86      0.69      1644\n",
      "     Euthanasia       0.00      0.00      0.00        13\n",
      "       Adoption       0.50      0.03      0.05       218\n",
      "       Transfer       0.51      0.39      0.44      1056\n",
      "           Died       0.62      0.41      0.49       991\n",
      "\n",
      "    avg / total       0.56      0.57      0.54      3922\n",
      "\n",
      "\n",
      "\n",
      "Classification Report: Cats\n",
      "                 precision    recall  f1-score   support\n",
      "\n",
      "Return_to_owner       0.71      0.89      0.79      1049\n",
      "     Euthanasia       0.00      0.00      0.00        39\n",
      "       Adoption       0.56      0.09      0.16       191\n",
      "       Transfer       0.00      0.00      0.00       133\n",
      "           Died       0.76      0.80      0.78      1349\n",
      "\n",
      "    avg / total       0.68      0.74      0.69      2761\n",
      "\n",
      "\n",
      "\n"
     ]
    }
   ],
   "source": [
    "print(\"Classification Report: Dogs\")\n",
    "print(classification_report(np.argmax(y_dev_hot[X_dev['AnimalType_Dog']==1], axis=1), np.argmax(predict4, axis=1), target_names=class_names))\n",
    "print '\\n'\n",
    "\n",
    "print(\"Classification Report: Cats\")\n",
    "print(classification_report(np.argmax(y_dev_hot[X_dev['AnimalType_Cat']==1], axis=1), np.argmax(predict3, axis=1), target_names=class_names))\n",
    "print '\\n'"
   ]
  },
  {
   "cell_type": "markdown",
   "metadata": {},
   "source": [
    "## Final Kaggle Submission"
   ]
  },
  {
   "cell_type": "code",
   "execution_count": 73,
   "metadata": {},
   "outputs": [],
   "source": [
    "#Predict dog and cat outcomes on the test data using the final chosen models and generate CSV files\n",
    "\n",
    "import csv\n",
    "\n",
    "catcsv = np.concatenate(([class_names],np.array(predict3, dtype=np.str)), axis=0)\n",
    "filename = 'catprediction'\n",
    "with open(filename, 'wb') as f:\n",
    "    csv.writer(f).writerows(catcsv)\n",
    "\n",
    "dogcsv = np.concatenate(([class_names],np.array(predict4, dtype=np.str)), axis=0)\n",
    "filename = 'dogprediction'\n",
    "with open(filename, 'wb') as f:\n",
    "    csv.writer(f).writerows(dogcsv)\n"
   ]
  },
  {
   "cell_type": "markdown",
   "metadata": {},
   "source": [
    "### Appendix"
   ]
  },
  {
   "cell_type": "markdown",
   "metadata": {},
   "source": [
    "#### Feature Engineering\n",
    "\n",
    "We're beginning with a simple multinomial logistic regression, which we will use to test combinations of features."
   ]
  },
  {
   "cell_type": "code",
   "execution_count": 17,
   "metadata": {},
   "outputs": [
    {
     "name": "stdout",
     "output_type": "stream",
     "text": [
      "Accuracy at C=0.5: 0.633398174473\n",
      "Sum of Squared Weight: -20.7716088513\n"
     ]
    }
   ],
   "source": [
    "#Tested for C in 0.00001, 0.0001, 0.001, 0.01, 0.1,, 1.0, 2.0, 4.0, 6.0, 8.0, 10.0\n",
    "#Highest accuracy is when C=0.5\n",
    "\n",
    "for m in [0.5]: # 0.00001, 0.0001, 0.001, 0.01, 0.1,, 1.0, 2.0, 4.0, 6.0, 8.0, 10.0\n",
    "    lrq = LogisticRegression(C = m, penalty = 'l2')\n",
    "    lrq.fit(X_train, y_train)\n",
    "    weight1 = lrq.coef_\n",
    "    sum1 = sum(sum(weight1))\n",
    "    print 'Accuracy at C=0.5:', lrq.score(X_dev, y_dev)\n",
    "    print 'Sum of Squared Weight:', sum1\n"
   ]
  },
  {
   "cell_type": "markdown",
   "metadata": {},
   "source": [
    "For this dataset, we have 15 different features, including gender, breed, age, and so on.  In order to select the best\n",
    "features to add to the model, here we select features from the bottom up, starting from only 1 feature and adding more features based on the accuracy.\n",
    "\n"
   ]
  },
  {
   "cell_type": "code",
   "execution_count": 18,
   "metadata": {},
   "outputs": [
    {
     "name": "stdout",
     "output_type": "stream",
     "text": [
      "At number of features = 1 the best feature to add is Intact_Spayed/Neutered and the accuracy is 0.6082597636\n",
      "At number of features = 2 the best feature to add is ConvertedAge and the accuracy is 0.6208289690\n",
      "At number of features = 3 the best feature to add is AnimalType_Cat and the accuracy is 0.6281610055\n",
      "At number of features = 4 the best feature to add is MixedBreed_Known Breed Combo and the accuracy is 0.6313033069\n",
      "At number of features = 5 the best feature to add is Named_Unnamed and the accuracy is 0.6345952417\n",
      "At number of features = 6 the best feature to add is MixedBreed_Nonmixed and the accuracy is 0.6347448751\n",
      "At number of features = 7 the best feature to add is AnimalType_Dog and the accuracy is 0.6347448751\n",
      "At number of features = 8 the best feature to add is Female_Unknown and the accuracy is 0.6347448751\n",
      "At number of features = 9 the best feature to add is Intact_Intact and the accuracy is 0.6347448751\n",
      "At number of features = 10 the best feature to add is Intact_Unknown and the accuracy is 0.6347448751\n",
      "At number of features = 11 the best feature to add is MixedBreed_Mixed Breed and the accuracy is 0.6347448751\n",
      "At number of features = 12 the best feature to add is Named_Named and the accuracy is 0.6347448751\n",
      "At number of features = 13 the best feature to add is BreedRank and the accuracy is 0.6342959749\n",
      "At number of features = 14 the best feature to add is Female_Female and the accuracy is 0.6333981745\n",
      "At number of features = 15 the best feature to add is Female_Male and the accuracy is 0.6333981745\n"
     ]
    }
   ],
   "source": [
    "#Importing this because of deprecation warnings cluttering the output\n",
    "import warnings\n",
    "warnings.filterwarnings('ignore')\n",
    "\n",
    "# Start the bottom up feature selection\n",
    "# Compute the accuracy of logistic regression with N features\n",
    "\n",
    "train = X_train\n",
    "dev = X_dev\n",
    "\n",
    "bestVec = [] \n",
    "\n",
    "for j in range(15):\n",
    "    maxacc = 0\n",
    "    maxi = 0\n",
    "    for i in range(15):\n",
    "        if i not in bestVec:\n",
    "            X_train_eng = pd.DataFrame(train.ix[:, bestVec + [i]])\n",
    "            X_dev_eng = pd.DataFrame(dev.ix[:, bestVec + [i]])\n",
    "            m=0.5\n",
    "            lrq = LogisticRegression(C = m, penalty = 'l2')\n",
    "            lrq.fit(X_train_eng, y_train)\n",
    "            if lrq.score(X_dev_eng, y_dev) > maxacc:\n",
    "                maxacc = lrq.score(X_dev_eng, y_dev)\n",
    "                maxi = i\n",
    "    bestVec = bestVec + [maxi]\n",
    "    print 'At number of features =', j+1,'the best feature to add is', predictors[maxi],'and the accuracy is %.10f' % maxacc"
   ]
  },
  {
   "cell_type": "markdown",
   "metadata": {},
   "source": [
    "Based on accuracy (highest 0.6347448751) and parsimony, the best model includes six features: Intact_Spayed/Neutered, ConvertedAge, AnimalType_Cat, MixedBreed_Known Breed Combo, Named_Unnamed, and MixedBreed_Nonmixed.\n",
    "\n",
    "However, further tests of this truncated dataset return lower accuracy overall, and were not used in the final modeling."
   ]
  }
 ],
 "metadata": {
  "anaconda-cloud": {},
  "kernelspec": {
   "display_name": "Python [default]",
   "language": "python",
   "name": "python2"
  },
  "language_info": {
   "codemirror_mode": {
    "name": "ipython",
    "version": 2
   },
   "file_extension": ".py",
   "mimetype": "text/x-python",
   "name": "python",
   "nbconvert_exporter": "python",
   "pygments_lexer": "ipython2",
   "version": "2.7.13"
  }
 },
 "nbformat": 4,
 "nbformat_minor": 1
}
