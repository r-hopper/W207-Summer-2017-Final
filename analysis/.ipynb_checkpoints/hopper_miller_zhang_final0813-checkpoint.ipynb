{
 "cells": [
  {
   "cell_type": "markdown",
   "metadata": {},
   "source": [
    "## Shelter Animal Outcomes\n",
    "#### MIDS W207 Final Project\n",
    "#### Clay Miller, Roseanna Hopper, Yubo Zhang"
   ]
  },
  {
   "cell_type": "markdown",
   "metadata": {},
   "source": [
    "### Introduction\n",
    "\n",
    "Approximately 6.5 to 7.6 million companion animals entered the animal shelters across the US each year.  Each year, approximately 1.5 million shelter animals are euthanized (670,000 dogs and 860,000 cats).  The number of dogs and cats euthanized in U.S. shelters annually has declined from approximately 2.6 million in 2011.  This decline can be partially explained by an increase in the percentage of animals adopted and an increase in the number of stray animals successfully returned to their owners.\n",
    "\n",
    "For this study, we are using a dataset of intake information including breed, color, sex, and age from the [Austin Animal Center](https://www.kaggle.com/c/shelter-animal-outcomes), to develop a model that can be used for shelters to predict the outcome for each animal.  We are hoping that by using this model, the shelter can provide a little bit of extra help for animals that have a low adoption rate. In addition, we are hoping this dataset can help us to provide some key findings (for example, if age and gender would impact the adoption rate for dogs, if neutered or spayed cats are more likely to be adopted), understand which factors impact the chance of adoption, and identify differences between dog and cat adoption trends.  "
   ]
  },
  {
   "cell_type": "code",
   "execution_count": 6,
   "metadata": {
    "collapsed": false,
    "scrolled": true
   },
   "outputs": [
    {
     "data": {
      "text/html": [
       "\n",
       "    <div class=\"bk-root\">\n",
       "        <a href=\"http://bokeh.pydata.org\" target=\"_blank\" class=\"bk-logo bk-logo-small bk-logo-notebook\"></a>\n",
       "        <span id=\"0e13e6bc-1488-447d-bad7-8e18f491afba\">Loading BokehJS ...</span>\n",
       "    </div>"
      ]
     },
     "metadata": {},
     "output_type": "display_data"
    },
    {
     "data": {
      "application/javascript": [
       "\n",
       "(function(global) {\n",
       "  function now() {\n",
       "    return new Date();\n",
       "  }\n",
       "\n",
       "  var force = true;\n",
       "\n",
       "  if (typeof (window._bokeh_onload_callbacks) === \"undefined\" || force === true) {\n",
       "    window._bokeh_onload_callbacks = [];\n",
       "    window._bokeh_is_loading = undefined;\n",
       "  }\n",
       "\n",
       "\n",
       "  \n",
       "  if (typeof (window._bokeh_timeout) === \"undefined\" || force === true) {\n",
       "    window._bokeh_timeout = Date.now() + 5000;\n",
       "    window._bokeh_failed_load = false;\n",
       "  }\n",
       "\n",
       "  var NB_LOAD_WARNING = {'data': {'text/html':\n",
       "     \"<div style='background-color: #fdd'>\\n\"+\n",
       "     \"<p>\\n\"+\n",
       "     \"BokehJS does not appear to have successfully loaded. If loading BokehJS from CDN, this \\n\"+\n",
       "     \"may be due to a slow or bad network connection. Possible fixes:\\n\"+\n",
       "     \"</p>\\n\"+\n",
       "     \"<ul>\\n\"+\n",
       "     \"<li>re-rerun `output_notebook()` to attempt to load from CDN again, or</li>\\n\"+\n",
       "     \"<li>use INLINE resources instead, as so:</li>\\n\"+\n",
       "     \"</ul>\\n\"+\n",
       "     \"<code>\\n\"+\n",
       "     \"from bokeh.resources import INLINE\\n\"+\n",
       "     \"output_notebook(resources=INLINE)\\n\"+\n",
       "     \"</code>\\n\"+\n",
       "     \"</div>\"}};\n",
       "\n",
       "  function display_loaded() {\n",
       "    if (window.Bokeh !== undefined) {\n",
       "      var el = document.getElementById(\"0e13e6bc-1488-447d-bad7-8e18f491afba\");\n",
       "      el.textContent = \"BokehJS \" + Bokeh.version + \" successfully loaded.\";\n",
       "    } else if (Date.now() < window._bokeh_timeout) {\n",
       "      setTimeout(display_loaded, 100)\n",
       "    }\n",
       "  }\n",
       "\n",
       "  function run_callbacks() {\n",
       "    window._bokeh_onload_callbacks.forEach(function(callback) { callback() });\n",
       "    delete window._bokeh_onload_callbacks\n",
       "    console.info(\"Bokeh: all callbacks have finished\");\n",
       "  }\n",
       "\n",
       "  function load_libs(js_urls, callback) {\n",
       "    window._bokeh_onload_callbacks.push(callback);\n",
       "    if (window._bokeh_is_loading > 0) {\n",
       "      console.log(\"Bokeh: BokehJS is being loaded, scheduling callback at\", now());\n",
       "      return null;\n",
       "    }\n",
       "    if (js_urls == null || js_urls.length === 0) {\n",
       "      run_callbacks();\n",
       "      return null;\n",
       "    }\n",
       "    console.log(\"Bokeh: BokehJS not loaded, scheduling load and callback at\", now());\n",
       "    window._bokeh_is_loading = js_urls.length;\n",
       "    for (var i = 0; i < js_urls.length; i++) {\n",
       "      var url = js_urls[i];\n",
       "      var s = document.createElement('script');\n",
       "      s.src = url;\n",
       "      s.async = false;\n",
       "      s.onreadystatechange = s.onload = function() {\n",
       "        window._bokeh_is_loading--;\n",
       "        if (window._bokeh_is_loading === 0) {\n",
       "          console.log(\"Bokeh: all BokehJS libraries loaded\");\n",
       "          run_callbacks()\n",
       "        }\n",
       "      };\n",
       "      s.onerror = function() {\n",
       "        console.warn(\"failed to load library \" + url);\n",
       "      };\n",
       "      console.log(\"Bokeh: injecting script tag for BokehJS library: \", url);\n",
       "      document.getElementsByTagName(\"head\")[0].appendChild(s);\n",
       "    }\n",
       "  };var element = document.getElementById(\"0e13e6bc-1488-447d-bad7-8e18f491afba\");\n",
       "  if (element == null) {\n",
       "    console.log(\"Bokeh: ERROR: autoload.js configured with elementid '0e13e6bc-1488-447d-bad7-8e18f491afba' but no matching script tag was found. \")\n",
       "    return false;\n",
       "  }\n",
       "\n",
       "  var js_urls = [\"https://cdn.pydata.org/bokeh/release/bokeh-0.12.5.min.js\", \"https://cdn.pydata.org/bokeh/release/bokeh-widgets-0.12.5.min.js\"];\n",
       "\n",
       "  var inline_js = [\n",
       "    function(Bokeh) {\n",
       "      Bokeh.set_log_level(\"info\");\n",
       "    },\n",
       "    \n",
       "    function(Bokeh) {\n",
       "      \n",
       "    },\n",
       "    \n",
       "    function(Bokeh) {\n",
       "      \n",
       "      document.getElementById(\"0e13e6bc-1488-447d-bad7-8e18f491afba\").textContent = \"BokehJS is loading...\";\n",
       "    },\n",
       "    function(Bokeh) {\n",
       "      console.log(\"Bokeh: injecting CSS: https://cdn.pydata.org/bokeh/release/bokeh-0.12.5.min.css\");\n",
       "      Bokeh.embed.inject_css(\"https://cdn.pydata.org/bokeh/release/bokeh-0.12.5.min.css\");\n",
       "      console.log(\"Bokeh: injecting CSS: https://cdn.pydata.org/bokeh/release/bokeh-widgets-0.12.5.min.css\");\n",
       "      Bokeh.embed.inject_css(\"https://cdn.pydata.org/bokeh/release/bokeh-widgets-0.12.5.min.css\");\n",
       "    }\n",
       "  ];\n",
       "\n",
       "  function run_inline_js() {\n",
       "    \n",
       "    if ((window.Bokeh !== undefined) || (force === true)) {\n",
       "      for (var i = 0; i < inline_js.length; i++) {\n",
       "        inline_js[i](window.Bokeh);\n",
       "      }if (force === true) {\n",
       "        display_loaded();\n",
       "      }} else if (Date.now() < window._bokeh_timeout) {\n",
       "      setTimeout(run_inline_js, 100);\n",
       "    } else if (!window._bokeh_failed_load) {\n",
       "      console.log(\"Bokeh: BokehJS failed to load within specified timeout.\");\n",
       "      window._bokeh_failed_load = true;\n",
       "    } else if (force !== true) {\n",
       "      var cell = $(document.getElementById(\"0e13e6bc-1488-447d-bad7-8e18f491afba\")).parents('.cell').data().cell;\n",
       "      cell.output_area.append_execute_result(NB_LOAD_WARNING)\n",
       "    }\n",
       "\n",
       "  }\n",
       "\n",
       "  if (window._bokeh_is_loading === 0) {\n",
       "    console.log(\"Bokeh: BokehJS loaded, going straight to plotting\");\n",
       "    run_inline_js();\n",
       "  } else {\n",
       "    load_libs(js_urls, function() {\n",
       "      console.log(\"Bokeh: BokehJS plotting callback run at\", now());\n",
       "      run_inline_js();\n",
       "    });\n",
       "  }\n",
       "}(this));"
      ]
     },
     "metadata": {},
     "output_type": "display_data"
    }
   ],
   "source": [
    "import pandas as pd\n",
    "import numpy as np\n",
    "import matplotlib.pyplot as plt\n",
    "import re\n",
    "import tensorflow \n",
    "import keras\n",
    "import itertools\n",
    "\n",
    "from sklearn import metrics\n",
    "from sklearn.preprocessing import StandardScaler\n",
    "from sklearn.feature_extraction import FeatureHasher, DictVectorizer\n",
    "from sklearn.pipeline import Pipeline\n",
    "from sklearn.pipeline import FeatureUnion\n",
    "from sklearn.grid_search import GridSearchCV\n",
    "from sklearn.metrics import confusion_matrix\n",
    "from sklearn.metrics import classification_report\n",
    "from sklearn.cross_validation import train_test_split\n",
    "from sklearn.linear_model import LogisticRegression\n",
    "from sklearn.base import BaseEstimator, TransformerMixin\n",
    "from bokeh.charts import Bar, output_file, show, output_notebook\n",
    "from keras.models import Sequential\n",
    "from keras.layers import Dense, Activation\n",
    "from sklearn.preprocessing import LabelBinarizer\n",
    "from sklearn.ensemble import RandomForestRegressor\n",
    "from sklearn.tree import DecisionTreeRegressor\n",
    "from IPython.core.display import Image, display\n",
    "from sklearn.externals.six import StringIO\n",
    "from IPython.display import Image  \n",
    "from sklearn import tree\n",
    "\n",
    "output_notebook()\n",
    "\n",
    "\n",
    "%matplotlib inline"
   ]
  },
  {
   "cell_type": "markdown",
   "metadata": {},
   "source": [
    "### Raw Data\n",
    "\n",
    "Each case in our raw training data is an individual animal, and the features include its characteristics (including name, animal type, age, gender, spay/neuter status, breed, coloring, and final outcome). Apart from age, all of the fields are categorical variables, so we’ll be creating binary variables for the majority of the fields (and their intersections). There are few missing values, and some cases where a field is marked as “Unknown” (appears in Name, Breed, and Gender). Overall, we are trying to predict the animal’s “final outcome”, of which there are five possibilities.\n"
   ]
  },
  {
   "cell_type": "code",
   "execution_count": 7,
   "metadata": {
    "collapsed": true
   },
   "outputs": [],
   "source": [
    "# Load the data\n",
    "data = pd.read_csv('data/train.csv')\n",
    "breeds = pd.read_csv('data/breeds.csv')\n",
    "breeds['Breed'] = breeds['Breed'].str.strip()\n",
    "top_breed_list = []\n",
    "for b in breeds['Breed']:\n",
    "    top_breed_list.append(b.strip())\n",
    "data['OutcomeSubtype'] = data['OutcomeSubtype'].fillna('')\n",
    "data['Female'] = 'Female' in data['SexuponOutcome']\n",
    "data['AgeuponOutcome'].fillna('', inplace = True)\n",
    "\n",
    "def ageConvert(age):\n",
    "    regexyear = '(\\d+) year'\n",
    "    regexmnth = '(\\d+) month'\n",
    "    regexwk = '(\\d+) week'\n",
    "    regexday = '(\\d+) day'\n",
    "    if re.match(regexyear, age):\n",
    "        const = int(re.match(regexyear, age).groups()[0])\n",
    "        return const*52\n",
    "    elif re.match(regexmnth, age):\n",
    "        const = int(re.match(regexmnth, age).groups()[0])\n",
    "        return const*4.5 # a month is roughly 4.5 weeks\n",
    "    elif re.match(regexwk, age):\n",
    "        return int(re.match(regexwk, age).groups()[0])\n",
    "    elif re.match(regexday, age):\n",
    "        const = int(re.match(regexday, age).groups()[0])\n",
    "        return const/7 #7 days in a week\n",
    "    else:\n",
    "        return None\n",
    "    \n",
    "data['ConvertedAge']=data['AgeuponOutcome'].apply(ageConvert)\n",
    "\n",
    "\n",
    "def female(i):\n",
    "    i = str(i)\n",
    "    if i.find('Female') >= 0: return 'Female'\n",
    "    if i.find('Unknown') >= 0: return 'Unknown'\n",
    "    return 'Male'\n",
    "data['Female'] = data.SexuponOutcome.apply(female)\n",
    "\n",
    "def intact(i):\n",
    "    i = str(i)\n",
    "    if i.find('Intact') >= 0: return 'Intact'\n",
    "    if i.find('Unknown') >= 0: return 'Unknown'\n",
    "    return 'Spayed/Neutered'\n",
    "data['Intact'] = data.SexuponOutcome.apply(intact)\n",
    "\n",
    "def mixed_breed(i):\n",
    "    i = str(i)\n",
    "    if i.find('Mix') >= 0: return 'Mixed Breed'\n",
    "    if i.find('/') >= 0: return 'Known Breed Combo'\n",
    "    return 'Nonmixed'\n",
    "data['MixedBreed'] = data.Breed.apply(mixed_breed)\n",
    "\n",
    "def top_breed(i):\n",
    "    i = str(i)\n",
    "    if any(word in i for word in top_breed_list):\n",
    "        return int(1)\n",
    "    else:\n",
    "        return int(0)\n",
    "data['TopBreed'] = data.Breed.apply(top_breed)\n",
    "\n",
    "def breed_rank(i):\n",
    "    i = str(i)\n",
    "    ranks = []\n",
    "    for word in top_breed_list:\n",
    "        if word in i:\n",
    "            ranks.append(int(breeds.loc[breeds['Breed'] == word]['2007']))\n",
    "    if len(ranks) > 0:\n",
    "        return np.mean(ranks)\n",
    "    else:\n",
    "        return 51.0\n",
    "data['BreedRank'] = data.Breed.apply(breed_rank)\n",
    "\n",
    "def pit_bull(i):\n",
    "    i = str(i)\n",
    "    if i.find(\"Pit Bull\") >=0: return int(1)\n",
    "    else: return int(0)\n",
    "data['PitBull'] = data.Breed.apply(pit_bull)\n",
    "\n",
    "def black_cat(i):\n",
    "    i = str(i)\n",
    "    if i == \"Black\": return int(1)\n",
    "    else: return int(0)\n",
    "data['BlackCat'] = data.Color.apply(black_cat)\n",
    "\n",
    "def naming(i):\n",
    "    if pd.isnull(i): return 'Unnamed'\n",
    "    return 'Named'\n",
    "data['Named'] = data.Name.apply(naming)\n",
    "\n",
    "#Change all breed and color strings so that they are ordered consistently\n",
    "#E.G. all \"brown/black\" and \"black/brown\" should become \"black, brown\"\n",
    "def reorder(i):\n",
    "    i = str(i)\n",
    "    if i.find(\" \") >= 0: i = i.replace(\" \", \"-\")\n",
    "    if i.find(\"/\") >= 0: i = i.replace(\"/\", \" \")\n",
    "    i = i.split()\n",
    "    i = sorted(i)\n",
    "    i = ' '.join(i)\n",
    "    return i\n",
    "\n",
    "data['OrderedColor'] = data.Color.apply(reorder)\n",
    "data['OrderedBreed'] = data.Breed.apply(reorder)\n"
   ]
  },
  {
   "cell_type": "code",
   "execution_count": 8,
   "metadata": {
    "collapsed": false,
    "scrolled": true
   },
   "outputs": [
    {
     "data": {
      "text/html": [
       "<div>\n",
       "<style>\n",
       "    .dataframe thead tr:only-child th {\n",
       "        text-align: right;\n",
       "    }\n",
       "\n",
       "    .dataframe thead th {\n",
       "        text-align: left;\n",
       "    }\n",
       "\n",
       "    .dataframe tbody tr th {\n",
       "        vertical-align: top;\n",
       "    }\n",
       "</style>\n",
       "<table border=\"1\" class=\"dataframe\">\n",
       "  <thead>\n",
       "    <tr style=\"text-align: right;\">\n",
       "      <th></th>\n",
       "      <th>count</th>\n",
       "      <th>mean</th>\n",
       "      <th>std</th>\n",
       "      <th>min</th>\n",
       "      <th>25%</th>\n",
       "      <th>50%</th>\n",
       "      <th>75%</th>\n",
       "      <th>max</th>\n",
       "    </tr>\n",
       "  </thead>\n",
       "  <tbody>\n",
       "    <tr>\n",
       "      <th>ConvertedAge</th>\n",
       "      <td>26729.0</td>\n",
       "      <td>113.370253</td>\n",
       "      <td>154.064766</td>\n",
       "      <td>0.0</td>\n",
       "      <td>9.0</td>\n",
       "      <td>52.0</td>\n",
       "      <td>156.0</td>\n",
       "      <td>1040.0</td>\n",
       "    </tr>\n",
       "    <tr>\n",
       "      <th>BreedRank</th>\n",
       "      <td>26729.0</td>\n",
       "      <td>35.975981</td>\n",
       "      <td>20.246237</td>\n",
       "      <td>1.0</td>\n",
       "      <td>12.0</td>\n",
       "      <td>51.0</td>\n",
       "      <td>51.0</td>\n",
       "      <td>51.0</td>\n",
       "    </tr>\n",
       "  </tbody>\n",
       "</table>\n",
       "</div>"
      ],
      "text/plain": [
       "                count        mean         std  min   25%   50%    75%     max\n",
       "ConvertedAge  26729.0  113.370253  154.064766  0.0   9.0  52.0  156.0  1040.0\n",
       "BreedRank     26729.0   35.975981   20.246237  1.0  12.0  51.0   51.0    51.0"
      ]
     },
     "execution_count": 8,
     "metadata": {},
     "output_type": "execute_result"
    }
   ],
   "source": [
    "#Remove unnecessary variables\n",
    "#del data['AnimalID']\n",
    "#del data['Name']\n",
    "#del data['DateTime']\n",
    "#del data['Breed']\n",
    "#del data['OutcomeSubtype']\n",
    "#del data['SexuponOutcome']\n",
    "#del data['AgeuponOutcome']\n",
    "#del data['Color']\n",
    "#del data['OrderedBreed']\n",
    "#del data['OrderedColor']\n",
    "\n",
    "continuous = {'dog':['ConvertedAge', 'BreedRank'], 'cat':['ConvertedAge']}\n",
    "discrete = {'dog':[\n",
    "    'AnimalType',\n",
    "    'Female',\n",
    "    'Intact',\n",
    "    'MixedBreed',\n",
    "    'Named',\n",
    "    'TopBreed',\n",
    "    'PitBull'\n",
    "], 'cat': [\n",
    "    'AnimalType',\n",
    "    'Female',\n",
    "    'Intact',\n",
    "    'MixedBreed',\n",
    "    'Named',\n",
    "    'BlackCat'\n",
    "]}\n",
    "\n",
    "\n",
    "predictors = {'dog': continuous['dog'] + discrete['dog'], 'cat':continuous['cat']+discrete['cat']}\n",
    "target = 'OutcomeType'\n",
    "\n",
    "#For those missing an age, fill with the median age by animal type\n",
    "data[\"ConvertedAge\"] = data.groupby(\"AnimalType\").transform(lambda x: x.fillna(x.median()))\n",
    "data[continuous['dog']].describe().T"
   ]
  },
  {
   "cell_type": "code",
   "execution_count": 9,
   "metadata": {
    "collapsed": false
   },
   "outputs": [
    {
     "name": "stdout",
     "output_type": "stream",
     "text": [
      "       OutcomeType  ConvertedAge  BreedRank  TopBreed  PitBull  \\\n",
      "0  Return_to_owner          52.0       20.0         1        0   \n",
      "1       Euthanasia          52.0       51.0         0        0   \n",
      "2         Adoption         104.0       51.0         0        1   \n",
      "3         Transfer           3.0       51.0         0        0   \n",
      "4         Transfer         104.0       28.5         1        0   \n",
      "\n",
      "   AnimalType_Cat  AnimalType_Dog  Female_Female  Female_Male  Female_Unknown  \\\n",
      "0               0               1              0            1               0   \n",
      "1               1               0              1            0               0   \n",
      "2               0               1              0            1               0   \n",
      "3               1               0              0            1               0   \n",
      "4               0               1              0            1               0   \n",
      "\n",
      "   Intact_Intact  Intact_Spayed/Neutered  Intact_Unknown  \\\n",
      "0              0                       1               0   \n",
      "1              0                       1               0   \n",
      "2              0                       1               0   \n",
      "3              1                       0               0   \n",
      "4              0                       1               0   \n",
      "\n",
      "   MixedBreed_Known Breed Combo  MixedBreed_Mixed Breed  MixedBreed_Nonmixed  \\\n",
      "0                             0                       1                    0   \n",
      "1                             0                       1                    0   \n",
      "2                             0                       1                    0   \n",
      "3                             0                       1                    0   \n",
      "4                             1                       0                    0   \n",
      "\n",
      "   Named_Named  Named_Unnamed  \n",
      "0            1              0  \n",
      "1            1              0  \n",
      "2            1              0  \n",
      "3            0              1  \n",
      "4            0              1  \n"
     ]
    },
    {
     "data": {
      "text/plain": [
       "(26729, 18)"
      ]
     },
     "execution_count": 9,
     "metadata": {},
     "output_type": "execute_result"
    }
   ],
   "source": [
    "#Turn categorical variables into binaries\n",
    "data2 = pd.concat([data[target], data[continuous['dog']], pd.get_dummies(data[discrete['dog']])], axis=1)\n",
    "\n",
    "print data2.head()\n",
    "data2.shape"
   ]
  },
  {
   "cell_type": "code",
   "execution_count": 10,
   "metadata": {
    "collapsed": false,
    "scrolled": true
   },
   "outputs": [
    {
     "name": "stderr",
     "output_type": "stream",
     "text": [
      "/Users/yubozhang/anaconda/lib/python2.7/site-packages/ipykernel/__main__.py:17: SettingWithCopyWarning: \n",
      "A value is trying to be set on a copy of a slice from a DataFrame.\n",
      "Try using .loc[row_indexer,col_indexer] = value instead\n",
      "\n",
      "See the caveats in the documentation: http://pandas.pydata.org/pandas-docs/stable/indexing.html#indexing-view-versus-copy\n",
      "/Users/yubozhang/anaconda/lib/python2.7/site-packages/ipykernel/__main__.py:18: SettingWithCopyWarning: \n",
      "A value is trying to be set on a copy of a slice from a DataFrame.\n",
      "Try using .loc[row_indexer,col_indexer] = value instead\n",
      "\n",
      "See the caveats in the documentation: http://pandas.pydata.org/pandas-docs/stable/indexing.html#indexing-view-versus-copy\n"
     ]
    }
   ],
   "source": [
    "discrete = ['AnimalType_Cat', 'AnimalType_Dog', 'Female_Female', 'Female_Male', 'Female_Unknown',\n",
    "           'Intact_Intact', 'Intact_Spayed/Neutered', 'Intact_Unknown', 'MixedBreed_Known Breed Combo',\n",
    "           'MixedBreed_Mixed Breed', 'MixedBreed_Nonmixed', 'Named_Named', 'Named_Unnamed']\n",
    "\n",
    "continuous = ['ConvertedAge', 'BreedRank']\n",
    "\n",
    "predictors = continuous + discrete\n",
    "\n",
    "# Train/test split\n",
    "X = data2[predictors]\n",
    "y = data2[[target]]\n",
    "X_train, X_dev, y_train, y_dev = train_test_split(X, y, random_state=2)\n",
    "\n",
    "#Normalize \n",
    "ss = StandardScaler()\n",
    "ss.fit(X_train[continuous])   # Compute mean and std of training data\n",
    "X_train[continuous] = ss.transform(X_train[continuous])  # Use that mean and std to normalize columns of training data\n",
    "X_dev[continuous] = ss.transform(X_dev[continuous]) "
   ]
  },
  {
   "cell_type": "markdown",
   "metadata": {},
   "source": [
    "### Visualizing Features"
   ]
  },
  {
   "cell_type": "code",
   "execution_count": 26,
   "metadata": {
    "collapsed": false
   },
   "outputs": [
    {
     "data": {
      "text/plain": [
       "<matplotlib.axes._subplots.AxesSubplot at 0xd6df208>"
      ]
     },
     "execution_count": 26,
     "metadata": {},
     "output_type": "execute_result"
    },
    {
     "data": {
      "image/png": "[encoded data removed]",
      "text/plain": [
       "<matplotlib.figure.Figure at 0xd243be0>"
      ]
     },
     "metadata": {},
     "output_type": "display_data"
    }
   ],
   "source": [
    "#Animal types\n",
    "animal_type = data['AnimalType'].value_counts() \n",
    "animal_type.plot(kind='bar',color='#34ABD8',rot=0)"
   ]
  },
  {
   "cell_type": "code",
   "execution_count": 27,
   "metadata": {
    "collapsed": false
   },
   "outputs": [
    {
     "data": {
      "text/html": [
       "\n",
       "\n",
       "    <div class=\"bk-root\">\n",
       "        <div class=\"plotdiv\" id=\"1cfda3b9-fa51-49e5-b31a-397c9eb8a72c\"></div>\n",
       "    </div>\n",
       "<script type=\"text/javascript\">\n",
       "  \n",
       "  (function(global) {\n",
       "    function now() {\n",
       "      return new Date();\n",
       "    }\n",
       "  \n",
       "    var force = \"\";\n",
       "  \n",
       "    if (typeof (window._bokeh_onload_callbacks) === \"undefined\" || force !== \"\") {\n",
       "      window._bokeh_onload_callbacks = [];\n",
       "      window._bokeh_is_loading = undefined;\n",
       "    }\n",
       "  \n",
       "  \n",
       "    \n",
       "    if (typeof (window._bokeh_timeout) === \"undefined\" || force !== \"\") {\n",
       "      window._bokeh_timeout = Date.now() + 0;\n",
       "      window._bokeh_failed_load = false;\n",
       "    }\n",
       "  \n",
       "    var NB_LOAD_WARNING = {'data': {'text/html':\n",
       "       \"<div style='background-color: #fdd'>\\n\"+\n",
       "       \"<p>\\n\"+\n",
       "       \"BokehJS does not appear to have successfully loaded. If loading BokehJS from CDN, this \\n\"+\n",
       "       \"may be due to a slow or bad network connection. Possible fixes:\\n\"+\n",
       "       \"</p>\\n\"+\n",
       "       \"<ul>\\n\"+\n",
       "       \"<li>re-rerun `output_notebook()` to attempt to load from CDN again, or</li>\\n\"+\n",
       "       \"<li>use INLINE resources instead, as so:</li>\\n\"+\n",
       "       \"</ul>\\n\"+\n",
       "       \"<code>\\n\"+\n",
       "       \"from bokeh.resources import INLINE\\n\"+\n",
       "       \"output_notebook(resources=INLINE)\\n\"+\n",
       "       \"</code>\\n\"+\n",
       "       \"</div>\"}};\n",
       "  \n",
       "    function display_loaded() {\n",
       "      if (window.Bokeh !== undefined) {\n",
       "        Bokeh.$(\"#1cfda3b9-fa51-49e5-b31a-397c9eb8a72c\").text(\"BokehJS successfully loaded.\");\n",
       "      } else if (Date.now() < window._bokeh_timeout) {\n",
       "        setTimeout(display_loaded, 100)\n",
       "      }\n",
       "    }\n",
       "  \n",
       "    function run_callbacks() {\n",
       "      window._bokeh_onload_callbacks.forEach(function(callback) { callback() });\n",
       "      delete window._bokeh_onload_callbacks\n",
       "      console.info(\"Bokeh: all callbacks have finished\");\n",
       "    }\n",
       "  \n",
       "    function load_libs(js_urls, callback) {\n",
       "      window._bokeh_onload_callbacks.push(callback);\n",
       "      if (window._bokeh_is_loading > 0) {\n",
       "        console.log(\"Bokeh: BokehJS is being loaded, scheduling callback at\", now());\n",
       "        return null;\n",
       "      }\n",
       "      if (js_urls == null || js_urls.length === 0) {\n",
       "        run_callbacks();\n",
       "        return null;\n",
       "      }\n",
       "      console.log(\"Bokeh: BokehJS not loaded, scheduling load and callback at\", now());\n",
       "      window._bokeh_is_loading = js_urls.length;\n",
       "      for (var i = 0; i < js_urls.length; i++) {\n",
       "        var url = js_urls[i];\n",
       "        var s = document.createElement('script');\n",
       "        s.src = url;\n",
       "        s.async = false;\n",
       "        s.onreadystatechange = s.onload = function() {\n",
       "          window._bokeh_is_loading--;\n",
       "          if (window._bokeh_is_loading === 0) {\n",
       "            console.log(\"Bokeh: all BokehJS libraries loaded\");\n",
       "            run_callbacks()\n",
       "          }\n",
       "        };\n",
       "        s.onerror = function() {\n",
       "          console.warn(\"failed to load library \" + url);\n",
       "        };\n",
       "        console.log(\"Bokeh: injecting script tag for BokehJS library: \", url);\n",
       "        document.getElementsByTagName(\"head\")[0].appendChild(s);\n",
       "      }\n",
       "    };var element = document.getElementById(\"1cfda3b9-fa51-49e5-b31a-397c9eb8a72c\");\n",
       "    if (element == null) {\n",
       "      console.log(\"Bokeh: ERROR: autoload.js configured with elementid '1cfda3b9-fa51-49e5-b31a-397c9eb8a72c' but no matching script tag was found. \")\n",
       "      return false;\n",
       "    }\n",
       "  \n",
       "    var js_urls = [];\n",
       "  \n",
       "    var inline_js = [\n",
       "      function(Bokeh) {\n",
       "        Bokeh.$(function() {\n",
       "            var docs_json = {\"bec54eb3-8269-42bd-9ced-1420b9176f52\":{\"roots\":{\"references\":[{\"attributes\":{\"fill_alpha\":{\"field\":\"fill_alpha\"},\"fill_color\":{\"field\":\"color\"},\"height\":{\"field\":\"height\",\"units\":\"data\"},\"line_color\":{\"field\":\"line_color\"},\"width\":{\"field\":\"width\",\"units\":\"data\"},\"x\":{\"field\":\"x\"},\"y\":{\"field\":\"y\"}},\"id\":\"31e2efff-9b10-4078-a75e-c95a321ac3a9\",\"type\":\"Rect\"},{\"attributes\":{\"fill_alpha\":{\"field\":\"fill_alpha\"},\"fill_color\":{\"field\":\"color\"},\"height\":{\"field\":\"height\",\"units\":\"data\"},\"line_color\":{\"field\":\"line_color\"},\"width\":{\"field\":\"width\",\"units\":\"data\"},\"x\":{\"field\":\"x\"},\"y\":{\"field\":\"y\"}},\"id\":\"5151fb18-34f0-420a-b143-1d809627790f\",\"type\":\"Rect\"},{\"attributes\":{\"overlay\":{\"id\":\"37159a40-d325-4cc6-b7a2-fcb6d309fc2e\",\"type\":\"BoxAnnotation\"},\"plot\":{\"id\":\"4f06c837-b2ae-417c-a892-b7cb4f97a397\",\"subtype\":\"Chart\",\"type\":\"Plot\"}},\"id\":\"b798e395-4e3c-49f6-82f3-1a10bb928a8a\",\"type\":\"BoxZoomTool\"},{\"attributes\":{\"plot\":{\"id\":\"4f06c837-b2ae-417c-a892-b7cb4f97a397\",\"subtype\":\"Chart\",\"type\":\"Plot\"}},\"id\":\"aa1ac783-9935-4387-8381-5eab24650b09\",\"type\":\"WheelZoomTool\"},{\"attributes\":{\"data_source\":{\"id\":\"ffb93aae-06a9-4298-8b72-7da52d9f80b0\",\"type\":\"ColumnDataSource\"},\"glyph\":{\"id\":\"d39404f7-22af-480d-8884-c07b018a3c9d\",\"type\":\"Rect\"},\"hover_glyph\":null,\"nonselection_glyph\":null,\"selection_glyph\":null},\"id\":\"7e223c7a-519e-43dc-b1c0-c4ae7694e84a\",\"type\":\"GlyphRenderer\"},{\"attributes\":{\"below\":[{\"id\":\"d186f584-39a1-489d-a41e-bf624edfd0b6\",\"type\":\"CategoricalAxis\"}],\"left\":[{\"id\":\"3c259313-4688-47b2-a1f6-fa19cb4b4250\",\"type\":\"LinearAxis\"}],\"renderers\":[{\"id\":\"37159a40-d325-4cc6-b7a2-fcb6d309fc2e\",\"type\":\"BoxAnnotation\"},{\"id\":\"a7748f2e-91e4-4944-9c27-e5b8f1cd2140\",\"type\":\"GlyphRenderer\"},{\"id\":\"7e223c7a-519e-43dc-b1c0-c4ae7694e84a\",\"type\":\"GlyphRenderer\"},{\"id\":\"9fdd2fe7-fbee-4c3e-83ad-deaf41d7a572\",\"type\":\"GlyphRenderer\"},{\"id\":\"1d01d450-0826-48a5-bdb6-b0790b076b19\",\"type\":\"GlyphRenderer\"},{\"id\":\"b84b2f15-7fc1-4f03-971c-e9c5454074dd\",\"type\":\"GlyphRenderer\"},{\"id\":\"6a620a31-1dc8-47f2-9bf9-de75e953b983\",\"type\":\"GlyphRenderer\"},{\"id\":\"23de051e-9b82-46b3-9205-c096ef659768\",\"type\":\"GlyphRenderer\"},{\"id\":\"64488895-dae8-4d47-8392-976dce379373\",\"type\":\"GlyphRenderer\"},{\"id\":\"0109ebf2-7810-4c81-9505-d09e1c04ecff\",\"type\":\"GlyphRenderer\"},{\"id\":\"8c444823-f999-4bf3-96fd-0779bcf8e848\",\"type\":\"GlyphRenderer\"},{\"id\":\"a53da3ff-5607-4484-80f5-d92dd1942ef0\",\"type\":\"Legend\"},{\"id\":\"d186f584-39a1-489d-a41e-bf624edfd0b6\",\"type\":\"CategoricalAxis\"},{\"id\":\"3c259313-4688-47b2-a1f6-fa19cb4b4250\",\"type\":\"LinearAxis\"},{\"id\":\"bd7cdedf-d9d5-4c40-9b0c-8410bb79a13e\",\"type\":\"Grid\"}],\"title\":{\"id\":\"8c3c395c-2362-4bcc-89c1-b28a8f4342f0\",\"type\":\"Title\"},\"tool_events\":{\"id\":\"9727ec28-39a4-427c-887c-23b08cda7516\",\"type\":\"ToolEvents\"},\"toolbar\":{\"id\":\"91058ff6-bcb6-4008-9c48-295805fb772b\",\"type\":\"Toolbar\"},\"x_mapper_type\":\"auto\",\"x_range\":{\"id\":\"27046bef-ece0-4ab5-b09b-c368dd5b262e\",\"type\":\"FactorRange\"},\"y_mapper_type\":\"auto\",\"y_range\":{\"id\":\"be75d318-7464-4279-951c-bc4818c5e604\",\"type\":\"Range1d\"}},\"id\":\"4f06c837-b2ae-417c-a892-b7cb4f97a397\",\"subtype\":\"Chart\",\"type\":\"Plot\"},{\"attributes\":{\"plot\":{\"id\":\"4f06c837-b2ae-417c-a892-b7cb4f97a397\",\"subtype\":\"Chart\",\"type\":\"Plot\"}},\"id\":\"3cff75dd-25bf-4a91-bafd-7f7ae1283b56\",\"type\":\"ResetTool\"},{\"attributes\":{},\"id\":\"acd78965-d32f-4733-a884-adbd067e9243\",\"type\":\"BasicTickFormatter\"},{\"attributes\":{\"fill_alpha\":{\"field\":\"fill_alpha\"},\"fill_color\":{\"field\":\"color\"},\"height\":{\"field\":\"height\",\"units\":\"data\"},\"line_color\":{\"field\":\"line_color\"},\"width\":{\"field\":\"width\",\"units\":\"data\"},\"x\":{\"field\":\"x\"},\"y\":{\"field\":\"y\"}},\"id\":\"5974815a-e227-4a7e-8efa-202da89f8b95\",\"type\":\"Rect\"},{\"attributes\":{\"dimension\":1,\"plot\":{\"id\":\"4f06c837-b2ae-417c-a892-b7cb4f97a397\",\"subtype\":\"Chart\",\"type\":\"Plot\"},\"ticker\":{\"id\":\"f876ddf5-d5ce-4e13-83e2-af374bbdb7c4\",\"type\":\"BasicTicker\"}},\"id\":\"bd7cdedf-d9d5-4c40-9b0c-8410bb79a13e\",\"type\":\"Grid\"},{\"attributes\":{\"axis_label\":\"Outcometype\",\"formatter\":{\"id\":\"3da58498-ca31-4d2e-a590-8fe8b76fd204\",\"type\":\"CategoricalTickFormatter\"},\"major_label_orientation\":0.7853981633974483,\"plot\":{\"id\":\"4f06c837-b2ae-417c-a892-b7cb4f97a397\",\"subtype\":\"Chart\",\"type\":\"Plot\"},\"ticker\":{\"id\":\"d3bfc6b0-8869-49f2-8c96-6acad4a1c0d6\",\"type\":\"CategoricalTicker\"}},\"id\":\"d186f584-39a1-489d-a41e-bf624edfd0b6\",\"type\":\"CategoricalAxis\"},{\"attributes\":{\"callback\":null,\"column_names\":[\"line_color\",\"line_alpha\",\"color\",\"fill_alpha\",\"height\",\"width\",\"y\",\"x\",\"label\"],\"data\":{\"AnimalType\":[\"Dog\"],\"OutcomeType\":[\"Transfer\"],\"chart_index\":[{\"AnimalType\":\"Dog\",\"OutcomeType\":\"Transfer\"}],\"color\":[\"#5ab738\"],\"fill_alpha\":[0.8],\"height\":[3917.0],\"label\":[{\"AnimalType\":\"Dog\",\"OutcomeType\":\"Transfer\"}],\"line_alpha\":[1.0],\"line_color\":[\"white\"],\"width\":[0.8],\"x\":[\"Transfer\"],\"y\":[7463.5]}},\"id\":\"c5e9e80f-16a3-4099-bd0b-136b7ac6ee60\",\"type\":\"ColumnDataSource\"},{\"attributes\":{\"data_source\":{\"id\":\"c91ed681-dec4-487d-b025-82cd1c3ec1ff\",\"type\":\"ColumnDataSource\"},\"glyph\":{\"id\":\"010362a1-c851-4acf-b30e-14dc52447c8e\",\"type\":\"Rect\"},\"hover_glyph\":null,\"nonselection_glyph\":null,\"selection_glyph\":null},\"id\":\"6a620a31-1dc8-47f2-9bf9-de75e953b983\",\"type\":\"GlyphRenderer\"},{\"attributes\":{\"callback\":null,\"column_names\":[\"line_color\",\"line_alpha\",\"color\",\"fill_alpha\",\"height\",\"width\",\"y\",\"x\",\"label\"],\"data\":{\"AnimalType\":[\"Dog\"],\"OutcomeType\":[\"Return_to_owner\"],\"chart_index\":[{\"AnimalType\":\"Dog\",\"OutcomeType\":\"Return_to_owner\"}],\"color\":[\"#5ab738\"],\"fill_alpha\":[0.8],\"height\":[4286.0],\"label\":[{\"AnimalType\":\"Dog\",\"OutcomeType\":\"Return_to_owner\"}],\"line_alpha\":[1.0],\"line_color\":[\"white\"],\"width\":[0.8],\"x\":[\"Return_to_owner\"],\"y\":[2143.0]}},\"id\":\"1f37f775-c862-4469-898b-39d591ea4dde\",\"type\":\"ColumnDataSource\"},{\"attributes\":{\"fill_alpha\":{\"field\":\"fill_alpha\"},\"fill_color\":{\"field\":\"color\"},\"height\":{\"field\":\"height\",\"units\":\"data\"},\"line_color\":{\"field\":\"line_color\"},\"width\":{\"field\":\"width\",\"units\":\"data\"},\"x\":{\"field\":\"x\"},\"y\":{\"field\":\"y\"}},\"id\":\"9fefd8cd-da3b-4edc-a44f-0b62ec4ad2ee\",\"type\":\"Rect\"},{\"attributes\":{\"fill_alpha\":{\"field\":\"fill_alpha\"},\"fill_color\":{\"field\":\"color\"},\"height\":{\"field\":\"height\",\"units\":\"data\"},\"line_color\":{\"field\":\"line_color\"},\"width\":{\"field\":\"width\",\"units\":\"data\"},\"x\":{\"field\":\"x\"},\"y\":{\"field\":\"y\"}},\"id\":\"587601ed-e409-46a1-ba11-76144411e65c\",\"type\":\"Rect\"},{\"attributes\":{\"plot\":{\"id\":\"4f06c837-b2ae-417c-a892-b7cb4f97a397\",\"subtype\":\"Chart\",\"type\":\"Plot\"}},\"id\":\"b7b5b7e4-c020-4cbd-b4dd-a3cbe624e747\",\"type\":\"SaveTool\"},{\"attributes\":{\"callback\":null,\"column_names\":[\"line_color\",\"line_alpha\",\"color\",\"fill_alpha\",\"height\",\"width\",\"y\",\"x\",\"label\"],\"data\":{\"AnimalType\":[\"Dog\"],\"OutcomeType\":[\"Adoption\"],\"chart_index\":[{\"AnimalType\":\"Dog\",\"OutcomeType\":\"Adoption\"}],\"color\":[\"#5ab738\"],\"fill_alpha\":[0.8],\"height\":[6497.0],\"label\":[{\"AnimalType\":\"Dog\",\"OutcomeType\":\"Adoption\"}],\"line_alpha\":[1.0],\"line_color\":[\"white\"],\"width\":[0.8],\"x\":[\"Adoption\"],\"y\":[3248.5]}},\"id\":\"076abc1a-71c1-4a76-ad7d-c7c707d53d2c\",\"type\":\"ColumnDataSource\"},{\"attributes\":{\"fill_alpha\":{\"field\":\"fill_alpha\"},\"fill_color\":{\"field\":\"color\"},\"height\":{\"field\":\"height\",\"units\":\"data\"},\"line_color\":{\"field\":\"line_color\"},\"width\":{\"field\":\"width\",\"units\":\"data\"},\"x\":{\"field\":\"x\"},\"y\":{\"field\":\"y\"}},\"id\":\"ed9b6aea-e81f-4604-86c9-eb0062677946\",\"type\":\"Rect\"},{\"attributes\":{\"callback\":null,\"column_names\":[\"line_color\",\"line_alpha\",\"color\",\"fill_alpha\",\"height\",\"width\",\"y\",\"x\",\"label\"],\"data\":{\"AnimalType\":[\"Dog\"],\"OutcomeType\":[\"Euthanasia\"],\"chart_index\":[{\"AnimalType\":\"Dog\",\"OutcomeType\":\"Euthanasia\"}],\"color\":[\"#5ab738\"],\"fill_alpha\":[0.8],\"height\":[845.0],\"label\":[{\"AnimalType\":\"Dog\",\"OutcomeType\":\"Euthanasia\"}],\"line_alpha\":[1.0],\"line_color\":[\"white\"],\"width\":[0.8],\"x\":[\"Euthanasia\"],\"y\":[1132.5]}},\"id\":\"7517d98e-70bd-4a1e-9fe4-100bc3ce9145\",\"type\":\"ColumnDataSource\"},{\"attributes\":{\"data_source\":{\"id\":\"7517d98e-70bd-4a1e-9fe4-100bc3ce9145\",\"type\":\"ColumnDataSource\"},\"glyph\":{\"id\":\"5151fb18-34f0-420a-b143-1d809627790f\",\"type\":\"Rect\"},\"hover_glyph\":null,\"nonselection_glyph\":null,\"selection_glyph\":null},\"id\":\"64488895-dae8-4d47-8392-976dce379373\",\"type\":\"GlyphRenderer\"},{\"attributes\":{\"plot\":{\"id\":\"4f06c837-b2ae-417c-a892-b7cb4f97a397\",\"subtype\":\"Chart\",\"type\":\"Plot\"}},\"id\":\"c00c9b46-4a86-452a-a775-368e3bc98e34\",\"type\":\"HelpTool\"},{\"attributes\":{\"callback\":null,\"column_names\":[\"line_color\",\"line_alpha\",\"color\",\"fill_alpha\",\"height\",\"width\",\"y\",\"x\",\"label\"],\"data\":{\"AnimalType\":[\"Cat\"],\"OutcomeType\":[\"Transfer\"],\"chart_index\":[{\"AnimalType\":\"Cat\",\"OutcomeType\":\"Transfer\"}],\"color\":[\"#f22c40\"],\"fill_alpha\":[0.8],\"height\":[5505.0],\"label\":[{\"AnimalType\":\"Cat\",\"OutcomeType\":\"Transfer\"}],\"line_alpha\":[1.0],\"line_color\":[\"white\"],\"width\":[0.8],\"x\":[\"Transfer\"],\"y\":[2752.5]}},\"id\":\"e2265bcd-8dca-4e2c-97a3-98c74527aae4\",\"type\":\"ColumnDataSource\"},{\"attributes\":{\"callback\":null,\"column_names\":[\"line_color\",\"line_alpha\",\"color\",\"fill_alpha\",\"height\",\"width\",\"y\",\"x\",\"label\"],\"data\":{\"AnimalType\":[\"Cat\"],\"OutcomeType\":[\"Adoption\"],\"chart_index\":[{\"AnimalType\":\"Cat\",\"OutcomeType\":\"Adoption\"}],\"color\":[\"#f22c40\"],\"fill_alpha\":[0.8],\"height\":[4272.0],\"label\":[{\"AnimalType\":\"Cat\",\"OutcomeType\":\"Adoption\"}],\"line_alpha\":[1.0],\"line_color\":[\"white\"],\"width\":[0.8],\"x\":[\"Adoption\"],\"y\":[8633.0]}},\"id\":\"c91ed681-dec4-487d-b025-82cd1c3ec1ff\",\"type\":\"ColumnDataSource\"},{\"attributes\":{\"callback\":null,\"end\":11307.45},\"id\":\"be75d318-7464-4279-951c-bc4818c5e604\",\"type\":\"Range1d\"},{\"attributes\":{\"callback\":null,\"column_names\":[\"line_color\",\"line_alpha\",\"color\",\"fill_alpha\",\"height\",\"width\",\"y\",\"x\",\"label\"],\"data\":{\"AnimalType\":[\"Cat\"],\"OutcomeType\":[\"Euthanasia\"],\"chart_index\":[{\"AnimalType\":\"Cat\",\"OutcomeType\":\"Euthanasia\"}],\"color\":[\"#f22c40\"],\"fill_alpha\":[0.8],\"height\":[710.0],\"label\":[{\"AnimalType\":\"Cat\",\"OutcomeType\":\"Euthanasia\"}],\"line_alpha\":[1.0],\"line_color\":[\"white\"],\"width\":[0.8],\"x\":[\"Euthanasia\"],\"y\":[355.0]}},\"id\":\"ffb93aae-06a9-4298-8b72-7da52d9f80b0\",\"type\":\"ColumnDataSource\"},{\"attributes\":{\"data_source\":{\"id\":\"076abc1a-71c1-4a76-ad7d-c7c707d53d2c\",\"type\":\"ColumnDataSource\"},\"glyph\":{\"id\":\"9fefd8cd-da3b-4edc-a44f-0b62ec4ad2ee\",\"type\":\"Rect\"},\"hover_glyph\":null,\"nonselection_glyph\":null,\"selection_glyph\":null},\"id\":\"9fdd2fe7-fbee-4c3e-83ad-deaf41d7a572\",\"type\":\"GlyphRenderer\"},{\"attributes\":{\"data_source\":{\"id\":\"c5e9e80f-16a3-4099-bd0b-136b7ac6ee60\",\"type\":\"ColumnDataSource\"},\"glyph\":{\"id\":\"5974815a-e227-4a7e-8efa-202da89f8b95\",\"type\":\"Rect\"},\"hover_glyph\":null,\"nonselection_glyph\":null,\"selection_glyph\":null},\"id\":\"b84b2f15-7fc1-4f03-971c-e9c5454074dd\",\"type\":\"GlyphRenderer\"},{\"attributes\":{\"callback\":null,\"column_names\":[\"line_color\",\"line_alpha\",\"color\",\"fill_alpha\",\"height\",\"width\",\"y\",\"x\",\"label\"],\"data\":{\"AnimalType\":[\"Cat\"],\"OutcomeType\":[\"Return_to_owner\"],\"chart_index\":[{\"AnimalType\":\"Cat\",\"OutcomeType\":\"Return_to_owner\"}],\"color\":[\"#f22c40\"],\"fill_alpha\":[0.8],\"height\":[500.0],\"label\":[{\"AnimalType\":\"Cat\",\"OutcomeType\":\"Return_to_owner\"}],\"line_alpha\":[1.0],\"line_color\":[\"white\"],\"width\":[0.8],\"x\":[\"Return_to_owner\"],\"y\":[4536.0]}},\"id\":\"927f821e-b387-4f3e-927c-d2d9a5bc483d\",\"type\":\"ColumnDataSource\"},{\"attributes\":{\"active_drag\":\"auto\",\"active_scroll\":\"auto\",\"active_tap\":\"auto\",\"tools\":[{\"id\":\"6a2c64f9-c1c2-42d1-96c6-1ab867ea933d\",\"type\":\"PanTool\"},{\"id\":\"aa1ac783-9935-4387-8381-5eab24650b09\",\"type\":\"WheelZoomTool\"},{\"id\":\"b798e395-4e3c-49f6-82f3-1a10bb928a8a\",\"type\":\"BoxZoomTool\"},{\"id\":\"b7b5b7e4-c020-4cbd-b4dd-a3cbe624e747\",\"type\":\"SaveTool\"},{\"id\":\"3cff75dd-25bf-4a91-bafd-7f7ae1283b56\",\"type\":\"ResetTool\"},{\"id\":\"c00c9b46-4a86-452a-a775-368e3bc98e34\",\"type\":\"HelpTool\"}]},\"id\":\"91058ff6-bcb6-4008-9c48-295805fb772b\",\"type\":\"Toolbar\"},{\"attributes\":{\"legends\":[[\"Dog\",[{\"id\":\"a7748f2e-91e4-4944-9c27-e5b8f1cd2140\",\"type\":\"GlyphRenderer\"}]],[\"Cat\",[{\"id\":\"7e223c7a-519e-43dc-b1c0-c4ae7694e84a\",\"type\":\"GlyphRenderer\"}]]],\"plot\":{\"id\":\"4f06c837-b2ae-417c-a892-b7cb4f97a397\",\"subtype\":\"Chart\",\"type\":\"Plot\"}},\"id\":\"a53da3ff-5607-4484-80f5-d92dd1942ef0\",\"type\":\"Legend\"},{\"attributes\":{\"data_source\":{\"id\":\"1f37f775-c862-4469-898b-39d591ea4dde\",\"type\":\"ColumnDataSource\"},\"glyph\":{\"id\":\"893ca767-9c99-4d7b-84c4-d395e91c08b4\",\"type\":\"Rect\"},\"hover_glyph\":null,\"nonselection_glyph\":null,\"selection_glyph\":null},\"id\":\"a7748f2e-91e4-4944-9c27-e5b8f1cd2140\",\"type\":\"GlyphRenderer\"},{\"attributes\":{},\"id\":\"3da58498-ca31-4d2e-a590-8fe8b76fd204\",\"type\":\"CategoricalTickFormatter\"},{\"attributes\":{\"plot\":null,\"text\":\"Outcomes by Animal Type\"},\"id\":\"8c3c395c-2362-4bcc-89c1-b28a8f4342f0\",\"type\":\"Title\"},{\"attributes\":{\"data_source\":{\"id\":\"927f821e-b387-4f3e-927c-d2d9a5bc483d\",\"type\":\"ColumnDataSource\"},\"glyph\":{\"id\":\"ed9b6aea-e81f-4604-86c9-eb0062677946\",\"type\":\"Rect\"},\"hover_glyph\":null,\"nonselection_glyph\":null,\"selection_glyph\":null},\"id\":\"23de051e-9b82-46b3-9205-c096ef659768\",\"type\":\"GlyphRenderer\"},{\"attributes\":{\"callback\":null,\"column_names\":[\"line_color\",\"line_alpha\",\"color\",\"fill_alpha\",\"height\",\"width\",\"y\",\"x\",\"label\"],\"data\":{\"AnimalType\":[\"Cat\"],\"OutcomeType\":[\"Died\"],\"chart_index\":[{\"AnimalType\":\"Cat\",\"OutcomeType\":\"Died\"}],\"color\":[\"#f22c40\"],\"fill_alpha\":[0.8],\"height\":[147.0],\"label\":[{\"AnimalType\":\"Cat\",\"OutcomeType\":\"Died\"}],\"line_alpha\":[1.0],\"line_color\":[\"white\"],\"width\":[0.8],\"x\":[\"Died\"],\"y\":[73.5]}},\"id\":\"df34ef33-3b85-4088-aa0d-e649545e72c5\",\"type\":\"ColumnDataSource\"},{\"attributes\":{\"fill_alpha\":{\"field\":\"fill_alpha\"},\"fill_color\":{\"field\":\"color\"},\"height\":{\"field\":\"height\",\"units\":\"data\"},\"line_color\":{\"field\":\"line_color\"},\"width\":{\"field\":\"width\",\"units\":\"data\"},\"x\":{\"field\":\"x\"},\"y\":{\"field\":\"y\"}},\"id\":\"010362a1-c851-4acf-b30e-14dc52447c8e\",\"type\":\"Rect\"},{\"attributes\":{\"data_source\":{\"id\":\"e2265bcd-8dca-4e2c-97a3-98c74527aae4\",\"type\":\"ColumnDataSource\"},\"glyph\":{\"id\":\"a70ef792-f063-4426-ba22-9ceaf4a2d62f\",\"type\":\"Rect\"},\"hover_glyph\":null,\"nonselection_glyph\":null,\"selection_glyph\":null},\"id\":\"1d01d450-0826-48a5-bdb6-b0790b076b19\",\"type\":\"GlyphRenderer\"},{\"attributes\":{\"fill_alpha\":{\"field\":\"fill_alpha\"},\"fill_color\":{\"field\":\"color\"},\"height\":{\"field\":\"height\",\"units\":\"data\"},\"line_color\":{\"field\":\"line_color\"},\"width\":{\"field\":\"width\",\"units\":\"data\"},\"x\":{\"field\":\"x\"},\"y\":{\"field\":\"y\"}},\"id\":\"893ca767-9c99-4d7b-84c4-d395e91c08b4\",\"type\":\"Rect\"},{\"attributes\":{\"callback\":null,\"factors\":[\"Adoption\",\"Died\",\"Euthanasia\",\"Return_to_owner\",\"Transfer\"]},\"id\":\"27046bef-ece0-4ab5-b09b-c368dd5b262e\",\"type\":\"FactorRange\"},{\"attributes\":{\"fill_alpha\":{\"field\":\"fill_alpha\"},\"fill_color\":{\"field\":\"color\"},\"height\":{\"field\":\"height\",\"units\":\"data\"},\"line_color\":{\"field\":\"line_color\"},\"width\":{\"field\":\"width\",\"units\":\"data\"},\"x\":{\"field\":\"x\"},\"y\":{\"field\":\"y\"}},\"id\":\"d39404f7-22af-480d-8884-c07b018a3c9d\",\"type\":\"Rect\"},{\"attributes\":{\"bottom_units\":\"screen\",\"fill_alpha\":{\"value\":0.5},\"fill_color\":{\"value\":\"lightgrey\"},\"left_units\":\"screen\",\"level\":\"overlay\",\"line_alpha\":{\"value\":1.0},\"line_color\":{\"value\":\"black\"},\"line_dash\":[4,4],\"line_width\":{\"value\":2},\"plot\":null,\"render_mode\":\"css\",\"right_units\":\"screen\",\"top_units\":\"screen\"},\"id\":\"37159a40-d325-4cc6-b7a2-fcb6d309fc2e\",\"type\":\"BoxAnnotation\"},{\"attributes\":{\"callback\":null,\"column_names\":[\"line_color\",\"line_alpha\",\"color\",\"fill_alpha\",\"height\",\"width\",\"y\",\"x\",\"label\"],\"data\":{\"AnimalType\":[\"Dog\"],\"OutcomeType\":[\"Died\"],\"chart_index\":[{\"AnimalType\":\"Dog\",\"OutcomeType\":\"Died\"}],\"color\":[\"#5ab738\"],\"fill_alpha\":[0.8],\"height\":[50.0],\"label\":[{\"AnimalType\":\"Dog\",\"OutcomeType\":\"Died\"}],\"line_alpha\":[1.0],\"line_color\":[\"white\"],\"width\":[0.8],\"x\":[\"Died\"],\"y\":[172.0]}},\"id\":\"f630d573-dea0-4291-bbd2-f0b4d0c1a43a\",\"type\":\"ColumnDataSource\"},{\"attributes\":{},\"id\":\"9727ec28-39a4-427c-887c-23b08cda7516\",\"type\":\"ToolEvents\"},{\"attributes\":{},\"id\":\"f876ddf5-d5ce-4e13-83e2-af374bbdb7c4\",\"type\":\"BasicTicker\"},{\"attributes\":{\"axis_label\":\"Count( Animaltype )\",\"formatter\":{\"id\":\"acd78965-d32f-4733-a884-adbd067e9243\",\"type\":\"BasicTickFormatter\"},\"plot\":{\"id\":\"4f06c837-b2ae-417c-a892-b7cb4f97a397\",\"subtype\":\"Chart\",\"type\":\"Plot\"},\"ticker\":{\"id\":\"f876ddf5-d5ce-4e13-83e2-af374bbdb7c4\",\"type\":\"BasicTicker\"}},\"id\":\"3c259313-4688-47b2-a1f6-fa19cb4b4250\",\"type\":\"LinearAxis\"},{\"attributes\":{\"fill_alpha\":{\"field\":\"fill_alpha\"},\"fill_color\":{\"field\":\"color\"},\"height\":{\"field\":\"height\",\"units\":\"data\"},\"line_color\":{\"field\":\"line_color\"},\"width\":{\"field\":\"width\",\"units\":\"data\"},\"x\":{\"field\":\"x\"},\"y\":{\"field\":\"y\"}},\"id\":\"a70ef792-f063-4426-ba22-9ceaf4a2d62f\",\"type\":\"Rect\"},{\"attributes\":{\"plot\":{\"id\":\"4f06c837-b2ae-417c-a892-b7cb4f97a397\",\"subtype\":\"Chart\",\"type\":\"Plot\"}},\"id\":\"6a2c64f9-c1c2-42d1-96c6-1ab867ea933d\",\"type\":\"PanTool\"},{\"attributes\":{},\"id\":\"d3bfc6b0-8869-49f2-8c96-6acad4a1c0d6\",\"type\":\"CategoricalTicker\"},{\"attributes\":{\"data_source\":{\"id\":\"f630d573-dea0-4291-bbd2-f0b4d0c1a43a\",\"type\":\"ColumnDataSource\"},\"glyph\":{\"id\":\"587601ed-e409-46a1-ba11-76144411e65c\",\"type\":\"Rect\"},\"hover_glyph\":null,\"nonselection_glyph\":null,\"selection_glyph\":null},\"id\":\"8c444823-f999-4bf3-96fd-0779bcf8e848\",\"type\":\"GlyphRenderer\"},{\"attributes\":{\"data_source\":{\"id\":\"df34ef33-3b85-4088-aa0d-e649545e72c5\",\"type\":\"ColumnDataSource\"},\"glyph\":{\"id\":\"31e2efff-9b10-4078-a75e-c95a321ac3a9\",\"type\":\"Rect\"},\"hover_glyph\":null,\"nonselection_glyph\":null,\"selection_glyph\":null},\"id\":\"0109ebf2-7810-4c81-9505-d09e1c04ecff\",\"type\":\"GlyphRenderer\"}],\"root_ids\":[\"4f06c837-b2ae-417c-a892-b7cb4f97a397\"]},\"title\":\"Bokeh Application\",\"version\":\"0.12.2\"}};\n",
       "            var render_items = [{\"docid\":\"bec54eb3-8269-42bd-9ced-1420b9176f52\",\"elementid\":\"1cfda3b9-fa51-49e5-b31a-397c9eb8a72c\",\"modelid\":\"4f06c837-b2ae-417c-a892-b7cb4f97a397\"}];\n",
       "            \n",
       "            Bokeh.embed.embed_items(docs_json, render_items);\n",
       "        });\n",
       "      },\n",
       "      function(Bokeh) {\n",
       "      }\n",
       "    ];\n",
       "  \n",
       "    function run_inline_js() {\n",
       "      \n",
       "      if ((window.Bokeh !== undefined) || (force === \"1\")) {\n",
       "        for (var i = 0; i < inline_js.length; i++) {\n",
       "          inline_js[i](window.Bokeh);\n",
       "        }if (force === \"1\") {\n",
       "          display_loaded();\n",
       "        }} else if (Date.now() < window._bokeh_timeout) {\n",
       "        setTimeout(run_inline_js, 100);\n",
       "      } else if (!window._bokeh_failed_load) {\n",
       "        console.log(\"Bokeh: BokehJS failed to load within specified timeout.\");\n",
       "        window._bokeh_failed_load = true;\n",
       "      } else if (!force) {\n",
       "        var cell = $(\"#1cfda3b9-fa51-49e5-b31a-397c9eb8a72c\").parents('.cell').data().cell;\n",
       "        cell.output_area.append_execute_result(NB_LOAD_WARNING)\n",
       "      }\n",
       "  \n",
       "    }\n",
       "  \n",
       "    if (window._bokeh_is_loading === 0) {\n",
       "      console.log(\"Bokeh: BokehJS loaded, going straight to plotting\");\n",
       "      run_inline_js();\n",
       "    } else {\n",
       "      load_libs(js_urls, function() {\n",
       "        console.log(\"Bokeh: BokehJS plotting callback run at\", now());\n",
       "        run_inline_js();\n",
       "      });\n",
       "    }\n",
       "  }(this));\n",
       "</script>"
      ]
     },
     "metadata": {},
     "output_type": "display_data"
    }
   ],
   "source": [
    "#Animal types\n",
    "p = Bar(data, label='OutcomeType', values = 'AnimalType', agg='count', stack='AnimalType',\n",
    "        title=\"Outcomes by Animal Type\", legend='top_right')\n",
    "show(p)"
   ]
  },
  {
   "cell_type": "code",
   "execution_count": 28,
   "metadata": {
    "collapsed": false,
    "scrolled": false
   },
   "outputs": [
    {
     "data": {
      "text/plain": [
       "<matplotlib.axes._subplots.AxesSubplot at 0xf7177b8>"
      ]
     },
     "execution_count": 28,
     "metadata": {},
     "output_type": "execute_result"
    },
    {
     "data": {
      "image/png": "[encoded data removed]",
      "text/plain": [
       "<matplotlib.figure.Figure at 0xd24ecf8>"
      ]
     },
     "metadata": {},
     "output_type": "display_data"
    }
   ],
   "source": [
    "#Outcome types\n",
    "outcome_type = data['OutcomeType'].value_counts() \n",
    "outcome_type.plot(kind='bar',color='#34ABD8',rot=0)"
   ]
  },
  {
   "cell_type": "code",
   "execution_count": 29,
   "metadata": {
    "collapsed": false,
    "scrolled": false
   },
   "outputs": [
    {
     "data": {
      "text/plain": [
       "<matplotlib.axes._subplots.AxesSubplot at 0x111f8a90>"
      ]
     },
     "execution_count": 29,
     "metadata": {},
     "output_type": "execute_result"
    },
    {
     "data": {
      "image/png": "[encoded data removed]",
      "text/plain": [
       "<matplotlib.figure.Figure at 0x112d3f28>"
      ]
     },
     "metadata": {},
     "output_type": "display_data"
    }
   ],
   "source": [
    "#Spayed/neutered\n",
    "intact_type = data['Intact'].value_counts() \n",
    "intact_type.plot(kind='bar',color='#34ABD8',rot=0)"
   ]
  },
  {
   "cell_type": "code",
   "execution_count": 30,
   "metadata": {
    "collapsed": false
   },
   "outputs": [
    {
     "data": {
      "text/html": [
       "\n",
       "\n",
       "    <div class=\"bk-root\">\n",
       "        <div class=\"plotdiv\" id=\"1cf82894-6c5d-4e35-9e04-bef21848e320\"></div>\n",
       "    </div>\n",
       "<script type=\"text/javascript\">\n",
       "  \n",
       "  (function(global) {\n",
       "    function now() {\n",
       "      return new Date();\n",
       "    }\n",
       "  \n",
       "    var force = \"\";\n",
       "  \n",
       "    if (typeof (window._bokeh_onload_callbacks) === \"undefined\" || force !== \"\") {\n",
       "      window._bokeh_onload_callbacks = [];\n",
       "      window._bokeh_is_loading = undefined;\n",
       "    }\n",
       "  \n",
       "  \n",
       "    \n",
       "    if (typeof (window._bokeh_timeout) === \"undefined\" || force !== \"\") {\n",
       "      window._bokeh_timeout = Date.now() + 0;\n",
       "      window._bokeh_failed_load = false;\n",
       "    }\n",
       "  \n",
       "    var NB_LOAD_WARNING = {'data': {'text/html':\n",
       "       \"<div style='background-color: #fdd'>\\n\"+\n",
       "       \"<p>\\n\"+\n",
       "       \"BokehJS does not appear to have successfully loaded. If loading BokehJS from CDN, this \\n\"+\n",
       "       \"may be due to a slow or bad network connection. Possible fixes:\\n\"+\n",
       "       \"</p>\\n\"+\n",
       "       \"<ul>\\n\"+\n",
       "       \"<li>re-rerun `output_notebook()` to attempt to load from CDN again, or</li>\\n\"+\n",
       "       \"<li>use INLINE resources instead, as so:</li>\\n\"+\n",
       "       \"</ul>\\n\"+\n",
       "       \"<code>\\n\"+\n",
       "       \"from bokeh.resources import INLINE\\n\"+\n",
       "       \"output_notebook(resources=INLINE)\\n\"+\n",
       "       \"</code>\\n\"+\n",
       "       \"</div>\"}};\n",
       "  \n",
       "    function display_loaded() {\n",
       "      if (window.Bokeh !== undefined) {\n",
       "        Bokeh.$(\"#1cf82894-6c5d-4e35-9e04-bef21848e320\").text(\"BokehJS successfully loaded.\");\n",
       "      } else if (Date.now() < window._bokeh_timeout) {\n",
       "        setTimeout(display_loaded, 100)\n",
       "      }\n",
       "    }\n",
       "  \n",
       "    function run_callbacks() {\n",
       "      window._bokeh_onload_callbacks.forEach(function(callback) { callback() });\n",
       "      delete window._bokeh_onload_callbacks\n",
       "      console.info(\"Bokeh: all callbacks have finished\");\n",
       "    }\n",
       "  \n",
       "    function load_libs(js_urls, callback) {\n",
       "      window._bokeh_onload_callbacks.push(callback);\n",
       "      if (window._bokeh_is_loading > 0) {\n",
       "        console.log(\"Bokeh: BokehJS is being loaded, scheduling callback at\", now());\n",
       "        return null;\n",
       "      }\n",
       "      if (js_urls == null || js_urls.length === 0) {\n",
       "        run_callbacks();\n",
       "        return null;\n",
       "      }\n",
       "      console.log(\"Bokeh: BokehJS not loaded, scheduling load and callback at\", now());\n",
       "      window._bokeh_is_loading = js_urls.length;\n",
       "      for (var i = 0; i < js_urls.length; i++) {\n",
       "        var url = js_urls[i];\n",
       "        var s = document.createElement('script');\n",
       "        s.src = url;\n",
       "        s.async = false;\n",
       "        s.onreadystatechange = s.onload = function() {\n",
       "          window._bokeh_is_loading--;\n",
       "          if (window._bokeh_is_loading === 0) {\n",
       "            console.log(\"Bokeh: all BokehJS libraries loaded\");\n",
       "            run_callbacks()\n",
       "          }\n",
       "        };\n",
       "        s.onerror = function() {\n",
       "          console.warn(\"failed to load library \" + url);\n",
       "        };\n",
       "        console.log(\"Bokeh: injecting script tag for BokehJS library: \", url);\n",
       "        document.getElementsByTagName(\"head\")[0].appendChild(s);\n",
       "      }\n",
       "    };var element = document.getElementById(\"1cf82894-6c5d-4e35-9e04-bef21848e320\");\n",
       "    if (element == null) {\n",
       "      console.log(\"Bokeh: ERROR: autoload.js configured with elementid '1cf82894-6c5d-4e35-9e04-bef21848e320' but no matching script tag was found. \")\n",
       "      return false;\n",
       "    }\n",
       "  \n",
       "    var js_urls = [];\n",
       "  \n",
       "    var inline_js = [\n",
       "      function(Bokeh) {\n",
       "        Bokeh.$(function() {\n",
       "            var docs_json = {\"cbd19fc5-6d27-4f8f-8ec3-b6953f60a04d\":{\"roots\":{\"references\":[{\"attributes\":{\"active_drag\":\"auto\",\"active_scroll\":\"auto\",\"active_tap\":\"auto\",\"tools\":[{\"id\":\"62a23c74-0fd3-4fdd-95bd-9c7eddf7d5ec\",\"type\":\"PanTool\"},{\"id\":\"a674762c-25cc-45f2-8fad-55dd6ef78035\",\"type\":\"WheelZoomTool\"},{\"id\":\"e874c854-e3c8-4671-bba6-7cbc67b2f016\",\"type\":\"BoxZoomTool\"},{\"id\":\"b2c9df7a-5baf-417b-8d7c-a36179c066d1\",\"type\":\"SaveTool\"},{\"id\":\"fb9e4991-67d8-47d6-9860-389de44f6f68\",\"type\":\"ResetTool\"},{\"id\":\"d2dcc8f9-ef7d-4cbf-8f8d-22ee6411fbff\",\"type\":\"HelpTool\"}]},\"id\":\"e508101a-1643-44e3-9819-6668ccca82fd\",\"type\":\"Toolbar\"},{\"attributes\":{\"fill_alpha\":{\"field\":\"fill_alpha\"},\"fill_color\":{\"field\":\"color\"},\"height\":{\"field\":\"height\",\"units\":\"data\"},\"line_color\":{\"field\":\"line_color\"},\"width\":{\"field\":\"width\",\"units\":\"data\"},\"x\":{\"field\":\"x\"},\"y\":{\"field\":\"y\"}},\"id\":\"ba32c2a6-ddd7-4a4a-8af5-84043cb08d4a\",\"type\":\"Rect\"},{\"attributes\":{\"callback\":null,\"column_names\":[\"line_color\",\"line_alpha\",\"color\",\"fill_alpha\",\"height\",\"width\",\"y\",\"x\",\"label\"],\"data\":{\"Intact\":[\"Unknown\"],\"OutcomeType\":[\"Return_to_owner\"],\"chart_index\":[{\"Intact\":\"Unknown\",\"OutcomeType\":\"Return_to_owner\"}],\"color\":[\"#407ee7\"],\"fill_alpha\":[0.8],\"height\":[12.0],\"label\":[{\"Intact\":\"Unknown\",\"OutcomeType\":\"Return_to_owner\"}],\"line_alpha\":[1.0],\"line_color\":[\"white\"],\"width\":[0.8],\"x\":[\"Return_to_owner\"],\"y\":[4780.0]}},\"id\":\"a36c3e4f-ccba-461e-b806-440edaf386b0\",\"type\":\"ColumnDataSource\"},{\"attributes\":{\"callback\":null,\"column_names\":[\"line_color\",\"line_alpha\",\"color\",\"fill_alpha\",\"height\",\"width\",\"y\",\"x\",\"label\"],\"data\":{\"Intact\":[\"Intact\"],\"OutcomeType\":[\"Transfer\"],\"chart_index\":[{\"Intact\":\"Intact\",\"OutcomeType\":\"Transfer\"}],\"color\":[\"#f22c40\"],\"fill_alpha\":[0.8],\"height\":[4884.0],\"label\":[{\"Intact\":\"Intact\",\"OutcomeType\":\"Transfer\"}],\"line_alpha\":[1.0],\"line_color\":[\"white\"],\"width\":[0.8],\"x\":[\"Transfer\"],\"y\":[2442.0]}},\"id\":\"4525dabc-e082-4ee7-9a01-971a958e1120\",\"type\":\"ColumnDataSource\"},{\"attributes\":{\"fill_alpha\":{\"field\":\"fill_alpha\"},\"fill_color\":{\"field\":\"color\"},\"height\":{\"field\":\"height\",\"units\":\"data\"},\"line_color\":{\"field\":\"line_color\"},\"width\":{\"field\":\"width\",\"units\":\"data\"},\"x\":{\"field\":\"x\"},\"y\":{\"field\":\"y\"}},\"id\":\"c62a4d9c-0a09-47f7-952f-e1733b12ff21\",\"type\":\"Rect\"},{\"attributes\":{\"data_source\":{\"id\":\"3953f05a-78b2-4f26-91f9-81b8ab4ecd08\",\"type\":\"ColumnDataSource\"},\"glyph\":{\"id\":\"dee61aed-efe5-40db-bfff-ddf9deee5b52\",\"type\":\"Rect\"},\"hover_glyph\":null,\"nonselection_glyph\":null,\"selection_glyph\":null},\"id\":\"2ffee454-65a0-4a82-b923-70e70a0b08a0\",\"type\":\"GlyphRenderer\"},{\"attributes\":{\"callback\":null,\"column_names\":[\"line_color\",\"line_alpha\",\"color\",\"fill_alpha\",\"height\",\"width\",\"y\",\"x\",\"label\"],\"data\":{\"Intact\":[\"Spayed/Neutered\"],\"OutcomeType\":[\"Died\"],\"chart_index\":[{\"Intact\":\"Spayed/Neutered\",\"OutcomeType\":\"Died\"}],\"color\":[\"#5ab738\"],\"fill_alpha\":[0.8],\"height\":[37.0],\"label\":[{\"Intact\":\"Spayed/Neutered\",\"OutcomeType\":\"Died\"}],\"line_alpha\":[1.0],\"line_color\":[\"white\"],\"width\":[0.8],\"x\":[\"Died\"],\"y\":[178.5]}},\"id\":\"3953f05a-78b2-4f26-91f9-81b8ab4ecd08\",\"type\":\"ColumnDataSource\"},{\"attributes\":{\"callback\":null,\"column_names\":[\"line_color\",\"line_alpha\",\"color\",\"fill_alpha\",\"height\",\"width\",\"y\",\"x\",\"label\"],\"data\":{\"Intact\":[\"Intact\"],\"OutcomeType\":[\"Died\"],\"chart_index\":[{\"Intact\":\"Intact\",\"OutcomeType\":\"Died\"}],\"color\":[\"#f22c40\"],\"fill_alpha\":[0.8],\"height\":[135.0],\"label\":[{\"Intact\":\"Intact\",\"OutcomeType\":\"Died\"}],\"line_alpha\":[1.0],\"line_color\":[\"white\"],\"width\":[0.8],\"x\":[\"Died\"],\"y\":[67.5]}},\"id\":\"d8e8d175-228a-410a-9d75-eac6eb46bea7\",\"type\":\"ColumnDataSource\"},{\"attributes\":{\"data_source\":{\"id\":\"048552fe-1216-4816-a263-ea72a44fc9c5\",\"type\":\"ColumnDataSource\"},\"glyph\":{\"id\":\"c62a4d9c-0a09-47f7-952f-e1733b12ff21\",\"type\":\"Rect\"},\"hover_glyph\":null,\"nonselection_glyph\":null,\"selection_glyph\":null},\"id\":\"c3a729e0-61c2-489e-b0c8-8fb4f293291a\",\"type\":\"GlyphRenderer\"},{\"attributes\":{\"legends\":[[\"Spayed/Neutered\",[{\"id\":\"396c8bf5-4302-4560-874d-5906f8b5d73c\",\"type\":\"GlyphRenderer\"}]],[\"Intact\",[{\"id\":\"ad7d225e-878c-454c-9ebc-37d4ac7139e1\",\"type\":\"GlyphRenderer\"}]],[\"Unknown\",[{\"id\":\"c3a729e0-61c2-489e-b0c8-8fb4f293291a\",\"type\":\"GlyphRenderer\"}]]],\"plot\":{\"id\":\"68f5900b-6520-47e0-bb1a-185cc5c8a47e\",\"subtype\":\"Chart\",\"type\":\"Plot\"}},\"id\":\"617c13a6-b6c1-4726-b7db-8d004542b320\",\"type\":\"Legend\"},{\"attributes\":{\"fill_alpha\":{\"field\":\"fill_alpha\"},\"fill_color\":{\"field\":\"color\"},\"height\":{\"field\":\"height\",\"units\":\"data\"},\"line_color\":{\"field\":\"line_color\"},\"width\":{\"field\":\"width\",\"units\":\"data\"},\"x\":{\"field\":\"x\"},\"y\":{\"field\":\"y\"}},\"id\":\"3529cd28-1202-4539-95d0-49fb593fc6e1\",\"type\":\"Rect\"},{\"attributes\":{\"callback\":null,\"column_names\":[\"line_color\",\"line_alpha\",\"color\",\"fill_alpha\",\"height\",\"width\",\"y\",\"x\",\"label\"],\"data\":{\"Intact\":[\"Intact\"],\"OutcomeType\":[\"Adoption\"],\"chart_index\":[{\"Intact\":\"Intact\",\"OutcomeType\":\"Adoption\"}],\"color\":[\"#f22c40\"],\"fill_alpha\":[0.8],\"height\":[361.0],\"label\":[{\"Intact\":\"Intact\",\"OutcomeType\":\"Adoption\"}],\"line_alpha\":[1.0],\"line_color\":[\"white\"],\"width\":[0.8],\"x\":[\"Adoption\"],\"y\":[10588.5]}},\"id\":\"43f3d26a-6784-4900-97ce-66af03a63d30\",\"type\":\"ColumnDataSource\"},{\"attributes\":{},\"id\":\"429cf1b6-e428-48ef-9cb1-c065b6e38cd0\",\"type\":\"BasicTicker\"},{\"attributes\":{\"callback\":null,\"column_names\":[\"line_color\",\"line_alpha\",\"color\",\"fill_alpha\",\"height\",\"width\",\"y\",\"x\",\"label\"],\"data\":{\"Intact\":[\"Intact\"],\"OutcomeType\":[\"Return_to_owner\"],\"chart_index\":[{\"Intact\":\"Intact\",\"OutcomeType\":\"Return_to_owner\"}],\"color\":[\"#f22c40\"],\"fill_alpha\":[0.8],\"height\":[778.0],\"label\":[{\"Intact\":\"Intact\",\"OutcomeType\":\"Return_to_owner\"}],\"line_alpha\":[1.0],\"line_color\":[\"white\"],\"width\":[0.8],\"x\":[\"Return_to_owner\"],\"y\":[4385.0]}},\"id\":\"30792871-ecb3-421f-be53-012c467dd97a\",\"type\":\"ColumnDataSource\"},{\"attributes\":{\"data_source\":{\"id\":\"31c6fc92-4cab-4661-b7ae-b25f3b8b0b15\",\"type\":\"ColumnDataSource\"},\"glyph\":{\"id\":\"ba32c2a6-ddd7-4a4a-8af5-84043cb08d4a\",\"type\":\"Rect\"},\"hover_glyph\":null,\"nonselection_glyph\":null,\"selection_glyph\":null},\"id\":\"de569418-e38a-4528-a772-e1d9d1e32bb4\",\"type\":\"GlyphRenderer\"},{\"attributes\":{\"fill_alpha\":{\"field\":\"fill_alpha\"},\"fill_color\":{\"field\":\"color\"},\"height\":{\"field\":\"height\",\"units\":\"data\"},\"line_color\":{\"field\":\"line_color\"},\"width\":{\"field\":\"width\",\"units\":\"data\"},\"x\":{\"field\":\"x\"},\"y\":{\"field\":\"y\"}},\"id\":\"dee61aed-efe5-40db-bfff-ddf9deee5b52\",\"type\":\"Rect\"},{\"attributes\":{\"data_source\":{\"id\":\"d8310e6a-017d-4bf8-ad15-26c6201e37cb\",\"type\":\"ColumnDataSource\"},\"glyph\":{\"id\":\"e686873e-1ff2-4658-b7a4-27f144bda8ae\",\"type\":\"Rect\"},\"hover_glyph\":null,\"nonselection_glyph\":null,\"selection_glyph\":null},\"id\":\"b8327e81-669a-4c03-ad4d-0ca35ff872cf\",\"type\":\"GlyphRenderer\"},{\"attributes\":{\"callback\":null,\"column_names\":[\"line_color\",\"line_alpha\",\"color\",\"fill_alpha\",\"height\",\"width\",\"y\",\"x\",\"label\"],\"data\":{\"Intact\":[\"Spayed/Neutered\"],\"OutcomeType\":[\"Adoption\"],\"chart_index\":[{\"Intact\":\"Spayed/Neutered\",\"OutcomeType\":\"Adoption\"}],\"color\":[\"#5ab738\"],\"fill_alpha\":[0.8],\"height\":[10408.0],\"label\":[{\"Intact\":\"Spayed/Neutered\",\"OutcomeType\":\"Adoption\"}],\"line_alpha\":[1.0],\"line_color\":[\"white\"],\"width\":[0.8],\"x\":[\"Adoption\"],\"y\":[5204.0]}},\"id\":\"d8310e6a-017d-4bf8-ad15-26c6201e37cb\",\"type\":\"ColumnDataSource\"},{\"attributes\":{\"fill_alpha\":{\"field\":\"fill_alpha\"},\"fill_color\":{\"field\":\"color\"},\"height\":{\"field\":\"height\",\"units\":\"data\"},\"line_color\":{\"field\":\"line_color\"},\"width\":{\"field\":\"width\",\"units\":\"data\"},\"x\":{\"field\":\"x\"},\"y\":{\"field\":\"y\"}},\"id\":\"ba89795b-4f57-46af-b3b9-80280c064274\",\"type\":\"Rect\"},{\"attributes\":{\"data_source\":{\"id\":\"63c4685e-8424-4bf7-8cbc-216bc0ac00e4\",\"type\":\"ColumnDataSource\"},\"glyph\":{\"id\":\"9ab49efa-211c-47d1-be19-1329c022ffcb\",\"type\":\"Rect\"},\"hover_glyph\":null,\"nonselection_glyph\":null,\"selection_glyph\":null},\"id\":\"bbb11cc1-36de-4d09-b753-7c31ae17c160\",\"type\":\"GlyphRenderer\"},{\"attributes\":{\"plot\":null,\"text\":\"Outcomes by Intact Status\"},\"id\":\"9ce36a91-578c-4510-b1a2-95d9aa1ab5a1\",\"type\":\"Title\"},{\"attributes\":{\"callback\":null,\"column_names\":[\"line_color\",\"line_alpha\",\"color\",\"fill_alpha\",\"height\",\"width\",\"y\",\"x\",\"label\"],\"data\":{\"Intact\":[\"Unknown\"],\"OutcomeType\":[\"Died\"],\"chart_index\":[{\"Intact\":\"Unknown\",\"OutcomeType\":\"Died\"}],\"color\":[\"#407ee7\"],\"fill_alpha\":[0.8],\"height\":[25.0],\"label\":[{\"Intact\":\"Unknown\",\"OutcomeType\":\"Died\"}],\"line_alpha\":[1.0],\"line_color\":[\"white\"],\"width\":[0.8],\"x\":[\"Died\"],\"y\":[147.5]}},\"id\":\"e5ef0a7a-6013-4b39-89bc-d75bcd306d9e\",\"type\":\"ColumnDataSource\"},{\"attributes\":{\"callback\":null,\"column_names\":[\"line_color\",\"line_alpha\",\"color\",\"fill_alpha\",\"height\",\"width\",\"y\",\"x\",\"label\"],\"data\":{\"Intact\":[\"Intact\"],\"OutcomeType\":[\"Euthanasia\"],\"chart_index\":[{\"Intact\":\"Intact\",\"OutcomeType\":\"Euthanasia\"}],\"color\":[\"#f22c40\"],\"fill_alpha\":[0.8],\"height\":[878.0],\"label\":[{\"Intact\":\"Intact\",\"OutcomeType\":\"Euthanasia\"}],\"line_alpha\":[1.0],\"line_color\":[\"white\"],\"width\":[0.8],\"x\":[\"Euthanasia\"],\"y\":[1015.0]}},\"id\":\"31c6fc92-4cab-4661-b7ae-b25f3b8b0b15\",\"type\":\"ColumnDataSource\"},{\"attributes\":{\"callback\":null,\"end\":11307.45},\"id\":\"4ff29032-f27c-4c02-8fb2-41213df4c0ff\",\"type\":\"Range1d\"},{\"attributes\":{\"plot\":{\"id\":\"68f5900b-6520-47e0-bb1a-185cc5c8a47e\",\"subtype\":\"Chart\",\"type\":\"Plot\"}},\"id\":\"b2c9df7a-5baf-417b-8d7c-a36179c066d1\",\"type\":\"SaveTool\"},{\"attributes\":{},\"id\":\"9bfd4dad-cb9e-4429-b8ee-a529d2d6d5fd\",\"type\":\"ToolEvents\"},{\"attributes\":{\"data_source\":{\"id\":\"d8e8d175-228a-410a-9d75-eac6eb46bea7\",\"type\":\"ColumnDataSource\"},\"glyph\":{\"id\":\"39e99af4-38b5-4b5d-805d-d285feb2c2b8\",\"type\":\"Rect\"},\"hover_glyph\":null,\"nonselection_glyph\":null,\"selection_glyph\":null},\"id\":\"5b9ed2b0-0469-4440-8588-5e9221149044\",\"type\":\"GlyphRenderer\"},{\"attributes\":{\"fill_alpha\":{\"field\":\"fill_alpha\"},\"fill_color\":{\"field\":\"color\"},\"height\":{\"field\":\"height\",\"units\":\"data\"},\"line_color\":{\"field\":\"line_color\"},\"width\":{\"field\":\"width\",\"units\":\"data\"},\"x\":{\"field\":\"x\"},\"y\":{\"field\":\"y\"}},\"id\":\"4f1e3714-cda7-4211-a83b-43902f3285fa\",\"type\":\"Rect\"},{\"attributes\":{\"below\":[{\"id\":\"8a4d7a49-071c-4d1f-ab60-fc349415e17d\",\"type\":\"CategoricalAxis\"}],\"left\":[{\"id\":\"03ff3665-197a-45bc-9a02-71a1a20a222b\",\"type\":\"LinearAxis\"}],\"renderers\":[{\"id\":\"fd8b81b9-3376-495f-a1e3-82a5e0daf9f1\",\"type\":\"BoxAnnotation\"},{\"id\":\"396c8bf5-4302-4560-874d-5906f8b5d73c\",\"type\":\"GlyphRenderer\"},{\"id\":\"50dda45a-3aee-4243-ba89-c0b7e9403efb\",\"type\":\"GlyphRenderer\"},{\"id\":\"b8327e81-669a-4c03-ad4d-0ca35ff872cf\",\"type\":\"GlyphRenderer\"},{\"id\":\"ad7d225e-878c-454c-9ebc-37d4ac7139e1\",\"type\":\"GlyphRenderer\"},{\"id\":\"bbb11cc1-36de-4d09-b753-7c31ae17c160\",\"type\":\"GlyphRenderer\"},{\"id\":\"c3a729e0-61c2-489e-b0c8-8fb4f293291a\",\"type\":\"GlyphRenderer\"},{\"id\":\"de569418-e38a-4528-a772-e1d9d1e32bb4\",\"type\":\"GlyphRenderer\"},{\"id\":\"eb115c97-767d-4b67-a0f1-ab6e6ee664dc\",\"type\":\"GlyphRenderer\"},{\"id\":\"6212ed43-4c1e-44f3-a26e-d0198f9921ea\",\"type\":\"GlyphRenderer\"},{\"id\":\"e5098699-a7e8-4f38-9976-323bd5ec5acc\",\"type\":\"GlyphRenderer\"},{\"id\":\"5b9ed2b0-0469-4440-8588-5e9221149044\",\"type\":\"GlyphRenderer\"},{\"id\":\"9bdc11a1-643e-44c9-881b-ee91c51f4a50\",\"type\":\"GlyphRenderer\"},{\"id\":\"2ffee454-65a0-4a82-b923-70e70a0b08a0\",\"type\":\"GlyphRenderer\"},{\"id\":\"a2056e2c-0a71-4615-9671-147c37ba8159\",\"type\":\"GlyphRenderer\"},{\"id\":\"617c13a6-b6c1-4726-b7db-8d004542b320\",\"type\":\"Legend\"},{\"id\":\"8a4d7a49-071c-4d1f-ab60-fc349415e17d\",\"type\":\"CategoricalAxis\"},{\"id\":\"03ff3665-197a-45bc-9a02-71a1a20a222b\",\"type\":\"LinearAxis\"},{\"id\":\"9069e8c6-5174-4676-a57d-6fd54da72b45\",\"type\":\"Grid\"}],\"title\":{\"id\":\"9ce36a91-578c-4510-b1a2-95d9aa1ab5a1\",\"type\":\"Title\"},\"tool_events\":{\"id\":\"9bfd4dad-cb9e-4429-b8ee-a529d2d6d5fd\",\"type\":\"ToolEvents\"},\"toolbar\":{\"id\":\"e508101a-1643-44e3-9819-6668ccca82fd\",\"type\":\"Toolbar\"},\"x_mapper_type\":\"auto\",\"x_range\":{\"id\":\"29c59f8e-0227-431e-bad2-07d82d108e42\",\"type\":\"FactorRange\"},\"y_mapper_type\":\"auto\",\"y_range\":{\"id\":\"4ff29032-f27c-4c02-8fb2-41213df4c0ff\",\"type\":\"Range1d\"}},\"id\":\"68f5900b-6520-47e0-bb1a-185cc5c8a47e\",\"subtype\":\"Chart\",\"type\":\"Plot\"},{\"attributes\":{\"plot\":{\"id\":\"68f5900b-6520-47e0-bb1a-185cc5c8a47e\",\"subtype\":\"Chart\",\"type\":\"Plot\"}},\"id\":\"fb9e4991-67d8-47d6-9860-389de44f6f68\",\"type\":\"ResetTool\"},{\"attributes\":{\"callback\":null,\"column_names\":[\"line_color\",\"line_alpha\",\"color\",\"fill_alpha\",\"height\",\"width\",\"y\",\"x\",\"label\"],\"data\":{\"Intact\":[\"Spayed/Neutered\"],\"OutcomeType\":[\"Return_to_owner\"],\"chart_index\":[{\"Intact\":\"Spayed/Neutered\",\"OutcomeType\":\"Return_to_owner\"}],\"color\":[\"#5ab738\"],\"fill_alpha\":[0.8],\"height\":[3996.0],\"label\":[{\"Intact\":\"Spayed/Neutered\",\"OutcomeType\":\"Return_to_owner\"}],\"line_alpha\":[1.0],\"line_color\":[\"white\"],\"width\":[0.8],\"x\":[\"Return_to_owner\"],\"y\":[1998.0]}},\"id\":\"728d785d-ab91-4afd-976a-9faef4759d39\",\"type\":\"ColumnDataSource\"},{\"attributes\":{\"callback\":null,\"column_names\":[\"line_color\",\"line_alpha\",\"color\",\"fill_alpha\",\"height\",\"width\",\"y\",\"x\",\"label\"],\"data\":{\"Intact\":[\"Unknown\"],\"OutcomeType\":[\"Euthanasia\"],\"chart_index\":[{\"Intact\":\"Unknown\",\"OutcomeType\":\"Euthanasia\"}],\"color\":[\"#407ee7\"],\"fill_alpha\":[0.8],\"height\":[101.0],\"label\":[{\"Intact\":\"Unknown\",\"OutcomeType\":\"Euthanasia\"}],\"line_alpha\":[1.0],\"line_color\":[\"white\"],\"width\":[0.8],\"x\":[\"Euthanasia\"],\"y\":[1504.5]}},\"id\":\"6f6402dd-e2ff-41ed-a1eb-a4388628dd03\",\"type\":\"ColumnDataSource\"},{\"attributes\":{\"data_source\":{\"id\":\"e5ef0a7a-6013-4b39-89bc-d75bcd306d9e\",\"type\":\"ColumnDataSource\"},\"glyph\":{\"id\":\"4f1e3714-cda7-4211-a83b-43902f3285fa\",\"type\":\"Rect\"},\"hover_glyph\":null,\"nonselection_glyph\":null,\"selection_glyph\":null},\"id\":\"9bdc11a1-643e-44c9-881b-ee91c51f4a50\",\"type\":\"GlyphRenderer\"},{\"attributes\":{\"fill_alpha\":{\"field\":\"fill_alpha\"},\"fill_color\":{\"field\":\"color\"},\"height\":{\"field\":\"height\",\"units\":\"data\"},\"line_color\":{\"field\":\"line_color\"},\"width\":{\"field\":\"width\",\"units\":\"data\"},\"x\":{\"field\":\"x\"},\"y\":{\"field\":\"y\"}},\"id\":\"1993af2b-0171-4d5c-a8c2-ad7501e6e39b\",\"type\":\"Rect\"},{\"attributes\":{\"axis_label\":\"Outcometype\",\"formatter\":{\"id\":\"37f94f7c-ce69-41ba-85fa-42d3430f0f63\",\"type\":\"CategoricalTickFormatter\"},\"major_label_orientation\":0.7853981633974483,\"plot\":{\"id\":\"68f5900b-6520-47e0-bb1a-185cc5c8a47e\",\"subtype\":\"Chart\",\"type\":\"Plot\"},\"ticker\":{\"id\":\"7bdde129-9b65-4677-9f3f-69aa45324207\",\"type\":\"CategoricalTicker\"}},\"id\":\"8a4d7a49-071c-4d1f-ab60-fc349415e17d\",\"type\":\"CategoricalAxis\"},{\"attributes\":{\"axis_label\":\"Count( Intact )\",\"formatter\":{\"id\":\"dce74896-4d81-4862-869c-419d7e039007\",\"type\":\"BasicTickFormatter\"},\"plot\":{\"id\":\"68f5900b-6520-47e0-bb1a-185cc5c8a47e\",\"subtype\":\"Chart\",\"type\":\"Plot\"},\"ticker\":{\"id\":\"429cf1b6-e428-48ef-9cb1-c065b6e38cd0\",\"type\":\"BasicTicker\"}},\"id\":\"03ff3665-197a-45bc-9a02-71a1a20a222b\",\"type\":\"LinearAxis\"},{\"attributes\":{\"data_source\":{\"id\":\"a36c3e4f-ccba-461e-b806-440edaf386b0\",\"type\":\"ColumnDataSource\"},\"glyph\":{\"id\":\"ba89795b-4f57-46af-b3b9-80280c064274\",\"type\":\"Rect\"},\"hover_glyph\":null,\"nonselection_glyph\":null,\"selection_glyph\":null},\"id\":\"a2056e2c-0a71-4615-9671-147c37ba8159\",\"type\":\"GlyphRenderer\"},{\"attributes\":{\"callback\":null,\"column_names\":[\"line_color\",\"line_alpha\",\"color\",\"fill_alpha\",\"height\",\"width\",\"y\",\"x\",\"label\"],\"data\":{\"Intact\":[\"Spayed/Neutered\"],\"OutcomeType\":[\"Euthanasia\"],\"chart_index\":[{\"Intact\":\"Spayed/Neutered\",\"OutcomeType\":\"Euthanasia\"}],\"color\":[\"#5ab738\"],\"fill_alpha\":[0.8],\"height\":[576.0],\"label\":[{\"Intact\":\"Spayed/Neutered\",\"OutcomeType\":\"Euthanasia\"}],\"line_alpha\":[1.0],\"line_color\":[\"white\"],\"width\":[0.8],\"x\":[\"Euthanasia\"],\"y\":[288.0]}},\"id\":\"46cbe24a-ac23-4670-988a-6c8863e756fe\",\"type\":\"ColumnDataSource\"},{\"attributes\":{\"overlay\":{\"id\":\"fd8b81b9-3376-495f-a1e3-82a5e0daf9f1\",\"type\":\"BoxAnnotation\"},\"plot\":{\"id\":\"68f5900b-6520-47e0-bb1a-185cc5c8a47e\",\"subtype\":\"Chart\",\"type\":\"Plot\"}},\"id\":\"e874c854-e3c8-4671-bba6-7cbc67b2f016\",\"type\":\"BoxZoomTool\"},{\"attributes\":{\"callback\":null,\"column_names\":[\"line_color\",\"line_alpha\",\"color\",\"fill_alpha\",\"height\",\"width\",\"y\",\"x\",\"label\"],\"data\":{\"Intact\":[\"Spayed/Neutered\"],\"OutcomeType\":[\"Transfer\"],\"chart_index\":[{\"Intact\":\"Spayed/Neutered\",\"OutcomeType\":\"Transfer\"}],\"color\":[\"#5ab738\"],\"fill_alpha\":[0.8],\"height\":[3583.0],\"label\":[{\"Intact\":\"Spayed/Neutered\",\"OutcomeType\":\"Transfer\"}],\"line_alpha\":[1.0],\"line_color\":[\"white\"],\"width\":[0.8],\"x\":[\"Transfer\"],\"y\":[6675.5]}},\"id\":\"63c4685e-8424-4bf7-8cbc-216bc0ac00e4\",\"type\":\"ColumnDataSource\"},{\"attributes\":{\"fill_alpha\":{\"field\":\"fill_alpha\"},\"fill_color\":{\"field\":\"color\"},\"height\":{\"field\":\"height\",\"units\":\"data\"},\"line_color\":{\"field\":\"line_color\"},\"width\":{\"field\":\"width\",\"units\":\"data\"},\"x\":{\"field\":\"x\"},\"y\":{\"field\":\"y\"}},\"id\":\"0ff35a9e-0eb2-4119-bf2e-928325deb7f8\",\"type\":\"Rect\"},{\"attributes\":{\"fill_alpha\":{\"field\":\"fill_alpha\"},\"fill_color\":{\"field\":\"color\"},\"height\":{\"field\":\"height\",\"units\":\"data\"},\"line_color\":{\"field\":\"line_color\"},\"width\":{\"field\":\"width\",\"units\":\"data\"},\"x\":{\"field\":\"x\"},\"y\":{\"field\":\"y\"}},\"id\":\"9ab49efa-211c-47d1-be19-1329c022ffcb\",\"type\":\"Rect\"},{\"attributes\":{\"data_source\":{\"id\":\"728d785d-ab91-4afd-976a-9faef4759d39\",\"type\":\"ColumnDataSource\"},\"glyph\":{\"id\":\"07854741-7f4d-4e4c-874e-8a1273d59fbd\",\"type\":\"Rect\"},\"hover_glyph\":null,\"nonselection_glyph\":null,\"selection_glyph\":null},\"id\":\"396c8bf5-4302-4560-874d-5906f8b5d73c\",\"type\":\"GlyphRenderer\"},{\"attributes\":{\"data_source\":{\"id\":\"4525dabc-e082-4ee7-9a01-971a958e1120\",\"type\":\"ColumnDataSource\"},\"glyph\":{\"id\":\"3529cd28-1202-4539-95d0-49fb593fc6e1\",\"type\":\"Rect\"},\"hover_glyph\":null,\"nonselection_glyph\":null,\"selection_glyph\":null},\"id\":\"ad7d225e-878c-454c-9ebc-37d4ac7139e1\",\"type\":\"GlyphRenderer\"},{\"attributes\":{\"fill_alpha\":{\"field\":\"fill_alpha\"},\"fill_color\":{\"field\":\"color\"},\"height\":{\"field\":\"height\",\"units\":\"data\"},\"line_color\":{\"field\":\"line_color\"},\"width\":{\"field\":\"width\",\"units\":\"data\"},\"x\":{\"field\":\"x\"},\"y\":{\"field\":\"y\"}},\"id\":\"07854741-7f4d-4e4c-874e-8a1273d59fbd\",\"type\":\"Rect\"},{\"attributes\":{},\"id\":\"37f94f7c-ce69-41ba-85fa-42d3430f0f63\",\"type\":\"CategoricalTickFormatter\"},{\"attributes\":{\"callback\":null,\"factors\":[\"Adoption\",\"Died\",\"Euthanasia\",\"Return_to_owner\",\"Transfer\"]},\"id\":\"29c59f8e-0227-431e-bad2-07d82d108e42\",\"type\":\"FactorRange\"},{\"attributes\":{\"data_source\":{\"id\":\"43f3d26a-6784-4900-97ce-66af03a63d30\",\"type\":\"ColumnDataSource\"},\"glyph\":{\"id\":\"0ff35a9e-0eb2-4119-bf2e-928325deb7f8\",\"type\":\"Rect\"},\"hover_glyph\":null,\"nonselection_glyph\":null,\"selection_glyph\":null},\"id\":\"e5098699-a7e8-4f38-9976-323bd5ec5acc\",\"type\":\"GlyphRenderer\"},{\"attributes\":{\"data_source\":{\"id\":\"46cbe24a-ac23-4670-988a-6c8863e756fe\",\"type\":\"ColumnDataSource\"},\"glyph\":{\"id\":\"1993af2b-0171-4d5c-a8c2-ad7501e6e39b\",\"type\":\"Rect\"},\"hover_glyph\":null,\"nonselection_glyph\":null,\"selection_glyph\":null},\"id\":\"50dda45a-3aee-4243-ba89-c0b7e9403efb\",\"type\":\"GlyphRenderer\"},{\"attributes\":{\"plot\":{\"id\":\"68f5900b-6520-47e0-bb1a-185cc5c8a47e\",\"subtype\":\"Chart\",\"type\":\"Plot\"}},\"id\":\"d2dcc8f9-ef7d-4cbf-8f8d-22ee6411fbff\",\"type\":\"HelpTool\"},{\"attributes\":{\"data_source\":{\"id\":\"6f6402dd-e2ff-41ed-a1eb-a4388628dd03\",\"type\":\"ColumnDataSource\"},\"glyph\":{\"id\":\"bb766050-6680-4c5a-aff7-3ce4fc46186c\",\"type\":\"Rect\"},\"hover_glyph\":null,\"nonselection_glyph\":null,\"selection_glyph\":null},\"id\":\"6212ed43-4c1e-44f3-a26e-d0198f9921ea\",\"type\":\"GlyphRenderer\"},{\"attributes\":{\"data_source\":{\"id\":\"30792871-ecb3-421f-be53-012c467dd97a\",\"type\":\"ColumnDataSource\"},\"glyph\":{\"id\":\"e020f082-fbbd-4d70-9d4f-7bc65602b8da\",\"type\":\"Rect\"},\"hover_glyph\":null,\"nonselection_glyph\":null,\"selection_glyph\":null},\"id\":\"eb115c97-767d-4b67-a0f1-ab6e6ee664dc\",\"type\":\"GlyphRenderer\"},{\"attributes\":{\"plot\":{\"id\":\"68f5900b-6520-47e0-bb1a-185cc5c8a47e\",\"subtype\":\"Chart\",\"type\":\"Plot\"}},\"id\":\"a674762c-25cc-45f2-8fad-55dd6ef78035\",\"type\":\"WheelZoomTool\"},{\"attributes\":{},\"id\":\"7bdde129-9b65-4677-9f3f-69aa45324207\",\"type\":\"CategoricalTicker\"},{\"attributes\":{\"fill_alpha\":{\"field\":\"fill_alpha\"},\"fill_color\":{\"field\":\"color\"},\"height\":{\"field\":\"height\",\"units\":\"data\"},\"line_color\":{\"field\":\"line_color\"},\"width\":{\"field\":\"width\",\"units\":\"data\"},\"x\":{\"field\":\"x\"},\"y\":{\"field\":\"y\"}},\"id\":\"e686873e-1ff2-4658-b7a4-27f144bda8ae\",\"type\":\"Rect\"},{\"attributes\":{},\"id\":\"dce74896-4d81-4862-869c-419d7e039007\",\"type\":\"BasicTickFormatter\"},{\"attributes\":{\"fill_alpha\":{\"field\":\"fill_alpha\"},\"fill_color\":{\"field\":\"color\"},\"height\":{\"field\":\"height\",\"units\":\"data\"},\"line_color\":{\"field\":\"line_color\"},\"width\":{\"field\":\"width\",\"units\":\"data\"},\"x\":{\"field\":\"x\"},\"y\":{\"field\":\"y\"}},\"id\":\"bb766050-6680-4c5a-aff7-3ce4fc46186c\",\"type\":\"Rect\"},{\"attributes\":{\"plot\":{\"id\":\"68f5900b-6520-47e0-bb1a-185cc5c8a47e\",\"subtype\":\"Chart\",\"type\":\"Plot\"}},\"id\":\"62a23c74-0fd3-4fdd-95bd-9c7eddf7d5ec\",\"type\":\"PanTool\"},{\"attributes\":{\"fill_alpha\":{\"field\":\"fill_alpha\"},\"fill_color\":{\"field\":\"color\"},\"height\":{\"field\":\"height\",\"units\":\"data\"},\"line_color\":{\"field\":\"line_color\"},\"width\":{\"field\":\"width\",\"units\":\"data\"},\"x\":{\"field\":\"x\"},\"y\":{\"field\":\"y\"}},\"id\":\"e020f082-fbbd-4d70-9d4f-7bc65602b8da\",\"type\":\"Rect\"},{\"attributes\":{\"fill_alpha\":{\"field\":\"fill_alpha\"},\"fill_color\":{\"field\":\"color\"},\"height\":{\"field\":\"height\",\"units\":\"data\"},\"line_color\":{\"field\":\"line_color\"},\"width\":{\"field\":\"width\",\"units\":\"data\"},\"x\":{\"field\":\"x\"},\"y\":{\"field\":\"y\"}},\"id\":\"39e99af4-38b5-4b5d-805d-d285feb2c2b8\",\"type\":\"Rect\"},{\"attributes\":{\"dimension\":1,\"plot\":{\"id\":\"68f5900b-6520-47e0-bb1a-185cc5c8a47e\",\"subtype\":\"Chart\",\"type\":\"Plot\"},\"ticker\":{\"id\":\"429cf1b6-e428-48ef-9cb1-c065b6e38cd0\",\"type\":\"BasicTicker\"}},\"id\":\"9069e8c6-5174-4676-a57d-6fd54da72b45\",\"type\":\"Grid\"},{\"attributes\":{\"callback\":null,\"column_names\":[\"line_color\",\"line_alpha\",\"color\",\"fill_alpha\",\"height\",\"width\",\"y\",\"x\",\"label\"],\"data\":{\"Intact\":[\"Unknown\"],\"OutcomeType\":[\"Transfer\"],\"chart_index\":[{\"Intact\":\"Unknown\",\"OutcomeType\":\"Transfer\"}],\"color\":[\"#407ee7\"],\"fill_alpha\":[0.8],\"height\":[955.0],\"label\":[{\"Intact\":\"Unknown\",\"OutcomeType\":\"Transfer\"}],\"line_alpha\":[1.0],\"line_color\":[\"white\"],\"width\":[0.8],\"x\":[\"Transfer\"],\"y\":[8944.5]}},\"id\":\"048552fe-1216-4816-a263-ea72a44fc9c5\",\"type\":\"ColumnDataSource\"},{\"attributes\":{\"bottom_units\":\"screen\",\"fill_alpha\":{\"value\":0.5},\"fill_color\":{\"value\":\"lightgrey\"},\"left_units\":\"screen\",\"level\":\"overlay\",\"line_alpha\":{\"value\":1.0},\"line_color\":{\"value\":\"black\"},\"line_dash\":[4,4],\"line_width\":{\"value\":2},\"plot\":null,\"render_mode\":\"css\",\"right_units\":\"screen\",\"top_units\":\"screen\"},\"id\":\"fd8b81b9-3376-495f-a1e3-82a5e0daf9f1\",\"type\":\"BoxAnnotation\"}],\"root_ids\":[\"68f5900b-6520-47e0-bb1a-185cc5c8a47e\"]},\"title\":\"Bokeh Application\",\"version\":\"0.12.2\"}};\n",
       "            var render_items = [{\"docid\":\"cbd19fc5-6d27-4f8f-8ec3-b6953f60a04d\",\"elementid\":\"1cf82894-6c5d-4e35-9e04-bef21848e320\",\"modelid\":\"68f5900b-6520-47e0-bb1a-185cc5c8a47e\"}];\n",
       "            \n",
       "            Bokeh.embed.embed_items(docs_json, render_items);\n",
       "        });\n",
       "      },\n",
       "      function(Bokeh) {\n",
       "      }\n",
       "    ];\n",
       "  \n",
       "    function run_inline_js() {\n",
       "      \n",
       "      if ((window.Bokeh !== undefined) || (force === \"1\")) {\n",
       "        for (var i = 0; i < inline_js.length; i++) {\n",
       "          inline_js[i](window.Bokeh);\n",
       "        }if (force === \"1\") {\n",
       "          display_loaded();\n",
       "        }} else if (Date.now() < window._bokeh_timeout) {\n",
       "        setTimeout(run_inline_js, 100);\n",
       "      } else if (!window._bokeh_failed_load) {\n",
       "        console.log(\"Bokeh: BokehJS failed to load within specified timeout.\");\n",
       "        window._bokeh_failed_load = true;\n",
       "      } else if (!force) {\n",
       "        var cell = $(\"#1cf82894-6c5d-4e35-9e04-bef21848e320\").parents('.cell').data().cell;\n",
       "        cell.output_area.append_execute_result(NB_LOAD_WARNING)\n",
       "      }\n",
       "  \n",
       "    }\n",
       "  \n",
       "    if (window._bokeh_is_loading === 0) {\n",
       "      console.log(\"Bokeh: BokehJS loaded, going straight to plotting\");\n",
       "      run_inline_js();\n",
       "    } else {\n",
       "      load_libs(js_urls, function() {\n",
       "        console.log(\"Bokeh: BokehJS plotting callback run at\", now());\n",
       "        run_inline_js();\n",
       "      });\n",
       "    }\n",
       "  }(this));\n",
       "</script>"
      ]
     },
     "metadata": {},
     "output_type": "display_data"
    }
   ],
   "source": [
    "p = Bar(data, label='OutcomeType', values = 'Intact', agg='count', stack='Intact',\n",
    "        title=\"Outcomes by Intact Status\", legend='top_right')\n",
    "show(p)"
   ]
  },
  {
   "cell_type": "code",
   "execution_count": 31,
   "metadata": {
    "collapsed": false,
    "scrolled": false
   },
   "outputs": [
    {
     "data": {
      "text/plain": [
       "<matplotlib.axes._subplots.AxesSubplot at 0x115f2ef0>"
      ]
     },
     "execution_count": 31,
     "metadata": {},
     "output_type": "execute_result"
    },
    {
     "data": {
      "image/png": "[encoded data removed]",
      "text/plain": [
       "<matplotlib.figure.Figure at 0xd1a7d68>"
      ]
     },
     "metadata": {},
     "output_type": "display_data"
    }
   ],
   "source": [
    "#Sex\n",
    "intact_type = data['Female'].value_counts() \n",
    "intact_type.plot(kind='bar',color='#34ABD8',rot=0)"
   ]
  },
  {
   "cell_type": "code",
   "execution_count": 32,
   "metadata": {
    "collapsed": false
   },
   "outputs": [
    {
     "data": {
      "text/html": [
       "\n",
       "\n",
       "    <div class=\"bk-root\">\n",
       "        <div class=\"plotdiv\" id=\"3be4d018-865e-4fc0-a16b-8cb9f0b1baa2\"></div>\n",
       "    </div>\n",
       "<script type=\"text/javascript\">\n",
       "  \n",
       "  (function(global) {\n",
       "    function now() {\n",
       "      return new Date();\n",
       "    }\n",
       "  \n",
       "    var force = \"\";\n",
       "  \n",
       "    if (typeof (window._bokeh_onload_callbacks) === \"undefined\" || force !== \"\") {\n",
       "      window._bokeh_onload_callbacks = [];\n",
       "      window._bokeh_is_loading = undefined;\n",
       "    }\n",
       "  \n",
       "  \n",
       "    \n",
       "    if (typeof (window._bokeh_timeout) === \"undefined\" || force !== \"\") {\n",
       "      window._bokeh_timeout = Date.now() + 0;\n",
       "      window._bokeh_failed_load = false;\n",
       "    }\n",
       "  \n",
       "    var NB_LOAD_WARNING = {'data': {'text/html':\n",
       "       \"<div style='background-color: #fdd'>\\n\"+\n",
       "       \"<p>\\n\"+\n",
       "       \"BokehJS does not appear to have successfully loaded. If loading BokehJS from CDN, this \\n\"+\n",
       "       \"may be due to a slow or bad network connection. Possible fixes:\\n\"+\n",
       "       \"</p>\\n\"+\n",
       "       \"<ul>\\n\"+\n",
       "       \"<li>re-rerun `output_notebook()` to attempt to load from CDN again, or</li>\\n\"+\n",
       "       \"<li>use INLINE resources instead, as so:</li>\\n\"+\n",
       "       \"</ul>\\n\"+\n",
       "       \"<code>\\n\"+\n",
       "       \"from bokeh.resources import INLINE\\n\"+\n",
       "       \"output_notebook(resources=INLINE)\\n\"+\n",
       "       \"</code>\\n\"+\n",
       "       \"</div>\"}};\n",
       "  \n",
       "    function display_loaded() {\n",
       "      if (window.Bokeh !== undefined) {\n",
       "        Bokeh.$(\"#3be4d018-865e-4fc0-a16b-8cb9f0b1baa2\").text(\"BokehJS successfully loaded.\");\n",
       "      } else if (Date.now() < window._bokeh_timeout) {\n",
       "        setTimeout(display_loaded, 100)\n",
       "      }\n",
       "    }\n",
       "  \n",
       "    function run_callbacks() {\n",
       "      window._bokeh_onload_callbacks.forEach(function(callback) { callback() });\n",
       "      delete window._bokeh_onload_callbacks\n",
       "      console.info(\"Bokeh: all callbacks have finished\");\n",
       "    }\n",
       "  \n",
       "    function load_libs(js_urls, callback) {\n",
       "      window._bokeh_onload_callbacks.push(callback);\n",
       "      if (window._bokeh_is_loading > 0) {\n",
       "        console.log(\"Bokeh: BokehJS is being loaded, scheduling callback at\", now());\n",
       "        return null;\n",
       "      }\n",
       "      if (js_urls == null || js_urls.length === 0) {\n",
       "        run_callbacks();\n",
       "        return null;\n",
       "      }\n",
       "      console.log(\"Bokeh: BokehJS not loaded, scheduling load and callback at\", now());\n",
       "      window._bokeh_is_loading = js_urls.length;\n",
       "      for (var i = 0; i < js_urls.length; i++) {\n",
       "        var url = js_urls[i];\n",
       "        var s = document.createElement('script');\n",
       "        s.src = url;\n",
       "        s.async = false;\n",
       "        s.onreadystatechange = s.onload = function() {\n",
       "          window._bokeh_is_loading--;\n",
       "          if (window._bokeh_is_loading === 0) {\n",
       "            console.log(\"Bokeh: all BokehJS libraries loaded\");\n",
       "            run_callbacks()\n",
       "          }\n",
       "        };\n",
       "        s.onerror = function() {\n",
       "          console.warn(\"failed to load library \" + url);\n",
       "        };\n",
       "        console.log(\"Bokeh: injecting script tag for BokehJS library: \", url);\n",
       "        document.getElementsByTagName(\"head\")[0].appendChild(s);\n",
       "      }\n",
       "    };var element = document.getElementById(\"3be4d018-865e-4fc0-a16b-8cb9f0b1baa2\");\n",
       "    if (element == null) {\n",
       "      console.log(\"Bokeh: ERROR: autoload.js configured with elementid '3be4d018-865e-4fc0-a16b-8cb9f0b1baa2' but no matching script tag was found. \")\n",
       "      return false;\n",
       "    }\n",
       "  \n",
       "    var js_urls = [];\n",
       "  \n",
       "    var inline_js = [\n",
       "      function(Bokeh) {\n",
       "        Bokeh.$(function() {\n",
       "            var docs_json = {\"04dfbe57-042d-4951-a6d0-177245eb1c26\":{\"roots\":{\"references\":[{\"attributes\":{\"plot\":{\"id\":\"b55301e1-405a-4d21-a68e-db765347c265\",\"subtype\":\"Chart\",\"type\":\"Plot\"}},\"id\":\"84dffde8-f8be-4195-8486-4ec3799fcbc6\",\"type\":\"SaveTool\"},{\"attributes\":{},\"id\":\"2940c098-b373-4213-aeca-daa7746a3a1d\",\"type\":\"CategoricalTickFormatter\"},{\"attributes\":{\"fill_alpha\":{\"field\":\"fill_alpha\"},\"fill_color\":{\"field\":\"color\"},\"height\":{\"field\":\"height\",\"units\":\"data\"},\"line_color\":{\"field\":\"line_color\"},\"width\":{\"field\":\"width\",\"units\":\"data\"},\"x\":{\"field\":\"x\"},\"y\":{\"field\":\"y\"}},\"id\":\"6397143e-94f8-43fa-ae70-11c8448db488\",\"type\":\"Rect\"},{\"attributes\":{\"callback\":null,\"column_names\":[\"line_color\",\"line_alpha\",\"color\",\"fill_alpha\",\"height\",\"width\",\"y\",\"x\",\"label\"],\"data\":{\"Female\":[\"Male\"],\"OutcomeType\":[\"Died\"],\"chart_index\":[{\"Female\":\"Male\",\"OutcomeType\":\"Died\"}],\"color\":[\"#5ab738\"],\"fill_alpha\":[0.8],\"height\":[98.0],\"label\":[{\"Female\":\"Male\",\"OutcomeType\":\"Died\"}],\"line_alpha\":[1.0],\"line_color\":[\"white\"],\"width\":[0.8],\"x\":[\"Died\"],\"y\":[49.0]}},\"id\":\"2770f6cf-8d2a-4087-bcbd-b2a124d0fb86\",\"type\":\"ColumnDataSource\"},{\"attributes\":{\"below\":[{\"id\":\"667ccaa3-46e7-495a-8586-fbac315ceda0\",\"type\":\"CategoricalAxis\"}],\"left\":[{\"id\":\"ee6115e4-5ac3-415f-a76a-24c3d772273b\",\"type\":\"LinearAxis\"}],\"renderers\":[{\"id\":\"be657db6-eb16-4ebe-a950-fe9eb142feca\",\"type\":\"BoxAnnotation\"},{\"id\":\"5fea54c0-6e6d-495a-bb54-38181ad3147d\",\"type\":\"GlyphRenderer\"},{\"id\":\"24c5d575-86be-47d3-ab19-7363ac3f2439\",\"type\":\"GlyphRenderer\"},{\"id\":\"c92f83c4-2f1c-414d-ace1-f12083a59359\",\"type\":\"GlyphRenderer\"},{\"id\":\"43027ac5-f6ea-406d-be5b-3a03d21a28d4\",\"type\":\"GlyphRenderer\"},{\"id\":\"02114ff6-02ef-47e6-94cd-87fa86af8461\",\"type\":\"GlyphRenderer\"},{\"id\":\"789a4779-9b9a-4782-b632-39e28fe697d6\",\"type\":\"GlyphRenderer\"},{\"id\":\"0ac0500c-c14e-44f2-91d3-dba7bb497030\",\"type\":\"GlyphRenderer\"},{\"id\":\"ae9b30ae-b9d5-46f8-9e59-d6102f1853ea\",\"type\":\"GlyphRenderer\"},{\"id\":\"1f4066de-39ab-4fb8-92e4-7fb385ec3a76\",\"type\":\"GlyphRenderer\"},{\"id\":\"51b40cfc-8514-4c63-bd3b-75826b2d9579\",\"type\":\"GlyphRenderer\"},{\"id\":\"c13d0506-10a2-464b-8f2a-0e10621516df\",\"type\":\"GlyphRenderer\"},{\"id\":\"7325bfa1-29f1-49da-a66f-ad309aefa1ab\",\"type\":\"GlyphRenderer\"},{\"id\":\"f365aeca-dc25-4a57-9f78-a04495a363aa\",\"type\":\"GlyphRenderer\"},{\"id\":\"569bdb73-41b9-4b76-b6bb-806a69441e34\",\"type\":\"GlyphRenderer\"},{\"id\":\"9b419f40-e2de-4eb8-b10f-ca7f52805b79\",\"type\":\"Legend\"},{\"id\":\"667ccaa3-46e7-495a-8586-fbac315ceda0\",\"type\":\"CategoricalAxis\"},{\"id\":\"ee6115e4-5ac3-415f-a76a-24c3d772273b\",\"type\":\"LinearAxis\"},{\"id\":\"2fa671c8-056b-4a0e-9c1b-5755f403bf09\",\"type\":\"Grid\"}],\"title\":{\"id\":\"9ed4e268-a609-4437-b84f-c2897c04f364\",\"type\":\"Title\"},\"tool_events\":{\"id\":\"ea026411-a025-481c-9f2d-b8f005cff0a9\",\"type\":\"ToolEvents\"},\"toolbar\":{\"id\":\"98003a13-c34c-4707-8616-ee820a3e39ec\",\"type\":\"Toolbar\"},\"x_mapper_type\":\"auto\",\"x_range\":{\"id\":\"c2df930f-bd34-4549-88cb-51f0befde0f0\",\"type\":\"FactorRange\"},\"y_mapper_type\":\"auto\",\"y_range\":{\"id\":\"f8965fa8-24bf-4ac0-86ad-9548d3193ab6\",\"type\":\"Range1d\"}},\"id\":\"b55301e1-405a-4d21-a68e-db765347c265\",\"subtype\":\"Chart\",\"type\":\"Plot\"},{\"attributes\":{\"data_source\":{\"id\":\"ac5bf0c7-e658-4fa5-8068-9d264831e3cb\",\"type\":\"ColumnDataSource\"},\"glyph\":{\"id\":\"d6a062ba-3b7d-494c-9f19-606058d7d6f7\",\"type\":\"Rect\"},\"hover_glyph\":null,\"nonselection_glyph\":null,\"selection_glyph\":null},\"id\":\"5fea54c0-6e6d-495a-bb54-38181ad3147d\",\"type\":\"GlyphRenderer\"},{\"attributes\":{\"overlay\":{\"id\":\"be657db6-eb16-4ebe-a950-fe9eb142feca\",\"type\":\"BoxAnnotation\"},\"plot\":{\"id\":\"b55301e1-405a-4d21-a68e-db765347c265\",\"subtype\":\"Chart\",\"type\":\"Plot\"}},\"id\":\"48b77ead-5b7e-48b3-8767-731bb6c41b8f\",\"type\":\"BoxZoomTool\"},{\"attributes\":{\"data_source\":{\"id\":\"3c8f2a59-53e2-4bc0-974f-0bbfab5ffef4\",\"type\":\"ColumnDataSource\"},\"glyph\":{\"id\":\"b8760c5e-dd69-4d69-b7cf-111bb429cb88\",\"type\":\"Rect\"},\"hover_glyph\":null,\"nonselection_glyph\":null,\"selection_glyph\":null},\"id\":\"02114ff6-02ef-47e6-94cd-87fa86af8461\",\"type\":\"GlyphRenderer\"},{\"attributes\":{\"callback\":null,\"column_names\":[\"line_color\",\"line_alpha\",\"color\",\"fill_alpha\",\"height\",\"width\",\"y\",\"x\",\"label\"],\"data\":{\"Female\":[\"Male\"],\"OutcomeType\":[\"Euthanasia\"],\"chart_index\":[{\"Female\":\"Male\",\"OutcomeType\":\"Euthanasia\"}],\"color\":[\"#5ab738\"],\"fill_alpha\":[0.8],\"height\":[821.0],\"label\":[{\"Female\":\"Male\",\"OutcomeType\":\"Euthanasia\"}],\"line_alpha\":[1.0],\"line_color\":[\"white\"],\"width\":[0.8],\"x\":[\"Euthanasia\"],\"y\":[1043.5]}},\"id\":\"90a7f7ff-4d08-47c7-b12c-29c289f641e6\",\"type\":\"ColumnDataSource\"},{\"attributes\":{\"axis_label\":\"Outcometype\",\"formatter\":{\"id\":\"2940c098-b373-4213-aeca-daa7746a3a1d\",\"type\":\"CategoricalTickFormatter\"},\"major_label_orientation\":0.7853981633974483,\"plot\":{\"id\":\"b55301e1-405a-4d21-a68e-db765347c265\",\"subtype\":\"Chart\",\"type\":\"Plot\"},\"ticker\":{\"id\":\"e580ddd6-9089-4e05-8496-3ab6b3f72899\",\"type\":\"CategoricalTicker\"}},\"id\":\"667ccaa3-46e7-495a-8586-fbac315ceda0\",\"type\":\"CategoricalAxis\"},{\"attributes\":{\"dimension\":1,\"plot\":{\"id\":\"b55301e1-405a-4d21-a68e-db765347c265\",\"subtype\":\"Chart\",\"type\":\"Plot\"},\"ticker\":{\"id\":\"f9dfaded-f01a-4cda-b252-b92d887c0474\",\"type\":\"BasicTicker\"}},\"id\":\"2fa671c8-056b-4a0e-9c1b-5755f403bf09\",\"type\":\"Grid\"},{\"attributes\":{\"callback\":null,\"column_names\":[\"line_color\",\"line_alpha\",\"color\",\"fill_alpha\",\"height\",\"width\",\"y\",\"x\",\"label\"],\"data\":{\"Female\":[\"Female\"],\"OutcomeType\":[\"Adoption\"],\"chart_index\":[{\"Female\":\"Female\",\"OutcomeType\":\"Adoption\"}],\"color\":[\"#f22c40\"],\"fill_alpha\":[0.8],\"height\":[5389.0],\"label\":[{\"Female\":\"Female\",\"OutcomeType\":\"Adoption\"}],\"line_alpha\":[1.0],\"line_color\":[\"white\"],\"width\":[0.8],\"x\":[\"Adoption\"],\"y\":[8074.5]}},\"id\":\"0e5f1dfb-636c-482f-af7e-b5d72869ae3d\",\"type\":\"ColumnDataSource\"},{\"attributes\":{\"data_source\":{\"id\":\"cf9f2be5-eb15-44e6-886f-bd6e92b1308c\",\"type\":\"ColumnDataSource\"},\"glyph\":{\"id\":\"5d313838-f96c-4c95-81c0-6b8c8168131a\",\"type\":\"Rect\"},\"hover_glyph\":null,\"nonselection_glyph\":null,\"selection_glyph\":null},\"id\":\"1f4066de-39ab-4fb8-92e4-7fb385ec3a76\",\"type\":\"GlyphRenderer\"},{\"attributes\":{\"plot\":{\"id\":\"b55301e1-405a-4d21-a68e-db765347c265\",\"subtype\":\"Chart\",\"type\":\"Plot\"}},\"id\":\"83368bac-2031-4748-85d1-09ee709600a0\",\"type\":\"ResetTool\"},{\"attributes\":{\"callback\":null,\"column_names\":[\"line_color\",\"line_alpha\",\"color\",\"fill_alpha\",\"height\",\"width\",\"y\",\"x\",\"label\"],\"data\":{\"Female\":[\"Female\"],\"OutcomeType\":[\"Died\"],\"chart_index\":[{\"Female\":\"Female\",\"OutcomeType\":\"Died\"}],\"color\":[\"#f22c40\"],\"fill_alpha\":[0.8],\"height\":[74.0],\"label\":[{\"Female\":\"Female\",\"OutcomeType\":\"Died\"}],\"line_alpha\":[1.0],\"line_color\":[\"white\"],\"width\":[0.8],\"x\":[\"Died\"],\"y\":[160.0]}},\"id\":\"7afb0e2b-6962-4b05-b542-09ef03ff92fd\",\"type\":\"ColumnDataSource\"},{\"attributes\":{\"bottom_units\":\"screen\",\"fill_alpha\":{\"value\":0.5},\"fill_color\":{\"value\":\"lightgrey\"},\"left_units\":\"screen\",\"level\":\"overlay\",\"line_alpha\":{\"value\":1.0},\"line_color\":{\"value\":\"black\"},\"line_dash\":[4,4],\"line_width\":{\"value\":2},\"plot\":null,\"render_mode\":\"css\",\"right_units\":\"screen\",\"top_units\":\"screen\"},\"id\":\"be657db6-eb16-4ebe-a950-fe9eb142feca\",\"type\":\"BoxAnnotation\"},{\"attributes\":{\"plot\":{\"id\":\"b55301e1-405a-4d21-a68e-db765347c265\",\"subtype\":\"Chart\",\"type\":\"Plot\"}},\"id\":\"02ef97b5-eccf-4a95-ab23-6b681a018991\",\"type\":\"WheelZoomTool\"},{\"attributes\":{\"callback\":null,\"column_names\":[\"line_color\",\"line_alpha\",\"color\",\"fill_alpha\",\"height\",\"width\",\"y\",\"x\",\"label\"],\"data\":{\"Female\":[\"Female\"],\"OutcomeType\":[\"Return_to_owner\"],\"chart_index\":[{\"Female\":\"Female\",\"OutcomeType\":\"Return_to_owner\"}],\"color\":[\"#f22c40\"],\"fill_alpha\":[0.8],\"height\":[2049.0],\"label\":[{\"Female\":\"Female\",\"OutcomeType\":\"Return_to_owner\"}],\"line_alpha\":[1.0],\"line_color\":[\"white\"],\"width\":[0.8],\"x\":[\"Return_to_owner\"],\"y\":[3749.5]}},\"id\":\"cf9f2be5-eb15-44e6-886f-bd6e92b1308c\",\"type\":\"ColumnDataSource\"},{\"attributes\":{\"callback\":null,\"column_names\":[\"line_color\",\"line_alpha\",\"color\",\"fill_alpha\",\"height\",\"width\",\"y\",\"x\",\"label\"],\"data\":{\"Female\":[\"Female\"],\"OutcomeType\":[\"Transfer\"],\"chart_index\":[{\"Female\":\"Female\",\"OutcomeType\":\"Transfer\"}],\"color\":[\"#f22c40\"],\"fill_alpha\":[0.8],\"height\":[4186.0],\"label\":[{\"Female\":\"Female\",\"OutcomeType\":\"Transfer\"}],\"line_alpha\":[1.0],\"line_color\":[\"white\"],\"width\":[0.8],\"x\":[\"Transfer\"],\"y\":[6374.0]}},\"id\":\"3c8f2a59-53e2-4bc0-974f-0bbfab5ffef4\",\"type\":\"ColumnDataSource\"},{\"attributes\":{\"fill_alpha\":{\"field\":\"fill_alpha\"},\"fill_color\":{\"field\":\"color\"},\"height\":{\"field\":\"height\",\"units\":\"data\"},\"line_color\":{\"field\":\"line_color\"},\"width\":{\"field\":\"width\",\"units\":\"data\"},\"x\":{\"field\":\"x\"},\"y\":{\"field\":\"y\"}},\"id\":\"c516f16a-dae7-4a86-8101-89bf3b25f660\",\"type\":\"Rect\"},{\"attributes\":{\"data_source\":{\"id\":\"7afb0e2b-6962-4b05-b542-09ef03ff92fd\",\"type\":\"ColumnDataSource\"},\"glyph\":{\"id\":\"26e25754-5d25-412e-b454-494a5c83a78e\",\"type\":\"Rect\"},\"hover_glyph\":null,\"nonselection_glyph\":null,\"selection_glyph\":null},\"id\":\"f365aeca-dc25-4a57-9f78-a04495a363aa\",\"type\":\"GlyphRenderer\"},{\"attributes\":{\"data_source\":{\"id\":\"2770f6cf-8d2a-4087-bcbd-b2a124d0fb86\",\"type\":\"ColumnDataSource\"},\"glyph\":{\"id\":\"c516f16a-dae7-4a86-8101-89bf3b25f660\",\"type\":\"Rect\"},\"hover_glyph\":null,\"nonselection_glyph\":null,\"selection_glyph\":null},\"id\":\"c13d0506-10a2-464b-8f2a-0e10621516df\",\"type\":\"GlyphRenderer\"},{\"attributes\":{\"fill_alpha\":{\"field\":\"fill_alpha\"},\"fill_color\":{\"field\":\"color\"},\"height\":{\"field\":\"height\",\"units\":\"data\"},\"line_color\":{\"field\":\"line_color\"},\"width\":{\"field\":\"width\",\"units\":\"data\"},\"x\":{\"field\":\"x\"},\"y\":{\"field\":\"y\"}},\"id\":\"5d313838-f96c-4c95-81c0-6b8c8168131a\",\"type\":\"Rect\"},{\"attributes\":{\"fill_alpha\":{\"field\":\"fill_alpha\"},\"fill_color\":{\"field\":\"color\"},\"height\":{\"field\":\"height\",\"units\":\"data\"},\"line_color\":{\"field\":\"line_color\"},\"width\":{\"field\":\"width\",\"units\":\"data\"},\"x\":{\"field\":\"x\"},\"y\":{\"field\":\"y\"}},\"id\":\"ebacd044-0b1e-4f4b-95c8-eefdb7eedd82\",\"type\":\"Rect\"},{\"attributes\":{\"callback\":null,\"column_names\":[\"line_color\",\"line_alpha\",\"color\",\"fill_alpha\",\"height\",\"width\",\"y\",\"x\",\"label\"],\"data\":{\"Female\":[\"Male\"],\"OutcomeType\":[\"Adoption\"],\"chart_index\":[{\"Female\":\"Male\",\"OutcomeType\":\"Adoption\"}],\"color\":[\"#5ab738\"],\"fill_alpha\":[0.8],\"height\":[5380.0],\"label\":[{\"Female\":\"Male\",\"OutcomeType\":\"Adoption\"}],\"line_alpha\":[1.0],\"line_color\":[\"white\"],\"width\":[0.8],\"x\":[\"Adoption\"],\"y\":[2690.0]}},\"id\":\"d351b89a-268a-45d5-ad34-da0c65000299\",\"type\":\"ColumnDataSource\"},{\"attributes\":{\"callback\":null,\"column_names\":[\"line_color\",\"line_alpha\",\"color\",\"fill_alpha\",\"height\",\"width\",\"y\",\"x\",\"label\"],\"data\":{\"Female\":[\"Female\"],\"OutcomeType\":[\"Euthanasia\"],\"chart_index\":[{\"Female\":\"Female\",\"OutcomeType\":\"Euthanasia\"}],\"color\":[\"#f22c40\"],\"fill_alpha\":[0.8],\"height\":[633.0],\"label\":[{\"Female\":\"Female\",\"OutcomeType\":\"Euthanasia\"}],\"line_alpha\":[1.0],\"line_color\":[\"white\"],\"width\":[0.8],\"x\":[\"Euthanasia\"],\"y\":[316.5]}},\"id\":\"eb12ba06-4e4e-4fc6-926b-4438375e3285\",\"type\":\"ColumnDataSource\"},{\"attributes\":{\"data_source\":{\"id\":\"51ac4564-4ef0-4052-8aee-a937745277cb\",\"type\":\"ColumnDataSource\"},\"glyph\":{\"id\":\"24349e3e-45ec-44e9-97d7-dd32a9f05dbd\",\"type\":\"Rect\"},\"hover_glyph\":null,\"nonselection_glyph\":null,\"selection_glyph\":null},\"id\":\"789a4779-9b9a-4782-b632-39e28fe697d6\",\"type\":\"GlyphRenderer\"},{\"attributes\":{\"active_drag\":\"auto\",\"active_scroll\":\"auto\",\"active_tap\":\"auto\",\"tools\":[{\"id\":\"71e42475-c37c-45e7-8ecc-7b01b077e45d\",\"type\":\"PanTool\"},{\"id\":\"02ef97b5-eccf-4a95-ab23-6b681a018991\",\"type\":\"WheelZoomTool\"},{\"id\":\"48b77ead-5b7e-48b3-8767-731bb6c41b8f\",\"type\":\"BoxZoomTool\"},{\"id\":\"84dffde8-f8be-4195-8486-4ec3799fcbc6\",\"type\":\"SaveTool\"},{\"id\":\"83368bac-2031-4748-85d1-09ee709600a0\",\"type\":\"ResetTool\"},{\"id\":\"bf5127c3-ae7d-4585-95ed-3a51de97372c\",\"type\":\"HelpTool\"}]},\"id\":\"98003a13-c34c-4707-8616-ee820a3e39ec\",\"type\":\"Toolbar\"},{\"attributes\":{\"fill_alpha\":{\"field\":\"fill_alpha\"},\"fill_color\":{\"field\":\"color\"},\"height\":{\"field\":\"height\",\"units\":\"data\"},\"line_color\":{\"field\":\"line_color\"},\"width\":{\"field\":\"width\",\"units\":\"data\"},\"x\":{\"field\":\"x\"},\"y\":{\"field\":\"y\"}},\"id\":\"88373150-93b8-49ff-8304-2f53ad7320d1\",\"type\":\"Rect\"},{\"attributes\":{},\"id\":\"85835497-88a3-4c10-9435-d05b610b90e3\",\"type\":\"BasicTickFormatter\"},{\"attributes\":{\"fill_alpha\":{\"field\":\"fill_alpha\"},\"fill_color\":{\"field\":\"color\"},\"height\":{\"field\":\"height\",\"units\":\"data\"},\"line_color\":{\"field\":\"line_color\"},\"width\":{\"field\":\"width\",\"units\":\"data\"},\"x\":{\"field\":\"x\"},\"y\":{\"field\":\"y\"}},\"id\":\"dfbaec89-84cc-4227-af3f-0cd8c1e45829\",\"type\":\"Rect\"},{\"attributes\":{\"fill_alpha\":{\"field\":\"fill_alpha\"},\"fill_color\":{\"field\":\"color\"},\"height\":{\"field\":\"height\",\"units\":\"data\"},\"line_color\":{\"field\":\"line_color\"},\"width\":{\"field\":\"width\",\"units\":\"data\"},\"x\":{\"field\":\"x\"},\"y\":{\"field\":\"y\"}},\"id\":\"3be5ab09-37bd-4e48-870f-f7a4729ee16e\",\"type\":\"Rect\"},{\"attributes\":{\"plot\":{\"id\":\"b55301e1-405a-4d21-a68e-db765347c265\",\"subtype\":\"Chart\",\"type\":\"Plot\"}},\"id\":\"71e42475-c37c-45e7-8ecc-7b01b077e45d\",\"type\":\"PanTool\"},{\"attributes\":{\"data_source\":{\"id\":\"3d9bd032-3417-4da1-b2af-8152e20d9267\",\"type\":\"ColumnDataSource\"},\"glyph\":{\"id\":\"3be5ab09-37bd-4e48-870f-f7a4729ee16e\",\"type\":\"Rect\"},\"hover_glyph\":null,\"nonselection_glyph\":null,\"selection_glyph\":null},\"id\":\"7325bfa1-29f1-49da-a66f-ad309aefa1ab\",\"type\":\"GlyphRenderer\"},{\"attributes\":{\"callback\":null,\"column_names\":[\"line_color\",\"line_alpha\",\"color\",\"fill_alpha\",\"height\",\"width\",\"y\",\"x\",\"label\"],\"data\":{\"Female\":[\"Unknown\"],\"OutcomeType\":[\"Return_to_owner\"],\"chart_index\":[{\"Female\":\"Unknown\",\"OutcomeType\":\"Return_to_owner\"}],\"color\":[\"#407ee7\"],\"fill_alpha\":[0.8],\"height\":[12.0],\"label\":[{\"Female\":\"Unknown\",\"OutcomeType\":\"Return_to_owner\"}],\"line_alpha\":[1.0],\"line_color\":[\"white\"],\"width\":[0.8],\"x\":[\"Return_to_owner\"],\"y\":[4780.0]}},\"id\":\"0e63c5fb-1177-44f0-ad66-740ac7a15a06\",\"type\":\"ColumnDataSource\"},{\"attributes\":{\"data_source\":{\"id\":\"90a7f7ff-4d08-47c7-b12c-29c289f641e6\",\"type\":\"ColumnDataSource\"},\"glyph\":{\"id\":\"88373150-93b8-49ff-8304-2f53ad7320d1\",\"type\":\"Rect\"},\"hover_glyph\":null,\"nonselection_glyph\":null,\"selection_glyph\":null},\"id\":\"ae9b30ae-b9d5-46f8-9e59-d6102f1853ea\",\"type\":\"GlyphRenderer\"},{\"attributes\":{},\"id\":\"e580ddd6-9089-4e05-8496-3ab6b3f72899\",\"type\":\"CategoricalTicker\"},{\"attributes\":{\"fill_alpha\":{\"field\":\"fill_alpha\"},\"fill_color\":{\"field\":\"color\"},\"height\":{\"field\":\"height\",\"units\":\"data\"},\"line_color\":{\"field\":\"line_color\"},\"width\":{\"field\":\"width\",\"units\":\"data\"},\"x\":{\"field\":\"x\"},\"y\":{\"field\":\"y\"}},\"id\":\"eba28700-35ba-4c26-9007-5ad030821d67\",\"type\":\"Rect\"},{\"attributes\":{\"data_source\":{\"id\":\"eb12ba06-4e4e-4fc6-926b-4438375e3285\",\"type\":\"ColumnDataSource\"},\"glyph\":{\"id\":\"d66542b5-094e-4505-85ad-d0390b19ddab\",\"type\":\"Rect\"},\"hover_glyph\":null,\"nonselection_glyph\":null,\"selection_glyph\":null},\"id\":\"24c5d575-86be-47d3-ab19-7363ac3f2439\",\"type\":\"GlyphRenderer\"},{\"attributes\":{\"callback\":null,\"column_names\":[\"line_color\",\"line_alpha\",\"color\",\"fill_alpha\",\"height\",\"width\",\"y\",\"x\",\"label\"],\"data\":{\"Female\":[\"Unknown\"],\"OutcomeType\":[\"Euthanasia\"],\"chart_index\":[{\"Female\":\"Unknown\",\"OutcomeType\":\"Euthanasia\"}],\"color\":[\"#407ee7\"],\"fill_alpha\":[0.8],\"height\":[101.0],\"label\":[{\"Female\":\"Unknown\",\"OutcomeType\":\"Euthanasia\"}],\"line_alpha\":[1.0],\"line_color\":[\"white\"],\"width\":[0.8],\"x\":[\"Euthanasia\"],\"y\":[1504.5]}},\"id\":\"812ef427-e813-4894-b574-a0498d6471ec\",\"type\":\"ColumnDataSource\"},{\"attributes\":{\"fill_alpha\":{\"field\":\"fill_alpha\"},\"fill_color\":{\"field\":\"color\"},\"height\":{\"field\":\"height\",\"units\":\"data\"},\"line_color\":{\"field\":\"line_color\"},\"width\":{\"field\":\"width\",\"units\":\"data\"},\"x\":{\"field\":\"x\"},\"y\":{\"field\":\"y\"}},\"id\":\"d66542b5-094e-4505-85ad-d0390b19ddab\",\"type\":\"Rect\"},{\"attributes\":{\"data_source\":{\"id\":\"d351b89a-268a-45d5-ad34-da0c65000299\",\"type\":\"ColumnDataSource\"},\"glyph\":{\"id\":\"dfbaec89-84cc-4227-af3f-0cd8c1e45829\",\"type\":\"Rect\"},\"hover_glyph\":null,\"nonselection_glyph\":null,\"selection_glyph\":null},\"id\":\"c92f83c4-2f1c-414d-ace1-f12083a59359\",\"type\":\"GlyphRenderer\"},{\"attributes\":{\"fill_alpha\":{\"field\":\"fill_alpha\"},\"fill_color\":{\"field\":\"color\"},\"height\":{\"field\":\"height\",\"units\":\"data\"},\"line_color\":{\"field\":\"line_color\"},\"width\":{\"field\":\"width\",\"units\":\"data\"},\"x\":{\"field\":\"x\"},\"y\":{\"field\":\"y\"}},\"id\":\"68576922-3b8c-4a76-93b7-7e6fac7056b1\",\"type\":\"Rect\"},{\"attributes\":{\"data_source\":{\"id\":\"812ef427-e813-4894-b574-a0498d6471ec\",\"type\":\"ColumnDataSource\"},\"glyph\":{\"id\":\"68576922-3b8c-4a76-93b7-7e6fac7056b1\",\"type\":\"Rect\"},\"hover_glyph\":null,\"nonselection_glyph\":null,\"selection_glyph\":null},\"id\":\"51b40cfc-8514-4c63-bd3b-75826b2d9579\",\"type\":\"GlyphRenderer\"},{\"attributes\":{\"fill_alpha\":{\"field\":\"fill_alpha\"},\"fill_color\":{\"field\":\"color\"},\"height\":{\"field\":\"height\",\"units\":\"data\"},\"line_color\":{\"field\":\"line_color\"},\"width\":{\"field\":\"width\",\"units\":\"data\"},\"x\":{\"field\":\"x\"},\"y\":{\"field\":\"y\"}},\"id\":\"b8760c5e-dd69-4d69-b7cf-111bb429cb88\",\"type\":\"Rect\"},{\"attributes\":{\"fill_alpha\":{\"field\":\"fill_alpha\"},\"fill_color\":{\"field\":\"color\"},\"height\":{\"field\":\"height\",\"units\":\"data\"},\"line_color\":{\"field\":\"line_color\"},\"width\":{\"field\":\"width\",\"units\":\"data\"},\"x\":{\"field\":\"x\"},\"y\":{\"field\":\"y\"}},\"id\":\"d6a062ba-3b7d-494c-9f19-606058d7d6f7\",\"type\":\"Rect\"},{\"attributes\":{\"axis_label\":\"Count( Female )\",\"formatter\":{\"id\":\"85835497-88a3-4c10-9435-d05b610b90e3\",\"type\":\"BasicTickFormatter\"},\"plot\":{\"id\":\"b55301e1-405a-4d21-a68e-db765347c265\",\"subtype\":\"Chart\",\"type\":\"Plot\"},\"ticker\":{\"id\":\"f9dfaded-f01a-4cda-b252-b92d887c0474\",\"type\":\"BasicTicker\"}},\"id\":\"ee6115e4-5ac3-415f-a76a-24c3d772273b\",\"type\":\"LinearAxis\"},{\"attributes\":{\"callback\":null,\"column_names\":[\"line_color\",\"line_alpha\",\"color\",\"fill_alpha\",\"height\",\"width\",\"y\",\"x\",\"label\"],\"data\":{\"Female\":[\"Unknown\"],\"OutcomeType\":[\"Died\"],\"chart_index\":[{\"Female\":\"Unknown\",\"OutcomeType\":\"Died\"}],\"color\":[\"#407ee7\"],\"fill_alpha\":[0.8],\"height\":[25.0],\"label\":[{\"Female\":\"Unknown\",\"OutcomeType\":\"Died\"}],\"line_alpha\":[1.0],\"line_color\":[\"white\"],\"width\":[0.8],\"x\":[\"Died\"],\"y\":[110.5]}},\"id\":\"3d9bd032-3417-4da1-b2af-8152e20d9267\",\"type\":\"ColumnDataSource\"},{\"attributes\":{\"legends\":[[\"Male\",[{\"id\":\"5fea54c0-6e6d-495a-bb54-38181ad3147d\",\"type\":\"GlyphRenderer\"}]],[\"Female\",[{\"id\":\"24c5d575-86be-47d3-ab19-7363ac3f2439\",\"type\":\"GlyphRenderer\"}]],[\"Unknown\",[{\"id\":\"789a4779-9b9a-4782-b632-39e28fe697d6\",\"type\":\"GlyphRenderer\"}]]],\"plot\":{\"id\":\"b55301e1-405a-4d21-a68e-db765347c265\",\"subtype\":\"Chart\",\"type\":\"Plot\"}},\"id\":\"9b419f40-e2de-4eb8-b10f-ca7f52805b79\",\"type\":\"Legend\"},{\"attributes\":{\"callback\":null,\"column_names\":[\"line_color\",\"line_alpha\",\"color\",\"fill_alpha\",\"height\",\"width\",\"y\",\"x\",\"label\"],\"data\":{\"Female\":[\"Unknown\"],\"OutcomeType\":[\"Transfer\"],\"chart_index\":[{\"Female\":\"Unknown\",\"OutcomeType\":\"Transfer\"}],\"color\":[\"#407ee7\"],\"fill_alpha\":[0.8],\"height\":[955.0],\"label\":[{\"Female\":\"Unknown\",\"OutcomeType\":\"Transfer\"}],\"line_alpha\":[1.0],\"line_color\":[\"white\"],\"width\":[0.8],\"x\":[\"Transfer\"],\"y\":[8944.5]}},\"id\":\"51ac4564-4ef0-4052-8aee-a937745277cb\",\"type\":\"ColumnDataSource\"},{\"attributes\":{\"callback\":null,\"column_names\":[\"line_color\",\"line_alpha\",\"color\",\"fill_alpha\",\"height\",\"width\",\"y\",\"x\",\"label\"],\"data\":{\"Female\":[\"Male\"],\"OutcomeType\":[\"Transfer\"],\"chart_index\":[{\"Female\":\"Male\",\"OutcomeType\":\"Transfer\"}],\"color\":[\"#5ab738\"],\"fill_alpha\":[0.8],\"height\":[4281.0],\"label\":[{\"Female\":\"Male\",\"OutcomeType\":\"Transfer\"}],\"line_alpha\":[1.0],\"line_color\":[\"white\"],\"width\":[0.8],\"x\":[\"Transfer\"],\"y\":[2140.5]}},\"id\":\"ef98b0fb-f8c4-4068-9bed-bd662f373265\",\"type\":\"ColumnDataSource\"},{\"attributes\":{},\"id\":\"ea026411-a025-481c-9f2d-b8f005cff0a9\",\"type\":\"ToolEvents\"},{\"attributes\":{\"fill_alpha\":{\"field\":\"fill_alpha\"},\"fill_color\":{\"field\":\"color\"},\"height\":{\"field\":\"height\",\"units\":\"data\"},\"line_color\":{\"field\":\"line_color\"},\"width\":{\"field\":\"width\",\"units\":\"data\"},\"x\":{\"field\":\"x\"},\"y\":{\"field\":\"y\"}},\"id\":\"26e25754-5d25-412e-b454-494a5c83a78e\",\"type\":\"Rect\"},{\"attributes\":{\"data_source\":{\"id\":\"0e5f1dfb-636c-482f-af7e-b5d72869ae3d\",\"type\":\"ColumnDataSource\"},\"glyph\":{\"id\":\"6397143e-94f8-43fa-ae70-11c8448db488\",\"type\":\"Rect\"},\"hover_glyph\":null,\"nonselection_glyph\":null,\"selection_glyph\":null},\"id\":\"0ac0500c-c14e-44f2-91d3-dba7bb497030\",\"type\":\"GlyphRenderer\"},{\"attributes\":{\"plot\":{\"id\":\"b55301e1-405a-4d21-a68e-db765347c265\",\"subtype\":\"Chart\",\"type\":\"Plot\"}},\"id\":\"bf5127c3-ae7d-4585-95ed-3a51de97372c\",\"type\":\"HelpTool\"},{\"attributes\":{\"data_source\":{\"id\":\"0e63c5fb-1177-44f0-ad66-740ac7a15a06\",\"type\":\"ColumnDataSource\"},\"glyph\":{\"id\":\"eba28700-35ba-4c26-9007-5ad030821d67\",\"type\":\"Rect\"},\"hover_glyph\":null,\"nonselection_glyph\":null,\"selection_glyph\":null},\"id\":\"569bdb73-41b9-4b76-b6bb-806a69441e34\",\"type\":\"GlyphRenderer\"},{\"attributes\":{\"data_source\":{\"id\":\"ef98b0fb-f8c4-4068-9bed-bd662f373265\",\"type\":\"ColumnDataSource\"},\"glyph\":{\"id\":\"ebacd044-0b1e-4f4b-95c8-eefdb7eedd82\",\"type\":\"Rect\"},\"hover_glyph\":null,\"nonselection_glyph\":null,\"selection_glyph\":null},\"id\":\"43027ac5-f6ea-406d-be5b-3a03d21a28d4\",\"type\":\"GlyphRenderer\"},{\"attributes\":{\"fill_alpha\":{\"field\":\"fill_alpha\"},\"fill_color\":{\"field\":\"color\"},\"height\":{\"field\":\"height\",\"units\":\"data\"},\"line_color\":{\"field\":\"line_color\"},\"width\":{\"field\":\"width\",\"units\":\"data\"},\"x\":{\"field\":\"x\"},\"y\":{\"field\":\"y\"}},\"id\":\"24349e3e-45ec-44e9-97d7-dd32a9f05dbd\",\"type\":\"Rect\"},{\"attributes\":{\"plot\":null,\"text\":\"Outcomes by Female\"},\"id\":\"9ed4e268-a609-4437-b84f-c2897c04f364\",\"type\":\"Title\"},{\"attributes\":{\"callback\":null,\"end\":11307.45},\"id\":\"f8965fa8-24bf-4ac0-86ad-9548d3193ab6\",\"type\":\"Range1d\"},{\"attributes\":{\"callback\":null,\"factors\":[\"Adoption\",\"Died\",\"Euthanasia\",\"Return_to_owner\",\"Transfer\"]},\"id\":\"c2df930f-bd34-4549-88cb-51f0befde0f0\",\"type\":\"FactorRange\"},{\"attributes\":{\"callback\":null,\"column_names\":[\"line_color\",\"line_alpha\",\"color\",\"fill_alpha\",\"height\",\"width\",\"y\",\"x\",\"label\"],\"data\":{\"Female\":[\"Male\"],\"OutcomeType\":[\"Return_to_owner\"],\"chart_index\":[{\"Female\":\"Male\",\"OutcomeType\":\"Return_to_owner\"}],\"color\":[\"#5ab738\"],\"fill_alpha\":[0.8],\"height\":[2725.0],\"label\":[{\"Female\":\"Male\",\"OutcomeType\":\"Return_to_owner\"}],\"line_alpha\":[1.0],\"line_color\":[\"white\"],\"width\":[0.8],\"x\":[\"Return_to_owner\"],\"y\":[1362.5]}},\"id\":\"ac5bf0c7-e658-4fa5-8068-9d264831e3cb\",\"type\":\"ColumnDataSource\"},{\"attributes\":{},\"id\":\"f9dfaded-f01a-4cda-b252-b92d887c0474\",\"type\":\"BasicTicker\"}],\"root_ids\":[\"b55301e1-405a-4d21-a68e-db765347c265\"]},\"title\":\"Bokeh Application\",\"version\":\"0.12.2\"}};\n",
       "            var render_items = [{\"docid\":\"04dfbe57-042d-4951-a6d0-177245eb1c26\",\"elementid\":\"3be4d018-865e-4fc0-a16b-8cb9f0b1baa2\",\"modelid\":\"b55301e1-405a-4d21-a68e-db765347c265\"}];\n",
       "            \n",
       "            Bokeh.embed.embed_items(docs_json, render_items);\n",
       "        });\n",
       "      },\n",
       "      function(Bokeh) {\n",
       "      }\n",
       "    ];\n",
       "  \n",
       "    function run_inline_js() {\n",
       "      \n",
       "      if ((window.Bokeh !== undefined) || (force === \"1\")) {\n",
       "        for (var i = 0; i < inline_js.length; i++) {\n",
       "          inline_js[i](window.Bokeh);\n",
       "        }if (force === \"1\") {\n",
       "          display_loaded();\n",
       "        }} else if (Date.now() < window._bokeh_timeout) {\n",
       "        setTimeout(run_inline_js, 100);\n",
       "      } else if (!window._bokeh_failed_load) {\n",
       "        console.log(\"Bokeh: BokehJS failed to load within specified timeout.\");\n",
       "        window._bokeh_failed_load = true;\n",
       "      } else if (!force) {\n",
       "        var cell = $(\"#3be4d018-865e-4fc0-a16b-8cb9f0b1baa2\").parents('.cell').data().cell;\n",
       "        cell.output_area.append_execute_result(NB_LOAD_WARNING)\n",
       "      }\n",
       "  \n",
       "    }\n",
       "  \n",
       "    if (window._bokeh_is_loading === 0) {\n",
       "      console.log(\"Bokeh: BokehJS loaded, going straight to plotting\");\n",
       "      run_inline_js();\n",
       "    } else {\n",
       "      load_libs(js_urls, function() {\n",
       "        console.log(\"Bokeh: BokehJS plotting callback run at\", now());\n",
       "        run_inline_js();\n",
       "      });\n",
       "    }\n",
       "  }(this));\n",
       "</script>"
      ]
     },
     "metadata": {},
     "output_type": "display_data"
    }
   ],
   "source": [
    "p = Bar(data, label='OutcomeType', values = 'Female', agg='count', stack='Female',\n",
    "        title=\"Outcomes by Female\", legend='top_right')\n",
    "show(p)"
   ]
  },
  {
   "cell_type": "code",
   "execution_count": 33,
   "metadata": {
    "collapsed": false,
    "scrolled": true
   },
   "outputs": [
    {
     "data": {
      "text/plain": [
       "<matplotlib.axes._subplots.AxesSubplot at 0x12683da0>"
      ]
     },
     "execution_count": 33,
     "metadata": {},
     "output_type": "execute_result"
    },
    {
     "data": {
      "image/png": "[encoded data removed]",
      "text/plain": [
       "<matplotlib.figure.Figure at 0x11e1b780>"
      ]
     },
     "metadata": {},
     "output_type": "display_data"
    }
   ],
   "source": [
    "#Purebred/mixed\n",
    "\n",
    "mixed_breed = data['MixedBreed'].value_counts() \n",
    "mixed_breed.plot(kind='bar',color='#34ABD8',rot=0)"
   ]
  },
  {
   "cell_type": "code",
   "execution_count": 34,
   "metadata": {
    "collapsed": false
   },
   "outputs": [
    {
     "data": {
      "text/html": [
       "\n",
       "\n",
       "    <div class=\"bk-root\">\n",
       "        <div class=\"plotdiv\" id=\"32d00ff3-40a6-4015-83ed-82c3208d49fb\"></div>\n",
       "    </div>\n",
       "<script type=\"text/javascript\">\n",
       "  \n",
       "  (function(global) {\n",
       "    function now() {\n",
       "      return new Date();\n",
       "    }\n",
       "  \n",
       "    var force = \"\";\n",
       "  \n",
       "    if (typeof (window._bokeh_onload_callbacks) === \"undefined\" || force !== \"\") {\n",
       "      window._bokeh_onload_callbacks = [];\n",
       "      window._bokeh_is_loading = undefined;\n",
       "    }\n",
       "  \n",
       "  \n",
       "    \n",
       "    if (typeof (window._bokeh_timeout) === \"undefined\" || force !== \"\") {\n",
       "      window._bokeh_timeout = Date.now() + 0;\n",
       "      window._bokeh_failed_load = false;\n",
       "    }\n",
       "  \n",
       "    var NB_LOAD_WARNING = {'data': {'text/html':\n",
       "       \"<div style='background-color: #fdd'>\\n\"+\n",
       "       \"<p>\\n\"+\n",
       "       \"BokehJS does not appear to have successfully loaded. If loading BokehJS from CDN, this \\n\"+\n",
       "       \"may be due to a slow or bad network connection. Possible fixes:\\n\"+\n",
       "       \"</p>\\n\"+\n",
       "       \"<ul>\\n\"+\n",
       "       \"<li>re-rerun `output_notebook()` to attempt to load from CDN again, or</li>\\n\"+\n",
       "       \"<li>use INLINE resources instead, as so:</li>\\n\"+\n",
       "       \"</ul>\\n\"+\n",
       "       \"<code>\\n\"+\n",
       "       \"from bokeh.resources import INLINE\\n\"+\n",
       "       \"output_notebook(resources=INLINE)\\n\"+\n",
       "       \"</code>\\n\"+\n",
       "       \"</div>\"}};\n",
       "  \n",
       "    function display_loaded() {\n",
       "      if (window.Bokeh !== undefined) {\n",
       "        Bokeh.$(\"#32d00ff3-40a6-4015-83ed-82c3208d49fb\").text(\"BokehJS successfully loaded.\");\n",
       "      } else if (Date.now() < window._bokeh_timeout) {\n",
       "        setTimeout(display_loaded, 100)\n",
       "      }\n",
       "    }\n",
       "  \n",
       "    function run_callbacks() {\n",
       "      window._bokeh_onload_callbacks.forEach(function(callback) { callback() });\n",
       "      delete window._bokeh_onload_callbacks\n",
       "      console.info(\"Bokeh: all callbacks have finished\");\n",
       "    }\n",
       "  \n",
       "    function load_libs(js_urls, callback) {\n",
       "      window._bokeh_onload_callbacks.push(callback);\n",
       "      if (window._bokeh_is_loading > 0) {\n",
       "        console.log(\"Bokeh: BokehJS is being loaded, scheduling callback at\", now());\n",
       "        return null;\n",
       "      }\n",
       "      if (js_urls == null || js_urls.length === 0) {\n",
       "        run_callbacks();\n",
       "        return null;\n",
       "      }\n",
       "      console.log(\"Bokeh: BokehJS not loaded, scheduling load and callback at\", now());\n",
       "      window._bokeh_is_loading = js_urls.length;\n",
       "      for (var i = 0; i < js_urls.length; i++) {\n",
       "        var url = js_urls[i];\n",
       "        var s = document.createElement('script');\n",
       "        s.src = url;\n",
       "        s.async = false;\n",
       "        s.onreadystatechange = s.onload = function() {\n",
       "          window._bokeh_is_loading--;\n",
       "          if (window._bokeh_is_loading === 0) {\n",
       "            console.log(\"Bokeh: all BokehJS libraries loaded\");\n",
       "            run_callbacks()\n",
       "          }\n",
       "        };\n",
       "        s.onerror = function() {\n",
       "          console.warn(\"failed to load library \" + url);\n",
       "        };\n",
       "        console.log(\"Bokeh: injecting script tag for BokehJS library: \", url);\n",
       "        document.getElementsByTagName(\"head\")[0].appendChild(s);\n",
       "      }\n",
       "    };var element = document.getElementById(\"32d00ff3-40a6-4015-83ed-82c3208d49fb\");\n",
       "    if (element == null) {\n",
       "      console.log(\"Bokeh: ERROR: autoload.js configured with elementid '32d00ff3-40a6-4015-83ed-82c3208d49fb' but no matching script tag was found. \")\n",
       "      return false;\n",
       "    }\n",
       "  \n",
       "    var js_urls = [];\n",
       "  \n",
       "    var inline_js = [\n",
       "      function(Bokeh) {\n",
       "        Bokeh.$(function() {\n",
       "            var docs_json = {\"26007eab-3aec-4d7e-a3cc-235794523969\":{\"roots\":{\"references\":[{\"attributes\":{\"dimension\":1,\"plot\":{\"id\":\"2cd2b925-1407-4821-82a5-f7438d18ff6c\",\"subtype\":\"Chart\",\"type\":\"Plot\"},\"ticker\":{\"id\":\"06a59b31-1b4d-4a3f-ab91-79bd1894f902\",\"type\":\"BasicTicker\"}},\"id\":\"97849f16-227a-40dc-8c0f-d657ae2314d6\",\"type\":\"Grid\"},{\"attributes\":{\"fill_alpha\":{\"field\":\"fill_alpha\"},\"fill_color\":{\"field\":\"color\"},\"height\":{\"field\":\"height\",\"units\":\"data\"},\"line_color\":{\"field\":\"line_color\"},\"width\":{\"field\":\"width\",\"units\":\"data\"},\"x\":{\"field\":\"x\"},\"y\":{\"field\":\"y\"}},\"id\":\"ddbad61c-7ef7-4dd0-98c5-0dbe7e998a90\",\"type\":\"Rect\"},{\"attributes\":{\"data_source\":{\"id\":\"fd93e153-debc-44ef-bde6-bd3a036d0578\",\"type\":\"ColumnDataSource\"},\"glyph\":{\"id\":\"0c1b2f28-419d-42c7-809c-82ea3f45ce03\",\"type\":\"Rect\"},\"hover_glyph\":null,\"nonselection_glyph\":null,\"selection_glyph\":null},\"id\":\"a7b3b929-12f5-4835-bf8e-9dcbbd14e0fb\",\"type\":\"GlyphRenderer\"},{\"attributes\":{\"data_source\":{\"id\":\"da054aed-23f7-49cf-8ee7-7a56f4affd41\",\"type\":\"ColumnDataSource\"},\"glyph\":{\"id\":\"ade289e4-e4af-421c-8cfb-3477e1b1da58\",\"type\":\"Rect\"},\"hover_glyph\":null,\"nonselection_glyph\":null,\"selection_glyph\":null},\"id\":\"6fc76845-4360-4055-a533-bbd3adaeb0eb\",\"type\":\"GlyphRenderer\"},{\"attributes\":{\"fill_alpha\":{\"field\":\"fill_alpha\"},\"fill_color\":{\"field\":\"color\"},\"height\":{\"field\":\"height\",\"units\":\"data\"},\"line_color\":{\"field\":\"line_color\"},\"width\":{\"field\":\"width\",\"units\":\"data\"},\"x\":{\"field\":\"x\"},\"y\":{\"field\":\"y\"}},\"id\":\"ade289e4-e4af-421c-8cfb-3477e1b1da58\",\"type\":\"Rect\"},{\"attributes\":{\"axis_label\":\"Outcometype\",\"formatter\":{\"id\":\"11e50153-34de-4583-b3af-048d8d09b227\",\"type\":\"CategoricalTickFormatter\"},\"major_label_orientation\":0.7853981633974483,\"plot\":{\"id\":\"2cd2b925-1407-4821-82a5-f7438d18ff6c\",\"subtype\":\"Chart\",\"type\":\"Plot\"},\"ticker\":{\"id\":\"e4c7c62f-67df-4c7d-9688-1d038e75e56b\",\"type\":\"CategoricalTicker\"}},\"id\":\"09e2181a-edf9-46f8-ae62-8b8b63e1e3dd\",\"type\":\"CategoricalAxis\"},{\"attributes\":{},\"id\":\"e4c7c62f-67df-4c7d-9688-1d038e75e56b\",\"type\":\"CategoricalTicker\"},{\"attributes\":{\"fill_alpha\":{\"field\":\"fill_alpha\"},\"fill_color\":{\"field\":\"color\"},\"height\":{\"field\":\"height\",\"units\":\"data\"},\"line_color\":{\"field\":\"line_color\"},\"width\":{\"field\":\"width\",\"units\":\"data\"},\"x\":{\"field\":\"x\"},\"y\":{\"field\":\"y\"}},\"id\":\"1fb53cee-9e36-4359-9921-8961e2cd93a0\",\"type\":\"Rect\"},{\"attributes\":{\"plot\":{\"id\":\"2cd2b925-1407-4821-82a5-f7438d18ff6c\",\"subtype\":\"Chart\",\"type\":\"Plot\"}},\"id\":\"74d20a21-1fb0-4970-9679-4b04896e40cb\",\"type\":\"SaveTool\"},{\"attributes\":{\"callback\":null,\"column_names\":[\"line_color\",\"line_alpha\",\"color\",\"fill_alpha\",\"height\",\"width\",\"y\",\"x\",\"label\"],\"data\":{\"MixedBreed\":[\"Nonmixed\"],\"OutcomeType\":[\"Adoption\"],\"chart_index\":[{\"MixedBreed\":\"Nonmixed\",\"OutcomeType\":\"Adoption\"}],\"color\":[\"#407ee7\"],\"fill_alpha\":[0.8],\"height\":[443.0],\"label\":[{\"MixedBreed\":\"Nonmixed\",\"OutcomeType\":\"Adoption\"}],\"line_alpha\":[1.0],\"line_color\":[\"white\"],\"width\":[0.8],\"x\":[\"Adoption\"],\"y\":[9013.5]}},\"id\":\"1fe2330e-3a9d-467c-981a-8cabc210c9f3\",\"type\":\"ColumnDataSource\"},{\"attributes\":{\"plot\":{\"id\":\"2cd2b925-1407-4821-82a5-f7438d18ff6c\",\"subtype\":\"Chart\",\"type\":\"Plot\"}},\"id\":\"4940963f-5d91-4937-aec5-6e0c9ec7ab23\",\"type\":\"HelpTool\"},{\"attributes\":{\"fill_alpha\":{\"field\":\"fill_alpha\"},\"fill_color\":{\"field\":\"color\"},\"height\":{\"field\":\"height\",\"units\":\"data\"},\"line_color\":{\"field\":\"line_color\"},\"width\":{\"field\":\"width\",\"units\":\"data\"},\"x\":{\"field\":\"x\"},\"y\":{\"field\":\"y\"}},\"id\":\"3e8ec9e9-385e-49c9-b73f-8025436bccb8\",\"type\":\"Rect\"},{\"attributes\":{\"fill_alpha\":{\"field\":\"fill_alpha\"},\"fill_color\":{\"field\":\"color\"},\"height\":{\"field\":\"height\",\"units\":\"data\"},\"line_color\":{\"field\":\"line_color\"},\"width\":{\"field\":\"width\",\"units\":\"data\"},\"x\":{\"field\":\"x\"},\"y\":{\"field\":\"y\"}},\"id\":\"b77e9756-a71c-4696-b71f-094939246214\",\"type\":\"Rect\"},{\"attributes\":{\"active_drag\":\"auto\",\"active_scroll\":\"auto\",\"active_tap\":\"auto\",\"tools\":[{\"id\":\"28cc3337-ae6e-4c38-8eeb-784acd6456d6\",\"type\":\"PanTool\"},{\"id\":\"a54f6aeb-c64a-453f-9ba6-4662dbd03687\",\"type\":\"WheelZoomTool\"},{\"id\":\"5ecf1a8e-2aef-41c7-a561-63ea91635018\",\"type\":\"BoxZoomTool\"},{\"id\":\"74d20a21-1fb0-4970-9679-4b04896e40cb\",\"type\":\"SaveTool\"},{\"id\":\"2e701e0d-8231-41fe-9d00-13ea57fb8c5a\",\"type\":\"ResetTool\"},{\"id\":\"4940963f-5d91-4937-aec5-6e0c9ec7ab23\",\"type\":\"HelpTool\"}]},\"id\":\"a398d0b0-14ca-4994-ab82-9954cdc26c46\",\"type\":\"Toolbar\"},{\"attributes\":{\"callback\":null,\"column_names\":[\"line_color\",\"line_alpha\",\"color\",\"fill_alpha\",\"height\",\"width\",\"y\",\"x\",\"label\"],\"data\":{\"MixedBreed\":[\"Nonmixed\"],\"OutcomeType\":[\"Transfer\"],\"chart_index\":[{\"MixedBreed\":\"Nonmixed\",\"OutcomeType\":\"Transfer\"}],\"color\":[\"#407ee7\"],\"fill_alpha\":[0.8],\"height\":[436.0],\"label\":[{\"MixedBreed\":\"Nonmixed\",\"OutcomeType\":\"Transfer\"}],\"line_alpha\":[1.0],\"line_color\":[\"white\"],\"width\":[0.8],\"x\":[\"Transfer\"],\"y\":[9204.0]}},\"id\":\"77f6cbcc-27d9-432c-80f9-f2f286ecebf7\",\"type\":\"ColumnDataSource\"},{\"attributes\":{\"data_source\":{\"id\":\"6fe7cabe-057c-4dd2-bdce-a8dcf5ccc241\",\"type\":\"ColumnDataSource\"},\"glyph\":{\"id\":\"698cb8cd-adfe-45f0-b6d0-12d4c6627d0c\",\"type\":\"Rect\"},\"hover_glyph\":null,\"nonselection_glyph\":null,\"selection_glyph\":null},\"id\":\"5c882253-5132-4401-bcab-7846506d4f3e\",\"type\":\"GlyphRenderer\"},{\"attributes\":{\"callback\":null,\"end\":11307.45},\"id\":\"3a3f018c-76f0-4581-a8fb-72ace0b585fe\",\"type\":\"Range1d\"},{\"attributes\":{\"legends\":[[\"Mixed Breed\",[{\"id\":\"fa98f15d-7f65-4c31-8d0c-a06a5ea1e616\",\"type\":\"GlyphRenderer\"}]],[\"Known Breed Combo\",[{\"id\":\"df33069e-5bb1-4f1e-a346-02012e88cdc3\",\"type\":\"GlyphRenderer\"}]],[\"Nonmixed\",[{\"id\":\"97bb0066-0f16-43fa-8a67-5bc4d6e932e4\",\"type\":\"GlyphRenderer\"}]]],\"plot\":{\"id\":\"2cd2b925-1407-4821-82a5-f7438d18ff6c\",\"subtype\":\"Chart\",\"type\":\"Plot\"}},\"id\":\"0a97099b-9ff7-4f94-8a51-829add674191\",\"type\":\"Legend\"},{\"attributes\":{\"fill_alpha\":{\"field\":\"fill_alpha\"},\"fill_color\":{\"field\":\"color\"},\"height\":{\"field\":\"height\",\"units\":\"data\"},\"line_color\":{\"field\":\"line_color\"},\"width\":{\"field\":\"width\",\"units\":\"data\"},\"x\":{\"field\":\"x\"},\"y\":{\"field\":\"y\"}},\"id\":\"0c1b2f28-419d-42c7-809c-82ea3f45ce03\",\"type\":\"Rect\"},{\"attributes\":{\"plot\":{\"id\":\"2cd2b925-1407-4821-82a5-f7438d18ff6c\",\"subtype\":\"Chart\",\"type\":\"Plot\"}},\"id\":\"2e701e0d-8231-41fe-9d00-13ea57fb8c5a\",\"type\":\"ResetTool\"},{\"attributes\":{\"fill_alpha\":{\"field\":\"fill_alpha\"},\"fill_color\":{\"field\":\"color\"},\"height\":{\"field\":\"height\",\"units\":\"data\"},\"line_color\":{\"field\":\"line_color\"},\"width\":{\"field\":\"width\",\"units\":\"data\"},\"x\":{\"field\":\"x\"},\"y\":{\"field\":\"y\"}},\"id\":\"2c088d8e-abae-4a27-ab44-a69cfea2f6a9\",\"type\":\"Rect\"},{\"attributes\":{\"data_source\":{\"id\":\"1fe2330e-3a9d-467c-981a-8cabc210c9f3\",\"type\":\"ColumnDataSource\"},\"glyph\":{\"id\":\"63cf9fae-eeb0-4934-b288-16a01fd40fcf\",\"type\":\"Rect\"},\"hover_glyph\":null,\"nonselection_glyph\":null,\"selection_glyph\":null},\"id\":\"97bb0066-0f16-43fa-8a67-5bc4d6e932e4\",\"type\":\"GlyphRenderer\"},{\"attributes\":{\"plot\":{\"id\":\"2cd2b925-1407-4821-82a5-f7438d18ff6c\",\"subtype\":\"Chart\",\"type\":\"Plot\"}},\"id\":\"a54f6aeb-c64a-453f-9ba6-4662dbd03687\",\"type\":\"WheelZoomTool\"},{\"attributes\":{},\"id\":\"11e50153-34de-4583-b3af-048d8d09b227\",\"type\":\"CategoricalTickFormatter\"},{\"attributes\":{\"data_source\":{\"id\":\"771e2c11-a621-4c3e-81bf-f549d6347f8c\",\"type\":\"ColumnDataSource\"},\"glyph\":{\"id\":\"1fb53cee-9e36-4359-9921-8961e2cd93a0\",\"type\":\"Rect\"},\"hover_glyph\":null,\"nonselection_glyph\":null,\"selection_glyph\":null},\"id\":\"b8da7314-3d72-4496-8c9e-fb8e57deb1c1\",\"type\":\"GlyphRenderer\"},{\"attributes\":{\"data_source\":{\"id\":\"0bc7a5ea-8cf6-4c5b-8331-f5c99e34d201\",\"type\":\"ColumnDataSource\"},\"glyph\":{\"id\":\"2c088d8e-abae-4a27-ab44-a69cfea2f6a9\",\"type\":\"Rect\"},\"hover_glyph\":null,\"nonselection_glyph\":null,\"selection_glyph\":null},\"id\":\"ab1996f7-4e82-450e-ba69-97d43e0fb801\",\"type\":\"GlyphRenderer\"},{\"attributes\":{\"below\":[{\"id\":\"09e2181a-edf9-46f8-ae62-8b8b63e1e3dd\",\"type\":\"CategoricalAxis\"}],\"left\":[{\"id\":\"8ed6dc1d-f595-4c94-bda9-f4d53db22229\",\"type\":\"LinearAxis\"}],\"renderers\":[{\"id\":\"43be14ff-56e8-4ea2-ac81-2bf56c7b584d\",\"type\":\"BoxAnnotation\"},{\"id\":\"fa98f15d-7f65-4c31-8d0c-a06a5ea1e616\",\"type\":\"GlyphRenderer\"},{\"id\":\"d1bab0bf-48ed-4b3d-8d40-8f694c1b1fcd\",\"type\":\"GlyphRenderer\"},{\"id\":\"a7b3b929-12f5-4835-bf8e-9dcbbd14e0fb\",\"type\":\"GlyphRenderer\"},{\"id\":\"de568be3-d28c-4ea9-bc47-2b7467d1afb4\",\"type\":\"GlyphRenderer\"},{\"id\":\"df33069e-5bb1-4f1e-a346-02012e88cdc3\",\"type\":\"GlyphRenderer\"},{\"id\":\"97bb0066-0f16-43fa-8a67-5bc4d6e932e4\",\"type\":\"GlyphRenderer\"},{\"id\":\"60f070b3-04ca-4a6b-8bc7-0c538c2aac57\",\"type\":\"GlyphRenderer\"},{\"id\":\"6fc76845-4360-4055-a533-bbd3adaeb0eb\",\"type\":\"GlyphRenderer\"},{\"id\":\"8a336c24-9ef8-4617-af06-b5afdb6ab701\",\"type\":\"GlyphRenderer\"},{\"id\":\"f97e4dc3-a690-4520-ae90-4b13382e00e3\",\"type\":\"GlyphRenderer\"},{\"id\":\"89bbdb9f-214e-48fa-a8c0-43393d0ecad8\",\"type\":\"GlyphRenderer\"},{\"id\":\"5c882253-5132-4401-bcab-7846506d4f3e\",\"type\":\"GlyphRenderer\"},{\"id\":\"ab1996f7-4e82-450e-ba69-97d43e0fb801\",\"type\":\"GlyphRenderer\"},{\"id\":\"b8da7314-3d72-4496-8c9e-fb8e57deb1c1\",\"type\":\"GlyphRenderer\"},{\"id\":\"3883b38b-58d2-42e7-a644-545738434827\",\"type\":\"GlyphRenderer\"},{\"id\":\"0a97099b-9ff7-4f94-8a51-829add674191\",\"type\":\"Legend\"},{\"id\":\"09e2181a-edf9-46f8-ae62-8b8b63e1e3dd\",\"type\":\"CategoricalAxis\"},{\"id\":\"8ed6dc1d-f595-4c94-bda9-f4d53db22229\",\"type\":\"LinearAxis\"},{\"id\":\"97849f16-227a-40dc-8c0f-d657ae2314d6\",\"type\":\"Grid\"}],\"title\":{\"id\":\"6d471cdb-0d55-4f70-b779-80ebf215ec05\",\"type\":\"Title\"},\"tool_events\":{\"id\":\"69b4eb5e-1c4f-4196-92e9-d83b8d929e61\",\"type\":\"ToolEvents\"},\"toolbar\":{\"id\":\"a398d0b0-14ca-4994-ab82-9954cdc26c46\",\"type\":\"Toolbar\"},\"x_mapper_type\":\"auto\",\"x_range\":{\"id\":\"e4212be3-0c22-4175-8e5a-886086dc7a0b\",\"type\":\"FactorRange\"},\"y_mapper_type\":\"auto\",\"y_range\":{\"id\":\"3a3f018c-76f0-4581-a8fb-72ace0b585fe\",\"type\":\"Range1d\"}},\"id\":\"2cd2b925-1407-4821-82a5-f7438d18ff6c\",\"subtype\":\"Chart\",\"type\":\"Plot\"},{\"attributes\":{\"callback\":null,\"column_names\":[\"line_color\",\"line_alpha\",\"color\",\"fill_alpha\",\"height\",\"width\",\"y\",\"x\",\"label\"],\"data\":{\"MixedBreed\":[\"Nonmixed\"],\"OutcomeType\":[\"Euthanasia\"],\"chart_index\":[{\"MixedBreed\":\"Nonmixed\",\"OutcomeType\":\"Euthanasia\"}],\"color\":[\"#407ee7\"],\"fill_alpha\":[0.8],\"height\":[64.0],\"label\":[{\"MixedBreed\":\"Nonmixed\",\"OutcomeType\":\"Euthanasia\"}],\"line_alpha\":[1.0],\"line_color\":[\"white\"],\"width\":[0.8],\"x\":[\"Euthanasia\"],\"y\":[1523.0]}},\"id\":\"0bc7a5ea-8cf6-4c5b-8331-f5c99e34d201\",\"type\":\"ColumnDataSource\"},{\"attributes\":{\"callback\":null,\"column_names\":[\"line_color\",\"line_alpha\",\"color\",\"fill_alpha\",\"height\",\"width\",\"y\",\"x\",\"label\"],\"data\":{\"MixedBreed\":[\"Known Breed Combo\"],\"OutcomeType\":[\"Died\"],\"chart_index\":[{\"MixedBreed\":\"Known Breed Combo\",\"OutcomeType\":\"Died\"}],\"color\":[\"#f22c40\"],\"fill_alpha\":[0.8],\"height\":[9.0],\"label\":[{\"MixedBreed\":\"Known Breed Combo\",\"OutcomeType\":\"Died\"}],\"line_alpha\":[1.0],\"line_color\":[\"white\"],\"width\":[0.8],\"x\":[\"Died\"],\"y\":[192.5]}},\"id\":\"60606cf1-d63a-45d9-840e-d41624ec2130\",\"type\":\"ColumnDataSource\"},{\"attributes\":{\"plot\":{\"id\":\"2cd2b925-1407-4821-82a5-f7438d18ff6c\",\"subtype\":\"Chart\",\"type\":\"Plot\"}},\"id\":\"28cc3337-ae6e-4c38-8eeb-784acd6456d6\",\"type\":\"PanTool\"},{\"attributes\":{\"fill_alpha\":{\"field\":\"fill_alpha\"},\"fill_color\":{\"field\":\"color\"},\"height\":{\"field\":\"height\",\"units\":\"data\"},\"line_color\":{\"field\":\"line_color\"},\"width\":{\"field\":\"width\",\"units\":\"data\"},\"x\":{\"field\":\"x\"},\"y\":{\"field\":\"y\"}},\"id\":\"698cb8cd-adfe-45f0-b6d0-12d4c6627d0c\",\"type\":\"Rect\"},{\"attributes\":{\"callback\":null,\"factors\":[\"Adoption\",\"Died\",\"Euthanasia\",\"Return_to_owner\",\"Transfer\"]},\"id\":\"e4212be3-0c22-4175-8e5a-886086dc7a0b\",\"type\":\"FactorRange\"},{\"attributes\":{\"callback\":null,\"column_names\":[\"line_color\",\"line_alpha\",\"color\",\"fill_alpha\",\"height\",\"width\",\"y\",\"x\",\"label\"],\"data\":{\"MixedBreed\":[\"Mixed Breed\"],\"OutcomeType\":[\"Died\"],\"chart_index\":[{\"MixedBreed\":\"Mixed Breed\",\"OutcomeType\":\"Died\"}],\"color\":[\"#5ab738\"],\"fill_alpha\":[0.8],\"height\":[180.0],\"label\":[{\"MixedBreed\":\"Mixed Breed\",\"OutcomeType\":\"Died\"}],\"line_alpha\":[1.0],\"line_color\":[\"white\"],\"width\":[0.8],\"x\":[\"Died\"],\"y\":[90.0]}},\"id\":\"6fe7cabe-057c-4dd2-bdce-a8dcf5ccc241\",\"type\":\"ColumnDataSource\"},{\"attributes\":{\"data_source\":{\"id\":\"df3996bc-18ef-46da-a255-c1a9aaf7dd1f\",\"type\":\"ColumnDataSource\"},\"glyph\":{\"id\":\"3e8ec9e9-385e-49c9-b73f-8025436bccb8\",\"type\":\"Rect\"},\"hover_glyph\":null,\"nonselection_glyph\":null,\"selection_glyph\":null},\"id\":\"60f070b3-04ca-4a6b-8bc7-0c538c2aac57\",\"type\":\"GlyphRenderer\"},{\"attributes\":{\"callback\":null,\"column_names\":[\"line_color\",\"line_alpha\",\"color\",\"fill_alpha\",\"height\",\"width\",\"y\",\"x\",\"label\"],\"data\":{\"MixedBreed\":[\"Mixed Breed\"],\"OutcomeType\":[\"Adoption\"],\"chart_index\":[{\"MixedBreed\":\"Mixed Breed\",\"OutcomeType\":\"Adoption\"}],\"color\":[\"#5ab738\"],\"fill_alpha\":[0.8],\"height\":[8792.0],\"label\":[{\"MixedBreed\":\"Mixed Breed\",\"OutcomeType\":\"Adoption\"}],\"line_alpha\":[1.0],\"line_color\":[\"white\"],\"width\":[0.8],\"x\":[\"Adoption\"],\"y\":[4396.0]}},\"id\":\"fd93e153-debc-44ef-bde6-bd3a036d0578\",\"type\":\"ColumnDataSource\"},{\"attributes\":{\"data_source\":{\"id\":\"da9b39ae-079f-4260-9388-dddb118611ab\",\"type\":\"ColumnDataSource\"},\"glyph\":{\"id\":\"ef73d346-e30d-4a78-8131-b6355ed3334c\",\"type\":\"Rect\"},\"hover_glyph\":null,\"nonselection_glyph\":null,\"selection_glyph\":null},\"id\":\"8a336c24-9ef8-4617-af06-b5afdb6ab701\",\"type\":\"GlyphRenderer\"},{\"attributes\":{\"callback\":null,\"column_names\":[\"line_color\",\"line_alpha\",\"color\",\"fill_alpha\",\"height\",\"width\",\"y\",\"x\",\"label\"],\"data\":{\"MixedBreed\":[\"Nonmixed\"],\"OutcomeType\":[\"Died\"],\"chart_index\":[{\"MixedBreed\":\"Nonmixed\",\"OutcomeType\":\"Died\"}],\"color\":[\"#407ee7\"],\"fill_alpha\":[0.8],\"height\":[8.0],\"label\":[{\"MixedBreed\":\"Nonmixed\",\"OutcomeType\":\"Died\"}],\"line_alpha\":[1.0],\"line_color\":[\"white\"],\"width\":[0.8],\"x\":[\"Died\"],\"y\":[184.0]}},\"id\":\"771e2c11-a621-4c3e-81bf-f549d6347f8c\",\"type\":\"ColumnDataSource\"},{\"attributes\":{\"callback\":null,\"column_names\":[\"line_color\",\"line_alpha\",\"color\",\"fill_alpha\",\"height\",\"width\",\"y\",\"x\",\"label\"],\"data\":{\"MixedBreed\":[\"Nonmixed\"],\"OutcomeType\":[\"Return_to_owner\"],\"chart_index\":[{\"MixedBreed\":\"Nonmixed\",\"OutcomeType\":\"Return_to_owner\"}],\"color\":[\"#407ee7\"],\"fill_alpha\":[0.8],\"height\":[440.0],\"label\":[{\"MixedBreed\":\"Nonmixed\",\"OutcomeType\":\"Return_to_owner\"}],\"line_alpha\":[1.0],\"line_color\":[\"white\"],\"width\":[0.8],\"x\":[\"Return_to_owner\"],\"y\":[4566.0]}},\"id\":\"da9b39ae-079f-4260-9388-dddb118611ab\",\"type\":\"ColumnDataSource\"},{\"attributes\":{\"callback\":null,\"column_names\":[\"line_color\",\"line_alpha\",\"color\",\"fill_alpha\",\"height\",\"width\",\"y\",\"x\",\"label\"],\"data\":{\"MixedBreed\":[\"Mixed Breed\"],\"OutcomeType\":[\"Euthanasia\"],\"chart_index\":[{\"MixedBreed\":\"Mixed Breed\",\"OutcomeType\":\"Euthanasia\"}],\"color\":[\"#5ab738\"],\"fill_alpha\":[0.8],\"height\":[1364.0],\"label\":[{\"MixedBreed\":\"Mixed Breed\",\"OutcomeType\":\"Euthanasia\"}],\"line_alpha\":[1.0],\"line_color\":[\"white\"],\"width\":[0.8],\"x\":[\"Euthanasia\"],\"y\":[682.0]}},\"id\":\"582eec26-e5c4-412a-a8f6-cf1d7a3ebb57\",\"type\":\"ColumnDataSource\"},{\"attributes\":{\"fill_alpha\":{\"field\":\"fill_alpha\"},\"fill_color\":{\"field\":\"color\"},\"height\":{\"field\":\"height\",\"units\":\"data\"},\"line_color\":{\"field\":\"line_color\"},\"width\":{\"field\":\"width\",\"units\":\"data\"},\"x\":{\"field\":\"x\"},\"y\":{\"field\":\"y\"}},\"id\":\"b0800b7f-f62f-4cc7-997e-c3a633f96539\",\"type\":\"Rect\"},{\"attributes\":{\"axis_label\":\"Count( Mixedbreed )\",\"formatter\":{\"id\":\"1d82ea06-92a3-48c4-803b-3b1bcb5408d8\",\"type\":\"BasicTickFormatter\"},\"plot\":{\"id\":\"2cd2b925-1407-4821-82a5-f7438d18ff6c\",\"subtype\":\"Chart\",\"type\":\"Plot\"},\"ticker\":{\"id\":\"06a59b31-1b4d-4a3f-ab91-79bd1894f902\",\"type\":\"BasicTicker\"}},\"id\":\"8ed6dc1d-f595-4c94-bda9-f4d53db22229\",\"type\":\"LinearAxis\"},{\"attributes\":{\"bottom_units\":\"screen\",\"fill_alpha\":{\"value\":0.5},\"fill_color\":{\"value\":\"lightgrey\"},\"left_units\":\"screen\",\"level\":\"overlay\",\"line_alpha\":{\"value\":1.0},\"line_color\":{\"value\":\"black\"},\"line_dash\":[4,4],\"line_width\":{\"value\":2},\"plot\":null,\"render_mode\":\"css\",\"right_units\":\"screen\",\"top_units\":\"screen\"},\"id\":\"43be14ff-56e8-4ea2-ac81-2bf56c7b584d\",\"type\":\"BoxAnnotation\"},{\"attributes\":{\"fill_alpha\":{\"field\":\"fill_alpha\"},\"fill_color\":{\"field\":\"color\"},\"height\":{\"field\":\"height\",\"units\":\"data\"},\"line_color\":{\"field\":\"line_color\"},\"width\":{\"field\":\"width\",\"units\":\"data\"},\"x\":{\"field\":\"x\"},\"y\":{\"field\":\"y\"}},\"id\":\"ef73d346-e30d-4a78-8131-b6355ed3334c\",\"type\":\"Rect\"},{\"attributes\":{},\"id\":\"06a59b31-1b4d-4a3f-ab91-79bd1894f902\",\"type\":\"BasicTicker\"},{\"attributes\":{\"fill_alpha\":{\"field\":\"fill_alpha\"},\"fill_color\":{\"field\":\"color\"},\"height\":{\"field\":\"height\",\"units\":\"data\"},\"line_color\":{\"field\":\"line_color\"},\"width\":{\"field\":\"width\",\"units\":\"data\"},\"x\":{\"field\":\"x\"},\"y\":{\"field\":\"y\"}},\"id\":\"a2ee751e-9850-488c-88f3-6a8d4af8fdd8\",\"type\":\"Rect\"},{\"attributes\":{\"data_source\":{\"id\":\"582eec26-e5c4-412a-a8f6-cf1d7a3ebb57\",\"type\":\"ColumnDataSource\"},\"glyph\":{\"id\":\"a2ee751e-9850-488c-88f3-6a8d4af8fdd8\",\"type\":\"Rect\"},\"hover_glyph\":null,\"nonselection_glyph\":null,\"selection_glyph\":null},\"id\":\"d1bab0bf-48ed-4b3d-8d40-8f694c1b1fcd\",\"type\":\"GlyphRenderer\"},{\"attributes\":{\"fill_alpha\":{\"field\":\"fill_alpha\"},\"fill_color\":{\"field\":\"color\"},\"height\":{\"field\":\"height\",\"units\":\"data\"},\"line_color\":{\"field\":\"line_color\"},\"width\":{\"field\":\"width\",\"units\":\"data\"},\"x\":{\"field\":\"x\"},\"y\":{\"field\":\"y\"}},\"id\":\"63cf9fae-eeb0-4934-b288-16a01fd40fcf\",\"type\":\"Rect\"},{\"attributes\":{\"callback\":null,\"column_names\":[\"line_color\",\"line_alpha\",\"color\",\"fill_alpha\",\"height\",\"width\",\"y\",\"x\",\"label\"],\"data\":{\"MixedBreed\":[\"Known Breed Combo\"],\"OutcomeType\":[\"Return_to_owner\"],\"chart_index\":[{\"MixedBreed\":\"Known Breed Combo\",\"OutcomeType\":\"Return_to_owner\"}],\"color\":[\"#f22c40\"],\"fill_alpha\":[0.8],\"height\":[636.0],\"label\":[{\"MixedBreed\":\"Known Breed Combo\",\"OutcomeType\":\"Return_to_owner\"}],\"line_alpha\":[1.0],\"line_color\":[\"white\"],\"width\":[0.8],\"x\":[\"Return_to_owner\"],\"y\":[4028.0]}},\"id\":\"da054aed-23f7-49cf-8ee7-7a56f4affd41\",\"type\":\"ColumnDataSource\"},{\"attributes\":{\"callback\":null,\"column_names\":[\"line_color\",\"line_alpha\",\"color\",\"fill_alpha\",\"height\",\"width\",\"y\",\"x\",\"label\"],\"data\":{\"MixedBreed\":[\"Known Breed Combo\"],\"OutcomeType\":[\"Euthanasia\"],\"chart_index\":[{\"MixedBreed\":\"Known Breed Combo\",\"OutcomeType\":\"Euthanasia\"}],\"color\":[\"#f22c40\"],\"fill_alpha\":[0.8],\"height\":[127.0],\"label\":[{\"MixedBreed\":\"Known Breed Combo\",\"OutcomeType\":\"Euthanasia\"}],\"line_alpha\":[1.0],\"line_color\":[\"white\"],\"width\":[0.8],\"x\":[\"Euthanasia\"],\"y\":[1427.5]}},\"id\":\"78910649-11de-4e32-90de-7218afbd31cd\",\"type\":\"ColumnDataSource\"},{\"attributes\":{\"data_source\":{\"id\":\"0c7d9bc3-c397-4671-b4ce-b578f9bf0fa3\",\"type\":\"ColumnDataSource\"},\"glyph\":{\"id\":\"ffbe687a-e71c-4bc5-bbdd-2efe4ea02a32\",\"type\":\"Rect\"},\"hover_glyph\":null,\"nonselection_glyph\":null,\"selection_glyph\":null},\"id\":\"fa98f15d-7f65-4c31-8d0c-a06a5ea1e616\",\"type\":\"GlyphRenderer\"},{\"attributes\":{\"callback\":null,\"column_names\":[\"line_color\",\"line_alpha\",\"color\",\"fill_alpha\",\"height\",\"width\",\"y\",\"x\",\"label\"],\"data\":{\"MixedBreed\":[\"Known Breed Combo\"],\"OutcomeType\":[\"Adoption\"],\"chart_index\":[{\"MixedBreed\":\"Known Breed Combo\",\"OutcomeType\":\"Adoption\"}],\"color\":[\"#f22c40\"],\"fill_alpha\":[0.8],\"height\":[1534.0],\"label\":[{\"MixedBreed\":\"Known Breed Combo\",\"OutcomeType\":\"Adoption\"}],\"line_alpha\":[1.0],\"line_color\":[\"white\"],\"width\":[0.8],\"x\":[\"Adoption\"],\"y\":[10002.0]}},\"id\":\"df3996bc-18ef-46da-a255-c1a9aaf7dd1f\",\"type\":\"ColumnDataSource\"},{\"attributes\":{\"data_source\":{\"id\":\"ad4d6784-757b-4421-94fc-dd153418dbf5\",\"type\":\"ColumnDataSource\"},\"glyph\":{\"id\":\"ddbad61c-7ef7-4dd0-98c5-0dbe7e998a90\",\"type\":\"Rect\"},\"hover_glyph\":null,\"nonselection_glyph\":null,\"selection_glyph\":null},\"id\":\"df33069e-5bb1-4f1e-a346-02012e88cdc3\",\"type\":\"GlyphRenderer\"},{\"attributes\":{\"data_source\":{\"id\":\"78910649-11de-4e32-90de-7218afbd31cd\",\"type\":\"ColumnDataSource\"},\"glyph\":{\"id\":\"b0800b7f-f62f-4cc7-997e-c3a633f96539\",\"type\":\"Rect\"},\"hover_glyph\":null,\"nonselection_glyph\":null,\"selection_glyph\":null},\"id\":\"f97e4dc3-a690-4520-ae90-4b13382e00e3\",\"type\":\"GlyphRenderer\"},{\"attributes\":{\"plot\":null,\"text\":\"Outcomes by Breed Type\"},\"id\":\"6d471cdb-0d55-4f70-b779-80ebf215ec05\",\"type\":\"Title\"},{\"attributes\":{\"fill_alpha\":{\"field\":\"fill_alpha\"},\"fill_color\":{\"field\":\"color\"},\"height\":{\"field\":\"height\",\"units\":\"data\"},\"line_color\":{\"field\":\"line_color\"},\"width\":{\"field\":\"width\",\"units\":\"data\"},\"x\":{\"field\":\"x\"},\"y\":{\"field\":\"y\"}},\"id\":\"cee2e791-187c-449c-b9e2-6563658eaf23\",\"type\":\"Rect\"},{\"attributes\":{\"data_source\":{\"id\":\"60606cf1-d63a-45d9-840e-d41624ec2130\",\"type\":\"ColumnDataSource\"},\"glyph\":{\"id\":\"cee2e791-187c-449c-b9e2-6563658eaf23\",\"type\":\"Rect\"},\"hover_glyph\":null,\"nonselection_glyph\":null,\"selection_glyph\":null},\"id\":\"3883b38b-58d2-42e7-a644-545738434827\",\"type\":\"GlyphRenderer\"},{\"attributes\":{\"overlay\":{\"id\":\"43be14ff-56e8-4ea2-ac81-2bf56c7b584d\",\"type\":\"BoxAnnotation\"},\"plot\":{\"id\":\"2cd2b925-1407-4821-82a5-f7438d18ff6c\",\"subtype\":\"Chart\",\"type\":\"Plot\"}},\"id\":\"5ecf1a8e-2aef-41c7-a561-63ea91635018\",\"type\":\"BoxZoomTool\"},{\"attributes\":{\"fill_alpha\":{\"field\":\"fill_alpha\"},\"fill_color\":{\"field\":\"color\"},\"height\":{\"field\":\"height\",\"units\":\"data\"},\"line_color\":{\"field\":\"line_color\"},\"width\":{\"field\":\"width\",\"units\":\"data\"},\"x\":{\"field\":\"x\"},\"y\":{\"field\":\"y\"}},\"id\":\"ffbe687a-e71c-4bc5-bbdd-2efe4ea02a32\",\"type\":\"Rect\"},{\"attributes\":{},\"id\":\"69b4eb5e-1c4f-4196-92e9-d83b8d929e61\",\"type\":\"ToolEvents\"},{\"attributes\":{\"callback\":null,\"column_names\":[\"line_color\",\"line_alpha\",\"color\",\"fill_alpha\",\"height\",\"width\",\"y\",\"x\",\"label\"],\"data\":{\"MixedBreed\":[\"Known Breed Combo\"],\"OutcomeType\":[\"Transfer\"],\"chart_index\":[{\"MixedBreed\":\"Known Breed Combo\",\"OutcomeType\":\"Transfer\"}],\"color\":[\"#f22c40\"],\"fill_alpha\":[0.8],\"height\":[734.0],\"label\":[{\"MixedBreed\":\"Known Breed Combo\",\"OutcomeType\":\"Transfer\"}],\"line_alpha\":[1.0],\"line_color\":[\"white\"],\"width\":[0.8],\"x\":[\"Transfer\"],\"y\":[8619.0]}},\"id\":\"ad4d6784-757b-4421-94fc-dd153418dbf5\",\"type\":\"ColumnDataSource\"},{\"attributes\":{},\"id\":\"1d82ea06-92a3-48c4-803b-3b1bcb5408d8\",\"type\":\"BasicTickFormatter\"},{\"attributes\":{\"data_source\":{\"id\":\"c9a1860f-69f4-47ae-8f92-3eb52a76dd81\",\"type\":\"ColumnDataSource\"},\"glyph\":{\"id\":\"b77e9756-a71c-4696-b71f-094939246214\",\"type\":\"Rect\"},\"hover_glyph\":null,\"nonselection_glyph\":null,\"selection_glyph\":null},\"id\":\"de568be3-d28c-4ea9-bc47-2b7467d1afb4\",\"type\":\"GlyphRenderer\"},{\"attributes\":{\"callback\":null,\"column_names\":[\"line_color\",\"line_alpha\",\"color\",\"fill_alpha\",\"height\",\"width\",\"y\",\"x\",\"label\"],\"data\":{\"MixedBreed\":[\"Mixed Breed\"],\"OutcomeType\":[\"Transfer\"],\"chart_index\":[{\"MixedBreed\":\"Mixed Breed\",\"OutcomeType\":\"Transfer\"}],\"color\":[\"#5ab738\"],\"fill_alpha\":[0.8],\"height\":[8252.0],\"label\":[{\"MixedBreed\":\"Mixed Breed\",\"OutcomeType\":\"Transfer\"}],\"line_alpha\":[1.0],\"line_color\":[\"white\"],\"width\":[0.8],\"x\":[\"Transfer\"],\"y\":[4126.0]}},\"id\":\"c9a1860f-69f4-47ae-8f92-3eb52a76dd81\",\"type\":\"ColumnDataSource\"},{\"attributes\":{\"callback\":null,\"column_names\":[\"line_color\",\"line_alpha\",\"color\",\"fill_alpha\",\"height\",\"width\",\"y\",\"x\",\"label\"],\"data\":{\"MixedBreed\":[\"Mixed Breed\"],\"OutcomeType\":[\"Return_to_owner\"],\"chart_index\":[{\"MixedBreed\":\"Mixed Breed\",\"OutcomeType\":\"Return_to_owner\"}],\"color\":[\"#5ab738\"],\"fill_alpha\":[0.8],\"height\":[3710.0],\"label\":[{\"MixedBreed\":\"Mixed Breed\",\"OutcomeType\":\"Return_to_owner\"}],\"line_alpha\":[1.0],\"line_color\":[\"white\"],\"width\":[0.8],\"x\":[\"Return_to_owner\"],\"y\":[1855.0]}},\"id\":\"0c7d9bc3-c397-4671-b4ce-b578f9bf0fa3\",\"type\":\"ColumnDataSource\"},{\"attributes\":{\"data_source\":{\"id\":\"77f6cbcc-27d9-432c-80f9-f2f286ecebf7\",\"type\":\"ColumnDataSource\"},\"glyph\":{\"id\":\"3ccff8bf-fa39-4d03-9bc4-bf0c03db767b\",\"type\":\"Rect\"},\"hover_glyph\":null,\"nonselection_glyph\":null,\"selection_glyph\":null},\"id\":\"89bbdb9f-214e-48fa-a8c0-43393d0ecad8\",\"type\":\"GlyphRenderer\"},{\"attributes\":{\"fill_alpha\":{\"field\":\"fill_alpha\"},\"fill_color\":{\"field\":\"color\"},\"height\":{\"field\":\"height\",\"units\":\"data\"},\"line_color\":{\"field\":\"line_color\"},\"width\":{\"field\":\"width\",\"units\":\"data\"},\"x\":{\"field\":\"x\"},\"y\":{\"field\":\"y\"}},\"id\":\"3ccff8bf-fa39-4d03-9bc4-bf0c03db767b\",\"type\":\"Rect\"}],\"root_ids\":[\"2cd2b925-1407-4821-82a5-f7438d18ff6c\"]},\"title\":\"Bokeh Application\",\"version\":\"0.12.2\"}};\n",
       "            var render_items = [{\"docid\":\"26007eab-3aec-4d7e-a3cc-235794523969\",\"elementid\":\"32d00ff3-40a6-4015-83ed-82c3208d49fb\",\"modelid\":\"2cd2b925-1407-4821-82a5-f7438d18ff6c\"}];\n",
       "            \n",
       "            Bokeh.embed.embed_items(docs_json, render_items);\n",
       "        });\n",
       "      },\n",
       "      function(Bokeh) {\n",
       "      }\n",
       "    ];\n",
       "  \n",
       "    function run_inline_js() {\n",
       "      \n",
       "      if ((window.Bokeh !== undefined) || (force === \"1\")) {\n",
       "        for (var i = 0; i < inline_js.length; i++) {\n",
       "          inline_js[i](window.Bokeh);\n",
       "        }if (force === \"1\") {\n",
       "          display_loaded();\n",
       "        }} else if (Date.now() < window._bokeh_timeout) {\n",
       "        setTimeout(run_inline_js, 100);\n",
       "      } else if (!window._bokeh_failed_load) {\n",
       "        console.log(\"Bokeh: BokehJS failed to load within specified timeout.\");\n",
       "        window._bokeh_failed_load = true;\n",
       "      } else if (!force) {\n",
       "        var cell = $(\"#32d00ff3-40a6-4015-83ed-82c3208d49fb\").parents('.cell').data().cell;\n",
       "        cell.output_area.append_execute_result(NB_LOAD_WARNING)\n",
       "      }\n",
       "  \n",
       "    }\n",
       "  \n",
       "    if (window._bokeh_is_loading === 0) {\n",
       "      console.log(\"Bokeh: BokehJS loaded, going straight to plotting\");\n",
       "      run_inline_js();\n",
       "    } else {\n",
       "      load_libs(js_urls, function() {\n",
       "        console.log(\"Bokeh: BokehJS plotting callback run at\", now());\n",
       "        run_inline_js();\n",
       "      });\n",
       "    }\n",
       "  }(this));\n",
       "</script>"
      ]
     },
     "metadata": {},
     "output_type": "display_data"
    }
   ],
   "source": [
    "p = Bar(data, label='OutcomeType', values = 'MixedBreed', agg='count', stack='MixedBreed',\n",
    "        title=\"Outcomes by Breed Type\", legend='top_right')\n",
    "show(p)"
   ]
  },
  {
   "cell_type": "code",
   "execution_count": 35,
   "metadata": {
    "collapsed": false,
    "scrolled": true
   },
   "outputs": [
    {
     "data": {
      "text/plain": [
       "array([[<matplotlib.axes._subplots.AxesSubplot object at 0x00000000138F9A90>]], dtype=object)"
      ]
     },
     "execution_count": 35,
     "metadata": {},
     "output_type": "execute_result"
    },
    {
     "data": {
      "image/png": "[encoded data removed]",
      "text/plain": [
       "<matplotlib.figure.Figure at 0x12375f60>"
      ]
     },
     "metadata": {},
     "output_type": "display_data"
    }
   ],
   "source": [
    "#Age of animals\n",
    "data.hist(column=\"ConvertedAge\", bins=25)"
   ]
  },
  {
   "cell_type": "code",
   "execution_count": 43,
   "metadata": {
    "collapsed": false,
    "scrolled": true
   },
   "outputs": [
    {
     "data": {
      "text/html": [
       "\n",
       "\n",
       "    <div class=\"bk-root\">\n",
       "        <div class=\"plotdiv\" id=\"201f0e37-ffc5-420e-83ec-7de0a87d3509\"></div>\n",
       "    </div>\n",
       "<script type=\"text/javascript\">\n",
       "  \n",
       "  (function(global) {\n",
       "    function now() {\n",
       "      return new Date();\n",
       "    }\n",
       "  \n",
       "    var force = \"\";\n",
       "  \n",
       "    if (typeof (window._bokeh_onload_callbacks) === \"undefined\" || force !== \"\") {\n",
       "      window._bokeh_onload_callbacks = [];\n",
       "      window._bokeh_is_loading = undefined;\n",
       "    }\n",
       "  \n",
       "  \n",
       "    \n",
       "    if (typeof (window._bokeh_timeout) === \"undefined\" || force !== \"\") {\n",
       "      window._bokeh_timeout = Date.now() + 0;\n",
       "      window._bokeh_failed_load = false;\n",
       "    }\n",
       "  \n",
       "    var NB_LOAD_WARNING = {'data': {'text/html':\n",
       "       \"<div style='background-color: #fdd'>\\n\"+\n",
       "       \"<p>\\n\"+\n",
       "       \"BokehJS does not appear to have successfully loaded. If loading BokehJS from CDN, this \\n\"+\n",
       "       \"may be due to a slow or bad network connection. Possible fixes:\\n\"+\n",
       "       \"</p>\\n\"+\n",
       "       \"<ul>\\n\"+\n",
       "       \"<li>re-rerun `output_notebook()` to attempt to load from CDN again, or</li>\\n\"+\n",
       "       \"<li>use INLINE resources instead, as so:</li>\\n\"+\n",
       "       \"</ul>\\n\"+\n",
       "       \"<code>\\n\"+\n",
       "       \"from bokeh.resources import INLINE\\n\"+\n",
       "       \"output_notebook(resources=INLINE)\\n\"+\n",
       "       \"</code>\\n\"+\n",
       "       \"</div>\"}};\n",
       "  \n",
       "    function display_loaded() {\n",
       "      if (window.Bokeh !== undefined) {\n",
       "        Bokeh.$(\"#201f0e37-ffc5-420e-83ec-7de0a87d3509\").text(\"BokehJS successfully loaded.\");\n",
       "      } else if (Date.now() < window._bokeh_timeout) {\n",
       "        setTimeout(display_loaded, 100)\n",
       "      }\n",
       "    }\n",
       "  \n",
       "    function run_callbacks() {\n",
       "      window._bokeh_onload_callbacks.forEach(function(callback) { callback() });\n",
       "      delete window._bokeh_onload_callbacks\n",
       "      console.info(\"Bokeh: all callbacks have finished\");\n",
       "    }\n",
       "  \n",
       "    function load_libs(js_urls, callback) {\n",
       "      window._bokeh_onload_callbacks.push(callback);\n",
       "      if (window._bokeh_is_loading > 0) {\n",
       "        console.log(\"Bokeh: BokehJS is being loaded, scheduling callback at\", now());\n",
       "        return null;\n",
       "      }\n",
       "      if (js_urls == null || js_urls.length === 0) {\n",
       "        run_callbacks();\n",
       "        return null;\n",
       "      }\n",
       "      console.log(\"Bokeh: BokehJS not loaded, scheduling load and callback at\", now());\n",
       "      window._bokeh_is_loading = js_urls.length;\n",
       "      for (var i = 0; i < js_urls.length; i++) {\n",
       "        var url = js_urls[i];\n",
       "        var s = document.createElement('script');\n",
       "        s.src = url;\n",
       "        s.async = false;\n",
       "        s.onreadystatechange = s.onload = function() {\n",
       "          window._bokeh_is_loading--;\n",
       "          if (window._bokeh_is_loading === 0) {\n",
       "            console.log(\"Bokeh: all BokehJS libraries loaded\");\n",
       "            run_callbacks()\n",
       "          }\n",
       "        };\n",
       "        s.onerror = function() {\n",
       "          console.warn(\"failed to load library \" + url);\n",
       "        };\n",
       "        console.log(\"Bokeh: injecting script tag for BokehJS library: \", url);\n",
       "        document.getElementsByTagName(\"head\")[0].appendChild(s);\n",
       "      }\n",
       "    };var element = document.getElementById(\"201f0e37-ffc5-420e-83ec-7de0a87d3509\");\n",
       "    if (element == null) {\n",
       "      console.log(\"Bokeh: ERROR: autoload.js configured with elementid '201f0e37-ffc5-420e-83ec-7de0a87d3509' but no matching script tag was found. \")\n",
       "      return false;\n",
       "    }\n",
       "  \n",
       "    var js_urls = [];\n",
       "  \n",
       "    var inline_js = [\n",
       "      function(Bokeh) {\n",
       "        Bokeh.$(function() {\n",
       "            var docs_json = {\"0ff0b8cb-b3ab-4424-bc19-97f84af2a047\":{\"roots\":{\"references\":[{\"attributes\":{\"callback\":null,\"end\":11307.45},\"id\":\"5d857dd1-5341-4557-a038-fbe25e8755b4\",\"type\":\"Range1d\"},{\"attributes\":{\"callback\":null,\"column_names\":[\"line_color\",\"line_alpha\",\"color\",\"fill_alpha\",\"height\",\"width\",\"y\",\"x\",\"label\"],\"data\":{\"AnimalType\":[\"Dog\"],\"OutcomeType\":[\"Transfer\"],\"chart_index\":[{\"AnimalType\":\"Dog\",\"OutcomeType\":\"Transfer\"}],\"color\":[\"#5ab738\"],\"fill_alpha\":[0.8],\"height\":[3917.0],\"label\":[{\"AnimalType\":\"Dog\",\"OutcomeType\":\"Transfer\"}],\"line_alpha\":[1.0],\"line_color\":[\"white\"],\"width\":[0.8],\"x\":[\"Transfer\"],\"y\":[7463.5]}},\"id\":\"2bfa328d-be95-42bc-bc96-00a15ad46e08\",\"type\":\"ColumnDataSource\"},{\"attributes\":{\"plot\":{\"id\":\"e6aa51b9-212e-4164-ba7b-aebd5d08a359\",\"subtype\":\"Chart\",\"type\":\"Plot\"}},\"id\":\"67275e0d-e0b4-4202-a9ee-c697e2827b3b\",\"type\":\"WheelZoomTool\"},{\"attributes\":{\"callback\":null,\"column_names\":[\"line_color\",\"line_alpha\",\"color\",\"fill_alpha\",\"height\",\"width\",\"y\",\"x\",\"label\"],\"data\":{\"AnimalType\":[\"Dog\"],\"OutcomeType\":[\"Died\"],\"chart_index\":[{\"AnimalType\":\"Dog\",\"OutcomeType\":\"Died\"}],\"color\":[\"#5ab738\"],\"fill_alpha\":[0.8],\"height\":[50.0],\"label\":[{\"AnimalType\":\"Dog\",\"OutcomeType\":\"Died\"}],\"line_alpha\":[1.0],\"line_color\":[\"white\"],\"width\":[0.8],\"x\":[\"Died\"],\"y\":[172.0]}},\"id\":\"65c520f1-33c9-42e2-bee6-5e57975033c1\",\"type\":\"ColumnDataSource\"},{\"attributes\":{},\"id\":\"b8ac143a-1769-4d4d-9931-244abe7f5f33\",\"type\":\"CategoricalTicker\"},{\"attributes\":{\"fill_alpha\":{\"field\":\"fill_alpha\"},\"fill_color\":{\"field\":\"color\"},\"height\":{\"field\":\"height\",\"units\":\"data\"},\"line_color\":{\"field\":\"line_color\"},\"width\":{\"field\":\"width\",\"units\":\"data\"},\"x\":{\"field\":\"x\"},\"y\":{\"field\":\"y\"}},\"id\":\"7b0a4a3d-1485-432e-97cf-d88ad0a3e5f7\",\"type\":\"Rect\"},{\"attributes\":{\"callback\":null,\"factors\":[\"Adoption\",\"Died\",\"Euthanasia\",\"Return_to_owner\",\"Transfer\"]},\"id\":\"e839c22c-426f-47bd-9b63-9deb0b679bbe\",\"type\":\"FactorRange\"},{\"attributes\":{\"data_source\":{\"id\":\"76bd3fb5-9f23-4d28-84f9-17dfebc4577a\",\"type\":\"ColumnDataSource\"},\"glyph\":{\"id\":\"0e66d231-0f72-4fee-a1c4-949faf9c2e5d\",\"type\":\"Rect\"},\"hover_glyph\":null,\"nonselection_glyph\":null,\"selection_glyph\":null},\"id\":\"968b3d0e-b2a8-46df-b516-c3b533a94606\",\"type\":\"GlyphRenderer\"},{\"attributes\":{\"callback\":null,\"column_names\":[\"line_color\",\"line_alpha\",\"color\",\"fill_alpha\",\"height\",\"width\",\"y\",\"x\",\"label\"],\"data\":{\"AnimalType\":[\"Cat\"],\"OutcomeType\":[\"Adoption\"],\"chart_index\":[{\"AnimalType\":\"Cat\",\"OutcomeType\":\"Adoption\"}],\"color\":[\"#f22c40\"],\"fill_alpha\":[0.8],\"height\":[4272.0],\"label\":[{\"AnimalType\":\"Cat\",\"OutcomeType\":\"Adoption\"}],\"line_alpha\":[1.0],\"line_color\":[\"white\"],\"width\":[0.8],\"x\":[\"Adoption\"],\"y\":[8633.0]}},\"id\":\"76bd3fb5-9f23-4d28-84f9-17dfebc4577a\",\"type\":\"ColumnDataSource\"},{\"attributes\":{\"data_source\":{\"id\":\"864fdd84-07d5-4f16-a8f5-a2389ba57015\",\"type\":\"ColumnDataSource\"},\"glyph\":{\"id\":\"62651aae-4d15-4bc1-8cd3-6b3a5a582a02\",\"type\":\"Rect\"},\"hover_glyph\":null,\"nonselection_glyph\":null,\"selection_glyph\":null},\"id\":\"74599076-c11f-4bf9-be06-719aeee71ea2\",\"type\":\"GlyphRenderer\"},{\"attributes\":{\"fill_alpha\":{\"field\":\"fill_alpha\"},\"fill_color\":{\"field\":\"color\"},\"height\":{\"field\":\"height\",\"units\":\"data\"},\"line_color\":{\"field\":\"line_color\"},\"width\":{\"field\":\"width\",\"units\":\"data\"},\"x\":{\"field\":\"x\"},\"y\":{\"field\":\"y\"}},\"id\":\"0e66d231-0f72-4fee-a1c4-949faf9c2e5d\",\"type\":\"Rect\"},{\"attributes\":{\"data_source\":{\"id\":\"2b50f3d0-07a2-4c4e-8596-c6709e4e335e\",\"type\":\"ColumnDataSource\"},\"glyph\":{\"id\":\"03343f8c-1a53-47e4-90cb-3697ac79998c\",\"type\":\"Rect\"},\"hover_glyph\":null,\"nonselection_glyph\":null,\"selection_glyph\":null},\"id\":\"8ebc753d-7688-4fef-8025-da7241baa98f\",\"type\":\"GlyphRenderer\"},{\"attributes\":{\"callback\":null,\"column_names\":[\"line_color\",\"line_alpha\",\"color\",\"fill_alpha\",\"height\",\"width\",\"y\",\"x\",\"label\"],\"data\":{\"AnimalType\":[\"Cat\"],\"OutcomeType\":[\"Transfer\"],\"chart_index\":[{\"AnimalType\":\"Cat\",\"OutcomeType\":\"Transfer\"}],\"color\":[\"#f22c40\"],\"fill_alpha\":[0.8],\"height\":[5505.0],\"label\":[{\"AnimalType\":\"Cat\",\"OutcomeType\":\"Transfer\"}],\"line_alpha\":[1.0],\"line_color\":[\"white\"],\"width\":[0.8],\"x\":[\"Transfer\"],\"y\":[2752.5]}},\"id\":\"373129d2-d487-4b5d-916a-14be03f2e657\",\"type\":\"ColumnDataSource\"},{\"attributes\":{\"fill_alpha\":{\"field\":\"fill_alpha\"},\"fill_color\":{\"field\":\"color\"},\"height\":{\"field\":\"height\",\"units\":\"data\"},\"line_color\":{\"field\":\"line_color\"},\"width\":{\"field\":\"width\",\"units\":\"data\"},\"x\":{\"field\":\"x\"},\"y\":{\"field\":\"y\"}},\"id\":\"f99d9a20-ba54-44cd-aab7-690029919eb3\",\"type\":\"Rect\"},{\"attributes\":{\"data_source\":{\"id\":\"373129d2-d487-4b5d-916a-14be03f2e657\",\"type\":\"ColumnDataSource\"},\"glyph\":{\"id\":\"7b0a4a3d-1485-432e-97cf-d88ad0a3e5f7\",\"type\":\"Rect\"},\"hover_glyph\":null,\"nonselection_glyph\":null,\"selection_glyph\":null},\"id\":\"2bb25741-2627-4ed2-8c51-f496d4f025d4\",\"type\":\"GlyphRenderer\"},{\"attributes\":{\"data_source\":{\"id\":\"dba3e43b-ffe5-4acb-b5bc-455a47b2b602\",\"type\":\"ColumnDataSource\"},\"glyph\":{\"id\":\"e74768e5-833d-4dee-bb08-3f3a0cd57b20\",\"type\":\"Rect\"},\"hover_glyph\":null,\"nonselection_glyph\":null,\"selection_glyph\":null},\"id\":\"86fdc0ff-b2c1-48dd-b6aa-5a6b5746659e\",\"type\":\"GlyphRenderer\"},{\"attributes\":{},\"id\":\"94d7a0e3-9d52-4546-b3a2-ae38cdebb544\",\"type\":\"CategoricalTickFormatter\"},{\"attributes\":{\"fill_alpha\":{\"field\":\"fill_alpha\"},\"fill_color\":{\"field\":\"color\"},\"height\":{\"field\":\"height\",\"units\":\"data\"},\"line_color\":{\"field\":\"line_color\"},\"width\":{\"field\":\"width\",\"units\":\"data\"},\"x\":{\"field\":\"x\"},\"y\":{\"field\":\"y\"}},\"id\":\"62651aae-4d15-4bc1-8cd3-6b3a5a582a02\",\"type\":\"Rect\"},{\"attributes\":{\"data_source\":{\"id\":\"544129f3-4f7b-4c28-adb0-fe888a3d6708\",\"type\":\"ColumnDataSource\"},\"glyph\":{\"id\":\"6c743d1a-94d9-461c-bf6d-84ca1e368ad6\",\"type\":\"Rect\"},\"hover_glyph\":null,\"nonselection_glyph\":null,\"selection_glyph\":null},\"id\":\"6571840c-a089-4608-b981-a349374071c0\",\"type\":\"GlyphRenderer\"},{\"attributes\":{\"active_drag\":\"auto\",\"active_scroll\":\"auto\",\"active_tap\":\"auto\",\"tools\":[{\"id\":\"9d458dbb-e31c-41a5-b945-07c84c650303\",\"type\":\"PanTool\"},{\"id\":\"67275e0d-e0b4-4202-a9ee-c697e2827b3b\",\"type\":\"WheelZoomTool\"},{\"id\":\"6f4c2359-f18a-4ed9-a52f-145c36d3a1f4\",\"type\":\"BoxZoomTool\"},{\"id\":\"50536310-9378-4fa8-b261-eec70268ae82\",\"type\":\"SaveTool\"},{\"id\":\"dcbe86e3-04dc-4d31-b4c1-726d32971b5c\",\"type\":\"ResetTool\"},{\"id\":\"580f3dca-f6cf-4fff-8fb1-c5a4e507784a\",\"type\":\"HelpTool\"}]},\"id\":\"14e4e1dd-9ff0-40b4-bc0e-11858e067943\",\"type\":\"Toolbar\"},{\"attributes\":{\"data_source\":{\"id\":\"4c19fe8b-12b4-47b4-b205-187e971fe3bf\",\"type\":\"ColumnDataSource\"},\"glyph\":{\"id\":\"1b29981a-4653-4d3a-b989-e9eee782a046\",\"type\":\"Rect\"},\"hover_glyph\":null,\"nonselection_glyph\":null,\"selection_glyph\":null},\"id\":\"89089901-5f03-45d6-84a9-2d7a81cfd155\",\"type\":\"GlyphRenderer\"},{\"attributes\":{\"plot\":{\"id\":\"e6aa51b9-212e-4164-ba7b-aebd5d08a359\",\"subtype\":\"Chart\",\"type\":\"Plot\"}},\"id\":\"50536310-9378-4fa8-b261-eec70268ae82\",\"type\":\"SaveTool\"},{\"attributes\":{\"fill_alpha\":{\"field\":\"fill_alpha\"},\"fill_color\":{\"field\":\"color\"},\"height\":{\"field\":\"height\",\"units\":\"data\"},\"line_color\":{\"field\":\"line_color\"},\"width\":{\"field\":\"width\",\"units\":\"data\"},\"x\":{\"field\":\"x\"},\"y\":{\"field\":\"y\"}},\"id\":\"a571c0b2-1fbd-40dd-8aa9-61fc758fabbd\",\"type\":\"Rect\"},{\"attributes\":{\"bottom_units\":\"screen\",\"fill_alpha\":{\"value\":0.5},\"fill_color\":{\"value\":\"lightgrey\"},\"left_units\":\"screen\",\"level\":\"overlay\",\"line_alpha\":{\"value\":1.0},\"line_color\":{\"value\":\"black\"},\"line_dash\":[4,4],\"line_width\":{\"value\":2},\"plot\":null,\"render_mode\":\"css\",\"right_units\":\"screen\",\"top_units\":\"screen\"},\"id\":\"0f899499-c376-43fd-9806-17c8d39d9bb1\",\"type\":\"BoxAnnotation\"},{\"attributes\":{},\"id\":\"837df9d5-af6b-4e48-a0a7-0d5f3cc8bb44\",\"type\":\"ToolEvents\"},{\"attributes\":{},\"id\":\"a9c85e61-4ad3-4712-b27c-c7c6b2a21140\",\"type\":\"BasicTicker\"},{\"attributes\":{\"fill_alpha\":{\"field\":\"fill_alpha\"},\"fill_color\":{\"field\":\"color\"},\"height\":{\"field\":\"height\",\"units\":\"data\"},\"line_color\":{\"field\":\"line_color\"},\"width\":{\"field\":\"width\",\"units\":\"data\"},\"x\":{\"field\":\"x\"},\"y\":{\"field\":\"y\"}},\"id\":\"1b29981a-4653-4d3a-b989-e9eee782a046\",\"type\":\"Rect\"},{\"attributes\":{\"data_source\":{\"id\":\"bfaaddaf-539a-462c-8c44-69d416db7198\",\"type\":\"ColumnDataSource\"},\"glyph\":{\"id\":\"f99d9a20-ba54-44cd-aab7-690029919eb3\",\"type\":\"Rect\"},\"hover_glyph\":null,\"nonselection_glyph\":null,\"selection_glyph\":null},\"id\":\"5767e435-cdf9-4ca1-8f9d-c38348ea3aca\",\"type\":\"GlyphRenderer\"},{\"attributes\":{\"callback\":null,\"column_names\":[\"line_color\",\"line_alpha\",\"color\",\"fill_alpha\",\"height\",\"width\",\"y\",\"x\",\"label\"],\"data\":{\"AnimalType\":[\"Dog\"],\"OutcomeType\":[\"Euthanasia\"],\"chart_index\":[{\"AnimalType\":\"Dog\",\"OutcomeType\":\"Euthanasia\"}],\"color\":[\"#5ab738\"],\"fill_alpha\":[0.8],\"height\":[845.0],\"label\":[{\"AnimalType\":\"Dog\",\"OutcomeType\":\"Euthanasia\"}],\"line_alpha\":[1.0],\"line_color\":[\"white\"],\"width\":[0.8],\"x\":[\"Euthanasia\"],\"y\":[1132.5]}},\"id\":\"dba3e43b-ffe5-4acb-b5bc-455a47b2b602\",\"type\":\"ColumnDataSource\"},{\"attributes\":{\"plot\":null,\"text\":\"Outcomes for Black Cats\"},\"id\":\"414a2111-8f87-4777-a59c-44a6e9f5017d\",\"type\":\"Title\"},{\"attributes\":{\"callback\":null,\"column_names\":[\"line_color\",\"line_alpha\",\"color\",\"fill_alpha\",\"height\",\"width\",\"y\",\"x\",\"label\"],\"data\":{\"AnimalType\":[\"Cat\"],\"OutcomeType\":[\"Euthanasia\"],\"chart_index\":[{\"AnimalType\":\"Cat\",\"OutcomeType\":\"Euthanasia\"}],\"color\":[\"#f22c40\"],\"fill_alpha\":[0.8],\"height\":[710.0],\"label\":[{\"AnimalType\":\"Cat\",\"OutcomeType\":\"Euthanasia\"}],\"line_alpha\":[1.0],\"line_color\":[\"white\"],\"width\":[0.8],\"x\":[\"Euthanasia\"],\"y\":[355.0]}},\"id\":\"4c19fe8b-12b4-47b4-b205-187e971fe3bf\",\"type\":\"ColumnDataSource\"},{\"attributes\":{\"legends\":[[\"Dog\",[{\"id\":\"74599076-c11f-4bf9-be06-719aeee71ea2\",\"type\":\"GlyphRenderer\"}]],[\"Cat\",[{\"id\":\"89089901-5f03-45d6-84a9-2d7a81cfd155\",\"type\":\"GlyphRenderer\"}]]],\"plot\":{\"id\":\"e6aa51b9-212e-4164-ba7b-aebd5d08a359\",\"subtype\":\"Chart\",\"type\":\"Plot\"}},\"id\":\"ca8a185f-31e6-4bad-8caf-5011091f235d\",\"type\":\"Legend\"},{\"attributes\":{},\"id\":\"cd9bd395-0712-42bb-a396-b9dc7d9371cd\",\"type\":\"BasicTickFormatter\"},{\"attributes\":{\"axis_label\":\"Count( Blackcat )\",\"formatter\":{\"id\":\"cd9bd395-0712-42bb-a396-b9dc7d9371cd\",\"type\":\"BasicTickFormatter\"},\"plot\":{\"id\":\"e6aa51b9-212e-4164-ba7b-aebd5d08a359\",\"subtype\":\"Chart\",\"type\":\"Plot\"},\"ticker\":{\"id\":\"a9c85e61-4ad3-4712-b27c-c7c6b2a21140\",\"type\":\"BasicTicker\"}},\"id\":\"66f7bfd8-ba5e-4244-ae73-8abc98680cb1\",\"type\":\"LinearAxis\"},{\"attributes\":{\"fill_alpha\":{\"field\":\"fill_alpha\"},\"fill_color\":{\"field\":\"color\"},\"height\":{\"field\":\"height\",\"units\":\"data\"},\"line_color\":{\"field\":\"line_color\"},\"width\":{\"field\":\"width\",\"units\":\"data\"},\"x\":{\"field\":\"x\"},\"y\":{\"field\":\"y\"}},\"id\":\"85509f6c-a65e-4cd2-a921-348938be0f29\",\"type\":\"Rect\"},{\"attributes\":{\"fill_alpha\":{\"field\":\"fill_alpha\"},\"fill_color\":{\"field\":\"color\"},\"height\":{\"field\":\"height\",\"units\":\"data\"},\"line_color\":{\"field\":\"line_color\"},\"width\":{\"field\":\"width\",\"units\":\"data\"},\"x\":{\"field\":\"x\"},\"y\":{\"field\":\"y\"}},\"id\":\"03343f8c-1a53-47e4-90cb-3697ac79998c\",\"type\":\"Rect\"},{\"attributes\":{\"callback\":null,\"column_names\":[\"line_color\",\"line_alpha\",\"color\",\"fill_alpha\",\"height\",\"width\",\"y\",\"x\",\"label\"],\"data\":{\"AnimalType\":[\"Cat\"],\"OutcomeType\":[\"Died\"],\"chart_index\":[{\"AnimalType\":\"Cat\",\"OutcomeType\":\"Died\"}],\"color\":[\"#f22c40\"],\"fill_alpha\":[0.8],\"height\":[147.0],\"label\":[{\"AnimalType\":\"Cat\",\"OutcomeType\":\"Died\"}],\"line_alpha\":[1.0],\"line_color\":[\"white\"],\"width\":[0.8],\"x\":[\"Died\"],\"y\":[73.5]}},\"id\":\"2b50f3d0-07a2-4c4e-8596-c6709e4e335e\",\"type\":\"ColumnDataSource\"},{\"attributes\":{\"plot\":{\"id\":\"e6aa51b9-212e-4164-ba7b-aebd5d08a359\",\"subtype\":\"Chart\",\"type\":\"Plot\"}},\"id\":\"9d458dbb-e31c-41a5-b945-07c84c650303\",\"type\":\"PanTool\"},{\"attributes\":{\"overlay\":{\"id\":\"0f899499-c376-43fd-9806-17c8d39d9bb1\",\"type\":\"BoxAnnotation\"},\"plot\":{\"id\":\"e6aa51b9-212e-4164-ba7b-aebd5d08a359\",\"subtype\":\"Chart\",\"type\":\"Plot\"}},\"id\":\"6f4c2359-f18a-4ed9-a52f-145c36d3a1f4\",\"type\":\"BoxZoomTool\"},{\"attributes\":{\"data_source\":{\"id\":\"65c520f1-33c9-42e2-bee6-5e57975033c1\",\"type\":\"ColumnDataSource\"},\"glyph\":{\"id\":\"85509f6c-a65e-4cd2-a921-348938be0f29\",\"type\":\"Rect\"},\"hover_glyph\":null,\"nonselection_glyph\":null,\"selection_glyph\":null},\"id\":\"bdb95639-b643-4c34-8ca9-7567339d9e77\",\"type\":\"GlyphRenderer\"},{\"attributes\":{\"callback\":null,\"column_names\":[\"line_color\",\"line_alpha\",\"color\",\"fill_alpha\",\"height\",\"width\",\"y\",\"x\",\"label\"],\"data\":{\"AnimalType\":[\"Dog\"],\"OutcomeType\":[\"Return_to_owner\"],\"chart_index\":[{\"AnimalType\":\"Dog\",\"OutcomeType\":\"Return_to_owner\"}],\"color\":[\"#5ab738\"],\"fill_alpha\":[0.8],\"height\":[4286.0],\"label\":[{\"AnimalType\":\"Dog\",\"OutcomeType\":\"Return_to_owner\"}],\"line_alpha\":[1.0],\"line_color\":[\"white\"],\"width\":[0.8],\"x\":[\"Return_to_owner\"],\"y\":[2143.0]}},\"id\":\"864fdd84-07d5-4f16-a8f5-a2389ba57015\",\"type\":\"ColumnDataSource\"},{\"attributes\":{\"data_source\":{\"id\":\"2bfa328d-be95-42bc-bc96-00a15ad46e08\",\"type\":\"ColumnDataSource\"},\"glyph\":{\"id\":\"a571c0b2-1fbd-40dd-8aa9-61fc758fabbd\",\"type\":\"Rect\"},\"hover_glyph\":null,\"nonselection_glyph\":null,\"selection_glyph\":null},\"id\":\"524b47f8-885d-4066-bdbf-f99a755fd308\",\"type\":\"GlyphRenderer\"},{\"attributes\":{\"callback\":null,\"column_names\":[\"line_color\",\"line_alpha\",\"color\",\"fill_alpha\",\"height\",\"width\",\"y\",\"x\",\"label\"],\"data\":{\"AnimalType\":[\"Cat\"],\"OutcomeType\":[\"Return_to_owner\"],\"chart_index\":[{\"AnimalType\":\"Cat\",\"OutcomeType\":\"Return_to_owner\"}],\"color\":[\"#f22c40\"],\"fill_alpha\":[0.8],\"height\":[500.0],\"label\":[{\"AnimalType\":\"Cat\",\"OutcomeType\":\"Return_to_owner\"}],\"line_alpha\":[1.0],\"line_color\":[\"white\"],\"width\":[0.8],\"x\":[\"Return_to_owner\"],\"y\":[4536.0]}},\"id\":\"bfaaddaf-539a-462c-8c44-69d416db7198\",\"type\":\"ColumnDataSource\"},{\"attributes\":{\"axis_label\":\"Outcometype\",\"formatter\":{\"id\":\"94d7a0e3-9d52-4546-b3a2-ae38cdebb544\",\"type\":\"CategoricalTickFormatter\"},\"major_label_orientation\":0.7853981633974483,\"plot\":{\"id\":\"e6aa51b9-212e-4164-ba7b-aebd5d08a359\",\"subtype\":\"Chart\",\"type\":\"Plot\"},\"ticker\":{\"id\":\"b8ac143a-1769-4d4d-9931-244abe7f5f33\",\"type\":\"CategoricalTicker\"}},\"id\":\"4c46f175-dd07-4702-8ec6-3090df4a18dd\",\"type\":\"CategoricalAxis\"},{\"attributes\":{\"below\":[{\"id\":\"4c46f175-dd07-4702-8ec6-3090df4a18dd\",\"type\":\"CategoricalAxis\"}],\"left\":[{\"id\":\"66f7bfd8-ba5e-4244-ae73-8abc98680cb1\",\"type\":\"LinearAxis\"}],\"renderers\":[{\"id\":\"0f899499-c376-43fd-9806-17c8d39d9bb1\",\"type\":\"BoxAnnotation\"},{\"id\":\"74599076-c11f-4bf9-be06-719aeee71ea2\",\"type\":\"GlyphRenderer\"},{\"id\":\"89089901-5f03-45d6-84a9-2d7a81cfd155\",\"type\":\"GlyphRenderer\"},{\"id\":\"6571840c-a089-4608-b981-a349374071c0\",\"type\":\"GlyphRenderer\"},{\"id\":\"2bb25741-2627-4ed2-8c51-f496d4f025d4\",\"type\":\"GlyphRenderer\"},{\"id\":\"524b47f8-885d-4066-bdbf-f99a755fd308\",\"type\":\"GlyphRenderer\"},{\"id\":\"968b3d0e-b2a8-46df-b516-c3b533a94606\",\"type\":\"GlyphRenderer\"},{\"id\":\"5767e435-cdf9-4ca1-8f9d-c38348ea3aca\",\"type\":\"GlyphRenderer\"},{\"id\":\"86fdc0ff-b2c1-48dd-b6aa-5a6b5746659e\",\"type\":\"GlyphRenderer\"},{\"id\":\"8ebc753d-7688-4fef-8025-da7241baa98f\",\"type\":\"GlyphRenderer\"},{\"id\":\"bdb95639-b643-4c34-8ca9-7567339d9e77\",\"type\":\"GlyphRenderer\"},{\"id\":\"ca8a185f-31e6-4bad-8caf-5011091f235d\",\"type\":\"Legend\"},{\"id\":\"4c46f175-dd07-4702-8ec6-3090df4a18dd\",\"type\":\"CategoricalAxis\"},{\"id\":\"66f7bfd8-ba5e-4244-ae73-8abc98680cb1\",\"type\":\"LinearAxis\"},{\"id\":\"ce4f714c-3e8f-4c95-a43e-17b00b8d04f6\",\"type\":\"Grid\"}],\"title\":{\"id\":\"414a2111-8f87-4777-a59c-44a6e9f5017d\",\"type\":\"Title\"},\"tool_events\":{\"id\":\"837df9d5-af6b-4e48-a0a7-0d5f3cc8bb44\",\"type\":\"ToolEvents\"},\"toolbar\":{\"id\":\"14e4e1dd-9ff0-40b4-bc0e-11858e067943\",\"type\":\"Toolbar\"},\"x_mapper_type\":\"auto\",\"x_range\":{\"id\":\"e839c22c-426f-47bd-9b63-9deb0b679bbe\",\"type\":\"FactorRange\"},\"y_mapper_type\":\"auto\",\"y_range\":{\"id\":\"5d857dd1-5341-4557-a038-fbe25e8755b4\",\"type\":\"Range1d\"}},\"id\":\"e6aa51b9-212e-4164-ba7b-aebd5d08a359\",\"subtype\":\"Chart\",\"type\":\"Plot\"},{\"attributes\":{\"fill_alpha\":{\"field\":\"fill_alpha\"},\"fill_color\":{\"field\":\"color\"},\"height\":{\"field\":\"height\",\"units\":\"data\"},\"line_color\":{\"field\":\"line_color\"},\"width\":{\"field\":\"width\",\"units\":\"data\"},\"x\":{\"field\":\"x\"},\"y\":{\"field\":\"y\"}},\"id\":\"6c743d1a-94d9-461c-bf6d-84ca1e368ad6\",\"type\":\"Rect\"},{\"attributes\":{\"plot\":{\"id\":\"e6aa51b9-212e-4164-ba7b-aebd5d08a359\",\"subtype\":\"Chart\",\"type\":\"Plot\"}},\"id\":\"dcbe86e3-04dc-4d31-b4c1-726d32971b5c\",\"type\":\"ResetTool\"},{\"attributes\":{\"fill_alpha\":{\"field\":\"fill_alpha\"},\"fill_color\":{\"field\":\"color\"},\"height\":{\"field\":\"height\",\"units\":\"data\"},\"line_color\":{\"field\":\"line_color\"},\"width\":{\"field\":\"width\",\"units\":\"data\"},\"x\":{\"field\":\"x\"},\"y\":{\"field\":\"y\"}},\"id\":\"e74768e5-833d-4dee-bb08-3f3a0cd57b20\",\"type\":\"Rect\"},{\"attributes\":{\"dimension\":1,\"plot\":{\"id\":\"e6aa51b9-212e-4164-ba7b-aebd5d08a359\",\"subtype\":\"Chart\",\"type\":\"Plot\"},\"ticker\":{\"id\":\"a9c85e61-4ad3-4712-b27c-c7c6b2a21140\",\"type\":\"BasicTicker\"}},\"id\":\"ce4f714c-3e8f-4c95-a43e-17b00b8d04f6\",\"type\":\"Grid\"},{\"attributes\":{\"plot\":{\"id\":\"e6aa51b9-212e-4164-ba7b-aebd5d08a359\",\"subtype\":\"Chart\",\"type\":\"Plot\"}},\"id\":\"580f3dca-f6cf-4fff-8fb1-c5a4e507784a\",\"type\":\"HelpTool\"},{\"attributes\":{\"callback\":null,\"column_names\":[\"line_color\",\"line_alpha\",\"color\",\"fill_alpha\",\"height\",\"width\",\"y\",\"x\",\"label\"],\"data\":{\"AnimalType\":[\"Dog\"],\"OutcomeType\":[\"Adoption\"],\"chart_index\":[{\"AnimalType\":\"Dog\",\"OutcomeType\":\"Adoption\"}],\"color\":[\"#5ab738\"],\"fill_alpha\":[0.8],\"height\":[6497.0],\"label\":[{\"AnimalType\":\"Dog\",\"OutcomeType\":\"Adoption\"}],\"line_alpha\":[1.0],\"line_color\":[\"white\"],\"width\":[0.8],\"x\":[\"Adoption\"],\"y\":[3248.5]}},\"id\":\"544129f3-4f7b-4c28-adb0-fe888a3d6708\",\"type\":\"ColumnDataSource\"}],\"root_ids\":[\"e6aa51b9-212e-4164-ba7b-aebd5d08a359\"]},\"title\":\"Bokeh Application\",\"version\":\"0.12.2\"}};\n",
       "            var render_items = [{\"docid\":\"0ff0b8cb-b3ab-4424-bc19-97f84af2a047\",\"elementid\":\"201f0e37-ffc5-420e-83ec-7de0a87d3509\",\"modelid\":\"e6aa51b9-212e-4164-ba7b-aebd5d08a359\"}];\n",
       "            \n",
       "            Bokeh.embed.embed_items(docs_json, render_items);\n",
       "        });\n",
       "      },\n",
       "      function(Bokeh) {\n",
       "      }\n",
       "    ];\n",
       "  \n",
       "    function run_inline_js() {\n",
       "      \n",
       "      if ((window.Bokeh !== undefined) || (force === \"1\")) {\n",
       "        for (var i = 0; i < inline_js.length; i++) {\n",
       "          inline_js[i](window.Bokeh);\n",
       "        }if (force === \"1\") {\n",
       "          display_loaded();\n",
       "        }} else if (Date.now() < window._bokeh_timeout) {\n",
       "        setTimeout(run_inline_js, 100);\n",
       "      } else if (!window._bokeh_failed_load) {\n",
       "        console.log(\"Bokeh: BokehJS failed to load within specified timeout.\");\n",
       "        window._bokeh_failed_load = true;\n",
       "      } else if (!force) {\n",
       "        var cell = $(\"#201f0e37-ffc5-420e-83ec-7de0a87d3509\").parents('.cell').data().cell;\n",
       "        cell.output_area.append_execute_result(NB_LOAD_WARNING)\n",
       "      }\n",
       "  \n",
       "    }\n",
       "  \n",
       "    if (window._bokeh_is_loading === 0) {\n",
       "      console.log(\"Bokeh: BokehJS loaded, going straight to plotting\");\n",
       "      run_inline_js();\n",
       "    } else {\n",
       "      load_libs(js_urls, function() {\n",
       "        console.log(\"Bokeh: BokehJS plotting callback run at\", now());\n",
       "        run_inline_js();\n",
       "      });\n",
       "    }\n",
       "  }(this));\n",
       "</script>"
      ]
     },
     "metadata": {},
     "output_type": "display_data"
    }
   ],
   "source": [
    "#Black cat\n",
    "p = Bar(data, label='OutcomeType', values = 'BlackCat', agg='count', stack='AnimalType',\n",
    "        title=\"Outcomes for Black Cats\", legend='top_right')\n",
    "show(p)"
   ]
  },
  {
   "cell_type": "code",
   "execution_count": 45,
   "metadata": {
    "collapsed": false
   },
   "outputs": [
    {
     "data": {
      "text/html": [
       "\n",
       "\n",
       "    <div class=\"bk-root\">\n",
       "        <div class=\"plotdiv\" id=\"b04a4c55-8017-4948-80bd-9bdb7e25d78b\"></div>\n",
       "    </div>\n",
       "<script type=\"text/javascript\">\n",
       "  \n",
       "  (function(global) {\n",
       "    function now() {\n",
       "      return new Date();\n",
       "    }\n",
       "  \n",
       "    var force = \"\";\n",
       "  \n",
       "    if (typeof (window._bokeh_onload_callbacks) === \"undefined\" || force !== \"\") {\n",
       "      window._bokeh_onload_callbacks = [];\n",
       "      window._bokeh_is_loading = undefined;\n",
       "    }\n",
       "  \n",
       "  \n",
       "    \n",
       "    if (typeof (window._bokeh_timeout) === \"undefined\" || force !== \"\") {\n",
       "      window._bokeh_timeout = Date.now() + 0;\n",
       "      window._bokeh_failed_load = false;\n",
       "    }\n",
       "  \n",
       "    var NB_LOAD_WARNING = {'data': {'text/html':\n",
       "       \"<div style='background-color: #fdd'>\\n\"+\n",
       "       \"<p>\\n\"+\n",
       "       \"BokehJS does not appear to have successfully loaded. If loading BokehJS from CDN, this \\n\"+\n",
       "       \"may be due to a slow or bad network connection. Possible fixes:\\n\"+\n",
       "       \"</p>\\n\"+\n",
       "       \"<ul>\\n\"+\n",
       "       \"<li>re-rerun `output_notebook()` to attempt to load from CDN again, or</li>\\n\"+\n",
       "       \"<li>use INLINE resources instead, as so:</li>\\n\"+\n",
       "       \"</ul>\\n\"+\n",
       "       \"<code>\\n\"+\n",
       "       \"from bokeh.resources import INLINE\\n\"+\n",
       "       \"output_notebook(resources=INLINE)\\n\"+\n",
       "       \"</code>\\n\"+\n",
       "       \"</div>\"}};\n",
       "  \n",
       "    function display_loaded() {\n",
       "      if (window.Bokeh !== undefined) {\n",
       "        Bokeh.$(\"#b04a4c55-8017-4948-80bd-9bdb7e25d78b\").text(\"BokehJS successfully loaded.\");\n",
       "      } else if (Date.now() < window._bokeh_timeout) {\n",
       "        setTimeout(display_loaded, 100)\n",
       "      }\n",
       "    }\n",
       "  \n",
       "    function run_callbacks() {\n",
       "      window._bokeh_onload_callbacks.forEach(function(callback) { callback() });\n",
       "      delete window._bokeh_onload_callbacks\n",
       "      console.info(\"Bokeh: all callbacks have finished\");\n",
       "    }\n",
       "  \n",
       "    function load_libs(js_urls, callback) {\n",
       "      window._bokeh_onload_callbacks.push(callback);\n",
       "      if (window._bokeh_is_loading > 0) {\n",
       "        console.log(\"Bokeh: BokehJS is being loaded, scheduling callback at\", now());\n",
       "        return null;\n",
       "      }\n",
       "      if (js_urls == null || js_urls.length === 0) {\n",
       "        run_callbacks();\n",
       "        return null;\n",
       "      }\n",
       "      console.log(\"Bokeh: BokehJS not loaded, scheduling load and callback at\", now());\n",
       "      window._bokeh_is_loading = js_urls.length;\n",
       "      for (var i = 0; i < js_urls.length; i++) {\n",
       "        var url = js_urls[i];\n",
       "        var s = document.createElement('script');\n",
       "        s.src = url;\n",
       "        s.async = false;\n",
       "        s.onreadystatechange = s.onload = function() {\n",
       "          window._bokeh_is_loading--;\n",
       "          if (window._bokeh_is_loading === 0) {\n",
       "            console.log(\"Bokeh: all BokehJS libraries loaded\");\n",
       "            run_callbacks()\n",
       "          }\n",
       "        };\n",
       "        s.onerror = function() {\n",
       "          console.warn(\"failed to load library \" + url);\n",
       "        };\n",
       "        console.log(\"Bokeh: injecting script tag for BokehJS library: \", url);\n",
       "        document.getElementsByTagName(\"head\")[0].appendChild(s);\n",
       "      }\n",
       "    };var element = document.getElementById(\"b04a4c55-8017-4948-80bd-9bdb7e25d78b\");\n",
       "    if (element == null) {\n",
       "      console.log(\"Bokeh: ERROR: autoload.js configured with elementid 'b04a4c55-8017-4948-80bd-9bdb7e25d78b' but no matching script tag was found. \")\n",
       "      return false;\n",
       "    }\n",
       "  \n",
       "    var js_urls = [];\n",
       "  \n",
       "    var inline_js = [\n",
       "      function(Bokeh) {\n",
       "        Bokeh.$(function() {\n",
       "            var docs_json = {\"d6e11b06-de10-45eb-ab33-e54ce7180da3\":{\"roots\":{\"references\":[{\"attributes\":{\"callback\":null,\"column_names\":[\"line_color\",\"line_alpha\",\"color\",\"fill_alpha\",\"height\",\"width\",\"y\",\"x\",\"label\"],\"data\":{\"AnimalType\":[\"Cat\"],\"OutcomeType\":[\"Euthanasia\"],\"chart_index\":[{\"AnimalType\":\"Cat\",\"OutcomeType\":\"Euthanasia\"}],\"color\":[\"#f22c40\"],\"fill_alpha\":[0.8],\"height\":[710.0],\"label\":[{\"AnimalType\":\"Cat\",\"OutcomeType\":\"Euthanasia\"}],\"line_alpha\":[1.0],\"line_color\":[\"white\"],\"width\":[0.8],\"x\":[\"Euthanasia\"],\"y\":[355.0]}},\"id\":\"71ea46bd-569f-407d-972e-29e0cfb95157\",\"type\":\"ColumnDataSource\"},{\"attributes\":{\"fill_alpha\":{\"field\":\"fill_alpha\"},\"fill_color\":{\"field\":\"color\"},\"height\":{\"field\":\"height\",\"units\":\"data\"},\"line_color\":{\"field\":\"line_color\"},\"width\":{\"field\":\"width\",\"units\":\"data\"},\"x\":{\"field\":\"x\"},\"y\":{\"field\":\"y\"}},\"id\":\"a84768aa-5431-44a7-801e-b2ceed6d34fa\",\"type\":\"Rect\"},{\"attributes\":{\"callback\":null,\"column_names\":[\"line_color\",\"line_alpha\",\"color\",\"fill_alpha\",\"height\",\"width\",\"y\",\"x\",\"label\"],\"data\":{\"AnimalType\":[\"Dog\"],\"OutcomeType\":[\"Return_to_owner\"],\"chart_index\":[{\"AnimalType\":\"Dog\",\"OutcomeType\":\"Return_to_owner\"}],\"color\":[\"#5ab738\"],\"fill_alpha\":[0.8],\"height\":[4286.0],\"label\":[{\"AnimalType\":\"Dog\",\"OutcomeType\":\"Return_to_owner\"}],\"line_alpha\":[1.0],\"line_color\":[\"white\"],\"width\":[0.8],\"x\":[\"Return_to_owner\"],\"y\":[2143.0]}},\"id\":\"039d33d8-32e5-42c4-bf1f-a4d95295f70d\",\"type\":\"ColumnDataSource\"},{\"attributes\":{\"data_source\":{\"id\":\"0a4b8ac5-97ec-42df-b536-104a68975068\",\"type\":\"ColumnDataSource\"},\"glyph\":{\"id\":\"c953e61f-ec90-47b1-b6cf-190c6f918255\",\"type\":\"Rect\"},\"hover_glyph\":null,\"nonselection_glyph\":null,\"selection_glyph\":null},\"id\":\"75c46081-6509-4f36-a6f7-0d0d53828d80\",\"type\":\"GlyphRenderer\"},{\"attributes\":{\"data_source\":{\"id\":\"53feeb9b-b96e-4803-b6df-b2180542ad58\",\"type\":\"ColumnDataSource\"},\"glyph\":{\"id\":\"ca4b691d-a89d-4964-abea-9c2b4855161b\",\"type\":\"Rect\"},\"hover_glyph\":null,\"nonselection_glyph\":null,\"selection_glyph\":null},\"id\":\"0e191940-a60a-466d-8471-0883fc6f41bd\",\"type\":\"GlyphRenderer\"},{\"attributes\":{\"callback\":null,\"column_names\":[\"line_color\",\"line_alpha\",\"color\",\"fill_alpha\",\"height\",\"width\",\"y\",\"x\",\"label\"],\"data\":{\"AnimalType\":[\"Dog\"],\"OutcomeType\":[\"Adoption\"],\"chart_index\":[{\"AnimalType\":\"Dog\",\"OutcomeType\":\"Adoption\"}],\"color\":[\"#5ab738\"],\"fill_alpha\":[0.8],\"height\":[6497.0],\"label\":[{\"AnimalType\":\"Dog\",\"OutcomeType\":\"Adoption\"}],\"line_alpha\":[1.0],\"line_color\":[\"white\"],\"width\":[0.8],\"x\":[\"Adoption\"],\"y\":[3248.5]}},\"id\":\"6363a0b5-8733-4ac5-a3d1-18528cf0f3a9\",\"type\":\"ColumnDataSource\"},{\"attributes\":{\"plot\":{\"id\":\"9bb8da15-6aab-41d1-a347-67fa0f94eeb0\",\"subtype\":\"Chart\",\"type\":\"Plot\"}},\"id\":\"c3c93954-4fda-4804-a55c-770d8cc03c5a\",\"type\":\"PanTool\"},{\"attributes\":{\"plot\":{\"id\":\"9bb8da15-6aab-41d1-a347-67fa0f94eeb0\",\"subtype\":\"Chart\",\"type\":\"Plot\"}},\"id\":\"45d203ed-37fa-4a5d-b3d3-cd050bd46357\",\"type\":\"HelpTool\"},{\"attributes\":{\"dimension\":1,\"plot\":{\"id\":\"9bb8da15-6aab-41d1-a347-67fa0f94eeb0\",\"subtype\":\"Chart\",\"type\":\"Plot\"},\"ticker\":{\"id\":\"a3677212-2c91-4afa-a89e-88cfc6c8bfc4\",\"type\":\"BasicTicker\"}},\"id\":\"16d8001f-1248-4fe9-8a64-675b6bbb1a53\",\"type\":\"Grid\"},{\"attributes\":{\"axis_label\":\"Count( Pitbull )\",\"formatter\":{\"id\":\"bb52bbfb-b960-4018-a80d-92e1f4ab967b\",\"type\":\"BasicTickFormatter\"},\"plot\":{\"id\":\"9bb8da15-6aab-41d1-a347-67fa0f94eeb0\",\"subtype\":\"Chart\",\"type\":\"Plot\"},\"ticker\":{\"id\":\"a3677212-2c91-4afa-a89e-88cfc6c8bfc4\",\"type\":\"BasicTicker\"}},\"id\":\"09918203-9855-4cbb-a428-46cbc164491f\",\"type\":\"LinearAxis\"},{\"attributes\":{\"data_source\":{\"id\":\"039d33d8-32e5-42c4-bf1f-a4d95295f70d\",\"type\":\"ColumnDataSource\"},\"glyph\":{\"id\":\"9dbc0906-e6e0-4eaa-b975-bedf1256139d\",\"type\":\"Rect\"},\"hover_glyph\":null,\"nonselection_glyph\":null,\"selection_glyph\":null},\"id\":\"4ce1b07f-de85-4be5-828c-c7139cd18e5e\",\"type\":\"GlyphRenderer\"},{\"attributes\":{\"legends\":[[\"Dog\",[{\"id\":\"4ce1b07f-de85-4be5-828c-c7139cd18e5e\",\"type\":\"GlyphRenderer\"}]],[\"Cat\",[{\"id\":\"fb13501e-52f3-438b-90c2-808774e2df1c\",\"type\":\"GlyphRenderer\"}]]],\"plot\":{\"id\":\"9bb8da15-6aab-41d1-a347-67fa0f94eeb0\",\"subtype\":\"Chart\",\"type\":\"Plot\"}},\"id\":\"1749b6ea-bf9a-44f6-84dc-e46724b0863d\",\"type\":\"Legend\"},{\"attributes\":{\"plot\":{\"id\":\"9bb8da15-6aab-41d1-a347-67fa0f94eeb0\",\"subtype\":\"Chart\",\"type\":\"Plot\"}},\"id\":\"a398a715-7d6d-46d4-86e4-f12009e3ab10\",\"type\":\"WheelZoomTool\"},{\"attributes\":{\"data_source\":{\"id\":\"1c6399f9-04ee-4428-b5b9-0bdf20e293d4\",\"type\":\"ColumnDataSource\"},\"glyph\":{\"id\":\"2f0e8812-af6b-4b2d-9a15-bb304f4325ef\",\"type\":\"Rect\"},\"hover_glyph\":null,\"nonselection_glyph\":null,\"selection_glyph\":null},\"id\":\"e5e05b01-86a9-4427-ad95-3e13e6a6096d\",\"type\":\"GlyphRenderer\"},{\"attributes\":{},\"id\":\"bb52bbfb-b960-4018-a80d-92e1f4ab967b\",\"type\":\"BasicTickFormatter\"},{\"attributes\":{\"callback\":null,\"column_names\":[\"line_color\",\"line_alpha\",\"color\",\"fill_alpha\",\"height\",\"width\",\"y\",\"x\",\"label\"],\"data\":{\"AnimalType\":[\"Cat\"],\"OutcomeType\":[\"Transfer\"],\"chart_index\":[{\"AnimalType\":\"Cat\",\"OutcomeType\":\"Transfer\"}],\"color\":[\"#f22c40\"],\"fill_alpha\":[0.8],\"height\":[5505.0],\"label\":[{\"AnimalType\":\"Cat\",\"OutcomeType\":\"Transfer\"}],\"line_alpha\":[1.0],\"line_color\":[\"white\"],\"width\":[0.8],\"x\":[\"Transfer\"],\"y\":[2752.5]}},\"id\":\"1c6399f9-04ee-4428-b5b9-0bdf20e293d4\",\"type\":\"ColumnDataSource\"},{\"attributes\":{\"plot\":{\"id\":\"9bb8da15-6aab-41d1-a347-67fa0f94eeb0\",\"subtype\":\"Chart\",\"type\":\"Plot\"}},\"id\":\"95086a3c-fdd9-4ce4-95cc-554e35a60278\",\"type\":\"ResetTool\"},{\"attributes\":{\"fill_alpha\":{\"field\":\"fill_alpha\"},\"fill_color\":{\"field\":\"color\"},\"height\":{\"field\":\"height\",\"units\":\"data\"},\"line_color\":{\"field\":\"line_color\"},\"width\":{\"field\":\"width\",\"units\":\"data\"},\"x\":{\"field\":\"x\"},\"y\":{\"field\":\"y\"}},\"id\":\"4e24d76c-dc78-4d82-90dd-b9ad1e9fb7b9\",\"type\":\"Rect\"},{\"attributes\":{\"data_source\":{\"id\":\"6363a0b5-8733-4ac5-a3d1-18528cf0f3a9\",\"type\":\"ColumnDataSource\"},\"glyph\":{\"id\":\"91ee5f0a-70fa-4225-95cf-ce23c6f18f74\",\"type\":\"Rect\"},\"hover_glyph\":null,\"nonselection_glyph\":null,\"selection_glyph\":null},\"id\":\"398f3f80-aad5-415a-9899-62b13339df7d\",\"type\":\"GlyphRenderer\"},{\"attributes\":{\"fill_alpha\":{\"field\":\"fill_alpha\"},\"fill_color\":{\"field\":\"color\"},\"height\":{\"field\":\"height\",\"units\":\"data\"},\"line_color\":{\"field\":\"line_color\"},\"width\":{\"field\":\"width\",\"units\":\"data\"},\"x\":{\"field\":\"x\"},\"y\":{\"field\":\"y\"}},\"id\":\"601b91aa-58bb-4e0b-9fff-cb76ba1080d9\",\"type\":\"Rect\"},{\"attributes\":{\"fill_alpha\":{\"field\":\"fill_alpha\"},\"fill_color\":{\"field\":\"color\"},\"height\":{\"field\":\"height\",\"units\":\"data\"},\"line_color\":{\"field\":\"line_color\"},\"width\":{\"field\":\"width\",\"units\":\"data\"},\"x\":{\"field\":\"x\"},\"y\":{\"field\":\"y\"}},\"id\":\"ca4b691d-a89d-4964-abea-9c2b4855161b\",\"type\":\"Rect\"},{\"attributes\":{\"callback\":null,\"column_names\":[\"line_color\",\"line_alpha\",\"color\",\"fill_alpha\",\"height\",\"width\",\"y\",\"x\",\"label\"],\"data\":{\"AnimalType\":[\"Cat\"],\"OutcomeType\":[\"Adoption\"],\"chart_index\":[{\"AnimalType\":\"Cat\",\"OutcomeType\":\"Adoption\"}],\"color\":[\"#f22c40\"],\"fill_alpha\":[0.8],\"height\":[4272.0],\"label\":[{\"AnimalType\":\"Cat\",\"OutcomeType\":\"Adoption\"}],\"line_alpha\":[1.0],\"line_color\":[\"white\"],\"width\":[0.8],\"x\":[\"Adoption\"],\"y\":[8633.0]}},\"id\":\"53feeb9b-b96e-4803-b6df-b2180542ad58\",\"type\":\"ColumnDataSource\"},{\"attributes\":{\"plot\":null,\"text\":\"Outcomes for Pitbulls\"},\"id\":\"26c9c3b5-782e-4577-92db-9431e82134f8\",\"type\":\"Title\"},{\"attributes\":{\"fill_alpha\":{\"field\":\"fill_alpha\"},\"fill_color\":{\"field\":\"color\"},\"height\":{\"field\":\"height\",\"units\":\"data\"},\"line_color\":{\"field\":\"line_color\"},\"width\":{\"field\":\"width\",\"units\":\"data\"},\"x\":{\"field\":\"x\"},\"y\":{\"field\":\"y\"}},\"id\":\"91ee5f0a-70fa-4225-95cf-ce23c6f18f74\",\"type\":\"Rect\"},{\"attributes\":{\"data_source\":{\"id\":\"57295b28-a198-426b-9421-47da0a7bf5f2\",\"type\":\"ColumnDataSource\"},\"glyph\":{\"id\":\"3cbdfe45-119d-41e9-9b5c-f583a2f08b6d\",\"type\":\"Rect\"},\"hover_glyph\":null,\"nonselection_glyph\":null,\"selection_glyph\":null},\"id\":\"54bb1192-1c8f-4b6d-88b0-cdff150672f2\",\"type\":\"GlyphRenderer\"},{\"attributes\":{\"data_source\":{\"id\":\"71ea46bd-569f-407d-972e-29e0cfb95157\",\"type\":\"ColumnDataSource\"},\"glyph\":{\"id\":\"fa66bfc9-802b-4ffd-a95a-6b2fd3b373b9\",\"type\":\"Rect\"},\"hover_glyph\":null,\"nonselection_glyph\":null,\"selection_glyph\":null},\"id\":\"fb13501e-52f3-438b-90c2-808774e2df1c\",\"type\":\"GlyphRenderer\"},{\"attributes\":{\"active_drag\":\"auto\",\"active_scroll\":\"auto\",\"active_tap\":\"auto\",\"tools\":[{\"id\":\"c3c93954-4fda-4804-a55c-770d8cc03c5a\",\"type\":\"PanTool\"},{\"id\":\"a398a715-7d6d-46d4-86e4-f12009e3ab10\",\"type\":\"WheelZoomTool\"},{\"id\":\"c0f2378f-4f3e-497c-8660-89e40912668f\",\"type\":\"BoxZoomTool\"},{\"id\":\"ba8553fc-ae35-47e8-8dfa-ab2b4718791a\",\"type\":\"SaveTool\"},{\"id\":\"95086a3c-fdd9-4ce4-95cc-554e35a60278\",\"type\":\"ResetTool\"},{\"id\":\"45d203ed-37fa-4a5d-b3d3-cd050bd46357\",\"type\":\"HelpTool\"}]},\"id\":\"7884cca9-51bf-4921-8488-bbb39aefde7e\",\"type\":\"Toolbar\"},{\"attributes\":{\"plot\":{\"id\":\"9bb8da15-6aab-41d1-a347-67fa0f94eeb0\",\"subtype\":\"Chart\",\"type\":\"Plot\"}},\"id\":\"ba8553fc-ae35-47e8-8dfa-ab2b4718791a\",\"type\":\"SaveTool\"},{\"attributes\":{\"callback\":null,\"column_names\":[\"line_color\",\"line_alpha\",\"color\",\"fill_alpha\",\"height\",\"width\",\"y\",\"x\",\"label\"],\"data\":{\"AnimalType\":[\"Cat\"],\"OutcomeType\":[\"Died\"],\"chart_index\":[{\"AnimalType\":\"Cat\",\"OutcomeType\":\"Died\"}],\"color\":[\"#f22c40\"],\"fill_alpha\":[0.8],\"height\":[147.0],\"label\":[{\"AnimalType\":\"Cat\",\"OutcomeType\":\"Died\"}],\"line_alpha\":[1.0],\"line_color\":[\"white\"],\"width\":[0.8],\"x\":[\"Died\"],\"y\":[73.5]}},\"id\":\"eea55bc4-2c97-48b5-8587-5804e2550572\",\"type\":\"ColumnDataSource\"},{\"attributes\":{},\"id\":\"c7bc69e0-aae5-47ae-9b0f-37711614b394\",\"type\":\"ToolEvents\"},{\"attributes\":{\"callback\":null,\"column_names\":[\"line_color\",\"line_alpha\",\"color\",\"fill_alpha\",\"height\",\"width\",\"y\",\"x\",\"label\"],\"data\":{\"AnimalType\":[\"Dog\"],\"OutcomeType\":[\"Euthanasia\"],\"chart_index\":[{\"AnimalType\":\"Dog\",\"OutcomeType\":\"Euthanasia\"}],\"color\":[\"#5ab738\"],\"fill_alpha\":[0.8],\"height\":[845.0],\"label\":[{\"AnimalType\":\"Dog\",\"OutcomeType\":\"Euthanasia\"}],\"line_alpha\":[1.0],\"line_color\":[\"white\"],\"width\":[0.8],\"x\":[\"Euthanasia\"],\"y\":[1132.5]}},\"id\":\"7029a8f8-ca94-4930-977a-3bb9cdf80939\",\"type\":\"ColumnDataSource\"},{\"attributes\":{\"callback\":null,\"end\":11307.45},\"id\":\"cee3eefc-5bcf-43a3-af83-b77b7debc6da\",\"type\":\"Range1d\"},{\"attributes\":{\"fill_alpha\":{\"field\":\"fill_alpha\"},\"fill_color\":{\"field\":\"color\"},\"height\":{\"field\":\"height\",\"units\":\"data\"},\"line_color\":{\"field\":\"line_color\"},\"width\":{\"field\":\"width\",\"units\":\"data\"},\"x\":{\"field\":\"x\"},\"y\":{\"field\":\"y\"}},\"id\":\"2f0e8812-af6b-4b2d-9a15-bb304f4325ef\",\"type\":\"Rect\"},{\"attributes\":{\"callback\":null,\"column_names\":[\"line_color\",\"line_alpha\",\"color\",\"fill_alpha\",\"height\",\"width\",\"y\",\"x\",\"label\"],\"data\":{\"AnimalType\":[\"Dog\"],\"OutcomeType\":[\"Transfer\"],\"chart_index\":[{\"AnimalType\":\"Dog\",\"OutcomeType\":\"Transfer\"}],\"color\":[\"#5ab738\"],\"fill_alpha\":[0.8],\"height\":[3917.0],\"label\":[{\"AnimalType\":\"Dog\",\"OutcomeType\":\"Transfer\"}],\"line_alpha\":[1.0],\"line_color\":[\"white\"],\"width\":[0.8],\"x\":[\"Transfer\"],\"y\":[7463.5]}},\"id\":\"0a4b8ac5-97ec-42df-b536-104a68975068\",\"type\":\"ColumnDataSource\"},{\"attributes\":{\"callback\":null,\"column_names\":[\"line_color\",\"line_alpha\",\"color\",\"fill_alpha\",\"height\",\"width\",\"y\",\"x\",\"label\"],\"data\":{\"AnimalType\":[\"Cat\"],\"OutcomeType\":[\"Return_to_owner\"],\"chart_index\":[{\"AnimalType\":\"Cat\",\"OutcomeType\":\"Return_to_owner\"}],\"color\":[\"#f22c40\"],\"fill_alpha\":[0.8],\"height\":[500.0],\"label\":[{\"AnimalType\":\"Cat\",\"OutcomeType\":\"Return_to_owner\"}],\"line_alpha\":[1.0],\"line_color\":[\"white\"],\"width\":[0.8],\"x\":[\"Return_to_owner\"],\"y\":[4536.0]}},\"id\":\"57295b28-a198-426b-9421-47da0a7bf5f2\",\"type\":\"ColumnDataSource\"},{\"attributes\":{\"data_source\":{\"id\":\"7029a8f8-ca94-4930-977a-3bb9cdf80939\",\"type\":\"ColumnDataSource\"},\"glyph\":{\"id\":\"4e24d76c-dc78-4d82-90dd-b9ad1e9fb7b9\",\"type\":\"Rect\"},\"hover_glyph\":null,\"nonselection_glyph\":null,\"selection_glyph\":null},\"id\":\"636c7769-32f8-42f7-8fa3-ecd27d414068\",\"type\":\"GlyphRenderer\"},{\"attributes\":{\"callback\":null,\"column_names\":[\"line_color\",\"line_alpha\",\"color\",\"fill_alpha\",\"height\",\"width\",\"y\",\"x\",\"label\"],\"data\":{\"AnimalType\":[\"Dog\"],\"OutcomeType\":[\"Died\"],\"chart_index\":[{\"AnimalType\":\"Dog\",\"OutcomeType\":\"Died\"}],\"color\":[\"#5ab738\"],\"fill_alpha\":[0.8],\"height\":[50.0],\"label\":[{\"AnimalType\":\"Dog\",\"OutcomeType\":\"Died\"}],\"line_alpha\":[1.0],\"line_color\":[\"white\"],\"width\":[0.8],\"x\":[\"Died\"],\"y\":[172.0]}},\"id\":\"2dbe96fc-b1e5-4f87-a2db-55e08078dee0\",\"type\":\"ColumnDataSource\"},{\"attributes\":{\"data_source\":{\"id\":\"2dbe96fc-b1e5-4f87-a2db-55e08078dee0\",\"type\":\"ColumnDataSource\"},\"glyph\":{\"id\":\"601b91aa-58bb-4e0b-9fff-cb76ba1080d9\",\"type\":\"Rect\"},\"hover_glyph\":null,\"nonselection_glyph\":null,\"selection_glyph\":null},\"id\":\"d67f537c-cd80-4769-a6f0-26552a404d1f\",\"type\":\"GlyphRenderer\"},{\"attributes\":{},\"id\":\"350b56e3-53e6-470a-b936-a1d87e78773a\",\"type\":\"CategoricalTicker\"},{\"attributes\":{\"axis_label\":\"Outcometype\",\"formatter\":{\"id\":\"76bcc3f9-1b9e-43c9-8a21-1fdf7f42ad09\",\"type\":\"CategoricalTickFormatter\"},\"major_label_orientation\":0.7853981633974483,\"plot\":{\"id\":\"9bb8da15-6aab-41d1-a347-67fa0f94eeb0\",\"subtype\":\"Chart\",\"type\":\"Plot\"},\"ticker\":{\"id\":\"350b56e3-53e6-470a-b936-a1d87e78773a\",\"type\":\"CategoricalTicker\"}},\"id\":\"a1a1e5eb-60de-4ec7-a907-0e4ac0b90156\",\"type\":\"CategoricalAxis\"},{\"attributes\":{\"fill_alpha\":{\"field\":\"fill_alpha\"},\"fill_color\":{\"field\":\"color\"},\"height\":{\"field\":\"height\",\"units\":\"data\"},\"line_color\":{\"field\":\"line_color\"},\"width\":{\"field\":\"width\",\"units\":\"data\"},\"x\":{\"field\":\"x\"},\"y\":{\"field\":\"y\"}},\"id\":\"c953e61f-ec90-47b1-b6cf-190c6f918255\",\"type\":\"Rect\"},{\"attributes\":{\"overlay\":{\"id\":\"53a61048-bb99-4c27-90f5-828cbf393200\",\"type\":\"BoxAnnotation\"},\"plot\":{\"id\":\"9bb8da15-6aab-41d1-a347-67fa0f94eeb0\",\"subtype\":\"Chart\",\"type\":\"Plot\"}},\"id\":\"c0f2378f-4f3e-497c-8660-89e40912668f\",\"type\":\"BoxZoomTool\"},{\"attributes\":{\"data_source\":{\"id\":\"eea55bc4-2c97-48b5-8587-5804e2550572\",\"type\":\"ColumnDataSource\"},\"glyph\":{\"id\":\"a84768aa-5431-44a7-801e-b2ceed6d34fa\",\"type\":\"Rect\"},\"hover_glyph\":null,\"nonselection_glyph\":null,\"selection_glyph\":null},\"id\":\"0f446b2f-49e9-4c62-957c-0c142847b346\",\"type\":\"GlyphRenderer\"},{\"attributes\":{\"callback\":null,\"factors\":[\"Adoption\",\"Died\",\"Euthanasia\",\"Return_to_owner\",\"Transfer\"]},\"id\":\"f8f0bfad-7851-4272-827e-82a075af23cc\",\"type\":\"FactorRange\"},{\"attributes\":{\"bottom_units\":\"screen\",\"fill_alpha\":{\"value\":0.5},\"fill_color\":{\"value\":\"lightgrey\"},\"left_units\":\"screen\",\"level\":\"overlay\",\"line_alpha\":{\"value\":1.0},\"line_color\":{\"value\":\"black\"},\"line_dash\":[4,4],\"line_width\":{\"value\":2},\"plot\":null,\"render_mode\":\"css\",\"right_units\":\"screen\",\"top_units\":\"screen\"},\"id\":\"53a61048-bb99-4c27-90f5-828cbf393200\",\"type\":\"BoxAnnotation\"},{\"attributes\":{\"fill_alpha\":{\"field\":\"fill_alpha\"},\"fill_color\":{\"field\":\"color\"},\"height\":{\"field\":\"height\",\"units\":\"data\"},\"line_color\":{\"field\":\"line_color\"},\"width\":{\"field\":\"width\",\"units\":\"data\"},\"x\":{\"field\":\"x\"},\"y\":{\"field\":\"y\"}},\"id\":\"3cbdfe45-119d-41e9-9b5c-f583a2f08b6d\",\"type\":\"Rect\"},{\"attributes\":{\"fill_alpha\":{\"field\":\"fill_alpha\"},\"fill_color\":{\"field\":\"color\"},\"height\":{\"field\":\"height\",\"units\":\"data\"},\"line_color\":{\"field\":\"line_color\"},\"width\":{\"field\":\"width\",\"units\":\"data\"},\"x\":{\"field\":\"x\"},\"y\":{\"field\":\"y\"}},\"id\":\"9dbc0906-e6e0-4eaa-b975-bedf1256139d\",\"type\":\"Rect\"},{\"attributes\":{\"fill_alpha\":{\"field\":\"fill_alpha\"},\"fill_color\":{\"field\":\"color\"},\"height\":{\"field\":\"height\",\"units\":\"data\"},\"line_color\":{\"field\":\"line_color\"},\"width\":{\"field\":\"width\",\"units\":\"data\"},\"x\":{\"field\":\"x\"},\"y\":{\"field\":\"y\"}},\"id\":\"fa66bfc9-802b-4ffd-a95a-6b2fd3b373b9\",\"type\":\"Rect\"},{\"attributes\":{},\"id\":\"a3677212-2c91-4afa-a89e-88cfc6c8bfc4\",\"type\":\"BasicTicker\"},{\"attributes\":{\"below\":[{\"id\":\"a1a1e5eb-60de-4ec7-a907-0e4ac0b90156\",\"type\":\"CategoricalAxis\"}],\"left\":[{\"id\":\"09918203-9855-4cbb-a428-46cbc164491f\",\"type\":\"LinearAxis\"}],\"renderers\":[{\"id\":\"53a61048-bb99-4c27-90f5-828cbf393200\",\"type\":\"BoxAnnotation\"},{\"id\":\"4ce1b07f-de85-4be5-828c-c7139cd18e5e\",\"type\":\"GlyphRenderer\"},{\"id\":\"fb13501e-52f3-438b-90c2-808774e2df1c\",\"type\":\"GlyphRenderer\"},{\"id\":\"398f3f80-aad5-415a-9899-62b13339df7d\",\"type\":\"GlyphRenderer\"},{\"id\":\"e5e05b01-86a9-4427-ad95-3e13e6a6096d\",\"type\":\"GlyphRenderer\"},{\"id\":\"75c46081-6509-4f36-a6f7-0d0d53828d80\",\"type\":\"GlyphRenderer\"},{\"id\":\"0e191940-a60a-466d-8471-0883fc6f41bd\",\"type\":\"GlyphRenderer\"},{\"id\":\"54bb1192-1c8f-4b6d-88b0-cdff150672f2\",\"type\":\"GlyphRenderer\"},{\"id\":\"636c7769-32f8-42f7-8fa3-ecd27d414068\",\"type\":\"GlyphRenderer\"},{\"id\":\"0f446b2f-49e9-4c62-957c-0c142847b346\",\"type\":\"GlyphRenderer\"},{\"id\":\"d67f537c-cd80-4769-a6f0-26552a404d1f\",\"type\":\"GlyphRenderer\"},{\"id\":\"1749b6ea-bf9a-44f6-84dc-e46724b0863d\",\"type\":\"Legend\"},{\"id\":\"a1a1e5eb-60de-4ec7-a907-0e4ac0b90156\",\"type\":\"CategoricalAxis\"},{\"id\":\"09918203-9855-4cbb-a428-46cbc164491f\",\"type\":\"LinearAxis\"},{\"id\":\"16d8001f-1248-4fe9-8a64-675b6bbb1a53\",\"type\":\"Grid\"}],\"title\":{\"id\":\"26c9c3b5-782e-4577-92db-9431e82134f8\",\"type\":\"Title\"},\"tool_events\":{\"id\":\"c7bc69e0-aae5-47ae-9b0f-37711614b394\",\"type\":\"ToolEvents\"},\"toolbar\":{\"id\":\"7884cca9-51bf-4921-8488-bbb39aefde7e\",\"type\":\"Toolbar\"},\"x_mapper_type\":\"auto\",\"x_range\":{\"id\":\"f8f0bfad-7851-4272-827e-82a075af23cc\",\"type\":\"FactorRange\"},\"y_mapper_type\":\"auto\",\"y_range\":{\"id\":\"cee3eefc-5bcf-43a3-af83-b77b7debc6da\",\"type\":\"Range1d\"}},\"id\":\"9bb8da15-6aab-41d1-a347-67fa0f94eeb0\",\"subtype\":\"Chart\",\"type\":\"Plot\"},{\"attributes\":{},\"id\":\"76bcc3f9-1b9e-43c9-8a21-1fdf7f42ad09\",\"type\":\"CategoricalTickFormatter\"}],\"root_ids\":[\"9bb8da15-6aab-41d1-a347-67fa0f94eeb0\"]},\"title\":\"Bokeh Application\",\"version\":\"0.12.2\"}};\n",
       "            var render_items = [{\"docid\":\"d6e11b06-de10-45eb-ab33-e54ce7180da3\",\"elementid\":\"b04a4c55-8017-4948-80bd-9bdb7e25d78b\",\"modelid\":\"9bb8da15-6aab-41d1-a347-67fa0f94eeb0\"}];\n",
       "            \n",
       "            Bokeh.embed.embed_items(docs_json, render_items);\n",
       "        });\n",
       "      },\n",
       "      function(Bokeh) {\n",
       "      }\n",
       "    ];\n",
       "  \n",
       "    function run_inline_js() {\n",
       "      \n",
       "      if ((window.Bokeh !== undefined) || (force === \"1\")) {\n",
       "        for (var i = 0; i < inline_js.length; i++) {\n",
       "          inline_js[i](window.Bokeh);\n",
       "        }if (force === \"1\") {\n",
       "          display_loaded();\n",
       "        }} else if (Date.now() < window._bokeh_timeout) {\n",
       "        setTimeout(run_inline_js, 100);\n",
       "      } else if (!window._bokeh_failed_load) {\n",
       "        console.log(\"Bokeh: BokehJS failed to load within specified timeout.\");\n",
       "        window._bokeh_failed_load = true;\n",
       "      } else if (!force) {\n",
       "        var cell = $(\"#b04a4c55-8017-4948-80bd-9bdb7e25d78b\").parents('.cell').data().cell;\n",
       "        cell.output_area.append_execute_result(NB_LOAD_WARNING)\n",
       "      }\n",
       "  \n",
       "    }\n",
       "  \n",
       "    if (window._bokeh_is_loading === 0) {\n",
       "      console.log(\"Bokeh: BokehJS loaded, going straight to plotting\");\n",
       "      run_inline_js();\n",
       "    } else {\n",
       "      load_libs(js_urls, function() {\n",
       "        console.log(\"Bokeh: BokehJS plotting callback run at\", now());\n",
       "        run_inline_js();\n",
       "      });\n",
       "    }\n",
       "  }(this));\n",
       "</script>"
      ]
     },
     "metadata": {},
     "output_type": "display_data"
    }
   ],
   "source": [
    "#Pitbull\n",
    "p = Bar(data, label='OutcomeType', values = 'PitBull', agg='count', stack='AnimalType',\n",
    "        title=\"Outcomes for Pitbulls\", legend='top_right')\n",
    "show(p)"
   ]
  },
  {
   "cell_type": "code",
   "execution_count": 37,
   "metadata": {
    "collapsed": false,
    "scrolled": false
   },
   "outputs": [
    {
     "data": {
      "text/plain": [
       "<matplotlib.axes._subplots.AxesSubplot at 0x1426a2b0>"
      ]
     },
     "execution_count": 37,
     "metadata": {},
     "output_type": "execute_result"
    },
    {
     "data": {
      "image/png": "[encoded data removed]",
      "text/plain": [
       "<matplotlib.figure.Figure at 0x13ebf2e8>"
      ]
     },
     "metadata": {},
     "output_type": "display_data"
    }
   ],
   "source": [
    "#Named/unnamed\n",
    "\n",
    "name = data['Named'].value_counts() \n",
    "name.plot(kind='bar',color='#34ABD8',rot=0)"
   ]
  },
  {
   "cell_type": "code",
   "execution_count": 38,
   "metadata": {
    "collapsed": false
   },
   "outputs": [
    {
     "data": {
      "text/html": [
       "\n",
       "\n",
       "    <div class=\"bk-root\">\n",
       "        <div class=\"plotdiv\" id=\"6fd963f7-cfa8-40f5-a247-d86a558ef2c9\"></div>\n",
       "    </div>\n",
       "<script type=\"text/javascript\">\n",
       "  \n",
       "  (function(global) {\n",
       "    function now() {\n",
       "      return new Date();\n",
       "    }\n",
       "  \n",
       "    var force = \"\";\n",
       "  \n",
       "    if (typeof (window._bokeh_onload_callbacks) === \"undefined\" || force !== \"\") {\n",
       "      window._bokeh_onload_callbacks = [];\n",
       "      window._bokeh_is_loading = undefined;\n",
       "    }\n",
       "  \n",
       "  \n",
       "    \n",
       "    if (typeof (window._bokeh_timeout) === \"undefined\" || force !== \"\") {\n",
       "      window._bokeh_timeout = Date.now() + 0;\n",
       "      window._bokeh_failed_load = false;\n",
       "    }\n",
       "  \n",
       "    var NB_LOAD_WARNING = {'data': {'text/html':\n",
       "       \"<div style='background-color: #fdd'>\\n\"+\n",
       "       \"<p>\\n\"+\n",
       "       \"BokehJS does not appear to have successfully loaded. If loading BokehJS from CDN, this \\n\"+\n",
       "       \"may be due to a slow or bad network connection. Possible fixes:\\n\"+\n",
       "       \"</p>\\n\"+\n",
       "       \"<ul>\\n\"+\n",
       "       \"<li>re-rerun `output_notebook()` to attempt to load from CDN again, or</li>\\n\"+\n",
       "       \"<li>use INLINE resources instead, as so:</li>\\n\"+\n",
       "       \"</ul>\\n\"+\n",
       "       \"<code>\\n\"+\n",
       "       \"from bokeh.resources import INLINE\\n\"+\n",
       "       \"output_notebook(resources=INLINE)\\n\"+\n",
       "       \"</code>\\n\"+\n",
       "       \"</div>\"}};\n",
       "  \n",
       "    function display_loaded() {\n",
       "      if (window.Bokeh !== undefined) {\n",
       "        Bokeh.$(\"#6fd963f7-cfa8-40f5-a247-d86a558ef2c9\").text(\"BokehJS successfully loaded.\");\n",
       "      } else if (Date.now() < window._bokeh_timeout) {\n",
       "        setTimeout(display_loaded, 100)\n",
       "      }\n",
       "    }\n",
       "  \n",
       "    function run_callbacks() {\n",
       "      window._bokeh_onload_callbacks.forEach(function(callback) { callback() });\n",
       "      delete window._bokeh_onload_callbacks\n",
       "      console.info(\"Bokeh: all callbacks have finished\");\n",
       "    }\n",
       "  \n",
       "    function load_libs(js_urls, callback) {\n",
       "      window._bokeh_onload_callbacks.push(callback);\n",
       "      if (window._bokeh_is_loading > 0) {\n",
       "        console.log(\"Bokeh: BokehJS is being loaded, scheduling callback at\", now());\n",
       "        return null;\n",
       "      }\n",
       "      if (js_urls == null || js_urls.length === 0) {\n",
       "        run_callbacks();\n",
       "        return null;\n",
       "      }\n",
       "      console.log(\"Bokeh: BokehJS not loaded, scheduling load and callback at\", now());\n",
       "      window._bokeh_is_loading = js_urls.length;\n",
       "      for (var i = 0; i < js_urls.length; i++) {\n",
       "        var url = js_urls[i];\n",
       "        var s = document.createElement('script');\n",
       "        s.src = url;\n",
       "        s.async = false;\n",
       "        s.onreadystatechange = s.onload = function() {\n",
       "          window._bokeh_is_loading--;\n",
       "          if (window._bokeh_is_loading === 0) {\n",
       "            console.log(\"Bokeh: all BokehJS libraries loaded\");\n",
       "            run_callbacks()\n",
       "          }\n",
       "        };\n",
       "        s.onerror = function() {\n",
       "          console.warn(\"failed to load library \" + url);\n",
       "        };\n",
       "        console.log(\"Bokeh: injecting script tag for BokehJS library: \", url);\n",
       "        document.getElementsByTagName(\"head\")[0].appendChild(s);\n",
       "      }\n",
       "    };var element = document.getElementById(\"6fd963f7-cfa8-40f5-a247-d86a558ef2c9\");\n",
       "    if (element == null) {\n",
       "      console.log(\"Bokeh: ERROR: autoload.js configured with elementid '6fd963f7-cfa8-40f5-a247-d86a558ef2c9' but no matching script tag was found. \")\n",
       "      return false;\n",
       "    }\n",
       "  \n",
       "    var js_urls = [];\n",
       "  \n",
       "    var inline_js = [\n",
       "      function(Bokeh) {\n",
       "        Bokeh.$(function() {\n",
       "            var docs_json = {\"d37abd6d-c0c9-44a6-b51c-d1d131936df0\":{\"roots\":{\"references\":[{\"attributes\":{\"callback\":null,\"column_names\":[\"line_color\",\"line_alpha\",\"color\",\"fill_alpha\",\"height\",\"width\",\"y\",\"x\",\"label\"],\"data\":{\"Named\":[\"Unnamed\"],\"OutcomeType\":[\"Adoption\"],\"chart_index\":[{\"Named\":\"Unnamed\",\"OutcomeType\":\"Adoption\"}],\"color\":[\"#5ab738\"],\"fill_alpha\":[0.8],\"height\":[1678.0],\"label\":[{\"Named\":\"Unnamed\",\"OutcomeType\":\"Adoption\"}],\"line_alpha\":[1.0],\"line_color\":[\"white\"],\"width\":[0.8],\"x\":[\"Adoption\"],\"y\":[9930.0]}},\"id\":\"53ee2621-48c0-40eb-88a4-3cca55b9fbb9\",\"type\":\"ColumnDataSource\"},{\"attributes\":{\"fill_alpha\":{\"field\":\"fill_alpha\"},\"fill_color\":{\"field\":\"color\"},\"height\":{\"field\":\"height\",\"units\":\"data\"},\"line_color\":{\"field\":\"line_color\"},\"width\":{\"field\":\"width\",\"units\":\"data\"},\"x\":{\"field\":\"x\"},\"y\":{\"field\":\"y\"}},\"id\":\"4ba438ad-c8ef-4bd9-9e3a-2a9f412b9496\",\"type\":\"Rect\"},{\"attributes\":{\"data_source\":{\"id\":\"99a5b0e0-2274-4ae9-902f-ddc7dbd23bc2\",\"type\":\"ColumnDataSource\"},\"glyph\":{\"id\":\"66359309-b619-46a8-919d-ea1d269ffde0\",\"type\":\"Rect\"},\"hover_glyph\":null,\"nonselection_glyph\":null,\"selection_glyph\":null},\"id\":\"49737d82-e72e-4925-90a6-9b30dbc20be5\",\"type\":\"GlyphRenderer\"},{\"attributes\":{\"plot\":{\"id\":\"f40018e5-f774-4be9-8f82-261154ce1a8b\",\"subtype\":\"Chart\",\"type\":\"Plot\"}},\"id\":\"3aa9ade5-8398-4e59-9fe5-f0930184ce48\",\"type\":\"WheelZoomTool\"},{\"attributes\":{\"plot\":{\"id\":\"f40018e5-f774-4be9-8f82-261154ce1a8b\",\"subtype\":\"Chart\",\"type\":\"Plot\"}},\"id\":\"02811353-7040-4311-84c0-3826fd05fad9\",\"type\":\"ResetTool\"},{\"attributes\":{\"fill_alpha\":{\"field\":\"fill_alpha\"},\"fill_color\":{\"field\":\"color\"},\"height\":{\"field\":\"height\",\"units\":\"data\"},\"line_color\":{\"field\":\"line_color\"},\"width\":{\"field\":\"width\",\"units\":\"data\"},\"x\":{\"field\":\"x\"},\"y\":{\"field\":\"y\"}},\"id\":\"8086831e-7941-442b-9c2b-4038baa95623\",\"type\":\"Rect\"},{\"attributes\":{\"fill_alpha\":{\"field\":\"fill_alpha\"},\"fill_color\":{\"field\":\"color\"},\"height\":{\"field\":\"height\",\"units\":\"data\"},\"line_color\":{\"field\":\"line_color\"},\"width\":{\"field\":\"width\",\"units\":\"data\"},\"x\":{\"field\":\"x\"},\"y\":{\"field\":\"y\"}},\"id\":\"784bac82-cc22-435c-8029-2b06fae5d7bd\",\"type\":\"Rect\"},{\"attributes\":{\"plot\":null,\"text\":\"Outcomes by Name Status\"},\"id\":\"a0f78807-3349-45cf-aaa8-00f9efdecf96\",\"type\":\"Title\"},{\"attributes\":{\"plot\":{\"id\":\"f40018e5-f774-4be9-8f82-261154ce1a8b\",\"subtype\":\"Chart\",\"type\":\"Plot\"}},\"id\":\"e41631a1-07fd-40c7-b1c5-5164cca745df\",\"type\":\"PanTool\"},{\"attributes\":{\"legends\":[[\"Named\",[{\"id\":\"96b349c0-8410-4543-a2ad-394c952e4609\",\"type\":\"GlyphRenderer\"}]],[\"Unnamed\",[{\"id\":\"c7bf2cea-0786-4eb4-867a-59b166bb6d26\",\"type\":\"GlyphRenderer\"}]]],\"plot\":{\"id\":\"f40018e5-f774-4be9-8f82-261154ce1a8b\",\"subtype\":\"Chart\",\"type\":\"Plot\"}},\"id\":\"108353f5-4b22-45d8-ba98-3fb58b9e7c4d\",\"type\":\"Legend\"},{\"attributes\":{\"plot\":{\"id\":\"f40018e5-f774-4be9-8f82-261154ce1a8b\",\"subtype\":\"Chart\",\"type\":\"Plot\"}},\"id\":\"01bed54c-49d6-4182-92a2-126714e924fd\",\"type\":\"SaveTool\"},{\"attributes\":{\"fill_alpha\":{\"field\":\"fill_alpha\"},\"fill_color\":{\"field\":\"color\"},\"height\":{\"field\":\"height\",\"units\":\"data\"},\"line_color\":{\"field\":\"line_color\"},\"width\":{\"field\":\"width\",\"units\":\"data\"},\"x\":{\"field\":\"x\"},\"y\":{\"field\":\"y\"}},\"id\":\"25fb73a9-00b0-4468-be3a-dc4003b6147a\",\"type\":\"Rect\"},{\"attributes\":{\"callback\":null,\"column_names\":[\"line_color\",\"line_alpha\",\"color\",\"fill_alpha\",\"height\",\"width\",\"y\",\"x\",\"label\"],\"data\":{\"Named\":[\"Unnamed\"],\"OutcomeType\":[\"Return_to_owner\"],\"chart_index\":[{\"Named\":\"Unnamed\",\"OutcomeType\":\"Return_to_owner\"}],\"color\":[\"#5ab738\"],\"fill_alpha\":[0.8],\"height\":[153.0],\"label\":[{\"Named\":\"Unnamed\",\"OutcomeType\":\"Return_to_owner\"}],\"line_alpha\":[1.0],\"line_color\":[\"white\"],\"width\":[0.8],\"x\":[\"Return_to_owner\"],\"y\":[4709.5]}},\"id\":\"dda73baf-0e68-4a3f-96a1-f41a7b7989c5\",\"type\":\"ColumnDataSource\"},{\"attributes\":{\"fill_alpha\":{\"field\":\"fill_alpha\"},\"fill_color\":{\"field\":\"color\"},\"height\":{\"field\":\"height\",\"units\":\"data\"},\"line_color\":{\"field\":\"line_color\"},\"width\":{\"field\":\"width\",\"units\":\"data\"},\"x\":{\"field\":\"x\"},\"y\":{\"field\":\"y\"}},\"id\":\"e413782e-4306-42d7-a8d8-f6bdabc9c528\",\"type\":\"Rect\"},{\"attributes\":{\"data_source\":{\"id\":\"304741b0-c733-4dd1-bee2-99369f564cf2\",\"type\":\"ColumnDataSource\"},\"glyph\":{\"id\":\"116ecee0-613e-4d54-8fe7-918dd14e3ef8\",\"type\":\"Rect\"},\"hover_glyph\":null,\"nonselection_glyph\":null,\"selection_glyph\":null},\"id\":\"c7bf2cea-0786-4eb4-867a-59b166bb6d26\",\"type\":\"GlyphRenderer\"},{\"attributes\":{\"data_source\":{\"id\":\"af173881-d4c9-4bcc-a958-f91839f790be\",\"type\":\"ColumnDataSource\"},\"glyph\":{\"id\":\"8086831e-7941-442b-9c2b-4038baa95623\",\"type\":\"Rect\"},\"hover_glyph\":null,\"nonselection_glyph\":null,\"selection_glyph\":null},\"id\":\"7ccf69fc-192e-4a7d-bccc-8b1e6d0303bd\",\"type\":\"GlyphRenderer\"},{\"attributes\":{\"callback\":null,\"column_names\":[\"line_color\",\"line_alpha\",\"color\",\"fill_alpha\",\"height\",\"width\",\"y\",\"x\",\"label\"],\"data\":{\"Named\":[\"Named\"],\"OutcomeType\":[\"Return_to_owner\"],\"chart_index\":[{\"Named\":\"Named\",\"OutcomeType\":\"Return_to_owner\"}],\"color\":[\"#f22c40\"],\"fill_alpha\":[0.8],\"height\":[4633.0],\"label\":[{\"Named\":\"Named\",\"OutcomeType\":\"Return_to_owner\"}],\"line_alpha\":[1.0],\"line_color\":[\"white\"],\"width\":[0.8],\"x\":[\"Return_to_owner\"],\"y\":[2316.5]}},\"id\":\"d4ee608b-a9b9-4d31-a0e5-db446e594adc\",\"type\":\"ColumnDataSource\"},{\"attributes\":{\"axis_label\":\"Count( Named )\",\"formatter\":{\"id\":\"92529360-6a3b-4343-94c5-51b6476d1528\",\"type\":\"BasicTickFormatter\"},\"plot\":{\"id\":\"f40018e5-f774-4be9-8f82-261154ce1a8b\",\"subtype\":\"Chart\",\"type\":\"Plot\"},\"ticker\":{\"id\":\"c20953cd-8e74-4f10-adcf-213ed4018787\",\"type\":\"BasicTicker\"}},\"id\":\"d92c0185-e26a-4b44-aaef-b01c694bf21a\",\"type\":\"LinearAxis\"},{\"attributes\":{},\"id\":\"dd117ca3-557c-4b37-a8e2-18765979f772\",\"type\":\"CategoricalTicker\"},{\"attributes\":{\"data_source\":{\"id\":\"6958a02c-d574-4d74-ac54-f16c0963c802\",\"type\":\"ColumnDataSource\"},\"glyph\":{\"id\":\"4ba438ad-c8ef-4bd9-9e3a-2a9f412b9496\",\"type\":\"Rect\"},\"hover_glyph\":null,\"nonselection_glyph\":null,\"selection_glyph\":null},\"id\":\"2e84ada3-32fd-461a-8d54-25f28e863073\",\"type\":\"GlyphRenderer\"},{\"attributes\":{\"callback\":null,\"factors\":[\"Adoption\",\"Died\",\"Euthanasia\",\"Return_to_owner\",\"Transfer\"]},\"id\":\"47e625f4-70c4-48c9-8ba9-032a0080ad33\",\"type\":\"FactorRange\"},{\"attributes\":{},\"id\":\"c20953cd-8e74-4f10-adcf-213ed4018787\",\"type\":\"BasicTicker\"},{\"attributes\":{\"data_source\":{\"id\":\"98a4efca-9648-4cd1-8fd8-c566b6ad4ea4\",\"type\":\"ColumnDataSource\"},\"glyph\":{\"id\":\"25fb73a9-00b0-4468-be3a-dc4003b6147a\",\"type\":\"Rect\"},\"hover_glyph\":null,\"nonselection_glyph\":null,\"selection_glyph\":null},\"id\":\"4a245fa3-2713-49f3-93bf-841be97b9318\",\"type\":\"GlyphRenderer\"},{\"attributes\":{\"fill_alpha\":{\"field\":\"fill_alpha\"},\"fill_color\":{\"field\":\"color\"},\"height\":{\"field\":\"height\",\"units\":\"data\"},\"line_color\":{\"field\":\"line_color\"},\"width\":{\"field\":\"width\",\"units\":\"data\"},\"x\":{\"field\":\"x\"},\"y\":{\"field\":\"y\"}},\"id\":\"cac3905a-5950-4758-a122-c38ec2bb8c4e\",\"type\":\"Rect\"},{\"attributes\":{\"bottom_units\":\"screen\",\"fill_alpha\":{\"value\":0.5},\"fill_color\":{\"value\":\"lightgrey\"},\"left_units\":\"screen\",\"level\":\"overlay\",\"line_alpha\":{\"value\":1.0},\"line_color\":{\"value\":\"black\"},\"line_dash\":[4,4],\"line_width\":{\"value\":2},\"plot\":null,\"render_mode\":\"css\",\"right_units\":\"screen\",\"top_units\":\"screen\"},\"id\":\"8d28796a-0e33-432e-a8c2-90ee711ed017\",\"type\":\"BoxAnnotation\"},{\"attributes\":{\"callback\":null,\"end\":11307.45},\"id\":\"dd26e88d-484a-476a-904c-f4bcd311682b\",\"type\":\"Range1d\"},{\"attributes\":{\"callback\":null,\"column_names\":[\"line_color\",\"line_alpha\",\"color\",\"fill_alpha\",\"height\",\"width\",\"y\",\"x\",\"label\"],\"data\":{\"Named\":[\"Named\"],\"OutcomeType\":[\"Adoption\"],\"chart_index\":[{\"Named\":\"Named\",\"OutcomeType\":\"Adoption\"}],\"color\":[\"#f22c40\"],\"fill_alpha\":[0.8],\"height\":[9091.0],\"label\":[{\"Named\":\"Named\",\"OutcomeType\":\"Adoption\"}],\"line_alpha\":[1.0],\"line_color\":[\"white\"],\"width\":[0.8],\"x\":[\"Adoption\"],\"y\":[4545.5]}},\"id\":\"00e1f3a5-78ef-44d6-99af-a71670370e63\",\"type\":\"ColumnDataSource\"},{\"attributes\":{\"data_source\":{\"id\":\"00e1f3a5-78ef-44d6-99af-a71670370e63\",\"type\":\"ColumnDataSource\"},\"glyph\":{\"id\":\"784bac82-cc22-435c-8029-2b06fae5d7bd\",\"type\":\"Rect\"},\"hover_glyph\":null,\"nonselection_glyph\":null,\"selection_glyph\":null},\"id\":\"b1301290-b39b-42fa-96e3-ec69339d6a56\",\"type\":\"GlyphRenderer\"},{\"attributes\":{\"fill_alpha\":{\"field\":\"fill_alpha\"},\"fill_color\":{\"field\":\"color\"},\"height\":{\"field\":\"height\",\"units\":\"data\"},\"line_color\":{\"field\":\"line_color\"},\"width\":{\"field\":\"width\",\"units\":\"data\"},\"x\":{\"field\":\"x\"},\"y\":{\"field\":\"y\"}},\"id\":\"a5208e60-fad7-4277-91d1-6be9c27caa58\",\"type\":\"Rect\"},{\"attributes\":{\"callback\":null,\"column_names\":[\"line_color\",\"line_alpha\",\"color\",\"fill_alpha\",\"height\",\"width\",\"y\",\"x\",\"label\"],\"data\":{\"Named\":[\"Unnamed\"],\"OutcomeType\":[\"Euthanasia\"],\"chart_index\":[{\"Named\":\"Unnamed\",\"OutcomeType\":\"Euthanasia\"}],\"color\":[\"#5ab738\"],\"fill_alpha\":[0.8],\"height\":[815.0],\"label\":[{\"Named\":\"Unnamed\",\"OutcomeType\":\"Euthanasia\"}],\"line_alpha\":[1.0],\"line_color\":[\"white\"],\"width\":[0.8],\"x\":[\"Euthanasia\"],\"y\":[1147.5]}},\"id\":\"426bf15f-0e95-4146-978b-9dcd563875a6\",\"type\":\"ColumnDataSource\"},{\"attributes\":{\"fill_alpha\":{\"field\":\"fill_alpha\"},\"fill_color\":{\"field\":\"color\"},\"height\":{\"field\":\"height\",\"units\":\"data\"},\"line_color\":{\"field\":\"line_color\"},\"width\":{\"field\":\"width\",\"units\":\"data\"},\"x\":{\"field\":\"x\"},\"y\":{\"field\":\"y\"}},\"id\":\"116ecee0-613e-4d54-8fe7-918dd14e3ef8\",\"type\":\"Rect\"},{\"attributes\":{\"data_source\":{\"id\":\"dda73baf-0e68-4a3f-96a1-f41a7b7989c5\",\"type\":\"ColumnDataSource\"},\"glyph\":{\"id\":\"43b4f72b-fb9e-45b1-a875-fd8759ae533c\",\"type\":\"Rect\"},\"hover_glyph\":null,\"nonselection_glyph\":null,\"selection_glyph\":null},\"id\":\"5531a79a-aa91-43d3-b6b2-5d80b5996eae\",\"type\":\"GlyphRenderer\"},{\"attributes\":{},\"id\":\"92529360-6a3b-4343-94c5-51b6476d1528\",\"type\":\"BasicTickFormatter\"},{\"attributes\":{\"fill_alpha\":{\"field\":\"fill_alpha\"},\"fill_color\":{\"field\":\"color\"},\"height\":{\"field\":\"height\",\"units\":\"data\"},\"line_color\":{\"field\":\"line_color\"},\"width\":{\"field\":\"width\",\"units\":\"data\"},\"x\":{\"field\":\"x\"},\"y\":{\"field\":\"y\"}},\"id\":\"43b4f72b-fb9e-45b1-a875-fd8759ae533c\",\"type\":\"Rect\"},{\"attributes\":{\"callback\":null,\"column_names\":[\"line_color\",\"line_alpha\",\"color\",\"fill_alpha\",\"height\",\"width\",\"y\",\"x\",\"label\"],\"data\":{\"Named\":[\"Unnamed\"],\"OutcomeType\":[\"Transfer\"],\"chart_index\":[{\"Named\":\"Unnamed\",\"OutcomeType\":\"Transfer\"}],\"color\":[\"#5ab738\"],\"fill_alpha\":[0.8],\"height\":[4925.0],\"label\":[{\"Named\":\"Unnamed\",\"OutcomeType\":\"Transfer\"}],\"line_alpha\":[1.0],\"line_color\":[\"white\"],\"width\":[0.8],\"x\":[\"Transfer\"],\"y\":[2462.5]}},\"id\":\"304741b0-c733-4dd1-bee2-99369f564cf2\",\"type\":\"ColumnDataSource\"},{\"attributes\":{\"data_source\":{\"id\":\"d4ee608b-a9b9-4d31-a0e5-db446e594adc\",\"type\":\"ColumnDataSource\"},\"glyph\":{\"id\":\"cac3905a-5950-4758-a122-c38ec2bb8c4e\",\"type\":\"Rect\"},\"hover_glyph\":null,\"nonselection_glyph\":null,\"selection_glyph\":null},\"id\":\"96b349c0-8410-4543-a2ad-394c952e4609\",\"type\":\"GlyphRenderer\"},{\"attributes\":{},\"id\":\"d48d427b-3ce9-4912-80c9-485effa00194\",\"type\":\"ToolEvents\"},{\"attributes\":{\"callback\":null,\"column_names\":[\"line_color\",\"line_alpha\",\"color\",\"fill_alpha\",\"height\",\"width\",\"y\",\"x\",\"label\"],\"data\":{\"Named\":[\"Named\"],\"OutcomeType\":[\"Transfer\"],\"chart_index\":[{\"Named\":\"Named\",\"OutcomeType\":\"Transfer\"}],\"color\":[\"#f22c40\"],\"fill_alpha\":[0.8],\"height\":[4497.0],\"label\":[{\"Named\":\"Named\",\"OutcomeType\":\"Transfer\"}],\"line_alpha\":[1.0],\"line_color\":[\"white\"],\"width\":[0.8],\"x\":[\"Transfer\"],\"y\":[7173.5]}},\"id\":\"af173881-d4c9-4bcc-a958-f91839f790be\",\"type\":\"ColumnDataSource\"},{\"attributes\":{\"data_source\":{\"id\":\"426bf15f-0e95-4146-978b-9dcd563875a6\",\"type\":\"ColumnDataSource\"},\"glyph\":{\"id\":\"e413782e-4306-42d7-a8d8-f6bdabc9c528\",\"type\":\"Rect\"},\"hover_glyph\":null,\"nonselection_glyph\":null,\"selection_glyph\":null},\"id\":\"395d6f22-e7af-49ad-8899-e7e526157870\",\"type\":\"GlyphRenderer\"},{\"attributes\":{\"callback\":null,\"column_names\":[\"line_color\",\"line_alpha\",\"color\",\"fill_alpha\",\"height\",\"width\",\"y\",\"x\",\"label\"],\"data\":{\"Named\":[\"Named\"],\"OutcomeType\":[\"Euthanasia\"],\"chart_index\":[{\"Named\":\"Named\",\"OutcomeType\":\"Euthanasia\"}],\"color\":[\"#f22c40\"],\"fill_alpha\":[0.8],\"height\":[740.0],\"label\":[{\"Named\":\"Named\",\"OutcomeType\":\"Euthanasia\"}],\"line_alpha\":[1.0],\"line_color\":[\"white\"],\"width\":[0.8],\"x\":[\"Euthanasia\"],\"y\":[370.0]}},\"id\":\"99a5b0e0-2274-4ae9-902f-ddc7dbd23bc2\",\"type\":\"ColumnDataSource\"},{\"attributes\":{\"callback\":null,\"column_names\":[\"line_color\",\"line_alpha\",\"color\",\"fill_alpha\",\"height\",\"width\",\"y\",\"x\",\"label\"],\"data\":{\"Named\":[\"Unnamed\"],\"OutcomeType\":[\"Died\"],\"chart_index\":[{\"Named\":\"Unnamed\",\"OutcomeType\":\"Died\"}],\"color\":[\"#5ab738\"],\"fill_alpha\":[0.8],\"height\":[120.0],\"label\":[{\"Named\":\"Unnamed\",\"OutcomeType\":\"Died\"}],\"line_alpha\":[1.0],\"line_color\":[\"white\"],\"width\":[0.8],\"x\":[\"Died\"],\"y\":[137.0]}},\"id\":\"98a4efca-9648-4cd1-8fd8-c566b6ad4ea4\",\"type\":\"ColumnDataSource\"},{\"attributes\":{\"axis_label\":\"Outcometype\",\"formatter\":{\"id\":\"4cd6df56-42f5-47a8-9f33-6e351ba24cbb\",\"type\":\"CategoricalTickFormatter\"},\"major_label_orientation\":0.7853981633974483,\"plot\":{\"id\":\"f40018e5-f774-4be9-8f82-261154ce1a8b\",\"subtype\":\"Chart\",\"type\":\"Plot\"},\"ticker\":{\"id\":\"dd117ca3-557c-4b37-a8e2-18765979f772\",\"type\":\"CategoricalTicker\"}},\"id\":\"9c43dd1a-3cb3-46fe-83df-0a34a664c952\",\"type\":\"CategoricalAxis\"},{\"attributes\":{\"dimension\":1,\"plot\":{\"id\":\"f40018e5-f774-4be9-8f82-261154ce1a8b\",\"subtype\":\"Chart\",\"type\":\"Plot\"},\"ticker\":{\"id\":\"c20953cd-8e74-4f10-adcf-213ed4018787\",\"type\":\"BasicTicker\"}},\"id\":\"10f7cff4-1d6e-4094-a141-007050559c61\",\"type\":\"Grid\"},{\"attributes\":{\"overlay\":{\"id\":\"8d28796a-0e33-432e-a8c2-90ee711ed017\",\"type\":\"BoxAnnotation\"},\"plot\":{\"id\":\"f40018e5-f774-4be9-8f82-261154ce1a8b\",\"subtype\":\"Chart\",\"type\":\"Plot\"}},\"id\":\"52c709af-1187-4eab-bd37-89072b670378\",\"type\":\"BoxZoomTool\"},{\"attributes\":{\"plot\":{\"id\":\"f40018e5-f774-4be9-8f82-261154ce1a8b\",\"subtype\":\"Chart\",\"type\":\"Plot\"}},\"id\":\"0a00197c-6f29-4f94-b98d-a49b10c57378\",\"type\":\"HelpTool\"},{\"attributes\":{\"data_source\":{\"id\":\"53ee2621-48c0-40eb-88a4-3cca55b9fbb9\",\"type\":\"ColumnDataSource\"},\"glyph\":{\"id\":\"a5208e60-fad7-4277-91d1-6be9c27caa58\",\"type\":\"Rect\"},\"hover_glyph\":null,\"nonselection_glyph\":null,\"selection_glyph\":null},\"id\":\"9eb8be60-59f3-4e35-92ce-09d42a2f294d\",\"type\":\"GlyphRenderer\"},{\"attributes\":{\"active_drag\":\"auto\",\"active_scroll\":\"auto\",\"active_tap\":\"auto\",\"tools\":[{\"id\":\"e41631a1-07fd-40c7-b1c5-5164cca745df\",\"type\":\"PanTool\"},{\"id\":\"3aa9ade5-8398-4e59-9fe5-f0930184ce48\",\"type\":\"WheelZoomTool\"},{\"id\":\"52c709af-1187-4eab-bd37-89072b670378\",\"type\":\"BoxZoomTool\"},{\"id\":\"01bed54c-49d6-4182-92a2-126714e924fd\",\"type\":\"SaveTool\"},{\"id\":\"02811353-7040-4311-84c0-3826fd05fad9\",\"type\":\"ResetTool\"},{\"id\":\"0a00197c-6f29-4f94-b98d-a49b10c57378\",\"type\":\"HelpTool\"}]},\"id\":\"726a26bb-1dd5-41d9-9ef1-74aa1a37b745\",\"type\":\"Toolbar\"},{\"attributes\":{},\"id\":\"4cd6df56-42f5-47a8-9f33-6e351ba24cbb\",\"type\":\"CategoricalTickFormatter\"},{\"attributes\":{\"below\":[{\"id\":\"9c43dd1a-3cb3-46fe-83df-0a34a664c952\",\"type\":\"CategoricalAxis\"}],\"left\":[{\"id\":\"d92c0185-e26a-4b44-aaef-b01c694bf21a\",\"type\":\"LinearAxis\"}],\"renderers\":[{\"id\":\"8d28796a-0e33-432e-a8c2-90ee711ed017\",\"type\":\"BoxAnnotation\"},{\"id\":\"96b349c0-8410-4543-a2ad-394c952e4609\",\"type\":\"GlyphRenderer\"},{\"id\":\"49737d82-e72e-4925-90a6-9b30dbc20be5\",\"type\":\"GlyphRenderer\"},{\"id\":\"b1301290-b39b-42fa-96e3-ec69339d6a56\",\"type\":\"GlyphRenderer\"},{\"id\":\"c7bf2cea-0786-4eb4-867a-59b166bb6d26\",\"type\":\"GlyphRenderer\"},{\"id\":\"7ccf69fc-192e-4a7d-bccc-8b1e6d0303bd\",\"type\":\"GlyphRenderer\"},{\"id\":\"9eb8be60-59f3-4e35-92ce-09d42a2f294d\",\"type\":\"GlyphRenderer\"},{\"id\":\"395d6f22-e7af-49ad-8899-e7e526157870\",\"type\":\"GlyphRenderer\"},{\"id\":\"5531a79a-aa91-43d3-b6b2-5d80b5996eae\",\"type\":\"GlyphRenderer\"},{\"id\":\"2e84ada3-32fd-461a-8d54-25f28e863073\",\"type\":\"GlyphRenderer\"},{\"id\":\"4a245fa3-2713-49f3-93bf-841be97b9318\",\"type\":\"GlyphRenderer\"},{\"id\":\"108353f5-4b22-45d8-ba98-3fb58b9e7c4d\",\"type\":\"Legend\"},{\"id\":\"9c43dd1a-3cb3-46fe-83df-0a34a664c952\",\"type\":\"CategoricalAxis\"},{\"id\":\"d92c0185-e26a-4b44-aaef-b01c694bf21a\",\"type\":\"LinearAxis\"},{\"id\":\"10f7cff4-1d6e-4094-a141-007050559c61\",\"type\":\"Grid\"}],\"title\":{\"id\":\"a0f78807-3349-45cf-aaa8-00f9efdecf96\",\"type\":\"Title\"},\"tool_events\":{\"id\":\"d48d427b-3ce9-4912-80c9-485effa00194\",\"type\":\"ToolEvents\"},\"toolbar\":{\"id\":\"726a26bb-1dd5-41d9-9ef1-74aa1a37b745\",\"type\":\"Toolbar\"},\"x_mapper_type\":\"auto\",\"x_range\":{\"id\":\"47e625f4-70c4-48c9-8ba9-032a0080ad33\",\"type\":\"FactorRange\"},\"y_mapper_type\":\"auto\",\"y_range\":{\"id\":\"dd26e88d-484a-476a-904c-f4bcd311682b\",\"type\":\"Range1d\"}},\"id\":\"f40018e5-f774-4be9-8f82-261154ce1a8b\",\"subtype\":\"Chart\",\"type\":\"Plot\"},{\"attributes\":{\"callback\":null,\"column_names\":[\"line_color\",\"line_alpha\",\"color\",\"fill_alpha\",\"height\",\"width\",\"y\",\"x\",\"label\"],\"data\":{\"Named\":[\"Named\"],\"OutcomeType\":[\"Died\"],\"chart_index\":[{\"Named\":\"Named\",\"OutcomeType\":\"Died\"}],\"color\":[\"#f22c40\"],\"fill_alpha\":[0.8],\"height\":[77.0],\"label\":[{\"Named\":\"Named\",\"OutcomeType\":\"Died\"}],\"line_alpha\":[1.0],\"line_color\":[\"white\"],\"width\":[0.8],\"x\":[\"Died\"],\"y\":[38.5]}},\"id\":\"6958a02c-d574-4d74-ac54-f16c0963c802\",\"type\":\"ColumnDataSource\"},{\"attributes\":{\"fill_alpha\":{\"field\":\"fill_alpha\"},\"fill_color\":{\"field\":\"color\"},\"height\":{\"field\":\"height\",\"units\":\"data\"},\"line_color\":{\"field\":\"line_color\"},\"width\":{\"field\":\"width\",\"units\":\"data\"},\"x\":{\"field\":\"x\"},\"y\":{\"field\":\"y\"}},\"id\":\"66359309-b619-46a8-919d-ea1d269ffde0\",\"type\":\"Rect\"}],\"root_ids\":[\"f40018e5-f774-4be9-8f82-261154ce1a8b\"]},\"title\":\"Bokeh Application\",\"version\":\"0.12.2\"}};\n",
       "            var render_items = [{\"docid\":\"d37abd6d-c0c9-44a6-b51c-d1d131936df0\",\"elementid\":\"6fd963f7-cfa8-40f5-a247-d86a558ef2c9\",\"modelid\":\"f40018e5-f774-4be9-8f82-261154ce1a8b\"}];\n",
       "            \n",
       "            Bokeh.embed.embed_items(docs_json, render_items);\n",
       "        });\n",
       "      },\n",
       "      function(Bokeh) {\n",
       "      }\n",
       "    ];\n",
       "  \n",
       "    function run_inline_js() {\n",
       "      \n",
       "      if ((window.Bokeh !== undefined) || (force === \"1\")) {\n",
       "        for (var i = 0; i < inline_js.length; i++) {\n",
       "          inline_js[i](window.Bokeh);\n",
       "        }if (force === \"1\") {\n",
       "          display_loaded();\n",
       "        }} else if (Date.now() < window._bokeh_timeout) {\n",
       "        setTimeout(run_inline_js, 100);\n",
       "      } else if (!window._bokeh_failed_load) {\n",
       "        console.log(\"Bokeh: BokehJS failed to load within specified timeout.\");\n",
       "        window._bokeh_failed_load = true;\n",
       "      } else if (!force) {\n",
       "        var cell = $(\"#6fd963f7-cfa8-40f5-a247-d86a558ef2c9\").parents('.cell').data().cell;\n",
       "        cell.output_area.append_execute_result(NB_LOAD_WARNING)\n",
       "      }\n",
       "  \n",
       "    }\n",
       "  \n",
       "    if (window._bokeh_is_loading === 0) {\n",
       "      console.log(\"Bokeh: BokehJS loaded, going straight to plotting\");\n",
       "      run_inline_js();\n",
       "    } else {\n",
       "      load_libs(js_urls, function() {\n",
       "        console.log(\"Bokeh: BokehJS plotting callback run at\", now());\n",
       "        run_inline_js();\n",
       "      });\n",
       "    }\n",
       "  }(this));\n",
       "</script>"
      ]
     },
     "metadata": {},
     "output_type": "display_data"
    }
   ],
   "source": [
    "p = Bar(data, label='OutcomeType', values = 'Named', agg='count', stack='Named',\n",
    "        title=\"Outcomes by Name Status\", legend='top_right')\n",
    "show(p)"
   ]
  },
  {
   "cell_type": "code",
   "execution_count": 46,
   "metadata": {
    "collapsed": false,
    "scrolled": true
   },
   "outputs": [
    {
     "name": "stdout",
     "output_type": "stream",
     "text": [
      "('Unique Breeds', 1143)\n"
     ]
    }
   ],
   "source": [
    "OrderedBreed = data.OrderedBreed.unique()\n",
    "print(\"Unique Breeds\" , (data.OrderedBreed.value_counts() > 0).sum())"
   ]
  },
  {
   "cell_type": "markdown",
   "metadata": {},
   "source": [
    "## Modeling\n",
    "\n",
    "What model are we using? Why?  \n",
    "Assumptions?  \n",
    "Regularization?  \n",
    "  \n",
    "\n",
    "## Evaluation\n",
    "How well does the model perform?  \n",
    "Accuracy  \n",
    "ROC curves  \n",
    "Cross-validation  \n",
    "Other metrics? Performance?  \n"
   ]
  },
  {
   "cell_type": "markdown",
   "metadata": {
    "collapsed": true
   },
   "source": [
    "### LOGISTIC REGRESSION"
   ]
  },
  {
   "cell_type": "markdown",
   "metadata": {},
   "source": [
    "#### Generate logistic regression"
   ]
  },
  {
   "cell_type": "code",
   "execution_count": 11,
   "metadata": {
    "collapsed": false
   },
   "outputs": [
    {
     "name": "stderr",
     "output_type": "stream",
     "text": [
      "/Users/yubozhang/anaconda/lib/python2.7/site-packages/sklearn/utils/validation.py:526: DataConversionWarning: A column-vector y was passed when a 1d array was expected. Please change the shape of y to (n_samples, ), for example using ravel().\n",
      "  y = column_or_1d(y, warn=True)\n"
     ]
    },
    {
     "name": "stdout",
     "output_type": "stream",
     "text": [
      "The mean accuracy when the regularization strength C is 0.5 is  0.633398174473 and the sum of the squared weight is -20.7716088766\n"
     ]
    }
   ],
   "source": [
    "#Tested for C in 0.00001, 0.0001, 0.001, 0.01, 0.1,, 1.0, 2.0, 4.0, 6.0, 8.0, 10.0\n",
    "#Highest accuracy is when C=0.5\n",
    "\n",
    "for m in [ 0.5]: # 0.00001, 0.0001, 0.001, 0.01, 0.1,, 1.0, 2.0, 4.0, 6.0, 8.0, 10.0\n",
    "    lrq = LogisticRegression(C = m, penalty = 'l2')\n",
    "    lrq.fit(X_train, y_train)\n",
    "    weight1 = lrq.coef_\n",
    "    sum1 = sum(sum(weight1))\n",
    "    print 'The mean accuracy when the regularization strength C is', m,  'is ', lrq.score(X_dev, y_dev), 'and the sum of the squared weight is', sum1\n"
   ]
  },
  {
   "cell_type": "markdown",
   "metadata": {},
   "source": [
    "#### Feature engineering\n",
    "\n",
    "For this dataset, we have 15 different features, including gender, breed, age and so on.  In order to select the best\n",
    "feature to add to the model, we can go either bottom up starting from only 1 feature and add more feature based on\n",
    "the accuracy, or go down by deleting features. \n",
    "\n"
   ]
  },
  {
   "cell_type": "code",
   "execution_count": 44,
   "metadata": {
    "collapsed": false
   },
   "outputs": [
    {
     "name": "stdout",
     "output_type": "stream",
     "text": [
      "At number of features = 1 , the best feature to add is Intact_Spayed/Neutered , and the accuracy is 0.6082597636\n",
      "At number of features = 2 , the best feature to add is ConvertedAge , and the accuracy is 0.6208289690\n",
      "At number of features = 3 , the best feature to add is AnimalType_Cat , and the accuracy is 0.6281610055\n",
      "At number of features = 4 , the best feature to add is MixedBreed_Known Breed Combo , and the accuracy is 0.6313033069\n",
      "At number of features = 5 , the best feature to add is Named_Unnamed , and the accuracy is 0.6345952417\n",
      "At number of features = 6 , the best feature to add is MixedBreed_Nonmixed , and the accuracy is 0.6347448751\n",
      "At number of features = 7 , the best feature to add is AnimalType_Dog , and the accuracy is 0.6347448751\n",
      "At number of features = 8 , the best feature to add is Female_Unknown , and the accuracy is 0.6347448751\n",
      "At number of features = 9 , the best feature to add is Intact_Intact , and the accuracy is 0.6347448751\n",
      "At number of features = 10 , the best feature to add is Intact_Unknown , and the accuracy is 0.6347448751\n",
      "At number of features = 11 , the best feature to add is MixedBreed_Mixed Breed , and the accuracy is 0.6347448751\n",
      "At number of features = 12 , the best feature to add is Named_Named , and the accuracy is 0.6347448751\n",
      "At number of features = 13 , the best feature to add is BreedRank , and the accuracy is 0.6342959749\n",
      "At number of features = 14 , the best feature to add is Female_Female , and the accuracy is 0.6333981745\n",
      "At number of features = 15 , the best feature to add is Female_Male , and the accuracy is 0.6333981745\n"
     ]
    }
   ],
   "source": [
    "#Importing this because multiple deprecation warnings cluttering the output\n",
    "import warnings\n",
    "warnings.filterwarnings('ignore')\n",
    "\n",
    "# Start the bottom up feature selection with greedy algorithm\n",
    "# Compute the accuracy of logistic regression with N features\n",
    "\n",
    "train = X_train\n",
    "dev = X_dev\n",
    "\n",
    "bestVec = [] \n",
    "\n",
    "for j in range(15):\n",
    "    maxacc = 0\n",
    "    maxi = 0\n",
    "    for i in range(15):\n",
    "        if i not in bestVec:\n",
    "            X_train_eng = pd.DataFrame(train.ix[:, bestVec + [i]])\n",
    "            X_dev_eng = pd.DataFrame(dev.ix[:, bestVec + [i]])\n",
    "            m=.5\n",
    "            lrq = LogisticRegression(C = m, penalty = 'l2')\n",
    "            lrq.fit(X_train_eng, y_train)\n",
    "            if lrq.score(X_dev_eng, y_dev) > maxacc:\n",
    "                maxacc = lrq.score(X_dev_eng, y_dev)\n",
    "                maxi = i\n",
    "    bestVec = bestVec + [maxi]\n",
    "    print 'At number of features =', j+1,', the best feature to add is', predictors[maxi],', and the accuracy is %.10f' % maxacc"
   ]
  },
  {
   "cell_type": "markdown",
   "metadata": {},
   "source": [
    "Based on accuracy (highest 0.6347448751) and parsimony, the best model includes six features.\n",
    "\n",
    "The six features include: Intact_Spayed/Neutered, ConvertedAge, AnimalType_Cat, MixedBreed_Known Breed Combo, Named_Named, and MixedBreed_Mixed Breed.  Next we will exam each features to evaluate each impact on the overal outcome.\n",
    "\n",
    "#### Got a different result than the original feature list: Intact_Spayed/Neutered, ConvertedAge, AnimalType_Cat, MixedBreed_Known Breed Combo, Named_Unnamed, and MixedBreed_Nonmixed"
   ]
  },
  {
   "cell_type": "markdown",
   "metadata": {},
   "source": [
    "#### Check Spayed/Neutered "
   ]
  },
  {
   "cell_type": "markdown",
   "metadata": {},
   "source": [
    "Since Spayed/Neutered is the first feature from the logistic regression list, it would be interesting to check if the data with only Spayed/Neutered and the data with only Intact have better accuracy than original dataset. "
   ]
  },
  {
   "cell_type": "code",
   "execution_count": 13,
   "metadata": {
    "collapsed": true
   },
   "outputs": [],
   "source": [
    "# Dataset with only Spayed/Neutered and intact\n",
    "X_spayed = train[train['Intact_Spayed/Neutered'] == 1]\n",
    "X_intact = train[train['Intact_Intact'] == 1]\n",
    "\n",
    "y_spayed = y_train[train['Intact_Spayed/Neutered'] == 1]\n",
    "y_intact = y_train[train['Intact_Intact'] == 1]\n",
    "\n",
    "Xdev_spayed = dev[dev['Intact_Spayed/Neutered'] == 1]\n",
    "Xdev_intact = dev[dev['Intact_Intact'] == 1]\n",
    "\n",
    "ydev_spayed = y_dev[dev['Intact_Spayed/Neutered'] == 1]\n",
    "ydev_intact = y_dev[dev['Intact_Intact'] == 1]\n"
   ]
  },
  {
   "cell_type": "code",
   "execution_count": 14,
   "metadata": {
    "collapsed": false
   },
   "outputs": [
    {
     "name": "stdout",
     "output_type": "stream",
     "text": [
      "The mean accuracy when the regularization strength C for Spayed/Neutered dataset 0.1 is  0.59317641978\n"
     ]
    }
   ],
   "source": [
    "# logistic regression with only Spayed/Neutered \n",
    "for m in [0.1]:     # [0.00001, 0.0001, 0.001, 0.01, 0.1, 1.0, 2.0, 4.0, 6.0, 8.0, 10.0]\n",
    "    lrq = LogisticRegression(C = m, penalty = 'l2')\n",
    "    lrq.fit(X_spayed, y_spayed)\n",
    "    print 'The mean accuracy when the regularization strength C for Spayed/Neutered dataset', m,  'is ', lrq.score(Xdev_spayed, ydev_spayed)"
   ]
  },
  {
   "cell_type": "code",
   "execution_count": 15,
   "metadata": {
    "collapsed": false
   },
   "outputs": [
    {
     "name": "stdout",
     "output_type": "stream",
     "text": [
      "The mean accuracy when the regularization strength C for intact dataset 0.1 is  0.706613906162\n"
     ]
    }
   ],
   "source": [
    "# logistic regression with only intact\n",
    "for m in [0.1]:     # [0.00001, 0.0001, 0.001, 0.01, 0.1, 1.0, 2.0, 4.0, 6.0, 8.0, 10.0]\n",
    "    lrq = LogisticRegression(C = m, penalty = 'l2')\n",
    "    lrq.fit(X_intact, y_intact)\n",
    "    print 'The mean accuracy when the regularization strength C for intact dataset', m,  'is ', lrq.score(Xdev_intact, ydev_intact)"
   ]
  },
  {
   "cell_type": "markdown",
   "metadata": {},
   "source": [
    "Looks like the dataset with only intact animals has a better accuracy than the original dataset. "
   ]
  },
  {
   "cell_type": "markdown",
   "metadata": {},
   "source": [
    "#### Check ConvertedAge"
   ]
  },
  {
   "cell_type": "markdown",
   "metadata": {},
   "source": [
    "Let's examine the impact of age on accuracy. Consider the groupings kitten/puppy from 0-1 year old, adult cat/dog from 1-7 years old, and senior cat/dog from 7 years and older."
   ]
  },
  {
   "cell_type": "code",
   "execution_count": 16,
   "metadata": {
    "collapsed": true
   },
   "outputs": [],
   "source": [
    "# Dataset with youth, adult and senior pets\n",
    "\n",
    "X_youth = train[train['ConvertedAge'] <= 52]\n",
    "X_adult = 52 < train[train['ConvertedAge'] < 364]\n",
    "X_senior = train[train['ConvertedAge'] >= 364]\n",
    "\n",
    "y_youth = y_train[train['ConvertedAge'] <= 52]\n",
    "y_adult = 52 < y_train[train['ConvertedAge'] < 364]\n",
    "y_senior = y_train[train['ConvertedAge'] >= 364]\n",
    "\n",
    "Xdev_youth = dev[dev['ConvertedAge'] <= 52]\n",
    "Xdev_adult = 52 < dev[dev['ConvertedAge'] < 364]\n",
    "Xdev_senior = dev[dev['ConvertedAge'] >= 364]\n",
    "\n",
    "ydev_youth = y_dev[dev['ConvertedAge'] <= 52]\n",
    "ydev_adult = 52 < y_dev[dev['ConvertedAge'] < 364]\n",
    "ydev_senior = y_dev[dev['ConvertedAge'] >= 364]"
   ]
  },
  {
   "cell_type": "code",
   "execution_count": 17,
   "metadata": {
    "collapsed": false
   },
   "outputs": [
    {
     "name": "stdout",
     "output_type": "stream",
     "text": [
      "The mean accuracy when the regularization strength C for kitten/puppy dataset 1e-05 is  0.572796648212\n",
      "The mean accuracy when the regularization strength C for kitten/puppy dataset 0.0001 is  0.594942391142\n",
      "The mean accuracy when the regularization strength C for kitten/puppy dataset 0.001 is  0.628909172527\n",
      "The mean accuracy when the regularization strength C for kitten/puppy dataset 0.01 is  0.63279964088\n",
      "The mean accuracy when the regularization strength C for kitten/puppy dataset 0.1 is  0.633847074667\n",
      "The mean accuracy when the regularization strength C for kitten/puppy dataset 1.0 is  0.633398174473\n",
      "The mean accuracy when the regularization strength C for kitten/puppy dataset 2.0 is  0.633398174473\n",
      "The mean accuracy when the regularization strength C for kitten/puppy dataset 4.0 is  0.633398174473\n",
      "The mean accuracy when the regularization strength C for kitten/puppy dataset 6.0 is  0.633398174473\n",
      "The mean accuracy when the regularization strength C for kitten/puppy dataset 8.0 is  0.633398174473\n",
      "The mean accuracy when the regularization strength C for kitten/puppy dataset 10.0 is  0.633398174473\n"
     ]
    }
   ],
   "source": [
    "# Logistic regression with youth pets\n",
    "\n",
    "for m in [0.00001, 0.0001, 0.001, 0.01, 0.1, 1.0, 2.0, 4.0, 6.0, 8.0, 10.0]:\n",
    "    lrq = LogisticRegression(C = m, penalty = 'l2')\n",
    "    lrq.fit(X_youth, y_youth)\n",
    "    print 'The mean accuracy when the regularization strength C for kitten/puppy dataset', m,  'is ', lrq.score(Xdev_youth, ydev_youth)"
   ]
  },
  {
   "cell_type": "markdown",
   "metadata": {},
   "source": [
    "#### Decision trees"
   ]
  },
  {
   "cell_type": "code",
   "execution_count": 56,
   "metadata": {
    "collapsed": false
   },
   "outputs": [
    {
     "name": "stdout",
     "output_type": "stream",
     "text": [
      "[[ 0.53275862  0.00344828  0.03448276  0.28275862  0.14655172]\n",
      " [ 0.14285714  0.          0.35714286  0.14285714  0.35714286]\n",
      " [ 0.68627451  0.          0.          0.1372549   0.17647059]\n",
      " ..., \n",
      " [ 0.92682927  0.          0.          0.01626016  0.05691057]\n",
      " [ 0.86448598  0.          0.          0.00934579  0.12616822]\n",
      " [ 0.          0.          0.          0.          1.        ]]\n",
      "Mean squared error = 0.0877633407083\n",
      "The accuracy is 0.352168793847\n"
     ]
    }
   ],
   "source": [
    "dt = DecisionTreeRegressor()\n",
    "dt.fit(X_train[predictors], y_train_hot)\n",
    "\n",
    "pred = dt.predict(X_train[predictors])\n",
    "print pred\n",
    "mse = np.mean( (pred - y_train_hot) ** 2)\n",
    "print 'Mean squared error = {}'.format(mse)\n",
    "print 'The accuracy is',dt.score(X_train[predictors], y_train_hot)"
   ]
  },
  {
   "cell_type": "markdown",
   "metadata": {},
   "source": [
    "Looks like we only get 0.35 on accuracy with decision trees on the training data"
   ]
  },
  {
   "cell_type": "markdown",
   "metadata": {},
   "source": [
    "#### Random forest"
   ]
  },
  {
   "cell_type": "code",
   "execution_count": 58,
   "metadata": {
    "collapsed": false
   },
   "outputs": [
    {
     "name": "stdout",
     "output_type": "stream",
     "text": [
      "0.29092608207\n"
     ]
    }
   ],
   "source": [
    "from sklearn.model_selection import cross_val_score\n",
    "\n",
    "rf = RandomForestRegressor(n_estimators=50, oob_score=True)\n",
    "scores = cross_val_score(rf, X_train[predictors], y_train_hot, cv=10)\n",
    "print scores.mean()"
   ]
  },
  {
   "cell_type": "markdown",
   "metadata": {},
   "source": [
    "### Neural Network "
   ]
  },
  {
   "cell_type": "markdown",
   "metadata": {},
   "source": [
    "We will use Keras for neural network training. "
   ]
  },
  {
   "cell_type": "code",
   "execution_count": 25,
   "metadata": {
    "collapsed": false
   },
   "outputs": [
    {
     "name": "stdout",
     "output_type": "stream",
     "text": [
      "(20046, 15) (20046, 5)\n"
     ]
    }
   ],
   "source": [
    "# hot encoding to transform training and development data\n",
    "lb_style = LabelBinarizer()\n",
    "y_train_hot = lb_style.fit_transform(y_train)\n",
    "y_train_hot\n",
    "y_dev_hot = lb_style.fit_transform(y_dev)"
   ]
  },
  {
   "cell_type": "code",
   "execution_count": 42,
   "metadata": {
    "collapsed": false
   },
   "outputs": [
    {
     "name": "stdout",
     "output_type": "stream",
     "text": [
      "Epoch 1/10\n",
      "20046/20046 [==============================] - 2s - loss: 0.3670 - acc: 0.8348     \n",
      "Epoch 2/10\n",
      "20046/20046 [==============================] - 2s - loss: 0.3253 - acc: 0.8570     \n",
      "Epoch 3/10\n",
      "20046/20046 [==============================] - 1s - loss: 0.3177 - acc: 0.8592     \n",
      "Epoch 4/10\n",
      "20046/20046 [==============================] - 2s - loss: 0.3146 - acc: 0.8597     \n",
      "Epoch 5/10\n",
      "20046/20046 [==============================] - 1s - loss: 0.3136 - acc: 0.8593     \n",
      "Epoch 6/10\n",
      "20046/20046 [==============================] - 1s - loss: 0.3125 - acc: 0.8608     \n",
      "Epoch 7/10\n",
      "20046/20046 [==============================] - 2s - loss: 0.3117 - acc: 0.8595     \n",
      "Epoch 8/10\n",
      "20046/20046 [==============================] - 2s - loss: 0.3106 - acc: 0.8607     \n",
      "Epoch 9/10\n",
      "20046/20046 [==============================] - 1s - loss: 0.3100 - acc: 0.8607     \n",
      "Epoch 10/10\n",
      "20046/20046 [==============================] - 2s - loss: 0.3092 - acc: 0.8610     \n"
     ]
    },
    {
     "data": {
      "text/plain": [
       "<keras.callbacks.History at 0x121145fd0>"
      ]
     },
     "execution_count": 42,
     "metadata": {},
     "output_type": "execute_result"
    }
   ],
   "source": [
    "# using keras to predict the accuracy\n",
    "from keras.layers import Dropout\n",
    "model = Sequential([\n",
    "    Dense(32, input_shape=(15,)),\n",
    "    Dropout(0.1),   # Added a dropout layer of 10% to regulate neural network\n",
    "    Activation('sigmoid'),\n",
    "    Dense(5),\n",
    "    Activation('softmax'),\n",
    "])\n",
    "\n",
    "model.compile(optimizer='adam',\n",
    "              loss='binary_crossentropy',\n",
    "              metrics=['accuracy'])\n",
    "model.fit(np.array(X_train), y_train_hot, epochs=10, batch_size=32)"
   ]
  },
  {
   "cell_type": "code",
   "execution_count": 43,
   "metadata": {
    "collapsed": false
   },
   "outputs": [
    {
     "name": "stdout",
     "output_type": "stream",
     "text": [
      "6640/6683 [============================>.] - ETA: 0s\n",
      "Accurancy on test data 0.862756241221\n"
     ]
    }
   ],
   "source": [
    "score = model.evaluate(np.array(X_dev), y_dev_hot, batch_size=16)\n",
    "\n",
    "print '\\nAccurancy on test data', score[1]"
   ]
  },
  {
   "cell_type": "markdown",
   "metadata": {
    "collapsed": true
   },
   "source": [
    "The accuracy shows that neural network gives a higher accuracy than logistic regression"
   ]
  },
  {
   "cell_type": "markdown",
   "metadata": {},
   "source": [
    "#### Trying new dataset with limited features\n",
    "\n",
    "#### Eliminating unknown columns \n",
    "Create a new dataset by eliminating unknown gender and unknown intactness to see if the new dataset can give a better accuracy "
   ]
  },
  {
   "cell_type": "code",
   "execution_count": 66,
   "metadata": {
    "collapsed": false
   },
   "outputs": [
    {
     "name": "stdout",
     "output_type": "stream",
     "text": [
      "Epoch 1/10\n",
      "20046/20046 [==============================] - 2s - loss: 0.3587 - acc: 0.8389     \n",
      "Epoch 2/10\n",
      "20046/20046 [==============================] - 2s - loss: 0.3235 - acc: 0.8571     \n",
      "Epoch 3/10\n",
      "20046/20046 [==============================] - 1s - loss: 0.3183 - acc: 0.8596     \n",
      "Epoch 4/10\n",
      "20046/20046 [==============================] - 1s - loss: 0.3153 - acc: 0.8600     \n",
      "Epoch 5/10\n",
      "20046/20046 [==============================] - 1s - loss: 0.3139 - acc: 0.8607     \n",
      "Epoch 6/10\n",
      "20046/20046 [==============================] - 2s - loss: 0.3128 - acc: 0.8605     \n",
      "Epoch 7/10\n",
      "20046/20046 [==============================] - 1s - loss: 0.3116 - acc: 0.8613     \n",
      "Epoch 8/10\n",
      "20046/20046 [==============================] - 2s - loss: 0.3110 - acc: 0.8609     \n",
      "Epoch 9/10\n",
      "20046/20046 [==============================] - 1s - loss: 0.3101 - acc: 0.8615     \n",
      "Epoch 10/10\n",
      "20046/20046 [==============================] - 1s - loss: 0.3096 - acc: 0.8619     \n"
     ]
    },
    {
     "data": {
      "text/plain": [
       "<keras.callbacks.History at 0x121a87e50>"
      ]
     },
     "execution_count": 66,
     "metadata": {},
     "output_type": "execute_result"
    }
   ],
   "source": [
    "X_train_feature = X_train\n",
    "X_train_feature = X_train_feature.drop('Intact_Unknown', 1)\n",
    "X_train_feature = X_train_feature.drop('Female_Unknown', 1)\n",
    "\n",
    "\n",
    "X_dev_feature = X_dev\n",
    "X_dev_feature = X_dev_feature.drop('Intact_Unknown', 1)\n",
    "X_dev_feature = X_dev_feature.drop('Female_Unknown', 1)\n",
    "\n",
    "model2 = Sequential([\n",
    "    Dense(32, input_shape=(13,)),\n",
    "    Dropout(0.1),   # Added a dropout layer of 10% to regulate neural network\n",
    "    Activation('sigmoid'),\n",
    "    Dense(5),\n",
    "    Activation('softmax'),\n",
    "])\n",
    "\n",
    "model2.compile(optimizer='adam',\n",
    "              loss='binary_crossentropy',\n",
    "              metrics=['accuracy'])\n",
    "model2.fit(np.array(X_train_feature), y_train_hot, epochs=10, batch_size=32)"
   ]
  },
  {
   "cell_type": "code",
   "execution_count": 68,
   "metadata": {
    "collapsed": false
   },
   "outputs": [
    {
     "name": "stdout",
     "output_type": "stream",
     "text": [
      "6160/6683 [==========================>...] - ETA: 0s\n",
      "Accurancy on test data 0.863474479473\n"
     ]
    }
   ],
   "source": [
    "score2 = model2.evaluate(np.array(X_dev_feature), y_dev_hot, batch_size=16)\n",
    "\n",
    "print '\\nAccurancy on test data', score2[1]"
   ]
  },
  {
   "cell_type": "markdown",
   "metadata": {},
   "source": [
    "We can see that by eliminating the unknown gender and intactness columns, the new model's accuracy is slightly higher than the original dataset."
   ]
  },
  {
   "cell_type": "markdown",
   "metadata": {},
   "source": [
    "#### Elminating dog column"
   ]
  },
  {
   "cell_type": "code",
   "execution_count": 73,
   "metadata": {
    "collapsed": false
   },
   "outputs": [
    {
     "name": "stdout",
     "output_type": "stream",
     "text": [
      "Epoch 1/10\n",
      "20046/20046 [==============================] - 2s - loss: 0.3944 - acc: 0.8289     \n",
      "Epoch 2/10\n",
      "20046/20046 [==============================] - 1s - loss: 0.3279 - acc: 0.8554     \n",
      "Epoch 3/10\n",
      "20046/20046 [==============================] - 2s - loss: 0.3210 - acc: 0.8582     \n",
      "Epoch 4/10\n",
      "20046/20046 [==============================] - 2s - loss: 0.3182 - acc: 0.8588     \n",
      "Epoch 5/10\n",
      "20046/20046 [==============================] - 2s - loss: 0.3165 - acc: 0.8590     \n",
      "Epoch 6/10\n",
      "20046/20046 [==============================] - 2s - loss: 0.3148 - acc: 0.8600     \n",
      "Epoch 7/10\n",
      "20046/20046 [==============================] - 2s - loss: 0.3142 - acc: 0.8594     \n",
      "Epoch 8/10\n",
      "20046/20046 [==============================] - 2s - loss: 0.3125 - acc: 0.8602     \n",
      "Epoch 9/10\n",
      "20046/20046 [==============================] - 2s - loss: 0.3119 - acc: 0.8606     \n",
      "Epoch 10/10\n",
      "20046/20046 [==============================] - 2s - loss: 0.3113 - acc: 0.8600     \n"
     ]
    },
    {
     "data": {
      "text/plain": [
       "<keras.callbacks.History at 0x12254de50>"
      ]
     },
     "execution_count": 73,
     "metadata": {},
     "output_type": "execute_result"
    }
   ],
   "source": [
    "X_train_dog = X_train_feature\n",
    "X_train_dog = X_train_feature.drop('AnimalType_Dog', 1)\n",
    "\n",
    "\n",
    "\n",
    "X_dev_dog = X_dev_feature\n",
    "X_dev_dog = X_dev_feature.drop('AnimalType_Dog', 1)\n",
    "\n",
    "model3 = Sequential([\n",
    "    Dense(32, input_shape=(12,)),\n",
    "    Dropout(0.1),   # Added a dropout layer of 10% to regulate neural network\n",
    "    Activation('sigmoid'),\n",
    "    Dense(5),\n",
    "    Activation('softmax'),\n",
    "])\n",
    "\n",
    "model3.compile(optimizer='adam',\n",
    "              loss='binary_crossentropy',\n",
    "              metrics=['accuracy'])\n",
    "model3.fit(np.array(X_train_dog), y_train_hot, epochs=10, batch_size=32)"
   ]
  },
  {
   "cell_type": "code",
   "execution_count": 74,
   "metadata": {
    "collapsed": false
   },
   "outputs": [
    {
     "name": "stdout",
     "output_type": "stream",
     "text": [
      "5792/6683 [=========================>....] - ETA: 0s\n",
      "Accurancy on test data 0.863145287453\n"
     ]
    }
   ],
   "source": [
    "score3 = model3.evaluate(np.array(X_dev_dog), y_dev_hot, batch_size=16)\n",
    "\n",
    "print '\\nAccurancy on test data', score3[1]"
   ]
  },
  {
   "cell_type": "markdown",
   "metadata": {
    "collapsed": true
   },
   "source": [
    "### Logistic Regression Pipeline"
   ]
  },
  {
   "cell_type": "code",
   "execution_count": 71,
   "metadata": {
    "collapsed": true
   },
   "outputs": [],
   "source": [
    "#Reset predictors\n",
    "continuous = {'dog':['ConvertedAge', 'BreedRank'], 'cat':['ConvertedAge']}\n",
    "discrete = {'dog':[\n",
    "    'AnimalType',\n",
    "    'Female',\n",
    "    'Intact',\n",
    "    'MixedBreed',\n",
    "    'Named',\n",
    "    'TopBreed',\n",
    "    'PitBull'\n",
    "], 'cat': [\n",
    "    'AnimalType',\n",
    "    'Female',\n",
    "    'Intact',\n",
    "    'MixedBreed',\n",
    "    'Named',\n",
    "    'BlackCat'\n",
    "]}\n",
    "predictors = {'dog': continuous['dog'] + discrete['dog'], 'cat':continuous['cat']+discrete['cat']}\n",
    "target = 'OutcomeType'\n",
    "\n",
    "# Train/test split\n",
    "data_dog = data[data['AnimalType'] == 'Dog']\n",
    "data_cat = data[data['AnimalType'] == 'Cat']\n",
    "X_dog = data_dog[predictors['dog']]\n",
    "X_cat = data_cat[predictors['cat']]\n",
    "y_dog = data_dog[[target]]\n",
    "y_cat = data_cat[[target]]\n",
    "X_dog_train, X_dog_dev, y_dog_train, y_dog_dev = train_test_split(X_dog, y_dog, random_state=2)\n",
    "X_cat_train, X_cat_dev, y_cat_train, y_cat_dev = train_test_split(X_cat, y_cat, random_state=2)\n"
   ]
  },
  {
   "cell_type": "code",
   "execution_count": 72,
   "metadata": {
    "collapsed": true
   },
   "outputs": [],
   "source": [
    "class MyVectorizer(BaseEstimator, TransformerMixin):\n",
    "\n",
    "    def __init__(self, cols, hashing=None):\n",
    "        \"\"\"\n",
    "        args:\n",
    "            cols: a list of column names of the categorical variables\n",
    "            hashing: \n",
    "                If None, then vectorization is a simple one-hot-encoding.\n",
    "                If an integer, then hashing is the number of features in the output.\n",
    "        \"\"\"\n",
    "        self.cols = cols\n",
    "        self.hashing = hashing\n",
    "        \n",
    "    def fit(self, X, y=None):\n",
    "\n",
    "        data = X[self.cols]\n",
    "        \n",
    "        # Choose a vectorizer\n",
    "        if self.hashing is None:\n",
    "            self.myvec = DictVectorizer(sparse=False)\n",
    "        else:\n",
    "            self.myvec = FeatureHasher(n_features = self.hashing)\n",
    "    \n",
    "        self.myvec.fit(X[self.cols].to_dict(orient='records'))\n",
    "        return self\n",
    "            \n",
    "    def transform(self, X):\n",
    "            \n",
    "        # Vectorize Input\n",
    "        if self.hashing is None:\n",
    "            return pd.DataFrame(\n",
    "                self.myvec.transform(X[self.cols].to_dict(orient='records')),\n",
    "                columns = self.myvec.feature_names_\n",
    "            )\n",
    "        else:\n",
    "            return pd.DataFrame(\n",
    "                self.myvec.transform(X[self.cols].to_dict(orient='records')).toarray()\n",
    "            )"
   ]
  },
  {
   "cell_type": "code",
   "execution_count": 73,
   "metadata": {
    "collapsed": true
   },
   "outputs": [],
   "source": [
    "class MyScaler():\n",
    "    \n",
    "    def __init__(self, cols):\n",
    "        self.cols = cols\n",
    "    \n",
    "    def fit(self, X, y=None):\n",
    "        self.ss = StandardScaler()\n",
    "        self.ss.fit(X[self.cols])\n",
    "        return self\n",
    "    \n",
    "    def transform(self, X):\n",
    "        return self.ss.transform(X[self.cols])"
   ]
  },
  {
   "cell_type": "code",
   "execution_count": 74,
   "metadata": {
    "collapsed": true
   },
   "outputs": [],
   "source": [
    "discrete_pipe_dog = Pipeline(steps=[('Vectorizer', MyVectorizer(cols=discrete['dog'], hashing=None))])\n",
    "discrete_pipe_cat = Pipeline(steps=[('Vectorizer', MyVectorizer(cols=discrete['cat'], hashing=None))])\n",
    "\n",
    "continuous_pipe_cat = Pipeline(steps=[('Scale', MyScaler(continuous['cat']))])\n",
    "continuous_pipe_dog = Pipeline(steps=[('Scale', MyScaler(continuous['dog']))])\n",
    "\n",
    "union_dog = FeatureUnion([('Discrete', discrete_pipe_dog), ('Continuous', continuous_pipe_dog)])\n",
    "union_cat = FeatureUnion([('Discrete', discrete_pipe_cat), ('Continuous', continuous_pipe_cat)])\n",
    "transformed_train = union_dog.fit_transform(X_dog_train)\n",
    "transformed_dev = union_dog.transform(X_dog_dev)"
   ]
  },
  {
   "cell_type": "code",
   "execution_count": 75,
   "metadata": {
    "collapsed": true
   },
   "outputs": [],
   "source": [
    "pipeline_dog = Pipeline([('Preprocess', FeatureUnion([('Discrete', discrete_pipe_dog), ('Continuous', continuous_pipe_dog)])),\n",
    "                      ('Predict', LogisticRegression(multi_class='multinomial', solver='newton-cg'))])\n",
    "pipeline_cat = Pipeline([('Preprocess', FeatureUnion([('Discrete', discrete_pipe_cat), ('Continuous', continuous_pipe_cat)])),\n",
    "                      ('Predict', LogisticRegression(multi_class='multinomial', solver='newton-cg'))])\n",
    "\n",
    "test_dog_lr = pipeline_dog.fit(X_dog_train, y_dog_train)\n",
    "test_cat_lr = pipeline_cat.fit(X_cat_train, y_cat_train)"
   ]
  },
  {
   "cell_type": "code",
   "execution_count": 90,
   "metadata": {
    "collapsed": false,
    "scrolled": true
   },
   "outputs": [
    {
     "name": "stdout",
     "output_type": "stream",
     "text": [
      "Dogs: Multinomial Logistic Regression Train Accuracy ::  0.562841997264\n",
      "Dogs: Multinomial Logistic Regression Dev Accuracy ::  0.578096947935\n",
      "\n",
      "Cats: Multinomial Logistic Regression Train Accuracy ::  0.73748502994\n",
      "Cats: Multinomial Logistic Regression Dev Accuracy ::  0.739583333333\n"
     ]
    }
   ],
   "source": [
    "print \"Dogs: Multinomial Logistic Regression Train Accuracy :: \", metrics.accuracy_score(y_dog_train, test_dog_lr.predict(X_dog_train))\n",
    "print \"Dogs: Multinomial Logistic Regression Dev Accuracy :: \", metrics.accuracy_score(y_dog_dev, test_dog_lr.predict(X_dog_dev))\n",
    "print\n",
    "print \"Cats: Multinomial Logistic Regression Train Accuracy :: \", metrics.accuracy_score(y_cat_train, test_cat_lr.predict(X_cat_train))\n",
    "print \"Cats: Multinomial Logistic Regression Dev Accuracy :: \", metrics.accuracy_score(y_cat_dev, test_cat_lr.predict(X_cat_dev))"
   ]
  },
  {
   "cell_type": "code",
   "execution_count": 81,
   "metadata": {
    "collapsed": false,
    "scrolled": true
   },
   "outputs": [
    {
     "name": "stdout",
     "output_type": "stream",
     "text": [
      "Normalized confusion matrix\n",
      "[[  3.76e-01   9.21e-04   5.23e-01   1.00e-01   0.00e+00]\n",
      " [  3.26e-01   6.95e-02   2.67e-01   3.37e-01   0.00e+00]\n",
      " [  1.03e-01   6.14e-04   8.80e-01   1.72e-02   0.00e+00]\n",
      " [  1.24e-01   8.10e-03   4.63e-01   4.05e-01   0.00e+00]\n",
      " [  1.11e-01   0.00e+00   2.22e-01   6.67e-01   0.00e+00]]\n",
      "Normalized confusion matrix\n",
      "[[ 0.07  0.04  0.82  0.07  0.  ]\n",
      " [ 0.03  0.14  0.08  0.75  0.  ]\n",
      " [ 0.01  0.    0.9   0.08  0.  ]\n",
      " [ 0.01  0.    0.21  0.78  0.  ]\n",
      " [ 0.    0.    0.12  0.88  0.  ]]\n"
     ]
    },
    {
     "data": {
      "image/png": "[encoded data removed]",
      "text/plain": [
       "<matplotlib.figure.Figure at 0x17d99358>"
      ]
     },
     "metadata": {},
     "output_type": "display_data"
    },
    {
     "data": {
      "image/png": "[encoded data removed]",
      "text/plain": [
       "<matplotlib.figure.Figure at 0x1aededa0>"
      ]
     },
     "metadata": {},
     "output_type": "display_data"
    }
   ],
   "source": [
    "def plot_confusion_matrix(cm, classes, normalize = False, title = 'Confusion Matrix', cmap = plt.cm.Blues):\n",
    "    if normalize:\n",
    "        cm = cm.astype('float') / cm.sum(axis=1)[:, np.newaxis]\n",
    "        print(\"Normalized confusion matrix\")\n",
    "    else:\n",
    "        print('Confusion matrix, without normalization')\n",
    "\n",
    "    print(cm)\n",
    "    plt.imshow(cm, interpolation='nearest', cmap=cmap)\n",
    "    plt.title(title)\n",
    "    plt.colorbar()\n",
    "    tick_marks = np.arange(len(classes))\n",
    "    plt.xticks(tick_marks, classes, rotation=45)\n",
    "    plt.yticks(tick_marks, classes)\n",
    "\n",
    "    fmt = '.2f' if normalize else 'd'\n",
    "    thresh = cm.max() / 2.\n",
    "    for i, j in itertools.product(range(cm.shape[0]), range(cm.shape[1])):\n",
    "        plt.text(j, i, format(cm[i, j], fmt),\n",
    "                 horizontalalignment=\"center\",\n",
    "                 color=\"white\" if cm[i, j] > thresh else \"black\")\n",
    "\n",
    "    plt.tight_layout()\n",
    "    plt.ylabel('True label')\n",
    "    plt.xlabel('Predicted label')\n",
    "\n",
    "class_names = ['Return_to_owner', 'Euthanasia', 'Adoption', 'Transfer', 'Died']\n",
    "cnf_dog_matrix = confusion_matrix(y_dog_dev, test_dog_lr.predict(X_dog_dev), labels = class_names)\n",
    "np.set_printoptions(precision=2)\n",
    "\n",
    "plt.figure()\n",
    "plot_confusion_matrix(cnf_dog_matrix, classes=class_names, normalize = False,\n",
    "                      title='Confusion matrix for Dogs, with normalization')\n",
    "\n",
    "cnf_cat_matrix = confusion_matrix(y_cat_dev, test_cat_lr.predict(X_cat_dev), labels = class_names)\n",
    "np.set_printoptions(precision=2)\n",
    "\n",
    "plt.figure()\n",
    "plot_confusion_matrix(cnf_cat_matrix, classes=class_names, normalize = False,\n",
    "                      title='Confusion matrix for Cats, with normalization')\n",
    "plt.show()"
   ]
  },
  {
   "cell_type": "code",
   "execution_count": 88,
   "metadata": {
    "collapsed": false
   },
   "outputs": [
    {
     "name": "stdout",
     "output_type": "stream",
     "text": [
      "Classification Report: Dogs\n",
      "                 precision    recall  f1-score   support\n",
      "\n",
      "Return_to_owner       0.57      0.88      0.69      1629\n",
      "     Euthanasia       0.00      0.00      0.00         9\n",
      "       Adoption       0.57      0.07      0.12       187\n",
      "       Transfer       0.54      0.38      0.44      1086\n",
      "           Died       0.66      0.40      0.50       988\n",
      "\n",
      "    avg / total       0.58      0.58      0.55      3899\n",
      "\n",
      "\n",
      "\n",
      "Classification Report: Cats\n",
      "                 precision    recall  f1-score   support\n",
      "\n",
      "Return_to_owner       0.69      0.90      0.78      1045\n",
      "     Euthanasia       0.00      0.00      0.00        34\n",
      "       Adoption       0.71      0.14      0.23       183\n",
      "       Transfer       0.24      0.07      0.10       136\n",
      "           Died       0.80      0.78      0.79      1386\n",
      "\n",
      "    avg / total       0.72      0.74      0.71      2784\n",
      "\n",
      "\n",
      "\n"
     ]
    }
   ],
   "source": [
    "print(\"Classification Report: Dogs\")\n",
    "print(classification_report(y_dog_dev, test_dog_lr.predict(X_dog_dev), target_names=class_names))\n",
    "print '\\n'\n",
    "\n",
    "print(\"Classification Report: Cats\")\n",
    "print(classification_report(y_cat_dev, test_cat_lr.predict(X_cat_dev), target_names=class_names))\n",
    "print '\\n'"
   ]
  }
 ],
 "metadata": {
  "anaconda-cloud": {},
  "kernelspec": {
   "display_name": "Python [default]",
   "language": "python",
   "name": "python2"
  },
  "language_info": {
   "codemirror_mode": {
    "name": "ipython",
    "version": 2
   },
   "file_extension": ".py",
   "mimetype": "text/x-python",
   "name": "python",
   "nbconvert_exporter": "python",
   "pygments_lexer": "ipython2",
   "version": "2.7.12"
  }
 },
 "nbformat": 4,
 "nbformat_minor": 1
}
