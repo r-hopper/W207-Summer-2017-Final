{
 "cells": [
  {
   "cell_type": "markdown",
   "metadata": {},
   "source": [
    "## Shelter Animal Outcomes\n",
    "#### MIDS W207 Final Project\n",
    "#### Clay Miller, Roseanna Hopper, Yubo Zhang"
   ]
  },
  {
   "cell_type": "markdown",
   "metadata": {},
   "source": [
    "### Introduction\n",
    "\n",
    "Approximately 6.5 to 7.6 million companion animals entered the animal shelters across the US each year.  Each year, approximately 1.5 million shelter animals are euthanized (670,000 dogs and 860,000 cats).  The number of dogs and cats euthanized in U.S. shelters annually has declined from approximately 2.6 million in 2011.  This decline can be partially explained by an increase in the percentage of animals adopted and an increase in the number of stray animals successfully returned to their owners.\n",
    "\n",
    "For this study, we are using a dataset of intake information including breed, color, sex, and age from the [Austin Animal Center](https://www.kaggle.com/c/shelter-animal-outcomes), to develop a model that can be used for shelters to predict the outcome for each animal.  We are hoping that by using this model, the shelter can provide a little bit of extra help for animals that have a low adoption rate. In addition, we are hoping this dataset can help us to provide some key findings (for example, if age and gender would impact the adoption rate for dogs, if neutered or spayed cats are more likely to be adopted), understand which factors impact the chance of adoption, and identify differences between dog and cat adoption trends.  "
   ]
  },
  {
   "cell_type": "code",
   "execution_count": 1,
   "metadata": {
    "collapsed": false,
    "scrolled": true
   },
   "outputs": [
    {
     "ename": "ImportError",
     "evalue": "No module named keras.models",
     "output_type": "error",
     "traceback": [
      "\u001b[0;31m---------------------------------------------------------------------------\u001b[0m",
      "\u001b[0;31mImportError\u001b[0m                               Traceback (most recent call last)",
      "\u001b[0;32m<ipython-input-1-c8d4bb4a7e9f>\u001b[0m in \u001b[0;36m<module>\u001b[0;34m()\u001b[0m\n\u001b[1;32m     19\u001b[0m \u001b[1;32mfrom\u001b[0m \u001b[0msklearn\u001b[0m\u001b[1;33m.\u001b[0m\u001b[0mbase\u001b[0m \u001b[1;32mimport\u001b[0m \u001b[0mBaseEstimator\u001b[0m\u001b[1;33m,\u001b[0m \u001b[0mTransformerMixin\u001b[0m\u001b[1;33m\u001b[0m\u001b[0m\n\u001b[1;32m     20\u001b[0m \u001b[1;32mfrom\u001b[0m \u001b[0mbokeh\u001b[0m\u001b[1;33m.\u001b[0m\u001b[0mcharts\u001b[0m \u001b[1;32mimport\u001b[0m \u001b[0mBar\u001b[0m\u001b[1;33m,\u001b[0m \u001b[0moutput_file\u001b[0m\u001b[1;33m,\u001b[0m \u001b[0mshow\u001b[0m\u001b[1;33m,\u001b[0m \u001b[0moutput_notebook\u001b[0m\u001b[1;33m\u001b[0m\u001b[0m\n\u001b[0;32m---> 21\u001b[0;31m \u001b[1;32mfrom\u001b[0m \u001b[0mkeras\u001b[0m\u001b[1;33m.\u001b[0m\u001b[0mmodels\u001b[0m \u001b[1;32mimport\u001b[0m \u001b[0mSequential\u001b[0m\u001b[1;33m\u001b[0m\u001b[0m\n\u001b[0m\u001b[1;32m     22\u001b[0m \u001b[1;32mfrom\u001b[0m \u001b[0mkeras\u001b[0m\u001b[1;33m.\u001b[0m\u001b[0mlayers\u001b[0m \u001b[1;32mimport\u001b[0m \u001b[0mDense\u001b[0m\u001b[1;33m,\u001b[0m \u001b[0mActivation\u001b[0m\u001b[1;33m\u001b[0m\u001b[0m\n\u001b[1;32m     23\u001b[0m \u001b[1;32mfrom\u001b[0m \u001b[0msklearn\u001b[0m\u001b[1;33m.\u001b[0m\u001b[0mpreprocessing\u001b[0m \u001b[1;32mimport\u001b[0m \u001b[0mLabelBinarizer\u001b[0m\u001b[1;33m\u001b[0m\u001b[0m\n",
      "\u001b[0;31mImportError\u001b[0m: No module named keras.models"
     ]
    }
   ],
   "source": [
    "import pandas as pd\n",
    "import numpy as np\n",
    "import matplotlib.pyplot as plt\n",
    "import re\n",
    "#import tensorflow \n",
    "#import keras\n",
    "import itertools\n",
    "\n",
    "from sklearn import metrics\n",
    "from sklearn.preprocessing import StandardScaler\n",
    "from sklearn.feature_extraction import FeatureHasher, DictVectorizer\n",
    "from sklearn.pipeline import Pipeline\n",
    "from sklearn.pipeline import FeatureUnion\n",
    "from sklearn.grid_search import GridSearchCV\n",
    "from sklearn.metrics import confusion_matrix\n",
    "from sklearn.metrics import classification_report\n",
    "from sklearn.cross_validation import train_test_split\n",
    "from sklearn.linear_model import LogisticRegression\n",
    "from sklearn.base import BaseEstimator, TransformerMixin\n",
    "from bokeh.charts import Bar, output_file, show, output_notebook\n",
    "from keras.models import Sequential\n",
    "from keras.layers import Dense, Activation\n",
    "from sklearn.preprocessing import LabelBinarizer\n",
    "from sklearn.ensemble import RandomForestRegressor\n",
    "from sklearn.tree import DecisionTreeRegressor\n",
    "from IPython.core.display import Image, display\n",
    "from sklearn.externals.six import StringIO\n",
    "from IPython.display import Image  \n",
    "from sklearn import tree\n",
    "\n",
    "output_notebook()\n",
    "\n",
    "\n",
    "%matplotlib inline"
   ]
  },
  {
   "cell_type": "markdown",
   "metadata": {},
   "source": [
    "### Raw Data\n",
    "\n",
    "Each case in our raw training data is an individual animal, and the features include its characteristics (including name, animal type, age, gender, spay/neuter status, breed, coloring, and final outcome). Apart from age, all of the fields are categorical variables, so we’ll be creating binary variables for the majority of the fields (and their intersections). There are few missing values, and some cases where a field is marked as “Unknown” (appears in Name, Breed, and Gender). Overall, we are trying to predict the animal’s “final outcome”, of which there are five possibilities.\n"
   ]
  },
  {
   "cell_type": "code",
   "execution_count": 2,
   "metadata": {
    "collapsed": true
   },
   "outputs": [],
   "source": [
    "# Load the data\n",
    "data = pd.read_csv('../data/train.csv')\n",
    "breeds = pd.read_csv('../data/breeds.csv')\n",
    "breeds['Breed'] = breeds['Breed'].str.strip()\n",
    "top_breed_list = []\n",
    "for b in breeds['Breed']:\n",
    "    top_breed_list.append(b.strip())\n",
    "data['OutcomeSubtype'] = data['OutcomeSubtype'].fillna('')\n",
    "data['Female'] = 'Female' in data['SexuponOutcome']\n",
    "data['AgeuponOutcome'].fillna('', inplace = True)\n",
    "\n",
    "def ageConvert(age):\n",
    "    regexyear = '(\\d+) year'\n",
    "    regexmnth = '(\\d+) month'\n",
    "    regexwk = '(\\d+) week'\n",
    "    regexday = '(\\d+) day'\n",
    "    if re.match(regexyear, age):\n",
    "        const = int(re.match(regexyear, age).groups()[0])\n",
    "        return const*52\n",
    "    elif re.match(regexmnth, age):\n",
    "        const = int(re.match(regexmnth, age).groups()[0])\n",
    "        return const*4.5 # a month is roughly 4.5 weeks\n",
    "    elif re.match(regexwk, age):\n",
    "        return int(re.match(regexwk, age).groups()[0])\n",
    "    elif re.match(regexday, age):\n",
    "        const = int(re.match(regexday, age).groups()[0])\n",
    "        return const/7 #7 days in a week\n",
    "    else:\n",
    "        return None\n",
    "    \n",
    "data['ConvertedAge']=data['AgeuponOutcome'].apply(ageConvert)\n",
    "\n",
    "\n",
    "def female(i):\n",
    "    i = str(i)\n",
    "    if i.find('Female') >= 0: return 'Female'\n",
    "    if i.find('Unknown') >= 0: return 'Unknown'\n",
    "    return 'Male'\n",
    "data['Female'] = data.SexuponOutcome.apply(female)\n",
    "\n",
    "def intact(i):\n",
    "    i = str(i)\n",
    "    if i.find('Intact') >= 0: return 'Intact'\n",
    "    if i.find('Unknown') >= 0: return 'Unknown'\n",
    "    return 'Spayed/Neutered'\n",
    "data['Intact'] = data.SexuponOutcome.apply(intact)\n",
    "\n",
    "def mixed_breed(i):\n",
    "    i = str(i)\n",
    "    if i.find('Mix') >= 0: return 'Mixed Breed'\n",
    "    if i.find('/') >= 0: return 'Known Breed Combo'\n",
    "    return 'Nonmixed'\n",
    "data['MixedBreed'] = data.Breed.apply(mixed_breed)\n",
    "\n",
    "def top_breed(i):\n",
    "    i = str(i)\n",
    "    if any(word in i for word in top_breed_list):\n",
    "        return int(1)\n",
    "    else:\n",
    "        return int(0)\n",
    "data['TopBreed'] = data.Breed.apply(top_breed)\n",
    "\n",
    "def breed_rank(i):\n",
    "    i = str(i)\n",
    "    ranks = []\n",
    "    for word in top_breed_list:\n",
    "        if word in i:\n",
    "            ranks.append(int(breeds.loc[breeds['Breed'] == word]['2007']))\n",
    "    if len(ranks) > 0:\n",
    "        return np.mean(ranks)\n",
    "    else:\n",
    "        return 51.0\n",
    "data['BreedRank'] = data.Breed.apply(breed_rank)\n",
    "\n",
    "def pit_bull(i):\n",
    "    i = str(i)\n",
    "    if i.find(\"Pit Bull\") >=0: return int(1)\n",
    "    else: return int(0)\n",
    "data['PitBull'] = data.Breed.apply(pit_bull)\n",
    "\n",
    "def black_cat(i):\n",
    "    i = str(i)\n",
    "    if i == \"Black\": return int(1)\n",
    "    else: return int(0)\n",
    "data['BlackCat'] = data.Color.apply(black_cat)\n",
    "\n",
    "def naming(i):\n",
    "    if pd.isnull(i): return 'Unnamed'\n",
    "    return 'Named'\n",
    "data['Named'] = data.Name.apply(naming)\n",
    "\n",
    "#Change all breed and color strings so that they are ordered consistently\n",
    "#E.G. all \"brown/black\" and \"black/brown\" should become \"black, brown\"\n",
    "def reorder(i):\n",
    "    i = str(i)\n",
    "    if i.find(\" \") >= 0: i = i.replace(\" \", \"-\")\n",
    "    if i.find(\"/\") >= 0: i = i.replace(\"/\", \" \")\n",
    "    i = i.split()\n",
    "    i = sorted(i)\n",
    "    i = ' '.join(i)\n",
    "    return i\n",
    "\n",
    "data['OrderedColor'] = data.Color.apply(reorder)\n",
    "data['OrderedBreed'] = data.Breed.apply(reorder)\n"
   ]
  },
  {
   "cell_type": "code",
   "execution_count": 3,
   "metadata": {
    "collapsed": false,
    "scrolled": true
   },
   "outputs": [
    {
     "data": {
      "text/html": [
       "<div>\n",
       "<table border=\"1\" class=\"dataframe\">\n",
       "  <thead>\n",
       "    <tr style=\"text-align: right;\">\n",
       "      <th></th>\n",
       "      <th>count</th>\n",
       "      <th>mean</th>\n",
       "      <th>std</th>\n",
       "      <th>min</th>\n",
       "      <th>25%</th>\n",
       "      <th>50%</th>\n",
       "      <th>75%</th>\n",
       "      <th>max</th>\n",
       "    </tr>\n",
       "  </thead>\n",
       "  <tbody>\n",
       "    <tr>\n",
       "      <th>ConvertedAge</th>\n",
       "      <td>26729.0</td>\n",
       "      <td>113.370253</td>\n",
       "      <td>154.064766</td>\n",
       "      <td>0.0</td>\n",
       "      <td>9.0</td>\n",
       "      <td>52.0</td>\n",
       "      <td>156.0</td>\n",
       "      <td>1040.0</td>\n",
       "    </tr>\n",
       "    <tr>\n",
       "      <th>BreedRank</th>\n",
       "      <td>26729.0</td>\n",
       "      <td>35.975981</td>\n",
       "      <td>20.246237</td>\n",
       "      <td>1.0</td>\n",
       "      <td>12.0</td>\n",
       "      <td>51.0</td>\n",
       "      <td>51.0</td>\n",
       "      <td>51.0</td>\n",
       "    </tr>\n",
       "  </tbody>\n",
       "</table>\n",
       "</div>"
      ],
      "text/plain": [
       "                count        mean         std  min   25%   50%    75%     max\n",
       "ConvertedAge  26729.0  113.370253  154.064766  0.0   9.0  52.0  156.0  1040.0\n",
       "BreedRank     26729.0   35.975981   20.246237  1.0  12.0  51.0   51.0    51.0"
      ]
     },
     "execution_count": 3,
     "metadata": {},
     "output_type": "execute_result"
    }
   ],
   "source": [
    "#Remove unnecessary variables\n",
    "#del data['AnimalID']\n",
    "#del data['Name']\n",
    "#del data['DateTime']\n",
    "#del data['Breed']\n",
    "#del data['OutcomeSubtype']\n",
    "#del data['SexuponOutcome']\n",
    "#del data['AgeuponOutcome']\n",
    "#del data['Color']\n",
    "#del data['OrderedBreed']\n",
    "#del data['OrderedColor']\n",
    "\n",
    "continuous = {'dog':['ConvertedAge', 'BreedRank'], 'cat':['ConvertedAge']}\n",
    "discrete = {'dog':[\n",
    "    'AnimalType',\n",
    "    'Female',\n",
    "    'Intact',\n",
    "    'MixedBreed',\n",
    "    'Named',\n",
    "    'TopBreed',\n",
    "    'PitBull'\n",
    "], 'cat': [\n",
    "    'AnimalType',\n",
    "    'Female',\n",
    "    'Intact',\n",
    "    'MixedBreed',\n",
    "    'Named',\n",
    "    'BlackCat'\n",
    "]}\n",
    "\n",
    "\n",
    "predictors = {'dog': continuous['dog'] + discrete['dog'], 'cat':continuous['cat']+discrete['cat']}\n",
    "target = 'OutcomeType'\n",
    "\n",
    "#For those missing an age, fill with the median age by animal type\n",
    "data[\"ConvertedAge\"] = data.groupby(\"AnimalType\").transform(lambda x: x.fillna(x.median()))\n",
    "data[continuous['dog']].describe().T"
   ]
  },
  {
   "cell_type": "code",
   "execution_count": 4,
   "metadata": {
    "collapsed": false
   },
   "outputs": [
    {
     "name": "stdout",
     "output_type": "stream",
     "text": [
      "       OutcomeType  ConvertedAge  BreedRank  TopBreed  PitBull  \\\n",
      "0  Return_to_owner          52.0       20.0         1        0   \n",
      "1       Euthanasia          52.0       51.0         0        0   \n",
      "2         Adoption         104.0       51.0         0        1   \n",
      "3         Transfer           3.0       51.0         0        0   \n",
      "4         Transfer         104.0       28.5         1        0   \n",
      "\n",
      "   AnimalType_Cat  AnimalType_Dog  Female_Female  Female_Male  Female_Unknown  \\\n",
      "0             0.0             1.0            0.0          1.0             0.0   \n",
      "1             1.0             0.0            1.0          0.0             0.0   \n",
      "2             0.0             1.0            0.0          1.0             0.0   \n",
      "3             1.0             0.0            0.0          1.0             0.0   \n",
      "4             0.0             1.0            0.0          1.0             0.0   \n",
      "\n",
      "   Intact_Intact  Intact_Spayed/Neutered  Intact_Unknown  \\\n",
      "0            0.0                     1.0             0.0   \n",
      "1            0.0                     1.0             0.0   \n",
      "2            0.0                     1.0             0.0   \n",
      "3            1.0                     0.0             0.0   \n",
      "4            0.0                     1.0             0.0   \n",
      "\n",
      "   MixedBreed_Known Breed Combo  MixedBreed_Mixed Breed  MixedBreed_Nonmixed  \\\n",
      "0                           0.0                     1.0                  0.0   \n",
      "1                           0.0                     1.0                  0.0   \n",
      "2                           0.0                     1.0                  0.0   \n",
      "3                           0.0                     1.0                  0.0   \n",
      "4                           1.0                     0.0                  0.0   \n",
      "\n",
      "   Named_Named  Named_Unnamed  \n",
      "0          1.0            0.0  \n",
      "1          1.0            0.0  \n",
      "2          1.0            0.0  \n",
      "3          0.0            1.0  \n",
      "4          0.0            1.0  \n"
     ]
    },
    {
     "data": {
      "text/plain": [
       "(26729, 18)"
      ]
     },
     "execution_count": 4,
     "metadata": {},
     "output_type": "execute_result"
    }
   ],
   "source": [
    "#Turn categorical variables into binaries\n",
    "data2 = pd.concat([data[target], data[continuous['dog']], pd.get_dummies(data[discrete['dog']])], axis=1)\n",
    "\n",
    "print data2.head()\n",
    "data2.shape"
   ]
  },
  {
   "cell_type": "code",
   "execution_count": 6,
   "metadata": {
    "collapsed": false,
    "scrolled": true
   },
   "outputs": [
    {
     "name": "stderr",
     "output_type": "stream",
     "text": [
      "C:\\Users\\rhopper\\AppData\\Local\\Continuum\\Anaconda2\\lib\\site-packages\\ipykernel\\__main__.py:17: SettingWithCopyWarning: \n",
      "A value is trying to be set on a copy of a slice from a DataFrame.\n",
      "Try using .loc[row_indexer,col_indexer] = value instead\n",
      "\n",
      "See the caveats in the documentation: http://pandas.pydata.org/pandas-docs/stable/indexing.html#indexing-view-versus-copy\n",
      "C:\\Users\\rhopper\\AppData\\Local\\Continuum\\Anaconda2\\lib\\site-packages\\ipykernel\\__main__.py:18: SettingWithCopyWarning: \n",
      "A value is trying to be set on a copy of a slice from a DataFrame.\n",
      "Try using .loc[row_indexer,col_indexer] = value instead\n",
      "\n",
      "See the caveats in the documentation: http://pandas.pydata.org/pandas-docs/stable/indexing.html#indexing-view-versus-copy\n"
     ]
    }
   ],
   "source": [
    "discrete = ['AnimalType_Cat', 'AnimalType_Dog', 'Female_Female', 'Female_Male', 'Female_Unknown',\n",
    "           'Intact_Intact', 'Intact_Spayed/Neutered', 'Intact_Unknown', 'MixedBreed_Known Breed Combo',\n",
    "           'MixedBreed_Mixed Breed', 'MixedBreed_Nonmixed', 'Named_Named', 'Named_Unnamed']\n",
    "\n",
    "continuous = ['ConvertedAge', 'BreedRank']\n",
    "\n",
    "predictors = continuous + discrete\n",
    "\n",
    "# Train/test split\n",
    "X = data2[predictors]\n",
    "y = data2[[target]]\n",
    "X_train, X_dev, y_train, y_dev = train_test_split(X, y, random_state=2)\n",
    "\n",
    "#Normalize \n",
    "ss = StandardScaler()\n",
    "ss.fit(X_train[continuous])   # Compute mean and std of training data\n",
    "X_train[continuous] = ss.transform(X_train[continuous])  # Use that mean and std to normalize columns of training data\n",
    "X_dev[continuous] = ss.transform(X_dev[continuous]) "
   ]
  },
  {
   "cell_type": "markdown",
   "metadata": {},
   "source": [
    "### Exploratory Analysis"
   ]
  },
  {
   "cell_type": "code",
   "execution_count": 12,
   "metadata": {
    "collapsed": false
   },
   "outputs": [
    {
     "data": {
      "text/plain": [
       "<matplotlib.axes._subplots.AxesSubplot at 0x12392b490>"
      ]
     },
     "execution_count": 12,
     "metadata": {},
     "output_type": "execute_result"
    },
    {
     "data": {
      "image/png": "[encoded data removed]",
      "text/plain": [
       "<matplotlib.figure.Figure at 0x10deca750>"
      ]
     },
     "metadata": {},
     "output_type": "display_data"
    }
   ],
   "source": [
    "#Animal types\n",
    "animal_type = data['AnimalType'].value_counts() \n",
    "animal_type.plot(kind='bar',color='#34ABD8',rot=0)"
   ]
  },
  {
   "cell_type": "code",
   "execution_count": 13,
   "metadata": {
    "collapsed": false
   },
   "outputs": [
    {
     "data": {
      "text/html": [
       "\n",
       "\n",
       "    <div class=\"bk-root\">\n",
       "        <div class=\"bk-plotdiv\" id=\"a1b05f20-b9a7-4093-a357-0fe7bcac885c\"></div>\n",
       "    </div>\n",
       "<script type=\"text/javascript\">\n",
       "  \n",
       "  (function(global) {\n",
       "    function now() {\n",
       "      return new Date();\n",
       "    }\n",
       "  \n",
       "    var force = false;\n",
       "  \n",
       "    if (typeof (window._bokeh_onload_callbacks) === \"undefined\" || force === true) {\n",
       "      window._bokeh_onload_callbacks = [];\n",
       "      window._bokeh_is_loading = undefined;\n",
       "    }\n",
       "  \n",
       "  \n",
       "    \n",
       "    if (typeof (window._bokeh_timeout) === \"undefined\" || force === true) {\n",
       "      window._bokeh_timeout = Date.now() + 0;\n",
       "      window._bokeh_failed_load = false;\n",
       "    }\n",
       "  \n",
       "    var NB_LOAD_WARNING = {'data': {'text/html':\n",
       "       \"<div style='background-color: #fdd'>\\n\"+\n",
       "       \"<p>\\n\"+\n",
       "       \"BokehJS does not appear to have successfully loaded. If loading BokehJS from CDN, this \\n\"+\n",
       "       \"may be due to a slow or bad network connection. Possible fixes:\\n\"+\n",
       "       \"</p>\\n\"+\n",
       "       \"<ul>\\n\"+\n",
       "       \"<li>re-rerun `output_notebook()` to attempt to load from CDN again, or</li>\\n\"+\n",
       "       \"<li>use INLINE resources instead, as so:</li>\\n\"+\n",
       "       \"</ul>\\n\"+\n",
       "       \"<code>\\n\"+\n",
       "       \"from bokeh.resources import INLINE\\n\"+\n",
       "       \"output_notebook(resources=INLINE)\\n\"+\n",
       "       \"</code>\\n\"+\n",
       "       \"</div>\"}};\n",
       "  \n",
       "    function display_loaded() {\n",
       "      if (window.Bokeh !== undefined) {\n",
       "        var el = document.getElementById(\"a1b05f20-b9a7-4093-a357-0fe7bcac885c\");\n",
       "        el.textContent = \"BokehJS \" + Bokeh.version + \" successfully loaded.\";\n",
       "      } else if (Date.now() < window._bokeh_timeout) {\n",
       "        setTimeout(display_loaded, 100)\n",
       "      }\n",
       "    }\n",
       "  \n",
       "    function run_callbacks() {\n",
       "      window._bokeh_onload_callbacks.forEach(function(callback) { callback() });\n",
       "      delete window._bokeh_onload_callbacks\n",
       "      console.info(\"Bokeh: all callbacks have finished\");\n",
       "    }\n",
       "  \n",
       "    function load_libs(js_urls, callback) {\n",
       "      window._bokeh_onload_callbacks.push(callback);\n",
       "      if (window._bokeh_is_loading > 0) {\n",
       "        console.log(\"Bokeh: BokehJS is being loaded, scheduling callback at\", now());\n",
       "        return null;\n",
       "      }\n",
       "      if (js_urls == null || js_urls.length === 0) {\n",
       "        run_callbacks();\n",
       "        return null;\n",
       "      }\n",
       "      console.log(\"Bokeh: BokehJS not loaded, scheduling load and callback at\", now());\n",
       "      window._bokeh_is_loading = js_urls.length;\n",
       "      for (var i = 0; i < js_urls.length; i++) {\n",
       "        var url = js_urls[i];\n",
       "        var s = document.createElement('script');\n",
       "        s.src = url;\n",
       "        s.async = false;\n",
       "        s.onreadystatechange = s.onload = function() {\n",
       "          window._bokeh_is_loading--;\n",
       "          if (window._bokeh_is_loading === 0) {\n",
       "            console.log(\"Bokeh: all BokehJS libraries loaded\");\n",
       "            run_callbacks()\n",
       "          }\n",
       "        };\n",
       "        s.onerror = function() {\n",
       "          console.warn(\"failed to load library \" + url);\n",
       "        };\n",
       "        console.log(\"Bokeh: injecting script tag for BokehJS library: \", url);\n",
       "        document.getElementsByTagName(\"head\")[0].appendChild(s);\n",
       "      }\n",
       "    };var element = document.getElementById(\"a1b05f20-b9a7-4093-a357-0fe7bcac885c\");\n",
       "    if (element == null) {\n",
       "      console.log(\"Bokeh: ERROR: autoload.js configured with elementid 'a1b05f20-b9a7-4093-a357-0fe7bcac885c' but no matching script tag was found. \")\n",
       "      return false;\n",
       "    }\n",
       "  \n",
       "    var js_urls = [];\n",
       "  \n",
       "    var inline_js = [\n",
       "      function(Bokeh) {\n",
       "        (function() {\n",
       "          var fn = function() {\n",
       "            var docs_json = {\"cb0c1850-fab8-4c3c-8500-82a58b601486\":{\"roots\":{\"references\":[{\"attributes\":{\"callback\":null,\"column_names\":[\"line_color\",\"line_alpha\",\"color\",\"fill_alpha\",\"height\",\"width\",\"y\",\"x\",\"label\"],\"data\":{\"AnimalType\":[\"Dog\"],\"OutcomeType\":[\"Died\"],\"chart_index\":[{\"AnimalType\":\"Dog\",\"OutcomeType\":\"Died\"}],\"color\":[\"#5ab738\"],\"fill_alpha\":[0.8],\"height\":[50.0],\"label\":[{\"AnimalType\":\"Dog\",\"OutcomeType\":\"Died\"}],\"line_alpha\":[1.0],\"line_color\":[\"white\"],\"width\":[0.8],\"x\":[\"Died\"],\"y\":[172.0]}},\"id\":\"6f1991b7-d3d4-4d7b-9182-97b8076fea9d\",\"type\":\"ColumnDataSource\"},{\"attributes\":{\"data_source\":{\"id\":\"992bca54-bd95-49b0-8839-a9484965cf35\",\"type\":\"ColumnDataSource\"},\"glyph\":{\"id\":\"326f9b55-bd71-4db1-a584-76ad027c22b3\",\"type\":\"Rect\"},\"hover_glyph\":null,\"muted_glyph\":null},\"id\":\"f3d8df8c-1edd-4ea1-afbe-b3c591eae7f8\",\"type\":\"GlyphRenderer\"},{\"attributes\":{\"fill_alpha\":{\"field\":\"fill_alpha\"},\"fill_color\":{\"field\":\"color\"},\"height\":{\"field\":\"height\",\"units\":\"data\"},\"line_color\":{\"field\":\"line_color\"},\"width\":{\"field\":\"width\",\"units\":\"data\"},\"x\":{\"field\":\"x\"},\"y\":{\"field\":\"y\"}},\"id\":\"af534089-1e91-40ea-bab6-66a632ff760c\",\"type\":\"Rect\"},{\"attributes\":{\"callback\":null,\"column_names\":[\"line_color\",\"line_alpha\",\"color\",\"fill_alpha\",\"height\",\"width\",\"y\",\"x\",\"label\"],\"data\":{\"AnimalType\":[\"Dog\"],\"OutcomeType\":[\"Transfer\"],\"chart_index\":[{\"AnimalType\":\"Dog\",\"OutcomeType\":\"Transfer\"}],\"color\":[\"#5ab738\"],\"fill_alpha\":[0.8],\"height\":[3917.0],\"label\":[{\"AnimalType\":\"Dog\",\"OutcomeType\":\"Transfer\"}],\"line_alpha\":[1.0],\"line_color\":[\"white\"],\"width\":[0.8],\"x\":[\"Transfer\"],\"y\":[7463.5]}},\"id\":\"5241b1af-4ee1-4ee3-a527-6b6bf85d1789\",\"type\":\"ColumnDataSource\"},{\"attributes\":{\"plot\":{\"id\":\"6a855b77-ded2-4c1d-9142-d379433f3773\",\"subtype\":\"Chart\",\"type\":\"Plot\"}},\"id\":\"6533c0bd-da85-41c2-b667-56471ee84845\",\"type\":\"PanTool\"},{\"attributes\":{\"label\":{\"value\":\"Cat\"},\"renderers\":[{\"id\":\"9123a1d5-3b17-4cdd-b020-7e8e74c0bc66\",\"type\":\"GlyphRenderer\"}]},\"id\":\"9e94f6b3-4a36-44ce-af6c-8b8e73d6ece4\",\"type\":\"LegendItem\"},{\"attributes\":{\"callback\":null,\"factors\":[\"Adoption\",\"Died\",\"Euthanasia\",\"Return_to_owner\",\"Transfer\"]},\"id\":\"05527a5e-11cd-479c-a4c5-08ccb2e441ff\",\"type\":\"FactorRange\"},{\"attributes\":{\"callback\":null,\"column_names\":[\"line_color\",\"line_alpha\",\"color\",\"fill_alpha\",\"height\",\"width\",\"y\",\"x\",\"label\"],\"data\":{\"AnimalType\":[\"Cat\"],\"OutcomeType\":[\"Transfer\"],\"chart_index\":[{\"AnimalType\":\"Cat\",\"OutcomeType\":\"Transfer\"}],\"color\":[\"#f22c40\"],\"fill_alpha\":[0.8],\"height\":[5505.0],\"label\":[{\"AnimalType\":\"Cat\",\"OutcomeType\":\"Transfer\"}],\"line_alpha\":[1.0],\"line_color\":[\"white\"],\"width\":[0.8],\"x\":[\"Transfer\"],\"y\":[2752.5]}},\"id\":\"08d4d0dc-f380-492d-ae7f-f2367765352e\",\"type\":\"ColumnDataSource\"},{\"attributes\":{},\"id\":\"e6aa1116-818c-4052-a0d2-ee3da7981c84\",\"type\":\"BasicTicker\"},{\"attributes\":{\"fill_alpha\":{\"field\":\"fill_alpha\"},\"fill_color\":{\"field\":\"color\"},\"height\":{\"field\":\"height\",\"units\":\"data\"},\"line_color\":{\"field\":\"line_color\"},\"width\":{\"field\":\"width\",\"units\":\"data\"},\"x\":{\"field\":\"x\"},\"y\":{\"field\":\"y\"}},\"id\":\"d4f49235-f702-4292-a11e-f75af54bfb28\",\"type\":\"Rect\"},{\"attributes\":{\"axis_label\":\"Outcometype\",\"formatter\":{\"id\":\"fc70b634-d5be-4d3e-992d-1b33057643a8\",\"type\":\"CategoricalTickFormatter\"},\"major_label_orientation\":0.7853981633974483,\"plot\":{\"id\":\"6a855b77-ded2-4c1d-9142-d379433f3773\",\"subtype\":\"Chart\",\"type\":\"Plot\"},\"ticker\":{\"id\":\"31f3577c-244c-414a-9903-640432b9e202\",\"type\":\"CategoricalTicker\"}},\"id\":\"53da0c10-d7b2-45bb-ad69-c4a2eab0b7a0\",\"type\":\"CategoricalAxis\"},{\"attributes\":{\"callback\":null,\"column_names\":[\"line_color\",\"line_alpha\",\"color\",\"fill_alpha\",\"height\",\"width\",\"y\",\"x\",\"label\"],\"data\":{\"AnimalType\":[\"Cat\"],\"OutcomeType\":[\"Return_to_owner\"],\"chart_index\":[{\"AnimalType\":\"Cat\",\"OutcomeType\":\"Return_to_owner\"}],\"color\":[\"#f22c40\"],\"fill_alpha\":[0.8],\"height\":[500.0],\"label\":[{\"AnimalType\":\"Cat\",\"OutcomeType\":\"Return_to_owner\"}],\"line_alpha\":[1.0],\"line_color\":[\"white\"],\"width\":[0.8],\"x\":[\"Return_to_owner\"],\"y\":[4536.0]}},\"id\":\"ba1032f5-0c7d-476e-92ad-0a0fbe64aad7\",\"type\":\"ColumnDataSource\"},{\"attributes\":{\"data_source\":{\"id\":\"59ce239f-7ae4-4f1a-ba00-7a0ff8e2b8b0\",\"type\":\"ColumnDataSource\"},\"glyph\":{\"id\":\"34ed510e-0f78-4520-968c-59552324e91a\",\"type\":\"Rect\"},\"hover_glyph\":null,\"muted_glyph\":null},\"id\":\"9123a1d5-3b17-4cdd-b020-7e8e74c0bc66\",\"type\":\"GlyphRenderer\"},{\"attributes\":{\"active_drag\":\"auto\",\"active_scroll\":\"auto\",\"active_tap\":\"auto\",\"tools\":[{\"id\":\"6533c0bd-da85-41c2-b667-56471ee84845\",\"type\":\"PanTool\"},{\"id\":\"db5f9457-052f-47c5-9816-0bfe6f420d79\",\"type\":\"WheelZoomTool\"},{\"id\":\"2854099d-f8b5-40ad-948f-eaa62c01ea84\",\"type\":\"BoxZoomTool\"},{\"id\":\"b50a5c6c-4349-4747-a5ec-237ecb2037d2\",\"type\":\"SaveTool\"},{\"id\":\"ad93638d-6ddd-4305-a333-923e53eeb62b\",\"type\":\"ResetTool\"},{\"id\":\"31b025d5-02e2-4f17-92a0-bba9f26cb6e5\",\"type\":\"HelpTool\"}]},\"id\":\"0e71084c-e788-4e97-873c-f86bf175a8a5\",\"type\":\"Toolbar\"},{\"attributes\":{},\"id\":\"44d685d4-a3be-43b4-8eeb-fb8ff1094f1c\",\"type\":\"ToolEvents\"},{\"attributes\":{\"data_source\":{\"id\":\"951bbb24-5e6e-4d5f-80a3-248c8bd0c305\",\"type\":\"ColumnDataSource\"},\"glyph\":{\"id\":\"09329273-d637-42cf-a3eb-55a475799599\",\"type\":\"Rect\"},\"hover_glyph\":null,\"muted_glyph\":null},\"id\":\"aaa2aeb5-6557-4385-9a75-aebfc2b56614\",\"type\":\"GlyphRenderer\"},{\"attributes\":{\"data_source\":{\"id\":\"08d4d0dc-f380-492d-ae7f-f2367765352e\",\"type\":\"ColumnDataSource\"},\"glyph\":{\"id\":\"af534089-1e91-40ea-bab6-66a632ff760c\",\"type\":\"Rect\"},\"hover_glyph\":null,\"muted_glyph\":null},\"id\":\"090840fa-1c10-41df-905a-1025824453ae\",\"type\":\"GlyphRenderer\"},{\"attributes\":{\"data_source\":{\"id\":\"ba1032f5-0c7d-476e-92ad-0a0fbe64aad7\",\"type\":\"ColumnDataSource\"},\"glyph\":{\"id\":\"a34e5139-a361-4319-be05-c855c17d8364\",\"type\":\"Rect\"},\"hover_glyph\":null,\"muted_glyph\":null},\"id\":\"bbad89b1-b6da-4b8f-810c-d73451adf551\",\"type\":\"GlyphRenderer\"},{\"attributes\":{\"bottom_units\":\"screen\",\"fill_alpha\":{\"value\":0.5},\"fill_color\":{\"value\":\"lightgrey\"},\"left_units\":\"screen\",\"level\":\"overlay\",\"line_alpha\":{\"value\":1.0},\"line_color\":{\"value\":\"black\"},\"line_dash\":[4,4],\"line_width\":{\"value\":2},\"plot\":null,\"render_mode\":\"css\",\"right_units\":\"screen\",\"top_units\":\"screen\"},\"id\":\"8db8ec15-2e26-414a-8f34-bc8522a87bdf\",\"type\":\"BoxAnnotation\"},{\"attributes\":{\"callback\":null,\"column_names\":[\"line_color\",\"line_alpha\",\"color\",\"fill_alpha\",\"height\",\"width\",\"y\",\"x\",\"label\"],\"data\":{\"AnimalType\":[\"Dog\"],\"OutcomeType\":[\"Return_to_owner\"],\"chart_index\":[{\"AnimalType\":\"Dog\",\"OutcomeType\":\"Return_to_owner\"}],\"color\":[\"#5ab738\"],\"fill_alpha\":[0.8],\"height\":[4286.0],\"label\":[{\"AnimalType\":\"Dog\",\"OutcomeType\":\"Return_to_owner\"}],\"line_alpha\":[1.0],\"line_color\":[\"white\"],\"width\":[0.8],\"x\":[\"Return_to_owner\"],\"y\":[2143.0]}},\"id\":\"e19be995-465c-4625-8009-9dfbd406b7ff\",\"type\":\"ColumnDataSource\"},{\"attributes\":{},\"id\":\"85a7c413-40b7-4d1e-80bd-b8a2691ae2d2\",\"type\":\"BasicTickFormatter\"},{\"attributes\":{\"plot\":{\"id\":\"6a855b77-ded2-4c1d-9142-d379433f3773\",\"subtype\":\"Chart\",\"type\":\"Plot\"}},\"id\":\"ad93638d-6ddd-4305-a333-923e53eeb62b\",\"type\":\"ResetTool\"},{\"attributes\":{},\"id\":\"fc70b634-d5be-4d3e-992d-1b33057643a8\",\"type\":\"CategoricalTickFormatter\"},{\"attributes\":{\"fill_alpha\":{\"field\":\"fill_alpha\"},\"fill_color\":{\"field\":\"color\"},\"height\":{\"field\":\"height\",\"units\":\"data\"},\"line_color\":{\"field\":\"line_color\"},\"width\":{\"field\":\"width\",\"units\":\"data\"},\"x\":{\"field\":\"x\"},\"y\":{\"field\":\"y\"}},\"id\":\"1874a0c5-08de-4273-9891-9bc7653862a0\",\"type\":\"Rect\"},{\"attributes\":{\"fill_alpha\":{\"field\":\"fill_alpha\"},\"fill_color\":{\"field\":\"color\"},\"height\":{\"field\":\"height\",\"units\":\"data\"},\"line_color\":{\"field\":\"line_color\"},\"width\":{\"field\":\"width\",\"units\":\"data\"},\"x\":{\"field\":\"x\"},\"y\":{\"field\":\"y\"}},\"id\":\"a34e5139-a361-4319-be05-c855c17d8364\",\"type\":\"Rect\"},{\"attributes\":{\"data_source\":{\"id\":\"e19be995-465c-4625-8009-9dfbd406b7ff\",\"type\":\"ColumnDataSource\"},\"glyph\":{\"id\":\"474de956-839e-42cf-beb6-f1772842227b\",\"type\":\"Rect\"},\"hover_glyph\":null,\"muted_glyph\":null},\"id\":\"a320c48d-72bd-4b4c-9db3-8750aea876ab\",\"type\":\"GlyphRenderer\"},{\"attributes\":{\"axis_label\":\"Count( Animaltype )\",\"formatter\":{\"id\":\"85a7c413-40b7-4d1e-80bd-b8a2691ae2d2\",\"type\":\"BasicTickFormatter\"},\"plot\":{\"id\":\"6a855b77-ded2-4c1d-9142-d379433f3773\",\"subtype\":\"Chart\",\"type\":\"Plot\"},\"ticker\":{\"id\":\"e6aa1116-818c-4052-a0d2-ee3da7981c84\",\"type\":\"BasicTicker\"}},\"id\":\"0d312c68-ba6e-478a-9db1-8d0f1d47d5d8\",\"type\":\"LinearAxis\"},{\"attributes\":{\"dimension\":1,\"plot\":{\"id\":\"6a855b77-ded2-4c1d-9142-d379433f3773\",\"subtype\":\"Chart\",\"type\":\"Plot\"},\"ticker\":{\"id\":\"e6aa1116-818c-4052-a0d2-ee3da7981c84\",\"type\":\"BasicTicker\"}},\"id\":\"8a904d79-c699-43ed-90e3-0d7ed4cfd062\",\"type\":\"Grid\"},{\"attributes\":{\"label\":{\"value\":\"Dog\"},\"renderers\":[{\"id\":\"a320c48d-72bd-4b4c-9db3-8750aea876ab\",\"type\":\"GlyphRenderer\"}]},\"id\":\"1277c356-2fda-482c-9190-25e328b9ebd3\",\"type\":\"LegendItem\"},{\"attributes\":{\"callback\":null,\"column_names\":[\"line_color\",\"line_alpha\",\"color\",\"fill_alpha\",\"height\",\"width\",\"y\",\"x\",\"label\"],\"data\":{\"AnimalType\":[\"Dog\"],\"OutcomeType\":[\"Adoption\"],\"chart_index\":[{\"AnimalType\":\"Dog\",\"OutcomeType\":\"Adoption\"}],\"color\":[\"#5ab738\"],\"fill_alpha\":[0.8],\"height\":[6497.0],\"label\":[{\"AnimalType\":\"Dog\",\"OutcomeType\":\"Adoption\"}],\"line_alpha\":[1.0],\"line_color\":[\"white\"],\"width\":[0.8],\"x\":[\"Adoption\"],\"y\":[3248.5]}},\"id\":\"66a6dbc6-dfb6-401a-893c-224d8e7ca742\",\"type\":\"ColumnDataSource\"},{\"attributes\":{\"fill_alpha\":{\"field\":\"fill_alpha\"},\"fill_color\":{\"field\":\"color\"},\"height\":{\"field\":\"height\",\"units\":\"data\"},\"line_color\":{\"field\":\"line_color\"},\"width\":{\"field\":\"width\",\"units\":\"data\"},\"x\":{\"field\":\"x\"},\"y\":{\"field\":\"y\"}},\"id\":\"5e11c931-f4fd-4cb3-b552-f447c8304255\",\"type\":\"Rect\"},{\"attributes\":{\"plot\":{\"id\":\"6a855b77-ded2-4c1d-9142-d379433f3773\",\"subtype\":\"Chart\",\"type\":\"Plot\"}},\"id\":\"b50a5c6c-4349-4747-a5ec-237ecb2037d2\",\"type\":\"SaveTool\"},{\"attributes\":{},\"id\":\"31f3577c-244c-414a-9903-640432b9e202\",\"type\":\"CategoricalTicker\"},{\"attributes\":{\"callback\":null,\"column_names\":[\"line_color\",\"line_alpha\",\"color\",\"fill_alpha\",\"height\",\"width\",\"y\",\"x\",\"label\"],\"data\":{\"AnimalType\":[\"Cat\"],\"OutcomeType\":[\"Euthanasia\"],\"chart_index\":[{\"AnimalType\":\"Cat\",\"OutcomeType\":\"Euthanasia\"}],\"color\":[\"#f22c40\"],\"fill_alpha\":[0.8],\"height\":[710.0],\"label\":[{\"AnimalType\":\"Cat\",\"OutcomeType\":\"Euthanasia\"}],\"line_alpha\":[1.0],\"line_color\":[\"white\"],\"width\":[0.8],\"x\":[\"Euthanasia\"],\"y\":[355.0]}},\"id\":\"59ce239f-7ae4-4f1a-ba00-7a0ff8e2b8b0\",\"type\":\"ColumnDataSource\"},{\"attributes\":{\"fill_alpha\":{\"field\":\"fill_alpha\"},\"fill_color\":{\"field\":\"color\"},\"height\":{\"field\":\"height\",\"units\":\"data\"},\"line_color\":{\"field\":\"line_color\"},\"width\":{\"field\":\"width\",\"units\":\"data\"},\"x\":{\"field\":\"x\"},\"y\":{\"field\":\"y\"}},\"id\":\"474de956-839e-42cf-beb6-f1772842227b\",\"type\":\"Rect\"},{\"attributes\":{\"fill_alpha\":{\"field\":\"fill_alpha\"},\"fill_color\":{\"field\":\"color\"},\"height\":{\"field\":\"height\",\"units\":\"data\"},\"line_color\":{\"field\":\"line_color\"},\"width\":{\"field\":\"width\",\"units\":\"data\"},\"x\":{\"field\":\"x\"},\"y\":{\"field\":\"y\"}},\"id\":\"09329273-d637-42cf-a3eb-55a475799599\",\"type\":\"Rect\"},{\"attributes\":{\"data_source\":{\"id\":\"66a6dbc6-dfb6-401a-893c-224d8e7ca742\",\"type\":\"ColumnDataSource\"},\"glyph\":{\"id\":\"5e11c931-f4fd-4cb3-b552-f447c8304255\",\"type\":\"Rect\"},\"hover_glyph\":null,\"muted_glyph\":null},\"id\":\"3ee043a5-c4f4-4279-a817-b02ef018bca1\",\"type\":\"GlyphRenderer\"},{\"attributes\":{\"callback\":null,\"column_names\":[\"line_color\",\"line_alpha\",\"color\",\"fill_alpha\",\"height\",\"width\",\"y\",\"x\",\"label\"],\"data\":{\"AnimalType\":[\"Cat\"],\"OutcomeType\":[\"Died\"],\"chart_index\":[{\"AnimalType\":\"Cat\",\"OutcomeType\":\"Died\"}],\"color\":[\"#f22c40\"],\"fill_alpha\":[0.8],\"height\":[147.0],\"label\":[{\"AnimalType\":\"Cat\",\"OutcomeType\":\"Died\"}],\"line_alpha\":[1.0],\"line_color\":[\"white\"],\"width\":[0.8],\"x\":[\"Died\"],\"y\":[73.5]}},\"id\":\"992bca54-bd95-49b0-8839-a9484965cf35\",\"type\":\"ColumnDataSource\"},{\"attributes\":{\"callback\":null,\"end\":11307.45},\"id\":\"cdf96bdd-50f3-4f95-a040-b25639777e2f\",\"type\":\"Range1d\"},{\"attributes\":{\"data_source\":{\"id\":\"7b8ce4ff-779e-4927-8f63-a83d336cdde5\",\"type\":\"ColumnDataSource\"},\"glyph\":{\"id\":\"d4f49235-f702-4292-a11e-f75af54bfb28\",\"type\":\"Rect\"},\"hover_glyph\":null,\"muted_glyph\":null},\"id\":\"e91c8992-2f1a-4d4c-88b5-64af377f1134\",\"type\":\"GlyphRenderer\"},{\"attributes\":{\"plot\":{\"id\":\"6a855b77-ded2-4c1d-9142-d379433f3773\",\"subtype\":\"Chart\",\"type\":\"Plot\"}},\"id\":\"31b025d5-02e2-4f17-92a0-bba9f26cb6e5\",\"type\":\"HelpTool\"},{\"attributes\":{\"data_source\":{\"id\":\"6f1991b7-d3d4-4d7b-9182-97b8076fea9d\",\"type\":\"ColumnDataSource\"},\"glyph\":{\"id\":\"1874a0c5-08de-4273-9891-9bc7653862a0\",\"type\":\"Rect\"},\"hover_glyph\":null,\"muted_glyph\":null},\"id\":\"aaea115d-4c6f-4184-87e1-42b794a0491f\",\"type\":\"GlyphRenderer\"},{\"attributes\":{\"plot\":{\"id\":\"6a855b77-ded2-4c1d-9142-d379433f3773\",\"subtype\":\"Chart\",\"type\":\"Plot\"}},\"id\":\"db5f9457-052f-47c5-9816-0bfe6f420d79\",\"type\":\"WheelZoomTool\"},{\"attributes\":{\"plot\":null,\"text\":\"Outcomes by Animal Type\"},\"id\":\"86256578-00a4-4672-9763-4f9f2047f787\",\"type\":\"Title\"},{\"attributes\":{\"overlay\":{\"id\":\"8db8ec15-2e26-414a-8f34-bc8522a87bdf\",\"type\":\"BoxAnnotation\"},\"plot\":{\"id\":\"6a855b77-ded2-4c1d-9142-d379433f3773\",\"subtype\":\"Chart\",\"type\":\"Plot\"}},\"id\":\"2854099d-f8b5-40ad-948f-eaa62c01ea84\",\"type\":\"BoxZoomTool\"},{\"attributes\":{\"below\":[{\"id\":\"53da0c10-d7b2-45bb-ad69-c4a2eab0b7a0\",\"type\":\"CategoricalAxis\"}],\"css_classes\":null,\"left\":[{\"id\":\"0d312c68-ba6e-478a-9db1-8d0f1d47d5d8\",\"type\":\"LinearAxis\"}],\"renderers\":[{\"id\":\"8db8ec15-2e26-414a-8f34-bc8522a87bdf\",\"type\":\"BoxAnnotation\"},{\"id\":\"a320c48d-72bd-4b4c-9db3-8750aea876ab\",\"type\":\"GlyphRenderer\"},{\"id\":\"9123a1d5-3b17-4cdd-b020-7e8e74c0bc66\",\"type\":\"GlyphRenderer\"},{\"id\":\"3ee043a5-c4f4-4279-a817-b02ef018bca1\",\"type\":\"GlyphRenderer\"},{\"id\":\"090840fa-1c10-41df-905a-1025824453ae\",\"type\":\"GlyphRenderer\"},{\"id\":\"68b4a63b-2de4-41b0-ace3-776bdd115a90\",\"type\":\"GlyphRenderer\"},{\"id\":\"e91c8992-2f1a-4d4c-88b5-64af377f1134\",\"type\":\"GlyphRenderer\"},{\"id\":\"bbad89b1-b6da-4b8f-810c-d73451adf551\",\"type\":\"GlyphRenderer\"},{\"id\":\"aaa2aeb5-6557-4385-9a75-aebfc2b56614\",\"type\":\"GlyphRenderer\"},{\"id\":\"f3d8df8c-1edd-4ea1-afbe-b3c591eae7f8\",\"type\":\"GlyphRenderer\"},{\"id\":\"aaea115d-4c6f-4184-87e1-42b794a0491f\",\"type\":\"GlyphRenderer\"},{\"id\":\"2dd2ec5d-81c5-43c3-8c31-0adecc42030a\",\"type\":\"Legend\"},{\"id\":\"53da0c10-d7b2-45bb-ad69-c4a2eab0b7a0\",\"type\":\"CategoricalAxis\"},{\"id\":\"0d312c68-ba6e-478a-9db1-8d0f1d47d5d8\",\"type\":\"LinearAxis\"},{\"id\":\"8a904d79-c699-43ed-90e3-0d7ed4cfd062\",\"type\":\"Grid\"}],\"title\":{\"id\":\"86256578-00a4-4672-9763-4f9f2047f787\",\"type\":\"Title\"},\"tool_events\":{\"id\":\"44d685d4-a3be-43b4-8eeb-fb8ff1094f1c\",\"type\":\"ToolEvents\"},\"toolbar\":{\"id\":\"0e71084c-e788-4e97-873c-f86bf175a8a5\",\"type\":\"Toolbar\"},\"x_mapper_type\":\"auto\",\"x_range\":{\"id\":\"05527a5e-11cd-479c-a4c5-08ccb2e441ff\",\"type\":\"FactorRange\"},\"y_mapper_type\":\"auto\",\"y_range\":{\"id\":\"cdf96bdd-50f3-4f95-a040-b25639777e2f\",\"type\":\"Range1d\"}},\"id\":\"6a855b77-ded2-4c1d-9142-d379433f3773\",\"subtype\":\"Chart\",\"type\":\"Plot\"},{\"attributes\":{\"fill_alpha\":{\"field\":\"fill_alpha\"},\"fill_color\":{\"field\":\"color\"},\"height\":{\"field\":\"height\",\"units\":\"data\"},\"line_color\":{\"field\":\"line_color\"},\"width\":{\"field\":\"width\",\"units\":\"data\"},\"x\":{\"field\":\"x\"},\"y\":{\"field\":\"y\"}},\"id\":\"326f9b55-bd71-4db1-a584-76ad027c22b3\",\"type\":\"Rect\"},{\"attributes\":{\"callback\":null,\"column_names\":[\"line_color\",\"line_alpha\",\"color\",\"fill_alpha\",\"height\",\"width\",\"y\",\"x\",\"label\"],\"data\":{\"AnimalType\":[\"Cat\"],\"OutcomeType\":[\"Adoption\"],\"chart_index\":[{\"AnimalType\":\"Cat\",\"OutcomeType\":\"Adoption\"}],\"color\":[\"#f22c40\"],\"fill_alpha\":[0.8],\"height\":[4272.0],\"label\":[{\"AnimalType\":\"Cat\",\"OutcomeType\":\"Adoption\"}],\"line_alpha\":[1.0],\"line_color\":[\"white\"],\"width\":[0.8],\"x\":[\"Adoption\"],\"y\":[8633.0]}},\"id\":\"7b8ce4ff-779e-4927-8f63-a83d336cdde5\",\"type\":\"ColumnDataSource\"},{\"attributes\":{\"fill_alpha\":{\"field\":\"fill_alpha\"},\"fill_color\":{\"field\":\"color\"},\"height\":{\"field\":\"height\",\"units\":\"data\"},\"line_color\":{\"field\":\"line_color\"},\"width\":{\"field\":\"width\",\"units\":\"data\"},\"x\":{\"field\":\"x\"},\"y\":{\"field\":\"y\"}},\"id\":\"429d4de4-a6f3-4bfd-a22b-44b962060392\",\"type\":\"Rect\"},{\"attributes\":{\"data_source\":{\"id\":\"5241b1af-4ee1-4ee3-a527-6b6bf85d1789\",\"type\":\"ColumnDataSource\"},\"glyph\":{\"id\":\"429d4de4-a6f3-4bfd-a22b-44b962060392\",\"type\":\"Rect\"},\"hover_glyph\":null,\"muted_glyph\":null},\"id\":\"68b4a63b-2de4-41b0-ace3-776bdd115a90\",\"type\":\"GlyphRenderer\"},{\"attributes\":{\"fill_alpha\":{\"field\":\"fill_alpha\"},\"fill_color\":{\"field\":\"color\"},\"height\":{\"field\":\"height\",\"units\":\"data\"},\"line_color\":{\"field\":\"line_color\"},\"width\":{\"field\":\"width\",\"units\":\"data\"},\"x\":{\"field\":\"x\"},\"y\":{\"field\":\"y\"}},\"id\":\"34ed510e-0f78-4520-968c-59552324e91a\",\"type\":\"Rect\"},{\"attributes\":{\"items\":[{\"id\":\"1277c356-2fda-482c-9190-25e328b9ebd3\",\"type\":\"LegendItem\"},{\"id\":\"9e94f6b3-4a36-44ce-af6c-8b8e73d6ece4\",\"type\":\"LegendItem\"}],\"plot\":{\"id\":\"6a855b77-ded2-4c1d-9142-d379433f3773\",\"subtype\":\"Chart\",\"type\":\"Plot\"}},\"id\":\"2dd2ec5d-81c5-43c3-8c31-0adecc42030a\",\"type\":\"Legend\"},{\"attributes\":{\"callback\":null,\"column_names\":[\"line_color\",\"line_alpha\",\"color\",\"fill_alpha\",\"height\",\"width\",\"y\",\"x\",\"label\"],\"data\":{\"AnimalType\":[\"Dog\"],\"OutcomeType\":[\"Euthanasia\"],\"chart_index\":[{\"AnimalType\":\"Dog\",\"OutcomeType\":\"Euthanasia\"}],\"color\":[\"#5ab738\"],\"fill_alpha\":[0.8],\"height\":[845.0],\"label\":[{\"AnimalType\":\"Dog\",\"OutcomeType\":\"Euthanasia\"}],\"line_alpha\":[1.0],\"line_color\":[\"white\"],\"width\":[0.8],\"x\":[\"Euthanasia\"],\"y\":[1132.5]}},\"id\":\"951bbb24-5e6e-4d5f-80a3-248c8bd0c305\",\"type\":\"ColumnDataSource\"}],\"root_ids\":[\"6a855b77-ded2-4c1d-9142-d379433f3773\"]},\"title\":\"Bokeh Application\",\"version\":\"0.12.5\"}};\n",
       "            var render_items = [{\"docid\":\"cb0c1850-fab8-4c3c-8500-82a58b601486\",\"elementid\":\"a1b05f20-b9a7-4093-a357-0fe7bcac885c\",\"modelid\":\"6a855b77-ded2-4c1d-9142-d379433f3773\"}];\n",
       "            \n",
       "            Bokeh.embed.embed_items(docs_json, render_items);\n",
       "          };\n",
       "          if (document.readyState != \"loading\") fn();\n",
       "          else document.addEventListener(\"DOMContentLoaded\", fn);\n",
       "        })();\n",
       "      },\n",
       "      function(Bokeh) {\n",
       "      }\n",
       "    ];\n",
       "  \n",
       "    function run_inline_js() {\n",
       "      \n",
       "      if ((window.Bokeh !== undefined) || (force === true)) {\n",
       "        for (var i = 0; i < inline_js.length; i++) {\n",
       "          inline_js[i](window.Bokeh);\n",
       "        }if (force === true) {\n",
       "          display_loaded();\n",
       "        }} else if (Date.now() < window._bokeh_timeout) {\n",
       "        setTimeout(run_inline_js, 100);\n",
       "      } else if (!window._bokeh_failed_load) {\n",
       "        console.log(\"Bokeh: BokehJS failed to load within specified timeout.\");\n",
       "        window._bokeh_failed_load = true;\n",
       "      } else if (force !== true) {\n",
       "        var cell = $(document.getElementById(\"a1b05f20-b9a7-4093-a357-0fe7bcac885c\")).parents('.cell').data().cell;\n",
       "        cell.output_area.append_execute_result(NB_LOAD_WARNING)\n",
       "      }\n",
       "  \n",
       "    }\n",
       "  \n",
       "    if (window._bokeh_is_loading === 0) {\n",
       "      console.log(\"Bokeh: BokehJS loaded, going straight to plotting\");\n",
       "      run_inline_js();\n",
       "    } else {\n",
       "      load_libs(js_urls, function() {\n",
       "        console.log(\"Bokeh: BokehJS plotting callback run at\", now());\n",
       "        run_inline_js();\n",
       "      });\n",
       "    }\n",
       "  }(this));\n",
       "</script>"
      ]
     },
     "metadata": {},
     "output_type": "display_data"
    }
   ],
   "source": [
    "#Animal types\n",
    "p = Bar(data, label='OutcomeType', values = 'AnimalType', agg='count', stack='AnimalType',\n",
    "        title=\"Outcomes by Animal Type\", legend='top_right')\n",
    "show(p)"
   ]
  },
  {
   "cell_type": "code",
   "execution_count": 14,
   "metadata": {
    "collapsed": false,
    "scrolled": false
   },
   "outputs": [
    {
     "data": {
      "text/plain": [
       "<matplotlib.axes._subplots.AxesSubplot at 0x123c80910>"
      ]
     },
     "execution_count": 14,
     "metadata": {},
     "output_type": "execute_result"
    },
    {
     "data": {
      "image/png": "[encoded data removed]",
      "text/plain": [
       "<matplotlib.figure.Figure at 0x123c80250>"
      ]
     },
     "metadata": {},
     "output_type": "display_data"
    }
   ],
   "source": [
    "#Outcome types\n",
    "outcome_type = data['OutcomeType'].value_counts() \n",
    "outcome_type.plot(kind='bar',color='#34ABD8',rot=0)"
   ]
  },
  {
   "cell_type": "code",
   "execution_count": 16,
   "metadata": {
    "collapsed": false
   },
   "outputs": [
    {
     "data": {
      "text/html": [
       "\n",
       "\n",
       "    <div class=\"bk-root\">\n",
       "        <div class=\"bk-plotdiv\" id=\"59838654-0a61-4150-bf5b-bc5079096309\"></div>\n",
       "    </div>\n",
       "<script type=\"text/javascript\">\n",
       "  \n",
       "  (function(global) {\n",
       "    function now() {\n",
       "      return new Date();\n",
       "    }\n",
       "  \n",
       "    var force = false;\n",
       "  \n",
       "    if (typeof (window._bokeh_onload_callbacks) === \"undefined\" || force === true) {\n",
       "      window._bokeh_onload_callbacks = [];\n",
       "      window._bokeh_is_loading = undefined;\n",
       "    }\n",
       "  \n",
       "  \n",
       "    \n",
       "    if (typeof (window._bokeh_timeout) === \"undefined\" || force === true) {\n",
       "      window._bokeh_timeout = Date.now() + 0;\n",
       "      window._bokeh_failed_load = false;\n",
       "    }\n",
       "  \n",
       "    var NB_LOAD_WARNING = {'data': {'text/html':\n",
       "       \"<div style='background-color: #fdd'>\\n\"+\n",
       "       \"<p>\\n\"+\n",
       "       \"BokehJS does not appear to have successfully loaded. If loading BokehJS from CDN, this \\n\"+\n",
       "       \"may be due to a slow or bad network connection. Possible fixes:\\n\"+\n",
       "       \"</p>\\n\"+\n",
       "       \"<ul>\\n\"+\n",
       "       \"<li>re-rerun `output_notebook()` to attempt to load from CDN again, or</li>\\n\"+\n",
       "       \"<li>use INLINE resources instead, as so:</li>\\n\"+\n",
       "       \"</ul>\\n\"+\n",
       "       \"<code>\\n\"+\n",
       "       \"from bokeh.resources import INLINE\\n\"+\n",
       "       \"output_notebook(resources=INLINE)\\n\"+\n",
       "       \"</code>\\n\"+\n",
       "       \"</div>\"}};\n",
       "  \n",
       "    function display_loaded() {\n",
       "      if (window.Bokeh !== undefined) {\n",
       "        var el = document.getElementById(\"59838654-0a61-4150-bf5b-bc5079096309\");\n",
       "        el.textContent = \"BokehJS \" + Bokeh.version + \" successfully loaded.\";\n",
       "      } else if (Date.now() < window._bokeh_timeout) {\n",
       "        setTimeout(display_loaded, 100)\n",
       "      }\n",
       "    }\n",
       "  \n",
       "    function run_callbacks() {\n",
       "      window._bokeh_onload_callbacks.forEach(function(callback) { callback() });\n",
       "      delete window._bokeh_onload_callbacks\n",
       "      console.info(\"Bokeh: all callbacks have finished\");\n",
       "    }\n",
       "  \n",
       "    function load_libs(js_urls, callback) {\n",
       "      window._bokeh_onload_callbacks.push(callback);\n",
       "      if (window._bokeh_is_loading > 0) {\n",
       "        console.log(\"Bokeh: BokehJS is being loaded, scheduling callback at\", now());\n",
       "        return null;\n",
       "      }\n",
       "      if (js_urls == null || js_urls.length === 0) {\n",
       "        run_callbacks();\n",
       "        return null;\n",
       "      }\n",
       "      console.log(\"Bokeh: BokehJS not loaded, scheduling load and callback at\", now());\n",
       "      window._bokeh_is_loading = js_urls.length;\n",
       "      for (var i = 0; i < js_urls.length; i++) {\n",
       "        var url = js_urls[i];\n",
       "        var s = document.createElement('script');\n",
       "        s.src = url;\n",
       "        s.async = false;\n",
       "        s.onreadystatechange = s.onload = function() {\n",
       "          window._bokeh_is_loading--;\n",
       "          if (window._bokeh_is_loading === 0) {\n",
       "            console.log(\"Bokeh: all BokehJS libraries loaded\");\n",
       "            run_callbacks()\n",
       "          }\n",
       "        };\n",
       "        s.onerror = function() {\n",
       "          console.warn(\"failed to load library \" + url);\n",
       "        };\n",
       "        console.log(\"Bokeh: injecting script tag for BokehJS library: \", url);\n",
       "        document.getElementsByTagName(\"head\")[0].appendChild(s);\n",
       "      }\n",
       "    };var element = document.getElementById(\"59838654-0a61-4150-bf5b-bc5079096309\");\n",
       "    if (element == null) {\n",
       "      console.log(\"Bokeh: ERROR: autoload.js configured with elementid '59838654-0a61-4150-bf5b-bc5079096309' but no matching script tag was found. \")\n",
       "      return false;\n",
       "    }\n",
       "  \n",
       "    var js_urls = [];\n",
       "  \n",
       "    var inline_js = [\n",
       "      function(Bokeh) {\n",
       "        (function() {\n",
       "          var fn = function() {\n",
       "            var docs_json = {\"eb0d9eac-5ad2-4f81-a29d-46fdde856f6a\":{\"roots\":{\"references\":[{\"attributes\":{\"data_source\":{\"id\":\"83d01411-dc5f-443e-9780-5177aedb7998\",\"type\":\"ColumnDataSource\"},\"glyph\":{\"id\":\"d5410051-93e0-437a-8872-2b15d20f484e\",\"type\":\"Rect\"},\"hover_glyph\":null,\"muted_glyph\":null},\"id\":\"1ca1787e-e50c-49fc-bd81-e07676f4d68b\",\"type\":\"GlyphRenderer\"},{\"attributes\":{\"plot\":{\"id\":\"5abcb45c-0bb4-488b-a59d-886a82106fcc\",\"subtype\":\"Chart\",\"type\":\"Plot\"}},\"id\":\"a055dcba-61b1-4474-82d7-302ee5e366c2\",\"type\":\"ResetTool\"},{\"attributes\":{\"fill_alpha\":{\"field\":\"fill_alpha\"},\"fill_color\":{\"field\":\"color\"},\"height\":{\"field\":\"height\",\"units\":\"data\"},\"line_color\":{\"field\":\"line_color\"},\"width\":{\"field\":\"width\",\"units\":\"data\"},\"x\":{\"field\":\"x\"},\"y\":{\"field\":\"y\"}},\"id\":\"8d34f588-a3d3-4c38-9412-18b44bc143f4\",\"type\":\"Rect\"},{\"attributes\":{\"data_source\":{\"id\":\"ff779313-8d4d-491e-be21-e353872c353b\",\"type\":\"ColumnDataSource\"},\"glyph\":{\"id\":\"c86a8668-3199-41da-aa76-09393edd907c\",\"type\":\"Rect\"},\"hover_glyph\":null,\"muted_glyph\":null},\"id\":\"9c17023e-4adc-4174-b9a3-c261a2b5596f\",\"type\":\"GlyphRenderer\"},{\"attributes\":{\"fill_alpha\":{\"field\":\"fill_alpha\"},\"fill_color\":{\"field\":\"color\"},\"height\":{\"field\":\"height\",\"units\":\"data\"},\"line_color\":{\"field\":\"line_color\"},\"width\":{\"field\":\"width\",\"units\":\"data\"},\"x\":{\"field\":\"x\"},\"y\":{\"field\":\"y\"}},\"id\":\"c86a8668-3199-41da-aa76-09393edd907c\",\"type\":\"Rect\"},{\"attributes\":{\"overlay\":{\"id\":\"1de4a64d-64ac-47eb-aad7-fe22d8a58326\",\"type\":\"BoxAnnotation\"},\"plot\":{\"id\":\"5abcb45c-0bb4-488b-a59d-886a82106fcc\",\"subtype\":\"Chart\",\"type\":\"Plot\"}},\"id\":\"47c7d1d6-a098-4768-bb4b-e0715949c388\",\"type\":\"BoxZoomTool\"},{\"attributes\":{\"callback\":null,\"column_names\":[\"line_color\",\"line_alpha\",\"color\",\"fill_alpha\",\"height\",\"width\",\"y\",\"x\",\"label\"],\"data\":{\"Intact\":[\"Spayed/Neutered\"],\"OutcomeType\":[\"Return_to_owner\"],\"chart_index\":[{\"Intact\":\"Spayed/Neutered\",\"OutcomeType\":\"Return_to_owner\"}],\"color\":[\"#5ab738\"],\"fill_alpha\":[0.8],\"height\":[3996.0],\"label\":[{\"Intact\":\"Spayed/Neutered\",\"OutcomeType\":\"Return_to_owner\"}],\"line_alpha\":[1.0],\"line_color\":[\"white\"],\"width\":[0.8],\"x\":[\"Return_to_owner\"],\"y\":[1998.0]}},\"id\":\"8b391652-d7bd-4f9e-9cbb-5ba9b2572dd4\",\"type\":\"ColumnDataSource\"},{\"attributes\":{\"fill_alpha\":{\"field\":\"fill_alpha\"},\"fill_color\":{\"field\":\"color\"},\"height\":{\"field\":\"height\",\"units\":\"data\"},\"line_color\":{\"field\":\"line_color\"},\"width\":{\"field\":\"width\",\"units\":\"data\"},\"x\":{\"field\":\"x\"},\"y\":{\"field\":\"y\"}},\"id\":\"d98cc11b-5f3c-4f0c-a5f9-a82e35ca01e1\",\"type\":\"Rect\"},{\"attributes\":{\"fill_alpha\":{\"field\":\"fill_alpha\"},\"fill_color\":{\"field\":\"color\"},\"height\":{\"field\":\"height\",\"units\":\"data\"},\"line_color\":{\"field\":\"line_color\"},\"width\":{\"field\":\"width\",\"units\":\"data\"},\"x\":{\"field\":\"x\"},\"y\":{\"field\":\"y\"}},\"id\":\"7ee477fc-1f89-4151-bf57-dd8c7cbb69af\",\"type\":\"Rect\"},{\"attributes\":{\"plot\":{\"id\":\"5abcb45c-0bb4-488b-a59d-886a82106fcc\",\"subtype\":\"Chart\",\"type\":\"Plot\"}},\"id\":\"85d3f44d-44f8-4451-a8ab-009973115a36\",\"type\":\"PanTool\"},{\"attributes\":{\"fill_alpha\":{\"field\":\"fill_alpha\"},\"fill_color\":{\"field\":\"color\"},\"height\":{\"field\":\"height\",\"units\":\"data\"},\"line_color\":{\"field\":\"line_color\"},\"width\":{\"field\":\"width\",\"units\":\"data\"},\"x\":{\"field\":\"x\"},\"y\":{\"field\":\"y\"}},\"id\":\"0d196d0f-ce33-4c72-b6cf-fe04fcbf7a63\",\"type\":\"Rect\"},{\"attributes\":{\"callback\":null,\"column_names\":[\"line_color\",\"line_alpha\",\"color\",\"fill_alpha\",\"height\",\"width\",\"y\",\"x\",\"label\"],\"data\":{\"Intact\":[\"Spayed/Neutered\"],\"OutcomeType\":[\"Adoption\"],\"chart_index\":[{\"Intact\":\"Spayed/Neutered\",\"OutcomeType\":\"Adoption\"}],\"color\":[\"#5ab738\"],\"fill_alpha\":[0.8],\"height\":[10408.0],\"label\":[{\"Intact\":\"Spayed/Neutered\",\"OutcomeType\":\"Adoption\"}],\"line_alpha\":[1.0],\"line_color\":[\"white\"],\"width\":[0.8],\"x\":[\"Adoption\"],\"y\":[5204.0]}},\"id\":\"e39240cc-9173-48cd-8f60-e888aaaeeff5\",\"type\":\"ColumnDataSource\"},{\"attributes\":{\"data_source\":{\"id\":\"f8cd29a4-a1ca-414c-a037-de3e23c473d0\",\"type\":\"ColumnDataSource\"},\"glyph\":{\"id\":\"8d34f588-a3d3-4c38-9412-18b44bc143f4\",\"type\":\"Rect\"},\"hover_glyph\":null,\"muted_glyph\":null},\"id\":\"310a6d29-ee3a-4534-b12d-44c03d3c7e65\",\"type\":\"GlyphRenderer\"},{\"attributes\":{\"label\":{\"value\":\"Unknown\"},\"renderers\":[{\"id\":\"fec915c9-c674-401b-b563-857cfddd4945\",\"type\":\"GlyphRenderer\"}]},\"id\":\"fc2626fc-8442-4821-acc1-09d0c20353c0\",\"type\":\"LegendItem\"},{\"attributes\":{\"data_source\":{\"id\":\"ed1511c8-c6ab-4e50-95a0-96293f7a579f\",\"type\":\"ColumnDataSource\"},\"glyph\":{\"id\":\"7c6336cc-a928-4647-a86a-e1d58944f7cf\",\"type\":\"Rect\"},\"hover_glyph\":null,\"muted_glyph\":null},\"id\":\"0f622146-6e98-43c4-aced-021f49b3e0e3\",\"type\":\"GlyphRenderer\"},{\"attributes\":{\"plot\":{\"id\":\"5abcb45c-0bb4-488b-a59d-886a82106fcc\",\"subtype\":\"Chart\",\"type\":\"Plot\"}},\"id\":\"b514461e-ea97-43bd-a33e-0eb2d4a9b850\",\"type\":\"WheelZoomTool\"},{\"attributes\":{\"data_source\":{\"id\":\"9abedb60-e19b-4380-bf86-180819612ab1\",\"type\":\"ColumnDataSource\"},\"glyph\":{\"id\":\"7b7362cf-b0ce-4afa-9806-62f824aa9c50\",\"type\":\"Rect\"},\"hover_glyph\":null,\"muted_glyph\":null},\"id\":\"70788f75-92fa-48fe-8347-6e189ca72521\",\"type\":\"GlyphRenderer\"},{\"attributes\":{\"fill_alpha\":{\"field\":\"fill_alpha\"},\"fill_color\":{\"field\":\"color\"},\"height\":{\"field\":\"height\",\"units\":\"data\"},\"line_color\":{\"field\":\"line_color\"},\"width\":{\"field\":\"width\",\"units\":\"data\"},\"x\":{\"field\":\"x\"},\"y\":{\"field\":\"y\"}},\"id\":\"a1bf6fe3-8200-4965-b7c9-bf62fcbff2f7\",\"type\":\"Rect\"},{\"attributes\":{\"fill_alpha\":{\"field\":\"fill_alpha\"},\"fill_color\":{\"field\":\"color\"},\"height\":{\"field\":\"height\",\"units\":\"data\"},\"line_color\":{\"field\":\"line_color\"},\"width\":{\"field\":\"width\",\"units\":\"data\"},\"x\":{\"field\":\"x\"},\"y\":{\"field\":\"y\"}},\"id\":\"1821d5e0-cfac-49f8-bd7a-25302c93a799\",\"type\":\"Rect\"},{\"attributes\":{\"plot\":{\"id\":\"5abcb45c-0bb4-488b-a59d-886a82106fcc\",\"subtype\":\"Chart\",\"type\":\"Plot\"}},\"id\":\"70b62b75-7945-480f-abec-0c2a274d83ab\",\"type\":\"HelpTool\"},{\"attributes\":{},\"id\":\"e390e9bd-1041-44a7-bd0a-d4e7822a1aa8\",\"type\":\"BasicTickFormatter\"},{\"attributes\":{\"callback\":null,\"column_names\":[\"line_color\",\"line_alpha\",\"color\",\"fill_alpha\",\"height\",\"width\",\"y\",\"x\",\"label\"],\"data\":{\"Intact\":[\"Unknown\"],\"OutcomeType\":[\"Transfer\"],\"chart_index\":[{\"Intact\":\"Unknown\",\"OutcomeType\":\"Transfer\"}],\"color\":[\"#407ee7\"],\"fill_alpha\":[0.8],\"height\":[955.0],\"label\":[{\"Intact\":\"Unknown\",\"OutcomeType\":\"Transfer\"}],\"line_alpha\":[1.0],\"line_color\":[\"white\"],\"width\":[0.8],\"x\":[\"Transfer\"],\"y\":[8944.5]}},\"id\":\"23dfdb53-8029-4ca7-8ace-cc6c86752e61\",\"type\":\"ColumnDataSource\"},{\"attributes\":{\"callback\":null,\"column_names\":[\"line_color\",\"line_alpha\",\"color\",\"fill_alpha\",\"height\",\"width\",\"y\",\"x\",\"label\"],\"data\":{\"Intact\":[\"Spayed/Neutered\"],\"OutcomeType\":[\"Transfer\"],\"chart_index\":[{\"Intact\":\"Spayed/Neutered\",\"OutcomeType\":\"Transfer\"}],\"color\":[\"#5ab738\"],\"fill_alpha\":[0.8],\"height\":[3583.0],\"label\":[{\"Intact\":\"Spayed/Neutered\",\"OutcomeType\":\"Transfer\"}],\"line_alpha\":[1.0],\"line_color\":[\"white\"],\"width\":[0.8],\"x\":[\"Transfer\"],\"y\":[6675.5]}},\"id\":\"13a23353-4cdd-48fd-b439-73cd1c58c66e\",\"type\":\"ColumnDataSource\"},{\"attributes\":{\"callback\":null,\"end\":11307.45},\"id\":\"89184512-f13c-45b4-8a01-045c1d8cf7f7\",\"type\":\"Range1d\"},{\"attributes\":{},\"id\":\"319b4b60-4faa-4c70-8bad-ed79c64dae68\",\"type\":\"CategoricalTicker\"},{\"attributes\":{\"bottom_units\":\"screen\",\"fill_alpha\":{\"value\":0.5},\"fill_color\":{\"value\":\"lightgrey\"},\"left_units\":\"screen\",\"level\":\"overlay\",\"line_alpha\":{\"value\":1.0},\"line_color\":{\"value\":\"black\"},\"line_dash\":[4,4],\"line_width\":{\"value\":2},\"plot\":null,\"render_mode\":\"css\",\"right_units\":\"screen\",\"top_units\":\"screen\"},\"id\":\"1de4a64d-64ac-47eb-aad7-fe22d8a58326\",\"type\":\"BoxAnnotation\"},{\"attributes\":{\"fill_alpha\":{\"field\":\"fill_alpha\"},\"fill_color\":{\"field\":\"color\"},\"height\":{\"field\":\"height\",\"units\":\"data\"},\"line_color\":{\"field\":\"line_color\"},\"width\":{\"field\":\"width\",\"units\":\"data\"},\"x\":{\"field\":\"x\"},\"y\":{\"field\":\"y\"}},\"id\":\"7b7362cf-b0ce-4afa-9806-62f824aa9c50\",\"type\":\"Rect\"},{\"attributes\":{\"items\":[{\"id\":\"6a5a9e90-5a41-4683-a97b-fbd7a8b4469b\",\"type\":\"LegendItem\"},{\"id\":\"2c13c585-abdd-473d-9a90-9dd2beaafaa2\",\"type\":\"LegendItem\"},{\"id\":\"fc2626fc-8442-4821-acc1-09d0c20353c0\",\"type\":\"LegendItem\"}],\"plot\":{\"id\":\"5abcb45c-0bb4-488b-a59d-886a82106fcc\",\"subtype\":\"Chart\",\"type\":\"Plot\"}},\"id\":\"500b1f89-e334-4e65-a30b-4ec3a9f7fd1f\",\"type\":\"Legend\"},{\"attributes\":{\"label\":{\"value\":\"Spayed/Neutered\"},\"renderers\":[{\"id\":\"3d55ec5a-c6f7-43d9-8c50-30237bf05958\",\"type\":\"GlyphRenderer\"}]},\"id\":\"6a5a9e90-5a41-4683-a97b-fbd7a8b4469b\",\"type\":\"LegendItem\"},{\"attributes\":{\"data_source\":{\"id\":\"13a23353-4cdd-48fd-b439-73cd1c58c66e\",\"type\":\"ColumnDataSource\"},\"glyph\":{\"id\":\"0d196d0f-ce33-4c72-b6cf-fe04fcbf7a63\",\"type\":\"Rect\"},\"hover_glyph\":null,\"muted_glyph\":null},\"id\":\"a75be5e3-eda2-4e4a-9e1c-6008bd4bd603\",\"type\":\"GlyphRenderer\"},{\"attributes\":{\"data_source\":{\"id\":\"c345a339-fca9-42fc-87bd-0a2069387a9b\",\"type\":\"ColumnDataSource\"},\"glyph\":{\"id\":\"259c0e0e-3c40-443d-9f0e-da477ec48a35\",\"type\":\"Rect\"},\"hover_glyph\":null,\"muted_glyph\":null},\"id\":\"795207b0-9d21-42ea-bb37-0cb4b6165182\",\"type\":\"GlyphRenderer\"},{\"attributes\":{\"callback\":null,\"column_names\":[\"line_color\",\"line_alpha\",\"color\",\"fill_alpha\",\"height\",\"width\",\"y\",\"x\",\"label\"],\"data\":{\"Intact\":[\"Unknown\"],\"OutcomeType\":[\"Euthanasia\"],\"chart_index\":[{\"Intact\":\"Unknown\",\"OutcomeType\":\"Euthanasia\"}],\"color\":[\"#407ee7\"],\"fill_alpha\":[0.8],\"height\":[101.0],\"label\":[{\"Intact\":\"Unknown\",\"OutcomeType\":\"Euthanasia\"}],\"line_alpha\":[1.0],\"line_color\":[\"white\"],\"width\":[0.8],\"x\":[\"Euthanasia\"],\"y\":[1504.5]}},\"id\":\"f8cd29a4-a1ca-414c-a037-de3e23c473d0\",\"type\":\"ColumnDataSource\"},{\"attributes\":{\"active_drag\":\"auto\",\"active_scroll\":\"auto\",\"active_tap\":\"auto\",\"tools\":[{\"id\":\"85d3f44d-44f8-4451-a8ab-009973115a36\",\"type\":\"PanTool\"},{\"id\":\"b514461e-ea97-43bd-a33e-0eb2d4a9b850\",\"type\":\"WheelZoomTool\"},{\"id\":\"47c7d1d6-a098-4768-bb4b-e0715949c388\",\"type\":\"BoxZoomTool\"},{\"id\":\"686dee94-df42-44f1-aec6-54b36384551d\",\"type\":\"SaveTool\"},{\"id\":\"a055dcba-61b1-4474-82d7-302ee5e366c2\",\"type\":\"ResetTool\"},{\"id\":\"70b62b75-7945-480f-abec-0c2a274d83ab\",\"type\":\"HelpTool\"}]},\"id\":\"4b20d4b5-7019-42de-a62c-57d6aa73390f\",\"type\":\"Toolbar\"},{\"attributes\":{},\"id\":\"d3da289d-08ff-42b4-ae15-944ee28a42cc\",\"type\":\"ToolEvents\"},{\"attributes\":{\"callback\":null,\"column_names\":[\"line_color\",\"line_alpha\",\"color\",\"fill_alpha\",\"height\",\"width\",\"y\",\"x\",\"label\"],\"data\":{\"Intact\":[\"Intact\"],\"OutcomeType\":[\"Euthanasia\"],\"chart_index\":[{\"Intact\":\"Intact\",\"OutcomeType\":\"Euthanasia\"}],\"color\":[\"#f22c40\"],\"fill_alpha\":[0.8],\"height\":[878.0],\"label\":[{\"Intact\":\"Intact\",\"OutcomeType\":\"Euthanasia\"}],\"line_alpha\":[1.0],\"line_color\":[\"white\"],\"width\":[0.8],\"x\":[\"Euthanasia\"],\"y\":[1015.0]}},\"id\":\"8592d591-a468-4018-8fc0-458375fa41f8\",\"type\":\"ColumnDataSource\"},{\"attributes\":{\"data_source\":{\"id\":\"8592d591-a468-4018-8fc0-458375fa41f8\",\"type\":\"ColumnDataSource\"},\"glyph\":{\"id\":\"7ee477fc-1f89-4151-bf57-dd8c7cbb69af\",\"type\":\"Rect\"},\"hover_glyph\":null,\"muted_glyph\":null},\"id\":\"f7dd6ab2-d905-4c04-801a-1fbd1394aae3\",\"type\":\"GlyphRenderer\"},{\"attributes\":{\"callback\":null,\"column_names\":[\"line_color\",\"line_alpha\",\"color\",\"fill_alpha\",\"height\",\"width\",\"y\",\"x\",\"label\"],\"data\":{\"Intact\":[\"Spayed/Neutered\"],\"OutcomeType\":[\"Died\"],\"chart_index\":[{\"Intact\":\"Spayed/Neutered\",\"OutcomeType\":\"Died\"}],\"color\":[\"#5ab738\"],\"fill_alpha\":[0.8],\"height\":[37.0],\"label\":[{\"Intact\":\"Spayed/Neutered\",\"OutcomeType\":\"Died\"}],\"line_alpha\":[1.0],\"line_color\":[\"white\"],\"width\":[0.8],\"x\":[\"Died\"],\"y\":[178.5]}},\"id\":\"c345a339-fca9-42fc-87bd-0a2069387a9b\",\"type\":\"ColumnDataSource\"},{\"attributes\":{\"callback\":null,\"column_names\":[\"line_color\",\"line_alpha\",\"color\",\"fill_alpha\",\"height\",\"width\",\"y\",\"x\",\"label\"],\"data\":{\"Intact\":[\"Unknown\"],\"OutcomeType\":[\"Return_to_owner\"],\"chart_index\":[{\"Intact\":\"Unknown\",\"OutcomeType\":\"Return_to_owner\"}],\"color\":[\"#407ee7\"],\"fill_alpha\":[0.8],\"height\":[12.0],\"label\":[{\"Intact\":\"Unknown\",\"OutcomeType\":\"Return_to_owner\"}],\"line_alpha\":[1.0],\"line_color\":[\"white\"],\"width\":[0.8],\"x\":[\"Return_to_owner\"],\"y\":[4780.0]}},\"id\":\"83d01411-dc5f-443e-9780-5177aedb7998\",\"type\":\"ColumnDataSource\"},{\"attributes\":{\"data_source\":{\"id\":\"43493e2e-3759-4f9e-86af-e905cbd1e89a\",\"type\":\"ColumnDataSource\"},\"glyph\":{\"id\":\"d98cc11b-5f3c-4f0c-a5f9-a82e35ca01e1\",\"type\":\"Rect\"},\"hover_glyph\":null,\"muted_glyph\":null},\"id\":\"d7d32c65-c30e-47fb-adff-34977fd632e0\",\"type\":\"GlyphRenderer\"},{\"attributes\":{\"axis_label\":\"Count( Intact )\",\"formatter\":{\"id\":\"e390e9bd-1041-44a7-bd0a-d4e7822a1aa8\",\"type\":\"BasicTickFormatter\"},\"plot\":{\"id\":\"5abcb45c-0bb4-488b-a59d-886a82106fcc\",\"subtype\":\"Chart\",\"type\":\"Plot\"},\"ticker\":{\"id\":\"909e3539-d9d7-4787-a9c2-17077fe7ad4a\",\"type\":\"BasicTicker\"}},\"id\":\"1d7eb125-0eee-4aa0-82c9-d641a5c21a9c\",\"type\":\"LinearAxis\"},{\"attributes\":{\"data_source\":{\"id\":\"c43e5f14-cf8e-434b-967e-198783133f76\",\"type\":\"ColumnDataSource\"},\"glyph\":{\"id\":\"1821d5e0-cfac-49f8-bd7a-25302c93a799\",\"type\":\"Rect\"},\"hover_glyph\":null,\"muted_glyph\":null},\"id\":\"a461fc1c-edfe-4b7f-9502-5d4062e407d6\",\"type\":\"GlyphRenderer\"},{\"attributes\":{\"callback\":null,\"column_names\":[\"line_color\",\"line_alpha\",\"color\",\"fill_alpha\",\"height\",\"width\",\"y\",\"x\",\"label\"],\"data\":{\"Intact\":[\"Spayed/Neutered\"],\"OutcomeType\":[\"Euthanasia\"],\"chart_index\":[{\"Intact\":\"Spayed/Neutered\",\"OutcomeType\":\"Euthanasia\"}],\"color\":[\"#5ab738\"],\"fill_alpha\":[0.8],\"height\":[576.0],\"label\":[{\"Intact\":\"Spayed/Neutered\",\"OutcomeType\":\"Euthanasia\"}],\"line_alpha\":[1.0],\"line_color\":[\"white\"],\"width\":[0.8],\"x\":[\"Euthanasia\"],\"y\":[288.0]}},\"id\":\"c6ec99ed-ad66-4266-af63-64ec59c8dbb0\",\"type\":\"ColumnDataSource\"},{\"attributes\":{\"fill_alpha\":{\"field\":\"fill_alpha\"},\"fill_color\":{\"field\":\"color\"},\"height\":{\"field\":\"height\",\"units\":\"data\"},\"line_color\":{\"field\":\"line_color\"},\"width\":{\"field\":\"width\",\"units\":\"data\"},\"x\":{\"field\":\"x\"},\"y\":{\"field\":\"y\"}},\"id\":\"7c6336cc-a928-4647-a86a-e1d58944f7cf\",\"type\":\"Rect\"},{\"attributes\":{\"callback\":null,\"column_names\":[\"line_color\",\"line_alpha\",\"color\",\"fill_alpha\",\"height\",\"width\",\"y\",\"x\",\"label\"],\"data\":{\"Intact\":[\"Intact\"],\"OutcomeType\":[\"Adoption\"],\"chart_index\":[{\"Intact\":\"Intact\",\"OutcomeType\":\"Adoption\"}],\"color\":[\"#f22c40\"],\"fill_alpha\":[0.8],\"height\":[361.0],\"label\":[{\"Intact\":\"Intact\",\"OutcomeType\":\"Adoption\"}],\"line_alpha\":[1.0],\"line_color\":[\"white\"],\"width\":[0.8],\"x\":[\"Adoption\"],\"y\":[10588.5]}},\"id\":\"43493e2e-3759-4f9e-86af-e905cbd1e89a\",\"type\":\"ColumnDataSource\"},{\"attributes\":{\"callback\":null,\"factors\":[\"Adoption\",\"Died\",\"Euthanasia\",\"Return_to_owner\",\"Transfer\"]},\"id\":\"e241e0a6-f0b0-4885-aaec-e76ef7e30d82\",\"type\":\"FactorRange\"},{\"attributes\":{\"fill_alpha\":{\"field\":\"fill_alpha\"},\"fill_color\":{\"field\":\"color\"},\"height\":{\"field\":\"height\",\"units\":\"data\"},\"line_color\":{\"field\":\"line_color\"},\"width\":{\"field\":\"width\",\"units\":\"data\"},\"x\":{\"field\":\"x\"},\"y\":{\"field\":\"y\"}},\"id\":\"c1aef52f-21c2-4419-8962-49f493331ffc\",\"type\":\"Rect\"},{\"attributes\":{\"callback\":null,\"column_names\":[\"line_color\",\"line_alpha\",\"color\",\"fill_alpha\",\"height\",\"width\",\"y\",\"x\",\"label\"],\"data\":{\"Intact\":[\"Intact\"],\"OutcomeType\":[\"Died\"],\"chart_index\":[{\"Intact\":\"Intact\",\"OutcomeType\":\"Died\"}],\"color\":[\"#f22c40\"],\"fill_alpha\":[0.8],\"height\":[135.0],\"label\":[{\"Intact\":\"Intact\",\"OutcomeType\":\"Died\"}],\"line_alpha\":[1.0],\"line_color\":[\"white\"],\"width\":[0.8],\"x\":[\"Died\"],\"y\":[67.5]}},\"id\":\"ff779313-8d4d-491e-be21-e353872c353b\",\"type\":\"ColumnDataSource\"},{\"attributes\":{\"fill_alpha\":{\"field\":\"fill_alpha\"},\"fill_color\":{\"field\":\"color\"},\"height\":{\"field\":\"height\",\"units\":\"data\"},\"line_color\":{\"field\":\"line_color\"},\"width\":{\"field\":\"width\",\"units\":\"data\"},\"x\":{\"field\":\"x\"},\"y\":{\"field\":\"y\"}},\"id\":\"259c0e0e-3c40-443d-9f0e-da477ec48a35\",\"type\":\"Rect\"},{\"attributes\":{\"callback\":null,\"column_names\":[\"line_color\",\"line_alpha\",\"color\",\"fill_alpha\",\"height\",\"width\",\"y\",\"x\",\"label\"],\"data\":{\"Intact\":[\"Intact\"],\"OutcomeType\":[\"Return_to_owner\"],\"chart_index\":[{\"Intact\":\"Intact\",\"OutcomeType\":\"Return_to_owner\"}],\"color\":[\"#f22c40\"],\"fill_alpha\":[0.8],\"height\":[778.0],\"label\":[{\"Intact\":\"Intact\",\"OutcomeType\":\"Return_to_owner\"}],\"line_alpha\":[1.0],\"line_color\":[\"white\"],\"width\":[0.8],\"x\":[\"Return_to_owner\"],\"y\":[4385.0]}},\"id\":\"ed1511c8-c6ab-4e50-95a0-96293f7a579f\",\"type\":\"ColumnDataSource\"},{\"attributes\":{\"plot\":null,\"text\":\"Outcomes by Intact Status\"},\"id\":\"f1703cd8-e3be-427a-9ec7-6a8e61f5dd59\",\"type\":\"Title\"},{\"attributes\":{\"callback\":null,\"column_names\":[\"line_color\",\"line_alpha\",\"color\",\"fill_alpha\",\"height\",\"width\",\"y\",\"x\",\"label\"],\"data\":{\"Intact\":[\"Intact\"],\"OutcomeType\":[\"Transfer\"],\"chart_index\":[{\"Intact\":\"Intact\",\"OutcomeType\":\"Transfer\"}],\"color\":[\"#f22c40\"],\"fill_alpha\":[0.8],\"height\":[4884.0],\"label\":[{\"Intact\":\"Intact\",\"OutcomeType\":\"Transfer\"}],\"line_alpha\":[1.0],\"line_color\":[\"white\"],\"width\":[0.8],\"x\":[\"Transfer\"],\"y\":[2442.0]}},\"id\":\"c43e5f14-cf8e-434b-967e-198783133f76\",\"type\":\"ColumnDataSource\"},{\"attributes\":{\"data_source\":{\"id\":\"c6ec99ed-ad66-4266-af63-64ec59c8dbb0\",\"type\":\"ColumnDataSource\"},\"glyph\":{\"id\":\"c1aef52f-21c2-4419-8962-49f493331ffc\",\"type\":\"Rect\"},\"hover_glyph\":null,\"muted_glyph\":null},\"id\":\"ace9dc54-96e6-482c-a8d7-f9a6401df150\",\"type\":\"GlyphRenderer\"},{\"attributes\":{\"data_source\":{\"id\":\"e39240cc-9173-48cd-8f60-e888aaaeeff5\",\"type\":\"ColumnDataSource\"},\"glyph\":{\"id\":\"ac8e6eb0-0814-4d40-9ce9-c04eaa3a8a7a\",\"type\":\"Rect\"},\"hover_glyph\":null,\"muted_glyph\":null},\"id\":\"52456bc5-5ad2-4707-bd4b-879951a37fb3\",\"type\":\"GlyphRenderer\"},{\"attributes\":{},\"id\":\"909e3539-d9d7-4787-a9c2-17077fe7ad4a\",\"type\":\"BasicTicker\"},{\"attributes\":{\"dimension\":1,\"plot\":{\"id\":\"5abcb45c-0bb4-488b-a59d-886a82106fcc\",\"subtype\":\"Chart\",\"type\":\"Plot\"},\"ticker\":{\"id\":\"909e3539-d9d7-4787-a9c2-17077fe7ad4a\",\"type\":\"BasicTicker\"}},\"id\":\"7de90e04-891d-464b-92c3-2624ca0907c9\",\"type\":\"Grid\"},{\"attributes\":{\"below\":[{\"id\":\"0c4734ac-4bb7-42bf-a57b-7235755cc32a\",\"type\":\"CategoricalAxis\"}],\"css_classes\":null,\"left\":[{\"id\":\"1d7eb125-0eee-4aa0-82c9-d641a5c21a9c\",\"type\":\"LinearAxis\"}],\"renderers\":[{\"id\":\"1de4a64d-64ac-47eb-aad7-fe22d8a58326\",\"type\":\"BoxAnnotation\"},{\"id\":\"3d55ec5a-c6f7-43d9-8c50-30237bf05958\",\"type\":\"GlyphRenderer\"},{\"id\":\"ace9dc54-96e6-482c-a8d7-f9a6401df150\",\"type\":\"GlyphRenderer\"},{\"id\":\"52456bc5-5ad2-4707-bd4b-879951a37fb3\",\"type\":\"GlyphRenderer\"},{\"id\":\"a461fc1c-edfe-4b7f-9502-5d4062e407d6\",\"type\":\"GlyphRenderer\"},{\"id\":\"a75be5e3-eda2-4e4a-9e1c-6008bd4bd603\",\"type\":\"GlyphRenderer\"},{\"id\":\"fec915c9-c674-401b-b563-857cfddd4945\",\"type\":\"GlyphRenderer\"},{\"id\":\"f7dd6ab2-d905-4c04-801a-1fbd1394aae3\",\"type\":\"GlyphRenderer\"},{\"id\":\"0f622146-6e98-43c4-aced-021f49b3e0e3\",\"type\":\"GlyphRenderer\"},{\"id\":\"310a6d29-ee3a-4534-b12d-44c03d3c7e65\",\"type\":\"GlyphRenderer\"},{\"id\":\"d7d32c65-c30e-47fb-adff-34977fd632e0\",\"type\":\"GlyphRenderer\"},{\"id\":\"9c17023e-4adc-4174-b9a3-c261a2b5596f\",\"type\":\"GlyphRenderer\"},{\"id\":\"70788f75-92fa-48fe-8347-6e189ca72521\",\"type\":\"GlyphRenderer\"},{\"id\":\"795207b0-9d21-42ea-bb37-0cb4b6165182\",\"type\":\"GlyphRenderer\"},{\"id\":\"1ca1787e-e50c-49fc-bd81-e07676f4d68b\",\"type\":\"GlyphRenderer\"},{\"id\":\"500b1f89-e334-4e65-a30b-4ec3a9f7fd1f\",\"type\":\"Legend\"},{\"id\":\"0c4734ac-4bb7-42bf-a57b-7235755cc32a\",\"type\":\"CategoricalAxis\"},{\"id\":\"1d7eb125-0eee-4aa0-82c9-d641a5c21a9c\",\"type\":\"LinearAxis\"},{\"id\":\"7de90e04-891d-464b-92c3-2624ca0907c9\",\"type\":\"Grid\"}],\"title\":{\"id\":\"f1703cd8-e3be-427a-9ec7-6a8e61f5dd59\",\"type\":\"Title\"},\"tool_events\":{\"id\":\"d3da289d-08ff-42b4-ae15-944ee28a42cc\",\"type\":\"ToolEvents\"},\"toolbar\":{\"id\":\"4b20d4b5-7019-42de-a62c-57d6aa73390f\",\"type\":\"Toolbar\"},\"x_mapper_type\":\"auto\",\"x_range\":{\"id\":\"e241e0a6-f0b0-4885-aaec-e76ef7e30d82\",\"type\":\"FactorRange\"},\"y_mapper_type\":\"auto\",\"y_range\":{\"id\":\"89184512-f13c-45b4-8a01-045c1d8cf7f7\",\"type\":\"Range1d\"}},\"id\":\"5abcb45c-0bb4-488b-a59d-886a82106fcc\",\"subtype\":\"Chart\",\"type\":\"Plot\"},{\"attributes\":{\"callback\":null,\"column_names\":[\"line_color\",\"line_alpha\",\"color\",\"fill_alpha\",\"height\",\"width\",\"y\",\"x\",\"label\"],\"data\":{\"Intact\":[\"Unknown\"],\"OutcomeType\":[\"Died\"],\"chart_index\":[{\"Intact\":\"Unknown\",\"OutcomeType\":\"Died\"}],\"color\":[\"#407ee7\"],\"fill_alpha\":[0.8],\"height\":[25.0],\"label\":[{\"Intact\":\"Unknown\",\"OutcomeType\":\"Died\"}],\"line_alpha\":[1.0],\"line_color\":[\"white\"],\"width\":[0.8],\"x\":[\"Died\"],\"y\":[147.5]}},\"id\":\"9abedb60-e19b-4380-bf86-180819612ab1\",\"type\":\"ColumnDataSource\"},{\"attributes\":{\"data_source\":{\"id\":\"8b391652-d7bd-4f9e-9cbb-5ba9b2572dd4\",\"type\":\"ColumnDataSource\"},\"glyph\":{\"id\":\"d74abc27-4dc9-42d7-aa06-131d2a6dbd18\",\"type\":\"Rect\"},\"hover_glyph\":null,\"muted_glyph\":null},\"id\":\"3d55ec5a-c6f7-43d9-8c50-30237bf05958\",\"type\":\"GlyphRenderer\"},{\"attributes\":{\"plot\":{\"id\":\"5abcb45c-0bb4-488b-a59d-886a82106fcc\",\"subtype\":\"Chart\",\"type\":\"Plot\"}},\"id\":\"686dee94-df42-44f1-aec6-54b36384551d\",\"type\":\"SaveTool\"},{\"attributes\":{\"data_source\":{\"id\":\"23dfdb53-8029-4ca7-8ace-cc6c86752e61\",\"type\":\"ColumnDataSource\"},\"glyph\":{\"id\":\"a1bf6fe3-8200-4965-b7c9-bf62fcbff2f7\",\"type\":\"Rect\"},\"hover_glyph\":null,\"muted_glyph\":null},\"id\":\"fec915c9-c674-401b-b563-857cfddd4945\",\"type\":\"GlyphRenderer\"},{\"attributes\":{\"fill_alpha\":{\"field\":\"fill_alpha\"},\"fill_color\":{\"field\":\"color\"},\"height\":{\"field\":\"height\",\"units\":\"data\"},\"line_color\":{\"field\":\"line_color\"},\"width\":{\"field\":\"width\",\"units\":\"data\"},\"x\":{\"field\":\"x\"},\"y\":{\"field\":\"y\"}},\"id\":\"ac8e6eb0-0814-4d40-9ce9-c04eaa3a8a7a\",\"type\":\"Rect\"},{\"attributes\":{},\"id\":\"a3c2be52-7403-41e6-bfc1-1459f2915662\",\"type\":\"CategoricalTickFormatter\"},{\"attributes\":{\"axis_label\":\"Outcometype\",\"formatter\":{\"id\":\"a3c2be52-7403-41e6-bfc1-1459f2915662\",\"type\":\"CategoricalTickFormatter\"},\"major_label_orientation\":0.7853981633974483,\"plot\":{\"id\":\"5abcb45c-0bb4-488b-a59d-886a82106fcc\",\"subtype\":\"Chart\",\"type\":\"Plot\"},\"ticker\":{\"id\":\"319b4b60-4faa-4c70-8bad-ed79c64dae68\",\"type\":\"CategoricalTicker\"}},\"id\":\"0c4734ac-4bb7-42bf-a57b-7235755cc32a\",\"type\":\"CategoricalAxis\"},{\"attributes\":{\"fill_alpha\":{\"field\":\"fill_alpha\"},\"fill_color\":{\"field\":\"color\"},\"height\":{\"field\":\"height\",\"units\":\"data\"},\"line_color\":{\"field\":\"line_color\"},\"width\":{\"field\":\"width\",\"units\":\"data\"},\"x\":{\"field\":\"x\"},\"y\":{\"field\":\"y\"}},\"id\":\"d5410051-93e0-437a-8872-2b15d20f484e\",\"type\":\"Rect\"},{\"attributes\":{\"fill_alpha\":{\"field\":\"fill_alpha\"},\"fill_color\":{\"field\":\"color\"},\"height\":{\"field\":\"height\",\"units\":\"data\"},\"line_color\":{\"field\":\"line_color\"},\"width\":{\"field\":\"width\",\"units\":\"data\"},\"x\":{\"field\":\"x\"},\"y\":{\"field\":\"y\"}},\"id\":\"d74abc27-4dc9-42d7-aa06-131d2a6dbd18\",\"type\":\"Rect\"},{\"attributes\":{\"label\":{\"value\":\"Intact\"},\"renderers\":[{\"id\":\"a461fc1c-edfe-4b7f-9502-5d4062e407d6\",\"type\":\"GlyphRenderer\"}]},\"id\":\"2c13c585-abdd-473d-9a90-9dd2beaafaa2\",\"type\":\"LegendItem\"}],\"root_ids\":[\"5abcb45c-0bb4-488b-a59d-886a82106fcc\"]},\"title\":\"Bokeh Application\",\"version\":\"0.12.5\"}};\n",
       "            var render_items = [{\"docid\":\"eb0d9eac-5ad2-4f81-a29d-46fdde856f6a\",\"elementid\":\"59838654-0a61-4150-bf5b-bc5079096309\",\"modelid\":\"5abcb45c-0bb4-488b-a59d-886a82106fcc\"}];\n",
       "            \n",
       "            Bokeh.embed.embed_items(docs_json, render_items);\n",
       "          };\n",
       "          if (document.readyState != \"loading\") fn();\n",
       "          else document.addEventListener(\"DOMContentLoaded\", fn);\n",
       "        })();\n",
       "      },\n",
       "      function(Bokeh) {\n",
       "      }\n",
       "    ];\n",
       "  \n",
       "    function run_inline_js() {\n",
       "      \n",
       "      if ((window.Bokeh !== undefined) || (force === true)) {\n",
       "        for (var i = 0; i < inline_js.length; i++) {\n",
       "          inline_js[i](window.Bokeh);\n",
       "        }if (force === true) {\n",
       "          display_loaded();\n",
       "        }} else if (Date.now() < window._bokeh_timeout) {\n",
       "        setTimeout(run_inline_js, 100);\n",
       "      } else if (!window._bokeh_failed_load) {\n",
       "        console.log(\"Bokeh: BokehJS failed to load within specified timeout.\");\n",
       "        window._bokeh_failed_load = true;\n",
       "      } else if (force !== true) {\n",
       "        var cell = $(document.getElementById(\"59838654-0a61-4150-bf5b-bc5079096309\")).parents('.cell').data().cell;\n",
       "        cell.output_area.append_execute_result(NB_LOAD_WARNING)\n",
       "      }\n",
       "  \n",
       "    }\n",
       "  \n",
       "    if (window._bokeh_is_loading === 0) {\n",
       "      console.log(\"Bokeh: BokehJS loaded, going straight to plotting\");\n",
       "      run_inline_js();\n",
       "    } else {\n",
       "      load_libs(js_urls, function() {\n",
       "        console.log(\"Bokeh: BokehJS plotting callback run at\", now());\n",
       "        run_inline_js();\n",
       "      });\n",
       "    }\n",
       "  }(this));\n",
       "</script>"
      ]
     },
     "metadata": {},
     "output_type": "display_data"
    }
   ],
   "source": [
    "p = Bar(data, label='OutcomeType', values = 'Intact', agg='count', stack='Intact',\n",
    "        title=\"Outcomes by Intact Status\", legend='top_right')\n",
    "show(p)"
   ]
  },
  {
   "cell_type": "code",
   "execution_count": 18,
   "metadata": {
    "collapsed": false
   },
   "outputs": [
    {
     "data": {
      "text/html": [
       "\n",
       "\n",
       "    <div class=\"bk-root\">\n",
       "        <div class=\"bk-plotdiv\" id=\"711754e6-f798-4b8d-98d1-668b0b671c51\"></div>\n",
       "    </div>\n",
       "<script type=\"text/javascript\">\n",
       "  \n",
       "  (function(global) {\n",
       "    function now() {\n",
       "      return new Date();\n",
       "    }\n",
       "  \n",
       "    var force = false;\n",
       "  \n",
       "    if (typeof (window._bokeh_onload_callbacks) === \"undefined\" || force === true) {\n",
       "      window._bokeh_onload_callbacks = [];\n",
       "      window._bokeh_is_loading = undefined;\n",
       "    }\n",
       "  \n",
       "  \n",
       "    \n",
       "    if (typeof (window._bokeh_timeout) === \"undefined\" || force === true) {\n",
       "      window._bokeh_timeout = Date.now() + 0;\n",
       "      window._bokeh_failed_load = false;\n",
       "    }\n",
       "  \n",
       "    var NB_LOAD_WARNING = {'data': {'text/html':\n",
       "       \"<div style='background-color: #fdd'>\\n\"+\n",
       "       \"<p>\\n\"+\n",
       "       \"BokehJS does not appear to have successfully loaded. If loading BokehJS from CDN, this \\n\"+\n",
       "       \"may be due to a slow or bad network connection. Possible fixes:\\n\"+\n",
       "       \"</p>\\n\"+\n",
       "       \"<ul>\\n\"+\n",
       "       \"<li>re-rerun `output_notebook()` to attempt to load from CDN again, or</li>\\n\"+\n",
       "       \"<li>use INLINE resources instead, as so:</li>\\n\"+\n",
       "       \"</ul>\\n\"+\n",
       "       \"<code>\\n\"+\n",
       "       \"from bokeh.resources import INLINE\\n\"+\n",
       "       \"output_notebook(resources=INLINE)\\n\"+\n",
       "       \"</code>\\n\"+\n",
       "       \"</div>\"}};\n",
       "  \n",
       "    function display_loaded() {\n",
       "      if (window.Bokeh !== undefined) {\n",
       "        var el = document.getElementById(\"711754e6-f798-4b8d-98d1-668b0b671c51\");\n",
       "        el.textContent = \"BokehJS \" + Bokeh.version + \" successfully loaded.\";\n",
       "      } else if (Date.now() < window._bokeh_timeout) {\n",
       "        setTimeout(display_loaded, 100)\n",
       "      }\n",
       "    }\n",
       "  \n",
       "    function run_callbacks() {\n",
       "      window._bokeh_onload_callbacks.forEach(function(callback) { callback() });\n",
       "      delete window._bokeh_onload_callbacks\n",
       "      console.info(\"Bokeh: all callbacks have finished\");\n",
       "    }\n",
       "  \n",
       "    function load_libs(js_urls, callback) {\n",
       "      window._bokeh_onload_callbacks.push(callback);\n",
       "      if (window._bokeh_is_loading > 0) {\n",
       "        console.log(\"Bokeh: BokehJS is being loaded, scheduling callback at\", now());\n",
       "        return null;\n",
       "      }\n",
       "      if (js_urls == null || js_urls.length === 0) {\n",
       "        run_callbacks();\n",
       "        return null;\n",
       "      }\n",
       "      console.log(\"Bokeh: BokehJS not loaded, scheduling load and callback at\", now());\n",
       "      window._bokeh_is_loading = js_urls.length;\n",
       "      for (var i = 0; i < js_urls.length; i++) {\n",
       "        var url = js_urls[i];\n",
       "        var s = document.createElement('script');\n",
       "        s.src = url;\n",
       "        s.async = false;\n",
       "        s.onreadystatechange = s.onload = function() {\n",
       "          window._bokeh_is_loading--;\n",
       "          if (window._bokeh_is_loading === 0) {\n",
       "            console.log(\"Bokeh: all BokehJS libraries loaded\");\n",
       "            run_callbacks()\n",
       "          }\n",
       "        };\n",
       "        s.onerror = function() {\n",
       "          console.warn(\"failed to load library \" + url);\n",
       "        };\n",
       "        console.log(\"Bokeh: injecting script tag for BokehJS library: \", url);\n",
       "        document.getElementsByTagName(\"head\")[0].appendChild(s);\n",
       "      }\n",
       "    };var element = document.getElementById(\"711754e6-f798-4b8d-98d1-668b0b671c51\");\n",
       "    if (element == null) {\n",
       "      console.log(\"Bokeh: ERROR: autoload.js configured with elementid '711754e6-f798-4b8d-98d1-668b0b671c51' but no matching script tag was found. \")\n",
       "      return false;\n",
       "    }\n",
       "  \n",
       "    var js_urls = [];\n",
       "  \n",
       "    var inline_js = [\n",
       "      function(Bokeh) {\n",
       "        (function() {\n",
       "          var fn = function() {\n",
       "            var docs_json = {\"d3cba17c-23c1-4bad-bdb5-9995fa00d301\":{\"roots\":{\"references\":[{\"attributes\":{\"label\":{\"value\":\"Male\"},\"renderers\":[{\"id\":\"d8844703-c132-4282-8d0f-1236e8ac01cf\",\"type\":\"GlyphRenderer\"}]},\"id\":\"69e00789-10fd-479c-a44d-36680c8ec71a\",\"type\":\"LegendItem\"},{\"attributes\":{\"data_source\":{\"id\":\"69af2f89-1c8c-4b4a-809a-3efddde0d5d9\",\"type\":\"ColumnDataSource\"},\"glyph\":{\"id\":\"52a2e2d6-1abb-4929-9ff9-7e8b8073619b\",\"type\":\"Rect\"},\"hover_glyph\":null,\"muted_glyph\":null},\"id\":\"de4b77ba-0fa5-4d14-a96c-ecbbed15de43\",\"type\":\"GlyphRenderer\"},{\"attributes\":{\"data_source\":{\"id\":\"0d1fbc20-5c4e-464f-b095-250f3f6ca74f\",\"type\":\"ColumnDataSource\"},\"glyph\":{\"id\":\"dc09c683-85c8-4bf1-a8f5-e0343bc86570\",\"type\":\"Rect\"},\"hover_glyph\":null,\"muted_glyph\":null},\"id\":\"d8844703-c132-4282-8d0f-1236e8ac01cf\",\"type\":\"GlyphRenderer\"},{\"attributes\":{\"fill_alpha\":{\"field\":\"fill_alpha\"},\"fill_color\":{\"field\":\"color\"},\"height\":{\"field\":\"height\",\"units\":\"data\"},\"line_color\":{\"field\":\"line_color\"},\"width\":{\"field\":\"width\",\"units\":\"data\"},\"x\":{\"field\":\"x\"},\"y\":{\"field\":\"y\"}},\"id\":\"9a9c2c0c-138d-47da-985d-8e5b8eb2d6cb\",\"type\":\"Rect\"},{\"attributes\":{\"items\":[{\"id\":\"69e00789-10fd-479c-a44d-36680c8ec71a\",\"type\":\"LegendItem\"},{\"id\":\"e4e9d8ee-8027-4b54-8eac-95c37dbe3424\",\"type\":\"LegendItem\"},{\"id\":\"2cc0bdd7-1149-4153-b2bb-793da064706e\",\"type\":\"LegendItem\"}],\"plot\":{\"id\":\"e0e9c78d-19df-4656-b612-3cc2ae391e89\",\"subtype\":\"Chart\",\"type\":\"Plot\"}},\"id\":\"16ac0c71-dc75-4fbc-a902-2156e4b8c4ca\",\"type\":\"Legend\"},{\"attributes\":{\"plot\":{\"id\":\"e0e9c78d-19df-4656-b612-3cc2ae391e89\",\"subtype\":\"Chart\",\"type\":\"Plot\"}},\"id\":\"e16a4a5f-40fc-4f14-9540-46cc4f2a56af\",\"type\":\"WheelZoomTool\"},{\"attributes\":{\"dimension\":1,\"plot\":{\"id\":\"e0e9c78d-19df-4656-b612-3cc2ae391e89\",\"subtype\":\"Chart\",\"type\":\"Plot\"},\"ticker\":{\"id\":\"b06023c2-f87a-4105-90b4-55466ca53aee\",\"type\":\"BasicTicker\"}},\"id\":\"939e01b3-62c9-4819-a1d2-c9058adb5d90\",\"type\":\"Grid\"},{\"attributes\":{},\"id\":\"b06023c2-f87a-4105-90b4-55466ca53aee\",\"type\":\"BasicTicker\"},{\"attributes\":{\"callback\":null,\"column_names\":[\"line_color\",\"line_alpha\",\"color\",\"fill_alpha\",\"height\",\"width\",\"y\",\"x\",\"label\"],\"data\":{\"Female\":[\"Unknown\"],\"OutcomeType\":[\"Died\"],\"chart_index\":[{\"Female\":\"Unknown\",\"OutcomeType\":\"Died\"}],\"color\":[\"#407ee7\"],\"fill_alpha\":[0.8],\"height\":[25.0],\"label\":[{\"Female\":\"Unknown\",\"OutcomeType\":\"Died\"}],\"line_alpha\":[1.0],\"line_color\":[\"white\"],\"width\":[0.8],\"x\":[\"Died\"],\"y\":[110.5]}},\"id\":\"8a804c2c-c0e3-4c42-8181-c819147811c0\",\"type\":\"ColumnDataSource\"},{\"attributes\":{\"axis_label\":\"Count( Female )\",\"formatter\":{\"id\":\"5343b8b3-c26c-4b5b-96c4-25242f23bee1\",\"type\":\"BasicTickFormatter\"},\"plot\":{\"id\":\"e0e9c78d-19df-4656-b612-3cc2ae391e89\",\"subtype\":\"Chart\",\"type\":\"Plot\"},\"ticker\":{\"id\":\"b06023c2-f87a-4105-90b4-55466ca53aee\",\"type\":\"BasicTicker\"}},\"id\":\"95ee7adf-fd6f-46d5-9440-41ea3352f8b9\",\"type\":\"LinearAxis\"},{\"attributes\":{\"fill_alpha\":{\"field\":\"fill_alpha\"},\"fill_color\":{\"field\":\"color\"},\"height\":{\"field\":\"height\",\"units\":\"data\"},\"line_color\":{\"field\":\"line_color\"},\"width\":{\"field\":\"width\",\"units\":\"data\"},\"x\":{\"field\":\"x\"},\"y\":{\"field\":\"y\"}},\"id\":\"dd9b08d5-0f1f-46a2-bbf3-194cf46321ac\",\"type\":\"Rect\"},{\"attributes\":{\"plot\":{\"id\":\"e0e9c78d-19df-4656-b612-3cc2ae391e89\",\"subtype\":\"Chart\",\"type\":\"Plot\"}},\"id\":\"bc0769a0-f6e5-4261-bb5c-d63f09c26276\",\"type\":\"PanTool\"},{\"attributes\":{\"callback\":null,\"column_names\":[\"line_color\",\"line_alpha\",\"color\",\"fill_alpha\",\"height\",\"width\",\"y\",\"x\",\"label\"],\"data\":{\"Female\":[\"Female\"],\"OutcomeType\":[\"Return_to_owner\"],\"chart_index\":[{\"Female\":\"Female\",\"OutcomeType\":\"Return_to_owner\"}],\"color\":[\"#f22c40\"],\"fill_alpha\":[0.8],\"height\":[2049.0],\"label\":[{\"Female\":\"Female\",\"OutcomeType\":\"Return_to_owner\"}],\"line_alpha\":[1.0],\"line_color\":[\"white\"],\"width\":[0.8],\"x\":[\"Return_to_owner\"],\"y\":[3749.5]}},\"id\":\"1d2b22e8-f99c-4294-aaa9-395698fee5ae\",\"type\":\"ColumnDataSource\"},{\"attributes\":{\"callback\":null,\"column_names\":[\"line_color\",\"line_alpha\",\"color\",\"fill_alpha\",\"height\",\"width\",\"y\",\"x\",\"label\"],\"data\":{\"Female\":[\"Male\"],\"OutcomeType\":[\"Died\"],\"chart_index\":[{\"Female\":\"Male\",\"OutcomeType\":\"Died\"}],\"color\":[\"#5ab738\"],\"fill_alpha\":[0.8],\"height\":[98.0],\"label\":[{\"Female\":\"Male\",\"OutcomeType\":\"Died\"}],\"line_alpha\":[1.0],\"line_color\":[\"white\"],\"width\":[0.8],\"x\":[\"Died\"],\"y\":[49.0]}},\"id\":\"6f8d0188-4446-4c2b-9f19-a904a2b64304\",\"type\":\"ColumnDataSource\"},{\"attributes\":{\"data_source\":{\"id\":\"0a1a3355-58af-4317-a941-3b16776be50b\",\"type\":\"ColumnDataSource\"},\"glyph\":{\"id\":\"c99e6509-1fa8-4181-b481-ca957566e23c\",\"type\":\"Rect\"},\"hover_glyph\":null,\"muted_glyph\":null},\"id\":\"0e595e79-0110-4dcf-aaf8-fa79f3149bb5\",\"type\":\"GlyphRenderer\"},{\"attributes\":{},\"id\":\"5343b8b3-c26c-4b5b-96c4-25242f23bee1\",\"type\":\"BasicTickFormatter\"},{\"attributes\":{\"plot\":null,\"text\":\"Outcomes by Female\"},\"id\":\"e29c283c-d65e-4b85-b5c9-c1317cba3ee9\",\"type\":\"Title\"},{\"attributes\":{\"data_source\":{\"id\":\"3b5b42e0-a401-40bc-8bf3-ea3b68cbac06\",\"type\":\"ColumnDataSource\"},\"glyph\":{\"id\":\"4f10e4f4-2c79-4f8e-9498-34859890ef14\",\"type\":\"Rect\"},\"hover_glyph\":null,\"muted_glyph\":null},\"id\":\"69d54daf-bc8d-4126-8d24-3d8906b7a352\",\"type\":\"GlyphRenderer\"},{\"attributes\":{\"fill_alpha\":{\"field\":\"fill_alpha\"},\"fill_color\":{\"field\":\"color\"},\"height\":{\"field\":\"height\",\"units\":\"data\"},\"line_color\":{\"field\":\"line_color\"},\"width\":{\"field\":\"width\",\"units\":\"data\"},\"x\":{\"field\":\"x\"},\"y\":{\"field\":\"y\"}},\"id\":\"43cac5b0-3456-410c-b64c-789c866fcea1\",\"type\":\"Rect\"},{\"attributes\":{\"fill_alpha\":{\"field\":\"fill_alpha\"},\"fill_color\":{\"field\":\"color\"},\"height\":{\"field\":\"height\",\"units\":\"data\"},\"line_color\":{\"field\":\"line_color\"},\"width\":{\"field\":\"width\",\"units\":\"data\"},\"x\":{\"field\":\"x\"},\"y\":{\"field\":\"y\"}},\"id\":\"fe0273a1-4e8e-4e58-993d-3fe945290563\",\"type\":\"Rect\"},{\"attributes\":{\"data_source\":{\"id\":\"8a804c2c-c0e3-4c42-8181-c819147811c0\",\"type\":\"ColumnDataSource\"},\"glyph\":{\"id\":\"1cc979aa-0772-41db-b1e3-7418b0b1ac57\",\"type\":\"Rect\"},\"hover_glyph\":null,\"muted_glyph\":null},\"id\":\"b8565afe-7ce4-479c-889e-828b8c015b5a\",\"type\":\"GlyphRenderer\"},{\"attributes\":{\"fill_alpha\":{\"field\":\"fill_alpha\"},\"fill_color\":{\"field\":\"color\"},\"height\":{\"field\":\"height\",\"units\":\"data\"},\"line_color\":{\"field\":\"line_color\"},\"width\":{\"field\":\"width\",\"units\":\"data\"},\"x\":{\"field\":\"x\"},\"y\":{\"field\":\"y\"}},\"id\":\"1cc979aa-0772-41db-b1e3-7418b0b1ac57\",\"type\":\"Rect\"},{\"attributes\":{\"fill_alpha\":{\"field\":\"fill_alpha\"},\"fill_color\":{\"field\":\"color\"},\"height\":{\"field\":\"height\",\"units\":\"data\"},\"line_color\":{\"field\":\"line_color\"},\"width\":{\"field\":\"width\",\"units\":\"data\"},\"x\":{\"field\":\"x\"},\"y\":{\"field\":\"y\"}},\"id\":\"5f8fc821-67b1-490d-b265-8509b95db194\",\"type\":\"Rect\"},{\"attributes\":{\"data_source\":{\"id\":\"e829d48a-cb29-4dcd-b01a-be24c23e0a54\",\"type\":\"ColumnDataSource\"},\"glyph\":{\"id\":\"43cac5b0-3456-410c-b64c-789c866fcea1\",\"type\":\"Rect\"},\"hover_glyph\":null,\"muted_glyph\":null},\"id\":\"23b98a38-8626-43b5-9223-7d11c1f44d0e\",\"type\":\"GlyphRenderer\"},{\"attributes\":{\"fill_alpha\":{\"field\":\"fill_alpha\"},\"fill_color\":{\"field\":\"color\"},\"height\":{\"field\":\"height\",\"units\":\"data\"},\"line_color\":{\"field\":\"line_color\"},\"width\":{\"field\":\"width\",\"units\":\"data\"},\"x\":{\"field\":\"x\"},\"y\":{\"field\":\"y\"}},\"id\":\"ad146848-214b-4805-b793-fa8462bf3edb\",\"type\":\"Rect\"},{\"attributes\":{\"data_source\":{\"id\":\"b3bdc4d3-bcef-4ace-84df-22c1fa912714\",\"type\":\"ColumnDataSource\"},\"glyph\":{\"id\":\"9a9c2c0c-138d-47da-985d-8e5b8eb2d6cb\",\"type\":\"Rect\"},\"hover_glyph\":null,\"muted_glyph\":null},\"id\":\"d1e21a24-bb74-44e4-a81c-288623803c20\",\"type\":\"GlyphRenderer\"},{\"attributes\":{\"fill_alpha\":{\"field\":\"fill_alpha\"},\"fill_color\":{\"field\":\"color\"},\"height\":{\"field\":\"height\",\"units\":\"data\"},\"line_color\":{\"field\":\"line_color\"},\"width\":{\"field\":\"width\",\"units\":\"data\"},\"x\":{\"field\":\"x\"},\"y\":{\"field\":\"y\"}},\"id\":\"4f10e4f4-2c79-4f8e-9498-34859890ef14\",\"type\":\"Rect\"},{\"attributes\":{\"data_source\":{\"id\":\"1d2b22e8-f99c-4294-aaa9-395698fee5ae\",\"type\":\"ColumnDataSource\"},\"glyph\":{\"id\":\"83f81652-4086-4ebd-a826-39843dba665f\",\"type\":\"Rect\"},\"hover_glyph\":null,\"muted_glyph\":null},\"id\":\"827220a2-1cf1-454b-b08b-17eaed5eb00e\",\"type\":\"GlyphRenderer\"},{\"attributes\":{\"callback\":null,\"factors\":[\"Adoption\",\"Died\",\"Euthanasia\",\"Return_to_owner\",\"Transfer\"]},\"id\":\"4ddb3858-c7ee-4ec9-b3d9-0f38f2368dc1\",\"type\":\"FactorRange\"},{\"attributes\":{\"data_source\":{\"id\":\"188acd09-de04-4785-bc9a-de1f2e6751ab\",\"type\":\"ColumnDataSource\"},\"glyph\":{\"id\":\"ad146848-214b-4805-b793-fa8462bf3edb\",\"type\":\"Rect\"},\"hover_glyph\":null,\"muted_glyph\":null},\"id\":\"d5117ab3-e709-4989-be7f-a349d4d16269\",\"type\":\"GlyphRenderer\"},{\"attributes\":{\"label\":{\"value\":\"Female\"},\"renderers\":[{\"id\":\"e5b8a09e-37cc-4d1b-8b52-d371325b1caf\",\"type\":\"GlyphRenderer\"}]},\"id\":\"e4e9d8ee-8027-4b54-8eac-95c37dbe3424\",\"type\":\"LegendItem\"},{\"attributes\":{\"data_source\":{\"id\":\"a365d76a-8ee8-4c10-b46c-995330ef483b\",\"type\":\"ColumnDataSource\"},\"glyph\":{\"id\":\"5f8fc821-67b1-490d-b265-8509b95db194\",\"type\":\"Rect\"},\"hover_glyph\":null,\"muted_glyph\":null},\"id\":\"7a4cbda5-81fd-4d53-b88c-68c0881d9949\",\"type\":\"GlyphRenderer\"},{\"attributes\":{\"callback\":null,\"column_names\":[\"line_color\",\"line_alpha\",\"color\",\"fill_alpha\",\"height\",\"width\",\"y\",\"x\",\"label\"],\"data\":{\"Female\":[\"Unknown\"],\"OutcomeType\":[\"Transfer\"],\"chart_index\":[{\"Female\":\"Unknown\",\"OutcomeType\":\"Transfer\"}],\"color\":[\"#407ee7\"],\"fill_alpha\":[0.8],\"height\":[955.0],\"label\":[{\"Female\":\"Unknown\",\"OutcomeType\":\"Transfer\"}],\"line_alpha\":[1.0],\"line_color\":[\"white\"],\"width\":[0.8],\"x\":[\"Transfer\"],\"y\":[8944.5]}},\"id\":\"0a1a3355-58af-4317-a941-3b16776be50b\",\"type\":\"ColumnDataSource\"},{\"attributes\":{\"callback\":null,\"column_names\":[\"line_color\",\"line_alpha\",\"color\",\"fill_alpha\",\"height\",\"width\",\"y\",\"x\",\"label\"],\"data\":{\"Female\":[\"Unknown\"],\"OutcomeType\":[\"Return_to_owner\"],\"chart_index\":[{\"Female\":\"Unknown\",\"OutcomeType\":\"Return_to_owner\"}],\"color\":[\"#407ee7\"],\"fill_alpha\":[0.8],\"height\":[12.0],\"label\":[{\"Female\":\"Unknown\",\"OutcomeType\":\"Return_to_owner\"}],\"line_alpha\":[1.0],\"line_color\":[\"white\"],\"width\":[0.8],\"x\":[\"Return_to_owner\"],\"y\":[4780.0]}},\"id\":\"a365d76a-8ee8-4c10-b46c-995330ef483b\",\"type\":\"ColumnDataSource\"},{\"attributes\":{},\"id\":\"9f5dd420-04c9-4765-91a2-9b8c758b93f4\",\"type\":\"CategoricalTicker\"},{\"attributes\":{\"callback\":null,\"column_names\":[\"line_color\",\"line_alpha\",\"color\",\"fill_alpha\",\"height\",\"width\",\"y\",\"x\",\"label\"],\"data\":{\"Female\":[\"Female\"],\"OutcomeType\":[\"Euthanasia\"],\"chart_index\":[{\"Female\":\"Female\",\"OutcomeType\":\"Euthanasia\"}],\"color\":[\"#f22c40\"],\"fill_alpha\":[0.8],\"height\":[633.0],\"label\":[{\"Female\":\"Female\",\"OutcomeType\":\"Euthanasia\"}],\"line_alpha\":[1.0],\"line_color\":[\"white\"],\"width\":[0.8],\"x\":[\"Euthanasia\"],\"y\":[316.5]}},\"id\":\"17445fc3-ec38-4b87-a2a5-f37a8e0fca83\",\"type\":\"ColumnDataSource\"},{\"attributes\":{\"callback\":null,\"column_names\":[\"line_color\",\"line_alpha\",\"color\",\"fill_alpha\",\"height\",\"width\",\"y\",\"x\",\"label\"],\"data\":{\"Female\":[\"Male\"],\"OutcomeType\":[\"Return_to_owner\"],\"chart_index\":[{\"Female\":\"Male\",\"OutcomeType\":\"Return_to_owner\"}],\"color\":[\"#5ab738\"],\"fill_alpha\":[0.8],\"height\":[2725.0],\"label\":[{\"Female\":\"Male\",\"OutcomeType\":\"Return_to_owner\"}],\"line_alpha\":[1.0],\"line_color\":[\"white\"],\"width\":[0.8],\"x\":[\"Return_to_owner\"],\"y\":[1362.5]}},\"id\":\"0d1fbc20-5c4e-464f-b095-250f3f6ca74f\",\"type\":\"ColumnDataSource\"},{\"attributes\":{\"plot\":{\"id\":\"e0e9c78d-19df-4656-b612-3cc2ae391e89\",\"subtype\":\"Chart\",\"type\":\"Plot\"}},\"id\":\"d395a202-4511-4d23-bf15-5e89c2bb9ee2\",\"type\":\"HelpTool\"},{\"attributes\":{\"callback\":null,\"column_names\":[\"line_color\",\"line_alpha\",\"color\",\"fill_alpha\",\"height\",\"width\",\"y\",\"x\",\"label\"],\"data\":{\"Female\":[\"Unknown\"],\"OutcomeType\":[\"Euthanasia\"],\"chart_index\":[{\"Female\":\"Unknown\",\"OutcomeType\":\"Euthanasia\"}],\"color\":[\"#407ee7\"],\"fill_alpha\":[0.8],\"height\":[101.0],\"label\":[{\"Female\":\"Unknown\",\"OutcomeType\":\"Euthanasia\"}],\"line_alpha\":[1.0],\"line_color\":[\"white\"],\"width\":[0.8],\"x\":[\"Euthanasia\"],\"y\":[1504.5]}},\"id\":\"69af2f89-1c8c-4b4a-809a-3efddde0d5d9\",\"type\":\"ColumnDataSource\"},{\"attributes\":{},\"id\":\"18b55100-4f66-4fa5-ab0a-f417e22e7ecb\",\"type\":\"ToolEvents\"},{\"attributes\":{\"data_source\":{\"id\":\"581e3522-1c10-4d4f-bae1-b6860c8b2c1d\",\"type\":\"ColumnDataSource\"},\"glyph\":{\"id\":\"dd9b08d5-0f1f-46a2-bbf3-194cf46321ac\",\"type\":\"Rect\"},\"hover_glyph\":null,\"muted_glyph\":null},\"id\":\"a4bb3af9-4b88-4bd3-a5b0-ee29dbefe271\",\"type\":\"GlyphRenderer\"},{\"attributes\":{\"callback\":null,\"column_names\":[\"line_color\",\"line_alpha\",\"color\",\"fill_alpha\",\"height\",\"width\",\"y\",\"x\",\"label\"],\"data\":{\"Female\":[\"Male\"],\"OutcomeType\":[\"Adoption\"],\"chart_index\":[{\"Female\":\"Male\",\"OutcomeType\":\"Adoption\"}],\"color\":[\"#5ab738\"],\"fill_alpha\":[0.8],\"height\":[5380.0],\"label\":[{\"Female\":\"Male\",\"OutcomeType\":\"Adoption\"}],\"line_alpha\":[1.0],\"line_color\":[\"white\"],\"width\":[0.8],\"x\":[\"Adoption\"],\"y\":[2690.0]}},\"id\":\"3b5b42e0-a401-40bc-8bf3-ea3b68cbac06\",\"type\":\"ColumnDataSource\"},{\"attributes\":{},\"id\":\"8ea3deec-5851-4360-9931-ecfc157d09dd\",\"type\":\"CategoricalTickFormatter\"},{\"attributes\":{\"label\":{\"value\":\"Unknown\"},\"renderers\":[{\"id\":\"0e595e79-0110-4dcf-aaf8-fa79f3149bb5\",\"type\":\"GlyphRenderer\"}]},\"id\":\"2cc0bdd7-1149-4153-b2bb-793da064706e\",\"type\":\"LegendItem\"},{\"attributes\":{\"callback\":null,\"column_names\":[\"line_color\",\"line_alpha\",\"color\",\"fill_alpha\",\"height\",\"width\",\"y\",\"x\",\"label\"],\"data\":{\"Female\":[\"Male\"],\"OutcomeType\":[\"Euthanasia\"],\"chart_index\":[{\"Female\":\"Male\",\"OutcomeType\":\"Euthanasia\"}],\"color\":[\"#5ab738\"],\"fill_alpha\":[0.8],\"height\":[821.0],\"label\":[{\"Female\":\"Male\",\"OutcomeType\":\"Euthanasia\"}],\"line_alpha\":[1.0],\"line_color\":[\"white\"],\"width\":[0.8],\"x\":[\"Euthanasia\"],\"y\":[1043.5]}},\"id\":\"b8adbaf2-4b7f-4dd7-b442-01df5dda88aa\",\"type\":\"ColumnDataSource\"},{\"attributes\":{\"data_source\":{\"id\":\"17445fc3-ec38-4b87-a2a5-f37a8e0fca83\",\"type\":\"ColumnDataSource\"},\"glyph\":{\"id\":\"4cf3c4f8-6e78-46b6-bf5d-944d99246959\",\"type\":\"Rect\"},\"hover_glyph\":null,\"muted_glyph\":null},\"id\":\"e5b8a09e-37cc-4d1b-8b52-d371325b1caf\",\"type\":\"GlyphRenderer\"},{\"attributes\":{\"fill_alpha\":{\"field\":\"fill_alpha\"},\"fill_color\":{\"field\":\"color\"},\"height\":{\"field\":\"height\",\"units\":\"data\"},\"line_color\":{\"field\":\"line_color\"},\"width\":{\"field\":\"width\",\"units\":\"data\"},\"x\":{\"field\":\"x\"},\"y\":{\"field\":\"y\"}},\"id\":\"c99e6509-1fa8-4181-b481-ca957566e23c\",\"type\":\"Rect\"},{\"attributes\":{\"below\":[{\"id\":\"14a550f9-7845-44af-9cca-41369e235c85\",\"type\":\"CategoricalAxis\"}],\"css_classes\":null,\"left\":[{\"id\":\"95ee7adf-fd6f-46d5-9440-41ea3352f8b9\",\"type\":\"LinearAxis\"}],\"renderers\":[{\"id\":\"6c1ab836-e345-46fb-82d9-ec8b2ca4de83\",\"type\":\"BoxAnnotation\"},{\"id\":\"d8844703-c132-4282-8d0f-1236e8ac01cf\",\"type\":\"GlyphRenderer\"},{\"id\":\"e5b8a09e-37cc-4d1b-8b52-d371325b1caf\",\"type\":\"GlyphRenderer\"},{\"id\":\"69d54daf-bc8d-4126-8d24-3d8906b7a352\",\"type\":\"GlyphRenderer\"},{\"id\":\"d1e21a24-bb74-44e4-a81c-288623803c20\",\"type\":\"GlyphRenderer\"},{\"id\":\"23b98a38-8626-43b5-9223-7d11c1f44d0e\",\"type\":\"GlyphRenderer\"},{\"id\":\"0e595e79-0110-4dcf-aaf8-fa79f3149bb5\",\"type\":\"GlyphRenderer\"},{\"id\":\"d5117ab3-e709-4989-be7f-a349d4d16269\",\"type\":\"GlyphRenderer\"},{\"id\":\"c9889878-7af0-4a2a-ac32-5e85c8c5be0d\",\"type\":\"GlyphRenderer\"},{\"id\":\"827220a2-1cf1-454b-b08b-17eaed5eb00e\",\"type\":\"GlyphRenderer\"},{\"id\":\"de4b77ba-0fa5-4d14-a96c-ecbbed15de43\",\"type\":\"GlyphRenderer\"},{\"id\":\"88d2ee88-b1d3-4d18-9fed-473465b83312\",\"type\":\"GlyphRenderer\"},{\"id\":\"b8565afe-7ce4-479c-889e-828b8c015b5a\",\"type\":\"GlyphRenderer\"},{\"id\":\"a4bb3af9-4b88-4bd3-a5b0-ee29dbefe271\",\"type\":\"GlyphRenderer\"},{\"id\":\"7a4cbda5-81fd-4d53-b88c-68c0881d9949\",\"type\":\"GlyphRenderer\"},{\"id\":\"16ac0c71-dc75-4fbc-a902-2156e4b8c4ca\",\"type\":\"Legend\"},{\"id\":\"14a550f9-7845-44af-9cca-41369e235c85\",\"type\":\"CategoricalAxis\"},{\"id\":\"95ee7adf-fd6f-46d5-9440-41ea3352f8b9\",\"type\":\"LinearAxis\"},{\"id\":\"939e01b3-62c9-4819-a1d2-c9058adb5d90\",\"type\":\"Grid\"}],\"title\":{\"id\":\"e29c283c-d65e-4b85-b5c9-c1317cba3ee9\",\"type\":\"Title\"},\"tool_events\":{\"id\":\"18b55100-4f66-4fa5-ab0a-f417e22e7ecb\",\"type\":\"ToolEvents\"},\"toolbar\":{\"id\":\"d93ce26d-98f4-43fe-85ab-2d2919fcd70a\",\"type\":\"Toolbar\"},\"x_mapper_type\":\"auto\",\"x_range\":{\"id\":\"4ddb3858-c7ee-4ec9-b3d9-0f38f2368dc1\",\"type\":\"FactorRange\"},\"y_mapper_type\":\"auto\",\"y_range\":{\"id\":\"b11525db-3edb-4189-afe0-280dd55557fa\",\"type\":\"Range1d\"}},\"id\":\"e0e9c78d-19df-4656-b612-3cc2ae391e89\",\"subtype\":\"Chart\",\"type\":\"Plot\"},{\"attributes\":{\"plot\":{\"id\":\"e0e9c78d-19df-4656-b612-3cc2ae391e89\",\"subtype\":\"Chart\",\"type\":\"Plot\"}},\"id\":\"193ec951-8a25-42b2-8f76-7cc5eb37dfa2\",\"type\":\"SaveTool\"},{\"attributes\":{\"callback\":null,\"column_names\":[\"line_color\",\"line_alpha\",\"color\",\"fill_alpha\",\"height\",\"width\",\"y\",\"x\",\"label\"],\"data\":{\"Female\":[\"Female\"],\"OutcomeType\":[\"Adoption\"],\"chart_index\":[{\"Female\":\"Female\",\"OutcomeType\":\"Adoption\"}],\"color\":[\"#f22c40\"],\"fill_alpha\":[0.8],\"height\":[5389.0],\"label\":[{\"Female\":\"Female\",\"OutcomeType\":\"Adoption\"}],\"line_alpha\":[1.0],\"line_color\":[\"white\"],\"width\":[0.8],\"x\":[\"Adoption\"],\"y\":[8074.5]}},\"id\":\"188acd09-de04-4785-bc9a-de1f2e6751ab\",\"type\":\"ColumnDataSource\"},{\"attributes\":{\"overlay\":{\"id\":\"6c1ab836-e345-46fb-82d9-ec8b2ca4de83\",\"type\":\"BoxAnnotation\"},\"plot\":{\"id\":\"e0e9c78d-19df-4656-b612-3cc2ae391e89\",\"subtype\":\"Chart\",\"type\":\"Plot\"}},\"id\":\"13242c49-dcf8-4d41-b4de-b864080fdf16\",\"type\":\"BoxZoomTool\"},{\"attributes\":{\"axis_label\":\"Outcometype\",\"formatter\":{\"id\":\"8ea3deec-5851-4360-9931-ecfc157d09dd\",\"type\":\"CategoricalTickFormatter\"},\"major_label_orientation\":0.7853981633974483,\"plot\":{\"id\":\"e0e9c78d-19df-4656-b612-3cc2ae391e89\",\"subtype\":\"Chart\",\"type\":\"Plot\"},\"ticker\":{\"id\":\"9f5dd420-04c9-4765-91a2-9b8c758b93f4\",\"type\":\"CategoricalTicker\"}},\"id\":\"14a550f9-7845-44af-9cca-41369e235c85\",\"type\":\"CategoricalAxis\"},{\"attributes\":{\"data_source\":{\"id\":\"b8adbaf2-4b7f-4dd7-b442-01df5dda88aa\",\"type\":\"ColumnDataSource\"},\"glyph\":{\"id\":\"fe0273a1-4e8e-4e58-993d-3fe945290563\",\"type\":\"Rect\"},\"hover_glyph\":null,\"muted_glyph\":null},\"id\":\"c9889878-7af0-4a2a-ac32-5e85c8c5be0d\",\"type\":\"GlyphRenderer\"},{\"attributes\":{\"callback\":null,\"end\":11307.45},\"id\":\"b11525db-3edb-4189-afe0-280dd55557fa\",\"type\":\"Range1d\"},{\"attributes\":{\"data_source\":{\"id\":\"6f8d0188-4446-4c2b-9f19-a904a2b64304\",\"type\":\"ColumnDataSource\"},\"glyph\":{\"id\":\"d5763aba-c045-4c3e-a403-dc26178cc103\",\"type\":\"Rect\"},\"hover_glyph\":null,\"muted_glyph\":null},\"id\":\"88d2ee88-b1d3-4d18-9fed-473465b83312\",\"type\":\"GlyphRenderer\"},{\"attributes\":{\"callback\":null,\"column_names\":[\"line_color\",\"line_alpha\",\"color\",\"fill_alpha\",\"height\",\"width\",\"y\",\"x\",\"label\"],\"data\":{\"Female\":[\"Female\"],\"OutcomeType\":[\"Died\"],\"chart_index\":[{\"Female\":\"Female\",\"OutcomeType\":\"Died\"}],\"color\":[\"#f22c40\"],\"fill_alpha\":[0.8],\"height\":[74.0],\"label\":[{\"Female\":\"Female\",\"OutcomeType\":\"Died\"}],\"line_alpha\":[1.0],\"line_color\":[\"white\"],\"width\":[0.8],\"x\":[\"Died\"],\"y\":[160.0]}},\"id\":\"581e3522-1c10-4d4f-bae1-b6860c8b2c1d\",\"type\":\"ColumnDataSource\"},{\"attributes\":{\"active_drag\":\"auto\",\"active_scroll\":\"auto\",\"active_tap\":\"auto\",\"tools\":[{\"id\":\"bc0769a0-f6e5-4261-bb5c-d63f09c26276\",\"type\":\"PanTool\"},{\"id\":\"e16a4a5f-40fc-4f14-9540-46cc4f2a56af\",\"type\":\"WheelZoomTool\"},{\"id\":\"13242c49-dcf8-4d41-b4de-b864080fdf16\",\"type\":\"BoxZoomTool\"},{\"id\":\"193ec951-8a25-42b2-8f76-7cc5eb37dfa2\",\"type\":\"SaveTool\"},{\"id\":\"f406c233-fde9-4d06-b291-2e2101816839\",\"type\":\"ResetTool\"},{\"id\":\"d395a202-4511-4d23-bf15-5e89c2bb9ee2\",\"type\":\"HelpTool\"}]},\"id\":\"d93ce26d-98f4-43fe-85ab-2d2919fcd70a\",\"type\":\"Toolbar\"},{\"attributes\":{\"callback\":null,\"column_names\":[\"line_color\",\"line_alpha\",\"color\",\"fill_alpha\",\"height\",\"width\",\"y\",\"x\",\"label\"],\"data\":{\"Female\":[\"Female\"],\"OutcomeType\":[\"Transfer\"],\"chart_index\":[{\"Female\":\"Female\",\"OutcomeType\":\"Transfer\"}],\"color\":[\"#f22c40\"],\"fill_alpha\":[0.8],\"height\":[4186.0],\"label\":[{\"Female\":\"Female\",\"OutcomeType\":\"Transfer\"}],\"line_alpha\":[1.0],\"line_color\":[\"white\"],\"width\":[0.8],\"x\":[\"Transfer\"],\"y\":[6374.0]}},\"id\":\"e829d48a-cb29-4dcd-b01a-be24c23e0a54\",\"type\":\"ColumnDataSource\"},{\"attributes\":{\"fill_alpha\":{\"field\":\"fill_alpha\"},\"fill_color\":{\"field\":\"color\"},\"height\":{\"field\":\"height\",\"units\":\"data\"},\"line_color\":{\"field\":\"line_color\"},\"width\":{\"field\":\"width\",\"units\":\"data\"},\"x\":{\"field\":\"x\"},\"y\":{\"field\":\"y\"}},\"id\":\"83f81652-4086-4ebd-a826-39843dba665f\",\"type\":\"Rect\"},{\"attributes\":{\"fill_alpha\":{\"field\":\"fill_alpha\"},\"fill_color\":{\"field\":\"color\"},\"height\":{\"field\":\"height\",\"units\":\"data\"},\"line_color\":{\"field\":\"line_color\"},\"width\":{\"field\":\"width\",\"units\":\"data\"},\"x\":{\"field\":\"x\"},\"y\":{\"field\":\"y\"}},\"id\":\"d5763aba-c045-4c3e-a403-dc26178cc103\",\"type\":\"Rect\"},{\"attributes\":{\"fill_alpha\":{\"field\":\"fill_alpha\"},\"fill_color\":{\"field\":\"color\"},\"height\":{\"field\":\"height\",\"units\":\"data\"},\"line_color\":{\"field\":\"line_color\"},\"width\":{\"field\":\"width\",\"units\":\"data\"},\"x\":{\"field\":\"x\"},\"y\":{\"field\":\"y\"}},\"id\":\"dc09c683-85c8-4bf1-a8f5-e0343bc86570\",\"type\":\"Rect\"},{\"attributes\":{\"plot\":{\"id\":\"e0e9c78d-19df-4656-b612-3cc2ae391e89\",\"subtype\":\"Chart\",\"type\":\"Plot\"}},\"id\":\"f406c233-fde9-4d06-b291-2e2101816839\",\"type\":\"ResetTool\"},{\"attributes\":{\"bottom_units\":\"screen\",\"fill_alpha\":{\"value\":0.5},\"fill_color\":{\"value\":\"lightgrey\"},\"left_units\":\"screen\",\"level\":\"overlay\",\"line_alpha\":{\"value\":1.0},\"line_color\":{\"value\":\"black\"},\"line_dash\":[4,4],\"line_width\":{\"value\":2},\"plot\":null,\"render_mode\":\"css\",\"right_units\":\"screen\",\"top_units\":\"screen\"},\"id\":\"6c1ab836-e345-46fb-82d9-ec8b2ca4de83\",\"type\":\"BoxAnnotation\"},{\"attributes\":{\"callback\":null,\"column_names\":[\"line_color\",\"line_alpha\",\"color\",\"fill_alpha\",\"height\",\"width\",\"y\",\"x\",\"label\"],\"data\":{\"Female\":[\"Male\"],\"OutcomeType\":[\"Transfer\"],\"chart_index\":[{\"Female\":\"Male\",\"OutcomeType\":\"Transfer\"}],\"color\":[\"#5ab738\"],\"fill_alpha\":[0.8],\"height\":[4281.0],\"label\":[{\"Female\":\"Male\",\"OutcomeType\":\"Transfer\"}],\"line_alpha\":[1.0],\"line_color\":[\"white\"],\"width\":[0.8],\"x\":[\"Transfer\"],\"y\":[2140.5]}},\"id\":\"b3bdc4d3-bcef-4ace-84df-22c1fa912714\",\"type\":\"ColumnDataSource\"},{\"attributes\":{\"fill_alpha\":{\"field\":\"fill_alpha\"},\"fill_color\":{\"field\":\"color\"},\"height\":{\"field\":\"height\",\"units\":\"data\"},\"line_color\":{\"field\":\"line_color\"},\"width\":{\"field\":\"width\",\"units\":\"data\"},\"x\":{\"field\":\"x\"},\"y\":{\"field\":\"y\"}},\"id\":\"4cf3c4f8-6e78-46b6-bf5d-944d99246959\",\"type\":\"Rect\"},{\"attributes\":{\"fill_alpha\":{\"field\":\"fill_alpha\"},\"fill_color\":{\"field\":\"color\"},\"height\":{\"field\":\"height\",\"units\":\"data\"},\"line_color\":{\"field\":\"line_color\"},\"width\":{\"field\":\"width\",\"units\":\"data\"},\"x\":{\"field\":\"x\"},\"y\":{\"field\":\"y\"}},\"id\":\"52a2e2d6-1abb-4929-9ff9-7e8b8073619b\",\"type\":\"Rect\"}],\"root_ids\":[\"e0e9c78d-19df-4656-b612-3cc2ae391e89\"]},\"title\":\"Bokeh Application\",\"version\":\"0.12.5\"}};\n",
       "            var render_items = [{\"docid\":\"d3cba17c-23c1-4bad-bdb5-9995fa00d301\",\"elementid\":\"711754e6-f798-4b8d-98d1-668b0b671c51\",\"modelid\":\"e0e9c78d-19df-4656-b612-3cc2ae391e89\"}];\n",
       "            \n",
       "            Bokeh.embed.embed_items(docs_json, render_items);\n",
       "          };\n",
       "          if (document.readyState != \"loading\") fn();\n",
       "          else document.addEventListener(\"DOMContentLoaded\", fn);\n",
       "        })();\n",
       "      },\n",
       "      function(Bokeh) {\n",
       "      }\n",
       "    ];\n",
       "  \n",
       "    function run_inline_js() {\n",
       "      \n",
       "      if ((window.Bokeh !== undefined) || (force === true)) {\n",
       "        for (var i = 0; i < inline_js.length; i++) {\n",
       "          inline_js[i](window.Bokeh);\n",
       "        }if (force === true) {\n",
       "          display_loaded();\n",
       "        }} else if (Date.now() < window._bokeh_timeout) {\n",
       "        setTimeout(run_inline_js, 100);\n",
       "      } else if (!window._bokeh_failed_load) {\n",
       "        console.log(\"Bokeh: BokehJS failed to load within specified timeout.\");\n",
       "        window._bokeh_failed_load = true;\n",
       "      } else if (force !== true) {\n",
       "        var cell = $(document.getElementById(\"711754e6-f798-4b8d-98d1-668b0b671c51\")).parents('.cell').data().cell;\n",
       "        cell.output_area.append_execute_result(NB_LOAD_WARNING)\n",
       "      }\n",
       "  \n",
       "    }\n",
       "  \n",
       "    if (window._bokeh_is_loading === 0) {\n",
       "      console.log(\"Bokeh: BokehJS loaded, going straight to plotting\");\n",
       "      run_inline_js();\n",
       "    } else {\n",
       "      load_libs(js_urls, function() {\n",
       "        console.log(\"Bokeh: BokehJS plotting callback run at\", now());\n",
       "        run_inline_js();\n",
       "      });\n",
       "    }\n",
       "  }(this));\n",
       "</script>"
      ]
     },
     "metadata": {},
     "output_type": "display_data"
    }
   ],
   "source": [
    "p = Bar(data, label='OutcomeType', values = 'Female', agg='count', stack='Female',\n",
    "        title=\"Outcomes by Female\", legend='top_right')\n",
    "show(p)"
   ]
  },
  {
   "cell_type": "code",
   "execution_count": 20,
   "metadata": {
    "collapsed": false
   },
   "outputs": [
    {
     "data": {
      "text/html": [
       "\n",
       "\n",
       "    <div class=\"bk-root\">\n",
       "        <div class=\"bk-plotdiv\" id=\"9e5229b1-ab1b-424c-8715-b230bbd2108f\"></div>\n",
       "    </div>\n",
       "<script type=\"text/javascript\">\n",
       "  \n",
       "  (function(global) {\n",
       "    function now() {\n",
       "      return new Date();\n",
       "    }\n",
       "  \n",
       "    var force = false;\n",
       "  \n",
       "    if (typeof (window._bokeh_onload_callbacks) === \"undefined\" || force === true) {\n",
       "      window._bokeh_onload_callbacks = [];\n",
       "      window._bokeh_is_loading = undefined;\n",
       "    }\n",
       "  \n",
       "  \n",
       "    \n",
       "    if (typeof (window._bokeh_timeout) === \"undefined\" || force === true) {\n",
       "      window._bokeh_timeout = Date.now() + 0;\n",
       "      window._bokeh_failed_load = false;\n",
       "    }\n",
       "  \n",
       "    var NB_LOAD_WARNING = {'data': {'text/html':\n",
       "       \"<div style='background-color: #fdd'>\\n\"+\n",
       "       \"<p>\\n\"+\n",
       "       \"BokehJS does not appear to have successfully loaded. If loading BokehJS from CDN, this \\n\"+\n",
       "       \"may be due to a slow or bad network connection. Possible fixes:\\n\"+\n",
       "       \"</p>\\n\"+\n",
       "       \"<ul>\\n\"+\n",
       "       \"<li>re-rerun `output_notebook()` to attempt to load from CDN again, or</li>\\n\"+\n",
       "       \"<li>use INLINE resources instead, as so:</li>\\n\"+\n",
       "       \"</ul>\\n\"+\n",
       "       \"<code>\\n\"+\n",
       "       \"from bokeh.resources import INLINE\\n\"+\n",
       "       \"output_notebook(resources=INLINE)\\n\"+\n",
       "       \"</code>\\n\"+\n",
       "       \"</div>\"}};\n",
       "  \n",
       "    function display_loaded() {\n",
       "      if (window.Bokeh !== undefined) {\n",
       "        var el = document.getElementById(\"9e5229b1-ab1b-424c-8715-b230bbd2108f\");\n",
       "        el.textContent = \"BokehJS \" + Bokeh.version + \" successfully loaded.\";\n",
       "      } else if (Date.now() < window._bokeh_timeout) {\n",
       "        setTimeout(display_loaded, 100)\n",
       "      }\n",
       "    }\n",
       "  \n",
       "    function run_callbacks() {\n",
       "      window._bokeh_onload_callbacks.forEach(function(callback) { callback() });\n",
       "      delete window._bokeh_onload_callbacks\n",
       "      console.info(\"Bokeh: all callbacks have finished\");\n",
       "    }\n",
       "  \n",
       "    function load_libs(js_urls, callback) {\n",
       "      window._bokeh_onload_callbacks.push(callback);\n",
       "      if (window._bokeh_is_loading > 0) {\n",
       "        console.log(\"Bokeh: BokehJS is being loaded, scheduling callback at\", now());\n",
       "        return null;\n",
       "      }\n",
       "      if (js_urls == null || js_urls.length === 0) {\n",
       "        run_callbacks();\n",
       "        return null;\n",
       "      }\n",
       "      console.log(\"Bokeh: BokehJS not loaded, scheduling load and callback at\", now());\n",
       "      window._bokeh_is_loading = js_urls.length;\n",
       "      for (var i = 0; i < js_urls.length; i++) {\n",
       "        var url = js_urls[i];\n",
       "        var s = document.createElement('script');\n",
       "        s.src = url;\n",
       "        s.async = false;\n",
       "        s.onreadystatechange = s.onload = function() {\n",
       "          window._bokeh_is_loading--;\n",
       "          if (window._bokeh_is_loading === 0) {\n",
       "            console.log(\"Bokeh: all BokehJS libraries loaded\");\n",
       "            run_callbacks()\n",
       "          }\n",
       "        };\n",
       "        s.onerror = function() {\n",
       "          console.warn(\"failed to load library \" + url);\n",
       "        };\n",
       "        console.log(\"Bokeh: injecting script tag for BokehJS library: \", url);\n",
       "        document.getElementsByTagName(\"head\")[0].appendChild(s);\n",
       "      }\n",
       "    };var element = document.getElementById(\"9e5229b1-ab1b-424c-8715-b230bbd2108f\");\n",
       "    if (element == null) {\n",
       "      console.log(\"Bokeh: ERROR: autoload.js configured with elementid '9e5229b1-ab1b-424c-8715-b230bbd2108f' but no matching script tag was found. \")\n",
       "      return false;\n",
       "    }\n",
       "  \n",
       "    var js_urls = [];\n",
       "  \n",
       "    var inline_js = [\n",
       "      function(Bokeh) {\n",
       "        (function() {\n",
       "          var fn = function() {\n",
       "            var docs_json = {\"c021695a-7c3b-43e1-94c6-5ef488d0c651\":{\"roots\":{\"references\":[{\"attributes\":{\"fill_alpha\":{\"field\":\"fill_alpha\"},\"fill_color\":{\"field\":\"color\"},\"height\":{\"field\":\"height\",\"units\":\"data\"},\"line_color\":{\"field\":\"line_color\"},\"width\":{\"field\":\"width\",\"units\":\"data\"},\"x\":{\"field\":\"x\"},\"y\":{\"field\":\"y\"}},\"id\":\"44d6c096-dd33-472d-91fd-049bee128693\",\"type\":\"Rect\"},{\"attributes\":{\"data_source\":{\"id\":\"efaf5980-0da6-4006-be6b-f3bc66bb3a1c\",\"type\":\"ColumnDataSource\"},\"glyph\":{\"id\":\"96733c86-9efb-4196-a781-b753b10442fb\",\"type\":\"Rect\"},\"hover_glyph\":null,\"muted_glyph\":null},\"id\":\"3b80044b-3eca-4697-aed6-29db15eba7b9\",\"type\":\"GlyphRenderer\"},{\"attributes\":{\"fill_alpha\":{\"field\":\"fill_alpha\"},\"fill_color\":{\"field\":\"color\"},\"height\":{\"field\":\"height\",\"units\":\"data\"},\"line_color\":{\"field\":\"line_color\"},\"width\":{\"field\":\"width\",\"units\":\"data\"},\"x\":{\"field\":\"x\"},\"y\":{\"field\":\"y\"}},\"id\":\"3637e826-f496-4a47-a695-ed7de696659a\",\"type\":\"Rect\"},{\"attributes\":{\"data_source\":{\"id\":\"d396318a-ea71-4df8-9d15-72b0925434f3\",\"type\":\"ColumnDataSource\"},\"glyph\":{\"id\":\"262d4319-86d8-4273-bbf4-e02a31edb096\",\"type\":\"Rect\"},\"hover_glyph\":null,\"muted_glyph\":null},\"id\":\"de8a2f88-9d4a-4210-8faa-77c1f77f6973\",\"type\":\"GlyphRenderer\"},{\"attributes\":{\"data_source\":{\"id\":\"dbae0c64-0497-4524-b940-bced187af045\",\"type\":\"ColumnDataSource\"},\"glyph\":{\"id\":\"3637e826-f496-4a47-a695-ed7de696659a\",\"type\":\"Rect\"},\"hover_glyph\":null,\"muted_glyph\":null},\"id\":\"9a5ce89a-0425-4e81-ba31-12d65fdce9b2\",\"type\":\"GlyphRenderer\"},{\"attributes\":{\"active_drag\":\"auto\",\"active_scroll\":\"auto\",\"active_tap\":\"auto\",\"tools\":[{\"id\":\"510f6949-ed23-4076-9bc6-ff001deb874c\",\"type\":\"PanTool\"},{\"id\":\"e265e1da-7a06-4452-b208-cb5b15834f31\",\"type\":\"WheelZoomTool\"},{\"id\":\"1ee5c94e-391d-420f-bfa3-80dcc978c7a9\",\"type\":\"BoxZoomTool\"},{\"id\":\"5425b8aa-e7fc-45b4-a24b-96e2fd6c3613\",\"type\":\"SaveTool\"},{\"id\":\"e1ba8894-58c9-461b-84da-ac13298daa23\",\"type\":\"ResetTool\"},{\"id\":\"df6e8a81-def6-4ad2-8102-728cbb3ee000\",\"type\":\"HelpTool\"}]},\"id\":\"c09e876f-9859-4f96-a3b6-57e8aef9b96f\",\"type\":\"Toolbar\"},{\"attributes\":{\"label\":{\"value\":\"Mixed Breed\"},\"renderers\":[{\"id\":\"8c5e8598-2a1f-43ca-8485-fd7191774b50\",\"type\":\"GlyphRenderer\"}]},\"id\":\"c2eca4a6-ac9d-42f7-86a1-af89898df591\",\"type\":\"LegendItem\"},{\"attributes\":{\"data_source\":{\"id\":\"079336ae-739a-4541-919c-a9f8f54e039b\",\"type\":\"ColumnDataSource\"},\"glyph\":{\"id\":\"637b88f7-7acd-40c8-a908-fafd2647e46c\",\"type\":\"Rect\"},\"hover_glyph\":null,\"muted_glyph\":null},\"id\":\"5f976552-7667-4677-b291-096b3b7479ed\",\"type\":\"GlyphRenderer\"},{\"attributes\":{\"callback\":null,\"factors\":[\"Adoption\",\"Died\",\"Euthanasia\",\"Return_to_owner\",\"Transfer\"]},\"id\":\"2372683b-9cb4-4678-99a9-18a063415072\",\"type\":\"FactorRange\"},{\"attributes\":{\"data_source\":{\"id\":\"55911e81-8955-4e12-996a-dad03616fa7b\",\"type\":\"ColumnDataSource\"},\"glyph\":{\"id\":\"44d6c096-dd33-472d-91fd-049bee128693\",\"type\":\"Rect\"},\"hover_glyph\":null,\"muted_glyph\":null},\"id\":\"aaf965d3-6b7f-4cc5-ada2-4be454c0d489\",\"type\":\"GlyphRenderer\"},{\"attributes\":{\"data_source\":{\"id\":\"1b1a89a2-2102-4710-9fd0-b9ef900646eb\",\"type\":\"ColumnDataSource\"},\"glyph\":{\"id\":\"388e58a6-a045-46d9-a888-a04178b6a904\",\"type\":\"Rect\"},\"hover_glyph\":null,\"muted_glyph\":null},\"id\":\"57422582-eb36-4d7d-a2da-d1b29dce57cc\",\"type\":\"GlyphRenderer\"},{\"attributes\":{\"bottom_units\":\"screen\",\"fill_alpha\":{\"value\":0.5},\"fill_color\":{\"value\":\"lightgrey\"},\"left_units\":\"screen\",\"level\":\"overlay\",\"line_alpha\":{\"value\":1.0},\"line_color\":{\"value\":\"black\"},\"line_dash\":[4,4],\"line_width\":{\"value\":2},\"plot\":null,\"render_mode\":\"css\",\"right_units\":\"screen\",\"top_units\":\"screen\"},\"id\":\"e6058249-689b-43e0-9e27-6b93148d20b1\",\"type\":\"BoxAnnotation\"},{\"attributes\":{\"callback\":null,\"column_names\":[\"line_color\",\"line_alpha\",\"color\",\"fill_alpha\",\"height\",\"width\",\"y\",\"x\",\"label\"],\"data\":{\"MixedBreed\":[\"Nonmixed\"],\"OutcomeType\":[\"Euthanasia\"],\"chart_index\":[{\"MixedBreed\":\"Nonmixed\",\"OutcomeType\":\"Euthanasia\"}],\"color\":[\"#407ee7\"],\"fill_alpha\":[0.8],\"height\":[64.0],\"label\":[{\"MixedBreed\":\"Nonmixed\",\"OutcomeType\":\"Euthanasia\"}],\"line_alpha\":[1.0],\"line_color\":[\"white\"],\"width\":[0.8],\"x\":[\"Euthanasia\"],\"y\":[1523.0]}},\"id\":\"1c3e7a90-a9e5-4326-91f8-ee1524ac7ba0\",\"type\":\"ColumnDataSource\"},{\"attributes\":{},\"id\":\"6f857ec3-d314-4bdf-90cc-f0d5ae2c4a6e\",\"type\":\"BasicTickFormatter\"},{\"attributes\":{\"callback\":null,\"column_names\":[\"line_color\",\"line_alpha\",\"color\",\"fill_alpha\",\"height\",\"width\",\"y\",\"x\",\"label\"],\"data\":{\"MixedBreed\":[\"Mixed Breed\"],\"OutcomeType\":[\"Adoption\"],\"chart_index\":[{\"MixedBreed\":\"Mixed Breed\",\"OutcomeType\":\"Adoption\"}],\"color\":[\"#5ab738\"],\"fill_alpha\":[0.8],\"height\":[8792.0],\"label\":[{\"MixedBreed\":\"Mixed Breed\",\"OutcomeType\":\"Adoption\"}],\"line_alpha\":[1.0],\"line_color\":[\"white\"],\"width\":[0.8],\"x\":[\"Adoption\"],\"y\":[4396.0]}},\"id\":\"1b05476c-4d69-49a6-8988-665890a716d5\",\"type\":\"ColumnDataSource\"},{\"attributes\":{\"data_source\":{\"id\":\"1b05476c-4d69-49a6-8988-665890a716d5\",\"type\":\"ColumnDataSource\"},\"glyph\":{\"id\":\"414b7e83-50b6-4da6-b312-5e0778a56ee0\",\"type\":\"Rect\"},\"hover_glyph\":null,\"muted_glyph\":null},\"id\":\"90396974-5388-4ae6-ad42-6c92869c1915\",\"type\":\"GlyphRenderer\"},{\"attributes\":{\"fill_alpha\":{\"field\":\"fill_alpha\"},\"fill_color\":{\"field\":\"color\"},\"height\":{\"field\":\"height\",\"units\":\"data\"},\"line_color\":{\"field\":\"line_color\"},\"width\":{\"field\":\"width\",\"units\":\"data\"},\"x\":{\"field\":\"x\"},\"y\":{\"field\":\"y\"}},\"id\":\"96733c86-9efb-4196-a781-b753b10442fb\",\"type\":\"Rect\"},{\"attributes\":{\"callback\":null,\"column_names\":[\"line_color\",\"line_alpha\",\"color\",\"fill_alpha\",\"height\",\"width\",\"y\",\"x\",\"label\"],\"data\":{\"MixedBreed\":[\"Mixed Breed\"],\"OutcomeType\":[\"Died\"],\"chart_index\":[{\"MixedBreed\":\"Mixed Breed\",\"OutcomeType\":\"Died\"}],\"color\":[\"#5ab738\"],\"fill_alpha\":[0.8],\"height\":[180.0],\"label\":[{\"MixedBreed\":\"Mixed Breed\",\"OutcomeType\":\"Died\"}],\"line_alpha\":[1.0],\"line_color\":[\"white\"],\"width\":[0.8],\"x\":[\"Died\"],\"y\":[90.0]}},\"id\":\"f5c1d43a-bc24-4286-b22a-442f7ae3d035\",\"type\":\"ColumnDataSource\"},{\"attributes\":{\"callback\":null,\"column_names\":[\"line_color\",\"line_alpha\",\"color\",\"fill_alpha\",\"height\",\"width\",\"y\",\"x\",\"label\"],\"data\":{\"MixedBreed\":[\"Nonmixed\"],\"OutcomeType\":[\"Transfer\"],\"chart_index\":[{\"MixedBreed\":\"Nonmixed\",\"OutcomeType\":\"Transfer\"}],\"color\":[\"#407ee7\"],\"fill_alpha\":[0.8],\"height\":[436.0],\"label\":[{\"MixedBreed\":\"Nonmixed\",\"OutcomeType\":\"Transfer\"}],\"line_alpha\":[1.0],\"line_color\":[\"white\"],\"width\":[0.8],\"x\":[\"Transfer\"],\"y\":[9204.0]}},\"id\":\"079336ae-739a-4541-919c-a9f8f54e039b\",\"type\":\"ColumnDataSource\"},{\"attributes\":{\"axis_label\":\"Count( Mixedbreed )\",\"formatter\":{\"id\":\"6f857ec3-d314-4bdf-90cc-f0d5ae2c4a6e\",\"type\":\"BasicTickFormatter\"},\"plot\":{\"id\":\"43d7d183-ef4e-4b3a-a180-ff886a577de7\",\"subtype\":\"Chart\",\"type\":\"Plot\"},\"ticker\":{\"id\":\"478243d2-678b-4550-b9b8-60997e326523\",\"type\":\"BasicTicker\"}},\"id\":\"ab7bdf2f-7a84-4008-ba9a-77909a2b4a1d\",\"type\":\"LinearAxis\"},{\"attributes\":{\"callback\":null,\"column_names\":[\"line_color\",\"line_alpha\",\"color\",\"fill_alpha\",\"height\",\"width\",\"y\",\"x\",\"label\"],\"data\":{\"MixedBreed\":[\"Nonmixed\"],\"OutcomeType\":[\"Return_to_owner\"],\"chart_index\":[{\"MixedBreed\":\"Nonmixed\",\"OutcomeType\":\"Return_to_owner\"}],\"color\":[\"#407ee7\"],\"fill_alpha\":[0.8],\"height\":[440.0],\"label\":[{\"MixedBreed\":\"Nonmixed\",\"OutcomeType\":\"Return_to_owner\"}],\"line_alpha\":[1.0],\"line_color\":[\"white\"],\"width\":[0.8],\"x\":[\"Return_to_owner\"],\"y\":[4566.0]}},\"id\":\"efaf5980-0da6-4006-be6b-f3bc66bb3a1c\",\"type\":\"ColumnDataSource\"},{\"attributes\":{\"fill_alpha\":{\"field\":\"fill_alpha\"},\"fill_color\":{\"field\":\"color\"},\"height\":{\"field\":\"height\",\"units\":\"data\"},\"line_color\":{\"field\":\"line_color\"},\"width\":{\"field\":\"width\",\"units\":\"data\"},\"x\":{\"field\":\"x\"},\"y\":{\"field\":\"y\"}},\"id\":\"637b88f7-7acd-40c8-a908-fafd2647e46c\",\"type\":\"Rect\"},{\"attributes\":{\"label\":{\"value\":\"Known Breed Combo\"},\"renderers\":[{\"id\":\"ca13638f-fe15-4da5-b474-6baf2ed2466b\",\"type\":\"GlyphRenderer\"}]},\"id\":\"c36e047b-67eb-4c7e-b96e-f0101aa168c4\",\"type\":\"LegendItem\"},{\"attributes\":{\"data_source\":{\"id\":\"3ff9dd7b-ecf0-4e72-8c9f-282edad03cfc\",\"type\":\"ColumnDataSource\"},\"glyph\":{\"id\":\"4f39bc45-18df-4f5d-a544-f13f70365d93\",\"type\":\"Rect\"},\"hover_glyph\":null,\"muted_glyph\":null},\"id\":\"ca13638f-fe15-4da5-b474-6baf2ed2466b\",\"type\":\"GlyphRenderer\"},{\"attributes\":{\"callback\":null,\"column_names\":[\"line_color\",\"line_alpha\",\"color\",\"fill_alpha\",\"height\",\"width\",\"y\",\"x\",\"label\"],\"data\":{\"MixedBreed\":[\"Nonmixed\"],\"OutcomeType\":[\"Died\"],\"chart_index\":[{\"MixedBreed\":\"Nonmixed\",\"OutcomeType\":\"Died\"}],\"color\":[\"#407ee7\"],\"fill_alpha\":[0.8],\"height\":[8.0],\"label\":[{\"MixedBreed\":\"Nonmixed\",\"OutcomeType\":\"Died\"}],\"line_alpha\":[1.0],\"line_color\":[\"white\"],\"width\":[0.8],\"x\":[\"Died\"],\"y\":[184.0]}},\"id\":\"dbae0c64-0497-4524-b940-bced187af045\",\"type\":\"ColumnDataSource\"},{\"attributes\":{\"callback\":null,\"column_names\":[\"line_color\",\"line_alpha\",\"color\",\"fill_alpha\",\"height\",\"width\",\"y\",\"x\",\"label\"],\"data\":{\"MixedBreed\":[\"Known Breed Combo\"],\"OutcomeType\":[\"Died\"],\"chart_index\":[{\"MixedBreed\":\"Known Breed Combo\",\"OutcomeType\":\"Died\"}],\"color\":[\"#f22c40\"],\"fill_alpha\":[0.8],\"height\":[9.0],\"label\":[{\"MixedBreed\":\"Known Breed Combo\",\"OutcomeType\":\"Died\"}],\"line_alpha\":[1.0],\"line_color\":[\"white\"],\"width\":[0.8],\"x\":[\"Died\"],\"y\":[192.5]}},\"id\":\"55911e81-8955-4e12-996a-dad03616fa7b\",\"type\":\"ColumnDataSource\"},{\"attributes\":{\"fill_alpha\":{\"field\":\"fill_alpha\"},\"fill_color\":{\"field\":\"color\"},\"height\":{\"field\":\"height\",\"units\":\"data\"},\"line_color\":{\"field\":\"line_color\"},\"width\":{\"field\":\"width\",\"units\":\"data\"},\"x\":{\"field\":\"x\"},\"y\":{\"field\":\"y\"}},\"id\":\"414b7e83-50b6-4da6-b312-5e0778a56ee0\",\"type\":\"Rect\"},{\"attributes\":{\"plot\":{\"id\":\"43d7d183-ef4e-4b3a-a180-ff886a577de7\",\"subtype\":\"Chart\",\"type\":\"Plot\"}},\"id\":\"5425b8aa-e7fc-45b4-a24b-96e2fd6c3613\",\"type\":\"SaveTool\"},{\"attributes\":{\"fill_alpha\":{\"field\":\"fill_alpha\"},\"fill_color\":{\"field\":\"color\"},\"height\":{\"field\":\"height\",\"units\":\"data\"},\"line_color\":{\"field\":\"line_color\"},\"width\":{\"field\":\"width\",\"units\":\"data\"},\"x\":{\"field\":\"x\"},\"y\":{\"field\":\"y\"}},\"id\":\"8ecc7352-fc67-493d-b726-3cbde947c9e0\",\"type\":\"Rect\"},{\"attributes\":{\"data_source\":{\"id\":\"355dc535-29b6-42f7-ba90-9f9c3836a999\",\"type\":\"ColumnDataSource\"},\"glyph\":{\"id\":\"1077099c-ca0a-4ebe-8eb7-80d687871a54\",\"type\":\"Rect\"},\"hover_glyph\":null,\"muted_glyph\":null},\"id\":\"338fae98-a653-41d2-a228-ca386f199e14\",\"type\":\"GlyphRenderer\"},{\"attributes\":{\"data_source\":{\"id\":\"f5c1d43a-bc24-4286-b22a-442f7ae3d035\",\"type\":\"ColumnDataSource\"},\"glyph\":{\"id\":\"018125db-8a65-4a33-9b56-ee7c0347ded4\",\"type\":\"Rect\"},\"hover_glyph\":null,\"muted_glyph\":null},\"id\":\"14a5d0a5-fd22-45c9-9fed-021064d381a0\",\"type\":\"GlyphRenderer\"},{\"attributes\":{\"plot\":null,\"text\":\"Outcomes by Breed Type\"},\"id\":\"e216b42c-c0b3-4ab4-b736-9defd447eaf3\",\"type\":\"Title\"},{\"attributes\":{\"dimension\":1,\"plot\":{\"id\":\"43d7d183-ef4e-4b3a-a180-ff886a577de7\",\"subtype\":\"Chart\",\"type\":\"Plot\"},\"ticker\":{\"id\":\"478243d2-678b-4550-b9b8-60997e326523\",\"type\":\"BasicTicker\"}},\"id\":\"267931ac-63e2-4129-bae0-a0accbf1ea74\",\"type\":\"Grid\"},{\"attributes\":{\"callback\":null,\"column_names\":[\"line_color\",\"line_alpha\",\"color\",\"fill_alpha\",\"height\",\"width\",\"y\",\"x\",\"label\"],\"data\":{\"MixedBreed\":[\"Known Breed Combo\"],\"OutcomeType\":[\"Adoption\"],\"chart_index\":[{\"MixedBreed\":\"Known Breed Combo\",\"OutcomeType\":\"Adoption\"}],\"color\":[\"#f22c40\"],\"fill_alpha\":[0.8],\"height\":[1534.0],\"label\":[{\"MixedBreed\":\"Known Breed Combo\",\"OutcomeType\":\"Adoption\"}],\"line_alpha\":[1.0],\"line_color\":[\"white\"],\"width\":[0.8],\"x\":[\"Adoption\"],\"y\":[10002.0]}},\"id\":\"1b1a89a2-2102-4710-9fd0-b9ef900646eb\",\"type\":\"ColumnDataSource\"},{\"attributes\":{\"fill_alpha\":{\"field\":\"fill_alpha\"},\"fill_color\":{\"field\":\"color\"},\"height\":{\"field\":\"height\",\"units\":\"data\"},\"line_color\":{\"field\":\"line_color\"},\"width\":{\"field\":\"width\",\"units\":\"data\"},\"x\":{\"field\":\"x\"},\"y\":{\"field\":\"y\"}},\"id\":\"388e58a6-a045-46d9-a888-a04178b6a904\",\"type\":\"Rect\"},{\"attributes\":{\"fill_alpha\":{\"field\":\"fill_alpha\"},\"fill_color\":{\"field\":\"color\"},\"height\":{\"field\":\"height\",\"units\":\"data\"},\"line_color\":{\"field\":\"line_color\"},\"width\":{\"field\":\"width\",\"units\":\"data\"},\"x\":{\"field\":\"x\"},\"y\":{\"field\":\"y\"}},\"id\":\"50daa64b-b3b1-4e2d-bcd0-452208b064ba\",\"type\":\"Rect\"},{\"attributes\":{\"fill_alpha\":{\"field\":\"fill_alpha\"},\"fill_color\":{\"field\":\"color\"},\"height\":{\"field\":\"height\",\"units\":\"data\"},\"line_color\":{\"field\":\"line_color\"},\"width\":{\"field\":\"width\",\"units\":\"data\"},\"x\":{\"field\":\"x\"},\"y\":{\"field\":\"y\"}},\"id\":\"1077099c-ca0a-4ebe-8eb7-80d687871a54\",\"type\":\"Rect\"},{\"attributes\":{},\"id\":\"84ed0cac-abf8-4120-afe7-dc9dfccffba4\",\"type\":\"CategoricalTicker\"},{\"attributes\":{\"items\":[{\"id\":\"c2eca4a6-ac9d-42f7-86a1-af89898df591\",\"type\":\"LegendItem\"},{\"id\":\"c36e047b-67eb-4c7e-b96e-f0101aa168c4\",\"type\":\"LegendItem\"},{\"id\":\"30b888ef-6f9b-4f43-abd1-940ae72bacdd\",\"type\":\"LegendItem\"}],\"plot\":{\"id\":\"43d7d183-ef4e-4b3a-a180-ff886a577de7\",\"subtype\":\"Chart\",\"type\":\"Plot\"}},\"id\":\"637b64e6-e299-4431-83f2-6441568e69ac\",\"type\":\"Legend\"},{\"attributes\":{\"callback\":null,\"column_names\":[\"line_color\",\"line_alpha\",\"color\",\"fill_alpha\",\"height\",\"width\",\"y\",\"x\",\"label\"],\"data\":{\"MixedBreed\":[\"Nonmixed\"],\"OutcomeType\":[\"Adoption\"],\"chart_index\":[{\"MixedBreed\":\"Nonmixed\",\"OutcomeType\":\"Adoption\"}],\"color\":[\"#407ee7\"],\"fill_alpha\":[0.8],\"height\":[443.0],\"label\":[{\"MixedBreed\":\"Nonmixed\",\"OutcomeType\":\"Adoption\"}],\"line_alpha\":[1.0],\"line_color\":[\"white\"],\"width\":[0.8],\"x\":[\"Adoption\"],\"y\":[9013.5]}},\"id\":\"355dc535-29b6-42f7-ba90-9f9c3836a999\",\"type\":\"ColumnDataSource\"},{\"attributes\":{\"callback\":null,\"column_names\":[\"line_color\",\"line_alpha\",\"color\",\"fill_alpha\",\"height\",\"width\",\"y\",\"x\",\"label\"],\"data\":{\"MixedBreed\":[\"Mixed Breed\"],\"OutcomeType\":[\"Euthanasia\"],\"chart_index\":[{\"MixedBreed\":\"Mixed Breed\",\"OutcomeType\":\"Euthanasia\"}],\"color\":[\"#5ab738\"],\"fill_alpha\":[0.8],\"height\":[1364.0],\"label\":[{\"MixedBreed\":\"Mixed Breed\",\"OutcomeType\":\"Euthanasia\"}],\"line_alpha\":[1.0],\"line_color\":[\"white\"],\"width\":[0.8],\"x\":[\"Euthanasia\"],\"y\":[682.0]}},\"id\":\"d396318a-ea71-4df8-9d15-72b0925434f3\",\"type\":\"ColumnDataSource\"},{\"attributes\":{\"axis_label\":\"Outcometype\",\"formatter\":{\"id\":\"91ce88ac-82b2-4661-8937-6face737905d\",\"type\":\"CategoricalTickFormatter\"},\"major_label_orientation\":0.7853981633974483,\"plot\":{\"id\":\"43d7d183-ef4e-4b3a-a180-ff886a577de7\",\"subtype\":\"Chart\",\"type\":\"Plot\"},\"ticker\":{\"id\":\"84ed0cac-abf8-4120-afe7-dc9dfccffba4\",\"type\":\"CategoricalTicker\"}},\"id\":\"fca4bbe9-be4e-47f4-9854-b1a3e9c76125\",\"type\":\"CategoricalAxis\"},{\"attributes\":{\"fill_alpha\":{\"field\":\"fill_alpha\"},\"fill_color\":{\"field\":\"color\"},\"height\":{\"field\":\"height\",\"units\":\"data\"},\"line_color\":{\"field\":\"line_color\"},\"width\":{\"field\":\"width\",\"units\":\"data\"},\"x\":{\"field\":\"x\"},\"y\":{\"field\":\"y\"}},\"id\":\"4528254b-5ba6-4555-8ee8-5c76e7d71af3\",\"type\":\"Rect\"},{\"attributes\":{\"callback\":null,\"end\":11307.45},\"id\":\"a7f950cc-dd27-4ddd-b610-8d54cb828799\",\"type\":\"Range1d\"},{\"attributes\":{\"data_source\":{\"id\":\"86d6c729-0aad-4670-8a53-7bf70ede58c7\",\"type\":\"ColumnDataSource\"},\"glyph\":{\"id\":\"116805b1-24fa-4ac4-a076-54d934414036\",\"type\":\"Rect\"},\"hover_glyph\":null,\"muted_glyph\":null},\"id\":\"3ad76384-81f9-4672-bd0a-d9d517864bca\",\"type\":\"GlyphRenderer\"},{\"attributes\":{\"fill_alpha\":{\"field\":\"fill_alpha\"},\"fill_color\":{\"field\":\"color\"},\"height\":{\"field\":\"height\",\"units\":\"data\"},\"line_color\":{\"field\":\"line_color\"},\"width\":{\"field\":\"width\",\"units\":\"data\"},\"x\":{\"field\":\"x\"},\"y\":{\"field\":\"y\"}},\"id\":\"018125db-8a65-4a33-9b56-ee7c0347ded4\",\"type\":\"Rect\"},{\"attributes\":{\"fill_alpha\":{\"field\":\"fill_alpha\"},\"fill_color\":{\"field\":\"color\"},\"height\":{\"field\":\"height\",\"units\":\"data\"},\"line_color\":{\"field\":\"line_color\"},\"width\":{\"field\":\"width\",\"units\":\"data\"},\"x\":{\"field\":\"x\"},\"y\":{\"field\":\"y\"}},\"id\":\"262d4319-86d8-4273-bbf4-e02a31edb096\",\"type\":\"Rect\"},{\"attributes\":{\"fill_alpha\":{\"field\":\"fill_alpha\"},\"fill_color\":{\"field\":\"color\"},\"height\":{\"field\":\"height\",\"units\":\"data\"},\"line_color\":{\"field\":\"line_color\"},\"width\":{\"field\":\"width\",\"units\":\"data\"},\"x\":{\"field\":\"x\"},\"y\":{\"field\":\"y\"}},\"id\":\"116805b1-24fa-4ac4-a076-54d934414036\",\"type\":\"Rect\"},{\"attributes\":{\"plot\":{\"id\":\"43d7d183-ef4e-4b3a-a180-ff886a577de7\",\"subtype\":\"Chart\",\"type\":\"Plot\"}},\"id\":\"510f6949-ed23-4076-9bc6-ff001deb874c\",\"type\":\"PanTool\"},{\"attributes\":{\"data_source\":{\"id\":\"f69be8ab-7404-44ed-8d9c-00990cc8fc90\",\"type\":\"ColumnDataSource\"},\"glyph\":{\"id\":\"50daa64b-b3b1-4e2d-bcd0-452208b064ba\",\"type\":\"Rect\"},\"hover_glyph\":null,\"muted_glyph\":null},\"id\":\"94934f3a-7964-49c4-904d-a6274c067d91\",\"type\":\"GlyphRenderer\"},{\"attributes\":{\"callback\":null,\"column_names\":[\"line_color\",\"line_alpha\",\"color\",\"fill_alpha\",\"height\",\"width\",\"y\",\"x\",\"label\"],\"data\":{\"MixedBreed\":[\"Known Breed Combo\"],\"OutcomeType\":[\"Return_to_owner\"],\"chart_index\":[{\"MixedBreed\":\"Known Breed Combo\",\"OutcomeType\":\"Return_to_owner\"}],\"color\":[\"#f22c40\"],\"fill_alpha\":[0.8],\"height\":[636.0],\"label\":[{\"MixedBreed\":\"Known Breed Combo\",\"OutcomeType\":\"Return_to_owner\"}],\"line_alpha\":[1.0],\"line_color\":[\"white\"],\"width\":[0.8],\"x\":[\"Return_to_owner\"],\"y\":[4028.0]}},\"id\":\"f69be8ab-7404-44ed-8d9c-00990cc8fc90\",\"type\":\"ColumnDataSource\"},{\"attributes\":{\"data_source\":{\"id\":\"b99174a8-a5e7-42f1-bfef-07eb91a74529\",\"type\":\"ColumnDataSource\"},\"glyph\":{\"id\":\"cbd77bdb-2651-4f90-8d01-d6444fdb186d\",\"type\":\"Rect\"},\"hover_glyph\":null,\"muted_glyph\":null},\"id\":\"a81f217b-e884-4aa2-b8b6-ba77fe3fc41a\",\"type\":\"GlyphRenderer\"},{\"attributes\":{},\"id\":\"91ce88ac-82b2-4661-8937-6face737905d\",\"type\":\"CategoricalTickFormatter\"},{\"attributes\":{\"overlay\":{\"id\":\"e6058249-689b-43e0-9e27-6b93148d20b1\",\"type\":\"BoxAnnotation\"},\"plot\":{\"id\":\"43d7d183-ef4e-4b3a-a180-ff886a577de7\",\"subtype\":\"Chart\",\"type\":\"Plot\"}},\"id\":\"1ee5c94e-391d-420f-bfa3-80dcc978c7a9\",\"type\":\"BoxZoomTool\"},{\"attributes\":{\"plot\":{\"id\":\"43d7d183-ef4e-4b3a-a180-ff886a577de7\",\"subtype\":\"Chart\",\"type\":\"Plot\"}},\"id\":\"e1ba8894-58c9-461b-84da-ac13298daa23\",\"type\":\"ResetTool\"},{\"attributes\":{\"data_source\":{\"id\":\"1c3e7a90-a9e5-4326-91f8-ee1524ac7ba0\",\"type\":\"ColumnDataSource\"},\"glyph\":{\"id\":\"8ecc7352-fc67-493d-b726-3cbde947c9e0\",\"type\":\"Rect\"},\"hover_glyph\":null,\"muted_glyph\":null},\"id\":\"0b111718-6f5a-4ff5-9bd3-945d619fa4c7\",\"type\":\"GlyphRenderer\"},{\"attributes\":{\"fill_alpha\":{\"field\":\"fill_alpha\"},\"fill_color\":{\"field\":\"color\"},\"height\":{\"field\":\"height\",\"units\":\"data\"},\"line_color\":{\"field\":\"line_color\"},\"width\":{\"field\":\"width\",\"units\":\"data\"},\"x\":{\"field\":\"x\"},\"y\":{\"field\":\"y\"}},\"id\":\"cbd77bdb-2651-4f90-8d01-d6444fdb186d\",\"type\":\"Rect\"},{\"attributes\":{},\"id\":\"fe75d840-0d8f-4cb7-a49e-5794716356fa\",\"type\":\"ToolEvents\"},{\"attributes\":{\"plot\":{\"id\":\"43d7d183-ef4e-4b3a-a180-ff886a577de7\",\"subtype\":\"Chart\",\"type\":\"Plot\"}},\"id\":\"e265e1da-7a06-4452-b208-cb5b15834f31\",\"type\":\"WheelZoomTool\"},{\"attributes\":{\"plot\":{\"id\":\"43d7d183-ef4e-4b3a-a180-ff886a577de7\",\"subtype\":\"Chart\",\"type\":\"Plot\"}},\"id\":\"df6e8a81-def6-4ad2-8102-728cbb3ee000\",\"type\":\"HelpTool\"},{\"attributes\":{\"callback\":null,\"column_names\":[\"line_color\",\"line_alpha\",\"color\",\"fill_alpha\",\"height\",\"width\",\"y\",\"x\",\"label\"],\"data\":{\"MixedBreed\":[\"Mixed Breed\"],\"OutcomeType\":[\"Return_to_owner\"],\"chart_index\":[{\"MixedBreed\":\"Mixed Breed\",\"OutcomeType\":\"Return_to_owner\"}],\"color\":[\"#5ab738\"],\"fill_alpha\":[0.8],\"height\":[3710.0],\"label\":[{\"MixedBreed\":\"Mixed Breed\",\"OutcomeType\":\"Return_to_owner\"}],\"line_alpha\":[1.0],\"line_color\":[\"white\"],\"width\":[0.8],\"x\":[\"Return_to_owner\"],\"y\":[1855.0]}},\"id\":\"86c451c0-bc80-439e-8304-2a9922c17861\",\"type\":\"ColumnDataSource\"},{\"attributes\":{},\"id\":\"478243d2-678b-4550-b9b8-60997e326523\",\"type\":\"BasicTicker\"},{\"attributes\":{\"data_source\":{\"id\":\"86c451c0-bc80-439e-8304-2a9922c17861\",\"type\":\"ColumnDataSource\"},\"glyph\":{\"id\":\"4528254b-5ba6-4555-8ee8-5c76e7d71af3\",\"type\":\"Rect\"},\"hover_glyph\":null,\"muted_glyph\":null},\"id\":\"8c5e8598-2a1f-43ca-8485-fd7191774b50\",\"type\":\"GlyphRenderer\"},{\"attributes\":{\"fill_alpha\":{\"field\":\"fill_alpha\"},\"fill_color\":{\"field\":\"color\"},\"height\":{\"field\":\"height\",\"units\":\"data\"},\"line_color\":{\"field\":\"line_color\"},\"width\":{\"field\":\"width\",\"units\":\"data\"},\"x\":{\"field\":\"x\"},\"y\":{\"field\":\"y\"}},\"id\":\"4f39bc45-18df-4f5d-a544-f13f70365d93\",\"type\":\"Rect\"},{\"attributes\":{\"callback\":null,\"column_names\":[\"line_color\",\"line_alpha\",\"color\",\"fill_alpha\",\"height\",\"width\",\"y\",\"x\",\"label\"],\"data\":{\"MixedBreed\":[\"Mixed Breed\"],\"OutcomeType\":[\"Transfer\"],\"chart_index\":[{\"MixedBreed\":\"Mixed Breed\",\"OutcomeType\":\"Transfer\"}],\"color\":[\"#5ab738\"],\"fill_alpha\":[0.8],\"height\":[8252.0],\"label\":[{\"MixedBreed\":\"Mixed Breed\",\"OutcomeType\":\"Transfer\"}],\"line_alpha\":[1.0],\"line_color\":[\"white\"],\"width\":[0.8],\"x\":[\"Transfer\"],\"y\":[4126.0]}},\"id\":\"86d6c729-0aad-4670-8a53-7bf70ede58c7\",\"type\":\"ColumnDataSource\"},{\"attributes\":{\"label\":{\"value\":\"Nonmixed\"},\"renderers\":[{\"id\":\"338fae98-a653-41d2-a228-ca386f199e14\",\"type\":\"GlyphRenderer\"}]},\"id\":\"30b888ef-6f9b-4f43-abd1-940ae72bacdd\",\"type\":\"LegendItem\"},{\"attributes\":{\"below\":[{\"id\":\"fca4bbe9-be4e-47f4-9854-b1a3e9c76125\",\"type\":\"CategoricalAxis\"}],\"css_classes\":null,\"left\":[{\"id\":\"ab7bdf2f-7a84-4008-ba9a-77909a2b4a1d\",\"type\":\"LinearAxis\"}],\"renderers\":[{\"id\":\"e6058249-689b-43e0-9e27-6b93148d20b1\",\"type\":\"BoxAnnotation\"},{\"id\":\"8c5e8598-2a1f-43ca-8485-fd7191774b50\",\"type\":\"GlyphRenderer\"},{\"id\":\"de8a2f88-9d4a-4210-8faa-77c1f77f6973\",\"type\":\"GlyphRenderer\"},{\"id\":\"90396974-5388-4ae6-ad42-6c92869c1915\",\"type\":\"GlyphRenderer\"},{\"id\":\"3ad76384-81f9-4672-bd0a-d9d517864bca\",\"type\":\"GlyphRenderer\"},{\"id\":\"ca13638f-fe15-4da5-b474-6baf2ed2466b\",\"type\":\"GlyphRenderer\"},{\"id\":\"338fae98-a653-41d2-a228-ca386f199e14\",\"type\":\"GlyphRenderer\"},{\"id\":\"57422582-eb36-4d7d-a2da-d1b29dce57cc\",\"type\":\"GlyphRenderer\"},{\"id\":\"94934f3a-7964-49c4-904d-a6274c067d91\",\"type\":\"GlyphRenderer\"},{\"id\":\"3b80044b-3eca-4697-aed6-29db15eba7b9\",\"type\":\"GlyphRenderer\"},{\"id\":\"a81f217b-e884-4aa2-b8b6-ba77fe3fc41a\",\"type\":\"GlyphRenderer\"},{\"id\":\"5f976552-7667-4677-b291-096b3b7479ed\",\"type\":\"GlyphRenderer\"},{\"id\":\"14a5d0a5-fd22-45c9-9fed-021064d381a0\",\"type\":\"GlyphRenderer\"},{\"id\":\"0b111718-6f5a-4ff5-9bd3-945d619fa4c7\",\"type\":\"GlyphRenderer\"},{\"id\":\"9a5ce89a-0425-4e81-ba31-12d65fdce9b2\",\"type\":\"GlyphRenderer\"},{\"id\":\"aaf965d3-6b7f-4cc5-ada2-4be454c0d489\",\"type\":\"GlyphRenderer\"},{\"id\":\"637b64e6-e299-4431-83f2-6441568e69ac\",\"type\":\"Legend\"},{\"id\":\"fca4bbe9-be4e-47f4-9854-b1a3e9c76125\",\"type\":\"CategoricalAxis\"},{\"id\":\"ab7bdf2f-7a84-4008-ba9a-77909a2b4a1d\",\"type\":\"LinearAxis\"},{\"id\":\"267931ac-63e2-4129-bae0-a0accbf1ea74\",\"type\":\"Grid\"}],\"title\":{\"id\":\"e216b42c-c0b3-4ab4-b736-9defd447eaf3\",\"type\":\"Title\"},\"tool_events\":{\"id\":\"fe75d840-0d8f-4cb7-a49e-5794716356fa\",\"type\":\"ToolEvents\"},\"toolbar\":{\"id\":\"c09e876f-9859-4f96-a3b6-57e8aef9b96f\",\"type\":\"Toolbar\"},\"x_mapper_type\":\"auto\",\"x_range\":{\"id\":\"2372683b-9cb4-4678-99a9-18a063415072\",\"type\":\"FactorRange\"},\"y_mapper_type\":\"auto\",\"y_range\":{\"id\":\"a7f950cc-dd27-4ddd-b610-8d54cb828799\",\"type\":\"Range1d\"}},\"id\":\"43d7d183-ef4e-4b3a-a180-ff886a577de7\",\"subtype\":\"Chart\",\"type\":\"Plot\"},{\"attributes\":{\"callback\":null,\"column_names\":[\"line_color\",\"line_alpha\",\"color\",\"fill_alpha\",\"height\",\"width\",\"y\",\"x\",\"label\"],\"data\":{\"MixedBreed\":[\"Known Breed Combo\"],\"OutcomeType\":[\"Transfer\"],\"chart_index\":[{\"MixedBreed\":\"Known Breed Combo\",\"OutcomeType\":\"Transfer\"}],\"color\":[\"#f22c40\"],\"fill_alpha\":[0.8],\"height\":[734.0],\"label\":[{\"MixedBreed\":\"Known Breed Combo\",\"OutcomeType\":\"Transfer\"}],\"line_alpha\":[1.0],\"line_color\":[\"white\"],\"width\":[0.8],\"x\":[\"Transfer\"],\"y\":[8619.0]}},\"id\":\"3ff9dd7b-ecf0-4e72-8c9f-282edad03cfc\",\"type\":\"ColumnDataSource\"},{\"attributes\":{\"callback\":null,\"column_names\":[\"line_color\",\"line_alpha\",\"color\",\"fill_alpha\",\"height\",\"width\",\"y\",\"x\",\"label\"],\"data\":{\"MixedBreed\":[\"Known Breed Combo\"],\"OutcomeType\":[\"Euthanasia\"],\"chart_index\":[{\"MixedBreed\":\"Known Breed Combo\",\"OutcomeType\":\"Euthanasia\"}],\"color\":[\"#f22c40\"],\"fill_alpha\":[0.8],\"height\":[127.0],\"label\":[{\"MixedBreed\":\"Known Breed Combo\",\"OutcomeType\":\"Euthanasia\"}],\"line_alpha\":[1.0],\"line_color\":[\"white\"],\"width\":[0.8],\"x\":[\"Euthanasia\"],\"y\":[1427.5]}},\"id\":\"b99174a8-a5e7-42f1-bfef-07eb91a74529\",\"type\":\"ColumnDataSource\"}],\"root_ids\":[\"43d7d183-ef4e-4b3a-a180-ff886a577de7\"]},\"title\":\"Bokeh Application\",\"version\":\"0.12.5\"}};\n",
       "            var render_items = [{\"docid\":\"c021695a-7c3b-43e1-94c6-5ef488d0c651\",\"elementid\":\"9e5229b1-ab1b-424c-8715-b230bbd2108f\",\"modelid\":\"43d7d183-ef4e-4b3a-a180-ff886a577de7\"}];\n",
       "            \n",
       "            Bokeh.embed.embed_items(docs_json, render_items);\n",
       "          };\n",
       "          if (document.readyState != \"loading\") fn();\n",
       "          else document.addEventListener(\"DOMContentLoaded\", fn);\n",
       "        })();\n",
       "      },\n",
       "      function(Bokeh) {\n",
       "      }\n",
       "    ];\n",
       "  \n",
       "    function run_inline_js() {\n",
       "      \n",
       "      if ((window.Bokeh !== undefined) || (force === true)) {\n",
       "        for (var i = 0; i < inline_js.length; i++) {\n",
       "          inline_js[i](window.Bokeh);\n",
       "        }if (force === true) {\n",
       "          display_loaded();\n",
       "        }} else if (Date.now() < window._bokeh_timeout) {\n",
       "        setTimeout(run_inline_js, 100);\n",
       "      } else if (!window._bokeh_failed_load) {\n",
       "        console.log(\"Bokeh: BokehJS failed to load within specified timeout.\");\n",
       "        window._bokeh_failed_load = true;\n",
       "      } else if (force !== true) {\n",
       "        var cell = $(document.getElementById(\"9e5229b1-ab1b-424c-8715-b230bbd2108f\")).parents('.cell').data().cell;\n",
       "        cell.output_area.append_execute_result(NB_LOAD_WARNING)\n",
       "      }\n",
       "  \n",
       "    }\n",
       "  \n",
       "    if (window._bokeh_is_loading === 0) {\n",
       "      console.log(\"Bokeh: BokehJS loaded, going straight to plotting\");\n",
       "      run_inline_js();\n",
       "    } else {\n",
       "      load_libs(js_urls, function() {\n",
       "        console.log(\"Bokeh: BokehJS plotting callback run at\", now());\n",
       "        run_inline_js();\n",
       "      });\n",
       "    }\n",
       "  }(this));\n",
       "</script>"
      ]
     },
     "metadata": {},
     "output_type": "display_data"
    }
   ],
   "source": [
    "p = Bar(data, label='OutcomeType', values = 'MixedBreed', agg='count', stack='MixedBreed',\n",
    "        title=\"Outcomes by Breed Type\", legend='top_right')\n",
    "show(p)"
   ]
  },
  {
   "cell_type": "code",
   "execution_count": 21,
   "metadata": {
    "collapsed": false,
    "scrolled": true
   },
   "outputs": [
    {
     "data": {
      "text/plain": [
       "array([[<matplotlib.axes._subplots.AxesSubplot object at 0x12564add0>]], dtype=object)"
      ]
     },
     "execution_count": 21,
     "metadata": {},
     "output_type": "execute_result"
    },
    {
     "data": {
      "image/png": "[encoded data removed]",
      "text/plain": [
       "<matplotlib.figure.Figure at 0x123d0f710>"
      ]
     },
     "metadata": {},
     "output_type": "display_data"
    }
   ],
   "source": [
    "#Age of animals\n",
    "data.hist(column=\"ConvertedAge\", bins=25)"
   ]
  },
  {
   "cell_type": "code",
   "execution_count": 22,
   "metadata": {
    "collapsed": false,
    "scrolled": true
   },
   "outputs": [
    {
     "data": {
      "text/html": [
       "\n",
       "\n",
       "    <div class=\"bk-root\">\n",
       "        <div class=\"bk-plotdiv\" id=\"e1e747a9-75d4-494b-a77a-04aa10083eea\"></div>\n",
       "    </div>\n",
       "<script type=\"text/javascript\">\n",
       "  \n",
       "  (function(global) {\n",
       "    function now() {\n",
       "      return new Date();\n",
       "    }\n",
       "  \n",
       "    var force = false;\n",
       "  \n",
       "    if (typeof (window._bokeh_onload_callbacks) === \"undefined\" || force === true) {\n",
       "      window._bokeh_onload_callbacks = [];\n",
       "      window._bokeh_is_loading = undefined;\n",
       "    }\n",
       "  \n",
       "  \n",
       "    \n",
       "    if (typeof (window._bokeh_timeout) === \"undefined\" || force === true) {\n",
       "      window._bokeh_timeout = Date.now() + 0;\n",
       "      window._bokeh_failed_load = false;\n",
       "    }\n",
       "  \n",
       "    var NB_LOAD_WARNING = {'data': {'text/html':\n",
       "       \"<div style='background-color: #fdd'>\\n\"+\n",
       "       \"<p>\\n\"+\n",
       "       \"BokehJS does not appear to have successfully loaded. If loading BokehJS from CDN, this \\n\"+\n",
       "       \"may be due to a slow or bad network connection. Possible fixes:\\n\"+\n",
       "       \"</p>\\n\"+\n",
       "       \"<ul>\\n\"+\n",
       "       \"<li>re-rerun `output_notebook()` to attempt to load from CDN again, or</li>\\n\"+\n",
       "       \"<li>use INLINE resources instead, as so:</li>\\n\"+\n",
       "       \"</ul>\\n\"+\n",
       "       \"<code>\\n\"+\n",
       "       \"from bokeh.resources import INLINE\\n\"+\n",
       "       \"output_notebook(resources=INLINE)\\n\"+\n",
       "       \"</code>\\n\"+\n",
       "       \"</div>\"}};\n",
       "  \n",
       "    function display_loaded() {\n",
       "      if (window.Bokeh !== undefined) {\n",
       "        var el = document.getElementById(\"e1e747a9-75d4-494b-a77a-04aa10083eea\");\n",
       "        el.textContent = \"BokehJS \" + Bokeh.version + \" successfully loaded.\";\n",
       "      } else if (Date.now() < window._bokeh_timeout) {\n",
       "        setTimeout(display_loaded, 100)\n",
       "      }\n",
       "    }\n",
       "  \n",
       "    function run_callbacks() {\n",
       "      window._bokeh_onload_callbacks.forEach(function(callback) { callback() });\n",
       "      delete window._bokeh_onload_callbacks\n",
       "      console.info(\"Bokeh: all callbacks have finished\");\n",
       "    }\n",
       "  \n",
       "    function load_libs(js_urls, callback) {\n",
       "      window._bokeh_onload_callbacks.push(callback);\n",
       "      if (window._bokeh_is_loading > 0) {\n",
       "        console.log(\"Bokeh: BokehJS is being loaded, scheduling callback at\", now());\n",
       "        return null;\n",
       "      }\n",
       "      if (js_urls == null || js_urls.length === 0) {\n",
       "        run_callbacks();\n",
       "        return null;\n",
       "      }\n",
       "      console.log(\"Bokeh: BokehJS not loaded, scheduling load and callback at\", now());\n",
       "      window._bokeh_is_loading = js_urls.length;\n",
       "      for (var i = 0; i < js_urls.length; i++) {\n",
       "        var url = js_urls[i];\n",
       "        var s = document.createElement('script');\n",
       "        s.src = url;\n",
       "        s.async = false;\n",
       "        s.onreadystatechange = s.onload = function() {\n",
       "          window._bokeh_is_loading--;\n",
       "          if (window._bokeh_is_loading === 0) {\n",
       "            console.log(\"Bokeh: all BokehJS libraries loaded\");\n",
       "            run_callbacks()\n",
       "          }\n",
       "        };\n",
       "        s.onerror = function() {\n",
       "          console.warn(\"failed to load library \" + url);\n",
       "        };\n",
       "        console.log(\"Bokeh: injecting script tag for BokehJS library: \", url);\n",
       "        document.getElementsByTagName(\"head\")[0].appendChild(s);\n",
       "      }\n",
       "    };var element = document.getElementById(\"e1e747a9-75d4-494b-a77a-04aa10083eea\");\n",
       "    if (element == null) {\n",
       "      console.log(\"Bokeh: ERROR: autoload.js configured with elementid 'e1e747a9-75d4-494b-a77a-04aa10083eea' but no matching script tag was found. \")\n",
       "      return false;\n",
       "    }\n",
       "  \n",
       "    var js_urls = [];\n",
       "  \n",
       "    var inline_js = [\n",
       "      function(Bokeh) {\n",
       "        (function() {\n",
       "          var fn = function() {\n",
       "            var docs_json = {\"69045f07-819c-43f0-950a-eef6e28a1755\":{\"roots\":{\"references\":[{\"attributes\":{\"data_source\":{\"id\":\"4b9a7e01-d1fa-448f-ab55-82d57054dcaa\",\"type\":\"ColumnDataSource\"},\"glyph\":{\"id\":\"038e98a4-01cd-4f93-89a9-6096c820933d\",\"type\":\"Rect\"},\"hover_glyph\":null,\"muted_glyph\":null},\"id\":\"4036ad6d-bc87-4406-8afd-78a0f71aedad\",\"type\":\"GlyphRenderer\"},{\"attributes\":{\"label\":{\"value\":\"Cat\"},\"renderers\":[{\"id\":\"27748fee-5f1b-4c0f-a747-706e6bbd0f39\",\"type\":\"GlyphRenderer\"}]},\"id\":\"17dab3c0-3f95-4ab3-a4e4-a5ae94443f14\",\"type\":\"LegendItem\"},{\"attributes\":{\"bottom_units\":\"screen\",\"fill_alpha\":{\"value\":0.5},\"fill_color\":{\"value\":\"lightgrey\"},\"left_units\":\"screen\",\"level\":\"overlay\",\"line_alpha\":{\"value\":1.0},\"line_color\":{\"value\":\"black\"},\"line_dash\":[4,4],\"line_width\":{\"value\":2},\"plot\":null,\"render_mode\":\"css\",\"right_units\":\"screen\",\"top_units\":\"screen\"},\"id\":\"ef5974c4-581b-4698-a6be-6ebc393444a8\",\"type\":\"BoxAnnotation\"},{\"attributes\":{\"axis_label\":\"Outcometype\",\"formatter\":{\"id\":\"75a10be3-e180-45e3-b318-0d02a339feb2\",\"type\":\"CategoricalTickFormatter\"},\"major_label_orientation\":0.7853981633974483,\"plot\":{\"id\":\"ec9e994d-219b-40a7-9196-8432f34cd4ae\",\"subtype\":\"Chart\",\"type\":\"Plot\"},\"ticker\":{\"id\":\"e3f0cae9-3660-4eaa-9692-b9583a5ad105\",\"type\":\"CategoricalTicker\"}},\"id\":\"ee7f7e2b-57e0-4d2c-9dc0-0d2611cbb850\",\"type\":\"CategoricalAxis\"},{\"attributes\":{\"fill_alpha\":{\"field\":\"fill_alpha\"},\"fill_color\":{\"field\":\"color\"},\"height\":{\"field\":\"height\",\"units\":\"data\"},\"line_color\":{\"field\":\"line_color\"},\"width\":{\"field\":\"width\",\"units\":\"data\"},\"x\":{\"field\":\"x\"},\"y\":{\"field\":\"y\"}},\"id\":\"e923c3fb-332d-433a-90ef-455c03d1ede1\",\"type\":\"Rect\"},{\"attributes\":{\"fill_alpha\":{\"field\":\"fill_alpha\"},\"fill_color\":{\"field\":\"color\"},\"height\":{\"field\":\"height\",\"units\":\"data\"},\"line_color\":{\"field\":\"line_color\"},\"width\":{\"field\":\"width\",\"units\":\"data\"},\"x\":{\"field\":\"x\"},\"y\":{\"field\":\"y\"}},\"id\":\"a9d9ff99-15ad-42ce-b145-b6f01844d90d\",\"type\":\"Rect\"},{\"attributes\":{\"callback\":null,\"column_names\":[\"line_color\",\"line_alpha\",\"color\",\"fill_alpha\",\"height\",\"width\",\"y\",\"x\",\"label\"],\"data\":{\"AnimalType\":[\"Cat\"],\"OutcomeType\":[\"Transfer\"],\"chart_index\":[{\"AnimalType\":\"Cat\",\"OutcomeType\":\"Transfer\"}],\"color\":[\"#f22c40\"],\"fill_alpha\":[0.8],\"height\":[5505.0],\"label\":[{\"AnimalType\":\"Cat\",\"OutcomeType\":\"Transfer\"}],\"line_alpha\":[1.0],\"line_color\":[\"white\"],\"width\":[0.8],\"x\":[\"Transfer\"],\"y\":[2752.5]}},\"id\":\"4b9a7e01-d1fa-448f-ab55-82d57054dcaa\",\"type\":\"ColumnDataSource\"},{\"attributes\":{\"fill_alpha\":{\"field\":\"fill_alpha\"},\"fill_color\":{\"field\":\"color\"},\"height\":{\"field\":\"height\",\"units\":\"data\"},\"line_color\":{\"field\":\"line_color\"},\"width\":{\"field\":\"width\",\"units\":\"data\"},\"x\":{\"field\":\"x\"},\"y\":{\"field\":\"y\"}},\"id\":\"2a771aae-bbcc-443d-a500-3e8958958aa4\",\"type\":\"Rect\"},{\"attributes\":{\"data_source\":{\"id\":\"327410c3-5c61-4724-bc3e-6b43a4d0d205\",\"type\":\"ColumnDataSource\"},\"glyph\":{\"id\":\"803dfb5d-47fc-43f8-a5cb-9ceddfe881f0\",\"type\":\"Rect\"},\"hover_glyph\":null,\"muted_glyph\":null},\"id\":\"23ca0a15-ea97-41e4-afca-75b4001ecae8\",\"type\":\"GlyphRenderer\"},{\"attributes\":{\"data_source\":{\"id\":\"d6301d7a-7746-4bce-b404-964b26e37047\",\"type\":\"ColumnDataSource\"},\"glyph\":{\"id\":\"2a771aae-bbcc-443d-a500-3e8958958aa4\",\"type\":\"Rect\"},\"hover_glyph\":null,\"muted_glyph\":null},\"id\":\"27748fee-5f1b-4c0f-a747-706e6bbd0f39\",\"type\":\"GlyphRenderer\"},{\"attributes\":{\"plot\":{\"id\":\"ec9e994d-219b-40a7-9196-8432f34cd4ae\",\"subtype\":\"Chart\",\"type\":\"Plot\"}},\"id\":\"bc209b19-84fc-4b6a-bd96-a837328f1279\",\"type\":\"HelpTool\"},{\"attributes\":{\"plot\":{\"id\":\"ec9e994d-219b-40a7-9196-8432f34cd4ae\",\"subtype\":\"Chart\",\"type\":\"Plot\"}},\"id\":\"ed2b1950-ce03-48a6-8a34-6e5c1010632a\",\"type\":\"WheelZoomTool\"},{\"attributes\":{\"data_source\":{\"id\":\"d9666e52-bc90-4da1-8156-c0e39edfe162\",\"type\":\"ColumnDataSource\"},\"glyph\":{\"id\":\"ee523488-44cf-4e3e-84fc-123b0b2b4ff5\",\"type\":\"Rect\"},\"hover_glyph\":null,\"muted_glyph\":null},\"id\":\"5412b075-6277-441a-8d56-ce6770f426e6\",\"type\":\"GlyphRenderer\"},{\"attributes\":{\"fill_alpha\":{\"field\":\"fill_alpha\"},\"fill_color\":{\"field\":\"color\"},\"height\":{\"field\":\"height\",\"units\":\"data\"},\"line_color\":{\"field\":\"line_color\"},\"width\":{\"field\":\"width\",\"units\":\"data\"},\"x\":{\"field\":\"x\"},\"y\":{\"field\":\"y\"}},\"id\":\"60801d08-9f29-4506-ab1f-0ba29c3fbe73\",\"type\":\"Rect\"},{\"attributes\":{\"label\":{\"value\":\"Dog\"},\"renderers\":[{\"id\":\"cf3eca76-2486-4422-805f-e38d3cc81f20\",\"type\":\"GlyphRenderer\"}]},\"id\":\"35668861-1828-48c3-a147-c6a14228288b\",\"type\":\"LegendItem\"},{\"attributes\":{},\"id\":\"75a10be3-e180-45e3-b318-0d02a339feb2\",\"type\":\"CategoricalTickFormatter\"},{\"attributes\":{\"overlay\":{\"id\":\"ef5974c4-581b-4698-a6be-6ebc393444a8\",\"type\":\"BoxAnnotation\"},\"plot\":{\"id\":\"ec9e994d-219b-40a7-9196-8432f34cd4ae\",\"subtype\":\"Chart\",\"type\":\"Plot\"}},\"id\":\"4e3a6dd6-46ce-4926-93f1-5a510d765b8b\",\"type\":\"BoxZoomTool\"},{\"attributes\":{\"dimension\":1,\"plot\":{\"id\":\"ec9e994d-219b-40a7-9196-8432f34cd4ae\",\"subtype\":\"Chart\",\"type\":\"Plot\"},\"ticker\":{\"id\":\"e09135b1-2ef8-4973-aa54-8281eee5e6ff\",\"type\":\"BasicTicker\"}},\"id\":\"61d92118-398c-4980-8baa-9d1803cf19f9\",\"type\":\"Grid\"},{\"attributes\":{\"callback\":null,\"column_names\":[\"line_color\",\"line_alpha\",\"color\",\"fill_alpha\",\"height\",\"width\",\"y\",\"x\",\"label\"],\"data\":{\"AnimalType\":[\"Cat\"],\"OutcomeType\":[\"Died\"],\"chart_index\":[{\"AnimalType\":\"Cat\",\"OutcomeType\":\"Died\"}],\"color\":[\"#f22c40\"],\"fill_alpha\":[0.8],\"height\":[147.0],\"label\":[{\"AnimalType\":\"Cat\",\"OutcomeType\":\"Died\"}],\"line_alpha\":[1.0],\"line_color\":[\"white\"],\"width\":[0.8],\"x\":[\"Died\"],\"y\":[73.5]}},\"id\":\"e4175051-b352-470c-8f0f-63a854053cd8\",\"type\":\"ColumnDataSource\"},{\"attributes\":{\"data_source\":{\"id\":\"32d6b1f7-aadd-4199-8989-c4fb1f431c30\",\"type\":\"ColumnDataSource\"},\"glyph\":{\"id\":\"6ae4df38-7d90-4c26-8039-a253c0cfcb15\",\"type\":\"Rect\"},\"hover_glyph\":null,\"muted_glyph\":null},\"id\":\"41eed68c-f509-4cd6-a5e6-f6f38fe35113\",\"type\":\"GlyphRenderer\"},{\"attributes\":{\"data_source\":{\"id\":\"b02e1c6b-4e39-40a3-a675-71c7e97e407b\",\"type\":\"ColumnDataSource\"},\"glyph\":{\"id\":\"a9d9ff99-15ad-42ce-b145-b6f01844d90d\",\"type\":\"Rect\"},\"hover_glyph\":null,\"muted_glyph\":null},\"id\":\"cf3eca76-2486-4422-805f-e38d3cc81f20\",\"type\":\"GlyphRenderer\"},{\"attributes\":{\"data_source\":{\"id\":\"e4175051-b352-470c-8f0f-63a854053cd8\",\"type\":\"ColumnDataSource\"},\"glyph\":{\"id\":\"8cd9d906-2a52-40cc-a7c6-d415a923dc63\",\"type\":\"Rect\"},\"hover_glyph\":null,\"muted_glyph\":null},\"id\":\"a75129d4-f060-4e36-b027-a58e21f25724\",\"type\":\"GlyphRenderer\"},{\"attributes\":{},\"id\":\"e09135b1-2ef8-4973-aa54-8281eee5e6ff\",\"type\":\"BasicTicker\"},{\"attributes\":{\"callback\":null,\"column_names\":[\"line_color\",\"line_alpha\",\"color\",\"fill_alpha\",\"height\",\"width\",\"y\",\"x\",\"label\"],\"data\":{\"AnimalType\":[\"Dog\"],\"OutcomeType\":[\"Adoption\"],\"chart_index\":[{\"AnimalType\":\"Dog\",\"OutcomeType\":\"Adoption\"}],\"color\":[\"#5ab738\"],\"fill_alpha\":[0.8],\"height\":[6497.0],\"label\":[{\"AnimalType\":\"Dog\",\"OutcomeType\":\"Adoption\"}],\"line_alpha\":[1.0],\"line_color\":[\"white\"],\"width\":[0.8],\"x\":[\"Adoption\"],\"y\":[3248.5]}},\"id\":\"d9666e52-bc90-4da1-8156-c0e39edfe162\",\"type\":\"ColumnDataSource\"},{\"attributes\":{\"fill_alpha\":{\"field\":\"fill_alpha\"},\"fill_color\":{\"field\":\"color\"},\"height\":{\"field\":\"height\",\"units\":\"data\"},\"line_color\":{\"field\":\"line_color\"},\"width\":{\"field\":\"width\",\"units\":\"data\"},\"x\":{\"field\":\"x\"},\"y\":{\"field\":\"y\"}},\"id\":\"35b6d0d6-f69c-428c-94ca-c2a0958290d0\",\"type\":\"Rect\"},{\"attributes\":{\"callback\":null,\"column_names\":[\"line_color\",\"line_alpha\",\"color\",\"fill_alpha\",\"height\",\"width\",\"y\",\"x\",\"label\"],\"data\":{\"AnimalType\":[\"Cat\"],\"OutcomeType\":[\"Return_to_owner\"],\"chart_index\":[{\"AnimalType\":\"Cat\",\"OutcomeType\":\"Return_to_owner\"}],\"color\":[\"#f22c40\"],\"fill_alpha\":[0.8],\"height\":[500.0],\"label\":[{\"AnimalType\":\"Cat\",\"OutcomeType\":\"Return_to_owner\"}],\"line_alpha\":[1.0],\"line_color\":[\"white\"],\"width\":[0.8],\"x\":[\"Return_to_owner\"],\"y\":[4536.0]}},\"id\":\"ee5291cf-3145-4320-8fab-69168d9fc68a\",\"type\":\"ColumnDataSource\"},{\"attributes\":{\"data_source\":{\"id\":\"1cc1295b-3333-4473-8667-816a47afb22b\",\"type\":\"ColumnDataSource\"},\"glyph\":{\"id\":\"e923c3fb-332d-433a-90ef-455c03d1ede1\",\"type\":\"Rect\"},\"hover_glyph\":null,\"muted_glyph\":null},\"id\":\"769c3b6d-d51f-4c5e-b93d-022eb6681f9c\",\"type\":\"GlyphRenderer\"},{\"attributes\":{},\"id\":\"624dfa52-dee0-4296-989a-deb2ef55258e\",\"type\":\"ToolEvents\"},{\"attributes\":{\"plot\":{\"id\":\"ec9e994d-219b-40a7-9196-8432f34cd4ae\",\"subtype\":\"Chart\",\"type\":\"Plot\"}},\"id\":\"29fdbce0-8cf9-4ce8-8cd4-2aba99d72d96\",\"type\":\"ResetTool\"},{\"attributes\":{\"items\":[{\"id\":\"35668861-1828-48c3-a147-c6a14228288b\",\"type\":\"LegendItem\"},{\"id\":\"17dab3c0-3f95-4ab3-a4e4-a5ae94443f14\",\"type\":\"LegendItem\"}],\"plot\":{\"id\":\"ec9e994d-219b-40a7-9196-8432f34cd4ae\",\"subtype\":\"Chart\",\"type\":\"Plot\"}},\"id\":\"f616e38d-5087-4bb5-8be7-d6a0b55b1680\",\"type\":\"Legend\"},{\"attributes\":{\"callback\":null,\"column_names\":[\"line_color\",\"line_alpha\",\"color\",\"fill_alpha\",\"height\",\"width\",\"y\",\"x\",\"label\"],\"data\":{\"AnimalType\":[\"Cat\"],\"OutcomeType\":[\"Euthanasia\"],\"chart_index\":[{\"AnimalType\":\"Cat\",\"OutcomeType\":\"Euthanasia\"}],\"color\":[\"#f22c40\"],\"fill_alpha\":[0.8],\"height\":[710.0],\"label\":[{\"AnimalType\":\"Cat\",\"OutcomeType\":\"Euthanasia\"}],\"line_alpha\":[1.0],\"line_color\":[\"white\"],\"width\":[0.8],\"x\":[\"Euthanasia\"],\"y\":[355.0]}},\"id\":\"d6301d7a-7746-4bce-b404-964b26e37047\",\"type\":\"ColumnDataSource\"},{\"attributes\":{\"data_source\":{\"id\":\"6165c35c-01b1-488a-bc41-2414ef33e4dd\",\"type\":\"ColumnDataSource\"},\"glyph\":{\"id\":\"35b6d0d6-f69c-428c-94ca-c2a0958290d0\",\"type\":\"Rect\"},\"hover_glyph\":null,\"muted_glyph\":null},\"id\":\"7195b55a-80bc-4a8f-9402-c8df50d61f9f\",\"type\":\"GlyphRenderer\"},{\"attributes\":{\"fill_alpha\":{\"field\":\"fill_alpha\"},\"fill_color\":{\"field\":\"color\"},\"height\":{\"field\":\"height\",\"units\":\"data\"},\"line_color\":{\"field\":\"line_color\"},\"width\":{\"field\":\"width\",\"units\":\"data\"},\"x\":{\"field\":\"x\"},\"y\":{\"field\":\"y\"}},\"id\":\"8cd9d906-2a52-40cc-a7c6-d415a923dc63\",\"type\":\"Rect\"},{\"attributes\":{\"active_drag\":\"auto\",\"active_scroll\":\"auto\",\"active_tap\":\"auto\",\"tools\":[{\"id\":\"a64b0047-aff9-4bc8-8297-41df43801e85\",\"type\":\"PanTool\"},{\"id\":\"ed2b1950-ce03-48a6-8a34-6e5c1010632a\",\"type\":\"WheelZoomTool\"},{\"id\":\"4e3a6dd6-46ce-4926-93f1-5a510d765b8b\",\"type\":\"BoxZoomTool\"},{\"id\":\"da7fa2c3-11d6-48bd-b32d-09db09cf56a3\",\"type\":\"SaveTool\"},{\"id\":\"29fdbce0-8cf9-4ce8-8cd4-2aba99d72d96\",\"type\":\"ResetTool\"},{\"id\":\"bc209b19-84fc-4b6a-bd96-a837328f1279\",\"type\":\"HelpTool\"}]},\"id\":\"7335c63d-7ae1-4c5c-b228-d840b570647b\",\"type\":\"Toolbar\"},{\"attributes\":{\"fill_alpha\":{\"field\":\"fill_alpha\"},\"fill_color\":{\"field\":\"color\"},\"height\":{\"field\":\"height\",\"units\":\"data\"},\"line_color\":{\"field\":\"line_color\"},\"width\":{\"field\":\"width\",\"units\":\"data\"},\"x\":{\"field\":\"x\"},\"y\":{\"field\":\"y\"}},\"id\":\"803dfb5d-47fc-43f8-a5cb-9ceddfe881f0\",\"type\":\"Rect\"},{\"attributes\":{\"callback\":null,\"column_names\":[\"line_color\",\"line_alpha\",\"color\",\"fill_alpha\",\"height\",\"width\",\"y\",\"x\",\"label\"],\"data\":{\"AnimalType\":[\"Dog\"],\"OutcomeType\":[\"Died\"],\"chart_index\":[{\"AnimalType\":\"Dog\",\"OutcomeType\":\"Died\"}],\"color\":[\"#5ab738\"],\"fill_alpha\":[0.8],\"height\":[50.0],\"label\":[{\"AnimalType\":\"Dog\",\"OutcomeType\":\"Died\"}],\"line_alpha\":[1.0],\"line_color\":[\"white\"],\"width\":[0.8],\"x\":[\"Died\"],\"y\":[172.0]}},\"id\":\"6165c35c-01b1-488a-bc41-2414ef33e4dd\",\"type\":\"ColumnDataSource\"},{\"attributes\":{\"callback\":null,\"factors\":[\"Adoption\",\"Died\",\"Euthanasia\",\"Return_to_owner\",\"Transfer\"]},\"id\":\"f06f7f3d-784f-473a-868f-e8b9238f4728\",\"type\":\"FactorRange\"},{\"attributes\":{\"callback\":null,\"end\":11307.45},\"id\":\"4124c30f-f83a-47e0-ac77-7618397dbad7\",\"type\":\"Range1d\"},{\"attributes\":{\"plot\":{\"id\":\"ec9e994d-219b-40a7-9196-8432f34cd4ae\",\"subtype\":\"Chart\",\"type\":\"Plot\"}},\"id\":\"a64b0047-aff9-4bc8-8297-41df43801e85\",\"type\":\"PanTool\"},{\"attributes\":{\"axis_label\":\"Count( Blackcat )\",\"formatter\":{\"id\":\"6e61f64f-c295-4076-9eb6-a8f89706f8ae\",\"type\":\"BasicTickFormatter\"},\"plot\":{\"id\":\"ec9e994d-219b-40a7-9196-8432f34cd4ae\",\"subtype\":\"Chart\",\"type\":\"Plot\"},\"ticker\":{\"id\":\"e09135b1-2ef8-4973-aa54-8281eee5e6ff\",\"type\":\"BasicTicker\"}},\"id\":\"c82e650a-5166-4085-8f76-0bb00436d7ec\",\"type\":\"LinearAxis\"},{\"attributes\":{},\"id\":\"e3f0cae9-3660-4eaa-9692-b9583a5ad105\",\"type\":\"CategoricalTicker\"},{\"attributes\":{\"callback\":null,\"column_names\":[\"line_color\",\"line_alpha\",\"color\",\"fill_alpha\",\"height\",\"width\",\"y\",\"x\",\"label\"],\"data\":{\"AnimalType\":[\"Dog\"],\"OutcomeType\":[\"Return_to_owner\"],\"chart_index\":[{\"AnimalType\":\"Dog\",\"OutcomeType\":\"Return_to_owner\"}],\"color\":[\"#5ab738\"],\"fill_alpha\":[0.8],\"height\":[4286.0],\"label\":[{\"AnimalType\":\"Dog\",\"OutcomeType\":\"Return_to_owner\"}],\"line_alpha\":[1.0],\"line_color\":[\"white\"],\"width\":[0.8],\"x\":[\"Return_to_owner\"],\"y\":[2143.0]}},\"id\":\"b02e1c6b-4e39-40a3-a675-71c7e97e407b\",\"type\":\"ColumnDataSource\"},{\"attributes\":{\"below\":[{\"id\":\"ee7f7e2b-57e0-4d2c-9dc0-0d2611cbb850\",\"type\":\"CategoricalAxis\"}],\"css_classes\":null,\"left\":[{\"id\":\"c82e650a-5166-4085-8f76-0bb00436d7ec\",\"type\":\"LinearAxis\"}],\"renderers\":[{\"id\":\"ef5974c4-581b-4698-a6be-6ebc393444a8\",\"type\":\"BoxAnnotation\"},{\"id\":\"cf3eca76-2486-4422-805f-e38d3cc81f20\",\"type\":\"GlyphRenderer\"},{\"id\":\"27748fee-5f1b-4c0f-a747-706e6bbd0f39\",\"type\":\"GlyphRenderer\"},{\"id\":\"5412b075-6277-441a-8d56-ce6770f426e6\",\"type\":\"GlyphRenderer\"},{\"id\":\"4036ad6d-bc87-4406-8afd-78a0f71aedad\",\"type\":\"GlyphRenderer\"},{\"id\":\"41eed68c-f509-4cd6-a5e6-f6f38fe35113\",\"type\":\"GlyphRenderer\"},{\"id\":\"769c3b6d-d51f-4c5e-b93d-022eb6681f9c\",\"type\":\"GlyphRenderer\"},{\"id\":\"40eb006a-cd97-4571-8ab0-1ba813900831\",\"type\":\"GlyphRenderer\"},{\"id\":\"23ca0a15-ea97-41e4-afca-75b4001ecae8\",\"type\":\"GlyphRenderer\"},{\"id\":\"a75129d4-f060-4e36-b027-a58e21f25724\",\"type\":\"GlyphRenderer\"},{\"id\":\"7195b55a-80bc-4a8f-9402-c8df50d61f9f\",\"type\":\"GlyphRenderer\"},{\"id\":\"f616e38d-5087-4bb5-8be7-d6a0b55b1680\",\"type\":\"Legend\"},{\"id\":\"ee7f7e2b-57e0-4d2c-9dc0-0d2611cbb850\",\"type\":\"CategoricalAxis\"},{\"id\":\"c82e650a-5166-4085-8f76-0bb00436d7ec\",\"type\":\"LinearAxis\"},{\"id\":\"61d92118-398c-4980-8baa-9d1803cf19f9\",\"type\":\"Grid\"}],\"title\":{\"id\":\"6d96af5c-76d3-4f9c-b260-efe77b2644a9\",\"type\":\"Title\"},\"tool_events\":{\"id\":\"624dfa52-dee0-4296-989a-deb2ef55258e\",\"type\":\"ToolEvents\"},\"toolbar\":{\"id\":\"7335c63d-7ae1-4c5c-b228-d840b570647b\",\"type\":\"Toolbar\"},\"x_mapper_type\":\"auto\",\"x_range\":{\"id\":\"f06f7f3d-784f-473a-868f-e8b9238f4728\",\"type\":\"FactorRange\"},\"y_mapper_type\":\"auto\",\"y_range\":{\"id\":\"4124c30f-f83a-47e0-ac77-7618397dbad7\",\"type\":\"Range1d\"}},\"id\":\"ec9e994d-219b-40a7-9196-8432f34cd4ae\",\"subtype\":\"Chart\",\"type\":\"Plot\"},{\"attributes\":{\"callback\":null,\"column_names\":[\"line_color\",\"line_alpha\",\"color\",\"fill_alpha\",\"height\",\"width\",\"y\",\"x\",\"label\"],\"data\":{\"AnimalType\":[\"Dog\"],\"OutcomeType\":[\"Euthanasia\"],\"chart_index\":[{\"AnimalType\":\"Dog\",\"OutcomeType\":\"Euthanasia\"}],\"color\":[\"#5ab738\"],\"fill_alpha\":[0.8],\"height\":[845.0],\"label\":[{\"AnimalType\":\"Dog\",\"OutcomeType\":\"Euthanasia\"}],\"line_alpha\":[1.0],\"line_color\":[\"white\"],\"width\":[0.8],\"x\":[\"Euthanasia\"],\"y\":[1132.5]}},\"id\":\"327410c3-5c61-4724-bc3e-6b43a4d0d205\",\"type\":\"ColumnDataSource\"},{\"attributes\":{},\"id\":\"6e61f64f-c295-4076-9eb6-a8f89706f8ae\",\"type\":\"BasicTickFormatter\"},{\"attributes\":{\"plot\":null,\"text\":\"Outcomes for Black Cats\"},\"id\":\"6d96af5c-76d3-4f9c-b260-efe77b2644a9\",\"type\":\"Title\"},{\"attributes\":{\"fill_alpha\":{\"field\":\"fill_alpha\"},\"fill_color\":{\"field\":\"color\"},\"height\":{\"field\":\"height\",\"units\":\"data\"},\"line_color\":{\"field\":\"line_color\"},\"width\":{\"field\":\"width\",\"units\":\"data\"},\"x\":{\"field\":\"x\"},\"y\":{\"field\":\"y\"}},\"id\":\"6ae4df38-7d90-4c26-8039-a253c0cfcb15\",\"type\":\"Rect\"},{\"attributes\":{\"fill_alpha\":{\"field\":\"fill_alpha\"},\"fill_color\":{\"field\":\"color\"},\"height\":{\"field\":\"height\",\"units\":\"data\"},\"line_color\":{\"field\":\"line_color\"},\"width\":{\"field\":\"width\",\"units\":\"data\"},\"x\":{\"field\":\"x\"},\"y\":{\"field\":\"y\"}},\"id\":\"038e98a4-01cd-4f93-89a9-6096c820933d\",\"type\":\"Rect\"},{\"attributes\":{\"callback\":null,\"column_names\":[\"line_color\",\"line_alpha\",\"color\",\"fill_alpha\",\"height\",\"width\",\"y\",\"x\",\"label\"],\"data\":{\"AnimalType\":[\"Dog\"],\"OutcomeType\":[\"Transfer\"],\"chart_index\":[{\"AnimalType\":\"Dog\",\"OutcomeType\":\"Transfer\"}],\"color\":[\"#5ab738\"],\"fill_alpha\":[0.8],\"height\":[3917.0],\"label\":[{\"AnimalType\":\"Dog\",\"OutcomeType\":\"Transfer\"}],\"line_alpha\":[1.0],\"line_color\":[\"white\"],\"width\":[0.8],\"x\":[\"Transfer\"],\"y\":[7463.5]}},\"id\":\"32d6b1f7-aadd-4199-8989-c4fb1f431c30\",\"type\":\"ColumnDataSource\"},{\"attributes\":{\"callback\":null,\"column_names\":[\"line_color\",\"line_alpha\",\"color\",\"fill_alpha\",\"height\",\"width\",\"y\",\"x\",\"label\"],\"data\":{\"AnimalType\":[\"Cat\"],\"OutcomeType\":[\"Adoption\"],\"chart_index\":[{\"AnimalType\":\"Cat\",\"OutcomeType\":\"Adoption\"}],\"color\":[\"#f22c40\"],\"fill_alpha\":[0.8],\"height\":[4272.0],\"label\":[{\"AnimalType\":\"Cat\",\"OutcomeType\":\"Adoption\"}],\"line_alpha\":[1.0],\"line_color\":[\"white\"],\"width\":[0.8],\"x\":[\"Adoption\"],\"y\":[8633.0]}},\"id\":\"1cc1295b-3333-4473-8667-816a47afb22b\",\"type\":\"ColumnDataSource\"},{\"attributes\":{\"plot\":{\"id\":\"ec9e994d-219b-40a7-9196-8432f34cd4ae\",\"subtype\":\"Chart\",\"type\":\"Plot\"}},\"id\":\"da7fa2c3-11d6-48bd-b32d-09db09cf56a3\",\"type\":\"SaveTool\"},{\"attributes\":{\"data_source\":{\"id\":\"ee5291cf-3145-4320-8fab-69168d9fc68a\",\"type\":\"ColumnDataSource\"},\"glyph\":{\"id\":\"60801d08-9f29-4506-ab1f-0ba29c3fbe73\",\"type\":\"Rect\"},\"hover_glyph\":null,\"muted_glyph\":null},\"id\":\"40eb006a-cd97-4571-8ab0-1ba813900831\",\"type\":\"GlyphRenderer\"},{\"attributes\":{\"fill_alpha\":{\"field\":\"fill_alpha\"},\"fill_color\":{\"field\":\"color\"},\"height\":{\"field\":\"height\",\"units\":\"data\"},\"line_color\":{\"field\":\"line_color\"},\"width\":{\"field\":\"width\",\"units\":\"data\"},\"x\":{\"field\":\"x\"},\"y\":{\"field\":\"y\"}},\"id\":\"ee523488-44cf-4e3e-84fc-123b0b2b4ff5\",\"type\":\"Rect\"}],\"root_ids\":[\"ec9e994d-219b-40a7-9196-8432f34cd4ae\"]},\"title\":\"Bokeh Application\",\"version\":\"0.12.5\"}};\n",
       "            var render_items = [{\"docid\":\"69045f07-819c-43f0-950a-eef6e28a1755\",\"elementid\":\"e1e747a9-75d4-494b-a77a-04aa10083eea\",\"modelid\":\"ec9e994d-219b-40a7-9196-8432f34cd4ae\"}];\n",
       "            \n",
       "            Bokeh.embed.embed_items(docs_json, render_items);\n",
       "          };\n",
       "          if (document.readyState != \"loading\") fn();\n",
       "          else document.addEventListener(\"DOMContentLoaded\", fn);\n",
       "        })();\n",
       "      },\n",
       "      function(Bokeh) {\n",
       "      }\n",
       "    ];\n",
       "  \n",
       "    function run_inline_js() {\n",
       "      \n",
       "      if ((window.Bokeh !== undefined) || (force === true)) {\n",
       "        for (var i = 0; i < inline_js.length; i++) {\n",
       "          inline_js[i](window.Bokeh);\n",
       "        }if (force === true) {\n",
       "          display_loaded();\n",
       "        }} else if (Date.now() < window._bokeh_timeout) {\n",
       "        setTimeout(run_inline_js, 100);\n",
       "      } else if (!window._bokeh_failed_load) {\n",
       "        console.log(\"Bokeh: BokehJS failed to load within specified timeout.\");\n",
       "        window._bokeh_failed_load = true;\n",
       "      } else if (force !== true) {\n",
       "        var cell = $(document.getElementById(\"e1e747a9-75d4-494b-a77a-04aa10083eea\")).parents('.cell').data().cell;\n",
       "        cell.output_area.append_execute_result(NB_LOAD_WARNING)\n",
       "      }\n",
       "  \n",
       "    }\n",
       "  \n",
       "    if (window._bokeh_is_loading === 0) {\n",
       "      console.log(\"Bokeh: BokehJS loaded, going straight to plotting\");\n",
       "      run_inline_js();\n",
       "    } else {\n",
       "      load_libs(js_urls, function() {\n",
       "        console.log(\"Bokeh: BokehJS plotting callback run at\", now());\n",
       "        run_inline_js();\n",
       "      });\n",
       "    }\n",
       "  }(this));\n",
       "</script>"
      ]
     },
     "metadata": {},
     "output_type": "display_data"
    }
   ],
   "source": [
    "#Black cat\n",
    "p = Bar(data, label='OutcomeType', values = 'BlackCat', agg='count', stack='AnimalType',\n",
    "        title=\"Outcomes for Black Cats\", legend='top_right')\n",
    "show(p)"
   ]
  },
  {
   "cell_type": "code",
   "execution_count": 23,
   "metadata": {
    "collapsed": false
   },
   "outputs": [
    {
     "data": {
      "text/html": [
       "\n",
       "\n",
       "    <div class=\"bk-root\">\n",
       "        <div class=\"bk-plotdiv\" id=\"94d91a91-11a1-4eb8-99e7-fe6a00873be9\"></div>\n",
       "    </div>\n",
       "<script type=\"text/javascript\">\n",
       "  \n",
       "  (function(global) {\n",
       "    function now() {\n",
       "      return new Date();\n",
       "    }\n",
       "  \n",
       "    var force = false;\n",
       "  \n",
       "    if (typeof (window._bokeh_onload_callbacks) === \"undefined\" || force === true) {\n",
       "      window._bokeh_onload_callbacks = [];\n",
       "      window._bokeh_is_loading = undefined;\n",
       "    }\n",
       "  \n",
       "  \n",
       "    \n",
       "    if (typeof (window._bokeh_timeout) === \"undefined\" || force === true) {\n",
       "      window._bokeh_timeout = Date.now() + 0;\n",
       "      window._bokeh_failed_load = false;\n",
       "    }\n",
       "  \n",
       "    var NB_LOAD_WARNING = {'data': {'text/html':\n",
       "       \"<div style='background-color: #fdd'>\\n\"+\n",
       "       \"<p>\\n\"+\n",
       "       \"BokehJS does not appear to have successfully loaded. If loading BokehJS from CDN, this \\n\"+\n",
       "       \"may be due to a slow or bad network connection. Possible fixes:\\n\"+\n",
       "       \"</p>\\n\"+\n",
       "       \"<ul>\\n\"+\n",
       "       \"<li>re-rerun `output_notebook()` to attempt to load from CDN again, or</li>\\n\"+\n",
       "       \"<li>use INLINE resources instead, as so:</li>\\n\"+\n",
       "       \"</ul>\\n\"+\n",
       "       \"<code>\\n\"+\n",
       "       \"from bokeh.resources import INLINE\\n\"+\n",
       "       \"output_notebook(resources=INLINE)\\n\"+\n",
       "       \"</code>\\n\"+\n",
       "       \"</div>\"}};\n",
       "  \n",
       "    function display_loaded() {\n",
       "      if (window.Bokeh !== undefined) {\n",
       "        var el = document.getElementById(\"94d91a91-11a1-4eb8-99e7-fe6a00873be9\");\n",
       "        el.textContent = \"BokehJS \" + Bokeh.version + \" successfully loaded.\";\n",
       "      } else if (Date.now() < window._bokeh_timeout) {\n",
       "        setTimeout(display_loaded, 100)\n",
       "      }\n",
       "    }\n",
       "  \n",
       "    function run_callbacks() {\n",
       "      window._bokeh_onload_callbacks.forEach(function(callback) { callback() });\n",
       "      delete window._bokeh_onload_callbacks\n",
       "      console.info(\"Bokeh: all callbacks have finished\");\n",
       "    }\n",
       "  \n",
       "    function load_libs(js_urls, callback) {\n",
       "      window._bokeh_onload_callbacks.push(callback);\n",
       "      if (window._bokeh_is_loading > 0) {\n",
       "        console.log(\"Bokeh: BokehJS is being loaded, scheduling callback at\", now());\n",
       "        return null;\n",
       "      }\n",
       "      if (js_urls == null || js_urls.length === 0) {\n",
       "        run_callbacks();\n",
       "        return null;\n",
       "      }\n",
       "      console.log(\"Bokeh: BokehJS not loaded, scheduling load and callback at\", now());\n",
       "      window._bokeh_is_loading = js_urls.length;\n",
       "      for (var i = 0; i < js_urls.length; i++) {\n",
       "        var url = js_urls[i];\n",
       "        var s = document.createElement('script');\n",
       "        s.src = url;\n",
       "        s.async = false;\n",
       "        s.onreadystatechange = s.onload = function() {\n",
       "          window._bokeh_is_loading--;\n",
       "          if (window._bokeh_is_loading === 0) {\n",
       "            console.log(\"Bokeh: all BokehJS libraries loaded\");\n",
       "            run_callbacks()\n",
       "          }\n",
       "        };\n",
       "        s.onerror = function() {\n",
       "          console.warn(\"failed to load library \" + url);\n",
       "        };\n",
       "        console.log(\"Bokeh: injecting script tag for BokehJS library: \", url);\n",
       "        document.getElementsByTagName(\"head\")[0].appendChild(s);\n",
       "      }\n",
       "    };var element = document.getElementById(\"94d91a91-11a1-4eb8-99e7-fe6a00873be9\");\n",
       "    if (element == null) {\n",
       "      console.log(\"Bokeh: ERROR: autoload.js configured with elementid '94d91a91-11a1-4eb8-99e7-fe6a00873be9' but no matching script tag was found. \")\n",
       "      return false;\n",
       "    }\n",
       "  \n",
       "    var js_urls = [];\n",
       "  \n",
       "    var inline_js = [\n",
       "      function(Bokeh) {\n",
       "        (function() {\n",
       "          var fn = function() {\n",
       "            var docs_json = {\"f20d9615-0c5c-4e7a-a9fe-764f93b1af97\":{\"roots\":{\"references\":[{\"attributes\":{\"fill_alpha\":{\"field\":\"fill_alpha\"},\"fill_color\":{\"field\":\"color\"},\"height\":{\"field\":\"height\",\"units\":\"data\"},\"line_color\":{\"field\":\"line_color\"},\"width\":{\"field\":\"width\",\"units\":\"data\"},\"x\":{\"field\":\"x\"},\"y\":{\"field\":\"y\"}},\"id\":\"b543e295-78fb-49fa-8288-7dc186b55a00\",\"type\":\"Rect\"},{\"attributes\":{\"bottom_units\":\"screen\",\"fill_alpha\":{\"value\":0.5},\"fill_color\":{\"value\":\"lightgrey\"},\"left_units\":\"screen\",\"level\":\"overlay\",\"line_alpha\":{\"value\":1.0},\"line_color\":{\"value\":\"black\"},\"line_dash\":[4,4],\"line_width\":{\"value\":2},\"plot\":null,\"render_mode\":\"css\",\"right_units\":\"screen\",\"top_units\":\"screen\"},\"id\":\"e18a9e74-6a5a-4cfd-9475-a3da2fa13058\",\"type\":\"BoxAnnotation\"},{\"attributes\":{\"plot\":{\"id\":\"edf1281e-bfd0-4818-955e-290dfc67fee2\",\"subtype\":\"Chart\",\"type\":\"Plot\"}},\"id\":\"60e323a2-da69-42cc-9131-606995eeaa7e\",\"type\":\"SaveTool\"},{\"attributes\":{\"plot\":null,\"text\":\"Outcomes for Pitbulls\"},\"id\":\"3cb59b0d-5493-4cf0-9a19-c762b386c843\",\"type\":\"Title\"},{\"attributes\":{\"plot\":{\"id\":\"edf1281e-bfd0-4818-955e-290dfc67fee2\",\"subtype\":\"Chart\",\"type\":\"Plot\"}},\"id\":\"546f7373-a2b2-4b0b-bda2-f9667472a5c6\",\"type\":\"HelpTool\"},{\"attributes\":{\"data_source\":{\"id\":\"87d49f00-bf84-4a5a-85e0-bfd71dda8f41\",\"type\":\"ColumnDataSource\"},\"glyph\":{\"id\":\"bde16748-5149-4c43-9fba-02675b4a0206\",\"type\":\"Rect\"},\"hover_glyph\":null,\"muted_glyph\":null},\"id\":\"9bb03587-5e54-412d-bf9e-7fee0d4140d9\",\"type\":\"GlyphRenderer\"},{\"attributes\":{\"fill_alpha\":{\"field\":\"fill_alpha\"},\"fill_color\":{\"field\":\"color\"},\"height\":{\"field\":\"height\",\"units\":\"data\"},\"line_color\":{\"field\":\"line_color\"},\"width\":{\"field\":\"width\",\"units\":\"data\"},\"x\":{\"field\":\"x\"},\"y\":{\"field\":\"y\"}},\"id\":\"430741e6-4a0d-4451-a3f9-8782d4226349\",\"type\":\"Rect\"},{\"attributes\":{\"callback\":null,\"column_names\":[\"line_color\",\"line_alpha\",\"color\",\"fill_alpha\",\"height\",\"width\",\"y\",\"x\",\"label\"],\"data\":{\"AnimalType\":[\"Dog\"],\"OutcomeType\":[\"Adoption\"],\"chart_index\":[{\"AnimalType\":\"Dog\",\"OutcomeType\":\"Adoption\"}],\"color\":[\"#5ab738\"],\"fill_alpha\":[0.8],\"height\":[6497.0],\"label\":[{\"AnimalType\":\"Dog\",\"OutcomeType\":\"Adoption\"}],\"line_alpha\":[1.0],\"line_color\":[\"white\"],\"width\":[0.8],\"x\":[\"Adoption\"],\"y\":[3248.5]}},\"id\":\"01ffc19e-6d4a-4a14-ace2-7297862af11b\",\"type\":\"ColumnDataSource\"},{\"attributes\":{},\"id\":\"58d136dc-b899-4892-8b74-b8c98e502624\",\"type\":\"BasicTicker\"},{\"attributes\":{\"below\":[{\"id\":\"08ac1172-e05f-4337-b771-4a1db05e0e2d\",\"type\":\"CategoricalAxis\"}],\"css_classes\":null,\"left\":[{\"id\":\"5ae8102f-f459-4a75-b018-f484272f3d3d\",\"type\":\"LinearAxis\"}],\"renderers\":[{\"id\":\"e18a9e74-6a5a-4cfd-9475-a3da2fa13058\",\"type\":\"BoxAnnotation\"},{\"id\":\"e383076b-1ee9-4982-a195-eaa6e2e37bf3\",\"type\":\"GlyphRenderer\"},{\"id\":\"7f3dc8e8-d632-434e-add7-c4e678cecf27\",\"type\":\"GlyphRenderer\"},{\"id\":\"7bf8ea26-616f-4f84-8cb6-e0fd90041c8f\",\"type\":\"GlyphRenderer\"},{\"id\":\"dd95d735-2095-49d7-a05e-d5a01a0a1708\",\"type\":\"GlyphRenderer\"},{\"id\":\"9bb03587-5e54-412d-bf9e-7fee0d4140d9\",\"type\":\"GlyphRenderer\"},{\"id\":\"0809f3c3-2a6b-4e4c-8199-44332e48d4d5\",\"type\":\"GlyphRenderer\"},{\"id\":\"8bb94afe-7d5d-4064-b0fc-9d11ce9303ca\",\"type\":\"GlyphRenderer\"},{\"id\":\"7139c49b-9277-4353-8ae1-b758bd1f4f5c\",\"type\":\"GlyphRenderer\"},{\"id\":\"666c536d-3ed5-463d-b6a7-366a493f2ea3\",\"type\":\"GlyphRenderer\"},{\"id\":\"cb5ef258-a071-4be1-a1bc-ff2dc0749bc3\",\"type\":\"GlyphRenderer\"},{\"id\":\"8d178a33-8e49-48ae-a947-b2483995dbe5\",\"type\":\"Legend\"},{\"id\":\"08ac1172-e05f-4337-b771-4a1db05e0e2d\",\"type\":\"CategoricalAxis\"},{\"id\":\"5ae8102f-f459-4a75-b018-f484272f3d3d\",\"type\":\"LinearAxis\"},{\"id\":\"36ea2b01-615a-4f25-8ef9-8157fada7ce9\",\"type\":\"Grid\"}],\"title\":{\"id\":\"3cb59b0d-5493-4cf0-9a19-c762b386c843\",\"type\":\"Title\"},\"tool_events\":{\"id\":\"1aa46941-702c-49d2-a981-0465a5f615c2\",\"type\":\"ToolEvents\"},\"toolbar\":{\"id\":\"1f79d43d-5062-4ad4-b598-9f1dda6d3944\",\"type\":\"Toolbar\"},\"x_mapper_type\":\"auto\",\"x_range\":{\"id\":\"f7719968-55ee-42d2-9453-5f8ca162655e\",\"type\":\"FactorRange\"},\"y_mapper_type\":\"auto\",\"y_range\":{\"id\":\"3b67174b-f5e2-42f4-8b31-fe15e0c9f766\",\"type\":\"Range1d\"}},\"id\":\"edf1281e-bfd0-4818-955e-290dfc67fee2\",\"subtype\":\"Chart\",\"type\":\"Plot\"},{\"attributes\":{\"fill_alpha\":{\"field\":\"fill_alpha\"},\"fill_color\":{\"field\":\"color\"},\"height\":{\"field\":\"height\",\"units\":\"data\"},\"line_color\":{\"field\":\"line_color\"},\"width\":{\"field\":\"width\",\"units\":\"data\"},\"x\":{\"field\":\"x\"},\"y\":{\"field\":\"y\"}},\"id\":\"1d43b4e9-4e0c-4063-a068-dff65f993169\",\"type\":\"Rect\"},{\"attributes\":{\"plot\":{\"id\":\"edf1281e-bfd0-4818-955e-290dfc67fee2\",\"subtype\":\"Chart\",\"type\":\"Plot\"}},\"id\":\"fc4b8168-667e-4951-ae09-af53d855b03a\",\"type\":\"PanTool\"},{\"attributes\":{\"data_source\":{\"id\":\"01ffc19e-6d4a-4a14-ace2-7297862af11b\",\"type\":\"ColumnDataSource\"},\"glyph\":{\"id\":\"7e9415bb-7a8b-496b-9bf3-ec0856eba814\",\"type\":\"Rect\"},\"hover_glyph\":null,\"muted_glyph\":null},\"id\":\"7bf8ea26-616f-4f84-8cb6-e0fd90041c8f\",\"type\":\"GlyphRenderer\"},{\"attributes\":{\"callback\":null,\"column_names\":[\"line_color\",\"line_alpha\",\"color\",\"fill_alpha\",\"height\",\"width\",\"y\",\"x\",\"label\"],\"data\":{\"AnimalType\":[\"Cat\"],\"OutcomeType\":[\"Died\"],\"chart_index\":[{\"AnimalType\":\"Cat\",\"OutcomeType\":\"Died\"}],\"color\":[\"#f22c40\"],\"fill_alpha\":[0.8],\"height\":[147.0],\"label\":[{\"AnimalType\":\"Cat\",\"OutcomeType\":\"Died\"}],\"line_alpha\":[1.0],\"line_color\":[\"white\"],\"width\":[0.8],\"x\":[\"Died\"],\"y\":[73.5]}},\"id\":\"ad3fd829-5a98-406e-99fe-bc39fbb28f08\",\"type\":\"ColumnDataSource\"},{\"attributes\":{\"data_source\":{\"id\":\"d8061955-1d3e-4b5f-a24e-05d943595f9e\",\"type\":\"ColumnDataSource\"},\"glyph\":{\"id\":\"6840d158-bd3b-4acf-a587-8bbc73d4cdde\",\"type\":\"Rect\"},\"hover_glyph\":null,\"muted_glyph\":null},\"id\":\"7f3dc8e8-d632-434e-add7-c4e678cecf27\",\"type\":\"GlyphRenderer\"},{\"attributes\":{\"callback\":null,\"factors\":[\"Adoption\",\"Died\",\"Euthanasia\",\"Return_to_owner\",\"Transfer\"]},\"id\":\"f7719968-55ee-42d2-9453-5f8ca162655e\",\"type\":\"FactorRange\"},{\"attributes\":{\"overlay\":{\"id\":\"e18a9e74-6a5a-4cfd-9475-a3da2fa13058\",\"type\":\"BoxAnnotation\"},\"plot\":{\"id\":\"edf1281e-bfd0-4818-955e-290dfc67fee2\",\"subtype\":\"Chart\",\"type\":\"Plot\"}},\"id\":\"3579a53f-eda2-49da-b814-b5f2a8563a43\",\"type\":\"BoxZoomTool\"},{\"attributes\":{\"plot\":{\"id\":\"edf1281e-bfd0-4818-955e-290dfc67fee2\",\"subtype\":\"Chart\",\"type\":\"Plot\"}},\"id\":\"f4819591-b9f2-4996-8b08-39c8203a3dd0\",\"type\":\"ResetTool\"},{\"attributes\":{\"callback\":null,\"column_names\":[\"line_color\",\"line_alpha\",\"color\",\"fill_alpha\",\"height\",\"width\",\"y\",\"x\",\"label\"],\"data\":{\"AnimalType\":[\"Cat\"],\"OutcomeType\":[\"Transfer\"],\"chart_index\":[{\"AnimalType\":\"Cat\",\"OutcomeType\":\"Transfer\"}],\"color\":[\"#f22c40\"],\"fill_alpha\":[0.8],\"height\":[5505.0],\"label\":[{\"AnimalType\":\"Cat\",\"OutcomeType\":\"Transfer\"}],\"line_alpha\":[1.0],\"line_color\":[\"white\"],\"width\":[0.8],\"x\":[\"Transfer\"],\"y\":[2752.5]}},\"id\":\"c560a0f8-4c44-4d1e-a0e9-7907acfa8545\",\"type\":\"ColumnDataSource\"},{\"attributes\":{\"label\":{\"value\":\"Cat\"},\"renderers\":[{\"id\":\"7f3dc8e8-d632-434e-add7-c4e678cecf27\",\"type\":\"GlyphRenderer\"}]},\"id\":\"43f8d799-d928-4ad9-89e6-06fa4c41d624\",\"type\":\"LegendItem\"},{\"attributes\":{\"fill_alpha\":{\"field\":\"fill_alpha\"},\"fill_color\":{\"field\":\"color\"},\"height\":{\"field\":\"height\",\"units\":\"data\"},\"line_color\":{\"field\":\"line_color\"},\"width\":{\"field\":\"width\",\"units\":\"data\"},\"x\":{\"field\":\"x\"},\"y\":{\"field\":\"y\"}},\"id\":\"a63b5ec6-4239-4a84-8951-eed29b5b5896\",\"type\":\"Rect\"},{\"attributes\":{},\"id\":\"1aa46941-702c-49d2-a981-0465a5f615c2\",\"type\":\"ToolEvents\"},{\"attributes\":{\"data_source\":{\"id\":\"f082e980-0eca-43f4-baa4-3fd721dd64b4\",\"type\":\"ColumnDataSource\"},\"glyph\":{\"id\":\"c5858a15-ab73-4c4f-abbf-6d3078a0b5a1\",\"type\":\"Rect\"},\"hover_glyph\":null,\"muted_glyph\":null},\"id\":\"cb5ef258-a071-4be1-a1bc-ff2dc0749bc3\",\"type\":\"GlyphRenderer\"},{\"attributes\":{},\"id\":\"c51a2223-abe2-4938-b1d5-94bcde2e7b9d\",\"type\":\"CategoricalTickFormatter\"},{\"attributes\":{\"data_source\":{\"id\":\"ad3fd829-5a98-406e-99fe-bc39fbb28f08\",\"type\":\"ColumnDataSource\"},\"glyph\":{\"id\":\"b543e295-78fb-49fa-8288-7dc186b55a00\",\"type\":\"Rect\"},\"hover_glyph\":null,\"muted_glyph\":null},\"id\":\"666c536d-3ed5-463d-b6a7-366a493f2ea3\",\"type\":\"GlyphRenderer\"},{\"attributes\":{\"callback\":null,\"column_names\":[\"line_color\",\"line_alpha\",\"color\",\"fill_alpha\",\"height\",\"width\",\"y\",\"x\",\"label\"],\"data\":{\"AnimalType\":[\"Dog\"],\"OutcomeType\":[\"Euthanasia\"],\"chart_index\":[{\"AnimalType\":\"Dog\",\"OutcomeType\":\"Euthanasia\"}],\"color\":[\"#5ab738\"],\"fill_alpha\":[0.8],\"height\":[845.0],\"label\":[{\"AnimalType\":\"Dog\",\"OutcomeType\":\"Euthanasia\"}],\"line_alpha\":[1.0],\"line_color\":[\"white\"],\"width\":[0.8],\"x\":[\"Euthanasia\"],\"y\":[1132.5]}},\"id\":\"442487c0-c4d3-4c83-8857-8767a96e4fcc\",\"type\":\"ColumnDataSource\"},{\"attributes\":{\"data_source\":{\"id\":\"7f5eb374-a3b1-4c31-b21c-a2d012b65699\",\"type\":\"ColumnDataSource\"},\"glyph\":{\"id\":\"1d43b4e9-4e0c-4063-a068-dff65f993169\",\"type\":\"Rect\"},\"hover_glyph\":null,\"muted_glyph\":null},\"id\":\"e383076b-1ee9-4982-a195-eaa6e2e37bf3\",\"type\":\"GlyphRenderer\"},{\"attributes\":{\"fill_alpha\":{\"field\":\"fill_alpha\"},\"fill_color\":{\"field\":\"color\"},\"height\":{\"field\":\"height\",\"units\":\"data\"},\"line_color\":{\"field\":\"line_color\"},\"width\":{\"field\":\"width\",\"units\":\"data\"},\"x\":{\"field\":\"x\"},\"y\":{\"field\":\"y\"}},\"id\":\"c5858a15-ab73-4c4f-abbf-6d3078a0b5a1\",\"type\":\"Rect\"},{\"attributes\":{\"callback\":null,\"end\":11307.45},\"id\":\"3b67174b-f5e2-42f4-8b31-fe15e0c9f766\",\"type\":\"Range1d\"},{\"attributes\":{\"axis_label\":\"Count( Pitbull )\",\"formatter\":{\"id\":\"9e87f1fe-f0d6-45b7-bfa6-19b71a37b9c5\",\"type\":\"BasicTickFormatter\"},\"plot\":{\"id\":\"edf1281e-bfd0-4818-955e-290dfc67fee2\",\"subtype\":\"Chart\",\"type\":\"Plot\"},\"ticker\":{\"id\":\"58d136dc-b899-4892-8b74-b8c98e502624\",\"type\":\"BasicTicker\"}},\"id\":\"5ae8102f-f459-4a75-b018-f484272f3d3d\",\"type\":\"LinearAxis\"},{\"attributes\":{\"fill_alpha\":{\"field\":\"fill_alpha\"},\"fill_color\":{\"field\":\"color\"},\"height\":{\"field\":\"height\",\"units\":\"data\"},\"line_color\":{\"field\":\"line_color\"},\"width\":{\"field\":\"width\",\"units\":\"data\"},\"x\":{\"field\":\"x\"},\"y\":{\"field\":\"y\"}},\"id\":\"533838c7-b4f5-4577-ba4a-cf2ca536c959\",\"type\":\"Rect\"},{\"attributes\":{\"callback\":null,\"column_names\":[\"line_color\",\"line_alpha\",\"color\",\"fill_alpha\",\"height\",\"width\",\"y\",\"x\",\"label\"],\"data\":{\"AnimalType\":[\"Cat\"],\"OutcomeType\":[\"Adoption\"],\"chart_index\":[{\"AnimalType\":\"Cat\",\"OutcomeType\":\"Adoption\"}],\"color\":[\"#f22c40\"],\"fill_alpha\":[0.8],\"height\":[4272.0],\"label\":[{\"AnimalType\":\"Cat\",\"OutcomeType\":\"Adoption\"}],\"line_alpha\":[1.0],\"line_color\":[\"white\"],\"width\":[0.8],\"x\":[\"Adoption\"],\"y\":[8633.0]}},\"id\":\"1790e9cc-1cad-4a24-a977-2a3e4a3a7e0a\",\"type\":\"ColumnDataSource\"},{\"attributes\":{\"label\":{\"value\":\"Dog\"},\"renderers\":[{\"id\":\"e383076b-1ee9-4982-a195-eaa6e2e37bf3\",\"type\":\"GlyphRenderer\"}]},\"id\":\"1ad1530d-92cf-4f38-be60-e61f7b3306b9\",\"type\":\"LegendItem\"},{\"attributes\":{\"callback\":null,\"column_names\":[\"line_color\",\"line_alpha\",\"color\",\"fill_alpha\",\"height\",\"width\",\"y\",\"x\",\"label\"],\"data\":{\"AnimalType\":[\"Dog\"],\"OutcomeType\":[\"Transfer\"],\"chart_index\":[{\"AnimalType\":\"Dog\",\"OutcomeType\":\"Transfer\"}],\"color\":[\"#5ab738\"],\"fill_alpha\":[0.8],\"height\":[3917.0],\"label\":[{\"AnimalType\":\"Dog\",\"OutcomeType\":\"Transfer\"}],\"line_alpha\":[1.0],\"line_color\":[\"white\"],\"width\":[0.8],\"x\":[\"Transfer\"],\"y\":[7463.5]}},\"id\":\"87d49f00-bf84-4a5a-85e0-bfd71dda8f41\",\"type\":\"ColumnDataSource\"},{\"attributes\":{\"callback\":null,\"column_names\":[\"line_color\",\"line_alpha\",\"color\",\"fill_alpha\",\"height\",\"width\",\"y\",\"x\",\"label\"],\"data\":{\"AnimalType\":[\"Cat\"],\"OutcomeType\":[\"Return_to_owner\"],\"chart_index\":[{\"AnimalType\":\"Cat\",\"OutcomeType\":\"Return_to_owner\"}],\"color\":[\"#f22c40\"],\"fill_alpha\":[0.8],\"height\":[500.0],\"label\":[{\"AnimalType\":\"Cat\",\"OutcomeType\":\"Return_to_owner\"}],\"line_alpha\":[1.0],\"line_color\":[\"white\"],\"width\":[0.8],\"x\":[\"Return_to_owner\"],\"y\":[4536.0]}},\"id\":\"ffd8a5a3-d5ac-44be-ac4e-8b08aaaebc7d\",\"type\":\"ColumnDataSource\"},{\"attributes\":{\"callback\":null,\"column_names\":[\"line_color\",\"line_alpha\",\"color\",\"fill_alpha\",\"height\",\"width\",\"y\",\"x\",\"label\"],\"data\":{\"AnimalType\":[\"Dog\"],\"OutcomeType\":[\"Return_to_owner\"],\"chart_index\":[{\"AnimalType\":\"Dog\",\"OutcomeType\":\"Return_to_owner\"}],\"color\":[\"#5ab738\"],\"fill_alpha\":[0.8],\"height\":[4286.0],\"label\":[{\"AnimalType\":\"Dog\",\"OutcomeType\":\"Return_to_owner\"}],\"line_alpha\":[1.0],\"line_color\":[\"white\"],\"width\":[0.8],\"x\":[\"Return_to_owner\"],\"y\":[2143.0]}},\"id\":\"7f5eb374-a3b1-4c31-b21c-a2d012b65699\",\"type\":\"ColumnDataSource\"},{\"attributes\":{\"fill_alpha\":{\"field\":\"fill_alpha\"},\"fill_color\":{\"field\":\"color\"},\"height\":{\"field\":\"height\",\"units\":\"data\"},\"line_color\":{\"field\":\"line_color\"},\"width\":{\"field\":\"width\",\"units\":\"data\"},\"x\":{\"field\":\"x\"},\"y\":{\"field\":\"y\"}},\"id\":\"04cb5dec-425a-4b4e-a2fc-b8857d6f1dd0\",\"type\":\"Rect\"},{\"attributes\":{\"callback\":null,\"column_names\":[\"line_color\",\"line_alpha\",\"color\",\"fill_alpha\",\"height\",\"width\",\"y\",\"x\",\"label\"],\"data\":{\"AnimalType\":[\"Dog\"],\"OutcomeType\":[\"Died\"],\"chart_index\":[{\"AnimalType\":\"Dog\",\"OutcomeType\":\"Died\"}],\"color\":[\"#5ab738\"],\"fill_alpha\":[0.8],\"height\":[50.0],\"label\":[{\"AnimalType\":\"Dog\",\"OutcomeType\":\"Died\"}],\"line_alpha\":[1.0],\"line_color\":[\"white\"],\"width\":[0.8],\"x\":[\"Died\"],\"y\":[172.0]}},\"id\":\"f082e980-0eca-43f4-baa4-3fd721dd64b4\",\"type\":\"ColumnDataSource\"},{\"attributes\":{\"data_source\":{\"id\":\"1790e9cc-1cad-4a24-a977-2a3e4a3a7e0a\",\"type\":\"ColumnDataSource\"},\"glyph\":{\"id\":\"430741e6-4a0d-4451-a3f9-8782d4226349\",\"type\":\"Rect\"},\"hover_glyph\":null,\"muted_glyph\":null},\"id\":\"0809f3c3-2a6b-4e4c-8199-44332e48d4d5\",\"type\":\"GlyphRenderer\"},{\"attributes\":{\"plot\":{\"id\":\"edf1281e-bfd0-4818-955e-290dfc67fee2\",\"subtype\":\"Chart\",\"type\":\"Plot\"}},\"id\":\"8f5ad4c5-b908-488f-97b1-52c7b0e9f36d\",\"type\":\"WheelZoomTool\"},{\"attributes\":{\"axis_label\":\"Outcometype\",\"formatter\":{\"id\":\"c51a2223-abe2-4938-b1d5-94bcde2e7b9d\",\"type\":\"CategoricalTickFormatter\"},\"major_label_orientation\":0.7853981633974483,\"plot\":{\"id\":\"edf1281e-bfd0-4818-955e-290dfc67fee2\",\"subtype\":\"Chart\",\"type\":\"Plot\"},\"ticker\":{\"id\":\"d05596d1-58d4-4b5e-8b99-13eae7fa1235\",\"type\":\"CategoricalTicker\"}},\"id\":\"08ac1172-e05f-4337-b771-4a1db05e0e2d\",\"type\":\"CategoricalAxis\"},{\"attributes\":{\"callback\":null,\"column_names\":[\"line_color\",\"line_alpha\",\"color\",\"fill_alpha\",\"height\",\"width\",\"y\",\"x\",\"label\"],\"data\":{\"AnimalType\":[\"Cat\"],\"OutcomeType\":[\"Euthanasia\"],\"chart_index\":[{\"AnimalType\":\"Cat\",\"OutcomeType\":\"Euthanasia\"}],\"color\":[\"#f22c40\"],\"fill_alpha\":[0.8],\"height\":[710.0],\"label\":[{\"AnimalType\":\"Cat\",\"OutcomeType\":\"Euthanasia\"}],\"line_alpha\":[1.0],\"line_color\":[\"white\"],\"width\":[0.8],\"x\":[\"Euthanasia\"],\"y\":[355.0]}},\"id\":\"d8061955-1d3e-4b5f-a24e-05d943595f9e\",\"type\":\"ColumnDataSource\"},{\"attributes\":{},\"id\":\"d05596d1-58d4-4b5e-8b99-13eae7fa1235\",\"type\":\"CategoricalTicker\"},{\"attributes\":{\"data_source\":{\"id\":\"442487c0-c4d3-4c83-8857-8767a96e4fcc\",\"type\":\"ColumnDataSource\"},\"glyph\":{\"id\":\"04cb5dec-425a-4b4e-a2fc-b8857d6f1dd0\",\"type\":\"Rect\"},\"hover_glyph\":null,\"muted_glyph\":null},\"id\":\"7139c49b-9277-4353-8ae1-b758bd1f4f5c\",\"type\":\"GlyphRenderer\"},{\"attributes\":{\"items\":[{\"id\":\"1ad1530d-92cf-4f38-be60-e61f7b3306b9\",\"type\":\"LegendItem\"},{\"id\":\"43f8d799-d928-4ad9-89e6-06fa4c41d624\",\"type\":\"LegendItem\"}],\"plot\":{\"id\":\"edf1281e-bfd0-4818-955e-290dfc67fee2\",\"subtype\":\"Chart\",\"type\":\"Plot\"}},\"id\":\"8d178a33-8e49-48ae-a947-b2483995dbe5\",\"type\":\"Legend\"},{\"attributes\":{\"data_source\":{\"id\":\"c560a0f8-4c44-4d1e-a0e9-7907acfa8545\",\"type\":\"ColumnDataSource\"},\"glyph\":{\"id\":\"533838c7-b4f5-4577-ba4a-cf2ca536c959\",\"type\":\"Rect\"},\"hover_glyph\":null,\"muted_glyph\":null},\"id\":\"dd95d735-2095-49d7-a05e-d5a01a0a1708\",\"type\":\"GlyphRenderer\"},{\"attributes\":{},\"id\":\"9e87f1fe-f0d6-45b7-bfa6-19b71a37b9c5\",\"type\":\"BasicTickFormatter\"},{\"attributes\":{\"fill_alpha\":{\"field\":\"fill_alpha\"},\"fill_color\":{\"field\":\"color\"},\"height\":{\"field\":\"height\",\"units\":\"data\"},\"line_color\":{\"field\":\"line_color\"},\"width\":{\"field\":\"width\",\"units\":\"data\"},\"x\":{\"field\":\"x\"},\"y\":{\"field\":\"y\"}},\"id\":\"bde16748-5149-4c43-9fba-02675b4a0206\",\"type\":\"Rect\"},{\"attributes\":{\"fill_alpha\":{\"field\":\"fill_alpha\"},\"fill_color\":{\"field\":\"color\"},\"height\":{\"field\":\"height\",\"units\":\"data\"},\"line_color\":{\"field\":\"line_color\"},\"width\":{\"field\":\"width\",\"units\":\"data\"},\"x\":{\"field\":\"x\"},\"y\":{\"field\":\"y\"}},\"id\":\"7e9415bb-7a8b-496b-9bf3-ec0856eba814\",\"type\":\"Rect\"},{\"attributes\":{\"fill_alpha\":{\"field\":\"fill_alpha\"},\"fill_color\":{\"field\":\"color\"},\"height\":{\"field\":\"height\",\"units\":\"data\"},\"line_color\":{\"field\":\"line_color\"},\"width\":{\"field\":\"width\",\"units\":\"data\"},\"x\":{\"field\":\"x\"},\"y\":{\"field\":\"y\"}},\"id\":\"6840d158-bd3b-4acf-a587-8bbc73d4cdde\",\"type\":\"Rect\"},{\"attributes\":{\"data_source\":{\"id\":\"ffd8a5a3-d5ac-44be-ac4e-8b08aaaebc7d\",\"type\":\"ColumnDataSource\"},\"glyph\":{\"id\":\"a63b5ec6-4239-4a84-8951-eed29b5b5896\",\"type\":\"Rect\"},\"hover_glyph\":null,\"muted_glyph\":null},\"id\":\"8bb94afe-7d5d-4064-b0fc-9d11ce9303ca\",\"type\":\"GlyphRenderer\"},{\"attributes\":{\"active_drag\":\"auto\",\"active_scroll\":\"auto\",\"active_tap\":\"auto\",\"tools\":[{\"id\":\"fc4b8168-667e-4951-ae09-af53d855b03a\",\"type\":\"PanTool\"},{\"id\":\"8f5ad4c5-b908-488f-97b1-52c7b0e9f36d\",\"type\":\"WheelZoomTool\"},{\"id\":\"3579a53f-eda2-49da-b814-b5f2a8563a43\",\"type\":\"BoxZoomTool\"},{\"id\":\"60e323a2-da69-42cc-9131-606995eeaa7e\",\"type\":\"SaveTool\"},{\"id\":\"f4819591-b9f2-4996-8b08-39c8203a3dd0\",\"type\":\"ResetTool\"},{\"id\":\"546f7373-a2b2-4b0b-bda2-f9667472a5c6\",\"type\":\"HelpTool\"}]},\"id\":\"1f79d43d-5062-4ad4-b598-9f1dda6d3944\",\"type\":\"Toolbar\"},{\"attributes\":{\"dimension\":1,\"plot\":{\"id\":\"edf1281e-bfd0-4818-955e-290dfc67fee2\",\"subtype\":\"Chart\",\"type\":\"Plot\"},\"ticker\":{\"id\":\"58d136dc-b899-4892-8b74-b8c98e502624\",\"type\":\"BasicTicker\"}},\"id\":\"36ea2b01-615a-4f25-8ef9-8157fada7ce9\",\"type\":\"Grid\"}],\"root_ids\":[\"edf1281e-bfd0-4818-955e-290dfc67fee2\"]},\"title\":\"Bokeh Application\",\"version\":\"0.12.5\"}};\n",
       "            var render_items = [{\"docid\":\"f20d9615-0c5c-4e7a-a9fe-764f93b1af97\",\"elementid\":\"94d91a91-11a1-4eb8-99e7-fe6a00873be9\",\"modelid\":\"edf1281e-bfd0-4818-955e-290dfc67fee2\"}];\n",
       "            \n",
       "            Bokeh.embed.embed_items(docs_json, render_items);\n",
       "          };\n",
       "          if (document.readyState != \"loading\") fn();\n",
       "          else document.addEventListener(\"DOMContentLoaded\", fn);\n",
       "        })();\n",
       "      },\n",
       "      function(Bokeh) {\n",
       "      }\n",
       "    ];\n",
       "  \n",
       "    function run_inline_js() {\n",
       "      \n",
       "      if ((window.Bokeh !== undefined) || (force === true)) {\n",
       "        for (var i = 0; i < inline_js.length; i++) {\n",
       "          inline_js[i](window.Bokeh);\n",
       "        }if (force === true) {\n",
       "          display_loaded();\n",
       "        }} else if (Date.now() < window._bokeh_timeout) {\n",
       "        setTimeout(run_inline_js, 100);\n",
       "      } else if (!window._bokeh_failed_load) {\n",
       "        console.log(\"Bokeh: BokehJS failed to load within specified timeout.\");\n",
       "        window._bokeh_failed_load = true;\n",
       "      } else if (force !== true) {\n",
       "        var cell = $(document.getElementById(\"94d91a91-11a1-4eb8-99e7-fe6a00873be9\")).parents('.cell').data().cell;\n",
       "        cell.output_area.append_execute_result(NB_LOAD_WARNING)\n",
       "      }\n",
       "  \n",
       "    }\n",
       "  \n",
       "    if (window._bokeh_is_loading === 0) {\n",
       "      console.log(\"Bokeh: BokehJS loaded, going straight to plotting\");\n",
       "      run_inline_js();\n",
       "    } else {\n",
       "      load_libs(js_urls, function() {\n",
       "        console.log(\"Bokeh: BokehJS plotting callback run at\", now());\n",
       "        run_inline_js();\n",
       "      });\n",
       "    }\n",
       "  }(this));\n",
       "</script>"
      ]
     },
     "metadata": {},
     "output_type": "display_data"
    }
   ],
   "source": [
    "#Pitbull\n",
    "p = Bar(data, label='OutcomeType', values = 'PitBull', agg='count', stack='AnimalType',\n",
    "        title=\"Outcomes for Pitbulls\", legend='top_right')\n",
    "show(p)"
   ]
  },
  {
   "cell_type": "code",
   "execution_count": 25,
   "metadata": {
    "collapsed": false
   },
   "outputs": [
    {
     "data": {
      "text/html": [
       "\n",
       "\n",
       "    <div class=\"bk-root\">\n",
       "        <div class=\"bk-plotdiv\" id=\"af11be71-f7a5-4386-9d7c-7e5b2add5b76\"></div>\n",
       "    </div>\n",
       "<script type=\"text/javascript\">\n",
       "  \n",
       "  (function(global) {\n",
       "    function now() {\n",
       "      return new Date();\n",
       "    }\n",
       "  \n",
       "    var force = false;\n",
       "  \n",
       "    if (typeof (window._bokeh_onload_callbacks) === \"undefined\" || force === true) {\n",
       "      window._bokeh_onload_callbacks = [];\n",
       "      window._bokeh_is_loading = undefined;\n",
       "    }\n",
       "  \n",
       "  \n",
       "    \n",
       "    if (typeof (window._bokeh_timeout) === \"undefined\" || force === true) {\n",
       "      window._bokeh_timeout = Date.now() + 0;\n",
       "      window._bokeh_failed_load = false;\n",
       "    }\n",
       "  \n",
       "    var NB_LOAD_WARNING = {'data': {'text/html':\n",
       "       \"<div style='background-color: #fdd'>\\n\"+\n",
       "       \"<p>\\n\"+\n",
       "       \"BokehJS does not appear to have successfully loaded. If loading BokehJS from CDN, this \\n\"+\n",
       "       \"may be due to a slow or bad network connection. Possible fixes:\\n\"+\n",
       "       \"</p>\\n\"+\n",
       "       \"<ul>\\n\"+\n",
       "       \"<li>re-rerun `output_notebook()` to attempt to load from CDN again, or</li>\\n\"+\n",
       "       \"<li>use INLINE resources instead, as so:</li>\\n\"+\n",
       "       \"</ul>\\n\"+\n",
       "       \"<code>\\n\"+\n",
       "       \"from bokeh.resources import INLINE\\n\"+\n",
       "       \"output_notebook(resources=INLINE)\\n\"+\n",
       "       \"</code>\\n\"+\n",
       "       \"</div>\"}};\n",
       "  \n",
       "    function display_loaded() {\n",
       "      if (window.Bokeh !== undefined) {\n",
       "        var el = document.getElementById(\"af11be71-f7a5-4386-9d7c-7e5b2add5b76\");\n",
       "        el.textContent = \"BokehJS \" + Bokeh.version + \" successfully loaded.\";\n",
       "      } else if (Date.now() < window._bokeh_timeout) {\n",
       "        setTimeout(display_loaded, 100)\n",
       "      }\n",
       "    }\n",
       "  \n",
       "    function run_callbacks() {\n",
       "      window._bokeh_onload_callbacks.forEach(function(callback) { callback() });\n",
       "      delete window._bokeh_onload_callbacks\n",
       "      console.info(\"Bokeh: all callbacks have finished\");\n",
       "    }\n",
       "  \n",
       "    function load_libs(js_urls, callback) {\n",
       "      window._bokeh_onload_callbacks.push(callback);\n",
       "      if (window._bokeh_is_loading > 0) {\n",
       "        console.log(\"Bokeh: BokehJS is being loaded, scheduling callback at\", now());\n",
       "        return null;\n",
       "      }\n",
       "      if (js_urls == null || js_urls.length === 0) {\n",
       "        run_callbacks();\n",
       "        return null;\n",
       "      }\n",
       "      console.log(\"Bokeh: BokehJS not loaded, scheduling load and callback at\", now());\n",
       "      window._bokeh_is_loading = js_urls.length;\n",
       "      for (var i = 0; i < js_urls.length; i++) {\n",
       "        var url = js_urls[i];\n",
       "        var s = document.createElement('script');\n",
       "        s.src = url;\n",
       "        s.async = false;\n",
       "        s.onreadystatechange = s.onload = function() {\n",
       "          window._bokeh_is_loading--;\n",
       "          if (window._bokeh_is_loading === 0) {\n",
       "            console.log(\"Bokeh: all BokehJS libraries loaded\");\n",
       "            run_callbacks()\n",
       "          }\n",
       "        };\n",
       "        s.onerror = function() {\n",
       "          console.warn(\"failed to load library \" + url);\n",
       "        };\n",
       "        console.log(\"Bokeh: injecting script tag for BokehJS library: \", url);\n",
       "        document.getElementsByTagName(\"head\")[0].appendChild(s);\n",
       "      }\n",
       "    };var element = document.getElementById(\"af11be71-f7a5-4386-9d7c-7e5b2add5b76\");\n",
       "    if (element == null) {\n",
       "      console.log(\"Bokeh: ERROR: autoload.js configured with elementid 'af11be71-f7a5-4386-9d7c-7e5b2add5b76' but no matching script tag was found. \")\n",
       "      return false;\n",
       "    }\n",
       "  \n",
       "    var js_urls = [];\n",
       "  \n",
       "    var inline_js = [\n",
       "      function(Bokeh) {\n",
       "        (function() {\n",
       "          var fn = function() {\n",
       "            var docs_json = {\"c106c7e8-4143-4f50-bd1b-0a91bfc3af15\":{\"roots\":{\"references\":[{\"attributes\":{\"callback\":null,\"column_names\":[\"line_color\",\"line_alpha\",\"color\",\"fill_alpha\",\"height\",\"width\",\"y\",\"x\",\"label\"],\"data\":{\"Named\":[\"Named\"],\"OutcomeType\":[\"Return_to_owner\"],\"chart_index\":[{\"Named\":\"Named\",\"OutcomeType\":\"Return_to_owner\"}],\"color\":[\"#f22c40\"],\"fill_alpha\":[0.8],\"height\":[4633.0],\"label\":[{\"Named\":\"Named\",\"OutcomeType\":\"Return_to_owner\"}],\"line_alpha\":[1.0],\"line_color\":[\"white\"],\"width\":[0.8],\"x\":[\"Return_to_owner\"],\"y\":[2316.5]}},\"id\":\"200156e1-cdcc-43cc-8a0d-f52f83218c01\",\"type\":\"ColumnDataSource\"},{\"attributes\":{\"plot\":{\"id\":\"67b4d609-b17d-490b-8969-aa38c3381a95\",\"subtype\":\"Chart\",\"type\":\"Plot\"}},\"id\":\"e6f2ca1a-ca33-4c1f-af58-32f0d4d837bc\",\"type\":\"SaveTool\"},{\"attributes\":{\"callback\":null,\"column_names\":[\"line_color\",\"line_alpha\",\"color\",\"fill_alpha\",\"height\",\"width\",\"y\",\"x\",\"label\"],\"data\":{\"Named\":[\"Unnamed\"],\"OutcomeType\":[\"Died\"],\"chart_index\":[{\"Named\":\"Unnamed\",\"OutcomeType\":\"Died\"}],\"color\":[\"#5ab738\"],\"fill_alpha\":[0.8],\"height\":[120.0],\"label\":[{\"Named\":\"Unnamed\",\"OutcomeType\":\"Died\"}],\"line_alpha\":[1.0],\"line_color\":[\"white\"],\"width\":[0.8],\"x\":[\"Died\"],\"y\":[137.0]}},\"id\":\"847cce6e-4a44-4a9d-86b5-ef823ce8947e\",\"type\":\"ColumnDataSource\"},{\"attributes\":{\"dimension\":1,\"plot\":{\"id\":\"67b4d609-b17d-490b-8969-aa38c3381a95\",\"subtype\":\"Chart\",\"type\":\"Plot\"},\"ticker\":{\"id\":\"ca1d0814-60cd-4045-85ab-1c3e65378ae3\",\"type\":\"BasicTicker\"}},\"id\":\"2c6a6c1c-02b0-4485-93c9-93a0dcbcdc78\",\"type\":\"Grid\"},{\"attributes\":{\"data_source\":{\"id\":\"d00d8b94-7925-4a48-aef8-2ab30de3dc0d\",\"type\":\"ColumnDataSource\"},\"glyph\":{\"id\":\"0da81775-57f4-47f1-909c-4bcf574aff79\",\"type\":\"Rect\"},\"hover_glyph\":null,\"muted_glyph\":null},\"id\":\"c8852d13-f293-4cf3-ad50-98cb37c9c124\",\"type\":\"GlyphRenderer\"},{\"attributes\":{\"plot\":{\"id\":\"67b4d609-b17d-490b-8969-aa38c3381a95\",\"subtype\":\"Chart\",\"type\":\"Plot\"}},\"id\":\"22bfa73c-88b6-49d5-9c96-b04366b7a811\",\"type\":\"PanTool\"},{\"attributes\":{\"fill_alpha\":{\"field\":\"fill_alpha\"},\"fill_color\":{\"field\":\"color\"},\"height\":{\"field\":\"height\",\"units\":\"data\"},\"line_color\":{\"field\":\"line_color\"},\"width\":{\"field\":\"width\",\"units\":\"data\"},\"x\":{\"field\":\"x\"},\"y\":{\"field\":\"y\"}},\"id\":\"4225d5af-33ab-46cb-8470-ade8d0232925\",\"type\":\"Rect\"},{\"attributes\":{\"fill_alpha\":{\"field\":\"fill_alpha\"},\"fill_color\":{\"field\":\"color\"},\"height\":{\"field\":\"height\",\"units\":\"data\"},\"line_color\":{\"field\":\"line_color\"},\"width\":{\"field\":\"width\",\"units\":\"data\"},\"x\":{\"field\":\"x\"},\"y\":{\"field\":\"y\"}},\"id\":\"c4f64c6e-e351-4a89-a384-e795a703334f\",\"type\":\"Rect\"},{\"attributes\":{\"callback\":null,\"column_names\":[\"line_color\",\"line_alpha\",\"color\",\"fill_alpha\",\"height\",\"width\",\"y\",\"x\",\"label\"],\"data\":{\"Named\":[\"Unnamed\"],\"OutcomeType\":[\"Transfer\"],\"chart_index\":[{\"Named\":\"Unnamed\",\"OutcomeType\":\"Transfer\"}],\"color\":[\"#5ab738\"],\"fill_alpha\":[0.8],\"height\":[4925.0],\"label\":[{\"Named\":\"Unnamed\",\"OutcomeType\":\"Transfer\"}],\"line_alpha\":[1.0],\"line_color\":[\"white\"],\"width\":[0.8],\"x\":[\"Transfer\"],\"y\":[2462.5]}},\"id\":\"d1e3881e-bcd1-44d0-9d1f-4bdc49f7b3d5\",\"type\":\"ColumnDataSource\"},{\"attributes\":{\"fill_alpha\":{\"field\":\"fill_alpha\"},\"fill_color\":{\"field\":\"color\"},\"height\":{\"field\":\"height\",\"units\":\"data\"},\"line_color\":{\"field\":\"line_color\"},\"width\":{\"field\":\"width\",\"units\":\"data\"},\"x\":{\"field\":\"x\"},\"y\":{\"field\":\"y\"}},\"id\":\"60febe70-33d4-492a-9c55-ac8a20281d8e\",\"type\":\"Rect\"},{\"attributes\":{\"fill_alpha\":{\"field\":\"fill_alpha\"},\"fill_color\":{\"field\":\"color\"},\"height\":{\"field\":\"height\",\"units\":\"data\"},\"line_color\":{\"field\":\"line_color\"},\"width\":{\"field\":\"width\",\"units\":\"data\"},\"x\":{\"field\":\"x\"},\"y\":{\"field\":\"y\"}},\"id\":\"6d9286c7-edeb-4aa1-bf7f-33fcbd100a3e\",\"type\":\"Rect\"},{\"attributes\":{\"fill_alpha\":{\"field\":\"fill_alpha\"},\"fill_color\":{\"field\":\"color\"},\"height\":{\"field\":\"height\",\"units\":\"data\"},\"line_color\":{\"field\":\"line_color\"},\"width\":{\"field\":\"width\",\"units\":\"data\"},\"x\":{\"field\":\"x\"},\"y\":{\"field\":\"y\"}},\"id\":\"0da81775-57f4-47f1-909c-4bcf574aff79\",\"type\":\"Rect\"},{\"attributes\":{\"callback\":null,\"column_names\":[\"line_color\",\"line_alpha\",\"color\",\"fill_alpha\",\"height\",\"width\",\"y\",\"x\",\"label\"],\"data\":{\"Named\":[\"Unnamed\"],\"OutcomeType\":[\"Return_to_owner\"],\"chart_index\":[{\"Named\":\"Unnamed\",\"OutcomeType\":\"Return_to_owner\"}],\"color\":[\"#5ab738\"],\"fill_alpha\":[0.8],\"height\":[153.0],\"label\":[{\"Named\":\"Unnamed\",\"OutcomeType\":\"Return_to_owner\"}],\"line_alpha\":[1.0],\"line_color\":[\"white\"],\"width\":[0.8],\"x\":[\"Return_to_owner\"],\"y\":[4709.5]}},\"id\":\"99fcfb9e-0755-40b4-99da-9fd25d4d879b\",\"type\":\"ColumnDataSource\"},{\"attributes\":{\"plot\":{\"id\":\"67b4d609-b17d-490b-8969-aa38c3381a95\",\"subtype\":\"Chart\",\"type\":\"Plot\"}},\"id\":\"e043eef2-bb71-486f-a2e3-7dd11f40da79\",\"type\":\"WheelZoomTool\"},{\"attributes\":{},\"id\":\"2c794c62-f05a-47ee-9ec2-4a9970493809\",\"type\":\"CategoricalTicker\"},{\"attributes\":{\"data_source\":{\"id\":\"6b9558a7-07f7-4f36-a70e-a6b1d9d6d57f\",\"type\":\"ColumnDataSource\"},\"glyph\":{\"id\":\"4225d5af-33ab-46cb-8470-ade8d0232925\",\"type\":\"Rect\"},\"hover_glyph\":null,\"muted_glyph\":null},\"id\":\"f196bb3a-725a-4746-a213-ee0fc20a37b5\",\"type\":\"GlyphRenderer\"},{\"attributes\":{\"callback\":null,\"column_names\":[\"line_color\",\"line_alpha\",\"color\",\"fill_alpha\",\"height\",\"width\",\"y\",\"x\",\"label\"],\"data\":{\"Named\":[\"Named\"],\"OutcomeType\":[\"Transfer\"],\"chart_index\":[{\"Named\":\"Named\",\"OutcomeType\":\"Transfer\"}],\"color\":[\"#f22c40\"],\"fill_alpha\":[0.8],\"height\":[4497.0],\"label\":[{\"Named\":\"Named\",\"OutcomeType\":\"Transfer\"}],\"line_alpha\":[1.0],\"line_color\":[\"white\"],\"width\":[0.8],\"x\":[\"Transfer\"],\"y\":[7173.5]}},\"id\":\"2fd9879b-4386-43c4-a3ba-20bbfdfc8a11\",\"type\":\"ColumnDataSource\"},{\"attributes\":{\"callback\":null,\"end\":11307.45},\"id\":\"0708c5c8-52d5-4e26-902c-5b6cc2aa4765\",\"type\":\"Range1d\"},{\"attributes\":{\"active_drag\":\"auto\",\"active_scroll\":\"auto\",\"active_tap\":\"auto\",\"tools\":[{\"id\":\"22bfa73c-88b6-49d5-9c96-b04366b7a811\",\"type\":\"PanTool\"},{\"id\":\"e043eef2-bb71-486f-a2e3-7dd11f40da79\",\"type\":\"WheelZoomTool\"},{\"id\":\"ddb30f58-c039-46d7-b945-5c434cb30ce3\",\"type\":\"BoxZoomTool\"},{\"id\":\"e6f2ca1a-ca33-4c1f-af58-32f0d4d837bc\",\"type\":\"SaveTool\"},{\"id\":\"42c2865f-5052-4a08-ae53-706f14e736fe\",\"type\":\"ResetTool\"},{\"id\":\"b8c99a9b-139c-448b-8056-529e7f83ed53\",\"type\":\"HelpTool\"}]},\"id\":\"52eb3138-613b-46f1-b645-7766cbd4d9c6\",\"type\":\"Toolbar\"},{\"attributes\":{\"fill_alpha\":{\"field\":\"fill_alpha\"},\"fill_color\":{\"field\":\"color\"},\"height\":{\"field\":\"height\",\"units\":\"data\"},\"line_color\":{\"field\":\"line_color\"},\"width\":{\"field\":\"width\",\"units\":\"data\"},\"x\":{\"field\":\"x\"},\"y\":{\"field\":\"y\"}},\"id\":\"d1ed3115-4eee-47e8-bcfc-831dd381d739\",\"type\":\"Rect\"},{\"attributes\":{\"bottom_units\":\"screen\",\"fill_alpha\":{\"value\":0.5},\"fill_color\":{\"value\":\"lightgrey\"},\"left_units\":\"screen\",\"level\":\"overlay\",\"line_alpha\":{\"value\":1.0},\"line_color\":{\"value\":\"black\"},\"line_dash\":[4,4],\"line_width\":{\"value\":2},\"plot\":null,\"render_mode\":\"css\",\"right_units\":\"screen\",\"top_units\":\"screen\"},\"id\":\"2e005a57-da1f-4b78-81bf-f60696dfa0a7\",\"type\":\"BoxAnnotation\"},{\"attributes\":{\"fill_alpha\":{\"field\":\"fill_alpha\"},\"fill_color\":{\"field\":\"color\"},\"height\":{\"field\":\"height\",\"units\":\"data\"},\"line_color\":{\"field\":\"line_color\"},\"width\":{\"field\":\"width\",\"units\":\"data\"},\"x\":{\"field\":\"x\"},\"y\":{\"field\":\"y\"}},\"id\":\"a2156fac-595f-4b53-bc3e-246e6e668119\",\"type\":\"Rect\"},{\"attributes\":{\"label\":{\"value\":\"Unnamed\"},\"renderers\":[{\"id\":\"f32b368e-cab7-4bff-b03c-d577c07986df\",\"type\":\"GlyphRenderer\"}]},\"id\":\"9239b61f-1577-47a8-a826-e09451151822\",\"type\":\"LegendItem\"},{\"attributes\":{},\"id\":\"dabb7387-d2e0-46b0-bcdf-4a52fcc69a74\",\"type\":\"CategoricalTickFormatter\"},{\"attributes\":{\"data_source\":{\"id\":\"847cce6e-4a44-4a9d-86b5-ef823ce8947e\",\"type\":\"ColumnDataSource\"},\"glyph\":{\"id\":\"e4426439-70c4-4734-a238-f0d4864656be\",\"type\":\"Rect\"},\"hover_glyph\":null,\"muted_glyph\":null},\"id\":\"7df4ac91-75e9-402f-8d2b-d259a572f9a3\",\"type\":\"GlyphRenderer\"},{\"attributes\":{\"fill_alpha\":{\"field\":\"fill_alpha\"},\"fill_color\":{\"field\":\"color\"},\"height\":{\"field\":\"height\",\"units\":\"data\"},\"line_color\":{\"field\":\"line_color\"},\"width\":{\"field\":\"width\",\"units\":\"data\"},\"x\":{\"field\":\"x\"},\"y\":{\"field\":\"y\"}},\"id\":\"e4426439-70c4-4734-a238-f0d4864656be\",\"type\":\"Rect\"},{\"attributes\":{\"data_source\":{\"id\":\"99fcfb9e-0755-40b4-99da-9fd25d4d879b\",\"type\":\"ColumnDataSource\"},\"glyph\":{\"id\":\"60febe70-33d4-492a-9c55-ac8a20281d8e\",\"type\":\"Rect\"},\"hover_glyph\":null,\"muted_glyph\":null},\"id\":\"b1efe260-4720-4dde-bbe1-3f13d0382ce8\",\"type\":\"GlyphRenderer\"},{\"attributes\":{},\"id\":\"606c770d-c66a-49cb-9f33-5e1eb1837ccc\",\"type\":\"ToolEvents\"},{\"attributes\":{\"fill_alpha\":{\"field\":\"fill_alpha\"},\"fill_color\":{\"field\":\"color\"},\"height\":{\"field\":\"height\",\"units\":\"data\"},\"line_color\":{\"field\":\"line_color\"},\"width\":{\"field\":\"width\",\"units\":\"data\"},\"x\":{\"field\":\"x\"},\"y\":{\"field\":\"y\"}},\"id\":\"bc3f8412-704a-44b8-9228-9c198fc58f9b\",\"type\":\"Rect\"},{\"attributes\":{\"data_source\":{\"id\":\"a74f286e-4240-4836-bcfc-003aa5157684\",\"type\":\"ColumnDataSource\"},\"glyph\":{\"id\":\"d1ed3115-4eee-47e8-bcfc-831dd381d739\",\"type\":\"Rect\"},\"hover_glyph\":null,\"muted_glyph\":null},\"id\":\"1f1673d5-d43c-4c63-a168-772b5ca92bbd\",\"type\":\"GlyphRenderer\"},{\"attributes\":{\"data_source\":{\"id\":\"d1e3881e-bcd1-44d0-9d1f-4bdc49f7b3d5\",\"type\":\"ColumnDataSource\"},\"glyph\":{\"id\":\"6d9286c7-edeb-4aa1-bf7f-33fcbd100a3e\",\"type\":\"Rect\"},\"hover_glyph\":null,\"muted_glyph\":null},\"id\":\"f32b368e-cab7-4bff-b03c-d577c07986df\",\"type\":\"GlyphRenderer\"},{\"attributes\":{\"fill_alpha\":{\"field\":\"fill_alpha\"},\"fill_color\":{\"field\":\"color\"},\"height\":{\"field\":\"height\",\"units\":\"data\"},\"line_color\":{\"field\":\"line_color\"},\"width\":{\"field\":\"width\",\"units\":\"data\"},\"x\":{\"field\":\"x\"},\"y\":{\"field\":\"y\"}},\"id\":\"a365e2a6-ba6e-4c6f-8399-dd193041eabb\",\"type\":\"Rect\"},{\"attributes\":{\"label\":{\"value\":\"Named\"},\"renderers\":[{\"id\":\"2a4d2826-450a-4d31-8c98-3a3dc54d62ca\",\"type\":\"GlyphRenderer\"}]},\"id\":\"76270cca-99c1-43dc-99ee-a33ea88bdd6c\",\"type\":\"LegendItem\"},{\"attributes\":{\"plot\":null,\"text\":\"Outcomes by Name Status\"},\"id\":\"98b3bcb0-90b2-481e-9939-885bcc08caea\",\"type\":\"Title\"},{\"attributes\":{},\"id\":\"ca1d0814-60cd-4045-85ab-1c3e65378ae3\",\"type\":\"BasicTicker\"},{\"attributes\":{\"plot\":{\"id\":\"67b4d609-b17d-490b-8969-aa38c3381a95\",\"subtype\":\"Chart\",\"type\":\"Plot\"}},\"id\":\"42c2865f-5052-4a08-ae53-706f14e736fe\",\"type\":\"ResetTool\"},{\"attributes\":{\"callback\":null,\"column_names\":[\"line_color\",\"line_alpha\",\"color\",\"fill_alpha\",\"height\",\"width\",\"y\",\"x\",\"label\"],\"data\":{\"Named\":[\"Unnamed\"],\"OutcomeType\":[\"Adoption\"],\"chart_index\":[{\"Named\":\"Unnamed\",\"OutcomeType\":\"Adoption\"}],\"color\":[\"#5ab738\"],\"fill_alpha\":[0.8],\"height\":[1678.0],\"label\":[{\"Named\":\"Unnamed\",\"OutcomeType\":\"Adoption\"}],\"line_alpha\":[1.0],\"line_color\":[\"white\"],\"width\":[0.8],\"x\":[\"Adoption\"],\"y\":[9930.0]}},\"id\":\"6b9558a7-07f7-4f36-a70e-a6b1d9d6d57f\",\"type\":\"ColumnDataSource\"},{\"attributes\":{\"callback\":null,\"column_names\":[\"line_color\",\"line_alpha\",\"color\",\"fill_alpha\",\"height\",\"width\",\"y\",\"x\",\"label\"],\"data\":{\"Named\":[\"Named\"],\"OutcomeType\":[\"Died\"],\"chart_index\":[{\"Named\":\"Named\",\"OutcomeType\":\"Died\"}],\"color\":[\"#f22c40\"],\"fill_alpha\":[0.8],\"height\":[77.0],\"label\":[{\"Named\":\"Named\",\"OutcomeType\":\"Died\"}],\"line_alpha\":[1.0],\"line_color\":[\"white\"],\"width\":[0.8],\"x\":[\"Died\"],\"y\":[38.5]}},\"id\":\"04faf45f-27cf-4161-ab01-fe1adef6b97f\",\"type\":\"ColumnDataSource\"},{\"attributes\":{\"data_source\":{\"id\":\"200156e1-cdcc-43cc-8a0d-f52f83218c01\",\"type\":\"ColumnDataSource\"},\"glyph\":{\"id\":\"a365e2a6-ba6e-4c6f-8399-dd193041eabb\",\"type\":\"Rect\"},\"hover_glyph\":null,\"muted_glyph\":null},\"id\":\"2a4d2826-450a-4d31-8c98-3a3dc54d62ca\",\"type\":\"GlyphRenderer\"},{\"attributes\":{\"data_source\":{\"id\":\"2fd9879b-4386-43c4-a3ba-20bbfdfc8a11\",\"type\":\"ColumnDataSource\"},\"glyph\":{\"id\":\"c4f64c6e-e351-4a89-a384-e795a703334f\",\"type\":\"Rect\"},\"hover_glyph\":null,\"muted_glyph\":null},\"id\":\"f8c6857f-d09f-4a8e-b3c0-3a0bf824f0cf\",\"type\":\"GlyphRenderer\"},{\"attributes\":{\"callback\":null,\"column_names\":[\"line_color\",\"line_alpha\",\"color\",\"fill_alpha\",\"height\",\"width\",\"y\",\"x\",\"label\"],\"data\":{\"Named\":[\"Unnamed\"],\"OutcomeType\":[\"Euthanasia\"],\"chart_index\":[{\"Named\":\"Unnamed\",\"OutcomeType\":\"Euthanasia\"}],\"color\":[\"#5ab738\"],\"fill_alpha\":[0.8],\"height\":[815.0],\"label\":[{\"Named\":\"Unnamed\",\"OutcomeType\":\"Euthanasia\"}],\"line_alpha\":[1.0],\"line_color\":[\"white\"],\"width\":[0.8],\"x\":[\"Euthanasia\"],\"y\":[1147.5]}},\"id\":\"a74f286e-4240-4836-bcfc-003aa5157684\",\"type\":\"ColumnDataSource\"},{\"attributes\":{\"overlay\":{\"id\":\"2e005a57-da1f-4b78-81bf-f60696dfa0a7\",\"type\":\"BoxAnnotation\"},\"plot\":{\"id\":\"67b4d609-b17d-490b-8969-aa38c3381a95\",\"subtype\":\"Chart\",\"type\":\"Plot\"}},\"id\":\"ddb30f58-c039-46d7-b945-5c434cb30ce3\",\"type\":\"BoxZoomTool\"},{\"attributes\":{\"data_source\":{\"id\":\"a37db8a4-8642-4a00-9557-d39b0eccd454\",\"type\":\"ColumnDataSource\"},\"glyph\":{\"id\":\"bc3f8412-704a-44b8-9228-9c198fc58f9b\",\"type\":\"Rect\"},\"hover_glyph\":null,\"muted_glyph\":null},\"id\":\"c1e6b7b7-afb2-4ed9-b3be-37e9faae9be4\",\"type\":\"GlyphRenderer\"},{\"attributes\":{\"plot\":{\"id\":\"67b4d609-b17d-490b-8969-aa38c3381a95\",\"subtype\":\"Chart\",\"type\":\"Plot\"}},\"id\":\"b8c99a9b-139c-448b-8056-529e7f83ed53\",\"type\":\"HelpTool\"},{\"attributes\":{\"callback\":null,\"column_names\":[\"line_color\",\"line_alpha\",\"color\",\"fill_alpha\",\"height\",\"width\",\"y\",\"x\",\"label\"],\"data\":{\"Named\":[\"Named\"],\"OutcomeType\":[\"Euthanasia\"],\"chart_index\":[{\"Named\":\"Named\",\"OutcomeType\":\"Euthanasia\"}],\"color\":[\"#f22c40\"],\"fill_alpha\":[0.8],\"height\":[740.0],\"label\":[{\"Named\":\"Named\",\"OutcomeType\":\"Euthanasia\"}],\"line_alpha\":[1.0],\"line_color\":[\"white\"],\"width\":[0.8],\"x\":[\"Euthanasia\"],\"y\":[370.0]}},\"id\":\"a37db8a4-8642-4a00-9557-d39b0eccd454\",\"type\":\"ColumnDataSource\"},{\"attributes\":{\"axis_label\":\"Count( Named )\",\"formatter\":{\"id\":\"0762433a-eee4-4a6f-accf-af47920462d7\",\"type\":\"BasicTickFormatter\"},\"plot\":{\"id\":\"67b4d609-b17d-490b-8969-aa38c3381a95\",\"subtype\":\"Chart\",\"type\":\"Plot\"},\"ticker\":{\"id\":\"ca1d0814-60cd-4045-85ab-1c3e65378ae3\",\"type\":\"BasicTicker\"}},\"id\":\"1975eeab-efa2-4616-81e0-6704aa8f7c88\",\"type\":\"LinearAxis\"},{\"attributes\":{\"axis_label\":\"Outcometype\",\"formatter\":{\"id\":\"dabb7387-d2e0-46b0-bcdf-4a52fcc69a74\",\"type\":\"CategoricalTickFormatter\"},\"major_label_orientation\":0.7853981633974483,\"plot\":{\"id\":\"67b4d609-b17d-490b-8969-aa38c3381a95\",\"subtype\":\"Chart\",\"type\":\"Plot\"},\"ticker\":{\"id\":\"2c794c62-f05a-47ee-9ec2-4a9970493809\",\"type\":\"CategoricalTicker\"}},\"id\":\"41059189-0f3c-45e7-82f8-ed2a1b163d33\",\"type\":\"CategoricalAxis\"},{\"attributes\":{\"below\":[{\"id\":\"41059189-0f3c-45e7-82f8-ed2a1b163d33\",\"type\":\"CategoricalAxis\"}],\"css_classes\":null,\"left\":[{\"id\":\"1975eeab-efa2-4616-81e0-6704aa8f7c88\",\"type\":\"LinearAxis\"}],\"renderers\":[{\"id\":\"2e005a57-da1f-4b78-81bf-f60696dfa0a7\",\"type\":\"BoxAnnotation\"},{\"id\":\"2a4d2826-450a-4d31-8c98-3a3dc54d62ca\",\"type\":\"GlyphRenderer\"},{\"id\":\"c1e6b7b7-afb2-4ed9-b3be-37e9faae9be4\",\"type\":\"GlyphRenderer\"},{\"id\":\"c8852d13-f293-4cf3-ad50-98cb37c9c124\",\"type\":\"GlyphRenderer\"},{\"id\":\"f32b368e-cab7-4bff-b03c-d577c07986df\",\"type\":\"GlyphRenderer\"},{\"id\":\"f8c6857f-d09f-4a8e-b3c0-3a0bf824f0cf\",\"type\":\"GlyphRenderer\"},{\"id\":\"f196bb3a-725a-4746-a213-ee0fc20a37b5\",\"type\":\"GlyphRenderer\"},{\"id\":\"1f1673d5-d43c-4c63-a168-772b5ca92bbd\",\"type\":\"GlyphRenderer\"},{\"id\":\"b1efe260-4720-4dde-bbe1-3f13d0382ce8\",\"type\":\"GlyphRenderer\"},{\"id\":\"70c1c022-a770-4433-a4ff-a7e8892c8f47\",\"type\":\"GlyphRenderer\"},{\"id\":\"7df4ac91-75e9-402f-8d2b-d259a572f9a3\",\"type\":\"GlyphRenderer\"},{\"id\":\"0c2259e6-9ae7-4da3-8910-6cd347e4b8a8\",\"type\":\"Legend\"},{\"id\":\"41059189-0f3c-45e7-82f8-ed2a1b163d33\",\"type\":\"CategoricalAxis\"},{\"id\":\"1975eeab-efa2-4616-81e0-6704aa8f7c88\",\"type\":\"LinearAxis\"},{\"id\":\"2c6a6c1c-02b0-4485-93c9-93a0dcbcdc78\",\"type\":\"Grid\"}],\"title\":{\"id\":\"98b3bcb0-90b2-481e-9939-885bcc08caea\",\"type\":\"Title\"},\"tool_events\":{\"id\":\"606c770d-c66a-49cb-9f33-5e1eb1837ccc\",\"type\":\"ToolEvents\"},\"toolbar\":{\"id\":\"52eb3138-613b-46f1-b645-7766cbd4d9c6\",\"type\":\"Toolbar\"},\"x_mapper_type\":\"auto\",\"x_range\":{\"id\":\"63ee300d-4de2-442b-a629-85775b0d8992\",\"type\":\"FactorRange\"},\"y_mapper_type\":\"auto\",\"y_range\":{\"id\":\"0708c5c8-52d5-4e26-902c-5b6cc2aa4765\",\"type\":\"Range1d\"}},\"id\":\"67b4d609-b17d-490b-8969-aa38c3381a95\",\"subtype\":\"Chart\",\"type\":\"Plot\"},{\"attributes\":{\"callback\":null,\"column_names\":[\"line_color\",\"line_alpha\",\"color\",\"fill_alpha\",\"height\",\"width\",\"y\",\"x\",\"label\"],\"data\":{\"Named\":[\"Named\"],\"OutcomeType\":[\"Adoption\"],\"chart_index\":[{\"Named\":\"Named\",\"OutcomeType\":\"Adoption\"}],\"color\":[\"#f22c40\"],\"fill_alpha\":[0.8],\"height\":[9091.0],\"label\":[{\"Named\":\"Named\",\"OutcomeType\":\"Adoption\"}],\"line_alpha\":[1.0],\"line_color\":[\"white\"],\"width\":[0.8],\"x\":[\"Adoption\"],\"y\":[4545.5]}},\"id\":\"d00d8b94-7925-4a48-aef8-2ab30de3dc0d\",\"type\":\"ColumnDataSource\"},{\"attributes\":{\"data_source\":{\"id\":\"04faf45f-27cf-4161-ab01-fe1adef6b97f\",\"type\":\"ColumnDataSource\"},\"glyph\":{\"id\":\"a2156fac-595f-4b53-bc3e-246e6e668119\",\"type\":\"Rect\"},\"hover_glyph\":null,\"muted_glyph\":null},\"id\":\"70c1c022-a770-4433-a4ff-a7e8892c8f47\",\"type\":\"GlyphRenderer\"},{\"attributes\":{\"items\":[{\"id\":\"76270cca-99c1-43dc-99ee-a33ea88bdd6c\",\"type\":\"LegendItem\"},{\"id\":\"9239b61f-1577-47a8-a826-e09451151822\",\"type\":\"LegendItem\"}],\"plot\":{\"id\":\"67b4d609-b17d-490b-8969-aa38c3381a95\",\"subtype\":\"Chart\",\"type\":\"Plot\"}},\"id\":\"0c2259e6-9ae7-4da3-8910-6cd347e4b8a8\",\"type\":\"Legend\"},{\"attributes\":{\"callback\":null,\"factors\":[\"Adoption\",\"Died\",\"Euthanasia\",\"Return_to_owner\",\"Transfer\"]},\"id\":\"63ee300d-4de2-442b-a629-85775b0d8992\",\"type\":\"FactorRange\"},{\"attributes\":{},\"id\":\"0762433a-eee4-4a6f-accf-af47920462d7\",\"type\":\"BasicTickFormatter\"}],\"root_ids\":[\"67b4d609-b17d-490b-8969-aa38c3381a95\"]},\"title\":\"Bokeh Application\",\"version\":\"0.12.5\"}};\n",
       "            var render_items = [{\"docid\":\"c106c7e8-4143-4f50-bd1b-0a91bfc3af15\",\"elementid\":\"af11be71-f7a5-4386-9d7c-7e5b2add5b76\",\"modelid\":\"67b4d609-b17d-490b-8969-aa38c3381a95\"}];\n",
       "            \n",
       "            Bokeh.embed.embed_items(docs_json, render_items);\n",
       "          };\n",
       "          if (document.readyState != \"loading\") fn();\n",
       "          else document.addEventListener(\"DOMContentLoaded\", fn);\n",
       "        })();\n",
       "      },\n",
       "      function(Bokeh) {\n",
       "      }\n",
       "    ];\n",
       "  \n",
       "    function run_inline_js() {\n",
       "      \n",
       "      if ((window.Bokeh !== undefined) || (force === true)) {\n",
       "        for (var i = 0; i < inline_js.length; i++) {\n",
       "          inline_js[i](window.Bokeh);\n",
       "        }if (force === true) {\n",
       "          display_loaded();\n",
       "        }} else if (Date.now() < window._bokeh_timeout) {\n",
       "        setTimeout(run_inline_js, 100);\n",
       "      } else if (!window._bokeh_failed_load) {\n",
       "        console.log(\"Bokeh: BokehJS failed to load within specified timeout.\");\n",
       "        window._bokeh_failed_load = true;\n",
       "      } else if (force !== true) {\n",
       "        var cell = $(document.getElementById(\"af11be71-f7a5-4386-9d7c-7e5b2add5b76\")).parents('.cell').data().cell;\n",
       "        cell.output_area.append_execute_result(NB_LOAD_WARNING)\n",
       "      }\n",
       "  \n",
       "    }\n",
       "  \n",
       "    if (window._bokeh_is_loading === 0) {\n",
       "      console.log(\"Bokeh: BokehJS loaded, going straight to plotting\");\n",
       "      run_inline_js();\n",
       "    } else {\n",
       "      load_libs(js_urls, function() {\n",
       "        console.log(\"Bokeh: BokehJS plotting callback run at\", now());\n",
       "        run_inline_js();\n",
       "      });\n",
       "    }\n",
       "  }(this));\n",
       "</script>"
      ]
     },
     "metadata": {},
     "output_type": "display_data"
    }
   ],
   "source": [
    "p = Bar(data, label='OutcomeType', values = 'Named', agg='count', stack='Named',\n",
    "        title=\"Outcomes by Name Status\", legend='top_right')\n",
    "show(p)"
   ]
  },
  {
   "cell_type": "code",
   "execution_count": 26,
   "metadata": {
    "collapsed": false,
    "scrolled": true
   },
   "outputs": [
    {
     "name": "stdout",
     "output_type": "stream",
     "text": [
      "('Unique Breeds', 1143)\n"
     ]
    }
   ],
   "source": [
    "OrderedBreed = data.OrderedBreed.unique()\n",
    "print(\"Unique Breeds\" , (data.OrderedBreed.value_counts() > 0).sum())"
   ]
  },
  {
   "cell_type": "markdown",
   "metadata": {},
   "source": [
    "## Modeling\n",
    "\n",
    "What model are we using? Why?  \n",
    "Assumptions?  \n",
    "Regularization?  \n",
    "  \n",
    "\n",
    "## Evaluation\n",
    "How well does the model perform?  \n",
    "Accuracy  \n",
    "ROC curves  \n",
    "Cross-validation  \n",
    "Other metrics? Performance?  \n"
   ]
  },
  {
   "cell_type": "markdown",
   "metadata": {
    "collapsed": true
   },
   "source": [
    "### LOGISTIC REGRESSION EXPLORATION"
   ]
  },
  {
   "cell_type": "markdown",
   "metadata": {},
   "source": [
    "#### Generate logistic regression [remove?]"
   ]
  },
  {
   "cell_type": "code",
   "execution_count": 7,
   "metadata": {
    "collapsed": false
   },
   "outputs": [
    {
     "name": "stderr",
     "output_type": "stream",
     "text": [
      "C:\\Users\\rhopper\\AppData\\Local\\Continuum\\Anaconda2\\lib\\site-packages\\sklearn\\utils\\validation.py:515: DataConversionWarning: A column-vector y was passed when a 1d array was expected. Please change the shape of y to (n_samples, ), for example using ravel().\n",
      "  y = column_or_1d(y, warn=True)\n"
     ]
    },
    {
     "name": "stdout",
     "output_type": "stream",
     "text": [
      "The mean accuracy when the regularization strength C is 0.5 is  0.633398174473 and the sum of the squared weight is -20.7716088839\n"
     ]
    }
   ],
   "source": [
    "#Tested for C in 0.00001, 0.0001, 0.001, 0.01, 0.1,, 1.0, 2.0, 4.0, 6.0, 8.0, 10.0\n",
    "#Highest accuracy is when C=0.5\n",
    "\n",
    "for m in [ 0.5]: # 0.00001, 0.0001, 0.001, 0.01, 0.1,, 1.0, 2.0, 4.0, 6.0, 8.0, 10.0\n",
    "    lrq = LogisticRegression(C = m, penalty = 'l2')\n",
    "    lrq.fit(X_train, y_train)\n",
    "    weight1 = lrq.coef_\n",
    "    sum1 = sum(sum(weight1))\n",
    "    print 'The mean accuracy when the regularization strength C is', m,  'is ', lrq.score(X_dev, y_dev), 'and the sum of the squared weight is', sum1\n"
   ]
  },
  {
   "cell_type": "markdown",
   "metadata": {},
   "source": [
    "#### Feature Engineering\n",
    "\n",
    "For this dataset, we have 15 different features, including gender, breed, age and so on.  In order to select the best\n",
    "feature to add to the model, we can go either bottom up starting from only 1 feature and add more feature based on\n",
    "the accuracy, or go down by deleting features. \n",
    "\n"
   ]
  },
  {
   "cell_type": "code",
   "execution_count": 8,
   "metadata": {
    "collapsed": false
   },
   "outputs": [
    {
     "name": "stdout",
     "output_type": "stream",
     "text": [
      "At number of features = 1 , the best feature to add is Intact_Spayed/Neutered , and the accuracy is 0.6082597636\n",
      "At number of features = 2 , the best feature to add is ConvertedAge , and the accuracy is 0.6208289690\n",
      "At number of features = 3 , the best feature to add is AnimalType_Cat , and the accuracy is 0.6281610055\n",
      "At number of features = 4 , the best feature to add is MixedBreed_Known Breed Combo , and the accuracy is 0.6313033069\n",
      "At number of features = 5 , the best feature to add is Named_Unnamed , and the accuracy is 0.6345952417\n",
      "At number of features = 6 , the best feature to add is MixedBreed_Nonmixed , and the accuracy is 0.6347448751\n",
      "At number of features = 7 , the best feature to add is AnimalType_Dog , and the accuracy is 0.6347448751\n",
      "At number of features = 8 , the best feature to add is Female_Unknown , and the accuracy is 0.6347448751\n",
      "At number of features = 9 , the best feature to add is Intact_Intact , and the accuracy is 0.6347448751\n",
      "At number of features = 10 , the best feature to add is Intact_Unknown , and the accuracy is 0.6347448751\n",
      "At number of features = 11 , the best feature to add is MixedBreed_Mixed Breed , and the accuracy is 0.6347448751\n",
      "At number of features = 12 , the best feature to add is Named_Named , and the accuracy is 0.6347448751\n",
      "At number of features = 13 , the best feature to add is BreedRank , and the accuracy is 0.6342959749\n",
      "At number of features = 14 , the best feature to add is Female_Female , and the accuracy is 0.6333981745\n",
      "At number of features = 15 , the best feature to add is Female_Male , and the accuracy is 0.6333981745\n"
     ]
    }
   ],
   "source": [
    "#Importing this because multiple deprecation warnings cluttering the output\n",
    "import warnings\n",
    "warnings.filterwarnings('ignore')\n",
    "\n",
    "# Start the bottom up feature selection with greedy algorithm\n",
    "# Compute the accuracy of logistic regression with N features\n",
    "\n",
    "train = X_train\n",
    "dev = X_dev\n",
    "\n",
    "bestVec = [] \n",
    "\n",
    "for j in range(15):\n",
    "    maxacc = 0\n",
    "    maxi = 0\n",
    "    for i in range(15):\n",
    "        if i not in bestVec:\n",
    "            X_train_eng = pd.DataFrame(train.ix[:, bestVec + [i]])\n",
    "            X_dev_eng = pd.DataFrame(dev.ix[:, bestVec + [i]])\n",
    "            m=.5\n",
    "            lrq = LogisticRegression(C = m, penalty = 'l2')\n",
    "            lrq.fit(X_train_eng, y_train)\n",
    "            if lrq.score(X_dev_eng, y_dev) > maxacc:\n",
    "                maxacc = lrq.score(X_dev_eng, y_dev)\n",
    "                maxi = i\n",
    "    bestVec = bestVec + [maxi]\n",
    "    print 'At number of features =', j+1,', the best feature to add is', predictors[maxi],', and the accuracy is %.10f' % maxacc"
   ]
  },
  {
   "cell_type": "markdown",
   "metadata": {},
   "source": [
    "Based on accuracy (highest 0.6347448751) and parsimony, the best model includes six features.\n",
    "\n",
    "The six features include: Intact_Spayed/Neutered, ConvertedAge, AnimalType_Cat, MixedBreed_Known Breed Combo, Named_Unnamed, and MixedBreed_Nonmixed."
   ]
  },
  {
   "cell_type": "markdown",
   "metadata": {},
   "source": [
    "#### Check Spayed/Neutered  [remove?]"
   ]
  },
  {
   "cell_type": "markdown",
   "metadata": {},
   "source": [
    "Since Spayed/Neutered is the first feature from the logistic regression list, it would be interesting to check if the data with only Spayed/Neutered and the data with only Intact have better accuracy than original dataset. "
   ]
  },
  {
   "cell_type": "code",
   "execution_count": 30,
   "metadata": {
    "collapsed": true
   },
   "outputs": [],
   "source": [
    "# Dataset with only Spayed/Neutered and intact\n",
    "X_spayed = train[train['Intact_Spayed/Neutered'] == 1]\n",
    "X_intact = train[train['Intact_Intact'] == 1]\n",
    "\n",
    "y_spayed = y_train[train['Intact_Spayed/Neutered'] == 1]\n",
    "y_intact = y_train[train['Intact_Intact'] == 1]\n",
    "\n",
    "Xdev_spayed = dev[dev['Intact_Spayed/Neutered'] == 1]\n",
    "Xdev_intact = dev[dev['Intact_Intact'] == 1]\n",
    "\n",
    "ydev_spayed = y_dev[dev['Intact_Spayed/Neutered'] == 1]\n",
    "ydev_intact = y_dev[dev['Intact_Intact'] == 1]\n"
   ]
  },
  {
   "cell_type": "code",
   "execution_count": 31,
   "metadata": {
    "collapsed": false
   },
   "outputs": [
    {
     "name": "stdout",
     "output_type": "stream",
     "text": [
      "The mean accuracy when the regularization strength C for Spayed/Neutered dataset 0.1 is  0.59317641978\n"
     ]
    }
   ],
   "source": [
    "# logistic regression with only Spayed/Neutered \n",
    "for m in [0.1]:     # [0.00001, 0.0001, 0.001, 0.01, 0.1, 1.0, 2.0, 4.0, 6.0, 8.0, 10.0]\n",
    "    lrq = LogisticRegression(C = m, penalty = 'l2')\n",
    "    lrq.fit(X_spayed, y_spayed)\n",
    "    print 'The mean accuracy when the regularization strength C for Spayed/Neutered dataset', m,  'is ', lrq.score(Xdev_spayed, ydev_spayed)"
   ]
  },
  {
   "cell_type": "code",
   "execution_count": 32,
   "metadata": {
    "collapsed": false
   },
   "outputs": [
    {
     "name": "stdout",
     "output_type": "stream",
     "text": [
      "The mean accuracy when the regularization strength C for intact dataset 0.1 is  0.706613906162\n"
     ]
    }
   ],
   "source": [
    "# logistic regression with only intact\n",
    "for m in [0.1]:     # [0.00001, 0.0001, 0.001, 0.01, 0.1, 1.0, 2.0, 4.0, 6.0, 8.0, 10.0]\n",
    "    lrq = LogisticRegression(C = m, penalty = 'l2')\n",
    "    lrq.fit(X_intact, y_intact)\n",
    "    print 'The mean accuracy when the regularization strength C for intact dataset', m,  'is ', lrq.score(Xdev_intact, ydev_intact)"
   ]
  },
  {
   "cell_type": "markdown",
   "metadata": {},
   "source": [
    "Looks like the dataset with only intact animals has a better accuracy than the original dataset. "
   ]
  },
  {
   "cell_type": "markdown",
   "metadata": {},
   "source": [
    "#### Check animal type"
   ]
  },
  {
   "cell_type": "code",
   "execution_count": 96,
   "metadata": {
    "collapsed": true
   },
   "outputs": [],
   "source": [
    "X_onlycat = train[train['AnimalType_Cat'] == 1]\n",
    "X_onlydog = train[train['AnimalType_Dog'] == 1]\n",
    "\n",
    "y_onlycat = y_train[train['AnimalType_Cat'] == 1]\n",
    "y_onlydog = y_train[train['AnimalType_Dog'] == 1]\n",
    "\n",
    "Xdev_onlycat = dev[dev['AnimalType_Cat'] == 1]\n",
    "Xdev_onlydog = dev[dev['AnimalType_Dog'] == 1]\n",
    "\n",
    "ydev_onlycat = y_dev[dev['AnimalType_Cat'] == 1]\n",
    "ydev_onlydog = y_dev[dev['AnimalType_Dog'] == 1]"
   ]
  },
  {
   "cell_type": "code",
   "execution_count": 98,
   "metadata": {
    "collapsed": false
   },
   "outputs": [
    {
     "name": "stdout",
     "output_type": "stream",
     "text": [
      "The mean accuracy when the regularization strength C for only cat dataset 0.1 is  0.73379210431\n"
     ]
    }
   ],
   "source": [
    "# logistic regression with only cat\n",
    "for m in [0.1]:     # [0.00001, 0.0001, 0.001, 0.01, 0.1, 1.0, 2.0, 4.0, 6.0, 8.0, 10.0]\n",
    "    lrq = LogisticRegression(C = m, penalty = 'l2')\n",
    "    lrq.fit(X_onlycat, y_onlycat)\n",
    "    print 'The mean accuracy when the regularization strength C for only cat dataset', m,  'is ', lrq.score(Xdev_onlycat, ydev_onlycat)"
   ]
  },
  {
   "cell_type": "code",
   "execution_count": 99,
   "metadata": {
    "collapsed": false
   },
   "outputs": [
    {
     "name": "stdout",
     "output_type": "stream",
     "text": [
      "The mean accuracy when the regularization strength C for only dog dataset 0.1 is  0.564762876084\n"
     ]
    }
   ],
   "source": [
    "# logistic regression with only dog\n",
    "for m in [0.1]:     # [0.00001, 0.0001, 0.001, 0.01, 0.1, 1.0, 2.0, 4.0, 6.0, 8.0, 10.0]\n",
    "    lrq = LogisticRegression(C = m, penalty = 'l2')\n",
    "    lrq.fit(X_onlydog, y_onlydog)\n",
    "    print 'The mean accuracy when the regularization strength C for only dog dataset', m,  'is ', lrq.score(Xdev_onlydog, ydev_onlydog)"
   ]
  },
  {
   "cell_type": "markdown",
   "metadata": {},
   "source": [
    "The cat dataset has higher accuracy (0.7338) than dog dataset(0.5647)."
   ]
  },
  {
   "cell_type": "markdown",
   "metadata": {},
   "source": [
    "#### Checking mixbreed and known breed  [remove?]"
   ]
  },
  {
   "cell_type": "code",
   "execution_count": 102,
   "metadata": {
    "collapsed": true
   },
   "outputs": [],
   "source": [
    "X_mix = train[train['MixedBreed_Mixed Breed'] == 1]\n",
    "X_known = train[train['MixedBreed_Known Breed Combo'] == 1]\n",
    "\n",
    "y_mix = y_train[train['MixedBreed_Mixed Breed'] == 1]\n",
    "y_known = y_train[train['MixedBreed_Known Breed Combo'] == 1]\n",
    "\n",
    "Xdev_mix = dev[dev['MixedBreed_Mixed Breed'] == 1]\n",
    "Xdev_known = dev[dev['MixedBreed_Known Breed Combo'] == 1]\n",
    "\n",
    "ydev_mix = y_dev[dev['MixedBreed_Mixed Breed'] == 1]\n",
    "ydev_known = y_dev[dev['MixedBreed_Known Breed Combo'] == 1]"
   ]
  },
  {
   "cell_type": "code",
   "execution_count": 103,
   "metadata": {
    "collapsed": false
   },
   "outputs": [
    {
     "name": "stdout",
     "output_type": "stream",
     "text": [
      "The mean accuracy when the regularization strength C for mix breed dataset 0.1 is  0.639713774597\n"
     ]
    }
   ],
   "source": [
    "# logistic regression with mixed breed\n",
    "for m in [0.1]:     # [0.00001, 0.0001, 0.001, 0.01, 0.1, 1.0, 2.0, 4.0, 6.0, 8.0, 10.0]\n",
    "    lrq = LogisticRegression(C = m, penalty = 'l2')\n",
    "    lrq.fit(X_mix, y_mix)\n",
    "    print 'The mean accuracy when the regularization strength C for mix breed dataset', m,  'is ', lrq.score(Xdev_mix, ydev_mix)"
   ]
  },
  {
   "cell_type": "code",
   "execution_count": 104,
   "metadata": {
    "collapsed": false
   },
   "outputs": [
    {
     "name": "stdout",
     "output_type": "stream",
     "text": [
      "The mean accuracy when the regularization strength C for known breed dataset 0.1 is  0.636835278859\n"
     ]
    }
   ],
   "source": [
    "# logistic regression with known breed\n",
    "for m in [0.1]:     # [0.00001, 0.0001, 0.001, 0.01, 0.1, 1.0, 2.0, 4.0, 6.0, 8.0, 10.0]\n",
    "    lrq = LogisticRegression(C = m, penalty = 'l2')\n",
    "    lrq.fit(X_known, y_known)\n",
    "    print 'The mean accuracy when the regularization strength C for known breed dataset', m,  'is ', lrq.score(Xdev_known, ydev_known)"
   ]
  },
  {
   "cell_type": "markdown",
   "metadata": {},
   "source": [
    "#### Decision trees  [remove?]"
   ]
  },
  {
   "cell_type": "code",
   "execution_count": 56,
   "metadata": {
    "collapsed": false
   },
   "outputs": [
    {
     "name": "stdout",
     "output_type": "stream",
     "text": [
      "[[ 0.53275862  0.00344828  0.03448276  0.28275862  0.14655172]\n",
      " [ 0.14285714  0.          0.35714286  0.14285714  0.35714286]\n",
      " [ 0.68627451  0.          0.          0.1372549   0.17647059]\n",
      " ..., \n",
      " [ 0.92682927  0.          0.          0.01626016  0.05691057]\n",
      " [ 0.86448598  0.          0.          0.00934579  0.12616822]\n",
      " [ 0.          0.          0.          0.          1.        ]]\n",
      "Mean squared error = 0.0877633407083\n",
      "The accuracy is 0.352168793847\n"
     ]
    }
   ],
   "source": [
    "dt = DecisionTreeRegressor()\n",
    "dt.fit(X_train[predictors], y_train_hot)\n",
    "\n",
    "pred = dt.predict(X_train[predictors])\n",
    "print pred\n",
    "mse = np.mean( (pred - y_train_hot) ** 2)\n",
    "print 'Mean squared error = {}'.format(mse)\n",
    "print 'The accuracy is',dt.score(X_train[predictors], y_train_hot)"
   ]
  },
  {
   "cell_type": "markdown",
   "metadata": {},
   "source": [
    "Looks like we only get 0.35 on accuracy with decision trees on the training data"
   ]
  },
  {
   "cell_type": "markdown",
   "metadata": {},
   "source": [
    "#### Random forest  [remove?]"
   ]
  },
  {
   "cell_type": "code",
   "execution_count": 58,
   "metadata": {
    "collapsed": false
   },
   "outputs": [
    {
     "name": "stdout",
     "output_type": "stream",
     "text": [
      "0.29092608207\n"
     ]
    }
   ],
   "source": [
    "from sklearn.model_selection import cross_val_score\n",
    "\n",
    "rf = RandomForestRegressor(n_estimators=50, oob_score=True)\n",
    "scores = cross_val_score(rf, X_train[predictors], y_train_hot, cv=10)\n",
    "print scores.mean()"
   ]
  },
  {
   "cell_type": "markdown",
   "metadata": {},
   "source": [
    "### Neural Network "
   ]
  },
  {
   "cell_type": "markdown",
   "metadata": {},
   "source": [
    "We will use Keras for neural network training. "
   ]
  },
  {
   "cell_type": "code",
   "execution_count": 35,
   "metadata": {
    "collapsed": true
   },
   "outputs": [],
   "source": [
    "# hot encoding to transform training and development data\n",
    "lb_style = LabelBinarizer()\n",
    "y_train_hot = lb_style.fit_transform(y_train)\n",
    "y_train_hot\n",
    "y_dev_hot = lb_style.fit_transform(y_dev)"
   ]
  },
  {
   "cell_type": "code",
   "execution_count": 36,
   "metadata": {
    "collapsed": false
   },
   "outputs": [
    {
     "name": "stdout",
     "output_type": "stream",
     "text": [
      "Epoch 1/10\n",
      "20046/20046 [==============================] - 2s - loss: 0.3707 - acc: 0.8307     \n",
      "Epoch 2/10\n",
      "20046/20046 [==============================] - 2s - loss: 0.3232 - acc: 0.8566     \n",
      "Epoch 3/10\n",
      "20046/20046 [==============================] - 2s - loss: 0.3170 - acc: 0.8594     \n",
      "Epoch 4/10\n",
      "20046/20046 [==============================] - 2s - loss: 0.3148 - acc: 0.8600     \n",
      "Epoch 5/10\n",
      "20046/20046 [==============================] - 2s - loss: 0.3136 - acc: 0.8595     \n",
      "Epoch 6/10\n",
      "20046/20046 [==============================] - 2s - loss: 0.3126 - acc: 0.8603     \n",
      "Epoch 7/10\n",
      "20046/20046 [==============================] - 2s - loss: 0.3118 - acc: 0.8606     \n",
      "Epoch 8/10\n",
      "20046/20046 [==============================] - 2s - loss: 0.3107 - acc: 0.8607     \n",
      "Epoch 9/10\n",
      "20046/20046 [==============================] - 2s - loss: 0.3098 - acc: 0.8617     \n",
      "Epoch 10/10\n",
      "20046/20046 [==============================] - 2s - loss: 0.3090 - acc: 0.8613     \n"
     ]
    },
    {
     "data": {
      "text/plain": [
       "<keras.callbacks.History at 0x12be52ad0>"
      ]
     },
     "execution_count": 36,
     "metadata": {},
     "output_type": "execute_result"
    }
   ],
   "source": [
    "# using keras to predict the accuracy\n",
    "from keras.layers import Dropout\n",
    "model = Sequential([\n",
    "    Dense(32, input_shape=(15,)),\n",
    "    Dropout(0.1),   # Added a dropout layer of 10% to regulate neural network\n",
    "    Activation('sigmoid'),\n",
    "    Dense(5),\n",
    "    Activation('softmax'),\n",
    "])\n",
    "\n",
    "model.compile(optimizer='adam',\n",
    "              loss='binary_crossentropy',\n",
    "              metrics=['accuracy'])\n",
    "model.fit(np.array(X_train), y_train_hot, epochs=10, batch_size=32)"
   ]
  },
  {
   "cell_type": "code",
   "execution_count": 9,
   "metadata": {
    "collapsed": false
   },
   "outputs": [
    {
     "ename": "NameError",
     "evalue": "name 'model' is not defined",
     "output_type": "error",
     "traceback": [
      "\u001b[0;31m---------------------------------------------------------------------------\u001b[0m",
      "\u001b[0;31mNameError\u001b[0m                                 Traceback (most recent call last)",
      "\u001b[0;32m<ipython-input-9-ee723a5fe11b>\u001b[0m in \u001b[0;36m<module>\u001b[0;34m()\u001b[0m\n\u001b[0;32m----> 1\u001b[0;31m \u001b[0mscore\u001b[0m \u001b[1;33m=\u001b[0m \u001b[0mmodel\u001b[0m\u001b[1;33m.\u001b[0m\u001b[0mevaluate\u001b[0m\u001b[1;33m(\u001b[0m\u001b[0mnp\u001b[0m\u001b[1;33m.\u001b[0m\u001b[0marray\u001b[0m\u001b[1;33m(\u001b[0m\u001b[0mX_dev\u001b[0m\u001b[1;33m)\u001b[0m\u001b[1;33m,\u001b[0m \u001b[0my_dev_hot\u001b[0m\u001b[1;33m,\u001b[0m \u001b[0mbatch_size\u001b[0m\u001b[1;33m=\u001b[0m\u001b[1;36m16\u001b[0m\u001b[1;33m)\u001b[0m\u001b[1;33m\u001b[0m\u001b[0m\n\u001b[0m\u001b[1;32m      2\u001b[0m \u001b[1;33m\u001b[0m\u001b[0m\n\u001b[1;32m      3\u001b[0m \u001b[1;32mprint\u001b[0m \u001b[1;34m'\\nAccuracy on test data'\u001b[0m\u001b[1;33m,\u001b[0m \u001b[0mscore\u001b[0m\u001b[1;33m[\u001b[0m\u001b[1;36m1\u001b[0m\u001b[1;33m]\u001b[0m\u001b[1;33m\u001b[0m\u001b[0m\n",
      "\u001b[0;31mNameError\u001b[0m: name 'model' is not defined"
     ]
    }
   ],
   "source": [
    "score = model.evaluate(np.array(X_dev), y_dev_hot, batch_size=16)\n",
    "\n",
    "print '\\nAccuracy on test data', score[1]"
   ]
  },
  {
   "cell_type": "markdown",
   "metadata": {
    "collapsed": true
   },
   "source": [
    "The accuracy shows that neural network gives a higher accuracy than logistic regression"
   ]
  },
  {
   "cell_type": "markdown",
   "metadata": {},
   "source": [
    "#### Trying new dataset with limited features\n",
    "\n",
    "#### Eliminating unknown columns \n",
    "Create a new dataset by eliminating unknown gender and unknown intactness to see if the new dataset can give a better accuracy "
   ]
  },
  {
   "cell_type": "code",
   "execution_count": 38,
   "metadata": {
    "collapsed": false
   },
   "outputs": [
    {
     "name": "stdout",
     "output_type": "stream",
     "text": [
      "Epoch 1/10\n",
      "20046/20046 [==============================] - 2s - loss: 0.3753 - acc: 0.8286     \n",
      "Epoch 2/10\n",
      "20046/20046 [==============================] - 2s - loss: 0.3267 - acc: 0.8543     \n",
      "Epoch 3/10\n",
      "20046/20046 [==============================] - 2s - loss: 0.3186 - acc: 0.8587     \n",
      "Epoch 4/10\n",
      "20046/20046 [==============================] - 2s - loss: 0.3158 - acc: 0.8591     \n",
      "Epoch 5/10\n",
      "20046/20046 [==============================] - 2s - loss: 0.3138 - acc: 0.8608     \n",
      "Epoch 6/10\n",
      "20046/20046 [==============================] - 2s - loss: 0.3125 - acc: 0.8607     \n",
      "Epoch 7/10\n",
      "20046/20046 [==============================] - 2s - loss: 0.3113 - acc: 0.8607     \n",
      "Epoch 8/10\n",
      "20046/20046 [==============================] - 2s - loss: 0.3106 - acc: 0.8613     \n",
      "Epoch 9/10\n",
      "20046/20046 [==============================] - 2s - loss: 0.3099 - acc: 0.8611     \n",
      "Epoch 10/10\n",
      "20046/20046 [==============================] - 2s - loss: 0.3092 - acc: 0.8612     \n"
     ]
    },
    {
     "data": {
      "text/plain": [
       "<keras.callbacks.History at 0x12e010410>"
      ]
     },
     "execution_count": 38,
     "metadata": {},
     "output_type": "execute_result"
    }
   ],
   "source": [
    "X_train_feature = X_train\n",
    "X_train_feature = X_train_feature.drop('Intact_Unknown', 1)\n",
    "X_train_feature = X_train_feature.drop('Female_Unknown', 1)\n",
    "X_dev_feature = X_dev\n",
    "X_dev_feature = X_dev_feature.drop('Intact_Unknown', 1)\n",
    "X_dev_feature = X_dev_feature.drop('Female_Unknown', 1)\n",
    "\n",
    "model2 = Sequential([\n",
    "    Dense(32, input_shape=(13,)),\n",
    "    Dropout(0.1),   \n",
    "    Activation('sigmoid'),\n",
    "    Dense(5),\n",
    "    Activation('softmax'),\n",
    "])\n",
    "\n",
    "model2.compile(optimizer='adam',\n",
    "              loss='binary_crossentropy',\n",
    "              metrics=['accuracy'])\n",
    "model2.fit(np.array(X_train_feature), y_train_hot, epochs=10, batch_size=32)"
   ]
  },
  {
   "cell_type": "code",
   "execution_count": 42,
   "metadata": {
    "collapsed": false
   },
   "outputs": [
    {
     "name": "stdout",
     "output_type": "stream",
     "text": [
      "6528/6683 [============================>.] - ETA: 0s\n",
      "Accurancy on new dataset with no unknown columns is 0.863384700804\n"
     ]
    }
   ],
   "source": [
    "score2 = model2.evaluate(np.array(X_dev_feature), y_dev_hot, batch_size=16)\n",
    "\n",
    "print '\\nAccuracy on new dataset with no unknown columns is', score2[1]"
   ]
  },
  {
   "cell_type": "markdown",
   "metadata": {},
   "source": [
    "We can see that by eliminating the unknown gender and intactness columns, the new model's accuracy is slightly higher than the original dataset."
   ]
  },
  {
   "cell_type": "markdown",
   "metadata": {},
   "source": [
    "#### Elminating dog data column"
   ]
  },
  {
   "cell_type": "code",
   "execution_count": 40,
   "metadata": {
    "collapsed": false
   },
   "outputs": [
    {
     "name": "stdout",
     "output_type": "stream",
     "text": [
      "Epoch 1/10\n",
      "20046/20046 [==============================] - 2s - loss: 0.3678 - acc: 0.8299     \n",
      "Epoch 2/10\n",
      "20046/20046 [==============================] - 2s - loss: 0.3257 - acc: 0.8561     \n",
      "Epoch 3/10\n",
      "20046/20046 [==============================] - 2s - loss: 0.3193 - acc: 0.8583     \n",
      "Epoch 4/10\n",
      "20046/20046 [==============================] - 2s - loss: 0.3171 - acc: 0.8596     \n",
      "Epoch 5/10\n",
      "20046/20046 [==============================] - 2s - loss: 0.3159 - acc: 0.8596     \n",
      "Epoch 6/10\n",
      "20046/20046 [==============================] - 1s - loss: 0.3144 - acc: 0.8601     \n",
      "Epoch 7/10\n",
      "20046/20046 [==============================] - 2s - loss: 0.3135 - acc: 0.8606     \n",
      "Epoch 8/10\n",
      "20046/20046 [==============================] - 2s - loss: 0.3126 - acc: 0.8609     \n",
      "Epoch 9/10\n",
      "20046/20046 [==============================] - 2s - loss: 0.3116 - acc: 0.8606     \n",
      "Epoch 10/10\n",
      "20046/20046 [==============================] - 2s - loss: 0.3116 - acc: 0.8603     \n"
     ]
    },
    {
     "data": {
      "text/plain": [
       "<keras.callbacks.History at 0x12e692e50>"
      ]
     },
     "execution_count": 40,
     "metadata": {},
     "output_type": "execute_result"
    }
   ],
   "source": [
    "X_train_dog = X_train_feature\n",
    "X_train_dog = X_train_feature.drop('AnimalType_Dog', 1)\n",
    "X_dev_dog = X_dev_feature\n",
    "X_dev_dog = X_dev_feature.drop('AnimalType_Dog', 1)\n",
    "\n",
    "model3 = Sequential([\n",
    "    Dense(32, input_shape=(12,)),\n",
    "    Dropout(0.1),  \n",
    "    Activation('sigmoid'),\n",
    "    Dense(5),\n",
    "    Activation('softmax'),\n",
    "])\n",
    "\n",
    "model3.compile(optimizer='adam',\n",
    "              loss='binary_crossentropy',\n",
    "              metrics=['accuracy'])\n",
    "model3.fit(np.array(X_train_dog), y_train_hot, epochs=10, batch_size=32)"
   ]
  },
  {
   "cell_type": "code",
   "execution_count": 44,
   "metadata": {
    "collapsed": false
   },
   "outputs": [
    {
     "name": "stdout",
     "output_type": "stream",
     "text": [
      "6496/6683 [============================>.] - ETA: 0s\n",
      "Accurancy on new dataset with only cat data is 0.86341462717\n"
     ]
    }
   ],
   "source": [
    "score3 = model3.evaluate(np.array(X_dev_dog), y_dev_hot, batch_size=16)\n",
    "\n",
    "print '\\nAccuracy on new dataset with only cat data is', score3[1]"
   ]
  },
  {
   "cell_type": "markdown",
   "metadata": {},
   "source": [
    "#### Eliminating cat data column"
   ]
  },
  {
   "cell_type": "code",
   "execution_count": 46,
   "metadata": {
    "collapsed": false
   },
   "outputs": [
    {
     "name": "stdout",
     "output_type": "stream",
     "text": [
      "Epoch 1/10\n",
      "20046/20046 [==============================] - 2s - loss: 0.3652 - acc: 0.8312     \n",
      "Epoch 2/10\n",
      "20046/20046 [==============================] - 2s - loss: 0.3253 - acc: 0.8546     \n",
      "Epoch 3/10\n",
      "20046/20046 [==============================] - 2s - loss: 0.3191 - acc: 0.8587     \n",
      "Epoch 4/10\n",
      "20046/20046 [==============================] - 3s - loss: 0.3168 - acc: 0.8596     \n",
      "Epoch 5/10\n",
      "20046/20046 [==============================] - 2s - loss: 0.3148 - acc: 0.8600     \n",
      "Epoch 6/10\n",
      "20046/20046 [==============================] - 3s - loss: 0.3135 - acc: 0.8600     \n",
      "Epoch 7/10\n",
      "20046/20046 [==============================] - 2s - loss: 0.3126 - acc: 0.8605     \n",
      "Epoch 8/10\n",
      "20046/20046 [==============================] - 3s - loss: 0.3111 - acc: 0.8618     \n",
      "Epoch 9/10\n",
      "20046/20046 [==============================] - 2s - loss: 0.3101 - acc: 0.8609     \n",
      "Epoch 10/10\n",
      "20046/20046 [==============================] - 2s - loss: 0.3095 - acc: 0.8611     \n"
     ]
    },
    {
     "data": {
      "text/plain": [
       "<keras.callbacks.History at 0x12ed25bd0>"
      ]
     },
     "execution_count": 46,
     "metadata": {},
     "output_type": "execute_result"
    }
   ],
   "source": [
    "X_train_cat = X_train_feature\n",
    "X_train_cat = X_train_feature.drop('AnimalType_Cat', 1)\n",
    "X_dev_cat = X_dev_feature\n",
    "X_dev_cat = X_dev_feature.drop('AnimalType_Cat', 1)\n",
    "\n",
    "model4 = Sequential([\n",
    "    Dense(32, input_shape=(12,)),\n",
    "    Dropout(0.1),   \n",
    "    Activation('sigmoid'),\n",
    "    Dense(5),\n",
    "    Activation('softmax'),\n",
    "])\n",
    "\n",
    "model4.compile(optimizer='adam',\n",
    "              loss='binary_crossentropy',\n",
    "              metrics=['accuracy'])\n",
    "model4.fit(np.array(X_train_cat), y_train_hot, epochs=10, batch_size=32)"
   ]
  },
  {
   "cell_type": "code",
   "execution_count": 47,
   "metadata": {
    "collapsed": false
   },
   "outputs": [
    {
     "name": "stdout",
     "output_type": "stream",
     "text": [
      "6576/6683 [============================>.] - ETA: 0s\n",
      "Accurancy on new dataset with only dog data is 0.863055506929\n"
     ]
    }
   ],
   "source": [
    "score4 = model4.evaluate(np.array(X_dev_cat), y_dev_hot, batch_size=16)\n",
    "\n",
    "print '\\nAccuracy on new dataset with only dog data is', score4[1]"
   ]
  },
  {
   "cell_type": "markdown",
   "metadata": {},
   "source": [
    "Seems like the new dataset with only cat data has slightly higher accuracy (0.8634) than only dog data (0.8630)."
   ]
  },
  {
   "cell_type": "code",
   "execution_count": null,
   "metadata": {
    "collapsed": true
   },
   "outputs": [],
   "source": [
    "def plot_confusion_matrix(cm, classes, normalize = False, title = 'Confusion Matrix', cmap = plt.cm.Blues):\n",
    "    if normalize:\n",
    "        cm = cm.astype('float') / cm.sum(axis=1)[:, np.newaxis]\n",
    "        print(\"Normalized confusion matrix\")\n",
    "    else:\n",
    "        print('Confusion matrix, without normalization')\n",
    "\n",
    "    print(cm)\n",
    "    plt.imshow(cm, interpolation='nearest', cmap=cmap)\n",
    "    plt.title(title)\n",
    "    plt.colorbar()\n",
    "    tick_marks = np.arange(len(classes))\n",
    "    plt.xticks(tick_marks, classes, rotation=45)\n",
    "    plt.yticks(tick_marks, classes)\n",
    "\n",
    "    fmt = '.2f' if normalize else 'd'\n",
    "    thresh = cm.max() / 2.\n",
    "    for i, j in itertools.product(range(cm.shape[0]), range(cm.shape[1])):\n",
    "        plt.text(j, i, format(cm[i, j], fmt),\n",
    "                 horizontalalignment=\"center\",\n",
    "                 color=\"white\" if cm[i, j] > thresh else \"black\")\n",
    "\n",
    "    plt.tight_layout()\n",
    "    plt.ylabel('True label')\n",
    "    plt.xlabel('Predicted label')\n",
    "\n",
    "class_names = ['Return_to_owner', 'Euthanasia', 'Adoption', 'Transfer', 'Died']\n",
    "\n",
    "cnf_dog_matrix = confusion_matrix(y_dev_hot, model3.evaluate(np.array(X_dev_dog)), labels = class_names)\n",
    "np.set_printoptions(precision=2)\n",
    "\n",
    "plt.figure()\n",
    "plot_confusion_matrix(cnf_dog_matrix, classes=class_names, normalize = False,\n",
    "                      title='Confusion matrix for Dogs, with normalization')\n",
    "\n",
    "cnf_cat_matrix = confusion_matrix(y_dev_hot, model4.evaluate(np.array(X_dev_cat)), labels = class_names)\n",
    "np.set_printoptions(precision=2)\n",
    "\n",
    "plt.figure()\n",
    "plot_confusion_matrix(cnf_cat_matrix, classes=class_names, normalize = False,\n",
    "                      title='Confusion matrix for Dogs, with normalization')\n",
    "\n",
    "plt.show()"
   ]
  },
  {
   "cell_type": "markdown",
   "metadata": {
    "collapsed": true
   },
   "source": [
    "### Logistic Regression Pipeline"
   ]
  },
  {
   "cell_type": "code",
   "execution_count": 48,
   "metadata": {
    "collapsed": true
   },
   "outputs": [],
   "source": [
    "#Reset predictors\n",
    "continuous = {'dog':['ConvertedAge', 'BreedRank'], 'cat':['ConvertedAge']}\n",
    "discrete = {'dog':[\n",
    "    'AnimalType',\n",
    "    'Female',\n",
    "    'Intact',\n",
    "    'MixedBreed',\n",
    "    'Named',\n",
    "    'TopBreed',\n",
    "    'PitBull'\n",
    "], 'cat': [\n",
    "    'AnimalType',\n",
    "    'Female',\n",
    "    'Intact',\n",
    "    'MixedBreed',\n",
    "    'Named',\n",
    "    'BlackCat'\n",
    "]}\n",
    "predictors = {'dog': continuous['dog'] + discrete['dog'], 'cat':continuous['cat']+discrete['cat']}\n",
    "target = 'OutcomeType'\n",
    "\n",
    "# Train/test split\n",
    "data_dog = data[data['AnimalType'] == 'Dog']\n",
    "data_cat = data[data['AnimalType'] == 'Cat']\n",
    "X_dog = data_dog[predictors['dog']]\n",
    "X_cat = data_cat[predictors['cat']]\n",
    "y_dog = data_dog[[target]]\n",
    "y_cat = data_cat[[target]]\n",
    "X_dog_train, X_dog_dev, y_dog_train, y_dog_dev = train_test_split(X_dog, y_dog, random_state=2)\n",
    "X_cat_train, X_cat_dev, y_cat_train, y_cat_dev = train_test_split(X_cat, y_cat, random_state=2)\n"
   ]
  },
  {
   "cell_type": "code",
   "execution_count": 72,
   "metadata": {
    "collapsed": true
   },
   "outputs": [],
   "source": [
    "class MyVectorizer(BaseEstimator, TransformerMixin):\n",
    "\n",
    "    def __init__(self, cols, hashing=None):\n",
    "        \"\"\"\n",
    "        args:\n",
    "            cols: a list of column names of the categorical variables\n",
    "            hashing: \n",
    "                If None, then vectorization is a simple one-hot-encoding.\n",
    "                If an integer, then hashing is the number of features in the output.\n",
    "        \"\"\"\n",
    "        self.cols = cols\n",
    "        self.hashing = hashing\n",
    "        \n",
    "    def fit(self, X, y=None):\n",
    "\n",
    "        data = X[self.cols]\n",
    "        \n",
    "        # Choose a vectorizer\n",
    "        if self.hashing is None:\n",
    "            self.myvec = DictVectorizer(sparse=False)\n",
    "        else:\n",
    "            self.myvec = FeatureHasher(n_features = self.hashing)\n",
    "    \n",
    "        self.myvec.fit(X[self.cols].to_dict(orient='records'))\n",
    "        return self\n",
    "            \n",
    "    def transform(self, X):\n",
    "            \n",
    "        # Vectorize Input\n",
    "        if self.hashing is None:\n",
    "            return pd.DataFrame(\n",
    "                self.myvec.transform(X[self.cols].to_dict(orient='records')),\n",
    "                columns = self.myvec.feature_names_\n",
    "            )\n",
    "        else:\n",
    "            return pd.DataFrame(\n",
    "                self.myvec.transform(X[self.cols].to_dict(orient='records')).toarray()\n",
    "            )"
   ]
  },
  {
   "cell_type": "code",
   "execution_count": 73,
   "metadata": {
    "collapsed": true
   },
   "outputs": [],
   "source": [
    "class MyScaler():\n",
    "    \n",
    "    def __init__(self, cols):\n",
    "        self.cols = cols\n",
    "    \n",
    "    def fit(self, X, y=None):\n",
    "        self.ss = StandardScaler()\n",
    "        self.ss.fit(X[self.cols])\n",
    "        return self\n",
    "    \n",
    "    def transform(self, X):\n",
    "        return self.ss.transform(X[self.cols])"
   ]
  },
  {
   "cell_type": "code",
   "execution_count": 74,
   "metadata": {
    "collapsed": true
   },
   "outputs": [],
   "source": [
    "discrete_pipe_dog = Pipeline(steps=[('Vectorizer', MyVectorizer(cols=discrete['dog'], hashing=None))])\n",
    "discrete_pipe_cat = Pipeline(steps=[('Vectorizer', MyVectorizer(cols=discrete['cat'], hashing=None))])\n",
    "\n",
    "continuous_pipe_cat = Pipeline(steps=[('Scale', MyScaler(continuous['cat']))])\n",
    "continuous_pipe_dog = Pipeline(steps=[('Scale', MyScaler(continuous['dog']))])\n",
    "\n",
    "union_dog = FeatureUnion([('Discrete', discrete_pipe_dog), ('Continuous', continuous_pipe_dog)])\n",
    "union_cat = FeatureUnion([('Discrete', discrete_pipe_cat), ('Continuous', continuous_pipe_cat)])\n",
    "transformed_train = union_dog.fit_transform(X_dog_train)\n",
    "transformed_dev = union_dog.transform(X_dog_dev)"
   ]
  },
  {
   "cell_type": "code",
   "execution_count": 75,
   "metadata": {
    "collapsed": true
   },
   "outputs": [],
   "source": [
    "pipeline_dog = Pipeline([('Preprocess', FeatureUnion([('Discrete', discrete_pipe_dog), ('Continuous', continuous_pipe_dog)])),\n",
    "                      ('Predict', LogisticRegression(multi_class='multinomial', solver='newton-cg'))])\n",
    "pipeline_cat = Pipeline([('Preprocess', FeatureUnion([('Discrete', discrete_pipe_cat), ('Continuous', continuous_pipe_cat)])),\n",
    "                      ('Predict', LogisticRegression(multi_class='multinomial', solver='newton-cg'))])\n",
    "\n",
    "test_dog_lr = pipeline_dog.fit(X_dog_train, y_dog_train)\n",
    "test_cat_lr = pipeline_cat.fit(X_cat_train, y_cat_train)"
   ]
  },
  {
   "cell_type": "code",
   "execution_count": 90,
   "metadata": {
    "collapsed": false,
    "scrolled": true
   },
   "outputs": [
    {
     "name": "stdout",
     "output_type": "stream",
     "text": [
      "Dogs: Multinomial Logistic Regression Train Accuracy ::  0.562841997264\n",
      "Dogs: Multinomial Logistic Regression Dev Accuracy ::  0.578096947935\n",
      "\n",
      "Cats: Multinomial Logistic Regression Train Accuracy ::  0.73748502994\n",
      "Cats: Multinomial Logistic Regression Dev Accuracy ::  0.739583333333\n"
     ]
    }
   ],
   "source": [
    "print \"Dogs: Multinomial Logistic Regression Train Accuracy :: \", metrics.accuracy_score(y_dog_train, test_dog_lr.predict(X_dog_train))\n",
    "print \"Dogs: Multinomial Logistic Regression Dev Accuracy :: \", metrics.accuracy_score(y_dog_dev, test_dog_lr.predict(X_dog_dev))\n",
    "print\n",
    "print \"Cats: Multinomial Logistic Regression Train Accuracy :: \", metrics.accuracy_score(y_cat_train, test_cat_lr.predict(X_cat_train))\n",
    "print \"Cats: Multinomial Logistic Regression Dev Accuracy :: \", metrics.accuracy_score(y_cat_dev, test_cat_lr.predict(X_cat_dev))"
   ]
  },
  {
   "cell_type": "code",
   "execution_count": 81,
   "metadata": {
    "collapsed": false,
    "scrolled": true
   },
   "outputs": [
    {
     "name": "stdout",
     "output_type": "stream",
     "text": [
      "Normalized confusion matrix\n",
      "[[  3.76e-01   9.21e-04   5.23e-01   1.00e-01   0.00e+00]\n",
      " [  3.26e-01   6.95e-02   2.67e-01   3.37e-01   0.00e+00]\n",
      " [  1.03e-01   6.14e-04   8.80e-01   1.72e-02   0.00e+00]\n",
      " [  1.24e-01   8.10e-03   4.63e-01   4.05e-01   0.00e+00]\n",
      " [  1.11e-01   0.00e+00   2.22e-01   6.67e-01   0.00e+00]]\n",
      "Normalized confusion matrix\n",
      "[[ 0.07  0.04  0.82  0.07  0.  ]\n",
      " [ 0.03  0.14  0.08  0.75  0.  ]\n",
      " [ 0.01  0.    0.9   0.08  0.  ]\n",
      " [ 0.01  0.    0.21  0.78  0.  ]\n",
      " [ 0.    0.    0.12  0.88  0.  ]]\n"
     ]
    },
    {
     "data": {
      "image/png": "[encoded data removed]",
      "text/plain": [
       "<matplotlib.figure.Figure at 0x17d99358>"
      ]
     },
     "metadata": {},
     "output_type": "display_data"
    },
    {
     "data": {
      "image/png": "[encoded data removed]",
      "text/plain": [
       "<matplotlib.figure.Figure at 0x1aededa0>"
      ]
     },
     "metadata": {},
     "output_type": "display_data"
    }
   ],
   "source": [
    "def plot_confusion_matrix(cm, classes, normalize = False, title = 'Confusion Matrix', cmap = plt.cm.Blues):\n",
    "    if normalize:\n",
    "        cm = cm.astype('float') / cm.sum(axis=1)[:, np.newaxis]\n",
    "        print(\"Normalized confusion matrix\")\n",
    "    else:\n",
    "        print('Confusion matrix, without normalization')\n",
    "\n",
    "    print(cm)\n",
    "    plt.imshow(cm, interpolation='nearest', cmap=cmap)\n",
    "    plt.title(title)\n",
    "    plt.colorbar()\n",
    "    tick_marks = np.arange(len(classes))\n",
    "    plt.xticks(tick_marks, classes, rotation=45)\n",
    "    plt.yticks(tick_marks, classes)\n",
    "\n",
    "    fmt = '.2f' if normalize else 'd'\n",
    "    thresh = cm.max() / 2.\n",
    "    for i, j in itertools.product(range(cm.shape[0]), range(cm.shape[1])):\n",
    "        plt.text(j, i, format(cm[i, j], fmt),\n",
    "                 horizontalalignment=\"center\",\n",
    "                 color=\"white\" if cm[i, j] > thresh else \"black\")\n",
    "\n",
    "    plt.tight_layout()\n",
    "    plt.ylabel('True label')\n",
    "    plt.xlabel('Predicted label')\n",
    "\n",
    "class_names = ['Return_to_owner', 'Euthanasia', 'Adoption', 'Transfer', 'Died']\n",
    "cnf_dog_matrix = confusion_matrix(y_dog_dev, test_dog_lr.predict(X_dog_dev), labels = class_names)\n",
    "np.set_printoptions(precision=2)\n",
    "\n",
    "plt.figure()\n",
    "plot_confusion_matrix(cnf_dog_matrix, classes=class_names, normalize = False,\n",
    "                      title='Confusion matrix for Dogs, with normalization')\n",
    "\n",
    "cnf_cat_matrix = confusion_matrix(y_cat_dev, test_cat_lr.predict(X_cat_dev), labels = class_names)\n",
    "np.set_printoptions(precision=2)\n",
    "\n",
    "plt.figure()\n",
    "plot_confusion_matrix(cnf_cat_matrix, classes=class_names, normalize = False,\n",
    "                      title='Confusion matrix for Cats, with normalization')\n",
    "plt.show()"
   ]
  },
  {
   "cell_type": "code",
   "execution_count": 88,
   "metadata": {
    "collapsed": false
   },
   "outputs": [
    {
     "name": "stdout",
     "output_type": "stream",
     "text": [
      "Classification Report: Dogs\n",
      "                 precision    recall  f1-score   support\n",
      "\n",
      "Return_to_owner       0.57      0.88      0.69      1629\n",
      "     Euthanasia       0.00      0.00      0.00         9\n",
      "       Adoption       0.57      0.07      0.12       187\n",
      "       Transfer       0.54      0.38      0.44      1086\n",
      "           Died       0.66      0.40      0.50       988\n",
      "\n",
      "    avg / total       0.58      0.58      0.55      3899\n",
      "\n",
      "\n",
      "\n",
      "Classification Report: Cats\n",
      "                 precision    recall  f1-score   support\n",
      "\n",
      "Return_to_owner       0.69      0.90      0.78      1045\n",
      "     Euthanasia       0.00      0.00      0.00        34\n",
      "       Adoption       0.71      0.14      0.23       183\n",
      "       Transfer       0.24      0.07      0.10       136\n",
      "           Died       0.80      0.78      0.79      1386\n",
      "\n",
      "    avg / total       0.72      0.74      0.71      2784\n",
      "\n",
      "\n",
      "\n"
     ]
    }
   ],
   "source": [
    "print(\"Classification Report: Dogs\")\n",
    "print(classification_report(y_dog_dev, test_dog_lr.predict(X_dog_dev), target_names=class_names))\n",
    "print '\\n'\n",
    "\n",
    "print(\"Classification Report: Cats\")\n",
    "print(classification_report(y_cat_dev, test_cat_lr.predict(X_cat_dev), target_names=class_names))\n",
    "print '\\n'"
   ]
  },
  {
   "cell_type": "code",
   "execution_count": null,
   "metadata": {
    "collapsed": true
   },
   "outputs": [],
   "source": [
    "#Plotting ROC curves\n",
    "#Dog logistic regression\n",
    "dog_lr_pred = test_dog_lr.predict(X_dog_dev)\n",
    "fpr, tpr, thresh = roc_curve(y_dev, pred)\n",
    "dog_lr_auc = roc_auc_score(y_dev, pred)\n",
    "plt.plot(fpr, tpr, label = 'Dog Logistic Regression')\n",
    "\n",
    "#Cat logistic regression\n",
    "\n",
    "#Dog neural network\n",
    "\n",
    "#Cat neural network\n",
    "\n",
    "plt.xlabel('False Positive Rate')\n",
    "plt.ylabel('True Positive Rate')\n",
    "plt.legend(loc='lower right')\n",
    "\n",
    "print \"Dog Multinomial Logistic AUC: {:.3}\".format(dog_lr_auc)\n",
    "#print \"Cat Multinomial Logistic AUC: {:.3}\".format(cat_lr_auc)\n",
    "#print \"Dog Neural Network AUC: {:.3}\".format(dog_nn_auc)\n",
    "#print \"Cat Neural Network AUC: {:.3}\".format(dog_nn_auc)"
   ]
  }
 ],
 "metadata": {
  "anaconda-cloud": {},
  "kernelspec": {
   "display_name": "Python [default]",
   "language": "python",
   "name": "python2"
  },
  "language_info": {
   "codemirror_mode": {
    "name": "ipython",
    "version": 2
   },
   "file_extension": ".py",
   "mimetype": "text/x-python",
   "name": "python",
   "nbconvert_exporter": "python",
   "pygments_lexer": "ipython2",
   "version": "2.7.12"
  }
 },
 "nbformat": 4,
 "nbformat_minor": 1
}
