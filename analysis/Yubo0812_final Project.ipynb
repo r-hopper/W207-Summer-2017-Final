{
 "cells": [
  {
   "cell_type": "markdown",
   "metadata": {},
   "source": [
    "## Shelter Animal Outcomes\n",
    "### MIDS W207 Final Project\n",
    "### Clay Miller, Roseanna Hopper, Yubo Zhang"
   ]
  },
  {
   "cell_type": "code",
   "execution_count": 1,
   "metadata": {},
   "outputs": [
    {
     "name": "stderr",
     "output_type": "stream",
     "text": [
      "Using TensorFlow backend.\n",
      "/Users/yubozhang/anaconda/lib/python2.7/site-packages/sklearn/cross_validation.py:44: DeprecationWarning: This module was deprecated in version 0.18 in favor of the model_selection module into which all the refactored classes and functions are moved. Also note that the interface of the new CV iterators are different from that of this module. This module will be removed in 0.20.\n",
      "  \"This module will be removed in 0.20.\", DeprecationWarning)\n"
     ]
    },
    {
     "data": {
      "text/html": [
       "\n",
       "    <div class=\"bk-root\">\n",
       "        <a href=\"http://bokeh.pydata.org\" target=\"_blank\" class=\"bk-logo bk-logo-small bk-logo-notebook\"></a>\n",
       "        <span id=\"c2138c41-8670-4599-8ef7-b44cc9dde10d\">Loading BokehJS ...</span>\n",
       "    </div>"
      ]
     },
     "metadata": {},
     "output_type": "display_data"
    },
    {
     "data": {
      "application/javascript": [
       "\n",
       "(function(global) {\n",
       "  function now() {\n",
       "    return new Date();\n",
       "  }\n",
       "\n",
       "  var force = true;\n",
       "\n",
       "  if (typeof (window._bokeh_onload_callbacks) === \"undefined\" || force === true) {\n",
       "    window._bokeh_onload_callbacks = [];\n",
       "    window._bokeh_is_loading = undefined;\n",
       "  }\n",
       "\n",
       "\n",
       "  \n",
       "  if (typeof (window._bokeh_timeout) === \"undefined\" || force === true) {\n",
       "    window._bokeh_timeout = Date.now() + 5000;\n",
       "    window._bokeh_failed_load = false;\n",
       "  }\n",
       "\n",
       "  var NB_LOAD_WARNING = {'data': {'text/html':\n",
       "     \"<div style='background-color: #fdd'>\\n\"+\n",
       "     \"<p>\\n\"+\n",
       "     \"BokehJS does not appear to have successfully loaded. If loading BokehJS from CDN, this \\n\"+\n",
       "     \"may be due to a slow or bad network connection. Possible fixes:\\n\"+\n",
       "     \"</p>\\n\"+\n",
       "     \"<ul>\\n\"+\n",
       "     \"<li>re-rerun `output_notebook()` to attempt to load from CDN again, or</li>\\n\"+\n",
       "     \"<li>use INLINE resources instead, as so:</li>\\n\"+\n",
       "     \"</ul>\\n\"+\n",
       "     \"<code>\\n\"+\n",
       "     \"from bokeh.resources import INLINE\\n\"+\n",
       "     \"output_notebook(resources=INLINE)\\n\"+\n",
       "     \"</code>\\n\"+\n",
       "     \"</div>\"}};\n",
       "\n",
       "  function display_loaded() {\n",
       "    if (window.Bokeh !== undefined) {\n",
       "      var el = document.getElementById(\"c2138c41-8670-4599-8ef7-b44cc9dde10d\");\n",
       "      el.textContent = \"BokehJS \" + Bokeh.version + \" successfully loaded.\";\n",
       "    } else if (Date.now() < window._bokeh_timeout) {\n",
       "      setTimeout(display_loaded, 100)\n",
       "    }\n",
       "  }\n",
       "\n",
       "  function run_callbacks() {\n",
       "    window._bokeh_onload_callbacks.forEach(function(callback) { callback() });\n",
       "    delete window._bokeh_onload_callbacks\n",
       "    console.info(\"Bokeh: all callbacks have finished\");\n",
       "  }\n",
       "\n",
       "  function load_libs(js_urls, callback) {\n",
       "    window._bokeh_onload_callbacks.push(callback);\n",
       "    if (window._bokeh_is_loading > 0) {\n",
       "      console.log(\"Bokeh: BokehJS is being loaded, scheduling callback at\", now());\n",
       "      return null;\n",
       "    }\n",
       "    if (js_urls == null || js_urls.length === 0) {\n",
       "      run_callbacks();\n",
       "      return null;\n",
       "    }\n",
       "    console.log(\"Bokeh: BokehJS not loaded, scheduling load and callback at\", now());\n",
       "    window._bokeh_is_loading = js_urls.length;\n",
       "    for (var i = 0; i < js_urls.length; i++) {\n",
       "      var url = js_urls[i];\n",
       "      var s = document.createElement('script');\n",
       "      s.src = url;\n",
       "      s.async = false;\n",
       "      s.onreadystatechange = s.onload = function() {\n",
       "        window._bokeh_is_loading--;\n",
       "        if (window._bokeh_is_loading === 0) {\n",
       "          console.log(\"Bokeh: all BokehJS libraries loaded\");\n",
       "          run_callbacks()\n",
       "        }\n",
       "      };\n",
       "      s.onerror = function() {\n",
       "        console.warn(\"failed to load library \" + url);\n",
       "      };\n",
       "      console.log(\"Bokeh: injecting script tag for BokehJS library: \", url);\n",
       "      document.getElementsByTagName(\"head\")[0].appendChild(s);\n",
       "    }\n",
       "  };var element = document.getElementById(\"c2138c41-8670-4599-8ef7-b44cc9dde10d\");\n",
       "  if (element == null) {\n",
       "    console.log(\"Bokeh: ERROR: autoload.js configured with elementid 'c2138c41-8670-4599-8ef7-b44cc9dde10d' but no matching script tag was found. \")\n",
       "    return false;\n",
       "  }\n",
       "\n",
       "  var js_urls = [\"https://cdn.pydata.org/bokeh/release/bokeh-0.12.5.min.js\", \"https://cdn.pydata.org/bokeh/release/bokeh-widgets-0.12.5.min.js\"];\n",
       "\n",
       "  var inline_js = [\n",
       "    function(Bokeh) {\n",
       "      Bokeh.set_log_level(\"info\");\n",
       "    },\n",
       "    \n",
       "    function(Bokeh) {\n",
       "      \n",
       "    },\n",
       "    \n",
       "    function(Bokeh) {\n",
       "      \n",
       "      document.getElementById(\"c2138c41-8670-4599-8ef7-b44cc9dde10d\").textContent = \"BokehJS is loading...\";\n",
       "    },\n",
       "    function(Bokeh) {\n",
       "      console.log(\"Bokeh: injecting CSS: https://cdn.pydata.org/bokeh/release/bokeh-0.12.5.min.css\");\n",
       "      Bokeh.embed.inject_css(\"https://cdn.pydata.org/bokeh/release/bokeh-0.12.5.min.css\");\n",
       "      console.log(\"Bokeh: injecting CSS: https://cdn.pydata.org/bokeh/release/bokeh-widgets-0.12.5.min.css\");\n",
       "      Bokeh.embed.inject_css(\"https://cdn.pydata.org/bokeh/release/bokeh-widgets-0.12.5.min.css\");\n",
       "    }\n",
       "  ];\n",
       "\n",
       "  function run_inline_js() {\n",
       "    \n",
       "    if ((window.Bokeh !== undefined) || (force === true)) {\n",
       "      for (var i = 0; i < inline_js.length; i++) {\n",
       "        inline_js[i](window.Bokeh);\n",
       "      }if (force === true) {\n",
       "        display_loaded();\n",
       "      }} else if (Date.now() < window._bokeh_timeout) {\n",
       "      setTimeout(run_inline_js, 100);\n",
       "    } else if (!window._bokeh_failed_load) {\n",
       "      console.log(\"Bokeh: BokehJS failed to load within specified timeout.\");\n",
       "      window._bokeh_failed_load = true;\n",
       "    } else if (force !== true) {\n",
       "      var cell = $(document.getElementById(\"c2138c41-8670-4599-8ef7-b44cc9dde10d\")).parents('.cell').data().cell;\n",
       "      cell.output_area.append_execute_result(NB_LOAD_WARNING)\n",
       "    }\n",
       "\n",
       "  }\n",
       "\n",
       "  if (window._bokeh_is_loading === 0) {\n",
       "    console.log(\"Bokeh: BokehJS loaded, going straight to plotting\");\n",
       "    run_inline_js();\n",
       "  } else {\n",
       "    load_libs(js_urls, function() {\n",
       "      console.log(\"Bokeh: BokehJS plotting callback run at\", now());\n",
       "      run_inline_js();\n",
       "    });\n",
       "  }\n",
       "}(this));"
      ]
     },
     "metadata": {},
     "output_type": "display_data"
    }
   ],
   "source": [
    "import pandas as pd\n",
    "import numpy as np\n",
    "import matplotlib.pyplot as plt\n",
    "import re\n",
    "import tensorflow \n",
    "import keras\n",
    "\n",
    "from sklearn import metrics\n",
    "from sklearn.preprocessing import StandardScaler\n",
    "from sklearn.feature_extraction import FeatureHasher, DictVectorizer\n",
    "from sklearn.pipeline import Pipeline\n",
    "from sklearn.pipeline import FeatureUnion\n",
    "from sklearn.model_selection import GridSearchCV\n",
    "from sklearn.metrics import confusion_matrix\n",
    "from sklearn.metrics import classification_report\n",
    "from sklearn.cross_validation import train_test_split\n",
    "from sklearn.linear_model import LogisticRegression\n",
    "from sklearn.base import BaseEstimator, TransformerMixin\n",
    "from bokeh.charts import Bar, output_file, show, output_notebook\n",
    "from keras.models import Sequential\n",
    "from keras.layers import Dense, Activation\n",
    "from sklearn.preprocessing import LabelBinarizer\n",
    "from sklearn.ensemble import RandomForestRegressor\n",
    "from sklearn.tree import DecisionTreeRegressor\n",
    "from IPython.core.display import Image, display\n",
    "from sklearn.externals.six import StringIO\n",
    "from IPython.display import Image  \n",
    "from sklearn import tree\n",
    "\n",
    "output_notebook()\n",
    "\n",
    "\n",
    "%matplotlib inline"
   ]
  },
  {
   "cell_type": "code",
   "execution_count": 2,
   "metadata": {
    "collapsed": true
   },
   "outputs": [],
   "source": [
    "# Load the data\n",
    "data = pd.read_csv('../data/train.csv')\n",
    "data['OutcomeSubtype'] = data['OutcomeSubtype'].fillna('')\n",
    "data['Female'] = 'Female' in data['SexuponOutcome']\n",
    "data['AgeuponOutcome'].fillna('', inplace = True)\n",
    "\n",
    "def ageConvert(age):\n",
    "    regexyear = '(\\d+) year'\n",
    "    regexmnth = '(\\d+) month'\n",
    "    regexwk = '(\\d+) week'\n",
    "    regexday = '(\\d+) day'\n",
    "    if re.match(regexyear, age):\n",
    "        const = int(re.match(regexyear, age).groups()[0])\n",
    "        return const*52\n",
    "    elif re.match(regexmnth, age):\n",
    "        const = int(re.match(regexmnth, age).groups()[0])\n",
    "        return const*4.5 # a month is roughly 4.5 weeks\n",
    "    elif re.match(regexwk, age):\n",
    "        return int(re.match(regexwk, age).groups()[0])\n",
    "    elif re.match(regexday, age):\n",
    "        const = int(re.match(regexday, age).groups()[0])\n",
    "        return const/7 #7 days in a week\n",
    "    else:\n",
    "        return None\n",
    "    \n",
    "data['ConvertedAge']=data['AgeuponOutcome'].apply(ageConvert)\n",
    "\n",
    "\n",
    "def female(i):\n",
    "    i = str(i)\n",
    "    if i.find('Female') >= 0: return 'Female'\n",
    "    if i.find('Unknown') >= 0: return 'Unknown'\n",
    "    return 'Male'\n",
    "data['Female'] = data.SexuponOutcome.apply(female)\n",
    "\n",
    "def intact(i):\n",
    "    i = str(i)\n",
    "    if i.find('Intact') >= 0: return 'Intact'\n",
    "    if i.find('Unknown') >= 0: return 'Unknown'\n",
    "    return 'Spayed/Neutered'\n",
    "data['Intact'] = data.SexuponOutcome.apply(intact)\n",
    "\n",
    "def mixed_breed(i):\n",
    "    i = str(i)\n",
    "    if i.find('Mix') >= 0: return 'Mixed Breed'\n",
    "    if i.find('/') >= 0: return 'Known Breed Combo'\n",
    "    return 'Nonmixed'\n",
    "data['MixedBreed'] = data.Breed.apply(mixed_breed)\n",
    "\n",
    "\n",
    "def naming(i):\n",
    "    if pd.isnull(i): return 'Unnamed'\n",
    "    return 'Named'\n",
    "data['Named'] = data.Name.apply(naming)\n",
    "\n",
    "#Change all breed and color strings so that they are ordered consistently\n",
    "#E.G. all \"brown/black\" and \"black/brown\" should become \"black, brown\"\n",
    "def reorder(i):\n",
    "    i = str(i)\n",
    "    if i.find(\" \") >= 0: i = i.replace(\" \", \"-\")\n",
    "    if i.find(\"/\") >= 0: i = i.replace(\"/\", \" \")\n",
    "    i = i.split()\n",
    "    i = sorted(i)\n",
    "    i = ' '.join(i)\n",
    "    return i\n",
    "\n",
    "data['OrderedColor'] = data.Color.apply(reorder)\n",
    "data['OrderedBreed'] = data.Breed.apply(reorder)\n"
   ]
  },
  {
   "cell_type": "code",
   "execution_count": 3,
   "metadata": {
    "scrolled": true
   },
   "outputs": [
    {
     "name": "stdout",
     "output_type": "stream",
     "text": [
      "[  5.20000000e+01   1.04000000e+02   3.00000000e+00   4.50000000e+00\n",
      "   2.25000000e+01   2.08000000e+02   1.35000000e+01   2.00000000e+00\n",
      "   9.00000000e+00   4.50000000e+01   2.70000000e+01   2.60000000e+02\n",
      "   3.64000000e+02   1.56000000e+02   1.80000000e+01   6.24000000e+02\n",
      "   4.68000000e+02   3.12000000e+02   1.00000000e+00   5.72000000e+02\n",
      "   4.00000000e+00   3.15000000e+01   4.16000000e+02   4.95000000e+01\n",
      "   0.00000000e+00   4.05000000e+01   3.60000000e+01   7.80000000e+02\n",
      "   5.20000000e+02   7.28000000e+02   5.00000000e+00   8.32000000e+02\n",
      "   6.76000000e+02              nan   8.84000000e+02   9.36000000e+02\n",
      "   9.88000000e+02   1.04000000e+03]\n"
     ]
    },
    {
     "data": {
      "text/html": [
       "<div>\n",
       "<style>\n",
       "    .dataframe thead tr:only-child th {\n",
       "        text-align: right;\n",
       "    }\n",
       "\n",
       "    .dataframe thead th {\n",
       "        text-align: left;\n",
       "    }\n",
       "\n",
       "    .dataframe tbody tr th {\n",
       "        vertical-align: top;\n",
       "    }\n",
       "</style>\n",
       "<table border=\"1\" class=\"dataframe\">\n",
       "  <thead>\n",
       "    <tr style=\"text-align: right;\">\n",
       "      <th></th>\n",
       "      <th>count</th>\n",
       "      <th>mean</th>\n",
       "      <th>std</th>\n",
       "      <th>min</th>\n",
       "      <th>25%</th>\n",
       "      <th>50%</th>\n",
       "      <th>75%</th>\n",
       "      <th>max</th>\n",
       "    </tr>\n",
       "  </thead>\n",
       "  <tbody>\n",
       "    <tr>\n",
       "      <th>ConvertedAge</th>\n",
       "      <td>26729.0</td>\n",
       "      <td>113.370253</td>\n",
       "      <td>154.064766</td>\n",
       "      <td>0.0</td>\n",
       "      <td>9.0</td>\n",
       "      <td>52.0</td>\n",
       "      <td>156.0</td>\n",
       "      <td>1040.0</td>\n",
       "    </tr>\n",
       "  </tbody>\n",
       "</table>\n",
       "</div>"
      ],
      "text/plain": [
       "                count        mean         std  min  25%   50%    75%     max\n",
       "ConvertedAge  26729.0  113.370253  154.064766  0.0  9.0  52.0  156.0  1040.0"
      ]
     },
     "execution_count": 3,
     "metadata": {},
     "output_type": "execute_result"
    }
   ],
   "source": [
    "#Remove unnecessary variables\n",
    "#del data['AnimalID']\n",
    "#del data['Name']\n",
    "#del data['DateTime']\n",
    "#del data['Breed']\n",
    "#del data['OutcomeSubtype']\n",
    "#del data['SexuponOutcome']\n",
    "#del data['AgeuponOutcome']\n",
    "#del data['Color']\n",
    "#del data['OrderedBreed']\n",
    "#del data['OrderedColor']\n",
    "\n",
    "continuous = ['ConvertedAge']\n",
    "discrete = [\n",
    "    'AnimalType',\n",
    "    'Female',\n",
    "    'Intact',\n",
    "    'MixedBreed',\n",
    "    'Named'\n",
    "]\n",
    "target = 'OutcomeType'\n",
    "\n",
    "print data.ConvertedAge.unique()\n",
    "\n",
    "#For those missing an age, fill with the median age by animal type\n",
    "data[\"ConvertedAge\"] = data.groupby(\"AnimalType\").transform(lambda x: x.fillna(x.median()))\n",
    "data[continuous].describe().T"
   ]
  },
  {
   "cell_type": "code",
   "execution_count": 4,
   "metadata": {},
   "outputs": [
    {
     "data": {
      "text/plain": [
       "(26729, 15)"
      ]
     },
     "execution_count": 4,
     "metadata": {},
     "output_type": "execute_result"
    }
   ],
   "source": [
    "#Turn categorical variables into binaries\n",
    "data2 = pd.concat([data[target], data[continuous], pd.get_dummies(data[discrete])], axis=1)\n",
    "\n",
    "data2.head()\n",
    "data2.shape"
   ]
  },
  {
   "cell_type": "code",
   "execution_count": 73,
   "metadata": {
    "scrolled": true
   },
   "outputs": [
    {
     "name": "stderr",
     "output_type": "stream",
     "text": [
      "/Users/yubozhang/anaconda/lib/python2.7/site-packages/ipykernel/__main__.py:15: SettingWithCopyWarning: \n",
      "A value is trying to be set on a copy of a slice from a DataFrame.\n",
      "Try using .loc[row_indexer,col_indexer] = value instead\n",
      "\n",
      "See the caveats in the documentation: http://pandas.pydata.org/pandas-docs/stable/indexing.html#indexing-view-versus-copy\n",
      "/Users/yubozhang/anaconda/lib/python2.7/site-packages/ipykernel/__main__.py:16: SettingWithCopyWarning: \n",
      "A value is trying to be set on a copy of a slice from a DataFrame.\n",
      "Try using .loc[row_indexer,col_indexer] = value instead\n",
      "\n",
      "See the caveats in the documentation: http://pandas.pydata.org/pandas-docs/stable/indexing.html#indexing-view-versus-copy\n"
     ]
    }
   ],
   "source": [
    "discrete = ['AnimalType_Cat', 'AnimalType_Dog', 'Female_Female', 'Female_Male', 'Female_Unknown',\n",
    "           'Intact_Intact', 'Intact_Spayed/Neutered', 'Intact_Unknown', 'MixedBreed_Known Breed Combo',\n",
    "           'MixedBreed_Mixed Breed', 'MixedBreed_Nonmixed', 'Named_Named', 'Named_Unnamed']\n",
    "\n",
    "predictors = continuous + discrete\n",
    "\n",
    "# Train/test split\n",
    "X = data2[predictors]\n",
    "y = data2[[target]]\n",
    "X_train, X_dev, y_train, y_dev = train_test_split(X, y, random_state=2)\n",
    "\n",
    "#Normalize \n",
    "ss = StandardScaler()\n",
    "ss.fit(X_train[continuous])   # Compute mean and std of training data\n",
    "X_train[continuous] = ss.transform(X_train[continuous])  # Use that mean and std to normalize columns of training data\n",
    "X_dev[continuous] = ss.transform(X_dev[continuous]) "
   ]
  },
  {
   "cell_type": "markdown",
   "metadata": {},
   "source": [
    "#### Visualizing Features"
   ]
  },
  {
   "cell_type": "code",
   "execution_count": 6,
   "metadata": {},
   "outputs": [
    {
     "data": {
      "text/plain": [
       "<matplotlib.axes._subplots.AxesSubplot at 0x11cdd7090>"
      ]
     },
     "execution_count": 6,
     "metadata": {},
     "output_type": "execute_result"
    },
    {
     "data": {
      "image/png": "[encoded data removed]",
      "text/plain": [
       "<matplotlib.figure.Figure at 0x11cdf02d0>"
      ]
     },
     "metadata": {},
     "output_type": "display_data"
    }
   ],
   "source": [
    "#A quick look at the variables\n",
    "\n",
    "#Animal types\n",
    "animal_type = data['AnimalType'].value_counts() \n",
    "animal_type.plot(kind='bar',color='#34ABD8',rot=0)"
   ]
  },
  {
   "cell_type": "code",
   "execution_count": 7,
   "metadata": {},
   "outputs": [
    {
     "data": {
      "text/html": [
       "\n",
       "\n",
       "    <div class=\"bk-root\">\n",
       "        <div class=\"bk-plotdiv\" id=\"44b03cfc-2e4d-44d4-bbfb-890f0657b6d2\"></div>\n",
       "    </div>\n",
       "<script type=\"text/javascript\">\n",
       "  \n",
       "  (function(global) {\n",
       "    function now() {\n",
       "      return new Date();\n",
       "    }\n",
       "  \n",
       "    var force = false;\n",
       "  \n",
       "    if (typeof (window._bokeh_onload_callbacks) === \"undefined\" || force === true) {\n",
       "      window._bokeh_onload_callbacks = [];\n",
       "      window._bokeh_is_loading = undefined;\n",
       "    }\n",
       "  \n",
       "  \n",
       "    \n",
       "    if (typeof (window._bokeh_timeout) === \"undefined\" || force === true) {\n",
       "      window._bokeh_timeout = Date.now() + 0;\n",
       "      window._bokeh_failed_load = false;\n",
       "    }\n",
       "  \n",
       "    var NB_LOAD_WARNING = {'data': {'text/html':\n",
       "       \"<div style='background-color: #fdd'>\\n\"+\n",
       "       \"<p>\\n\"+\n",
       "       \"BokehJS does not appear to have successfully loaded. If loading BokehJS from CDN, this \\n\"+\n",
       "       \"may be due to a slow or bad network connection. Possible fixes:\\n\"+\n",
       "       \"</p>\\n\"+\n",
       "       \"<ul>\\n\"+\n",
       "       \"<li>re-rerun `output_notebook()` to attempt to load from CDN again, or</li>\\n\"+\n",
       "       \"<li>use INLINE resources instead, as so:</li>\\n\"+\n",
       "       \"</ul>\\n\"+\n",
       "       \"<code>\\n\"+\n",
       "       \"from bokeh.resources import INLINE\\n\"+\n",
       "       \"output_notebook(resources=INLINE)\\n\"+\n",
       "       \"</code>\\n\"+\n",
       "       \"</div>\"}};\n",
       "  \n",
       "    function display_loaded() {\n",
       "      if (window.Bokeh !== undefined) {\n",
       "        var el = document.getElementById(\"44b03cfc-2e4d-44d4-bbfb-890f0657b6d2\");\n",
       "        el.textContent = \"BokehJS \" + Bokeh.version + \" successfully loaded.\";\n",
       "      } else if (Date.now() < window._bokeh_timeout) {\n",
       "        setTimeout(display_loaded, 100)\n",
       "      }\n",
       "    }\n",
       "  \n",
       "    function run_callbacks() {\n",
       "      window._bokeh_onload_callbacks.forEach(function(callback) { callback() });\n",
       "      delete window._bokeh_onload_callbacks\n",
       "      console.info(\"Bokeh: all callbacks have finished\");\n",
       "    }\n",
       "  \n",
       "    function load_libs(js_urls, callback) {\n",
       "      window._bokeh_onload_callbacks.push(callback);\n",
       "      if (window._bokeh_is_loading > 0) {\n",
       "        console.log(\"Bokeh: BokehJS is being loaded, scheduling callback at\", now());\n",
       "        return null;\n",
       "      }\n",
       "      if (js_urls == null || js_urls.length === 0) {\n",
       "        run_callbacks();\n",
       "        return null;\n",
       "      }\n",
       "      console.log(\"Bokeh: BokehJS not loaded, scheduling load and callback at\", now());\n",
       "      window._bokeh_is_loading = js_urls.length;\n",
       "      for (var i = 0; i < js_urls.length; i++) {\n",
       "        var url = js_urls[i];\n",
       "        var s = document.createElement('script');\n",
       "        s.src = url;\n",
       "        s.async = false;\n",
       "        s.onreadystatechange = s.onload = function() {\n",
       "          window._bokeh_is_loading--;\n",
       "          if (window._bokeh_is_loading === 0) {\n",
       "            console.log(\"Bokeh: all BokehJS libraries loaded\");\n",
       "            run_callbacks()\n",
       "          }\n",
       "        };\n",
       "        s.onerror = function() {\n",
       "          console.warn(\"failed to load library \" + url);\n",
       "        };\n",
       "        console.log(\"Bokeh: injecting script tag for BokehJS library: \", url);\n",
       "        document.getElementsByTagName(\"head\")[0].appendChild(s);\n",
       "      }\n",
       "    };var element = document.getElementById(\"44b03cfc-2e4d-44d4-bbfb-890f0657b6d2\");\n",
       "    if (element == null) {\n",
       "      console.log(\"Bokeh: ERROR: autoload.js configured with elementid '44b03cfc-2e4d-44d4-bbfb-890f0657b6d2' but no matching script tag was found. \")\n",
       "      return false;\n",
       "    }\n",
       "  \n",
       "    var js_urls = [];\n",
       "  \n",
       "    var inline_js = [\n",
       "      function(Bokeh) {\n",
       "        (function() {\n",
       "          var fn = function() {\n",
       "            var docs_json = {\"2299d1ef-6fad-4558-b59d-ba08e614f98f\":{\"roots\":{\"references\":[{\"attributes\":{\"callback\":null,\"end\":11307.45},\"id\":\"dbe622df-ade6-4f87-9e87-ac74a017714f\",\"type\":\"Range1d\"},{\"attributes\":{\"data_source\":{\"id\":\"05e534fc-3d1f-4088-ad05-6be583fad14b\",\"type\":\"ColumnDataSource\"},\"glyph\":{\"id\":\"d7519dde-9d47-4071-915b-2045a3c9e256\",\"type\":\"Rect\"},\"hover_glyph\":null,\"muted_glyph\":null},\"id\":\"019c78b4-39a9-4eaf-b901-76ac376cbce7\",\"type\":\"GlyphRenderer\"},{\"attributes\":{\"label\":{\"value\":\"Cat\"},\"renderers\":[{\"id\":\"4557e53e-8790-4a8d-8271-6c9d6a6b10d0\",\"type\":\"GlyphRenderer\"}]},\"id\":\"4d980466-65e1-4340-a594-9461964e9ec2\",\"type\":\"LegendItem\"},{\"attributes\":{\"items\":[{\"id\":\"4be849d7-98da-4608-be85-f49d781e9ff9\",\"type\":\"LegendItem\"},{\"id\":\"4d980466-65e1-4340-a594-9461964e9ec2\",\"type\":\"LegendItem\"}],\"plot\":{\"id\":\"e8a151fc-c7d1-4f1a-b8e3-0380b4c143d3\",\"subtype\":\"Chart\",\"type\":\"Plot\"}},\"id\":\"3ac649c8-ec2e-43ef-935e-c4292dbe8438\",\"type\":\"Legend\"},{\"attributes\":{\"fill_alpha\":{\"field\":\"fill_alpha\"},\"fill_color\":{\"field\":\"color\"},\"height\":{\"field\":\"height\",\"units\":\"data\"},\"line_color\":{\"field\":\"line_color\"},\"width\":{\"field\":\"width\",\"units\":\"data\"},\"x\":{\"field\":\"x\"},\"y\":{\"field\":\"y\"}},\"id\":\"8064348c-7914-452d-9b69-e1fecd4aa791\",\"type\":\"Rect\"},{\"attributes\":{\"fill_alpha\":{\"field\":\"fill_alpha\"},\"fill_color\":{\"field\":\"color\"},\"height\":{\"field\":\"height\",\"units\":\"data\"},\"line_color\":{\"field\":\"line_color\"},\"width\":{\"field\":\"width\",\"units\":\"data\"},\"x\":{\"field\":\"x\"},\"y\":{\"field\":\"y\"}},\"id\":\"d7519dde-9d47-4071-915b-2045a3c9e256\",\"type\":\"Rect\"},{\"attributes\":{},\"id\":\"81b2a307-5b77-4039-9458-960e8473d561\",\"type\":\"BasicTickFormatter\"},{\"attributes\":{\"fill_alpha\":{\"field\":\"fill_alpha\"},\"fill_color\":{\"field\":\"color\"},\"height\":{\"field\":\"height\",\"units\":\"data\"},\"line_color\":{\"field\":\"line_color\"},\"width\":{\"field\":\"width\",\"units\":\"data\"},\"x\":{\"field\":\"x\"},\"y\":{\"field\":\"y\"}},\"id\":\"3dd76949-c5ae-421d-8e61-5f68cdf9986a\",\"type\":\"Rect\"},{\"attributes\":{},\"id\":\"79af70a2-16e9-431a-a813-1ef90eee944c\",\"type\":\"ToolEvents\"},{\"attributes\":{\"callback\":null,\"column_names\":[\"line_color\",\"line_alpha\",\"color\",\"fill_alpha\",\"height\",\"width\",\"y\",\"x\",\"label\"],\"data\":{\"AnimalType\":[\"Dog\"],\"OutcomeType\":[\"Return_to_owner\"],\"chart_index\":[{\"AnimalType\":\"Dog\",\"OutcomeType\":\"Return_to_owner\"}],\"color\":[\"#5ab738\"],\"fill_alpha\":[0.8],\"height\":[4286.0],\"label\":[{\"AnimalType\":\"Dog\",\"OutcomeType\":\"Return_to_owner\"}],\"line_alpha\":[1.0],\"line_color\":[\"white\"],\"width\":[0.8],\"x\":[\"Return_to_owner\"],\"y\":[2143.0]}},\"id\":\"cac8d100-6a7e-4db6-8266-bf65cb5315d5\",\"type\":\"ColumnDataSource\"},{\"attributes\":{\"callback\":null,\"factors\":[\"Adoption\",\"Died\",\"Euthanasia\",\"Return_to_owner\",\"Transfer\"]},\"id\":\"f0211315-fc08-4dd1-b403-35ab4b1258c9\",\"type\":\"FactorRange\"},{\"attributes\":{\"plot\":{\"id\":\"e8a151fc-c7d1-4f1a-b8e3-0380b4c143d3\",\"subtype\":\"Chart\",\"type\":\"Plot\"}},\"id\":\"96062740-b3f1-4e42-9be6-2c75bb26fe4e\",\"type\":\"HelpTool\"},{\"attributes\":{},\"id\":\"e368999c-0fee-43fd-995a-26489809adfb\",\"type\":\"BasicTicker\"},{\"attributes\":{\"callback\":null,\"column_names\":[\"line_color\",\"line_alpha\",\"color\",\"fill_alpha\",\"height\",\"width\",\"y\",\"x\",\"label\"],\"data\":{\"AnimalType\":[\"Dog\"],\"OutcomeType\":[\"Euthanasia\"],\"chart_index\":[{\"AnimalType\":\"Dog\",\"OutcomeType\":\"Euthanasia\"}],\"color\":[\"#5ab738\"],\"fill_alpha\":[0.8],\"height\":[845.0],\"label\":[{\"AnimalType\":\"Dog\",\"OutcomeType\":\"Euthanasia\"}],\"line_alpha\":[1.0],\"line_color\":[\"white\"],\"width\":[0.8],\"x\":[\"Euthanasia\"],\"y\":[1132.5]}},\"id\":\"48a8b742-8e84-4663-8198-ded5d79f5302\",\"type\":\"ColumnDataSource\"},{\"attributes\":{\"data_source\":{\"id\":\"cac8d100-6a7e-4db6-8266-bf65cb5315d5\",\"type\":\"ColumnDataSource\"},\"glyph\":{\"id\":\"da693c8d-3b89-4c59-a084-717541f6b416\",\"type\":\"Rect\"},\"hover_glyph\":null,\"muted_glyph\":null},\"id\":\"293214b9-cd9c-49ef-b036-0982f023c25b\",\"type\":\"GlyphRenderer\"},{\"attributes\":{\"plot\":null,\"text\":\"Outcomes by Animal Type\"},\"id\":\"0bcc9156-5b63-46c1-9d76-f1495d1a673f\",\"type\":\"Title\"},{\"attributes\":{\"fill_alpha\":{\"field\":\"fill_alpha\"},\"fill_color\":{\"field\":\"color\"},\"height\":{\"field\":\"height\",\"units\":\"data\"},\"line_color\":{\"field\":\"line_color\"},\"width\":{\"field\":\"width\",\"units\":\"data\"},\"x\":{\"field\":\"x\"},\"y\":{\"field\":\"y\"}},\"id\":\"cc7daa88-b3e9-4baa-81e1-cc06bc5de18a\",\"type\":\"Rect\"},{\"attributes\":{\"data_source\":{\"id\":\"8b88d586-e522-4c7a-8d01-f11c9acf4303\",\"type\":\"ColumnDataSource\"},\"glyph\":{\"id\":\"f660411a-3e61-42aa-a506-7f9f97ae9b4f\",\"type\":\"Rect\"},\"hover_glyph\":null,\"muted_glyph\":null},\"id\":\"bd11744c-f87b-4c65-b24c-b6a21e07baf0\",\"type\":\"GlyphRenderer\"},{\"attributes\":{\"callback\":null,\"column_names\":[\"line_color\",\"line_alpha\",\"color\",\"fill_alpha\",\"height\",\"width\",\"y\",\"x\",\"label\"],\"data\":{\"AnimalType\":[\"Cat\"],\"OutcomeType\":[\"Died\"],\"chart_index\":[{\"AnimalType\":\"Cat\",\"OutcomeType\":\"Died\"}],\"color\":[\"#f22c40\"],\"fill_alpha\":[0.8],\"height\":[147.0],\"label\":[{\"AnimalType\":\"Cat\",\"OutcomeType\":\"Died\"}],\"line_alpha\":[1.0],\"line_color\":[\"white\"],\"width\":[0.8],\"x\":[\"Died\"],\"y\":[73.5]}},\"id\":\"cb524f97-2715-48a8-8428-421dfbd3f238\",\"type\":\"ColumnDataSource\"},{\"attributes\":{\"callback\":null,\"column_names\":[\"line_color\",\"line_alpha\",\"color\",\"fill_alpha\",\"height\",\"width\",\"y\",\"x\",\"label\"],\"data\":{\"AnimalType\":[\"Cat\"],\"OutcomeType\":[\"Transfer\"],\"chart_index\":[{\"AnimalType\":\"Cat\",\"OutcomeType\":\"Transfer\"}],\"color\":[\"#f22c40\"],\"fill_alpha\":[0.8],\"height\":[5505.0],\"label\":[{\"AnimalType\":\"Cat\",\"OutcomeType\":\"Transfer\"}],\"line_alpha\":[1.0],\"line_color\":[\"white\"],\"width\":[0.8],\"x\":[\"Transfer\"],\"y\":[2752.5]}},\"id\":\"8b88d586-e522-4c7a-8d01-f11c9acf4303\",\"type\":\"ColumnDataSource\"},{\"attributes\":{\"dimension\":1,\"plot\":{\"id\":\"e8a151fc-c7d1-4f1a-b8e3-0380b4c143d3\",\"subtype\":\"Chart\",\"type\":\"Plot\"},\"ticker\":{\"id\":\"e368999c-0fee-43fd-995a-26489809adfb\",\"type\":\"BasicTicker\"}},\"id\":\"5c9f8b38-1c71-486c-9ada-ec777a782f04\",\"type\":\"Grid\"},{\"attributes\":{\"data_source\":{\"id\":\"cb524f97-2715-48a8-8428-421dfbd3f238\",\"type\":\"ColumnDataSource\"},\"glyph\":{\"id\":\"8064348c-7914-452d-9b69-e1fecd4aa791\",\"type\":\"Rect\"},\"hover_glyph\":null,\"muted_glyph\":null},\"id\":\"21b23def-6536-4f58-adee-581351eb0174\",\"type\":\"GlyphRenderer\"},{\"attributes\":{\"overlay\":{\"id\":\"85eafac1-c28c-41d2-9ac0-dfa52fbea39e\",\"type\":\"BoxAnnotation\"},\"plot\":{\"id\":\"e8a151fc-c7d1-4f1a-b8e3-0380b4c143d3\",\"subtype\":\"Chart\",\"type\":\"Plot\"}},\"id\":\"51a5a994-6c8a-4573-8d79-1330e5403dad\",\"type\":\"BoxZoomTool\"},{\"attributes\":{\"axis_label\":\"Count( Animaltype )\",\"formatter\":{\"id\":\"81b2a307-5b77-4039-9458-960e8473d561\",\"type\":\"BasicTickFormatter\"},\"plot\":{\"id\":\"e8a151fc-c7d1-4f1a-b8e3-0380b4c143d3\",\"subtype\":\"Chart\",\"type\":\"Plot\"},\"ticker\":{\"id\":\"e368999c-0fee-43fd-995a-26489809adfb\",\"type\":\"BasicTicker\"}},\"id\":\"9ef1bf95-d066-4515-a489-117ffcf4e3d8\",\"type\":\"LinearAxis\"},{\"attributes\":{\"plot\":{\"id\":\"e8a151fc-c7d1-4f1a-b8e3-0380b4c143d3\",\"subtype\":\"Chart\",\"type\":\"Plot\"}},\"id\":\"73c004c4-aeb8-4d17-9e55-512dc979091f\",\"type\":\"ResetTool\"},{\"attributes\":{\"plot\":{\"id\":\"e8a151fc-c7d1-4f1a-b8e3-0380b4c143d3\",\"subtype\":\"Chart\",\"type\":\"Plot\"}},\"id\":\"5e0ced68-cc51-4ee5-976e-86b092a6ed5c\",\"type\":\"SaveTool\"},{\"attributes\":{\"fill_alpha\":{\"field\":\"fill_alpha\"},\"fill_color\":{\"field\":\"color\"},\"height\":{\"field\":\"height\",\"units\":\"data\"},\"line_color\":{\"field\":\"line_color\"},\"width\":{\"field\":\"width\",\"units\":\"data\"},\"x\":{\"field\":\"x\"},\"y\":{\"field\":\"y\"}},\"id\":\"faf90238-84fd-4510-a742-623601764c11\",\"type\":\"Rect\"},{\"attributes\":{\"bottom_units\":\"screen\",\"fill_alpha\":{\"value\":0.5},\"fill_color\":{\"value\":\"lightgrey\"},\"left_units\":\"screen\",\"level\":\"overlay\",\"line_alpha\":{\"value\":1.0},\"line_color\":{\"value\":\"black\"},\"line_dash\":[4,4],\"line_width\":{\"value\":2},\"plot\":null,\"render_mode\":\"css\",\"right_units\":\"screen\",\"top_units\":\"screen\"},\"id\":\"85eafac1-c28c-41d2-9ac0-dfa52fbea39e\",\"type\":\"BoxAnnotation\"},{\"attributes\":{\"callback\":null,\"column_names\":[\"line_color\",\"line_alpha\",\"color\",\"fill_alpha\",\"height\",\"width\",\"y\",\"x\",\"label\"],\"data\":{\"AnimalType\":[\"Cat\"],\"OutcomeType\":[\"Return_to_owner\"],\"chart_index\":[{\"AnimalType\":\"Cat\",\"OutcomeType\":\"Return_to_owner\"}],\"color\":[\"#f22c40\"],\"fill_alpha\":[0.8],\"height\":[500.0],\"label\":[{\"AnimalType\":\"Cat\",\"OutcomeType\":\"Return_to_owner\"}],\"line_alpha\":[1.0],\"line_color\":[\"white\"],\"width\":[0.8],\"x\":[\"Return_to_owner\"],\"y\":[4536.0]}},\"id\":\"218859ae-f1a4-4a25-b928-884dc56a50a1\",\"type\":\"ColumnDataSource\"},{\"attributes\":{\"data_source\":{\"id\":\"933429aa-d14b-4e4e-99e5-44fe52211b24\",\"type\":\"ColumnDataSource\"},\"glyph\":{\"id\":\"faf90238-84fd-4510-a742-623601764c11\",\"type\":\"Rect\"},\"hover_glyph\":null,\"muted_glyph\":null},\"id\":\"4557e53e-8790-4a8d-8271-6c9d6a6b10d0\",\"type\":\"GlyphRenderer\"},{\"attributes\":{\"callback\":null,\"column_names\":[\"line_color\",\"line_alpha\",\"color\",\"fill_alpha\",\"height\",\"width\",\"y\",\"x\",\"label\"],\"data\":{\"AnimalType\":[\"Cat\"],\"OutcomeType\":[\"Adoption\"],\"chart_index\":[{\"AnimalType\":\"Cat\",\"OutcomeType\":\"Adoption\"}],\"color\":[\"#f22c40\"],\"fill_alpha\":[0.8],\"height\":[4272.0],\"label\":[{\"AnimalType\":\"Cat\",\"OutcomeType\":\"Adoption\"}],\"line_alpha\":[1.0],\"line_color\":[\"white\"],\"width\":[0.8],\"x\":[\"Adoption\"],\"y\":[8633.0]}},\"id\":\"05e534fc-3d1f-4088-ad05-6be583fad14b\",\"type\":\"ColumnDataSource\"},{\"attributes\":{\"callback\":null,\"column_names\":[\"line_color\",\"line_alpha\",\"color\",\"fill_alpha\",\"height\",\"width\",\"y\",\"x\",\"label\"],\"data\":{\"AnimalType\":[\"Cat\"],\"OutcomeType\":[\"Euthanasia\"],\"chart_index\":[{\"AnimalType\":\"Cat\",\"OutcomeType\":\"Euthanasia\"}],\"color\":[\"#f22c40\"],\"fill_alpha\":[0.8],\"height\":[710.0],\"label\":[{\"AnimalType\":\"Cat\",\"OutcomeType\":\"Euthanasia\"}],\"line_alpha\":[1.0],\"line_color\":[\"white\"],\"width\":[0.8],\"x\":[\"Euthanasia\"],\"y\":[355.0]}},\"id\":\"933429aa-d14b-4e4e-99e5-44fe52211b24\",\"type\":\"ColumnDataSource\"},{\"attributes\":{\"callback\":null,\"column_names\":[\"line_color\",\"line_alpha\",\"color\",\"fill_alpha\",\"height\",\"width\",\"y\",\"x\",\"label\"],\"data\":{\"AnimalType\":[\"Dog\"],\"OutcomeType\":[\"Adoption\"],\"chart_index\":[{\"AnimalType\":\"Dog\",\"OutcomeType\":\"Adoption\"}],\"color\":[\"#5ab738\"],\"fill_alpha\":[0.8],\"height\":[6497.0],\"label\":[{\"AnimalType\":\"Dog\",\"OutcomeType\":\"Adoption\"}],\"line_alpha\":[1.0],\"line_color\":[\"white\"],\"width\":[0.8],\"x\":[\"Adoption\"],\"y\":[3248.5]}},\"id\":\"1697276f-4740-4525-ba0f-4fc6e7f185f6\",\"type\":\"ColumnDataSource\"},{\"attributes\":{\"label\":{\"value\":\"Dog\"},\"renderers\":[{\"id\":\"293214b9-cd9c-49ef-b036-0982f023c25b\",\"type\":\"GlyphRenderer\"}]},\"id\":\"4be849d7-98da-4608-be85-f49d781e9ff9\",\"type\":\"LegendItem\"},{\"attributes\":{\"data_source\":{\"id\":\"48a8b742-8e84-4663-8198-ded5d79f5302\",\"type\":\"ColumnDataSource\"},\"glyph\":{\"id\":\"3dd76949-c5ae-421d-8e61-5f68cdf9986a\",\"type\":\"Rect\"},\"hover_glyph\":null,\"muted_glyph\":null},\"id\":\"6dbe09b9-584f-44a4-8800-21007246a75d\",\"type\":\"GlyphRenderer\"},{\"attributes\":{\"plot\":{\"id\":\"e8a151fc-c7d1-4f1a-b8e3-0380b4c143d3\",\"subtype\":\"Chart\",\"type\":\"Plot\"}},\"id\":\"512016e4-b75a-4391-ab22-d815fe528626\",\"type\":\"WheelZoomTool\"},{\"attributes\":{\"fill_alpha\":{\"field\":\"fill_alpha\"},\"fill_color\":{\"field\":\"color\"},\"height\":{\"field\":\"height\",\"units\":\"data\"},\"line_color\":{\"field\":\"line_color\"},\"width\":{\"field\":\"width\",\"units\":\"data\"},\"x\":{\"field\":\"x\"},\"y\":{\"field\":\"y\"}},\"id\":\"7898a895-ec13-4e03-a0b1-eb94dc73ef27\",\"type\":\"Rect\"},{\"attributes\":{\"fill_alpha\":{\"field\":\"fill_alpha\"},\"fill_color\":{\"field\":\"color\"},\"height\":{\"field\":\"height\",\"units\":\"data\"},\"line_color\":{\"field\":\"line_color\"},\"width\":{\"field\":\"width\",\"units\":\"data\"},\"x\":{\"field\":\"x\"},\"y\":{\"field\":\"y\"}},\"id\":\"e7bcbfad-a599-4d67-a29e-e3b0ae7e7d69\",\"type\":\"Rect\"},{\"attributes\":{\"axis_label\":\"Outcometype\",\"formatter\":{\"id\":\"c5868f04-dd0e-4453-b009-4ff0087032a1\",\"type\":\"CategoricalTickFormatter\"},\"major_label_orientation\":0.7853981633974483,\"plot\":{\"id\":\"e8a151fc-c7d1-4f1a-b8e3-0380b4c143d3\",\"subtype\":\"Chart\",\"type\":\"Plot\"},\"ticker\":{\"id\":\"74f81fe3-430e-4ad8-902a-3b5ab039445b\",\"type\":\"CategoricalTicker\"}},\"id\":\"d414bd35-ce96-49cf-ba06-1d26e92a9b20\",\"type\":\"CategoricalAxis\"},{\"attributes\":{\"below\":[{\"id\":\"d414bd35-ce96-49cf-ba06-1d26e92a9b20\",\"type\":\"CategoricalAxis\"}],\"css_classes\":null,\"left\":[{\"id\":\"9ef1bf95-d066-4515-a489-117ffcf4e3d8\",\"type\":\"LinearAxis\"}],\"renderers\":[{\"id\":\"85eafac1-c28c-41d2-9ac0-dfa52fbea39e\",\"type\":\"BoxAnnotation\"},{\"id\":\"293214b9-cd9c-49ef-b036-0982f023c25b\",\"type\":\"GlyphRenderer\"},{\"id\":\"4557e53e-8790-4a8d-8271-6c9d6a6b10d0\",\"type\":\"GlyphRenderer\"},{\"id\":\"1c3fde7a-cf49-49ad-b1aa-a4cd18643b52\",\"type\":\"GlyphRenderer\"},{\"id\":\"bd11744c-f87b-4c65-b24c-b6a21e07baf0\",\"type\":\"GlyphRenderer\"},{\"id\":\"6aac58fa-89a2-4e16-8616-3f939d7d07f4\",\"type\":\"GlyphRenderer\"},{\"id\":\"019c78b4-39a9-4eaf-b901-76ac376cbce7\",\"type\":\"GlyphRenderer\"},{\"id\":\"37ff464d-4968-4fba-8efe-75c844844f1c\",\"type\":\"GlyphRenderer\"},{\"id\":\"6dbe09b9-584f-44a4-8800-21007246a75d\",\"type\":\"GlyphRenderer\"},{\"id\":\"21b23def-6536-4f58-adee-581351eb0174\",\"type\":\"GlyphRenderer\"},{\"id\":\"6d875eea-3b9f-4f36-9e81-3a129c501874\",\"type\":\"GlyphRenderer\"},{\"id\":\"3ac649c8-ec2e-43ef-935e-c4292dbe8438\",\"type\":\"Legend\"},{\"id\":\"d414bd35-ce96-49cf-ba06-1d26e92a9b20\",\"type\":\"CategoricalAxis\"},{\"id\":\"9ef1bf95-d066-4515-a489-117ffcf4e3d8\",\"type\":\"LinearAxis\"},{\"id\":\"5c9f8b38-1c71-486c-9ada-ec777a782f04\",\"type\":\"Grid\"}],\"title\":{\"id\":\"0bcc9156-5b63-46c1-9d76-f1495d1a673f\",\"type\":\"Title\"},\"tool_events\":{\"id\":\"79af70a2-16e9-431a-a813-1ef90eee944c\",\"type\":\"ToolEvents\"},\"toolbar\":{\"id\":\"b1623985-c516-4378-a2b8-b9c1444657b1\",\"type\":\"Toolbar\"},\"x_mapper_type\":\"auto\",\"x_range\":{\"id\":\"f0211315-fc08-4dd1-b403-35ab4b1258c9\",\"type\":\"FactorRange\"},\"y_mapper_type\":\"auto\",\"y_range\":{\"id\":\"dbe622df-ade6-4f87-9e87-ac74a017714f\",\"type\":\"Range1d\"}},\"id\":\"e8a151fc-c7d1-4f1a-b8e3-0380b4c143d3\",\"subtype\":\"Chart\",\"type\":\"Plot\"},{\"attributes\":{\"fill_alpha\":{\"field\":\"fill_alpha\"},\"fill_color\":{\"field\":\"color\"},\"height\":{\"field\":\"height\",\"units\":\"data\"},\"line_color\":{\"field\":\"line_color\"},\"width\":{\"field\":\"width\",\"units\":\"data\"},\"x\":{\"field\":\"x\"},\"y\":{\"field\":\"y\"}},\"id\":\"da693c8d-3b89-4c59-a084-717541f6b416\",\"type\":\"Rect\"},{\"attributes\":{\"data_source\":{\"id\":\"218859ae-f1a4-4a25-b928-884dc56a50a1\",\"type\":\"ColumnDataSource\"},\"glyph\":{\"id\":\"cc7daa88-b3e9-4baa-81e1-cc06bc5de18a\",\"type\":\"Rect\"},\"hover_glyph\":null,\"muted_glyph\":null},\"id\":\"37ff464d-4968-4fba-8efe-75c844844f1c\",\"type\":\"GlyphRenderer\"},{\"attributes\":{},\"id\":\"c5868f04-dd0e-4453-b009-4ff0087032a1\",\"type\":\"CategoricalTickFormatter\"},{\"attributes\":{},\"id\":\"74f81fe3-430e-4ad8-902a-3b5ab039445b\",\"type\":\"CategoricalTicker\"},{\"attributes\":{\"data_source\":{\"id\":\"d8bcd441-b07e-48d0-a577-163d4428fe59\",\"type\":\"ColumnDataSource\"},\"glyph\":{\"id\":\"e7bcbfad-a599-4d67-a29e-e3b0ae7e7d69\",\"type\":\"Rect\"},\"hover_glyph\":null,\"muted_glyph\":null},\"id\":\"6aac58fa-89a2-4e16-8616-3f939d7d07f4\",\"type\":\"GlyphRenderer\"},{\"attributes\":{\"callback\":null,\"column_names\":[\"line_color\",\"line_alpha\",\"color\",\"fill_alpha\",\"height\",\"width\",\"y\",\"x\",\"label\"],\"data\":{\"AnimalType\":[\"Dog\"],\"OutcomeType\":[\"Died\"],\"chart_index\":[{\"AnimalType\":\"Dog\",\"OutcomeType\":\"Died\"}],\"color\":[\"#5ab738\"],\"fill_alpha\":[0.8],\"height\":[50.0],\"label\":[{\"AnimalType\":\"Dog\",\"OutcomeType\":\"Died\"}],\"line_alpha\":[1.0],\"line_color\":[\"white\"],\"width\":[0.8],\"x\":[\"Died\"],\"y\":[172.0]}},\"id\":\"31d19776-9609-4488-954f-c191e529378d\",\"type\":\"ColumnDataSource\"},{\"attributes\":{\"active_drag\":\"auto\",\"active_scroll\":\"auto\",\"active_tap\":\"auto\",\"tools\":[{\"id\":\"030bdfde-bd4c-4aed-bf59-b61b803f48ef\",\"type\":\"PanTool\"},{\"id\":\"512016e4-b75a-4391-ab22-d815fe528626\",\"type\":\"WheelZoomTool\"},{\"id\":\"51a5a994-6c8a-4573-8d79-1330e5403dad\",\"type\":\"BoxZoomTool\"},{\"id\":\"5e0ced68-cc51-4ee5-976e-86b092a6ed5c\",\"type\":\"SaveTool\"},{\"id\":\"73c004c4-aeb8-4d17-9e55-512dc979091f\",\"type\":\"ResetTool\"},{\"id\":\"96062740-b3f1-4e42-9be6-2c75bb26fe4e\",\"type\":\"HelpTool\"}]},\"id\":\"b1623985-c516-4378-a2b8-b9c1444657b1\",\"type\":\"Toolbar\"},{\"attributes\":{\"fill_alpha\":{\"field\":\"fill_alpha\"},\"fill_color\":{\"field\":\"color\"},\"height\":{\"field\":\"height\",\"units\":\"data\"},\"line_color\":{\"field\":\"line_color\"},\"width\":{\"field\":\"width\",\"units\":\"data\"},\"x\":{\"field\":\"x\"},\"y\":{\"field\":\"y\"}},\"id\":\"f660411a-3e61-42aa-a506-7f9f97ae9b4f\",\"type\":\"Rect\"},{\"attributes\":{\"callback\":null,\"column_names\":[\"line_color\",\"line_alpha\",\"color\",\"fill_alpha\",\"height\",\"width\",\"y\",\"x\",\"label\"],\"data\":{\"AnimalType\":[\"Dog\"],\"OutcomeType\":[\"Transfer\"],\"chart_index\":[{\"AnimalType\":\"Dog\",\"OutcomeType\":\"Transfer\"}],\"color\":[\"#5ab738\"],\"fill_alpha\":[0.8],\"height\":[3917.0],\"label\":[{\"AnimalType\":\"Dog\",\"OutcomeType\":\"Transfer\"}],\"line_alpha\":[1.0],\"line_color\":[\"white\"],\"width\":[0.8],\"x\":[\"Transfer\"],\"y\":[7463.5]}},\"id\":\"d8bcd441-b07e-48d0-a577-163d4428fe59\",\"type\":\"ColumnDataSource\"},{\"attributes\":{\"data_source\":{\"id\":\"31d19776-9609-4488-954f-c191e529378d\",\"type\":\"ColumnDataSource\"},\"glyph\":{\"id\":\"4fbcc3ee-6176-4d8b-9956-7271b395c198\",\"type\":\"Rect\"},\"hover_glyph\":null,\"muted_glyph\":null},\"id\":\"6d875eea-3b9f-4f36-9e81-3a129c501874\",\"type\":\"GlyphRenderer\"},{\"attributes\":{\"data_source\":{\"id\":\"1697276f-4740-4525-ba0f-4fc6e7f185f6\",\"type\":\"ColumnDataSource\"},\"glyph\":{\"id\":\"7898a895-ec13-4e03-a0b1-eb94dc73ef27\",\"type\":\"Rect\"},\"hover_glyph\":null,\"muted_glyph\":null},\"id\":\"1c3fde7a-cf49-49ad-b1aa-a4cd18643b52\",\"type\":\"GlyphRenderer\"},{\"attributes\":{\"plot\":{\"id\":\"e8a151fc-c7d1-4f1a-b8e3-0380b4c143d3\",\"subtype\":\"Chart\",\"type\":\"Plot\"}},\"id\":\"030bdfde-bd4c-4aed-bf59-b61b803f48ef\",\"type\":\"PanTool\"},{\"attributes\":{\"fill_alpha\":{\"field\":\"fill_alpha\"},\"fill_color\":{\"field\":\"color\"},\"height\":{\"field\":\"height\",\"units\":\"data\"},\"line_color\":{\"field\":\"line_color\"},\"width\":{\"field\":\"width\",\"units\":\"data\"},\"x\":{\"field\":\"x\"},\"y\":{\"field\":\"y\"}},\"id\":\"4fbcc3ee-6176-4d8b-9956-7271b395c198\",\"type\":\"Rect\"}],\"root_ids\":[\"e8a151fc-c7d1-4f1a-b8e3-0380b4c143d3\"]},\"title\":\"Bokeh Application\",\"version\":\"0.12.5\"}};\n",
       "            var render_items = [{\"docid\":\"2299d1ef-6fad-4558-b59d-ba08e614f98f\",\"elementid\":\"44b03cfc-2e4d-44d4-bbfb-890f0657b6d2\",\"modelid\":\"e8a151fc-c7d1-4f1a-b8e3-0380b4c143d3\"}];\n",
       "            \n",
       "            Bokeh.embed.embed_items(docs_json, render_items);\n",
       "          };\n",
       "          if (document.readyState != \"loading\") fn();\n",
       "          else document.addEventListener(\"DOMContentLoaded\", fn);\n",
       "        })();\n",
       "      },\n",
       "      function(Bokeh) {\n",
       "      }\n",
       "    ];\n",
       "  \n",
       "    function run_inline_js() {\n",
       "      \n",
       "      if ((window.Bokeh !== undefined) || (force === true)) {\n",
       "        for (var i = 0; i < inline_js.length; i++) {\n",
       "          inline_js[i](window.Bokeh);\n",
       "        }if (force === true) {\n",
       "          display_loaded();\n",
       "        }} else if (Date.now() < window._bokeh_timeout) {\n",
       "        setTimeout(run_inline_js, 100);\n",
       "      } else if (!window._bokeh_failed_load) {\n",
       "        console.log(\"Bokeh: BokehJS failed to load within specified timeout.\");\n",
       "        window._bokeh_failed_load = true;\n",
       "      } else if (force !== true) {\n",
       "        var cell = $(document.getElementById(\"44b03cfc-2e4d-44d4-bbfb-890f0657b6d2\")).parents('.cell').data().cell;\n",
       "        cell.output_area.append_execute_result(NB_LOAD_WARNING)\n",
       "      }\n",
       "  \n",
       "    }\n",
       "  \n",
       "    if (window._bokeh_is_loading === 0) {\n",
       "      console.log(\"Bokeh: BokehJS loaded, going straight to plotting\");\n",
       "      run_inline_js();\n",
       "    } else {\n",
       "      load_libs(js_urls, function() {\n",
       "        console.log(\"Bokeh: BokehJS plotting callback run at\", now());\n",
       "        run_inline_js();\n",
       "      });\n",
       "    }\n",
       "  }(this));\n",
       "</script>"
      ]
     },
     "metadata": {},
     "output_type": "display_data"
    }
   ],
   "source": [
    "#Animal types\n",
    "p = Bar(data, label='OutcomeType', values = 'AnimalType', agg='count', stack='AnimalType',\n",
    "        title=\"Outcomes by Animal Type\", legend='top_right')\n",
    "show(p)"
   ]
  },
  {
   "cell_type": "code",
   "execution_count": 8,
   "metadata": {
    "scrolled": false
   },
   "outputs": [
    {
     "data": {
      "text/plain": [
       "<matplotlib.axes._subplots.AxesSubplot at 0x1218e5550>"
      ]
     },
     "execution_count": 8,
     "metadata": {},
     "output_type": "execute_result"
    },
    {
     "data": {
      "image/png": "[encoded data removed]",
      "text/plain": [
       "<matplotlib.figure.Figure at 0x1217f9550>"
      ]
     },
     "metadata": {},
     "output_type": "display_data"
    }
   ],
   "source": [
    "#Outcome types\n",
    "outcome_type = data['OutcomeType'].value_counts() \n",
    "outcome_type.plot(kind='bar',color='#34ABD8',rot=0)"
   ]
  },
  {
   "cell_type": "code",
   "execution_count": 9,
   "metadata": {
    "scrolled": false
   },
   "outputs": [
    {
     "data": {
      "text/plain": [
       "<matplotlib.axes._subplots.AxesSubplot at 0x11d082b10>"
      ]
     },
     "execution_count": 9,
     "metadata": {},
     "output_type": "execute_result"
    },
    {
     "data": {
      "image/png": "[encoded data removed]",
      "text/plain": [
       "<matplotlib.figure.Figure at 0x1217b4a90>"
      ]
     },
     "metadata": {},
     "output_type": "display_data"
    }
   ],
   "source": [
    "#Spayed/neutered\n",
    "intact_type = data['Intact'].value_counts() \n",
    "intact_type.plot(kind='bar',color='#34ABD8',rot=0)"
   ]
  },
  {
   "cell_type": "code",
   "execution_count": 10,
   "metadata": {},
   "outputs": [
    {
     "data": {
      "text/html": [
       "\n",
       "\n",
       "    <div class=\"bk-root\">\n",
       "        <div class=\"bk-plotdiv\" id=\"314b5521-d5d8-4b8c-8d30-2c9badf620cc\"></div>\n",
       "    </div>\n",
       "<script type=\"text/javascript\">\n",
       "  \n",
       "  (function(global) {\n",
       "    function now() {\n",
       "      return new Date();\n",
       "    }\n",
       "  \n",
       "    var force = false;\n",
       "  \n",
       "    if (typeof (window._bokeh_onload_callbacks) === \"undefined\" || force === true) {\n",
       "      window._bokeh_onload_callbacks = [];\n",
       "      window._bokeh_is_loading = undefined;\n",
       "    }\n",
       "  \n",
       "  \n",
       "    \n",
       "    if (typeof (window._bokeh_timeout) === \"undefined\" || force === true) {\n",
       "      window._bokeh_timeout = Date.now() + 0;\n",
       "      window._bokeh_failed_load = false;\n",
       "    }\n",
       "  \n",
       "    var NB_LOAD_WARNING = {'data': {'text/html':\n",
       "       \"<div style='background-color: #fdd'>\\n\"+\n",
       "       \"<p>\\n\"+\n",
       "       \"BokehJS does not appear to have successfully loaded. If loading BokehJS from CDN, this \\n\"+\n",
       "       \"may be due to a slow or bad network connection. Possible fixes:\\n\"+\n",
       "       \"</p>\\n\"+\n",
       "       \"<ul>\\n\"+\n",
       "       \"<li>re-rerun `output_notebook()` to attempt to load from CDN again, or</li>\\n\"+\n",
       "       \"<li>use INLINE resources instead, as so:</li>\\n\"+\n",
       "       \"</ul>\\n\"+\n",
       "       \"<code>\\n\"+\n",
       "       \"from bokeh.resources import INLINE\\n\"+\n",
       "       \"output_notebook(resources=INLINE)\\n\"+\n",
       "       \"</code>\\n\"+\n",
       "       \"</div>\"}};\n",
       "  \n",
       "    function display_loaded() {\n",
       "      if (window.Bokeh !== undefined) {\n",
       "        var el = document.getElementById(\"314b5521-d5d8-4b8c-8d30-2c9badf620cc\");\n",
       "        el.textContent = \"BokehJS \" + Bokeh.version + \" successfully loaded.\";\n",
       "      } else if (Date.now() < window._bokeh_timeout) {\n",
       "        setTimeout(display_loaded, 100)\n",
       "      }\n",
       "    }\n",
       "  \n",
       "    function run_callbacks() {\n",
       "      window._bokeh_onload_callbacks.forEach(function(callback) { callback() });\n",
       "      delete window._bokeh_onload_callbacks\n",
       "      console.info(\"Bokeh: all callbacks have finished\");\n",
       "    }\n",
       "  \n",
       "    function load_libs(js_urls, callback) {\n",
       "      window._bokeh_onload_callbacks.push(callback);\n",
       "      if (window._bokeh_is_loading > 0) {\n",
       "        console.log(\"Bokeh: BokehJS is being loaded, scheduling callback at\", now());\n",
       "        return null;\n",
       "      }\n",
       "      if (js_urls == null || js_urls.length === 0) {\n",
       "        run_callbacks();\n",
       "        return null;\n",
       "      }\n",
       "      console.log(\"Bokeh: BokehJS not loaded, scheduling load and callback at\", now());\n",
       "      window._bokeh_is_loading = js_urls.length;\n",
       "      for (var i = 0; i < js_urls.length; i++) {\n",
       "        var url = js_urls[i];\n",
       "        var s = document.createElement('script');\n",
       "        s.src = url;\n",
       "        s.async = false;\n",
       "        s.onreadystatechange = s.onload = function() {\n",
       "          window._bokeh_is_loading--;\n",
       "          if (window._bokeh_is_loading === 0) {\n",
       "            console.log(\"Bokeh: all BokehJS libraries loaded\");\n",
       "            run_callbacks()\n",
       "          }\n",
       "        };\n",
       "        s.onerror = function() {\n",
       "          console.warn(\"failed to load library \" + url);\n",
       "        };\n",
       "        console.log(\"Bokeh: injecting script tag for BokehJS library: \", url);\n",
       "        document.getElementsByTagName(\"head\")[0].appendChild(s);\n",
       "      }\n",
       "    };var element = document.getElementById(\"314b5521-d5d8-4b8c-8d30-2c9badf620cc\");\n",
       "    if (element == null) {\n",
       "      console.log(\"Bokeh: ERROR: autoload.js configured with elementid '314b5521-d5d8-4b8c-8d30-2c9badf620cc' but no matching script tag was found. \")\n",
       "      return false;\n",
       "    }\n",
       "  \n",
       "    var js_urls = [];\n",
       "  \n",
       "    var inline_js = [\n",
       "      function(Bokeh) {\n",
       "        (function() {\n",
       "          var fn = function() {\n",
       "            var docs_json = {\"f66c4eaa-509b-4abe-80dc-c5299a700d0e\":{\"roots\":{\"references\":[{\"attributes\":{\"fill_alpha\":{\"field\":\"fill_alpha\"},\"fill_color\":{\"field\":\"color\"},\"height\":{\"field\":\"height\",\"units\":\"data\"},\"line_color\":{\"field\":\"line_color\"},\"width\":{\"field\":\"width\",\"units\":\"data\"},\"x\":{\"field\":\"x\"},\"y\":{\"field\":\"y\"}},\"id\":\"6757209e-edc0-45f9-ba27-b8a35099cb3b\",\"type\":\"Rect\"},{\"attributes\":{\"data_source\":{\"id\":\"9871a593-f13b-4c93-b584-33faebaf8aff\",\"type\":\"ColumnDataSource\"},\"glyph\":{\"id\":\"f57d1cd1-f07a-41af-ad25-bbb011a99001\",\"type\":\"Rect\"},\"hover_glyph\":null,\"muted_glyph\":null},\"id\":\"13045b34-f123-464d-a792-a88055cf017e\",\"type\":\"GlyphRenderer\"},{\"attributes\":{\"callback\":null,\"column_names\":[\"line_color\",\"line_alpha\",\"color\",\"fill_alpha\",\"height\",\"width\",\"y\",\"x\",\"label\"],\"data\":{\"Intact\":[\"Intact\"],\"OutcomeType\":[\"Transfer\"],\"chart_index\":[{\"Intact\":\"Intact\",\"OutcomeType\":\"Transfer\"}],\"color\":[\"#f22c40\"],\"fill_alpha\":[0.8],\"height\":[4884.0],\"label\":[{\"Intact\":\"Intact\",\"OutcomeType\":\"Transfer\"}],\"line_alpha\":[1.0],\"line_color\":[\"white\"],\"width\":[0.8],\"x\":[\"Transfer\"],\"y\":[2442.0]}},\"id\":\"609b19d6-9f0d-488d-af42-b0035bae2e2e\",\"type\":\"ColumnDataSource\"},{\"attributes\":{\"fill_alpha\":{\"field\":\"fill_alpha\"},\"fill_color\":{\"field\":\"color\"},\"height\":{\"field\":\"height\",\"units\":\"data\"},\"line_color\":{\"field\":\"line_color\"},\"width\":{\"field\":\"width\",\"units\":\"data\"},\"x\":{\"field\":\"x\"},\"y\":{\"field\":\"y\"}},\"id\":\"21a7d183-1b8e-4114-9440-413bf55d4956\",\"type\":\"Rect\"},{\"attributes\":{\"label\":{\"value\":\"Intact\"},\"renderers\":[{\"id\":\"7f62910e-2886-4a2c-bc9c-20c874817e60\",\"type\":\"GlyphRenderer\"}]},\"id\":\"db69f306-f6c2-4b9b-9127-0863675746fd\",\"type\":\"LegendItem\"},{\"attributes\":{\"callback\":null,\"factors\":[\"Adoption\",\"Died\",\"Euthanasia\",\"Return_to_owner\",\"Transfer\"]},\"id\":\"fe1965ee-84a7-4e68-bd85-fc146ec66e8c\",\"type\":\"FactorRange\"},{\"attributes\":{\"callback\":null,\"column_names\":[\"line_color\",\"line_alpha\",\"color\",\"fill_alpha\",\"height\",\"width\",\"y\",\"x\",\"label\"],\"data\":{\"Intact\":[\"Spayed/Neutered\"],\"OutcomeType\":[\"Adoption\"],\"chart_index\":[{\"Intact\":\"Spayed/Neutered\",\"OutcomeType\":\"Adoption\"}],\"color\":[\"#5ab738\"],\"fill_alpha\":[0.8],\"height\":[10408.0],\"label\":[{\"Intact\":\"Spayed/Neutered\",\"OutcomeType\":\"Adoption\"}],\"line_alpha\":[1.0],\"line_color\":[\"white\"],\"width\":[0.8],\"x\":[\"Adoption\"],\"y\":[5204.0]}},\"id\":\"9871a593-f13b-4c93-b584-33faebaf8aff\",\"type\":\"ColumnDataSource\"},{\"attributes\":{\"plot\":{\"id\":\"0db1968c-e4f8-4416-9606-e1ba7af85475\",\"subtype\":\"Chart\",\"type\":\"Plot\"}},\"id\":\"e7b1f3f5-a9af-433f-a845-9fa515f0b83b\",\"type\":\"WheelZoomTool\"},{\"attributes\":{\"fill_alpha\":{\"field\":\"fill_alpha\"},\"fill_color\":{\"field\":\"color\"},\"height\":{\"field\":\"height\",\"units\":\"data\"},\"line_color\":{\"field\":\"line_color\"},\"width\":{\"field\":\"width\",\"units\":\"data\"},\"x\":{\"field\":\"x\"},\"y\":{\"field\":\"y\"}},\"id\":\"cd2f9f12-1ad1-42d2-b6ea-e96febd9e89a\",\"type\":\"Rect\"},{\"attributes\":{\"data_source\":{\"id\":\"52f54810-7499-4f2b-a007-0f5fb48b2a28\",\"type\":\"ColumnDataSource\"},\"glyph\":{\"id\":\"9f3f84b7-d77a-4680-9bec-41ed894f0809\",\"type\":\"Rect\"},\"hover_glyph\":null,\"muted_glyph\":null},\"id\":\"d216004c-5433-454b-aafd-21033ca952d7\",\"type\":\"GlyphRenderer\"},{\"attributes\":{\"fill_alpha\":{\"field\":\"fill_alpha\"},\"fill_color\":{\"field\":\"color\"},\"height\":{\"field\":\"height\",\"units\":\"data\"},\"line_color\":{\"field\":\"line_color\"},\"width\":{\"field\":\"width\",\"units\":\"data\"},\"x\":{\"field\":\"x\"},\"y\":{\"field\":\"y\"}},\"id\":\"6f644a95-3c8a-4eca-a9b3-ef1f351301a6\",\"type\":\"Rect\"},{\"attributes\":{\"data_source\":{\"id\":\"ceaf3a51-a9b2-41df-92b6-007ba8d35398\",\"type\":\"ColumnDataSource\"},\"glyph\":{\"id\":\"59e3171e-d6cc-4030-983e-17645d3a0735\",\"type\":\"Rect\"},\"hover_glyph\":null,\"muted_glyph\":null},\"id\":\"b4cc1aa0-2c81-4423-bb74-c75cbbf52de0\",\"type\":\"GlyphRenderer\"},{\"attributes\":{\"fill_alpha\":{\"field\":\"fill_alpha\"},\"fill_color\":{\"field\":\"color\"},\"height\":{\"field\":\"height\",\"units\":\"data\"},\"line_color\":{\"field\":\"line_color\"},\"width\":{\"field\":\"width\",\"units\":\"data\"},\"x\":{\"field\":\"x\"},\"y\":{\"field\":\"y\"}},\"id\":\"59e3171e-d6cc-4030-983e-17645d3a0735\",\"type\":\"Rect\"},{\"attributes\":{\"callback\":null,\"end\":11307.45},\"id\":\"432f3e66-cf5f-464f-bd93-51d01a047af8\",\"type\":\"Range1d\"},{\"attributes\":{\"callback\":null,\"column_names\":[\"line_color\",\"line_alpha\",\"color\",\"fill_alpha\",\"height\",\"width\",\"y\",\"x\",\"label\"],\"data\":{\"Intact\":[\"Unknown\"],\"OutcomeType\":[\"Return_to_owner\"],\"chart_index\":[{\"Intact\":\"Unknown\",\"OutcomeType\":\"Return_to_owner\"}],\"color\":[\"#407ee7\"],\"fill_alpha\":[0.8],\"height\":[12.0],\"label\":[{\"Intact\":\"Unknown\",\"OutcomeType\":\"Return_to_owner\"}],\"line_alpha\":[1.0],\"line_color\":[\"white\"],\"width\":[0.8],\"x\":[\"Return_to_owner\"],\"y\":[4780.0]}},\"id\":\"97ce2fa6-2a2a-4236-99e7-517302de601d\",\"type\":\"ColumnDataSource\"},{\"attributes\":{\"data_source\":{\"id\":\"70d1903d-451c-4cfc-a0e5-826f5ab70afa\",\"type\":\"ColumnDataSource\"},\"glyph\":{\"id\":\"cd2f9f12-1ad1-42d2-b6ea-e96febd9e89a\",\"type\":\"Rect\"},\"hover_glyph\":null,\"muted_glyph\":null},\"id\":\"298a6379-c908-48a5-859a-fc3f0f04ee8b\",\"type\":\"GlyphRenderer\"},{\"attributes\":{\"fill_alpha\":{\"field\":\"fill_alpha\"},\"fill_color\":{\"field\":\"color\"},\"height\":{\"field\":\"height\",\"units\":\"data\"},\"line_color\":{\"field\":\"line_color\"},\"width\":{\"field\":\"width\",\"units\":\"data\"},\"x\":{\"field\":\"x\"},\"y\":{\"field\":\"y\"}},\"id\":\"9f3f84b7-d77a-4680-9bec-41ed894f0809\",\"type\":\"Rect\"},{\"attributes\":{\"callback\":null,\"column_names\":[\"line_color\",\"line_alpha\",\"color\",\"fill_alpha\",\"height\",\"width\",\"y\",\"x\",\"label\"],\"data\":{\"Intact\":[\"Intact\"],\"OutcomeType\":[\"Died\"],\"chart_index\":[{\"Intact\":\"Intact\",\"OutcomeType\":\"Died\"}],\"color\":[\"#f22c40\"],\"fill_alpha\":[0.8],\"height\":[135.0],\"label\":[{\"Intact\":\"Intact\",\"OutcomeType\":\"Died\"}],\"line_alpha\":[1.0],\"line_color\":[\"white\"],\"width\":[0.8],\"x\":[\"Died\"],\"y\":[67.5]}},\"id\":\"ceaf3a51-a9b2-41df-92b6-007ba8d35398\",\"type\":\"ColumnDataSource\"},{\"attributes\":{\"fill_alpha\":{\"field\":\"fill_alpha\"},\"fill_color\":{\"field\":\"color\"},\"height\":{\"field\":\"height\",\"units\":\"data\"},\"line_color\":{\"field\":\"line_color\"},\"width\":{\"field\":\"width\",\"units\":\"data\"},\"x\":{\"field\":\"x\"},\"y\":{\"field\":\"y\"}},\"id\":\"a14845d9-652c-4239-b485-5bed4373cd03\",\"type\":\"Rect\"},{\"attributes\":{\"axis_label\":\"Count( Intact )\",\"formatter\":{\"id\":\"997e9d8c-80fc-41c2-a6e3-8bedfc018eca\",\"type\":\"BasicTickFormatter\"},\"plot\":{\"id\":\"0db1968c-e4f8-4416-9606-e1ba7af85475\",\"subtype\":\"Chart\",\"type\":\"Plot\"},\"ticker\":{\"id\":\"52fdb62b-dfea-403b-a460-b0223f317e0d\",\"type\":\"BasicTicker\"}},\"id\":\"26f5d8cd-858f-466a-8278-a5db80426239\",\"type\":\"LinearAxis\"},{\"attributes\":{\"plot\":{\"id\":\"0db1968c-e4f8-4416-9606-e1ba7af85475\",\"subtype\":\"Chart\",\"type\":\"Plot\"}},\"id\":\"80833b8d-efde-450c-8baf-ba6b13664dd0\",\"type\":\"PanTool\"},{\"attributes\":{\"active_drag\":\"auto\",\"active_scroll\":\"auto\",\"active_tap\":\"auto\",\"tools\":[{\"id\":\"80833b8d-efde-450c-8baf-ba6b13664dd0\",\"type\":\"PanTool\"},{\"id\":\"e7b1f3f5-a9af-433f-a845-9fa515f0b83b\",\"type\":\"WheelZoomTool\"},{\"id\":\"b73de386-9d95-4bb5-9660-a87bccbfa060\",\"type\":\"BoxZoomTool\"},{\"id\":\"c02b88dd-0cb4-45f1-87cf-7c1a3f487cc0\",\"type\":\"SaveTool\"},{\"id\":\"154c0625-0d6d-44fe-b27a-81f19822f1b0\",\"type\":\"ResetTool\"},{\"id\":\"c0de4bfd-3081-4456-99b9-65e5e7afbf73\",\"type\":\"HelpTool\"}]},\"id\":\"6f20ab34-b694-48d3-8c27-29f9b29dd29b\",\"type\":\"Toolbar\"},{\"attributes\":{\"callback\":null,\"column_names\":[\"line_color\",\"line_alpha\",\"color\",\"fill_alpha\",\"height\",\"width\",\"y\",\"x\",\"label\"],\"data\":{\"Intact\":[\"Spayed/Neutered\"],\"OutcomeType\":[\"Transfer\"],\"chart_index\":[{\"Intact\":\"Spayed/Neutered\",\"OutcomeType\":\"Transfer\"}],\"color\":[\"#5ab738\"],\"fill_alpha\":[0.8],\"height\":[3583.0],\"label\":[{\"Intact\":\"Spayed/Neutered\",\"OutcomeType\":\"Transfer\"}],\"line_alpha\":[1.0],\"line_color\":[\"white\"],\"width\":[0.8],\"x\":[\"Transfer\"],\"y\":[6675.5]}},\"id\":\"99ea003d-91e4-4d80-81a0-633b0bedb5d2\",\"type\":\"ColumnDataSource\"},{\"attributes\":{},\"id\":\"658ed39a-cf38-478e-8dfc-744b115406f7\",\"type\":\"CategoricalTicker\"},{\"attributes\":{\"data_source\":{\"id\":\"d6b0b694-46e0-4821-8b87-ccfa7e894bf8\",\"type\":\"ColumnDataSource\"},\"glyph\":{\"id\":\"915d6cb6-fe07-490d-a2c8-2e02df38d16f\",\"type\":\"Rect\"},\"hover_glyph\":null,\"muted_glyph\":null},\"id\":\"335afb0d-33fc-4ef9-b783-3568046495d8\",\"type\":\"GlyphRenderer\"},{\"attributes\":{\"data_source\":{\"id\":\"786431de-b42e-4a7f-a678-3372d6c49e73\",\"type\":\"ColumnDataSource\"},\"glyph\":{\"id\":\"21a7d183-1b8e-4114-9440-413bf55d4956\",\"type\":\"Rect\"},\"hover_glyph\":null,\"muted_glyph\":null},\"id\":\"3eb7e4c8-f022-44a2-a79f-121a7de2bdad\",\"type\":\"GlyphRenderer\"},{\"attributes\":{\"label\":{\"value\":\"Unknown\"},\"renderers\":[{\"id\":\"bcf5336a-9d52-4369-8ce6-32181a5e203a\",\"type\":\"GlyphRenderer\"}]},\"id\":\"ab756384-a213-4513-ae73-33faba8d6b6c\",\"type\":\"LegendItem\"},{\"attributes\":{\"data_source\":{\"id\":\"96927a41-1d60-4254-b388-a1f82fcb7aba\",\"type\":\"ColumnDataSource\"},\"glyph\":{\"id\":\"6757209e-edc0-45f9-ba27-b8a35099cb3b\",\"type\":\"Rect\"},\"hover_glyph\":null,\"muted_glyph\":null},\"id\":\"573dbac3-1e87-40c9-b5cc-e4c411ee3a10\",\"type\":\"GlyphRenderer\"},{\"attributes\":{\"callback\":null,\"column_names\":[\"line_color\",\"line_alpha\",\"color\",\"fill_alpha\",\"height\",\"width\",\"y\",\"x\",\"label\"],\"data\":{\"Intact\":[\"Spayed/Neutered\"],\"OutcomeType\":[\"Died\"],\"chart_index\":[{\"Intact\":\"Spayed/Neutered\",\"OutcomeType\":\"Died\"}],\"color\":[\"#5ab738\"],\"fill_alpha\":[0.8],\"height\":[37.0],\"label\":[{\"Intact\":\"Spayed/Neutered\",\"OutcomeType\":\"Died\"}],\"line_alpha\":[1.0],\"line_color\":[\"white\"],\"width\":[0.8],\"x\":[\"Died\"],\"y\":[178.5]}},\"id\":\"52f54810-7499-4f2b-a007-0f5fb48b2a28\",\"type\":\"ColumnDataSource\"},{\"attributes\":{\"callback\":null,\"column_names\":[\"line_color\",\"line_alpha\",\"color\",\"fill_alpha\",\"height\",\"width\",\"y\",\"x\",\"label\"],\"data\":{\"Intact\":[\"Unknown\"],\"OutcomeType\":[\"Died\"],\"chart_index\":[{\"Intact\":\"Unknown\",\"OutcomeType\":\"Died\"}],\"color\":[\"#407ee7\"],\"fill_alpha\":[0.8],\"height\":[25.0],\"label\":[{\"Intact\":\"Unknown\",\"OutcomeType\":\"Died\"}],\"line_alpha\":[1.0],\"line_color\":[\"white\"],\"width\":[0.8],\"x\":[\"Died\"],\"y\":[147.5]}},\"id\":\"d6b0b694-46e0-4821-8b87-ccfa7e894bf8\",\"type\":\"ColumnDataSource\"},{\"attributes\":{\"callback\":null,\"column_names\":[\"line_color\",\"line_alpha\",\"color\",\"fill_alpha\",\"height\",\"width\",\"y\",\"x\",\"label\"],\"data\":{\"Intact\":[\"Unknown\"],\"OutcomeType\":[\"Euthanasia\"],\"chart_index\":[{\"Intact\":\"Unknown\",\"OutcomeType\":\"Euthanasia\"}],\"color\":[\"#407ee7\"],\"fill_alpha\":[0.8],\"height\":[101.0],\"label\":[{\"Intact\":\"Unknown\",\"OutcomeType\":\"Euthanasia\"}],\"line_alpha\":[1.0],\"line_color\":[\"white\"],\"width\":[0.8],\"x\":[\"Euthanasia\"],\"y\":[1504.5]}},\"id\":\"bb2e2e05-1439-41b8-adb2-9c2273107700\",\"type\":\"ColumnDataSource\"},{\"attributes\":{\"data_source\":{\"id\":\"786ea969-ff8b-4ebb-b7b4-02a83e6b50ea\",\"type\":\"ColumnDataSource\"},\"glyph\":{\"id\":\"8c72f7f7-0ccf-48a2-bddf-d0d3071ed2ba\",\"type\":\"Rect\"},\"hover_glyph\":null,\"muted_glyph\":null},\"id\":\"bcf5336a-9d52-4369-8ce6-32181a5e203a\",\"type\":\"GlyphRenderer\"},{\"attributes\":{\"fill_alpha\":{\"field\":\"fill_alpha\"},\"fill_color\":{\"field\":\"color\"},\"height\":{\"field\":\"height\",\"units\":\"data\"},\"line_color\":{\"field\":\"line_color\"},\"width\":{\"field\":\"width\",\"units\":\"data\"},\"x\":{\"field\":\"x\"},\"y\":{\"field\":\"y\"}},\"id\":\"915d6cb6-fe07-490d-a2c8-2e02df38d16f\",\"type\":\"Rect\"},{\"attributes\":{\"data_source\":{\"id\":\"bb2e2e05-1439-41b8-adb2-9c2273107700\",\"type\":\"ColumnDataSource\"},\"glyph\":{\"id\":\"6f5b1fce-8aa7-43bf-b46d-d9f50c066bdc\",\"type\":\"Rect\"},\"hover_glyph\":null,\"muted_glyph\":null},\"id\":\"ca8b0940-18e2-4afa-9843-25df8774bea4\",\"type\":\"GlyphRenderer\"},{\"attributes\":{\"fill_alpha\":{\"field\":\"fill_alpha\"},\"fill_color\":{\"field\":\"color\"},\"height\":{\"field\":\"height\",\"units\":\"data\"},\"line_color\":{\"field\":\"line_color\"},\"width\":{\"field\":\"width\",\"units\":\"data\"},\"x\":{\"field\":\"x\"},\"y\":{\"field\":\"y\"}},\"id\":\"bec19c8a-9fa1-406b-a7a2-ab3f5d55dfcb\",\"type\":\"Rect\"},{\"attributes\":{\"fill_alpha\":{\"field\":\"fill_alpha\"},\"fill_color\":{\"field\":\"color\"},\"height\":{\"field\":\"height\",\"units\":\"data\"},\"line_color\":{\"field\":\"line_color\"},\"width\":{\"field\":\"width\",\"units\":\"data\"},\"x\":{\"field\":\"x\"},\"y\":{\"field\":\"y\"}},\"id\":\"6f5b1fce-8aa7-43bf-b46d-d9f50c066bdc\",\"type\":\"Rect\"},{\"attributes\":{\"plot\":{\"id\":\"0db1968c-e4f8-4416-9606-e1ba7af85475\",\"subtype\":\"Chart\",\"type\":\"Plot\"}},\"id\":\"154c0625-0d6d-44fe-b27a-81f19822f1b0\",\"type\":\"ResetTool\"},{\"attributes\":{\"callback\":null,\"column_names\":[\"line_color\",\"line_alpha\",\"color\",\"fill_alpha\",\"height\",\"width\",\"y\",\"x\",\"label\"],\"data\":{\"Intact\":[\"Spayed/Neutered\"],\"OutcomeType\":[\"Return_to_owner\"],\"chart_index\":[{\"Intact\":\"Spayed/Neutered\",\"OutcomeType\":\"Return_to_owner\"}],\"color\":[\"#5ab738\"],\"fill_alpha\":[0.8],\"height\":[3996.0],\"label\":[{\"Intact\":\"Spayed/Neutered\",\"OutcomeType\":\"Return_to_owner\"}],\"line_alpha\":[1.0],\"line_color\":[\"white\"],\"width\":[0.8],\"x\":[\"Return_to_owner\"],\"y\":[1998.0]}},\"id\":\"feb01ce0-cc63-4a47-b820-1c27843feb06\",\"type\":\"ColumnDataSource\"},{\"attributes\":{\"callback\":null,\"column_names\":[\"line_color\",\"line_alpha\",\"color\",\"fill_alpha\",\"height\",\"width\",\"y\",\"x\",\"label\"],\"data\":{\"Intact\":[\"Unknown\"],\"OutcomeType\":[\"Transfer\"],\"chart_index\":[{\"Intact\":\"Unknown\",\"OutcomeType\":\"Transfer\"}],\"color\":[\"#407ee7\"],\"fill_alpha\":[0.8],\"height\":[955.0],\"label\":[{\"Intact\":\"Unknown\",\"OutcomeType\":\"Transfer\"}],\"line_alpha\":[1.0],\"line_color\":[\"white\"],\"width\":[0.8],\"x\":[\"Transfer\"],\"y\":[8944.5]}},\"id\":\"786ea969-ff8b-4ebb-b7b4-02a83e6b50ea\",\"type\":\"ColumnDataSource\"},{\"attributes\":{\"axis_label\":\"Outcometype\",\"formatter\":{\"id\":\"307046c2-c1a4-43d1-b8c1-dca64171ce93\",\"type\":\"CategoricalTickFormatter\"},\"major_label_orientation\":0.7853981633974483,\"plot\":{\"id\":\"0db1968c-e4f8-4416-9606-e1ba7af85475\",\"subtype\":\"Chart\",\"type\":\"Plot\"},\"ticker\":{\"id\":\"658ed39a-cf38-478e-8dfc-744b115406f7\",\"type\":\"CategoricalTicker\"}},\"id\":\"3d067880-2b16-4505-9c6f-b465d032b429\",\"type\":\"CategoricalAxis\"},{\"attributes\":{\"fill_alpha\":{\"field\":\"fill_alpha\"},\"fill_color\":{\"field\":\"color\"},\"height\":{\"field\":\"height\",\"units\":\"data\"},\"line_color\":{\"field\":\"line_color\"},\"width\":{\"field\":\"width\",\"units\":\"data\"},\"x\":{\"field\":\"x\"},\"y\":{\"field\":\"y\"}},\"id\":\"8c72f7f7-0ccf-48a2-bddf-d0d3071ed2ba\",\"type\":\"Rect\"},{\"attributes\":{\"below\":[{\"id\":\"3d067880-2b16-4505-9c6f-b465d032b429\",\"type\":\"CategoricalAxis\"}],\"css_classes\":null,\"left\":[{\"id\":\"26f5d8cd-858f-466a-8278-a5db80426239\",\"type\":\"LinearAxis\"}],\"renderers\":[{\"id\":\"0cb769b8-d3f4-4289-bc9f-534d371def76\",\"type\":\"BoxAnnotation\"},{\"id\":\"d1882851-9340-460d-8a81-bda1aed8c545\",\"type\":\"GlyphRenderer\"},{\"id\":\"3eb7e4c8-f022-44a2-a79f-121a7de2bdad\",\"type\":\"GlyphRenderer\"},{\"id\":\"13045b34-f123-464d-a792-a88055cf017e\",\"type\":\"GlyphRenderer\"},{\"id\":\"7f62910e-2886-4a2c-bc9c-20c874817e60\",\"type\":\"GlyphRenderer\"},{\"id\":\"2a654e3d-8e64-4edb-a04c-26324987a68d\",\"type\":\"GlyphRenderer\"},{\"id\":\"bcf5336a-9d52-4369-8ce6-32181a5e203a\",\"type\":\"GlyphRenderer\"},{\"id\":\"81557568-04e1-4c48-b814-837aaf3a6768\",\"type\":\"GlyphRenderer\"},{\"id\":\"573dbac3-1e87-40c9-b5cc-e4c411ee3a10\",\"type\":\"GlyphRenderer\"},{\"id\":\"ca8b0940-18e2-4afa-9843-25df8774bea4\",\"type\":\"GlyphRenderer\"},{\"id\":\"298a6379-c908-48a5-859a-fc3f0f04ee8b\",\"type\":\"GlyphRenderer\"},{\"id\":\"b4cc1aa0-2c81-4423-bb74-c75cbbf52de0\",\"type\":\"GlyphRenderer\"},{\"id\":\"335afb0d-33fc-4ef9-b783-3568046495d8\",\"type\":\"GlyphRenderer\"},{\"id\":\"d216004c-5433-454b-aafd-21033ca952d7\",\"type\":\"GlyphRenderer\"},{\"id\":\"79021a7c-322e-486d-aaa1-fc009463590a\",\"type\":\"GlyphRenderer\"},{\"id\":\"68775d09-6fd0-4c39-8775-0bb71cf8b183\",\"type\":\"Legend\"},{\"id\":\"3d067880-2b16-4505-9c6f-b465d032b429\",\"type\":\"CategoricalAxis\"},{\"id\":\"26f5d8cd-858f-466a-8278-a5db80426239\",\"type\":\"LinearAxis\"},{\"id\":\"0e189d62-2312-44fc-b832-65a8d35e56e8\",\"type\":\"Grid\"}],\"title\":{\"id\":\"97b90253-04a8-4234-93e0-5b1ce98a9da6\",\"type\":\"Title\"},\"tool_events\":{\"id\":\"118404d2-390b-474e-8abe-426c318f346c\",\"type\":\"ToolEvents\"},\"toolbar\":{\"id\":\"6f20ab34-b694-48d3-8c27-29f9b29dd29b\",\"type\":\"Toolbar\"},\"x_mapper_type\":\"auto\",\"x_range\":{\"id\":\"fe1965ee-84a7-4e68-bd85-fc146ec66e8c\",\"type\":\"FactorRange\"},\"y_mapper_type\":\"auto\",\"y_range\":{\"id\":\"432f3e66-cf5f-464f-bd93-51d01a047af8\",\"type\":\"Range1d\"}},\"id\":\"0db1968c-e4f8-4416-9606-e1ba7af85475\",\"subtype\":\"Chart\",\"type\":\"Plot\"},{\"attributes\":{\"label\":{\"value\":\"Spayed/Neutered\"},\"renderers\":[{\"id\":\"d1882851-9340-460d-8a81-bda1aed8c545\",\"type\":\"GlyphRenderer\"}]},\"id\":\"5ed05b3f-221d-45c9-abf4-5dd5d56a3e62\",\"type\":\"LegendItem\"},{\"attributes\":{\"data_source\":{\"id\":\"97ce2fa6-2a2a-4236-99e7-517302de601d\",\"type\":\"ColumnDataSource\"},\"glyph\":{\"id\":\"6f644a95-3c8a-4eca-a9b3-ef1f351301a6\",\"type\":\"Rect\"},\"hover_glyph\":null,\"muted_glyph\":null},\"id\":\"79021a7c-322e-486d-aaa1-fc009463590a\",\"type\":\"GlyphRenderer\"},{\"attributes\":{\"data_source\":{\"id\":\"7b5f719f-3baa-425b-9b37-9a4f9e511196\",\"type\":\"ColumnDataSource\"},\"glyph\":{\"id\":\"a14845d9-652c-4239-b485-5bed4373cd03\",\"type\":\"Rect\"},\"hover_glyph\":null,\"muted_glyph\":null},\"id\":\"81557568-04e1-4c48-b814-837aaf3a6768\",\"type\":\"GlyphRenderer\"},{\"attributes\":{\"bottom_units\":\"screen\",\"fill_alpha\":{\"value\":0.5},\"fill_color\":{\"value\":\"lightgrey\"},\"left_units\":\"screen\",\"level\":\"overlay\",\"line_alpha\":{\"value\":1.0},\"line_color\":{\"value\":\"black\"},\"line_dash\":[4,4],\"line_width\":{\"value\":2},\"plot\":null,\"render_mode\":\"css\",\"right_units\":\"screen\",\"top_units\":\"screen\"},\"id\":\"0cb769b8-d3f4-4289-bc9f-534d371def76\",\"type\":\"BoxAnnotation\"},{\"attributes\":{\"data_source\":{\"id\":\"99ea003d-91e4-4d80-81a0-633b0bedb5d2\",\"type\":\"ColumnDataSource\"},\"glyph\":{\"id\":\"d9a757c2-9823-4782-a7cc-db809e0eca4c\",\"type\":\"Rect\"},\"hover_glyph\":null,\"muted_glyph\":null},\"id\":\"2a654e3d-8e64-4edb-a04c-26324987a68d\",\"type\":\"GlyphRenderer\"},{\"attributes\":{\"fill_alpha\":{\"field\":\"fill_alpha\"},\"fill_color\":{\"field\":\"color\"},\"height\":{\"field\":\"height\",\"units\":\"data\"},\"line_color\":{\"field\":\"line_color\"},\"width\":{\"field\":\"width\",\"units\":\"data\"},\"x\":{\"field\":\"x\"},\"y\":{\"field\":\"y\"}},\"id\":\"cf4fb3ab-7b2c-42d6-9c1e-428a03f1634d\",\"type\":\"Rect\"},{\"attributes\":{\"plot\":null,\"text\":\"Outcomes by Intact Status\"},\"id\":\"97b90253-04a8-4234-93e0-5b1ce98a9da6\",\"type\":\"Title\"},{\"attributes\":{\"plot\":{\"id\":\"0db1968c-e4f8-4416-9606-e1ba7af85475\",\"subtype\":\"Chart\",\"type\":\"Plot\"}},\"id\":\"c02b88dd-0cb4-45f1-87cf-7c1a3f487cc0\",\"type\":\"SaveTool\"},{\"attributes\":{\"callback\":null,\"column_names\":[\"line_color\",\"line_alpha\",\"color\",\"fill_alpha\",\"height\",\"width\",\"y\",\"x\",\"label\"],\"data\":{\"Intact\":[\"Intact\"],\"OutcomeType\":[\"Return_to_owner\"],\"chart_index\":[{\"Intact\":\"Intact\",\"OutcomeType\":\"Return_to_owner\"}],\"color\":[\"#f22c40\"],\"fill_alpha\":[0.8],\"height\":[778.0],\"label\":[{\"Intact\":\"Intact\",\"OutcomeType\":\"Return_to_owner\"}],\"line_alpha\":[1.0],\"line_color\":[\"white\"],\"width\":[0.8],\"x\":[\"Return_to_owner\"],\"y\":[4385.0]}},\"id\":\"96927a41-1d60-4254-b388-a1f82fcb7aba\",\"type\":\"ColumnDataSource\"},{\"attributes\":{\"overlay\":{\"id\":\"0cb769b8-d3f4-4289-bc9f-534d371def76\",\"type\":\"BoxAnnotation\"},\"plot\":{\"id\":\"0db1968c-e4f8-4416-9606-e1ba7af85475\",\"subtype\":\"Chart\",\"type\":\"Plot\"}},\"id\":\"b73de386-9d95-4bb5-9660-a87bccbfa060\",\"type\":\"BoxZoomTool\"},{\"attributes\":{\"callback\":null,\"column_names\":[\"line_color\",\"line_alpha\",\"color\",\"fill_alpha\",\"height\",\"width\",\"y\",\"x\",\"label\"],\"data\":{\"Intact\":[\"Intact\"],\"OutcomeType\":[\"Adoption\"],\"chart_index\":[{\"Intact\":\"Intact\",\"OutcomeType\":\"Adoption\"}],\"color\":[\"#f22c40\"],\"fill_alpha\":[0.8],\"height\":[361.0],\"label\":[{\"Intact\":\"Intact\",\"OutcomeType\":\"Adoption\"}],\"line_alpha\":[1.0],\"line_color\":[\"white\"],\"width\":[0.8],\"x\":[\"Adoption\"],\"y\":[10588.5]}},\"id\":\"70d1903d-451c-4cfc-a0e5-826f5ab70afa\",\"type\":\"ColumnDataSource\"},{\"attributes\":{\"data_source\":{\"id\":\"feb01ce0-cc63-4a47-b820-1c27843feb06\",\"type\":\"ColumnDataSource\"},\"glyph\":{\"id\":\"cf4fb3ab-7b2c-42d6-9c1e-428a03f1634d\",\"type\":\"Rect\"},\"hover_glyph\":null,\"muted_glyph\":null},\"id\":\"d1882851-9340-460d-8a81-bda1aed8c545\",\"type\":\"GlyphRenderer\"},{\"attributes\":{\"data_source\":{\"id\":\"609b19d6-9f0d-488d-af42-b0035bae2e2e\",\"type\":\"ColumnDataSource\"},\"glyph\":{\"id\":\"bec19c8a-9fa1-406b-a7a2-ab3f5d55dfcb\",\"type\":\"Rect\"},\"hover_glyph\":null,\"muted_glyph\":null},\"id\":\"7f62910e-2886-4a2c-bc9c-20c874817e60\",\"type\":\"GlyphRenderer\"},{\"attributes\":{\"items\":[{\"id\":\"5ed05b3f-221d-45c9-abf4-5dd5d56a3e62\",\"type\":\"LegendItem\"},{\"id\":\"db69f306-f6c2-4b9b-9127-0863675746fd\",\"type\":\"LegendItem\"},{\"id\":\"ab756384-a213-4513-ae73-33faba8d6b6c\",\"type\":\"LegendItem\"}],\"plot\":{\"id\":\"0db1968c-e4f8-4416-9606-e1ba7af85475\",\"subtype\":\"Chart\",\"type\":\"Plot\"}},\"id\":\"68775d09-6fd0-4c39-8775-0bb71cf8b183\",\"type\":\"Legend\"},{\"attributes\":{\"callback\":null,\"column_names\":[\"line_color\",\"line_alpha\",\"color\",\"fill_alpha\",\"height\",\"width\",\"y\",\"x\",\"label\"],\"data\":{\"Intact\":[\"Spayed/Neutered\"],\"OutcomeType\":[\"Euthanasia\"],\"chart_index\":[{\"Intact\":\"Spayed/Neutered\",\"OutcomeType\":\"Euthanasia\"}],\"color\":[\"#5ab738\"],\"fill_alpha\":[0.8],\"height\":[576.0],\"label\":[{\"Intact\":\"Spayed/Neutered\",\"OutcomeType\":\"Euthanasia\"}],\"line_alpha\":[1.0],\"line_color\":[\"white\"],\"width\":[0.8],\"x\":[\"Euthanasia\"],\"y\":[288.0]}},\"id\":\"786431de-b42e-4a7f-a678-3372d6c49e73\",\"type\":\"ColumnDataSource\"},{\"attributes\":{\"plot\":{\"id\":\"0db1968c-e4f8-4416-9606-e1ba7af85475\",\"subtype\":\"Chart\",\"type\":\"Plot\"}},\"id\":\"c0de4bfd-3081-4456-99b9-65e5e7afbf73\",\"type\":\"HelpTool\"},{\"attributes\":{},\"id\":\"307046c2-c1a4-43d1-b8c1-dca64171ce93\",\"type\":\"CategoricalTickFormatter\"},{\"attributes\":{},\"id\":\"997e9d8c-80fc-41c2-a6e3-8bedfc018eca\",\"type\":\"BasicTickFormatter\"},{\"attributes\":{},\"id\":\"52fdb62b-dfea-403b-a460-b0223f317e0d\",\"type\":\"BasicTicker\"},{\"attributes\":{\"dimension\":1,\"plot\":{\"id\":\"0db1968c-e4f8-4416-9606-e1ba7af85475\",\"subtype\":\"Chart\",\"type\":\"Plot\"},\"ticker\":{\"id\":\"52fdb62b-dfea-403b-a460-b0223f317e0d\",\"type\":\"BasicTicker\"}},\"id\":\"0e189d62-2312-44fc-b832-65a8d35e56e8\",\"type\":\"Grid\"},{\"attributes\":{\"fill_alpha\":{\"field\":\"fill_alpha\"},\"fill_color\":{\"field\":\"color\"},\"height\":{\"field\":\"height\",\"units\":\"data\"},\"line_color\":{\"field\":\"line_color\"},\"width\":{\"field\":\"width\",\"units\":\"data\"},\"x\":{\"field\":\"x\"},\"y\":{\"field\":\"y\"}},\"id\":\"f57d1cd1-f07a-41af-ad25-bbb011a99001\",\"type\":\"Rect\"},{\"attributes\":{},\"id\":\"118404d2-390b-474e-8abe-426c318f346c\",\"type\":\"ToolEvents\"},{\"attributes\":{\"callback\":null,\"column_names\":[\"line_color\",\"line_alpha\",\"color\",\"fill_alpha\",\"height\",\"width\",\"y\",\"x\",\"label\"],\"data\":{\"Intact\":[\"Intact\"],\"OutcomeType\":[\"Euthanasia\"],\"chart_index\":[{\"Intact\":\"Intact\",\"OutcomeType\":\"Euthanasia\"}],\"color\":[\"#f22c40\"],\"fill_alpha\":[0.8],\"height\":[878.0],\"label\":[{\"Intact\":\"Intact\",\"OutcomeType\":\"Euthanasia\"}],\"line_alpha\":[1.0],\"line_color\":[\"white\"],\"width\":[0.8],\"x\":[\"Euthanasia\"],\"y\":[1015.0]}},\"id\":\"7b5f719f-3baa-425b-9b37-9a4f9e511196\",\"type\":\"ColumnDataSource\"},{\"attributes\":{\"fill_alpha\":{\"field\":\"fill_alpha\"},\"fill_color\":{\"field\":\"color\"},\"height\":{\"field\":\"height\",\"units\":\"data\"},\"line_color\":{\"field\":\"line_color\"},\"width\":{\"field\":\"width\",\"units\":\"data\"},\"x\":{\"field\":\"x\"},\"y\":{\"field\":\"y\"}},\"id\":\"d9a757c2-9823-4782-a7cc-db809e0eca4c\",\"type\":\"Rect\"}],\"root_ids\":[\"0db1968c-e4f8-4416-9606-e1ba7af85475\"]},\"title\":\"Bokeh Application\",\"version\":\"0.12.5\"}};\n",
       "            var render_items = [{\"docid\":\"f66c4eaa-509b-4abe-80dc-c5299a700d0e\",\"elementid\":\"314b5521-d5d8-4b8c-8d30-2c9badf620cc\",\"modelid\":\"0db1968c-e4f8-4416-9606-e1ba7af85475\"}];\n",
       "            \n",
       "            Bokeh.embed.embed_items(docs_json, render_items);\n",
       "          };\n",
       "          if (document.readyState != \"loading\") fn();\n",
       "          else document.addEventListener(\"DOMContentLoaded\", fn);\n",
       "        })();\n",
       "      },\n",
       "      function(Bokeh) {\n",
       "      }\n",
       "    ];\n",
       "  \n",
       "    function run_inline_js() {\n",
       "      \n",
       "      if ((window.Bokeh !== undefined) || (force === true)) {\n",
       "        for (var i = 0; i < inline_js.length; i++) {\n",
       "          inline_js[i](window.Bokeh);\n",
       "        }if (force === true) {\n",
       "          display_loaded();\n",
       "        }} else if (Date.now() < window._bokeh_timeout) {\n",
       "        setTimeout(run_inline_js, 100);\n",
       "      } else if (!window._bokeh_failed_load) {\n",
       "        console.log(\"Bokeh: BokehJS failed to load within specified timeout.\");\n",
       "        window._bokeh_failed_load = true;\n",
       "      } else if (force !== true) {\n",
       "        var cell = $(document.getElementById(\"314b5521-d5d8-4b8c-8d30-2c9badf620cc\")).parents('.cell').data().cell;\n",
       "        cell.output_area.append_execute_result(NB_LOAD_WARNING)\n",
       "      }\n",
       "  \n",
       "    }\n",
       "  \n",
       "    if (window._bokeh_is_loading === 0) {\n",
       "      console.log(\"Bokeh: BokehJS loaded, going straight to plotting\");\n",
       "      run_inline_js();\n",
       "    } else {\n",
       "      load_libs(js_urls, function() {\n",
       "        console.log(\"Bokeh: BokehJS plotting callback run at\", now());\n",
       "        run_inline_js();\n",
       "      });\n",
       "    }\n",
       "  }(this));\n",
       "</script>"
      ]
     },
     "metadata": {},
     "output_type": "display_data"
    }
   ],
   "source": [
    "p = Bar(data, label='OutcomeType', values = 'Intact', agg='count', stack='Intact',\n",
    "        title=\"Outcomes by Intact Status\", legend='top_right')\n",
    "show(p)"
   ]
  },
  {
   "cell_type": "code",
   "execution_count": 11,
   "metadata": {
    "scrolled": false
   },
   "outputs": [
    {
     "data": {
      "text/plain": [
       "<matplotlib.axes._subplots.AxesSubplot at 0x11e3ffd10>"
      ]
     },
     "execution_count": 11,
     "metadata": {},
     "output_type": "execute_result"
    },
    {
     "data": {
      "image/png": "[encoded data removed]",
      "text/plain": [
       "<matplotlib.figure.Figure at 0x11e3ff210>"
      ]
     },
     "metadata": {},
     "output_type": "display_data"
    }
   ],
   "source": [
    "#Sex\n",
    "intact_type = data['Female'].value_counts() \n",
    "intact_type.plot(kind='bar',color='#34ABD8',rot=0)"
   ]
  },
  {
   "cell_type": "code",
   "execution_count": 12,
   "metadata": {},
   "outputs": [
    {
     "data": {
      "text/html": [
       "\n",
       "\n",
       "    <div class=\"bk-root\">\n",
       "        <div class=\"bk-plotdiv\" id=\"7f773497-e19a-4c4f-9aa5-304c10051c28\"></div>\n",
       "    </div>\n",
       "<script type=\"text/javascript\">\n",
       "  \n",
       "  (function(global) {\n",
       "    function now() {\n",
       "      return new Date();\n",
       "    }\n",
       "  \n",
       "    var force = false;\n",
       "  \n",
       "    if (typeof (window._bokeh_onload_callbacks) === \"undefined\" || force === true) {\n",
       "      window._bokeh_onload_callbacks = [];\n",
       "      window._bokeh_is_loading = undefined;\n",
       "    }\n",
       "  \n",
       "  \n",
       "    \n",
       "    if (typeof (window._bokeh_timeout) === \"undefined\" || force === true) {\n",
       "      window._bokeh_timeout = Date.now() + 0;\n",
       "      window._bokeh_failed_load = false;\n",
       "    }\n",
       "  \n",
       "    var NB_LOAD_WARNING = {'data': {'text/html':\n",
       "       \"<div style='background-color: #fdd'>\\n\"+\n",
       "       \"<p>\\n\"+\n",
       "       \"BokehJS does not appear to have successfully loaded. If loading BokehJS from CDN, this \\n\"+\n",
       "       \"may be due to a slow or bad network connection. Possible fixes:\\n\"+\n",
       "       \"</p>\\n\"+\n",
       "       \"<ul>\\n\"+\n",
       "       \"<li>re-rerun `output_notebook()` to attempt to load from CDN again, or</li>\\n\"+\n",
       "       \"<li>use INLINE resources instead, as so:</li>\\n\"+\n",
       "       \"</ul>\\n\"+\n",
       "       \"<code>\\n\"+\n",
       "       \"from bokeh.resources import INLINE\\n\"+\n",
       "       \"output_notebook(resources=INLINE)\\n\"+\n",
       "       \"</code>\\n\"+\n",
       "       \"</div>\"}};\n",
       "  \n",
       "    function display_loaded() {\n",
       "      if (window.Bokeh !== undefined) {\n",
       "        var el = document.getElementById(\"7f773497-e19a-4c4f-9aa5-304c10051c28\");\n",
       "        el.textContent = \"BokehJS \" + Bokeh.version + \" successfully loaded.\";\n",
       "      } else if (Date.now() < window._bokeh_timeout) {\n",
       "        setTimeout(display_loaded, 100)\n",
       "      }\n",
       "    }\n",
       "  \n",
       "    function run_callbacks() {\n",
       "      window._bokeh_onload_callbacks.forEach(function(callback) { callback() });\n",
       "      delete window._bokeh_onload_callbacks\n",
       "      console.info(\"Bokeh: all callbacks have finished\");\n",
       "    }\n",
       "  \n",
       "    function load_libs(js_urls, callback) {\n",
       "      window._bokeh_onload_callbacks.push(callback);\n",
       "      if (window._bokeh_is_loading > 0) {\n",
       "        console.log(\"Bokeh: BokehJS is being loaded, scheduling callback at\", now());\n",
       "        return null;\n",
       "      }\n",
       "      if (js_urls == null || js_urls.length === 0) {\n",
       "        run_callbacks();\n",
       "        return null;\n",
       "      }\n",
       "      console.log(\"Bokeh: BokehJS not loaded, scheduling load and callback at\", now());\n",
       "      window._bokeh_is_loading = js_urls.length;\n",
       "      for (var i = 0; i < js_urls.length; i++) {\n",
       "        var url = js_urls[i];\n",
       "        var s = document.createElement('script');\n",
       "        s.src = url;\n",
       "        s.async = false;\n",
       "        s.onreadystatechange = s.onload = function() {\n",
       "          window._bokeh_is_loading--;\n",
       "          if (window._bokeh_is_loading === 0) {\n",
       "            console.log(\"Bokeh: all BokehJS libraries loaded\");\n",
       "            run_callbacks()\n",
       "          }\n",
       "        };\n",
       "        s.onerror = function() {\n",
       "          console.warn(\"failed to load library \" + url);\n",
       "        };\n",
       "        console.log(\"Bokeh: injecting script tag for BokehJS library: \", url);\n",
       "        document.getElementsByTagName(\"head\")[0].appendChild(s);\n",
       "      }\n",
       "    };var element = document.getElementById(\"7f773497-e19a-4c4f-9aa5-304c10051c28\");\n",
       "    if (element == null) {\n",
       "      console.log(\"Bokeh: ERROR: autoload.js configured with elementid '7f773497-e19a-4c4f-9aa5-304c10051c28' but no matching script tag was found. \")\n",
       "      return false;\n",
       "    }\n",
       "  \n",
       "    var js_urls = [];\n",
       "  \n",
       "    var inline_js = [\n",
       "      function(Bokeh) {\n",
       "        (function() {\n",
       "          var fn = function() {\n",
       "            var docs_json = {\"eaa0552b-1da7-4597-bfe8-e2a06f5c9756\":{\"roots\":{\"references\":[{\"attributes\":{\"data_source\":{\"id\":\"ab3fbc8e-d21e-4de6-8834-e7347ebcfaf4\",\"type\":\"ColumnDataSource\"},\"glyph\":{\"id\":\"2741a721-24b9-4ce6-b122-74596fc5e689\",\"type\":\"Rect\"},\"hover_glyph\":null,\"muted_glyph\":null},\"id\":\"44a1f8dc-7d30-408d-93ef-8d6ea263f0cd\",\"type\":\"GlyphRenderer\"},{\"attributes\":{\"fill_alpha\":{\"field\":\"fill_alpha\"},\"fill_color\":{\"field\":\"color\"},\"height\":{\"field\":\"height\",\"units\":\"data\"},\"line_color\":{\"field\":\"line_color\"},\"width\":{\"field\":\"width\",\"units\":\"data\"},\"x\":{\"field\":\"x\"},\"y\":{\"field\":\"y\"}},\"id\":\"63ad69f2-4c52-40d2-8a33-abbbcae35609\",\"type\":\"Rect\"},{\"attributes\":{\"data_source\":{\"id\":\"4aba6d19-cbf7-4128-99f5-7bc1400ccd89\",\"type\":\"ColumnDataSource\"},\"glyph\":{\"id\":\"8f443aec-02c6-442f-aa45-3657c2aeb4df\",\"type\":\"Rect\"},\"hover_glyph\":null,\"muted_glyph\":null},\"id\":\"27dba6f2-a31c-4179-8150-84b9c0fe7d37\",\"type\":\"GlyphRenderer\"},{\"attributes\":{\"callback\":null,\"column_names\":[\"line_color\",\"line_alpha\",\"color\",\"fill_alpha\",\"height\",\"width\",\"y\",\"x\",\"label\"],\"data\":{\"Female\":[\"Unknown\"],\"OutcomeType\":[\"Euthanasia\"],\"chart_index\":[{\"Female\":\"Unknown\",\"OutcomeType\":\"Euthanasia\"}],\"color\":[\"#407ee7\"],\"fill_alpha\":[0.8],\"height\":[101.0],\"label\":[{\"Female\":\"Unknown\",\"OutcomeType\":\"Euthanasia\"}],\"line_alpha\":[1.0],\"line_color\":[\"white\"],\"width\":[0.8],\"x\":[\"Euthanasia\"],\"y\":[1504.5]}},\"id\":\"55ee1206-3fe7-421c-95a9-0e2fe36ee98c\",\"type\":\"ColumnDataSource\"},{\"attributes\":{\"data_source\":{\"id\":\"d5a000a6-6859-489b-b87c-6c03cd4a4bae\",\"type\":\"ColumnDataSource\"},\"glyph\":{\"id\":\"65df1b92-ec52-47cb-a796-c1f88d73b0cb\",\"type\":\"Rect\"},\"hover_glyph\":null,\"muted_glyph\":null},\"id\":\"a39c5471-9079-4a30-8bc4-97eed0726407\",\"type\":\"GlyphRenderer\"},{\"attributes\":{\"label\":{\"value\":\"Male\"},\"renderers\":[{\"id\":\"58a84962-e5fa-4c97-b7f4-2bf64d3a8af9\",\"type\":\"GlyphRenderer\"}]},\"id\":\"3cfb8934-697e-4bf5-8b8d-394436d4c9a0\",\"type\":\"LegendItem\"},{\"attributes\":{\"data_source\":{\"id\":\"55ee1206-3fe7-421c-95a9-0e2fe36ee98c\",\"type\":\"ColumnDataSource\"},\"glyph\":{\"id\":\"39ccdfaf-5f02-448a-ac24-9331a41e6d4c\",\"type\":\"Rect\"},\"hover_glyph\":null,\"muted_glyph\":null},\"id\":\"fb9402ee-4f0c-4dc8-a1e5-ef305d212a5d\",\"type\":\"GlyphRenderer\"},{\"attributes\":{\"callback\":null,\"factors\":[\"Adoption\",\"Died\",\"Euthanasia\",\"Return_to_owner\",\"Transfer\"]},\"id\":\"2afbaf07-f540-475b-9278-ad82f9f55125\",\"type\":\"FactorRange\"},{\"attributes\":{\"label\":{\"value\":\"Unknown\"},\"renderers\":[{\"id\":\"7af9f20d-a1a7-43c5-ac0b-9388b82c8373\",\"type\":\"GlyphRenderer\"}]},\"id\":\"9fe42c5c-0395-4d8d-9586-8798f52b8fbd\",\"type\":\"LegendItem\"},{\"attributes\":{\"callback\":null,\"column_names\":[\"line_color\",\"line_alpha\",\"color\",\"fill_alpha\",\"height\",\"width\",\"y\",\"x\",\"label\"],\"data\":{\"Female\":[\"Male\"],\"OutcomeType\":[\"Transfer\"],\"chart_index\":[{\"Female\":\"Male\",\"OutcomeType\":\"Transfer\"}],\"color\":[\"#5ab738\"],\"fill_alpha\":[0.8],\"height\":[4281.0],\"label\":[{\"Female\":\"Male\",\"OutcomeType\":\"Transfer\"}],\"line_alpha\":[1.0],\"line_color\":[\"white\"],\"width\":[0.8],\"x\":[\"Transfer\"],\"y\":[2140.5]}},\"id\":\"4aba6d19-cbf7-4128-99f5-7bc1400ccd89\",\"type\":\"ColumnDataSource\"},{\"attributes\":{\"label\":{\"value\":\"Female\"},\"renderers\":[{\"id\":\"40ebf537-e30a-4d74-bca5-a2f9227e14da\",\"type\":\"GlyphRenderer\"}]},\"id\":\"8e57e248-c483-4aea-b7c8-daa797b62581\",\"type\":\"LegendItem\"},{\"attributes\":{\"axis_label\":\"Count( Female )\",\"formatter\":{\"id\":\"46012a91-5877-480a-a034-c81e1b3d2d61\",\"type\":\"BasicTickFormatter\"},\"plot\":{\"id\":\"058c8a24-601a-4e94-bad1-2d5e02eed47a\",\"subtype\":\"Chart\",\"type\":\"Plot\"},\"ticker\":{\"id\":\"bfc4ef19-efdb-4115-9fa2-b0b3e1b1faa1\",\"type\":\"BasicTicker\"}},\"id\":\"838812ee-d21c-4b92-9316-0df29030af7a\",\"type\":\"LinearAxis\"},{\"attributes\":{\"callback\":null,\"column_names\":[\"line_color\",\"line_alpha\",\"color\",\"fill_alpha\",\"height\",\"width\",\"y\",\"x\",\"label\"],\"data\":{\"Female\":[\"Female\"],\"OutcomeType\":[\"Return_to_owner\"],\"chart_index\":[{\"Female\":\"Female\",\"OutcomeType\":\"Return_to_owner\"}],\"color\":[\"#f22c40\"],\"fill_alpha\":[0.8],\"height\":[2049.0],\"label\":[{\"Female\":\"Female\",\"OutcomeType\":\"Return_to_owner\"}],\"line_alpha\":[1.0],\"line_color\":[\"white\"],\"width\":[0.8],\"x\":[\"Return_to_owner\"],\"y\":[3749.5]}},\"id\":\"bab92321-148e-4e51-8a08-d8d10d6a18e3\",\"type\":\"ColumnDataSource\"},{\"attributes\":{\"data_source\":{\"id\":\"a2951a26-7947-4180-b374-f58bde3526be\",\"type\":\"ColumnDataSource\"},\"glyph\":{\"id\":\"686273a0-607b-472a-9431-278981da21d7\",\"type\":\"Rect\"},\"hover_glyph\":null,\"muted_glyph\":null},\"id\":\"58a84962-e5fa-4c97-b7f4-2bf64d3a8af9\",\"type\":\"GlyphRenderer\"},{\"attributes\":{\"callback\":null,\"column_names\":[\"line_color\",\"line_alpha\",\"color\",\"fill_alpha\",\"height\",\"width\",\"y\",\"x\",\"label\"],\"data\":{\"Female\":[\"Unknown\"],\"OutcomeType\":[\"Transfer\"],\"chart_index\":[{\"Female\":\"Unknown\",\"OutcomeType\":\"Transfer\"}],\"color\":[\"#407ee7\"],\"fill_alpha\":[0.8],\"height\":[955.0],\"label\":[{\"Female\":\"Unknown\",\"OutcomeType\":\"Transfer\"}],\"line_alpha\":[1.0],\"line_color\":[\"white\"],\"width\":[0.8],\"x\":[\"Transfer\"],\"y\":[8944.5]}},\"id\":\"c5721e8c-60ae-4442-a16d-cf230a1807bb\",\"type\":\"ColumnDataSource\"},{\"attributes\":{\"plot\":{\"id\":\"058c8a24-601a-4e94-bad1-2d5e02eed47a\",\"subtype\":\"Chart\",\"type\":\"Plot\"}},\"id\":\"20445833-7e4a-4c7c-af96-5429791d7182\",\"type\":\"HelpTool\"},{\"attributes\":{\"callback\":null,\"column_names\":[\"line_color\",\"line_alpha\",\"color\",\"fill_alpha\",\"height\",\"width\",\"y\",\"x\",\"label\"],\"data\":{\"Female\":[\"Female\"],\"OutcomeType\":[\"Euthanasia\"],\"chart_index\":[{\"Female\":\"Female\",\"OutcomeType\":\"Euthanasia\"}],\"color\":[\"#f22c40\"],\"fill_alpha\":[0.8],\"height\":[633.0],\"label\":[{\"Female\":\"Female\",\"OutcomeType\":\"Euthanasia\"}],\"line_alpha\":[1.0],\"line_color\":[\"white\"],\"width\":[0.8],\"x\":[\"Euthanasia\"],\"y\":[316.5]}},\"id\":\"463a71ac-4899-4f9e-ac14-a69d6b358afc\",\"type\":\"ColumnDataSource\"},{\"attributes\":{\"callback\":null,\"column_names\":[\"line_color\",\"line_alpha\",\"color\",\"fill_alpha\",\"height\",\"width\",\"y\",\"x\",\"label\"],\"data\":{\"Female\":[\"Male\"],\"OutcomeType\":[\"Return_to_owner\"],\"chart_index\":[{\"Female\":\"Male\",\"OutcomeType\":\"Return_to_owner\"}],\"color\":[\"#5ab738\"],\"fill_alpha\":[0.8],\"height\":[2725.0],\"label\":[{\"Female\":\"Male\",\"OutcomeType\":\"Return_to_owner\"}],\"line_alpha\":[1.0],\"line_color\":[\"white\"],\"width\":[0.8],\"x\":[\"Return_to_owner\"],\"y\":[1362.5]}},\"id\":\"a2951a26-7947-4180-b374-f58bde3526be\",\"type\":\"ColumnDataSource\"},{\"attributes\":{\"plot\":{\"id\":\"058c8a24-601a-4e94-bad1-2d5e02eed47a\",\"subtype\":\"Chart\",\"type\":\"Plot\"}},\"id\":\"dfc9c8ea-75ab-424b-b10b-f8776bcd0ee7\",\"type\":\"WheelZoomTool\"},{\"attributes\":{\"callback\":null,\"column_names\":[\"line_color\",\"line_alpha\",\"color\",\"fill_alpha\",\"height\",\"width\",\"y\",\"x\",\"label\"],\"data\":{\"Female\":[\"Male\"],\"OutcomeType\":[\"Died\"],\"chart_index\":[{\"Female\":\"Male\",\"OutcomeType\":\"Died\"}],\"color\":[\"#5ab738\"],\"fill_alpha\":[0.8],\"height\":[98.0],\"label\":[{\"Female\":\"Male\",\"OutcomeType\":\"Died\"}],\"line_alpha\":[1.0],\"line_color\":[\"white\"],\"width\":[0.8],\"x\":[\"Died\"],\"y\":[49.0]}},\"id\":\"34de917a-087e-4732-8a62-e346e458dbaa\",\"type\":\"ColumnDataSource\"},{\"attributes\":{\"items\":[{\"id\":\"3cfb8934-697e-4bf5-8b8d-394436d4c9a0\",\"type\":\"LegendItem\"},{\"id\":\"8e57e248-c483-4aea-b7c8-daa797b62581\",\"type\":\"LegendItem\"},{\"id\":\"9fe42c5c-0395-4d8d-9586-8798f52b8fbd\",\"type\":\"LegendItem\"}],\"plot\":{\"id\":\"058c8a24-601a-4e94-bad1-2d5e02eed47a\",\"subtype\":\"Chart\",\"type\":\"Plot\"}},\"id\":\"5fcf6529-2204-4adc-8c20-68f01511e967\",\"type\":\"Legend\"},{\"attributes\":{\"callback\":null,\"column_names\":[\"line_color\",\"line_alpha\",\"color\",\"fill_alpha\",\"height\",\"width\",\"y\",\"x\",\"label\"],\"data\":{\"Female\":[\"Male\"],\"OutcomeType\":[\"Adoption\"],\"chart_index\":[{\"Female\":\"Male\",\"OutcomeType\":\"Adoption\"}],\"color\":[\"#5ab738\"],\"fill_alpha\":[0.8],\"height\":[5380.0],\"label\":[{\"Female\":\"Male\",\"OutcomeType\":\"Adoption\"}],\"line_alpha\":[1.0],\"line_color\":[\"white\"],\"width\":[0.8],\"x\":[\"Adoption\"],\"y\":[2690.0]}},\"id\":\"92754819-4bc4-408b-a3f6-3a82cd837fae\",\"type\":\"ColumnDataSource\"},{\"attributes\":{\"axis_label\":\"Outcometype\",\"formatter\":{\"id\":\"bad3613f-5778-4617-8c62-bb528db8cd01\",\"type\":\"CategoricalTickFormatter\"},\"major_label_orientation\":0.7853981633974483,\"plot\":{\"id\":\"058c8a24-601a-4e94-bad1-2d5e02eed47a\",\"subtype\":\"Chart\",\"type\":\"Plot\"},\"ticker\":{\"id\":\"17fb34c2-b03f-4c74-abeb-477bfa40e171\",\"type\":\"CategoricalTicker\"}},\"id\":\"7b20afcb-4ec3-4345-b379-b4699d847afe\",\"type\":\"CategoricalAxis\"},{\"attributes\":{\"data_source\":{\"id\":\"441b9d98-f96f-4613-b3f0-d7386cb02886\",\"type\":\"ColumnDataSource\"},\"glyph\":{\"id\":\"c2770ccc-2f04-4112-bd93-9b8deb80f93e\",\"type\":\"Rect\"},\"hover_glyph\":null,\"muted_glyph\":null},\"id\":\"a3caed9f-8bdb-4d56-8694-1121c01b1f4a\",\"type\":\"GlyphRenderer\"},{\"attributes\":{\"fill_alpha\":{\"field\":\"fill_alpha\"},\"fill_color\":{\"field\":\"color\"},\"height\":{\"field\":\"height\",\"units\":\"data\"},\"line_color\":{\"field\":\"line_color\"},\"width\":{\"field\":\"width\",\"units\":\"data\"},\"x\":{\"field\":\"x\"},\"y\":{\"field\":\"y\"}},\"id\":\"8f443aec-02c6-442f-aa45-3657c2aeb4df\",\"type\":\"Rect\"},{\"attributes\":{\"callback\":null,\"end\":11307.45},\"id\":\"222e60cd-e4a8-4446-a118-579de74bd652\",\"type\":\"Range1d\"},{\"attributes\":{\"plot\":{\"id\":\"058c8a24-601a-4e94-bad1-2d5e02eed47a\",\"subtype\":\"Chart\",\"type\":\"Plot\"}},\"id\":\"ea0c2d09-1646-4d8b-99ef-ef0846fd28dc\",\"type\":\"ResetTool\"},{\"attributes\":{\"overlay\":{\"id\":\"68a710f7-3d30-45c5-9482-09e1d57698cf\",\"type\":\"BoxAnnotation\"},\"plot\":{\"id\":\"058c8a24-601a-4e94-bad1-2d5e02eed47a\",\"subtype\":\"Chart\",\"type\":\"Plot\"}},\"id\":\"74fdc451-92ae-49da-8016-c17b324f3141\",\"type\":\"BoxZoomTool\"},{\"attributes\":{\"data_source\":{\"id\":\"c5721e8c-60ae-4442-a16d-cf230a1807bb\",\"type\":\"ColumnDataSource\"},\"glyph\":{\"id\":\"425368f1-e1d6-46c1-8ce9-7f8075fe2112\",\"type\":\"Rect\"},\"hover_glyph\":null,\"muted_glyph\":null},\"id\":\"7af9f20d-a1a7-43c5-ac0b-9388b82c8373\",\"type\":\"GlyphRenderer\"},{\"attributes\":{\"data_source\":{\"id\":\"92754819-4bc4-408b-a3f6-3a82cd837fae\",\"type\":\"ColumnDataSource\"},\"glyph\":{\"id\":\"c5284e25-f524-433e-a0ae-5e73c6a258b9\",\"type\":\"Rect\"},\"hover_glyph\":null,\"muted_glyph\":null},\"id\":\"8a4140bf-17d4-477d-bb3b-dff44abebab7\",\"type\":\"GlyphRenderer\"},{\"attributes\":{\"fill_alpha\":{\"field\":\"fill_alpha\"},\"fill_color\":{\"field\":\"color\"},\"height\":{\"field\":\"height\",\"units\":\"data\"},\"line_color\":{\"field\":\"line_color\"},\"width\":{\"field\":\"width\",\"units\":\"data\"},\"x\":{\"field\":\"x\"},\"y\":{\"field\":\"y\"}},\"id\":\"65df1b92-ec52-47cb-a796-c1f88d73b0cb\",\"type\":\"Rect\"},{\"attributes\":{\"callback\":null,\"column_names\":[\"line_color\",\"line_alpha\",\"color\",\"fill_alpha\",\"height\",\"width\",\"y\",\"x\",\"label\"],\"data\":{\"Female\":[\"Female\"],\"OutcomeType\":[\"Died\"],\"chart_index\":[{\"Female\":\"Female\",\"OutcomeType\":\"Died\"}],\"color\":[\"#f22c40\"],\"fill_alpha\":[0.8],\"height\":[74.0],\"label\":[{\"Female\":\"Female\",\"OutcomeType\":\"Died\"}],\"line_alpha\":[1.0],\"line_color\":[\"white\"],\"width\":[0.8],\"x\":[\"Died\"],\"y\":[160.0]}},\"id\":\"70730c93-cbac-4e48-b6fe-67f7e10b1769\",\"type\":\"ColumnDataSource\"},{\"attributes\":{\"data_source\":{\"id\":\"463a71ac-4899-4f9e-ac14-a69d6b358afc\",\"type\":\"ColumnDataSource\"},\"glyph\":{\"id\":\"214a40ad-580b-4902-90bc-efd063159a2a\",\"type\":\"Rect\"},\"hover_glyph\":null,\"muted_glyph\":null},\"id\":\"40ebf537-e30a-4d74-bca5-a2f9227e14da\",\"type\":\"GlyphRenderer\"},{\"attributes\":{},\"id\":\"46012a91-5877-480a-a034-c81e1b3d2d61\",\"type\":\"BasicTickFormatter\"},{\"attributes\":{\"fill_alpha\":{\"field\":\"fill_alpha\"},\"fill_color\":{\"field\":\"color\"},\"height\":{\"field\":\"height\",\"units\":\"data\"},\"line_color\":{\"field\":\"line_color\"},\"width\":{\"field\":\"width\",\"units\":\"data\"},\"x\":{\"field\":\"x\"},\"y\":{\"field\":\"y\"}},\"id\":\"686273a0-607b-472a-9431-278981da21d7\",\"type\":\"Rect\"},{\"attributes\":{\"bottom_units\":\"screen\",\"fill_alpha\":{\"value\":0.5},\"fill_color\":{\"value\":\"lightgrey\"},\"left_units\":\"screen\",\"level\":\"overlay\",\"line_alpha\":{\"value\":1.0},\"line_color\":{\"value\":\"black\"},\"line_dash\":[4,4],\"line_width\":{\"value\":2},\"plot\":null,\"render_mode\":\"css\",\"right_units\":\"screen\",\"top_units\":\"screen\"},\"id\":\"68a710f7-3d30-45c5-9482-09e1d57698cf\",\"type\":\"BoxAnnotation\"},{\"attributes\":{\"fill_alpha\":{\"field\":\"fill_alpha\"},\"fill_color\":{\"field\":\"color\"},\"height\":{\"field\":\"height\",\"units\":\"data\"},\"line_color\":{\"field\":\"line_color\"},\"width\":{\"field\":\"width\",\"units\":\"data\"},\"x\":{\"field\":\"x\"},\"y\":{\"field\":\"y\"}},\"id\":\"343594aa-6071-49b0-b816-94438d07cf3f\",\"type\":\"Rect\"},{\"attributes\":{\"data_source\":{\"id\":\"babddcba-5f46-43c5-b989-8f5ac8f3257a\",\"type\":\"ColumnDataSource\"},\"glyph\":{\"id\":\"0d94ea1a-ee1f-4353-8b79-076406f5f8f0\",\"type\":\"Rect\"},\"hover_glyph\":null,\"muted_glyph\":null},\"id\":\"37221c02-b9e0-4514-9893-8eccfc4e5507\",\"type\":\"GlyphRenderer\"},{\"attributes\":{\"active_drag\":\"auto\",\"active_scroll\":\"auto\",\"active_tap\":\"auto\",\"tools\":[{\"id\":\"8c038763-54ea-4f48-8e64-dfe1d8a7f6ca\",\"type\":\"PanTool\"},{\"id\":\"dfc9c8ea-75ab-424b-b10b-f8776bcd0ee7\",\"type\":\"WheelZoomTool\"},{\"id\":\"74fdc451-92ae-49da-8016-c17b324f3141\",\"type\":\"BoxZoomTool\"},{\"id\":\"9ca84fb4-dbed-41d7-a979-9ca765020ee0\",\"type\":\"SaveTool\"},{\"id\":\"ea0c2d09-1646-4d8b-99ef-ef0846fd28dc\",\"type\":\"ResetTool\"},{\"id\":\"20445833-7e4a-4c7c-af96-5429791d7182\",\"type\":\"HelpTool\"}]},\"id\":\"19430703-d1a4-4589-ac94-60ba24180a9b\",\"type\":\"Toolbar\"},{\"attributes\":{\"fill_alpha\":{\"field\":\"fill_alpha\"},\"fill_color\":{\"field\":\"color\"},\"height\":{\"field\":\"height\",\"units\":\"data\"},\"line_color\":{\"field\":\"line_color\"},\"width\":{\"field\":\"width\",\"units\":\"data\"},\"x\":{\"field\":\"x\"},\"y\":{\"field\":\"y\"}},\"id\":\"39ccdfaf-5f02-448a-ac24-9331a41e6d4c\",\"type\":\"Rect\"},{\"attributes\":{},\"id\":\"4e9a1760-7abb-4e59-9a89-961059a2426e\",\"type\":\"ToolEvents\"},{\"attributes\":{\"data_source\":{\"id\":\"70730c93-cbac-4e48-b6fe-67f7e10b1769\",\"type\":\"ColumnDataSource\"},\"glyph\":{\"id\":\"63ad69f2-4c52-40d2-8a33-abbbcae35609\",\"type\":\"Rect\"},\"hover_glyph\":null,\"muted_glyph\":null},\"id\":\"17e3257f-5e92-42f1-8b4d-a86d9e460d05\",\"type\":\"GlyphRenderer\"},{\"attributes\":{\"fill_alpha\":{\"field\":\"fill_alpha\"},\"fill_color\":{\"field\":\"color\"},\"height\":{\"field\":\"height\",\"units\":\"data\"},\"line_color\":{\"field\":\"line_color\"},\"width\":{\"field\":\"width\",\"units\":\"data\"},\"x\":{\"field\":\"x\"},\"y\":{\"field\":\"y\"}},\"id\":\"425368f1-e1d6-46c1-8ce9-7f8075fe2112\",\"type\":\"Rect\"},{\"attributes\":{\"below\":[{\"id\":\"7b20afcb-4ec3-4345-b379-b4699d847afe\",\"type\":\"CategoricalAxis\"}],\"css_classes\":null,\"left\":[{\"id\":\"838812ee-d21c-4b92-9316-0df29030af7a\",\"type\":\"LinearAxis\"}],\"renderers\":[{\"id\":\"68a710f7-3d30-45c5-9482-09e1d57698cf\",\"type\":\"BoxAnnotation\"},{\"id\":\"58a84962-e5fa-4c97-b7f4-2bf64d3a8af9\",\"type\":\"GlyphRenderer\"},{\"id\":\"40ebf537-e30a-4d74-bca5-a2f9227e14da\",\"type\":\"GlyphRenderer\"},{\"id\":\"8a4140bf-17d4-477d-bb3b-dff44abebab7\",\"type\":\"GlyphRenderer\"},{\"id\":\"27dba6f2-a31c-4179-8150-84b9c0fe7d37\",\"type\":\"GlyphRenderer\"},{\"id\":\"44a1f8dc-7d30-408d-93ef-8d6ea263f0cd\",\"type\":\"GlyphRenderer\"},{\"id\":\"7af9f20d-a1a7-43c5-ac0b-9388b82c8373\",\"type\":\"GlyphRenderer\"},{\"id\":\"a39c5471-9079-4a30-8bc4-97eed0726407\",\"type\":\"GlyphRenderer\"},{\"id\":\"a3caed9f-8bdb-4d56-8694-1121c01b1f4a\",\"type\":\"GlyphRenderer\"},{\"id\":\"8d08ccde-793e-4caf-9ab0-897b411bdacc\",\"type\":\"GlyphRenderer\"},{\"id\":\"fb9402ee-4f0c-4dc8-a1e5-ef305d212a5d\",\"type\":\"GlyphRenderer\"},{\"id\":\"b9b79058-8ae4-4423-b77d-58f91344aa23\",\"type\":\"GlyphRenderer\"},{\"id\":\"9f28bbf0-28e0-46ce-aeac-5c0989583e9c\",\"type\":\"GlyphRenderer\"},{\"id\":\"17e3257f-5e92-42f1-8b4d-a86d9e460d05\",\"type\":\"GlyphRenderer\"},{\"id\":\"37221c02-b9e0-4514-9893-8eccfc4e5507\",\"type\":\"GlyphRenderer\"},{\"id\":\"5fcf6529-2204-4adc-8c20-68f01511e967\",\"type\":\"Legend\"},{\"id\":\"7b20afcb-4ec3-4345-b379-b4699d847afe\",\"type\":\"CategoricalAxis\"},{\"id\":\"838812ee-d21c-4b92-9316-0df29030af7a\",\"type\":\"LinearAxis\"},{\"id\":\"055335a1-7365-4d57-becf-25896fb57974\",\"type\":\"Grid\"}],\"title\":{\"id\":\"abab88e9-410c-4568-bdd2-b02891967738\",\"type\":\"Title\"},\"tool_events\":{\"id\":\"4e9a1760-7abb-4e59-9a89-961059a2426e\",\"type\":\"ToolEvents\"},\"toolbar\":{\"id\":\"19430703-d1a4-4589-ac94-60ba24180a9b\",\"type\":\"Toolbar\"},\"x_mapper_type\":\"auto\",\"x_range\":{\"id\":\"2afbaf07-f540-475b-9278-ad82f9f55125\",\"type\":\"FactorRange\"},\"y_mapper_type\":\"auto\",\"y_range\":{\"id\":\"222e60cd-e4a8-4446-a118-579de74bd652\",\"type\":\"Range1d\"}},\"id\":\"058c8a24-601a-4e94-bad1-2d5e02eed47a\",\"subtype\":\"Chart\",\"type\":\"Plot\"},{\"attributes\":{\"fill_alpha\":{\"field\":\"fill_alpha\"},\"fill_color\":{\"field\":\"color\"},\"height\":{\"field\":\"height\",\"units\":\"data\"},\"line_color\":{\"field\":\"line_color\"},\"width\":{\"field\":\"width\",\"units\":\"data\"},\"x\":{\"field\":\"x\"},\"y\":{\"field\":\"y\"}},\"id\":\"0d94ea1a-ee1f-4353-8b79-076406f5f8f0\",\"type\":\"Rect\"},{\"attributes\":{\"fill_alpha\":{\"field\":\"fill_alpha\"},\"fill_color\":{\"field\":\"color\"},\"height\":{\"field\":\"height\",\"units\":\"data\"},\"line_color\":{\"field\":\"line_color\"},\"width\":{\"field\":\"width\",\"units\":\"data\"},\"x\":{\"field\":\"x\"},\"y\":{\"field\":\"y\"}},\"id\":\"214a40ad-580b-4902-90bc-efd063159a2a\",\"type\":\"Rect\"},{\"attributes\":{\"callback\":null,\"column_names\":[\"line_color\",\"line_alpha\",\"color\",\"fill_alpha\",\"height\",\"width\",\"y\",\"x\",\"label\"],\"data\":{\"Female\":[\"Male\"],\"OutcomeType\":[\"Euthanasia\"],\"chart_index\":[{\"Female\":\"Male\",\"OutcomeType\":\"Euthanasia\"}],\"color\":[\"#5ab738\"],\"fill_alpha\":[0.8],\"height\":[821.0],\"label\":[{\"Female\":\"Male\",\"OutcomeType\":\"Euthanasia\"}],\"line_alpha\":[1.0],\"line_color\":[\"white\"],\"width\":[0.8],\"x\":[\"Euthanasia\"],\"y\":[1043.5]}},\"id\":\"441b9d98-f96f-4613-b3f0-d7386cb02886\",\"type\":\"ColumnDataSource\"},{\"attributes\":{\"plot\":null,\"text\":\"Outcomes by Female\"},\"id\":\"abab88e9-410c-4568-bdd2-b02891967738\",\"type\":\"Title\"},{\"attributes\":{\"data_source\":{\"id\":\"a86d182d-9bdb-40e4-a2f3-d26c85dea1da\",\"type\":\"ColumnDataSource\"},\"glyph\":{\"id\":\"fd163a91-97bd-4ae5-9d30-06a6beb9cd79\",\"type\":\"Rect\"},\"hover_glyph\":null,\"muted_glyph\":null},\"id\":\"9f28bbf0-28e0-46ce-aeac-5c0989583e9c\",\"type\":\"GlyphRenderer\"},{\"attributes\":{\"plot\":{\"id\":\"058c8a24-601a-4e94-bad1-2d5e02eed47a\",\"subtype\":\"Chart\",\"type\":\"Plot\"}},\"id\":\"8c038763-54ea-4f48-8e64-dfe1d8a7f6ca\",\"type\":\"PanTool\"},{\"attributes\":{\"fill_alpha\":{\"field\":\"fill_alpha\"},\"fill_color\":{\"field\":\"color\"},\"height\":{\"field\":\"height\",\"units\":\"data\"},\"line_color\":{\"field\":\"line_color\"},\"width\":{\"field\":\"width\",\"units\":\"data\"},\"x\":{\"field\":\"x\"},\"y\":{\"field\":\"y\"}},\"id\":\"2741a721-24b9-4ce6-b122-74596fc5e689\",\"type\":\"Rect\"},{\"attributes\":{\"plot\":{\"id\":\"058c8a24-601a-4e94-bad1-2d5e02eed47a\",\"subtype\":\"Chart\",\"type\":\"Plot\"}},\"id\":\"9ca84fb4-dbed-41d7-a979-9ca765020ee0\",\"type\":\"SaveTool\"},{\"attributes\":{\"callback\":null,\"column_names\":[\"line_color\",\"line_alpha\",\"color\",\"fill_alpha\",\"height\",\"width\",\"y\",\"x\",\"label\"],\"data\":{\"Female\":[\"Female\"],\"OutcomeType\":[\"Transfer\"],\"chart_index\":[{\"Female\":\"Female\",\"OutcomeType\":\"Transfer\"}],\"color\":[\"#f22c40\"],\"fill_alpha\":[0.8],\"height\":[4186.0],\"label\":[{\"Female\":\"Female\",\"OutcomeType\":\"Transfer\"}],\"line_alpha\":[1.0],\"line_color\":[\"white\"],\"width\":[0.8],\"x\":[\"Transfer\"],\"y\":[6374.0]}},\"id\":\"ab3fbc8e-d21e-4de6-8834-e7347ebcfaf4\",\"type\":\"ColumnDataSource\"},{\"attributes\":{\"dimension\":1,\"plot\":{\"id\":\"058c8a24-601a-4e94-bad1-2d5e02eed47a\",\"subtype\":\"Chart\",\"type\":\"Plot\"},\"ticker\":{\"id\":\"bfc4ef19-efdb-4115-9fa2-b0b3e1b1faa1\",\"type\":\"BasicTicker\"}},\"id\":\"055335a1-7365-4d57-becf-25896fb57974\",\"type\":\"Grid\"},{\"attributes\":{\"callback\":null,\"column_names\":[\"line_color\",\"line_alpha\",\"color\",\"fill_alpha\",\"height\",\"width\",\"y\",\"x\",\"label\"],\"data\":{\"Female\":[\"Female\"],\"OutcomeType\":[\"Adoption\"],\"chart_index\":[{\"Female\":\"Female\",\"OutcomeType\":\"Adoption\"}],\"color\":[\"#f22c40\"],\"fill_alpha\":[0.8],\"height\":[5389.0],\"label\":[{\"Female\":\"Female\",\"OutcomeType\":\"Adoption\"}],\"line_alpha\":[1.0],\"line_color\":[\"white\"],\"width\":[0.8],\"x\":[\"Adoption\"],\"y\":[8074.5]}},\"id\":\"d5a000a6-6859-489b-b87c-6c03cd4a4bae\",\"type\":\"ColumnDataSource\"},{\"attributes\":{\"callback\":null,\"column_names\":[\"line_color\",\"line_alpha\",\"color\",\"fill_alpha\",\"height\",\"width\",\"y\",\"x\",\"label\"],\"data\":{\"Female\":[\"Unknown\"],\"OutcomeType\":[\"Return_to_owner\"],\"chart_index\":[{\"Female\":\"Unknown\",\"OutcomeType\":\"Return_to_owner\"}],\"color\":[\"#407ee7\"],\"fill_alpha\":[0.8],\"height\":[12.0],\"label\":[{\"Female\":\"Unknown\",\"OutcomeType\":\"Return_to_owner\"}],\"line_alpha\":[1.0],\"line_color\":[\"white\"],\"width\":[0.8],\"x\":[\"Return_to_owner\"],\"y\":[4780.0]}},\"id\":\"babddcba-5f46-43c5-b989-8f5ac8f3257a\",\"type\":\"ColumnDataSource\"},{\"attributes\":{\"data_source\":{\"id\":\"bab92321-148e-4e51-8a08-d8d10d6a18e3\",\"type\":\"ColumnDataSource\"},\"glyph\":{\"id\":\"7c698008-7716-4b48-a891-0ca456c337c9\",\"type\":\"Rect\"},\"hover_glyph\":null,\"muted_glyph\":null},\"id\":\"8d08ccde-793e-4caf-9ab0-897b411bdacc\",\"type\":\"GlyphRenderer\"},{\"attributes\":{\"data_source\":{\"id\":\"34de917a-087e-4732-8a62-e346e458dbaa\",\"type\":\"ColumnDataSource\"},\"glyph\":{\"id\":\"343594aa-6071-49b0-b816-94438d07cf3f\",\"type\":\"Rect\"},\"hover_glyph\":null,\"muted_glyph\":null},\"id\":\"b9b79058-8ae4-4423-b77d-58f91344aa23\",\"type\":\"GlyphRenderer\"},{\"attributes\":{\"fill_alpha\":{\"field\":\"fill_alpha\"},\"fill_color\":{\"field\":\"color\"},\"height\":{\"field\":\"height\",\"units\":\"data\"},\"line_color\":{\"field\":\"line_color\"},\"width\":{\"field\":\"width\",\"units\":\"data\"},\"x\":{\"field\":\"x\"},\"y\":{\"field\":\"y\"}},\"id\":\"fd163a91-97bd-4ae5-9d30-06a6beb9cd79\",\"type\":\"Rect\"},{\"attributes\":{},\"id\":\"bad3613f-5778-4617-8c62-bb528db8cd01\",\"type\":\"CategoricalTickFormatter\"},{\"attributes\":{},\"id\":\"bfc4ef19-efdb-4115-9fa2-b0b3e1b1faa1\",\"type\":\"BasicTicker\"},{\"attributes\":{\"fill_alpha\":{\"field\":\"fill_alpha\"},\"fill_color\":{\"field\":\"color\"},\"height\":{\"field\":\"height\",\"units\":\"data\"},\"line_color\":{\"field\":\"line_color\"},\"width\":{\"field\":\"width\",\"units\":\"data\"},\"x\":{\"field\":\"x\"},\"y\":{\"field\":\"y\"}},\"id\":\"7c698008-7716-4b48-a891-0ca456c337c9\",\"type\":\"Rect\"},{\"attributes\":{\"fill_alpha\":{\"field\":\"fill_alpha\"},\"fill_color\":{\"field\":\"color\"},\"height\":{\"field\":\"height\",\"units\":\"data\"},\"line_color\":{\"field\":\"line_color\"},\"width\":{\"field\":\"width\",\"units\":\"data\"},\"x\":{\"field\":\"x\"},\"y\":{\"field\":\"y\"}},\"id\":\"c2770ccc-2f04-4112-bd93-9b8deb80f93e\",\"type\":\"Rect\"},{\"attributes\":{\"fill_alpha\":{\"field\":\"fill_alpha\"},\"fill_color\":{\"field\":\"color\"},\"height\":{\"field\":\"height\",\"units\":\"data\"},\"line_color\":{\"field\":\"line_color\"},\"width\":{\"field\":\"width\",\"units\":\"data\"},\"x\":{\"field\":\"x\"},\"y\":{\"field\":\"y\"}},\"id\":\"c5284e25-f524-433e-a0ae-5e73c6a258b9\",\"type\":\"Rect\"},{\"attributes\":{},\"id\":\"17fb34c2-b03f-4c74-abeb-477bfa40e171\",\"type\":\"CategoricalTicker\"},{\"attributes\":{\"callback\":null,\"column_names\":[\"line_color\",\"line_alpha\",\"color\",\"fill_alpha\",\"height\",\"width\",\"y\",\"x\",\"label\"],\"data\":{\"Female\":[\"Unknown\"],\"OutcomeType\":[\"Died\"],\"chart_index\":[{\"Female\":\"Unknown\",\"OutcomeType\":\"Died\"}],\"color\":[\"#407ee7\"],\"fill_alpha\":[0.8],\"height\":[25.0],\"label\":[{\"Female\":\"Unknown\",\"OutcomeType\":\"Died\"}],\"line_alpha\":[1.0],\"line_color\":[\"white\"],\"width\":[0.8],\"x\":[\"Died\"],\"y\":[110.5]}},\"id\":\"a86d182d-9bdb-40e4-a2f3-d26c85dea1da\",\"type\":\"ColumnDataSource\"}],\"root_ids\":[\"058c8a24-601a-4e94-bad1-2d5e02eed47a\"]},\"title\":\"Bokeh Application\",\"version\":\"0.12.5\"}};\n",
       "            var render_items = [{\"docid\":\"eaa0552b-1da7-4597-bfe8-e2a06f5c9756\",\"elementid\":\"7f773497-e19a-4c4f-9aa5-304c10051c28\",\"modelid\":\"058c8a24-601a-4e94-bad1-2d5e02eed47a\"}];\n",
       "            \n",
       "            Bokeh.embed.embed_items(docs_json, render_items);\n",
       "          };\n",
       "          if (document.readyState != \"loading\") fn();\n",
       "          else document.addEventListener(\"DOMContentLoaded\", fn);\n",
       "        })();\n",
       "      },\n",
       "      function(Bokeh) {\n",
       "      }\n",
       "    ];\n",
       "  \n",
       "    function run_inline_js() {\n",
       "      \n",
       "      if ((window.Bokeh !== undefined) || (force === true)) {\n",
       "        for (var i = 0; i < inline_js.length; i++) {\n",
       "          inline_js[i](window.Bokeh);\n",
       "        }if (force === true) {\n",
       "          display_loaded();\n",
       "        }} else if (Date.now() < window._bokeh_timeout) {\n",
       "        setTimeout(run_inline_js, 100);\n",
       "      } else if (!window._bokeh_failed_load) {\n",
       "        console.log(\"Bokeh: BokehJS failed to load within specified timeout.\");\n",
       "        window._bokeh_failed_load = true;\n",
       "      } else if (force !== true) {\n",
       "        var cell = $(document.getElementById(\"7f773497-e19a-4c4f-9aa5-304c10051c28\")).parents('.cell').data().cell;\n",
       "        cell.output_area.append_execute_result(NB_LOAD_WARNING)\n",
       "      }\n",
       "  \n",
       "    }\n",
       "  \n",
       "    if (window._bokeh_is_loading === 0) {\n",
       "      console.log(\"Bokeh: BokehJS loaded, going straight to plotting\");\n",
       "      run_inline_js();\n",
       "    } else {\n",
       "      load_libs(js_urls, function() {\n",
       "        console.log(\"Bokeh: BokehJS plotting callback run at\", now());\n",
       "        run_inline_js();\n",
       "      });\n",
       "    }\n",
       "  }(this));\n",
       "</script>"
      ]
     },
     "metadata": {},
     "output_type": "display_data"
    }
   ],
   "source": [
    "p = Bar(data, label='OutcomeType', values = 'Female', agg='count', stack='Female',\n",
    "        title=\"Outcomes by Female\", legend='top_right')\n",
    "show(p)"
   ]
  },
  {
   "cell_type": "code",
   "execution_count": 13,
   "metadata": {
    "scrolled": true
   },
   "outputs": [
    {
     "data": {
      "text/plain": [
       "<matplotlib.axes._subplots.AxesSubplot at 0x11e608c50>"
      ]
     },
     "execution_count": 13,
     "metadata": {},
     "output_type": "execute_result"
    },
    {
     "data": {
      "image/png": "[encoded data removed]",
      "text/plain": [
       "<matplotlib.figure.Figure at 0x11e6081d0>"
      ]
     },
     "metadata": {},
     "output_type": "display_data"
    }
   ],
   "source": [
    "#Purebred/mixed\n",
    "\n",
    "mixed_breed = data['MixedBreed'].value_counts() \n",
    "mixed_breed.plot(kind='bar',color='#34ABD8',rot=0)"
   ]
  },
  {
   "cell_type": "code",
   "execution_count": 14,
   "metadata": {},
   "outputs": [
    {
     "data": {
      "text/html": [
       "\n",
       "\n",
       "    <div class=\"bk-root\">\n",
       "        <div class=\"bk-plotdiv\" id=\"51b60699-7882-43e9-8aac-d0455a53d1c4\"></div>\n",
       "    </div>\n",
       "<script type=\"text/javascript\">\n",
       "  \n",
       "  (function(global) {\n",
       "    function now() {\n",
       "      return new Date();\n",
       "    }\n",
       "  \n",
       "    var force = false;\n",
       "  \n",
       "    if (typeof (window._bokeh_onload_callbacks) === \"undefined\" || force === true) {\n",
       "      window._bokeh_onload_callbacks = [];\n",
       "      window._bokeh_is_loading = undefined;\n",
       "    }\n",
       "  \n",
       "  \n",
       "    \n",
       "    if (typeof (window._bokeh_timeout) === \"undefined\" || force === true) {\n",
       "      window._bokeh_timeout = Date.now() + 0;\n",
       "      window._bokeh_failed_load = false;\n",
       "    }\n",
       "  \n",
       "    var NB_LOAD_WARNING = {'data': {'text/html':\n",
       "       \"<div style='background-color: #fdd'>\\n\"+\n",
       "       \"<p>\\n\"+\n",
       "       \"BokehJS does not appear to have successfully loaded. If loading BokehJS from CDN, this \\n\"+\n",
       "       \"may be due to a slow or bad network connection. Possible fixes:\\n\"+\n",
       "       \"</p>\\n\"+\n",
       "       \"<ul>\\n\"+\n",
       "       \"<li>re-rerun `output_notebook()` to attempt to load from CDN again, or</li>\\n\"+\n",
       "       \"<li>use INLINE resources instead, as so:</li>\\n\"+\n",
       "       \"</ul>\\n\"+\n",
       "       \"<code>\\n\"+\n",
       "       \"from bokeh.resources import INLINE\\n\"+\n",
       "       \"output_notebook(resources=INLINE)\\n\"+\n",
       "       \"</code>\\n\"+\n",
       "       \"</div>\"}};\n",
       "  \n",
       "    function display_loaded() {\n",
       "      if (window.Bokeh !== undefined) {\n",
       "        var el = document.getElementById(\"51b60699-7882-43e9-8aac-d0455a53d1c4\");\n",
       "        el.textContent = \"BokehJS \" + Bokeh.version + \" successfully loaded.\";\n",
       "      } else if (Date.now() < window._bokeh_timeout) {\n",
       "        setTimeout(display_loaded, 100)\n",
       "      }\n",
       "    }\n",
       "  \n",
       "    function run_callbacks() {\n",
       "      window._bokeh_onload_callbacks.forEach(function(callback) { callback() });\n",
       "      delete window._bokeh_onload_callbacks\n",
       "      console.info(\"Bokeh: all callbacks have finished\");\n",
       "    }\n",
       "  \n",
       "    function load_libs(js_urls, callback) {\n",
       "      window._bokeh_onload_callbacks.push(callback);\n",
       "      if (window._bokeh_is_loading > 0) {\n",
       "        console.log(\"Bokeh: BokehJS is being loaded, scheduling callback at\", now());\n",
       "        return null;\n",
       "      }\n",
       "      if (js_urls == null || js_urls.length === 0) {\n",
       "        run_callbacks();\n",
       "        return null;\n",
       "      }\n",
       "      console.log(\"Bokeh: BokehJS not loaded, scheduling load and callback at\", now());\n",
       "      window._bokeh_is_loading = js_urls.length;\n",
       "      for (var i = 0; i < js_urls.length; i++) {\n",
       "        var url = js_urls[i];\n",
       "        var s = document.createElement('script');\n",
       "        s.src = url;\n",
       "        s.async = false;\n",
       "        s.onreadystatechange = s.onload = function() {\n",
       "          window._bokeh_is_loading--;\n",
       "          if (window._bokeh_is_loading === 0) {\n",
       "            console.log(\"Bokeh: all BokehJS libraries loaded\");\n",
       "            run_callbacks()\n",
       "          }\n",
       "        };\n",
       "        s.onerror = function() {\n",
       "          console.warn(\"failed to load library \" + url);\n",
       "        };\n",
       "        console.log(\"Bokeh: injecting script tag for BokehJS library: \", url);\n",
       "        document.getElementsByTagName(\"head\")[0].appendChild(s);\n",
       "      }\n",
       "    };var element = document.getElementById(\"51b60699-7882-43e9-8aac-d0455a53d1c4\");\n",
       "    if (element == null) {\n",
       "      console.log(\"Bokeh: ERROR: autoload.js configured with elementid '51b60699-7882-43e9-8aac-d0455a53d1c4' but no matching script tag was found. \")\n",
       "      return false;\n",
       "    }\n",
       "  \n",
       "    var js_urls = [];\n",
       "  \n",
       "    var inline_js = [\n",
       "      function(Bokeh) {\n",
       "        (function() {\n",
       "          var fn = function() {\n",
       "            var docs_json = {\"b68eac66-ea0e-4c38-b8fe-7fd8a1985640\":{\"roots\":{\"references\":[{\"attributes\":{\"plot\":{\"id\":\"0a42c119-5680-4ee7-8ed7-045d89b59084\",\"subtype\":\"Chart\",\"type\":\"Plot\"}},\"id\":\"cde57448-ddcc-4b4d-b7c4-5881a4b836ae\",\"type\":\"HelpTool\"},{\"attributes\":{\"below\":[{\"id\":\"258b4bb3-1b8d-4507-aa46-7bb90805e6b0\",\"type\":\"CategoricalAxis\"}],\"css_classes\":null,\"left\":[{\"id\":\"2072983a-2551-4e8b-8c4a-7602d72d708e\",\"type\":\"LinearAxis\"}],\"renderers\":[{\"id\":\"fec09a49-ced3-4bb8-b518-a8dba89e6234\",\"type\":\"BoxAnnotation\"},{\"id\":\"9f9ce9a4-f698-4dc9-8e2c-f02cc4677ae5\",\"type\":\"GlyphRenderer\"},{\"id\":\"ec53c229-16a6-4231-b3ce-4e7f7bbb5919\",\"type\":\"GlyphRenderer\"},{\"id\":\"a3b769ab-1302-4a6c-a67d-4864e9ae459c\",\"type\":\"GlyphRenderer\"},{\"id\":\"362d6623-1f7d-41a8-b334-45d7b826cd27\",\"type\":\"GlyphRenderer\"},{\"id\":\"35e6dd93-4bc8-418f-9cbb-6a5509b70b32\",\"type\":\"GlyphRenderer\"},{\"id\":\"b217d335-e208-4f71-8bcf-202df44942ef\",\"type\":\"GlyphRenderer\"},{\"id\":\"e1b5c001-7f61-4f43-b974-5e551b6673c6\",\"type\":\"GlyphRenderer\"},{\"id\":\"ad953525-0178-4627-b91f-5214b4723e5a\",\"type\":\"GlyphRenderer\"},{\"id\":\"9471002c-ced3-4dad-9255-d454fb5a8e30\",\"type\":\"GlyphRenderer\"},{\"id\":\"52047337-7c33-4ec3-ad40-575884f481cb\",\"type\":\"GlyphRenderer\"},{\"id\":\"7ad35192-d098-4f63-b3b3-7c24b2e5cdb6\",\"type\":\"GlyphRenderer\"},{\"id\":\"425a3fec-a209-4ec0-8c46-0c6b03361fc2\",\"type\":\"GlyphRenderer\"},{\"id\":\"fc793a39-bff2-4bc5-b6ea-d0020168a321\",\"type\":\"GlyphRenderer\"},{\"id\":\"14aac39b-017c-403f-b10d-a07bba176f65\",\"type\":\"GlyphRenderer\"},{\"id\":\"987e86ba-a8be-4b23-b7d2-7c6a5692505c\",\"type\":\"GlyphRenderer\"},{\"id\":\"14c9aa6b-985f-410b-8d83-72cda1208029\",\"type\":\"Legend\"},{\"id\":\"258b4bb3-1b8d-4507-aa46-7bb90805e6b0\",\"type\":\"CategoricalAxis\"},{\"id\":\"2072983a-2551-4e8b-8c4a-7602d72d708e\",\"type\":\"LinearAxis\"},{\"id\":\"c81199d1-ac07-4635-87f6-0b91c58acb5f\",\"type\":\"Grid\"}],\"title\":{\"id\":\"4e68d631-177c-447b-a359-5a22fc1cbbde\",\"type\":\"Title\"},\"tool_events\":{\"id\":\"82969f27-916b-4043-81ed-fa712155dbf0\",\"type\":\"ToolEvents\"},\"toolbar\":{\"id\":\"bee010fd-6412-4baa-9c51-c6a9d1890857\",\"type\":\"Toolbar\"},\"x_mapper_type\":\"auto\",\"x_range\":{\"id\":\"a24f8151-8842-4874-94d6-55a07f9cd9e3\",\"type\":\"FactorRange\"},\"y_mapper_type\":\"auto\",\"y_range\":{\"id\":\"79250c44-e145-425f-9239-1d544beec1ab\",\"type\":\"Range1d\"}},\"id\":\"0a42c119-5680-4ee7-8ed7-045d89b59084\",\"subtype\":\"Chart\",\"type\":\"Plot\"},{\"attributes\":{\"data_source\":{\"id\":\"32a80adc-1d9d-4cc9-bc86-1d06eba707ed\",\"type\":\"ColumnDataSource\"},\"glyph\":{\"id\":\"9b179794-2ed4-4ef5-9372-91faf1f9a6a0\",\"type\":\"Rect\"},\"hover_glyph\":null,\"muted_glyph\":null},\"id\":\"b217d335-e208-4f71-8bcf-202df44942ef\",\"type\":\"GlyphRenderer\"},{\"attributes\":{\"label\":{\"value\":\"Known Breed Combo\"},\"renderers\":[{\"id\":\"35e6dd93-4bc8-418f-9cbb-6a5509b70b32\",\"type\":\"GlyphRenderer\"}]},\"id\":\"59b8e406-8e81-46d4-b9db-9bd7b772295f\",\"type\":\"LegendItem\"},{\"attributes\":{\"fill_alpha\":{\"field\":\"fill_alpha\"},\"fill_color\":{\"field\":\"color\"},\"height\":{\"field\":\"height\",\"units\":\"data\"},\"line_color\":{\"field\":\"line_color\"},\"width\":{\"field\":\"width\",\"units\":\"data\"},\"x\":{\"field\":\"x\"},\"y\":{\"field\":\"y\"}},\"id\":\"58971a62-40f7-4bd9-bf86-bc12c2df1419\",\"type\":\"Rect\"},{\"attributes\":{\"items\":[{\"id\":\"7a3ded0d-158a-4af6-b5b3-10c03618da19\",\"type\":\"LegendItem\"},{\"id\":\"59b8e406-8e81-46d4-b9db-9bd7b772295f\",\"type\":\"LegendItem\"},{\"id\":\"4b1fbfdd-e4e2-44a8-9648-97a8f6df74ce\",\"type\":\"LegendItem\"}],\"plot\":{\"id\":\"0a42c119-5680-4ee7-8ed7-045d89b59084\",\"subtype\":\"Chart\",\"type\":\"Plot\"}},\"id\":\"14c9aa6b-985f-410b-8d83-72cda1208029\",\"type\":\"Legend\"},{\"attributes\":{\"fill_alpha\":{\"field\":\"fill_alpha\"},\"fill_color\":{\"field\":\"color\"},\"height\":{\"field\":\"height\",\"units\":\"data\"},\"line_color\":{\"field\":\"line_color\"},\"width\":{\"field\":\"width\",\"units\":\"data\"},\"x\":{\"field\":\"x\"},\"y\":{\"field\":\"y\"}},\"id\":\"deb8c923-0537-434d-b177-946189be72b9\",\"type\":\"Rect\"},{\"attributes\":{\"active_drag\":\"auto\",\"active_scroll\":\"auto\",\"active_tap\":\"auto\",\"tools\":[{\"id\":\"80488ed2-e04f-4bac-a3ed-1e21ceac8b79\",\"type\":\"PanTool\"},{\"id\":\"c7c72276-f885-49d6-b18c-5014c06434c7\",\"type\":\"WheelZoomTool\"},{\"id\":\"adb52e69-b48f-4fa1-83e3-d1f701ba6f69\",\"type\":\"BoxZoomTool\"},{\"id\":\"ffbe64ad-1c19-46c7-9f0d-ff8e59dfa1cc\",\"type\":\"SaveTool\"},{\"id\":\"e231444f-6421-4abb-9445-586eec98bbad\",\"type\":\"ResetTool\"},{\"id\":\"cde57448-ddcc-4b4d-b7c4-5881a4b836ae\",\"type\":\"HelpTool\"}]},\"id\":\"bee010fd-6412-4baa-9c51-c6a9d1890857\",\"type\":\"Toolbar\"},{\"attributes\":{\"data_source\":{\"id\":\"96322cf0-1580-48eb-b4ec-ec2e9da84355\",\"type\":\"ColumnDataSource\"},\"glyph\":{\"id\":\"2b925b77-63b1-455b-8b62-0cf5f111e221\",\"type\":\"Rect\"},\"hover_glyph\":null,\"muted_glyph\":null},\"id\":\"9471002c-ced3-4dad-9255-d454fb5a8e30\",\"type\":\"GlyphRenderer\"},{\"attributes\":{},\"id\":\"7e85247f-d465-4719-946c-c1419b230f5d\",\"type\":\"CategoricalTicker\"},{\"attributes\":{\"callback\":null,\"column_names\":[\"line_color\",\"line_alpha\",\"color\",\"fill_alpha\",\"height\",\"width\",\"y\",\"x\",\"label\"],\"data\":{\"MixedBreed\":[\"Known Breed Combo\"],\"OutcomeType\":[\"Adoption\"],\"chart_index\":[{\"MixedBreed\":\"Known Breed Combo\",\"OutcomeType\":\"Adoption\"}],\"color\":[\"#f22c40\"],\"fill_alpha\":[0.8],\"height\":[1534.0],\"label\":[{\"MixedBreed\":\"Known Breed Combo\",\"OutcomeType\":\"Adoption\"}],\"line_alpha\":[1.0],\"line_color\":[\"white\"],\"width\":[0.8],\"x\":[\"Adoption\"],\"y\":[10002.0]}},\"id\":\"dd5397c9-4b70-4650-aa17-d0c700c17ec1\",\"type\":\"ColumnDataSource\"},{\"attributes\":{\"label\":{\"value\":\"Nonmixed\"},\"renderers\":[{\"id\":\"b217d335-e208-4f71-8bcf-202df44942ef\",\"type\":\"GlyphRenderer\"}]},\"id\":\"4b1fbfdd-e4e2-44a8-9648-97a8f6df74ce\",\"type\":\"LegendItem\"},{\"attributes\":{\"callback\":null,\"factors\":[\"Adoption\",\"Died\",\"Euthanasia\",\"Return_to_owner\",\"Transfer\"]},\"id\":\"a24f8151-8842-4874-94d6-55a07f9cd9e3\",\"type\":\"FactorRange\"},{\"attributes\":{\"overlay\":{\"id\":\"fec09a49-ced3-4bb8-b518-a8dba89e6234\",\"type\":\"BoxAnnotation\"},\"plot\":{\"id\":\"0a42c119-5680-4ee7-8ed7-045d89b59084\",\"subtype\":\"Chart\",\"type\":\"Plot\"}},\"id\":\"adb52e69-b48f-4fa1-83e3-d1f701ba6f69\",\"type\":\"BoxZoomTool\"},{\"attributes\":{\"callback\":null,\"column_names\":[\"line_color\",\"line_alpha\",\"color\",\"fill_alpha\",\"height\",\"width\",\"y\",\"x\",\"label\"],\"data\":{\"MixedBreed\":[\"Nonmixed\"],\"OutcomeType\":[\"Adoption\"],\"chart_index\":[{\"MixedBreed\":\"Nonmixed\",\"OutcomeType\":\"Adoption\"}],\"color\":[\"#407ee7\"],\"fill_alpha\":[0.8],\"height\":[443.0],\"label\":[{\"MixedBreed\":\"Nonmixed\",\"OutcomeType\":\"Adoption\"}],\"line_alpha\":[1.0],\"line_color\":[\"white\"],\"width\":[0.8],\"x\":[\"Adoption\"],\"y\":[9013.5]}},\"id\":\"32a80adc-1d9d-4cc9-bc86-1d06eba707ed\",\"type\":\"ColumnDataSource\"},{\"attributes\":{\"plot\":{\"id\":\"0a42c119-5680-4ee7-8ed7-045d89b59084\",\"subtype\":\"Chart\",\"type\":\"Plot\"}},\"id\":\"e231444f-6421-4abb-9445-586eec98bbad\",\"type\":\"ResetTool\"},{\"attributes\":{\"callback\":null,\"column_names\":[\"line_color\",\"line_alpha\",\"color\",\"fill_alpha\",\"height\",\"width\",\"y\",\"x\",\"label\"],\"data\":{\"MixedBreed\":[\"Nonmixed\"],\"OutcomeType\":[\"Transfer\"],\"chart_index\":[{\"MixedBreed\":\"Nonmixed\",\"OutcomeType\":\"Transfer\"}],\"color\":[\"#407ee7\"],\"fill_alpha\":[0.8],\"height\":[436.0],\"label\":[{\"MixedBreed\":\"Nonmixed\",\"OutcomeType\":\"Transfer\"}],\"line_alpha\":[1.0],\"line_color\":[\"white\"],\"width\":[0.8],\"x\":[\"Transfer\"],\"y\":[9204.0]}},\"id\":\"cb430648-2d87-444b-9db9-07bc0512ede7\",\"type\":\"ColumnDataSource\"},{\"attributes\":{\"callback\":null,\"column_names\":[\"line_color\",\"line_alpha\",\"color\",\"fill_alpha\",\"height\",\"width\",\"y\",\"x\",\"label\"],\"data\":{\"MixedBreed\":[\"Mixed Breed\"],\"OutcomeType\":[\"Adoption\"],\"chart_index\":[{\"MixedBreed\":\"Mixed Breed\",\"OutcomeType\":\"Adoption\"}],\"color\":[\"#5ab738\"],\"fill_alpha\":[0.8],\"height\":[8792.0],\"label\":[{\"MixedBreed\":\"Mixed Breed\",\"OutcomeType\":\"Adoption\"}],\"line_alpha\":[1.0],\"line_color\":[\"white\"],\"width\":[0.8],\"x\":[\"Adoption\"],\"y\":[4396.0]}},\"id\":\"bc067709-a460-4ebb-a468-ab92bdf6864d\",\"type\":\"ColumnDataSource\"},{\"attributes\":{\"callback\":null,\"column_names\":[\"line_color\",\"line_alpha\",\"color\",\"fill_alpha\",\"height\",\"width\",\"y\",\"x\",\"label\"],\"data\":{\"MixedBreed\":[\"Known Breed Combo\"],\"OutcomeType\":[\"Died\"],\"chart_index\":[{\"MixedBreed\":\"Known Breed Combo\",\"OutcomeType\":\"Died\"}],\"color\":[\"#f22c40\"],\"fill_alpha\":[0.8],\"height\":[9.0],\"label\":[{\"MixedBreed\":\"Known Breed Combo\",\"OutcomeType\":\"Died\"}],\"line_alpha\":[1.0],\"line_color\":[\"white\"],\"width\":[0.8],\"x\":[\"Died\"],\"y\":[192.5]}},\"id\":\"aa974a4e-ea24-4177-8bd2-efc9239ed8ef\",\"type\":\"ColumnDataSource\"},{\"attributes\":{\"plot\":{\"id\":\"0a42c119-5680-4ee7-8ed7-045d89b59084\",\"subtype\":\"Chart\",\"type\":\"Plot\"}},\"id\":\"ffbe64ad-1c19-46c7-9f0d-ff8e59dfa1cc\",\"type\":\"SaveTool\"},{\"attributes\":{\"callback\":null,\"column_names\":[\"line_color\",\"line_alpha\",\"color\",\"fill_alpha\",\"height\",\"width\",\"y\",\"x\",\"label\"],\"data\":{\"MixedBreed\":[\"Known Breed Combo\"],\"OutcomeType\":[\"Euthanasia\"],\"chart_index\":[{\"MixedBreed\":\"Known Breed Combo\",\"OutcomeType\":\"Euthanasia\"}],\"color\":[\"#f22c40\"],\"fill_alpha\":[0.8],\"height\":[127.0],\"label\":[{\"MixedBreed\":\"Known Breed Combo\",\"OutcomeType\":\"Euthanasia\"}],\"line_alpha\":[1.0],\"line_color\":[\"white\"],\"width\":[0.8],\"x\":[\"Euthanasia\"],\"y\":[1427.5]}},\"id\":\"27e1ae12-33c1-46e8-a5c6-47ec4eaa96bf\",\"type\":\"ColumnDataSource\"},{\"attributes\":{\"callback\":null,\"column_names\":[\"line_color\",\"line_alpha\",\"color\",\"fill_alpha\",\"height\",\"width\",\"y\",\"x\",\"label\"],\"data\":{\"MixedBreed\":[\"Mixed Breed\"],\"OutcomeType\":[\"Euthanasia\"],\"chart_index\":[{\"MixedBreed\":\"Mixed Breed\",\"OutcomeType\":\"Euthanasia\"}],\"color\":[\"#5ab738\"],\"fill_alpha\":[0.8],\"height\":[1364.0],\"label\":[{\"MixedBreed\":\"Mixed Breed\",\"OutcomeType\":\"Euthanasia\"}],\"line_alpha\":[1.0],\"line_color\":[\"white\"],\"width\":[0.8],\"x\":[\"Euthanasia\"],\"y\":[682.0]}},\"id\":\"9617fab3-6a99-4e0e-b620-b4c9d47d65d4\",\"type\":\"ColumnDataSource\"},{\"attributes\":{\"callback\":null,\"column_names\":[\"line_color\",\"line_alpha\",\"color\",\"fill_alpha\",\"height\",\"width\",\"y\",\"x\",\"label\"],\"data\":{\"MixedBreed\":[\"Known Breed Combo\"],\"OutcomeType\":[\"Return_to_owner\"],\"chart_index\":[{\"MixedBreed\":\"Known Breed Combo\",\"OutcomeType\":\"Return_to_owner\"}],\"color\":[\"#f22c40\"],\"fill_alpha\":[0.8],\"height\":[636.0],\"label\":[{\"MixedBreed\":\"Known Breed Combo\",\"OutcomeType\":\"Return_to_owner\"}],\"line_alpha\":[1.0],\"line_color\":[\"white\"],\"width\":[0.8],\"x\":[\"Return_to_owner\"],\"y\":[4028.0]}},\"id\":\"fa51a704-06a1-4d16-9f0f-e69b9b84a725\",\"type\":\"ColumnDataSource\"},{\"attributes\":{\"fill_alpha\":{\"field\":\"fill_alpha\"},\"fill_color\":{\"field\":\"color\"},\"height\":{\"field\":\"height\",\"units\":\"data\"},\"line_color\":{\"field\":\"line_color\"},\"width\":{\"field\":\"width\",\"units\":\"data\"},\"x\":{\"field\":\"x\"},\"y\":{\"field\":\"y\"}},\"id\":\"af83c855-4708-4ffe-bee6-bd00853e5ebf\",\"type\":\"Rect\"},{\"attributes\":{\"data_source\":{\"id\":\"dd5397c9-4b70-4650-aa17-d0c700c17ec1\",\"type\":\"ColumnDataSource\"},\"glyph\":{\"id\":\"ad45f733-d9c7-4153-aabb-ad13d8089824\",\"type\":\"Rect\"},\"hover_glyph\":null,\"muted_glyph\":null},\"id\":\"e1b5c001-7f61-4f43-b974-5e551b6673c6\",\"type\":\"GlyphRenderer\"},{\"attributes\":{\"fill_alpha\":{\"field\":\"fill_alpha\"},\"fill_color\":{\"field\":\"color\"},\"height\":{\"field\":\"height\",\"units\":\"data\"},\"line_color\":{\"field\":\"line_color\"},\"width\":{\"field\":\"width\",\"units\":\"data\"},\"x\":{\"field\":\"x\"},\"y\":{\"field\":\"y\"}},\"id\":\"9037b5aa-199f-4d57-9f50-d1af07ce42a1\",\"type\":\"Rect\"},{\"attributes\":{\"axis_label\":\"Outcometype\",\"formatter\":{\"id\":\"a7a21d1b-b8a0-4af5-9bb6-6b8538d81ef1\",\"type\":\"CategoricalTickFormatter\"},\"major_label_orientation\":0.7853981633974483,\"plot\":{\"id\":\"0a42c119-5680-4ee7-8ed7-045d89b59084\",\"subtype\":\"Chart\",\"type\":\"Plot\"},\"ticker\":{\"id\":\"7e85247f-d465-4719-946c-c1419b230f5d\",\"type\":\"CategoricalTicker\"}},\"id\":\"258b4bb3-1b8d-4507-aa46-7bb90805e6b0\",\"type\":\"CategoricalAxis\"},{\"attributes\":{\"callback\":null,\"column_names\":[\"line_color\",\"line_alpha\",\"color\",\"fill_alpha\",\"height\",\"width\",\"y\",\"x\",\"label\"],\"data\":{\"MixedBreed\":[\"Mixed Breed\"],\"OutcomeType\":[\"Return_to_owner\"],\"chart_index\":[{\"MixedBreed\":\"Mixed Breed\",\"OutcomeType\":\"Return_to_owner\"}],\"color\":[\"#5ab738\"],\"fill_alpha\":[0.8],\"height\":[3710.0],\"label\":[{\"MixedBreed\":\"Mixed Breed\",\"OutcomeType\":\"Return_to_owner\"}],\"line_alpha\":[1.0],\"line_color\":[\"white\"],\"width\":[0.8],\"x\":[\"Return_to_owner\"],\"y\":[1855.0]}},\"id\":\"94305964-963e-42e2-b7fc-ee3f9dadcc4c\",\"type\":\"ColumnDataSource\"},{\"attributes\":{\"data_source\":{\"id\":\"94305964-963e-42e2-b7fc-ee3f9dadcc4c\",\"type\":\"ColumnDataSource\"},\"glyph\":{\"id\":\"f95dcd55-b512-435c-85b5-9d445cc85b13\",\"type\":\"Rect\"},\"hover_glyph\":null,\"muted_glyph\":null},\"id\":\"9f9ce9a4-f698-4dc9-8e2c-f02cc4677ae5\",\"type\":\"GlyphRenderer\"},{\"attributes\":{\"data_source\":{\"id\":\"e40358c7-062e-40ce-be94-238a76d904eb\",\"type\":\"ColumnDataSource\"},\"glyph\":{\"id\":\"d89c1975-d4f6-4b9a-89c8-61d985ef5169\",\"type\":\"Rect\"},\"hover_glyph\":null,\"muted_glyph\":null},\"id\":\"14aac39b-017c-403f-b10d-a07bba176f65\",\"type\":\"GlyphRenderer\"},{\"attributes\":{\"dimension\":1,\"plot\":{\"id\":\"0a42c119-5680-4ee7-8ed7-045d89b59084\",\"subtype\":\"Chart\",\"type\":\"Plot\"},\"ticker\":{\"id\":\"58675fa5-4556-4141-9456-cbecb60018fe\",\"type\":\"BasicTicker\"}},\"id\":\"c81199d1-ac07-4635-87f6-0b91c58acb5f\",\"type\":\"Grid\"},{\"attributes\":{\"data_source\":{\"id\":\"cb430648-2d87-444b-9db9-07bc0512ede7\",\"type\":\"ColumnDataSource\"},\"glyph\":{\"id\":\"86cfe13c-a5d8-4317-9371-8bd02378249e\",\"type\":\"Rect\"},\"hover_glyph\":null,\"muted_glyph\":null},\"id\":\"7ad35192-d098-4f63-b3b3-7c24b2e5cdb6\",\"type\":\"GlyphRenderer\"},{\"attributes\":{\"fill_alpha\":{\"field\":\"fill_alpha\"},\"fill_color\":{\"field\":\"color\"},\"height\":{\"field\":\"height\",\"units\":\"data\"},\"line_color\":{\"field\":\"line_color\"},\"width\":{\"field\":\"width\",\"units\":\"data\"},\"x\":{\"field\":\"x\"},\"y\":{\"field\":\"y\"}},\"id\":\"022e054b-d854-4a4d-9284-ca4369dc6edb\",\"type\":\"Rect\"},{\"attributes\":{\"data_source\":{\"id\":\"5190e691-e784-41c1-a5f7-75e4f7408c43\",\"type\":\"ColumnDataSource\"},\"glyph\":{\"id\":\"58971a62-40f7-4bd9-bf86-bc12c2df1419\",\"type\":\"Rect\"},\"hover_glyph\":null,\"muted_glyph\":null},\"id\":\"fc793a39-bff2-4bc5-b6ea-d0020168a321\",\"type\":\"GlyphRenderer\"},{\"attributes\":{\"label\":{\"value\":\"Mixed Breed\"},\"renderers\":[{\"id\":\"9f9ce9a4-f698-4dc9-8e2c-f02cc4677ae5\",\"type\":\"GlyphRenderer\"}]},\"id\":\"7a3ded0d-158a-4af6-b5b3-10c03618da19\",\"type\":\"LegendItem\"},{\"attributes\":{\"data_source\":{\"id\":\"9617fab3-6a99-4e0e-b620-b4c9d47d65d4\",\"type\":\"ColumnDataSource\"},\"glyph\":{\"id\":\"af83c855-4708-4ffe-bee6-bd00853e5ebf\",\"type\":\"Rect\"},\"hover_glyph\":null,\"muted_glyph\":null},\"id\":\"ec53c229-16a6-4231-b3ce-4e7f7bbb5919\",\"type\":\"GlyphRenderer\"},{\"attributes\":{\"data_source\":{\"id\":\"aa974a4e-ea24-4177-8bd2-efc9239ed8ef\",\"type\":\"ColumnDataSource\"},\"glyph\":{\"id\":\"022e054b-d854-4a4d-9284-ca4369dc6edb\",\"type\":\"Rect\"},\"hover_glyph\":null,\"muted_glyph\":null},\"id\":\"987e86ba-a8be-4b23-b7d2-7c6a5692505c\",\"type\":\"GlyphRenderer\"},{\"attributes\":{\"fill_alpha\":{\"field\":\"fill_alpha\"},\"fill_color\":{\"field\":\"color\"},\"height\":{\"field\":\"height\",\"units\":\"data\"},\"line_color\":{\"field\":\"line_color\"},\"width\":{\"field\":\"width\",\"units\":\"data\"},\"x\":{\"field\":\"x\"},\"y\":{\"field\":\"y\"}},\"id\":\"e9afe5fd-1cd4-4712-8f2c-195aab146e55\",\"type\":\"Rect\"},{\"attributes\":{\"data_source\":{\"id\":\"40de6965-594c-4760-9d60-ece77821845c\",\"type\":\"ColumnDataSource\"},\"glyph\":{\"id\":\"9037b5aa-199f-4d57-9f50-d1af07ce42a1\",\"type\":\"Rect\"},\"hover_glyph\":null,\"muted_glyph\":null},\"id\":\"425a3fec-a209-4ec0-8c46-0c6b03361fc2\",\"type\":\"GlyphRenderer\"},{\"attributes\":{},\"id\":\"82969f27-916b-4043-81ed-fa712155dbf0\",\"type\":\"ToolEvents\"},{\"attributes\":{\"data_source\":{\"id\":\"2dde9f01-5ee9-4fd4-ac7b-0ad9cd0bf0e9\",\"type\":\"ColumnDataSource\"},\"glyph\":{\"id\":\"537ce6f9-b7fb-4100-8c78-27fff7050707\",\"type\":\"Rect\"},\"hover_glyph\":null,\"muted_glyph\":null},\"id\":\"35e6dd93-4bc8-418f-9cbb-6a5509b70b32\",\"type\":\"GlyphRenderer\"},{\"attributes\":{},\"id\":\"a7a21d1b-b8a0-4af5-9bb6-6b8538d81ef1\",\"type\":\"CategoricalTickFormatter\"},{\"attributes\":{\"callback\":null,\"column_names\":[\"line_color\",\"line_alpha\",\"color\",\"fill_alpha\",\"height\",\"width\",\"y\",\"x\",\"label\"],\"data\":{\"MixedBreed\":[\"Nonmixed\"],\"OutcomeType\":[\"Died\"],\"chart_index\":[{\"MixedBreed\":\"Nonmixed\",\"OutcomeType\":\"Died\"}],\"color\":[\"#407ee7\"],\"fill_alpha\":[0.8],\"height\":[8.0],\"label\":[{\"MixedBreed\":\"Nonmixed\",\"OutcomeType\":\"Died\"}],\"line_alpha\":[1.0],\"line_color\":[\"white\"],\"width\":[0.8],\"x\":[\"Died\"],\"y\":[184.0]}},\"id\":\"e40358c7-062e-40ce-be94-238a76d904eb\",\"type\":\"ColumnDataSource\"},{\"attributes\":{\"fill_alpha\":{\"field\":\"fill_alpha\"},\"fill_color\":{\"field\":\"color\"},\"height\":{\"field\":\"height\",\"units\":\"data\"},\"line_color\":{\"field\":\"line_color\"},\"width\":{\"field\":\"width\",\"units\":\"data\"},\"x\":{\"field\":\"x\"},\"y\":{\"field\":\"y\"}},\"id\":\"86cfe13c-a5d8-4317-9371-8bd02378249e\",\"type\":\"Rect\"},{\"attributes\":{\"plot\":{\"id\":\"0a42c119-5680-4ee7-8ed7-045d89b59084\",\"subtype\":\"Chart\",\"type\":\"Plot\"}},\"id\":\"80488ed2-e04f-4bac-a3ed-1e21ceac8b79\",\"type\":\"PanTool\"},{\"attributes\":{\"callback\":null,\"column_names\":[\"line_color\",\"line_alpha\",\"color\",\"fill_alpha\",\"height\",\"width\",\"y\",\"x\",\"label\"],\"data\":{\"MixedBreed\":[\"Mixed Breed\"],\"OutcomeType\":[\"Transfer\"],\"chart_index\":[{\"MixedBreed\":\"Mixed Breed\",\"OutcomeType\":\"Transfer\"}],\"color\":[\"#5ab738\"],\"fill_alpha\":[0.8],\"height\":[8252.0],\"label\":[{\"MixedBreed\":\"Mixed Breed\",\"OutcomeType\":\"Transfer\"}],\"line_alpha\":[1.0],\"line_color\":[\"white\"],\"width\":[0.8],\"x\":[\"Transfer\"],\"y\":[4126.0]}},\"id\":\"d9b75117-be47-4d8b-a10c-81f2106899e3\",\"type\":\"ColumnDataSource\"},{\"attributes\":{\"axis_label\":\"Count( Mixedbreed )\",\"formatter\":{\"id\":\"64b9c594-e3ce-41cc-a86b-45ab0e9e6791\",\"type\":\"BasicTickFormatter\"},\"plot\":{\"id\":\"0a42c119-5680-4ee7-8ed7-045d89b59084\",\"subtype\":\"Chart\",\"type\":\"Plot\"},\"ticker\":{\"id\":\"58675fa5-4556-4141-9456-cbecb60018fe\",\"type\":\"BasicTicker\"}},\"id\":\"2072983a-2551-4e8b-8c4a-7602d72d708e\",\"type\":\"LinearAxis\"},{\"attributes\":{\"plot\":{\"id\":\"0a42c119-5680-4ee7-8ed7-045d89b59084\",\"subtype\":\"Chart\",\"type\":\"Plot\"}},\"id\":\"c7c72276-f885-49d6-b18c-5014c06434c7\",\"type\":\"WheelZoomTool\"},{\"attributes\":{\"data_source\":{\"id\":\"bc067709-a460-4ebb-a468-ab92bdf6864d\",\"type\":\"ColumnDataSource\"},\"glyph\":{\"id\":\"e9afe5fd-1cd4-4712-8f2c-195aab146e55\",\"type\":\"Rect\"},\"hover_glyph\":null,\"muted_glyph\":null},\"id\":\"a3b769ab-1302-4a6c-a67d-4864e9ae459c\",\"type\":\"GlyphRenderer\"},{\"attributes\":{\"fill_alpha\":{\"field\":\"fill_alpha\"},\"fill_color\":{\"field\":\"color\"},\"height\":{\"field\":\"height\",\"units\":\"data\"},\"line_color\":{\"field\":\"line_color\"},\"width\":{\"field\":\"width\",\"units\":\"data\"},\"x\":{\"field\":\"x\"},\"y\":{\"field\":\"y\"}},\"id\":\"f95dcd55-b512-435c-85b5-9d445cc85b13\",\"type\":\"Rect\"},{\"attributes\":{\"plot\":null,\"text\":\"Outcomes by Breed Type\"},\"id\":\"4e68d631-177c-447b-a359-5a22fc1cbbde\",\"type\":\"Title\"},{\"attributes\":{\"fill_alpha\":{\"field\":\"fill_alpha\"},\"fill_color\":{\"field\":\"color\"},\"height\":{\"field\":\"height\",\"units\":\"data\"},\"line_color\":{\"field\":\"line_color\"},\"width\":{\"field\":\"width\",\"units\":\"data\"},\"x\":{\"field\":\"x\"},\"y\":{\"field\":\"y\"}},\"id\":\"4e3d0b43-6553-404a-9697-4e1da161572b\",\"type\":\"Rect\"},{\"attributes\":{\"data_source\":{\"id\":\"27e1ae12-33c1-46e8-a5c6-47ec4eaa96bf\",\"type\":\"ColumnDataSource\"},\"glyph\":{\"id\":\"4e3d0b43-6553-404a-9697-4e1da161572b\",\"type\":\"Rect\"},\"hover_glyph\":null,\"muted_glyph\":null},\"id\":\"52047337-7c33-4ec3-ad40-575884f481cb\",\"type\":\"GlyphRenderer\"},{\"attributes\":{\"fill_alpha\":{\"field\":\"fill_alpha\"},\"fill_color\":{\"field\":\"color\"},\"height\":{\"field\":\"height\",\"units\":\"data\"},\"line_color\":{\"field\":\"line_color\"},\"width\":{\"field\":\"width\",\"units\":\"data\"},\"x\":{\"field\":\"x\"},\"y\":{\"field\":\"y\"}},\"id\":\"9b179794-2ed4-4ef5-9372-91faf1f9a6a0\",\"type\":\"Rect\"},{\"attributes\":{\"data_source\":{\"id\":\"d9b75117-be47-4d8b-a10c-81f2106899e3\",\"type\":\"ColumnDataSource\"},\"glyph\":{\"id\":\"deb8c923-0537-434d-b177-946189be72b9\",\"type\":\"Rect\"},\"hover_glyph\":null,\"muted_glyph\":null},\"id\":\"362d6623-1f7d-41a8-b334-45d7b826cd27\",\"type\":\"GlyphRenderer\"},{\"attributes\":{\"data_source\":{\"id\":\"fa51a704-06a1-4d16-9f0f-e69b9b84a725\",\"type\":\"ColumnDataSource\"},\"glyph\":{\"id\":\"4a12417a-0c11-4585-a59d-a14c41c8d0fe\",\"type\":\"Rect\"},\"hover_glyph\":null,\"muted_glyph\":null},\"id\":\"ad953525-0178-4627-b91f-5214b4723e5a\",\"type\":\"GlyphRenderer\"},{\"attributes\":{\"fill_alpha\":{\"field\":\"fill_alpha\"},\"fill_color\":{\"field\":\"color\"},\"height\":{\"field\":\"height\",\"units\":\"data\"},\"line_color\":{\"field\":\"line_color\"},\"width\":{\"field\":\"width\",\"units\":\"data\"},\"x\":{\"field\":\"x\"},\"y\":{\"field\":\"y\"}},\"id\":\"ad45f733-d9c7-4153-aabb-ad13d8089824\",\"type\":\"Rect\"},{\"attributes\":{},\"id\":\"64b9c594-e3ce-41cc-a86b-45ab0e9e6791\",\"type\":\"BasicTickFormatter\"},{\"attributes\":{\"callback\":null,\"column_names\":[\"line_color\",\"line_alpha\",\"color\",\"fill_alpha\",\"height\",\"width\",\"y\",\"x\",\"label\"],\"data\":{\"MixedBreed\":[\"Known Breed Combo\"],\"OutcomeType\":[\"Transfer\"],\"chart_index\":[{\"MixedBreed\":\"Known Breed Combo\",\"OutcomeType\":\"Transfer\"}],\"color\":[\"#f22c40\"],\"fill_alpha\":[0.8],\"height\":[734.0],\"label\":[{\"MixedBreed\":\"Known Breed Combo\",\"OutcomeType\":\"Transfer\"}],\"line_alpha\":[1.0],\"line_color\":[\"white\"],\"width\":[0.8],\"x\":[\"Transfer\"],\"y\":[8619.0]}},\"id\":\"2dde9f01-5ee9-4fd4-ac7b-0ad9cd0bf0e9\",\"type\":\"ColumnDataSource\"},{\"attributes\":{\"fill_alpha\":{\"field\":\"fill_alpha\"},\"fill_color\":{\"field\":\"color\"},\"height\":{\"field\":\"height\",\"units\":\"data\"},\"line_color\":{\"field\":\"line_color\"},\"width\":{\"field\":\"width\",\"units\":\"data\"},\"x\":{\"field\":\"x\"},\"y\":{\"field\":\"y\"}},\"id\":\"2b925b77-63b1-455b-8b62-0cf5f111e221\",\"type\":\"Rect\"},{\"attributes\":{\"fill_alpha\":{\"field\":\"fill_alpha\"},\"fill_color\":{\"field\":\"color\"},\"height\":{\"field\":\"height\",\"units\":\"data\"},\"line_color\":{\"field\":\"line_color\"},\"width\":{\"field\":\"width\",\"units\":\"data\"},\"x\":{\"field\":\"x\"},\"y\":{\"field\":\"y\"}},\"id\":\"d89c1975-d4f6-4b9a-89c8-61d985ef5169\",\"type\":\"Rect\"},{\"attributes\":{\"fill_alpha\":{\"field\":\"fill_alpha\"},\"fill_color\":{\"field\":\"color\"},\"height\":{\"field\":\"height\",\"units\":\"data\"},\"line_color\":{\"field\":\"line_color\"},\"width\":{\"field\":\"width\",\"units\":\"data\"},\"x\":{\"field\":\"x\"},\"y\":{\"field\":\"y\"}},\"id\":\"537ce6f9-b7fb-4100-8c78-27fff7050707\",\"type\":\"Rect\"},{\"attributes\":{\"callback\":null,\"column_names\":[\"line_color\",\"line_alpha\",\"color\",\"fill_alpha\",\"height\",\"width\",\"y\",\"x\",\"label\"],\"data\":{\"MixedBreed\":[\"Nonmixed\"],\"OutcomeType\":[\"Euthanasia\"],\"chart_index\":[{\"MixedBreed\":\"Nonmixed\",\"OutcomeType\":\"Euthanasia\"}],\"color\":[\"#407ee7\"],\"fill_alpha\":[0.8],\"height\":[64.0],\"label\":[{\"MixedBreed\":\"Nonmixed\",\"OutcomeType\":\"Euthanasia\"}],\"line_alpha\":[1.0],\"line_color\":[\"white\"],\"width\":[0.8],\"x\":[\"Euthanasia\"],\"y\":[1523.0]}},\"id\":\"5190e691-e784-41c1-a5f7-75e4f7408c43\",\"type\":\"ColumnDataSource\"},{\"attributes\":{\"callback\":null,\"end\":11307.45},\"id\":\"79250c44-e145-425f-9239-1d544beec1ab\",\"type\":\"Range1d\"},{\"attributes\":{\"callback\":null,\"column_names\":[\"line_color\",\"line_alpha\",\"color\",\"fill_alpha\",\"height\",\"width\",\"y\",\"x\",\"label\"],\"data\":{\"MixedBreed\":[\"Nonmixed\"],\"OutcomeType\":[\"Return_to_owner\"],\"chart_index\":[{\"MixedBreed\":\"Nonmixed\",\"OutcomeType\":\"Return_to_owner\"}],\"color\":[\"#407ee7\"],\"fill_alpha\":[0.8],\"height\":[440.0],\"label\":[{\"MixedBreed\":\"Nonmixed\",\"OutcomeType\":\"Return_to_owner\"}],\"line_alpha\":[1.0],\"line_color\":[\"white\"],\"width\":[0.8],\"x\":[\"Return_to_owner\"],\"y\":[4566.0]}},\"id\":\"96322cf0-1580-48eb-b4ec-ec2e9da84355\",\"type\":\"ColumnDataSource\"},{\"attributes\":{\"fill_alpha\":{\"field\":\"fill_alpha\"},\"fill_color\":{\"field\":\"color\"},\"height\":{\"field\":\"height\",\"units\":\"data\"},\"line_color\":{\"field\":\"line_color\"},\"width\":{\"field\":\"width\",\"units\":\"data\"},\"x\":{\"field\":\"x\"},\"y\":{\"field\":\"y\"}},\"id\":\"4a12417a-0c11-4585-a59d-a14c41c8d0fe\",\"type\":\"Rect\"},{\"attributes\":{},\"id\":\"58675fa5-4556-4141-9456-cbecb60018fe\",\"type\":\"BasicTicker\"},{\"attributes\":{\"callback\":null,\"column_names\":[\"line_color\",\"line_alpha\",\"color\",\"fill_alpha\",\"height\",\"width\",\"y\",\"x\",\"label\"],\"data\":{\"MixedBreed\":[\"Mixed Breed\"],\"OutcomeType\":[\"Died\"],\"chart_index\":[{\"MixedBreed\":\"Mixed Breed\",\"OutcomeType\":\"Died\"}],\"color\":[\"#5ab738\"],\"fill_alpha\":[0.8],\"height\":[180.0],\"label\":[{\"MixedBreed\":\"Mixed Breed\",\"OutcomeType\":\"Died\"}],\"line_alpha\":[1.0],\"line_color\":[\"white\"],\"width\":[0.8],\"x\":[\"Died\"],\"y\":[90.0]}},\"id\":\"40de6965-594c-4760-9d60-ece77821845c\",\"type\":\"ColumnDataSource\"},{\"attributes\":{\"bottom_units\":\"screen\",\"fill_alpha\":{\"value\":0.5},\"fill_color\":{\"value\":\"lightgrey\"},\"left_units\":\"screen\",\"level\":\"overlay\",\"line_alpha\":{\"value\":1.0},\"line_color\":{\"value\":\"black\"},\"line_dash\":[4,4],\"line_width\":{\"value\":2},\"plot\":null,\"render_mode\":\"css\",\"right_units\":\"screen\",\"top_units\":\"screen\"},\"id\":\"fec09a49-ced3-4bb8-b518-a8dba89e6234\",\"type\":\"BoxAnnotation\"}],\"root_ids\":[\"0a42c119-5680-4ee7-8ed7-045d89b59084\"]},\"title\":\"Bokeh Application\",\"version\":\"0.12.5\"}};\n",
       "            var render_items = [{\"docid\":\"b68eac66-ea0e-4c38-b8fe-7fd8a1985640\",\"elementid\":\"51b60699-7882-43e9-8aac-d0455a53d1c4\",\"modelid\":\"0a42c119-5680-4ee7-8ed7-045d89b59084\"}];\n",
       "            \n",
       "            Bokeh.embed.embed_items(docs_json, render_items);\n",
       "          };\n",
       "          if (document.readyState != \"loading\") fn();\n",
       "          else document.addEventListener(\"DOMContentLoaded\", fn);\n",
       "        })();\n",
       "      },\n",
       "      function(Bokeh) {\n",
       "      }\n",
       "    ];\n",
       "  \n",
       "    function run_inline_js() {\n",
       "      \n",
       "      if ((window.Bokeh !== undefined) || (force === true)) {\n",
       "        for (var i = 0; i < inline_js.length; i++) {\n",
       "          inline_js[i](window.Bokeh);\n",
       "        }if (force === true) {\n",
       "          display_loaded();\n",
       "        }} else if (Date.now() < window._bokeh_timeout) {\n",
       "        setTimeout(run_inline_js, 100);\n",
       "      } else if (!window._bokeh_failed_load) {\n",
       "        console.log(\"Bokeh: BokehJS failed to load within specified timeout.\");\n",
       "        window._bokeh_failed_load = true;\n",
       "      } else if (force !== true) {\n",
       "        var cell = $(document.getElementById(\"51b60699-7882-43e9-8aac-d0455a53d1c4\")).parents('.cell').data().cell;\n",
       "        cell.output_area.append_execute_result(NB_LOAD_WARNING)\n",
       "      }\n",
       "  \n",
       "    }\n",
       "  \n",
       "    if (window._bokeh_is_loading === 0) {\n",
       "      console.log(\"Bokeh: BokehJS loaded, going straight to plotting\");\n",
       "      run_inline_js();\n",
       "    } else {\n",
       "      load_libs(js_urls, function() {\n",
       "        console.log(\"Bokeh: BokehJS plotting callback run at\", now());\n",
       "        run_inline_js();\n",
       "      });\n",
       "    }\n",
       "  }(this));\n",
       "</script>"
      ]
     },
     "metadata": {},
     "output_type": "display_data"
    }
   ],
   "source": [
    "p = Bar(data, label='OutcomeType', values = 'MixedBreed', agg='count', stack='MixedBreed',\n",
    "        title=\"Outcomes by Breed Type\", legend='top_right')\n",
    "show(p)"
   ]
  },
  {
   "cell_type": "code",
   "execution_count": 15,
   "metadata": {
    "scrolled": true
   },
   "outputs": [
    {
     "data": {
      "text/plain": [
       "array([[<matplotlib.axes._subplots.AxesSubplot object at 0x121e32950>]], dtype=object)"
      ]
     },
     "execution_count": 15,
     "metadata": {},
     "output_type": "execute_result"
    },
    {
     "data": {
      "image/png": "[encoded data removed]",
      "text/plain": [
       "<matplotlib.figure.Figure at 0x11e4dee90>"
      ]
     },
     "metadata": {},
     "output_type": "display_data"
    }
   ],
   "source": [
    "data.hist(column=\"ConvertedAge\", bins=25)"
   ]
  },
  {
   "cell_type": "code",
   "execution_count": 16,
   "metadata": {},
   "outputs": [
    {
     "data": {
      "text/html": [
       "\n",
       "\n",
       "    <div class=\"bk-root\">\n",
       "        <div class=\"bk-plotdiv\" id=\"761509cf-6942-4280-a5d8-64bd40d48c3a\"></div>\n",
       "    </div>\n",
       "<script type=\"text/javascript\">\n",
       "  \n",
       "  (function(global) {\n",
       "    function now() {\n",
       "      return new Date();\n",
       "    }\n",
       "  \n",
       "    var force = false;\n",
       "  \n",
       "    if (typeof (window._bokeh_onload_callbacks) === \"undefined\" || force === true) {\n",
       "      window._bokeh_onload_callbacks = [];\n",
       "      window._bokeh_is_loading = undefined;\n",
       "    }\n",
       "  \n",
       "  \n",
       "    \n",
       "    if (typeof (window._bokeh_timeout) === \"undefined\" || force === true) {\n",
       "      window._bokeh_timeout = Date.now() + 0;\n",
       "      window._bokeh_failed_load = false;\n",
       "    }\n",
       "  \n",
       "    var NB_LOAD_WARNING = {'data': {'text/html':\n",
       "       \"<div style='background-color: #fdd'>\\n\"+\n",
       "       \"<p>\\n\"+\n",
       "       \"BokehJS does not appear to have successfully loaded. If loading BokehJS from CDN, this \\n\"+\n",
       "       \"may be due to a slow or bad network connection. Possible fixes:\\n\"+\n",
       "       \"</p>\\n\"+\n",
       "       \"<ul>\\n\"+\n",
       "       \"<li>re-rerun `output_notebook()` to attempt to load from CDN again, or</li>\\n\"+\n",
       "       \"<li>use INLINE resources instead, as so:</li>\\n\"+\n",
       "       \"</ul>\\n\"+\n",
       "       \"<code>\\n\"+\n",
       "       \"from bokeh.resources import INLINE\\n\"+\n",
       "       \"output_notebook(resources=INLINE)\\n\"+\n",
       "       \"</code>\\n\"+\n",
       "       \"</div>\"}};\n",
       "  \n",
       "    function display_loaded() {\n",
       "      if (window.Bokeh !== undefined) {\n",
       "        var el = document.getElementById(\"761509cf-6942-4280-a5d8-64bd40d48c3a\");\n",
       "        el.textContent = \"BokehJS \" + Bokeh.version + \" successfully loaded.\";\n",
       "      } else if (Date.now() < window._bokeh_timeout) {\n",
       "        setTimeout(display_loaded, 100)\n",
       "      }\n",
       "    }\n",
       "  \n",
       "    function run_callbacks() {\n",
       "      window._bokeh_onload_callbacks.forEach(function(callback) { callback() });\n",
       "      delete window._bokeh_onload_callbacks\n",
       "      console.info(\"Bokeh: all callbacks have finished\");\n",
       "    }\n",
       "  \n",
       "    function load_libs(js_urls, callback) {\n",
       "      window._bokeh_onload_callbacks.push(callback);\n",
       "      if (window._bokeh_is_loading > 0) {\n",
       "        console.log(\"Bokeh: BokehJS is being loaded, scheduling callback at\", now());\n",
       "        return null;\n",
       "      }\n",
       "      if (js_urls == null || js_urls.length === 0) {\n",
       "        run_callbacks();\n",
       "        return null;\n",
       "      }\n",
       "      console.log(\"Bokeh: BokehJS not loaded, scheduling load and callback at\", now());\n",
       "      window._bokeh_is_loading = js_urls.length;\n",
       "      for (var i = 0; i < js_urls.length; i++) {\n",
       "        var url = js_urls[i];\n",
       "        var s = document.createElement('script');\n",
       "        s.src = url;\n",
       "        s.async = false;\n",
       "        s.onreadystatechange = s.onload = function() {\n",
       "          window._bokeh_is_loading--;\n",
       "          if (window._bokeh_is_loading === 0) {\n",
       "            console.log(\"Bokeh: all BokehJS libraries loaded\");\n",
       "            run_callbacks()\n",
       "          }\n",
       "        };\n",
       "        s.onerror = function() {\n",
       "          console.warn(\"failed to load library \" + url);\n",
       "        };\n",
       "        console.log(\"Bokeh: injecting script tag for BokehJS library: \", url);\n",
       "        document.getElementsByTagName(\"head\")[0].appendChild(s);\n",
       "      }\n",
       "    };var element = document.getElementById(\"761509cf-6942-4280-a5d8-64bd40d48c3a\");\n",
       "    if (element == null) {\n",
       "      console.log(\"Bokeh: ERROR: autoload.js configured with elementid '761509cf-6942-4280-a5d8-64bd40d48c3a' but no matching script tag was found. \")\n",
       "      return false;\n",
       "    }\n",
       "  \n",
       "    var js_urls = [];\n",
       "  \n",
       "    var inline_js = [\n",
       "      function(Bokeh) {\n",
       "        (function() {\n",
       "          var fn = function() {\n",
       "            var docs_json = {\"5f39319f-314f-4205-b54e-f760d2b53e78\":{\"roots\":{\"references\":[{\"attributes\":{\"fill_alpha\":{\"field\":\"fill_alpha\"},\"fill_color\":{\"field\":\"color\"},\"height\":{\"field\":\"height\",\"units\":\"data\"},\"line_color\":{\"field\":\"line_color\"},\"width\":{\"field\":\"width\",\"units\":\"data\"},\"x\":{\"field\":\"x\"},\"y\":{\"field\":\"y\"}},\"id\":\"6590edb5-c6b9-4087-996d-c1d7e65d0eec\",\"type\":\"Rect\"},{\"attributes\":{\"data_source\":{\"id\":\"b3211595-6483-419e-a21d-921215ca99c1\",\"type\":\"ColumnDataSource\"},\"glyph\":{\"id\":\"16085fc1-ae31-466c-adc6-417f462324d4\",\"type\":\"Rect\"},\"hover_glyph\":null,\"muted_glyph\":null},\"id\":\"4aad95d2-7e40-460d-9d15-3a416f475615\",\"type\":\"GlyphRenderer\"},{\"attributes\":{\"overlay\":{\"id\":\"5056b3d6-b2a8-4370-8b3b-6efa9dc4b4b7\",\"type\":\"BoxAnnotation\"},\"plot\":{\"id\":\"96737f7f-d93b-4bc4-acb2-45f8a7de7858\",\"subtype\":\"Chart\",\"type\":\"Plot\"}},\"id\":\"44b04549-3bd4-43d5-afb7-f27d0ad73f8b\",\"type\":\"BoxZoomTool\"},{\"attributes\":{},\"id\":\"628dd574-0051-447f-857b-2d8ea882f4e6\",\"type\":\"BasicTickFormatter\"},{\"attributes\":{\"callback\":null,\"column_names\":[\"line_color\",\"line_alpha\",\"color\",\"fill_alpha\",\"height\",\"width\",\"y\",\"x\",\"label\"],\"data\":{\"OutcomeType\":[\"Adoption\"],\"chart_index\":[{\"OutcomeType\":\"Adoption\"}],\"color\":[\"#f22c40\"],\"fill_alpha\":[0.8],\"height\":[85.80346364564954],\"label\":[{\"OutcomeType\":\"Adoption\"}],\"line_alpha\":[1.0],\"line_color\":[\"white\"],\"width\":[0.8],\"x\":[\"Adoption\"],\"y\":[42.90173182282477]}},\"id\":\"a98e3b91-05a9-4a23-bce7-8b4493355ab1\",\"type\":\"ColumnDataSource\"},{\"attributes\":{\"fill_alpha\":{\"field\":\"fill_alpha\"},\"fill_color\":{\"field\":\"color\"},\"height\":{\"field\":\"height\",\"units\":\"data\"},\"line_color\":{\"field\":\"line_color\"},\"width\":{\"field\":\"width\",\"units\":\"data\"},\"x\":{\"field\":\"x\"},\"y\":{\"field\":\"y\"}},\"id\":\"07c81046-c243-4944-a50b-46de8ab461b3\",\"type\":\"Rect\"},{\"attributes\":{\"items\":[{\"id\":\"70b6a355-ad71-473d-a6ea-3af7295f7a1d\",\"type\":\"LegendItem\"},{\"id\":\"654c417b-8d0f-4dc6-895c-28216065b8f0\",\"type\":\"LegendItem\"},{\"id\":\"8435a8fb-fc4e-47b7-a4db-d9e642125d55\",\"type\":\"LegendItem\"},{\"id\":\"a9746557-b22c-4558-abaa-75a37d0d7671\",\"type\":\"LegendItem\"},{\"id\":\"1bd96782-c647-417d-b6a2-0a0f5d2805e0\",\"type\":\"LegendItem\"}],\"plot\":{\"id\":\"96737f7f-d93b-4bc4-acb2-45f8a7de7858\",\"subtype\":\"Chart\",\"type\":\"Plot\"}},\"id\":\"3fe35a4e-f107-4937-915c-59f796128eb3\",\"type\":\"Legend\"},{\"attributes\":{\"plot\":{\"id\":\"96737f7f-d93b-4bc4-acb2-45f8a7de7858\",\"subtype\":\"Chart\",\"type\":\"Plot\"}},\"id\":\"425c6652-c810-45e1-86c1-86002e6c0a83\",\"type\":\"SaveTool\"},{\"attributes\":{\"plot\":{\"id\":\"96737f7f-d93b-4bc4-acb2-45f8a7de7858\",\"subtype\":\"Chart\",\"type\":\"Plot\"}},\"id\":\"228d5b68-4636-4089-b975-0d2704a97956\",\"type\":\"PanTool\"},{\"attributes\":{\"data_source\":{\"id\":\"ab9f6763-9527-4161-8516-f824f3c8d73f\",\"type\":\"ColumnDataSource\"},\"glyph\":{\"id\":\"6590edb5-c6b9-4087-996d-c1d7e65d0eec\",\"type\":\"Rect\"},\"hover_glyph\":null,\"muted_glyph\":null},\"id\":\"3f8b156b-5d10-4be0-8bc8-11907adec3f4\",\"type\":\"GlyphRenderer\"},{\"attributes\":{\"fill_alpha\":{\"field\":\"fill_alpha\"},\"fill_color\":{\"field\":\"color\"},\"height\":{\"field\":\"height\",\"units\":\"data\"},\"line_color\":{\"field\":\"line_color\"},\"width\":{\"field\":\"width\",\"units\":\"data\"},\"x\":{\"field\":\"x\"},\"y\":{\"field\":\"y\"}},\"id\":\"05e08fc5-d3a5-4f03-9fc3-418d789e8ac9\",\"type\":\"Rect\"},{\"attributes\":{\"bottom_units\":\"screen\",\"fill_alpha\":{\"value\":0.5},\"fill_color\":{\"value\":\"lightgrey\"},\"left_units\":\"screen\",\"level\":\"overlay\",\"line_alpha\":{\"value\":1.0},\"line_color\":{\"value\":\"black\"},\"line_dash\":[4,4],\"line_width\":{\"value\":2},\"plot\":null,\"render_mode\":\"css\",\"right_units\":\"screen\",\"top_units\":\"screen\"},\"id\":\"5056b3d6-b2a8-4370-8b3b-6efa9dc4b4b7\",\"type\":\"BoxAnnotation\"},{\"attributes\":{\"fill_alpha\":{\"field\":\"fill_alpha\"},\"fill_color\":{\"field\":\"color\"},\"height\":{\"field\":\"height\",\"units\":\"data\"},\"line_color\":{\"field\":\"line_color\"},\"width\":{\"field\":\"width\",\"units\":\"data\"},\"x\":{\"field\":\"x\"},\"y\":{\"field\":\"y\"}},\"id\":\"16085fc1-ae31-466c-adc6-417f462324d4\",\"type\":\"Rect\"},{\"attributes\":{\"dimension\":1,\"plot\":{\"id\":\"96737f7f-d93b-4bc4-acb2-45f8a7de7858\",\"subtype\":\"Chart\",\"type\":\"Plot\"},\"ticker\":{\"id\":\"5e10225f-1c76-4c0b-86d5-b84f1c136272\",\"type\":\"BasicTicker\"}},\"id\":\"3791a61c-7876-4802-bc9e-ccf0570768c3\",\"type\":\"Grid\"},{\"attributes\":{\"axis_label\":\"Outcometype\",\"formatter\":{\"id\":\"51a3c3fd-c07c-482e-9819-0765ed9ca3ca\",\"type\":\"CategoricalTickFormatter\"},\"major_label_orientation\":0.7853981633974483,\"plot\":{\"id\":\"96737f7f-d93b-4bc4-acb2-45f8a7de7858\",\"subtype\":\"Chart\",\"type\":\"Plot\"},\"ticker\":{\"id\":\"621e781b-ae54-47a9-bf44-b0010f4e06ff\",\"type\":\"CategoricalTicker\"}},\"id\":\"df67a6e8-a957-4517-a6c0-410e983bd825\",\"type\":\"CategoricalAxis\"},{\"attributes\":{\"label\":{\"value\":\"Transfer\"},\"renderers\":[{\"id\":\"4aad95d2-7e40-460d-9d15-3a416f475615\",\"type\":\"GlyphRenderer\"}]},\"id\":\"a9746557-b22c-4558-abaa-75a37d0d7671\",\"type\":\"LegendItem\"},{\"attributes\":{\"callback\":null,\"column_names\":[\"line_color\",\"line_alpha\",\"color\",\"fill_alpha\",\"height\",\"width\",\"y\",\"x\",\"label\"],\"data\":{\"OutcomeType\":[\"Transfer\"],\"chart_index\":[{\"OutcomeType\":\"Transfer\"}],\"color\":[\"#f22c40\"],\"fill_alpha\":[0.8],\"height\":[78.89694332413501],\"label\":[{\"OutcomeType\":\"Transfer\"}],\"line_alpha\":[1.0],\"line_color\":[\"white\"],\"width\":[0.8],\"x\":[\"Transfer\"],\"y\":[39.448471662067504]}},\"id\":\"b3211595-6483-419e-a21d-921215ca99c1\",\"type\":\"ColumnDataSource\"},{\"attributes\":{},\"id\":\"5e10225f-1c76-4c0b-86d5-b84f1c136272\",\"type\":\"BasicTicker\"},{\"attributes\":{\"plot\":null,\"text\":\"Outcomes by Age\"},\"id\":\"0636a43b-3cec-458f-93d4-50813df2c304\",\"type\":\"Title\"},{\"attributes\":{\"plot\":{\"id\":\"96737f7f-d93b-4bc4-acb2-45f8a7de7858\",\"subtype\":\"Chart\",\"type\":\"Plot\"}},\"id\":\"0996eb91-32f5-4ea4-8510-38242aa95363\",\"type\":\"WheelZoomTool\"},{\"attributes\":{\"callback\":null,\"column_names\":[\"line_color\",\"line_alpha\",\"color\",\"fill_alpha\",\"height\",\"width\",\"y\",\"x\",\"label\"],\"data\":{\"OutcomeType\":[\"Euthanasia\"],\"chart_index\":[{\"OutcomeType\":\"Euthanasia\"}],\"color\":[\"#f22c40\"],\"fill_alpha\":[0.8],\"height\":[206.3514469453376],\"label\":[{\"OutcomeType\":\"Euthanasia\"}],\"line_alpha\":[1.0],\"line_color\":[\"white\"],\"width\":[0.8],\"x\":[\"Euthanasia\"],\"y\":[103.1757234726688]}},\"id\":\"4544378c-1395-438a-9ce4-14fc45a2d343\",\"type\":\"ColumnDataSource\"},{\"attributes\":{\"callback\":null,\"factors\":[\"Adoption\",\"Died\",\"Euthanasia\",\"Return_to_owner\",\"Transfer\"]},\"id\":\"5dfdb1bb-808c-46ea-b576-50f8c0d8cac6\",\"type\":\"FactorRange\"},{\"attributes\":{},\"id\":\"51a3c3fd-c07c-482e-9819-0765ed9ca3ca\",\"type\":\"CategoricalTickFormatter\"},{\"attributes\":{\"label\":{\"value\":\"Return_to_owner\"},\"renderers\":[{\"id\":\"3f8b156b-5d10-4be0-8bc8-11907adec3f4\",\"type\":\"GlyphRenderer\"}]},\"id\":\"70b6a355-ad71-473d-a6ea-3af7295f7a1d\",\"type\":\"LegendItem\"},{\"attributes\":{\"data_source\":{\"id\":\"d3d6af99-9399-49d0-b7d5-30e69e1d1bf8\",\"type\":\"ColumnDataSource\"},\"glyph\":{\"id\":\"889ef875-f78a-4a15-9e6f-83e621c11155\",\"type\":\"Rect\"},\"hover_glyph\":null,\"muted_glyph\":null},\"id\":\"eacd24ba-4469-44b6-ad62-c8ba85305e43\",\"type\":\"GlyphRenderer\"},{\"attributes\":{},\"id\":\"93fcd699-dcf9-43b4-a208-7abb3665b209\",\"type\":\"ToolEvents\"},{\"attributes\":{\"plot\":{\"id\":\"96737f7f-d93b-4bc4-acb2-45f8a7de7858\",\"subtype\":\"Chart\",\"type\":\"Plot\"}},\"id\":\"a1113d86-a0fa-4652-bbde-a003e4db7deb\",\"type\":\"ResetTool\"},{\"attributes\":{\"fill_alpha\":{\"field\":\"fill_alpha\"},\"fill_color\":{\"field\":\"color\"},\"height\":{\"field\":\"height\",\"units\":\"data\"},\"line_color\":{\"field\":\"line_color\"},\"width\":{\"field\":\"width\",\"units\":\"data\"},\"x\":{\"field\":\"x\"},\"y\":{\"field\":\"y\"}},\"id\":\"889ef875-f78a-4a15-9e6f-83e621c11155\",\"type\":\"Rect\"},{\"attributes\":{\"axis_label\":\"Mean( Convertedage )\",\"formatter\":{\"id\":\"628dd574-0051-447f-857b-2d8ea882f4e6\",\"type\":\"BasicTickFormatter\"},\"plot\":{\"id\":\"96737f7f-d93b-4bc4-acb2-45f8a7de7858\",\"subtype\":\"Chart\",\"type\":\"Plot\"},\"ticker\":{\"id\":\"5e10225f-1c76-4c0b-86d5-b84f1c136272\",\"type\":\"BasicTicker\"}},\"id\":\"1bbf4950-3944-4994-ba85-6922e38ae3b5\",\"type\":\"LinearAxis\"},{\"attributes\":{\"below\":[{\"id\":\"df67a6e8-a957-4517-a6c0-410e983bd825\",\"type\":\"CategoricalAxis\"}],\"css_classes\":null,\"left\":[{\"id\":\"1bbf4950-3944-4994-ba85-6922e38ae3b5\",\"type\":\"LinearAxis\"}],\"renderers\":[{\"id\":\"5056b3d6-b2a8-4370-8b3b-6efa9dc4b4b7\",\"type\":\"BoxAnnotation\"},{\"id\":\"3f8b156b-5d10-4be0-8bc8-11907adec3f4\",\"type\":\"GlyphRenderer\"},{\"id\":\"5b27240f-d8d6-4477-8194-6ae7ece7f709\",\"type\":\"GlyphRenderer\"},{\"id\":\"36a1b6c9-102b-4278-b406-c17d6e243922\",\"type\":\"GlyphRenderer\"},{\"id\":\"4aad95d2-7e40-460d-9d15-3a416f475615\",\"type\":\"GlyphRenderer\"},{\"id\":\"eacd24ba-4469-44b6-ad62-c8ba85305e43\",\"type\":\"GlyphRenderer\"},{\"id\":\"3fe35a4e-f107-4937-915c-59f796128eb3\",\"type\":\"Legend\"},{\"id\":\"df67a6e8-a957-4517-a6c0-410e983bd825\",\"type\":\"CategoricalAxis\"},{\"id\":\"1bbf4950-3944-4994-ba85-6922e38ae3b5\",\"type\":\"LinearAxis\"},{\"id\":\"3791a61c-7876-4802-bc9e-ccf0570768c3\",\"type\":\"Grid\"}],\"title\":{\"id\":\"0636a43b-3cec-458f-93d4-50813df2c304\",\"type\":\"Title\"},\"tool_events\":{\"id\":\"93fcd699-dcf9-43b4-a208-7abb3665b209\",\"type\":\"ToolEvents\"},\"toolbar\":{\"id\":\"f24cddd0-7843-4b24-bac4-749a9ec61cc8\",\"type\":\"Toolbar\"},\"x_mapper_type\":\"auto\",\"x_range\":{\"id\":\"5dfdb1bb-808c-46ea-b576-50f8c0d8cac6\",\"type\":\"FactorRange\"},\"y_mapper_type\":\"auto\",\"y_range\":{\"id\":\"4d1a9819-5350-4e4a-9449-835a5fc06d4e\",\"type\":\"Range1d\"}},\"id\":\"96737f7f-d93b-4bc4-acb2-45f8a7de7858\",\"subtype\":\"Chart\",\"type\":\"Plot\"},{\"attributes\":{\"plot\":{\"id\":\"96737f7f-d93b-4bc4-acb2-45f8a7de7858\",\"subtype\":\"Chart\",\"type\":\"Plot\"}},\"id\":\"a2986346-5d5c-4678-8c27-1a4922244e68\",\"type\":\"HelpTool\"},{\"attributes\":{\"callback\":null,\"column_names\":[\"line_color\",\"line_alpha\",\"color\",\"fill_alpha\",\"height\",\"width\",\"y\",\"x\",\"label\"],\"data\":{\"OutcomeType\":[\"Return_to_owner\"],\"chart_index\":[{\"OutcomeType\":\"Return_to_owner\"}],\"color\":[\"#f22c40\"],\"fill_alpha\":[0.8],\"height\":[214.80860844128708],\"label\":[{\"OutcomeType\":\"Return_to_owner\"}],\"line_alpha\":[1.0],\"line_color\":[\"white\"],\"width\":[0.8],\"x\":[\"Return_to_owner\"],\"y\":[107.40430422064354]}},\"id\":\"ab9f6763-9527-4161-8516-f824f3c8d73f\",\"type\":\"ColumnDataSource\"},{\"attributes\":{\"callback\":null,\"end\":225.54903886335143},\"id\":\"4d1a9819-5350-4e4a-9449-835a5fc06d4e\",\"type\":\"Range1d\"},{\"attributes\":{\"label\":{\"value\":\"Adoption\"},\"renderers\":[{\"id\":\"36a1b6c9-102b-4278-b406-c17d6e243922\",\"type\":\"GlyphRenderer\"}]},\"id\":\"8435a8fb-fc4e-47b7-a4db-d9e642125d55\",\"type\":\"LegendItem\"},{\"attributes\":{\"label\":{\"value\":\"Euthanasia\"},\"renderers\":[{\"id\":\"5b27240f-d8d6-4477-8194-6ae7ece7f709\",\"type\":\"GlyphRenderer\"}]},\"id\":\"654c417b-8d0f-4dc6-895c-28216065b8f0\",\"type\":\"LegendItem\"},{\"attributes\":{\"data_source\":{\"id\":\"a98e3b91-05a9-4a23-bce7-8b4493355ab1\",\"type\":\"ColumnDataSource\"},\"glyph\":{\"id\":\"05e08fc5-d3a5-4f03-9fc3-418d789e8ac9\",\"type\":\"Rect\"},\"hover_glyph\":null,\"muted_glyph\":null},\"id\":\"36a1b6c9-102b-4278-b406-c17d6e243922\",\"type\":\"GlyphRenderer\"},{\"attributes\":{\"label\":{\"value\":\"Died\"},\"renderers\":[{\"id\":\"eacd24ba-4469-44b6-ad62-c8ba85305e43\",\"type\":\"GlyphRenderer\"}]},\"id\":\"1bd96782-c647-417d-b6a2-0a0f5d2805e0\",\"type\":\"LegendItem\"},{\"attributes\":{},\"id\":\"621e781b-ae54-47a9-bf44-b0010f4e06ff\",\"type\":\"CategoricalTicker\"},{\"attributes\":{\"active_drag\":\"auto\",\"active_scroll\":\"auto\",\"active_tap\":\"auto\",\"tools\":[{\"id\":\"228d5b68-4636-4089-b975-0d2704a97956\",\"type\":\"PanTool\"},{\"id\":\"0996eb91-32f5-4ea4-8510-38242aa95363\",\"type\":\"WheelZoomTool\"},{\"id\":\"44b04549-3bd4-43d5-afb7-f27d0ad73f8b\",\"type\":\"BoxZoomTool\"},{\"id\":\"425c6652-c810-45e1-86c1-86002e6c0a83\",\"type\":\"SaveTool\"},{\"id\":\"a1113d86-a0fa-4652-bbde-a003e4db7deb\",\"type\":\"ResetTool\"},{\"id\":\"a2986346-5d5c-4678-8c27-1a4922244e68\",\"type\":\"HelpTool\"}]},\"id\":\"f24cddd0-7843-4b24-bac4-749a9ec61cc8\",\"type\":\"Toolbar\"},{\"attributes\":{\"data_source\":{\"id\":\"4544378c-1395-438a-9ce4-14fc45a2d343\",\"type\":\"ColumnDataSource\"},\"glyph\":{\"id\":\"07c81046-c243-4944-a50b-46de8ab461b3\",\"type\":\"Rect\"},\"hover_glyph\":null,\"muted_glyph\":null},\"id\":\"5b27240f-d8d6-4477-8194-6ae7ece7f709\",\"type\":\"GlyphRenderer\"},{\"attributes\":{\"callback\":null,\"column_names\":[\"line_color\",\"line_alpha\",\"color\",\"fill_alpha\",\"height\",\"width\",\"y\",\"x\",\"label\"],\"data\":{\"OutcomeType\":[\"Died\"],\"chart_index\":[{\"OutcomeType\":\"Died\"}],\"color\":[\"#f22c40\"],\"fill_alpha\":[0.8],\"height\":[70.75380710659898],\"label\":[{\"OutcomeType\":\"Died\"}],\"line_alpha\":[1.0],\"line_color\":[\"white\"],\"width\":[0.8],\"x\":[\"Died\"],\"y\":[35.37690355329949]}},\"id\":\"d3d6af99-9399-49d0-b7d5-30e69e1d1bf8\",\"type\":\"ColumnDataSource\"}],\"root_ids\":[\"96737f7f-d93b-4bc4-acb2-45f8a7de7858\"]},\"title\":\"Bokeh Application\",\"version\":\"0.12.5\"}};\n",
       "            var render_items = [{\"docid\":\"5f39319f-314f-4205-b54e-f760d2b53e78\",\"elementid\":\"761509cf-6942-4280-a5d8-64bd40d48c3a\",\"modelid\":\"96737f7f-d93b-4bc4-acb2-45f8a7de7858\"}];\n",
       "            \n",
       "            Bokeh.embed.embed_items(docs_json, render_items);\n",
       "          };\n",
       "          if (document.readyState != \"loading\") fn();\n",
       "          else document.addEventListener(\"DOMContentLoaded\", fn);\n",
       "        })();\n",
       "      },\n",
       "      function(Bokeh) {\n",
       "      }\n",
       "    ];\n",
       "  \n",
       "    function run_inline_js() {\n",
       "      \n",
       "      if ((window.Bokeh !== undefined) || (force === true)) {\n",
       "        for (var i = 0; i < inline_js.length; i++) {\n",
       "          inline_js[i](window.Bokeh);\n",
       "        }if (force === true) {\n",
       "          display_loaded();\n",
       "        }} else if (Date.now() < window._bokeh_timeout) {\n",
       "        setTimeout(run_inline_js, 100);\n",
       "      } else if (!window._bokeh_failed_load) {\n",
       "        console.log(\"Bokeh: BokehJS failed to load within specified timeout.\");\n",
       "        window._bokeh_failed_load = true;\n",
       "      } else if (force !== true) {\n",
       "        var cell = $(document.getElementById(\"761509cf-6942-4280-a5d8-64bd40d48c3a\")).parents('.cell').data().cell;\n",
       "        cell.output_area.append_execute_result(NB_LOAD_WARNING)\n",
       "      }\n",
       "  \n",
       "    }\n",
       "  \n",
       "    if (window._bokeh_is_loading === 0) {\n",
       "      console.log(\"Bokeh: BokehJS loaded, going straight to plotting\");\n",
       "      run_inline_js();\n",
       "    } else {\n",
       "      load_libs(js_urls, function() {\n",
       "        console.log(\"Bokeh: BokehJS plotting callback run at\", now());\n",
       "        run_inline_js();\n",
       "      });\n",
       "    }\n",
       "  }(this));\n",
       "</script>"
      ]
     },
     "metadata": {},
     "output_type": "display_data"
    }
   ],
   "source": [
    "p = Bar(data, label='OutcomeType', values = 'ConvertedAge', agg='mean',\n",
    "        title=\"Outcomes by Age\", legend='top_right')\n",
    "show(p)"
   ]
  },
  {
   "cell_type": "code",
   "execution_count": 17,
   "metadata": {
    "scrolled": false
   },
   "outputs": [
    {
     "data": {
      "text/plain": [
       "<matplotlib.axes._subplots.AxesSubplot at 0x121d4d5d0>"
      ]
     },
     "execution_count": 17,
     "metadata": {},
     "output_type": "execute_result"
    },
    {
     "data": {
      "image/png": "[encoded data removed]",
      "text/plain": [
       "<matplotlib.figure.Figure at 0x12205be10>"
      ]
     },
     "metadata": {},
     "output_type": "display_data"
    }
   ],
   "source": [
    "#Named/unnamed\n",
    "\n",
    "name = data['Named'].value_counts() \n",
    "name.plot(kind='bar',color='#34ABD8',rot=0)"
   ]
  },
  {
   "cell_type": "code",
   "execution_count": 18,
   "metadata": {},
   "outputs": [
    {
     "data": {
      "text/html": [
       "\n",
       "\n",
       "    <div class=\"bk-root\">\n",
       "        <div class=\"bk-plotdiv\" id=\"60004548-186d-4b23-b07d-413b1fa17de5\"></div>\n",
       "    </div>\n",
       "<script type=\"text/javascript\">\n",
       "  \n",
       "  (function(global) {\n",
       "    function now() {\n",
       "      return new Date();\n",
       "    }\n",
       "  \n",
       "    var force = false;\n",
       "  \n",
       "    if (typeof (window._bokeh_onload_callbacks) === \"undefined\" || force === true) {\n",
       "      window._bokeh_onload_callbacks = [];\n",
       "      window._bokeh_is_loading = undefined;\n",
       "    }\n",
       "  \n",
       "  \n",
       "    \n",
       "    if (typeof (window._bokeh_timeout) === \"undefined\" || force === true) {\n",
       "      window._bokeh_timeout = Date.now() + 0;\n",
       "      window._bokeh_failed_load = false;\n",
       "    }\n",
       "  \n",
       "    var NB_LOAD_WARNING = {'data': {'text/html':\n",
       "       \"<div style='background-color: #fdd'>\\n\"+\n",
       "       \"<p>\\n\"+\n",
       "       \"BokehJS does not appear to have successfully loaded. If loading BokehJS from CDN, this \\n\"+\n",
       "       \"may be due to a slow or bad network connection. Possible fixes:\\n\"+\n",
       "       \"</p>\\n\"+\n",
       "       \"<ul>\\n\"+\n",
       "       \"<li>re-rerun `output_notebook()` to attempt to load from CDN again, or</li>\\n\"+\n",
       "       \"<li>use INLINE resources instead, as so:</li>\\n\"+\n",
       "       \"</ul>\\n\"+\n",
       "       \"<code>\\n\"+\n",
       "       \"from bokeh.resources import INLINE\\n\"+\n",
       "       \"output_notebook(resources=INLINE)\\n\"+\n",
       "       \"</code>\\n\"+\n",
       "       \"</div>\"}};\n",
       "  \n",
       "    function display_loaded() {\n",
       "      if (window.Bokeh !== undefined) {\n",
       "        var el = document.getElementById(\"60004548-186d-4b23-b07d-413b1fa17de5\");\n",
       "        el.textContent = \"BokehJS \" + Bokeh.version + \" successfully loaded.\";\n",
       "      } else if (Date.now() < window._bokeh_timeout) {\n",
       "        setTimeout(display_loaded, 100)\n",
       "      }\n",
       "    }\n",
       "  \n",
       "    function run_callbacks() {\n",
       "      window._bokeh_onload_callbacks.forEach(function(callback) { callback() });\n",
       "      delete window._bokeh_onload_callbacks\n",
       "      console.info(\"Bokeh: all callbacks have finished\");\n",
       "    }\n",
       "  \n",
       "    function load_libs(js_urls, callback) {\n",
       "      window._bokeh_onload_callbacks.push(callback);\n",
       "      if (window._bokeh_is_loading > 0) {\n",
       "        console.log(\"Bokeh: BokehJS is being loaded, scheduling callback at\", now());\n",
       "        return null;\n",
       "      }\n",
       "      if (js_urls == null || js_urls.length === 0) {\n",
       "        run_callbacks();\n",
       "        return null;\n",
       "      }\n",
       "      console.log(\"Bokeh: BokehJS not loaded, scheduling load and callback at\", now());\n",
       "      window._bokeh_is_loading = js_urls.length;\n",
       "      for (var i = 0; i < js_urls.length; i++) {\n",
       "        var url = js_urls[i];\n",
       "        var s = document.createElement('script');\n",
       "        s.src = url;\n",
       "        s.async = false;\n",
       "        s.onreadystatechange = s.onload = function() {\n",
       "          window._bokeh_is_loading--;\n",
       "          if (window._bokeh_is_loading === 0) {\n",
       "            console.log(\"Bokeh: all BokehJS libraries loaded\");\n",
       "            run_callbacks()\n",
       "          }\n",
       "        };\n",
       "        s.onerror = function() {\n",
       "          console.warn(\"failed to load library \" + url);\n",
       "        };\n",
       "        console.log(\"Bokeh: injecting script tag for BokehJS library: \", url);\n",
       "        document.getElementsByTagName(\"head\")[0].appendChild(s);\n",
       "      }\n",
       "    };var element = document.getElementById(\"60004548-186d-4b23-b07d-413b1fa17de5\");\n",
       "    if (element == null) {\n",
       "      console.log(\"Bokeh: ERROR: autoload.js configured with elementid '60004548-186d-4b23-b07d-413b1fa17de5' but no matching script tag was found. \")\n",
       "      return false;\n",
       "    }\n",
       "  \n",
       "    var js_urls = [];\n",
       "  \n",
       "    var inline_js = [\n",
       "      function(Bokeh) {\n",
       "        (function() {\n",
       "          var fn = function() {\n",
       "            var docs_json = {\"95675c7f-facd-4085-9bd9-d342fb9adb1e\":{\"roots\":{\"references\":[{\"attributes\":{\"data_source\":{\"id\":\"c0b3013e-33e3-4103-bf0a-5e4443bf1896\",\"type\":\"ColumnDataSource\"},\"glyph\":{\"id\":\"d3626778-f676-45fa-9f90-dde04a719143\",\"type\":\"Rect\"},\"hover_glyph\":null,\"muted_glyph\":null},\"id\":\"0b535bf9-52ae-49b8-a3e1-c7033ea6e9a7\",\"type\":\"GlyphRenderer\"},{\"attributes\":{\"axis_label\":\"Outcometype\",\"formatter\":{\"id\":\"9abcd17b-c50f-43f3-ae2d-49c45da3a2c9\",\"type\":\"CategoricalTickFormatter\"},\"major_label_orientation\":0.7853981633974483,\"plot\":{\"id\":\"4b7c832a-64c9-4e97-95e1-58796dd011a1\",\"subtype\":\"Chart\",\"type\":\"Plot\"},\"ticker\":{\"id\":\"01b265a5-5647-4610-ad8c-80df3e77157f\",\"type\":\"CategoricalTicker\"}},\"id\":\"69033061-fb3c-4594-9fed-e8770dcb72c9\",\"type\":\"CategoricalAxis\"},{\"attributes\":{\"data_source\":{\"id\":\"61eb1546-86a0-4f35-9b8a-b5dec9375bc4\",\"type\":\"ColumnDataSource\"},\"glyph\":{\"id\":\"e28187a1-1587-44ae-8467-71fd31355764\",\"type\":\"Rect\"},\"hover_glyph\":null,\"muted_glyph\":null},\"id\":\"72c2d177-4551-47e6-bb76-0a27133ffd49\",\"type\":\"GlyphRenderer\"},{\"attributes\":{\"data_source\":{\"id\":\"43b7b726-0344-4d85-825f-41bdac9cd7be\",\"type\":\"ColumnDataSource\"},\"glyph\":{\"id\":\"d679c460-3960-4097-ad57-4b091da191ee\",\"type\":\"Rect\"},\"hover_glyph\":null,\"muted_glyph\":null},\"id\":\"580b749b-03e2-4e9b-8c1e-47c00c161e53\",\"type\":\"GlyphRenderer\"},{\"attributes\":{\"fill_alpha\":{\"field\":\"fill_alpha\"},\"fill_color\":{\"field\":\"color\"},\"height\":{\"field\":\"height\",\"units\":\"data\"},\"line_color\":{\"field\":\"line_color\"},\"width\":{\"field\":\"width\",\"units\":\"data\"},\"x\":{\"field\":\"x\"},\"y\":{\"field\":\"y\"}},\"id\":\"4e81730a-3b66-457e-a6b9-810661d1cd23\",\"type\":\"Rect\"},{\"attributes\":{\"below\":[{\"id\":\"69033061-fb3c-4594-9fed-e8770dcb72c9\",\"type\":\"CategoricalAxis\"}],\"css_classes\":null,\"left\":[{\"id\":\"062464c0-c3c7-45e0-9bc6-d98a33f20366\",\"type\":\"LinearAxis\"}],\"renderers\":[{\"id\":\"690dba18-300a-48e9-bb05-98b2d49c6881\",\"type\":\"BoxAnnotation\"},{\"id\":\"580b749b-03e2-4e9b-8c1e-47c00c161e53\",\"type\":\"GlyphRenderer\"},{\"id\":\"d037cdf1-c176-4df4-af41-6a7d4ca1193c\",\"type\":\"GlyphRenderer\"},{\"id\":\"72c2d177-4551-47e6-bb76-0a27133ffd49\",\"type\":\"GlyphRenderer\"},{\"id\":\"b820610c-9532-43e5-bc9d-b36b11d89d54\",\"type\":\"GlyphRenderer\"},{\"id\":\"ad97ba73-2ea1-44ab-aba3-97db66b584a3\",\"type\":\"GlyphRenderer\"},{\"id\":\"31882d5e-a5f4-4e4d-bbfc-1ac5ee897416\",\"type\":\"GlyphRenderer\"},{\"id\":\"e0c96590-51bd-43ee-8f3a-3532b91f9518\",\"type\":\"GlyphRenderer\"},{\"id\":\"8f063842-041f-479a-a683-501a8600f72f\",\"type\":\"GlyphRenderer\"},{\"id\":\"2dd6e78d-be3e-482f-b000-70031462d68c\",\"type\":\"GlyphRenderer\"},{\"id\":\"0b535bf9-52ae-49b8-a3e1-c7033ea6e9a7\",\"type\":\"GlyphRenderer\"},{\"id\":\"3e7fb25b-04fa-483d-a11b-f792fd0d7e88\",\"type\":\"Legend\"},{\"id\":\"69033061-fb3c-4594-9fed-e8770dcb72c9\",\"type\":\"CategoricalAxis\"},{\"id\":\"062464c0-c3c7-45e0-9bc6-d98a33f20366\",\"type\":\"LinearAxis\"},{\"id\":\"59427e6f-22a7-4a09-b43a-fd4a236919ee\",\"type\":\"Grid\"}],\"title\":{\"id\":\"0370279e-9764-4271-b680-b3a464e14e10\",\"type\":\"Title\"},\"tool_events\":{\"id\":\"c48cfcea-08e4-4ac2-8a71-28ed5a1ba312\",\"type\":\"ToolEvents\"},\"toolbar\":{\"id\":\"8e422272-f578-4cd9-82f3-4981d695002f\",\"type\":\"Toolbar\"},\"x_mapper_type\":\"auto\",\"x_range\":{\"id\":\"195ed1d7-72bd-4a02-8667-56041c2088a0\",\"type\":\"FactorRange\"},\"y_mapper_type\":\"auto\",\"y_range\":{\"id\":\"4cfbf331-40db-4da7-9747-0f88bd3cd331\",\"type\":\"Range1d\"}},\"id\":\"4b7c832a-64c9-4e97-95e1-58796dd011a1\",\"subtype\":\"Chart\",\"type\":\"Plot\"},{\"attributes\":{\"label\":{\"value\":\"Unnamed\"},\"renderers\":[{\"id\":\"b820610c-9532-43e5-bc9d-b36b11d89d54\",\"type\":\"GlyphRenderer\"}]},\"id\":\"d7ad7413-b3a4-415d-a651-e00b0bd7866b\",\"type\":\"LegendItem\"},{\"attributes\":{\"fill_alpha\":{\"field\":\"fill_alpha\"},\"fill_color\":{\"field\":\"color\"},\"height\":{\"field\":\"height\",\"units\":\"data\"},\"line_color\":{\"field\":\"line_color\"},\"width\":{\"field\":\"width\",\"units\":\"data\"},\"x\":{\"field\":\"x\"},\"y\":{\"field\":\"y\"}},\"id\":\"a90d3f29-b2dc-4bca-b14f-1746851f8985\",\"type\":\"Rect\"},{\"attributes\":{\"fill_alpha\":{\"field\":\"fill_alpha\"},\"fill_color\":{\"field\":\"color\"},\"height\":{\"field\":\"height\",\"units\":\"data\"},\"line_color\":{\"field\":\"line_color\"},\"width\":{\"field\":\"width\",\"units\":\"data\"},\"x\":{\"field\":\"x\"},\"y\":{\"field\":\"y\"}},\"id\":\"e28187a1-1587-44ae-8467-71fd31355764\",\"type\":\"Rect\"},{\"attributes\":{\"fill_alpha\":{\"field\":\"fill_alpha\"},\"fill_color\":{\"field\":\"color\"},\"height\":{\"field\":\"height\",\"units\":\"data\"},\"line_color\":{\"field\":\"line_color\"},\"width\":{\"field\":\"width\",\"units\":\"data\"},\"x\":{\"field\":\"x\"},\"y\":{\"field\":\"y\"}},\"id\":\"d3626778-f676-45fa-9f90-dde04a719143\",\"type\":\"Rect\"},{\"attributes\":{\"axis_label\":\"Count( Named )\",\"formatter\":{\"id\":\"e867cfc3-092a-4247-9b76-f66bdad8c0ff\",\"type\":\"BasicTickFormatter\"},\"plot\":{\"id\":\"4b7c832a-64c9-4e97-95e1-58796dd011a1\",\"subtype\":\"Chart\",\"type\":\"Plot\"},\"ticker\":{\"id\":\"af5e5a9d-9d0c-4e8f-9ec1-fbdada1dc49f\",\"type\":\"BasicTicker\"}},\"id\":\"062464c0-c3c7-45e0-9bc6-d98a33f20366\",\"type\":\"LinearAxis\"},{\"attributes\":{\"callback\":null,\"column_names\":[\"line_color\",\"line_alpha\",\"color\",\"fill_alpha\",\"height\",\"width\",\"y\",\"x\",\"label\"],\"data\":{\"Named\":[\"Unnamed\"],\"OutcomeType\":[\"Transfer\"],\"chart_index\":[{\"Named\":\"Unnamed\",\"OutcomeType\":\"Transfer\"}],\"color\":[\"#5ab738\"],\"fill_alpha\":[0.8],\"height\":[4925.0],\"label\":[{\"Named\":\"Unnamed\",\"OutcomeType\":\"Transfer\"}],\"line_alpha\":[1.0],\"line_color\":[\"white\"],\"width\":[0.8],\"x\":[\"Transfer\"],\"y\":[2462.5]}},\"id\":\"7e6794b2-f045-4a12-8414-8c4a5e5af616\",\"type\":\"ColumnDataSource\"},{\"attributes\":{\"plot\":null,\"text\":\"Outcomes by Name Status\"},\"id\":\"0370279e-9764-4271-b680-b3a464e14e10\",\"type\":\"Title\"},{\"attributes\":{\"overlay\":{\"id\":\"690dba18-300a-48e9-bb05-98b2d49c6881\",\"type\":\"BoxAnnotation\"},\"plot\":{\"id\":\"4b7c832a-64c9-4e97-95e1-58796dd011a1\",\"subtype\":\"Chart\",\"type\":\"Plot\"}},\"id\":\"b400dc7d-ce99-4fa0-a2f9-f128ebcf0d48\",\"type\":\"BoxZoomTool\"},{\"attributes\":{\"plot\":{\"id\":\"4b7c832a-64c9-4e97-95e1-58796dd011a1\",\"subtype\":\"Chart\",\"type\":\"Plot\"}},\"id\":\"24cc9d7e-e8a4-4c88-a74e-a6e5402f6fb5\",\"type\":\"ResetTool\"},{\"attributes\":{\"fill_alpha\":{\"field\":\"fill_alpha\"},\"fill_color\":{\"field\":\"color\"},\"height\":{\"field\":\"height\",\"units\":\"data\"},\"line_color\":{\"field\":\"line_color\"},\"width\":{\"field\":\"width\",\"units\":\"data\"},\"x\":{\"field\":\"x\"},\"y\":{\"field\":\"y\"}},\"id\":\"5e2d6c3d-09ee-436e-9848-6732057e3de8\",\"type\":\"Rect\"},{\"attributes\":{\"fill_alpha\":{\"field\":\"fill_alpha\"},\"fill_color\":{\"field\":\"color\"},\"height\":{\"field\":\"height\",\"units\":\"data\"},\"line_color\":{\"field\":\"line_color\"},\"width\":{\"field\":\"width\",\"units\":\"data\"},\"x\":{\"field\":\"x\"},\"y\":{\"field\":\"y\"}},\"id\":\"d679c460-3960-4097-ad57-4b091da191ee\",\"type\":\"Rect\"},{\"attributes\":{\"active_drag\":\"auto\",\"active_scroll\":\"auto\",\"active_tap\":\"auto\",\"tools\":[{\"id\":\"b1ed2fe3-4367-4788-8377-782439711c56\",\"type\":\"PanTool\"},{\"id\":\"b568af20-f3b6-4cf3-855b-353d7199a0a4\",\"type\":\"WheelZoomTool\"},{\"id\":\"b400dc7d-ce99-4fa0-a2f9-f128ebcf0d48\",\"type\":\"BoxZoomTool\"},{\"id\":\"2ca0d9ae-aa0f-4c16-9bc8-0cca2f5ff358\",\"type\":\"SaveTool\"},{\"id\":\"24cc9d7e-e8a4-4c88-a74e-a6e5402f6fb5\",\"type\":\"ResetTool\"},{\"id\":\"a26f6879-2480-48cf-bc19-9d0010023dd4\",\"type\":\"HelpTool\"}]},\"id\":\"8e422272-f578-4cd9-82f3-4981d695002f\",\"type\":\"Toolbar\"},{\"attributes\":{\"dimension\":1,\"plot\":{\"id\":\"4b7c832a-64c9-4e97-95e1-58796dd011a1\",\"subtype\":\"Chart\",\"type\":\"Plot\"},\"ticker\":{\"id\":\"af5e5a9d-9d0c-4e8f-9ec1-fbdada1dc49f\",\"type\":\"BasicTicker\"}},\"id\":\"59427e6f-22a7-4a09-b43a-fd4a236919ee\",\"type\":\"Grid\"},{\"attributes\":{\"plot\":{\"id\":\"4b7c832a-64c9-4e97-95e1-58796dd011a1\",\"subtype\":\"Chart\",\"type\":\"Plot\"}},\"id\":\"b568af20-f3b6-4cf3-855b-353d7199a0a4\",\"type\":\"WheelZoomTool\"},{\"attributes\":{\"data_source\":{\"id\":\"e0f105dd-a840-4804-b1aa-7265b194f93e\",\"type\":\"ColumnDataSource\"},\"glyph\":{\"id\":\"7e841870-68d8-4fff-b0c8-ba90f24b0677\",\"type\":\"Rect\"},\"hover_glyph\":null,\"muted_glyph\":null},\"id\":\"ad97ba73-2ea1-44ab-aba3-97db66b584a3\",\"type\":\"GlyphRenderer\"},{\"attributes\":{\"plot\":{\"id\":\"4b7c832a-64c9-4e97-95e1-58796dd011a1\",\"subtype\":\"Chart\",\"type\":\"Plot\"}},\"id\":\"2ca0d9ae-aa0f-4c16-9bc8-0cca2f5ff358\",\"type\":\"SaveTool\"},{\"attributes\":{\"callback\":null,\"column_names\":[\"line_color\",\"line_alpha\",\"color\",\"fill_alpha\",\"height\",\"width\",\"y\",\"x\",\"label\"],\"data\":{\"Named\":[\"Named\"],\"OutcomeType\":[\"Died\"],\"chart_index\":[{\"Named\":\"Named\",\"OutcomeType\":\"Died\"}],\"color\":[\"#f22c40\"],\"fill_alpha\":[0.8],\"height\":[77.0],\"label\":[{\"Named\":\"Named\",\"OutcomeType\":\"Died\"}],\"line_alpha\":[1.0],\"line_color\":[\"white\"],\"width\":[0.8],\"x\":[\"Died\"],\"y\":[38.5]}},\"id\":\"5590e8a5-8492-4959-b5b3-3c0f3b0d3d93\",\"type\":\"ColumnDataSource\"},{\"attributes\":{\"data_source\":{\"id\":\"cc903bc1-b676-429f-8942-3766adae2c3d\",\"type\":\"ColumnDataSource\"},\"glyph\":{\"id\":\"54c3d810-20e7-41ae-878b-3d7721e5cc62\",\"type\":\"Rect\"},\"hover_glyph\":null,\"muted_glyph\":null},\"id\":\"31882d5e-a5f4-4e4d-bbfc-1ac5ee897416\",\"type\":\"GlyphRenderer\"},{\"attributes\":{\"data_source\":{\"id\":\"22c98329-c32b-42b6-849e-28524a6ba406\",\"type\":\"ColumnDataSource\"},\"glyph\":{\"id\":\"5e2d6c3d-09ee-436e-9848-6732057e3de8\",\"type\":\"Rect\"},\"hover_glyph\":null,\"muted_glyph\":null},\"id\":\"d037cdf1-c176-4df4-af41-6a7d4ca1193c\",\"type\":\"GlyphRenderer\"},{\"attributes\":{\"label\":{\"value\":\"Named\"},\"renderers\":[{\"id\":\"580b749b-03e2-4e9b-8c1e-47c00c161e53\",\"type\":\"GlyphRenderer\"}]},\"id\":\"83d74f84-a2c5-44e8-ac42-b333bda8093c\",\"type\":\"LegendItem\"},{\"attributes\":{\"data_source\":{\"id\":\"8057948f-deaa-4938-9859-249d9da1b2f8\",\"type\":\"ColumnDataSource\"},\"glyph\":{\"id\":\"d45acc43-8545-4e7f-90fc-8b20fbd93f1a\",\"type\":\"Rect\"},\"hover_glyph\":null,\"muted_glyph\":null},\"id\":\"e0c96590-51bd-43ee-8f3a-3532b91f9518\",\"type\":\"GlyphRenderer\"},{\"attributes\":{},\"id\":\"af5e5a9d-9d0c-4e8f-9ec1-fbdada1dc49f\",\"type\":\"BasicTicker\"},{\"attributes\":{},\"id\":\"c48cfcea-08e4-4ac2-8a71-28ed5a1ba312\",\"type\":\"ToolEvents\"},{\"attributes\":{\"callback\":null,\"column_names\":[\"line_color\",\"line_alpha\",\"color\",\"fill_alpha\",\"height\",\"width\",\"y\",\"x\",\"label\"],\"data\":{\"Named\":[\"Named\"],\"OutcomeType\":[\"Transfer\"],\"chart_index\":[{\"Named\":\"Named\",\"OutcomeType\":\"Transfer\"}],\"color\":[\"#f22c40\"],\"fill_alpha\":[0.8],\"height\":[4497.0],\"label\":[{\"Named\":\"Named\",\"OutcomeType\":\"Transfer\"}],\"line_alpha\":[1.0],\"line_color\":[\"white\"],\"width\":[0.8],\"x\":[\"Transfer\"],\"y\":[7173.5]}},\"id\":\"e0f105dd-a840-4804-b1aa-7265b194f93e\",\"type\":\"ColumnDataSource\"},{\"attributes\":{\"bottom_units\":\"screen\",\"fill_alpha\":{\"value\":0.5},\"fill_color\":{\"value\":\"lightgrey\"},\"left_units\":\"screen\",\"level\":\"overlay\",\"line_alpha\":{\"value\":1.0},\"line_color\":{\"value\":\"black\"},\"line_dash\":[4,4],\"line_width\":{\"value\":2},\"plot\":null,\"render_mode\":\"css\",\"right_units\":\"screen\",\"top_units\":\"screen\"},\"id\":\"690dba18-300a-48e9-bb05-98b2d49c6881\",\"type\":\"BoxAnnotation\"},{\"attributes\":{\"callback\":null,\"column_names\":[\"line_color\",\"line_alpha\",\"color\",\"fill_alpha\",\"height\",\"width\",\"y\",\"x\",\"label\"],\"data\":{\"Named\":[\"Named\"],\"OutcomeType\":[\"Adoption\"],\"chart_index\":[{\"Named\":\"Named\",\"OutcomeType\":\"Adoption\"}],\"color\":[\"#f22c40\"],\"fill_alpha\":[0.8],\"height\":[9091.0],\"label\":[{\"Named\":\"Named\",\"OutcomeType\":\"Adoption\"}],\"line_alpha\":[1.0],\"line_color\":[\"white\"],\"width\":[0.8],\"x\":[\"Adoption\"],\"y\":[4545.5]}},\"id\":\"61eb1546-86a0-4f35-9b8a-b5dec9375bc4\",\"type\":\"ColumnDataSource\"},{\"attributes\":{\"callback\":null,\"column_names\":[\"line_color\",\"line_alpha\",\"color\",\"fill_alpha\",\"height\",\"width\",\"y\",\"x\",\"label\"],\"data\":{\"Named\":[\"Named\"],\"OutcomeType\":[\"Euthanasia\"],\"chart_index\":[{\"Named\":\"Named\",\"OutcomeType\":\"Euthanasia\"}],\"color\":[\"#f22c40\"],\"fill_alpha\":[0.8],\"height\":[740.0],\"label\":[{\"Named\":\"Named\",\"OutcomeType\":\"Euthanasia\"}],\"line_alpha\":[1.0],\"line_color\":[\"white\"],\"width\":[0.8],\"x\":[\"Euthanasia\"],\"y\":[370.0]}},\"id\":\"22c98329-c32b-42b6-849e-28524a6ba406\",\"type\":\"ColumnDataSource\"},{\"attributes\":{\"data_source\":{\"id\":\"2855465a-465c-4ac5-9452-494c9d77bd32\",\"type\":\"ColumnDataSource\"},\"glyph\":{\"id\":\"a90d3f29-b2dc-4bca-b14f-1746851f8985\",\"type\":\"Rect\"},\"hover_glyph\":null,\"muted_glyph\":null},\"id\":\"8f063842-041f-479a-a683-501a8600f72f\",\"type\":\"GlyphRenderer\"},{\"attributes\":{\"plot\":{\"id\":\"4b7c832a-64c9-4e97-95e1-58796dd011a1\",\"subtype\":\"Chart\",\"type\":\"Plot\"}},\"id\":\"b1ed2fe3-4367-4788-8377-782439711c56\",\"type\":\"PanTool\"},{\"attributes\":{},\"id\":\"01b265a5-5647-4610-ad8c-80df3e77157f\",\"type\":\"CategoricalTicker\"},{\"attributes\":{\"data_source\":{\"id\":\"7e6794b2-f045-4a12-8414-8c4a5e5af616\",\"type\":\"ColumnDataSource\"},\"glyph\":{\"id\":\"4e81730a-3b66-457e-a6b9-810661d1cd23\",\"type\":\"Rect\"},\"hover_glyph\":null,\"muted_glyph\":null},\"id\":\"b820610c-9532-43e5-bc9d-b36b11d89d54\",\"type\":\"GlyphRenderer\"},{\"attributes\":{\"fill_alpha\":{\"field\":\"fill_alpha\"},\"fill_color\":{\"field\":\"color\"},\"height\":{\"field\":\"height\",\"units\":\"data\"},\"line_color\":{\"field\":\"line_color\"},\"width\":{\"field\":\"width\",\"units\":\"data\"},\"x\":{\"field\":\"x\"},\"y\":{\"field\":\"y\"}},\"id\":\"54c3d810-20e7-41ae-878b-3d7721e5cc62\",\"type\":\"Rect\"},{\"attributes\":{},\"id\":\"e867cfc3-092a-4247-9b76-f66bdad8c0ff\",\"type\":\"BasicTickFormatter\"},{\"attributes\":{\"fill_alpha\":{\"field\":\"fill_alpha\"},\"fill_color\":{\"field\":\"color\"},\"height\":{\"field\":\"height\",\"units\":\"data\"},\"line_color\":{\"field\":\"line_color\"},\"width\":{\"field\":\"width\",\"units\":\"data\"},\"x\":{\"field\":\"x\"},\"y\":{\"field\":\"y\"}},\"id\":\"7e841870-68d8-4fff-b0c8-ba90f24b0677\",\"type\":\"Rect\"},{\"attributes\":{\"items\":[{\"id\":\"83d74f84-a2c5-44e8-ac42-b333bda8093c\",\"type\":\"LegendItem\"},{\"id\":\"d7ad7413-b3a4-415d-a651-e00b0bd7866b\",\"type\":\"LegendItem\"}],\"plot\":{\"id\":\"4b7c832a-64c9-4e97-95e1-58796dd011a1\",\"subtype\":\"Chart\",\"type\":\"Plot\"}},\"id\":\"3e7fb25b-04fa-483d-a11b-f792fd0d7e88\",\"type\":\"Legend\"},{\"attributes\":{\"data_source\":{\"id\":\"5590e8a5-8492-4959-b5b3-3c0f3b0d3d93\",\"type\":\"ColumnDataSource\"},\"glyph\":{\"id\":\"0de19ad9-8f7c-4c9a-b16d-83d62792531a\",\"type\":\"Rect\"},\"hover_glyph\":null,\"muted_glyph\":null},\"id\":\"2dd6e78d-be3e-482f-b000-70031462d68c\",\"type\":\"GlyphRenderer\"},{\"attributes\":{\"callback\":null,\"column_names\":[\"line_color\",\"line_alpha\",\"color\",\"fill_alpha\",\"height\",\"width\",\"y\",\"x\",\"label\"],\"data\":{\"Named\":[\"Unnamed\"],\"OutcomeType\":[\"Return_to_owner\"],\"chart_index\":[{\"Named\":\"Unnamed\",\"OutcomeType\":\"Return_to_owner\"}],\"color\":[\"#5ab738\"],\"fill_alpha\":[0.8],\"height\":[153.0],\"label\":[{\"Named\":\"Unnamed\",\"OutcomeType\":\"Return_to_owner\"}],\"line_alpha\":[1.0],\"line_color\":[\"white\"],\"width\":[0.8],\"x\":[\"Return_to_owner\"],\"y\":[4709.5]}},\"id\":\"2855465a-465c-4ac5-9452-494c9d77bd32\",\"type\":\"ColumnDataSource\"},{\"attributes\":{\"fill_alpha\":{\"field\":\"fill_alpha\"},\"fill_color\":{\"field\":\"color\"},\"height\":{\"field\":\"height\",\"units\":\"data\"},\"line_color\":{\"field\":\"line_color\"},\"width\":{\"field\":\"width\",\"units\":\"data\"},\"x\":{\"field\":\"x\"},\"y\":{\"field\":\"y\"}},\"id\":\"0de19ad9-8f7c-4c9a-b16d-83d62792531a\",\"type\":\"Rect\"},{\"attributes\":{\"callback\":null,\"factors\":[\"Adoption\",\"Died\",\"Euthanasia\",\"Return_to_owner\",\"Transfer\"]},\"id\":\"195ed1d7-72bd-4a02-8667-56041c2088a0\",\"type\":\"FactorRange\"},{\"attributes\":{\"fill_alpha\":{\"field\":\"fill_alpha\"},\"fill_color\":{\"field\":\"color\"},\"height\":{\"field\":\"height\",\"units\":\"data\"},\"line_color\":{\"field\":\"line_color\"},\"width\":{\"field\":\"width\",\"units\":\"data\"},\"x\":{\"field\":\"x\"},\"y\":{\"field\":\"y\"}},\"id\":\"d45acc43-8545-4e7f-90fc-8b20fbd93f1a\",\"type\":\"Rect\"},{\"attributes\":{\"callback\":null,\"end\":11307.45},\"id\":\"4cfbf331-40db-4da7-9747-0f88bd3cd331\",\"type\":\"Range1d\"},{\"attributes\":{\"callback\":null,\"column_names\":[\"line_color\",\"line_alpha\",\"color\",\"fill_alpha\",\"height\",\"width\",\"y\",\"x\",\"label\"],\"data\":{\"Named\":[\"Unnamed\"],\"OutcomeType\":[\"Died\"],\"chart_index\":[{\"Named\":\"Unnamed\",\"OutcomeType\":\"Died\"}],\"color\":[\"#5ab738\"],\"fill_alpha\":[0.8],\"height\":[120.0],\"label\":[{\"Named\":\"Unnamed\",\"OutcomeType\":\"Died\"}],\"line_alpha\":[1.0],\"line_color\":[\"white\"],\"width\":[0.8],\"x\":[\"Died\"],\"y\":[137.0]}},\"id\":\"c0b3013e-33e3-4103-bf0a-5e4443bf1896\",\"type\":\"ColumnDataSource\"},{\"attributes\":{\"callback\":null,\"column_names\":[\"line_color\",\"line_alpha\",\"color\",\"fill_alpha\",\"height\",\"width\",\"y\",\"x\",\"label\"],\"data\":{\"Named\":[\"Unnamed\"],\"OutcomeType\":[\"Adoption\"],\"chart_index\":[{\"Named\":\"Unnamed\",\"OutcomeType\":\"Adoption\"}],\"color\":[\"#5ab738\"],\"fill_alpha\":[0.8],\"height\":[1678.0],\"label\":[{\"Named\":\"Unnamed\",\"OutcomeType\":\"Adoption\"}],\"line_alpha\":[1.0],\"line_color\":[\"white\"],\"width\":[0.8],\"x\":[\"Adoption\"],\"y\":[9930.0]}},\"id\":\"cc903bc1-b676-429f-8942-3766adae2c3d\",\"type\":\"ColumnDataSource\"},{\"attributes\":{},\"id\":\"9abcd17b-c50f-43f3-ae2d-49c45da3a2c9\",\"type\":\"CategoricalTickFormatter\"},{\"attributes\":{\"plot\":{\"id\":\"4b7c832a-64c9-4e97-95e1-58796dd011a1\",\"subtype\":\"Chart\",\"type\":\"Plot\"}},\"id\":\"a26f6879-2480-48cf-bc19-9d0010023dd4\",\"type\":\"HelpTool\"},{\"attributes\":{\"callback\":null,\"column_names\":[\"line_color\",\"line_alpha\",\"color\",\"fill_alpha\",\"height\",\"width\",\"y\",\"x\",\"label\"],\"data\":{\"Named\":[\"Named\"],\"OutcomeType\":[\"Return_to_owner\"],\"chart_index\":[{\"Named\":\"Named\",\"OutcomeType\":\"Return_to_owner\"}],\"color\":[\"#f22c40\"],\"fill_alpha\":[0.8],\"height\":[4633.0],\"label\":[{\"Named\":\"Named\",\"OutcomeType\":\"Return_to_owner\"}],\"line_alpha\":[1.0],\"line_color\":[\"white\"],\"width\":[0.8],\"x\":[\"Return_to_owner\"],\"y\":[2316.5]}},\"id\":\"43b7b726-0344-4d85-825f-41bdac9cd7be\",\"type\":\"ColumnDataSource\"},{\"attributes\":{\"callback\":null,\"column_names\":[\"line_color\",\"line_alpha\",\"color\",\"fill_alpha\",\"height\",\"width\",\"y\",\"x\",\"label\"],\"data\":{\"Named\":[\"Unnamed\"],\"OutcomeType\":[\"Euthanasia\"],\"chart_index\":[{\"Named\":\"Unnamed\",\"OutcomeType\":\"Euthanasia\"}],\"color\":[\"#5ab738\"],\"fill_alpha\":[0.8],\"height\":[815.0],\"label\":[{\"Named\":\"Unnamed\",\"OutcomeType\":\"Euthanasia\"}],\"line_alpha\":[1.0],\"line_color\":[\"white\"],\"width\":[0.8],\"x\":[\"Euthanasia\"],\"y\":[1147.5]}},\"id\":\"8057948f-deaa-4938-9859-249d9da1b2f8\",\"type\":\"ColumnDataSource\"}],\"root_ids\":[\"4b7c832a-64c9-4e97-95e1-58796dd011a1\"]},\"title\":\"Bokeh Application\",\"version\":\"0.12.5\"}};\n",
       "            var render_items = [{\"docid\":\"95675c7f-facd-4085-9bd9-d342fb9adb1e\",\"elementid\":\"60004548-186d-4b23-b07d-413b1fa17de5\",\"modelid\":\"4b7c832a-64c9-4e97-95e1-58796dd011a1\"}];\n",
       "            \n",
       "            Bokeh.embed.embed_items(docs_json, render_items);\n",
       "          };\n",
       "          if (document.readyState != \"loading\") fn();\n",
       "          else document.addEventListener(\"DOMContentLoaded\", fn);\n",
       "        })();\n",
       "      },\n",
       "      function(Bokeh) {\n",
       "      }\n",
       "    ];\n",
       "  \n",
       "    function run_inline_js() {\n",
       "      \n",
       "      if ((window.Bokeh !== undefined) || (force === true)) {\n",
       "        for (var i = 0; i < inline_js.length; i++) {\n",
       "          inline_js[i](window.Bokeh);\n",
       "        }if (force === true) {\n",
       "          display_loaded();\n",
       "        }} else if (Date.now() < window._bokeh_timeout) {\n",
       "        setTimeout(run_inline_js, 100);\n",
       "      } else if (!window._bokeh_failed_load) {\n",
       "        console.log(\"Bokeh: BokehJS failed to load within specified timeout.\");\n",
       "        window._bokeh_failed_load = true;\n",
       "      } else if (force !== true) {\n",
       "        var cell = $(document.getElementById(\"60004548-186d-4b23-b07d-413b1fa17de5\")).parents('.cell').data().cell;\n",
       "        cell.output_area.append_execute_result(NB_LOAD_WARNING)\n",
       "      }\n",
       "  \n",
       "    }\n",
       "  \n",
       "    if (window._bokeh_is_loading === 0) {\n",
       "      console.log(\"Bokeh: BokehJS loaded, going straight to plotting\");\n",
       "      run_inline_js();\n",
       "    } else {\n",
       "      load_libs(js_urls, function() {\n",
       "        console.log(\"Bokeh: BokehJS plotting callback run at\", now());\n",
       "        run_inline_js();\n",
       "      });\n",
       "    }\n",
       "  }(this));\n",
       "</script>"
      ]
     },
     "metadata": {},
     "output_type": "display_data"
    }
   ],
   "source": [
    "p = Bar(data, label='OutcomeType', values = 'Named', agg='count', stack='Named',\n",
    "        title=\"Outcomes by Name Status\", legend='top_right')\n",
    "show(p)"
   ]
  },
  {
   "cell_type": "code",
   "execution_count": 19,
   "metadata": {},
   "outputs": [
    {
     "name": "stdout",
     "output_type": "stream",
     "text": [
      "('Unique Colors', 275)\n",
      "['Brown White' 'Cream-Tabby' 'Blue White' 'Blue-Cream' 'Tan' 'Black Tan'\n",
      " 'Blue-Tabby' 'Brown-Tabby' 'Red White' 'White' 'Black' 'Silver' 'Brown'\n",
      " 'Black Red' 'Cream White' 'Orange-Tabby White' 'Black White'\n",
      " 'Brown-Brindle White' 'Black Brown' 'Orange-Tabby' 'Chocolate White'\n",
      " 'Tan White' 'Cream-Tabby White' 'Blue' 'Calico' 'Torbie' 'Yellow'\n",
      " 'Tricolor' 'Tortie' 'Blue-Tabby White' 'Gray White' 'Buff'\n",
      " 'Brown-Tabby White' 'Red' 'Blue Tan' 'Seal-Point' 'Brown-Brindle' 'Gray'\n",
      " 'White Yellow-Brindle' 'Fawn White' 'Flame-Point' 'Black-Tabby White'\n",
      " 'Calico Tortie' 'Black Brown-Brindle' 'Silver Tan' 'Black Red-Tick'\n",
      " 'Blue-Merle' 'Chocolate Tan' 'Sable' 'Brown-Merle White'\n",
      " 'Brown-Tiger White' 'Liver White' 'Black Gray' 'Cream' 'Chocolate'\n",
      " 'Blue-Point' 'Apricot White' 'Black Red-Merle' 'Blue-Merle White' 'Fawn'\n",
      " 'Lynx-Point White' 'Black Fawn' 'Red-Tick White' 'Buff Tan'\n",
      " 'Brown-Brindle Red-Tick' 'Lilac-Point' 'Buff White' 'Tortie-Point'\n",
      " 'Lynx-Point' 'Tortie White' 'Black Tricolor' 'Apricot' 'Red Tan'\n",
      " 'Brown Tan' 'Tricolor White' 'Brown Tricolor' 'White White' 'Gray-Tabby'\n",
      " 'Sable White' 'Blue-Tiger White' 'Yellow-Brindle' 'Gold' 'Blue-Tick'\n",
      " 'Torbie White' 'Black-Smoke White' 'Blue-Tabby Orange' 'Red-Merle'\n",
      " 'Blue Tricolor' 'White Yellow' 'Black-Smoke' 'Calico-Point'\n",
      " 'Blue-Cream Blue-Tiger' 'Blue-Merle Gray' 'Brown Silver' 'Black Sable'\n",
      " 'Black-Brindle' 'Lynx-Point Tortie-Point' 'Black Buff' 'Calico White'\n",
      " 'Orange White' 'Black-Tabby' 'Brown-Merle' 'Black-Brindle White'\n",
      " 'Gray Tan' 'Blue-Merle Brown' 'Red-Merle White' 'Chocolate-Point White'\n",
      " 'Black Silver' 'Cream Red-Tick' 'Chocolate Gold' 'Calico-Point White'\n",
      " 'Brown Brown' 'Seal-Point White' 'Brown Sable' 'Brown-Tabby Calico'\n",
      " 'Silver-Tabby' 'Blue-Merle Tan' 'Black Blue-Tick' 'Black Cream'\n",
      " 'Chocolate Tricolor' 'Gold White' 'Cream Gray' 'Black Blue-Merle'\n",
      " 'Red Red-Tick' 'Orange' 'Black Orange' 'Blue-Cream Tortie'\n",
      " 'Brown Red-Tick' 'Blue Brown-Brindle' 'Black Silver-Tabby' 'Gray Silver'\n",
      " 'Gold Red' 'Gold Tan' 'Blue-Cream Blue-Tabby' 'Cream Tan' 'Black Calico'\n",
      " 'Sable Tan' 'Black Blue' 'Black Brown-Tabby' 'Cream Red' 'Brown-Tiger'\n",
      " 'Agouti' 'Calico Tricolor' 'Black Black' 'Blue-Cream White' 'Brown Gray'\n",
      " 'Blue-Point White' 'Gray-Tabby White' 'Red-Tick Tan'\n",
      " 'Apricot Orange-Tabby' 'Fawn Tricolor' 'Blue-Smoke'\n",
      " 'Brown-Brindle Chocolate' 'Black Black-Brindle' 'Black-Tabby Orange'\n",
      " 'Apricot Brown' 'Buff Red' 'Brown-Brindle Tan' 'Brown Red' 'Red-Tick'\n",
      " 'Blue-Tick White' 'Silver-Tabby White' 'Brown-Brindle Fawn' 'Orange Tan'\n",
      " 'Black Black-Smoke' 'Brown Chocolate' 'Liver-Tick'\n",
      " 'Black-Smoke Brown-Tabby' 'Chocolate-Point' 'Blue-Merle Tricolor'\n",
      " 'Blue Red' 'Brown-Merle Tricolor' 'Blue Tortie' 'Blue-Smoke Brown'\n",
      " 'Silver White' 'Chocolate Red' 'Brown Cream' 'Blue-Merle Cream'\n",
      " 'Orange Tortie' 'Black Brown-Merle' 'Brown Seal-Point' 'Blue-Tabby Tan'\n",
      " 'Red Red-Merle' 'Brown Tortie' 'Cream Sable' 'Black Black-Tabby'\n",
      " 'Brown-Tabby Gray' 'Tan Tan' 'Blue-Tick Brown' 'Black-Smoke Chocolate'\n",
      " 'Black-Tabby Brown' 'Brown Buff' 'Tan Yellow-Brindle' 'Blue-Tick Tan'\n",
      " 'Brown-Merle Red-Tick' 'Brown-Tabby Lynx-Point' 'Brown Torbie'\n",
      " 'Buff Liver' 'Tan Tricolor' 'Black Chocolate' 'Pink'\n",
      " 'Black Yellow-Brindle' 'Silver-Lynx-Point' 'Brown Brown-Merle'\n",
      " 'Black Orange-Tabby' 'Black Tortie' 'Brown Brown-Tabby'\n",
      " 'Blue-Cream Torbie' 'Black-Brindle Brown' 'Red Tricolor'\n",
      " 'Blue Yellow-Brindle' 'Cream Ruddy' 'Blue Cream' 'Gold Yellow'\n",
      " 'Blue-Tiger' 'Brown-Merle Tan' 'Buff Yellow' 'Gold Gold'\n",
      " 'Tortie-Point White' 'Blue-Tick Red-Tick' 'Liver Tan' 'Red-Merle Tan'\n",
      " 'Blue-Cream Buff' 'Blue Orange' 'Blue-Merle Brown-Merle' 'Pink White'\n",
      " 'Brown Calico' 'Calico Torbie' 'Blue Brown' 'Blue-Merle Red'\n",
      " 'Brown-Brindle Brown-Merle' 'Calico Orange-Tabby' 'Flame-Point White'\n",
      " 'Brown-Brindle Brown-Brindle' 'Blue-Merle Blue-Merle' 'Brown Fawn'\n",
      " 'Black Gold' 'Brown-Merle Chocolate' 'Agouti Brown-Tabby'\n",
      " 'Brown-Tabby Tortie' 'Black Yellow' 'Chocolate Red-Tick' 'Gray Red'\n",
      " 'Blue-Tick Brown-Brindle' 'Apricot Tan' 'Liver-Tick White'\n",
      " 'Cream Seal-Point' 'Gray-Tabby Lynx-Point' 'Blue-Tabby Cream'\n",
      " 'Black-Tiger White' 'Chocolate Silver' 'Silver Tricolor'\n",
      " 'Blue-Merle Red-Merle' 'Black-Smoke Tortie' 'Orange Orange-Tabby'\n",
      " 'Blue Fawn' 'Blue-Tick Red' 'Fawn Tan' 'Brown-Tabby Orange'\n",
      " 'Blue-Cream Brown-Brindle' 'Blue-Cream Calico'\n",
      " 'Black-Brindle Brown-Brindle' 'Chocolate Cream' 'Blue-Tabby Calico'\n",
      " 'Orange-Tiger' 'Cream Orange' 'Red Sable' 'Buff Gray' 'Buff Gold'\n",
      " 'Red Silver' 'Chocolate Gray' 'Brown-Tabby Gray-Tabby' 'Yellow Yellow'\n",
      " 'Black Gray-Tabby' 'Buff Sable']\n"
     ]
    }
   ],
   "source": [
    "OrderedColor = data.OrderedColor.unique()\n",
    "print(\"Unique Colors\" , (data.OrderedColor.value_counts() > 0).sum())\n",
    "print(OrderedColor)"
   ]
  },
  {
   "cell_type": "code",
   "execution_count": 20,
   "metadata": {
    "scrolled": false
   },
   "outputs": [
    {
     "name": "stdout",
     "output_type": "stream",
     "text": [
      "('Unique Breeds', 1143)\n",
      "['Shetland-Sheepdog-Mix' 'Domestic-Shorthair-Mix' 'Pit-Bull-Mix' ...,\n",
      " 'English-Bulldog French-Bulldog' 'Boxer Vizsla'\n",
      " 'Australian-Kelpie German-Shepherd']\n"
     ]
    }
   ],
   "source": [
    "OrderedBreed = data.OrderedBreed.unique()\n",
    "print(\"Unique Breeds\" , (data.OrderedBreed.value_counts() > 0).sum())\n",
    "print(OrderedBreed)"
   ]
  },
  {
   "cell_type": "code",
   "execution_count": 21,
   "metadata": {},
   "outputs": [
    {
     "name": "stdout",
     "output_type": "stream",
     "text": [
      "Number of observations:  26729\n",
      "Number of columns:  17\n",
      "Headers:  ['AnimalID' 'Name' 'DateTime' 'OutcomeType' 'OutcomeSubtype' 'AnimalType'\n",
      " 'SexuponOutcome' 'AgeuponOutcome' 'Breed' 'Color' 'Female' 'ConvertedAge'\n",
      " 'Intact' 'MixedBreed' 'Named' 'OrderedColor' 'OrderedBreed']\n"
     ]
    }
   ],
   "source": [
    "def main():\n",
    "    print \"Number of observations: \", len(data.index)\n",
    "    print \"Number of columns: \", len(data.columns)\n",
    "    print \"Headers: \", data.columns.values\n",
    "\n",
    "if __name__ == \"__main__\":\n",
    "    main()\n",
    "\n"
   ]
  },
  {
   "cell_type": "markdown",
   "metadata": {
    "collapsed": true
   },
   "source": [
    "### LOGISTIC REGRESSION"
   ]
  },
  {
   "cell_type": "code",
   "execution_count": 75,
   "metadata": {},
   "outputs": [
    {
     "name": "stdout",
     "output_type": "stream",
     "text": [
      "(20046, 14)\n",
      "(6683, 14)\n",
      "(20046, 1)\n",
      "(6683, 1)\n"
     ]
    }
   ],
   "source": [
    "print X_train.shape\n",
    "print X_dev.shape\n",
    "print y_train.shape\n",
    "print y_dev.shape"
   ]
  },
  {
   "cell_type": "markdown",
   "metadata": {},
   "source": [
    "#### Generate logistic regression"
   ]
  },
  {
   "cell_type": "code",
   "execution_count": 76,
   "metadata": {},
   "outputs": [
    {
     "name": "stdout",
     "output_type": "stream",
     "text": [
      "The mean accuracy when the regularization strength C is 0.5 is  0.633996708065 and the sum of the squared weight is -21.1666084718\n"
     ]
    }
   ],
   "source": [
    "# Select C from 0.00001, 0.0001, 0.001, 0.01, 0.1,, 1.0, 2.0, 4.0, 6.0, 8.0, 10.0 and the highes accuracy is when C=0.5\n",
    "\n",
    "for m in [ 0.5]: # 0.00001, 0.0001, 0.001, 0.01, 0.1,, 1.0, 2.0, 4.0, 6.0, 8.0, 10.0\n",
    "    lrq = LogisticRegression(C = m, penalty = 'l2')\n",
    "    lrq.fit(X_train, y_train)\n",
    "    weight1 = lrq.coef_\n",
    "    sum1 = sum(sum(weight1))\n",
    "    print 'The mean accuracy when the regularization strength C is', m,  'is ', lrq.score(X_dev, y_dev), 'and the sum of the squared weight is', sum1\n"
   ]
  },
  {
   "cell_type": "markdown",
   "metadata": {},
   "source": [
    "#### Feature engineering\n",
    "\n",
    "For this dataset, we have 14 different features, including gender, breed, age and so on.  In order to select the best\n",
    "feature to add to the model, we can go either bottom up starting from only 1 feature and add more feature based on\n",
    "the accuracy, or go down by deleting features. \n",
    "\n"
   ]
  },
  {
   "cell_type": "code",
   "execution_count": 80,
   "metadata": {},
   "outputs": [
    {
     "name": "stdout",
     "output_type": "stream",
     "text": [
      "When the number of features used is  1 , the best feature to add to the model is  Intact_Spayed/Neutered , and the accurancy is 0.608259763579\n",
      "When the number of features used is  2 , the best feature to add to the model is  ConvertedAge , and the accurancy is 0.620828969026\n",
      "When the number of features used is  3 , the best feature to add to the model is  AnimalType_Cat , and the accurancy is 0.628161005536\n",
      "When the number of features used is  4 , the best feature to add to the model is  MixedBreed_Known Breed Combo , and the accurancy is 0.631303306898\n",
      "When the number of features used is  5 , the best feature to add to the model is  Named_Unnamed , and the accurancy is 0.634595241658\n",
      "When the number of features used is  6 , the best feature to add to the model is  MixedBreed_Nonmixed , and the accurancy is 0.634744875056\n",
      "When the number of features used is  7 , the best feature to add to the model is  AnimalType_Dog , and the accurancy is 0.634744875056\n",
      "When the number of features used is  8 , the best feature to add to the model is  Female_Unknown , and the accurancy is 0.634744875056\n",
      "When the number of features used is  9 , the best feature to add to the model is  Intact_Intact , and the accurancy is 0.634744875056\n",
      "When the number of features used is  10 , the best feature to add to the model is  Intact_Unknown , and the accurancy is 0.634744875056\n",
      "When the number of features used is  11 , the best feature to add to the model is  MixedBreed_Mixed Breed , and the accurancy is 0.634744875056\n",
      "When the number of features used is  12 , the best feature to add to the model is  Named_Named , and the accurancy is 0.634744875056\n",
      "When the number of features used is  13 , the best feature to add to the model is  Female_Female , and the accurancy is 0.633996708065\n",
      "When the number of features used is  14 , the best feature to add to the model is  Female_Male , and the accurancy is 0.633996708065\n"
     ]
    }
   ],
   "source": [
    "# Start the bottom up feature selection with Greedy algorithm \n",
    "# Compute the accuracy of logistic regression with N features\n",
    "\n",
    "train = X_train\n",
    "dev = X_dev\n",
    "\n",
    "bestVec = [] \n",
    "\n",
    "for j in range(14):\n",
    "    maxacc = 0\n",
    "    maxi = 0\n",
    "    for i in range(14):\n",
    "        if i not in bestVec:\n",
    "            X_train_eng = pd.DataFrame(train.ix[:, bestVec + [i]])\n",
    "            X_dev_eng = pd.DataFrame(dev.ix[:, bestVec + [i]])\n",
    "            m=.5\n",
    "            lrq = LogisticRegression(C = m, penalty = 'l2')\n",
    "            lrq.fit(X_train_eng, y_train)\n",
    "            if lrq.score(X_dev_eng, y_dev) > maxacc:\n",
    "                maxacc = lrq.score(X_dev_eng, y_dev)\n",
    "                maxi = i\n",
    "    bestVec = bestVec + [maxi]\n",
    "    print 'When the number of features used is ', j+1 ,', the best feature to add to the model is ', predictors[maxi] ,', and the accurancy is', maxacc"
   ]
  },
  {
   "cell_type": "markdown",
   "metadata": {},
   "source": [
    "We can see from the above that when the number of feature is 6, the model has the highest accuracy of 0.634744875056, \n",
    "the model did not increase the accurcy by adding additional features. \n",
    "\n",
    "The six features include: Intact_Spayed/Neutered, ConvertedAge, AnimalType_Cat, MixedBreed_Known Breed Combo, Named_Unnamed, and MixedBreed_Nonmixed.  Next we will exam each features to evaluate each impact on the overal outcome."
   ]
  },
  {
   "cell_type": "markdown",
   "metadata": {},
   "source": [
    "#### Check Spayed/Neutered "
   ]
  },
  {
   "cell_type": "markdown",
   "metadata": {},
   "source": [
    "Since Spayed/Neutered is the first feature from the logistic regression list, it would be interesting to check if the data with only Spayed/Neutered and the data with only intact have better accuracy than original dataset. "
   ]
  },
  {
   "cell_type": "code",
   "execution_count": 87,
   "metadata": {},
   "outputs": [
    {
     "name": "stdout",
     "output_type": "stream",
     "text": [
      "(13969, 14)\n",
      "(5267, 14)\n"
     ]
    }
   ],
   "source": [
    "# Dataset with only Spayed/Neutered and intact\n",
    "X_spayed = train[train['Intact_Spayed/Neutered'] == 1]\n",
    "X_intact = train[train['Intact_Intact'] == 1]\n",
    "\n",
    "y_spayed = y_train[train['Intact_Spayed/Neutered'] == 1]\n",
    "y_intact = y_train[train['Intact_Intact'] == 1]\n",
    "\n",
    "Xdev_spayed = dev[dev['Intact_Spayed/Neutered'] == 1]\n",
    "Xdev_intact = dev[dev['Intact_Intact'] == 1]\n",
    "\n",
    "ydev_spayed = y_dev[dev['Intact_Spayed/Neutered'] == 1]\n",
    "ydev_intact = y_dev[dev['Intact_Intact'] == 1]\n"
   ]
  },
  {
   "cell_type": "code",
   "execution_count": 94,
   "metadata": {},
   "outputs": [
    {
     "name": "stdout",
     "output_type": "stream",
     "text": [
      "The mean accuracy when the regularization strength C for Spayed/Neutered dataset 0.1 is  0.593392355863\n"
     ]
    }
   ],
   "source": [
    "# logistic regression with only Spayed/Neutered \n",
    "for m in [0.1]:     # [0.00001, 0.0001, 0.001, 0.01, 0.1, 1.0, 2.0, 4.0, 6.0, 8.0, 10.0]\n",
    "    lrq = LogisticRegression(C = m, penalty = 'l2')\n",
    "    lrq.fit(X_spayed, y_spayed)\n",
    "    print 'The mean accuracy when the regularization strength C for Spayed/Neutered dataset', m,  'is ', lrq.score(Xdev_spayed, ydev_spayed)"
   ]
  },
  {
   "cell_type": "code",
   "execution_count": 95,
   "metadata": {},
   "outputs": [
    {
     "name": "stdout",
     "output_type": "stream",
     "text": [
      "The mean accuracy when the regularization strength C for intact dataset 0.1 is  0.708875070661\n"
     ]
    }
   ],
   "source": [
    "# logistic regression with only intact\n",
    "for m in [0.1]:     # [0.00001, 0.0001, 0.001, 0.01, 0.1, 1.0, 2.0, 4.0, 6.0, 8.0, 10.0]\n",
    "    lrq = LogisticRegression(C = m, penalty = 'l2')\n",
    "    lrq.fit(X_intact, y_intact)\n",
    "    print 'The mean accuracy when the regularization strength C for intact dataset', m,  'is ', lrq.score(Xdev_intact, ydev_intact)"
   ]
  },
  {
   "cell_type": "markdown",
   "metadata": {},
   "source": [
    "Looks like the dataset with only intact animal have a better accuracy than the original dataset. "
   ]
  },
  {
   "cell_type": "markdown",
   "metadata": {},
   "source": [
    "#### Check ConvertedAge"
   ]
  },
  {
   "cell_type": "markdown",
   "metadata": {},
   "source": [
    "Let's exam the age impact on the accuracy of the data. Consider kitten/puppy is from 0-1 year old, adult cat/dog is 1-7 years old, and senior/mature cat/dog is larger than 7 years old. The data can be divided into three dataset: youth, adult and senior. "
   ]
  },
  {
   "cell_type": "code",
   "execution_count": 106,
   "metadata": {},
   "outputs": [],
   "source": [
    "# Dataset with youth, adult and senior pets\n",
    "\n",
    "X_youth = train[train['ConvertedAge'] <= 52]\n",
    "X_adult = 52 < train[train['ConvertedAge'] < 364]\n",
    "X_senior = train[train['ConvertedAge'] >= 364]\n",
    "\n",
    "y_youth = y_train[train['ConvertedAge'] <= 52]\n",
    "y_adult = 52 < y_train[train['ConvertedAge'] < 364]\n",
    "y_senior = y_train[train['ConvertedAge'] >= 364]\n",
    "\n",
    "Xdev_youth = dev[dev['ConvertedAge'] <= 52]\n",
    "Xdev_adult = 52 < dev[dev['ConvertedAge'] < 364]\n",
    "Xdev_senior = dev[dev['ConvertedAge'] >= 364]\n",
    "\n",
    "ydev_youth = y_dev[dev['ConvertedAge'] <= 52]\n",
    "ydev_adult = 52 < y_dev[dev['ConvertedAge'] < 364]\n",
    "ydev_senior = y_dev[dev['ConvertedAge'] >= 364]"
   ]
  },
  {
   "cell_type": "code",
   "execution_count": 109,
   "metadata": {},
   "outputs": [
    {
     "name": "stdout",
     "output_type": "stream",
     "text": [
      "The mean accuracy when the regularization strength C for kitten/puppy dataset 1e-05 is  0.56471644471\n",
      "The mean accuracy when the regularization strength C for kitten/puppy dataset 0.0001 is  0.612449498728\n",
      "The mean accuracy when the regularization strength C for kitten/puppy dataset 0.001 is  0.628759539129\n",
      "The mean accuracy when the regularization strength C for kitten/puppy dataset 0.01 is  0.63279964088\n",
      "The mean accuracy when the regularization strength C for kitten/puppy dataset 0.1 is  0.633697441269\n",
      "The mean accuracy when the regularization strength C for kitten/puppy dataset 1.0 is  0.633996708065\n",
      "The mean accuracy when the regularization strength C for kitten/puppy dataset 2.0 is  0.633996708065\n",
      "The mean accuracy when the regularization strength C for kitten/puppy dataset 4.0 is  0.633996708065\n",
      "The mean accuracy when the regularization strength C for kitten/puppy dataset 6.0 is  0.633996708065\n",
      "The mean accuracy when the regularization strength C for kitten/puppy dataset 8.0 is  0.633996708065\n",
      "The mean accuracy when the regularization strength C for kitten/puppy dataset 10.0 is  0.633996708065\n"
     ]
    }
   ],
   "source": [
    "# Logistic regression with youth pets\n",
    "\n",
    "for m in [0.00001, 0.0001, 0.001, 0.01, 0.1, 1.0, 2.0, 4.0, 6.0, 8.0, 10.0]:\n",
    "    lrq = LogisticRegression(C = m, penalty = 'l2')\n",
    "    lrq.fit(X_youth, y_youth)\n",
    "    print 'The mean accuracy when the regularization strength C for kitten/puppy dataset', m,  'is ', lrq.score(Xdev_youth, ydev_youth)"
   ]
  },
  {
   "cell_type": "markdown",
   "metadata": {},
   "source": [
    "#### Decision trees"
   ]
  },
  {
   "cell_type": "code",
   "execution_count": 56,
   "metadata": {},
   "outputs": [
    {
     "name": "stdout",
     "output_type": "stream",
     "text": [
      "[[ 0.53275862  0.00344828  0.03448276  0.28275862  0.14655172]\n",
      " [ 0.14285714  0.          0.35714286  0.14285714  0.35714286]\n",
      " [ 0.68627451  0.          0.          0.1372549   0.17647059]\n",
      " ..., \n",
      " [ 0.92682927  0.          0.          0.01626016  0.05691057]\n",
      " [ 0.86448598  0.          0.          0.00934579  0.12616822]\n",
      " [ 0.          0.          0.          0.          1.        ]]\n",
      "Mean squared error = 0.0877633407083\n",
      "The accuracy is 0.352168793847\n"
     ]
    }
   ],
   "source": [
    "dt = DecisionTreeRegressor()\n",
    "dt.fit(X_train[predictors], y_train_hot)\n",
    "\n",
    "pred = dt.predict(X_train[predictors])\n",
    "print pred\n",
    "mse = np.mean( (pred - y_train_hot) ** 2)\n",
    "print 'Mean squared error = {}'.format(mse)\n",
    "print 'The accuracy is',dt.score(X_train[predictors], y_train_hot)"
   ]
  },
  {
   "cell_type": "markdown",
   "metadata": {},
   "source": [
    "Looks like we only get 0.35 on accuracy with decision trees on the training data"
   ]
  },
  {
   "cell_type": "markdown",
   "metadata": {},
   "source": [
    "#### Random forest"
   ]
  },
  {
   "cell_type": "code",
   "execution_count": 58,
   "metadata": {},
   "outputs": [
    {
     "name": "stdout",
     "output_type": "stream",
     "text": [
      "0.29092608207\n"
     ]
    }
   ],
   "source": [
    "from sklearn.model_selection import cross_val_score\n",
    "\n",
    "rf = RandomForestRegressor(n_estimators=50, oob_score=True)\n",
    "scores = cross_val_score(rf, X_train[predictors], y_train_hot, cv=10)\n",
    "print scores.mean()"
   ]
  },
  {
   "cell_type": "markdown",
   "metadata": {},
   "source": [
    "### Neural Network "
   ]
  },
  {
   "cell_type": "markdown",
   "metadata": {},
   "source": [
    "We will use Keras for neural network training. "
   ]
  },
  {
   "cell_type": "code",
   "execution_count": 41,
   "metadata": {
    "collapsed": true
   },
   "outputs": [],
   "source": [
    "# hot encoding to transform training and development data\n",
    "lb_style = LabelBinarizer()\n",
    "y_train_hot = lb_style.fit_transform(y_train)\n",
    "y_train_hot\n",
    "y_dev_hot = lb_style.fit_transform(y_dev)"
   ]
  },
  {
   "cell_type": "code",
   "execution_count": 27,
   "metadata": {},
   "outputs": [
    {
     "name": "stdout",
     "output_type": "stream",
     "text": [
      "Epoch 1/10\n",
      "20046/20046 [==============================] - 2s - loss: 0.3595 - acc: 0.8352     \n",
      "Epoch 2/10\n",
      "20046/20046 [==============================] - 1s - loss: 0.3198 - acc: 0.8579     \n",
      "Epoch 3/10\n",
      "20046/20046 [==============================] - 1s - loss: 0.3154 - acc: 0.8589     \n",
      "Epoch 4/10\n",
      "20046/20046 [==============================] - 1s - loss: 0.3137 - acc: 0.8592     \n",
      "Epoch 5/10\n",
      "20046/20046 [==============================] - 1s - loss: 0.3122 - acc: 0.8599     - ETA\n",
      "Epoch 6/10\n",
      "20046/20046 [==============================] - 1s - loss: 0.3111 - acc: 0.8609     \n",
      "Epoch 7/10\n",
      "20046/20046 [==============================] - 1s - loss: 0.3099 - acc: 0.8610     \n",
      "Epoch 8/10\n",
      "20046/20046 [==============================] - 1s - loss: 0.3090 - acc: 0.8611     \n",
      "Epoch 9/10\n",
      "20046/20046 [==============================] - 1s - loss: 0.3078 - acc: 0.8614     \n",
      "Epoch 10/10\n",
      "20046/20046 [==============================] - 1s - loss: 0.3069 - acc: 0.8622     \n"
     ]
    },
    {
     "data": {
      "text/plain": [
       "<keras.callbacks.History at 0x124ea0650>"
      ]
     },
     "execution_count": 27,
     "metadata": {},
     "output_type": "execute_result"
    }
   ],
   "source": [
    "# using keras to predict the accuracy\n",
    "model = Sequential([\n",
    "    Dense(32, input_shape=(14,)),\n",
    "    Activation('sigmoid'),\n",
    "    Dense(5),\n",
    "    Activation('softmax'),\n",
    "])\n",
    "\n",
    "model.compile(optimizer='adam',\n",
    "              loss='binary_crossentropy',\n",
    "              metrics=['accuracy'])\n",
    "model.fit(np.array(X_train), y_train_hot, epochs=10, batch_size=32)"
   ]
  },
  {
   "cell_type": "code",
   "execution_count": 28,
   "metadata": {},
   "outputs": [
    {
     "name": "stdout",
     "output_type": "stream",
     "text": [
      "6064/6683 [==========================>...] - ETA: 0s\n",
      "Accurancy on test data 0.86311536123\n"
     ]
    }
   ],
   "source": [
    "score = model.evaluate(np.array(X_dev), y_dev_hot, batch_size=16)\n",
    "\n",
    "print '\\nAccurancy on test data', score[1]"
   ]
  },
  {
   "cell_type": "markdown",
   "metadata": {
    "collapsed": true
   },
   "source": [
    "The accuracy shows that neural network gives a higher accuracy than logistic regression"
   ]
  },
  {
   "cell_type": "code",
   "execution_count": null,
   "metadata": {
    "collapsed": true
   },
   "outputs": [],
   "source": []
  }
 ],
 "metadata": {
  "anaconda-cloud": {},
  "kernelspec": {
   "display_name": "Python [default]",
   "language": "python",
   "name": "python2"
  },
  "language_info": {
   "codemirror_mode": {
    "name": "ipython",
    "version": 2
   },
   "file_extension": ".py",
   "mimetype": "text/x-python",
   "name": "python",
   "nbconvert_exporter": "python",
   "pygments_lexer": "ipython2",
   "version": "2.7.13"
  }
 },
 "nbformat": 4,
 "nbformat_minor": 1
}
