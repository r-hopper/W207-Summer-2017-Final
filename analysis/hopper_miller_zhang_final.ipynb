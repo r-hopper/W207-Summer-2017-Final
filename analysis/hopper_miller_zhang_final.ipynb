{
 "cells": [
  {
   "cell_type": "markdown",
   "metadata": {},
   "source": [
    "## Shelter Animal Outcomes\n",
    "### MIDS W207 Final Project\n",
    "### Clay Miller, Roseanna Hopper, Yubo Zhang"
   ]
  },
  {
   "cell_type": "code",
   "execution_count": 22,
   "metadata": {
    "collapsed": false
   },
   "outputs": [
    {
     "data": {
      "text/html": [
       "\n",
       "    <div class=\"bk-root\">\n",
       "        <a href=\"http://bokeh.pydata.org\" target=\"_blank\" class=\"bk-logo bk-logo-small bk-logo-notebook\"></a>\n",
       "        <span id=\"88af0087-4557-4f24-8b8a-1fbdcc24dbf7\">Loading BokehJS ...</span>\n",
       "    </div>"
      ]
     },
     "metadata": {},
     "output_type": "display_data"
    },
    {
     "data": {
      "application/javascript": [
       "\n",
       "(function(global) {\n",
       "  function now() {\n",
       "    return new Date();\n",
       "  }\n",
       "\n",
       "  var force = true;\n",
       "\n",
       "  if (typeof (window._bokeh_onload_callbacks) === \"undefined\" || force === true) {\n",
       "    window._bokeh_onload_callbacks = [];\n",
       "    window._bokeh_is_loading = undefined;\n",
       "  }\n",
       "\n",
       "\n",
       "  \n",
       "  if (typeof (window._bokeh_timeout) === \"undefined\" || force === true) {\n",
       "    window._bokeh_timeout = Date.now() + 5000;\n",
       "    window._bokeh_failed_load = false;\n",
       "  }\n",
       "\n",
       "  var NB_LOAD_WARNING = {'data': {'text/html':\n",
       "     \"<div style='background-color: #fdd'>\\n\"+\n",
       "     \"<p>\\n\"+\n",
       "     \"BokehJS does not appear to have successfully loaded. If loading BokehJS from CDN, this \\n\"+\n",
       "     \"may be due to a slow or bad network connection. Possible fixes:\\n\"+\n",
       "     \"</p>\\n\"+\n",
       "     \"<ul>\\n\"+\n",
       "     \"<li>re-rerun `output_notebook()` to attempt to load from CDN again, or</li>\\n\"+\n",
       "     \"<li>use INLINE resources instead, as so:</li>\\n\"+\n",
       "     \"</ul>\\n\"+\n",
       "     \"<code>\\n\"+\n",
       "     \"from bokeh.resources import INLINE\\n\"+\n",
       "     \"output_notebook(resources=INLINE)\\n\"+\n",
       "     \"</code>\\n\"+\n",
       "     \"</div>\"}};\n",
       "\n",
       "  function display_loaded() {\n",
       "    if (window.Bokeh !== undefined) {\n",
       "      document.getElementById(\"88af0087-4557-4f24-8b8a-1fbdcc24dbf7\").textContent = \"BokehJS successfully loaded.\";\n",
       "    } else if (Date.now() < window._bokeh_timeout) {\n",
       "      setTimeout(display_loaded, 100)\n",
       "    }\n",
       "  }\n",
       "\n",
       "  function run_callbacks() {\n",
       "    window._bokeh_onload_callbacks.forEach(function(callback) { callback() });\n",
       "    delete window._bokeh_onload_callbacks\n",
       "    console.info(\"Bokeh: all callbacks have finished\");\n",
       "  }\n",
       "\n",
       "  function load_libs(js_urls, callback) {\n",
       "    window._bokeh_onload_callbacks.push(callback);\n",
       "    if (window._bokeh_is_loading > 0) {\n",
       "      console.log(\"Bokeh: BokehJS is being loaded, scheduling callback at\", now());\n",
       "      return null;\n",
       "    }\n",
       "    if (js_urls == null || js_urls.length === 0) {\n",
       "      run_callbacks();\n",
       "      return null;\n",
       "    }\n",
       "    console.log(\"Bokeh: BokehJS not loaded, scheduling load and callback at\", now());\n",
       "    window._bokeh_is_loading = js_urls.length;\n",
       "    for (var i = 0; i < js_urls.length; i++) {\n",
       "      var url = js_urls[i];\n",
       "      var s = document.createElement('script');\n",
       "      s.src = url;\n",
       "      s.async = false;\n",
       "      s.onreadystatechange = s.onload = function() {\n",
       "        window._bokeh_is_loading--;\n",
       "        if (window._bokeh_is_loading === 0) {\n",
       "          console.log(\"Bokeh: all BokehJS libraries loaded\");\n",
       "          run_callbacks()\n",
       "        }\n",
       "      };\n",
       "      s.onerror = function() {\n",
       "        console.warn(\"failed to load library \" + url);\n",
       "      };\n",
       "      console.log(\"Bokeh: injecting script tag for BokehJS library: \", url);\n",
       "      document.getElementsByTagName(\"head\")[0].appendChild(s);\n",
       "    }\n",
       "  };var element = document.getElementById(\"88af0087-4557-4f24-8b8a-1fbdcc24dbf7\");\n",
       "  if (element == null) {\n",
       "    console.log(\"Bokeh: ERROR: autoload.js configured with elementid '88af0087-4557-4f24-8b8a-1fbdcc24dbf7' but no matching script tag was found. \")\n",
       "    return false;\n",
       "  }\n",
       "\n",
       "  var js_urls = [\"https://cdn.pydata.org/bokeh/release/bokeh-0.12.4.min.js\", \"https://cdn.pydata.org/bokeh/release/bokeh-widgets-0.12.4.min.js\"];\n",
       "\n",
       "  var inline_js = [\n",
       "    function(Bokeh) {\n",
       "      Bokeh.set_log_level(\"info\");\n",
       "    },\n",
       "    \n",
       "    function(Bokeh) {\n",
       "      \n",
       "      document.getElementById(\"88af0087-4557-4f24-8b8a-1fbdcc24dbf7\").textContent = \"BokehJS is loading...\";\n",
       "    },\n",
       "    function(Bokeh) {\n",
       "      console.log(\"Bokeh: injecting CSS: https://cdn.pydata.org/bokeh/release/bokeh-0.12.4.min.css\");\n",
       "      Bokeh.embed.inject_css(\"https://cdn.pydata.org/bokeh/release/bokeh-0.12.4.min.css\");\n",
       "      console.log(\"Bokeh: injecting CSS: https://cdn.pydata.org/bokeh/release/bokeh-widgets-0.12.4.min.css\");\n",
       "      Bokeh.embed.inject_css(\"https://cdn.pydata.org/bokeh/release/bokeh-widgets-0.12.4.min.css\");\n",
       "    }\n",
       "  ];\n",
       "\n",
       "  function run_inline_js() {\n",
       "    \n",
       "    if ((window.Bokeh !== undefined) || (force === true)) {\n",
       "      for (var i = 0; i < inline_js.length; i++) {\n",
       "        inline_js[i](window.Bokeh);\n",
       "      }if (force === true) {\n",
       "        display_loaded();\n",
       "      }} else if (Date.now() < window._bokeh_timeout) {\n",
       "      setTimeout(run_inline_js, 100);\n",
       "    } else if (!window._bokeh_failed_load) {\n",
       "      console.log(\"Bokeh: BokehJS failed to load within specified timeout.\");\n",
       "      window._bokeh_failed_load = true;\n",
       "    } else if (force !== true) {\n",
       "      var cell = $(document.getElementById(\"88af0087-4557-4f24-8b8a-1fbdcc24dbf7\")).parents('.cell').data().cell;\n",
       "      cell.output_area.append_execute_result(NB_LOAD_WARNING)\n",
       "    }\n",
       "\n",
       "  }\n",
       "\n",
       "  if (window._bokeh_is_loading === 0) {\n",
       "    console.log(\"Bokeh: BokehJS loaded, going straight to plotting\");\n",
       "    run_inline_js();\n",
       "  } else {\n",
       "    load_libs(js_urls, function() {\n",
       "      console.log(\"Bokeh: BokehJS plotting callback run at\", now());\n",
       "      run_inline_js();\n",
       "    });\n",
       "  }\n",
       "}(this));"
      ]
     },
     "metadata": {},
     "output_type": "display_data"
    }
   ],
   "source": [
    "import pandas as pd\n",
    "import numpy as np\n",
    "import matplotlib.pyplot as plt\n",
    "import re\n",
    "#import tensorflow \n",
    "#import keras\n",
    "import itertools\n",
    "\n",
    "from sklearn import metrics\n",
    "from sklearn.preprocessing import StandardScaler\n",
    "from sklearn.feature_extraction import FeatureHasher, DictVectorizer\n",
    "from sklearn.pipeline import Pipeline\n",
    "from sklearn.pipeline import FeatureUnion\n",
    "from sklearn.model_selection import GridSearchCV\n",
    "from sklearn.metrics import confusion_matrix\n",
    "from sklearn.metrics import classification_report\n",
    "from sklearn.cross_validation import train_test_split\n",
    "from sklearn.linear_model import LogisticRegression\n",
    "from sklearn.base import BaseEstimator, TransformerMixin\n",
    "from bokeh.charts import Bar, output_file, show, output_notebook\n",
    "#from keras.models import Sequential\n",
    "#from keras.layers import Dense, Activation\n",
    "from sklearn.preprocessing import LabelBinarizer\n",
    "from sklearn.ensemble import RandomForestRegressor\n",
    "from sklearn.tree import DecisionTreeRegressor\n",
    "from IPython.core.display import Image, display\n",
    "from sklearn.externals.six import StringIO\n",
    "from IPython.display import Image  \n",
    "from sklearn import tree\n",
    "\n",
    "output_notebook()\n",
    "\n",
    "\n",
    "%matplotlib inline"
   ]
  },
  {
   "cell_type": "code",
   "execution_count": 31,
   "metadata": {
    "collapsed": true
   },
   "outputs": [],
   "source": [
    "# Load the data\n",
    "data = pd.read_csv('../data/train.csv')\n",
    "breeds = pd.read_csv('../data/breeds.csv')\n",
    "breeds['Breed'] = breeds['Breed'].str.strip()\n",
    "top_breed_list = []\n",
    "for b in breeds['Breed']:\n",
    "    top_breed_list.append(b.strip())\n",
    "data['OutcomeSubtype'] = data['OutcomeSubtype'].fillna('')\n",
    "data['Female'] = 'Female' in data['SexuponOutcome']\n",
    "data['AgeuponOutcome'].fillna('', inplace = True)\n",
    "\n",
    "def ageConvert(age):\n",
    "    regexyear = '(\\d+) year'\n",
    "    regexmnth = '(\\d+) month'\n",
    "    regexwk = '(\\d+) week'\n",
    "    regexday = '(\\d+) day'\n",
    "    if re.match(regexyear, age):\n",
    "        const = int(re.match(regexyear, age).groups()[0])\n",
    "        return const*52\n",
    "    elif re.match(regexmnth, age):\n",
    "        const = int(re.match(regexmnth, age).groups()[0])\n",
    "        return const*4.5 # a month is roughly 4.5 weeks\n",
    "    elif re.match(regexwk, age):\n",
    "        return int(re.match(regexwk, age).groups()[0])\n",
    "    elif re.match(regexday, age):\n",
    "        const = int(re.match(regexday, age).groups()[0])\n",
    "        return const/7 #7 days in a week\n",
    "    else:\n",
    "        return None\n",
    "    \n",
    "data['ConvertedAge']=data['AgeuponOutcome'].apply(ageConvert)\n",
    "\n",
    "\n",
    "def female(i):\n",
    "    i = str(i)\n",
    "    if i.find('Female') >= 0: return 'Female'\n",
    "    if i.find('Unknown') >= 0: return 'Unknown'\n",
    "    return 'Male'\n",
    "data['Female'] = data.SexuponOutcome.apply(female)\n",
    "\n",
    "def intact(i):\n",
    "    i = str(i)\n",
    "    if i.find('Intact') >= 0: return 'Intact'\n",
    "    if i.find('Unknown') >= 0: return 'Unknown'\n",
    "    return 'Spayed/Neutered'\n",
    "data['Intact'] = data.SexuponOutcome.apply(intact)\n",
    "\n",
    "def mixed_breed(i):\n",
    "    i = str(i)\n",
    "    if i.find('Mix') >= 0: return 'Mixed Breed'\n",
    "    if i.find('/') >= 0: return 'Known Breed Combo'\n",
    "    return 'Nonmixed'\n",
    "data['MixedBreed'] = data.Breed.apply(mixed_breed)\n",
    "\n",
    "def top_breed(i):\n",
    "    i = str(i)\n",
    "    if any(word in i for word in top_breed_list):\n",
    "        return int(1)\n",
    "    else:\n",
    "        return int(0)\n",
    "data['TopBreed'] = data.Breed.apply(top_breed)\n",
    "\n",
    "def breed_rank(i):\n",
    "    i = str(i)\n",
    "    ranks = []\n",
    "    for word in top_breed_list:\n",
    "        if word in i:\n",
    "            ranks.append(int(breeds.loc[breeds['Breed'] == word]['2007']))\n",
    "    if len(ranks) > 0:\n",
    "        return np.mean(ranks)\n",
    "    else:\n",
    "        return 51.0\n",
    "data['BreedRank'] = data.Breed.apply(breed_rank)\n",
    "\n",
    "def pit_bull(i):\n",
    "    i = str(i)\n",
    "    if i.find(\"Pit Bull\") >=0: return int(1)\n",
    "    else: return int(0)\n",
    "data['PitBull'] = data.Breed.apply(pit_bull)\n",
    "\n",
    "def black_cat(i):\n",
    "    i = str(i)\n",
    "    if i == \"Black\": return int(1)\n",
    "    else: return int(0)\n",
    "data['BlackCat'] = data.Color.apply(black_cat)\n",
    "\n",
    "def naming(i):\n",
    "    if pd.isnull(i): return 'Unnamed'\n",
    "    return 'Named'\n",
    "data['Named'] = data.Name.apply(naming)\n",
    "\n",
    "#Change all breed and color strings so that they are ordered consistently\n",
    "#E.G. all \"brown/black\" and \"black/brown\" should become \"black, brown\"\n",
    "def reorder(i):\n",
    "    i = str(i)\n",
    "    if i.find(\" \") >= 0: i = i.replace(\" \", \"-\")\n",
    "    if i.find(\"/\") >= 0: i = i.replace(\"/\", \" \")\n",
    "    i = i.split()\n",
    "    i = sorted(i)\n",
    "    i = ' '.join(i)\n",
    "    return i\n",
    "\n",
    "data['OrderedColor'] = data.Color.apply(reorder)\n",
    "data['OrderedBreed'] = data.Breed.apply(reorder)\n"
   ]
  },
  {
   "cell_type": "code",
   "execution_count": 32,
   "metadata": {
    "collapsed": false,
    "scrolled": true
   },
   "outputs": [
    {
     "data": {
      "text/html": [
       "<div>\n",
       "<table border=\"1\" class=\"dataframe\">\n",
       "  <thead>\n",
       "    <tr style=\"text-align: right;\">\n",
       "      <th></th>\n",
       "      <th>count</th>\n",
       "      <th>mean</th>\n",
       "      <th>std</th>\n",
       "      <th>min</th>\n",
       "      <th>25%</th>\n",
       "      <th>50%</th>\n",
       "      <th>75%</th>\n",
       "      <th>max</th>\n",
       "    </tr>\n",
       "  </thead>\n",
       "  <tbody>\n",
       "    <tr>\n",
       "      <th>ConvertedAge</th>\n",
       "      <td>26729.0</td>\n",
       "      <td>113.370253</td>\n",
       "      <td>154.064766</td>\n",
       "      <td>0.0</td>\n",
       "      <td>9.0</td>\n",
       "      <td>52.0</td>\n",
       "      <td>156.0</td>\n",
       "      <td>1040.0</td>\n",
       "    </tr>\n",
       "    <tr>\n",
       "      <th>BreedRank</th>\n",
       "      <td>26729.0</td>\n",
       "      <td>35.975981</td>\n",
       "      <td>20.246237</td>\n",
       "      <td>1.0</td>\n",
       "      <td>12.0</td>\n",
       "      <td>51.0</td>\n",
       "      <td>51.0</td>\n",
       "      <td>51.0</td>\n",
       "    </tr>\n",
       "  </tbody>\n",
       "</table>\n",
       "</div>"
      ],
      "text/plain": [
       "                count        mean         std  min   25%   50%    75%     max\n",
       "ConvertedAge  26729.0  113.370253  154.064766  0.0   9.0  52.0  156.0  1040.0\n",
       "BreedRank     26729.0   35.975981   20.246237  1.0  12.0  51.0   51.0    51.0"
      ]
     },
     "execution_count": 32,
     "metadata": {},
     "output_type": "execute_result"
    }
   ],
   "source": [
    "#Remove unnecessary variables\n",
    "#del data['AnimalID']\n",
    "#del data['Name']\n",
    "#del data['DateTime']\n",
    "#del data['Breed']\n",
    "#del data['OutcomeSubtype']\n",
    "#del data['SexuponOutcome']\n",
    "#del data['AgeuponOutcome']\n",
    "#del data['Color']\n",
    "#del data['OrderedBreed']\n",
    "#del data['OrderedColor']\n",
    "\n",
    "continuous = {'dog':['ConvertedAge', 'BreedRank'], 'cat':['ConvertedAge']}\n",
    "discrete = {'dog':[\n",
    "    'AnimalType',\n",
    "    'Female',\n",
    "    'Intact',\n",
    "    'MixedBreed',\n",
    "    'Named',\n",
    "    'TopBreed',\n",
    "    'PitBull'\n",
    "], 'cat': [\n",
    "    'AnimalType',\n",
    "    'Female',\n",
    "    'Intact',\n",
    "    'MixedBreed',\n",
    "    'Named',\n",
    "    'BlackCat'\n",
    "]}\n",
    "\n",
    "\n",
    "predictors = {'dog': continuous['dog'] + discrete['dog'], 'cat':continuous['cat']+discrete['cat']}\n",
    "target = 'OutcomeType'\n",
    "\n",
    "#For those missing an age, fill with the median age by animal type\n",
    "data[\"ConvertedAge\"] = data.groupby(\"AnimalType\").transform(lambda x: x.fillna(x.median()))\n",
    "data[continuous['dog']].describe().T"
   ]
  },
  {
   "cell_type": "code",
   "execution_count": 33,
   "metadata": {
    "collapsed": false
   },
   "outputs": [
    {
     "name": "stdout",
     "output_type": "stream",
     "text": [
      "       OutcomeType  ConvertedAge  BreedRank  TopBreed  PitBull  \\\n",
      "0  Return_to_owner          52.0       20.0         1        0   \n",
      "1       Euthanasia          52.0       51.0         0        0   \n",
      "2         Adoption         104.0       51.0         0        1   \n",
      "3         Transfer           3.0       51.0         0        0   \n",
      "4         Transfer         104.0       28.5         1        0   \n",
      "\n",
      "   AnimalType_Cat  AnimalType_Dog  Female_Female  Female_Male  Female_Unknown  \\\n",
      "0               0               1              0            1               0   \n",
      "1               1               0              1            0               0   \n",
      "2               0               1              0            1               0   \n",
      "3               1               0              0            1               0   \n",
      "4               0               1              0            1               0   \n",
      "\n",
      "   Intact_Intact  Intact_Spayed/Neutered  Intact_Unknown  \\\n",
      "0              0                       1               0   \n",
      "1              0                       1               0   \n",
      "2              0                       1               0   \n",
      "3              1                       0               0   \n",
      "4              0                       1               0   \n",
      "\n",
      "   MixedBreed_Known Breed Combo  MixedBreed_Mixed Breed  MixedBreed_Nonmixed  \\\n",
      "0                             0                       1                    0   \n",
      "1                             0                       1                    0   \n",
      "2                             0                       1                    0   \n",
      "3                             0                       1                    0   \n",
      "4                             1                       0                    0   \n",
      "\n",
      "   Named_Named  Named_Unnamed  \n",
      "0            1              0  \n",
      "1            1              0  \n",
      "2            1              0  \n",
      "3            0              1  \n",
      "4            0              1  \n",
      "       OutcomeType  ConvertedAge  BlackCat  AnimalType_Cat  AnimalType_Dog  \\\n",
      "0  Return_to_owner          52.0         0               0               1   \n",
      "1       Euthanasia          52.0         0               1               0   \n",
      "2         Adoption         104.0         0               0               1   \n",
      "3         Transfer           3.0         0               1               0   \n",
      "4         Transfer         104.0         0               0               1   \n",
      "\n",
      "   Female_Female  Female_Male  Female_Unknown  Intact_Intact  \\\n",
      "0              0            1               0              0   \n",
      "1              1            0               0              0   \n",
      "2              0            1               0              0   \n",
      "3              0            1               0              1   \n",
      "4              0            1               0              0   \n",
      "\n",
      "   Intact_Spayed/Neutered  Intact_Unknown  MixedBreed_Known Breed Combo  \\\n",
      "0                       1               0                             0   \n",
      "1                       1               0                             0   \n",
      "2                       1               0                             0   \n",
      "3                       0               0                             0   \n",
      "4                       1               0                             1   \n",
      "\n",
      "   MixedBreed_Mixed Breed  MixedBreed_Nonmixed  Named_Named  Named_Unnamed  \n",
      "0                       1                    0            1              0  \n",
      "1                       1                    0            1              0  \n",
      "2                       1                    0            1              0  \n",
      "3                       1                    0            0              1  \n",
      "4                       0                    0            0              1  \n",
      "(26729, 18)\n",
      "(26729, 16)\n"
     ]
    }
   ],
   "source": [
    "#Turn categorical variables into binaries\n",
    "data2_dog = pd.concat([data[target], data[continuous['dog']], pd.get_dummies(data[discrete['dog']])], axis=1)\n",
    "data2_cat = pd.concat([data[target], data[continuous['cat']], pd.get_dummies(data[discrete['cat']])], axis=1)\n",
    "\n",
    "print data2_dog.head()\n",
    "print data2_cat.head()\n",
    "print data2_dog.shape\n",
    "print data2_cat.shape"
   ]
  },
  {
   "cell_type": "code",
   "execution_count": 34,
   "metadata": {
    "collapsed": false,
    "scrolled": true
   },
   "outputs": [
    {
     "name": "stderr",
     "output_type": "stream",
     "text": [
      "C:\\Users\\Clay\\Anaconda2\\lib\\site-packages\\ipykernel\\__main__.py:24: SettingWithCopyWarning: \n",
      "A value is trying to be set on a copy of a slice from a DataFrame.\n",
      "Try using .loc[row_indexer,col_indexer] = value instead\n",
      "\n",
      "See the caveats in the documentation: http://pandas.pydata.org/pandas-docs/stable/indexing.html#indexing-view-versus-copy\n",
      "C:\\Users\\Clay\\Anaconda2\\lib\\site-packages\\ipykernel\\__main__.py:25: SettingWithCopyWarning: \n",
      "A value is trying to be set on a copy of a slice from a DataFrame.\n",
      "Try using .loc[row_indexer,col_indexer] = value instead\n",
      "\n",
      "See the caveats in the documentation: http://pandas.pydata.org/pandas-docs/stable/indexing.html#indexing-view-versus-copy\n"
     ]
    },
    {
     "name": "stdout",
     "output_type": "stream",
     "text": [
      "   ConvertedAge  BreedRank  AnimalType_Cat  AnimalType_Dog  Female_Female  \\\n",
      "0          52.0       20.0               0               1              0   \n",
      "2         104.0       51.0               0               1              0   \n",
      "4         104.0       28.5               0               1              0   \n",
      "5           4.5       30.0               0               1              1   \n",
      "8          22.5       51.0               0               1              1   \n",
      "\n",
      "   Female_Male  Female_Unknown  Intact_Intact  Intact_Spayed/Neutered  \\\n",
      "0            1               0              0                       1   \n",
      "2            1               0              0                       1   \n",
      "4            1               0              0                       1   \n",
      "5            0               0              1                       0   \n",
      "8            0               0              0                       1   \n",
      "\n",
      "   Intact_Unknown  MixedBreed_Known Breed Combo  MixedBreed_Mixed Breed  \\\n",
      "0               0                             0                       1   \n",
      "2               0                             0                       1   \n",
      "4               0                             1                       0   \n",
      "5               0                             1                       0   \n",
      "8               0                             0                       1   \n",
      "\n",
      "   MixedBreed_Nonmixed  Named_Named  Named_Unnamed  TopBreed  PitBull  \n",
      "0                    0            1              0         1        0  \n",
      "2                    0            1              0         0        1  \n",
      "4                    0            0              1         1        0  \n",
      "5                    0            1              0         1        0  \n",
      "8                    0            1              0         0        1  \n"
     ]
    },
    {
     "name": "stderr",
     "output_type": "stream",
     "text": [
      "C:\\Users\\Clay\\Anaconda2\\lib\\site-packages\\ipykernel\\__main__.py:30: SettingWithCopyWarning: \n",
      "A value is trying to be set on a copy of a slice from a DataFrame.\n",
      "Try using .loc[row_indexer,col_indexer] = value instead\n",
      "\n",
      "See the caveats in the documentation: http://pandas.pydata.org/pandas-docs/stable/indexing.html#indexing-view-versus-copy\n"
     ]
    },
    {
     "name": "stdout",
     "output_type": "stream",
     "text": [
      "    ConvertedAge  AnimalType_Cat  AnimalType_Dog  Female_Female  Female_Male  \\\n",
      "1           52.0               1               0              1            0   \n",
      "3            3.0               1               0              0            1   \n",
      "6            3.0               1               0              0            1   \n",
      "7            3.0               1               0              0            0   \n",
      "10         104.0               1               0              0            0   \n",
      "\n",
      "    Female_Unknown  Intact_Intact  Intact_Spayed/Neutered  Intact_Unknown  \\\n",
      "1                0              0                       1               0   \n",
      "3                0              1                       0               0   \n",
      "6                0              1                       0               0   \n",
      "7                1              0                       0               1   \n",
      "10               1              0                       0               1   \n",
      "\n",
      "    MixedBreed_Known Breed Combo  MixedBreed_Mixed Breed  MixedBreed_Nonmixed  \\\n",
      "1                              0                       1                    0   \n",
      "3                              0                       1                    0   \n",
      "6                              0                       1                    0   \n",
      "7                              0                       1                    0   \n",
      "10                             0                       1                    0   \n",
      "\n",
      "    Named_Named  Named_Unnamed  BlackCat  \n",
      "1             1              0         0  \n",
      "3             0              1         0  \n",
      "6             1              0         0  \n",
      "7             0              1         0  \n",
      "10            0              1         1  \n"
     ]
    },
    {
     "name": "stderr",
     "output_type": "stream",
     "text": [
      "C:\\Users\\Clay\\Anaconda2\\lib\\site-packages\\ipykernel\\__main__.py:31: SettingWithCopyWarning: \n",
      "A value is trying to be set on a copy of a slice from a DataFrame.\n",
      "Try using .loc[row_indexer,col_indexer] = value instead\n",
      "\n",
      "See the caveats in the documentation: http://pandas.pydata.org/pandas-docs/stable/indexing.html#indexing-view-versus-copy\n"
     ]
    }
   ],
   "source": [
    "discrete_dog = ['AnimalType_Cat', 'AnimalType_Dog', 'Female_Female', 'Female_Male', 'Female_Unknown',\n",
    "           'Intact_Intact', 'Intact_Spayed/Neutered', 'Intact_Unknown', 'MixedBreed_Known Breed Combo',\n",
    "           'MixedBreed_Mixed Breed', 'MixedBreed_Nonmixed', 'Named_Named', 'Named_Unnamed', 'TopBreed', 'PitBull']\n",
    "\n",
    "discrete_cat = ['AnimalType_Cat', 'AnimalType_Dog', 'Female_Female', 'Female_Male', 'Female_Unknown',\n",
    "           'Intact_Intact', 'Intact_Spayed/Neutered', 'Intact_Unknown', 'MixedBreed_Known Breed Combo',\n",
    "           'MixedBreed_Mixed Breed', 'MixedBreed_Nonmixed', 'Named_Named', 'Named_Unnamed', 'BlackCat']\n",
    "\n",
    "predictors_dog = continuous['dog'] + discrete_dog\n",
    "predictors_cat = continuous['cat'] + discrete_cat\n",
    "\n",
    "# Train/test split\n",
    "X_dog = data2_dog[data2_dog['AnimalType_Dog'] == 1][predictors_dog]\n",
    "y_dog = data2_dog[data2_dog['AnimalType_Dog'] == 1][[target]]\n",
    "X_dog_train, X_dog_dev, y_dog_train, y_dog_dev = train_test_split(X_dog, y_dog, random_state=2)\n",
    "\n",
    "X_cat = data2_cat[data2_cat['AnimalType_Cat'] == 1][predictors_cat]\n",
    "y_cat = data2_cat[data2_cat['AnimalType_Cat'] == 1][[target]]\n",
    "X_cat_train, X_cat_dev, y_cat_train, y_cat_dev = train_test_split(X_cat, y_cat, random_state=2)\n",
    "\n",
    "#Normalize \n",
    "ss_dog = StandardScaler()\n",
    "ss_dog.fit(X_dog_train[continuous['dog']])   # Compute mean and std of training data\n",
    "X_dog_train[continuous['dog']] = ss_dog.transform(X_dog_train[continuous['dog']])  # Use that mean and std to normalize columns of training data\n",
    "X_dog_dev[continuous['dog']] = ss_dog.transform(X_dog_dev[continuous['dog']]) \n",
    "print X_dog.head()\n",
    "\n",
    "ss_cat = StandardScaler()\n",
    "ss_cat.fit(X_cat_train[continuous['cat']])   # Compute mean and std of training data\n",
    "X_cat_train[continuous['cat']] = ss_cat.transform(X_cat_train[continuous['cat']])  # Use that mean and std to normalize columns of training data\n",
    "X_cat_dev[continuous['cat']] = ss_cat.transform(X_cat_dev[continuous['cat']]) \n",
    "print X_cat.head()"
   ]
  },
  {
   "cell_type": "markdown",
   "metadata": {},
   "source": [
    "#### Visualizing Features"
   ]
  },
  {
   "cell_type": "code",
   "execution_count": null,
   "metadata": {
    "collapsed": false
   },
   "outputs": [],
   "source": [
    "#A quick look at the variables\n",
    "\n",
    "#Animal types\n",
    "animal_type = data['AnimalType'].value_counts() \n",
    "animal_type.plot(kind='bar',color='#34ABD8',rot=0)"
   ]
  },
  {
   "cell_type": "code",
   "execution_count": null,
   "metadata": {
    "collapsed": false
   },
   "outputs": [],
   "source": [
    "#Animal types\n",
    "p = Bar(data, label='OutcomeType', values = 'AnimalType', agg='count', stack='AnimalType',\n",
    "        title=\"Outcomes by Animal Type\", legend='top_right')\n",
    "show(p)"
   ]
  },
  {
   "cell_type": "code",
   "execution_count": null,
   "metadata": {
    "collapsed": false,
    "scrolled": false
   },
   "outputs": [],
   "source": [
    "#Outcome types\n",
    "outcome_type = data['OutcomeType'].value_counts() \n",
    "outcome_type.plot(kind='bar',color='#34ABD8',rot=0)"
   ]
  },
  {
   "cell_type": "code",
   "execution_count": null,
   "metadata": {
    "collapsed": false,
    "scrolled": false
   },
   "outputs": [],
   "source": [
    "#Spayed/neutered\n",
    "intact_type = data['Intact'].value_counts() \n",
    "intact_type.plot(kind='bar',color='#34ABD8',rot=0)"
   ]
  },
  {
   "cell_type": "code",
   "execution_count": null,
   "metadata": {
    "collapsed": false
   },
   "outputs": [],
   "source": [
    "p = Bar(data, label='OutcomeType', values = 'Intact', agg='count', stack='Intact',\n",
    "        title=\"Outcomes by Intact Status\", legend='top_right')\n",
    "show(p)"
   ]
  },
  {
   "cell_type": "code",
   "execution_count": null,
   "metadata": {
    "collapsed": false,
    "scrolled": false
   },
   "outputs": [],
   "source": [
    "#Sex\n",
    "intact_type = data['Female'].value_counts() \n",
    "intact_type.plot(kind='bar',color='#34ABD8',rot=0)"
   ]
  },
  {
   "cell_type": "code",
   "execution_count": null,
   "metadata": {
    "collapsed": false
   },
   "outputs": [],
   "source": [
    "p = Bar(data, label='OutcomeType', values = 'Female', agg='count', stack='Female',\n",
    "        title=\"Outcomes by Female\", legend='top_right')\n",
    "show(p)"
   ]
  },
  {
   "cell_type": "code",
   "execution_count": null,
   "metadata": {
    "collapsed": false,
    "scrolled": true
   },
   "outputs": [],
   "source": [
    "#Purebred/mixed\n",
    "\n",
    "mixed_breed = data['MixedBreed'].value_counts() \n",
    "mixed_breed.plot(kind='bar',color='#34ABD8',rot=0)"
   ]
  },
  {
   "cell_type": "code",
   "execution_count": null,
   "metadata": {
    "collapsed": false
   },
   "outputs": [],
   "source": [
    "p = Bar(data, label='OutcomeType', values = 'MixedBreed', agg='count', stack='MixedBreed',\n",
    "        title=\"Outcomes by Breed Type\", legend='top_right')\n",
    "show(p)"
   ]
  },
  {
   "cell_type": "code",
   "execution_count": null,
   "metadata": {
    "collapsed": false,
    "scrolled": true
   },
   "outputs": [],
   "source": [
    "data.hist(column=\"ConvertedAge\", bins=25)"
   ]
  },
  {
   "cell_type": "code",
   "execution_count": null,
   "metadata": {
    "collapsed": false
   },
   "outputs": [],
   "source": [
    "p = Bar(data, label='OutcomeType', values = 'ConvertedAge', agg='mean',\n",
    "        title=\"Outcomes by Age\", legend='top_right')\n",
    "show(p)"
   ]
  },
  {
   "cell_type": "code",
   "execution_count": null,
   "metadata": {
    "collapsed": false,
    "scrolled": false
   },
   "outputs": [],
   "source": [
    "#Named/unnamed\n",
    "\n",
    "name = data['Named'].value_counts() \n",
    "name.plot(kind='bar',color='#34ABD8',rot=0)"
   ]
  },
  {
   "cell_type": "code",
   "execution_count": null,
   "metadata": {
    "collapsed": false
   },
   "outputs": [],
   "source": [
    "p = Bar(data, label='OutcomeType', values = 'Named', agg='count', stack='Named',\n",
    "        title=\"Outcomes by Name Status\", legend='top_right')\n",
    "show(p)"
   ]
  },
  {
   "cell_type": "code",
   "execution_count": null,
   "metadata": {
    "collapsed": false
   },
   "outputs": [],
   "source": [
    "OrderedColor = data.OrderedColor.unique()\n",
    "print(\"Unique Colors\" , (data.OrderedColor.value_counts() > 0).sum())\n",
    "print(OrderedColor)"
   ]
  },
  {
   "cell_type": "code",
   "execution_count": null,
   "metadata": {
    "collapsed": false,
    "scrolled": false
   },
   "outputs": [],
   "source": [
    "OrderedBreed = data.OrderedBreed.unique()\n",
    "print(\"Unique Breeds\" , (data.OrderedBreed.value_counts() > 0).sum())\n",
    "print(OrderedBreed)"
   ]
  },
  {
   "cell_type": "markdown",
   "metadata": {
    "collapsed": true
   },
   "source": [
    "### LOGISTIC REGRESSION"
   ]
  },
  {
   "cell_type": "markdown",
   "metadata": {},
   "source": [
    "#### Generate logistic regression"
   ]
  },
  {
   "cell_type": "code",
   "execution_count": null,
   "metadata": {
    "collapsed": false
   },
   "outputs": [],
   "source": [
    "# Select C from 0.00001, 0.0001, 0.001, 0.01, 0.1,, 1.0, 2.0, 4.0, 6.0, 8.0, 10.0 and the highes accuracy is when C=0.5\n",
    "\n",
    "for m in [ 0.5]: # 0.00001, 0.0001, 0.001, 0.01, 0.1,, 1.0, 2.0, 4.0, 6.0, 8.0, 10.0\n",
    "    lrq = LogisticRegression(C = m, penalty = 'l2')\n",
    "    lrq.fit(X_train, y_train)\n",
    "    weight1 = lrq.coef_\n",
    "    sum1 = sum(sum(weight1))\n",
    "    print 'The mean accuracy when the regularization strength C is', m,  'is ', lrq.score(X_dev, y_dev), 'and the sum of the squared weight is', sum1\n"
   ]
  },
  {
   "cell_type": "markdown",
   "metadata": {},
   "source": [
    "#### Feature engineering\n",
    "\n",
    "For this dataset, we have 14 different features, including gender, breed, age and so on.  In order to select the best\n",
    "feature to add to the model, we can go either bottom up starting from only 1 feature and add more feature based on\n",
    "the accuracy, or go down by deleting features. \n",
    "\n"
   ]
  },
  {
   "cell_type": "code",
   "execution_count": null,
   "metadata": {
    "collapsed": false
   },
   "outputs": [],
   "source": [
    "# Start the bottom up feature selection with Greedy algorithm \n",
    "# Compute the accuracy of logistic regression with N features\n",
    "\n",
    "train = X_train\n",
    "dev = X_dev\n",
    "\n",
    "bestVec = [] \n",
    "\n",
    "for j in range(14):\n",
    "    maxacc = 0\n",
    "    maxi = 0\n",
    "    for i in range(14):\n",
    "        if i not in bestVec:\n",
    "            X_train_eng = pd.DataFrame(train.ix[:, bestVec + [i]])\n",
    "            X_dev_eng = pd.DataFrame(dev.ix[:, bestVec + [i]])\n",
    "            m=.5\n",
    "            lrq = LogisticRegression(C = m, penalty = 'l2')\n",
    "            lrq.fit(X_train_eng, y_train)\n",
    "            if lrq.score(X_dev_eng, y_dev) > maxacc:\n",
    "                maxacc = lrq.score(X_dev_eng, y_dev)\n",
    "                maxi = i\n",
    "    bestVec = bestVec + [maxi]\n",
    "    print 'When the number of features used is ', j+1 ,', the best feature to add to the model is ', predictors[maxi] ,', and the accurancy is', maxacc"
   ]
  },
  {
   "cell_type": "markdown",
   "metadata": {},
   "source": [
    "We can see from the above that when the number of feature is 6, the model has the highest accuracy of 0.634744875056, \n",
    "the model did not increase the accurcy by adding additional features. \n",
    "\n",
    "The six features include: Intact_Spayed/Neutered, ConvertedAge, AnimalType_Cat, MixedBreed_Known Breed Combo, Named_Unnamed, and MixedBreed_Nonmixed.  Next we will exam each features to evaluate each impact on the overal outcome."
   ]
  },
  {
   "cell_type": "markdown",
   "metadata": {},
   "source": [
    "#### Check Spayed/Neutered "
   ]
  },
  {
   "cell_type": "markdown",
   "metadata": {},
   "source": [
    "Since Spayed/Neutered is the first feature from the logistic regression list, it would be interesting to check if the data with only Spayed/Neutered and the data with only intact have better accuracy than original dataset. "
   ]
  },
  {
   "cell_type": "code",
   "execution_count": null,
   "metadata": {
    "collapsed": false
   },
   "outputs": [],
   "source": [
    "# Dataset with only Spayed/Neutered and intact\n",
    "X_spayed = train[train['Intact_Spayed/Neutered'] == 1]\n",
    "X_intact = train[train['Intact_Intact'] == 1]\n",
    "\n",
    "y_spayed = y_train[train['Intact_Spayed/Neutered'] == 1]\n",
    "y_intact = y_train[train['Intact_Intact'] == 1]\n",
    "\n",
    "Xdev_spayed = dev[dev['Intact_Spayed/Neutered'] == 1]\n",
    "Xdev_intact = dev[dev['Intact_Intact'] == 1]\n",
    "\n",
    "ydev_spayed = y_dev[dev['Intact_Spayed/Neutered'] == 1]\n",
    "ydev_intact = y_dev[dev['Intact_Intact'] == 1]\n"
   ]
  },
  {
   "cell_type": "code",
   "execution_count": null,
   "metadata": {
    "collapsed": false
   },
   "outputs": [],
   "source": [
    "# logistic regression with only Spayed/Neutered \n",
    "for m in [0.1]:     # [0.00001, 0.0001, 0.001, 0.01, 0.1, 1.0, 2.0, 4.0, 6.0, 8.0, 10.0]\n",
    "    lrq = LogisticRegression(C = m, penalty = 'l2')\n",
    "    lrq.fit(X_spayed, y_spayed)\n",
    "    print 'The mean accuracy when the regularization strength C for Spayed/Neutered dataset', m,  'is ', lrq.score(Xdev_spayed, ydev_spayed)"
   ]
  },
  {
   "cell_type": "code",
   "execution_count": null,
   "metadata": {
    "collapsed": false
   },
   "outputs": [],
   "source": [
    "# logistic regression with only intact\n",
    "for m in [0.1]:     # [0.00001, 0.0001, 0.001, 0.01, 0.1, 1.0, 2.0, 4.0, 6.0, 8.0, 10.0]\n",
    "    lrq = LogisticRegression(C = m, penalty = 'l2')\n",
    "    lrq.fit(X_intact, y_intact)\n",
    "    print 'The mean accuracy when the regularization strength C for intact dataset', m,  'is ', lrq.score(Xdev_intact, ydev_intact)"
   ]
  },
  {
   "cell_type": "markdown",
   "metadata": {},
   "source": [
    "Looks like the dataset with only intact animal have a better accuracy than the original dataset. "
   ]
  },
  {
   "cell_type": "markdown",
   "metadata": {},
   "source": [
    "#### Check ConvertedAge"
   ]
  },
  {
   "cell_type": "markdown",
   "metadata": {},
   "source": [
    "Let's exam the age impact on the accuracy of the data. Consider kitten/puppy is from 0-1 year old, adult cat/dog is 1-7 years old, and senior/mature cat/dog is larger than 7 years old. The data can be divided into three dataset: youth, adult and senior. "
   ]
  },
  {
   "cell_type": "code",
   "execution_count": null,
   "metadata": {
    "collapsed": true
   },
   "outputs": [],
   "source": [
    "# Dataset with youth, adult and senior pets\n",
    "\n",
    "X_youth = train[train['ConvertedAge'] <= 52]\n",
    "X_adult = 52 < train[train['ConvertedAge'] < 364]\n",
    "X_senior = train[train['ConvertedAge'] >= 364]\n",
    "\n",
    "y_youth = y_train[train['ConvertedAge'] <= 52]\n",
    "y_adult = 52 < y_train[train['ConvertedAge'] < 364]\n",
    "y_senior = y_train[train['ConvertedAge'] >= 364]\n",
    "\n",
    "Xdev_youth = dev[dev['ConvertedAge'] <= 52]\n",
    "Xdev_adult = 52 < dev[dev['ConvertedAge'] < 364]\n",
    "Xdev_senior = dev[dev['ConvertedAge'] >= 364]\n",
    "\n",
    "ydev_youth = y_dev[dev['ConvertedAge'] <= 52]\n",
    "ydev_adult = 52 < y_dev[dev['ConvertedAge'] < 364]\n",
    "ydev_senior = y_dev[dev['ConvertedAge'] >= 364]"
   ]
  },
  {
   "cell_type": "code",
   "execution_count": null,
   "metadata": {
    "collapsed": false
   },
   "outputs": [],
   "source": [
    "# Logistic regression with youth pets\n",
    "\n",
    "for m in [0.00001, 0.0001, 0.001, 0.01, 0.1, 1.0, 2.0, 4.0, 6.0, 8.0, 10.0]:\n",
    "    lrq = LogisticRegression(C = m, penalty = 'l2')\n",
    "    lrq.fit(X_youth, y_youth)\n",
    "    print 'The mean accuracy when the regularization strength C for kitten/puppy dataset', m,  'is ', lrq.score(Xdev_youth, ydev_youth)"
   ]
  },
  {
   "cell_type": "markdown",
   "metadata": {},
   "source": [
    "#### Decision trees"
   ]
  },
  {
   "cell_type": "code",
   "execution_count": null,
   "metadata": {
    "collapsed": false
   },
   "outputs": [],
   "source": [
    "dt = DecisionTreeRegressor()\n",
    "dt.fit(X_train[predictors], y_train_hot)\n",
    "\n",
    "pred = dt.predict(X_train[predictors])\n",
    "print pred\n",
    "mse = np.mean( (pred - y_train_hot) ** 2)\n",
    "print 'Mean squared error = {}'.format(mse)\n",
    "print 'The accuracy is',dt.score(X_train[predictors], y_train_hot)"
   ]
  },
  {
   "cell_type": "markdown",
   "metadata": {},
   "source": [
    "Looks like we only get 0.35 on accuracy with decision trees on the training data"
   ]
  },
  {
   "cell_type": "markdown",
   "metadata": {},
   "source": [
    "#### Random forest"
   ]
  },
  {
   "cell_type": "code",
   "execution_count": null,
   "metadata": {
    "collapsed": false
   },
   "outputs": [],
   "source": [
    "from sklearn.model_selection import cross_val_score\n",
    "\n",
    "rf = RandomForestRegressor(n_estimators=50, oob_score=True)\n",
    "scores = cross_val_score(rf, X_train[predictors], y_train_hot, cv=10)\n",
    "print scores.mean()"
   ]
  },
  {
   "cell_type": "markdown",
   "metadata": {},
   "source": [
    "### Neural Network "
   ]
  },
  {
   "cell_type": "markdown",
   "metadata": {},
   "source": [
    "We will use Keras for neural network training. "
   ]
  },
  {
   "cell_type": "code",
   "execution_count": null,
   "metadata": {
    "collapsed": true
   },
   "outputs": [],
   "source": [
    "# hot encoding to transform training and development data\n",
    "lb_style = LabelBinarizer()\n",
    "y_train_hot = lb_style.fit_transform(y_train)\n",
    "y_train_hot\n",
    "y_dev_hot = lb_style.fit_transform(y_dev)"
   ]
  },
  {
   "cell_type": "code",
   "execution_count": null,
   "metadata": {
    "collapsed": false
   },
   "outputs": [],
   "source": [
    "# using keras to predict the accuracy\n",
    "model = Sequential([\n",
    "    Dense(32, input_shape=(14,)),\n",
    "    Activation('sigmoid'),\n",
    "    Dense(5),\n",
    "    Activation('softmax'),\n",
    "])\n",
    "\n",
    "model.compile(optimizer='adam',\n",
    "              loss='binary_crossentropy',\n",
    "              metrics=['accuracy'])\n",
    "model.fit(np.array(X_train), y_train_hot, epochs=10, batch_size=32)"
   ]
  },
  {
   "cell_type": "code",
   "execution_count": null,
   "metadata": {
    "collapsed": false
   },
   "outputs": [],
   "source": [
    "score = model.evaluate(np.array(X_dev), y_dev_hot, batch_size=16)\n",
    "\n",
    "print '\\nAccurancy on test data', score[1]"
   ]
  },
  {
   "cell_type": "markdown",
   "metadata": {
    "collapsed": true
   },
   "source": [
    "The accuracy shows that neural network gives a higher accuracy than logistic regression"
   ]
  },
  {
   "cell_type": "markdown",
   "metadata": {
    "collapsed": true
   },
   "source": [
    "Logistic Regression Pipeline"
   ]
  },
  {
   "cell_type": "code",
   "execution_count": 89,
   "metadata": {
    "collapsed": false
   },
   "outputs": [],
   "source": [
    "# Train/test split\n",
    "discrete = {'dog':[\n",
    "    'AnimalType',\n",
    "    'Female',\n",
    "    'Intact',\n",
    "    'MixedBreed',\n",
    "    'Named',\n",
    "    'TopBreed',\n",
    "    'PitBull'\n",
    "], 'cat': [\n",
    "    'AnimalType',\n",
    "    'Female',\n",
    "    'Intact',\n",
    "    'MixedBreed',\n",
    "    'Named',\n",
    "    'BlackCat'\n",
    "]}\n",
    "data_dog = data[data['AnimalType'] == 'Dog']\n",
    "data_cat = data[data['AnimalType'] == 'Cat']\n",
    "X_dog = data_dog[predictors['dog']]\n",
    "X_cat = data_cat[predictors['cat']]\n",
    "y_dog = data_dog[[target]]\n",
    "y_cat = data_cat[[target]]\n",
    "X_dog_train, X_dog_dev, y_dog_train, y_dog_dev = train_test_split(X_dog, y_dog, random_state=2)\n",
    "X_cat_train, X_cat_dev, y_cat_train, y_cat_dev = train_test_split(X_cat, y_cat, random_state=2)\n"
   ]
  },
  {
   "cell_type": "code",
   "execution_count": 21,
   "metadata": {
    "collapsed": true
   },
   "outputs": [],
   "source": [
    "class MyVectorizer(BaseEstimator, TransformerMixin):\n",
    "\n",
    "    def __init__(self, cols, hashing=None):\n",
    "        \"\"\"\n",
    "        args:\n",
    "            cols: a list of column names of the categorical variables\n",
    "            hashing: \n",
    "                If None, then vectorization is a simple one-hot-encoding.\n",
    "                If an integer, then hashing is the number of features in the output.\n",
    "        \"\"\"\n",
    "        self.cols = cols\n",
    "        self.hashing = hashing\n",
    "        \n",
    "    def fit(self, X, y=None):\n",
    "\n",
    "        data = X[self.cols]\n",
    "        \n",
    "        # Choose a vectorizer\n",
    "        if self.hashing is None:\n",
    "            self.myvec = DictVectorizer(sparse=False)\n",
    "        else:\n",
    "            self.myvec = FeatureHasher(n_features = self.hashing)\n",
    "    \n",
    "        self.myvec.fit(X[self.cols].to_dict(orient='records'))\n",
    "        return self\n",
    "            \n",
    "    def transform(self, X):\n",
    "            \n",
    "        # Vectorize Input\n",
    "        if self.hashing is None:\n",
    "            return pd.DataFrame(\n",
    "                self.myvec.transform(X[self.cols].to_dict(orient='records')),\n",
    "                columns = self.myvec.feature_names_\n",
    "            )\n",
    "        else:\n",
    "            return pd.DataFrame(\n",
    "                self.myvec.transform(X[self.cols].to_dict(orient='records')).toarray()\n",
    "            )"
   ]
  },
  {
   "cell_type": "code",
   "execution_count": 22,
   "metadata": {
    "collapsed": true
   },
   "outputs": [],
   "source": [
    "class MyScaler():\n",
    "    \n",
    "    def __init__(self, cols):\n",
    "        self.cols = cols\n",
    "    \n",
    "    def fit(self, X, y=None):\n",
    "        self.ss = StandardScaler()\n",
    "        self.ss.fit(X[self.cols])\n",
    "        return self\n",
    "    \n",
    "    def transform(self, X):\n",
    "        return self.ss.transform(X[self.cols])"
   ]
  },
  {
   "cell_type": "code",
   "execution_count": 49,
   "metadata": {
    "collapsed": false
   },
   "outputs": [],
   "source": [
    "discrete_pipe_dog = Pipeline(steps=[('Vectorizer', MyVectorizer(cols=discrete['dog'], hashing=None))])\n",
    "discrete_pipe_cat = Pipeline(steps=[('Vectorizer', MyVectorizer(cols=discrete['cat'], hashing=None))])\n",
    "\n",
    "continuous_pipe_cat = Pipeline(steps=[('Scale', MyScaler(continuous['cat']))])\n",
    "continuous_pipe_dog = Pipeline(steps=[('Scale', MyScaler(continuous['dog']))])\n",
    "\n",
    "union_dog = FeatureUnion([('Discrete', discrete_pipe_dog), ('Continuous', continuous_pipe_dog)])\n",
    "union_cat = FeatureUnion([('Discrete', discrete_pipe_cat), ('Continuous', continuous_pipe_cat)])\n"
   ]
  },
  {
   "cell_type": "code",
   "execution_count": 50,
   "metadata": {
    "collapsed": false
   },
   "outputs": [],
   "source": [
    "pipeline_dog = Pipeline([('Preprocess', FeatureUnion([('Discrete', discrete_pipe_dog), ('Continuous', continuous_pipe_dog)])),\n",
    "                      ('Predict', LogisticRegression(multi_class='multinomial', solver='newton-cg', C = 0.25))])\n",
    "pipeline_cat = Pipeline([('Preprocess', FeatureUnion([('Discrete', discrete_pipe_cat), ('Continuous', continuous_pipe_cat)])),\n",
    "                      ('Predict', LogisticRegression(multi_class='multinomial', solver='newton-cg', C= 0.25))])\n",
    "\n",
    "test_dog_lr = pipeline_dog.fit(X_dog_train, y_dog_train)\n",
    "test_cat_lr = pipeline_cat.fit(X_cat_train, y_cat_train)"
   ]
  },
  {
   "cell_type": "code",
   "execution_count": 30,
   "metadata": {
    "collapsed": false
   },
   "outputs": [
    {
     "name": "stdout",
     "output_type": "stream",
     "text": [
      "Multinomial Logistic Regression Train Accuracy ::  0.738203592814\n",
      "Multinomial Logistic Regression Dev Accuracy ::  0.74066091954\n",
      "\n",
      "Multinomial Logistic Regression Train Accuracy ::  0.562670998632\n",
      "Multinomial Logistic Regression Dev Accuracy ::  0.577840471916\n"
     ]
    }
   ],
   "source": [
    "print \"Multinomial Logistic Regression Train Accuracy :: \", metrics.accuracy_score(y_cat_train, test_cat_lr.predict(X_cat_train))\n",
    "print \"Multinomial Logistic Regression Dev Accuracy :: \", metrics.accuracy_score(y_cat_dev, test_cat_lr.predict(X_cat_dev))\n",
    "print\n",
    "print \"Multinomial Logistic Regression Train Accuracy :: \", metrics.accuracy_score(y_dog_train, test_dog_lr.predict(X_dog_train))\n",
    "print \"Multinomial Logistic Regression Dev Accuracy :: \", metrics.accuracy_score(y_dog_dev, test_dog_lr.predict(X_dog_dev))\n",
    " "
   ]
  },
  {
   "cell_type": "code",
   "execution_count": 92,
   "metadata": {
    "collapsed": false
   },
   "outputs": [
    {
     "name": "stdout",
     "output_type": "stream",
     "text": [
      "[[ 1.    1.    0.    0.    0.    1.    0.    0.    1.    0.    1.    0.    0.\n",
      "   1.   -0.57 -0.74]\n",
      " [ 1.    1.    0.    0.    0.    1.    0.    0.    1.    0.    1.    0.    0.\n",
      "   0.   -0.67  1.25]\n",
      " [ 1.    0.    1.    0.    0.    1.    0.    0.    1.    0.    1.    0.    0.\n",
      "   0.    0.72  1.25]\n",
      " [ 1.    1.    0.    0.    0.    1.    0.    0.    1.    0.    0.    1.    0.\n",
      "   1.   -0.57 -0.45]\n",
      " [ 1.    0.    1.    0.    0.    1.    0.    1.    0.    0.    1.    0.    0.\n",
      "   1.   -0.76 -0.62]]\n"
     ]
    }
   ],
   "source": [
    "X_dog_train_pipeline = union_dog.fit_transform(X_dog_train)\n",
    "X_dog_dev_pipeline = union_dog.transform(X_dog_dev)\n",
    "print X_dog_train_pipeline[0:5]\n",
    "logit_reg = LogisticRegression(penalty=\"l2\", multi_class='multinomial', solver='newton-cg') \n",
    "c,r = y_dog_train.shape\n",
    "y_dog_train = pd.Series(y_dog_train).values.reshape(c,)\n",
    "param_domain = [0.001, 0.01, 0.1, 0.25, 0.5, 0.75, 1.0, 1.25, 1.5, 1.75, 2.0, 5.0, 10.0]\n",
    "param_dict = dict(C = param_domain)\n",
    "#gridsearch = GridSearchCV(logit_reg, param_dict)\n",
    "#gridsearch.fit(X_dog_train_pipeline, y_dog_train)"
   ]
  },
  {
   "cell_type": "code",
   "execution_count": 30,
   "metadata": {
    "collapsed": false
   },
   "outputs": [
    {
     "name": "stdout",
     "output_type": "stream",
     "text": [
      "       ConvertedAge  BreedRank  AnimalType_Cat  AnimalType_Dog  Female_Female  \\\n",
      "25479     -0.571459  -0.740373               0               1              1   \n",
      "25079     -0.671171   1.245512               0               1              1   \n",
      "26347      0.724798   1.245512               0               1              0   \n",
      "17579     -0.571459  -0.449756               0               1              1   \n",
      "24034     -0.755304  -0.619283               0               1              0   \n",
      "\n",
      "       Female_Male  Female_Unknown  Intact_Intact  Intact_Spayed/Neutered  \\\n",
      "25479            0               0              0                       1   \n",
      "25079            0               0              0                       1   \n",
      "26347            1               0              0                       1   \n",
      "17579            0               0              0                       1   \n",
      "24034            1               0              0                       1   \n",
      "\n",
      "       Intact_Unknown  MixedBreed_Known Breed Combo  MixedBreed_Mixed Breed  \\\n",
      "25479               0                             0                       1   \n",
      "25079               0                             0                       1   \n",
      "26347               0                             0                       1   \n",
      "17579               0                             0                       1   \n",
      "24034               0                             1                       0   \n",
      "\n",
      "       MixedBreed_Nonmixed  Named_Named  Named_Unnamed  TopBreed  PitBull  \n",
      "25479                    0            1              0         1        0  \n",
      "25079                    0            1              0         0        0  \n",
      "26347                    0            1              0         0        0  \n",
      "17579                    0            0              1         1        0  \n",
      "24034                    0            1              0         1        0  \n"
     ]
    }
   ],
   "source": [
    "print X_dog_train.head()"
   ]
  },
  {
   "cell_type": "code",
   "execution_count": 73,
   "metadata": {
    "collapsed": false
   },
   "outputs": [
    {
     "name": "stdout",
     "output_type": "stream",
     "text": [
      "(11696, 17)\n",
      "<class 'pandas.core.series.Series'>\n",
      "{'C': [0.001, 0.01, 0.1, 0.25, 0.5, 0.75, 1.0, 1.25, 1.5, 1.75, 2.0, 5.0, 10.0]}\n",
      "Train data: Logistic Regression score at C=0.250: 0.561560\n",
      "\n",
      "\n",
      "Classification Report:\n",
      " \n",
      "                 precision    recall  f1-score   support\n",
      "\n",
      "       Adoption       0.57      0.88      0.69      1629\n",
      "       Adoption       0.00      0.00      0.00         9\n",
      "       Transfer       0.38      0.02      0.03       187\n",
      "       Adoption       0.53      0.34      0.42      1086\n",
      "Return_to_owner       0.62      0.41      0.50       988\n",
      "\n",
      "    avg / total       0.56      0.57      0.53      3899\n",
      "\n",
      "Dev data: Logistic Regression score at C=0.250: 0.532516\n",
      "Weights:\n",
      "['Adoption' 'Died' 'Euthanasia' 'Return_to_owner' 'Transfer']\n",
      "Adoption\n",
      "BreedRank -0.037\n",
      "Female_Male -0.03\n",
      "AnimalType_Cat 0.0\n",
      "MixedBreed_Known Breed Combo 0.061\n",
      "Female_Female 0.259\n",
      "\n",
      "Died\n",
      "Named_Unnamed -0.034\n",
      "AnimalType_Cat 0.0\n",
      "Female_Unknown 0.036\n",
      "Intact_Unknown 0.036\n",
      "Intact_Intact 0.049\n",
      "\n",
      "Euthanasia\n",
      "Female_Unknown 0.0\n",
      "Intact_Unknown 0.0\n",
      "Named_Unnamed 0.07\n",
      "Intact_Intact 0.402\n",
      "ConvertedAge 0.595\n",
      "\n",
      "Return_to_owner\n",
      "BreedRank 0.005\n",
      "MixedBreed_Nonmixed 0.014\n",
      "TopBreed 0.131\n",
      "PitBull 0.321\n",
      "ConvertedAge 0.481\n",
      "\n",
      "Transfer\n",
      "TopBreed 0.112\n",
      "MixedBreed_Nonmixed 0.132\n",
      "Named_Unnamed 0.348\n",
      "Female_Unknown 0.405\n",
      "Intact_Unknown 0.405\n",
      "\n",
      "\n",
      "\n",
      "\n",
      "(8350, 15)\n",
      "<class 'pandas.core.series.Series'>\n",
      "{'C': [0.001, 0.01, 0.1, 0.25, 0.5, 0.75, 1.0, 1.25, 1.5, 1.75, 2.0, 5.0, 10.0]}\n",
      "Train data: Logistic Regression score at C=0.010: 0.738683\n",
      "\n",
      "\n",
      "Classification Report:\n",
      " \n",
      "                 precision    recall  f1-score   support\n",
      "\n",
      "       Transfer       0.69      0.92      0.79      1045\n",
      "       Adoption       0.00      0.00      0.00        34\n",
      "     Euthanasia       0.86      0.03      0.06       183\n",
      "       Adoption       0.26      0.07      0.11       136\n",
      "     Euthanasia       0.81      0.78      0.79      1386\n",
      "\n",
      "    avg / total       0.73      0.74      0.70      2784\n",
      "\n",
      "Dev data: Logistic Regression score at C=0.010: 0.699516\n",
      "Weights:\n",
      "['Adoption' 'Died' 'Euthanasia' 'Return_to_owner' 'Transfer']\n",
      "Adoption\n",
      "MixedBreed_Known Breed Combo -0.021\n",
      "AnimalType_Dog 0.0\n",
      "Female_Male 0.072\n",
      "Female_Female 0.12\n",
      "Named_Named 0.369\n",
      "\n",
      "Died\n",
      "Intact_Unknown -0.117\n",
      "Intact_Intact -0.11\n",
      "MixedBreed_Nonmixed -0.05\n",
      "ConvertedAge -0.014\n",
      "AnimalType_Dog 0.0\n",
      "\n",
      "Euthanasia\n",
      "BlackCat -0.008\n",
      "MixedBreed_Known Breed Combo -0.003\n",
      "AnimalType_Dog 0.0\n",
      "Named_Unnamed 0.101\n",
      "Intact_Intact 0.141\n",
      "\n",
      "Return_to_owner\n",
      "Named_Named -0.091\n",
      "MixedBreed_Nonmixed -0.081\n",
      "Intact_Spayed/Neutered -0.036\n",
      "MixedBreed_Known Breed Combo -0.014\n",
      "AnimalType_Dog 0.0\n",
      "\n",
      "Transfer\n",
      "MixedBreed_Mixed Breed 0.107\n",
      "AnimalType_Cat 0.113\n",
      "Female_Unknown 0.396\n",
      "Intact_Unknown 0.396\n",
      "Named_Unnamed 0.423\n",
      "\n",
      "\n",
      "\n",
      "\n"
     ]
    }
   ],
   "source": [
    "#Find the Best regularization strength\n",
    "      #Generate logistic regression\n",
    "def logit_reg(X_train, X_dev, y_train, y_dev, predict_anim):\n",
    "    logit_reg = LogisticRegression(penalty=\"l2\", multi_class='multinomial', solver='newton-cg')  \n",
    "    print X_train.shape\n",
    "    print type(pd.Series(y_train))\n",
    "    #need labels to be in (R,) shape not (R,1) shape\n",
    "    #c,r = y_train.shape\n",
    "    #y_train = pd.Series(y_train).reshape(c,)\n",
    "    #print y_train.shape\n",
    "    y_train = y_train.values.ravel()\n",
    "    y_dev = y_dev.values.ravel()\n",
    "    \n",
    "    #Test C within [0.001, 10]\n",
    "    param_domain = [0.001, 0.01, 0.1, 0.25, 0.5, 0.75, 1.0, 1.25, 1.5, 1.75, 2.0, 5.0, 10.0]\n",
    "    param_dict = dict(C = param_domain)\n",
    "    print param_dict\n",
    "\n",
    "    #Initialize GridSearchCV to identify the optimal parameter values\n",
    "    gridsearch = GridSearchCV(logit_reg, param_dict)\n",
    "    gridsearch.fit(X_train, y_train)\n",
    "\n",
    "    #Generate model at the best C value\n",
    "    C = gridsearch.best_params_[\"C\"]\n",
    "    print \"Train data: Logistic Regression score at C=%.3f: %f\" % (C, gridsearch.best_score_)\n",
    "    print ('\\n' * 1)\n",
    "    logit_reg = LogisticRegression(C=C, penalty=\"l2\")\n",
    "    logit_reg.fit(X_train, y_train)\n",
    "\n",
    "    #Predict on the X_dev set\n",
    "    logit_reg_dev = logit_reg.predict(X_dev)\n",
    "\n",
    "    #Generate classification report\n",
    "    print \"Classification Report:\"\n",
    "    print \" \"\n",
    "    print classification_report(y_dev, logit_reg_dev, target_names=y_dev)\n",
    "    print \"Dev data: Logistic Regression score at C=%.3f: %f\" % (C, metrics.f1_score(y_dev, logit_reg_dev, average=\"weighted\"))    \n",
    "    print \"Weights:\"\n",
    "    #Get the variables with the highest weights for each outcome\n",
    "    print logit_reg.classes_\n",
    "    weights = []\n",
    "    for i in range(len(logit_reg.classes_)):\n",
    "        top_vars = np.argsort(logit_reg.coef_[i])[-6:-1]\n",
    "        print logit_reg.classes_[i]\n",
    "        for j in top_vars:\n",
    "            print predict_anim[j], round(logit_reg.coef_[i][j],3)\n",
    "        print\n",
    "    print ('\\n' * 2)\n",
    "\n",
    "\n",
    "    #Generate logistic regression and add the squared weight values to an array, at each C\n",
    "    logit_reg_coeff = []\n",
    "    for c in param_domain:\n",
    "        logit_reg = LogisticRegression(C=c, penalty=\"l2\") \n",
    "        logit_reg.fit(X_train, y_train)\n",
    "        squared_weights = []\n",
    "        squared_weights.append(c)                       \n",
    "        for i in range(0, 4):\n",
    "            [squared_weights.append(np.sum(np.power(logit_reg.coef_[i], 2)))]\n",
    "        logit_reg_coeff.append(squared_weights)\n",
    "\n",
    "    coeff = np.asarray(logit_reg_coeff, dtype = \"object\")\n",
    "\n",
    "\n",
    "logit_reg(X_dog_train, X_dog_dev, y_dog_train, y_dog_dev, predictors_dog)\n",
    "logit_reg(X_cat_train, X_cat_dev, y_cat_train, y_cat_dev, predictors_cat)"
   ]
  },
  {
   "cell_type": "code",
   "execution_count": 67,
   "metadata": {
    "collapsed": false
   },
   "outputs": [
    {
     "name": "stdout",
     "output_type": "stream",
     "text": [
      "['Return_to_owner' 'Adoption' 'Transfer' 'Euthanasia' 'Died']\n"
     ]
    }
   ],
   "source": [
    "print y_dog_train[target].unique()"
   ]
  },
  {
   "cell_type": "code",
   "execution_count": 32,
   "metadata": {
    "collapsed": false,
    "scrolled": true
   },
   "outputs": [
    {
     "name": "stdout",
     "output_type": "stream",
     "text": [
      "Normalized confusion matrix\n",
      "[[  3.76e-01   9.21e-04   5.23e-01   1.00e-01   0.00e+00]\n",
      " [  3.37e-01   5.88e-02   2.67e-01   3.37e-01   0.00e+00]\n",
      " [  1.02e-01   6.14e-04   8.80e-01   1.72e-02   0.00e+00]\n",
      " [  1.23e-01   8.10e-03   4.64e-01   4.05e-01   0.00e+00]\n",
      " [  1.11e-01   0.00e+00   2.22e-01   6.67e-01   0.00e+00]]\n",
      "Normalized confusion matrix\n",
      "[[ 0.07  0.04  0.84  0.06  0.  ]\n",
      " [ 0.03  0.14  0.08  0.75  0.  ]\n",
      " [ 0.01  0.    0.91  0.08  0.  ]\n",
      " [ 0.01  0.    0.21  0.78  0.  ]\n",
      " [ 0.    0.    0.12  0.88  0.  ]]\n"
     ]
    },
    {
     "data": {
      "image/png": "[encoded data removed]",
      "text/plain": [
       "<matplotlib.figure.Figure at 0xee722b0>"
      ]
     },
     "metadata": {},
     "output_type": "display_data"
    },
    {
     "data": {
      "image/png": "[encoded data removed]",
      "text/plain": [
       "<matplotlib.figure.Figure at 0x103e4c18>"
      ]
     },
     "metadata": {},
     "output_type": "display_data"
    }
   ],
   "source": [
    "def plot_confusion_matrix(cm, classes, normalize = False, title = 'Confusion Matrix', cmap = plt.cm.Blues):\n",
    "    if normalize:\n",
    "        cm = cm.astype('float') / cm.sum(axis=1)[:, np.newaxis]\n",
    "        print(\"Normalized confusion matrix\")\n",
    "    else:\n",
    "        print('Confusion matrix, without normalization')\n",
    "\n",
    "    print(cm)\n",
    "    plt.imshow(cm, interpolation='nearest', cmap=cmap)\n",
    "    plt.title(title)\n",
    "    plt.colorbar()\n",
    "    tick_marks = np.arange(len(classes))\n",
    "    plt.xticks(tick_marks, classes, rotation=45)\n",
    "    plt.yticks(tick_marks, classes)\n",
    "\n",
    "    fmt = '.2f' if normalize else 'd'\n",
    "    thresh = cm.max() / 2.\n",
    "    for i, j in itertools.product(range(cm.shape[0]), range(cm.shape[1])):\n",
    "        plt.text(j, i, format(cm[i, j], fmt),\n",
    "                 horizontalalignment=\"center\",\n",
    "                 color=\"white\" if cm[i, j] > thresh else \"black\")\n",
    "\n",
    "    plt.tight_layout()\n",
    "    plt.ylabel('True label')\n",
    "    plt.xlabel('Predicted label')\n",
    "\n",
    "class_names = ['Return_to_owner', 'Euthanasia', 'Adoption', 'Transfer', 'Died']\n",
    "cnf_dog_matrix = confusion_matrix(y_dog_dev, test_dog_lr.predict(X_dog_dev), labels = class_names)\n",
    "np.set_printoptions(precision=2)\n",
    "\n",
    "plt.figure()\n",
    "plot_confusion_matrix(cnf_dog_matrix, classes=class_names, normalize = True,\n",
    "                      title='Confusion matrix for Dogs, without normalization')\n",
    "\n",
    "cnf_cat_matrix = confusion_matrix(y_cat_dev, test_cat_lr.predict(X_cat_dev), labels = class_names)\n",
    "np.set_printoptions(precision=2)\n",
    "\n",
    "plt.figure()\n",
    "plot_confusion_matrix(cnf_cat_matrix, classes=class_names, normalize = True,\n",
    "                      title='Confusion matrix for Cats, without normalization')\n",
    "plt.show()"
   ]
  }
 ],
 "metadata": {
  "anaconda-cloud": {},
  "kernelspec": {
   "display_name": "Python 2",
   "language": "python",
   "name": "python2"
  },
  "language_info": {
   "codemirror_mode": {
    "name": "ipython",
    "version": 2
   },
   "file_extension": ".py",
   "mimetype": "text/x-python",
   "name": "python",
   "nbconvert_exporter": "python",
   "pygments_lexer": "ipython2",
   "version": "2.7.13"
  }
 },
 "nbformat": 4,
 "nbformat_minor": 1
}
