{
 "cells": [
  {
   "cell_type": "markdown",
   "metadata": {},
   "source": [
    "## Shelter Animal Outcomes\n",
    "#### MIDS W207 Final Project\n",
    "#### Clay Miller, Roseanna Hopper, Yubo Zhang"
   ]
  },
  {
   "cell_type": "markdown",
   "metadata": {},
   "source": [
    "### Introduction\n",
    "\n",
    "Approximately 6.5 to 7.6 million companion animals entered the animal shelters across the US each year.  Each year, approximately 1.5 million shelter animals are euthanized (670,000 dogs and 860,000 cats).  The number of dogs and cats euthanized in U.S. shelters annually has declined from approximately 2.6 million in 2011.  This decline can be partially explained by an increase in the percentage of animals adopted and an increase in the number of stray animals successfully returned to their owners.\n",
    "\n",
    "For this study, we are using a dataset of intake information including breed, color, sex, and age from the [Austin Animal Center](https://www.kaggle.com/c/shelter-animal-outcomes), to develop a model that can be used for shelters to predict the outcome for each animal.  We are hoping that by using this model, the shelter can provide a little bit of extra help for animals that have a low adoption rate. In addition, we are hoping this dataset can help us to provide some key findings (for example, if age and gender would impact the adoption rate for dogs, if neutered or spayed cats are more likely to be adopted), understand which factors impact the chance of adoption, and identify differences between dog and cat adoption trends.  "
   ]
  },
  {
   "cell_type": "code",
   "execution_count": 6,
   "metadata": {
    "collapsed": false,
    "scrolled": true
   },
   "outputs": [
    {
     "data": {
      "text/html": [
       "\n",
       "    <div class=\"bk-root\">\n",
       "        <a href=\"http://bokeh.pydata.org\" target=\"_blank\" class=\"bk-logo bk-logo-small bk-logo-notebook\"></a>\n",
       "        <span id=\"e2b92700-2d14-45a3-8404-2df7c45a6adf\">Loading BokehJS ...</span>\n",
       "    </div>"
      ]
     },
     "metadata": {},
     "output_type": "display_data"
    },
    {
     "data": {
      "application/javascript": [
       "\n",
       "(function(global) {\n",
       "  function now() {\n",
       "    return new Date();\n",
       "  }\n",
       "\n",
       "  var force = \"1\";\n",
       "\n",
       "  if (typeof (window._bokeh_onload_callbacks) === \"undefined\" || force !== \"\") {\n",
       "    window._bokeh_onload_callbacks = [];\n",
       "    window._bokeh_is_loading = undefined;\n",
       "  }\n",
       "\n",
       "\n",
       "  \n",
       "  if (typeof (window._bokeh_timeout) === \"undefined\" || force !== \"\") {\n",
       "    window._bokeh_timeout = Date.now() + 5000;\n",
       "    window._bokeh_failed_load = false;\n",
       "  }\n",
       "\n",
       "  var NB_LOAD_WARNING = {'data': {'text/html':\n",
       "     \"<div style='background-color: #fdd'>\\n\"+\n",
       "     \"<p>\\n\"+\n",
       "     \"BokehJS does not appear to have successfully loaded. If loading BokehJS from CDN, this \\n\"+\n",
       "     \"may be due to a slow or bad network connection. Possible fixes:\\n\"+\n",
       "     \"</p>\\n\"+\n",
       "     \"<ul>\\n\"+\n",
       "     \"<li>re-rerun `output_notebook()` to attempt to load from CDN again, or</li>\\n\"+\n",
       "     \"<li>use INLINE resources instead, as so:</li>\\n\"+\n",
       "     \"</ul>\\n\"+\n",
       "     \"<code>\\n\"+\n",
       "     \"from bokeh.resources import INLINE\\n\"+\n",
       "     \"output_notebook(resources=INLINE)\\n\"+\n",
       "     \"</code>\\n\"+\n",
       "     \"</div>\"}};\n",
       "\n",
       "  function display_loaded() {\n",
       "    if (window.Bokeh !== undefined) {\n",
       "      Bokeh.$(\"#e2b92700-2d14-45a3-8404-2df7c45a6adf\").text(\"BokehJS successfully loaded.\");\n",
       "    } else if (Date.now() < window._bokeh_timeout) {\n",
       "      setTimeout(display_loaded, 100)\n",
       "    }\n",
       "  }\n",
       "\n",
       "  function run_callbacks() {\n",
       "    window._bokeh_onload_callbacks.forEach(function(callback) { callback() });\n",
       "    delete window._bokeh_onload_callbacks\n",
       "    console.info(\"Bokeh: all callbacks have finished\");\n",
       "  }\n",
       "\n",
       "  function load_libs(js_urls, callback) {\n",
       "    window._bokeh_onload_callbacks.push(callback);\n",
       "    if (window._bokeh_is_loading > 0) {\n",
       "      console.log(\"Bokeh: BokehJS is being loaded, scheduling callback at\", now());\n",
       "      return null;\n",
       "    }\n",
       "    if (js_urls == null || js_urls.length === 0) {\n",
       "      run_callbacks();\n",
       "      return null;\n",
       "    }\n",
       "    console.log(\"Bokeh: BokehJS not loaded, scheduling load and callback at\", now());\n",
       "    window._bokeh_is_loading = js_urls.length;\n",
       "    for (var i = 0; i < js_urls.length; i++) {\n",
       "      var url = js_urls[i];\n",
       "      var s = document.createElement('script');\n",
       "      s.src = url;\n",
       "      s.async = false;\n",
       "      s.onreadystatechange = s.onload = function() {\n",
       "        window._bokeh_is_loading--;\n",
       "        if (window._bokeh_is_loading === 0) {\n",
       "          console.log(\"Bokeh: all BokehJS libraries loaded\");\n",
       "          run_callbacks()\n",
       "        }\n",
       "      };\n",
       "      s.onerror = function() {\n",
       "        console.warn(\"failed to load library \" + url);\n",
       "      };\n",
       "      console.log(\"Bokeh: injecting script tag for BokehJS library: \", url);\n",
       "      document.getElementsByTagName(\"head\")[0].appendChild(s);\n",
       "    }\n",
       "  };var element = document.getElementById(\"e2b92700-2d14-45a3-8404-2df7c45a6adf\");\n",
       "  if (element == null) {\n",
       "    console.log(\"Bokeh: ERROR: autoload.js configured with elementid 'e2b92700-2d14-45a3-8404-2df7c45a6adf' but no matching script tag was found. \")\n",
       "    return false;\n",
       "  }\n",
       "\n",
       "  var js_urls = ['https://cdn.pydata.org/bokeh/release/bokeh-0.12.2.min.js', 'https://cdn.pydata.org/bokeh/release/bokeh-widgets-0.12.2.min.js', 'https://cdn.pydata.org/bokeh/release/bokeh-compiler-0.12.2.min.js'];\n",
       "\n",
       "  var inline_js = [\n",
       "    function(Bokeh) {\n",
       "      Bokeh.set_log_level(\"info\");\n",
       "    },\n",
       "    \n",
       "    function(Bokeh) {\n",
       "      \n",
       "      Bokeh.$(\"#e2b92700-2d14-45a3-8404-2df7c45a6adf\").text(\"BokehJS is loading...\");\n",
       "    },\n",
       "    function(Bokeh) {\n",
       "      console.log(\"Bokeh: injecting CSS: https://cdn.pydata.org/bokeh/release/bokeh-0.12.2.min.css\");\n",
       "      Bokeh.embed.inject_css(\"https://cdn.pydata.org/bokeh/release/bokeh-0.12.2.min.css\");\n",
       "      console.log(\"Bokeh: injecting CSS: https://cdn.pydata.org/bokeh/release/bokeh-widgets-0.12.2.min.css\");\n",
       "      Bokeh.embed.inject_css(\"https://cdn.pydata.org/bokeh/release/bokeh-widgets-0.12.2.min.css\");\n",
       "    }\n",
       "  ];\n",
       "\n",
       "  function run_inline_js() {\n",
       "    \n",
       "    if ((window.Bokeh !== undefined) || (force === \"1\")) {\n",
       "      for (var i = 0; i < inline_js.length; i++) {\n",
       "        inline_js[i](window.Bokeh);\n",
       "      }if (force === \"1\") {\n",
       "        display_loaded();\n",
       "      }} else if (Date.now() < window._bokeh_timeout) {\n",
       "      setTimeout(run_inline_js, 100);\n",
       "    } else if (!window._bokeh_failed_load) {\n",
       "      console.log(\"Bokeh: BokehJS failed to load within specified timeout.\");\n",
       "      window._bokeh_failed_load = true;\n",
       "    } else if (!force) {\n",
       "      var cell = $(\"#e2b92700-2d14-45a3-8404-2df7c45a6adf\").parents('.cell').data().cell;\n",
       "      cell.output_area.append_execute_result(NB_LOAD_WARNING)\n",
       "    }\n",
       "\n",
       "  }\n",
       "\n",
       "  if (window._bokeh_is_loading === 0) {\n",
       "    console.log(\"Bokeh: BokehJS loaded, going straight to plotting\");\n",
       "    run_inline_js();\n",
       "  } else {\n",
       "    load_libs(js_urls, function() {\n",
       "      console.log(\"Bokeh: BokehJS plotting callback run at\", now());\n",
       "      run_inline_js();\n",
       "    });\n",
       "  }\n",
       "}(this));"
      ]
     },
     "metadata": {},
     "output_type": "display_data"
    }
   ],
   "source": [
    "import pandas as pd\n",
    "import numpy as np\n",
    "import matplotlib.pyplot as plt\n",
    "import re\n",
    "#import tensorflow \n",
    "#import keras\n",
    "import itertools\n",
    "\n",
    "from sklearn import metrics\n",
    "from sklearn.preprocessing import StandardScaler\n",
    "from sklearn.feature_extraction import FeatureHasher, DictVectorizer\n",
    "from sklearn.pipeline import Pipeline\n",
    "from sklearn.pipeline import FeatureUnion\n",
    "from sklearn.grid_search import GridSearchCV\n",
    "from sklearn.metrics import confusion_matrix\n",
    "from sklearn.metrics import classification_report\n",
    "from sklearn.cross_validation import train_test_split\n",
    "from sklearn.linear_model import LogisticRegression\n",
    "from sklearn.base import BaseEstimator, TransformerMixin\n",
    "from bokeh.charts import Bar, output_file, show, output_notebook\n",
    "#from keras.models import Sequential\n",
    "#from keras.layers import Dense, Activation\n",
    "from sklearn.preprocessing import LabelBinarizer\n",
    "from sklearn.ensemble import RandomForestRegressor\n",
    "from sklearn.tree import DecisionTreeRegressor\n",
    "from IPython.core.display import Image, display\n",
    "from sklearn.externals.six import StringIO\n",
    "from IPython.display import Image  \n",
    "from sklearn import tree\n",
    "\n",
    "output_notebook()\n",
    "\n",
    "\n",
    "%matplotlib inline"
   ]
  },
  {
   "cell_type": "markdown",
   "metadata": {},
   "source": [
    "### Raw Data\n",
    "\n",
    "Each case in our raw training data is an individual animal, and the features include its characteristics (including name, animal type, age, gender, spay/neuter status, breed, coloring, and final outcome). Apart from age, all of the fields are categorical variables, so we’ll be creating binary variables for the majority of the fields (and their intersections). There are few missing values, and some cases where a field is marked as “Unknown” (appears in Name, Breed, and Gender). Overall, we are trying to predict the animal’s “final outcome”, of which there are five possibilities.\n"
   ]
  },
  {
   "cell_type": "code",
   "execution_count": 7,
   "metadata": {
    "collapsed": true
   },
   "outputs": [],
   "source": [
    "# Load the data\n",
    "data = pd.read_csv('../data/train.csv')\n",
    "breeds = pd.read_csv('../data/breeds.csv')\n",
    "breeds['Breed'] = breeds['Breed'].str.strip()\n",
    "top_breed_list = []\n",
    "for b in breeds['Breed']:\n",
    "    top_breed_list.append(b.strip())\n",
    "data['OutcomeSubtype'] = data['OutcomeSubtype'].fillna('')\n",
    "data['Female'] = 'Female' in data['SexuponOutcome']\n",
    "data['AgeuponOutcome'].fillna('', inplace = True)\n",
    "\n",
    "#Create a continuous variable for age, making sure\n",
    "#that all listed ages are on the same scale (months)\n",
    "def ageConvert(age):\n",
    "    regexyear = '(\\d+) year'\n",
    "    regexmnth = '(\\d+) month'\n",
    "    regexwk = '(\\d+) week'\n",
    "    regexday = '(\\d+) day'\n",
    "    if re.match(regexyear, age):\n",
    "        const = int(re.match(regexyear, age).groups()[0])\n",
    "        return const*52\n",
    "    elif re.match(regexmnth, age):\n",
    "        const = int(re.match(regexmnth, age).groups()[0])\n",
    "        return const*4.5 # a month is roughly 4.5 weeks\n",
    "    elif re.match(regexwk, age):\n",
    "        return int(re.match(regexwk, age).groups()[0])\n",
    "    elif re.match(regexday, age):\n",
    "        const = int(re.match(regexday, age).groups()[0])\n",
    "        return const/7 #7 days in a week\n",
    "    else:\n",
    "        return None\n",
    "    \n",
    "data['ConvertedAge']=data['AgeuponOutcome'].apply(ageConvert)\n",
    "\n",
    "\n",
    "#Separate SexuponOutcome into Male/Female and into Intact/Spayed-Neutered\n",
    "def female(i):\n",
    "    i = str(i)\n",
    "    if i.find('Female') >= 0: return 'Female'\n",
    "    if i.find('Unknown') >= 0: return 'Unknown'\n",
    "    return 'Male'\n",
    "data['Female'] = data.SexuponOutcome.apply(female)\n",
    "\n",
    "def intact(i):\n",
    "    i = str(i)\n",
    "    if i.find('Intact') >= 0: return 'Intact'\n",
    "    if i.find('Unknown') >= 0: return 'Unknown'\n",
    "    return 'Spayed/Neutered'\n",
    "data['Intact'] = data.SexuponOutcome.apply(intact)\n",
    "\n",
    "def mixed_breed(i):\n",
    "    i = str(i)\n",
    "    if i.find('Mix') >= 0: return 'Mixed Breed'\n",
    "    if i.find('/') >= 0: return 'Known Breed Combo'\n",
    "    return 'Nonmixed'\n",
    "data['MixedBreed'] = data.Breed.apply(mixed_breed)\n",
    "\n",
    "def top_breed(i):\n",
    "    i = str(i)\n",
    "    if any(word in i for word in top_breed_list):\n",
    "        return int(1)\n",
    "    else:\n",
    "        return int(0)\n",
    "data['TopBreed'] = data.Breed.apply(top_breed)\n",
    "\n",
    "def breed_rank(i):\n",
    "    i = str(i)\n",
    "    ranks = []\n",
    "    for word in top_breed_list:\n",
    "        if word in i:\n",
    "            ranks.append(int(breeds.loc[breeds['Breed'] == word]['2007']))\n",
    "    if len(ranks) > 0:\n",
    "        return np.mean(ranks)\n",
    "    else:\n",
    "        return 51.0\n",
    "data['BreedRank'] = data.Breed.apply(breed_rank)\n",
    "\n",
    "def pit_bull(i):\n",
    "    i = str(i)\n",
    "    if i.find(\"Pit Bull\") >=0: return int(1)\n",
    "    else: return int(0)\n",
    "data['PitBull'] = data.Breed.apply(pit_bull)\n",
    "\n",
    "def black_cat(i):\n",
    "    i = str(i)\n",
    "    if i == \"Black\": return int(1)\n",
    "    else: return int(0)\n",
    "data['BlackCat'] = data.Color.apply(black_cat)\n",
    "\n",
    "def naming(i):\n",
    "    if pd.isnull(i): return 'Unnamed'\n",
    "    return 'Named'\n",
    "data['Named'] = data.Name.apply(naming)\n",
    "\n",
    "#Change all breed and color strings so that they are ordered consistently\n",
    "#E.G. all \"brown/black\" and \"black/brown\" should become \"black, brown\"\n",
    "def reorder(i):\n",
    "    i = str(i)\n",
    "    if i.find(\" \") >= 0: i = i.replace(\" \", \"-\")\n",
    "    if i.find(\"/\") >= 0: i = i.replace(\"/\", \" \")\n",
    "    i = i.split()\n",
    "    i = sorted(i)\n",
    "    i = ' '.join(i)\n",
    "    return i\n",
    "\n",
    "data['OrderedColor'] = data.Color.apply(reorder)\n",
    "data['OrderedBreed'] = data.Breed.apply(reorder)\n"
   ]
  },
  {
   "cell_type": "code",
   "execution_count": 9,
   "metadata": {
    "collapsed": false,
    "scrolled": false
   },
   "outputs": [],
   "source": [
    "#Importing this because multiple deprecation warnings cluttering the output\n",
    "import warnings\n",
    "warnings.filterwarnings('ignore')\n",
    "\n",
    "continuous = ['ConvertedAge', 'BreedRank']\n",
    "discrete = [\n",
    "    'AnimalType',\n",
    "    'Female',\n",
    "    'Intact',\n",
    "    'MixedBreed',\n",
    "    'Named',\n",
    "    'TopBreed',\n",
    "    'PitBull',\n",
    "    'BlackCat'\n",
    "]\n",
    "target = 'OutcomeType'\n",
    "\n",
    "#For those missing an age, fill with the median age by animal type\n",
    "data[\"ConvertedAge\"] = data.groupby(\"AnimalType\").transform(lambda x: x.fillna(x.median()))\n",
    "data[continuous].describe().T\n",
    "\n",
    "#Turn categorical variables into binaries\n",
    "data2 = pd.concat([data[target], data[continuous], pd.get_dummies(data[discrete])], axis=1)\n",
    "\n",
    "discrete = ['AnimalType_Cat', 'AnimalType_Dog', 'Female_Female', 'Female_Male', 'Female_Unknown',\n",
    "           'Intact_Intact', 'Intact_Spayed/Neutered', 'Intact_Unknown', 'MixedBreed_Known Breed Combo',\n",
    "           'MixedBreed_Mixed Breed', 'MixedBreed_Nonmixed', 'Named_Named', 'Named_Unnamed']\n",
    "\n",
    "\n",
    "predictors = continuous + discrete\n",
    "target = 'OutcomeType'\n",
    "\n",
    "\n",
    "# Train/test split on the full dataset\n",
    "X = data2[predictors]\n",
    "y = data2[[target]]\n",
    "X_train, X_dev, y_train, y_dev = train_test_split(X, y, random_state=2)\n",
    "\n",
    "#Normalize the continuous variables\n",
    "ss = StandardScaler()\n",
    "ss.fit(X_train[continuous])   # Compute mean and std of training data\n",
    "X_train[continuous] = ss.transform(X_train[continuous])  # Use that mean and std to normalize columns of training data\n",
    "X_dev[continuous] = ss.transform(X_dev[continuous]) "
   ]
  },
  {
   "cell_type": "code",
   "execution_count": 10,
   "metadata": {
    "collapsed": false,
    "scrolled": true
   },
   "outputs": [
    {
     "name": "stdout",
     "output_type": "stream",
     "text": [
      "                count        mean         std  min   25%   50%    75%     max\n",
      "ConvertedAge  26729.0  113.370253  154.064766  0.0   9.0  52.0  156.0  1040.0\n",
      "BreedRank     26729.0   35.975981   20.246237  1.0  12.0  51.0   51.0    51.0\n",
      "                count        mean         std  min  25%   50%    75%     max\n",
      "ConvertedAge  26729.0  113.370253  154.064766  0.0  9.0  52.0  156.0  1040.0\n"
     ]
    }
   ],
   "source": [
    "#Define continuous and categorical variables\n",
    "\n",
    "continuous = {'dog':['ConvertedAge', 'BreedRank'], 'cat':['ConvertedAge']}\n",
    "discrete = {'dog':[\n",
    "    'AnimalType',\n",
    "    'Female',\n",
    "    'Intact',\n",
    "    'MixedBreed',\n",
    "    'Named',\n",
    "    'TopBreed',\n",
    "    'PitBull'\n",
    "], 'cat': [\n",
    "    'AnimalType',\n",
    "    'Female',\n",
    "    'Intact',\n",
    "    'MixedBreed',\n",
    "    'Named',\n",
    "    'BlackCat'\n",
    "]}\n",
    "\n",
    "\n",
    "pred = {'dog': continuous['dog'] + discrete['dog'], 'cat':continuous['cat']+discrete['cat']}\n",
    "target = 'OutcomeType'\n",
    "\n",
    "#For those missing an age, fill with the median age by animal type\n",
    "data[\"ConvertedAge\"] = data.groupby(\"AnimalType\").transform(lambda x: x.fillna(x.median()))\n",
    "print data[continuous['dog']].describe().T\n",
    "print data[continuous['cat']].describe().T"
   ]
  },
  {
   "cell_type": "code",
   "execution_count": 51,
   "metadata": {
    "collapsed": false
   },
   "outputs": [
    {
     "name": "stdout",
     "output_type": "stream",
     "text": [
      "(26729, 18)\n",
      "(26729, 16)\n"
     ]
    }
   ],
   "source": [
    "#Turn categorical variables into binaries, eliminating unconverted columns\n",
    "data2_dog = pd.concat([data[target], data[continuous['dog']], pd.get_dummies(data[discrete['dog']])], axis=1)\n",
    "data2_cat = pd.concat([data[target], data[continuous['cat']], pd.get_dummies(data[discrete['cat']])], axis=1)\n",
    "print data2_dog.shape\n",
    "print data2_cat.shape"
   ]
  },
  {
   "cell_type": "code",
   "execution_count": 64,
   "metadata": {
    "collapsed": false
   },
   "outputs": [
    {
     "name": "stdout",
     "output_type": "stream",
     "text": [
      "(15595, 17)\n",
      "(11134, 15)\n"
     ]
    }
   ],
   "source": [
    "#split the data into cat and dog data sets\n",
    "data2_dog = pd.concat([data[target], data[continuous['dog']], pd.get_dummies(data[discrete['dog']])], axis=1)\n",
    "data2_cat = pd.concat([data[target], data[continuous['cat']], pd.get_dummies(data[discrete['cat']])], axis=1)\n",
    "\n",
    "discrete_dog = ['AnimalType_Cat', 'AnimalType_Dog', 'Female_Female', 'Female_Male', 'Female_Unknown',\n",
    "           'Intact_Intact', 'Intact_Spayed/Neutered', 'Intact_Unknown', 'MixedBreed_Known Breed Combo',\n",
    "           'MixedBreed_Mixed Breed', 'MixedBreed_Nonmixed', 'Named_Named', 'Named_Unnamed', 'TopBreed', 'PitBull']\n",
    "\n",
    "discrete_cat = ['AnimalType_Cat', 'AnimalType_Dog', 'Female_Female', 'Female_Male', 'Female_Unknown',\n",
    "           'Intact_Intact', 'Intact_Spayed/Neutered', 'Intact_Unknown', 'MixedBreed_Known Breed Combo',\n",
    "           'MixedBreed_Mixed Breed', 'MixedBreed_Nonmixed', 'Named_Named', 'Named_Unnamed', 'BlackCat']\n",
    "\n",
    "predictors_dog = continuous['dog'] + discrete_dog\n",
    "predictors_cat = continuous['cat'] + discrete_cat\n",
    "\n",
    "# Train/test split\n",
    "X_dog = data2_dog[data2_dog['AnimalType_Dog'] == 1][predictors_dog]\n",
    "y_dog = data2_dog[data2_dog['AnimalType_Dog'] == 1][[target]]\n",
    "X_dog_train, X_dog_dev, y_dog_train, y_dog_dev = train_test_split(X_dog, y_dog, random_state=2)\n",
    "\n",
    "X_cat = data2_cat[data2_cat['AnimalType_Cat'] == 1][predictors_cat]\n",
    "y_cat = data2_cat[data2_cat['AnimalType_Cat'] == 1][[target]]\n",
    "X_cat_train, X_cat_dev, y_cat_train, y_cat_dev = train_test_split(X_cat, y_cat, random_state=2)\n",
    "\n",
    "#Normalize \n",
    "ss_dog = StandardScaler()\n",
    "ss_dog.fit(X_dog_train[continuous['dog']])   # Compute mean and std of training data\n",
    "X_dog_train[continuous['dog']] = ss_dog.transform(X_dog_train[continuous['dog']])  # Use that mean and std to normalize columns of training data\n",
    "X_dog_dev[continuous['dog']] = ss_dog.transform(X_dog_dev[continuous['dog']]) \n",
    "print X_dog.shape\n",
    "\n",
    "ss_cat = StandardScaler()\n",
    "ss_cat.fit(X_cat_train[continuous['cat']])   # Compute mean and std of training data\n",
    "X_cat_train[continuous['cat']] = ss_cat.transform(X_cat_train[continuous['cat']])  # Use that mean and std to normalize columns of training data\n",
    "X_cat_dev[continuous['cat']] = ss_cat.transform(X_cat_dev[continuous['cat']]) \n",
    "print X_cat.shape"
   ]
  },
  {
   "cell_type": "markdown",
   "metadata": {},
   "source": [
    "### Exploratory Analysis"
   ]
  },
  {
   "cell_type": "markdown",
   "metadata": {},
   "source": [
    "#### Visualizing Features\n",
    "\n",
    "- We have approximately the same number of cats and dogs.\n",
    "- The majority of animals are adopted or transferred; there are comparatively few cases of death or euthanasia.\n",
    "- As we would expect, the majority of cases would be considered mixed breed. Also expected is the there are few animals beyond 15 years old.\n",
    "- A large majority of animals are named (though whether by the shelter or a prior owner is unknown)."
   ]
  },
  {
   "cell_type": "code",
   "execution_count": 12,
   "metadata": {
    "collapsed": false
   },
   "outputs": [
    {
     "data": {
      "text/plain": [
       "<matplotlib.axes._subplots.AxesSubplot at 0x12392b490>"
      ]
     },
     "execution_count": 12,
     "metadata": {},
     "output_type": "execute_result"
    },
    {
     "data": {
      "image/png": "[encoded data removed]",
      "text/plain": [
       "<matplotlib.figure.Figure at 0x10deca750>"
      ]
     },
     "metadata": {},
     "output_type": "display_data"
    }
   ],
   "source": [
    "#Animal types\n",
    "animal_type = data['AnimalType'].value_counts() \n",
    "animal_type.plot(kind='bar',color='#34ABD8',rot=0)"
   ]
  },
  {
   "cell_type": "code",
   "execution_count": 14,
   "metadata": {
    "collapsed": false,
    "scrolled": false
   },
   "outputs": [
    {
     "data": {
      "text/plain": [
       "<matplotlib.axes._subplots.AxesSubplot at 0x123c80910>"
      ]
     },
     "execution_count": 14,
     "metadata": {},
     "output_type": "execute_result"
    },
    {
     "data": {
      "image/png": "[encoded data removed]",
      "text/plain": [
       "<matplotlib.figure.Figure at 0x123c80250>"
      ]
     },
     "metadata": {},
     "output_type": "display_data"
    }
   ],
   "source": [
    "#Outcome types\n",
    "outcome_type = data['OutcomeType'].value_counts() \n",
    "outcome_type.plot(kind='bar',color='#34ABD8',rot=0)"
   ]
  },
  {
   "cell_type": "code",
   "execution_count": 35,
   "metadata": {
    "collapsed": false
   },
   "outputs": [
    {
     "data": {
      "text/html": [
       "\n",
       "\n",
       "    <div class=\"bk-root\">\n",
       "        <div class=\"plotdiv\" id=\"cd1bbd41-d60a-422e-bf11-37f2a104634c\"></div>\n",
       "    </div>\n",
       "<script type=\"text/javascript\">\n",
       "  \n",
       "  (function(global) {\n",
       "    function now() {\n",
       "      return new Date();\n",
       "    }\n",
       "  \n",
       "    var force = \"\";\n",
       "  \n",
       "    if (typeof (window._bokeh_onload_callbacks) === \"undefined\" || force !== \"\") {\n",
       "      window._bokeh_onload_callbacks = [];\n",
       "      window._bokeh_is_loading = undefined;\n",
       "    }\n",
       "  \n",
       "  \n",
       "    \n",
       "    if (typeof (window._bokeh_timeout) === \"undefined\" || force !== \"\") {\n",
       "      window._bokeh_timeout = Date.now() + 0;\n",
       "      window._bokeh_failed_load = false;\n",
       "    }\n",
       "  \n",
       "    var NB_LOAD_WARNING = {'data': {'text/html':\n",
       "       \"<div style='background-color: #fdd'>\\n\"+\n",
       "       \"<p>\\n\"+\n",
       "       \"BokehJS does not appear to have successfully loaded. If loading BokehJS from CDN, this \\n\"+\n",
       "       \"may be due to a slow or bad network connection. Possible fixes:\\n\"+\n",
       "       \"</p>\\n\"+\n",
       "       \"<ul>\\n\"+\n",
       "       \"<li>re-rerun `output_notebook()` to attempt to load from CDN again, or</li>\\n\"+\n",
       "       \"<li>use INLINE resources instead, as so:</li>\\n\"+\n",
       "       \"</ul>\\n\"+\n",
       "       \"<code>\\n\"+\n",
       "       \"from bokeh.resources import INLINE\\n\"+\n",
       "       \"output_notebook(resources=INLINE)\\n\"+\n",
       "       \"</code>\\n\"+\n",
       "       \"</div>\"}};\n",
       "  \n",
       "    function display_loaded() {\n",
       "      if (window.Bokeh !== undefined) {\n",
       "        Bokeh.$(\"#cd1bbd41-d60a-422e-bf11-37f2a104634c\").text(\"BokehJS successfully loaded.\");\n",
       "      } else if (Date.now() < window._bokeh_timeout) {\n",
       "        setTimeout(display_loaded, 100)\n",
       "      }\n",
       "    }\n",
       "  \n",
       "    function run_callbacks() {\n",
       "      window._bokeh_onload_callbacks.forEach(function(callback) { callback() });\n",
       "      delete window._bokeh_onload_callbacks\n",
       "      console.info(\"Bokeh: all callbacks have finished\");\n",
       "    }\n",
       "  \n",
       "    function load_libs(js_urls, callback) {\n",
       "      window._bokeh_onload_callbacks.push(callback);\n",
       "      if (window._bokeh_is_loading > 0) {\n",
       "        console.log(\"Bokeh: BokehJS is being loaded, scheduling callback at\", now());\n",
       "        return null;\n",
       "      }\n",
       "      if (js_urls == null || js_urls.length === 0) {\n",
       "        run_callbacks();\n",
       "        return null;\n",
       "      }\n",
       "      console.log(\"Bokeh: BokehJS not loaded, scheduling load and callback at\", now());\n",
       "      window._bokeh_is_loading = js_urls.length;\n",
       "      for (var i = 0; i < js_urls.length; i++) {\n",
       "        var url = js_urls[i];\n",
       "        var s = document.createElement('script');\n",
       "        s.src = url;\n",
       "        s.async = false;\n",
       "        s.onreadystatechange = s.onload = function() {\n",
       "          window._bokeh_is_loading--;\n",
       "          if (window._bokeh_is_loading === 0) {\n",
       "            console.log(\"Bokeh: all BokehJS libraries loaded\");\n",
       "            run_callbacks()\n",
       "          }\n",
       "        };\n",
       "        s.onerror = function() {\n",
       "          console.warn(\"failed to load library \" + url);\n",
       "        };\n",
       "        console.log(\"Bokeh: injecting script tag for BokehJS library: \", url);\n",
       "        document.getElementsByTagName(\"head\")[0].appendChild(s);\n",
       "      }\n",
       "    };var element = document.getElementById(\"cd1bbd41-d60a-422e-bf11-37f2a104634c\");\n",
       "    if (element == null) {\n",
       "      console.log(\"Bokeh: ERROR: autoload.js configured with elementid 'cd1bbd41-d60a-422e-bf11-37f2a104634c' but no matching script tag was found. \")\n",
       "      return false;\n",
       "    }\n",
       "  \n",
       "    var js_urls = [];\n",
       "  \n",
       "    var inline_js = [\n",
       "      function(Bokeh) {\n",
       "        Bokeh.$(function() {\n",
       "            var docs_json = {\"53292388-9891-4d41-942f-e136c3d1702e\":{\"roots\":{\"references\":[{\"attributes\":{\"callback\":null,\"column_names\":[\"line_color\",\"line_alpha\",\"color\",\"fill_alpha\",\"height\",\"width\",\"y\",\"x\",\"label\"],\"data\":{\"Intact\":[\"Spayed/Neutered\"],\"OutcomeType\":[\"Return_to_owner\"],\"chart_index\":[{\"Intact\":\"Spayed/Neutered\",\"OutcomeType\":\"Return_to_owner\"}],\"color\":[\"#5ab738\"],\"fill_alpha\":[0.8],\"height\":[3996.0],\"label\":[{\"Intact\":\"Spayed/Neutered\",\"OutcomeType\":\"Return_to_owner\"}],\"line_alpha\":[1.0],\"line_color\":[\"white\"],\"width\":[0.8],\"x\":[\"Return_to_owner\"],\"y\":[1998.0]}},\"id\":\"c4956035-2eea-4dc8-98e8-5dc916a8fc13\",\"type\":\"ColumnDataSource\"},{\"attributes\":{\"data_source\":{\"id\":\"d171eeae-08f6-4856-bf35-eb53995388cf\",\"type\":\"ColumnDataSource\"},\"glyph\":{\"id\":\"1edd9472-5f63-42b0-9282-f62438c26b44\",\"type\":\"Rect\"},\"hover_glyph\":null,\"nonselection_glyph\":null,\"selection_glyph\":null},\"id\":\"902a54a8-9e3a-438d-9bed-3918b33a11f5\",\"type\":\"GlyphRenderer\"},{\"attributes\":{},\"id\":\"60a625a9-fc34-4275-ad9e-28666d2c1bf4\",\"type\":\"BasicTicker\"},{\"attributes\":{\"data_source\":{\"id\":\"64b4ff51-8398-4e9b-a9af-aa4d2897375a\",\"type\":\"ColumnDataSource\"},\"glyph\":{\"id\":\"3807337f-f7b1-4cc4-b2d2-c669c7d3975a\",\"type\":\"Rect\"},\"hover_glyph\":null,\"nonselection_glyph\":null,\"selection_glyph\":null},\"id\":\"48028c32-bf4f-4806-a79d-7b58f2b774f7\",\"type\":\"GlyphRenderer\"},{\"attributes\":{\"callback\":null,\"column_names\":[\"line_color\",\"line_alpha\",\"color\",\"fill_alpha\",\"height\",\"width\",\"y\",\"x\",\"label\"],\"data\":{\"Intact\":[\"Spayed/Neutered\"],\"OutcomeType\":[\"Euthanasia\"],\"chart_index\":[{\"Intact\":\"Spayed/Neutered\",\"OutcomeType\":\"Euthanasia\"}],\"color\":[\"#5ab738\"],\"fill_alpha\":[0.8],\"height\":[576.0],\"label\":[{\"Intact\":\"Spayed/Neutered\",\"OutcomeType\":\"Euthanasia\"}],\"line_alpha\":[1.0],\"line_color\":[\"white\"],\"width\":[0.8],\"x\":[\"Euthanasia\"],\"y\":[288.0]}},\"id\":\"d171eeae-08f6-4856-bf35-eb53995388cf\",\"type\":\"ColumnDataSource\"},{\"attributes\":{\"data_source\":{\"id\":\"5185409e-57d0-457f-b244-707e46d058dc\",\"type\":\"ColumnDataSource\"},\"glyph\":{\"id\":\"8435f1ea-699d-4e55-ae9d-0b6a37591ecf\",\"type\":\"Rect\"},\"hover_glyph\":null,\"nonselection_glyph\":null,\"selection_glyph\":null},\"id\":\"261f7895-bc72-40cb-a312-0a82995067da\",\"type\":\"GlyphRenderer\"},{\"attributes\":{\"plot\":{\"id\":\"349844bb-b9bf-445c-935f-84c3ddbb4269\",\"subtype\":\"Chart\",\"type\":\"Plot\"}},\"id\":\"1f662dd0-26e7-46dd-8bcc-5e7d23a6ff73\",\"type\":\"HelpTool\"},{\"attributes\":{\"callback\":null,\"column_names\":[\"line_color\",\"line_alpha\",\"color\",\"fill_alpha\",\"height\",\"width\",\"y\",\"x\",\"label\"],\"data\":{\"Intact\":[\"Unknown\"],\"OutcomeType\":[\"Return_to_owner\"],\"chart_index\":[{\"Intact\":\"Unknown\",\"OutcomeType\":\"Return_to_owner\"}],\"color\":[\"#407ee7\"],\"fill_alpha\":[0.8],\"height\":[12.0],\"label\":[{\"Intact\":\"Unknown\",\"OutcomeType\":\"Return_to_owner\"}],\"line_alpha\":[1.0],\"line_color\":[\"white\"],\"width\":[0.8],\"x\":[\"Return_to_owner\"],\"y\":[4780.0]}},\"id\":\"cf79d790-0715-497a-9928-2f9bad0913df\",\"type\":\"ColumnDataSource\"},{\"attributes\":{\"plot\":{\"id\":\"349844bb-b9bf-445c-935f-84c3ddbb4269\",\"subtype\":\"Chart\",\"type\":\"Plot\"}},\"id\":\"a968e5a3-2a55-407c-a4c9-17750bcd1266\",\"type\":\"ResetTool\"},{\"attributes\":{},\"id\":\"eb71f62b-8a26-4dff-beb5-8edd38c73660\",\"type\":\"ToolEvents\"},{\"attributes\":{\"axis_label\":\"Count( Intact )\",\"formatter\":{\"id\":\"bce0755a-7ec6-42e2-83f6-adeecc775042\",\"type\":\"BasicTickFormatter\"},\"plot\":{\"id\":\"349844bb-b9bf-445c-935f-84c3ddbb4269\",\"subtype\":\"Chart\",\"type\":\"Plot\"},\"ticker\":{\"id\":\"60a625a9-fc34-4275-ad9e-28666d2c1bf4\",\"type\":\"BasicTicker\"}},\"id\":\"6fac1580-81e1-41b2-bb5f-37a4d3f77d3b\",\"type\":\"LinearAxis\"},{\"attributes\":{\"data_source\":{\"id\":\"c4956035-2eea-4dc8-98e8-5dc916a8fc13\",\"type\":\"ColumnDataSource\"},\"glyph\":{\"id\":\"a7a0f8e9-8511-471c-ba94-5432625eb901\",\"type\":\"Rect\"},\"hover_glyph\":null,\"nonselection_glyph\":null,\"selection_glyph\":null},\"id\":\"910894ab-fcfe-43cb-9380-dbdd19c3da70\",\"type\":\"GlyphRenderer\"},{\"attributes\":{\"data_source\":{\"id\":\"1d4e3517-3f73-40cf-914f-5d2f12e1989d\",\"type\":\"ColumnDataSource\"},\"glyph\":{\"id\":\"24626c2d-6861-4079-b321-acc13e6d8dc7\",\"type\":\"Rect\"},\"hover_glyph\":null,\"nonselection_glyph\":null,\"selection_glyph\":null},\"id\":\"26885b8b-5307-4f60-9c9b-5eebed2132c2\",\"type\":\"GlyphRenderer\"},{\"attributes\":{},\"id\":\"bce0755a-7ec6-42e2-83f6-adeecc775042\",\"type\":\"BasicTickFormatter\"},{\"attributes\":{\"callback\":null,\"column_names\":[\"line_color\",\"line_alpha\",\"color\",\"fill_alpha\",\"height\",\"width\",\"y\",\"x\",\"label\"],\"data\":{\"Intact\":[\"Intact\"],\"OutcomeType\":[\"Return_to_owner\"],\"chart_index\":[{\"Intact\":\"Intact\",\"OutcomeType\":\"Return_to_owner\"}],\"color\":[\"#f22c40\"],\"fill_alpha\":[0.8],\"height\":[778.0],\"label\":[{\"Intact\":\"Intact\",\"OutcomeType\":\"Return_to_owner\"}],\"line_alpha\":[1.0],\"line_color\":[\"white\"],\"width\":[0.8],\"x\":[\"Return_to_owner\"],\"y\":[4385.0]}},\"id\":\"2571e5d3-84d5-4365-b421-cdb5f3d5e190\",\"type\":\"ColumnDataSource\"},{\"attributes\":{\"callback\":null,\"column_names\":[\"line_color\",\"line_alpha\",\"color\",\"fill_alpha\",\"height\",\"width\",\"y\",\"x\",\"label\"],\"data\":{\"Intact\":[\"Intact\"],\"OutcomeType\":[\"Died\"],\"chart_index\":[{\"Intact\":\"Intact\",\"OutcomeType\":\"Died\"}],\"color\":[\"#f22c40\"],\"fill_alpha\":[0.8],\"height\":[135.0],\"label\":[{\"Intact\":\"Intact\",\"OutcomeType\":\"Died\"}],\"line_alpha\":[1.0],\"line_color\":[\"white\"],\"width\":[0.8],\"x\":[\"Died\"],\"y\":[67.5]}},\"id\":\"1d4e3517-3f73-40cf-914f-5d2f12e1989d\",\"type\":\"ColumnDataSource\"},{\"attributes\":{\"fill_alpha\":{\"field\":\"fill_alpha\"},\"fill_color\":{\"field\":\"color\"},\"height\":{\"field\":\"height\",\"units\":\"data\"},\"line_color\":{\"field\":\"line_color\"},\"width\":{\"field\":\"width\",\"units\":\"data\"},\"x\":{\"field\":\"x\"},\"y\":{\"field\":\"y\"}},\"id\":\"51e780de-5421-47e7-a927-6c95fb944638\",\"type\":\"Rect\"},{\"attributes\":{\"plot\":{\"id\":\"349844bb-b9bf-445c-935f-84c3ddbb4269\",\"subtype\":\"Chart\",\"type\":\"Plot\"}},\"id\":\"53852816-63ee-4abf-aed2-9c42ff08f236\",\"type\":\"PanTool\"},{\"attributes\":{\"fill_alpha\":{\"field\":\"fill_alpha\"},\"fill_color\":{\"field\":\"color\"},\"height\":{\"field\":\"height\",\"units\":\"data\"},\"line_color\":{\"field\":\"line_color\"},\"width\":{\"field\":\"width\",\"units\":\"data\"},\"x\":{\"field\":\"x\"},\"y\":{\"field\":\"y\"}},\"id\":\"7ef6ec3e-e79d-43e5-b3bb-51c43107da8b\",\"type\":\"Rect\"},{\"attributes\":{\"data_source\":{\"id\":\"1b6106c4-19be-4813-8285-77d4b3b193b7\",\"type\":\"ColumnDataSource\"},\"glyph\":{\"id\":\"d3f6974e-a992-468a-aea5-ff1511769839\",\"type\":\"Rect\"},\"hover_glyph\":null,\"nonselection_glyph\":null,\"selection_glyph\":null},\"id\":\"bd7aae35-8c6d-42cd-a56e-1ebd482ad9b6\",\"type\":\"GlyphRenderer\"},{\"attributes\":{},\"id\":\"3e843d05-7331-4ee6-af5e-0a3dfff6061b\",\"type\":\"CategoricalTicker\"},{\"attributes\":{\"dimension\":1,\"plot\":{\"id\":\"349844bb-b9bf-445c-935f-84c3ddbb4269\",\"subtype\":\"Chart\",\"type\":\"Plot\"},\"ticker\":{\"id\":\"60a625a9-fc34-4275-ad9e-28666d2c1bf4\",\"type\":\"BasicTicker\"}},\"id\":\"a8b87242-6a7b-445a-b952-e901108fb7a7\",\"type\":\"Grid\"},{\"attributes\":{\"data_source\":{\"id\":\"bfff91e1-f0b0-4891-a12a-cab09213d8f0\",\"type\":\"ColumnDataSource\"},\"glyph\":{\"id\":\"7ef6ec3e-e79d-43e5-b3bb-51c43107da8b\",\"type\":\"Rect\"},\"hover_glyph\":null,\"nonselection_glyph\":null,\"selection_glyph\":null},\"id\":\"e8fe5282-5e3b-4b70-ac50-db00a2b17682\",\"type\":\"GlyphRenderer\"},{\"attributes\":{\"fill_alpha\":{\"field\":\"fill_alpha\"},\"fill_color\":{\"field\":\"color\"},\"height\":{\"field\":\"height\",\"units\":\"data\"},\"line_color\":{\"field\":\"line_color\"},\"width\":{\"field\":\"width\",\"units\":\"data\"},\"x\":{\"field\":\"x\"},\"y\":{\"field\":\"y\"}},\"id\":\"a267f298-c31a-4a30-a87e-c45dcef30cfa\",\"type\":\"Rect\"},{\"attributes\":{\"data_source\":{\"id\":\"2571e5d3-84d5-4365-b421-cdb5f3d5e190\",\"type\":\"ColumnDataSource\"},\"glyph\":{\"id\":\"a267f298-c31a-4a30-a87e-c45dcef30cfa\",\"type\":\"Rect\"},\"hover_glyph\":null,\"nonselection_glyph\":null,\"selection_glyph\":null},\"id\":\"a2503bd8-6fdd-4f61-b0ef-32dad9dd05ef\",\"type\":\"GlyphRenderer\"},{\"attributes\":{\"fill_alpha\":{\"field\":\"fill_alpha\"},\"fill_color\":{\"field\":\"color\"},\"height\":{\"field\":\"height\",\"units\":\"data\"},\"line_color\":{\"field\":\"line_color\"},\"width\":{\"field\":\"width\",\"units\":\"data\"},\"x\":{\"field\":\"x\"},\"y\":{\"field\":\"y\"}},\"id\":\"d3f6974e-a992-468a-aea5-ff1511769839\",\"type\":\"Rect\"},{\"attributes\":{\"data_source\":{\"id\":\"cf79d790-0715-497a-9928-2f9bad0913df\",\"type\":\"ColumnDataSource\"},\"glyph\":{\"id\":\"bbe69d27-27c1-40ec-91f7-3b479ebebda4\",\"type\":\"Rect\"},\"hover_glyph\":null,\"nonselection_glyph\":null,\"selection_glyph\":null},\"id\":\"2e84bd58-711c-4af3-ba09-215d1b465027\",\"type\":\"GlyphRenderer\"},{\"attributes\":{\"callback\":null,\"factors\":[\"Adoption\",\"Died\",\"Euthanasia\",\"Return_to_owner\",\"Transfer\"]},\"id\":\"265c7f2a-eb49-4cc0-b315-56e2696f81ba\",\"type\":\"FactorRange\"},{\"attributes\":{\"below\":[{\"id\":\"e98b815c-9a45-4534-876e-0c8ad6a780dd\",\"type\":\"CategoricalAxis\"}],\"left\":[{\"id\":\"6fac1580-81e1-41b2-bb5f-37a4d3f77d3b\",\"type\":\"LinearAxis\"}],\"renderers\":[{\"id\":\"ee3532a3-dbd8-4c1a-a040-7c7d8a3c2454\",\"type\":\"BoxAnnotation\"},{\"id\":\"910894ab-fcfe-43cb-9380-dbdd19c3da70\",\"type\":\"GlyphRenderer\"},{\"id\":\"902a54a8-9e3a-438d-9bed-3918b33a11f5\",\"type\":\"GlyphRenderer\"},{\"id\":\"261f7895-bc72-40cb-a312-0a82995067da\",\"type\":\"GlyphRenderer\"},{\"id\":\"0d65f246-beb1-4408-ad63-aee85dad069e\",\"type\":\"GlyphRenderer\"},{\"id\":\"bd7aae35-8c6d-42cd-a56e-1ebd482ad9b6\",\"type\":\"GlyphRenderer\"},{\"id\":\"41e3c66a-a8bd-489b-947a-74f060d0f11c\",\"type\":\"GlyphRenderer\"},{\"id\":\"dac0190e-3b6f-47e9-ac07-33843d40590a\",\"type\":\"GlyphRenderer\"},{\"id\":\"a2503bd8-6fdd-4f61-b0ef-32dad9dd05ef\",\"type\":\"GlyphRenderer\"},{\"id\":\"73ce0192-6ccb-4f3b-9d04-62c355cda0cc\",\"type\":\"GlyphRenderer\"},{\"id\":\"48028c32-bf4f-4806-a79d-7b58f2b774f7\",\"type\":\"GlyphRenderer\"},{\"id\":\"26885b8b-5307-4f60-9c9b-5eebed2132c2\",\"type\":\"GlyphRenderer\"},{\"id\":\"c6585b2c-90af-4599-95c7-fd0b59bb3acd\",\"type\":\"GlyphRenderer\"},{\"id\":\"e8fe5282-5e3b-4b70-ac50-db00a2b17682\",\"type\":\"GlyphRenderer\"},{\"id\":\"2e84bd58-711c-4af3-ba09-215d1b465027\",\"type\":\"GlyphRenderer\"},{\"id\":\"beb2c614-b992-4186-9e9c-69cd40051ceb\",\"type\":\"Legend\"},{\"id\":\"e98b815c-9a45-4534-876e-0c8ad6a780dd\",\"type\":\"CategoricalAxis\"},{\"id\":\"6fac1580-81e1-41b2-bb5f-37a4d3f77d3b\",\"type\":\"LinearAxis\"},{\"id\":\"a8b87242-6a7b-445a-b952-e901108fb7a7\",\"type\":\"Grid\"}],\"title\":{\"id\":\"55b849f9-598e-4399-9db3-941d0efdfa9e\",\"type\":\"Title\"},\"tool_events\":{\"id\":\"eb71f62b-8a26-4dff-beb5-8edd38c73660\",\"type\":\"ToolEvents\"},\"toolbar\":{\"id\":\"4abd66fe-5393-4e20-9608-2a9cf5d838d8\",\"type\":\"Toolbar\"},\"x_mapper_type\":\"auto\",\"x_range\":{\"id\":\"265c7f2a-eb49-4cc0-b315-56e2696f81ba\",\"type\":\"FactorRange\"},\"y_mapper_type\":\"auto\",\"y_range\":{\"id\":\"4a7761c2-3264-4b44-91bb-7534e06dadd4\",\"type\":\"Range1d\"}},\"id\":\"349844bb-b9bf-445c-935f-84c3ddbb4269\",\"subtype\":\"Chart\",\"type\":\"Plot\"},{\"attributes\":{\"fill_alpha\":{\"field\":\"fill_alpha\"},\"fill_color\":{\"field\":\"color\"},\"height\":{\"field\":\"height\",\"units\":\"data\"},\"line_color\":{\"field\":\"line_color\"},\"width\":{\"field\":\"width\",\"units\":\"data\"},\"x\":{\"field\":\"x\"},\"y\":{\"field\":\"y\"}},\"id\":\"96f1166e-8b30-4d18-9aad-745b39b3ac23\",\"type\":\"Rect\"},{\"attributes\":{\"fill_alpha\":{\"field\":\"fill_alpha\"},\"fill_color\":{\"field\":\"color\"},\"height\":{\"field\":\"height\",\"units\":\"data\"},\"line_color\":{\"field\":\"line_color\"},\"width\":{\"field\":\"width\",\"units\":\"data\"},\"x\":{\"field\":\"x\"},\"y\":{\"field\":\"y\"}},\"id\":\"751a4665-32a3-4f49-836e-eaacecea4429\",\"type\":\"Rect\"},{\"attributes\":{\"data_source\":{\"id\":\"e06a2860-587a-4141-9099-433228c3f2c3\",\"type\":\"ColumnDataSource\"},\"glyph\":{\"id\":\"51e780de-5421-47e7-a927-6c95fb944638\",\"type\":\"Rect\"},\"hover_glyph\":null,\"nonselection_glyph\":null,\"selection_glyph\":null},\"id\":\"41e3c66a-a8bd-489b-947a-74f060d0f11c\",\"type\":\"GlyphRenderer\"},{\"attributes\":{\"callback\":null,\"column_names\":[\"line_color\",\"line_alpha\",\"color\",\"fill_alpha\",\"height\",\"width\",\"y\",\"x\",\"label\"],\"data\":{\"Intact\":[\"Intact\"],\"OutcomeType\":[\"Adoption\"],\"chart_index\":[{\"Intact\":\"Intact\",\"OutcomeType\":\"Adoption\"}],\"color\":[\"#f22c40\"],\"fill_alpha\":[0.8],\"height\":[361.0],\"label\":[{\"Intact\":\"Intact\",\"OutcomeType\":\"Adoption\"}],\"line_alpha\":[1.0],\"line_color\":[\"white\"],\"width\":[0.8],\"x\":[\"Adoption\"],\"y\":[10588.5]}},\"id\":\"64b4ff51-8398-4e9b-a9af-aa4d2897375a\",\"type\":\"ColumnDataSource\"},{\"attributes\":{\"active_drag\":\"auto\",\"active_scroll\":\"auto\",\"active_tap\":\"auto\",\"tools\":[{\"id\":\"53852816-63ee-4abf-aed2-9c42ff08f236\",\"type\":\"PanTool\"},{\"id\":\"ef7aaa80-1b7e-4f44-84cc-f9dc702696e9\",\"type\":\"WheelZoomTool\"},{\"id\":\"6f352006-f9e1-4679-9cd2-821a6a569301\",\"type\":\"BoxZoomTool\"},{\"id\":\"3cdaf34a-bc32-49c3-bdea-8a9ffb7c6b97\",\"type\":\"SaveTool\"},{\"id\":\"a968e5a3-2a55-407c-a4c9-17750bcd1266\",\"type\":\"ResetTool\"},{\"id\":\"1f662dd0-26e7-46dd-8bcc-5e7d23a6ff73\",\"type\":\"HelpTool\"}]},\"id\":\"4abd66fe-5393-4e20-9608-2a9cf5d838d8\",\"type\":\"Toolbar\"},{\"attributes\":{\"callback\":null,\"column_names\":[\"line_color\",\"line_alpha\",\"color\",\"fill_alpha\",\"height\",\"width\",\"y\",\"x\",\"label\"],\"data\":{\"Intact\":[\"Unknown\"],\"OutcomeType\":[\"Died\"],\"chart_index\":[{\"Intact\":\"Unknown\",\"OutcomeType\":\"Died\"}],\"color\":[\"#407ee7\"],\"fill_alpha\":[0.8],\"height\":[25.0],\"label\":[{\"Intact\":\"Unknown\",\"OutcomeType\":\"Died\"}],\"line_alpha\":[1.0],\"line_color\":[\"white\"],\"width\":[0.8],\"x\":[\"Died\"],\"y\":[147.5]}},\"id\":\"faf0541f-ecea-47a7-a743-e980b2be1ef9\",\"type\":\"ColumnDataSource\"},{\"attributes\":{\"fill_alpha\":{\"field\":\"fill_alpha\"},\"fill_color\":{\"field\":\"color\"},\"height\":{\"field\":\"height\",\"units\":\"data\"},\"line_color\":{\"field\":\"line_color\"},\"width\":{\"field\":\"width\",\"units\":\"data\"},\"x\":{\"field\":\"x\"},\"y\":{\"field\":\"y\"}},\"id\":\"7f819bc1-9d9f-48f8-82eb-6302e2bd12bc\",\"type\":\"Rect\"},{\"attributes\":{\"callback\":null,\"column_names\":[\"line_color\",\"line_alpha\",\"color\",\"fill_alpha\",\"height\",\"width\",\"y\",\"x\",\"label\"],\"data\":{\"Intact\":[\"Intact\"],\"OutcomeType\":[\"Transfer\"],\"chart_index\":[{\"Intact\":\"Intact\",\"OutcomeType\":\"Transfer\"}],\"color\":[\"#f22c40\"],\"fill_alpha\":[0.8],\"height\":[4884.0],\"label\":[{\"Intact\":\"Intact\",\"OutcomeType\":\"Transfer\"}],\"line_alpha\":[1.0],\"line_color\":[\"white\"],\"width\":[0.8],\"x\":[\"Transfer\"],\"y\":[2442.0]}},\"id\":\"ea95aa61-e817-4319-b9a7-924b141bd3f3\",\"type\":\"ColumnDataSource\"},{\"attributes\":{\"fill_alpha\":{\"field\":\"fill_alpha\"},\"fill_color\":{\"field\":\"color\"},\"height\":{\"field\":\"height\",\"units\":\"data\"},\"line_color\":{\"field\":\"line_color\"},\"width\":{\"field\":\"width\",\"units\":\"data\"},\"x\":{\"field\":\"x\"},\"y\":{\"field\":\"y\"}},\"id\":\"3807337f-f7b1-4cc4-b2d2-c669c7d3975a\",\"type\":\"Rect\"},{\"attributes\":{\"axis_label\":\"Outcometype\",\"formatter\":{\"id\":\"605e39fb-2c70-4be5-844f-903d3f08e8d5\",\"type\":\"CategoricalTickFormatter\"},\"major_label_orientation\":0.7853981633974483,\"plot\":{\"id\":\"349844bb-b9bf-445c-935f-84c3ddbb4269\",\"subtype\":\"Chart\",\"type\":\"Plot\"},\"ticker\":{\"id\":\"3e843d05-7331-4ee6-af5e-0a3dfff6061b\",\"type\":\"CategoricalTicker\"}},\"id\":\"e98b815c-9a45-4534-876e-0c8ad6a780dd\",\"type\":\"CategoricalAxis\"},{\"attributes\":{\"callback\":null,\"column_names\":[\"line_color\",\"line_alpha\",\"color\",\"fill_alpha\",\"height\",\"width\",\"y\",\"x\",\"label\"],\"data\":{\"Intact\":[\"Spayed/Neutered\"],\"OutcomeType\":[\"Transfer\"],\"chart_index\":[{\"Intact\":\"Spayed/Neutered\",\"OutcomeType\":\"Transfer\"}],\"color\":[\"#5ab738\"],\"fill_alpha\":[0.8],\"height\":[3583.0],\"label\":[{\"Intact\":\"Spayed/Neutered\",\"OutcomeType\":\"Transfer\"}],\"line_alpha\":[1.0],\"line_color\":[\"white\"],\"width\":[0.8],\"x\":[\"Transfer\"],\"y\":[6675.5]}},\"id\":\"1b6106c4-19be-4813-8285-77d4b3b193b7\",\"type\":\"ColumnDataSource\"},{\"attributes\":{\"fill_alpha\":{\"field\":\"fill_alpha\"},\"fill_color\":{\"field\":\"color\"},\"height\":{\"field\":\"height\",\"units\":\"data\"},\"line_color\":{\"field\":\"line_color\"},\"width\":{\"field\":\"width\",\"units\":\"data\"},\"x\":{\"field\":\"x\"},\"y\":{\"field\":\"y\"}},\"id\":\"8435f1ea-699d-4e55-ae9d-0b6a37591ecf\",\"type\":\"Rect\"},{\"attributes\":{\"callback\":null,\"column_names\":[\"line_color\",\"line_alpha\",\"color\",\"fill_alpha\",\"height\",\"width\",\"y\",\"x\",\"label\"],\"data\":{\"Intact\":[\"Spayed/Neutered\"],\"OutcomeType\":[\"Died\"],\"chart_index\":[{\"Intact\":\"Spayed/Neutered\",\"OutcomeType\":\"Died\"}],\"color\":[\"#5ab738\"],\"fill_alpha\":[0.8],\"height\":[37.0],\"label\":[{\"Intact\":\"Spayed/Neutered\",\"OutcomeType\":\"Died\"}],\"line_alpha\":[1.0],\"line_color\":[\"white\"],\"width\":[0.8],\"x\":[\"Died\"],\"y\":[178.5]}},\"id\":\"bfff91e1-f0b0-4891-a12a-cab09213d8f0\",\"type\":\"ColumnDataSource\"},{\"attributes\":{\"callback\":null,\"column_names\":[\"line_color\",\"line_alpha\",\"color\",\"fill_alpha\",\"height\",\"width\",\"y\",\"x\",\"label\"],\"data\":{\"Intact\":[\"Intact\"],\"OutcomeType\":[\"Euthanasia\"],\"chart_index\":[{\"Intact\":\"Intact\",\"OutcomeType\":\"Euthanasia\"}],\"color\":[\"#f22c40\"],\"fill_alpha\":[0.8],\"height\":[878.0],\"label\":[{\"Intact\":\"Intact\",\"OutcomeType\":\"Euthanasia\"}],\"line_alpha\":[1.0],\"line_color\":[\"white\"],\"width\":[0.8],\"x\":[\"Euthanasia\"],\"y\":[1015.0]}},\"id\":\"fc38556f-6f2e-49da-9929-f1322863b6c0\",\"type\":\"ColumnDataSource\"},{\"attributes\":{\"fill_alpha\":{\"field\":\"fill_alpha\"},\"fill_color\":{\"field\":\"color\"},\"height\":{\"field\":\"height\",\"units\":\"data\"},\"line_color\":{\"field\":\"line_color\"},\"width\":{\"field\":\"width\",\"units\":\"data\"},\"x\":{\"field\":\"x\"},\"y\":{\"field\":\"y\"}},\"id\":\"a7a0f8e9-8511-471c-ba94-5432625eb901\",\"type\":\"Rect\"},{\"attributes\":{\"callback\":null,\"column_names\":[\"line_color\",\"line_alpha\",\"color\",\"fill_alpha\",\"height\",\"width\",\"y\",\"x\",\"label\"],\"data\":{\"Intact\":[\"Spayed/Neutered\"],\"OutcomeType\":[\"Adoption\"],\"chart_index\":[{\"Intact\":\"Spayed/Neutered\",\"OutcomeType\":\"Adoption\"}],\"color\":[\"#5ab738\"],\"fill_alpha\":[0.8],\"height\":[10408.0],\"label\":[{\"Intact\":\"Spayed/Neutered\",\"OutcomeType\":\"Adoption\"}],\"line_alpha\":[1.0],\"line_color\":[\"white\"],\"width\":[0.8],\"x\":[\"Adoption\"],\"y\":[5204.0]}},\"id\":\"5185409e-57d0-457f-b244-707e46d058dc\",\"type\":\"ColumnDataSource\"},{\"attributes\":{\"plot\":{\"id\":\"349844bb-b9bf-445c-935f-84c3ddbb4269\",\"subtype\":\"Chart\",\"type\":\"Plot\"}},\"id\":\"ef7aaa80-1b7e-4f44-84cc-f9dc702696e9\",\"type\":\"WheelZoomTool\"},{\"attributes\":{\"legends\":[[\"Spayed/Neutered\",[{\"id\":\"910894ab-fcfe-43cb-9380-dbdd19c3da70\",\"type\":\"GlyphRenderer\"}]],[\"Intact\",[{\"id\":\"0d65f246-beb1-4408-ad63-aee85dad069e\",\"type\":\"GlyphRenderer\"}]],[\"Unknown\",[{\"id\":\"41e3c66a-a8bd-489b-947a-74f060d0f11c\",\"type\":\"GlyphRenderer\"}]]],\"plot\":{\"id\":\"349844bb-b9bf-445c-935f-84c3ddbb4269\",\"subtype\":\"Chart\",\"type\":\"Plot\"}},\"id\":\"beb2c614-b992-4186-9e9c-69cd40051ceb\",\"type\":\"Legend\"},{\"attributes\":{},\"id\":\"605e39fb-2c70-4be5-844f-903d3f08e8d5\",\"type\":\"CategoricalTickFormatter\"},{\"attributes\":{\"fill_alpha\":{\"field\":\"fill_alpha\"},\"fill_color\":{\"field\":\"color\"},\"height\":{\"field\":\"height\",\"units\":\"data\"},\"line_color\":{\"field\":\"line_color\"},\"width\":{\"field\":\"width\",\"units\":\"data\"},\"x\":{\"field\":\"x\"},\"y\":{\"field\":\"y\"}},\"id\":\"1edd9472-5f63-42b0-9282-f62438c26b44\",\"type\":\"Rect\"},{\"attributes\":{\"plot\":null,\"text\":\"Outcomes by Intact Status\"},\"id\":\"55b849f9-598e-4399-9db3-941d0efdfa9e\",\"type\":\"Title\"},{\"attributes\":{\"bottom_units\":\"screen\",\"fill_alpha\":{\"value\":0.5},\"fill_color\":{\"value\":\"lightgrey\"},\"left_units\":\"screen\",\"level\":\"overlay\",\"line_alpha\":{\"value\":1.0},\"line_color\":{\"value\":\"black\"},\"line_dash\":[4,4],\"line_width\":{\"value\":2},\"plot\":null,\"render_mode\":\"css\",\"right_units\":\"screen\",\"top_units\":\"screen\"},\"id\":\"ee3532a3-dbd8-4c1a-a040-7c7d8a3c2454\",\"type\":\"BoxAnnotation\"},{\"attributes\":{\"callback\":null,\"column_names\":[\"line_color\",\"line_alpha\",\"color\",\"fill_alpha\",\"height\",\"width\",\"y\",\"x\",\"label\"],\"data\":{\"Intact\":[\"Unknown\"],\"OutcomeType\":[\"Transfer\"],\"chart_index\":[{\"Intact\":\"Unknown\",\"OutcomeType\":\"Transfer\"}],\"color\":[\"#407ee7\"],\"fill_alpha\":[0.8],\"height\":[955.0],\"label\":[{\"Intact\":\"Unknown\",\"OutcomeType\":\"Transfer\"}],\"line_alpha\":[1.0],\"line_color\":[\"white\"],\"width\":[0.8],\"x\":[\"Transfer\"],\"y\":[8944.5]}},\"id\":\"e06a2860-587a-4141-9099-433228c3f2c3\",\"type\":\"ColumnDataSource\"},{\"attributes\":{\"data_source\":{\"id\":\"ea95aa61-e817-4319-b9a7-924b141bd3f3\",\"type\":\"ColumnDataSource\"},\"glyph\":{\"id\":\"4be0d791-3021-4c5a-a5d8-7a3de46edebe\",\"type\":\"Rect\"},\"hover_glyph\":null,\"nonselection_glyph\":null,\"selection_glyph\":null},\"id\":\"0d65f246-beb1-4408-ad63-aee85dad069e\",\"type\":\"GlyphRenderer\"},{\"attributes\":{\"overlay\":{\"id\":\"ee3532a3-dbd8-4c1a-a040-7c7d8a3c2454\",\"type\":\"BoxAnnotation\"},\"plot\":{\"id\":\"349844bb-b9bf-445c-935f-84c3ddbb4269\",\"subtype\":\"Chart\",\"type\":\"Plot\"}},\"id\":\"6f352006-f9e1-4679-9cd2-821a6a569301\",\"type\":\"BoxZoomTool\"},{\"attributes\":{\"fill_alpha\":{\"field\":\"fill_alpha\"},\"fill_color\":{\"field\":\"color\"},\"height\":{\"field\":\"height\",\"units\":\"data\"},\"line_color\":{\"field\":\"line_color\"},\"width\":{\"field\":\"width\",\"units\":\"data\"},\"x\":{\"field\":\"x\"},\"y\":{\"field\":\"y\"}},\"id\":\"bbe69d27-27c1-40ec-91f7-3b479ebebda4\",\"type\":\"Rect\"},{\"attributes\":{\"fill_alpha\":{\"field\":\"fill_alpha\"},\"fill_color\":{\"field\":\"color\"},\"height\":{\"field\":\"height\",\"units\":\"data\"},\"line_color\":{\"field\":\"line_color\"},\"width\":{\"field\":\"width\",\"units\":\"data\"},\"x\":{\"field\":\"x\"},\"y\":{\"field\":\"y\"}},\"id\":\"24626c2d-6861-4079-b321-acc13e6d8dc7\",\"type\":\"Rect\"},{\"attributes\":{\"fill_alpha\":{\"field\":\"fill_alpha\"},\"fill_color\":{\"field\":\"color\"},\"height\":{\"field\":\"height\",\"units\":\"data\"},\"line_color\":{\"field\":\"line_color\"},\"width\":{\"field\":\"width\",\"units\":\"data\"},\"x\":{\"field\":\"x\"},\"y\":{\"field\":\"y\"}},\"id\":\"4be0d791-3021-4c5a-a5d8-7a3de46edebe\",\"type\":\"Rect\"},{\"attributes\":{\"callback\":null,\"end\":11307.45},\"id\":\"4a7761c2-3264-4b44-91bb-7534e06dadd4\",\"type\":\"Range1d\"},{\"attributes\":{\"data_source\":{\"id\":\"faf0541f-ecea-47a7-a743-e980b2be1ef9\",\"type\":\"ColumnDataSource\"},\"glyph\":{\"id\":\"96f1166e-8b30-4d18-9aad-745b39b3ac23\",\"type\":\"Rect\"},\"hover_glyph\":null,\"nonselection_glyph\":null,\"selection_glyph\":null},\"id\":\"c6585b2c-90af-4599-95c7-fd0b59bb3acd\",\"type\":\"GlyphRenderer\"},{\"attributes\":{\"plot\":{\"id\":\"349844bb-b9bf-445c-935f-84c3ddbb4269\",\"subtype\":\"Chart\",\"type\":\"Plot\"}},\"id\":\"3cdaf34a-bc32-49c3-bdea-8a9ffb7c6b97\",\"type\":\"SaveTool\"},{\"attributes\":{\"data_source\":{\"id\":\"0561aabb-fb91-4352-85b6-68da1cbd2d9f\",\"type\":\"ColumnDataSource\"},\"glyph\":{\"id\":\"751a4665-32a3-4f49-836e-eaacecea4429\",\"type\":\"Rect\"},\"hover_glyph\":null,\"nonselection_glyph\":null,\"selection_glyph\":null},\"id\":\"73ce0192-6ccb-4f3b-9d04-62c355cda0cc\",\"type\":\"GlyphRenderer\"},{\"attributes\":{\"data_source\":{\"id\":\"fc38556f-6f2e-49da-9929-f1322863b6c0\",\"type\":\"ColumnDataSource\"},\"glyph\":{\"id\":\"7f819bc1-9d9f-48f8-82eb-6302e2bd12bc\",\"type\":\"Rect\"},\"hover_glyph\":null,\"nonselection_glyph\":null,\"selection_glyph\":null},\"id\":\"dac0190e-3b6f-47e9-ac07-33843d40590a\",\"type\":\"GlyphRenderer\"},{\"attributes\":{\"callback\":null,\"column_names\":[\"line_color\",\"line_alpha\",\"color\",\"fill_alpha\",\"height\",\"width\",\"y\",\"x\",\"label\"],\"data\":{\"Intact\":[\"Unknown\"],\"OutcomeType\":[\"Euthanasia\"],\"chart_index\":[{\"Intact\":\"Unknown\",\"OutcomeType\":\"Euthanasia\"}],\"color\":[\"#407ee7\"],\"fill_alpha\":[0.8],\"height\":[101.0],\"label\":[{\"Intact\":\"Unknown\",\"OutcomeType\":\"Euthanasia\"}],\"line_alpha\":[1.0],\"line_color\":[\"white\"],\"width\":[0.8],\"x\":[\"Euthanasia\"],\"y\":[1504.5]}},\"id\":\"0561aabb-fb91-4352-85b6-68da1cbd2d9f\",\"type\":\"ColumnDataSource\"}],\"root_ids\":[\"349844bb-b9bf-445c-935f-84c3ddbb4269\"]},\"title\":\"Bokeh Application\",\"version\":\"0.12.2\"}};\n",
       "            var render_items = [{\"docid\":\"53292388-9891-4d41-942f-e136c3d1702e\",\"elementid\":\"cd1bbd41-d60a-422e-bf11-37f2a104634c\",\"modelid\":\"349844bb-b9bf-445c-935f-84c3ddbb4269\"}];\n",
       "            \n",
       "            Bokeh.embed.embed_items(docs_json, render_items);\n",
       "        });\n",
       "      },\n",
       "      function(Bokeh) {\n",
       "      }\n",
       "    ];\n",
       "  \n",
       "    function run_inline_js() {\n",
       "      \n",
       "      if ((window.Bokeh !== undefined) || (force === \"1\")) {\n",
       "        for (var i = 0; i < inline_js.length; i++) {\n",
       "          inline_js[i](window.Bokeh);\n",
       "        }if (force === \"1\") {\n",
       "          display_loaded();\n",
       "        }} else if (Date.now() < window._bokeh_timeout) {\n",
       "        setTimeout(run_inline_js, 100);\n",
       "      } else if (!window._bokeh_failed_load) {\n",
       "        console.log(\"Bokeh: BokehJS failed to load within specified timeout.\");\n",
       "        window._bokeh_failed_load = true;\n",
       "      } else if (!force) {\n",
       "        var cell = $(\"#cd1bbd41-d60a-422e-bf11-37f2a104634c\").parents('.cell').data().cell;\n",
       "        cell.output_area.append_execute_result(NB_LOAD_WARNING)\n",
       "      }\n",
       "  \n",
       "    }\n",
       "  \n",
       "    if (window._bokeh_is_loading === 0) {\n",
       "      console.log(\"Bokeh: BokehJS loaded, going straight to plotting\");\n",
       "      run_inline_js();\n",
       "    } else {\n",
       "      load_libs(js_urls, function() {\n",
       "        console.log(\"Bokeh: BokehJS plotting callback run at\", now());\n",
       "        run_inline_js();\n",
       "      });\n",
       "    }\n",
       "  }(this));\n",
       "</script>"
      ]
     },
     "metadata": {},
     "output_type": "display_data"
    }
   ],
   "source": [
    "p = Bar(data, label='OutcomeType', values = 'Intact', agg='count', stack='Intact',\n",
    "        title=\"Outcomes by Intact Status\", legend='top_right')\n",
    "show(p)"
   ]
  },
  {
   "cell_type": "code",
   "execution_count": 27,
   "metadata": {
    "collapsed": false
   },
   "outputs": [
    {
     "data": {
      "text/html": [
       "\n",
       "\n",
       "    <div class=\"bk-root\">\n",
       "        <div class=\"plotdiv\" id=\"98787efd-b427-4a1b-9aba-c113ea3bf0ce\"></div>\n",
       "    </div>\n",
       "<script type=\"text/javascript\">\n",
       "  \n",
       "  (function(global) {\n",
       "    function now() {\n",
       "      return new Date();\n",
       "    }\n",
       "  \n",
       "    var force = \"\";\n",
       "  \n",
       "    if (typeof (window._bokeh_onload_callbacks) === \"undefined\" || force !== \"\") {\n",
       "      window._bokeh_onload_callbacks = [];\n",
       "      window._bokeh_is_loading = undefined;\n",
       "    }\n",
       "  \n",
       "  \n",
       "    \n",
       "    if (typeof (window._bokeh_timeout) === \"undefined\" || force !== \"\") {\n",
       "      window._bokeh_timeout = Date.now() + 0;\n",
       "      window._bokeh_failed_load = false;\n",
       "    }\n",
       "  \n",
       "    var NB_LOAD_WARNING = {'data': {'text/html':\n",
       "       \"<div style='background-color: #fdd'>\\n\"+\n",
       "       \"<p>\\n\"+\n",
       "       \"BokehJS does not appear to have successfully loaded. If loading BokehJS from CDN, this \\n\"+\n",
       "       \"may be due to a slow or bad network connection. Possible fixes:\\n\"+\n",
       "       \"</p>\\n\"+\n",
       "       \"<ul>\\n\"+\n",
       "       \"<li>re-rerun `output_notebook()` to attempt to load from CDN again, or</li>\\n\"+\n",
       "       \"<li>use INLINE resources instead, as so:</li>\\n\"+\n",
       "       \"</ul>\\n\"+\n",
       "       \"<code>\\n\"+\n",
       "       \"from bokeh.resources import INLINE\\n\"+\n",
       "       \"output_notebook(resources=INLINE)\\n\"+\n",
       "       \"</code>\\n\"+\n",
       "       \"</div>\"}};\n",
       "  \n",
       "    function display_loaded() {\n",
       "      if (window.Bokeh !== undefined) {\n",
       "        Bokeh.$(\"#98787efd-b427-4a1b-9aba-c113ea3bf0ce\").text(\"BokehJS successfully loaded.\");\n",
       "      } else if (Date.now() < window._bokeh_timeout) {\n",
       "        setTimeout(display_loaded, 100)\n",
       "      }\n",
       "    }\n",
       "  \n",
       "    function run_callbacks() {\n",
       "      window._bokeh_onload_callbacks.forEach(function(callback) { callback() });\n",
       "      delete window._bokeh_onload_callbacks\n",
       "      console.info(\"Bokeh: all callbacks have finished\");\n",
       "    }\n",
       "  \n",
       "    function load_libs(js_urls, callback) {\n",
       "      window._bokeh_onload_callbacks.push(callback);\n",
       "      if (window._bokeh_is_loading > 0) {\n",
       "        console.log(\"Bokeh: BokehJS is being loaded, scheduling callback at\", now());\n",
       "        return null;\n",
       "      }\n",
       "      if (js_urls == null || js_urls.length === 0) {\n",
       "        run_callbacks();\n",
       "        return null;\n",
       "      }\n",
       "      console.log(\"Bokeh: BokehJS not loaded, scheduling load and callback at\", now());\n",
       "      window._bokeh_is_loading = js_urls.length;\n",
       "      for (var i = 0; i < js_urls.length; i++) {\n",
       "        var url = js_urls[i];\n",
       "        var s = document.createElement('script');\n",
       "        s.src = url;\n",
       "        s.async = false;\n",
       "        s.onreadystatechange = s.onload = function() {\n",
       "          window._bokeh_is_loading--;\n",
       "          if (window._bokeh_is_loading === 0) {\n",
       "            console.log(\"Bokeh: all BokehJS libraries loaded\");\n",
       "            run_callbacks()\n",
       "          }\n",
       "        };\n",
       "        s.onerror = function() {\n",
       "          console.warn(\"failed to load library \" + url);\n",
       "        };\n",
       "        console.log(\"Bokeh: injecting script tag for BokehJS library: \", url);\n",
       "        document.getElementsByTagName(\"head\")[0].appendChild(s);\n",
       "      }\n",
       "    };var element = document.getElementById(\"98787efd-b427-4a1b-9aba-c113ea3bf0ce\");\n",
       "    if (element == null) {\n",
       "      console.log(\"Bokeh: ERROR: autoload.js configured with elementid '98787efd-b427-4a1b-9aba-c113ea3bf0ce' but no matching script tag was found. \")\n",
       "      return false;\n",
       "    }\n",
       "  \n",
       "    var js_urls = [];\n",
       "  \n",
       "    var inline_js = [\n",
       "      function(Bokeh) {\n",
       "        Bokeh.$(function() {\n",
       "            var docs_json = {\"d079d28d-88a1-4d93-9250-6aad9a13eaed\":{\"roots\":{\"references\":[{\"attributes\":{\"below\":[{\"id\":\"d97150e7-b2d8-4669-ac00-3fe34f7a7ff0\",\"type\":\"CategoricalAxis\"}],\"left\":[{\"id\":\"91367215-02bf-4a4c-a854-13532d8f72f1\",\"type\":\"LinearAxis\"}],\"renderers\":[{\"id\":\"82116b86-7d2b-4382-ae94-5900647fdda8\",\"type\":\"BoxAnnotation\"},{\"id\":\"04aafa20-88db-48c6-9634-d25c43103c45\",\"type\":\"GlyphRenderer\"},{\"id\":\"83126e84-465d-4246-ab61-cefc5151a2ad\",\"type\":\"GlyphRenderer\"},{\"id\":\"0528b78c-c6a8-4eb9-a59e-1d3a18b546d0\",\"type\":\"GlyphRenderer\"},{\"id\":\"8355ec72-bd2e-44f2-a449-e75bcea1bebe\",\"type\":\"GlyphRenderer\"},{\"id\":\"f7b3f50a-9bca-4b51-b69d-b2c1ba1baa01\",\"type\":\"GlyphRenderer\"},{\"id\":\"30175ea3-e621-4b20-baa3-22214b56248d\",\"type\":\"GlyphRenderer\"},{\"id\":\"eef14674-3390-45dc-864e-0edffd1ab0c3\",\"type\":\"GlyphRenderer\"},{\"id\":\"5734b939-47b2-4308-bb7b-5537733c41ca\",\"type\":\"GlyphRenderer\"},{\"id\":\"36c2b490-93de-46ac-8c6d-5dd2a158dac5\",\"type\":\"GlyphRenderer\"},{\"id\":\"c87d17fc-f55e-4de4-9573-e8e2808a6c23\",\"type\":\"GlyphRenderer\"},{\"id\":\"65322453-543e-4766-a7d5-533918ce215a\",\"type\":\"GlyphRenderer\"},{\"id\":\"29868bd8-4df3-4b5e-8718-87aed6ae0616\",\"type\":\"GlyphRenderer\"},{\"id\":\"bffd837e-56af-469c-9210-8342504a35a0\",\"type\":\"GlyphRenderer\"},{\"id\":\"394bdbc8-5514-48b8-add3-75a100e92398\",\"type\":\"GlyphRenderer\"},{\"id\":\"c1e977f4-89ed-4c17-bc5d-d3d952cff0ca\",\"type\":\"Legend\"},{\"id\":\"d97150e7-b2d8-4669-ac00-3fe34f7a7ff0\",\"type\":\"CategoricalAxis\"},{\"id\":\"91367215-02bf-4a4c-a854-13532d8f72f1\",\"type\":\"LinearAxis\"},{\"id\":\"40a96f45-5bf6-4b2e-9f4d-a31599385d01\",\"type\":\"Grid\"}],\"title\":{\"id\":\"1a9ee8d4-91d7-4213-a702-c08eedabe4e3\",\"type\":\"Title\"},\"tool_events\":{\"id\":\"de279b5e-2fe2-4f9d-8f58-50bec0ceb120\",\"type\":\"ToolEvents\"},\"toolbar\":{\"id\":\"672f0167-8e84-4543-9e20-cd72be43cde7\",\"type\":\"Toolbar\"},\"x_mapper_type\":\"auto\",\"x_range\":{\"id\":\"fbeb239c-a342-46df-90ac-7aa432a48866\",\"type\":\"FactorRange\"},\"y_mapper_type\":\"auto\",\"y_range\":{\"id\":\"b5b0245b-c3dd-453c-b888-acdb0ce0fd42\",\"type\":\"Range1d\"}},\"id\":\"0221a094-6d77-449f-8193-b33afbefbbae\",\"subtype\":\"Chart\",\"type\":\"Plot\"},{\"attributes\":{\"callback\":null,\"column_names\":[\"line_color\",\"line_alpha\",\"color\",\"fill_alpha\",\"height\",\"width\",\"y\",\"x\",\"label\"],\"data\":{\"Female\":[\"Male\"],\"OutcomeType\":[\"Return_to_owner\"],\"chart_index\":[{\"Female\":\"Male\",\"OutcomeType\":\"Return_to_owner\"}],\"color\":[\"#5ab738\"],\"fill_alpha\":[0.8],\"height\":[2725.0],\"label\":[{\"Female\":\"Male\",\"OutcomeType\":\"Return_to_owner\"}],\"line_alpha\":[1.0],\"line_color\":[\"white\"],\"width\":[0.8],\"x\":[\"Return_to_owner\"],\"y\":[1362.5]}},\"id\":\"6209caee-6b9a-4c9b-8cc4-ea0463287312\",\"type\":\"ColumnDataSource\"},{\"attributes\":{\"fill_alpha\":{\"field\":\"fill_alpha\"},\"fill_color\":{\"field\":\"color\"},\"height\":{\"field\":\"height\",\"units\":\"data\"},\"line_color\":{\"field\":\"line_color\"},\"width\":{\"field\":\"width\",\"units\":\"data\"},\"x\":{\"field\":\"x\"},\"y\":{\"field\":\"y\"}},\"id\":\"6a724b41-bae9-4eeb-af95-89ee8ac4a73c\",\"type\":\"Rect\"},{\"attributes\":{\"data_source\":{\"id\":\"bc717c47-4e94-468a-ad4c-9266a44204a4\",\"type\":\"ColumnDataSource\"},\"glyph\":{\"id\":\"08ec5634-2a4e-4782-827d-f2c2052ffce4\",\"type\":\"Rect\"},\"hover_glyph\":null,\"nonselection_glyph\":null,\"selection_glyph\":null},\"id\":\"0528b78c-c6a8-4eb9-a59e-1d3a18b546d0\",\"type\":\"GlyphRenderer\"},{\"attributes\":{\"callback\":null,\"column_names\":[\"line_color\",\"line_alpha\",\"color\",\"fill_alpha\",\"height\",\"width\",\"y\",\"x\",\"label\"],\"data\":{\"Female\":[\"Male\"],\"OutcomeType\":[\"Transfer\"],\"chart_index\":[{\"Female\":\"Male\",\"OutcomeType\":\"Transfer\"}],\"color\":[\"#5ab738\"],\"fill_alpha\":[0.8],\"height\":[4281.0],\"label\":[{\"Female\":\"Male\",\"OutcomeType\":\"Transfer\"}],\"line_alpha\":[1.0],\"line_color\":[\"white\"],\"width\":[0.8],\"x\":[\"Transfer\"],\"y\":[2140.5]}},\"id\":\"1d14f851-e2a4-4636-bb7b-ce46e714059f\",\"type\":\"ColumnDataSource\"},{\"attributes\":{\"callback\":null,\"column_names\":[\"line_color\",\"line_alpha\",\"color\",\"fill_alpha\",\"height\",\"width\",\"y\",\"x\",\"label\"],\"data\":{\"Female\":[\"Unknown\"],\"OutcomeType\":[\"Euthanasia\"],\"chart_index\":[{\"Female\":\"Unknown\",\"OutcomeType\":\"Euthanasia\"}],\"color\":[\"#407ee7\"],\"fill_alpha\":[0.8],\"height\":[101.0],\"label\":[{\"Female\":\"Unknown\",\"OutcomeType\":\"Euthanasia\"}],\"line_alpha\":[1.0],\"line_color\":[\"white\"],\"width\":[0.8],\"x\":[\"Euthanasia\"],\"y\":[1504.5]}},\"id\":\"9017a121-c8ee-49ab-b932-f514d404421e\",\"type\":\"ColumnDataSource\"},{\"attributes\":{\"fill_alpha\":{\"field\":\"fill_alpha\"},\"fill_color\":{\"field\":\"color\"},\"height\":{\"field\":\"height\",\"units\":\"data\"},\"line_color\":{\"field\":\"line_color\"},\"width\":{\"field\":\"width\",\"units\":\"data\"},\"x\":{\"field\":\"x\"},\"y\":{\"field\":\"y\"}},\"id\":\"643696fd-839b-41b4-84e2-c9cfe8fa15b6\",\"type\":\"Rect\"},{\"attributes\":{\"callback\":null,\"column_names\":[\"line_color\",\"line_alpha\",\"color\",\"fill_alpha\",\"height\",\"width\",\"y\",\"x\",\"label\"],\"data\":{\"Female\":[\"Female\"],\"OutcomeType\":[\"Died\"],\"chart_index\":[{\"Female\":\"Female\",\"OutcomeType\":\"Died\"}],\"color\":[\"#f22c40\"],\"fill_alpha\":[0.8],\"height\":[74.0],\"label\":[{\"Female\":\"Female\",\"OutcomeType\":\"Died\"}],\"line_alpha\":[1.0],\"line_color\":[\"white\"],\"width\":[0.8],\"x\":[\"Died\"],\"y\":[160.0]}},\"id\":\"f9b7f8e7-bf3a-404c-9a49-057f0e8aeccc\",\"type\":\"ColumnDataSource\"},{\"attributes\":{\"data_source\":{\"id\":\"6209caee-6b9a-4c9b-8cc4-ea0463287312\",\"type\":\"ColumnDataSource\"},\"glyph\":{\"id\":\"8bbcd3dd-8244-44e1-9a4e-454808aa5f79\",\"type\":\"Rect\"},\"hover_glyph\":null,\"nonselection_glyph\":null,\"selection_glyph\":null},\"id\":\"04aafa20-88db-48c6-9634-d25c43103c45\",\"type\":\"GlyphRenderer\"},{\"attributes\":{\"data_source\":{\"id\":\"3e1c858e-0e93-405a-acbc-d2dc3e46e50b\",\"type\":\"ColumnDataSource\"},\"glyph\":{\"id\":\"4f2c0bd5-45e7-435f-8ec3-7f42ab7fc5a7\",\"type\":\"Rect\"},\"hover_glyph\":null,\"nonselection_glyph\":null,\"selection_glyph\":null},\"id\":\"29868bd8-4df3-4b5e-8718-87aed6ae0616\",\"type\":\"GlyphRenderer\"},{\"attributes\":{\"callback\":null,\"column_names\":[\"line_color\",\"line_alpha\",\"color\",\"fill_alpha\",\"height\",\"width\",\"y\",\"x\",\"label\"],\"data\":{\"Female\":[\"Female\"],\"OutcomeType\":[\"Adoption\"],\"chart_index\":[{\"Female\":\"Female\",\"OutcomeType\":\"Adoption\"}],\"color\":[\"#f22c40\"],\"fill_alpha\":[0.8],\"height\":[5389.0],\"label\":[{\"Female\":\"Female\",\"OutcomeType\":\"Adoption\"}],\"line_alpha\":[1.0],\"line_color\":[\"white\"],\"width\":[0.8],\"x\":[\"Adoption\"],\"y\":[8074.5]}},\"id\":\"3a32dc1a-818d-4609-8507-2c88d0c2210b\",\"type\":\"ColumnDataSource\"},{\"attributes\":{\"plot\":{\"id\":\"0221a094-6d77-449f-8193-b33afbefbbae\",\"subtype\":\"Chart\",\"type\":\"Plot\"}},\"id\":\"909b39cc-af92-4232-a527-89958735e700\",\"type\":\"PanTool\"},{\"attributes\":{\"legends\":[[\"Male\",[{\"id\":\"04aafa20-88db-48c6-9634-d25c43103c45\",\"type\":\"GlyphRenderer\"}]],[\"Female\",[{\"id\":\"83126e84-465d-4246-ab61-cefc5151a2ad\",\"type\":\"GlyphRenderer\"}]],[\"Unknown\",[{\"id\":\"30175ea3-e621-4b20-baa3-22214b56248d\",\"type\":\"GlyphRenderer\"}]]],\"plot\":{\"id\":\"0221a094-6d77-449f-8193-b33afbefbbae\",\"subtype\":\"Chart\",\"type\":\"Plot\"}},\"id\":\"c1e977f4-89ed-4c17-bc5d-d3d952cff0ca\",\"type\":\"Legend\"},{\"attributes\":{\"plot\":{\"id\":\"0221a094-6d77-449f-8193-b33afbefbbae\",\"subtype\":\"Chart\",\"type\":\"Plot\"}},\"id\":\"04f4fca9-2e0f-47c7-b539-a0bbfb84a6f7\",\"type\":\"HelpTool\"},{\"attributes\":{\"callback\":null,\"column_names\":[\"line_color\",\"line_alpha\",\"color\",\"fill_alpha\",\"height\",\"width\",\"y\",\"x\",\"label\"],\"data\":{\"Female\":[\"Male\"],\"OutcomeType\":[\"Died\"],\"chart_index\":[{\"Female\":\"Male\",\"OutcomeType\":\"Died\"}],\"color\":[\"#5ab738\"],\"fill_alpha\":[0.8],\"height\":[98.0],\"label\":[{\"Female\":\"Male\",\"OutcomeType\":\"Died\"}],\"line_alpha\":[1.0],\"line_color\":[\"white\"],\"width\":[0.8],\"x\":[\"Died\"],\"y\":[49.0]}},\"id\":\"6bdd886b-3def-4520-9848-df6ef105a2ff\",\"type\":\"ColumnDataSource\"},{\"attributes\":{\"plot\":null,\"text\":\"Outcomes by Female\"},\"id\":\"1a9ee8d4-91d7-4213-a702-c08eedabe4e3\",\"type\":\"Title\"},{\"attributes\":{\"callback\":null,\"column_names\":[\"line_color\",\"line_alpha\",\"color\",\"fill_alpha\",\"height\",\"width\",\"y\",\"x\",\"label\"],\"data\":{\"Female\":[\"Female\"],\"OutcomeType\":[\"Return_to_owner\"],\"chart_index\":[{\"Female\":\"Female\",\"OutcomeType\":\"Return_to_owner\"}],\"color\":[\"#f22c40\"],\"fill_alpha\":[0.8],\"height\":[2049.0],\"label\":[{\"Female\":\"Female\",\"OutcomeType\":\"Return_to_owner\"}],\"line_alpha\":[1.0],\"line_color\":[\"white\"],\"width\":[0.8],\"x\":[\"Return_to_owner\"],\"y\":[3749.5]}},\"id\":\"bcde73fa-966b-430b-88c0-0cf4f8e699f4\",\"type\":\"ColumnDataSource\"},{\"attributes\":{\"fill_alpha\":{\"field\":\"fill_alpha\"},\"fill_color\":{\"field\":\"color\"},\"height\":{\"field\":\"height\",\"units\":\"data\"},\"line_color\":{\"field\":\"line_color\"},\"width\":{\"field\":\"width\",\"units\":\"data\"},\"x\":{\"field\":\"x\"},\"y\":{\"field\":\"y\"}},\"id\":\"fa946f32-eb0d-466d-8d37-641ccbe0c3c8\",\"type\":\"Rect\"},{\"attributes\":{\"plot\":{\"id\":\"0221a094-6d77-449f-8193-b33afbefbbae\",\"subtype\":\"Chart\",\"type\":\"Plot\"}},\"id\":\"14922a79-a32b-492c-9252-ab57c97d61f4\",\"type\":\"ResetTool\"},{\"attributes\":{\"data_source\":{\"id\":\"f9b7f8e7-bf3a-404c-9a49-057f0e8aeccc\",\"type\":\"ColumnDataSource\"},\"glyph\":{\"id\":\"261200c3-48a9-4ca1-861a-8291a88303bb\",\"type\":\"Rect\"},\"hover_glyph\":null,\"nonselection_glyph\":null,\"selection_glyph\":null},\"id\":\"bffd837e-56af-469c-9210-8342504a35a0\",\"type\":\"GlyphRenderer\"},{\"attributes\":{\"callback\":null,\"column_names\":[\"line_color\",\"line_alpha\",\"color\",\"fill_alpha\",\"height\",\"width\",\"y\",\"x\",\"label\"],\"data\":{\"Female\":[\"Unknown\"],\"OutcomeType\":[\"Return_to_owner\"],\"chart_index\":[{\"Female\":\"Unknown\",\"OutcomeType\":\"Return_to_owner\"}],\"color\":[\"#407ee7\"],\"fill_alpha\":[0.8],\"height\":[12.0],\"label\":[{\"Female\":\"Unknown\",\"OutcomeType\":\"Return_to_owner\"}],\"line_alpha\":[1.0],\"line_color\":[\"white\"],\"width\":[0.8],\"x\":[\"Return_to_owner\"],\"y\":[4780.0]}},\"id\":\"671120e4-3e77-4445-b1ab-e9a6df8bb872\",\"type\":\"ColumnDataSource\"},{\"attributes\":{\"fill_alpha\":{\"field\":\"fill_alpha\"},\"fill_color\":{\"field\":\"color\"},\"height\":{\"field\":\"height\",\"units\":\"data\"},\"line_color\":{\"field\":\"line_color\"},\"width\":{\"field\":\"width\",\"units\":\"data\"},\"x\":{\"field\":\"x\"},\"y\":{\"field\":\"y\"}},\"id\":\"d38663dc-c6d5-4b5d-b3ba-b85e4b2c7c79\",\"type\":\"Rect\"},{\"attributes\":{},\"id\":\"f1fc75b7-d3a7-4f77-86b6-da4f3ea9f3d1\",\"type\":\"BasicTickFormatter\"},{\"attributes\":{\"fill_alpha\":{\"field\":\"fill_alpha\"},\"fill_color\":{\"field\":\"color\"},\"height\":{\"field\":\"height\",\"units\":\"data\"},\"line_color\":{\"field\":\"line_color\"},\"width\":{\"field\":\"width\",\"units\":\"data\"},\"x\":{\"field\":\"x\"},\"y\":{\"field\":\"y\"}},\"id\":\"b2dbda3c-eb00-4fec-b6c8-d44d3ef24cb4\",\"type\":\"Rect\"},{\"attributes\":{},\"id\":\"a6efdf21-cd31-451a-9bc6-488a8b4389d9\",\"type\":\"CategoricalTickFormatter\"},{\"attributes\":{\"data_source\":{\"id\":\"3a32dc1a-818d-4609-8507-2c88d0c2210b\",\"type\":\"ColumnDataSource\"},\"glyph\":{\"id\":\"7f756a43-57fa-4c09-8482-316e07aa5ca7\",\"type\":\"Rect\"},\"hover_glyph\":null,\"nonselection_glyph\":null,\"selection_glyph\":null},\"id\":\"eef14674-3390-45dc-864e-0edffd1ab0c3\",\"type\":\"GlyphRenderer\"},{\"attributes\":{\"plot\":{\"id\":\"0221a094-6d77-449f-8193-b33afbefbbae\",\"subtype\":\"Chart\",\"type\":\"Plot\"}},\"id\":\"2c0ad130-1e87-4055-a610-328a722d12de\",\"type\":\"WheelZoomTool\"},{\"attributes\":{\"callback\":null,\"end\":11307.45},\"id\":\"b5b0245b-c3dd-453c-b888-acdb0ce0fd42\",\"type\":\"Range1d\"},{\"attributes\":{\"fill_alpha\":{\"field\":\"fill_alpha\"},\"fill_color\":{\"field\":\"color\"},\"height\":{\"field\":\"height\",\"units\":\"data\"},\"line_color\":{\"field\":\"line_color\"},\"width\":{\"field\":\"width\",\"units\":\"data\"},\"x\":{\"field\":\"x\"},\"y\":{\"field\":\"y\"}},\"id\":\"83d41f56-9db1-4b5f-8237-b0f9c682f19d\",\"type\":\"Rect\"},{\"attributes\":{\"fill_alpha\":{\"field\":\"fill_alpha\"},\"fill_color\":{\"field\":\"color\"},\"height\":{\"field\":\"height\",\"units\":\"data\"},\"line_color\":{\"field\":\"line_color\"},\"width\":{\"field\":\"width\",\"units\":\"data\"},\"x\":{\"field\":\"x\"},\"y\":{\"field\":\"y\"}},\"id\":\"7f756a43-57fa-4c09-8482-316e07aa5ca7\",\"type\":\"Rect\"},{\"attributes\":{\"overlay\":{\"id\":\"82116b86-7d2b-4382-ae94-5900647fdda8\",\"type\":\"BoxAnnotation\"},\"plot\":{\"id\":\"0221a094-6d77-449f-8193-b33afbefbbae\",\"subtype\":\"Chart\",\"type\":\"Plot\"}},\"id\":\"fee34c6c-3060-42d7-ac4f-f1eeafbf45b8\",\"type\":\"BoxZoomTool\"},{\"attributes\":{\"fill_alpha\":{\"field\":\"fill_alpha\"},\"fill_color\":{\"field\":\"color\"},\"height\":{\"field\":\"height\",\"units\":\"data\"},\"line_color\":{\"field\":\"line_color\"},\"width\":{\"field\":\"width\",\"units\":\"data\"},\"x\":{\"field\":\"x\"},\"y\":{\"field\":\"y\"}},\"id\":\"4f2c0bd5-45e7-435f-8ec3-7f42ab7fc5a7\",\"type\":\"Rect\"},{\"attributes\":{\"axis_label\":\"Outcometype\",\"formatter\":{\"id\":\"a6efdf21-cd31-451a-9bc6-488a8b4389d9\",\"type\":\"CategoricalTickFormatter\"},\"major_label_orientation\":0.7853981633974483,\"plot\":{\"id\":\"0221a094-6d77-449f-8193-b33afbefbbae\",\"subtype\":\"Chart\",\"type\":\"Plot\"},\"ticker\":{\"id\":\"b0262d7e-3f52-470a-8845-2007ef8cd896\",\"type\":\"CategoricalTicker\"}},\"id\":\"d97150e7-b2d8-4669-ac00-3fe34f7a7ff0\",\"type\":\"CategoricalAxis\"},{\"attributes\":{\"callback\":null,\"column_names\":[\"line_color\",\"line_alpha\",\"color\",\"fill_alpha\",\"height\",\"width\",\"y\",\"x\",\"label\"],\"data\":{\"Female\":[\"Male\"],\"OutcomeType\":[\"Euthanasia\"],\"chart_index\":[{\"Female\":\"Male\",\"OutcomeType\":\"Euthanasia\"}],\"color\":[\"#5ab738\"],\"fill_alpha\":[0.8],\"height\":[821.0],\"label\":[{\"Female\":\"Male\",\"OutcomeType\":\"Euthanasia\"}],\"line_alpha\":[1.0],\"line_color\":[\"white\"],\"width\":[0.8],\"x\":[\"Euthanasia\"],\"y\":[1043.5]}},\"id\":\"74b1b103-3061-4159-9862-341620e73658\",\"type\":\"ColumnDataSource\"},{\"attributes\":{\"data_source\":{\"id\":\"671120e4-3e77-4445-b1ab-e9a6df8bb872\",\"type\":\"ColumnDataSource\"},\"glyph\":{\"id\":\"6a724b41-bae9-4eeb-af95-89ee8ac4a73c\",\"type\":\"Rect\"},\"hover_glyph\":null,\"nonselection_glyph\":null,\"selection_glyph\":null},\"id\":\"394bdbc8-5514-48b8-add3-75a100e92398\",\"type\":\"GlyphRenderer\"},{\"attributes\":{\"active_drag\":\"auto\",\"active_scroll\":\"auto\",\"active_tap\":\"auto\",\"tools\":[{\"id\":\"909b39cc-af92-4232-a527-89958735e700\",\"type\":\"PanTool\"},{\"id\":\"2c0ad130-1e87-4055-a610-328a722d12de\",\"type\":\"WheelZoomTool\"},{\"id\":\"fee34c6c-3060-42d7-ac4f-f1eeafbf45b8\",\"type\":\"BoxZoomTool\"},{\"id\":\"aa6cbed1-4510-47aa-aa00-6aae6bf270f2\",\"type\":\"SaveTool\"},{\"id\":\"14922a79-a32b-492c-9252-ab57c97d61f4\",\"type\":\"ResetTool\"},{\"id\":\"04f4fca9-2e0f-47c7-b539-a0bbfb84a6f7\",\"type\":\"HelpTool\"}]},\"id\":\"672f0167-8e84-4543-9e20-cd72be43cde7\",\"type\":\"Toolbar\"},{\"attributes\":{},\"id\":\"b0262d7e-3f52-470a-8845-2007ef8cd896\",\"type\":\"CategoricalTicker\"},{\"attributes\":{\"callback\":null,\"column_names\":[\"line_color\",\"line_alpha\",\"color\",\"fill_alpha\",\"height\",\"width\",\"y\",\"x\",\"label\"],\"data\":{\"Female\":[\"Unknown\"],\"OutcomeType\":[\"Died\"],\"chart_index\":[{\"Female\":\"Unknown\",\"OutcomeType\":\"Died\"}],\"color\":[\"#407ee7\"],\"fill_alpha\":[0.8],\"height\":[25.0],\"label\":[{\"Female\":\"Unknown\",\"OutcomeType\":\"Died\"}],\"line_alpha\":[1.0],\"line_color\":[\"white\"],\"width\":[0.8],\"x\":[\"Died\"],\"y\":[110.5]}},\"id\":\"3e1c858e-0e93-405a-acbc-d2dc3e46e50b\",\"type\":\"ColumnDataSource\"},{\"attributes\":{},\"id\":\"de279b5e-2fe2-4f9d-8f58-50bec0ceb120\",\"type\":\"ToolEvents\"},{\"attributes\":{\"data_source\":{\"id\":\"a458da2c-0749-460f-9b00-328149c43f23\",\"type\":\"ColumnDataSource\"},\"glyph\":{\"id\":\"d38663dc-c6d5-4b5d-b3ba-b85e4b2c7c79\",\"type\":\"Rect\"},\"hover_glyph\":null,\"nonselection_glyph\":null,\"selection_glyph\":null},\"id\":\"83126e84-465d-4246-ab61-cefc5151a2ad\",\"type\":\"GlyphRenderer\"},{\"attributes\":{\"axis_label\":\"Count( Female )\",\"formatter\":{\"id\":\"f1fc75b7-d3a7-4f77-86b6-da4f3ea9f3d1\",\"type\":\"BasicTickFormatter\"},\"plot\":{\"id\":\"0221a094-6d77-449f-8193-b33afbefbbae\",\"subtype\":\"Chart\",\"type\":\"Plot\"},\"ticker\":{\"id\":\"832299d2-2779-43d2-b54d-5c71554c38bb\",\"type\":\"BasicTicker\"}},\"id\":\"91367215-02bf-4a4c-a854-13532d8f72f1\",\"type\":\"LinearAxis\"},{\"attributes\":{\"fill_alpha\":{\"field\":\"fill_alpha\"},\"fill_color\":{\"field\":\"color\"},\"height\":{\"field\":\"height\",\"units\":\"data\"},\"line_color\":{\"field\":\"line_color\"},\"width\":{\"field\":\"width\",\"units\":\"data\"},\"x\":{\"field\":\"x\"},\"y\":{\"field\":\"y\"}},\"id\":\"261200c3-48a9-4ca1-861a-8291a88303bb\",\"type\":\"Rect\"},{\"attributes\":{\"callback\":null,\"column_names\":[\"line_color\",\"line_alpha\",\"color\",\"fill_alpha\",\"height\",\"width\",\"y\",\"x\",\"label\"],\"data\":{\"Female\":[\"Unknown\"],\"OutcomeType\":[\"Transfer\"],\"chart_index\":[{\"Female\":\"Unknown\",\"OutcomeType\":\"Transfer\"}],\"color\":[\"#407ee7\"],\"fill_alpha\":[0.8],\"height\":[955.0],\"label\":[{\"Female\":\"Unknown\",\"OutcomeType\":\"Transfer\"}],\"line_alpha\":[1.0],\"line_color\":[\"white\"],\"width\":[0.8],\"x\":[\"Transfer\"],\"y\":[8944.5]}},\"id\":\"78666ce3-c89d-4025-a06d-7a35e69b759c\",\"type\":\"ColumnDataSource\"},{\"attributes\":{\"data_source\":{\"id\":\"9017a121-c8ee-49ab-b932-f514d404421e\",\"type\":\"ColumnDataSource\"},\"glyph\":{\"id\":\"83d41f56-9db1-4b5f-8237-b0f9c682f19d\",\"type\":\"Rect\"},\"hover_glyph\":null,\"nonselection_glyph\":null,\"selection_glyph\":null},\"id\":\"c87d17fc-f55e-4de4-9573-e8e2808a6c23\",\"type\":\"GlyphRenderer\"},{\"attributes\":{\"bottom_units\":\"screen\",\"fill_alpha\":{\"value\":0.5},\"fill_color\":{\"value\":\"lightgrey\"},\"left_units\":\"screen\",\"level\":\"overlay\",\"line_alpha\":{\"value\":1.0},\"line_color\":{\"value\":\"black\"},\"line_dash\":[4,4],\"line_width\":{\"value\":2},\"plot\":null,\"render_mode\":\"css\",\"right_units\":\"screen\",\"top_units\":\"screen\"},\"id\":\"82116b86-7d2b-4382-ae94-5900647fdda8\",\"type\":\"BoxAnnotation\"},{\"attributes\":{\"dimension\":1,\"plot\":{\"id\":\"0221a094-6d77-449f-8193-b33afbefbbae\",\"subtype\":\"Chart\",\"type\":\"Plot\"},\"ticker\":{\"id\":\"832299d2-2779-43d2-b54d-5c71554c38bb\",\"type\":\"BasicTicker\"}},\"id\":\"40a96f45-5bf6-4b2e-9f4d-a31599385d01\",\"type\":\"Grid\"},{\"attributes\":{\"data_source\":{\"id\":\"78666ce3-c89d-4025-a06d-7a35e69b759c\",\"type\":\"ColumnDataSource\"},\"glyph\":{\"id\":\"22cf5bdf-5dd4-421d-90bc-e1bd36fefe0d\",\"type\":\"Rect\"},\"hover_glyph\":null,\"nonselection_glyph\":null,\"selection_glyph\":null},\"id\":\"30175ea3-e621-4b20-baa3-22214b56248d\",\"type\":\"GlyphRenderer\"},{\"attributes\":{\"plot\":{\"id\":\"0221a094-6d77-449f-8193-b33afbefbbae\",\"subtype\":\"Chart\",\"type\":\"Plot\"}},\"id\":\"aa6cbed1-4510-47aa-aa00-6aae6bf270f2\",\"type\":\"SaveTool\"},{\"attributes\":{\"data_source\":{\"id\":\"bcde73fa-966b-430b-88c0-0cf4f8e699f4\",\"type\":\"ColumnDataSource\"},\"glyph\":{\"id\":\"643696fd-839b-41b4-84e2-c9cfe8fa15b6\",\"type\":\"Rect\"},\"hover_glyph\":null,\"nonselection_glyph\":null,\"selection_glyph\":null},\"id\":\"36c2b490-93de-46ac-8c6d-5dd2a158dac5\",\"type\":\"GlyphRenderer\"},{\"attributes\":{\"fill_alpha\":{\"field\":\"fill_alpha\"},\"fill_color\":{\"field\":\"color\"},\"height\":{\"field\":\"height\",\"units\":\"data\"},\"line_color\":{\"field\":\"line_color\"},\"width\":{\"field\":\"width\",\"units\":\"data\"},\"x\":{\"field\":\"x\"},\"y\":{\"field\":\"y\"}},\"id\":\"8bbcd3dd-8244-44e1-9a4e-454808aa5f79\",\"type\":\"Rect\"},{\"attributes\":{\"callback\":null,\"factors\":[\"Adoption\",\"Died\",\"Euthanasia\",\"Return_to_owner\",\"Transfer\"]},\"id\":\"fbeb239c-a342-46df-90ac-7aa432a48866\",\"type\":\"FactorRange\"},{\"attributes\":{\"callback\":null,\"column_names\":[\"line_color\",\"line_alpha\",\"color\",\"fill_alpha\",\"height\",\"width\",\"y\",\"x\",\"label\"],\"data\":{\"Female\":[\"Male\"],\"OutcomeType\":[\"Adoption\"],\"chart_index\":[{\"Female\":\"Male\",\"OutcomeType\":\"Adoption\"}],\"color\":[\"#5ab738\"],\"fill_alpha\":[0.8],\"height\":[5380.0],\"label\":[{\"Female\":\"Male\",\"OutcomeType\":\"Adoption\"}],\"line_alpha\":[1.0],\"line_color\":[\"white\"],\"width\":[0.8],\"x\":[\"Adoption\"],\"y\":[2690.0]}},\"id\":\"bc717c47-4e94-468a-ad4c-9266a44204a4\",\"type\":\"ColumnDataSource\"},{\"attributes\":{},\"id\":\"832299d2-2779-43d2-b54d-5c71554c38bb\",\"type\":\"BasicTicker\"},{\"attributes\":{\"data_source\":{\"id\":\"7121c5a7-6e7a-4747-8278-a5ab7bf86817\",\"type\":\"ColumnDataSource\"},\"glyph\":{\"id\":\"f17c4a04-97fc-4b86-b4f5-2cec677c1f2d\",\"type\":\"Rect\"},\"hover_glyph\":null,\"nonselection_glyph\":null,\"selection_glyph\":null},\"id\":\"f7b3f50a-9bca-4b51-b69d-b2c1ba1baa01\",\"type\":\"GlyphRenderer\"},{\"attributes\":{\"fill_alpha\":{\"field\":\"fill_alpha\"},\"fill_color\":{\"field\":\"color\"},\"height\":{\"field\":\"height\",\"units\":\"data\"},\"line_color\":{\"field\":\"line_color\"},\"width\":{\"field\":\"width\",\"units\":\"data\"},\"x\":{\"field\":\"x\"},\"y\":{\"field\":\"y\"}},\"id\":\"f17c4a04-97fc-4b86-b4f5-2cec677c1f2d\",\"type\":\"Rect\"},{\"attributes\":{\"fill_alpha\":{\"field\":\"fill_alpha\"},\"fill_color\":{\"field\":\"color\"},\"height\":{\"field\":\"height\",\"units\":\"data\"},\"line_color\":{\"field\":\"line_color\"},\"width\":{\"field\":\"width\",\"units\":\"data\"},\"x\":{\"field\":\"x\"},\"y\":{\"field\":\"y\"}},\"id\":\"08ec5634-2a4e-4782-827d-f2c2052ffce4\",\"type\":\"Rect\"},{\"attributes\":{\"data_source\":{\"id\":\"74b1b103-3061-4159-9862-341620e73658\",\"type\":\"ColumnDataSource\"},\"glyph\":{\"id\":\"2fd0d224-ca44-43b4-9662-4bad1298b49d\",\"type\":\"Rect\"},\"hover_glyph\":null,\"nonselection_glyph\":null,\"selection_glyph\":null},\"id\":\"5734b939-47b2-4308-bb7b-5537733c41ca\",\"type\":\"GlyphRenderer\"},{\"attributes\":{\"data_source\":{\"id\":\"6bdd886b-3def-4520-9848-df6ef105a2ff\",\"type\":\"ColumnDataSource\"},\"glyph\":{\"id\":\"b2dbda3c-eb00-4fec-b6c8-d44d3ef24cb4\",\"type\":\"Rect\"},\"hover_glyph\":null,\"nonselection_glyph\":null,\"selection_glyph\":null},\"id\":\"65322453-543e-4766-a7d5-533918ce215a\",\"type\":\"GlyphRenderer\"},{\"attributes\":{\"fill_alpha\":{\"field\":\"fill_alpha\"},\"fill_color\":{\"field\":\"color\"},\"height\":{\"field\":\"height\",\"units\":\"data\"},\"line_color\":{\"field\":\"line_color\"},\"width\":{\"field\":\"width\",\"units\":\"data\"},\"x\":{\"field\":\"x\"},\"y\":{\"field\":\"y\"}},\"id\":\"2fd0d224-ca44-43b4-9662-4bad1298b49d\",\"type\":\"Rect\"},{\"attributes\":{\"callback\":null,\"column_names\":[\"line_color\",\"line_alpha\",\"color\",\"fill_alpha\",\"height\",\"width\",\"y\",\"x\",\"label\"],\"data\":{\"Female\":[\"Female\"],\"OutcomeType\":[\"Euthanasia\"],\"chart_index\":[{\"Female\":\"Female\",\"OutcomeType\":\"Euthanasia\"}],\"color\":[\"#f22c40\"],\"fill_alpha\":[0.8],\"height\":[633.0],\"label\":[{\"Female\":\"Female\",\"OutcomeType\":\"Euthanasia\"}],\"line_alpha\":[1.0],\"line_color\":[\"white\"],\"width\":[0.8],\"x\":[\"Euthanasia\"],\"y\":[316.5]}},\"id\":\"a458da2c-0749-460f-9b00-328149c43f23\",\"type\":\"ColumnDataSource\"},{\"attributes\":{\"callback\":null,\"column_names\":[\"line_color\",\"line_alpha\",\"color\",\"fill_alpha\",\"height\",\"width\",\"y\",\"x\",\"label\"],\"data\":{\"Female\":[\"Female\"],\"OutcomeType\":[\"Transfer\"],\"chart_index\":[{\"Female\":\"Female\",\"OutcomeType\":\"Transfer\"}],\"color\":[\"#f22c40\"],\"fill_alpha\":[0.8],\"height\":[4186.0],\"label\":[{\"Female\":\"Female\",\"OutcomeType\":\"Transfer\"}],\"line_alpha\":[1.0],\"line_color\":[\"white\"],\"width\":[0.8],\"x\":[\"Transfer\"],\"y\":[6374.0]}},\"id\":\"7121c5a7-6e7a-4747-8278-a5ab7bf86817\",\"type\":\"ColumnDataSource\"},{\"attributes\":{\"data_source\":{\"id\":\"1d14f851-e2a4-4636-bb7b-ce46e714059f\",\"type\":\"ColumnDataSource\"},\"glyph\":{\"id\":\"fa946f32-eb0d-466d-8d37-641ccbe0c3c8\",\"type\":\"Rect\"},\"hover_glyph\":null,\"nonselection_glyph\":null,\"selection_glyph\":null},\"id\":\"8355ec72-bd2e-44f2-a449-e75bcea1bebe\",\"type\":\"GlyphRenderer\"},{\"attributes\":{\"fill_alpha\":{\"field\":\"fill_alpha\"},\"fill_color\":{\"field\":\"color\"},\"height\":{\"field\":\"height\",\"units\":\"data\"},\"line_color\":{\"field\":\"line_color\"},\"width\":{\"field\":\"width\",\"units\":\"data\"},\"x\":{\"field\":\"x\"},\"y\":{\"field\":\"y\"}},\"id\":\"22cf5bdf-5dd4-421d-90bc-e1bd36fefe0d\",\"type\":\"Rect\"}],\"root_ids\":[\"0221a094-6d77-449f-8193-b33afbefbbae\"]},\"title\":\"Bokeh Application\",\"version\":\"0.12.2\"}};\n",
       "            var render_items = [{\"docid\":\"d079d28d-88a1-4d93-9250-6aad9a13eaed\",\"elementid\":\"98787efd-b427-4a1b-9aba-c113ea3bf0ce\",\"modelid\":\"0221a094-6d77-449f-8193-b33afbefbbae\"}];\n",
       "            \n",
       "            Bokeh.embed.embed_items(docs_json, render_items);\n",
       "        });\n",
       "      },\n",
       "      function(Bokeh) {\n",
       "      }\n",
       "    ];\n",
       "  \n",
       "    function run_inline_js() {\n",
       "      \n",
       "      if ((window.Bokeh !== undefined) || (force === \"1\")) {\n",
       "        for (var i = 0; i < inline_js.length; i++) {\n",
       "          inline_js[i](window.Bokeh);\n",
       "        }if (force === \"1\") {\n",
       "          display_loaded();\n",
       "        }} else if (Date.now() < window._bokeh_timeout) {\n",
       "        setTimeout(run_inline_js, 100);\n",
       "      } else if (!window._bokeh_failed_load) {\n",
       "        console.log(\"Bokeh: BokehJS failed to load within specified timeout.\");\n",
       "        window._bokeh_failed_load = true;\n",
       "      } else if (!force) {\n",
       "        var cell = $(\"#98787efd-b427-4a1b-9aba-c113ea3bf0ce\").parents('.cell').data().cell;\n",
       "        cell.output_area.append_execute_result(NB_LOAD_WARNING)\n",
       "      }\n",
       "  \n",
       "    }\n",
       "  \n",
       "    if (window._bokeh_is_loading === 0) {\n",
       "      console.log(\"Bokeh: BokehJS loaded, going straight to plotting\");\n",
       "      run_inline_js();\n",
       "    } else {\n",
       "      load_libs(js_urls, function() {\n",
       "        console.log(\"Bokeh: BokehJS plotting callback run at\", now());\n",
       "        run_inline_js();\n",
       "      });\n",
       "    }\n",
       "  }(this));\n",
       "</script>"
      ]
     },
     "metadata": {},
     "output_type": "display_data"
    }
   ],
   "source": [
    "p = Bar(data, label='OutcomeType', values = 'Female', agg='count', stack='Female',\n",
    "        title=\"Outcomes by Female\", legend='top_right')\n",
    "show(p)"
   ]
  },
  {
   "cell_type": "code",
   "execution_count": 28,
   "metadata": {
    "collapsed": false
   },
   "outputs": [
    {
     "data": {
      "text/html": [
       "\n",
       "\n",
       "    <div class=\"bk-root\">\n",
       "        <div class=\"plotdiv\" id=\"cdd36b40-a667-484c-94d2-111a6d27c5c3\"></div>\n",
       "    </div>\n",
       "<script type=\"text/javascript\">\n",
       "  \n",
       "  (function(global) {\n",
       "    function now() {\n",
       "      return new Date();\n",
       "    }\n",
       "  \n",
       "    var force = \"\";\n",
       "  \n",
       "    if (typeof (window._bokeh_onload_callbacks) === \"undefined\" || force !== \"\") {\n",
       "      window._bokeh_onload_callbacks = [];\n",
       "      window._bokeh_is_loading = undefined;\n",
       "    }\n",
       "  \n",
       "  \n",
       "    \n",
       "    if (typeof (window._bokeh_timeout) === \"undefined\" || force !== \"\") {\n",
       "      window._bokeh_timeout = Date.now() + 0;\n",
       "      window._bokeh_failed_load = false;\n",
       "    }\n",
       "  \n",
       "    var NB_LOAD_WARNING = {'data': {'text/html':\n",
       "       \"<div style='background-color: #fdd'>\\n\"+\n",
       "       \"<p>\\n\"+\n",
       "       \"BokehJS does not appear to have successfully loaded. If loading BokehJS from CDN, this \\n\"+\n",
       "       \"may be due to a slow or bad network connection. Possible fixes:\\n\"+\n",
       "       \"</p>\\n\"+\n",
       "       \"<ul>\\n\"+\n",
       "       \"<li>re-rerun `output_notebook()` to attempt to load from CDN again, or</li>\\n\"+\n",
       "       \"<li>use INLINE resources instead, as so:</li>\\n\"+\n",
       "       \"</ul>\\n\"+\n",
       "       \"<code>\\n\"+\n",
       "       \"from bokeh.resources import INLINE\\n\"+\n",
       "       \"output_notebook(resources=INLINE)\\n\"+\n",
       "       \"</code>\\n\"+\n",
       "       \"</div>\"}};\n",
       "  \n",
       "    function display_loaded() {\n",
       "      if (window.Bokeh !== undefined) {\n",
       "        Bokeh.$(\"#cdd36b40-a667-484c-94d2-111a6d27c5c3\").text(\"BokehJS successfully loaded.\");\n",
       "      } else if (Date.now() < window._bokeh_timeout) {\n",
       "        setTimeout(display_loaded, 100)\n",
       "      }\n",
       "    }\n",
       "  \n",
       "    function run_callbacks() {\n",
       "      window._bokeh_onload_callbacks.forEach(function(callback) { callback() });\n",
       "      delete window._bokeh_onload_callbacks\n",
       "      console.info(\"Bokeh: all callbacks have finished\");\n",
       "    }\n",
       "  \n",
       "    function load_libs(js_urls, callback) {\n",
       "      window._bokeh_onload_callbacks.push(callback);\n",
       "      if (window._bokeh_is_loading > 0) {\n",
       "        console.log(\"Bokeh: BokehJS is being loaded, scheduling callback at\", now());\n",
       "        return null;\n",
       "      }\n",
       "      if (js_urls == null || js_urls.length === 0) {\n",
       "        run_callbacks();\n",
       "        return null;\n",
       "      }\n",
       "      console.log(\"Bokeh: BokehJS not loaded, scheduling load and callback at\", now());\n",
       "      window._bokeh_is_loading = js_urls.length;\n",
       "      for (var i = 0; i < js_urls.length; i++) {\n",
       "        var url = js_urls[i];\n",
       "        var s = document.createElement('script');\n",
       "        s.src = url;\n",
       "        s.async = false;\n",
       "        s.onreadystatechange = s.onload = function() {\n",
       "          window._bokeh_is_loading--;\n",
       "          if (window._bokeh_is_loading === 0) {\n",
       "            console.log(\"Bokeh: all BokehJS libraries loaded\");\n",
       "            run_callbacks()\n",
       "          }\n",
       "        };\n",
       "        s.onerror = function() {\n",
       "          console.warn(\"failed to load library \" + url);\n",
       "        };\n",
       "        console.log(\"Bokeh: injecting script tag for BokehJS library: \", url);\n",
       "        document.getElementsByTagName(\"head\")[0].appendChild(s);\n",
       "      }\n",
       "    };var element = document.getElementById(\"cdd36b40-a667-484c-94d2-111a6d27c5c3\");\n",
       "    if (element == null) {\n",
       "      console.log(\"Bokeh: ERROR: autoload.js configured with elementid 'cdd36b40-a667-484c-94d2-111a6d27c5c3' but no matching script tag was found. \")\n",
       "      return false;\n",
       "    }\n",
       "  \n",
       "    var js_urls = [];\n",
       "  \n",
       "    var inline_js = [\n",
       "      function(Bokeh) {\n",
       "        Bokeh.$(function() {\n",
       "            var docs_json = {\"c7e2a123-d160-4a93-b0e6-e4a36e7e94e6\":{\"roots\":{\"references\":[{\"attributes\":{\"callback\":null,\"column_names\":[\"line_color\",\"line_alpha\",\"color\",\"fill_alpha\",\"height\",\"width\",\"y\",\"x\",\"label\"],\"data\":{\"MixedBreed\":[\"Mixed Breed\"],\"OutcomeType\":[\"Transfer\"],\"chart_index\":[{\"MixedBreed\":\"Mixed Breed\",\"OutcomeType\":\"Transfer\"}],\"color\":[\"#5ab738\"],\"fill_alpha\":[0.8],\"height\":[8252.0],\"label\":[{\"MixedBreed\":\"Mixed Breed\",\"OutcomeType\":\"Transfer\"}],\"line_alpha\":[1.0],\"line_color\":[\"white\"],\"width\":[0.8],\"x\":[\"Transfer\"],\"y\":[4126.0]}},\"id\":\"920ce32a-9af0-43b5-a1ce-fba1bd0d3edc\",\"type\":\"ColumnDataSource\"},{\"attributes\":{\"callback\":null,\"column_names\":[\"line_color\",\"line_alpha\",\"color\",\"fill_alpha\",\"height\",\"width\",\"y\",\"x\",\"label\"],\"data\":{\"MixedBreed\":[\"Nonmixed\"],\"OutcomeType\":[\"Euthanasia\"],\"chart_index\":[{\"MixedBreed\":\"Nonmixed\",\"OutcomeType\":\"Euthanasia\"}],\"color\":[\"#407ee7\"],\"fill_alpha\":[0.8],\"height\":[64.0],\"label\":[{\"MixedBreed\":\"Nonmixed\",\"OutcomeType\":\"Euthanasia\"}],\"line_alpha\":[1.0],\"line_color\":[\"white\"],\"width\":[0.8],\"x\":[\"Euthanasia\"],\"y\":[1523.0]}},\"id\":\"2f3cb34b-0aa8-4597-9745-269aa56038aa\",\"type\":\"ColumnDataSource\"},{\"attributes\":{},\"id\":\"0c9f0e07-3900-406a-bcc9-1f94188f1e74\",\"type\":\"BasicTickFormatter\"},{\"attributes\":{\"plot\":{\"id\":\"272e1296-0190-4e5d-b2bd-b37582f1db19\",\"subtype\":\"Chart\",\"type\":\"Plot\"}},\"id\":\"3c47001b-2cfa-4002-8fa0-038c5648fb5f\",\"type\":\"ResetTool\"},{\"attributes\":{\"callback\":null,\"factors\":[\"Adoption\",\"Died\",\"Euthanasia\",\"Return_to_owner\",\"Transfer\"]},\"id\":\"8e15a528-f812-43e4-859f-542bb0d44a54\",\"type\":\"FactorRange\"},{\"attributes\":{\"fill_alpha\":{\"field\":\"fill_alpha\"},\"fill_color\":{\"field\":\"color\"},\"height\":{\"field\":\"height\",\"units\":\"data\"},\"line_color\":{\"field\":\"line_color\"},\"width\":{\"field\":\"width\",\"units\":\"data\"},\"x\":{\"field\":\"x\"},\"y\":{\"field\":\"y\"}},\"id\":\"d57b78e4-fc3e-4019-9dae-d2600be850b8\",\"type\":\"Rect\"},{\"attributes\":{\"axis_label\":\"Outcometype\",\"formatter\":{\"id\":\"a57b89f0-9756-4998-919f-8c6d0c2b4be6\",\"type\":\"CategoricalTickFormatter\"},\"major_label_orientation\":0.7853981633974483,\"plot\":{\"id\":\"272e1296-0190-4e5d-b2bd-b37582f1db19\",\"subtype\":\"Chart\",\"type\":\"Plot\"},\"ticker\":{\"id\":\"aa2ba058-51d9-432d-977a-30a857b1be40\",\"type\":\"CategoricalTicker\"}},\"id\":\"43099578-68d8-46d0-a760-7b7d6b367bd4\",\"type\":\"CategoricalAxis\"},{\"attributes\":{},\"id\":\"aa2ba058-51d9-432d-977a-30a857b1be40\",\"type\":\"CategoricalTicker\"},{\"attributes\":{\"fill_alpha\":{\"field\":\"fill_alpha\"},\"fill_color\":{\"field\":\"color\"},\"height\":{\"field\":\"height\",\"units\":\"data\"},\"line_color\":{\"field\":\"line_color\"},\"width\":{\"field\":\"width\",\"units\":\"data\"},\"x\":{\"field\":\"x\"},\"y\":{\"field\":\"y\"}},\"id\":\"272629f9-a78e-4b11-b08c-fb70d660f968\",\"type\":\"Rect\"},{\"attributes\":{\"fill_alpha\":{\"field\":\"fill_alpha\"},\"fill_color\":{\"field\":\"color\"},\"height\":{\"field\":\"height\",\"units\":\"data\"},\"line_color\":{\"field\":\"line_color\"},\"width\":{\"field\":\"width\",\"units\":\"data\"},\"x\":{\"field\":\"x\"},\"y\":{\"field\":\"y\"}},\"id\":\"ee427196-9ad1-4c96-bf07-6b7caeae72bb\",\"type\":\"Rect\"},{\"attributes\":{\"fill_alpha\":{\"field\":\"fill_alpha\"},\"fill_color\":{\"field\":\"color\"},\"height\":{\"field\":\"height\",\"units\":\"data\"},\"line_color\":{\"field\":\"line_color\"},\"width\":{\"field\":\"width\",\"units\":\"data\"},\"x\":{\"field\":\"x\"},\"y\":{\"field\":\"y\"}},\"id\":\"e7834eb7-8717-43cd-8666-c9691e8b46b1\",\"type\":\"Rect\"},{\"attributes\":{\"fill_alpha\":{\"field\":\"fill_alpha\"},\"fill_color\":{\"field\":\"color\"},\"height\":{\"field\":\"height\",\"units\":\"data\"},\"line_color\":{\"field\":\"line_color\"},\"width\":{\"field\":\"width\",\"units\":\"data\"},\"x\":{\"field\":\"x\"},\"y\":{\"field\":\"y\"}},\"id\":\"135c6cb5-a68d-4c5e-8b30-0338f9c6cfc7\",\"type\":\"Rect\"},{\"attributes\":{\"callback\":null,\"column_names\":[\"line_color\",\"line_alpha\",\"color\",\"fill_alpha\",\"height\",\"width\",\"y\",\"x\",\"label\"],\"data\":{\"MixedBreed\":[\"Nonmixed\"],\"OutcomeType\":[\"Died\"],\"chart_index\":[{\"MixedBreed\":\"Nonmixed\",\"OutcomeType\":\"Died\"}],\"color\":[\"#407ee7\"],\"fill_alpha\":[0.8],\"height\":[8.0],\"label\":[{\"MixedBreed\":\"Nonmixed\",\"OutcomeType\":\"Died\"}],\"line_alpha\":[1.0],\"line_color\":[\"white\"],\"width\":[0.8],\"x\":[\"Died\"],\"y\":[184.0]}},\"id\":\"06af5935-7a67-45a2-be0a-6a706105f885\",\"type\":\"ColumnDataSource\"},{\"attributes\":{\"fill_alpha\":{\"field\":\"fill_alpha\"},\"fill_color\":{\"field\":\"color\"},\"height\":{\"field\":\"height\",\"units\":\"data\"},\"line_color\":{\"field\":\"line_color\"},\"width\":{\"field\":\"width\",\"units\":\"data\"},\"x\":{\"field\":\"x\"},\"y\":{\"field\":\"y\"}},\"id\":\"edcba98d-6722-4d86-8771-f05cafa1e095\",\"type\":\"Rect\"},{\"attributes\":{\"plot\":{\"id\":\"272e1296-0190-4e5d-b2bd-b37582f1db19\",\"subtype\":\"Chart\",\"type\":\"Plot\"}},\"id\":\"2f87ca2d-3f3c-482f-bec4-8d8136100db6\",\"type\":\"PanTool\"},{\"attributes\":{\"data_source\":{\"id\":\"f72adac6-3d48-446b-aad1-2d4a0e42fd4a\",\"type\":\"ColumnDataSource\"},\"glyph\":{\"id\":\"9cf9186e-ec04-44fe-9e65-a9695e51eaf0\",\"type\":\"Rect\"},\"hover_glyph\":null,\"nonselection_glyph\":null,\"selection_glyph\":null},\"id\":\"18909283-fb3a-4f29-ac08-6b24a8fac0f3\",\"type\":\"GlyphRenderer\"},{\"attributes\":{\"legends\":[[\"Mixed Breed\",[{\"id\":\"c715ab78-dcbc-401e-9408-27f659d498dd\",\"type\":\"GlyphRenderer\"}]],[\"Known Breed Combo\",[{\"id\":\"86a97b41-0c09-4c7b-872d-11baac62227a\",\"type\":\"GlyphRenderer\"}]],[\"Nonmixed\",[{\"id\":\"fef30bb2-a76e-496c-bbcb-f474e5a43cf0\",\"type\":\"GlyphRenderer\"}]]],\"plot\":{\"id\":\"272e1296-0190-4e5d-b2bd-b37582f1db19\",\"subtype\":\"Chart\",\"type\":\"Plot\"}},\"id\":\"d54fcb57-2363-469a-a78f-b3a5b2e0abe2\",\"type\":\"Legend\"},{\"attributes\":{\"callback\":null,\"column_names\":[\"line_color\",\"line_alpha\",\"color\",\"fill_alpha\",\"height\",\"width\",\"y\",\"x\",\"label\"],\"data\":{\"MixedBreed\":[\"Nonmixed\"],\"OutcomeType\":[\"Return_to_owner\"],\"chart_index\":[{\"MixedBreed\":\"Nonmixed\",\"OutcomeType\":\"Return_to_owner\"}],\"color\":[\"#407ee7\"],\"fill_alpha\":[0.8],\"height\":[440.0],\"label\":[{\"MixedBreed\":\"Nonmixed\",\"OutcomeType\":\"Return_to_owner\"}],\"line_alpha\":[1.0],\"line_color\":[\"white\"],\"width\":[0.8],\"x\":[\"Return_to_owner\"],\"y\":[4566.0]}},\"id\":\"f72adac6-3d48-446b-aad1-2d4a0e42fd4a\",\"type\":\"ColumnDataSource\"},{\"attributes\":{\"data_source\":{\"id\":\"1d564e66-31be-414a-832b-a8bf2ba4529b\",\"type\":\"ColumnDataSource\"},\"glyph\":{\"id\":\"8dbe6554-5c71-442d-bdea-47f5a5c2bad4\",\"type\":\"Rect\"},\"hover_glyph\":null,\"nonselection_glyph\":null,\"selection_glyph\":null},\"id\":\"e5040eb9-b2c3-424d-b86e-bc6a32e1c971\",\"type\":\"GlyphRenderer\"},{\"attributes\":{\"callback\":null,\"column_names\":[\"line_color\",\"line_alpha\",\"color\",\"fill_alpha\",\"height\",\"width\",\"y\",\"x\",\"label\"],\"data\":{\"MixedBreed\":[\"Mixed Breed\"],\"OutcomeType\":[\"Died\"],\"chart_index\":[{\"MixedBreed\":\"Mixed Breed\",\"OutcomeType\":\"Died\"}],\"color\":[\"#5ab738\"],\"fill_alpha\":[0.8],\"height\":[180.0],\"label\":[{\"MixedBreed\":\"Mixed Breed\",\"OutcomeType\":\"Died\"}],\"line_alpha\":[1.0],\"line_color\":[\"white\"],\"width\":[0.8],\"x\":[\"Died\"],\"y\":[90.0]}},\"id\":\"647b6e6c-e339-4227-816e-6263eb871f3b\",\"type\":\"ColumnDataSource\"},{\"attributes\":{\"active_drag\":\"auto\",\"active_scroll\":\"auto\",\"active_tap\":\"auto\",\"tools\":[{\"id\":\"2f87ca2d-3f3c-482f-bec4-8d8136100db6\",\"type\":\"PanTool\"},{\"id\":\"a1f27fbf-1bc9-487b-a228-ca6f9abc798e\",\"type\":\"WheelZoomTool\"},{\"id\":\"be9f40e2-d7a4-451f-b524-2465b9217c6f\",\"type\":\"BoxZoomTool\"},{\"id\":\"5b9ec627-a063-43b6-a35f-8f64a749c6b5\",\"type\":\"SaveTool\"},{\"id\":\"3c47001b-2cfa-4002-8fa0-038c5648fb5f\",\"type\":\"ResetTool\"},{\"id\":\"04a48950-6ec0-46d6-9449-62edf7899b9f\",\"type\":\"HelpTool\"}]},\"id\":\"ca8747c3-54e4-4c44-92d2-0d9499b9864d\",\"type\":\"Toolbar\"},{\"attributes\":{\"callback\":null,\"column_names\":[\"line_color\",\"line_alpha\",\"color\",\"fill_alpha\",\"height\",\"width\",\"y\",\"x\",\"label\"],\"data\":{\"MixedBreed\":[\"Known Breed Combo\"],\"OutcomeType\":[\"Euthanasia\"],\"chart_index\":[{\"MixedBreed\":\"Known Breed Combo\",\"OutcomeType\":\"Euthanasia\"}],\"color\":[\"#f22c40\"],\"fill_alpha\":[0.8],\"height\":[127.0],\"label\":[{\"MixedBreed\":\"Known Breed Combo\",\"OutcomeType\":\"Euthanasia\"}],\"line_alpha\":[1.0],\"line_color\":[\"white\"],\"width\":[0.8],\"x\":[\"Euthanasia\"],\"y\":[1427.5]}},\"id\":\"f5b9d285-3423-442a-9e34-bd07dc5193a0\",\"type\":\"ColumnDataSource\"},{\"attributes\":{\"data_source\":{\"id\":\"301d61df-5ef4-4725-8c78-182528423058\",\"type\":\"ColumnDataSource\"},\"glyph\":{\"id\":\"d57b78e4-fc3e-4019-9dae-d2600be850b8\",\"type\":\"Rect\"},\"hover_glyph\":null,\"nonselection_glyph\":null,\"selection_glyph\":null},\"id\":\"6d70c77d-62ba-477d-8bd9-b3461614ad7b\",\"type\":\"GlyphRenderer\"},{\"attributes\":{\"bottom_units\":\"screen\",\"fill_alpha\":{\"value\":0.5},\"fill_color\":{\"value\":\"lightgrey\"},\"left_units\":\"screen\",\"level\":\"overlay\",\"line_alpha\":{\"value\":1.0},\"line_color\":{\"value\":\"black\"},\"line_dash\":[4,4],\"line_width\":{\"value\":2},\"plot\":null,\"render_mode\":\"css\",\"right_units\":\"screen\",\"top_units\":\"screen\"},\"id\":\"3b56930e-980b-4f0e-afe4-bb9a5a55cfca\",\"type\":\"BoxAnnotation\"},{\"attributes\":{\"data_source\":{\"id\":\"2f3cb34b-0aa8-4597-9745-269aa56038aa\",\"type\":\"ColumnDataSource\"},\"glyph\":{\"id\":\"a5fd7043-1e48-454e-885c-e7829f895438\",\"type\":\"Rect\"},\"hover_glyph\":null,\"nonselection_glyph\":null,\"selection_glyph\":null},\"id\":\"8f037b8b-6d51-486c-8f34-5a2a4fc3ae09\",\"type\":\"GlyphRenderer\"},{\"attributes\":{\"fill_alpha\":{\"field\":\"fill_alpha\"},\"fill_color\":{\"field\":\"color\"},\"height\":{\"field\":\"height\",\"units\":\"data\"},\"line_color\":{\"field\":\"line_color\"},\"width\":{\"field\":\"width\",\"units\":\"data\"},\"x\":{\"field\":\"x\"},\"y\":{\"field\":\"y\"}},\"id\":\"adaf54e0-872d-48e0-9ab6-0426e208b17e\",\"type\":\"Rect\"},{\"attributes\":{\"data_source\":{\"id\":\"e795fc49-0555-4979-89bf-2863eae40861\",\"type\":\"ColumnDataSource\"},\"glyph\":{\"id\":\"656fa1d5-1501-4973-a0e4-e8b743b87b84\",\"type\":\"Rect\"},\"hover_glyph\":null,\"nonselection_glyph\":null,\"selection_glyph\":null},\"id\":\"258170f3-2ea8-4583-a849-de10c6608caf\",\"type\":\"GlyphRenderer\"},{\"attributes\":{\"fill_alpha\":{\"field\":\"fill_alpha\"},\"fill_color\":{\"field\":\"color\"},\"height\":{\"field\":\"height\",\"units\":\"data\"},\"line_color\":{\"field\":\"line_color\"},\"width\":{\"field\":\"width\",\"units\":\"data\"},\"x\":{\"field\":\"x\"},\"y\":{\"field\":\"y\"}},\"id\":\"c8c17e7f-bc8e-41c6-bb25-7a757da5dfa1\",\"type\":\"Rect\"},{\"attributes\":{\"plot\":{\"id\":\"272e1296-0190-4e5d-b2bd-b37582f1db19\",\"subtype\":\"Chart\",\"type\":\"Plot\"}},\"id\":\"a1f27fbf-1bc9-487b-a228-ca6f9abc798e\",\"type\":\"WheelZoomTool\"},{\"attributes\":{\"fill_alpha\":{\"field\":\"fill_alpha\"},\"fill_color\":{\"field\":\"color\"},\"height\":{\"field\":\"height\",\"units\":\"data\"},\"line_color\":{\"field\":\"line_color\"},\"width\":{\"field\":\"width\",\"units\":\"data\"},\"x\":{\"field\":\"x\"},\"y\":{\"field\":\"y\"}},\"id\":\"a5fd7043-1e48-454e-885c-e7829f895438\",\"type\":\"Rect\"},{\"attributes\":{\"data_source\":{\"id\":\"920ce32a-9af0-43b5-a1ce-fba1bd0d3edc\",\"type\":\"ColumnDataSource\"},\"glyph\":{\"id\":\"135c6cb5-a68d-4c5e-8b30-0338f9c6cfc7\",\"type\":\"Rect\"},\"hover_glyph\":null,\"nonselection_glyph\":null,\"selection_glyph\":null},\"id\":\"1d85b25d-ca3a-4d29-9eeb-76515371903f\",\"type\":\"GlyphRenderer\"},{\"attributes\":{\"callback\":null,\"column_names\":[\"line_color\",\"line_alpha\",\"color\",\"fill_alpha\",\"height\",\"width\",\"y\",\"x\",\"label\"],\"data\":{\"MixedBreed\":[\"Known Breed Combo\"],\"OutcomeType\":[\"Return_to_owner\"],\"chart_index\":[{\"MixedBreed\":\"Known Breed Combo\",\"OutcomeType\":\"Return_to_owner\"}],\"color\":[\"#f22c40\"],\"fill_alpha\":[0.8],\"height\":[636.0],\"label\":[{\"MixedBreed\":\"Known Breed Combo\",\"OutcomeType\":\"Return_to_owner\"}],\"line_alpha\":[1.0],\"line_color\":[\"white\"],\"width\":[0.8],\"x\":[\"Return_to_owner\"],\"y\":[4028.0]}},\"id\":\"56d26c20-e2c0-446e-b480-608d25c5bc6a\",\"type\":\"ColumnDataSource\"},{\"attributes\":{\"callback\":null,\"column_names\":[\"line_color\",\"line_alpha\",\"color\",\"fill_alpha\",\"height\",\"width\",\"y\",\"x\",\"label\"],\"data\":{\"MixedBreed\":[\"Nonmixed\"],\"OutcomeType\":[\"Transfer\"],\"chart_index\":[{\"MixedBreed\":\"Nonmixed\",\"OutcomeType\":\"Transfer\"}],\"color\":[\"#407ee7\"],\"fill_alpha\":[0.8],\"height\":[436.0],\"label\":[{\"MixedBreed\":\"Nonmixed\",\"OutcomeType\":\"Transfer\"}],\"line_alpha\":[1.0],\"line_color\":[\"white\"],\"width\":[0.8],\"x\":[\"Transfer\"],\"y\":[9204.0]}},\"id\":\"59568bc2-657e-4ecc-8c61-1dbd13c12cce\",\"type\":\"ColumnDataSource\"},{\"attributes\":{\"callback\":null,\"column_names\":[\"line_color\",\"line_alpha\",\"color\",\"fill_alpha\",\"height\",\"width\",\"y\",\"x\",\"label\"],\"data\":{\"MixedBreed\":[\"Known Breed Combo\"],\"OutcomeType\":[\"Transfer\"],\"chart_index\":[{\"MixedBreed\":\"Known Breed Combo\",\"OutcomeType\":\"Transfer\"}],\"color\":[\"#f22c40\"],\"fill_alpha\":[0.8],\"height\":[734.0],\"label\":[{\"MixedBreed\":\"Known Breed Combo\",\"OutcomeType\":\"Transfer\"}],\"line_alpha\":[1.0],\"line_color\":[\"white\"],\"width\":[0.8],\"x\":[\"Transfer\"],\"y\":[8619.0]}},\"id\":\"b67fc944-e21f-475d-8630-e14d066a8054\",\"type\":\"ColumnDataSource\"},{\"attributes\":{\"fill_alpha\":{\"field\":\"fill_alpha\"},\"fill_color\":{\"field\":\"color\"},\"height\":{\"field\":\"height\",\"units\":\"data\"},\"line_color\":{\"field\":\"line_color\"},\"width\":{\"field\":\"width\",\"units\":\"data\"},\"x\":{\"field\":\"x\"},\"y\":{\"field\":\"y\"}},\"id\":\"ac52221c-701b-4655-a38d-d8d129a13b97\",\"type\":\"Rect\"},{\"attributes\":{\"fill_alpha\":{\"field\":\"fill_alpha\"},\"fill_color\":{\"field\":\"color\"},\"height\":{\"field\":\"height\",\"units\":\"data\"},\"line_color\":{\"field\":\"line_color\"},\"width\":{\"field\":\"width\",\"units\":\"data\"},\"x\":{\"field\":\"x\"},\"y\":{\"field\":\"y\"}},\"id\":\"dfafa74f-bcfd-4ff7-a9d1-f24dd3711e2f\",\"type\":\"Rect\"},{\"attributes\":{\"fill_alpha\":{\"field\":\"fill_alpha\"},\"fill_color\":{\"field\":\"color\"},\"height\":{\"field\":\"height\",\"units\":\"data\"},\"line_color\":{\"field\":\"line_color\"},\"width\":{\"field\":\"width\",\"units\":\"data\"},\"x\":{\"field\":\"x\"},\"y\":{\"field\":\"y\"}},\"id\":\"9cf9186e-ec04-44fe-9e65-a9695e51eaf0\",\"type\":\"Rect\"},{\"attributes\":{\"callback\":null,\"column_names\":[\"line_color\",\"line_alpha\",\"color\",\"fill_alpha\",\"height\",\"width\",\"y\",\"x\",\"label\"],\"data\":{\"MixedBreed\":[\"Known Breed Combo\"],\"OutcomeType\":[\"Died\"],\"chart_index\":[{\"MixedBreed\":\"Known Breed Combo\",\"OutcomeType\":\"Died\"}],\"color\":[\"#f22c40\"],\"fill_alpha\":[0.8],\"height\":[9.0],\"label\":[{\"MixedBreed\":\"Known Breed Combo\",\"OutcomeType\":\"Died\"}],\"line_alpha\":[1.0],\"line_color\":[\"white\"],\"width\":[0.8],\"x\":[\"Died\"],\"y\":[192.5]}},\"id\":\"301d61df-5ef4-4725-8c78-182528423058\",\"type\":\"ColumnDataSource\"},{\"attributes\":{\"data_source\":{\"id\":\"647b6e6c-e339-4227-816e-6263eb871f3b\",\"type\":\"ColumnDataSource\"},\"glyph\":{\"id\":\"edcba98d-6722-4d86-8771-f05cafa1e095\",\"type\":\"Rect\"},\"hover_glyph\":null,\"nonselection_glyph\":null,\"selection_glyph\":null},\"id\":\"01b37a07-ad84-44cd-a325-3902348489c3\",\"type\":\"GlyphRenderer\"},{\"attributes\":{},\"id\":\"aff0755f-3e33-41a4-b57b-ba9ef824a0df\",\"type\":\"BasicTicker\"},{\"attributes\":{\"overlay\":{\"id\":\"3b56930e-980b-4f0e-afe4-bb9a5a55cfca\",\"type\":\"BoxAnnotation\"},\"plot\":{\"id\":\"272e1296-0190-4e5d-b2bd-b37582f1db19\",\"subtype\":\"Chart\",\"type\":\"Plot\"}},\"id\":\"be9f40e2-d7a4-451f-b524-2465b9217c6f\",\"type\":\"BoxZoomTool\"},{\"attributes\":{\"plot\":null,\"text\":\"Outcomes by Breed Type\"},\"id\":\"c6feb419-0a97-4d5c-aa7e-1de9914d3228\",\"type\":\"Title\"},{\"attributes\":{\"data_source\":{\"id\":\"59568bc2-657e-4ecc-8c61-1dbd13c12cce\",\"type\":\"ColumnDataSource\"},\"glyph\":{\"id\":\"ac52221c-701b-4655-a38d-d8d129a13b97\",\"type\":\"Rect\"},\"hover_glyph\":null,\"nonselection_glyph\":null,\"selection_glyph\":null},\"id\":\"8880c80a-e378-4a21-a007-991586032ce2\",\"type\":\"GlyphRenderer\"},{\"attributes\":{\"plot\":{\"id\":\"272e1296-0190-4e5d-b2bd-b37582f1db19\",\"subtype\":\"Chart\",\"type\":\"Plot\"}},\"id\":\"5b9ec627-a063-43b6-a35f-8f64a749c6b5\",\"type\":\"SaveTool\"},{\"attributes\":{\"data_source\":{\"id\":\"06af5935-7a67-45a2-be0a-6a706105f885\",\"type\":\"ColumnDataSource\"},\"glyph\":{\"id\":\"3299a06d-d854-4149-8166-453706f9c1a1\",\"type\":\"Rect\"},\"hover_glyph\":null,\"nonselection_glyph\":null,\"selection_glyph\":null},\"id\":\"40ffcf0b-73d8-4026-b869-b11d8cb552ef\",\"type\":\"GlyphRenderer\"},{\"attributes\":{\"data_source\":{\"id\":\"a11516de-6290-411d-bdfb-4108c5be683d\",\"type\":\"ColumnDataSource\"},\"glyph\":{\"id\":\"adaf54e0-872d-48e0-9ab6-0426e208b17e\",\"type\":\"Rect\"},\"hover_glyph\":null,\"nonselection_glyph\":null,\"selection_glyph\":null},\"id\":\"c715ab78-dcbc-401e-9408-27f659d498dd\",\"type\":\"GlyphRenderer\"},{\"attributes\":{\"data_source\":{\"id\":\"6be9606f-982e-4647-9542-a6dc950a0a0d\",\"type\":\"ColumnDataSource\"},\"glyph\":{\"id\":\"272629f9-a78e-4b11-b08c-fb70d660f968\",\"type\":\"Rect\"},\"hover_glyph\":null,\"nonselection_glyph\":null,\"selection_glyph\":null},\"id\":\"b60503ae-ca56-421b-a866-4049bd9f1205\",\"type\":\"GlyphRenderer\"},{\"attributes\":{\"callback\":null,\"column_names\":[\"line_color\",\"line_alpha\",\"color\",\"fill_alpha\",\"height\",\"width\",\"y\",\"x\",\"label\"],\"data\":{\"MixedBreed\":[\"Mixed Breed\"],\"OutcomeType\":[\"Euthanasia\"],\"chart_index\":[{\"MixedBreed\":\"Mixed Breed\",\"OutcomeType\":\"Euthanasia\"}],\"color\":[\"#5ab738\"],\"fill_alpha\":[0.8],\"height\":[1364.0],\"label\":[{\"MixedBreed\":\"Mixed Breed\",\"OutcomeType\":\"Euthanasia\"}],\"line_alpha\":[1.0],\"line_color\":[\"white\"],\"width\":[0.8],\"x\":[\"Euthanasia\"],\"y\":[682.0]}},\"id\":\"e795fc49-0555-4979-89bf-2863eae40861\",\"type\":\"ColumnDataSource\"},{\"attributes\":{\"callback\":null,\"column_names\":[\"line_color\",\"line_alpha\",\"color\",\"fill_alpha\",\"height\",\"width\",\"y\",\"x\",\"label\"],\"data\":{\"MixedBreed\":[\"Mixed Breed\"],\"OutcomeType\":[\"Return_to_owner\"],\"chart_index\":[{\"MixedBreed\":\"Mixed Breed\",\"OutcomeType\":\"Return_to_owner\"}],\"color\":[\"#5ab738\"],\"fill_alpha\":[0.8],\"height\":[3710.0],\"label\":[{\"MixedBreed\":\"Mixed Breed\",\"OutcomeType\":\"Return_to_owner\"}],\"line_alpha\":[1.0],\"line_color\":[\"white\"],\"width\":[0.8],\"x\":[\"Return_to_owner\"],\"y\":[1855.0]}},\"id\":\"a11516de-6290-411d-bdfb-4108c5be683d\",\"type\":\"ColumnDataSource\"},{\"attributes\":{\"fill_alpha\":{\"field\":\"fill_alpha\"},\"fill_color\":{\"field\":\"color\"},\"height\":{\"field\":\"height\",\"units\":\"data\"},\"line_color\":{\"field\":\"line_color\"},\"width\":{\"field\":\"width\",\"units\":\"data\"},\"x\":{\"field\":\"x\"},\"y\":{\"field\":\"y\"}},\"id\":\"656fa1d5-1501-4973-a0e4-e8b743b87b84\",\"type\":\"Rect\"},{\"attributes\":{\"below\":[{\"id\":\"43099578-68d8-46d0-a760-7b7d6b367bd4\",\"type\":\"CategoricalAxis\"}],\"left\":[{\"id\":\"42c5bb32-478d-40bd-b072-a3c940e17620\",\"type\":\"LinearAxis\"}],\"renderers\":[{\"id\":\"3b56930e-980b-4f0e-afe4-bb9a5a55cfca\",\"type\":\"BoxAnnotation\"},{\"id\":\"c715ab78-dcbc-401e-9408-27f659d498dd\",\"type\":\"GlyphRenderer\"},{\"id\":\"258170f3-2ea8-4583-a849-de10c6608caf\",\"type\":\"GlyphRenderer\"},{\"id\":\"b60503ae-ca56-421b-a866-4049bd9f1205\",\"type\":\"GlyphRenderer\"},{\"id\":\"1d85b25d-ca3a-4d29-9eeb-76515371903f\",\"type\":\"GlyphRenderer\"},{\"id\":\"86a97b41-0c09-4c7b-872d-11baac62227a\",\"type\":\"GlyphRenderer\"},{\"id\":\"fef30bb2-a76e-496c-bbcb-f474e5a43cf0\",\"type\":\"GlyphRenderer\"},{\"id\":\"e5040eb9-b2c3-424d-b86e-bc6a32e1c971\",\"type\":\"GlyphRenderer\"},{\"id\":\"1ac20eed-40b9-44c2-a241-e5fa995a7756\",\"type\":\"GlyphRenderer\"},{\"id\":\"18909283-fb3a-4f29-ac08-6b24a8fac0f3\",\"type\":\"GlyphRenderer\"},{\"id\":\"cd688040-2062-4d99-8c64-5e40911a4a13\",\"type\":\"GlyphRenderer\"},{\"id\":\"8880c80a-e378-4a21-a007-991586032ce2\",\"type\":\"GlyphRenderer\"},{\"id\":\"01b37a07-ad84-44cd-a325-3902348489c3\",\"type\":\"GlyphRenderer\"},{\"id\":\"8f037b8b-6d51-486c-8f34-5a2a4fc3ae09\",\"type\":\"GlyphRenderer\"},{\"id\":\"40ffcf0b-73d8-4026-b869-b11d8cb552ef\",\"type\":\"GlyphRenderer\"},{\"id\":\"6d70c77d-62ba-477d-8bd9-b3461614ad7b\",\"type\":\"GlyphRenderer\"},{\"id\":\"d54fcb57-2363-469a-a78f-b3a5b2e0abe2\",\"type\":\"Legend\"},{\"id\":\"43099578-68d8-46d0-a760-7b7d6b367bd4\",\"type\":\"CategoricalAxis\"},{\"id\":\"42c5bb32-478d-40bd-b072-a3c940e17620\",\"type\":\"LinearAxis\"},{\"id\":\"2aa2178b-b404-4919-9e58-e5d4821804fa\",\"type\":\"Grid\"}],\"title\":{\"id\":\"c6feb419-0a97-4d5c-aa7e-1de9914d3228\",\"type\":\"Title\"},\"tool_events\":{\"id\":\"14217b97-8110-466a-b966-dd2b9b7b0eca\",\"type\":\"ToolEvents\"},\"toolbar\":{\"id\":\"ca8747c3-54e4-4c44-92d2-0d9499b9864d\",\"type\":\"Toolbar\"},\"x_mapper_type\":\"auto\",\"x_range\":{\"id\":\"8e15a528-f812-43e4-859f-542bb0d44a54\",\"type\":\"FactorRange\"},\"y_mapper_type\":\"auto\",\"y_range\":{\"id\":\"d807f604-4997-4a70-9aa6-0c987a9ba53d\",\"type\":\"Range1d\"}},\"id\":\"272e1296-0190-4e5d-b2bd-b37582f1db19\",\"subtype\":\"Chart\",\"type\":\"Plot\"},{\"attributes\":{\"data_source\":{\"id\":\"b67fc944-e21f-475d-8630-e14d066a8054\",\"type\":\"ColumnDataSource\"},\"glyph\":{\"id\":\"ee427196-9ad1-4c96-bf07-6b7caeae72bb\",\"type\":\"Rect\"},\"hover_glyph\":null,\"nonselection_glyph\":null,\"selection_glyph\":null},\"id\":\"86a97b41-0c09-4c7b-872d-11baac62227a\",\"type\":\"GlyphRenderer\"},{\"attributes\":{\"callback\":null,\"column_names\":[\"line_color\",\"line_alpha\",\"color\",\"fill_alpha\",\"height\",\"width\",\"y\",\"x\",\"label\"],\"data\":{\"MixedBreed\":[\"Nonmixed\"],\"OutcomeType\":[\"Adoption\"],\"chart_index\":[{\"MixedBreed\":\"Nonmixed\",\"OutcomeType\":\"Adoption\"}],\"color\":[\"#407ee7\"],\"fill_alpha\":[0.8],\"height\":[443.0],\"label\":[{\"MixedBreed\":\"Nonmixed\",\"OutcomeType\":\"Adoption\"}],\"line_alpha\":[1.0],\"line_color\":[\"white\"],\"width\":[0.8],\"x\":[\"Adoption\"],\"y\":[9013.5]}},\"id\":\"325579fc-0b91-403a-b50d-1380d9d073a3\",\"type\":\"ColumnDataSource\"},{\"attributes\":{\"axis_label\":\"Count( Mixedbreed )\",\"formatter\":{\"id\":\"0c9f0e07-3900-406a-bcc9-1f94188f1e74\",\"type\":\"BasicTickFormatter\"},\"plot\":{\"id\":\"272e1296-0190-4e5d-b2bd-b37582f1db19\",\"subtype\":\"Chart\",\"type\":\"Plot\"},\"ticker\":{\"id\":\"aff0755f-3e33-41a4-b57b-ba9ef824a0df\",\"type\":\"BasicTicker\"}},\"id\":\"42c5bb32-478d-40bd-b072-a3c940e17620\",\"type\":\"LinearAxis\"},{\"attributes\":{\"callback\":null,\"column_names\":[\"line_color\",\"line_alpha\",\"color\",\"fill_alpha\",\"height\",\"width\",\"y\",\"x\",\"label\"],\"data\":{\"MixedBreed\":[\"Known Breed Combo\"],\"OutcomeType\":[\"Adoption\"],\"chart_index\":[{\"MixedBreed\":\"Known Breed Combo\",\"OutcomeType\":\"Adoption\"}],\"color\":[\"#f22c40\"],\"fill_alpha\":[0.8],\"height\":[1534.0],\"label\":[{\"MixedBreed\":\"Known Breed Combo\",\"OutcomeType\":\"Adoption\"}],\"line_alpha\":[1.0],\"line_color\":[\"white\"],\"width\":[0.8],\"x\":[\"Adoption\"],\"y\":[10002.0]}},\"id\":\"1d564e66-31be-414a-832b-a8bf2ba4529b\",\"type\":\"ColumnDataSource\"},{\"attributes\":{\"dimension\":1,\"plot\":{\"id\":\"272e1296-0190-4e5d-b2bd-b37582f1db19\",\"subtype\":\"Chart\",\"type\":\"Plot\"},\"ticker\":{\"id\":\"aff0755f-3e33-41a4-b57b-ba9ef824a0df\",\"type\":\"BasicTicker\"}},\"id\":\"2aa2178b-b404-4919-9e58-e5d4821804fa\",\"type\":\"Grid\"},{\"attributes\":{\"data_source\":{\"id\":\"56d26c20-e2c0-446e-b480-608d25c5bc6a\",\"type\":\"ColumnDataSource\"},\"glyph\":{\"id\":\"e7834eb7-8717-43cd-8666-c9691e8b46b1\",\"type\":\"Rect\"},\"hover_glyph\":null,\"nonselection_glyph\":null,\"selection_glyph\":null},\"id\":\"1ac20eed-40b9-44c2-a241-e5fa995a7756\",\"type\":\"GlyphRenderer\"},{\"attributes\":{\"plot\":{\"id\":\"272e1296-0190-4e5d-b2bd-b37582f1db19\",\"subtype\":\"Chart\",\"type\":\"Plot\"}},\"id\":\"04a48950-6ec0-46d6-9449-62edf7899b9f\",\"type\":\"HelpTool\"},{\"attributes\":{},\"id\":\"a57b89f0-9756-4998-919f-8c6d0c2b4be6\",\"type\":\"CategoricalTickFormatter\"},{\"attributes\":{\"callback\":null,\"column_names\":[\"line_color\",\"line_alpha\",\"color\",\"fill_alpha\",\"height\",\"width\",\"y\",\"x\",\"label\"],\"data\":{\"MixedBreed\":[\"Mixed Breed\"],\"OutcomeType\":[\"Adoption\"],\"chart_index\":[{\"MixedBreed\":\"Mixed Breed\",\"OutcomeType\":\"Adoption\"}],\"color\":[\"#5ab738\"],\"fill_alpha\":[0.8],\"height\":[8792.0],\"label\":[{\"MixedBreed\":\"Mixed Breed\",\"OutcomeType\":\"Adoption\"}],\"line_alpha\":[1.0],\"line_color\":[\"white\"],\"width\":[0.8],\"x\":[\"Adoption\"],\"y\":[4396.0]}},\"id\":\"6be9606f-982e-4647-9542-a6dc950a0a0d\",\"type\":\"ColumnDataSource\"},{\"attributes\":{},\"id\":\"14217b97-8110-466a-b966-dd2b9b7b0eca\",\"type\":\"ToolEvents\"},{\"attributes\":{\"data_source\":{\"id\":\"f5b9d285-3423-442a-9e34-bd07dc5193a0\",\"type\":\"ColumnDataSource\"},\"glyph\":{\"id\":\"dfafa74f-bcfd-4ff7-a9d1-f24dd3711e2f\",\"type\":\"Rect\"},\"hover_glyph\":null,\"nonselection_glyph\":null,\"selection_glyph\":null},\"id\":\"cd688040-2062-4d99-8c64-5e40911a4a13\",\"type\":\"GlyphRenderer\"},{\"attributes\":{\"fill_alpha\":{\"field\":\"fill_alpha\"},\"fill_color\":{\"field\":\"color\"},\"height\":{\"field\":\"height\",\"units\":\"data\"},\"line_color\":{\"field\":\"line_color\"},\"width\":{\"field\":\"width\",\"units\":\"data\"},\"x\":{\"field\":\"x\"},\"y\":{\"field\":\"y\"}},\"id\":\"8dbe6554-5c71-442d-bdea-47f5a5c2bad4\",\"type\":\"Rect\"},{\"attributes\":{\"fill_alpha\":{\"field\":\"fill_alpha\"},\"fill_color\":{\"field\":\"color\"},\"height\":{\"field\":\"height\",\"units\":\"data\"},\"line_color\":{\"field\":\"line_color\"},\"width\":{\"field\":\"width\",\"units\":\"data\"},\"x\":{\"field\":\"x\"},\"y\":{\"field\":\"y\"}},\"id\":\"3299a06d-d854-4149-8166-453706f9c1a1\",\"type\":\"Rect\"},{\"attributes\":{\"data_source\":{\"id\":\"325579fc-0b91-403a-b50d-1380d9d073a3\",\"type\":\"ColumnDataSource\"},\"glyph\":{\"id\":\"c8c17e7f-bc8e-41c6-bb25-7a757da5dfa1\",\"type\":\"Rect\"},\"hover_glyph\":null,\"nonselection_glyph\":null,\"selection_glyph\":null},\"id\":\"fef30bb2-a76e-496c-bbcb-f474e5a43cf0\",\"type\":\"GlyphRenderer\"},{\"attributes\":{\"callback\":null,\"end\":11307.45},\"id\":\"d807f604-4997-4a70-9aa6-0c987a9ba53d\",\"type\":\"Range1d\"}],\"root_ids\":[\"272e1296-0190-4e5d-b2bd-b37582f1db19\"]},\"title\":\"Bokeh Application\",\"version\":\"0.12.2\"}};\n",
       "            var render_items = [{\"docid\":\"c7e2a123-d160-4a93-b0e6-e4a36e7e94e6\",\"elementid\":\"cdd36b40-a667-484c-94d2-111a6d27c5c3\",\"modelid\":\"272e1296-0190-4e5d-b2bd-b37582f1db19\"}];\n",
       "            \n",
       "            Bokeh.embed.embed_items(docs_json, render_items);\n",
       "        });\n",
       "      },\n",
       "      function(Bokeh) {\n",
       "      }\n",
       "    ];\n",
       "  \n",
       "    function run_inline_js() {\n",
       "      \n",
       "      if ((window.Bokeh !== undefined) || (force === \"1\")) {\n",
       "        for (var i = 0; i < inline_js.length; i++) {\n",
       "          inline_js[i](window.Bokeh);\n",
       "        }if (force === \"1\") {\n",
       "          display_loaded();\n",
       "        }} else if (Date.now() < window._bokeh_timeout) {\n",
       "        setTimeout(run_inline_js, 100);\n",
       "      } else if (!window._bokeh_failed_load) {\n",
       "        console.log(\"Bokeh: BokehJS failed to load within specified timeout.\");\n",
       "        window._bokeh_failed_load = true;\n",
       "      } else if (!force) {\n",
       "        var cell = $(\"#cdd36b40-a667-484c-94d2-111a6d27c5c3\").parents('.cell').data().cell;\n",
       "        cell.output_area.append_execute_result(NB_LOAD_WARNING)\n",
       "      }\n",
       "  \n",
       "    }\n",
       "  \n",
       "    if (window._bokeh_is_loading === 0) {\n",
       "      console.log(\"Bokeh: BokehJS loaded, going straight to plotting\");\n",
       "      run_inline_js();\n",
       "    } else {\n",
       "      load_libs(js_urls, function() {\n",
       "        console.log(\"Bokeh: BokehJS plotting callback run at\", now());\n",
       "        run_inline_js();\n",
       "      });\n",
       "    }\n",
       "  }(this));\n",
       "</script>"
      ]
     },
     "metadata": {},
     "output_type": "display_data"
    }
   ],
   "source": [
    "p = Bar(data, label='OutcomeType', values = 'MixedBreed', agg='count', stack='MixedBreed',\n",
    "        title=\"Outcomes by Breed Type\", legend='top_right')\n",
    "show(p)"
   ]
  },
  {
   "cell_type": "code",
   "execution_count": 21,
   "metadata": {
    "collapsed": false,
    "scrolled": true
   },
   "outputs": [
    {
     "data": {
      "text/plain": [
       "array([[<matplotlib.axes._subplots.AxesSubplot object at 0x12564add0>]], dtype=object)"
      ]
     },
     "execution_count": 21,
     "metadata": {},
     "output_type": "execute_result"
    },
    {
     "data": {
      "image/png": "[encoded data removed]",
      "text/plain": [
       "<matplotlib.figure.Figure at 0x123d0f710>"
      ]
     },
     "metadata": {},
     "output_type": "display_data"
    }
   ],
   "source": [
    "#Age of animals\n",
    "data.hist(column=\"ConvertedAge\", bins=25)"
   ]
  },
  {
   "cell_type": "code",
   "execution_count": 30,
   "metadata": {
    "collapsed": false
   },
   "outputs": [
    {
     "data": {
      "text/html": [
       "\n",
       "\n",
       "    <div class=\"bk-root\">\n",
       "        <div class=\"plotdiv\" id=\"3d8cfc46-1422-46f0-b69c-87b6cb6403a4\"></div>\n",
       "    </div>\n",
       "<script type=\"text/javascript\">\n",
       "  \n",
       "  (function(global) {\n",
       "    function now() {\n",
       "      return new Date();\n",
       "    }\n",
       "  \n",
       "    var force = \"\";\n",
       "  \n",
       "    if (typeof (window._bokeh_onload_callbacks) === \"undefined\" || force !== \"\") {\n",
       "      window._bokeh_onload_callbacks = [];\n",
       "      window._bokeh_is_loading = undefined;\n",
       "    }\n",
       "  \n",
       "  \n",
       "    \n",
       "    if (typeof (window._bokeh_timeout) === \"undefined\" || force !== \"\") {\n",
       "      window._bokeh_timeout = Date.now() + 0;\n",
       "      window._bokeh_failed_load = false;\n",
       "    }\n",
       "  \n",
       "    var NB_LOAD_WARNING = {'data': {'text/html':\n",
       "       \"<div style='background-color: #fdd'>\\n\"+\n",
       "       \"<p>\\n\"+\n",
       "       \"BokehJS does not appear to have successfully loaded. If loading BokehJS from CDN, this \\n\"+\n",
       "       \"may be due to a slow or bad network connection. Possible fixes:\\n\"+\n",
       "       \"</p>\\n\"+\n",
       "       \"<ul>\\n\"+\n",
       "       \"<li>re-rerun `output_notebook()` to attempt to load from CDN again, or</li>\\n\"+\n",
       "       \"<li>use INLINE resources instead, as so:</li>\\n\"+\n",
       "       \"</ul>\\n\"+\n",
       "       \"<code>\\n\"+\n",
       "       \"from bokeh.resources import INLINE\\n\"+\n",
       "       \"output_notebook(resources=INLINE)\\n\"+\n",
       "       \"</code>\\n\"+\n",
       "       \"</div>\"}};\n",
       "  \n",
       "    function display_loaded() {\n",
       "      if (window.Bokeh !== undefined) {\n",
       "        Bokeh.$(\"#3d8cfc46-1422-46f0-b69c-87b6cb6403a4\").text(\"BokehJS successfully loaded.\");\n",
       "      } else if (Date.now() < window._bokeh_timeout) {\n",
       "        setTimeout(display_loaded, 100)\n",
       "      }\n",
       "    }\n",
       "  \n",
       "    function run_callbacks() {\n",
       "      window._bokeh_onload_callbacks.forEach(function(callback) { callback() });\n",
       "      delete window._bokeh_onload_callbacks\n",
       "      console.info(\"Bokeh: all callbacks have finished\");\n",
       "    }\n",
       "  \n",
       "    function load_libs(js_urls, callback) {\n",
       "      window._bokeh_onload_callbacks.push(callback);\n",
       "      if (window._bokeh_is_loading > 0) {\n",
       "        console.log(\"Bokeh: BokehJS is being loaded, scheduling callback at\", now());\n",
       "        return null;\n",
       "      }\n",
       "      if (js_urls == null || js_urls.length === 0) {\n",
       "        run_callbacks();\n",
       "        return null;\n",
       "      }\n",
       "      console.log(\"Bokeh: BokehJS not loaded, scheduling load and callback at\", now());\n",
       "      window._bokeh_is_loading = js_urls.length;\n",
       "      for (var i = 0; i < js_urls.length; i++) {\n",
       "        var url = js_urls[i];\n",
       "        var s = document.createElement('script');\n",
       "        s.src = url;\n",
       "        s.async = false;\n",
       "        s.onreadystatechange = s.onload = function() {\n",
       "          window._bokeh_is_loading--;\n",
       "          if (window._bokeh_is_loading === 0) {\n",
       "            console.log(\"Bokeh: all BokehJS libraries loaded\");\n",
       "            run_callbacks()\n",
       "          }\n",
       "        };\n",
       "        s.onerror = function() {\n",
       "          console.warn(\"failed to load library \" + url);\n",
       "        };\n",
       "        console.log(\"Bokeh: injecting script tag for BokehJS library: \", url);\n",
       "        document.getElementsByTagName(\"head\")[0].appendChild(s);\n",
       "      }\n",
       "    };var element = document.getElementById(\"3d8cfc46-1422-46f0-b69c-87b6cb6403a4\");\n",
       "    if (element == null) {\n",
       "      console.log(\"Bokeh: ERROR: autoload.js configured with elementid '3d8cfc46-1422-46f0-b69c-87b6cb6403a4' but no matching script tag was found. \")\n",
       "      return false;\n",
       "    }\n",
       "  \n",
       "    var js_urls = [];\n",
       "  \n",
       "    var inline_js = [\n",
       "      function(Bokeh) {\n",
       "        Bokeh.$(function() {\n",
       "            var docs_json = {\"31f7b20f-41e8-4418-b775-c22f1874433b\":{\"roots\":{\"references\":[{\"attributes\":{\"data_source\":{\"id\":\"be53c5f4-a1d8-4135-b5e9-87bd5097d308\",\"type\":\"ColumnDataSource\"},\"glyph\":{\"id\":\"ecd20c58-3166-4ff5-8eba-ac4f48f14b6e\",\"type\":\"Rect\"},\"hover_glyph\":null,\"nonselection_glyph\":null,\"selection_glyph\":null},\"id\":\"07689827-659f-4b5e-9346-ff3ccc4e6bbd\",\"type\":\"GlyphRenderer\"},{\"attributes\":{\"active_drag\":\"auto\",\"active_scroll\":\"auto\",\"active_tap\":\"auto\",\"tools\":[{\"id\":\"8732e4cd-bf3f-49fc-8533-1a59047f21bd\",\"type\":\"PanTool\"},{\"id\":\"3cc0ec7d-973e-490d-b87a-a5c753db7edb\",\"type\":\"WheelZoomTool\"},{\"id\":\"54a5bbf5-74b5-4dfb-9596-4a5d044cef9b\",\"type\":\"BoxZoomTool\"},{\"id\":\"cbccb20c-7700-4f15-a18d-7115935f9daa\",\"type\":\"SaveTool\"},{\"id\":\"6177b9ad-72fa-430e-923c-1e2e893d03cc\",\"type\":\"ResetTool\"},{\"id\":\"15f37d6b-0fc1-4cd7-ae63-6b5a108f75ec\",\"type\":\"HelpTool\"}]},\"id\":\"59e23d7a-f6b9-49cd-90ea-87fb8e8ebef3\",\"type\":\"Toolbar\"},{\"attributes\":{\"axis_label\":\"Count( Named )\",\"formatter\":{\"id\":\"bddb327a-0851-4a19-8107-c839f27394ba\",\"type\":\"BasicTickFormatter\"},\"plot\":{\"id\":\"5e556067-c0fb-40e3-867d-622c8eee6df4\",\"subtype\":\"Chart\",\"type\":\"Plot\"},\"ticker\":{\"id\":\"c5d9d8e1-0bab-4df6-b720-757ef21b9caf\",\"type\":\"BasicTicker\"}},\"id\":\"d84fdc8a-e57a-47a8-a968-4fec80f4428b\",\"type\":\"LinearAxis\"},{\"attributes\":{\"callback\":null,\"column_names\":[\"line_color\",\"line_alpha\",\"color\",\"fill_alpha\",\"height\",\"width\",\"y\",\"x\",\"label\"],\"data\":{\"Named\":[\"Named\"],\"OutcomeType\":[\"Adoption\"],\"chart_index\":[{\"Named\":\"Named\",\"OutcomeType\":\"Adoption\"}],\"color\":[\"#f22c40\"],\"fill_alpha\":[0.8],\"height\":[9091.0],\"label\":[{\"Named\":\"Named\",\"OutcomeType\":\"Adoption\"}],\"line_alpha\":[1.0],\"line_color\":[\"white\"],\"width\":[0.8],\"x\":[\"Adoption\"],\"y\":[4545.5]}},\"id\":\"5bd878d3-f806-4bbf-ae96-63bda33c2c8c\",\"type\":\"ColumnDataSource\"},{\"attributes\":{\"data_source\":{\"id\":\"d99e7010-2f37-4058-8bc7-72bc05281a75\",\"type\":\"ColumnDataSource\"},\"glyph\":{\"id\":\"f2af4261-8ac9-4d1f-ac2c-93f01b504e5a\",\"type\":\"Rect\"},\"hover_glyph\":null,\"nonselection_glyph\":null,\"selection_glyph\":null},\"id\":\"5d34c60a-748f-4726-b0ae-16848aff3602\",\"type\":\"GlyphRenderer\"},{\"attributes\":{\"fill_alpha\":{\"field\":\"fill_alpha\"},\"fill_color\":{\"field\":\"color\"},\"height\":{\"field\":\"height\",\"units\":\"data\"},\"line_color\":{\"field\":\"line_color\"},\"width\":{\"field\":\"width\",\"units\":\"data\"},\"x\":{\"field\":\"x\"},\"y\":{\"field\":\"y\"}},\"id\":\"e3802b6e-0950-4026-bd9a-05ac9b696600\",\"type\":\"Rect\"},{\"attributes\":{\"overlay\":{\"id\":\"a3e3746b-9615-4e7a-879c-df78ff7b5b77\",\"type\":\"BoxAnnotation\"},\"plot\":{\"id\":\"5e556067-c0fb-40e3-867d-622c8eee6df4\",\"subtype\":\"Chart\",\"type\":\"Plot\"}},\"id\":\"54a5bbf5-74b5-4dfb-9596-4a5d044cef9b\",\"type\":\"BoxZoomTool\"},{\"attributes\":{\"fill_alpha\":{\"field\":\"fill_alpha\"},\"fill_color\":{\"field\":\"color\"},\"height\":{\"field\":\"height\",\"units\":\"data\"},\"line_color\":{\"field\":\"line_color\"},\"width\":{\"field\":\"width\",\"units\":\"data\"},\"x\":{\"field\":\"x\"},\"y\":{\"field\":\"y\"}},\"id\":\"7886ac4a-c37d-44e9-8a5b-099105a7707c\",\"type\":\"Rect\"},{\"attributes\":{\"below\":[{\"id\":\"c093171f-f0f2-437b-bfc6-6918d5c117bf\",\"type\":\"CategoricalAxis\"}],\"left\":[{\"id\":\"d84fdc8a-e57a-47a8-a968-4fec80f4428b\",\"type\":\"LinearAxis\"}],\"renderers\":[{\"id\":\"a3e3746b-9615-4e7a-879c-df78ff7b5b77\",\"type\":\"BoxAnnotation\"},{\"id\":\"1bdb5188-643e-4535-895a-5b3dbbc13cbe\",\"type\":\"GlyphRenderer\"},{\"id\":\"9f07b7d1-ad4b-4ce5-ab2c-6111d47e8246\",\"type\":\"GlyphRenderer\"},{\"id\":\"2cd6f6ad-81ac-460a-86f7-9f62b66b4d84\",\"type\":\"GlyphRenderer\"},{\"id\":\"02abce10-7d91-43e9-bd93-e5cddd69cf7e\",\"type\":\"GlyphRenderer\"},{\"id\":\"4c0e20f9-17f4-418a-bc75-36eb4a78979b\",\"type\":\"GlyphRenderer\"},{\"id\":\"07689827-659f-4b5e-9346-ff3ccc4e6bbd\",\"type\":\"GlyphRenderer\"},{\"id\":\"c5800668-e733-459a-84c9-17fab2dd4768\",\"type\":\"GlyphRenderer\"},{\"id\":\"e1b519fe-d8a9-493b-845b-883beb5f6009\",\"type\":\"GlyphRenderer\"},{\"id\":\"5d34c60a-748f-4726-b0ae-16848aff3602\",\"type\":\"GlyphRenderer\"},{\"id\":\"1e7ce6a2-2210-49ec-8c31-88458dad44d8\",\"type\":\"GlyphRenderer\"},{\"id\":\"c64cd679-c6e4-4cf0-9d4d-263a9631c5e5\",\"type\":\"Legend\"},{\"id\":\"c093171f-f0f2-437b-bfc6-6918d5c117bf\",\"type\":\"CategoricalAxis\"},{\"id\":\"d84fdc8a-e57a-47a8-a968-4fec80f4428b\",\"type\":\"LinearAxis\"},{\"id\":\"5fd28de8-aa09-4422-86d3-f0c22e81079c\",\"type\":\"Grid\"}],\"title\":{\"id\":\"eb7c0374-22eb-478d-93ae-ad5addbda5ac\",\"type\":\"Title\"},\"tool_events\":{\"id\":\"6965bff0-1650-4c66-af8a-cbe56fdfdd78\",\"type\":\"ToolEvents\"},\"toolbar\":{\"id\":\"59e23d7a-f6b9-49cd-90ea-87fb8e8ebef3\",\"type\":\"Toolbar\"},\"x_mapper_type\":\"auto\",\"x_range\":{\"id\":\"3be54cc4-2c14-4e28-a326-4b890ff28610\",\"type\":\"FactorRange\"},\"y_mapper_type\":\"auto\",\"y_range\":{\"id\":\"c5eb94d0-8914-4d51-b58b-0bfd0c9f871e\",\"type\":\"Range1d\"}},\"id\":\"5e556067-c0fb-40e3-867d-622c8eee6df4\",\"subtype\":\"Chart\",\"type\":\"Plot\"},{\"attributes\":{\"callback\":null,\"column_names\":[\"line_color\",\"line_alpha\",\"color\",\"fill_alpha\",\"height\",\"width\",\"y\",\"x\",\"label\"],\"data\":{\"Named\":[\"Unnamed\"],\"OutcomeType\":[\"Adoption\"],\"chart_index\":[{\"Named\":\"Unnamed\",\"OutcomeType\":\"Adoption\"}],\"color\":[\"#5ab738\"],\"fill_alpha\":[0.8],\"height\":[1678.0],\"label\":[{\"Named\":\"Unnamed\",\"OutcomeType\":\"Adoption\"}],\"line_alpha\":[1.0],\"line_color\":[\"white\"],\"width\":[0.8],\"x\":[\"Adoption\"],\"y\":[9930.0]}},\"id\":\"be53c5f4-a1d8-4135-b5e9-87bd5097d308\",\"type\":\"ColumnDataSource\"},{\"attributes\":{\"data_source\":{\"id\":\"84b5f190-5c0c-4b81-913d-cd074ad6125d\",\"type\":\"ColumnDataSource\"},\"glyph\":{\"id\":\"abe1edd5-51e1-4f42-931b-a1aeb7d261c1\",\"type\":\"Rect\"},\"hover_glyph\":null,\"nonselection_glyph\":null,\"selection_glyph\":null},\"id\":\"e1b519fe-d8a9-493b-845b-883beb5f6009\",\"type\":\"GlyphRenderer\"},{\"attributes\":{\"data_source\":{\"id\":\"fe715b8f-8e9b-4a51-b461-0c184482c594\",\"type\":\"ColumnDataSource\"},\"glyph\":{\"id\":\"0752817f-26b4-40a1-9bbc-8c30774d47c8\",\"type\":\"Rect\"},\"hover_glyph\":null,\"nonselection_glyph\":null,\"selection_glyph\":null},\"id\":\"4c0e20f9-17f4-418a-bc75-36eb4a78979b\",\"type\":\"GlyphRenderer\"},{\"attributes\":{\"fill_alpha\":{\"field\":\"fill_alpha\"},\"fill_color\":{\"field\":\"color\"},\"height\":{\"field\":\"height\",\"units\":\"data\"},\"line_color\":{\"field\":\"line_color\"},\"width\":{\"field\":\"width\",\"units\":\"data\"},\"x\":{\"field\":\"x\"},\"y\":{\"field\":\"y\"}},\"id\":\"abe1edd5-51e1-4f42-931b-a1aeb7d261c1\",\"type\":\"Rect\"},{\"attributes\":{\"callback\":null,\"column_names\":[\"line_color\",\"line_alpha\",\"color\",\"fill_alpha\",\"height\",\"width\",\"y\",\"x\",\"label\"],\"data\":{\"Named\":[\"Unnamed\"],\"OutcomeType\":[\"Return_to_owner\"],\"chart_index\":[{\"Named\":\"Unnamed\",\"OutcomeType\":\"Return_to_owner\"}],\"color\":[\"#5ab738\"],\"fill_alpha\":[0.8],\"height\":[153.0],\"label\":[{\"Named\":\"Unnamed\",\"OutcomeType\":\"Return_to_owner\"}],\"line_alpha\":[1.0],\"line_color\":[\"white\"],\"width\":[0.8],\"x\":[\"Return_to_owner\"],\"y\":[4709.5]}},\"id\":\"84b5f190-5c0c-4b81-913d-cd074ad6125d\",\"type\":\"ColumnDataSource\"},{\"attributes\":{\"callback\":null,\"column_names\":[\"line_color\",\"line_alpha\",\"color\",\"fill_alpha\",\"height\",\"width\",\"y\",\"x\",\"label\"],\"data\":{\"Named\":[\"Named\"],\"OutcomeType\":[\"Return_to_owner\"],\"chart_index\":[{\"Named\":\"Named\",\"OutcomeType\":\"Return_to_owner\"}],\"color\":[\"#f22c40\"],\"fill_alpha\":[0.8],\"height\":[4633.0],\"label\":[{\"Named\":\"Named\",\"OutcomeType\":\"Return_to_owner\"}],\"line_alpha\":[1.0],\"line_color\":[\"white\"],\"width\":[0.8],\"x\":[\"Return_to_owner\"],\"y\":[2316.5]}},\"id\":\"feeb8e58-f57f-4e9b-81cc-25140cc7c54d\",\"type\":\"ColumnDataSource\"},{\"attributes\":{\"fill_alpha\":{\"field\":\"fill_alpha\"},\"fill_color\":{\"field\":\"color\"},\"height\":{\"field\":\"height\",\"units\":\"data\"},\"line_color\":{\"field\":\"line_color\"},\"width\":{\"field\":\"width\",\"units\":\"data\"},\"x\":{\"field\":\"x\"},\"y\":{\"field\":\"y\"}},\"id\":\"ecd20c58-3166-4ff5-8eba-ac4f48f14b6e\",\"type\":\"Rect\"},{\"attributes\":{\"fill_alpha\":{\"field\":\"fill_alpha\"},\"fill_color\":{\"field\":\"color\"},\"height\":{\"field\":\"height\",\"units\":\"data\"},\"line_color\":{\"field\":\"line_color\"},\"width\":{\"field\":\"width\",\"units\":\"data\"},\"x\":{\"field\":\"x\"},\"y\":{\"field\":\"y\"}},\"id\":\"409465e5-022e-43fd-b281-796aca9f5a4b\",\"type\":\"Rect\"},{\"attributes\":{\"plot\":{\"id\":\"5e556067-c0fb-40e3-867d-622c8eee6df4\",\"subtype\":\"Chart\",\"type\":\"Plot\"}},\"id\":\"8732e4cd-bf3f-49fc-8533-1a59047f21bd\",\"type\":\"PanTool\"},{\"attributes\":{\"fill_alpha\":{\"field\":\"fill_alpha\"},\"fill_color\":{\"field\":\"color\"},\"height\":{\"field\":\"height\",\"units\":\"data\"},\"line_color\":{\"field\":\"line_color\"},\"width\":{\"field\":\"width\",\"units\":\"data\"},\"x\":{\"field\":\"x\"},\"y\":{\"field\":\"y\"}},\"id\":\"0752817f-26b4-40a1-9bbc-8c30774d47c8\",\"type\":\"Rect\"},{\"attributes\":{\"callback\":null,\"column_names\":[\"line_color\",\"line_alpha\",\"color\",\"fill_alpha\",\"height\",\"width\",\"y\",\"x\",\"label\"],\"data\":{\"Named\":[\"Unnamed\"],\"OutcomeType\":[\"Transfer\"],\"chart_index\":[{\"Named\":\"Unnamed\",\"OutcomeType\":\"Transfer\"}],\"color\":[\"#5ab738\"],\"fill_alpha\":[0.8],\"height\":[4925.0],\"label\":[{\"Named\":\"Unnamed\",\"OutcomeType\":\"Transfer\"}],\"line_alpha\":[1.0],\"line_color\":[\"white\"],\"width\":[0.8],\"x\":[\"Transfer\"],\"y\":[2462.5]}},\"id\":\"94f40503-4040-4d65-8241-5127b289d497\",\"type\":\"ColumnDataSource\"},{\"attributes\":{\"callback\":null,\"column_names\":[\"line_color\",\"line_alpha\",\"color\",\"fill_alpha\",\"height\",\"width\",\"y\",\"x\",\"label\"],\"data\":{\"Named\":[\"Named\"],\"OutcomeType\":[\"Transfer\"],\"chart_index\":[{\"Named\":\"Named\",\"OutcomeType\":\"Transfer\"}],\"color\":[\"#f22c40\"],\"fill_alpha\":[0.8],\"height\":[4497.0],\"label\":[{\"Named\":\"Named\",\"OutcomeType\":\"Transfer\"}],\"line_alpha\":[1.0],\"line_color\":[\"white\"],\"width\":[0.8],\"x\":[\"Transfer\"],\"y\":[7173.5]}},\"id\":\"fe715b8f-8e9b-4a51-b461-0c184482c594\",\"type\":\"ColumnDataSource\"},{\"attributes\":{\"data_source\":{\"id\":\"6706e252-7b79-4c22-8494-63b3d1117e5f\",\"type\":\"ColumnDataSource\"},\"glyph\":{\"id\":\"7886ac4a-c37d-44e9-8a5b-099105a7707c\",\"type\":\"Rect\"},\"hover_glyph\":null,\"nonselection_glyph\":null,\"selection_glyph\":null},\"id\":\"c5800668-e733-459a-84c9-17fab2dd4768\",\"type\":\"GlyphRenderer\"},{\"attributes\":{\"callback\":null,\"column_names\":[\"line_color\",\"line_alpha\",\"color\",\"fill_alpha\",\"height\",\"width\",\"y\",\"x\",\"label\"],\"data\":{\"Named\":[\"Named\"],\"OutcomeType\":[\"Died\"],\"chart_index\":[{\"Named\":\"Named\",\"OutcomeType\":\"Died\"}],\"color\":[\"#f22c40\"],\"fill_alpha\":[0.8],\"height\":[77.0],\"label\":[{\"Named\":\"Named\",\"OutcomeType\":\"Died\"}],\"line_alpha\":[1.0],\"line_color\":[\"white\"],\"width\":[0.8],\"x\":[\"Died\"],\"y\":[38.5]}},\"id\":\"d99e7010-2f37-4058-8bc7-72bc05281a75\",\"type\":\"ColumnDataSource\"},{\"attributes\":{\"callback\":null,\"column_names\":[\"line_color\",\"line_alpha\",\"color\",\"fill_alpha\",\"height\",\"width\",\"y\",\"x\",\"label\"],\"data\":{\"Named\":[\"Unnamed\"],\"OutcomeType\":[\"Euthanasia\"],\"chart_index\":[{\"Named\":\"Unnamed\",\"OutcomeType\":\"Euthanasia\"}],\"color\":[\"#5ab738\"],\"fill_alpha\":[0.8],\"height\":[815.0],\"label\":[{\"Named\":\"Unnamed\",\"OutcomeType\":\"Euthanasia\"}],\"line_alpha\":[1.0],\"line_color\":[\"white\"],\"width\":[0.8],\"x\":[\"Euthanasia\"],\"y\":[1147.5]}},\"id\":\"6706e252-7b79-4c22-8494-63b3d1117e5f\",\"type\":\"ColumnDataSource\"},{\"attributes\":{\"fill_alpha\":{\"field\":\"fill_alpha\"},\"fill_color\":{\"field\":\"color\"},\"height\":{\"field\":\"height\",\"units\":\"data\"},\"line_color\":{\"field\":\"line_color\"},\"width\":{\"field\":\"width\",\"units\":\"data\"},\"x\":{\"field\":\"x\"},\"y\":{\"field\":\"y\"}},\"id\":\"f2af4261-8ac9-4d1f-ac2c-93f01b504e5a\",\"type\":\"Rect\"},{\"attributes\":{},\"id\":\"bddb327a-0851-4a19-8107-c839f27394ba\",\"type\":\"BasicTickFormatter\"},{\"attributes\":{\"legends\":[[\"Named\",[{\"id\":\"1bdb5188-643e-4535-895a-5b3dbbc13cbe\",\"type\":\"GlyphRenderer\"}]],[\"Unnamed\",[{\"id\":\"02abce10-7d91-43e9-bd93-e5cddd69cf7e\",\"type\":\"GlyphRenderer\"}]]],\"plot\":{\"id\":\"5e556067-c0fb-40e3-867d-622c8eee6df4\",\"subtype\":\"Chart\",\"type\":\"Plot\"}},\"id\":\"c64cd679-c6e4-4cf0-9d4d-263a9631c5e5\",\"type\":\"Legend\"},{\"attributes\":{},\"id\":\"779659bc-adec-4770-a359-d861b7e17968\",\"type\":\"CategoricalTickFormatter\"},{\"attributes\":{\"data_source\":{\"id\":\"feeb8e58-f57f-4e9b-81cc-25140cc7c54d\",\"type\":\"ColumnDataSource\"},\"glyph\":{\"id\":\"3b173d69-11e4-4a50-a3ef-ea434a68fa2a\",\"type\":\"Rect\"},\"hover_glyph\":null,\"nonselection_glyph\":null,\"selection_glyph\":null},\"id\":\"1bdb5188-643e-4535-895a-5b3dbbc13cbe\",\"type\":\"GlyphRenderer\"},{\"attributes\":{},\"id\":\"655f5fe6-0d9c-43c0-a5fc-6ca895eda6f7\",\"type\":\"CategoricalTicker\"},{\"attributes\":{\"plot\":{\"id\":\"5e556067-c0fb-40e3-867d-622c8eee6df4\",\"subtype\":\"Chart\",\"type\":\"Plot\"}},\"id\":\"cbccb20c-7700-4f15-a18d-7115935f9daa\",\"type\":\"SaveTool\"},{\"attributes\":{},\"id\":\"6965bff0-1650-4c66-af8a-cbe56fdfdd78\",\"type\":\"ToolEvents\"},{\"attributes\":{\"axis_label\":\"Outcometype\",\"formatter\":{\"id\":\"779659bc-adec-4770-a359-d861b7e17968\",\"type\":\"CategoricalTickFormatter\"},\"major_label_orientation\":0.7853981633974483,\"plot\":{\"id\":\"5e556067-c0fb-40e3-867d-622c8eee6df4\",\"subtype\":\"Chart\",\"type\":\"Plot\"},\"ticker\":{\"id\":\"655f5fe6-0d9c-43c0-a5fc-6ca895eda6f7\",\"type\":\"CategoricalTicker\"}},\"id\":\"c093171f-f0f2-437b-bfc6-6918d5c117bf\",\"type\":\"CategoricalAxis\"},{\"attributes\":{\"fill_alpha\":{\"field\":\"fill_alpha\"},\"fill_color\":{\"field\":\"color\"},\"height\":{\"field\":\"height\",\"units\":\"data\"},\"line_color\":{\"field\":\"line_color\"},\"width\":{\"field\":\"width\",\"units\":\"data\"},\"x\":{\"field\":\"x\"},\"y\":{\"field\":\"y\"}},\"id\":\"fcd4f5fb-abfe-4c32-8d7d-20b236560921\",\"type\":\"Rect\"},{\"attributes\":{\"plot\":{\"id\":\"5e556067-c0fb-40e3-867d-622c8eee6df4\",\"subtype\":\"Chart\",\"type\":\"Plot\"}},\"id\":\"15f37d6b-0fc1-4cd7-ae63-6b5a108f75ec\",\"type\":\"HelpTool\"},{\"attributes\":{\"plot\":{\"id\":\"5e556067-c0fb-40e3-867d-622c8eee6df4\",\"subtype\":\"Chart\",\"type\":\"Plot\"}},\"id\":\"3cc0ec7d-973e-490d-b87a-a5c753db7edb\",\"type\":\"WheelZoomTool\"},{\"attributes\":{\"plot\":null,\"text\":\"Outcomes by Name Status\"},\"id\":\"eb7c0374-22eb-478d-93ae-ad5addbda5ac\",\"type\":\"Title\"},{\"attributes\":{\"callback\":null,\"column_names\":[\"line_color\",\"line_alpha\",\"color\",\"fill_alpha\",\"height\",\"width\",\"y\",\"x\",\"label\"],\"data\":{\"Named\":[\"Unnamed\"],\"OutcomeType\":[\"Died\"],\"chart_index\":[{\"Named\":\"Unnamed\",\"OutcomeType\":\"Died\"}],\"color\":[\"#5ab738\"],\"fill_alpha\":[0.8],\"height\":[120.0],\"label\":[{\"Named\":\"Unnamed\",\"OutcomeType\":\"Died\"}],\"line_alpha\":[1.0],\"line_color\":[\"white\"],\"width\":[0.8],\"x\":[\"Died\"],\"y\":[137.0]}},\"id\":\"9b3ce369-f398-42d2-97a9-b26e03fe3e5d\",\"type\":\"ColumnDataSource\"},{\"attributes\":{},\"id\":\"c5d9d8e1-0bab-4df6-b720-757ef21b9caf\",\"type\":\"BasicTicker\"},{\"attributes\":{\"plot\":{\"id\":\"5e556067-c0fb-40e3-867d-622c8eee6df4\",\"subtype\":\"Chart\",\"type\":\"Plot\"}},\"id\":\"6177b9ad-72fa-430e-923c-1e2e893d03cc\",\"type\":\"ResetTool\"},{\"attributes\":{\"data_source\":{\"id\":\"9b3ce369-f398-42d2-97a9-b26e03fe3e5d\",\"type\":\"ColumnDataSource\"},\"glyph\":{\"id\":\"96cd8b2e-05fd-4b1f-8e88-f7c1d3aad1b3\",\"type\":\"Rect\"},\"hover_glyph\":null,\"nonselection_glyph\":null,\"selection_glyph\":null},\"id\":\"1e7ce6a2-2210-49ec-8c31-88458dad44d8\",\"type\":\"GlyphRenderer\"},{\"attributes\":{\"fill_alpha\":{\"field\":\"fill_alpha\"},\"fill_color\":{\"field\":\"color\"},\"height\":{\"field\":\"height\",\"units\":\"data\"},\"line_color\":{\"field\":\"line_color\"},\"width\":{\"field\":\"width\",\"units\":\"data\"},\"x\":{\"field\":\"x\"},\"y\":{\"field\":\"y\"}},\"id\":\"96cd8b2e-05fd-4b1f-8e88-f7c1d3aad1b3\",\"type\":\"Rect\"},{\"attributes\":{\"data_source\":{\"id\":\"d14c13ce-dcd6-47c9-b54d-91b1e07083c1\",\"type\":\"ColumnDataSource\"},\"glyph\":{\"id\":\"fcd4f5fb-abfe-4c32-8d7d-20b236560921\",\"type\":\"Rect\"},\"hover_glyph\":null,\"nonselection_glyph\":null,\"selection_glyph\":null},\"id\":\"9f07b7d1-ad4b-4ce5-ab2c-6111d47e8246\",\"type\":\"GlyphRenderer\"},{\"attributes\":{\"dimension\":1,\"plot\":{\"id\":\"5e556067-c0fb-40e3-867d-622c8eee6df4\",\"subtype\":\"Chart\",\"type\":\"Plot\"},\"ticker\":{\"id\":\"c5d9d8e1-0bab-4df6-b720-757ef21b9caf\",\"type\":\"BasicTicker\"}},\"id\":\"5fd28de8-aa09-4422-86d3-f0c22e81079c\",\"type\":\"Grid\"},{\"attributes\":{\"fill_alpha\":{\"field\":\"fill_alpha\"},\"fill_color\":{\"field\":\"color\"},\"height\":{\"field\":\"height\",\"units\":\"data\"},\"line_color\":{\"field\":\"line_color\"},\"width\":{\"field\":\"width\",\"units\":\"data\"},\"x\":{\"field\":\"x\"},\"y\":{\"field\":\"y\"}},\"id\":\"3b173d69-11e4-4a50-a3ef-ea434a68fa2a\",\"type\":\"Rect\"},{\"attributes\":{\"data_source\":{\"id\":\"94f40503-4040-4d65-8241-5127b289d497\",\"type\":\"ColumnDataSource\"},\"glyph\":{\"id\":\"409465e5-022e-43fd-b281-796aca9f5a4b\",\"type\":\"Rect\"},\"hover_glyph\":null,\"nonselection_glyph\":null,\"selection_glyph\":null},\"id\":\"02abce10-7d91-43e9-bd93-e5cddd69cf7e\",\"type\":\"GlyphRenderer\"},{\"attributes\":{\"bottom_units\":\"screen\",\"fill_alpha\":{\"value\":0.5},\"fill_color\":{\"value\":\"lightgrey\"},\"left_units\":\"screen\",\"level\":\"overlay\",\"line_alpha\":{\"value\":1.0},\"line_color\":{\"value\":\"black\"},\"line_dash\":[4,4],\"line_width\":{\"value\":2},\"plot\":null,\"render_mode\":\"css\",\"right_units\":\"screen\",\"top_units\":\"screen\"},\"id\":\"a3e3746b-9615-4e7a-879c-df78ff7b5b77\",\"type\":\"BoxAnnotation\"},{\"attributes\":{\"data_source\":{\"id\":\"5bd878d3-f806-4bbf-ae96-63bda33c2c8c\",\"type\":\"ColumnDataSource\"},\"glyph\":{\"id\":\"e3802b6e-0950-4026-bd9a-05ac9b696600\",\"type\":\"Rect\"},\"hover_glyph\":null,\"nonselection_glyph\":null,\"selection_glyph\":null},\"id\":\"2cd6f6ad-81ac-460a-86f7-9f62b66b4d84\",\"type\":\"GlyphRenderer\"},{\"attributes\":{\"callback\":null,\"end\":11307.45},\"id\":\"c5eb94d0-8914-4d51-b58b-0bfd0c9f871e\",\"type\":\"Range1d\"},{\"attributes\":{\"callback\":null,\"factors\":[\"Adoption\",\"Died\",\"Euthanasia\",\"Return_to_owner\",\"Transfer\"]},\"id\":\"3be54cc4-2c14-4e28-a326-4b890ff28610\",\"type\":\"FactorRange\"},{\"attributes\":{\"callback\":null,\"column_names\":[\"line_color\",\"line_alpha\",\"color\",\"fill_alpha\",\"height\",\"width\",\"y\",\"x\",\"label\"],\"data\":{\"Named\":[\"Named\"],\"OutcomeType\":[\"Euthanasia\"],\"chart_index\":[{\"Named\":\"Named\",\"OutcomeType\":\"Euthanasia\"}],\"color\":[\"#f22c40\"],\"fill_alpha\":[0.8],\"height\":[740.0],\"label\":[{\"Named\":\"Named\",\"OutcomeType\":\"Euthanasia\"}],\"line_alpha\":[1.0],\"line_color\":[\"white\"],\"width\":[0.8],\"x\":[\"Euthanasia\"],\"y\":[370.0]}},\"id\":\"d14c13ce-dcd6-47c9-b54d-91b1e07083c1\",\"type\":\"ColumnDataSource\"}],\"root_ids\":[\"5e556067-c0fb-40e3-867d-622c8eee6df4\"]},\"title\":\"Bokeh Application\",\"version\":\"0.12.2\"}};\n",
       "            var render_items = [{\"docid\":\"31f7b20f-41e8-4418-b775-c22f1874433b\",\"elementid\":\"3d8cfc46-1422-46f0-b69c-87b6cb6403a4\",\"modelid\":\"5e556067-c0fb-40e3-867d-622c8eee6df4\"}];\n",
       "            \n",
       "            Bokeh.embed.embed_items(docs_json, render_items);\n",
       "        });\n",
       "      },\n",
       "      function(Bokeh) {\n",
       "      }\n",
       "    ];\n",
       "  \n",
       "    function run_inline_js() {\n",
       "      \n",
       "      if ((window.Bokeh !== undefined) || (force === \"1\")) {\n",
       "        for (var i = 0; i < inline_js.length; i++) {\n",
       "          inline_js[i](window.Bokeh);\n",
       "        }if (force === \"1\") {\n",
       "          display_loaded();\n",
       "        }} else if (Date.now() < window._bokeh_timeout) {\n",
       "        setTimeout(run_inline_js, 100);\n",
       "      } else if (!window._bokeh_failed_load) {\n",
       "        console.log(\"Bokeh: BokehJS failed to load within specified timeout.\");\n",
       "        window._bokeh_failed_load = true;\n",
       "      } else if (!force) {\n",
       "        var cell = $(\"#3d8cfc46-1422-46f0-b69c-87b6cb6403a4\").parents('.cell').data().cell;\n",
       "        cell.output_area.append_execute_result(NB_LOAD_WARNING)\n",
       "      }\n",
       "  \n",
       "    }\n",
       "  \n",
       "    if (window._bokeh_is_loading === 0) {\n",
       "      console.log(\"Bokeh: BokehJS loaded, going straight to plotting\");\n",
       "      run_inline_js();\n",
       "    } else {\n",
       "      load_libs(js_urls, function() {\n",
       "        console.log(\"Bokeh: BokehJS plotting callback run at\", now());\n",
       "        run_inline_js();\n",
       "      });\n",
       "    }\n",
       "  }(this));\n",
       "</script>"
      ]
     },
     "metadata": {},
     "output_type": "display_data"
    }
   ],
   "source": [
    "p = Bar(data, label='OutcomeType', values = 'Named', agg='count', stack='Named',\n",
    "        title=\"Outcomes by Name Status\", legend='top_right')\n",
    "show(p)"
   ]
  },
  {
   "cell_type": "code",
   "execution_count": 26,
   "metadata": {
    "collapsed": false,
    "scrolled": true
   },
   "outputs": [
    {
     "name": "stdout",
     "output_type": "stream",
     "text": [
      "('Unique Breeds', 1143)\n"
     ]
    }
   ],
   "source": [
    "OrderedBreed = data.OrderedBreed.unique()\n",
    "print(\"Unique Breeds\" , (data.OrderedBreed.value_counts() > 0).sum())"
   ]
  },
  {
   "cell_type": "markdown",
   "metadata": {},
   "source": [
    "### Correlations"
   ]
  },
  {
   "cell_type": "code",
   "execution_count": 36,
   "metadata": {
    "collapsed": false
   },
   "outputs": [
    {
     "data": {
      "image/png": "[encoded data removed]",
      "text/plain": [
       "<matplotlib.figure.Figure at 0xd0a4470>"
      ]
     },
     "metadata": {},
     "output_type": "display_data"
    }
   ],
   "source": [
    "#Plot visualized correlation matrix\n",
    "def plot_corr(data,size=20):\n",
    "    corr = data.corr()\n",
    "    fig, ax = plt.subplots(figsize=(25, 25))\n",
    "    cax = ax.matshow(corr)\n",
    "    fig.colorbar(cax)\n",
    "    plt.xticks(range(len(corr.columns)), corr.columns,rotation='vertical');\n",
    "    plt.yticks(range(len(corr.columns)), corr.columns);\n",
    "    plt.show()\n",
    "plot_corr(data2)"
   ]
  },
  {
   "cell_type": "markdown",
   "metadata": {},
   "source": [
    "Some of the most interesting findings here:  \n",
    "- As we would expect, being spayed/neutered is moderately correlated with being named.\n",
    "- There is a weak positive correlation between being spayed/neutered and being a cat.\n",
    "- Between variables that aren't obviously or artificially related (like being a dog and being a pitbull), there are few relationships that could be characterized as more than moderately correlated."
   ]
  },
  {
   "cell_type": "markdown",
   "metadata": {},
   "source": [
    "#### Should dogs and cats be modeled separately?\n",
    "\n",
    "- It appears that although cats and dogs in this dataset are adopted or transferred at similar rates, dogs have a much higher rate of returning to owner, so it may be advisable to separate the models by dog and cat."
   ]
  },
  {
   "cell_type": "code",
   "execution_count": 53,
   "metadata": {
    "collapsed": false,
    "scrolled": false
   },
   "outputs": [
    {
     "data": {
      "text/html": [
       "\n",
       "\n",
       "    <div class=\"bk-root\">\n",
       "        <div class=\"plotdiv\" id=\"e945990c-f9db-4e74-96e8-5cffcc53221c\"></div>\n",
       "    </div>\n",
       "<script type=\"text/javascript\">\n",
       "  \n",
       "  (function(global) {\n",
       "    function now() {\n",
       "      return new Date();\n",
       "    }\n",
       "  \n",
       "    var force = \"\";\n",
       "  \n",
       "    if (typeof (window._bokeh_onload_callbacks) === \"undefined\" || force !== \"\") {\n",
       "      window._bokeh_onload_callbacks = [];\n",
       "      window._bokeh_is_loading = undefined;\n",
       "    }\n",
       "  \n",
       "  \n",
       "    \n",
       "    if (typeof (window._bokeh_timeout) === \"undefined\" || force !== \"\") {\n",
       "      window._bokeh_timeout = Date.now() + 0;\n",
       "      window._bokeh_failed_load = false;\n",
       "    }\n",
       "  \n",
       "    var NB_LOAD_WARNING = {'data': {'text/html':\n",
       "       \"<div style='background-color: #fdd'>\\n\"+\n",
       "       \"<p>\\n\"+\n",
       "       \"BokehJS does not appear to have successfully loaded. If loading BokehJS from CDN, this \\n\"+\n",
       "       \"may be due to a slow or bad network connection. Possible fixes:\\n\"+\n",
       "       \"</p>\\n\"+\n",
       "       \"<ul>\\n\"+\n",
       "       \"<li>re-rerun `output_notebook()` to attempt to load from CDN again, or</li>\\n\"+\n",
       "       \"<li>use INLINE resources instead, as so:</li>\\n\"+\n",
       "       \"</ul>\\n\"+\n",
       "       \"<code>\\n\"+\n",
       "       \"from bokeh.resources import INLINE\\n\"+\n",
       "       \"output_notebook(resources=INLINE)\\n\"+\n",
       "       \"</code>\\n\"+\n",
       "       \"</div>\"}};\n",
       "  \n",
       "    function display_loaded() {\n",
       "      if (window.Bokeh !== undefined) {\n",
       "        Bokeh.$(\"#e945990c-f9db-4e74-96e8-5cffcc53221c\").text(\"BokehJS successfully loaded.\");\n",
       "      } else if (Date.now() < window._bokeh_timeout) {\n",
       "        setTimeout(display_loaded, 100)\n",
       "      }\n",
       "    }\n",
       "  \n",
       "    function run_callbacks() {\n",
       "      window._bokeh_onload_callbacks.forEach(function(callback) { callback() });\n",
       "      delete window._bokeh_onload_callbacks\n",
       "      console.info(\"Bokeh: all callbacks have finished\");\n",
       "    }\n",
       "  \n",
       "    function load_libs(js_urls, callback) {\n",
       "      window._bokeh_onload_callbacks.push(callback);\n",
       "      if (window._bokeh_is_loading > 0) {\n",
       "        console.log(\"Bokeh: BokehJS is being loaded, scheduling callback at\", now());\n",
       "        return null;\n",
       "      }\n",
       "      if (js_urls == null || js_urls.length === 0) {\n",
       "        run_callbacks();\n",
       "        return null;\n",
       "      }\n",
       "      console.log(\"Bokeh: BokehJS not loaded, scheduling load and callback at\", now());\n",
       "      window._bokeh_is_loading = js_urls.length;\n",
       "      for (var i = 0; i < js_urls.length; i++) {\n",
       "        var url = js_urls[i];\n",
       "        var s = document.createElement('script');\n",
       "        s.src = url;\n",
       "        s.async = false;\n",
       "        s.onreadystatechange = s.onload = function() {\n",
       "          window._bokeh_is_loading--;\n",
       "          if (window._bokeh_is_loading === 0) {\n",
       "            console.log(\"Bokeh: all BokehJS libraries loaded\");\n",
       "            run_callbacks()\n",
       "          }\n",
       "        };\n",
       "        s.onerror = function() {\n",
       "          console.warn(\"failed to load library \" + url);\n",
       "        };\n",
       "        console.log(\"Bokeh: injecting script tag for BokehJS library: \", url);\n",
       "        document.getElementsByTagName(\"head\")[0].appendChild(s);\n",
       "      }\n",
       "    };var element = document.getElementById(\"e945990c-f9db-4e74-96e8-5cffcc53221c\");\n",
       "    if (element == null) {\n",
       "      console.log(\"Bokeh: ERROR: autoload.js configured with elementid 'e945990c-f9db-4e74-96e8-5cffcc53221c' but no matching script tag was found. \")\n",
       "      return false;\n",
       "    }\n",
       "  \n",
       "    var js_urls = [];\n",
       "  \n",
       "    var inline_js = [\n",
       "      function(Bokeh) {\n",
       "        Bokeh.$(function() {\n",
       "            var docs_json = {\"185a027d-e664-4e29-bf54-b6c4199dfaa2\":{\"roots\":{\"references\":[{\"attributes\":{\"callback\":null,\"column_names\":[\"line_color\",\"line_alpha\",\"color\",\"fill_alpha\",\"height\",\"width\",\"y\",\"x\",\"label\"],\"data\":{\"AnimalType\":[\"Dog\"],\"OutcomeType\":[\"Adoption\"],\"chart_index\":[{\"AnimalType\":\"Dog\",\"OutcomeType\":\"Adoption\"}],\"color\":[\"#5ab738\"],\"fill_alpha\":[0.8],\"height\":[6497.0],\"label\":[{\"AnimalType\":\"Dog\",\"OutcomeType\":\"Adoption\"}],\"line_alpha\":[1.0],\"line_color\":[\"white\"],\"width\":[0.8],\"x\":[\"Adoption\"],\"y\":[3248.5]}},\"id\":\"fa930b15-894d-43a4-9c91-9677704868e0\",\"type\":\"ColumnDataSource\"},{\"attributes\":{\"dimension\":1,\"plot\":{\"id\":\"66797ab7-1b4b-4f34-b6b3-5fa73a78153f\",\"subtype\":\"Chart\",\"type\":\"Plot\"},\"ticker\":{\"id\":\"c19448ea-64e1-4d54-963a-3dd6dd29adb6\",\"type\":\"BasicTicker\"}},\"id\":\"b8f97b4a-0b96-46a4-9c9d-21729c593685\",\"type\":\"Grid\"},{\"attributes\":{\"plot\":{\"id\":\"66797ab7-1b4b-4f34-b6b3-5fa73a78153f\",\"subtype\":\"Chart\",\"type\":\"Plot\"}},\"id\":\"3ca502fe-f8a4-47ec-be6b-4da413c17abc\",\"type\":\"WheelZoomTool\"},{\"attributes\":{\"fill_alpha\":{\"field\":\"fill_alpha\"},\"fill_color\":{\"field\":\"color\"},\"height\":{\"field\":\"height\",\"units\":\"data\"},\"line_color\":{\"field\":\"line_color\"},\"width\":{\"field\":\"width\",\"units\":\"data\"},\"x\":{\"field\":\"x\"},\"y\":{\"field\":\"y\"}},\"id\":\"6446d0c6-fd95-4fd6-a219-f2c6135d12f6\",\"type\":\"Rect\"},{\"attributes\":{\"below\":[{\"id\":\"94590bba-e62e-42b2-aff8-d2e7445ac661\",\"type\":\"CategoricalAxis\"}],\"left\":[{\"id\":\"5e4fc8aa-cd3b-43cf-b119-b1bc48203ac8\",\"type\":\"LinearAxis\"}],\"renderers\":[{\"id\":\"7106b25f-4abf-4a76-8d92-67583efedf8a\",\"type\":\"BoxAnnotation\"},{\"id\":\"fec20a6b-7d32-48aa-975b-597e29b6b91f\",\"type\":\"GlyphRenderer\"},{\"id\":\"d5926421-7899-429b-aebf-9afe1c87035a\",\"type\":\"GlyphRenderer\"},{\"id\":\"10fa0a8a-3a12-44d7-b609-526ab6ce1080\",\"type\":\"GlyphRenderer\"},{\"id\":\"f5e45f57-79fb-4877-9b63-755aab4592c1\",\"type\":\"GlyphRenderer\"},{\"id\":\"ea563259-7df9-493a-8318-8cecdf84814f\",\"type\":\"GlyphRenderer\"},{\"id\":\"719a76a9-b48b-42bf-97cb-a3ab0ec4d67e\",\"type\":\"GlyphRenderer\"},{\"id\":\"79e40ad1-6255-4907-ab23-40b2e0f2014d\",\"type\":\"GlyphRenderer\"},{\"id\":\"18679e66-7b82-4513-895f-57234070ffa4\",\"type\":\"GlyphRenderer\"},{\"id\":\"b3aeb41d-3231-47f3-bfc6-85949d765f56\",\"type\":\"GlyphRenderer\"},{\"id\":\"05c98915-fe2c-49d4-b486-cfdf8998828e\",\"type\":\"GlyphRenderer\"},{\"id\":\"d2c61f66-423d-488c-be8e-96a5f473f9db\",\"type\":\"Legend\"},{\"id\":\"94590bba-e62e-42b2-aff8-d2e7445ac661\",\"type\":\"CategoricalAxis\"},{\"id\":\"5e4fc8aa-cd3b-43cf-b119-b1bc48203ac8\",\"type\":\"LinearAxis\"},{\"id\":\"b8f97b4a-0b96-46a4-9c9d-21729c593685\",\"type\":\"Grid\"}],\"title\":{\"id\":\"b7879d6c-fbeb-4faa-b086-9142fab5b106\",\"type\":\"Title\"},\"tool_events\":{\"id\":\"b6f2b0d5-a073-492c-a963-68bb9564579b\",\"type\":\"ToolEvents\"},\"toolbar\":{\"id\":\"22870834-3f46-459c-ac62-d0af1875d599\",\"type\":\"Toolbar\"},\"x_mapper_type\":\"auto\",\"x_range\":{\"id\":\"a729ae71-c4b6-45c5-91d0-15b3f72be4a7\",\"type\":\"FactorRange\"},\"y_mapper_type\":\"auto\",\"y_range\":{\"id\":\"fd8f21de-7890-4902-a962-134ff38bf001\",\"type\":\"Range1d\"}},\"id\":\"66797ab7-1b4b-4f34-b6b3-5fa73a78153f\",\"subtype\":\"Chart\",\"type\":\"Plot\"},{\"attributes\":{\"data_source\":{\"id\":\"4671cd37-b658-461e-a039-a1fe434ed330\",\"type\":\"ColumnDataSource\"},\"glyph\":{\"id\":\"0f609069-0ace-4509-b008-fc1be12976dc\",\"type\":\"Rect\"},\"hover_glyph\":null,\"nonselection_glyph\":null,\"selection_glyph\":null},\"id\":\"ea563259-7df9-493a-8318-8cecdf84814f\",\"type\":\"GlyphRenderer\"},{\"attributes\":{\"data_source\":{\"id\":\"f78b177e-1898-4be6-8d8c-3533ac857ed6\",\"type\":\"ColumnDataSource\"},\"glyph\":{\"id\":\"3d31664e-ae8f-4bf2-a26a-e8246d880883\",\"type\":\"Rect\"},\"hover_glyph\":null,\"nonselection_glyph\":null,\"selection_glyph\":null},\"id\":\"fec20a6b-7d32-48aa-975b-597e29b6b91f\",\"type\":\"GlyphRenderer\"},{\"attributes\":{\"fill_alpha\":{\"field\":\"fill_alpha\"},\"fill_color\":{\"field\":\"color\"},\"height\":{\"field\":\"height\",\"units\":\"data\"},\"line_color\":{\"field\":\"line_color\"},\"width\":{\"field\":\"width\",\"units\":\"data\"},\"x\":{\"field\":\"x\"},\"y\":{\"field\":\"y\"}},\"id\":\"f85d0b48-b28d-47c1-840f-d7b3e9874366\",\"type\":\"Rect\"},{\"attributes\":{\"fill_alpha\":{\"field\":\"fill_alpha\"},\"fill_color\":{\"field\":\"color\"},\"height\":{\"field\":\"height\",\"units\":\"data\"},\"line_color\":{\"field\":\"line_color\"},\"width\":{\"field\":\"width\",\"units\":\"data\"},\"x\":{\"field\":\"x\"},\"y\":{\"field\":\"y\"}},\"id\":\"3d31664e-ae8f-4bf2-a26a-e8246d880883\",\"type\":\"Rect\"},{\"attributes\":{\"fill_alpha\":{\"field\":\"fill_alpha\"},\"fill_color\":{\"field\":\"color\"},\"height\":{\"field\":\"height\",\"units\":\"data\"},\"line_color\":{\"field\":\"line_color\"},\"width\":{\"field\":\"width\",\"units\":\"data\"},\"x\":{\"field\":\"x\"},\"y\":{\"field\":\"y\"}},\"id\":\"41fc32a1-b673-41a1-8b44-3a8f25fdfea1\",\"type\":\"Rect\"},{\"attributes\":{\"axis_label\":\"Count( Animaltype )\",\"formatter\":{\"id\":\"200291a9-d1d9-4b3f-bbc8-4d53be46640f\",\"type\":\"BasicTickFormatter\"},\"plot\":{\"id\":\"66797ab7-1b4b-4f34-b6b3-5fa73a78153f\",\"subtype\":\"Chart\",\"type\":\"Plot\"},\"ticker\":{\"id\":\"c19448ea-64e1-4d54-963a-3dd6dd29adb6\",\"type\":\"BasicTicker\"}},\"id\":\"5e4fc8aa-cd3b-43cf-b119-b1bc48203ac8\",\"type\":\"LinearAxis\"},{\"attributes\":{\"callback\":null,\"column_names\":[\"line_color\",\"line_alpha\",\"color\",\"fill_alpha\",\"height\",\"width\",\"y\",\"x\",\"label\"],\"data\":{\"AnimalType\":[\"Cat\"],\"OutcomeType\":[\"Return_to_owner\"],\"chart_index\":[{\"AnimalType\":\"Cat\",\"OutcomeType\":\"Return_to_owner\"}],\"color\":[\"#f22c40\"],\"fill_alpha\":[0.8],\"height\":[500.0],\"label\":[{\"AnimalType\":\"Cat\",\"OutcomeType\":\"Return_to_owner\"}],\"line_alpha\":[1.0],\"line_color\":[\"white\"],\"width\":[0.8],\"x\":[\"Return_to_owner\"],\"y\":[4536.0]}},\"id\":\"137fd09c-9767-4104-9c8e-c7482c8c6bc6\",\"type\":\"ColumnDataSource\"},{\"attributes\":{\"data_source\":{\"id\":\"9dcbc88b-760b-4da7-82df-b8b2d06e5752\",\"type\":\"ColumnDataSource\"},\"glyph\":{\"id\":\"6446d0c6-fd95-4fd6-a219-f2c6135d12f6\",\"type\":\"Rect\"},\"hover_glyph\":null,\"nonselection_glyph\":null,\"selection_glyph\":null},\"id\":\"05c98915-fe2c-49d4-b486-cfdf8998828e\",\"type\":\"GlyphRenderer\"},{\"attributes\":{\"plot\":{\"id\":\"66797ab7-1b4b-4f34-b6b3-5fa73a78153f\",\"subtype\":\"Chart\",\"type\":\"Plot\"}},\"id\":\"f7b18606-eaac-4449-98c7-1ad0e1b7b9a7\",\"type\":\"HelpTool\"},{\"attributes\":{\"plot\":{\"id\":\"66797ab7-1b4b-4f34-b6b3-5fa73a78153f\",\"subtype\":\"Chart\",\"type\":\"Plot\"}},\"id\":\"e09d523b-f032-4a07-b382-6401f9f168ee\",\"type\":\"SaveTool\"},{\"attributes\":{\"data_source\":{\"id\":\"45c34764-8534-4752-9a81-17c27dff6ec7\",\"type\":\"ColumnDataSource\"},\"glyph\":{\"id\":\"0dfb82dc-71a2-4cf4-903e-28c58a13cf78\",\"type\":\"Rect\"},\"hover_glyph\":null,\"nonselection_glyph\":null,\"selection_glyph\":null},\"id\":\"b3aeb41d-3231-47f3-bfc6-85949d765f56\",\"type\":\"GlyphRenderer\"},{\"attributes\":{\"fill_alpha\":{\"field\":\"fill_alpha\"},\"fill_color\":{\"field\":\"color\"},\"height\":{\"field\":\"height\",\"units\":\"data\"},\"line_color\":{\"field\":\"line_color\"},\"width\":{\"field\":\"width\",\"units\":\"data\"},\"x\":{\"field\":\"x\"},\"y\":{\"field\":\"y\"}},\"id\":\"31b48588-ef13-41e4-9b6f-4274b33e5e5f\",\"type\":\"Rect\"},{\"attributes\":{\"legends\":[[\"Dog\",[{\"id\":\"fec20a6b-7d32-48aa-975b-597e29b6b91f\",\"type\":\"GlyphRenderer\"}]],[\"Cat\",[{\"id\":\"d5926421-7899-429b-aebf-9afe1c87035a\",\"type\":\"GlyphRenderer\"}]]],\"plot\":{\"id\":\"66797ab7-1b4b-4f34-b6b3-5fa73a78153f\",\"subtype\":\"Chart\",\"type\":\"Plot\"}},\"id\":\"d2c61f66-423d-488c-be8e-96a5f473f9db\",\"type\":\"Legend\"},{\"attributes\":{\"data_source\":{\"id\":\"c8671707-ffb7-4635-8d15-2204e1c71757\",\"type\":\"ColumnDataSource\"},\"glyph\":{\"id\":\"4c7ad1ab-21ec-4561-8a82-8f813744f489\",\"type\":\"Rect\"},\"hover_glyph\":null,\"nonselection_glyph\":null,\"selection_glyph\":null},\"id\":\"18679e66-7b82-4513-895f-57234070ffa4\",\"type\":\"GlyphRenderer\"},{\"attributes\":{\"data_source\":{\"id\":\"137fd09c-9767-4104-9c8e-c7482c8c6bc6\",\"type\":\"ColumnDataSource\"},\"glyph\":{\"id\":\"eafc9c25-74c0-4c16-a75a-2a54f896f18c\",\"type\":\"Rect\"},\"hover_glyph\":null,\"nonselection_glyph\":null,\"selection_glyph\":null},\"id\":\"79e40ad1-6255-4907-ab23-40b2e0f2014d\",\"type\":\"GlyphRenderer\"},{\"attributes\":{\"callback\":null,\"column_names\":[\"line_color\",\"line_alpha\",\"color\",\"fill_alpha\",\"height\",\"width\",\"y\",\"x\",\"label\"],\"data\":{\"AnimalType\":[\"Cat\"],\"OutcomeType\":[\"Died\"],\"chart_index\":[{\"AnimalType\":\"Cat\",\"OutcomeType\":\"Died\"}],\"color\":[\"#f22c40\"],\"fill_alpha\":[0.8],\"height\":[147.0],\"label\":[{\"AnimalType\":\"Cat\",\"OutcomeType\":\"Died\"}],\"line_alpha\":[1.0],\"line_color\":[\"white\"],\"width\":[0.8],\"x\":[\"Died\"],\"y\":[73.5]}},\"id\":\"45c34764-8534-4752-9a81-17c27dff6ec7\",\"type\":\"ColumnDataSource\"},{\"attributes\":{\"data_source\":{\"id\":\"bc8ee917-59df-4f64-8daa-45dcd5b55716\",\"type\":\"ColumnDataSource\"},\"glyph\":{\"id\":\"41fc32a1-b673-41a1-8b44-3a8f25fdfea1\",\"type\":\"Rect\"},\"hover_glyph\":null,\"nonselection_glyph\":null,\"selection_glyph\":null},\"id\":\"719a76a9-b48b-42bf-97cb-a3ab0ec4d67e\",\"type\":\"GlyphRenderer\"},{\"attributes\":{\"callback\":null,\"column_names\":[\"line_color\",\"line_alpha\",\"color\",\"fill_alpha\",\"height\",\"width\",\"y\",\"x\",\"label\"],\"data\":{\"AnimalType\":[\"Cat\"],\"OutcomeType\":[\"Euthanasia\"],\"chart_index\":[{\"AnimalType\":\"Cat\",\"OutcomeType\":\"Euthanasia\"}],\"color\":[\"#f22c40\"],\"fill_alpha\":[0.8],\"height\":[710.0],\"label\":[{\"AnimalType\":\"Cat\",\"OutcomeType\":\"Euthanasia\"}],\"line_alpha\":[1.0],\"line_color\":[\"white\"],\"width\":[0.8],\"x\":[\"Euthanasia\"],\"y\":[355.0]}},\"id\":\"189f86e5-94f6-4368-b585-a15bf32cd256\",\"type\":\"ColumnDataSource\"},{\"attributes\":{},\"id\":\"a4d7bb4b-3a25-4aa4-bc79-43cbcb1d9885\",\"type\":\"CategoricalTicker\"},{\"attributes\":{\"callback\":null,\"column_names\":[\"line_color\",\"line_alpha\",\"color\",\"fill_alpha\",\"height\",\"width\",\"y\",\"x\",\"label\"],\"data\":{\"AnimalType\":[\"Dog\"],\"OutcomeType\":[\"Euthanasia\"],\"chart_index\":[{\"AnimalType\":\"Dog\",\"OutcomeType\":\"Euthanasia\"}],\"color\":[\"#5ab738\"],\"fill_alpha\":[0.8],\"height\":[845.0],\"label\":[{\"AnimalType\":\"Dog\",\"OutcomeType\":\"Euthanasia\"}],\"line_alpha\":[1.0],\"line_color\":[\"white\"],\"width\":[0.8],\"x\":[\"Euthanasia\"],\"y\":[1132.5]}},\"id\":\"c8671707-ffb7-4635-8d15-2204e1c71757\",\"type\":\"ColumnDataSource\"},{\"attributes\":{\"callback\":null,\"column_names\":[\"line_color\",\"line_alpha\",\"color\",\"fill_alpha\",\"height\",\"width\",\"y\",\"x\",\"label\"],\"data\":{\"AnimalType\":[\"Cat\"],\"OutcomeType\":[\"Adoption\"],\"chart_index\":[{\"AnimalType\":\"Cat\",\"OutcomeType\":\"Adoption\"}],\"color\":[\"#f22c40\"],\"fill_alpha\":[0.8],\"height\":[4272.0],\"label\":[{\"AnimalType\":\"Cat\",\"OutcomeType\":\"Adoption\"}],\"line_alpha\":[1.0],\"line_color\":[\"white\"],\"width\":[0.8],\"x\":[\"Adoption\"],\"y\":[8633.0]}},\"id\":\"bc8ee917-59df-4f64-8daa-45dcd5b55716\",\"type\":\"ColumnDataSource\"},{\"attributes\":{\"plot\":null,\"text\":\"Outcomes by Animal Type\"},\"id\":\"b7879d6c-fbeb-4faa-b086-9142fab5b106\",\"type\":\"Title\"},{\"attributes\":{\"callback\":null,\"column_names\":[\"line_color\",\"line_alpha\",\"color\",\"fill_alpha\",\"height\",\"width\",\"y\",\"x\",\"label\"],\"data\":{\"AnimalType\":[\"Dog\"],\"OutcomeType\":[\"Died\"],\"chart_index\":[{\"AnimalType\":\"Dog\",\"OutcomeType\":\"Died\"}],\"color\":[\"#5ab738\"],\"fill_alpha\":[0.8],\"height\":[50.0],\"label\":[{\"AnimalType\":\"Dog\",\"OutcomeType\":\"Died\"}],\"line_alpha\":[1.0],\"line_color\":[\"white\"],\"width\":[0.8],\"x\":[\"Died\"],\"y\":[172.0]}},\"id\":\"9dcbc88b-760b-4da7-82df-b8b2d06e5752\",\"type\":\"ColumnDataSource\"},{\"attributes\":{\"axis_label\":\"Outcometype\",\"formatter\":{\"id\":\"b7eee8f5-1403-4967-a71f-3438a77052e6\",\"type\":\"CategoricalTickFormatter\"},\"major_label_orientation\":0.7853981633974483,\"plot\":{\"id\":\"66797ab7-1b4b-4f34-b6b3-5fa73a78153f\",\"subtype\":\"Chart\",\"type\":\"Plot\"},\"ticker\":{\"id\":\"a4d7bb4b-3a25-4aa4-bc79-43cbcb1d9885\",\"type\":\"CategoricalTicker\"}},\"id\":\"94590bba-e62e-42b2-aff8-d2e7445ac661\",\"type\":\"CategoricalAxis\"},{\"attributes\":{},\"id\":\"b6f2b0d5-a073-492c-a963-68bb9564579b\",\"type\":\"ToolEvents\"},{\"attributes\":{\"callback\":null,\"column_names\":[\"line_color\",\"line_alpha\",\"color\",\"fill_alpha\",\"height\",\"width\",\"y\",\"x\",\"label\"],\"data\":{\"AnimalType\":[\"Cat\"],\"OutcomeType\":[\"Transfer\"],\"chart_index\":[{\"AnimalType\":\"Cat\",\"OutcomeType\":\"Transfer\"}],\"color\":[\"#f22c40\"],\"fill_alpha\":[0.8],\"height\":[5505.0],\"label\":[{\"AnimalType\":\"Cat\",\"OutcomeType\":\"Transfer\"}],\"line_alpha\":[1.0],\"line_color\":[\"white\"],\"width\":[0.8],\"x\":[\"Transfer\"],\"y\":[2752.5]}},\"id\":\"5d2f0f55-8afa-44f2-a208-af48b1ec4181\",\"type\":\"ColumnDataSource\"},{\"attributes\":{\"overlay\":{\"id\":\"7106b25f-4abf-4a76-8d92-67583efedf8a\",\"type\":\"BoxAnnotation\"},\"plot\":{\"id\":\"66797ab7-1b4b-4f34-b6b3-5fa73a78153f\",\"subtype\":\"Chart\",\"type\":\"Plot\"}},\"id\":\"15bd6057-d7c3-46c7-b6ab-cc077f689570\",\"type\":\"BoxZoomTool\"},{\"attributes\":{\"data_source\":{\"id\":\"fa930b15-894d-43a4-9c91-9677704868e0\",\"type\":\"ColumnDataSource\"},\"glyph\":{\"id\":\"f85d0b48-b28d-47c1-840f-d7b3e9874366\",\"type\":\"Rect\"},\"hover_glyph\":null,\"nonselection_glyph\":null,\"selection_glyph\":null},\"id\":\"10fa0a8a-3a12-44d7-b609-526ab6ce1080\",\"type\":\"GlyphRenderer\"},{\"attributes\":{\"callback\":null,\"end\":11307.45},\"id\":\"fd8f21de-7890-4902-a962-134ff38bf001\",\"type\":\"Range1d\"},{\"attributes\":{\"fill_alpha\":{\"field\":\"fill_alpha\"},\"fill_color\":{\"field\":\"color\"},\"height\":{\"field\":\"height\",\"units\":\"data\"},\"line_color\":{\"field\":\"line_color\"},\"width\":{\"field\":\"width\",\"units\":\"data\"},\"x\":{\"field\":\"x\"},\"y\":{\"field\":\"y\"}},\"id\":\"0f609069-0ace-4509-b008-fc1be12976dc\",\"type\":\"Rect\"},{\"attributes\":{\"callback\":null,\"column_names\":[\"line_color\",\"line_alpha\",\"color\",\"fill_alpha\",\"height\",\"width\",\"y\",\"x\",\"label\"],\"data\":{\"AnimalType\":[\"Dog\"],\"OutcomeType\":[\"Transfer\"],\"chart_index\":[{\"AnimalType\":\"Dog\",\"OutcomeType\":\"Transfer\"}],\"color\":[\"#5ab738\"],\"fill_alpha\":[0.8],\"height\":[3917.0],\"label\":[{\"AnimalType\":\"Dog\",\"OutcomeType\":\"Transfer\"}],\"line_alpha\":[1.0],\"line_color\":[\"white\"],\"width\":[0.8],\"x\":[\"Transfer\"],\"y\":[7463.5]}},\"id\":\"4671cd37-b658-461e-a039-a1fe434ed330\",\"type\":\"ColumnDataSource\"},{\"attributes\":{\"fill_alpha\":{\"field\":\"fill_alpha\"},\"fill_color\":{\"field\":\"color\"},\"height\":{\"field\":\"height\",\"units\":\"data\"},\"line_color\":{\"field\":\"line_color\"},\"width\":{\"field\":\"width\",\"units\":\"data\"},\"x\":{\"field\":\"x\"},\"y\":{\"field\":\"y\"}},\"id\":\"4c7ad1ab-21ec-4561-8a82-8f813744f489\",\"type\":\"Rect\"},{\"attributes\":{\"plot\":{\"id\":\"66797ab7-1b4b-4f34-b6b3-5fa73a78153f\",\"subtype\":\"Chart\",\"type\":\"Plot\"}},\"id\":\"ce81f5f7-6d86-46db-ad8c-3e1757201567\",\"type\":\"ResetTool\"},{\"attributes\":{\"data_source\":{\"id\":\"5d2f0f55-8afa-44f2-a208-af48b1ec4181\",\"type\":\"ColumnDataSource\"},\"glyph\":{\"id\":\"31b48588-ef13-41e4-9b6f-4274b33e5e5f\",\"type\":\"Rect\"},\"hover_glyph\":null,\"nonselection_glyph\":null,\"selection_glyph\":null},\"id\":\"f5e45f57-79fb-4877-9b63-755aab4592c1\",\"type\":\"GlyphRenderer\"},{\"attributes\":{\"data_source\":{\"id\":\"189f86e5-94f6-4368-b585-a15bf32cd256\",\"type\":\"ColumnDataSource\"},\"glyph\":{\"id\":\"d008ceab-55ec-4c9c-835c-37748f6ee3a1\",\"type\":\"Rect\"},\"hover_glyph\":null,\"nonselection_glyph\":null,\"selection_glyph\":null},\"id\":\"d5926421-7899-429b-aebf-9afe1c87035a\",\"type\":\"GlyphRenderer\"},{\"attributes\":{\"bottom_units\":\"screen\",\"fill_alpha\":{\"value\":0.5},\"fill_color\":{\"value\":\"lightgrey\"},\"left_units\":\"screen\",\"level\":\"overlay\",\"line_alpha\":{\"value\":1.0},\"line_color\":{\"value\":\"black\"},\"line_dash\":[4,4],\"line_width\":{\"value\":2},\"plot\":null,\"render_mode\":\"css\",\"right_units\":\"screen\",\"top_units\":\"screen\"},\"id\":\"7106b25f-4abf-4a76-8d92-67583efedf8a\",\"type\":\"BoxAnnotation\"},{\"attributes\":{\"callback\":null,\"factors\":[\"Adoption\",\"Died\",\"Euthanasia\",\"Return_to_owner\",\"Transfer\"]},\"id\":\"a729ae71-c4b6-45c5-91d0-15b3f72be4a7\",\"type\":\"FactorRange\"},{\"attributes\":{\"fill_alpha\":{\"field\":\"fill_alpha\"},\"fill_color\":{\"field\":\"color\"},\"height\":{\"field\":\"height\",\"units\":\"data\"},\"line_color\":{\"field\":\"line_color\"},\"width\":{\"field\":\"width\",\"units\":\"data\"},\"x\":{\"field\":\"x\"},\"y\":{\"field\":\"y\"}},\"id\":\"d008ceab-55ec-4c9c-835c-37748f6ee3a1\",\"type\":\"Rect\"},{\"attributes\":{\"fill_alpha\":{\"field\":\"fill_alpha\"},\"fill_color\":{\"field\":\"color\"},\"height\":{\"field\":\"height\",\"units\":\"data\"},\"line_color\":{\"field\":\"line_color\"},\"width\":{\"field\":\"width\",\"units\":\"data\"},\"x\":{\"field\":\"x\"},\"y\":{\"field\":\"y\"}},\"id\":\"eafc9c25-74c0-4c16-a75a-2a54f896f18c\",\"type\":\"Rect\"},{\"attributes\":{\"active_drag\":\"auto\",\"active_scroll\":\"auto\",\"active_tap\":\"auto\",\"tools\":[{\"id\":\"867e4d9b-272e-4f22-9762-af0f0d06ffc3\",\"type\":\"PanTool\"},{\"id\":\"3ca502fe-f8a4-47ec-be6b-4da413c17abc\",\"type\":\"WheelZoomTool\"},{\"id\":\"15bd6057-d7c3-46c7-b6ab-cc077f689570\",\"type\":\"BoxZoomTool\"},{\"id\":\"e09d523b-f032-4a07-b382-6401f9f168ee\",\"type\":\"SaveTool\"},{\"id\":\"ce81f5f7-6d86-46db-ad8c-3e1757201567\",\"type\":\"ResetTool\"},{\"id\":\"f7b18606-eaac-4449-98c7-1ad0e1b7b9a7\",\"type\":\"HelpTool\"}]},\"id\":\"22870834-3f46-459c-ac62-d0af1875d599\",\"type\":\"Toolbar\"},{\"attributes\":{},\"id\":\"200291a9-d1d9-4b3f-bbc8-4d53be46640f\",\"type\":\"BasicTickFormatter\"},{\"attributes\":{\"callback\":null,\"column_names\":[\"line_color\",\"line_alpha\",\"color\",\"fill_alpha\",\"height\",\"width\",\"y\",\"x\",\"label\"],\"data\":{\"AnimalType\":[\"Dog\"],\"OutcomeType\":[\"Return_to_owner\"],\"chart_index\":[{\"AnimalType\":\"Dog\",\"OutcomeType\":\"Return_to_owner\"}],\"color\":[\"#5ab738\"],\"fill_alpha\":[0.8],\"height\":[4286.0],\"label\":[{\"AnimalType\":\"Dog\",\"OutcomeType\":\"Return_to_owner\"}],\"line_alpha\":[1.0],\"line_color\":[\"white\"],\"width\":[0.8],\"x\":[\"Return_to_owner\"],\"y\":[2143.0]}},\"id\":\"f78b177e-1898-4be6-8d8c-3533ac857ed6\",\"type\":\"ColumnDataSource\"},{\"attributes\":{\"fill_alpha\":{\"field\":\"fill_alpha\"},\"fill_color\":{\"field\":\"color\"},\"height\":{\"field\":\"height\",\"units\":\"data\"},\"line_color\":{\"field\":\"line_color\"},\"width\":{\"field\":\"width\",\"units\":\"data\"},\"x\":{\"field\":\"x\"},\"y\":{\"field\":\"y\"}},\"id\":\"0dfb82dc-71a2-4cf4-903e-28c58a13cf78\",\"type\":\"Rect\"},{\"attributes\":{\"plot\":{\"id\":\"66797ab7-1b4b-4f34-b6b3-5fa73a78153f\",\"subtype\":\"Chart\",\"type\":\"Plot\"}},\"id\":\"867e4d9b-272e-4f22-9762-af0f0d06ffc3\",\"type\":\"PanTool\"},{\"attributes\":{},\"id\":\"c19448ea-64e1-4d54-963a-3dd6dd29adb6\",\"type\":\"BasicTicker\"},{\"attributes\":{},\"id\":\"b7eee8f5-1403-4967-a71f-3438a77052e6\",\"type\":\"CategoricalTickFormatter\"}],\"root_ids\":[\"66797ab7-1b4b-4f34-b6b3-5fa73a78153f\"]},\"title\":\"Bokeh Application\",\"version\":\"0.12.2\"}};\n",
       "            var render_items = [{\"docid\":\"185a027d-e664-4e29-bf54-b6c4199dfaa2\",\"elementid\":\"e945990c-f9db-4e74-96e8-5cffcc53221c\",\"modelid\":\"66797ab7-1b4b-4f34-b6b3-5fa73a78153f\"}];\n",
       "            \n",
       "            Bokeh.embed.embed_items(docs_json, render_items);\n",
       "        });\n",
       "      },\n",
       "      function(Bokeh) {\n",
       "      }\n",
       "    ];\n",
       "  \n",
       "    function run_inline_js() {\n",
       "      \n",
       "      if ((window.Bokeh !== undefined) || (force === \"1\")) {\n",
       "        for (var i = 0; i < inline_js.length; i++) {\n",
       "          inline_js[i](window.Bokeh);\n",
       "        }if (force === \"1\") {\n",
       "          display_loaded();\n",
       "        }} else if (Date.now() < window._bokeh_timeout) {\n",
       "        setTimeout(run_inline_js, 100);\n",
       "      } else if (!window._bokeh_failed_load) {\n",
       "        console.log(\"Bokeh: BokehJS failed to load within specified timeout.\");\n",
       "        window._bokeh_failed_load = true;\n",
       "      } else if (!force) {\n",
       "        var cell = $(\"#e945990c-f9db-4e74-96e8-5cffcc53221c\").parents('.cell').data().cell;\n",
       "        cell.output_area.append_execute_result(NB_LOAD_WARNING)\n",
       "      }\n",
       "  \n",
       "    }\n",
       "  \n",
       "    if (window._bokeh_is_loading === 0) {\n",
       "      console.log(\"Bokeh: BokehJS loaded, going straight to plotting\");\n",
       "      run_inline_js();\n",
       "    } else {\n",
       "      load_libs(js_urls, function() {\n",
       "        console.log(\"Bokeh: BokehJS plotting callback run at\", now());\n",
       "        run_inline_js();\n",
       "      });\n",
       "    }\n",
       "  }(this));\n",
       "</script>"
      ]
     },
     "metadata": {},
     "output_type": "display_data"
    }
   ],
   "source": [
    "#Animal types\n",
    "p = Bar(data, label='OutcomeType', values = 'AnimalType', agg='count', stack='AnimalType',\n",
    "        title=\"Outcomes by Animal Type\", legend='top_right')\n",
    "show(p)"
   ]
  },
  {
   "cell_type": "markdown",
   "metadata": {},
   "source": [
    "## Modeling\n"
   ]
  },
  {
   "cell_type": "markdown",
   "metadata": {
    "collapsed": true
   },
   "source": [
    "### Logistic Regression Exploration\n",
    "\n",
    "- With more than 26,000 cases, we have a more than adequate sample size for modeling.\n",
    "- By their nature, the classes within the dependent variable (OutcomeType) should be independent of one another.\n",
    "- Based on our correlation matrix, we should have no significant issues with multicollinearity."
   ]
  },
  {
   "cell_type": "markdown",
   "metadata": {},
   "source": [
    "#### Feature Engineering\n",
    "\n",
    "We're beginning with a simple multinomial logistic regression, which we will use to test combinations of features."
   ]
  },
  {
   "cell_type": "code",
   "execution_count": 53,
   "metadata": {
    "collapsed": false
   },
   "outputs": [
    {
     "name": "stdout",
     "output_type": "stream",
     "text": [
      "Accuracy at C=0.5: 0.633398174473\n",
      "Sum of Squared Weight: -20.7716088839\n"
     ]
    }
   ],
   "source": [
    "#Tested for C in 0.00001, 0.0001, 0.001, 0.01, 0.1,, 1.0, 2.0, 4.0, 6.0, 8.0, 10.0\n",
    "#Highest accuracy is when C=0.5\n",
    "\n",
    "for m in [0.5]: # 0.00001, 0.0001, 0.001, 0.01, 0.1,, 1.0, 2.0, 4.0, 6.0, 8.0, 10.0\n",
    "    lrq = LogisticRegression(C = m, penalty = 'l2')\n",
    "    lrq.fit(X_train, y_train)\n",
    "    weight1 = lrq.coef_\n",
    "    sum1 = sum(sum(weight1))\n",
    "    print 'Accuracy at C=0.5:', lrq.score(X_dev, y_dev)\n",
    "    print 'Sum of Squared Weight:', sum1\n"
   ]
  },
  {
   "cell_type": "markdown",
   "metadata": {},
   "source": [
    "For this dataset, we have 15 different features, including gender, breed, age, and so on.  In order to select the best\n",
    "features to add to the model, here we select features from the bottom up, starting from only 1 feature and adding more features based on the accuracy.\n",
    "\n"
   ]
  },
  {
   "cell_type": "code",
   "execution_count": 54,
   "metadata": {
    "collapsed": false
   },
   "outputs": [
    {
     "name": "stdout",
     "output_type": "stream",
     "text": [
      "At number of features = 1 the best feature to add is Intact_Spayed/Neutered and the accuracy is 0.6082597636\n",
      "At number of features = 2 the best feature to add is ConvertedAge and the accuracy is 0.6208289690\n",
      "At number of features = 3 the best feature to add is AnimalType_Cat and the accuracy is 0.6281610055\n",
      "At number of features = 4 the best feature to add is MixedBreed_Known Breed Combo and the accuracy is 0.6313033069\n",
      "At number of features = 5 the best feature to add is Named_Unnamed and the accuracy is 0.6345952417\n",
      "At number of features = 6 the best feature to add is MixedBreed_Nonmixed and the accuracy is 0.6347448751\n",
      "At number of features = 7 the best feature to add is AnimalType_Dog and the accuracy is 0.6347448751\n",
      "At number of features = 8 the best feature to add is Female_Unknown and the accuracy is 0.6347448751\n",
      "At number of features = 9 the best feature to add is Intact_Intact and the accuracy is 0.6347448751\n",
      "At number of features = 10 the best feature to add is Intact_Unknown and the accuracy is 0.6347448751\n",
      "At number of features = 11 the best feature to add is MixedBreed_Mixed Breed and the accuracy is 0.6347448751\n",
      "At number of features = 12 the best feature to add is Named_Named and the accuracy is 0.6347448751\n",
      "At number of features = 13 the best feature to add is BreedRank and the accuracy is 0.6342959749\n",
      "At number of features = 14 the best feature to add is Female_Female and the accuracy is 0.6333981745\n",
      "At number of features = 15 the best feature to add is Female_Male and the accuracy is 0.6333981745\n"
     ]
    }
   ],
   "source": [
    "#Importing this because multiple deprecation warnings cluttering the output\n",
    "import warnings\n",
    "warnings.filterwarnings('ignore')\n",
    "\n",
    "# Start the bottom up feature selection\n",
    "# Compute the accuracy of logistic regression with N features\n",
    "\n",
    "\n",
    "\n",
    "train = X_train\n",
    "dev = X_dev\n",
    "\n",
    "bestVec = [] \n",
    "\n",
    "for j in range(15):\n",
    "    maxacc = 0\n",
    "    maxi = 0\n",
    "    for i in range(15):\n",
    "        if i not in bestVec:\n",
    "            X_train_eng = pd.DataFrame(train.ix[:, bestVec + [i]])\n",
    "            X_dev_eng = pd.DataFrame(dev.ix[:, bestVec + [i]])\n",
    "            m=0.5\n",
    "            lrq = LogisticRegression(C = m, penalty = 'l2')\n",
    "            lrq.fit(X_train_eng, y_train)\n",
    "            if lrq.score(X_dev_eng, y_dev) > maxacc:\n",
    "                maxacc = lrq.score(X_dev_eng, y_dev)\n",
    "                maxi = i\n",
    "    bestVec = bestVec + [maxi]\n",
    "    print 'At number of features =', j+1,'the best feature to add is', predictors[maxi],'and the accuracy is %.10f' % maxacc"
   ]
  },
  {
   "cell_type": "markdown",
   "metadata": {},
   "source": [
    "Based on accuracy (highest 0.6347448751) and parsimony, the best model includes six features.\n",
    "\n",
    "The six features include: Intact_Spayed/Neutered, ConvertedAge, AnimalType_Cat, MixedBreed_Known Breed Combo, Named_Unnamed, and MixedBreed_Nonmixed."
   ]
  },
  {
   "cell_type": "markdown",
   "metadata": {},
   "source": [
    "#### Check animal type"
   ]
  },
  {
   "cell_type": "code",
   "execution_count": 66,
   "metadata": {
    "collapsed": false
   },
   "outputs": [
    {
     "name": "stdout",
     "output_type": "stream",
     "text": [
      "(11696, 17)\n",
      "<class 'pandas.core.series.Series'>\n",
      "{'C': [0.001, 0.01, 0.1, 0.25, 0.5, 0.75, 1.0, 1.25, 1.5, 1.75, 2.0, 5.0, 10.0]}\n",
      "Train data: Logistic Regression score at C=0.250: 0.561560\n",
      "\n",
      "\n",
      "Classification Report:\n",
      " \n",
      "                 precision    recall  f1-score   support\n",
      "\n",
      "       Adoption       0.57      0.88      0.69      1629\n",
      "       Adoption       0.00      0.00      0.00         9\n",
      "       Transfer       0.38      0.02      0.03       187\n",
      "       Adoption       0.53      0.34      0.42      1086\n",
      "Return_to_owner       0.62      0.41      0.50       988\n",
      "\n",
      "    avg / total       0.56      0.57      0.53      3899\n",
      "\n",
      "Dev data: Logistic Regression score at C=0.250: 0.532516\n",
      "Weights:\n",
      "['Adoption' 'Died' 'Euthanasia' 'Return_to_owner' 'Transfer']\n",
      "Adoption\n",
      "BreedRank -0.037\n",
      "Female_Male -0.03\n",
      "AnimalType_Cat 0.0\n",
      "MixedBreed_Known Breed Combo 0.061\n",
      "Female_Female 0.259\n",
      "\n",
      "Died\n",
      "Named_Unnamed -0.034\n",
      "AnimalType_Cat 0.0\n",
      "Female_Unknown 0.036\n",
      "Intact_Unknown 0.036\n",
      "Intact_Intact 0.049\n",
      "\n",
      "Euthanasia\n",
      "Female_Unknown 0.0\n",
      "Intact_Unknown 0.0\n",
      "Named_Unnamed 0.07\n",
      "Intact_Intact 0.402\n",
      "ConvertedAge 0.595\n",
      "\n",
      "Return_to_owner\n",
      "BreedRank 0.005\n",
      "MixedBreed_Nonmixed 0.014\n",
      "TopBreed 0.131\n",
      "PitBull 0.321\n",
      "ConvertedAge 0.481\n",
      "\n",
      "Transfer\n",
      "TopBreed 0.112\n",
      "MixedBreed_Nonmixed 0.132\n",
      "Named_Unnamed 0.348\n",
      "Female_Unknown 0.405\n",
      "Intact_Unknown 0.405\n",
      "\n",
      "\n",
      "\n",
      "\n",
      "(8350, 15)\n",
      "<class 'pandas.core.series.Series'>\n",
      "{'C': [0.001, 0.01, 0.1, 0.25, 0.5, 0.75, 1.0, 1.25, 1.5, 1.75, 2.0, 5.0, 10.0]}\n",
      "Train data: Logistic Regression score at C=0.010: 0.738683\n",
      "\n",
      "\n",
      "Classification Report:\n",
      " \n",
      "                 precision    recall  f1-score   support\n",
      "\n",
      "       Transfer       0.69      0.92      0.79      1045\n",
      "       Adoption       0.00      0.00      0.00        34\n",
      "     Euthanasia       0.86      0.03      0.06       183\n",
      "       Adoption       0.26      0.07      0.11       136\n",
      "     Euthanasia       0.81      0.78      0.79      1386\n",
      "\n",
      "    avg / total       0.73      0.74      0.70      2784\n",
      "\n",
      "Dev data: Logistic Regression score at C=0.010: 0.699516\n",
      "Weights:\n",
      "['Adoption' 'Died' 'Euthanasia' 'Return_to_owner' 'Transfer']\n",
      "Adoption\n",
      "MixedBreed_Known Breed Combo -0.021\n",
      "AnimalType_Dog 0.0\n",
      "Female_Male 0.072\n",
      "Female_Female 0.12\n",
      "Named_Named 0.369\n",
      "\n",
      "Died\n",
      "Intact_Unknown -0.117\n",
      "Intact_Intact -0.11\n",
      "MixedBreed_Nonmixed -0.05\n",
      "ConvertedAge -0.014\n",
      "AnimalType_Dog 0.0\n",
      "\n",
      "Euthanasia\n",
      "BlackCat -0.008\n",
      "MixedBreed_Known Breed Combo -0.003\n",
      "AnimalType_Dog 0.0\n",
      "Named_Unnamed 0.101\n",
      "Intact_Intact 0.141\n",
      "\n",
      "Return_to_owner\n",
      "Named_Named -0.091\n",
      "MixedBreed_Nonmixed -0.081\n",
      "Intact_Spayed/Neutered -0.036\n",
      "MixedBreed_Known Breed Combo -0.014\n",
      "AnimalType_Dog 0.0\n",
      "\n",
      "Transfer\n",
      "MixedBreed_Mixed Breed 0.107\n",
      "AnimalType_Cat 0.113\n",
      "Female_Unknown 0.396\n",
      "Intact_Unknown 0.396\n",
      "Named_Unnamed 0.423\n",
      "\n",
      "\n",
      "\n",
      "\n"
     ]
    }
   ],
   "source": [
    "#Find the Best regularization strength\n",
    "      #Generate logistic regression\n",
    "def logit_reg(X_train, X_dev, y_train, y_dev, predict_anim):\n",
    "    logit_reg = LogisticRegression(penalty=\"l2\", multi_class='multinomial', solver='newton-cg')  \n",
    "    print X_train.shape\n",
    "    print type(pd.Series(y_train))\n",
    "    y_train = y_train.values.ravel()\n",
    "    y_dev = y_dev.values.ravel()\n",
    "    \n",
    "    #Test C within [0.001, 10]\n",
    "    param_domain = [0.001, 0.01, 0.1, 0.25, 0.5, 0.75, 1.0, 1.25, 1.5, 1.75, 2.0, 5.0, 10.0]\n",
    "    param_dict = dict(C = param_domain)\n",
    "    print param_dict\n",
    "\n",
    "    #Initialize GridSearchCV to identify the optimal parameter values\n",
    "    gridsearch = GridSearchCV(logit_reg, param_dict)\n",
    "    gridsearch.fit(X_train, y_train)\n",
    "\n",
    "    #Generate model at the best C value\n",
    "    C = gridsearch.best_params_[\"C\"]\n",
    "    print \"Train data: Logistic Regression score at C=%.3f: %f\" % (C, gridsearch.best_score_)\n",
    "    print ('\\n' * 1)\n",
    "    logit_reg = LogisticRegression(C=C, penalty=\"l2\")\n",
    "    logit_reg.fit(X_train, y_train)\n",
    "\n",
    "    #Predict on the X_dev set\n",
    "    logit_reg_dev = logit_reg.predict(X_dev)\n",
    "\n",
    "    #Generate classification report\n",
    "    print \"Classification Report:\"\n",
    "    print \" \"\n",
    "    print classification_report(y_dev, logit_reg_dev, target_names=y_dev)\n",
    "    print \"Dev data: Logistic Regression score at C=%.3f: %f\" % (C, metrics.f1_score(y_dev, logit_reg_dev, average=\"weighted\"))    \n",
    "    print \"Weights:\"\n",
    "    #Get the variables with the highest weights for each outcome\n",
    "    print logit_reg.classes_\n",
    "    weights = []\n",
    "    for i in range(len(logit_reg.classes_)):\n",
    "        top_vars = np.argsort(logit_reg.coef_[i])[-6:-1]\n",
    "        print logit_reg.classes_[i]\n",
    "        for j in top_vars:\n",
    "            print predict_anim[j], round(logit_reg.coef_[i][j],3)\n",
    "        print\n",
    "    print ('\\n' * 2)\n",
    "\n",
    "\n",
    "    #Generate logistic regression and add the squared weight values to an array, at each C\n",
    "    logit_reg_coeff = []\n",
    "    for c in param_domain:\n",
    "        logit_reg = LogisticRegression(C=c, penalty=\"l2\") \n",
    "        logit_reg.fit(X_train, y_train)\n",
    "        squared_weights = []\n",
    "        squared_weights.append(c)                       \n",
    "        for i in range(0, 4):\n",
    "            [squared_weights.append(np.sum(np.power(logit_reg.coef_[i], 2)))]\n",
    "        logit_reg_coeff.append(squared_weights)\n",
    "\n",
    "    coeff = np.asarray(logit_reg_coeff, dtype = \"object\")\n",
    "\n",
    "\n",
    "logit_reg(X_dog_train, X_dog_dev, y_dog_train, y_dog_dev, predictors_dog)\n",
    "logit_reg(X_cat_train, X_cat_dev, y_cat_train, y_cat_dev, predictors_cat)"
   ]
  },
  {
   "cell_type": "markdown",
   "metadata": {},
   "source": [
    "# Update numbers\n",
    "\n",
    "Here we see further evidence that cats and dogs should be modeled separately. With the highest accuracy on the dog-only model at 0.5647 and the highest accuracy for cats at 0.7337, we see that even these simple models perform very differently."
   ]
  },
  {
   "cell_type": "markdown",
   "metadata": {
    "collapsed": true
   },
   "source": [
    "### Logistic Regression Pipeline\n",
    "\n",
    "Here we'll define a pipeline to binarize the categorical variables, scale the continuous variables, and fit a logistic regression; we're creating different models for dogs and cats so we'll define separate pipelines."
   ]
  },
  {
   "cell_type": "code",
   "execution_count": 67,
   "metadata": {
    "collapsed": true
   },
   "outputs": [],
   "source": [
    "#Reset train/test split with pred\n",
    "data_dog = data[data['AnimalType'] == 'Dog']\n",
    "data_cat = data[data['AnimalType'] == 'Cat']\n",
    "X_dog = data_dog[pred['dog']]\n",
    "X_cat = data_cat[pred['cat']]\n",
    "y_dog = data_dog[[target]]\n",
    "y_cat = data_cat[[target]]\n",
    "X_dog_train, X_dog_dev, y_dog_train, y_dog_dev = train_test_split(X_dog, y_dog, random_state=2)\n",
    "X_cat_train, X_cat_dev, y_cat_train, y_cat_dev = train_test_split(X_cat, y_cat, random_state=2)\n"
   ]
  },
  {
   "cell_type": "code",
   "execution_count": 68,
   "metadata": {
    "collapsed": true
   },
   "outputs": [],
   "source": [
    "class MyVectorizer(BaseEstimator, TransformerMixin):\n",
    "\n",
    "    def __init__(self, cols, hashing=None):\n",
    "        \"\"\"\n",
    "        args:\n",
    "            cols: a list of column names of the categorical variables\n",
    "            hashing: \n",
    "                If None, then vectorization is a simple one-hot-encoding.\n",
    "                If an integer, then hashing is the number of features in the output.\n",
    "        \"\"\"\n",
    "        self.cols = cols\n",
    "        self.hashing = hashing\n",
    "        \n",
    "    def fit(self, X, y=None):\n",
    "\n",
    "        data = X[self.cols]\n",
    "        \n",
    "        # Choose a vectorizer\n",
    "        if self.hashing is None:\n",
    "            self.myvec = DictVectorizer(sparse=False)\n",
    "        else:\n",
    "            self.myvec = FeatureHasher(n_features = self.hashing)\n",
    "    \n",
    "        self.myvec.fit(X[self.cols].to_dict(orient='records'))\n",
    "        return self\n",
    "            \n",
    "    def transform(self, X):\n",
    "            \n",
    "        # Vectorize Input\n",
    "        if self.hashing is None:\n",
    "            return pd.DataFrame(\n",
    "                self.myvec.transform(X[self.cols].to_dict(orient='records')),\n",
    "                columns = self.myvec.feature_names_\n",
    "            )\n",
    "        else:\n",
    "            return pd.DataFrame(\n",
    "                self.myvec.transform(X[self.cols].to_dict(orient='records')).toarray()\n",
    "            )"
   ]
  },
  {
   "cell_type": "code",
   "execution_count": 69,
   "metadata": {
    "collapsed": false
   },
   "outputs": [],
   "source": [
    "class MyScaler():\n",
    "\n",
    "    def __init__(self, cols):\n",
    "        self.cols = cols\n",
    "    \n",
    "    def fit(self, X, y=None):\n",
    "        self.ss = StandardScaler()\n",
    "        self.ss.fit(X[self.cols])\n",
    "        return self\n",
    "    \n",
    "    def transform(self, X):\n",
    "        return self.ss.transform(X[self.cols])"
   ]
  },
  {
   "cell_type": "code",
   "execution_count": 70,
   "metadata": {
    "collapsed": true
   },
   "outputs": [],
   "source": [
    "#Set the pipelines for categorical variables\n",
    "discrete_pipe_dog = Pipeline(steps=[('Vectorizer', MyVectorizer(cols=discrete['dog'], hashing=None))])\n",
    "discrete_pipe_cat = Pipeline(steps=[('Vectorizer', MyVectorizer(cols=discrete['cat'], hashing=None))])\n",
    "\n",
    "#Set the pipelines for continuous variables\n",
    "continuous_pipe_cat = Pipeline(steps=[('Scale', MyScaler(continuous['cat']))])\n",
    "continuous_pipe_dog = Pipeline(steps=[('Scale', MyScaler(continuous['dog']))])\n",
    "\n",
    "#Bring the discrete and continuous pipelines together for cats and dogs\n",
    "union_dog = FeatureUnion([('Discrete', discrete_pipe_dog), ('Continuous', continuous_pipe_dog)])\n",
    "union_cat = FeatureUnion([('Discrete', discrete_pipe_cat), ('Continuous', continuous_pipe_cat)])"
   ]
  },
  {
   "cell_type": "markdown",
   "metadata": {},
   "source": [
    "# Revise regularization strengths"
   ]
  },
  {
   "cell_type": "code",
   "execution_count": 71,
   "metadata": {
    "collapsed": false
   },
   "outputs": [
    {
     "name": "stdout",
     "output_type": "stream",
     "text": [
      "Dogs: Multinomial Logistic Regression Train Accuracy ::  0.562841997264\n",
      "Dogs: Multinomial Logistic Regression Dev Accuracy ::  0.578096947935\n",
      "\n",
      "Cats: Multinomial Logistic Regression Train Accuracy ::  0.73748502994\n",
      "Cats: Multinomial Logistic Regression Dev Accuracy ::  0.739583333333\n"
     ]
    }
   ],
   "source": [
    "#Full pipelines\n",
    "pipeline_dog = Pipeline([('Preprocess', FeatureUnion([('Discrete', discrete_pipe_dog), ('Continuous', continuous_pipe_dog)])),\n",
    "                      ('Predict', LogisticRegression(multi_class='multinomial', C=0.25, solver='newton-cg'))])\n",
    "pipeline_cat = Pipeline([('Preprocess', FeatureUnion([('Discrete', discrete_pipe_cat), ('Continuous', continuous_pipe_cat)])),\n",
    "                      ('Predict', LogisticRegression(multi_class='multinomial', C=0.10, solver='newton-cg'))])\n",
    "\n",
    "#Fit the multinomial logistic regression for dogs and cats, respectively\n",
    "test_dog_lr = pipeline_dog.fit(X_dog_train, y_dog_train)\n",
    "test_cat_lr = pipeline_cat.fit(X_cat_train, y_cat_train)\n",
    "\n",
    "print \"Dogs: Multinomial Logistic Regression Train Accuracy :: \", metrics.accuracy_score(y_dog_train, test_dog_lr.predict(X_dog_train))\n",
    "print \"Dogs: Multinomial Logistic Regression Dev Accuracy :: \", metrics.accuracy_score(y_dog_dev, test_dog_lr.predict(X_dog_dev))\n",
    "print\n",
    "print \"Cats: Multinomial Logistic Regression Train Accuracy :: \", metrics.accuracy_score(y_cat_train, test_cat_lr.predict(X_cat_train))\n",
    "print \"Cats: Multinomial Logistic Regression Dev Accuracy :: \", metrics.accuracy_score(y_cat_dev, test_cat_lr.predict(X_cat_dev))"
   ]
  },
  {
   "cell_type": "code",
   "execution_count": 72,
   "metadata": {
    "collapsed": false,
    "scrolled": true
   },
   "outputs": [
    {
     "name": "stdout",
     "output_type": "stream",
     "text": [
      "Normalized confusion matrix\n",
      "[[  3.76e-01   9.21e-04   5.23e-01   1.00e-01   0.00e+00]\n",
      " [  3.26e-01   6.95e-02   2.67e-01   3.37e-01   0.00e+00]\n",
      " [  1.03e-01   6.14e-04   8.80e-01   1.72e-02   0.00e+00]\n",
      " [  1.24e-01   8.10e-03   4.63e-01   4.05e-01   0.00e+00]\n",
      " [  1.11e-01   0.00e+00   2.22e-01   6.67e-01   0.00e+00]]\n",
      "Normalized confusion matrix\n",
      "[[ 0.07  0.04  0.82  0.07  0.  ]\n",
      " [ 0.03  0.14  0.08  0.75  0.  ]\n",
      " [ 0.01  0.    0.9   0.08  0.  ]\n",
      " [ 0.01  0.    0.21  0.78  0.  ]\n",
      " [ 0.    0.    0.12  0.88  0.  ]]\n"
     ]
    },
    {
     "data": {
      "image/png": "[encoded data removed]",
      "text/plain": [
       "<matplotlib.figure.Figure at 0x14a2c7b8>"
      ]
     },
     "metadata": {},
     "output_type": "display_data"
    },
    {
     "data": {
      "image/png": "[encoded data removed]",
      "text/plain": [
       "<matplotlib.figure.Figure at 0x12af2ac8>"
      ]
     },
     "metadata": {},
     "output_type": "display_data"
    }
   ],
   "source": [
    "def plot_confusion_matrix(cm, classes, normalize = False, title = 'Confusion Matrix', cmap = plt.cm.Blues):\n",
    "    if normalize:\n",
    "        cm = cm.astype('float') / cm.sum(axis=1)[:, np.newaxis]\n",
    "        print(\"Normalized confusion matrix\")\n",
    "    else:\n",
    "        print('Confusion matrix, without normalization')\n",
    "\n",
    "    print(cm)\n",
    "    plt.imshow(cm, interpolation='nearest', cmap=cmap)\n",
    "    plt.title(title)\n",
    "    plt.colorbar()\n",
    "    tick_marks = np.arange(len(classes))\n",
    "    plt.xticks(tick_marks, classes, rotation=45)\n",
    "    plt.yticks(tick_marks, classes)\n",
    "\n",
    "    fmt = '.2f' if normalize else 'd'\n",
    "    thresh = cm.max() / 2.\n",
    "    for i, j in itertools.product(range(cm.shape[0]), range(cm.shape[1])):\n",
    "        plt.text(j, i, format(cm[i, j], fmt),\n",
    "                 horizontalalignment=\"center\",\n",
    "                 color=\"white\" if cm[i, j] > thresh else \"black\")\n",
    "\n",
    "    plt.tight_layout()\n",
    "    plt.ylabel('True label')\n",
    "    plt.xlabel('Predicted label')\n",
    "\n",
    "class_names = ['Return_to_owner', 'Euthanasia', 'Adoption', 'Transfer', 'Died']\n",
    "cnf_dog_matrix = confusion_matrix(y_dog_dev, test_dog_lr.predict(X_dog_dev), labels = class_names)\n",
    "np.set_printoptions(precision=2)\n",
    "\n",
    "plt.figure()\n",
    "plot_confusion_matrix(cnf_dog_matrix, classes=class_names, normalize = True,\n",
    "                      title='Confusion matrix for Dogs, with normalization')\n",
    "\n",
    "cnf_cat_matrix = confusion_matrix(y_cat_dev, test_cat_lr.predict(X_cat_dev), labels = class_names)\n",
    "np.set_printoptions(precision=2)\n",
    "\n",
    "plt.figure()\n",
    "plot_confusion_matrix(cnf_cat_matrix, classes=class_names, normalize = True,\n",
    "                      title='Confusion matrix for Cats, with normalization')\n",
    "plt.show()"
   ]
  },
  {
   "cell_type": "markdown",
   "metadata": {},
   "source": [
    "The difference in performance between the dog and cat models is interesting, but the confusion matrices can tell us a bit about where the models are going wrong.\n",
    "\n",
    "Dogs:  \n",
    "- Though a majority of the Adoption cases are predicted correctly, performance falls off sharply to the second-best category (Transfer).\n",
    "- The majority of Return To Owner cases are incorrectly identified as Adoption, and the same is true for Transfer.\n",
    "- There appear to be no successful Died predictions, with the majority going to Transfer.\n",
    "- Euthanasia is similarly unsuccessful as a prediction.\n",
    "\n",
    "Cats:\n",
    "- The disparity between the best and second-best categories (still Adoption and Transfer) is less sharp here.\n",
    "- The poor Return to Owner prediction rate in dogs is even worse in cats; the majority are predicted to be Adoption.\n",
    "- Died and Euthanasia are more often flagged as Transfer than any other category.\n",
    "\n",
    "A large part of the issue may be the comparatively small n sizes for the outcomes other than Adoption and Transfer. It appears that when so many cases have an adoption outcome, the model rewards erroneously predicting the adoption outcome - particularly so for dogs.\n",
    "\n",
    "For both dogs and cats, we see poor predictive power in the Died and Euthanasia categories. It seems likely that, beyond the distributions in the sample data, there are confounding factors that can't be captured with the data we have. For example, an animal that appears likely for Transfer based on these features may actually be euthanized due to health or temperament conditions outside of what is identifiable."
   ]
  },
  {
   "cell_type": "code",
   "execution_count": 73,
   "metadata": {
    "collapsed": false,
    "scrolled": false
   },
   "outputs": [
    {
     "name": "stdout",
     "output_type": "stream",
     "text": [
      "Classification Report: Dogs\n",
      "                 precision    recall  f1-score   support\n",
      "\n",
      "Return_to_owner       0.57      0.88      0.69      1629\n",
      "     Euthanasia       0.00      0.00      0.00         9\n",
      "       Adoption       0.57      0.07      0.12       187\n",
      "       Transfer       0.54      0.38      0.44      1086\n",
      "           Died       0.66      0.40      0.50       988\n",
      "\n",
      "    avg / total       0.58      0.58      0.55      3899\n",
      "\n",
      "\n",
      "\n",
      "Classification Report: Cats\n",
      "                 precision    recall  f1-score   support\n",
      "\n",
      "Return_to_owner       0.69      0.90      0.78      1045\n",
      "     Euthanasia       0.00      0.00      0.00        34\n",
      "       Adoption       0.71      0.14      0.23       183\n",
      "       Transfer       0.24      0.07      0.10       136\n",
      "           Died       0.80      0.78      0.79      1386\n",
      "\n",
      "    avg / total       0.72      0.74      0.71      2784\n",
      "\n",
      "\n",
      "\n"
     ]
    }
   ],
   "source": [
    "print(\"Classification Report: Dogs\")\n",
    "print(classification_report(y_dog_dev, test_dog_lr.predict(X_dog_dev), target_names=class_names))\n",
    "print '\\n'\n",
    "\n",
    "print(\"Classification Report: Cats\")\n",
    "print(classification_report(y_cat_dev, test_cat_lr.predict(X_cat_dev), target_names=class_names))\n",
    "print '\\n'"
   ]
  },
  {
   "cell_type": "markdown",
   "metadata": {},
   "source": [
    "## Add performance evaluation"
   ]
  },
  {
   "cell_type": "markdown",
   "metadata": {},
   "source": [
    "### Neural Network Exploration\n",
    "\n",
    "We will use Keras for neural network modeling."
   ]
  },
  {
   "cell_type": "code",
   "execution_count": 36,
   "metadata": {
    "collapsed": false
   },
   "outputs": [
    {
     "name": "stdout",
     "output_type": "stream",
     "text": [
      "Epoch 1/10\n",
      "20046/20046 [==============================] - 2s - loss: 0.3707 - acc: 0.8307     \n",
      "Epoch 2/10\n",
      "20046/20046 [==============================] - 2s - loss: 0.3232 - acc: 0.8566     \n",
      "Epoch 3/10\n",
      "20046/20046 [==============================] - 2s - loss: 0.3170 - acc: 0.8594     \n",
      "Epoch 4/10\n",
      "20046/20046 [==============================] - 2s - loss: 0.3148 - acc: 0.8600     \n",
      "Epoch 5/10\n",
      "20046/20046 [==============================] - 2s - loss: 0.3136 - acc: 0.8595     \n",
      "Epoch 6/10\n",
      "20046/20046 [==============================] - 2s - loss: 0.3126 - acc: 0.8603     \n",
      "Epoch 7/10\n",
      "20046/20046 [==============================] - 2s - loss: 0.3118 - acc: 0.8606     \n",
      "Epoch 8/10\n",
      "20046/20046 [==============================] - 2s - loss: 0.3107 - acc: 0.8607     \n",
      "Epoch 9/10\n",
      "20046/20046 [==============================] - 2s - loss: 0.3098 - acc: 0.8617     \n",
      "Epoch 10/10\n",
      "20046/20046 [==============================] - 2s - loss: 0.3090 - acc: 0.8613     \n"
     ]
    },
    {
     "data": {
      "text/plain": [
       "<keras.callbacks.History at 0x12be52ad0>"
      ]
     },
     "execution_count": 36,
     "metadata": {},
     "output_type": "execute_result"
    }
   ],
   "source": [
    "# Using keras to predict outcome\n",
    "from keras.layers import Dropout\n",
    "model = Sequential([\n",
    "    Dense(32, input_shape=(15,)),\n",
    "    Dropout(0.1),   # Added a dropout layer of 10% to regulate neural network\n",
    "    Activation('sigmoid'),\n",
    "    Dense(5),\n",
    "    Activation('softmax'),\n",
    "])\n",
    "\n",
    "model.compile(optimizer='adam',\n",
    "              loss='binary_crossentropy',\n",
    "              metrics=['accuracy'])\n",
    "model.fit(np.array(X_train), y_train_hot, epochs=10, batch_size=32)"
   ]
  },
  {
   "cell_type": "code",
   "execution_count": 9,
   "metadata": {
    "collapsed": false
   },
   "outputs": [
    {
     "ename": "NameError",
     "evalue": "name 'model' is not defined",
     "output_type": "error",
     "traceback": [
      "\u001b[0;31m---------------------------------------------------------------------------\u001b[0m",
      "\u001b[0;31mNameError\u001b[0m                                 Traceback (most recent call last)",
      "\u001b[0;32m<ipython-input-9-ee723a5fe11b>\u001b[0m in \u001b[0;36m<module>\u001b[0;34m()\u001b[0m\n\u001b[0;32m----> 1\u001b[0;31m \u001b[0mscore\u001b[0m \u001b[1;33m=\u001b[0m \u001b[0mmodel\u001b[0m\u001b[1;33m.\u001b[0m\u001b[0mevaluate\u001b[0m\u001b[1;33m(\u001b[0m\u001b[0mnp\u001b[0m\u001b[1;33m.\u001b[0m\u001b[0marray\u001b[0m\u001b[1;33m(\u001b[0m\u001b[0mX_dev\u001b[0m\u001b[1;33m)\u001b[0m\u001b[1;33m,\u001b[0m \u001b[0my_dev_hot\u001b[0m\u001b[1;33m,\u001b[0m \u001b[0mbatch_size\u001b[0m\u001b[1;33m=\u001b[0m\u001b[1;36m16\u001b[0m\u001b[1;33m)\u001b[0m\u001b[1;33m\u001b[0m\u001b[0m\n\u001b[0m\u001b[1;32m      2\u001b[0m \u001b[1;33m\u001b[0m\u001b[0m\n\u001b[1;32m      3\u001b[0m \u001b[1;32mprint\u001b[0m \u001b[1;34m'\\nAccuracy on test data'\u001b[0m\u001b[1;33m,\u001b[0m \u001b[0mscore\u001b[0m\u001b[1;33m[\u001b[0m\u001b[1;36m1\u001b[0m\u001b[1;33m]\u001b[0m\u001b[1;33m\u001b[0m\u001b[0m\n",
      "\u001b[0;31mNameError\u001b[0m: name 'model' is not defined"
     ]
    }
   ],
   "source": [
    "score = model.evaluate(np.array(X_dev), y_dev_hot, batch_size=16)\n",
    "\n",
    "print '\\nAccuracy on test data', score[1]"
   ]
  },
  {
   "cell_type": "markdown",
   "metadata": {
    "collapsed": true
   },
   "source": [
    "The accuracy shows that neural network gives a higher accuracy than logistic regression"
   ]
  },
  {
   "cell_type": "markdown",
   "metadata": {},
   "source": [
    "#### Eliminating unknown columns \n",
    "Now we'll try a more limited dataset, eliminating unknown gender and unknown intactness to see if the new dataset can give a better accuracy."
   ]
  },
  {
   "cell_type": "code",
   "execution_count": 38,
   "metadata": {
    "collapsed": false
   },
   "outputs": [
    {
     "name": "stdout",
     "output_type": "stream",
     "text": [
      "Epoch 1/10\n",
      "20046/20046 [==============================] - 2s - loss: 0.3753 - acc: 0.8286     \n",
      "Epoch 2/10\n",
      "20046/20046 [==============================] - 2s - loss: 0.3267 - acc: 0.8543     \n",
      "Epoch 3/10\n",
      "20046/20046 [==============================] - 2s - loss: 0.3186 - acc: 0.8587     \n",
      "Epoch 4/10\n",
      "20046/20046 [==============================] - 2s - loss: 0.3158 - acc: 0.8591     \n",
      "Epoch 5/10\n",
      "20046/20046 [==============================] - 2s - loss: 0.3138 - acc: 0.8608     \n",
      "Epoch 6/10\n",
      "20046/20046 [==============================] - 2s - loss: 0.3125 - acc: 0.8607     \n",
      "Epoch 7/10\n",
      "20046/20046 [==============================] - 2s - loss: 0.3113 - acc: 0.8607     \n",
      "Epoch 8/10\n",
      "20046/20046 [==============================] - 2s - loss: 0.3106 - acc: 0.8613     \n",
      "Epoch 9/10\n",
      "20046/20046 [==============================] - 2s - loss: 0.3099 - acc: 0.8611     \n",
      "Epoch 10/10\n",
      "20046/20046 [==============================] - 2s - loss: 0.3092 - acc: 0.8612     \n"
     ]
    },
    {
     "data": {
      "text/plain": [
       "<keras.callbacks.History at 0x12e010410>"
      ]
     },
     "execution_count": 38,
     "metadata": {},
     "output_type": "execute_result"
    }
   ],
   "source": [
    "X_train_feature = X_train\n",
    "X_train_feature = X_train_feature.drop('Intact_Unknown', 1)\n",
    "X_train_feature = X_train_feature.drop('Female_Unknown', 1)\n",
    "X_dev_feature = X_dev\n",
    "X_dev_feature = X_dev_feature.drop('Intact_Unknown', 1)\n",
    "X_dev_feature = X_dev_feature.drop('Female_Unknown', 1)\n",
    "\n",
    "model2 = Sequential([\n",
    "    Dense(32, input_shape=(13,)),\n",
    "    Dropout(0.1),   \n",
    "    Activation('sigmoid'),\n",
    "    Dense(5),\n",
    "    Activation('softmax'),\n",
    "])\n",
    "\n",
    "model2.compile(optimizer='adam',\n",
    "              loss='binary_crossentropy',\n",
    "              metrics=['accuracy'])\n",
    "model2.fit(np.array(X_train_feature), y_train_hot, epochs=10, batch_size=32)"
   ]
  },
  {
   "cell_type": "code",
   "execution_count": 42,
   "metadata": {
    "collapsed": false
   },
   "outputs": [
    {
     "name": "stdout",
     "output_type": "stream",
     "text": [
      "6528/6683 [============================>.] - ETA: 0s\n",
      "Accurancy on new dataset with no unknown columns is 0.863384700804\n"
     ]
    }
   ],
   "source": [
    "score2 = model2.evaluate(np.array(X_dev_feature), y_dev_hot, batch_size=16)\n",
    "\n",
    "print '\\nAccuracy on new dataset with no unknown columns is', score2[1]"
   ]
  },
  {
   "cell_type": "markdown",
   "metadata": {},
   "source": [
    "We can see that by eliminating the unknown gender and intactness columns, the new model's accuracy is slightly higher than the original dataset."
   ]
  },
  {
   "cell_type": "markdown",
   "metadata": {},
   "source": [
    "#### Testing a Cat-Only Model"
   ]
  },
  {
   "cell_type": "code",
   "execution_count": 40,
   "metadata": {
    "collapsed": false
   },
   "outputs": [
    {
     "name": "stdout",
     "output_type": "stream",
     "text": [
      "Epoch 1/10\n",
      "20046/20046 [==============================] - 2s - loss: 0.3678 - acc: 0.8299     \n",
      "Epoch 2/10\n",
      "20046/20046 [==============================] - 2s - loss: 0.3257 - acc: 0.8561     \n",
      "Epoch 3/10\n",
      "20046/20046 [==============================] - 2s - loss: 0.3193 - acc: 0.8583     \n",
      "Epoch 4/10\n",
      "20046/20046 [==============================] - 2s - loss: 0.3171 - acc: 0.8596     \n",
      "Epoch 5/10\n",
      "20046/20046 [==============================] - 2s - loss: 0.3159 - acc: 0.8596     \n",
      "Epoch 6/10\n",
      "20046/20046 [==============================] - 1s - loss: 0.3144 - acc: 0.8601     \n",
      "Epoch 7/10\n",
      "20046/20046 [==============================] - 2s - loss: 0.3135 - acc: 0.8606     \n",
      "Epoch 8/10\n",
      "20046/20046 [==============================] - 2s - loss: 0.3126 - acc: 0.8609     \n",
      "Epoch 9/10\n",
      "20046/20046 [==============================] - 2s - loss: 0.3116 - acc: 0.8606     \n",
      "Epoch 10/10\n",
      "20046/20046 [==============================] - 2s - loss: 0.3116 - acc: 0.8603     \n"
     ]
    },
    {
     "data": {
      "text/plain": [
       "<keras.callbacks.History at 0x12e692e50>"
      ]
     },
     "execution_count": 40,
     "metadata": {},
     "output_type": "execute_result"
    }
   ],
   "source": [
    "X_train_dog = X_train_feature\n",
    "X_train_dog = X_train_feature.drop('AnimalType_Dog', 1)\n",
    "X_dev_dog = X_dev_feature\n",
    "X_dev_dog = X_dev_feature.drop('AnimalType_Dog', 1)\n",
    "\n",
    "model3 = Sequential([\n",
    "    Dense(32, input_shape=(12,)),\n",
    "    Dropout(0.1),  \n",
    "    Activation('sigmoid'),\n",
    "    Dense(5),\n",
    "    Activation('softmax'),\n",
    "])\n",
    "\n",
    "model3.compile(optimizer='adam',\n",
    "              loss='binary_crossentropy',\n",
    "              metrics=['accuracy'])\n",
    "model3.fit(np.array(X_train_dog), y_train_hot, epochs=10, batch_size=32)"
   ]
  },
  {
   "cell_type": "code",
   "execution_count": 44,
   "metadata": {
    "collapsed": false
   },
   "outputs": [
    {
     "name": "stdout",
     "output_type": "stream",
     "text": [
      "6496/6683 [============================>.] - ETA: 0s\n",
      "Accurancy on new dataset with only cat data is 0.86341462717\n"
     ]
    }
   ],
   "source": [
    "score3 = model3.evaluate(np.array(X_dev_dog), y_dev_hot, batch_size=16)\n",
    "\n",
    "print '\\nAccuracy on new dataset with only cat data is', score3[1]"
   ]
  },
  {
   "cell_type": "markdown",
   "metadata": {},
   "source": [
    "#### Testing a Dog-Only Model"
   ]
  },
  {
   "cell_type": "code",
   "execution_count": 46,
   "metadata": {
    "collapsed": false
   },
   "outputs": [
    {
     "name": "stdout",
     "output_type": "stream",
     "text": [
      "Epoch 1/10\n",
      "20046/20046 [==============================] - 2s - loss: 0.3652 - acc: 0.8312     \n",
      "Epoch 2/10\n",
      "20046/20046 [==============================] - 2s - loss: 0.3253 - acc: 0.8546     \n",
      "Epoch 3/10\n",
      "20046/20046 [==============================] - 2s - loss: 0.3191 - acc: 0.8587     \n",
      "Epoch 4/10\n",
      "20046/20046 [==============================] - 3s - loss: 0.3168 - acc: 0.8596     \n",
      "Epoch 5/10\n",
      "20046/20046 [==============================] - 2s - loss: 0.3148 - acc: 0.8600     \n",
      "Epoch 6/10\n",
      "20046/20046 [==============================] - 3s - loss: 0.3135 - acc: 0.8600     \n",
      "Epoch 7/10\n",
      "20046/20046 [==============================] - 2s - loss: 0.3126 - acc: 0.8605     \n",
      "Epoch 8/10\n",
      "20046/20046 [==============================] - 3s - loss: 0.3111 - acc: 0.8618     \n",
      "Epoch 9/10\n",
      "20046/20046 [==============================] - 2s - loss: 0.3101 - acc: 0.8609     \n",
      "Epoch 10/10\n",
      "20046/20046 [==============================] - 2s - loss: 0.3095 - acc: 0.8611     \n"
     ]
    },
    {
     "data": {
      "text/plain": [
       "<keras.callbacks.History at 0x12ed25bd0>"
      ]
     },
     "execution_count": 46,
     "metadata": {},
     "output_type": "execute_result"
    }
   ],
   "source": [
    "X_train_cat = X_train_feature\n",
    "X_train_cat = X_train_feature.drop('AnimalType_Cat', 1)\n",
    "X_dev_cat = X_dev_feature\n",
    "X_dev_cat = X_dev_feature.drop('AnimalType_Cat', 1)\n",
    "\n",
    "model4 = Sequential([\n",
    "    Dense(32, input_shape=(12,)),\n",
    "    Dropout(0.1),   \n",
    "    Activation('sigmoid'),\n",
    "    Dense(5),\n",
    "    Activation('softmax'),\n",
    "])\n",
    "\n",
    "model4.compile(optimizer='adam',\n",
    "              loss='binary_crossentropy',\n",
    "              metrics=['accuracy'])\n",
    "model4.fit(np.array(X_train_cat), y_train_hot, epochs=10, batch_size=32)"
   ]
  },
  {
   "cell_type": "code",
   "execution_count": 47,
   "metadata": {
    "collapsed": false
   },
   "outputs": [
    {
     "name": "stdout",
     "output_type": "stream",
     "text": [
      "6576/6683 [============================>.] - ETA: 0s\n",
      "Accurancy on new dataset with only dog data is 0.863055506929\n"
     ]
    }
   ],
   "source": [
    "score4 = model4.evaluate(np.array(X_dev_cat), y_dev_hot, batch_size=16)\n",
    "\n",
    "print '\\nAccuracy on new dataset with only dog data is', score4[1]"
   ]
  },
  {
   "cell_type": "markdown",
   "metadata": {},
   "source": [
    "Seems like the new dataset with only cat data has slightly higher accuracy (0.8634) than only dog data (0.8630)."
   ]
  },
  {
   "cell_type": "markdown",
   "metadata": {},
   "source": [
    "## Write performance evaluation"
   ]
  },
  {
   "cell_type": "markdown",
   "metadata": {},
   "source": [
    "## Final Kaggle Submission"
   ]
  },
  {
   "cell_type": "code",
   "execution_count": null,
   "metadata": {
    "collapsed": true
   },
   "outputs": [],
   "source": [
    "#Import test data and process for dog and cat subsets\n",
    "\n",
    "#Predict dog and cat outcomes on the test data using the final chosen models\n",
    "\n",
    "#Write to CSV"
   ]
  }
 ],
 "metadata": {
  "anaconda-cloud": {},
  "kernelspec": {
   "display_name": "Python [default]",
   "language": "python",
   "name": "python2"
  },
  "language_info": {
   "codemirror_mode": {
    "name": "ipython",
    "version": 2
   },
   "file_extension": ".py",
   "mimetype": "text/x-python",
   "name": "python",
   "nbconvert_exporter": "python",
   "pygments_lexer": "ipython2",
   "version": "2.7.12"
  }
 },
 "nbformat": 4,
 "nbformat_minor": 1
}
