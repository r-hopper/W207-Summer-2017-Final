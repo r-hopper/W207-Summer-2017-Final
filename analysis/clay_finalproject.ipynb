{
 "cells": [
  {
   "cell_type": "markdown",
   "metadata": {},
   "source": [
    "Final Project"
   ]
  },
  {
   "cell_type": "code",
   "execution_count": 1,
   "metadata": {
    "collapsed": false
   },
   "outputs": [],
   "source": [
    "import pandas as pd\n",
    "import numpy as np\n",
    "\n",
    "from sklearn.base import BaseEstimator, TransformerMixin\n",
    "\n",
    "%matplotlib inline"
   ]
  },
  {
   "cell_type": "markdown",
   "metadata": {},
   "source": [
    "Load and split the data"
   ]
  },
  {
   "cell_type": "code",
   "execution_count": 44,
   "metadata": {
    "collapsed": false
   },
   "outputs": [],
   "source": [
    "from sklearn.model_selection import train_test_split\n",
    "import re\n",
    "# Load the data\n",
    "data = pd.read_csv('train.csv')\n",
    "data['OutcomeSubtype'] = data['OutcomeSubtype'].fillna('')\n",
    "data['TotalOutcome'] = data['OutcomeType'].map(str) + \"-\" + data['OutcomeSubtype']\n",
    "data['Female'] = 'Female' in data['SexuponOutcome']\n",
    "del data['OutcomeType']\n",
    "del data['OutcomeSubtype']\n",
    "del data['AnimalID']\n",
    "data['Female'] = data['SexuponOutcome'].str.lower().str.contains('female')\n",
    "data['Intact'] = data['SexuponOutcome'].str.lower().str.contains('intact')\n",
    "data['MixBreed'] = data['Breed'].str.lower().str.contains('mix')\n",
    "del data['SexuponOutcome']\n",
    "data['AgeuponOutcome'].fillna('', inplace = True)\n",
    "def ageConvert(age):\n",
    "    regexyear = '(\\d+) year'\n",
    "    regexmnth = '(\\d+) month'\n",
    "    regexwk = '(\\d+) week'\n",
    "    if re.match(regexyear, age):\n",
    "        const = int(re.match(regexyear, age).groups()[0])\n",
    "        return const*52\n",
    "    elif re.match(regexmnth, age):\n",
    "        const = int(re.match(regexmnth, age).groups()[0])\n",
    "        return const *4.5 # a month is roughly 4.5 weeks\n",
    "    elif re.match(regexwk, age):\n",
    "        return int(re.match(regexwk, age).groups()[0])\n",
    "    else:\n",
    "        return None\n",
    "data['ConvertedAge']= data['AgeuponOutcome'].apply(ageConvert)\n",
    "del data['AgeuponOutcome']\n",
    "\n",
    "# Set target and predictors\n",
    "target = 'TotalOutcome'\n",
    "predictors = [c for c in data.columns if not c == target]\n",
    "\n",
    "# Train/test split\n",
    "X = data[predictors]\n",
    "y = data[[target]]\n",
    "X_train, X_dev, y_train, y_dev = train_test_split(X, y, random_state=2)"
   ]
  }
 ],
 "metadata": {
  "kernelspec": {
   "display_name": "Python 2",
   "language": "python",
   "name": "python2"
  },
  "language_info": {
   "codemirror_mode": {
    "name": "ipython",
    "version": 2
   },
   "file_extension": ".py",
   "mimetype": "text/x-python",
   "name": "python",
   "nbconvert_exporter": "python",
   "pygments_lexer": "ipython2",
   "version": "2.7.13"
  }
 },
 "nbformat": 4,
 "nbformat_minor": 2
}
